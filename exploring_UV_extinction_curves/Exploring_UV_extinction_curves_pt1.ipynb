{
 "cells": [
  {
   "cell_type": "markdown",
   "id": "929b4d77",
   "metadata": {},
   "source": [
    "# Exploring UV extinction curves – Part 1"
   ]
  },
  {
   "cell_type": "markdown",
   "id": "b0814342",
   "metadata": {},
   "source": [
    "## Learning Goals"
   ]
  },
  {
   "cell_type": "markdown",
   "id": "710a34c2",
   "metadata": {},
   "source": [
    "By the end of this tutorial, you will be able to:\n",
    "\n",
    "- Understand what a UV extinction curve is and how it is used to study dust properties\n",
    "- Access data from the MAST archives directly from Python\n",
    "- Perform data querys by Target Name and narrow them down to the desired observation\n",
    "- Save arrays onto _.txt_ files\n",
    "- Implement Python functions"
   ]
  },
  {
   "cell_type": "markdown",
   "id": "e290a367",
   "metadata": {},
   "source": [
    "## Introduction"
   ]
  },
  {
   "cell_type": "markdown",
   "id": "fbc2060f",
   "metadata": {},
   "source": [
    "**Extinction curve background**: An extinction curve represents the wavelength dependence of dust extinction. It compares the inherent Spectral Energy Distribution (SED) (~dust-free) of a star to the observed SED affected by dust extinction. Normally these curves are created by representing $k(\\lambda-V)$ versus $1/\\lambda$, with $\\lambda$ being the wavelength.\n",
    "\n",
    "Extinction is relevant in many different scenarios. Dust can be found very near the observed object – such as stars having disks or proto-stellar clouds surrounding it – or can be far away from it but still affect the observation performed – for example dust in a galaxy that happens to be between the observer and the star.\n",
    "\n",
    "**Defining some terms**:\n",
    "\n",
    "- **Color index**: difference between magnitude of a star in 2 different passbands, typically B and V. Symbol: $(B-V)$. \n",
    "- **Extinction**: measure of interstellar reddening quantified by the difference in magnitudes. Symbol: $A_\\lambda$.\n",
    "- **Spectral type**: stellar classification from hotter (O stars) to cooler (M stars). Temperature defines a star's \"color\" and surface brightness.\n",
    "\n",
    "\n",
    "**Useful equations**\n",
    "- $k(\\lambda-V) = \\frac{E(\\lambda-V)}{E(B-V)} = \\frac{m(\\lambda-V)-m(\\lambda-V)_o}{(B-V)-(B-V)_o} = \\frac{A(\\lambda)-A(V)}{A(B)-A(V)}$\n",
    "\n",
    "    _**Note**: the $x_o$ terms refer to the star that is nearly unaffected by dust, i.e. $(B-V)$ corresponds to the observed color index and $(B-V)_o$ to the observed color index if there was no extinction due to dust. The stars should have the same spectral type in order to perform this comparison._"
   ]
  },
  {
   "cell_type": "markdown",
   "id": "5920e02e",
   "metadata": {},
   "source": [
    "## Imports "
   ]
  },
  {
   "cell_type": "markdown",
   "id": "36f71271",
   "metadata": {},
   "source": [
    "The first step will be to import the libraries we will be using throughout this tutorial: \n",
    "\n",
    "- _Observations_ from _astroquery.mast_ to query the Barbara A. Mikulski Archive for Space Telescopes (MAST).\n",
    "- _fits_ from _astropy.io_ for accessing FITS files\n",
    "- _numpy_ for array manipulations"
   ]
  },
  {
   "cell_type": "code",
   "execution_count": 1,
   "id": "5fa17d07",
   "metadata": {},
   "outputs": [],
   "source": [
    "from astroquery.mast import Observations\n",
    "from astropy.io import fits\n",
    "import numpy as np"
   ]
  },
  {
   "cell_type": "markdown",
   "id": "6afd250c",
   "metadata": {},
   "source": [
    "_**Warning**: If you have not installed the astroquery package in your computer, you may need to. Information about astroquery can be found <a href=\"https://astroquery.readthedocs.io/en/latest/\">here</a>._"
   ]
  },
  {
   "cell_type": "markdown",
   "id": "7a11267b",
   "metadata": {},
   "source": [
    "## Loading data"
   ]
  },
  {
   "cell_type": "markdown",
   "id": "d3c60d39",
   "metadata": {},
   "source": [
    "The next step is to find the data file we will use. This is similar to searching through the <a href=\"https://mast.stsci.edu/portal/Mashup/Clients/Mast/Portal.html\">MAST portal</a> since we will be using specific keywords to find the file. We will be using the _Observations_ from _astroquery.mast_ to download UV data directly from the _IUE_ archive.\n",
    "\n",
    "\n",
    "The target name of the first star we will be studying is AzV 214 (observation ID: swp22372), collected by International Ultraviolet Explorer (IUE). This star is known to be reddened by dust. **Include brief explanation of why this star is reddened**.\n",
    "\n",
    "To get the data products we want we need the observation ID corresponding to it, in order to do this we can first query the collection of IUE using _Observations_ by using the target name as shown below.\n",
    "\n",
    "_**Heads-up:** in the database this object is labeled AV214 instead of AzV 214._"
   ]
  },
  {
   "cell_type": "code",
   "execution_count": 2,
   "id": "c3f6aabb",
   "metadata": {},
   "outputs": [
    {
     "data": {
      "text/html": [
       "<div><i>Table masked=True length=2472</i>\n",
       "<table id=\"table140496076636896\" class=\"table-striped table-bordered table-condensed\">\n",
       "<thead><tr><th>obsID</th><th>obs_collection</th><th>dataproduct_type</th><th>obs_id</th><th>description</th><th>type</th><th>dataURI</th><th>productType</th><th>productGroupDescription</th><th>productSubGroupDescription</th><th>productDocumentationURL</th><th>project</th><th>prvversion</th><th>proposal_id</th><th>productFilename</th><th>size</th><th>parent_obsid</th><th>dataRights</th><th>calib_level</th></tr></thead>\n",
       "<thead><tr><th>str6</th><th>str3</th><th>str8</th><th>str8</th><th>str56</th><th>str1</th><th>str62</th><th>str9</th><th>str28</th><th>str56</th><th>str1</th><th>str1</th><th>str1</th><th>str5</th><th>str20</th><th>int64</th><th>str6</th><th>str6</th><th>int64</th></tr></thead>\n",
       "<tr><td>275789</td><td>IUE</td><td>spectrum</td><td>lwp02621</td><td>ELBLL</td><td>S</td><td>mast:IUE/url/pub/iue/data/lwp/02000/lwp02621.elbll.gz</td><td>AUXILIARY</td><td>--</td><td>--</td><td>--</td><td>--</td><td>--</td><td>FM034</td><td>lwp02621.elbll.gz</td><td>95042</td><td>275789</td><td>PUBLIC</td><td>2</td></tr>\n",
       "<tr><td>275789</td><td>IUE</td><td>spectrum</td><td>lwp02621</td><td>LILO</td><td>S</td><td>mast:IUE/url/pub/iue/data/lwp/02000/lwp02621.lilo.gz</td><td>AUXILIARY</td><td>--</td><td>--</td><td>--</td><td>--</td><td>--</td><td>FM034</td><td>lwp02621.lilo.gz</td><td>490665</td><td>275789</td><td>PUBLIC</td><td>2</td></tr>\n",
       "<tr><td>275789</td><td>IUE</td><td>spectrum</td><td>lwp02621</td><td>MELOL</td><td>S</td><td>mast:IUE/url/pub/iue/data/lwp/02000/lwp02621.melol.gz</td><td>AUXILIARY</td><td>--</td><td>--</td><td>--</td><td>--</td><td>--</td><td>FM034</td><td>lwp02621.melol.gz</td><td>12028</td><td>275789</td><td>PUBLIC</td><td>2</td></tr>\n",
       "<tr><td>275789</td><td>IUE</td><td>spectrum</td><td>lwp02621</td><td>RAW</td><td>S</td><td>mast:IUE/url/pub/iue/data/lwp/02000/lwp02621.raw.gz</td><td>AUXILIARY</td><td>--</td><td>--</td><td>--</td><td>--</td><td>--</td><td>FM034</td><td>lwp02621.raw.gz</td><td>329022</td><td>275789</td><td>PUBLIC</td><td>2</td></tr>\n",
       "<tr><td>275789</td><td>IUE</td><td>spectrum</td><td>lwp02621</td><td>RILO</td><td>S</td><td>mast:IUE/url/pub/iue/data/lwp/02000/lwp02621.rilo.gz</td><td>AUXILIARY</td><td>--</td><td>--</td><td>--</td><td>--</td><td>--</td><td>FM034</td><td>lwp02621.rilo.gz</td><td>334246</td><td>275789</td><td>PUBLIC</td><td>2</td></tr>\n",
       "<tr><td>275789</td><td>IUE</td><td>spectrum</td><td>lwp02621</td><td>SILO</td><td>S</td><td>mast:IUE/url/pub/iue/data/lwp/02000/lwp02621.silo.gz</td><td>AUXILIARY</td><td>--</td><td>--</td><td>--</td><td>--</td><td>--</td><td>FM034</td><td>lwp02621.silo.gz</td><td>85947</td><td>275789</td><td>PUBLIC</td><td>2</td></tr>\n",
       "<tr><td>275789</td><td>IUE</td><td>spectrum</td><td>lwp02621</td><td>Preview-Full</td><td>S</td><td>mast:IUE/url/browse/previews/iue/mx/lwp/02000/gif/lwp02621.gif</td><td>PREVIEW</td><td>--</td><td>--</td><td>--</td><td>--</td><td>--</td><td>FM034</td><td>lwp02621.gif</td><td>7103</td><td>275789</td><td>PUBLIC</td><td>2</td></tr>\n",
       "<tr><td>275789</td><td>IUE</td><td>spectrum</td><td>lwp02621</td><td>MXLO</td><td>S</td><td>mast:IUE/url/pub/iue/data/lwp/02000/lwp02621.mxlo.gz</td><td>SCIENCE</td><td>Minimum Recommended Products</td><td>--</td><td>--</td><td>--</td><td>--</td><td>FM034</td><td>lwp02621.mxlo.gz</td><td>17736</td><td>275789</td><td>PUBLIC</td><td>2</td></tr>\n",
       "<tr><td>275789</td><td>IUE</td><td>spectrum</td><td>lwp02621</td><td>(extracted spectra/vo spectral container/SSAP) fits file</td><td>S</td><td>mast:IUE/url/pub/vospectra/iue2/lwp02621mxlo_vo.fits</td><td>SCIENCE</td><td>Minimum Recommended Products</td><td>(extracted spectra/vo spectral container/SSAP) fits file</td><td>--</td><td>--</td><td>--</td><td>FM034</td><td>lwp02621mxlo_vo.fits</td><td>48960</td><td>275789</td><td>PUBLIC</td><td>2</td></tr>\n",
       "<tr><td>276461</td><td>IUE</td><td>spectrum</td><td>lwp03583</td><td>ELBLL</td><td>S</td><td>mast:IUE/url/pub/iue/data/lwp/03000/lwp03583.elbll.gz</td><td>AUXILIARY</td><td>--</td><td>--</td><td>--</td><td>--</td><td>--</td><td>GM148</td><td>lwp03583.elbll.gz</td><td>98286</td><td>276461</td><td>PUBLIC</td><td>2</td></tr>\n",
       "<tr><td>...</td><td>...</td><td>...</td><td>...</td><td>...</td><td>...</td><td>...</td><td>...</td><td>...</td><td>...</td><td>...</td><td>...</td><td>...</td><td>...</td><td>...</td><td>...</td><td>...</td><td>...</td><td>...</td></tr>\n",
       "<tr><td>382139</td><td>IUE</td><td>spectrum</td><td>swp56205</td><td>SIHI</td><td>S</td><td>mast:IUE/url//pub/iue/data/swp/56000/swp56205.sihi.gz</td><td>AUXILIARY</td><td>--</td><td>--</td><td>--</td><td>--</td><td>--</td><td>SA117</td><td>swp56205.sihi.gz</td><td>742167</td><td>382139</td><td>PUBLIC</td><td>2</td></tr>\n",
       "<tr><td>382139</td><td>IUE</td><td>spectrum</td><td>swp56205</td><td>Preview-Full</td><td>S</td><td>mast:IUE/url/browse/previews/iue/mx/swp/56000/gif/swp56205.gif</td><td>PREVIEW</td><td>--</td><td>--</td><td>--</td><td>--</td><td>--</td><td>SA117</td><td>swp56205.gif</td><td>--</td><td>382139</td><td>PUBLIC</td><td>2</td></tr>\n",
       "<tr><td>382139</td><td>IUE</td><td>spectrum</td><td>swp56205</td><td>MXHI</td><td>S</td><td>mast:IUE/url/missions/iue/data/swp/56000/swp56205.mxhi.gz</td><td>SCIENCE</td><td>Minimum Recommended Products</td><td>--</td><td>--</td><td>--</td><td>--</td><td>SA117</td><td>swp56205.mxhi.gz</td><td>654</td><td>382139</td><td>PUBLIC</td><td>2</td></tr>\n",
       "<tr><td>382142</td><td>IUE</td><td>spectrum</td><td>swp56223</td><td>LIHI</td><td>S</td><td>mast:IUE/url//pub/iue/data/swp/56000/swp56223.lihi.gz</td><td>AUXILIARY</td><td>--</td><td>--</td><td>--</td><td>--</td><td>--</td><td>SA117</td><td>swp56223.lihi.gz</td><td>779340</td><td>382142</td><td>PUBLIC</td><td>2</td></tr>\n",
       "<tr><td>382142</td><td>IUE</td><td>spectrum</td><td>swp56223</td><td>MEHIL</td><td>S</td><td>mast:IUE/url//pub/iue/data/swp/56000/swp56223.mehil.gz</td><td>AUXILIARY</td><td>--</td><td>--</td><td>--</td><td>--</td><td>--</td><td>SA117</td><td>swp56223.mehil.gz</td><td>516415</td><td>382142</td><td>PUBLIC</td><td>2</td></tr>\n",
       "<tr><td>382142</td><td>IUE</td><td>spectrum</td><td>swp56223</td><td>RAW</td><td>S</td><td>mast:IUE/url//pub/iue/data/swp/56000/swp56223.raw.gz</td><td>AUXILIARY</td><td>--</td><td>--</td><td>--</td><td>--</td><td>--</td><td>SA117</td><td>swp56223.raw.gz</td><td>383064</td><td>382142</td><td>PUBLIC</td><td>2</td></tr>\n",
       "<tr><td>382142</td><td>IUE</td><td>spectrum</td><td>swp56223</td><td>RIHI</td><td>S</td><td>mast:IUE/url//pub/iue/data/swp/56000/swp56223.rihi.gz</td><td>AUXILIARY</td><td>--</td><td>--</td><td>--</td><td>--</td><td>--</td><td>SA117</td><td>swp56223.rihi.gz</td><td>388890</td><td>382142</td><td>PUBLIC</td><td>2</td></tr>\n",
       "<tr><td>382142</td><td>IUE</td><td>spectrum</td><td>swp56223</td><td>SIHI</td><td>S</td><td>mast:IUE/url//pub/iue/data/swp/56000/swp56223.sihi.gz</td><td>AUXILIARY</td><td>--</td><td>--</td><td>--</td><td>--</td><td>--</td><td>SA117</td><td>swp56223.sihi.gz</td><td>740200</td><td>382142</td><td>PUBLIC</td><td>2</td></tr>\n",
       "<tr><td>382142</td><td>IUE</td><td>spectrum</td><td>swp56223</td><td>Preview-Full</td><td>S</td><td>mast:IUE/url/browse/previews/iue/mx/swp/56000/gif/swp56223.gif</td><td>PREVIEW</td><td>--</td><td>--</td><td>--</td><td>--</td><td>--</td><td>SA117</td><td>swp56223.gif</td><td>--</td><td>382142</td><td>PUBLIC</td><td>2</td></tr>\n",
       "<tr><td>382142</td><td>IUE</td><td>spectrum</td><td>swp56223</td><td>MXHI</td><td>S</td><td>mast:IUE/url/missions/iue/data/swp/56000/swp56223.mxhi.gz</td><td>SCIENCE</td><td>Minimum Recommended Products</td><td>--</td><td>--</td><td>--</td><td>--</td><td>SA117</td><td>swp56223.mxhi.gz</td><td>653</td><td>382142</td><td>PUBLIC</td><td>2</td></tr>\n",
       "</table></div>"
      ],
      "text/plain": [
       "<Table masked=True length=2472>\n",
       "obsID  obs_collection dataproduct_type ... parent_obsid dataRights calib_level\n",
       " str6       str3            str8       ...     str6        str6       int64   \n",
       "------ -------------- ---------------- ... ------------ ---------- -----------\n",
       "275789            IUE         spectrum ...       275789     PUBLIC           2\n",
       "275789            IUE         spectrum ...       275789     PUBLIC           2\n",
       "275789            IUE         spectrum ...       275789     PUBLIC           2\n",
       "275789            IUE         spectrum ...       275789     PUBLIC           2\n",
       "275789            IUE         spectrum ...       275789     PUBLIC           2\n",
       "275789            IUE         spectrum ...       275789     PUBLIC           2\n",
       "275789            IUE         spectrum ...       275789     PUBLIC           2\n",
       "275789            IUE         spectrum ...       275789     PUBLIC           2\n",
       "275789            IUE         spectrum ...       275789     PUBLIC           2\n",
       "276461            IUE         spectrum ...       276461     PUBLIC           2\n",
       "   ...            ...              ... ...          ...        ...         ...\n",
       "382139            IUE         spectrum ...       382139     PUBLIC           2\n",
       "382139            IUE         spectrum ...       382139     PUBLIC           2\n",
       "382139            IUE         spectrum ...       382139     PUBLIC           2\n",
       "382142            IUE         spectrum ...       382142     PUBLIC           2\n",
       "382142            IUE         spectrum ...       382142     PUBLIC           2\n",
       "382142            IUE         spectrum ...       382142     PUBLIC           2\n",
       "382142            IUE         spectrum ...       382142     PUBLIC           2\n",
       "382142            IUE         spectrum ...       382142     PUBLIC           2\n",
       "382142            IUE         spectrum ...       382142     PUBLIC           2\n",
       "382142            IUE         spectrum ...       382142     PUBLIC           2"
      ]
     },
     "execution_count": 2,
     "metadata": {},
     "output_type": "execute_result"
    }
   ],
   "source": [
    "IUEobs_av214 = Observations.query_criteria(objectname=\"AV214\",obs_collection=\"IUE\")\n",
    "data_products_av214 = Observations.get_product_list(IUEobs_av214)\n",
    "\n",
    "data_products_av214"
   ]
  },
  {
   "cell_type": "markdown",
   "id": "83cbce39",
   "metadata": {},
   "source": [
    "Two different observations, \"swp22372\" for the short wavelength domain and \"lwr17263\" for the long wave domain, have been chosen in order to provide a more complete understanding of the extinction behaviour over different wavelengths. For this tutorial we have chosen these specific observations, but the reader is welcome to use any other of the IDs displayed on the table below.  It should be taken into account that some of the data may need some prior calibration before using it. \n",
    "\n",
    "- Observation ID: \"swp22372\":"
   ]
  },
  {
   "cell_type": "code",
   "execution_count": 3,
   "id": "759a0a65",
   "metadata": {},
   "outputs": [
    {
     "data": {
      "text/html": [
       "<i>Row index=1144 masked=True</i>\n",
       "<table id=\"table140496076636896\">\n",
       "<thead><tr><th>obsID</th><th>obs_collection</th><th>dataproduct_type</th><th>obs_id</th><th>description</th><th>type</th><th>dataURI</th><th>productType</th><th>productGroupDescription</th><th>productSubGroupDescription</th><th>productDocumentationURL</th><th>project</th><th>prvversion</th><th>proposal_id</th><th>productFilename</th><th>size</th><th>parent_obsid</th><th>dataRights</th><th>calib_level</th></tr></thead>\n",
       "<thead><tr><th>str6</th><th>str3</th><th>str8</th><th>str8</th><th>str56</th><th>str1</th><th>str62</th><th>str9</th><th>str28</th><th>str56</th><th>str1</th><th>str1</th><th>str1</th><th>str5</th><th>str20</th><th>int64</th><th>str6</th><th>str6</th><th>int64</th></tr></thead>\n",
       "<tr><td>318326</td><td>IUE</td><td>spectrum</td><td>swp22372</td><td>(extracted spectra/vo spectral container/SSAP) fits file</td><td>S</td><td>mast:IUE/url/pub/vospectra/iue2/swp22372mxlo_vo.fits</td><td>SCIENCE</td><td>Minimum Recommended Products</td><td>(extracted spectra/vo spectral container/SSAP) fits file</td><td>--</td><td>--</td><td>--</td><td>FM197</td><td>swp22372mxlo_vo.fits</td><td>48960</td><td>318326</td><td>PUBLIC</td><td>2</td></tr>\n",
       "</table>"
      ],
      "text/plain": [
       "<Row index=1144 masked=True>\n",
       "obsID  obs_collection dataproduct_type  obs_id                        description                        type                       dataURI                        productType   productGroupDescription                   productSubGroupDescription                productDocumentationURL project prvversion proposal_id   productFilename     size parent_obsid dataRights calib_level\n",
       " str6       str3            str8         str8                            str56                           str1                        str62                             str9               str28                                      str56                                     str1            str1     str1        str5           str20         int64     str6        str6       int64   \n",
       "------ -------------- ---------------- -------- -------------------------------------------------------- ---- ---------------------------------------------------- ----------- ---------------------------- -------------------------------------------------------- ----------------------- ------- ---------- ----------- -------------------- ----- ------------ ---------- -----------\n",
       "318326            IUE         spectrum swp22372 (extracted spectra/vo spectral container/SSAP) fits file    S mast:IUE/url/pub/vospectra/iue2/swp22372mxlo_vo.fits     SCIENCE Minimum Recommended Products (extracted spectra/vo spectral container/SSAP) fits file                      --      --         --       FM197 swp22372mxlo_vo.fits 48960       318326     PUBLIC           2"
      ]
     },
     "execution_count": 3,
     "metadata": {},
     "output_type": "execute_result"
    }
   ],
   "source": [
    "data_products_av214[1144]"
   ]
  },
  {
   "cell_type": "code",
   "execution_count": 4,
   "id": "be80001c",
   "metadata": {},
   "outputs": [
    {
     "data": {
      "text/html": [
       "<div><i>Table masked=True length=1</i>\n",
       "<table id=\"table140496057671792\" class=\"table-striped table-bordered table-condensed\">\n",
       "<thead><tr><th>obsID</th><th>obs_collection</th><th>dataproduct_type</th><th>obs_id</th><th>description</th><th>type</th><th>dataURI</th><th>productType</th><th>productGroupDescription</th><th>productSubGroupDescription</th><th>productDocumentationURL</th><th>project</th><th>prvversion</th><th>proposal_id</th><th>productFilename</th><th>size</th><th>parent_obsid</th><th>dataRights</th><th>calib_level</th></tr></thead>\n",
       "<thead><tr><th>str6</th><th>str3</th><th>str8</th><th>str8</th><th>str56</th><th>str1</th><th>str62</th><th>str9</th><th>str28</th><th>str56</th><th>str1</th><th>str1</th><th>str1</th><th>str5</th><th>str20</th><th>int64</th><th>str6</th><th>str6</th><th>int64</th></tr></thead>\n",
       "<tr><td>318326</td><td>IUE</td><td>spectrum</td><td>swp22372</td><td>(extracted spectra/vo spectral container/SSAP) fits file</td><td>S</td><td>mast:IUE/url/pub/vospectra/iue2/swp22372mxlo_vo.fits</td><td>SCIENCE</td><td>Minimum Recommended Products</td><td>(extracted spectra/vo spectral container/SSAP) fits file</td><td>--</td><td>--</td><td>--</td><td>FM197</td><td>swp22372mxlo_vo.fits</td><td>48960</td><td>318326</td><td>PUBLIC</td><td>2</td></tr>\n",
       "</table></div>"
      ],
      "text/plain": [
       "<Table masked=True length=1>\n",
       "obsID  obs_collection dataproduct_type ... parent_obsid dataRights calib_level\n",
       " str6       str3            str8       ...     str6        str6       int64   \n",
       "------ -------------- ---------------- ... ------------ ---------- -----------\n",
       "318326            IUE         spectrum ...       318326     PUBLIC           2"
      ]
     },
     "execution_count": 4,
     "metadata": {},
     "output_type": "execute_result"
    }
   ],
   "source": [
    "IUEobs_av214_sw = Observations.query_criteria(obs_collection=\"IUE\", obs_id=\"swp22372\")\n",
    "data_products_av214_sw = Observations.get_product_list(IUEobs_av214_sw)\n",
    "yourProd_av214_sw = Observations.filter_products(data_products_av214_sw, extension='swp22372mxlo_vo.fits')\n",
    "\n",
    "yourProd_av214_sw"
   ]
  },
  {
   "cell_type": "markdown",
   "id": "1e95d6f9",
   "metadata": {},
   "source": [
    "Now that we have the data file, we can download it by using the `download_products` function:"
   ]
  },
  {
   "cell_type": "code",
   "execution_count": 5,
   "id": "dc8b82ce",
   "metadata": {},
   "outputs": [
    {
     "name": "stdout",
     "output_type": "stream",
     "text": [
      "Downloading URL https://mast.stsci.edu/api/v0.1/Download/file?uri=mast:IUE/url/pub/vospectra/iue2/swp22372mxlo_vo.fits to ./mastDownload/IUE/swp22372/swp22372mxlo_vo.fits ... [Done]\n"
     ]
    },
    {
     "data": {
      "text/html": [
       "<div><i>Table length=1</i>\n",
       "<table id=\"table140496061230432\" class=\"table-striped table-bordered table-condensed\">\n",
       "<thead><tr><th>Local Path</th><th>Status</th><th>Message</th><th>URL</th></tr></thead>\n",
       "<thead><tr><th>str48</th><th>str8</th><th>object</th><th>object</th></tr></thead>\n",
       "<tr><td>./mastDownload/IUE/swp22372/swp22372mxlo_vo.fits</td><td>COMPLETE</td><td>None</td><td>None</td></tr>\n",
       "</table></div>"
      ],
      "text/plain": [
       "<Table length=1>\n",
       "                   Local Path                     Status  Message  URL  \n",
       "                     str48                         str8    object object\n",
       "------------------------------------------------ -------- ------- ------\n",
       "./mastDownload/IUE/swp22372/swp22372mxlo_vo.fits COMPLETE    None   None"
      ]
     },
     "execution_count": 5,
     "metadata": {},
     "output_type": "execute_result"
    }
   ],
   "source": [
    "Observations.download_products(yourProd_av214_sw, mrp_only = False, cache = False) "
   ]
  },
  {
   "cell_type": "markdown",
   "id": "867393ad",
   "metadata": {},
   "source": [
    "If the download does not happen automatically, by visiting the URL displayed by the `download_products` method you will be able to download the file. \n",
    "\n",
    "As stated before, in order to have a more complete image of our target, let's download a different observation for the same object, but in a different wavelength range, we can use the following observation ID: lwr17263 (this is still AzV 214).\n",
    "\n",
    "- Observation ID: \"lwr17263\":"
   ]
  },
  {
   "cell_type": "code",
   "execution_count": 6,
   "id": "5776ba9f",
   "metadata": {},
   "outputs": [
    {
     "data": {
      "text/html": [
       "<i>Row index=923 masked=True</i>\n",
       "<table id=\"table140496076636896\">\n",
       "<thead><tr><th>obsID</th><th>obs_collection</th><th>dataproduct_type</th><th>obs_id</th><th>description</th><th>type</th><th>dataURI</th><th>productType</th><th>productGroupDescription</th><th>productSubGroupDescription</th><th>productDocumentationURL</th><th>project</th><th>prvversion</th><th>proposal_id</th><th>productFilename</th><th>size</th><th>parent_obsid</th><th>dataRights</th><th>calib_level</th></tr></thead>\n",
       "<thead><tr><th>str6</th><th>str3</th><th>str8</th><th>str8</th><th>str56</th><th>str1</th><th>str62</th><th>str9</th><th>str28</th><th>str56</th><th>str1</th><th>str1</th><th>str1</th><th>str5</th><th>str20</th><th>int64</th><th>str6</th><th>str6</th><th>int64</th></tr></thead>\n",
       "<tr><td>305282</td><td>IUE</td><td>spectrum</td><td>lwr17263</td><td>(extracted spectra/vo spectral container/SSAP) fits file</td><td>S</td><td>mast:IUE/url/pub/vospectra/iue2/lwr17263mxlo_vo.fits</td><td>SCIENCE</td><td>Minimum Recommended Products</td><td>(extracted spectra/vo spectral container/SSAP) fits file</td><td>--</td><td>--</td><td>--</td><td>FM197</td><td>lwr17263mxlo_vo.fits</td><td>48960</td><td>305282</td><td>PUBLIC</td><td>2</td></tr>\n",
       "</table>"
      ],
      "text/plain": [
       "<Row index=923 masked=True>\n",
       "obsID  obs_collection dataproduct_type  obs_id                        description                        type                       dataURI                        productType   productGroupDescription                   productSubGroupDescription                productDocumentationURL project prvversion proposal_id   productFilename     size parent_obsid dataRights calib_level\n",
       " str6       str3            str8         str8                            str56                           str1                        str62                             str9               str28                                      str56                                     str1            str1     str1        str5           str20         int64     str6        str6       int64   \n",
       "------ -------------- ---------------- -------- -------------------------------------------------------- ---- ---------------------------------------------------- ----------- ---------------------------- -------------------------------------------------------- ----------------------- ------- ---------- ----------- -------------------- ----- ------------ ---------- -----------\n",
       "305282            IUE         spectrum lwr17263 (extracted spectra/vo spectral container/SSAP) fits file    S mast:IUE/url/pub/vospectra/iue2/lwr17263mxlo_vo.fits     SCIENCE Minimum Recommended Products (extracted spectra/vo spectral container/SSAP) fits file                      --      --         --       FM197 lwr17263mxlo_vo.fits 48960       305282     PUBLIC           2"
      ]
     },
     "execution_count": 6,
     "metadata": {},
     "output_type": "execute_result"
    }
   ],
   "source": [
    "data_products_av214[923]"
   ]
  },
  {
   "cell_type": "code",
   "execution_count": 7,
   "id": "aab04b05",
   "metadata": {},
   "outputs": [
    {
     "name": "stdout",
     "output_type": "stream",
     "text": [
      "Downloading URL https://mast.stsci.edu/api/v0.1/Download/file?uri=mast:IUE/url/pub/vospectra/iue2/lwr17263mxlo_vo.fits to ./mastDownload/IUE/lwr17263/lwr17263mxlo_vo.fits ... [Done]\n"
     ]
    },
    {
     "data": {
      "text/html": [
       "<div><i>Table length=1</i>\n",
       "<table id=\"table140495764646640\" class=\"table-striped table-bordered table-condensed\">\n",
       "<thead><tr><th>Local Path</th><th>Status</th><th>Message</th><th>URL</th></tr></thead>\n",
       "<thead><tr><th>str48</th><th>str8</th><th>object</th><th>object</th></tr></thead>\n",
       "<tr><td>./mastDownload/IUE/lwr17263/lwr17263mxlo_vo.fits</td><td>COMPLETE</td><td>None</td><td>None</td></tr>\n",
       "</table></div>"
      ],
      "text/plain": [
       "<Table length=1>\n",
       "                   Local Path                     Status  Message  URL  \n",
       "                     str48                         str8    object object\n",
       "------------------------------------------------ -------- ------- ------\n",
       "./mastDownload/IUE/lwr17263/lwr17263mxlo_vo.fits COMPLETE    None   None"
      ]
     },
     "execution_count": 7,
     "metadata": {},
     "output_type": "execute_result"
    }
   ],
   "source": [
    "IUEobs_av214_lw = Observations.query_criteria(obs_collection=\"IUE\", obs_id=\"lwr17263\")\n",
    "data_products_av214_lw = Observations.get_product_list(IUEobs_av214_lw)\n",
    "yourProd_av214_lw = Observations.filter_products(data_products_av214_lw, extension='lwr17263mxlo_vo.fits')\n",
    "Observations.download_products(yourProd_av214_lw, mrp_only = False, cache = False) "
   ]
  },
  {
   "cell_type": "markdown",
   "id": "a395c08c",
   "metadata": {},
   "source": [
    "Now let's do the same for the unreddened star. The target name of this star is AzV 380 (observation IDs chosen: swp10319, lwr17265) and was also collected by IUE."
   ]
  },
  {
   "cell_type": "code",
   "execution_count": 8,
   "id": "752b3a7a",
   "metadata": {},
   "outputs": [
    {
     "data": {
      "text/html": [
       "<div><i>Table masked=True length=36</i>\n",
       "<table id=\"table140496077131680\" class=\"table-striped table-bordered table-condensed\">\n",
       "<thead><tr><th>obsID</th><th>obs_collection</th><th>dataproduct_type</th><th>obs_id</th><th>description</th><th>type</th><th>dataURI</th><th>productType</th><th>productGroupDescription</th><th>productSubGroupDescription</th><th>productDocumentationURL</th><th>project</th><th>prvversion</th><th>proposal_id</th><th>productFilename</th><th>size</th><th>parent_obsid</th><th>dataRights</th><th>calib_level</th></tr></thead>\n",
       "<thead><tr><th>str6</th><th>str3</th><th>str8</th><th>str8</th><th>str56</th><th>str1</th><th>str62</th><th>str9</th><th>str28</th><th>str56</th><th>str1</th><th>str1</th><th>str1</th><th>str5</th><th>str20</th><th>int64</th><th>str6</th><th>str6</th><th>int64</th></tr></thead>\n",
       "<tr><td>282255</td><td>IUE</td><td>spectrum</td><td>lwp12438</td><td>ELBLL</td><td>S</td><td>mast:IUE/url/pub/iue/data/lwp/12000/lwp12438.elbll.gz</td><td>AUXILIARY</td><td>--</td><td>--</td><td>--</td><td>--</td><td>--</td><td>MCJBB</td><td>lwp12438.elbll.gz</td><td>181294</td><td>282255</td><td>PUBLIC</td><td>2</td></tr>\n",
       "<tr><td>282255</td><td>IUE</td><td>spectrum</td><td>lwp12438</td><td>LILO</td><td>S</td><td>mast:IUE/url/pub/iue/data/lwp/12000/lwp12438.lilo.gz</td><td>AUXILIARY</td><td>--</td><td>--</td><td>--</td><td>--</td><td>--</td><td>MCJBB</td><td>lwp12438.lilo.gz</td><td>505184</td><td>282255</td><td>PUBLIC</td><td>2</td></tr>\n",
       "<tr><td>282255</td><td>IUE</td><td>spectrum</td><td>lwp12438</td><td>MELOL</td><td>S</td><td>mast:IUE/url/pub/iue/data/lwp/12000/lwp12438.melol.gz</td><td>AUXILIARY</td><td>--</td><td>--</td><td>--</td><td>--</td><td>--</td><td>MCJBB</td><td>lwp12438.melol.gz</td><td>12305</td><td>282255</td><td>PUBLIC</td><td>2</td></tr>\n",
       "<tr><td>282255</td><td>IUE</td><td>spectrum</td><td>lwp12438</td><td>RAW</td><td>S</td><td>mast:IUE/url/pub/iue/data/lwp/12000/lwp12438.raw.gz</td><td>AUXILIARY</td><td>--</td><td>--</td><td>--</td><td>--</td><td>--</td><td>MCJBB</td><td>lwp12438.raw.gz</td><td>339065</td><td>282255</td><td>PUBLIC</td><td>2</td></tr>\n",
       "<tr><td>282255</td><td>IUE</td><td>spectrum</td><td>lwp12438</td><td>RILO</td><td>S</td><td>mast:IUE/url/pub/iue/data/lwp/12000/lwp12438.rilo.gz</td><td>AUXILIARY</td><td>--</td><td>--</td><td>--</td><td>--</td><td>--</td><td>MCJBB</td><td>lwp12438.rilo.gz</td><td>344146</td><td>282255</td><td>PUBLIC</td><td>2</td></tr>\n",
       "<tr><td>282255</td><td>IUE</td><td>spectrum</td><td>lwp12438</td><td>SILO</td><td>S</td><td>mast:IUE/url/pub/iue/data/lwp/12000/lwp12438.silo.gz</td><td>AUXILIARY</td><td>--</td><td>--</td><td>--</td><td>--</td><td>--</td><td>MCJBB</td><td>lwp12438.silo.gz</td><td>87776</td><td>282255</td><td>PUBLIC</td><td>2</td></tr>\n",
       "<tr><td>282255</td><td>IUE</td><td>spectrum</td><td>lwp12438</td><td>Preview-Full</td><td>S</td><td>mast:IUE/url/browse/previews/iue/mx/lwp/12000/gif/lwp12438.gif</td><td>PREVIEW</td><td>--</td><td>--</td><td>--</td><td>--</td><td>--</td><td>MCJBB</td><td>lwp12438.gif</td><td>8416</td><td>282255</td><td>PUBLIC</td><td>2</td></tr>\n",
       "<tr><td>282255</td><td>IUE</td><td>spectrum</td><td>lwp12438</td><td>MXLO</td><td>S</td><td>mast:IUE/url/pub/iue/data/lwp/12000/lwp12438.mxlo.gz</td><td>SCIENCE</td><td>Minimum Recommended Products</td><td>--</td><td>--</td><td>--</td><td>--</td><td>MCJBB</td><td>lwp12438.mxlo.gz</td><td>17967</td><td>282255</td><td>PUBLIC</td><td>2</td></tr>\n",
       "<tr><td>282255</td><td>IUE</td><td>spectrum</td><td>lwp12438</td><td>(extracted spectra/vo spectral container/SSAP) fits file</td><td>S</td><td>mast:IUE/url/pub/vospectra/iue2/lwp12438mxlo_vo.fits</td><td>SCIENCE</td><td>Minimum Recommended Products</td><td>(extracted spectra/vo spectral container/SSAP) fits file</td><td>--</td><td>--</td><td>--</td><td>MCJBB</td><td>lwp12438mxlo_vo.fits</td><td>48960</td><td>282255</td><td>PUBLIC</td><td>2</td></tr>\n",
       "<tr><td>305284</td><td>IUE</td><td>spectrum</td><td>lwr17265</td><td>ELBLL</td><td>S</td><td>mast:IUE/url/pub/iue/data/lwr/17000/lwr17265.elbll.gz</td><td>AUXILIARY</td><td>--</td><td>--</td><td>--</td><td>--</td><td>--</td><td>FM197</td><td>lwr17265.elbll.gz</td><td>95101</td><td>305284</td><td>PUBLIC</td><td>2</td></tr>\n",
       "<tr><td>...</td><td>...</td><td>...</td><td>...</td><td>...</td><td>...</td><td>...</td><td>...</td><td>...</td><td>...</td><td>...</td><td>...</td><td>...</td><td>...</td><td>...</td><td>...</td><td>...</td><td>...</td><td>...</td></tr>\n",
       "<tr><td>311430</td><td>IUE</td><td>spectrum</td><td>swp10319</td><td>(extracted spectra/vo spectral container/SSAP) fits file</td><td>S</td><td>mast:IUE/url/pub/vospectra/iue2/swp10319mxlo_vo.fits</td><td>SCIENCE</td><td>Minimum Recommended Products</td><td>(extracted spectra/vo spectral container/SSAP) fits file</td><td>--</td><td>--</td><td>--</td><td>HSCSP</td><td>swp10319mxlo_vo.fits</td><td>48960</td><td>311430</td><td>PUBLIC</td><td>2</td></tr>\n",
       "<tr><td>325211</td><td>IUE</td><td>spectrum</td><td>swp32662</td><td>ELBLL</td><td>S</td><td>mast:IUE/url/pub/iue/data/swp/32000/swp32662.elbll.gz</td><td>AUXILIARY</td><td>--</td><td>--</td><td>--</td><td>--</td><td>--</td><td>MCJBB</td><td>swp32662.elbll.gz</td><td>173739</td><td>325211</td><td>PUBLIC</td><td>2</td></tr>\n",
       "<tr><td>325211</td><td>IUE</td><td>spectrum</td><td>swp32662</td><td>LILO</td><td>S</td><td>mast:IUE/url/pub/iue/data/swp/32000/swp32662.lilo.gz</td><td>AUXILIARY</td><td>--</td><td>--</td><td>--</td><td>--</td><td>--</td><td>MCJBB</td><td>swp32662.lilo.gz</td><td>465762</td><td>325211</td><td>PUBLIC</td><td>2</td></tr>\n",
       "<tr><td>325211</td><td>IUE</td><td>spectrum</td><td>swp32662</td><td>MELOL</td><td>S</td><td>mast:IUE/url/pub/iue/data/swp/32000/swp32662.melol.gz</td><td>AUXILIARY</td><td>--</td><td>--</td><td>--</td><td>--</td><td>--</td><td>MCJBB</td><td>swp32662.melol.gz</td><td>11486</td><td>325211</td><td>PUBLIC</td><td>2</td></tr>\n",
       "<tr><td>325211</td><td>IUE</td><td>spectrum</td><td>swp32662</td><td>RAW</td><td>S</td><td>mast:IUE/url/pub/iue/data/swp/32000/swp32662.raw.gz</td><td>AUXILIARY</td><td>--</td><td>--</td><td>--</td><td>--</td><td>--</td><td>MCJBB</td><td>swp32662.raw.gz</td><td>309740</td><td>325211</td><td>PUBLIC</td><td>2</td></tr>\n",
       "<tr><td>325211</td><td>IUE</td><td>spectrum</td><td>swp32662</td><td>RILO</td><td>S</td><td>mast:IUE/url/pub/iue/data/swp/32000/swp32662.rilo.gz</td><td>AUXILIARY</td><td>--</td><td>--</td><td>--</td><td>--</td><td>--</td><td>MCJBB</td><td>swp32662.rilo.gz</td><td>314984</td><td>325211</td><td>PUBLIC</td><td>2</td></tr>\n",
       "<tr><td>325211</td><td>IUE</td><td>spectrum</td><td>swp32662</td><td>SILO</td><td>S</td><td>mast:IUE/url/pub/iue/data/swp/32000/swp32662.silo.gz</td><td>AUXILIARY</td><td>--</td><td>--</td><td>--</td><td>--</td><td>--</td><td>MCJBB</td><td>swp32662.silo.gz</td><td>80393</td><td>325211</td><td>PUBLIC</td><td>2</td></tr>\n",
       "<tr><td>325211</td><td>IUE</td><td>spectrum</td><td>swp32662</td><td>Preview-Full</td><td>S</td><td>mast:IUE/url/browse/previews/iue/mx/swp/32000/gif/swp32662.gif</td><td>PREVIEW</td><td>--</td><td>--</td><td>--</td><td>--</td><td>--</td><td>MCJBB</td><td>swp32662.gif</td><td>7163</td><td>325211</td><td>PUBLIC</td><td>2</td></tr>\n",
       "<tr><td>325211</td><td>IUE</td><td>spectrum</td><td>swp32662</td><td>MXLO</td><td>S</td><td>mast:IUE/url/pub/iue/data/swp/32000/swp32662.mxlo.gz</td><td>SCIENCE</td><td>Minimum Recommended Products</td><td>--</td><td>--</td><td>--</td><td>--</td><td>MCJBB</td><td>swp32662.mxlo.gz</td><td>16950</td><td>325211</td><td>PUBLIC</td><td>2</td></tr>\n",
       "<tr><td>325211</td><td>IUE</td><td>spectrum</td><td>swp32662</td><td>(extracted spectra/vo spectral container/SSAP) fits file</td><td>S</td><td>mast:IUE/url/pub/vospectra/iue2/swp32662mxlo_vo.fits</td><td>SCIENCE</td><td>Minimum Recommended Products</td><td>(extracted spectra/vo spectral container/SSAP) fits file</td><td>--</td><td>--</td><td>--</td><td>MCJBB</td><td>swp32662mxlo_vo.fits</td><td>48960</td><td>325211</td><td>PUBLIC</td><td>2</td></tr>\n",
       "</table></div>"
      ],
      "text/plain": [
       "<Table masked=True length=36>\n",
       "obsID  obs_collection dataproduct_type ... parent_obsid dataRights calib_level\n",
       " str6       str3            str8       ...     str6        str6       int64   \n",
       "------ -------------- ---------------- ... ------------ ---------- -----------\n",
       "282255            IUE         spectrum ...       282255     PUBLIC           2\n",
       "282255            IUE         spectrum ...       282255     PUBLIC           2\n",
       "282255            IUE         spectrum ...       282255     PUBLIC           2\n",
       "282255            IUE         spectrum ...       282255     PUBLIC           2\n",
       "282255            IUE         spectrum ...       282255     PUBLIC           2\n",
       "282255            IUE         spectrum ...       282255     PUBLIC           2\n",
       "282255            IUE         spectrum ...       282255     PUBLIC           2\n",
       "282255            IUE         spectrum ...       282255     PUBLIC           2\n",
       "282255            IUE         spectrum ...       282255     PUBLIC           2\n",
       "305284            IUE         spectrum ...       305284     PUBLIC           2\n",
       "   ...            ...              ... ...          ...        ...         ...\n",
       "311430            IUE         spectrum ...       311430     PUBLIC           2\n",
       "325211            IUE         spectrum ...       325211     PUBLIC           2\n",
       "325211            IUE         spectrum ...       325211     PUBLIC           2\n",
       "325211            IUE         spectrum ...       325211     PUBLIC           2\n",
       "325211            IUE         spectrum ...       325211     PUBLIC           2\n",
       "325211            IUE         spectrum ...       325211     PUBLIC           2\n",
       "325211            IUE         spectrum ...       325211     PUBLIC           2\n",
       "325211            IUE         spectrum ...       325211     PUBLIC           2\n",
       "325211            IUE         spectrum ...       325211     PUBLIC           2\n",
       "325211            IUE         spectrum ...       325211     PUBLIC           2"
      ]
     },
     "execution_count": 8,
     "metadata": {},
     "output_type": "execute_result"
    }
   ],
   "source": [
    "IUEobs_av380 = Observations.query_criteria(objectname=\"AV380\",obs_collection=\"IUE\")\n",
    "data_products_av380 = Observations.get_product_list(IUEobs_av380)\n",
    "\n",
    "data_products_av380"
   ]
  },
  {
   "cell_type": "markdown",
   "id": "248a9cf4",
   "metadata": {},
   "source": [
    "- Observation ID: \"swp10319\":"
   ]
  },
  {
   "cell_type": "code",
   "execution_count": 9,
   "id": "375c0f94",
   "metadata": {},
   "outputs": [
    {
     "data": {
      "text/html": [
       "<i>Row index=26 masked=True</i>\n",
       "<table id=\"table140496077131680\">\n",
       "<thead><tr><th>obsID</th><th>obs_collection</th><th>dataproduct_type</th><th>obs_id</th><th>description</th><th>type</th><th>dataURI</th><th>productType</th><th>productGroupDescription</th><th>productSubGroupDescription</th><th>productDocumentationURL</th><th>project</th><th>prvversion</th><th>proposal_id</th><th>productFilename</th><th>size</th><th>parent_obsid</th><th>dataRights</th><th>calib_level</th></tr></thead>\n",
       "<thead><tr><th>str6</th><th>str3</th><th>str8</th><th>str8</th><th>str56</th><th>str1</th><th>str62</th><th>str9</th><th>str28</th><th>str56</th><th>str1</th><th>str1</th><th>str1</th><th>str5</th><th>str20</th><th>int64</th><th>str6</th><th>str6</th><th>int64</th></tr></thead>\n",
       "<tr><td>311430</td><td>IUE</td><td>spectrum</td><td>swp10319</td><td>(extracted spectra/vo spectral container/SSAP) fits file</td><td>S</td><td>mast:IUE/url/pub/vospectra/iue2/swp10319mxlo_vo.fits</td><td>SCIENCE</td><td>Minimum Recommended Products</td><td>(extracted spectra/vo spectral container/SSAP) fits file</td><td>--</td><td>--</td><td>--</td><td>HSCSP</td><td>swp10319mxlo_vo.fits</td><td>48960</td><td>311430</td><td>PUBLIC</td><td>2</td></tr>\n",
       "</table>"
      ],
      "text/plain": [
       "<Row index=26 masked=True>\n",
       "obsID  obs_collection dataproduct_type  obs_id                        description                        type                       dataURI                        productType   productGroupDescription                   productSubGroupDescription                productDocumentationURL project prvversion proposal_id   productFilename     size parent_obsid dataRights calib_level\n",
       " str6       str3            str8         str8                            str56                           str1                        str62                             str9               str28                                      str56                                     str1            str1     str1        str5           str20         int64     str6        str6       int64   \n",
       "------ -------------- ---------------- -------- -------------------------------------------------------- ---- ---------------------------------------------------- ----------- ---------------------------- -------------------------------------------------------- ----------------------- ------- ---------- ----------- -------------------- ----- ------------ ---------- -----------\n",
       "311430            IUE         spectrum swp10319 (extracted spectra/vo spectral container/SSAP) fits file    S mast:IUE/url/pub/vospectra/iue2/swp10319mxlo_vo.fits     SCIENCE Minimum Recommended Products (extracted spectra/vo spectral container/SSAP) fits file                      --      --         --       HSCSP swp10319mxlo_vo.fits 48960       311430     PUBLIC           2"
      ]
     },
     "execution_count": 9,
     "metadata": {},
     "output_type": "execute_result"
    }
   ],
   "source": [
    "data_products_av380[26]"
   ]
  },
  {
   "cell_type": "code",
   "execution_count": 10,
   "id": "b507c046",
   "metadata": {
    "scrolled": true
   },
   "outputs": [
    {
     "name": "stdout",
     "output_type": "stream",
     "text": [
      "Downloading URL https://mast.stsci.edu/api/v0.1/Download/file?uri=mast:IUE/url/pub/vospectra/iue2/swp10319mxlo_vo.fits to ./mastDownload/IUE/swp10319/swp10319mxlo_vo.fits ... [Done]\n"
     ]
    },
    {
     "data": {
      "text/html": [
       "<div><i>Table length=1</i>\n",
       "<table id=\"table140496057672896\" class=\"table-striped table-bordered table-condensed\">\n",
       "<thead><tr><th>Local Path</th><th>Status</th><th>Message</th><th>URL</th></tr></thead>\n",
       "<thead><tr><th>str48</th><th>str8</th><th>object</th><th>object</th></tr></thead>\n",
       "<tr><td>./mastDownload/IUE/swp10319/swp10319mxlo_vo.fits</td><td>COMPLETE</td><td>None</td><td>None</td></tr>\n",
       "</table></div>"
      ],
      "text/plain": [
       "<Table length=1>\n",
       "                   Local Path                     Status  Message  URL  \n",
       "                     str48                         str8    object object\n",
       "------------------------------------------------ -------- ------- ------\n",
       "./mastDownload/IUE/swp10319/swp10319mxlo_vo.fits COMPLETE    None   None"
      ]
     },
     "execution_count": 10,
     "metadata": {},
     "output_type": "execute_result"
    }
   ],
   "source": [
    "IUEobs_av380_sw = Observations.query_criteria(obs_collection=\"IUE\", obs_id=\"swp10319\")\n",
    "data_products_av380_sw = Observations.get_product_list(IUEobs_av380_sw)\n",
    "yourProd_av380_sw = Observations.filter_products(data_products_av380_sw, extension='swp10319mxlo_vo.fits')\n",
    "Observations.download_products(yourProd_av380_sw, mrp_only = False, cache = False) "
   ]
  },
  {
   "cell_type": "markdown",
   "id": "af90dbbe",
   "metadata": {},
   "source": [
    "- Observation ID: \"lwr17265\":"
   ]
  },
  {
   "cell_type": "code",
   "execution_count": 11,
   "id": "57635028",
   "metadata": {},
   "outputs": [
    {
     "data": {
      "text/html": [
       "<i>Row index=17 masked=True</i>\n",
       "<table id=\"table140496077131680\">\n",
       "<thead><tr><th>obsID</th><th>obs_collection</th><th>dataproduct_type</th><th>obs_id</th><th>description</th><th>type</th><th>dataURI</th><th>productType</th><th>productGroupDescription</th><th>productSubGroupDescription</th><th>productDocumentationURL</th><th>project</th><th>prvversion</th><th>proposal_id</th><th>productFilename</th><th>size</th><th>parent_obsid</th><th>dataRights</th><th>calib_level</th></tr></thead>\n",
       "<thead><tr><th>str6</th><th>str3</th><th>str8</th><th>str8</th><th>str56</th><th>str1</th><th>str62</th><th>str9</th><th>str28</th><th>str56</th><th>str1</th><th>str1</th><th>str1</th><th>str5</th><th>str20</th><th>int64</th><th>str6</th><th>str6</th><th>int64</th></tr></thead>\n",
       "<tr><td>305284</td><td>IUE</td><td>spectrum</td><td>lwr17265</td><td>(extracted spectra/vo spectral container/SSAP) fits file</td><td>S</td><td>mast:IUE/url/pub/vospectra/iue2/lwr17265mxlo_vo.fits</td><td>SCIENCE</td><td>Minimum Recommended Products</td><td>(extracted spectra/vo spectral container/SSAP) fits file</td><td>--</td><td>--</td><td>--</td><td>FM197</td><td>lwr17265mxlo_vo.fits</td><td>48960</td><td>305284</td><td>PUBLIC</td><td>2</td></tr>\n",
       "</table>"
      ],
      "text/plain": [
       "<Row index=17 masked=True>\n",
       "obsID  obs_collection dataproduct_type  obs_id                        description                        type                       dataURI                        productType   productGroupDescription                   productSubGroupDescription                productDocumentationURL project prvversion proposal_id   productFilename     size parent_obsid dataRights calib_level\n",
       " str6       str3            str8         str8                            str56                           str1                        str62                             str9               str28                                      str56                                     str1            str1     str1        str5           str20         int64     str6        str6       int64   \n",
       "------ -------------- ---------------- -------- -------------------------------------------------------- ---- ---------------------------------------------------- ----------- ---------------------------- -------------------------------------------------------- ----------------------- ------- ---------- ----------- -------------------- ----- ------------ ---------- -----------\n",
       "305284            IUE         spectrum lwr17265 (extracted spectra/vo spectral container/SSAP) fits file    S mast:IUE/url/pub/vospectra/iue2/lwr17265mxlo_vo.fits     SCIENCE Minimum Recommended Products (extracted spectra/vo spectral container/SSAP) fits file                      --      --         --       FM197 lwr17265mxlo_vo.fits 48960       305284     PUBLIC           2"
      ]
     },
     "execution_count": 11,
     "metadata": {},
     "output_type": "execute_result"
    }
   ],
   "source": [
    "data_products_av380[17]"
   ]
  },
  {
   "cell_type": "code",
   "execution_count": 12,
   "id": "ff1bae2d",
   "metadata": {},
   "outputs": [
    {
     "name": "stdout",
     "output_type": "stream",
     "text": [
      "Downloading URL https://mast.stsci.edu/api/v0.1/Download/file?uri=mast:IUE/url/pub/vospectra/iue2/lwr17265mxlo_vo.fits to ./mastDownload/IUE/lwr17265/lwr17265mxlo_vo.fits ... [Done]\n"
     ]
    },
    {
     "data": {
      "text/html": [
       "<div><i>Table length=1</i>\n",
       "<table id=\"table140496057672656\" class=\"table-striped table-bordered table-condensed\">\n",
       "<thead><tr><th>Local Path</th><th>Status</th><th>Message</th><th>URL</th></tr></thead>\n",
       "<thead><tr><th>str48</th><th>str8</th><th>object</th><th>object</th></tr></thead>\n",
       "<tr><td>./mastDownload/IUE/lwr17265/lwr17265mxlo_vo.fits</td><td>COMPLETE</td><td>None</td><td>None</td></tr>\n",
       "</table></div>"
      ],
      "text/plain": [
       "<Table length=1>\n",
       "                   Local Path                     Status  Message  URL  \n",
       "                     str48                         str8    object object\n",
       "------------------------------------------------ -------- ------- ------\n",
       "./mastDownload/IUE/lwr17265/lwr17265mxlo_vo.fits COMPLETE    None   None"
      ]
     },
     "execution_count": 12,
     "metadata": {},
     "output_type": "execute_result"
    }
   ],
   "source": [
    "IUEobs_av380_lw = Observations.query_criteria(obs_collection=\"IUE\", obs_id=\"lwr17265\")\n",
    "data_products_av380_lw = Observations.get_product_list(IUEobs_av380_lw)\n",
    "yourProd_av380_lw = Observations.filter_products(data_products_av380_lw, extension='lwr17265mxlo_vo.fits')\n",
    "Observations.download_products(yourProd_av380_lw, mrp_only = False, cache = False) "
   ]
  },
  {
   "cell_type": "markdown",
   "id": "acf23366",
   "metadata": {},
   "source": [
    "Again, if the download does not happen automatically, by visiting the URLs provided by `download_products` you will be able to download the necessary data to continue this tutorial."
   ]
  },
  {
   "cell_type": "markdown",
   "id": "73889127",
   "metadata": {},
   "source": [
    "## Exploring the downloaded data files"
   ]
  },
  {
   "cell_type": "markdown",
   "id": "7705ab97",
   "metadata": {},
   "source": [
    "Now, let's explore the FITS file that we got for the reddened star. The paths to the files should correspond to wherever these files are located on your local computer, here the provided path is the one automatically generated by the `download_products` function. Feel free to change the filepath if you have stored the files in a different directory."
   ]
  },
  {
   "cell_type": "code",
   "execution_count": 13,
   "id": "8082e4df",
   "metadata": {},
   "outputs": [
    {
     "name": "stdout",
     "output_type": "stream",
     "text": [
      "Filename: ./mastDownload/IUE/swp22372/swp22372mxlo_vo.fits\n",
      "No.    Name      Ver    Type      Cards   Dimensions   Format\n",
      "  0  PRIMARY       1 PrimaryHDU     350   ()      \n",
      "  1  Spectral Container    1 BinTableHDU    141   1R x 4C   [495E, 495E, 495E, 495I]   \n"
     ]
    }
   ],
   "source": [
    "filename_av214_sw = \"./mastDownload/IUE/swp22372/swp22372mxlo_vo.fits\"\n",
    "fits.info(filename_av214_sw)"
   ]
  },
  {
   "cell_type": "markdown",
   "id": "aab81955",
   "metadata": {},
   "source": [
    "- **No. 0 (PRIMARY)**: This HDU contains meta-data related to the entire file.\n",
    "- **No. 1 (Spectral Container)**: This HDU contains the spectral profile of the target as a function of wavelength.\n",
    "\n",
    "The header of the file contains additional information about the data, in rows 54-61 important header information can be found, such as the wavelength reference frame or the reference equinox. It can be accessed in the following way (only some part of the information contained in the header is printed in this section, the user is encouraged to print the complete header if they are interested to see the whole information contained in it).  "
   ]
  },
  {
   "cell_type": "code",
   "execution_count": 14,
   "id": "897a2252",
   "metadata": {
    "scrolled": true
   },
   "outputs": [
    {
     "name": "stdout",
     "output_type": "stream",
     "text": [
      "EQUINOX =              2000.00 /                                                \n",
      "RADECSYS= 'FK4'                /                                                \n",
      "TIMESYS = 'UTC'                / Time system                                    \n",
      "MJDREF  =              0.00000 / [d] MJD zero point for times                   \n",
      "SPECSYS = 'TOPOCENT'           / wavelength reference frame                     \n",
      "VOCLASS = 'SPECTRUM V1.0'      / VO Data Model                                  \n",
      "VOSEGT  = 'SPECTRUM'           / Segment type                                   \n"
     ]
    }
   ],
   "source": [
    "with fits.open(filename_av214_sw) as hdulist: \n",
    "    header_av214_sw = hdulist[1].header\n",
    "\n",
    "print(repr(header_av214_sw[54:61]))"
   ]
  },
  {
   "cell_type": "markdown",
   "id": "397d199f",
   "metadata": {},
   "source": [
    "Additionally, the header tells us information about what each column of the data contained in it represents:"
   ]
  },
  {
   "cell_type": "code",
   "execution_count": 15,
   "id": "7fcc7169",
   "metadata": {},
   "outputs": [
    {
     "name": "stdout",
     "output_type": "stream",
     "text": [
      "COMMENT  *** Column names ***                                                   \n",
      "COMMENT                                                                         \n",
      "TTYPE1  = 'WAVE    '           /                                                \n",
      "TTYPE2  = 'FLUX    '           /                                                \n",
      "TTYPE3  = 'SIGMA   '           /                                                \n",
      "TTYPE4  = 'QUALITY '           /                                                \n"
     ]
    }
   ],
   "source": [
    "print(repr(header_av214_sw[9:15]))"
   ]
  },
  {
   "cell_type": "markdown",
   "id": "75052360",
   "metadata": {},
   "source": [
    "From this we know that the first column corresponds to the wavelengths, and the second column to the fluxes. The header also has information regarding the unit system used:"
   ]
  },
  {
   "cell_type": "code",
   "execution_count": 16,
   "id": "4a724d13",
   "metadata": {},
   "outputs": [
    {
     "name": "stdout",
     "output_type": "stream",
     "text": [
      "COMMENT   *** Column units ***                                                  \n",
      "COMMENT                                                                         \n",
      "TUNIT1  = 'angstrom'           / wavelength unit is Angstrom                    \n",
      "TUNIT2  = 'erg/cm**2/s/angstrom' / flux unit is ergs/cm2/sec/A                  \n",
      "TUNIT3  = 'erg/cm**2/s/angstrom' / sigma unit is ergs/cm2/sec/A                 \n"
     ]
    }
   ],
   "source": [
    "print(repr(header_av214_sw[23:28]))"
   ]
  },
  {
   "cell_type": "markdown",
   "id": "e8ba6bed",
   "metadata": {},
   "source": [
    "## Data access and manipulation"
   ]
  },
  {
   "cell_type": "markdown",
   "id": "1195669c",
   "metadata": {},
   "source": [
    "The data contained in this fits failed can be accessed using io.fits and the `data` attribute:"
   ]
  },
  {
   "cell_type": "code",
   "execution_count": 17,
   "id": "781f9315",
   "metadata": {
    "scrolled": true
   },
   "outputs": [],
   "source": [
    "with fits.open(filename_av214_sw) as hdulist:\n",
    "    spectrum_av214_sw = hdulist[1].data\n",
    "\n",
    "wav_av214_sw = spectrum_av214_sw[0][0] # angstrom, A\n",
    "flux_av214_sw = spectrum_av214_sw[0][1] # ergs/cm2/sec/A\n",
    "\n",
    "filename_av214_lw = \"./mastDownload/IUE/lwr17263/lwr17263mxlo_vo.fits\"\n",
    "with fits.open(filename_av214_lw) as hdulist:\n",
    "    spectrum_av214_lw = hdulist[1].data\n",
    "\n",
    "wav_av214_lw = spectrum_av214_lw[0][0] # A\n",
    "flux_av214_lw = spectrum_av214_lw[0][1] # ergs/cm2/sec/A"
   ]
  },
  {
   "cell_type": "markdown",
   "id": "7a84bc06",
   "metadata": {},
   "source": [
    "_**Heads-up**: some values of the flux may be contaminated or altered, and when applying the logarithm may result in NaN (Not a Number), in order to not have to deal with error messages throughout the notebook, we will use the `changeNaN` function displayed below to locate and change these problematic values. Since we will need to combine the reddened and un-reddened stars later on, they need to have the same length, so we will examine them together for problematic values._\n",
    "\n",
    "An example of the problematic values can be seen in _flux_av214_lw_:"
   ]
  },
  {
   "cell_type": "code",
   "execution_count": 18,
   "id": "96394b73",
   "metadata": {},
   "outputs": [
    {
     "name": "stdout",
     "output_type": "stream",
     "text": [
      "flux_av214_lw: [-2.2695733e-14 -2.0336736e-14]\n",
      "log(flux_av214_lw): [nan nan]\n"
     ]
    },
    {
     "name": "stderr",
     "output_type": "stream",
     "text": [
      "<ipython-input-18-b266a8ce1588>:2: RuntimeWarning: invalid value encountered in log10\n",
      "  print(\"log(flux_av214_lw):\", np.log10(flux_av214_lw[-5:-3]))\n"
     ]
    }
   ],
   "source": [
    "print(\"flux_av214_lw:\", flux_av214_lw[-5:-3])\n",
    "print(\"log(flux_av214_lw):\", np.log10(flux_av214_lw[-5:-3]))"
   ]
  },
  {
   "cell_type": "code",
   "execution_count": 19,
   "id": "c25da271",
   "metadata": {},
   "outputs": [],
   "source": [
    "def changeNaN(wavv,fluxx,wavv1,fluxx1):\n",
    "    \n",
    "    \"\"\"\n",
    "    Removes negative flux values to avoid encountering NaN when converting to flux scale\n",
    "    \n",
    "    Inputs:\n",
    "    :param wavv,wavv1: input wavelength arrays\n",
    "    :type wavv,wavv1: float array\n",
    "    :param fluxx,fluxx1: input wavelength arrays\n",
    "    :type fluxx,fluxx1: float array\n",
    "    \n",
    "    Outputs: \n",
    "    :return: wavv,fluxx,wavv1,fluxx1 without the corresponding problematic values\n",
    "    :rtype: float array\n",
    "    \"\"\"\n",
    "    \n",
    "    prob = np.where(fluxx < 0)[0]\n",
    "    wavv = np.delete(wavv,prob)\n",
    "    fluxx = np.delete(fluxx,prob)\n",
    "    wavv1 = np.delete(wavv1,prob)\n",
    "    fluxx1 = np.delete(fluxx1,prob)\n",
    "    \n",
    "    prob2 = np.where(fluxx1 < 0)[0]\n",
    "    wavv = np.delete(wavv,prob2)\n",
    "    fluxx = np.delete(fluxx,prob2)\n",
    "    wavv1 = np.delete(wavv1,prob2)\n",
    "    fluxx1 = np.delete(fluxx1,prob2)\n",
    "    \n",
    "    return wavv, fluxx, wavv1, fluxx1"
   ]
  },
  {
   "cell_type": "markdown",
   "id": "ad207b98",
   "metadata": {},
   "source": [
    "Let's do the same for the other files, use the `changeNaN` function to remove the problematic values."
   ]
  },
  {
   "cell_type": "code",
   "execution_count": 20,
   "id": "55d2e044",
   "metadata": {},
   "outputs": [],
   "source": [
    "filename_av380_sw = \"./mastDownload/IUE/swp10319/swp10319mxlo_vo.fits\"\n",
    "with fits.open(filename_av380_sw) as hdulist:\n",
    "    spectrum_av380_sw = hdulist[1].data\n",
    "\n",
    "wav_av380_sw = spectrum_av380_sw[0][0] # A\n",
    "flux_av380_sw = spectrum_av380_sw[0][1] # ergs/cm2/sec/A\n",
    "\n",
    "filename_av380_lw = \"./mastDownload/IUE/lwr17265/lwr17265mxlo_vo.fits\"\n",
    "with fits.open(filename_av380_lw) as hdulist:\n",
    "    spectrum_av380_lw = hdulist[1].data\n",
    "\n",
    "wav_av380_lw = spectrum_av380_lw[0][0] # A\n",
    "flux_av380_lw = spectrum_av380_lw[0][1] # ergs/cm2/sec/A\n",
    "\n",
    "# Remove problematic values\n",
    "wav_av214_sw, flux_av214_sw, wav_av380_sw, flux_av380_sw = changeNaN(wav_av214_sw, flux_av214_sw, wav_av380_sw, flux_av380_sw)\n",
    "wav_av214_lw, flux_av214_lw, wav_av380_lw, flux_av380_lw = changeNaN(wav_av214_lw, flux_av214_lw, wav_av380_lw, flux_av380_lw)"
   ]
  },
  {
   "cell_type": "markdown",
   "id": "a735829f",
   "metadata": {},
   "source": [
    "## Save values into your local computer\n",
    "\n",
    "Now that we have removed the problematic values from our observations, let's explore how we can save them to our computers. To do this, we can use the function `saveArray` presented below:"
   ]
  },
  {
   "cell_type": "code",
   "execution_count": 21,
   "id": "8ea01f76",
   "metadata": {},
   "outputs": [],
   "source": [
    "def saveArray(array,filename):\n",
    "    \n",
    "    \"\"\"\n",
    "    Saves arrays into .txt files in current directory and checks that the files have been written properly\n",
    "    \n",
    "    Inputs:\n",
    "    :param array: array to be saved to local directory\n",
    "    :type array: float array\n",
    "    :param filename: name of file to be saved\n",
    "    :type filename: string\n",
    "    \n",
    "    Outputs: \n",
    "    :return: none\n",
    "    :rtype: none\n",
    "    \"\"\"\n",
    "    \n",
    "    # First display the start and ending of the array to check later\n",
    "    print('First 3 elements of original array:\\n', array[:3])\n",
    "    print('Last 3 elements of original array:\\n', array[-3:])\n",
    "\n",
    "    # Save the array in a text file\n",
    "    np.savetxt(filename,array)\n",
    "    \n",
    "    # Display the saved content to check it was correctly written to the .txt file\n",
    "    content = np.loadtxt(filename)\n",
    "    print('First 3 elements of '+filename+':\\n', content[:3])\n",
    "    print('Last 3 elements of '+filename+':\\n', content[-3:],'\\n')\n",
    "    \n",
    "    return None"
   ]
  },
  {
   "cell_type": "code",
   "execution_count": 22,
   "id": "2709e1a0",
   "metadata": {},
   "outputs": [
    {
     "name": "stdout",
     "output_type": "stream",
     "text": [
      "First 3 elements of original array:\n",
      " [1150.5802 1152.2566 1153.933 ]\n",
      "Last 3 elements of original array:\n",
      " [1975.3384 1977.0146 1978.691 ]\n",
      "First 3 elements of wav_av214_sw.txt:\n",
      " [1150.5802002 1152.2565918 1153.9329834]\n",
      "Last 3 elements of wav_av214_sw.txt:\n",
      " [1975.33837891 1977.01464844 1978.69104004] \n",
      "\n",
      "First 3 elements of original array:\n",
      " [1.1806722e-13 1.0497821e-13 9.7880498e-14]\n",
      "Last 3 elements of original array:\n",
      " [9.0072332e-14 8.9639925e-14 9.0954899e-14]\n",
      "First 3 elements of flux_av214_sw.txt:\n",
      " [1.18067218e-13 1.04978207e-13 9.78804982e-14]\n",
      "Last 3 elements of flux_av214_sw.txt:\n",
      " [9.00723316e-14 8.96399247e-14 9.09548993e-14] \n",
      "\n",
      "First 3 elements of original array:\n",
      " [1150.5802 1152.2566 1153.933 ]\n",
      "Last 3 elements of original array:\n",
      " [1975.3384 1977.0146 1978.691 ]\n",
      "First 3 elements of wav_av380_sw.txt:\n",
      " [1150.5802002 1152.2565918 1153.9329834]\n",
      "Last 3 elements of wav_av380_sw.txt:\n",
      " [1975.33837891 1977.01464844 1978.69104004] \n",
      "\n",
      "First 3 elements of original array:\n",
      " [2.0615980e-13 2.2626303e-13 2.3708723e-13]\n",
      "Last 3 elements of original array:\n",
      " [1.4629599e-13 1.4202517e-13 1.3938025e-13]\n",
      "First 3 elements of flux_av380_sw.txt:\n",
      " [2.06159796e-13 2.26263032e-13 2.37087232e-13]\n",
      "Last 3 elements of flux_av380_sw.txt:\n",
      " [1.46295993e-13 1.42025172e-13 1.39380247e-13] \n",
      "\n",
      "First 3 elements of original array:\n",
      " [1851.2976 1853.9634 1856.629 ]\n",
      "Last 3 elements of original array:\n",
      " [3328.1104 3344.1045 3346.7703]\n",
      "First 3 elements of wav_av214_lw.txt:\n",
      " [1851.29760742 1853.96337891 1856.62902832]\n",
      "Last 3 elements of wav_av214_lw.txt:\n",
      " [3328.11035156 3344.10449219 3346.77026367] \n",
      "\n",
      "First 3 elements of original array:\n",
      " [1.1266531e-13 3.8899534e-14 4.2254113e-14]\n",
      "Last 3 elements of original array:\n",
      " [5.8187093e-15 1.5151301e-15 2.6366150e-14]\n",
      "First 3 elements of flux_av214_lw.txt:\n",
      " [1.12665309e-13 3.88995341e-14 4.22541132e-14]\n",
      "Last 3 elements of flux_av214_lw.txt:\n",
      " [5.81870935e-15 1.51513008e-15 2.63661502e-14] \n",
      "\n",
      "First 3 elements of original array:\n",
      " [1851.2976 1853.9634 1856.629 ]\n",
      "Last 3 elements of original array:\n",
      " [3328.1104 3344.1045 3346.7703]\n",
      "First 3 elements of wav_av380_lw.txt:\n",
      " [1851.29760742 1853.96337891 1856.62902832]\n",
      "Last 3 elements of wav_av380_lw.txt:\n",
      " [3328.11035156 3344.10449219 3346.77026367] \n",
      "\n",
      "First 3 elements of original array:\n",
      " [1.8677044e-13 1.0455292e-13 9.2824518e-14]\n",
      "Last 3 elements of original array:\n",
      " [2.8523860e-15 5.7709401e-15 1.4750215e-14]\n",
      "First 3 elements of flux_av380_lw.txt:\n",
      " [1.86770440e-13 1.04552922e-13 9.28245179e-14]\n",
      "Last 3 elements of flux_av380_lw.txt:\n",
      " [2.85238599e-15 5.77094008e-15 1.47502148e-14] \n",
      "\n"
     ]
    }
   ],
   "source": [
    "arrays = [wav_av214_sw, flux_av214_sw, wav_av380_sw, flux_av380_sw, wav_av214_lw, flux_av214_lw, wav_av380_lw, flux_av380_lw]\n",
    "filenames = ['wav_av214_sw.txt', 'flux_av214_sw.txt', 'wav_av380_sw.txt', 'flux_av380_sw.txt', 'wav_av214_lw.txt', 'flux_av214_lw.txt', 'wav_av380_lw.txt', 'flux_av380_lw.txt']\n",
    "\n",
    "for i in range(len(arrays)):\n",
    "    saveArray(arrays[i],filenames[i])"
   ]
  },
  {
   "cell_type": "markdown",
   "id": "33e3ecb0",
   "metadata": {},
   "source": [
    "## Exercises"
   ]
  },
  {
   "cell_type": "markdown",
   "id": "e4d71df9",
   "metadata": {},
   "source": [
    "Now you can try to do it yourself! Try to obtain the extinction curve of a Large Magellanic Cloud (LMC) following the steps presented for the SMC one and look for the differences in the trend between the two.\n",
    "\n",
    "### 1. Load the data\n",
    "\n",
    "The targets for this exercise will be:\n",
    "\n",
    "- Sk -69 206 (Observation IDs: swp36552, lwp15751) (reddened star)\n",
    "- Sk -67 5 (Observation IDs: swp04827, lwr04170) (unreddened star)\n",
    "\n",
    "First, do the database search for the reddened star:"
   ]
  },
  {
   "cell_type": "code",
   "execution_count": 23,
   "id": "0df02bac",
   "metadata": {},
   "outputs": [],
   "source": [
    "# You can copy, paste and modify the code corresponding to this part that we used for the SMC cloud here\n",
    "# You can also use any function that was defined before\n"
   ]
  },
  {
   "cell_type": "markdown",
   "id": "3cefed39",
   "metadata": {},
   "source": [
    "Narrow down the possibilities to the desired observation, observation ID: \"swp36552\":"
   ]
  },
  {
   "cell_type": "code",
   "execution_count": 24,
   "id": "63902b4f",
   "metadata": {},
   "outputs": [],
   "source": [
    "# You can copy, paste and modify the code corresponding to this part that we used for the SMC cloud here\n",
    "# You can also use any function that was defined before\n"
   ]
  },
  {
   "cell_type": "markdown",
   "id": "7aedb721",
   "metadata": {},
   "source": [
    "Now, download the data as before:"
   ]
  },
  {
   "cell_type": "code",
   "execution_count": 25,
   "id": "85cf856d",
   "metadata": {},
   "outputs": [],
   "source": [
    "# You can copy, paste and modify the code corresponding to this part that we used for the SMC cloud here\n",
    "# You can also use any function that was defined before\n"
   ]
  },
  {
   "cell_type": "markdown",
   "id": "1a9e18ee",
   "metadata": {},
   "source": [
    "And again, in order to cover a wider wavelength range, let's also download the other part of the spectra using the second observation ID provided, observation ID: \"lwp15751\":"
   ]
  },
  {
   "cell_type": "code",
   "execution_count": 26,
   "id": "80ed0693",
   "metadata": {},
   "outputs": [],
   "source": [
    "# You can copy, paste and modify the code corresponding to this part that we used for the SMC cloud here\n",
    "# You can also use any function that was defined before\n"
   ]
  },
  {
   "cell_type": "markdown",
   "id": "fd0fbf61",
   "metadata": {},
   "source": [
    "Now, let's do the same for the unreddened star:"
   ]
  },
  {
   "cell_type": "code",
   "execution_count": 27,
   "id": "506772da",
   "metadata": {
    "scrolled": false
   },
   "outputs": [],
   "source": [
    "# You can copy, paste and modify the code corresponding to this part that we used for the SMC cloud here\n",
    "# You can also use any function that was defined before\n"
   ]
  },
  {
   "cell_type": "markdown",
   "id": "c4bff8af",
   "metadata": {},
   "source": [
    "- Observation ID: \"swp04827\":"
   ]
  },
  {
   "cell_type": "code",
   "execution_count": 28,
   "id": "e94e32df",
   "metadata": {},
   "outputs": [],
   "source": [
    "# You can copy, paste and modify the code corresponding to this part that we used for the SMC cloud here\n",
    "# You can also use any function that was defined before\n"
   ]
  },
  {
   "cell_type": "code",
   "execution_count": 29,
   "id": "2fe4d8ea",
   "metadata": {
    "scrolled": true
   },
   "outputs": [],
   "source": [
    "# You can copy, paste and modify the code corresponding to this part that we used for the SMC cloud here\n",
    "# You can also use any function that was defined before\n"
   ]
  },
  {
   "cell_type": "markdown",
   "id": "7b0c8065",
   "metadata": {},
   "source": [
    "- Observation ID: \"lwr04170\""
   ]
  },
  {
   "cell_type": "code",
   "execution_count": 30,
   "id": "311c43c9",
   "metadata": {},
   "outputs": [],
   "source": [
    "# You can copy, paste and modify the code corresponding to this part that we used for the SMC cloud here\n",
    "# You can also use any function that was defined before\n"
   ]
  },
  {
   "cell_type": "code",
   "execution_count": 31,
   "id": "b786b210",
   "metadata": {},
   "outputs": [],
   "source": [
    "# You can copy, paste and modify the code corresponding to this part that we used for the SMC cloud here\n",
    "# You can also use any function that was defined before\n"
   ]
  },
  {
   "cell_type": "markdown",
   "id": "aff61e44",
   "metadata": {},
   "source": [
    "### 2. Open the fits file and explore it"
   ]
  },
  {
   "cell_type": "code",
   "execution_count": 32,
   "id": "c4f8f628",
   "metadata": {},
   "outputs": [],
   "source": [
    "# You can copy, paste and modify the code corresponding to this part that we used for the SMC cloud here\n",
    "# You can also use any function that was defined before\n"
   ]
  },
  {
   "cell_type": "markdown",
   "id": "98411ab7",
   "metadata": {},
   "source": [
    "### 3. Save the data to your local computer"
   ]
  },
  {
   "cell_type": "code",
   "execution_count": 33,
   "id": "3e4a8c5e",
   "metadata": {},
   "outputs": [],
   "source": [
    "# You can copy, paste and modify the code corresponding to this part that we used for the SMC cloud here\n",
    "# You can also use any function that was defined before\n"
   ]
  },
  {
   "cell_type": "markdown",
   "id": "2e48757b",
   "metadata": {},
   "source": [
    "## Additional Resources"
   ]
  },
  {
   "cell_type": "markdown",
   "id": "5516ade8",
   "metadata": {},
   "source": [
    "For more information about the MAST archive and details about mission data: \n",
    "\n",
    "<a href=\"https://mast.stsci.edu/api/v0/index.html\">MAST API</a> <br>\n",
    "<a href=\"https://archive.stsci.edu/iue/\">International Ultraviolet Explorer Page (MAST)</a> <br>\n",
    "<a href=\"https://archive.stsci.edu/iue/mdr_help.html\">IUE Data Retrieval Help Page</a> \n",
    "\n",
    "For more information about extinction curves and their parametrization:\n",
    "\n",
    "\n",
    "<a href=\"https://ui.adsabs.harvard.edu/abs/2003ApJ...594..279G/abstract\">A quantitative comparison of SMC, LMC and Milky Way UV to NIR extinction curves</a> <br>\n",
    "<a href=\"https://adsabs.harvard.edu/pdf/1990ApJS...72..163F\">An analysis of the shapes of the ultraviolet extinction curves. III. An atlas of ultraviolet extinction curves</a> "
   ]
  },
  {
   "cell_type": "markdown",
   "id": "db295f01",
   "metadata": {},
   "source": [
    "## About this Notebook"
   ]
  },
  {
   "cell_type": "markdown",
   "id": "0dd89314",
   "metadata": {},
   "source": [
    "**Author**: Clara Puerto Sánchez <br>\n",
    "**Updated on**: 06/07/2022"
   ]
  },
  {
   "cell_type": "markdown",
   "id": "e32d8f1d",
   "metadata": {},
   "source": [
    "## Citations"
   ]
  },
  {
   "cell_type": "markdown",
   "id": "5035e4e7",
   "metadata": {},
   "source": [
    "If you use `astropy`, `numpy` or `scipy` for published research, please cite the\n",
    "authors. Follow these links for more information about citing them:\n",
    "\n",
    "* [Citing `astropy`](https://www.astropy.org/acknowledging.html)\n",
    "* [Citing `numpy`](https://numpy.org/citing-numpy/)\n",
    "* [Citing `scipy`](https://scipy.org/citing-scipy/)"
   ]
  },
  {
   "cell_type": "markdown",
   "id": "9fa1f3e8",
   "metadata": {},
   "source": [
    "<img style=\"float: right;\" src=\"https://raw.githubusercontent.com/spacetelescope/notebooks/master/assets/stsci_pri_combo_mark_horizonal_white_bkgd.png\" alt=\"Space Telescope Logo\" width=\"200px\"/>"
   ]
  }
 ],
 "metadata": {
  "kernelspec": {
   "display_name": "Python 3",
   "language": "python",
   "name": "python3"
  },
  "language_info": {
   "codemirror_mode": {
    "name": "ipython",
    "version": 3
   },
   "file_extension": ".py",
   "mimetype": "text/x-python",
   "name": "python",
   "nbconvert_exporter": "python",
   "pygments_lexer": "ipython3",
   "version": "3.8.8"
  }
 },
 "nbformat": 4,
 "nbformat_minor": 5
}
