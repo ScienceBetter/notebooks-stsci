{
 "cells": [
  {
   "cell_type": "markdown",
   "id": "929b4d77",
   "metadata": {},
   "source": [
    "# Exploring UV extinction curves"
   ]
  },
  {
   "cell_type": "markdown",
   "id": "b0814342",
   "metadata": {},
   "source": [
    "## Learning Goals"
   ]
  },
  {
   "cell_type": "markdown",
   "id": "710a34c2",
   "metadata": {},
   "source": [
    "By the end of this turorial, you will be able to:\n",
    "\n",
    "- Understand what a UV extinction curve is and how it is used to study dust properties\n",
    "- Create your own UV extinction curve\n",
    "- Learn the difference in the trend for curves corresponding to the Small and Large Magellanic Clouds (LMC and SMC) "
   ]
  },
  {
   "cell_type": "markdown",
   "id": "e290a367",
   "metadata": {},
   "source": [
    "## Introduction"
   ]
  },
  {
   "cell_type": "markdown",
   "id": "fbc2060f",
   "metadata": {},
   "source": [
    "**Extinction curve background**: An extinction curve represents the wavelength dependence of dust extinction. It compares the inherent Spectral Energy Distribution (SED) (~dust-free) of a star to the observed SED affected by dust extinction. Normally these curves are created by representing $k(\\lambda-V)$ versus $1/\\lambda$, with $\\lambda$ being wavelength and $k(\\lambda-V)$:\n",
    "\n",
    "   $k(\\lambda-V)$ = $\\frac{E(\\lambda-V)}{E(B-V)}$ = $\\frac{m(\\lambda-V)-m(\\lambda-V)_o}{(B-V)-(B-V)_o}$\n",
    "\n",
    "With the $x_o$ terms refering to the star that is nearly unaffected by dust. In order to perform this comparison, the stars should the same spectral type. \n",
    "\n",
    "**Defining some terms**:\n",
    "\n",
    "- **Color index**: difference between magnitude of a star in 2 different passbands, typically B and V. Symbol: $(B-V)$\n",
    "- **Spectral type**: stellar classification from hotter (O stars) to cooler (M stars). Temperature defines a star's \"color\" and surface brightness.\n",
    "- **FITS file**: Flexible Image Transport System. File often used in astronomy to store images and tables."
   ]
  },
  {
   "cell_type": "markdown",
   "id": "5920e02e",
   "metadata": {},
   "source": [
    "## Imports "
   ]
  },
  {
   "cell_type": "markdown",
   "id": "36f71271",
   "metadata": {},
   "source": [
    "The first step will be to import the libraries we will be using throughout this tutorial: \n",
    "\n",
    "- _Observations_ from _astroquery.mast_ to query the Barbara A. Mikulski Archive for Space Telescopes (MAST).\n",
    "- _fits_ from _astropy.io_ for accessing FITS files\n",
    "- _matplotlib.pyplot_ for plotting data\n",
    "- _numpy_ for array manipulations"
   ]
  },
  {
   "cell_type": "code",
   "execution_count": null,
   "id": "5fa17d07",
   "metadata": {},
   "outputs": [],
   "source": [
    "from astroquery.mast import Observations\n",
    "from astropy.io import fits\n",
    "import matplotlib.pyplot as plt\n",
    "import numpy as np"
   ]
  },
  {
   "cell_type": "markdown",
   "id": "6afd250c",
   "metadata": {},
   "source": [
    "**Warning**: If you have not installed the astroquery package in your computer, you may need to. Information about astroquery can be found <a href=\"https://astroquery.readthedocs.io/en/latest/\">here</a>."
   ]
  },
  {
   "cell_type": "markdown",
   "id": "d934e696",
   "metadata": {},
   "source": [
    "## Main content"
   ]
  },
  {
   "cell_type": "markdown",
   "id": "7a11267b",
   "metadata": {},
   "source": [
    "### Loading data"
   ]
  },
  {
   "cell_type": "markdown",
   "id": "d3c60d39",
   "metadata": {},
   "source": [
    "The next step is to find the data file we will use. This is similar to searching through the <a href=\"https://mast.stsci.edu/portal/Mashup/Clients/Mast/Portal.html\">MAST portal</a> since we will be using specific keywords to find the file. The target name of the first star we will be studying is swp10321, collected by International Ultraviolet Explorer (IUE). "
   ]
  },
  {
   "cell_type": "code",
   "execution_count": null,
   "id": "be80001c",
   "metadata": {},
   "outputs": [],
   "source": [
    "IUEobs = Observations.query_criteria(obs_collection=\"IUE\", obs_id=\"swp10321\")\n",
    "data_products = Observations.get_product_list(IUEobs)\n",
    "yourProd = Observations.filter_products(data_products, extension='swp10321mxlo_vo.fits')\n",
    "\n",
    "yourProd"
   ]
  },
  {
   "cell_type": "markdown",
   "id": "1e95d6f9",
   "metadata": {},
   "source": [
    "Now that we have the data file, we can download it using the information contained in the table shown above:"
   ]
  },
  {
   "cell_type": "code",
   "execution_count": null,
   "id": "dc8b82ce",
   "metadata": {},
   "outputs": [],
   "source": [
    "Observations.download_products(yourProd, mrp_only = False, cache = False) "
   ]
  },
  {
   "cell_type": "markdown",
   "id": "867393ad",
   "metadata": {},
   "source": [
    "By clicking on the URL displayed above you will be able to download the file and continue with this tutorial."
   ]
  },
  {
   "cell_type": "markdown",
   "id": "73889127",
   "metadata": {},
   "source": [
    "### File information"
   ]
  },
  {
   "cell_type": "code",
   "execution_count": null,
   "id": "8082e4df",
   "metadata": {},
   "outputs": [],
   "source": [
    "filename = \"./mastDownload/IUE/swp10321/swp10321mxlo_vo.fits\"\n",
    "fits.info(filename)"
   ]
  },
  {
   "cell_type": "markdown",
   "id": "aab81955",
   "metadata": {},
   "source": [
    "- **No. 0 (PRIMARY)**: This HDU contains meta-data related to the entire file.\n",
    "- **No. 1 (Spectral Container)**: This HDU contains "
   ]
  },
  {
   "cell_type": "code",
   "execution_count": null,
   "id": "897a2252",
   "metadata": {},
   "outputs": [],
   "source": [
    "with fits.open(filename) as hdulist: \n",
    "    header1 = hdulist[1].header\n",
    "  \n",
    "print(repr(header1[54:61]))"
   ]
  },
  {
   "cell_type": "code",
   "execution_count": null,
   "id": "48aeef46",
   "metadata": {},
   "outputs": [],
   "source": [
    "with fits.open(filename) as hdulist:\n",
    "    data0 = hdulist[1].data\n",
    "\n",
    "wav = data0[0][0]\n",
    "flux = data0[0][1]\n",
    "\n",
    "fig = plt.figure()\n",
    "ax = plt.subplot(111)\n",
    "\n",
    "plt.plot(wav,flux)\n",
    "\n",
    "ax.set_xlabel('Wavelength ($\\AA$)')\n",
    "ax.set_ylabel(r'Flux (ergs $cm^{-2}$ $s^{-1}$ $\\AA^{-1}$)')\n",
    "ax.set_xlim([1150, 2000])\n",
    "ax.set_ylim([0, 2e-13])\n",
    "\n",
    "plt.show()"
   ]
  },
  {
   "cell_type": "code",
   "execution_count": null,
   "id": "781f9315",
   "metadata": {},
   "outputs": [],
   "source": [
    "wavinv = 1/(wav*1e-4)\n",
    "\n",
    "fig = plt.figure()\n",
    "ax = plt.subplot(111)\n",
    "\n",
    "plt.plot(wavinv,np.log10(flux))\n",
    "\n",
    "ax.set_xlabel('1/$\\lambda$ ($\\mu m^{-1}$)')\n",
    "ax.set_ylabel(r'log(Flux (ergs $cm^{-2}$ $s^{-1}$ $\\AA^{-1}$))')\n",
    "ax.set_xlim([3, 8])\n",
    "ax.set_ylim([-13.2, -11.8])\n",
    "\n",
    "plt.show()"
   ]
  },
  {
   "cell_type": "markdown",
   "id": "33e3ecb0",
   "metadata": {},
   "source": [
    "## Exercises"
   ]
  },
  {
   "cell_type": "code",
   "execution_count": null,
   "id": "e3a6c05b",
   "metadata": {},
   "outputs": [],
   "source": [
    "35/"
   ]
  },
  {
   "cell_type": "markdown",
   "id": "2e48757b",
   "metadata": {},
   "source": [
    "## Additional Resources"
   ]
  },
  {
   "cell_type": "markdown",
   "id": "db295f01",
   "metadata": {},
   "source": [
    "## About this Notebook"
   ]
  },
  {
   "cell_type": "markdown",
   "id": "0dd89314",
   "metadata": {},
   "source": [
    "**Author**: Clara Puerto Sánchez, ScienceBetter consultant <br>\n",
    "**Updated on**: 06/06/2022"
   ]
  },
  {
   "cell_type": "markdown",
   "id": "e32d8f1d",
   "metadata": {},
   "source": [
    "## Citations"
   ]
  },
  {
   "cell_type": "markdown",
   "id": "9fa1f3e8",
   "metadata": {},
   "source": [
    "<img style=\"float: right;\" src=\"https://raw.githubusercontent.com/spacetelescope/notebooks/master/assets/stsci_pri_combo_mark_horizonal_white_bkgd.png\" alt=\"Space Telescope Logo\" width=\"200px\"/>"
   ]
  }
 ],
 "metadata": {
  "kernelspec": {
   "display_name": "Python 3",
   "language": "python",
   "name": "python3"
  },
  "language_info": {
   "codemirror_mode": {
    "name": "ipython",
    "version": 3
   },
   "file_extension": ".py",
   "mimetype": "text/x-python",
   "name": "python",
   "nbconvert_exporter": "python",
   "pygments_lexer": "ipython3",
   "version": "3.8.8"
  }
 },
 "nbformat": 4,
 "nbformat_minor": 5
}
