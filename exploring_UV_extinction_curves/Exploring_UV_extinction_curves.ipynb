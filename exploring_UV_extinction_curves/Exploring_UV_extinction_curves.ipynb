{
 "cells": [
  {
   "cell_type": "markdown",
   "id": "929b4d77",
   "metadata": {},
   "source": [
    "# Exploring UV extinction curves"
   ]
  },
  {
   "cell_type": "markdown",
   "id": "b0814342",
   "metadata": {},
   "source": [
    "## Learning Goals"
   ]
  },
  {
   "cell_type": "markdown",
   "id": "710a34c2",
   "metadata": {},
   "source": [
    "By the end of this turorial, you will be able to:\n",
    "\n",
    "- Understand what a UV extinction curve is and how it is used to study dust properties\n",
    "- Create your own UV extinction curve\n",
    "- Learn the difference in the trend for curves corresponding to the Small and Large Magellanic Clouds (LMC and SMC) "
   ]
  },
  {
   "cell_type": "markdown",
   "id": "e290a367",
   "metadata": {},
   "source": [
    "## Introduction"
   ]
  },
  {
   "cell_type": "markdown",
   "id": "fbc2060f",
   "metadata": {},
   "source": [
    "**Extinction curve background**: An extinction curve represents the wavelength dependence of dust extinction. It compares the inherent Spectral Energy Distribution (SED) (~dust-free) of a star to the observed SED affected by dust extinction. Normally these curves are created by representing $k(\\lambda-V)$ versus $1/\\lambda$, with $\\lambda$ being wavelength and $k(\\lambda-V)$:\n",
    "\n",
    "   $k(\\lambda-V)$ = $\\frac{E(\\lambda-V)}{E(B-V)}$ = $\\frac{m(\\lambda-V)-m(\\lambda-V)_o}{(B-V)-(B-V)_o}$ = $\\frac{A(\\lambda)-A(V)}{A(B)-A(V)}$\n",
    "\n",
    "With the $x_o$ terms refering to the star that is nearly unaffected by dust. In order to perform this comparison, the stars should have the same spectral type. \n",
    "\n",
    "**Defining some terms**:\n",
    "\n",
    "- **Color index**: difference between magnitude of a star in 2 different passbands, typically B and V. Symbol: $(B-V)$.\n",
    "- **Extinction**: measure of interstellar reddening quantified by the difference in magnitudes. Symbol: $A_\\lambda$.\n",
    "- **Spectral type**: stellar classification from hotter (O stars) to cooler (M stars). Temperature defines a star's \"color\" and surface brightness.\n",
    "- **FITS file**: Flexible Image Transport System. File often used in astronomy to store images and tables."
   ]
  },
  {
   "cell_type": "markdown",
   "id": "5920e02e",
   "metadata": {},
   "source": [
    "## Imports "
   ]
  },
  {
   "cell_type": "markdown",
   "id": "36f71271",
   "metadata": {},
   "source": [
    "The first step will be to import the libraries we will be using throughout this tutorial: \n",
    "\n",
    "- _Observations_ from _astroquery.mast_ to query the Barbara A. Mikulski Archive for Space Telescopes (MAST).\n",
    "- _fits_ from _astropy.io_ for accessing FITS files\n",
    "- _matplotlib.pyplot_ for plotting data\n",
    "- _numpy_ for array manipulations"
   ]
  },
  {
   "cell_type": "code",
   "execution_count": null,
   "id": "5fa17d07",
   "metadata": {},
   "outputs": [],
   "source": [
    "from astroquery.mast import Observations\n",
    "from astropy.io import fits\n",
    "import matplotlib.pyplot as plt\n",
    "import numpy as np"
   ]
  },
  {
   "cell_type": "markdown",
   "id": "6afd250c",
   "metadata": {},
   "source": [
    "**Warning**: If you have not installed the astroquery package in your computer, you may need to. Information about astroquery can be found <a href=\"https://astroquery.readthedocs.io/en/latest/\">here</a>."
   ]
  },
  {
   "cell_type": "markdown",
   "id": "d934e696",
   "metadata": {},
   "source": [
    "## Main content"
   ]
  },
  {
   "cell_type": "markdown",
   "id": "7a11267b",
   "metadata": {},
   "source": [
    "### Loading data"
   ]
  },
  {
   "cell_type": "markdown",
   "id": "d3c60d39",
   "metadata": {},
   "source": [
    "The next step is to find the data file we will use. This is similar to searching through the <a href=\"https://mast.stsci.edu/portal/Mashup/Clients/Mast/Portal.html\">MAST portal</a> since we will be using specific keywords to find the file. The target name of the first star we will be studying is AzV 214 (observation ID: swp22372), collected by International Ultraviolet Explorer (IUE). This will be the reddened star by dust. "
   ]
  },
  {
   "cell_type": "code",
   "execution_count": null,
   "id": "be80001c",
   "metadata": {},
   "outputs": [],
   "source": [
    "IUEobs = Observations.query_criteria(obs_collection=\"IUE\", obs_id=\"swp22372\")\n",
    "data_products = Observations.get_product_list(IUEobs)\n",
    "yourProd = Observations.filter_products(data_products, extension='swp22372mxlo_vo.fits')\n",
    "\n",
    "yourProd"
   ]
  },
  {
   "cell_type": "markdown",
   "id": "1e95d6f9",
   "metadata": {},
   "source": [
    "Now that we have the data file, we can download it using the information contained in the table shown above by doing:"
   ]
  },
  {
   "cell_type": "code",
   "execution_count": null,
   "id": "dc8b82ce",
   "metadata": {},
   "outputs": [],
   "source": [
    "Observations.download_products(yourProd, mrp_only = False, cache = False) "
   ]
  },
  {
   "cell_type": "markdown",
   "id": "867393ad",
   "metadata": {},
   "source": [
    "If the download does not happen automatically, by clicking on the URL displayed above you will be able to download the file. In order to have a more complete image of our target, let's download a different observation for the same object, but in a different wavelength range, we can use the following observation ID: lwr17263 (this is still AzV 214)."
   ]
  },
  {
   "cell_type": "code",
   "execution_count": null,
   "id": "aab04b05",
   "metadata": {},
   "outputs": [],
   "source": [
    "IUEobs2 = Observations.query_criteria(obs_collection=\"IUE\", obs_id=\"lwr17263\")\n",
    "data_products2 = Observations.get_product_list(IUEobs2)\n",
    "yourProd2 = Observations.filter_products(data_products2, extension='lwr17263mxlo_vo.fits')\n",
    "Observations.download_products(yourProd2, mrp_only = False, cache = False) "
   ]
  },
  {
   "cell_type": "markdown",
   "id": "a395c08c",
   "metadata": {},
   "source": [
    "Now let's do the same for the unreddened star. The target name of this star is AzV 380 (observation IDs: swp10319, lwr17265) and was also collected by IUE."
   ]
  },
  {
   "cell_type": "code",
   "execution_count": null,
   "id": "b507c046",
   "metadata": {},
   "outputs": [],
   "source": [
    "IUEobs3 = Observations.query_criteria(obs_collection=\"IUE\", obs_id=\"swp10319\")\n",
    "data_products3 = Observations.get_product_list(IUEobs3)\n",
    "yourProd3 = Observations.filter_products(data_products3, extension='swp10319mxlo_vo.fits')\n",
    "Observations.download_products(yourProd3, mrp_only = False, cache = False) \n",
    "\n",
    "IUEobs4 = Observations.query_criteria(obs_collection=\"IUE\", obs_id=\"lwr17265\")\n",
    "data_products4 = Observations.get_product_list(IUEobs4)\n",
    "yourProd4 = Observations.filter_products(data_products4, extension='lwr17265mxlo_vo.fits')\n",
    "Observations.download_products(yourProd4, mrp_only = False, cache = False) "
   ]
  },
  {
   "cell_type": "markdown",
   "id": "acf23366",
   "metadata": {},
   "source": [
    "Again, if the download does not happen automatically, by clicking on the URLs displayed above, you will be able to download the necessary data to continue this tutorial."
   ]
  },
  {
   "cell_type": "markdown",
   "id": "73889127",
   "metadata": {},
   "source": [
    "### File information"
   ]
  },
  {
   "cell_type": "markdown",
   "id": "7705ab97",
   "metadata": {},
   "source": [
    "Now, let's explore the FITS file that we got for the reddened star."
   ]
  },
  {
   "cell_type": "code",
   "execution_count": null,
   "id": "8082e4df",
   "metadata": {},
   "outputs": [],
   "source": [
    "filename = \"./mastDownload/IUE/swp22372/swp22372mxlo_vo.fits\"\n",
    "fits.info(filename)"
   ]
  },
  {
   "cell_type": "markdown",
   "id": "aab81955",
   "metadata": {},
   "source": [
    "- **No. 0 (PRIMARY)**: This HDU contains meta-data related to the entire file.\n",
    "- **No. 1 (Spectral Container)**: This HDU contains the spectral profile of the target as a function of wavelength.\n",
    "\n",
    "The header of the file contains additional information about the data, such as the wavelength reference frame or the reference equinox. It can be accessed in the following way (only some part of the information contained in the header is printed in this section, the user is encouraged to print the complete header if they are interested to see the whole information contained in it)."
   ]
  },
  {
   "cell_type": "code",
   "execution_count": null,
   "id": "897a2252",
   "metadata": {},
   "outputs": [],
   "source": [
    "with fits.open(filename) as hdulist: \n",
    "    header1 = hdulist[1].header\n",
    "\n",
    "print(repr(header1[54:61]))"
   ]
  },
  {
   "cell_type": "markdown",
   "id": "1195669c",
   "metadata": {},
   "source": [
    "The data contained in this fits failed can be accessed as shown below:"
   ]
  },
  {
   "cell_type": "code",
   "execution_count": null,
   "id": "781f9315",
   "metadata": {
    "scrolled": true
   },
   "outputs": [],
   "source": [
    "with fits.open(filename) as hdulist:\n",
    "    data0 = hdulist[1].data\n",
    "\n",
    "wav = data0[0][0] # angstrom, A\n",
    "flux = data0[0][1] # ergs/cm2/sec/A"
   ]
  },
  {
   "cell_type": "markdown",
   "id": "7a84bc06",
   "metadata": {},
   "source": [
    "Let's do the same for the other files and plot the logarithm of their flux versus the inverse of the wavelength, as it is normally done in this type of studies."
   ]
  },
  {
   "cell_type": "code",
   "execution_count": null,
   "id": "55d2e044",
   "metadata": {},
   "outputs": [],
   "source": [
    "filename2 = \"./mastDownload/IUE/lwr17263/lwr17263mxlo_vo.fits\"\n",
    "with fits.open(filename2) as hdulist:\n",
    "    data2 = hdulist[1].data\n",
    "\n",
    "wav2 = data2[0][0] # A\n",
    "flux2 = data2[0][1] # ergs/cm2/sec/A\n",
    "\n",
    "filename3 = \"./mastDownload/IUE/swp10319/swp10319mxlo_vo.fits\"\n",
    "with fits.open(filename3) as hdulist:\n",
    "    data3 = hdulist[1].data\n",
    "\n",
    "wav3 = data3[0][0] # A\n",
    "flux3 = data3[0][1] # ergs/cm2/sec/A\n",
    "\n",
    "filename4 = \"./mastDownload/IUE/lwr17265/lwr17265mxlo_vo.fits\"\n",
    "with fits.open(filename4) as hdulist:\n",
    "    data4 = hdulist[1].data\n",
    "\n",
    "wav4 = data4[0][0] # A\n",
    "flux4 = data4[0][1] # ergs/cm2/sec/A\n",
    "\n",
    "wavinv = 1/(wav*1e-4) # mu-m ^-1\n",
    "wavinv2 = 1/(wav2*1e-4) # mu-m ^-1\n",
    "wavinv3 = 1/(wav3*1e-4) # mu-m ^-1\n",
    "wavinv4 = 1/(wav4*1e-4) # mu-m ^-1\n",
    "\n",
    "fig = plt.figure()\n",
    "ax = plt.subplot(111)\n",
    "\n",
    "plt.plot(wavinv,np.log10(flux),'r',label='swp22372')\n",
    "plt.plot(wavinv2,np.log10(flux2),'r:',label='lwr17263')\n",
    "plt.text(4, -12.8, 'AzV 214', fontsize = 11)\n",
    "plt.plot(wavinv3,np.log10(flux3),'b',label='swp10319')\n",
    "plt.plot(wavinv4,np.log10(flux4),'b:',label='lwr17265')\n",
    "plt.text(7, -13.4, 'AzV 380', fontsize = 11)\n",
    "\n",
    "ax.set_xlabel('1/$\\lambda$ ($\\mu m^{-1}$)')\n",
    "ax.set_ylabel(r'log(Flux (ergs $cm^{-2}$ $s^{-1}$ $\\AA^{-1}$))')\n",
    "ax.set_xlim([3, 8])\n",
    "ax.set_ylim([-14, -12.5])\n",
    "\n",
    "plt.legend(loc='best',frameon=False)\n",
    "\n",
    "plt.show()"
   ]
  },
  {
   "cell_type": "markdown",
   "id": "e1c55ae1",
   "metadata": {},
   "source": [
    "**Heads-up**: when plotting the figure, you may get some warning messages, this are normal and do not mean you are doing it wrong, python may have just run into some non-logarithm friendly values, but we can still work with this data!\n",
    "\n",
    "Let's now use <a href=\"http://simbad.cds.unistra.fr/simbad/\">SIMBAD</a> database to look for the fluxes in the B and V bands for both stars. We can do a simple query using the identifier of both stars. The magnitudes can be found under the 8th subgroup presented below the name of the stars, called 'Fluxes', since SIMBAD can provide you with either the flux or the magnitude of the star in those bands.\n",
    "\n",
    "- AzV 214: $m_V = 13.39$, $m_B = 13.40$.\n",
    "- AzV 380: $m_V = 13.53$, $m_B = 13.43$.\n",
    "\n",
    "From these values we can directly calculate the value of $E(B-V) = (B-V)-(B-V)_o$."
   ]
  },
  {
   "cell_type": "code",
   "execution_count": null,
   "id": "34375fd3",
   "metadata": {},
   "outputs": [],
   "source": [
    "V_214 = 13.39\n",
    "B_214 = 13.40\n",
    "\n",
    "V_380 = 13.53\n",
    "B_380 = 13.43\n",
    "\n",
    "E_B_V = (B_214-V_214)-(B_380-V_380)\n",
    "\n",
    "print(\"The value of E(B-V) is equal to\",E_B_V)"
   ]
  },
  {
   "cell_type": "markdown",
   "id": "09302892",
   "metadata": {},
   "source": [
    "So finally, let's plot the extinction curve!"
   ]
  },
  {
   "cell_type": "code",
   "execution_count": null,
   "id": "558c6401",
   "metadata": {},
   "outputs": [],
   "source": [
    "plt.figure()\n",
    "plt.plot(wavinv,np.abs((np.log(flux/flux3)-np.log(V_214/V_380))/E_B_V),'o',markersize=2)\n",
    "plt.plot(wavinv4,np.abs((np.log(flux2/flux4)-np.log(V_214/V_380))/E_B_V),'o',markersize=2)\n",
    "plt.xlim([3,8])\n",
    "plt.ylim([0,12])\n",
    "plt.xlabel(r'$1/\\lambda$ $[\\mu m^{-1}]$')\n",
    "plt.ylabel(r'$E(\\lambda-V)/E(B-V)$')\n",
    "plt.title('AzV 214')\n",
    "plt.show()"
   ]
  },
  {
   "cell_type": "markdown",
   "id": "6da421eb",
   "metadata": {},
   "source": [
    "This is the typical shape encountered for extinction curves corresponding to the Small Magellanic Cloud (SMC), as can be seen in this <a href=\"https://arxiv.org/pdf/astro-ph/0305257.pdf\">article</a>. \n",
    "\n",
    "In the article the extinction curve corresponding to AzV 398 can also be found, in addition to a parametrization of the extinction curve that could be applied to these data points as an extension of this project."
   ]
  },
  {
   "cell_type": "markdown",
   "id": "33e3ecb0",
   "metadata": {},
   "source": [
    "## Exercises"
   ]
  },
  {
   "cell_type": "markdown",
   "id": "e4d71df9",
   "metadata": {},
   "source": [
    "Now you can try to do it yourself! Try to obtain the extinction curve of a Large Magellanic Cloud (LMC) following the steps presented for the SMC one and look for the differences in the trend between the two.\n",
    "\n",
    "### Load the data\n",
    "\n",
    "The targets for this exercise will be:\n",
    "\n",
    "- Sk -69 206 (Observation IDs: swp36552,lwp15751) (reddened star)\n",
    "- Sk -67 5 (Observation IDs: swp04827,lwr04170) (unreddened star)\n",
    "\n",
    "First, do the database search for the reddened star:"
   ]
  },
  {
   "cell_type": "code",
   "execution_count": null,
   "id": "63902b4f",
   "metadata": {},
   "outputs": [],
   "source": [
    "# You can copy, paste and modify the code corresponding to this part that we used for the SMC cloud here\n",
    "IUEobs = Observations.query_criteria(obs_collection=\"IUE\", obs_id=\"swp36552\")\n",
    "data_products = Observations.get_product_list(IUEobs)\n",
    "yourProd = Observations.filter_products(data_products, extension=\"swp36552mxlo_vo.fits\")\n",
    "\n",
    "yourProd"
   ]
  },
  {
   "cell_type": "markdown",
   "id": "7aedb721",
   "metadata": {},
   "source": [
    "Now, download the data as before:"
   ]
  },
  {
   "cell_type": "code",
   "execution_count": null,
   "id": "85cf856d",
   "metadata": {},
   "outputs": [],
   "source": [
    "# You can copy, paste and modify the code corresponding to this part that we used for the SMC cloud here\n",
    "Observations.download_products(yourProd, mrp_only = False, cache = False) "
   ]
  },
  {
   "cell_type": "markdown",
   "id": "1a9e18ee",
   "metadata": {},
   "source": [
    "And again, in order to cover a wider wavelength range, let's also download the other part of the spectra using the second observation ID provided:"
   ]
  },
  {
   "cell_type": "code",
   "execution_count": null,
   "id": "80ed0693",
   "metadata": {},
   "outputs": [],
   "source": [
    "# You can copy, paste and modify the code corresponding to this part that we used for the SMC cloud here\n",
    "IUEobs2 = Observations.query_criteria(obs_collection=\"IUE\", obs_id=\"lwp15751\")\n",
    "data_products2 = Observations.get_product_list(IUEobs2)\n",
    "yourProd2 = Observations.filter_products(data_products2, extension=\"lwp15751mxlo_vo.fits\")\n",
    "Observations.download_products(yourProd2, mrp_only = False, cache = False) "
   ]
  },
  {
   "cell_type": "markdown",
   "id": "fd0fbf61",
   "metadata": {},
   "source": [
    "Now, let's do the same for the unreddened star:"
   ]
  },
  {
   "cell_type": "code",
   "execution_count": null,
   "id": "2fe4d8ea",
   "metadata": {},
   "outputs": [],
   "source": [
    "# You can copy, paste and modify the code corresponding to this part that we used for the SMC cloud here\n",
    "IUEobs3 = Observations.query_criteria(obs_collection=\"IUE\", obs_id=\"swp04827\")\n",
    "data_products3 = Observations.get_product_list(IUEobs3)\n",
    "yourProd3 = Observations.filter_products(data_products3, extension=\"swp04827mxlo_vo.fits\")\n",
    "Observations.download_products(yourProd3, mrp_only = False, cache = False) "
   ]
  },
  {
   "cell_type": "code",
   "execution_count": null,
   "id": "b786b210",
   "metadata": {},
   "outputs": [],
   "source": [
    "# You can copy, paste and modify the code corresponding to this part that we used for the SMC cloud here\n",
    "IUEobs4 = Observations.query_criteria(obs_collection=\"IUE\", obs_id=\"lwr04170\")\n",
    "data_products4 = Observations.get_product_list(IUEobs4)\n",
    "yourProd4 = Observations.filter_products(data_products4, extension=\"lwr04170mxlo_vo.fits\")\n",
    "Observations.download_products(yourProd4, mrp_only = False, cache = False) "
   ]
  },
  {
   "cell_type": "markdown",
   "id": "aff61e44",
   "metadata": {},
   "source": [
    "### Open the fits file, explore it and save the data"
   ]
  },
  {
   "cell_type": "code",
   "execution_count": null,
   "id": "c4f8f628",
   "metadata": {},
   "outputs": [],
   "source": [
    "# You can copy, paste and modify the code corresponding to this part that we used for the SMC cloud here\n",
    "filename = \"./mastDownload/IUE/swp36552/swp36552mxlo_vo.fits\"\n",
    "fits.info(filename)\n",
    "\n",
    "with fits.open(filename) as hdulist:\n",
    "    data1 = hdulist[1].data\n",
    "\n",
    "wav = data1[0][0] # A\n",
    "flux = data1[0][1] # ergs/cm2/sec/A\n",
    "\n",
    "wavinv = 1/(wav*1e-4) # mu-m\n",
    "\n",
    "filename2 = \"./mastDownload/IUE/lwp15751/lwp15751mxlo_vo.fits\"\n",
    "fits.info(filename2)\n",
    "\n",
    "with fits.open(filename2) as hdulist:\n",
    "    data2 = hdulist[1].data\n",
    "\n",
    "wav2 = data2[0][0] # A\n",
    "flux2 = data2[0][1] # ergs/cm2/sec/A\n",
    "\n",
    "wavinv2 = 1/(wav2*1e-4) # mu-m\n",
    "\n",
    "filename3 = \"./mastDownload/IUE/swp04827/swp04827mxlo_vo.fits\"\n",
    "fits.info(filename3)\n",
    "\n",
    "with fits.open(filename3) as hdulist:\n",
    "    data3 = hdulist[1].data\n",
    "\n",
    "wav3 = data3[0][0] # A\n",
    "flux3 = data3[0][1] # ergs/cm2/sec/A\n",
    "\n",
    "wavinv3 = 1/(wav3*1e-4) # mu-m\n",
    "\n",
    "filename4 = \"./mastDownload/IUE/lwr04170/lwr04170mxlo_vo.fits\"\n",
    "fits.info(filename4)\n",
    "\n",
    "with fits.open(filename4) as hdulist:\n",
    "    data4 = hdulist[1].data\n",
    "\n",
    "wav4 = data4[0][0] # A\n",
    "flux4 = data4[0][1] # ergs/cm2/sec/A\n",
    "\n",
    "wavinv4 = 1/(wav4*1e-4) # mu-m"
   ]
  },
  {
   "cell_type": "markdown",
   "id": "c62b2de7",
   "metadata": {},
   "source": [
    "### Plot the spectra of both stars"
   ]
  },
  {
   "cell_type": "code",
   "execution_count": null,
   "id": "b5871133",
   "metadata": {},
   "outputs": [],
   "source": [
    "# You can copy, paste and modify the code corresponding to this part that we used for the SMC cloud here\n",
    "fig = plt.figure()\n",
    "ax = plt.subplot(111)\n",
    "\n",
    "plt.plot(wavinv,np.log10(flux),'r',label='swp36552')\n",
    "plt.plot(wavinv2,np.log10(flux2),'r:',label='lwp15751')\n",
    "plt.text(7, -14, 'Sk -69 206', fontsize = 11)\n",
    "plt.plot(wavinv3,np.log10(flux3),'b',label='swp04827')\n",
    "plt.plot(wavinv4,np.log10(flux4),'b:',label='lwr04170')\n",
    "plt.text(7, -11.2, 'Sk -67 5', fontsize = 11)\n",
    "\n",
    "ax.set_xlabel('1/$\\lambda$ ($\\mu m^{-1}$)')\n",
    "ax.set_ylabel(r'log(Flux (ergs $cm^{-2}$ $s^{-1}$ $\\AA^{-1}$))')\n",
    "ax.set_xlim([3, 8])\n",
    "ax.set_ylim([-15, -10.5])\n",
    "\n",
    "plt.legend(loc='best',frameon=False)\n",
    "\n",
    "plt.show()"
   ]
  },
  {
   "cell_type": "markdown",
   "id": "ac5bea1b",
   "metadata": {},
   "source": [
    "### Find the values for the B and V bands in SIMBAD"
   ]
  },
  {
   "cell_type": "code",
   "execution_count": null,
   "id": "c9f1792f",
   "metadata": {},
   "outputs": [],
   "source": [
    "# You can copy, paste and modify the code corresponding to this part that we used for the SMC cloud here\n",
    "V_69_206 = 12.82\n",
    "B_69_206 = 12.99\n",
    "\n",
    "V_67_5 = 11.377\n",
    "B_67_5 = 11.2\n",
    "\n",
    "E_B_V = (B_69_206-V_69_206)-(B_67_5-V_67_5)\n",
    "\n",
    "print(\"The value of E(B-V) is equal to\",E_B_V)"
   ]
  },
  {
   "cell_type": "markdown",
   "id": "dc24f43e",
   "metadata": {},
   "source": [
    "### Create the extinction curve"
   ]
  },
  {
   "cell_type": "code",
   "execution_count": null,
   "id": "df56b97a",
   "metadata": {
    "scrolled": true
   },
   "outputs": [],
   "source": [
    "# You can copy, paste and modify the code corresponding to this part that we used for the SMC cloud here\n",
    "plt.figure()\n",
    "plt.plot(wavinv,np.abs((np.log(flux/flux3)-np.log(12.12/11.0))/E_B_V),'o',markersize=2)\n",
    "plt.plot(wavinv2,np.abs((np.log(flux2/flux4)-np.log(12.12/11.0))/E_B_V),'o',markersize=2)\n",
    "plt.xlim([3,8])\n",
    "plt.ylim([3,13])\n",
    "plt.xlabel(r'$1/\\lambda$ $[\\mu m^{-1}]$')\n",
    "plt.ylabel(r'$E(\\lambda-V)/E(B-V)$')\n",
    "plt.title('Sk -69 206')\n",
    "plt.show()"
   ]
  },
  {
   "cell_type": "markdown",
   "id": "aa188035",
   "metadata": {},
   "source": [
    "Can you see the difference in the trend followed by the extinction curve between this case (LMC) and the one before (SMC)? More information about the different trends can be found in the following <a href=\"https://arxiv.org/pdf/astro-ph/0305257.pdf\">article</a>."
   ]
  },
  {
   "cell_type": "markdown",
   "id": "2e48757b",
   "metadata": {},
   "source": [
    "## Additional Resources"
   ]
  },
  {
   "cell_type": "markdown",
   "id": "5516ade8",
   "metadata": {},
   "source": [
    "For more information about the MAST archive and details about mission data: \n",
    "\n",
    "<a href=\"https://mast.stsci.edu/api/v0/index.html\">MAST API</a> <br>\n",
    "<a href=\"https://archive.stsci.edu/iue/\">International Ultraviolet Explorer Page (MAST)</a> <br>\n",
    "<a href=\"https://archive.stsci.edu/iue/mdr_help.html\">IUE Data Retrieval Help Page</a> \n",
    "\n",
    "For more information about extinction curves:\n",
    "\n",
    "\n",
    "<a href=\"https://mast.stsci.edu/api/v0/index.html\">A quantitative comparison of SMC, LMC and Milky Way UV to NIR extinction curves</a> <br>"
   ]
  },
  {
   "cell_type": "markdown",
   "id": "db295f01",
   "metadata": {},
   "source": [
    "## About this Notebook"
   ]
  },
  {
   "cell_type": "markdown",
   "id": "0dd89314",
   "metadata": {},
   "source": [
    "**Author**: Clara Puerto Sánchez, ScienceBetter consultant <br>\n",
    "**Updated on**: 19/06/2022"
   ]
  },
  {
   "cell_type": "markdown",
   "id": "e32d8f1d",
   "metadata": {},
   "source": [
    "## Citations"
   ]
  },
  {
   "cell_type": "markdown",
   "id": "5035e4e7",
   "metadata": {},
   "source": [
    "If you use `astropy`for published research, please cite the\n",
    "authors. Follow these links for more information about citing `astropy`:\n",
    "\n",
    "* [Citing `astropy`](https://www.astropy.org/acknowledging.html)"
   ]
  },
  {
   "cell_type": "markdown",
   "id": "9fa1f3e8",
   "metadata": {},
   "source": [
    "<img style=\"float: right;\" src=\"https://raw.githubusercontent.com/spacetelescope/notebooks/master/assets/stsci_pri_combo_mark_horizonal_white_bkgd.png\" alt=\"Space Telescope Logo\" width=\"200px\"/>"
   ]
  }
 ],
 "metadata": {
  "kernelspec": {
   "display_name": "Python 3",
   "language": "python",
   "name": "python3"
  },
  "language_info": {
   "codemirror_mode": {
    "name": "ipython",
    "version": 3
   },
   "file_extension": ".py",
   "mimetype": "text/x-python",
   "name": "python",
   "nbconvert_exporter": "python",
   "pygments_lexer": "ipython3",
   "version": "3.8.8"
  }
 },
 "nbformat": 4,
 "nbformat_minor": 5
}
