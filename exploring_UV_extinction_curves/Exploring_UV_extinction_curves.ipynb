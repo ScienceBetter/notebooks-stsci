{
 "cells": [
  {
   "cell_type": "markdown",
   "id": "929b4d77",
   "metadata": {},
   "source": [
    "# Exploring UV extinction curves"
   ]
  },
  {
   "cell_type": "markdown",
   "id": "b0814342",
   "metadata": {},
   "source": [
    "## Learning Goals"
   ]
  },
  {
   "cell_type": "markdown",
   "id": "710a34c2",
   "metadata": {},
   "source": [
    "By the end of this turorial, you will be able to:\n",
    "\n",
    "- Understand what a UV extinction curve is and how it is used to study dust properties\n",
    "- Create your own UV extinction curve\n",
    "- Learn how to parametrize a curve based on your UV extinction curve\n",
    "- Learn how to do Python functions\n",
    "- Discover the difference in the trend for curves corresponding to the Small and Large Magellanic Clouds (LMC and SMC)"
   ]
  },
  {
   "cell_type": "markdown",
   "id": "e290a367",
   "metadata": {},
   "source": [
    "## Introduction"
   ]
  },
  {
   "cell_type": "markdown",
   "id": "fbc2060f",
   "metadata": {},
   "source": [
    "**Extinction curve background**: An extinction curve represents the wavelength dependence of dust extinction. It compares the inherent Spectral Energy Distribution (SED) (~dust-free) of a star to the observed SED affected by dust extinction. Normally these curves are created by representing $k(\\lambda-V)$ versus $1/\\lambda$, with $\\lambda$ being wavelength and $k(\\lambda-V)$:\n",
    "\n",
    "   $k(\\lambda-V) = \\frac{E(\\lambda-V)}{E(B-V)} = \\frac{m(\\lambda-V)-m(\\lambda-V)_o}{(B-V)-(B-V)_o} = \\frac{A(\\lambda)-A(V)}{A(B)-A(V)}$\n",
    "\n",
    "With the $x_o$ terms refering to the star that is nearly unaffected by dust. In order to perform this comparison, the stars should have the same spectral type. \n",
    "\n",
    "**Defining some terms**:\n",
    "\n",
    "- **Color index**: difference between magnitude of a star in 2 different passbands, typically B and V. Symbol: $(B-V)$.\n",
    "- **Extinction**: measure of interstellar reddening quantified by the difference in magnitudes. Symbol: $A_\\lambda$.\n",
    "- **Spectral type**: stellar classification from hotter (O stars) to cooler (M stars). Temperature defines a star's \"color\" and surface brightness.\n",
    "- **FITS file**: Flexible Image Transport System. File often used in astronomy to store images and tables."
   ]
  },
  {
   "cell_type": "markdown",
   "id": "5920e02e",
   "metadata": {},
   "source": [
    "## Imports "
   ]
  },
  {
   "cell_type": "markdown",
   "id": "36f71271",
   "metadata": {},
   "source": [
    "The first step will be to import the libraries we will be using throughout this tutorial: \n",
    "\n",
    "- _Observations_ from _astroquery.mast_ to query the Barbara A. Mikulski Archive for Space Telescopes (MAST).\n",
    "- _Simbad_ from _astroquery.simbad_ to query the SIMBAD astronomical database.\n",
    "- _fits_ from _astropy.io_ for accessing FITS files\n",
    "- _matplotlib.pyplot_ for plotting data\n",
    "- _numpy_ for array manipulations\n",
    "- _curve_fit_ from scipy.optimize for data-fitting"
   ]
  },
  {
   "cell_type": "code",
   "execution_count": 1,
   "id": "5fa17d07",
   "metadata": {},
   "outputs": [],
   "source": [
    "from astroquery.mast import Observations\n",
    "from astroquery.simbad import Simbad\n",
    "from astropy.io import fits\n",
    "import matplotlib.pyplot as plt\n",
    "import numpy as np\n",
    "from scipy.optimize import curve_fit"
   ]
  },
  {
   "cell_type": "markdown",
   "id": "6afd250c",
   "metadata": {},
   "source": [
    "**Warning**: If you have not installed the astroquery package in your computer, you may need to. Information about astroquery can be found <a href=\"https://astroquery.readthedocs.io/en/latest/\">here</a>."
   ]
  },
  {
   "cell_type": "markdown",
   "id": "d934e696",
   "metadata": {},
   "source": [
    "## Main content"
   ]
  },
  {
   "cell_type": "markdown",
   "id": "7a11267b",
   "metadata": {},
   "source": [
    "### Loading data"
   ]
  },
  {
   "cell_type": "markdown",
   "id": "d3c60d39",
   "metadata": {},
   "source": [
    "The next step is to find the data file we will use. This is similar to searching through the <a href=\"https://mast.stsci.edu/portal/Mashup/Clients/Mast/Portal.html\">MAST portal</a> since we will be using specific keywords to find the file. The target name of the first star we will be studying is AzV 214 (observation ID: swp22372), collected by International Ultraviolet Explorer (IUE). This will be the reddened star by dust. "
   ]
  },
  {
   "cell_type": "code",
   "execution_count": 2,
   "id": "be80001c",
   "metadata": {},
   "outputs": [
    {
     "data": {
      "text/html": [
       "<div><i>Table masked=True length=1</i>\n",
       "<table id=\"table140684120033552\" class=\"table-striped table-bordered table-condensed\">\n",
       "<thead><tr><th>obsID</th><th>obs_collection</th><th>dataproduct_type</th><th>obs_id</th><th>description</th><th>type</th><th>dataURI</th><th>productType</th><th>productGroupDescription</th><th>productSubGroupDescription</th><th>productDocumentationURL</th><th>project</th><th>prvversion</th><th>proposal_id</th><th>productFilename</th><th>size</th><th>parent_obsid</th><th>dataRights</th><th>calib_level</th></tr></thead>\n",
       "<thead><tr><th>str6</th><th>str3</th><th>str8</th><th>str8</th><th>str56</th><th>str1</th><th>str62</th><th>str9</th><th>str28</th><th>str56</th><th>str1</th><th>str1</th><th>str1</th><th>str5</th><th>str20</th><th>int64</th><th>str6</th><th>str6</th><th>int64</th></tr></thead>\n",
       "<tr><td>318326</td><td>IUE</td><td>spectrum</td><td>swp22372</td><td>(extracted spectra/vo spectral container/SSAP) fits file</td><td>S</td><td>mast:IUE/url/pub/vospectra/iue2/swp22372mxlo_vo.fits</td><td>SCIENCE</td><td>Minimum Recommended Products</td><td>(extracted spectra/vo spectral container/SSAP) fits file</td><td>--</td><td>--</td><td>--</td><td>FM197</td><td>swp22372mxlo_vo.fits</td><td>48960</td><td>318326</td><td>PUBLIC</td><td>2</td></tr>\n",
       "</table></div>"
      ],
      "text/plain": [
       "<Table masked=True length=1>\n",
       "obsID  obs_collection dataproduct_type ... parent_obsid dataRights calib_level\n",
       " str6       str3            str8       ...     str6        str6       int64   \n",
       "------ -------------- ---------------- ... ------------ ---------- -----------\n",
       "318326            IUE         spectrum ...       318326     PUBLIC           2"
      ]
     },
     "execution_count": 2,
     "metadata": {},
     "output_type": "execute_result"
    }
   ],
   "source": [
    "IUEobs = Observations.query_criteria(obs_collection=\"IUE\", obs_id=\"swp22372\")\n",
    "data_products = Observations.get_product_list(IUEobs)\n",
    "yourProd = Observations.filter_products(data_products, extension='swp22372mxlo_vo.fits')\n",
    "\n",
    "yourProd"
   ]
  },
  {
   "cell_type": "markdown",
   "id": "1e95d6f9",
   "metadata": {},
   "source": [
    "Now that we have the data file, we can download it using the information contained in the table shown above by doing:"
   ]
  },
  {
   "cell_type": "code",
   "execution_count": 3,
   "id": "dc8b82ce",
   "metadata": {},
   "outputs": [
    {
     "name": "stdout",
     "output_type": "stream",
     "text": [
      "Downloading URL https://mast.stsci.edu/api/v0.1/Download/file?uri=mast:IUE/url/pub/vospectra/iue2/swp22372mxlo_vo.fits to ./mastDownload/IUE/swp22372/swp22372mxlo_vo.fits ... [Done]\n"
     ]
    },
    {
     "data": {
      "text/html": [
       "<div><i>Table length=1</i>\n",
       "<table id=\"table140684115193280\" class=\"table-striped table-bordered table-condensed\">\n",
       "<thead><tr><th>Local Path</th><th>Status</th><th>Message</th><th>URL</th></tr></thead>\n",
       "<thead><tr><th>str48</th><th>str8</th><th>object</th><th>object</th></tr></thead>\n",
       "<tr><td>./mastDownload/IUE/swp22372/swp22372mxlo_vo.fits</td><td>COMPLETE</td><td>None</td><td>None</td></tr>\n",
       "</table></div>"
      ],
      "text/plain": [
       "<Table length=1>\n",
       "                   Local Path                     Status  Message  URL  \n",
       "                     str48                         str8    object object\n",
       "------------------------------------------------ -------- ------- ------\n",
       "./mastDownload/IUE/swp22372/swp22372mxlo_vo.fits COMPLETE    None   None"
      ]
     },
     "execution_count": 3,
     "metadata": {},
     "output_type": "execute_result"
    }
   ],
   "source": [
    "Observations.download_products(yourProd, mrp_only = False, cache = False) "
   ]
  },
  {
   "cell_type": "markdown",
   "id": "867393ad",
   "metadata": {},
   "source": [
    "If the download does not happen automatically, by clicking on the URL displayed above you will be able to download the file. In order to have a more complete image of our target, let's download a different observation for the same object, but in a different wavelength range, we can use the following observation ID: lwr17263 (this is still AzV 214)."
   ]
  },
  {
   "cell_type": "code",
   "execution_count": 4,
   "id": "aab04b05",
   "metadata": {},
   "outputs": [
    {
     "name": "stdout",
     "output_type": "stream",
     "text": [
      "Downloading URL https://mast.stsci.edu/api/v0.1/Download/file?uri=mast:IUE/url/pub/vospectra/iue2/lwr17263mxlo_vo.fits to ./mastDownload/IUE/lwr17263/lwr17263mxlo_vo.fits ... [Done]\n"
     ]
    },
    {
     "data": {
      "text/html": [
       "<div><i>Table length=1</i>\n",
       "<table id=\"table140683802907840\" class=\"table-striped table-bordered table-condensed\">\n",
       "<thead><tr><th>Local Path</th><th>Status</th><th>Message</th><th>URL</th></tr></thead>\n",
       "<thead><tr><th>str48</th><th>str8</th><th>object</th><th>object</th></tr></thead>\n",
       "<tr><td>./mastDownload/IUE/lwr17263/lwr17263mxlo_vo.fits</td><td>COMPLETE</td><td>None</td><td>None</td></tr>\n",
       "</table></div>"
      ],
      "text/plain": [
       "<Table length=1>\n",
       "                   Local Path                     Status  Message  URL  \n",
       "                     str48                         str8    object object\n",
       "------------------------------------------------ -------- ------- ------\n",
       "./mastDownload/IUE/lwr17263/lwr17263mxlo_vo.fits COMPLETE    None   None"
      ]
     },
     "execution_count": 4,
     "metadata": {},
     "output_type": "execute_result"
    }
   ],
   "source": [
    "IUEobs2 = Observations.query_criteria(obs_collection=\"IUE\", obs_id=\"lwr17263\")\n",
    "data_products2 = Observations.get_product_list(IUEobs2)\n",
    "yourProd2 = Observations.filter_products(data_products2, extension='lwr17263mxlo_vo.fits')\n",
    "Observations.download_products(yourProd2, mrp_only = False, cache = False) "
   ]
  },
  {
   "cell_type": "markdown",
   "id": "a395c08c",
   "metadata": {},
   "source": [
    "Now let's do the same for the unreddened star. The target name of this star is AzV 380 (observation IDs: swp10319, lwr17265) and was also collected by IUE."
   ]
  },
  {
   "cell_type": "code",
   "execution_count": 5,
   "id": "b507c046",
   "metadata": {},
   "outputs": [
    {
     "name": "stdout",
     "output_type": "stream",
     "text": [
      "Downloading URL https://mast.stsci.edu/api/v0.1/Download/file?uri=mast:IUE/url/pub/vospectra/iue2/swp10319mxlo_vo.fits to ./mastDownload/IUE/swp10319/swp10319mxlo_vo.fits ... [Done]\n",
      "Downloading URL https://mast.stsci.edu/api/v0.1/Download/file?uri=mast:IUE/url/pub/vospectra/iue2/lwr17265mxlo_vo.fits to ./mastDownload/IUE/lwr17265/lwr17265mxlo_vo.fits ... [Done]\n"
     ]
    },
    {
     "data": {
      "text/html": [
       "<div><i>Table length=1</i>\n",
       "<table id=\"table140683802910624\" class=\"table-striped table-bordered table-condensed\">\n",
       "<thead><tr><th>Local Path</th><th>Status</th><th>Message</th><th>URL</th></tr></thead>\n",
       "<thead><tr><th>str48</th><th>str8</th><th>object</th><th>object</th></tr></thead>\n",
       "<tr><td>./mastDownload/IUE/lwr17265/lwr17265mxlo_vo.fits</td><td>COMPLETE</td><td>None</td><td>None</td></tr>\n",
       "</table></div>"
      ],
      "text/plain": [
       "<Table length=1>\n",
       "                   Local Path                     Status  Message  URL  \n",
       "                     str48                         str8    object object\n",
       "------------------------------------------------ -------- ------- ------\n",
       "./mastDownload/IUE/lwr17265/lwr17265mxlo_vo.fits COMPLETE    None   None"
      ]
     },
     "execution_count": 5,
     "metadata": {},
     "output_type": "execute_result"
    }
   ],
   "source": [
    "IUEobs3 = Observations.query_criteria(obs_collection=\"IUE\", obs_id=\"swp10319\")\n",
    "data_products3 = Observations.get_product_list(IUEobs3)\n",
    "yourProd3 = Observations.filter_products(data_products3, extension='swp10319mxlo_vo.fits')\n",
    "Observations.download_products(yourProd3, mrp_only = False, cache = False) \n",
    "\n",
    "IUEobs4 = Observations.query_criteria(obs_collection=\"IUE\", obs_id=\"lwr17265\")\n",
    "data_products4 = Observations.get_product_list(IUEobs4)\n",
    "yourProd4 = Observations.filter_products(data_products4, extension='lwr17265mxlo_vo.fits')\n",
    "Observations.download_products(yourProd4, mrp_only = False, cache = False) "
   ]
  },
  {
   "cell_type": "markdown",
   "id": "acf23366",
   "metadata": {},
   "source": [
    "Again, if the download does not happen automatically, by clicking on the URLs displayed above, you will be able to download the necessary data to continue this tutorial."
   ]
  },
  {
   "cell_type": "markdown",
   "id": "73889127",
   "metadata": {},
   "source": [
    "### File information"
   ]
  },
  {
   "cell_type": "markdown",
   "id": "7705ab97",
   "metadata": {},
   "source": [
    "Now, let's explore the FITS file that we got for the reddened star."
   ]
  },
  {
   "cell_type": "code",
   "execution_count": 6,
   "id": "8082e4df",
   "metadata": {},
   "outputs": [
    {
     "name": "stdout",
     "output_type": "stream",
     "text": [
      "Filename: ./mastDownload/IUE/swp22372/swp22372mxlo_vo.fits\n",
      "No.    Name      Ver    Type      Cards   Dimensions   Format\n",
      "  0  PRIMARY       1 PrimaryHDU     350   ()      \n",
      "  1  Spectral Container    1 BinTableHDU    141   1R x 4C   [495E, 495E, 495E, 495I]   \n"
     ]
    }
   ],
   "source": [
    "filename = \"./mastDownload/IUE/swp22372/swp22372mxlo_vo.fits\"\n",
    "fits.info(filename)"
   ]
  },
  {
   "cell_type": "markdown",
   "id": "aab81955",
   "metadata": {},
   "source": [
    "- **No. 0 (PRIMARY)**: This HDU contains meta-data related to the entire file.\n",
    "- **No. 1 (Spectral Container)**: This HDU contains the spectral profile of the target as a function of wavelength.\n",
    "\n",
    "The header of the file contains additional information about the data, such as the wavelength reference frame or the reference equinox. It can be accessed in the following way (only some part of the information contained in the header is printed in this section, the user is encouraged to print the complete header if they are interested to see the whole information contained in it)."
   ]
  },
  {
   "cell_type": "code",
   "execution_count": 7,
   "id": "897a2252",
   "metadata": {
    "scrolled": true
   },
   "outputs": [
    {
     "name": "stdout",
     "output_type": "stream",
     "text": [
      "EQUINOX =              2000.00 /                                                \n",
      "RADECSYS= 'FK4'                /                                                \n",
      "TIMESYS = 'UTC'                / Time system                                    \n",
      "MJDREF  =              0.00000 / [d] MJD zero point for times                   \n",
      "SPECSYS = 'TOPOCENT'           / wavelength reference frame                     \n",
      "VOCLASS = 'SPECTRUM V1.0'      / VO Data Model                                  \n",
      "VOSEGT  = 'SPECTRUM'           / Segment type                                   \n"
     ]
    }
   ],
   "source": [
    "with fits.open(filename) as hdulist: \n",
    "    header1 = hdulist[1].header\n",
    "\n",
    "print(repr(header1[54:61]))"
   ]
  },
  {
   "cell_type": "markdown",
   "id": "e8ba6bed",
   "metadata": {},
   "source": [
    "### Data access and manipulation"
   ]
  },
  {
   "cell_type": "markdown",
   "id": "1195669c",
   "metadata": {},
   "source": [
    "The data contained in this fits failed can be accessed as shown below:"
   ]
  },
  {
   "cell_type": "code",
   "execution_count": 8,
   "id": "781f9315",
   "metadata": {
    "scrolled": true
   },
   "outputs": [],
   "source": [
    "with fits.open(filename) as hdulist:\n",
    "    data0 = hdulist[1].data\n",
    "\n",
    "wav = data0[0][0] # angstrom, A\n",
    "flux = data0[0][1] # ergs/cm2/sec/A"
   ]
  },
  {
   "cell_type": "markdown",
   "id": "7a84bc06",
   "metadata": {},
   "source": [
    "Let's do the same for the other files and plot the logarithm of their flux versus the inverse of the wavelength, as it is normally done in this type of studies. \n",
    "\n",
    "_**Heads-up**: some values of the flux may be contaminated or altered, and when applying the logarithm may result in NaN (Not a Number), in order to not have to deal with error messages throughout the notebook, these problematic values will be changed from the vectors obtained. Since we will need to combine the reddened and un-reddened stars later on, they need to have the same length, so we will examine them together for problematic values._"
   ]
  },
  {
   "cell_type": "code",
   "execution_count": 9,
   "id": "c25da271",
   "metadata": {},
   "outputs": [],
   "source": [
    "def changeNaN(wavv,fluxx,wavv1,fluxx1):\n",
    "    \n",
    "    \"\"\"\n",
    "    Removes negative flux values to avoid encountering NaN when converting to flux scale\n",
    "    \n",
    "    Inputs:\n",
    "    :param wavv,wavv1: input wavelength arrays\n",
    "    :type wavv,wavv1: float array\n",
    "    :param fluxx,fluxx1: input wavelength arrays\n",
    "    :type fluxx,fluxx1: float array\n",
    "    \n",
    "    Outputs: \n",
    "    :return: wavv,fluxx,wavv1,fluxx1 without the corresponding problematic values\n",
    "    :rtype: float array\n",
    "    \"\"\"\n",
    "    \n",
    "    prob = np.where(fluxx < 0)[0]\n",
    "    wavv = np.delete(wavv,prob)\n",
    "    fluxx = np.delete(fluxx,prob)\n",
    "    wavv1 = np.delete(wavv1,prob)\n",
    "    fluxx1 = np.delete(fluxx1,prob)\n",
    "    \n",
    "    prob2 = np.where(fluxx1 < 0)[0]\n",
    "    wavv = np.delete(wavv,prob2)\n",
    "    fluxx = np.delete(fluxx,prob2)\n",
    "    wavv1 = np.delete(wavv1,prob2)\n",
    "    fluxx1 = np.delete(fluxx1,prob2)\n",
    "    \n",
    "    return wavv, fluxx, wavv1, fluxx1"
   ]
  },
  {
   "cell_type": "code",
   "execution_count": 10,
   "id": "55d2e044",
   "metadata": {},
   "outputs": [
    {
     "data": {
      "image/png": "[encoded data removed]",
      "text/plain": [
       "<Figure size 432x288 with 1 Axes>"
      ]
     },
     "metadata": {
      "needs_background": "light"
     },
     "output_type": "display_data"
    }
   ],
   "source": [
    "filename2 = \"./mastDownload/IUE/lwr17263/lwr17263mxlo_vo.fits\"\n",
    "with fits.open(filename2) as hdulist:\n",
    "    data2 = hdulist[1].data\n",
    "\n",
    "wav2 = data2[0][0] # A\n",
    "flux2 = data2[0][1] # ergs/cm2/sec/A\n",
    "\n",
    "filename3 = \"./mastDownload/IUE/swp10319/swp10319mxlo_vo.fits\"\n",
    "with fits.open(filename3) as hdulist:\n",
    "    data3 = hdulist[1].data\n",
    "\n",
    "wav3 = data3[0][0] # A\n",
    "flux3 = data3[0][1] # ergs/cm2/sec/A\n",
    "\n",
    "filename4 = \"./mastDownload/IUE/lwr17265/lwr17265mxlo_vo.fits\"\n",
    "with fits.open(filename4) as hdulist:\n",
    "    data4 = hdulist[1].data\n",
    "\n",
    "wav4 = data4[0][0] # A\n",
    "flux4 = data4[0][1] # ergs/cm2/sec/A\n",
    "\n",
    "# Remove problematic values\n",
    "wav, flux, wav3, flux3 = changeNaN(wav, flux, wav3, flux3)\n",
    "wav2, flux2, wav4, flux4 = changeNaN(wav2, flux2, wav4, flux4)\n",
    "\n",
    "wavinv = 1/(wav*1e-4) # mu-m ^-1\n",
    "wavinv2 = 1/(wav2*1e-4) # mu-m ^-1\n",
    "wavinv3 = 1/(wav3*1e-4) # mu-m ^-1\n",
    "wavinv4 = 1/(wav4*1e-4) # mu-m ^-1\n",
    "\n",
    "fig = plt.figure()\n",
    "ax = plt.subplot(111)\n",
    "\n",
    "plt.plot(wavinv,np.log10(flux),'r',label='swp22372')\n",
    "plt.plot(wavinv2,np.log10(flux2),'r:',label='lwr17263')\n",
    "plt.text(4, -12.8,'AzV 380', fontsize = 11)\n",
    "plt.plot(wavinv3,np.log10(flux3),'b',label='swp10319')\n",
    "plt.plot(wavinv4,np.log10(flux4),'b:',label='lwr17265')\n",
    "plt.text(5.7, -13.4, 'AzV 214', fontsize = 11)\n",
    "\n",
    "ax.set_xlabel('1/$\\lambda$ ($\\mu m^{-1}$)')\n",
    "ax.set_ylabel(r'log(Flux (ergs $cm^{-2}$ $s^{-1}$ $\\AA^{-1}$))')\n",
    "ax.set_xlim([3, 8])\n",
    "ax.set_ylim([-14, -12.5])\n",
    "\n",
    "plt.legend(loc='best',frameon=False)\n",
    "\n",
    "plt.show()"
   ]
  },
  {
   "cell_type": "markdown",
   "id": "9fa92cef",
   "metadata": {},
   "source": [
    "### Extinction curve construction"
   ]
  },
  {
   "cell_type": "markdown",
   "id": "e1c55ae1",
   "metadata": {},
   "source": [
    "Let's now use <a href=\"http://simbad.cds.unistra.fr/simbad/\">SIMBAD</a> database to look for the fluxes in the B and V bands for both stars. We can do a simple query using the identifier of both stars. The magnitudes can be found under the 8th subgroup presented below the name of the stars, called 'Fluxes', since SIMBAD can provide you with either the flux or the magnitude of the star in those bands.\n",
    "\n",
    "- AzV 214: $m_V = 13.39$, $m_B = 13.40$.\n",
    "- AzV 380: $m_V = 13.53$, $m_B = 13.43$.\n",
    "\n",
    "From these values we can directly calculate the value of $E(B-V) = (B-V)-(B-V)_o$. In order to do this using Python we can do the following, first add the fields for the query that we want, namely _flux(B)_ and _flux(V)_, and then look for the specific target we are interested in:"
   ]
  },
  {
   "cell_type": "code",
   "execution_count": 11,
   "id": "34375fd3",
   "metadata": {},
   "outputs": [
    {
     "data": {
      "text/html": [
       "<div><i>Table length=1</i>\n",
       "<table id=\"table140684120031968\" class=\"table-striped table-bordered table-condensed\">\n",
       "<thead><tr><th>MAIN_ID</th><th>RA</th><th>DEC</th><th>RA_PREC</th><th>DEC_PREC</th><th>COO_ERR_MAJA</th><th>COO_ERR_MINA</th><th>COO_ERR_ANGLE</th><th>COO_QUAL</th><th>COO_WAVELENGTH</th><th>COO_BIBCODE</th><th>FLUX_B</th><th>FLUX_V</th><th>SCRIPT_NUMBER_ID</th></tr></thead>\n",
       "<thead><tr><th></th><th>&quot;h:m:s&quot;</th><th>&quot;d:m:s&quot;</th><th></th><th></th><th>mas</th><th>mas</th><th>deg</th><th></th><th></th><th></th><th>mag</th><th>mag</th><th></th></tr></thead>\n",
       "<thead><tr><th>object</th><th>str13</th><th>str13</th><th>int16</th><th>int16</th><th>float32</th><th>float32</th><th>int16</th><th>str1</th><th>str1</th><th>object</th><th>float32</th><th>float32</th><th>int32</th></tr></thead>\n",
       "<tr><td>AzV 214</td><td>00 58 54.7802</td><td>-72 13 17.172</td><td>14</td><td>14</td><td>0.014</td><td>0.012</td><td>90</td><td>A</td><td>O</td><td>2020yCat.1350....0G</td><td>13.4</td><td>13.39</td><td>1</td></tr>\n",
       "</table></div>"
      ],
      "text/plain": [
       "<Table length=1>\n",
       "MAIN_ID       RA           DEC      RA_PREC ...  FLUX_B  FLUX_V SCRIPT_NUMBER_ID\n",
       "           \"h:m:s\"       \"d:m:s\"            ...   mag     mag                   \n",
       " object     str13         str13      int16  ... float32 float32      int32      \n",
       "------- ------------- ------------- ------- ... ------- ------- ----------------\n",
       "AzV 214 00 58 54.7802 -72 13 17.172      14 ...    13.4   13.39                1"
      ]
     },
     "execution_count": 11,
     "metadata": {},
     "output_type": "execute_result"
    }
   ],
   "source": [
    "Simbad.add_votable_fields('flux(B)','flux(V)')\n",
    "table1 = Simbad.query_object('AzV 214')\n",
    "table1"
   ]
  },
  {
   "cell_type": "code",
   "execution_count": 12,
   "id": "93f20f43",
   "metadata": {},
   "outputs": [
    {
     "data": {
      "text/html": [
       "<div><i>Table length=1</i>\n",
       "<table id=\"table140684105218128\" class=\"table-striped table-bordered table-condensed\">\n",
       "<thead><tr><th>MAIN_ID</th><th>RA</th><th>DEC</th><th>RA_PREC</th><th>DEC_PREC</th><th>COO_ERR_MAJA</th><th>COO_ERR_MINA</th><th>COO_ERR_ANGLE</th><th>COO_QUAL</th><th>COO_WAVELENGTH</th><th>COO_BIBCODE</th><th>FLUX_B</th><th>FLUX_V</th><th>SCRIPT_NUMBER_ID</th></tr></thead>\n",
       "<thead><tr><th></th><th>&quot;h:m:s&quot;</th><th>&quot;d:m:s&quot;</th><th></th><th></th><th>mas</th><th>mas</th><th>deg</th><th></th><th></th><th></th><th>mag</th><th>mag</th><th></th></tr></thead>\n",
       "<thead><tr><th>object</th><th>str13</th><th>str13</th><th>int16</th><th>int16</th><th>float32</th><th>float32</th><th>int16</th><th>str1</th><th>str1</th><th>object</th><th>float32</th><th>float32</th><th>int32</th></tr></thead>\n",
       "<tr><td>SK  120</td><td>01 05 24.7610</td><td>-73 03 52.973</td><td>14</td><td>14</td><td>0.019</td><td>0.019</td><td>90</td><td>A</td><td>O</td><td>2020yCat.1350....0G</td><td>13.43</td><td>13.53</td><td>1</td></tr>\n",
       "</table></div>"
      ],
      "text/plain": [
       "<Table length=1>\n",
       "MAIN_ID       RA           DEC      RA_PREC ...  FLUX_B  FLUX_V SCRIPT_NUMBER_ID\n",
       "           \"h:m:s\"       \"d:m:s\"            ...   mag     mag                   \n",
       " object     str13         str13      int16  ... float32 float32      int32      \n",
       "------- ------------- ------------- ------- ... ------- ------- ----------------\n",
       "SK  120 01 05 24.7610 -73 03 52.973      14 ...   13.43   13.53                1"
      ]
     },
     "execution_count": 12,
     "metadata": {},
     "output_type": "execute_result"
    }
   ],
   "source": [
    "table2 = Simbad.query_object('AzV 380')\n",
    "table2"
   ]
  },
  {
   "cell_type": "code",
   "execution_count": 13,
   "id": "e6ce5a56",
   "metadata": {},
   "outputs": [
    {
     "name": "stdout",
     "output_type": "stream",
     "text": [
      "The value of E(B-V) is equal to 0.10999870300292969\n"
     ]
    }
   ],
   "source": [
    "V_214 = float(table1['FLUX_V'])\n",
    "B_214 = float(table1['FLUX_B'])\n",
    "\n",
    "V_380 = float(table2['FLUX_V'])\n",
    "B_380 = float(table2['FLUX_B'])\n",
    "\n",
    "E_B_V = (B_214-V_214)-(B_380-V_380)\n",
    "\n",
    "print(\"The value of E(B-V) is equal to\",E_B_V)"
   ]
  },
  {
   "cell_type": "markdown",
   "id": "09302892",
   "metadata": {},
   "source": [
    "So finally, let's plot the extinction curve!"
   ]
  },
  {
   "cell_type": "code",
   "execution_count": 14,
   "id": "558c6401",
   "metadata": {},
   "outputs": [
    {
     "data": {
      "image/png": "[encoded data removed]",
      "text/plain": [
       "<Figure size 432x288 with 1 Axes>"
      ]
     },
     "metadata": {
      "needs_background": "light"
     },
     "output_type": "display_data"
    }
   ],
   "source": [
    "plt.figure()\n",
    "plt.plot(wavinv,np.abs((np.log(flux/flux3)-np.log(V_214/V_380))/E_B_V),'o',markersize=2)\n",
    "plt.plot(wavinv4,np.abs((np.log(flux2/flux4)-np.log(V_214/V_380))/E_B_V),'o',markersize=2)\n",
    "plt.xlim([3,8])\n",
    "plt.ylim([0,12])\n",
    "plt.xlabel(r'$1/\\lambda$ $[\\mu m^{-1}]$')\n",
    "plt.ylabel(r'$E(\\lambda-V)/E(B-V)$')\n",
    "plt.title('AzV 214')\n",
    "plt.show()"
   ]
  },
  {
   "cell_type": "markdown",
   "id": "6da421eb",
   "metadata": {},
   "source": [
    "This is the typical shape encountered for extinction curves corresponding to the Small Magellanic Cloud (SMC), as can be seen in this <a href=\"https://arxiv.org/pdf/astro-ph/0305257.pdf\">article</a>.\n",
    "\n",
    "### Curve parametrization\n",
    "\n",
    "Now that we have the curve, we can parametrize it! First let's combine the arrays we have into one unique 1D vector:"
   ]
  },
  {
   "cell_type": "code",
   "execution_count": 15,
   "id": "678f8a65",
   "metadata": {},
   "outputs": [],
   "source": [
    "wvinv = np.concatenate((wavinv4,wavinv))\n",
    "k_lam_V = np.concatenate((np.abs((np.log(flux2/flux4)-np.log(V_214/V_380))/E_B_V),np.abs((np.log(flux/flux3)-np.log(V_214/V_380))/E_B_V)))"
   ]
  },
  {
   "cell_type": "markdown",
   "id": "8912e61e",
   "metadata": {},
   "source": [
    "Let's create the x-vector that we will use for the data-fitting, _$x = 1/\\lambda$_, using _np.linspace_ (if you are not familiarized with linspace, information about it can be found <a href=\"https://numpy.org/doc/stable/reference/generated/numpy.linspace.html\">here</a>):"
   ]
  },
  {
   "cell_type": "code",
   "execution_count": 16,
   "id": "5959833e",
   "metadata": {},
   "outputs": [],
   "source": [
    "n = 1000\n",
    "x_wavinv = np.linspace(3,8,n)"
   ]
  },
  {
   "cell_type": "markdown",
   "id": "9ff58eab",
   "metadata": {},
   "source": [
    "Now, let's parametrize the curve according to the FM parametrization as presented in\n",
    "<a href=\"https://ui.adsabs.harvard.edu/abs/1990ApJS...72..163F/abstract\">Fitzpatrick and Massa 1990</a>. Fist, let's create the function with the suggested structure of the article. A function in Python is defined starting with the word def, then the name of your function, inside the parenthesis the inputs are defined, and the output of said function is whatever follows the word _return_. More information on Python functions can be found <a href=\"https://www.datacamp.com/tutorial/functions-python-tutorial\">here</a>."
   ]
  },
  {
   "cell_type": "code",
   "execution_count": 17,
   "id": "cc1b491b",
   "metadata": {},
   "outputs": [],
   "source": [
    "def FMpar(x, C1, C2, C3, C4, xo, gamma):\n",
    "    \n",
    "    \"\"\"\n",
    "    Parametrization of UV extinction curve according to Fitzpatrick and Massa 1990\n",
    "    \n",
    "    Inputs:\n",
    "    :param x: input inverse-wavelength arrays (x = 1/wavelength)\n",
    "    :type x: float array\n",
    "    :param C1, C2, C3, C4, xo, gamma: input parameters to be fitted\n",
    "    :type C1, C2, C3, C4, xo, gamma: float\n",
    "    \n",
    "    Outputs: \n",
    "    :return: k, extinction curve evaluated for the different x's\n",
    "    :rtype: float array\n",
    "    \"\"\"\n",
    "\n",
    "    F = np.zeros(len(x))\n",
    "    for i in range(len(x)):\n",
    "        if x[i] >= 5.9:\n",
    "            F = 0.5392*(x-5.9)**2+0.05644*(x-5.9)**3\n",
    "        \n",
    "    D = x**2/((x**2-xo**2)**2+x**2*gamma**2)\n",
    "    \n",
    "    k = C1 + C2*x + C3*D + C4*F\n",
    "    \n",
    "    return k"
   ]
  },
  {
   "cell_type": "markdown",
   "id": "4ff5fc4c",
   "metadata": {},
   "source": [
    "Some initial conditions can be found in this <a href=\"https://ui.adsabs.harvard.edu/abs/2003ApJ...594..279G/abstract\">article</a> for the parametrization, especially regarding $x_o$ and $\\gamma$, and will be used here to look for the best fit."
   ]
  },
  {
   "cell_type": "code",
   "execution_count": 18,
   "id": "b189eb08",
   "metadata": {},
   "outputs": [
    {
     "name": "stdout",
     "output_type": "stream",
     "text": [
      "Parameters obtained for fit: \n",
      "\n",
      "C1:  40.62800282453326\n",
      "C2:  -2.7117713366350342\n",
      "C3:  -809.9048271399639\n",
      "C4:  0.6554934272010688\n",
      "xo:  3.089889590813362\n",
      "gamma:  -5.073873703845532\n"
     ]
    }
   ],
   "source": [
    "ic = np.array([1.0,1.0,1.0,1.0,4.6,1.0])\n",
    "\n",
    "parameters, covariance = curve_fit(FMpar, wvinv, k_lam_V, p0 = ic)\n",
    "\n",
    "print('Parameters obtained for fit: \\n')\n",
    "print('C1: ',parameters[0])\n",
    "print('C2: ',parameters[1])\n",
    "print('C3: ',parameters[2])\n",
    "print('C4: ',parameters[3])\n",
    "print('xo: ',parameters[4])\n",
    "print('gamma: ',parameters[5])"
   ]
  },
  {
   "cell_type": "code",
   "execution_count": 19,
   "id": "5900e476",
   "metadata": {},
   "outputs": [
    {
     "data": {
      "image/png": "[encoded data removed]",
      "text/plain": [
       "<Figure size 432x288 with 1 Axes>"
      ]
     },
     "metadata": {
      "needs_background": "light"
     },
     "output_type": "display_data"
    }
   ],
   "source": [
    "F = 0.5392*(x_wavinv-5.9)**2+0.05644*(x_wavinv-5.9)**3\n",
    "D = x_wavinv**2/((x_wavinv**2-parameters[4]**2)**2+x_wavinv**2*parameters[5]**2)\n",
    "k = parameters[0] + parameters[1]*x_wavinv + parameters[2]*D + parameters[3]*F\n",
    "\n",
    "plt.figure()\n",
    "plt.plot(wavinv,np.abs((np.log(flux/flux3)-np.log(V_214/V_380))/E_B_V),'o',markersize=2)\n",
    "plt.plot(wavinv4,np.abs((np.log(flux2/flux4)-np.log(V_214/V_380))/E_B_V),'o',markersize=2)\n",
    "plt.plot(x_wavinv,k,'k',linewidth=2)\n",
    "plt.xlim([3,8])\n",
    "plt.ylim([0,12])\n",
    "plt.xlabel(r'$1/\\lambda$ $[\\mu m^{-1}]$')\n",
    "plt.ylabel(r'$E(\\lambda-V)/E(B-V)$')\n",
    "plt.title('AzV 214')\n",
    "plt.show()"
   ]
  },
  {
   "cell_type": "markdown",
   "id": "3d9b6312",
   "metadata": {},
   "source": [
    "**Note**: the bump that can be appreciated at low values for the x-axis ($1/\\lambda \\sim 3$) is due to the scattering of the points, not to the real trend of the curve, which additionally affects the parametrization values obtained. Extinction curves should start at $(1/\\lambda, E(\\lambda-V)/E(B-V)) = (0, 0)$ theoretically."
   ]
  },
  {
   "cell_type": "markdown",
   "id": "33e3ecb0",
   "metadata": {},
   "source": [
    "## Exercises"
   ]
  },
  {
   "cell_type": "markdown",
   "id": "e4d71df9",
   "metadata": {},
   "source": [
    "Now you can try to do it yourself! Try to obtain the extinction curve of a Large Magellanic Cloud (LMC) following the steps presented for the SMC one and look for the differences in the trend between the two.\n",
    "\n",
    "### Load the data\n",
    "\n",
    "The targets for this exercise will be:\n",
    "\n",
    "- Sk -69 206 (Observation IDs: swp36552, lwp15751) (reddened star)\n",
    "- Sk -67 5 (Observation IDs: swp04827, lwr04170) (unreddened star)\n",
    "\n",
    "First, do the database search for the reddened star:"
   ]
  },
  {
   "cell_type": "code",
   "execution_count": 20,
   "id": "63902b4f",
   "metadata": {},
   "outputs": [
    {
     "data": {
      "text/html": [
       "<div><i>Table masked=True length=1</i>\n",
       "<table id=\"table140684123534144\" class=\"table-striped table-bordered table-condensed\">\n",
       "<thead><tr><th>obsID</th><th>obs_collection</th><th>dataproduct_type</th><th>obs_id</th><th>description</th><th>type</th><th>dataURI</th><th>productType</th><th>productGroupDescription</th><th>productSubGroupDescription</th><th>productDocumentationURL</th><th>project</th><th>prvversion</th><th>proposal_id</th><th>productFilename</th><th>size</th><th>parent_obsid</th><th>dataRights</th><th>calib_level</th></tr></thead>\n",
       "<thead><tr><th>str6</th><th>str3</th><th>str8</th><th>str8</th><th>str56</th><th>str1</th><th>str62</th><th>str9</th><th>str28</th><th>str56</th><th>str1</th><th>str1</th><th>str1</th><th>str5</th><th>str20</th><th>int64</th><th>str6</th><th>str6</th><th>int64</th></tr></thead>\n",
       "<tr><td>327806</td><td>IUE</td><td>spectrum</td><td>swp36552</td><td>(extracted spectra/vo spectral container/SSAP) fits file</td><td>S</td><td>mast:IUE/url/pub/vospectra/iue2/swp36552mxlo_vo.fits</td><td>SCIENCE</td><td>Minimum Recommended Products</td><td>(extracted spectra/vo spectral container/SSAP) fits file</td><td>--</td><td>--</td><td>--</td><td>OBLCG</td><td>swp36552mxlo_vo.fits</td><td>48960</td><td>327806</td><td>PUBLIC</td><td>2</td></tr>\n",
       "</table></div>"
      ],
      "text/plain": [
       "<Table masked=True length=1>\n",
       "obsID  obs_collection dataproduct_type ... parent_obsid dataRights calib_level\n",
       " str6       str3            str8       ...     str6        str6       int64   \n",
       "------ -------------- ---------------- ... ------------ ---------- -----------\n",
       "327806            IUE         spectrum ...       327806     PUBLIC           2"
      ]
     },
     "execution_count": 20,
     "metadata": {},
     "output_type": "execute_result"
    }
   ],
   "source": [
    "# You can copy, paste and modify the code corresponding to this part that we used for the SMC cloud here\n",
    "# You can also use any function that was defined before\n",
    "\n",
    "IUEobs = Observations.query_criteria(obs_collection=\"IUE\", obs_id=\"swp36552\")\n",
    "data_products = Observations.get_product_list(IUEobs)\n",
    "yourProd = Observations.filter_products(data_products, extension=\"swp36552mxlo_vo.fits\")\n",
    "\n",
    "yourProd"
   ]
  },
  {
   "cell_type": "markdown",
   "id": "7aedb721",
   "metadata": {},
   "source": [
    "Now, download the data as before:"
   ]
  },
  {
   "cell_type": "code",
   "execution_count": 21,
   "id": "85cf856d",
   "metadata": {},
   "outputs": [
    {
     "name": "stdout",
     "output_type": "stream",
     "text": [
      "Downloading URL https://mast.stsci.edu/api/v0.1/Download/file?uri=mast:IUE/url/pub/vospectra/iue2/swp36552mxlo_vo.fits to ./mastDownload/IUE/swp36552/swp36552mxlo_vo.fits ... [Done]\n"
     ]
    },
    {
     "data": {
      "text/html": [
       "<div><i>Table length=1</i>\n",
       "<table id=\"table140683805313056\" class=\"table-striped table-bordered table-condensed\">\n",
       "<thead><tr><th>Local Path</th><th>Status</th><th>Message</th><th>URL</th></tr></thead>\n",
       "<thead><tr><th>str48</th><th>str8</th><th>object</th><th>object</th></tr></thead>\n",
       "<tr><td>./mastDownload/IUE/swp36552/swp36552mxlo_vo.fits</td><td>COMPLETE</td><td>None</td><td>None</td></tr>\n",
       "</table></div>"
      ],
      "text/plain": [
       "<Table length=1>\n",
       "                   Local Path                     Status  Message  URL  \n",
       "                     str48                         str8    object object\n",
       "------------------------------------------------ -------- ------- ------\n",
       "./mastDownload/IUE/swp36552/swp36552mxlo_vo.fits COMPLETE    None   None"
      ]
     },
     "execution_count": 21,
     "metadata": {},
     "output_type": "execute_result"
    }
   ],
   "source": [
    "# You can copy, paste and modify the code corresponding to this part that we used for the SMC cloud here\n",
    "# You can also use any function that was defined before\n",
    "\n",
    "Observations.download_products(yourProd, mrp_only = False, cache = False) "
   ]
  },
  {
   "cell_type": "markdown",
   "id": "1a9e18ee",
   "metadata": {},
   "source": [
    "And again, in order to cover a wider wavelength range, let's also download the other part of the spectra using the second observation ID provided:"
   ]
  },
  {
   "cell_type": "code",
   "execution_count": 22,
   "id": "80ed0693",
   "metadata": {},
   "outputs": [
    {
     "name": "stdout",
     "output_type": "stream",
     "text": [
      "Downloading URL https://mast.stsci.edu/api/v0.1/Download/file?uri=mast:IUE/url/pub/vospectra/iue2/lwp15751mxlo_vo.fits to ./mastDownload/IUE/lwp15751/lwp15751mxlo_vo.fits ... [Done]\n"
     ]
    },
    {
     "data": {
      "text/html": [
       "<div><i>Table length=1</i>\n",
       "<table id=\"table140684095287792\" class=\"table-striped table-bordered table-condensed\">\n",
       "<thead><tr><th>Local Path</th><th>Status</th><th>Message</th><th>URL</th></tr></thead>\n",
       "<thead><tr><th>str48</th><th>str8</th><th>object</th><th>object</th></tr></thead>\n",
       "<tr><td>./mastDownload/IUE/lwp15751/lwp15751mxlo_vo.fits</td><td>COMPLETE</td><td>None</td><td>None</td></tr>\n",
       "</table></div>"
      ],
      "text/plain": [
       "<Table length=1>\n",
       "                   Local Path                     Status  Message  URL  \n",
       "                     str48                         str8    object object\n",
       "------------------------------------------------ -------- ------- ------\n",
       "./mastDownload/IUE/lwp15751/lwp15751mxlo_vo.fits COMPLETE    None   None"
      ]
     },
     "execution_count": 22,
     "metadata": {},
     "output_type": "execute_result"
    }
   ],
   "source": [
    "# You can copy, paste and modify the code corresponding to this part that we used for the SMC cloud here\n",
    "# You can also use any function that was defined before\n",
    "\n",
    "IUEobs2 = Observations.query_criteria(obs_collection=\"IUE\", obs_id=\"lwp15751\")\n",
    "data_products2 = Observations.get_product_list(IUEobs2)\n",
    "yourProd2 = Observations.filter_products(data_products2, extension=\"lwp15751mxlo_vo.fits\")\n",
    "Observations.download_products(yourProd2, mrp_only = False, cache = False) "
   ]
  },
  {
   "cell_type": "markdown",
   "id": "fd0fbf61",
   "metadata": {},
   "source": [
    "Now, let's do the same for the unreddened star:"
   ]
  },
  {
   "cell_type": "code",
   "execution_count": 23,
   "id": "2fe4d8ea",
   "metadata": {},
   "outputs": [
    {
     "name": "stdout",
     "output_type": "stream",
     "text": [
      "Downloading URL https://mast.stsci.edu/api/v0.1/Download/file?uri=mast:IUE/url/pub/vospectra/iue2/swp04827mxlo_vo.fits to ./mastDownload/IUE/swp04827/swp04827mxlo_vo.fits ... [Done]\n"
     ]
    },
    {
     "data": {
      "text/html": [
       "<div><i>Table length=1</i>\n",
       "<table id=\"table140684095287696\" class=\"table-striped table-bordered table-condensed\">\n",
       "<thead><tr><th>Local Path</th><th>Status</th><th>Message</th><th>URL</th></tr></thead>\n",
       "<thead><tr><th>str48</th><th>str8</th><th>object</th><th>object</th></tr></thead>\n",
       "<tr><td>./mastDownload/IUE/swp04827/swp04827mxlo_vo.fits</td><td>COMPLETE</td><td>None</td><td>None</td></tr>\n",
       "</table></div>"
      ],
      "text/plain": [
       "<Table length=1>\n",
       "                   Local Path                     Status  Message  URL  \n",
       "                     str48                         str8    object object\n",
       "------------------------------------------------ -------- ------- ------\n",
       "./mastDownload/IUE/swp04827/swp04827mxlo_vo.fits COMPLETE    None   None"
      ]
     },
     "execution_count": 23,
     "metadata": {},
     "output_type": "execute_result"
    }
   ],
   "source": [
    "# You can copy, paste and modify the code corresponding to this part that we used for the SMC cloud here\n",
    "# You can also use any function that was defined before\n",
    "\n",
    "IUEobs3 = Observations.query_criteria(obs_collection=\"IUE\", obs_id=\"swp04827\")\n",
    "data_products3 = Observations.get_product_list(IUEobs3)\n",
    "yourProd3 = Observations.filter_products(data_products3, extension=\"swp04827mxlo_vo.fits\")\n",
    "Observations.download_products(yourProd3, mrp_only = False, cache = False) "
   ]
  },
  {
   "cell_type": "code",
   "execution_count": 24,
   "id": "b786b210",
   "metadata": {},
   "outputs": [
    {
     "name": "stdout",
     "output_type": "stream",
     "text": [
      "Downloading URL https://mast.stsci.edu/api/v0.1/Download/file?uri=mast:IUE/url/pub/vospectra/iue2/lwr04170mxlo_vo.fits to ./mastDownload/IUE/lwr04170/lwr04170mxlo_vo.fits ... [Done]\n"
     ]
    },
    {
     "data": {
      "text/html": [
       "<div><i>Table length=1</i>\n",
       "<table id=\"table140683807470976\" class=\"table-striped table-bordered table-condensed\">\n",
       "<thead><tr><th>Local Path</th><th>Status</th><th>Message</th><th>URL</th></tr></thead>\n",
       "<thead><tr><th>str48</th><th>str8</th><th>object</th><th>object</th></tr></thead>\n",
       "<tr><td>./mastDownload/IUE/lwr04170/lwr04170mxlo_vo.fits</td><td>COMPLETE</td><td>None</td><td>None</td></tr>\n",
       "</table></div>"
      ],
      "text/plain": [
       "<Table length=1>\n",
       "                   Local Path                     Status  Message  URL  \n",
       "                     str48                         str8    object object\n",
       "------------------------------------------------ -------- ------- ------\n",
       "./mastDownload/IUE/lwr04170/lwr04170mxlo_vo.fits COMPLETE    None   None"
      ]
     },
     "execution_count": 24,
     "metadata": {},
     "output_type": "execute_result"
    }
   ],
   "source": [
    "# You can copy, paste and modify the code corresponding to this part that we used for the SMC cloud here\n",
    "# You can also use any function that was defined before\n",
    "\n",
    "IUEobs4 = Observations.query_criteria(obs_collection=\"IUE\", obs_id=\"lwr04170\")\n",
    "data_products4 = Observations.get_product_list(IUEobs4)\n",
    "yourProd4 = Observations.filter_products(data_products4, extension=\"lwr04170mxlo_vo.fits\")\n",
    "Observations.download_products(yourProd4, mrp_only = False, cache = False) "
   ]
  },
  {
   "cell_type": "markdown",
   "id": "aff61e44",
   "metadata": {},
   "source": [
    "### Open the fits file, explore it and save the data"
   ]
  },
  {
   "cell_type": "code",
   "execution_count": 25,
   "id": "c4f8f628",
   "metadata": {},
   "outputs": [
    {
     "name": "stdout",
     "output_type": "stream",
     "text": [
      "Filename: ./mastDownload/IUE/swp36552/swp36552mxlo_vo.fits\n",
      "No.    Name      Ver    Type      Cards   Dimensions   Format\n",
      "  0  PRIMARY       1 PrimaryHDU     351   ()      \n",
      "  1  Spectral Container    1 BinTableHDU    141   1R x 4C   [495E, 495E, 495E, 495I]   \n",
      "Filename: ./mastDownload/IUE/lwp15751/lwp15751mxlo_vo.fits\n",
      "No.    Name      Ver    Type      Cards   Dimensions   Format\n",
      "  0  PRIMARY       1 PrimaryHDU     350   ()      \n",
      "  1  Spectral Container    1 BinTableHDU    141   1R x 4C   [563E, 563E, 563E, 563I]   \n",
      "Filename: ./mastDownload/IUE/swp04827/swp04827mxlo_vo.fits\n",
      "No.    Name      Ver    Type      Cards   Dimensions   Format\n",
      "  0  PRIMARY       1 PrimaryHDU     345   ()      \n",
      "  1  Spectral Container    1 BinTableHDU    141   1R x 4C   [495E, 495E, 495E, 495I]   \n",
      "Filename: ./mastDownload/IUE/lwr04170/lwr04170mxlo_vo.fits\n",
      "No.    Name      Ver    Type      Cards   Dimensions   Format\n",
      "  0  PRIMARY       1 PrimaryHDU     353   ()      \n",
      "  1  Spectral Container    1 BinTableHDU    141   1R x 4C   [563E, 563E, 563E, 563I]   \n"
     ]
    }
   ],
   "source": [
    "# You can copy, paste and modify the code corresponding to this part that we used for the SMC cloud here\n",
    "# You can also use any function that was defined before\n",
    "\n",
    "filename = \"./mastDownload/IUE/swp36552/swp36552mxlo_vo.fits\"\n",
    "fits.info(filename)\n",
    "\n",
    "with fits.open(filename) as hdulist:\n",
    "    data1 = hdulist[1].data\n",
    "\n",
    "wav = data1[0][0] # A\n",
    "flux = data1[0][1] # ergs/cm2/sec/A\n",
    "\n",
    "filename2 = \"./mastDownload/IUE/lwp15751/lwp15751mxlo_vo.fits\"\n",
    "fits.info(filename2)\n",
    "\n",
    "with fits.open(filename2) as hdulist:\n",
    "    data2 = hdulist[1].data\n",
    "\n",
    "wav2 = data2[0][0] # A\n",
    "flux2 = data2[0][1] # ergs/cm2/sec/A\n",
    "\n",
    "filename3 = \"./mastDownload/IUE/swp04827/swp04827mxlo_vo.fits\"\n",
    "fits.info(filename3)\n",
    "\n",
    "with fits.open(filename3) as hdulist:\n",
    "    data3 = hdulist[1].data\n",
    "\n",
    "wav3 = data3[0][0] # A\n",
    "flux3 = data3[0][1] # ergs/cm2/sec/A\n",
    "\n",
    "filename4 = \"./mastDownload/IUE/lwr04170/lwr04170mxlo_vo.fits\"\n",
    "fits.info(filename4)\n",
    "\n",
    "with fits.open(filename4) as hdulist:\n",
    "    data4 = hdulist[1].data\n",
    "\n",
    "wav4 = data4[0][0] # A\n",
    "flux4 = data4[0][1] # ergs/cm2/sec/A\n",
    "\n",
    "wav, flux, wav3, flux3 = changeNaN(wav, flux, wav3, flux3)\n",
    "wav2, flux2, wav4, flux4 = changeNaN(wav2, flux2, wav4, flux4)\n",
    "\n",
    "wavinv = 1/(wav*1e-4) # mu-m\n",
    "wavinv2 = 1/(wav2*1e-4) # mu-m\n",
    "wavinv3 = 1/(wav3*1e-4) # mu-m\n",
    "wavinv4 = 1/(wav4*1e-4) # mu-m"
   ]
  },
  {
   "cell_type": "markdown",
   "id": "c62b2de7",
   "metadata": {},
   "source": [
    "### Plot the spectra of both stars"
   ]
  },
  {
   "cell_type": "code",
   "execution_count": 26,
   "id": "b5871133",
   "metadata": {},
   "outputs": [
    {
     "data": {
      "image/png": "[encoded data removed]",
      "text/plain": [
       "<Figure size 432x288 with 1 Axes>"
      ]
     },
     "metadata": {
      "needs_background": "light"
     },
     "output_type": "display_data"
    }
   ],
   "source": [
    "# You can copy, paste and modify the code corresponding to this part that we used for the SMC cloud here\n",
    "# You can also use any function that was defined before\n",
    "\n",
    "fig = plt.figure()\n",
    "ax = plt.subplot(111)\n",
    "\n",
    "plt.plot(wavinv,np.log10(flux),'r',label='swp36552')\n",
    "plt.plot(wavinv2,np.log10(flux2),'r:',label='lwp15751')\n",
    "plt.text(7, -14, 'Sk -69 206', fontsize = 11)\n",
    "plt.plot(wavinv3,np.log10(flux3),'b',label='swp04827')\n",
    "plt.plot(wavinv4,np.log10(flux4),'b:',label='lwr04170')\n",
    "plt.text(7, -11.2, 'Sk -67 5', fontsize = 11)\n",
    "\n",
    "ax.set_xlabel('1/$\\lambda$ ($\\mu m^{-1}$)')\n",
    "ax.set_ylabel(r'log(Flux (ergs $cm^{-2}$ $s^{-1}$ $\\AA^{-1}$))')\n",
    "ax.set_xlim([3, 8])\n",
    "ax.set_ylim([-15, -10.5])\n",
    "\n",
    "plt.legend(loc='best',frameon=False)\n",
    "\n",
    "plt.show()"
   ]
  },
  {
   "cell_type": "markdown",
   "id": "ac5bea1b",
   "metadata": {},
   "source": [
    "### Find the values for the B and V bands in SIMBAD"
   ]
  },
  {
   "cell_type": "code",
   "execution_count": 27,
   "id": "c9f1792f",
   "metadata": {},
   "outputs": [
    {
     "data": {
      "text/html": [
       "<div><i>Table length=1</i>\n",
       "<table id=\"table140684120743216\" class=\"table-striped table-bordered table-condensed\">\n",
       "<thead><tr><th>MAIN_ID</th><th>RA</th><th>DEC</th><th>RA_PREC</th><th>DEC_PREC</th><th>COO_ERR_MAJA</th><th>COO_ERR_MINA</th><th>COO_ERR_ANGLE</th><th>COO_QUAL</th><th>COO_WAVELENGTH</th><th>COO_BIBCODE</th><th>FLUX_B</th><th>FLUX_V</th><th>SCRIPT_NUMBER_ID</th></tr></thead>\n",
       "<thead><tr><th></th><th>&quot;h:m:s&quot;</th><th>&quot;d:m:s&quot;</th><th></th><th></th><th>mas</th><th>mas</th><th>deg</th><th></th><th></th><th></th><th>mag</th><th>mag</th><th></th></tr></thead>\n",
       "<thead><tr><th>object</th><th>str13</th><th>str13</th><th>int16</th><th>int16</th><th>float32</th><th>float32</th><th>int16</th><th>str1</th><th>str1</th><th>object</th><th>float32</th><th>float32</th><th>int32</th></tr></thead>\n",
       "<tr><td>SK -69  206</td><td>05 35 35.9718</td><td>-69 07 06.552</td><td>14</td><td>14</td><td>0.017</td><td>0.017</td><td>90</td><td>A</td><td>O</td><td>2020yCat.1350....0G</td><td>12.99</td><td>12.82</td><td>1</td></tr>\n",
       "</table></div>"
      ],
      "text/plain": [
       "<Table length=1>\n",
       "  MAIN_ID         RA           DEC      ...  FLUX_B  FLUX_V SCRIPT_NUMBER_ID\n",
       "               \"h:m:s\"       \"d:m:s\"    ...   mag     mag                   \n",
       "   object       str13         str13     ... float32 float32      int32      \n",
       "----------- ------------- ------------- ... ------- ------- ----------------\n",
       "SK -69  206 05 35 35.9718 -69 07 06.552 ...   12.99   12.82                1"
      ]
     },
     "execution_count": 27,
     "metadata": {},
     "output_type": "execute_result"
    }
   ],
   "source": [
    "# You can copy, paste and modify the code corresponding to this part that we used for the SMC cloud here\n",
    "# You can also use any function that was defined before\n",
    "\n",
    "table1 = Simbad.query_object('Sk -69 206')\n",
    "table1"
   ]
  },
  {
   "cell_type": "code",
   "execution_count": 28,
   "id": "26d55d2a",
   "metadata": {},
   "outputs": [
    {
     "data": {
      "text/html": [
       "<div><i>Table length=1</i>\n",
       "<table id=\"table140684120743456\" class=\"table-striped table-bordered table-condensed\">\n",
       "<thead><tr><th>MAIN_ID</th><th>RA</th><th>DEC</th><th>RA_PREC</th><th>DEC_PREC</th><th>COO_ERR_MAJA</th><th>COO_ERR_MINA</th><th>COO_ERR_ANGLE</th><th>COO_QUAL</th><th>COO_WAVELENGTH</th><th>COO_BIBCODE</th><th>FLUX_B</th><th>FLUX_V</th><th>SCRIPT_NUMBER_ID</th></tr></thead>\n",
       "<thead><tr><th></th><th>&quot;h:m:s&quot;</th><th>&quot;d:m:s&quot;</th><th></th><th></th><th>mas</th><th>mas</th><th>deg</th><th></th><th></th><th></th><th>mag</th><th>mag</th><th></th></tr></thead>\n",
       "<thead><tr><th>object</th><th>str13</th><th>str13</th><th>int16</th><th>int16</th><th>float32</th><th>float32</th><th>int16</th><th>str1</th><th>str1</th><th>object</th><th>float32</th><th>float32</th><th>int32</th></tr></thead>\n",
       "<tr><td>HD 268605</td><td>04 50 18.9258</td><td>-67 39 38.036</td><td>14</td><td>14</td><td>0.027</td><td>0.027</td><td>90</td><td>A</td><td>O</td><td>2020yCat.1350....0G</td><td>11.2</td><td>11.377</td><td>1</td></tr>\n",
       "</table></div>"
      ],
      "text/plain": [
       "<Table length=1>\n",
       " MAIN_ID        RA           DEC      ...  FLUX_B  FLUX_V SCRIPT_NUMBER_ID\n",
       "             \"h:m:s\"       \"d:m:s\"    ...   mag     mag                   \n",
       "  object      str13         str13     ... float32 float32      int32      \n",
       "--------- ------------- ------------- ... ------- ------- ----------------\n",
       "HD 268605 04 50 18.9258 -67 39 38.036 ...    11.2  11.377                1"
      ]
     },
     "execution_count": 28,
     "metadata": {},
     "output_type": "execute_result"
    }
   ],
   "source": [
    "table2 = Simbad.query_object('Sk -67 5')\n",
    "table2"
   ]
  },
  {
   "cell_type": "code",
   "execution_count": 29,
   "id": "4edf98c6",
   "metadata": {},
   "outputs": [
    {
     "name": "stdout",
     "output_type": "stream",
     "text": [
      "The value of E(B-V) is equal to 0.3470001220703125\n"
     ]
    }
   ],
   "source": [
    "V_69_206 = float(table1['FLUX_V'])\n",
    "B_69_206 = float(table1['FLUX_B'])\n",
    "\n",
    "V_67_5 = float(table2['FLUX_V'])\n",
    "B_67_5 = float(table2['FLUX_B'])\n",
    "\n",
    "E_B_V = (B_69_206-V_69_206)-(B_67_5-V_67_5)\n",
    "\n",
    "print(\"The value of E(B-V) is equal to\",E_B_V)"
   ]
  },
  {
   "cell_type": "markdown",
   "id": "dc24f43e",
   "metadata": {},
   "source": [
    "### Create the extinction curve"
   ]
  },
  {
   "cell_type": "code",
   "execution_count": 34,
   "id": "df56b97a",
   "metadata": {
    "scrolled": true
   },
   "outputs": [
    {
     "data": {
      "image/png": "[encoded data removed]",
      "text/plain": [
       "<Figure size 432x288 with 1 Axes>"
      ]
     },
     "metadata": {
      "needs_background": "light"
     },
     "output_type": "display_data"
    }
   ],
   "source": [
    "# You can copy, paste and modify the code corresponding to this part that we used for the SMC cloud here\n",
    "# You can also use any function that was defined before\n",
    "\n",
    "plt.figure()\n",
    "plt.plot(wavinv,np.abs((np.log(flux/flux3)-np.log(V_69_206/V_67_5))/E_B_V),'o',markersize=2)\n",
    "plt.plot(wavinv2,np.abs((np.log(flux2/flux4)-np.log(V_69_206/V_67_5))/E_B_V),'o',markersize=2)\n",
    "plt.xlim([3,8])\n",
    "plt.ylim([5,13])\n",
    "plt.xlabel(r'$1/\\lambda$ $[\\mu m^{-1}]$')\n",
    "plt.ylabel(r'$E(\\lambda-V)/E(B-V)$')\n",
    "plt.title('Sk -69 206')\n",
    "plt.show()"
   ]
  },
  {
   "cell_type": "markdown",
   "id": "cd5ec3ce",
   "metadata": {},
   "source": [
    "### Parametrize the curve "
   ]
  },
  {
   "cell_type": "markdown",
   "id": "d748cb06",
   "metadata": {},
   "source": [
    "First, obtain the parameters for the curve fitting:"
   ]
  },
  {
   "cell_type": "code",
   "execution_count": 31,
   "id": "d6051d80",
   "metadata": {},
   "outputs": [
    {
     "name": "stdout",
     "output_type": "stream",
     "text": [
      "Parameters obtained for fit: \n",
      "\n",
      "C1:  3.3580820830905975\n",
      "C2:  0.867667905944347\n",
      "C3:  0.6706434333635356\n",
      "C4:  0.07496203289161817\n",
      "xo:  4.5217921938168635\n",
      "gamma:  0.6000692613437005\n"
     ]
    }
   ],
   "source": [
    "# You can copy, paste and modify the code corresponding to this part that we used for the SMC cloud here\n",
    "# You can also use any function that was defined before\n",
    "\n",
    "wvinv2 = np.concatenate((wavinv2,wavinv))\n",
    "k_lam_V2 = np.concatenate((np.abs((np.log(flux2/flux4)-np.log(V_69_206/V_67_5))/E_B_V),np.abs((np.log(flux/flux3)-np.log(V_69_206/V_67_5))/E_B_V)))\n",
    "\n",
    "prob = np.where(np.isnan(k_lam_V2))[0]\n",
    "\n",
    "wvinv2[prob] = 0\n",
    "k_lam_V2[prob] = 0\n",
    "\n",
    "ic = np.array([1.0,1.0,1.0,1.0,4.6,1.0])\n",
    "\n",
    "parameters, covariance = curve_fit(FMpar, wvinv2, k_lam_V2, p0 = ic)\n",
    "\n",
    "print('Parameters obtained for fit: \\n')\n",
    "print('C1: ',parameters[0])\n",
    "print('C2: ',parameters[1])\n",
    "print('C3: ',parameters[2])\n",
    "print('C4: ',parameters[3])\n",
    "print('xo: ',parameters[4])\n",
    "print('gamma: ',parameters[5])"
   ]
  },
  {
   "cell_type": "markdown",
   "id": "aeecea91",
   "metadata": {},
   "source": [
    "Once you have that, include the fit in the extinction curve you obtained:"
   ]
  },
  {
   "cell_type": "code",
   "execution_count": 35,
   "id": "01bf4f11",
   "metadata": {},
   "outputs": [
    {
     "data": {
      "image/png": "[encoded data removed]",
      "text/plain": [
       "<Figure size 432x288 with 1 Axes>"
      ]
     },
     "metadata": {
      "needs_background": "light"
     },
     "output_type": "display_data"
    }
   ],
   "source": [
    "n = 1000\n",
    "x_wavinv = np.linspace(3,8,n)\n",
    "\n",
    "F = 0.5392*(x_wavinv-5.9)**2+0.05644*(x_wavinv-5.9)**3\n",
    "D = x_wavinv**2/((x_wavinv**2-parameters[4]**2)**2+x_wavinv**2*parameters[5]**2)\n",
    "k = parameters[0] + parameters[1]*x_wavinv + parameters[2]*D + parameters[3]*F\n",
    "\n",
    "plt.figure()\n",
    "plt.plot(wavinv,np.abs((np.log(flux/flux3)-np.log(V_69_206/V_67_5))/E_B_V),'o',markersize=2)\n",
    "plt.plot(wavinv2,np.abs((np.log(flux2/flux4)-np.log(V_69_206/V_67_5))/E_B_V),'o',markersize=2)\n",
    "plt.plot(x_wavinv,k,'k',linewidth=2)\n",
    "plt.xlim([3,8])\n",
    "plt.ylim([5,13])\n",
    "plt.xlabel(r'$1/\\lambda$ $[\\mu m^{-1}]$')\n",
    "plt.ylabel(r'$E(\\lambda-V)/E(B-V)$')\n",
    "plt.title('Sk -69 206')\n",
    "plt.show()"
   ]
  },
  {
   "cell_type": "markdown",
   "id": "aa188035",
   "metadata": {},
   "source": [
    "Can you see the difference in the trend followed by the extinction curve between this case (LMC) and the one before (SMC)? More information about the different trends can be found in the following <a href=\"https://arxiv.org/pdf/astro-ph/0305257.pdf\">article</a>."
   ]
  },
  {
   "cell_type": "markdown",
   "id": "2e48757b",
   "metadata": {},
   "source": [
    "## Additional Resources"
   ]
  },
  {
   "cell_type": "markdown",
   "id": "5516ade8",
   "metadata": {},
   "source": [
    "For more information about the MAST archive and details about mission data: \n",
    "\n",
    "<a href=\"https://mast.stsci.edu/api/v0/index.html\">MAST API</a> <br>\n",
    "<a href=\"https://archive.stsci.edu/iue/\">International Ultraviolet Explorer Page (MAST)</a> <br>\n",
    "<a href=\"https://archive.stsci.edu/iue/mdr_help.html\">IUE Data Retrieval Help Page</a> \n",
    "\n",
    "For more information about extinction curves and their parametrization:\n",
    "\n",
    "\n",
    "<a href=\"https://ui.adsabs.harvard.edu/abs/2003ApJ...594..279G/abstract\">A quantitative comparison of SMC, LMC and Milky Way UV to NIR extinction curves</a> <br>\n",
    "<a href=\"https://adsabs.harvard.edu/pdf/1990ApJS...72..163F\">An analysis of the shapes of the ultraviolet extinction curves. III. An atlas of ultraviolet extinction curves</a> "
   ]
  },
  {
   "cell_type": "markdown",
   "id": "db295f01",
   "metadata": {},
   "source": [
    "## About this Notebook"
   ]
  },
  {
   "cell_type": "markdown",
   "id": "0dd89314",
   "metadata": {},
   "source": [
    "**Author**: Clara Puerto Sánchez, ScienceBetter consultant <br>\n",
    "**Updated on**: 28/06/2022"
   ]
  },
  {
   "cell_type": "markdown",
   "id": "e32d8f1d",
   "metadata": {},
   "source": [
    "## Citations"
   ]
  },
  {
   "cell_type": "markdown",
   "id": "5035e4e7",
   "metadata": {},
   "source": [
    "If you use `astropy`, `numpy` or `scipy` for published research, please cite the\n",
    "authors. Follow these links for more information about citing them:\n",
    "\n",
    "* [Citing `astropy`](https://www.astropy.org/acknowledging.html)\n",
    "* [Citing `numpy`](https://numpy.org/citing-numpy/)\n",
    "* [Citing `scipy`](https://scipy.org/citing-scipy/)"
   ]
  },
  {
   "cell_type": "markdown",
   "id": "9fa1f3e8",
   "metadata": {},
   "source": [
    "<img style=\"float: right;\" src=\"https://raw.githubusercontent.com/spacetelescope/notebooks/master/assets/stsci_pri_combo_mark_horizonal_white_bkgd.png\" alt=\"Space Telescope Logo\" width=\"200px\"/>"
   ]
  }
 ],
 "metadata": {
  "kernelspec": {
   "display_name": "Python 3",
   "language": "python",
   "name": "python3"
  },
  "language_info": {
   "codemirror_mode": {
    "name": "ipython",
    "version": 3
   },
   "file_extension": ".py",
   "mimetype": "text/x-python",
   "name": "python",
   "nbconvert_exporter": "python",
   "pygments_lexer": "ipython3",
   "version": "3.8.8"
  }
 },
 "nbformat": 4,
 "nbformat_minor": 5
}
