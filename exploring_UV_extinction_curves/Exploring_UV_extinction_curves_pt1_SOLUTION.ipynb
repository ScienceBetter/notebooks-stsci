{
 "cells": [
  {
   "cell_type": "markdown",
   "id": "e9e6d48e",
   "metadata": {},
   "source": [
    "# Exploring UV extinction curves – Part 1 – SOLUTIONS\n",
    "\n",
    "Solutions proposed for Part 1.\n",
    "\n",
    "## Imports\n",
    "\n",
    "The first step will be to import the libraries we will be using throughout this tutorial: \n",
    "\n",
    "- _Observations_ from _astroquery.mast_ to query the Barbara A. Mikulski Archive for Space Telescopes (MAST).\n",
    "- _fits_ from _astropy.io_ for accessing FITS files\n",
    "- _numpy_ for array manipulations"
   ]
  },
  {
   "cell_type": "code",
   "execution_count": 1,
   "id": "91782309",
   "metadata": {},
   "outputs": [],
   "source": [
    "from astroquery.mast import Observations\n",
    "from astropy.io import fits\n",
    "import numpy as np"
   ]
  },
  {
   "cell_type": "markdown",
   "id": "7359d5b0",
   "metadata": {},
   "source": [
    "## Functions needed\n",
    "\n",
    "Functions defined in the tutorial that will be used in the solutions of the exercises:"
   ]
  },
  {
   "cell_type": "code",
   "execution_count": 2,
   "id": "868a98c6",
   "metadata": {},
   "outputs": [],
   "source": [
    "def changeNaN(wavv,fluxx,wavv1,fluxx1):\n",
    "    \n",
    "    \"\"\"\n",
    "    Removes negative flux values to avoid encountering NaN when converting to flux scale\n",
    "    \n",
    "    Inputs:\n",
    "    :param wavv,wavv1: input wavelength arrays\n",
    "    :type wavv,wavv1: float array\n",
    "    :param fluxx,fluxx1: input wavelength arrays\n",
    "    :type fluxx,fluxx1: float array\n",
    "    \n",
    "    Outputs: \n",
    "    :return: wavv,fluxx,wavv1,fluxx1 without the corresponding problematic values\n",
    "    :rtype: float array\n",
    "    \"\"\"\n",
    "    \n",
    "    prob = np.where(fluxx < 0)[0]\n",
    "    wavv = np.delete(wavv,prob)\n",
    "    fluxx = np.delete(fluxx,prob)\n",
    "    wavv1 = np.delete(wavv1,prob)\n",
    "    fluxx1 = np.delete(fluxx1,prob)\n",
    "    \n",
    "    prob2 = np.where(fluxx1 < 0)[0]\n",
    "    wavv = np.delete(wavv,prob2)\n",
    "    fluxx = np.delete(fluxx,prob2)\n",
    "    wavv1 = np.delete(wavv1,prob2)\n",
    "    fluxx1 = np.delete(fluxx1,prob2)\n",
    "    \n",
    "    return wavv, fluxx, wavv1, fluxx1"
   ]
  },
  {
   "cell_type": "code",
   "execution_count": 3,
   "id": "8ef8a5cb",
   "metadata": {},
   "outputs": [],
   "source": [
    "def saveArray(array,filename):\n",
    "    \n",
    "    \"\"\"\n",
    "    Saves arrays into .txt files in current directory and checks that the files have been written properly\n",
    "    \n",
    "    Inputs:\n",
    "    :param array: array to be saved to local directory\n",
    "    :type array: float array\n",
    "    :param filename: name of file to be saved\n",
    "    :type filename: string\n",
    "    \n",
    "    Outputs: \n",
    "    :return: none\n",
    "    :rtype: none\n",
    "    \"\"\"\n",
    "    \n",
    "    # First display the start and ending of the array to check later\n",
    "    print('First 3 elements of original array:\\n', array[:3])\n",
    "    print('Last 3 elements of original array:\\n', array[-3:])\n",
    "\n",
    "    # Save the array in a text file\n",
    "    np.savetxt(filename,array)\n",
    "    \n",
    "    # Display the saved content to check it was correctly written to the .txt file\n",
    "    content = np.loadtxt(filename)\n",
    "    print('First 3 elements of '+filename+':\\n', content[:3])\n",
    "    print('Last 3 elements of '+filename+':\\n', content[-3:],'\\n')\n",
    "    \n",
    "    return None"
   ]
  },
  {
   "cell_type": "markdown",
   "id": "4afadcdd",
   "metadata": {},
   "source": [
    "## Exercises\n",
    "\n",
    "Now you can try to do it yourself! Try to obtain the extinction curve of a Large Magellanic Cloud (LMC) following the steps presented for the SMC one and look for the differences in the trend between the two.\n",
    "\n",
    "### 1. Load the data\n",
    "\n",
    "The targets for this exercise will be:\n",
    "\n",
    "- Sk -69 206 (Observation IDs: swp36552, lwp15751) (reddened star)\n",
    "- Sk -67 5 (Observation IDs: swp04827, lwr04170) (unreddened star)\n",
    "\n",
    "First, do the database search for the reddened star:"
   ]
  },
  {
   "cell_type": "code",
   "execution_count": 4,
   "id": "a760d41b",
   "metadata": {},
   "outputs": [
    {
     "data": {
      "text/html": [
       "<div><i>Table masked=True length=8988</i>\n",
       "<table id=\"table140664111814208\" class=\"table-striped table-bordered table-condensed\">\n",
       "<thead><tr><th>obsID</th><th>obs_collection</th><th>dataproduct_type</th><th>obs_id</th><th>description</th><th>type</th><th>dataURI</th><th>productType</th><th>productGroupDescription</th><th>productSubGroupDescription</th><th>productDocumentationURL</th><th>project</th><th>prvversion</th><th>proposal_id</th><th>productFilename</th><th>size</th><th>parent_obsid</th><th>dataRights</th><th>calib_level</th></tr></thead>\n",
       "<thead><tr><th>str6</th><th>str3</th><th>str8</th><th>str8</th><th>str56</th><th>str1</th><th>str62</th><th>str9</th><th>str28</th><th>str56</th><th>str1</th><th>str1</th><th>str1</th><th>str5</th><th>str20</th><th>int64</th><th>str6</th><th>str6</th><th>int64</th></tr></thead>\n",
       "<tr><td>276552</td><td>IUE</td><td>spectrum</td><td>lwp03703</td><td>ELBLL</td><td>S</td><td>mast:IUE/url/pub/iue/data/lwp/03000/lwp03703.elbll.gz</td><td>AUXILIARY</td><td>--</td><td>--</td><td>--</td><td>--</td><td>--</td><td>WRGCG</td><td>lwp03703.elbll.gz</td><td>100355</td><td>276552</td><td>PUBLIC</td><td>2</td></tr>\n",
       "<tr><td>276552</td><td>IUE</td><td>spectrum</td><td>lwp03703</td><td>LILO</td><td>S</td><td>mast:IUE/url/pub/iue/data/lwp/03000/lwp03703.lilo.gz</td><td>AUXILIARY</td><td>--</td><td>--</td><td>--</td><td>--</td><td>--</td><td>WRGCG</td><td>lwp03703.lilo.gz</td><td>535333</td><td>276552</td><td>PUBLIC</td><td>2</td></tr>\n",
       "<tr><td>276552</td><td>IUE</td><td>spectrum</td><td>lwp03703</td><td>MELOL</td><td>S</td><td>mast:IUE/url/pub/iue/data/lwp/03000/lwp03703.melol.gz</td><td>AUXILIARY</td><td>--</td><td>--</td><td>--</td><td>--</td><td>--</td><td>WRGCG</td><td>lwp03703.melol.gz</td><td>12071</td><td>276552</td><td>PUBLIC</td><td>2</td></tr>\n",
       "<tr><td>276552</td><td>IUE</td><td>spectrum</td><td>lwp03703</td><td>RAW</td><td>S</td><td>mast:IUE/url/pub/iue/data/lwp/03000/lwp03703.raw.gz</td><td>AUXILIARY</td><td>--</td><td>--</td><td>--</td><td>--</td><td>--</td><td>WRGCG</td><td>lwp03703.raw.gz</td><td>358821</td><td>276552</td><td>PUBLIC</td><td>2</td></tr>\n",
       "<tr><td>276552</td><td>IUE</td><td>spectrum</td><td>lwp03703</td><td>RILO</td><td>S</td><td>mast:IUE/url/pub/iue/data/lwp/03000/lwp03703.rilo.gz</td><td>AUXILIARY</td><td>--</td><td>--</td><td>--</td><td>--</td><td>--</td><td>WRGCG</td><td>lwp03703.rilo.gz</td><td>363834</td><td>276552</td><td>PUBLIC</td><td>2</td></tr>\n",
       "<tr><td>276552</td><td>IUE</td><td>spectrum</td><td>lwp03703</td><td>SILO</td><td>S</td><td>mast:IUE/url/pub/iue/data/lwp/03000/lwp03703.silo.gz</td><td>AUXILIARY</td><td>--</td><td>--</td><td>--</td><td>--</td><td>--</td><td>WRGCG</td><td>lwp03703.silo.gz</td><td>89362</td><td>276552</td><td>PUBLIC</td><td>2</td></tr>\n",
       "<tr><td>276552</td><td>IUE</td><td>spectrum</td><td>lwp03703</td><td>Preview-Full</td><td>S</td><td>mast:IUE/url/browse/previews/iue/mx/lwp/03000/gif/lwp03703.gif</td><td>PREVIEW</td><td>--</td><td>--</td><td>--</td><td>--</td><td>--</td><td>WRGCG</td><td>lwp03703.gif</td><td>10823</td><td>276552</td><td>PUBLIC</td><td>2</td></tr>\n",
       "<tr><td>276552</td><td>IUE</td><td>spectrum</td><td>lwp03703</td><td>MXLO</td><td>S</td><td>mast:IUE/url/pub/iue/data/lwp/03000/lwp03703.mxlo.gz</td><td>SCIENCE</td><td>Minimum Recommended Products</td><td>--</td><td>--</td><td>--</td><td>--</td><td>WRGCG</td><td>lwp03703.mxlo.gz</td><td>18011</td><td>276552</td><td>PUBLIC</td><td>2</td></tr>\n",
       "<tr><td>276552</td><td>IUE</td><td>spectrum</td><td>lwp03703</td><td>(extracted spectra/vo spectral container/SSAP) fits file</td><td>S</td><td>mast:IUE/url/pub/vospectra/iue2/lwp03703mxlo_vo.fits</td><td>SCIENCE</td><td>Minimum Recommended Products</td><td>(extracted spectra/vo spectral container/SSAP) fits file</td><td>--</td><td>--</td><td>--</td><td>WRGCG</td><td>lwp03703mxlo_vo.fits</td><td>48960</td><td>276552</td><td>PUBLIC</td><td>2</td></tr>\n",
       "<tr><td>276557</td><td>IUE</td><td>spectrum</td><td>lwp03708</td><td>ELBLL</td><td>S</td><td>mast:IUE/url/pub/iue/data/lwp/03000/lwp03708.elbll.gz</td><td>AUXILIARY</td><td>--</td><td>--</td><td>--</td><td>--</td><td>--</td><td>WRGCG</td><td>lwp03708.elbll.gz</td><td>97951</td><td>276557</td><td>PUBLIC</td><td>2</td></tr>\n",
       "<tr><td>...</td><td>...</td><td>...</td><td>...</td><td>...</td><td>...</td><td>...</td><td>...</td><td>...</td><td>...</td><td>...</td><td>...</td><td>...</td><td>...</td><td>...</td><td>...</td><td>...</td><td>...</td><td>...</td></tr>\n",
       "<tr><td>339085</td><td>IUE</td><td>spectrum</td><td>swp53276</td><td>Preview-Full</td><td>S</td><td>mast:IUE/url/browse/previews/iue/mx/swp/53000/gif/swp53276.gif</td><td>PREVIEW</td><td>--</td><td>--</td><td>--</td><td>--</td><td>--</td><td>SNQAC</td><td>swp53276.gif</td><td>10199</td><td>339085</td><td>PUBLIC</td><td>2</td></tr>\n",
       "<tr><td>339085</td><td>IUE</td><td>spectrum</td><td>swp53276</td><td>MXLO</td><td>S</td><td>mast:IUE/url/pub/iue/data/swp/53000/swp53276.mxlo.gz</td><td>SCIENCE</td><td>Minimum Recommended Products</td><td>--</td><td>--</td><td>--</td><td>--</td><td>SNQAC</td><td>swp53276.mxlo.gz</td><td>25972</td><td>339085</td><td>PUBLIC</td><td>2</td></tr>\n",
       "<tr><td>339085</td><td>IUE</td><td>spectrum</td><td>swp53276</td><td>(extracted spectra/vo spectral container/SSAP) fits file</td><td>S</td><td>mast:IUE/url/pub/vospectra/iue2/swp53276mxlo_vo.fits</td><td>SCIENCE</td><td>Minimum Recommended Products</td><td>(extracted spectra/vo spectral container/SSAP) fits file</td><td>--</td><td>--</td><td>--</td><td>SNQAC</td><td>swp53276mxlo_vo.fits</td><td>57600</td><td>339085</td><td>PUBLIC</td><td>2</td></tr>\n",
       "<tr><td>340766</td><td>IUE</td><td>spectrum</td><td>swp56374</td><td>LILO</td><td>S</td><td>mast:IUE/url/pub/iue/data/swp/56000/swp56374.lilo.gz</td><td>AUXILIARY</td><td>--</td><td>--</td><td>--</td><td>--</td><td>--</td><td>SE044</td><td>swp56374.lilo.gz</td><td>568025</td><td>340766</td><td>PUBLIC</td><td>2</td></tr>\n",
       "<tr><td>340766</td><td>IUE</td><td>spectrum</td><td>swp56374</td><td>RAW</td><td>S</td><td>mast:IUE/url/pub/iue/data/swp/56000/swp56374.raw.gz</td><td>AUXILIARY</td><td>--</td><td>--</td><td>--</td><td>--</td><td>--</td><td>SE044</td><td>swp56374.raw.gz</td><td>389191</td><td>340766</td><td>PUBLIC</td><td>2</td></tr>\n",
       "<tr><td>340766</td><td>IUE</td><td>spectrum</td><td>swp56374</td><td>RILO</td><td>S</td><td>mast:IUE/url/pub/iue/data/swp/56000/swp56374.rilo.gz</td><td>AUXILIARY</td><td>--</td><td>--</td><td>--</td><td>--</td><td>--</td><td>SE044</td><td>swp56374.rilo.gz</td><td>394767</td><td>340766</td><td>PUBLIC</td><td>2</td></tr>\n",
       "<tr><td>340766</td><td>IUE</td><td>spectrum</td><td>swp56374</td><td>SILO</td><td>S</td><td>mast:IUE/url/pub/iue/data/swp/56000/swp56374.silo.gz</td><td>AUXILIARY</td><td>--</td><td>--</td><td>--</td><td>--</td><td>--</td><td>SE044</td><td>swp56374.silo.gz</td><td>87910</td><td>340766</td><td>PUBLIC</td><td>2</td></tr>\n",
       "<tr><td>340766</td><td>IUE</td><td>spectrum</td><td>swp56374</td><td>Preview-Full</td><td>S</td><td>mast:IUE/url/browse/previews/iue/mx/swp/56000/gif/swp56374.gif</td><td>PREVIEW</td><td>--</td><td>--</td><td>--</td><td>--</td><td>--</td><td>SE044</td><td>swp56374.gif</td><td>5950</td><td>340766</td><td>PUBLIC</td><td>2</td></tr>\n",
       "<tr><td>340766</td><td>IUE</td><td>spectrum</td><td>swp56374</td><td>MXLO</td><td>S</td><td>mast:IUE/url/pub/iue/data/swp/56000/swp56374.mxlo.gz</td><td>SCIENCE</td><td>Minimum Recommended Products</td><td>--</td><td>--</td><td>--</td><td>--</td><td>SE044</td><td>swp56374.mxlo.gz</td><td>17109</td><td>340766</td><td>PUBLIC</td><td>2</td></tr>\n",
       "<tr><td>340766</td><td>IUE</td><td>spectrum</td><td>swp56374</td><td>(extracted spectra/vo spectral container/SSAP) fits file</td><td>S</td><td>mast:IUE/url/pub/vospectra/iue2/swp56374mxlo_vo.fits</td><td>SCIENCE</td><td>Minimum Recommended Products</td><td>(extracted spectra/vo spectral container/SSAP) fits file</td><td>--</td><td>--</td><td>--</td><td>SE044</td><td>swp56374mxlo_vo.fits</td><td>51840</td><td>340766</td><td>PUBLIC</td><td>2</td></tr>\n",
       "</table></div>"
      ],
      "text/plain": [
       "<Table masked=True length=8988>\n",
       "obsID  obs_collection dataproduct_type ... parent_obsid dataRights calib_level\n",
       " str6       str3            str8       ...     str6        str6       int64   \n",
       "------ -------------- ---------------- ... ------------ ---------- -----------\n",
       "276552            IUE         spectrum ...       276552     PUBLIC           2\n",
       "276552            IUE         spectrum ...       276552     PUBLIC           2\n",
       "276552            IUE         spectrum ...       276552     PUBLIC           2\n",
       "276552            IUE         spectrum ...       276552     PUBLIC           2\n",
       "276552            IUE         spectrum ...       276552     PUBLIC           2\n",
       "276552            IUE         spectrum ...       276552     PUBLIC           2\n",
       "276552            IUE         spectrum ...       276552     PUBLIC           2\n",
       "276552            IUE         spectrum ...       276552     PUBLIC           2\n",
       "276552            IUE         spectrum ...       276552     PUBLIC           2\n",
       "276557            IUE         spectrum ...       276557     PUBLIC           2\n",
       "   ...            ...              ... ...          ...        ...         ...\n",
       "339085            IUE         spectrum ...       339085     PUBLIC           2\n",
       "339085            IUE         spectrum ...       339085     PUBLIC           2\n",
       "339085            IUE         spectrum ...       339085     PUBLIC           2\n",
       "340766            IUE         spectrum ...       340766     PUBLIC           2\n",
       "340766            IUE         spectrum ...       340766     PUBLIC           2\n",
       "340766            IUE         spectrum ...       340766     PUBLIC           2\n",
       "340766            IUE         spectrum ...       340766     PUBLIC           2\n",
       "340766            IUE         spectrum ...       340766     PUBLIC           2\n",
       "340766            IUE         spectrum ...       340766     PUBLIC           2\n",
       "340766            IUE         spectrum ...       340766     PUBLIC           2"
      ]
     },
     "execution_count": 4,
     "metadata": {},
     "output_type": "execute_result"
    }
   ],
   "source": [
    "IUEobs_sk_69_206 = Observations.query_criteria(objectname=\"SK-69206\",obs_collection=\"IUE\")\n",
    "data_products_sk_69_206 = Observations.get_product_list(IUEobs_sk_69_206)\n",
    "\n",
    "data_products_sk_69_206"
   ]
  },
  {
   "cell_type": "markdown",
   "id": "5509791b",
   "metadata": {},
   "source": [
    "Narrow down the possibilities to the desired observation, observation ID: \"swp36552\":"
   ]
  },
  {
   "cell_type": "code",
   "execution_count": 5,
   "id": "ea37f330",
   "metadata": {},
   "outputs": [
    {
     "data": {
      "text/html": [
       "<div><i>Table masked=True length=1</i>\n",
       "<table id=\"table140664111947632\" class=\"table-striped table-bordered table-condensed\">\n",
       "<thead><tr><th>obsID</th><th>obs_collection</th><th>dataproduct_type</th><th>obs_id</th><th>description</th><th>type</th><th>dataURI</th><th>productType</th><th>productGroupDescription</th><th>productSubGroupDescription</th><th>productDocumentationURL</th><th>project</th><th>prvversion</th><th>proposal_id</th><th>productFilename</th><th>size</th><th>parent_obsid</th><th>dataRights</th><th>calib_level</th></tr></thead>\n",
       "<thead><tr><th>str6</th><th>str3</th><th>str8</th><th>str8</th><th>str56</th><th>str1</th><th>str62</th><th>str9</th><th>str28</th><th>str56</th><th>str1</th><th>str1</th><th>str1</th><th>str5</th><th>str20</th><th>int64</th><th>str6</th><th>str6</th><th>int64</th></tr></thead>\n",
       "<tr><td>327806</td><td>IUE</td><td>spectrum</td><td>swp36552</td><td>(extracted spectra/vo spectral container/SSAP) fits file</td><td>S</td><td>mast:IUE/url/pub/vospectra/iue2/swp36552mxlo_vo.fits</td><td>SCIENCE</td><td>Minimum Recommended Products</td><td>(extracted spectra/vo spectral container/SSAP) fits file</td><td>--</td><td>--</td><td>--</td><td>OBLCG</td><td>swp36552mxlo_vo.fits</td><td>48960</td><td>327806</td><td>PUBLIC</td><td>2</td></tr>\n",
       "</table></div>"
      ],
      "text/plain": [
       "<Table masked=True length=1>\n",
       "obsID  obs_collection dataproduct_type ... parent_obsid dataRights calib_level\n",
       " str6       str3            str8       ...     str6        str6       int64   \n",
       "------ -------------- ---------------- ... ------------ ---------- -----------\n",
       "327806            IUE         spectrum ...       327806     PUBLIC           2"
      ]
     },
     "execution_count": 5,
     "metadata": {},
     "output_type": "execute_result"
    }
   ],
   "source": [
    "IUEobs_sk_69_206_sw = Observations.query_criteria(obs_collection=\"IUE\", obs_id=\"swp36552\")\n",
    "data_products_sk_69_206_sw = Observations.get_product_list(IUEobs_sk_69_206_sw)\n",
    "yourProd_sk_69_206_sw = Observations.filter_products(data_products_sk_69_206_sw, extension=\"swp36552mxlo_vo.fits\")\n",
    "\n",
    "yourProd_sk_69_206_sw"
   ]
  },
  {
   "cell_type": "markdown",
   "id": "2a9fd0da",
   "metadata": {},
   "source": [
    "Now, download the data as before:"
   ]
  },
  {
   "cell_type": "code",
   "execution_count": 6,
   "id": "28a22cad",
   "metadata": {},
   "outputs": [
    {
     "name": "stdout",
     "output_type": "stream",
     "text": [
      "Downloading URL https://mast.stsci.edu/api/v0.1/Download/file?uri=mast:IUE/url/pub/vospectra/iue2/swp36552mxlo_vo.fits to ./mastDownload/IUE/swp36552/swp36552mxlo_vo.fits ... [Done]\n"
     ]
    },
    {
     "data": {
      "text/html": [
       "<div><i>Table length=1</i>\n",
       "<table id=\"table140664111814016\" class=\"table-striped table-bordered table-condensed\">\n",
       "<thead><tr><th>Local Path</th><th>Status</th><th>Message</th><th>URL</th></tr></thead>\n",
       "<thead><tr><th>str48</th><th>str8</th><th>object</th><th>object</th></tr></thead>\n",
       "<tr><td>./mastDownload/IUE/swp36552/swp36552mxlo_vo.fits</td><td>COMPLETE</td><td>None</td><td>None</td></tr>\n",
       "</table></div>"
      ],
      "text/plain": [
       "<Table length=1>\n",
       "                   Local Path                     Status  Message  URL  \n",
       "                     str48                         str8    object object\n",
       "------------------------------------------------ -------- ------- ------\n",
       "./mastDownload/IUE/swp36552/swp36552mxlo_vo.fits COMPLETE    None   None"
      ]
     },
     "execution_count": 6,
     "metadata": {},
     "output_type": "execute_result"
    }
   ],
   "source": [
    "Observations.download_products(yourProd_sk_69_206_sw, mrp_only = False, cache = False) "
   ]
  },
  {
   "cell_type": "markdown",
   "id": "ab773e38",
   "metadata": {},
   "source": [
    "And again, in order to cover a wider wavelength range, let's also download the other part of the spectra using the second observation ID provided, observation ID: \"lwp15751\":"
   ]
  },
  {
   "cell_type": "code",
   "execution_count": 7,
   "id": "f9fa91d6",
   "metadata": {},
   "outputs": [
    {
     "name": "stdout",
     "output_type": "stream",
     "text": [
      "Downloading URL https://mast.stsci.edu/api/v0.1/Download/file?uri=mast:IUE/url/pub/vospectra/iue2/lwp15751mxlo_vo.fits to ./mastDownload/IUE/lwp15751/lwp15751mxlo_vo.fits ... [Done]\n"
     ]
    },
    {
     "data": {
      "text/html": [
       "<div><i>Table length=1</i>\n",
       "<table id=\"table140664094505712\" class=\"table-striped table-bordered table-condensed\">\n",
       "<thead><tr><th>Local Path</th><th>Status</th><th>Message</th><th>URL</th></tr></thead>\n",
       "<thead><tr><th>str48</th><th>str8</th><th>object</th><th>object</th></tr></thead>\n",
       "<tr><td>./mastDownload/IUE/lwp15751/lwp15751mxlo_vo.fits</td><td>COMPLETE</td><td>None</td><td>None</td></tr>\n",
       "</table></div>"
      ],
      "text/plain": [
       "<Table length=1>\n",
       "                   Local Path                     Status  Message  URL  \n",
       "                     str48                         str8    object object\n",
       "------------------------------------------------ -------- ------- ------\n",
       "./mastDownload/IUE/lwp15751/lwp15751mxlo_vo.fits COMPLETE    None   None"
      ]
     },
     "execution_count": 7,
     "metadata": {},
     "output_type": "execute_result"
    }
   ],
   "source": [
    "IUEobs_sk_69_206_lw = Observations.query_criteria(obs_collection=\"IUE\", obs_id=\"lwp15751\")\n",
    "data_products_sk_69_206_lw = Observations.get_product_list(IUEobs_sk_69_206_lw)\n",
    "yourProd_sk_69_206_lw = Observations.filter_products(data_products_sk_69_206_lw, extension=\"lwp15751mxlo_vo.fits\")\n",
    "Observations.download_products(yourProd_sk_69_206_lw, mrp_only = False, cache = False) "
   ]
  },
  {
   "cell_type": "markdown",
   "id": "01a453cb",
   "metadata": {},
   "source": [
    "Now, let's do the same for the unreddened star:"
   ]
  },
  {
   "cell_type": "code",
   "execution_count": 8,
   "id": "ec502320",
   "metadata": {},
   "outputs": [
    {
     "data": {
      "text/html": [
       "<div><i>Table masked=True length=64</i>\n",
       "<table id=\"table140664111944752\" class=\"table-striped table-bordered table-condensed\">\n",
       "<thead><tr><th>obsID</th><th>obs_collection</th><th>dataproduct_type</th><th>obs_id</th><th>description</th><th>type</th><th>dataURI</th><th>productType</th><th>productGroupDescription</th><th>productSubGroupDescription</th><th>productDocumentationURL</th><th>project</th><th>prvversion</th><th>proposal_id</th><th>productFilename</th><th>size</th><th>parent_obsid</th><th>dataRights</th><th>calib_level</th></tr></thead>\n",
       "<thead><tr><th>str6</th><th>str3</th><th>str8</th><th>str8</th><th>str56</th><th>str1</th><th>str62</th><th>str9</th><th>str28</th><th>str56</th><th>str1</th><th>str1</th><th>str1</th><th>str5</th><th>str20</th><th>int64</th><th>str6</th><th>str6</th><th>int64</th></tr></thead>\n",
       "<tr><td>293177</td><td>IUE</td><td>spectrum</td><td>lwp29080</td><td>ELBLL</td><td>S</td><td>mast:IUE/url/pub/iue/data/lwp/29000/lwp29080.elbll.gz</td><td>AUXILIARY</td><td>--</td><td>--</td><td>--</td><td>--</td><td>--</td><td>PHCAL</td><td>lwp29080.elbll.gz</td><td>193068</td><td>293177</td><td>PUBLIC</td><td>2</td></tr>\n",
       "<tr><td>293177</td><td>IUE</td><td>spectrum</td><td>lwp29080</td><td>LILO</td><td>S</td><td>mast:IUE/url/pub/iue/data/lwp/29000/lwp29080.lilo.gz</td><td>AUXILIARY</td><td>--</td><td>--</td><td>--</td><td>--</td><td>--</td><td>PHCAL</td><td>lwp29080.lilo.gz</td><td>508441</td><td>293177</td><td>PUBLIC</td><td>2</td></tr>\n",
       "<tr><td>293177</td><td>IUE</td><td>spectrum</td><td>lwp29080</td><td>MELOL</td><td>S</td><td>mast:IUE/url/pub/iue/data/lwp/29000/lwp29080.melol.gz</td><td>AUXILIARY</td><td>--</td><td>--</td><td>--</td><td>--</td><td>--</td><td>PHCAL</td><td>lwp29080.melol.gz</td><td>11897</td><td>293177</td><td>PUBLIC</td><td>2</td></tr>\n",
       "<tr><td>293177</td><td>IUE</td><td>spectrum</td><td>lwp29080</td><td>RAW</td><td>S</td><td>mast:IUE/url/pub/iue/data/lwp/29000/lwp29080.raw.gz</td><td>AUXILIARY</td><td>--</td><td>--</td><td>--</td><td>--</td><td>--</td><td>PHCAL</td><td>lwp29080.raw.gz</td><td>341374</td><td>293177</td><td>PUBLIC</td><td>2</td></tr>\n",
       "<tr><td>293177</td><td>IUE</td><td>spectrum</td><td>lwp29080</td><td>RILO</td><td>S</td><td>mast:IUE/url/pub/iue/data/lwp/29000/lwp29080.rilo.gz</td><td>AUXILIARY</td><td>--</td><td>--</td><td>--</td><td>--</td><td>--</td><td>PHCAL</td><td>lwp29080.rilo.gz</td><td>346716</td><td>293177</td><td>PUBLIC</td><td>2</td></tr>\n",
       "<tr><td>293177</td><td>IUE</td><td>spectrum</td><td>lwp29080</td><td>SILO</td><td>S</td><td>mast:IUE/url/pub/iue/data/lwp/29000/lwp29080.silo.gz</td><td>AUXILIARY</td><td>--</td><td>--</td><td>--</td><td>--</td><td>--</td><td>PHCAL</td><td>lwp29080.silo.gz</td><td>84716</td><td>293177</td><td>PUBLIC</td><td>2</td></tr>\n",
       "<tr><td>293177</td><td>IUE</td><td>spectrum</td><td>lwp29080</td><td>Preview-Full</td><td>S</td><td>mast:IUE/url/browse/previews/iue/mx/lwp/29000/gif/lwp29080.gif</td><td>PREVIEW</td><td>--</td><td>--</td><td>--</td><td>--</td><td>--</td><td>PHCAL</td><td>lwp29080.gif</td><td>5823</td><td>293177</td><td>PUBLIC</td><td>2</td></tr>\n",
       "<tr><td>293177</td><td>IUE</td><td>spectrum</td><td>lwp29080</td><td>MXLO</td><td>S</td><td>mast:IUE/url/pub/iue/data/lwp/29000/lwp29080.mxlo.gz</td><td>SCIENCE</td><td>Minimum Recommended Products</td><td>--</td><td>--</td><td>--</td><td>--</td><td>PHCAL</td><td>lwp29080.mxlo.gz</td><td>17660</td><td>293177</td><td>PUBLIC</td><td>2</td></tr>\n",
       "<tr><td>293177</td><td>IUE</td><td>spectrum</td><td>lwp29080</td><td>(extracted spectra/vo spectral container/SSAP) fits file</td><td>S</td><td>mast:IUE/url/pub/vospectra/iue2/lwp29080mxlo_vo.fits</td><td>SCIENCE</td><td>Minimum Recommended Products</td><td>(extracted spectra/vo spectral container/SSAP) fits file</td><td>--</td><td>--</td><td>--</td><td>PHCAL</td><td>lwp29080mxlo_vo.fits</td><td>48960</td><td>293177</td><td>PUBLIC</td><td>2</td></tr>\n",
       "<tr><td>296811</td><td>IUE</td><td>spectrum</td><td>lwr04170</td><td>ELBLL</td><td>S</td><td>mast:IUE/url/pub/iue/data/lwr/04000/lwr04170.elbll.gz</td><td>AUXILIARY</td><td>--</td><td>--</td><td>--</td><td>--</td><td>--</td><td>MSJDW</td><td>lwr04170.elbll.gz</td><td>183794</td><td>296811</td><td>PUBLIC</td><td>2</td></tr>\n",
       "<tr><td>...</td><td>...</td><td>...</td><td>...</td><td>...</td><td>...</td><td>...</td><td>...</td><td>...</td><td>...</td><td>...</td><td>...</td><td>...</td><td>...</td><td>...</td><td>...</td><td>...</td><td>...</td><td>...</td></tr>\n",
       "<tr><td>380157</td><td>IUE</td><td>spectrum</td><td>swp51851</td><td>SIHI</td><td>S</td><td>mast:IUE/url//pub/iue/data/swp/51000/swp51851.sihi.gz</td><td>AUXILIARY</td><td>--</td><td>--</td><td>--</td><td>--</td><td>--</td><td>MCRBW</td><td>swp51851.sihi.gz</td><td>740501</td><td>380157</td><td>PUBLIC</td><td>2</td></tr>\n",
       "<tr><td>380157</td><td>IUE</td><td>spectrum</td><td>swp51851</td><td>Preview-Full</td><td>S</td><td>mast:IUE/url/browse/previews/iue/mx/swp/51000/gif/swp51851.gif</td><td>PREVIEW</td><td>--</td><td>--</td><td>--</td><td>--</td><td>--</td><td>MCRBW</td><td>swp51851.gif</td><td>--</td><td>380157</td><td>PUBLIC</td><td>2</td></tr>\n",
       "<tr><td>380157</td><td>IUE</td><td>spectrum</td><td>swp51851</td><td>MXHI</td><td>S</td><td>mast:IUE/url/missions/iue/data/swp/51000/swp51851.mxhi.gz</td><td>SCIENCE</td><td>Minimum Recommended Products</td><td>--</td><td>--</td><td>--</td><td>--</td><td>MCRBW</td><td>swp51851.mxhi.gz</td><td>653</td><td>380157</td><td>PUBLIC</td><td>2</td></tr>\n",
       "<tr><td>380177</td><td>IUE</td><td>spectrum</td><td>swp52010</td><td>LIHI</td><td>S</td><td>mast:IUE/url//pub/iue/data/swp/52000/swp52010.lihi.gz</td><td>AUXILIARY</td><td>--</td><td>--</td><td>--</td><td>--</td><td>--</td><td>MCRBW</td><td>swp52010.lihi.gz</td><td>790963</td><td>380177</td><td>PUBLIC</td><td>2</td></tr>\n",
       "<tr><td>380177</td><td>IUE</td><td>spectrum</td><td>swp52010</td><td>MEHIL</td><td>S</td><td>mast:IUE/url//pub/iue/data/swp/52000/swp52010.mehil.gz</td><td>AUXILIARY</td><td>--</td><td>--</td><td>--</td><td>--</td><td>--</td><td>MCRBW</td><td>swp52010.mehil.gz</td><td>532730</td><td>380177</td><td>PUBLIC</td><td>2</td></tr>\n",
       "<tr><td>380177</td><td>IUE</td><td>spectrum</td><td>swp52010</td><td>RAW</td><td>S</td><td>mast:IUE/url//pub/iue/data/swp/52000/swp52010.raw.gz</td><td>AUXILIARY</td><td>--</td><td>--</td><td>--</td><td>--</td><td>--</td><td>MCRBW</td><td>swp52010.raw.gz</td><td>401232</td><td>380177</td><td>PUBLIC</td><td>2</td></tr>\n",
       "<tr><td>380177</td><td>IUE</td><td>spectrum</td><td>swp52010</td><td>RIHI</td><td>S</td><td>mast:IUE/url//pub/iue/data/swp/52000/swp52010.rihi.gz</td><td>AUXILIARY</td><td>--</td><td>--</td><td>--</td><td>--</td><td>--</td><td>MCRBW</td><td>swp52010.rihi.gz</td><td>406634</td><td>380177</td><td>PUBLIC</td><td>2</td></tr>\n",
       "<tr><td>380177</td><td>IUE</td><td>spectrum</td><td>swp52010</td><td>SIHI</td><td>S</td><td>mast:IUE/url//pub/iue/data/swp/52000/swp52010.sihi.gz</td><td>AUXILIARY</td><td>--</td><td>--</td><td>--</td><td>--</td><td>--</td><td>MCRBW</td><td>swp52010.sihi.gz</td><td>737130</td><td>380177</td><td>PUBLIC</td><td>2</td></tr>\n",
       "<tr><td>380177</td><td>IUE</td><td>spectrum</td><td>swp52010</td><td>Preview-Full</td><td>S</td><td>mast:IUE/url/browse/previews/iue/mx/swp/52000/gif/swp52010.gif</td><td>PREVIEW</td><td>--</td><td>--</td><td>--</td><td>--</td><td>--</td><td>MCRBW</td><td>swp52010.gif</td><td>--</td><td>380177</td><td>PUBLIC</td><td>2</td></tr>\n",
       "<tr><td>380177</td><td>IUE</td><td>spectrum</td><td>swp52010</td><td>MXHI</td><td>S</td><td>mast:IUE/url/missions/iue/data/swp/52000/swp52010.mxhi.gz</td><td>SCIENCE</td><td>Minimum Recommended Products</td><td>--</td><td>--</td><td>--</td><td>--</td><td>MCRBW</td><td>swp52010.mxhi.gz</td><td>653</td><td>380177</td><td>PUBLIC</td><td>2</td></tr>\n",
       "</table></div>"
      ],
      "text/plain": [
       "<Table masked=True length=64>\n",
       "obsID  obs_collection dataproduct_type ... parent_obsid dataRights calib_level\n",
       " str6       str3            str8       ...     str6        str6       int64   \n",
       "------ -------------- ---------------- ... ------------ ---------- -----------\n",
       "293177            IUE         spectrum ...       293177     PUBLIC           2\n",
       "293177            IUE         spectrum ...       293177     PUBLIC           2\n",
       "293177            IUE         spectrum ...       293177     PUBLIC           2\n",
       "293177            IUE         spectrum ...       293177     PUBLIC           2\n",
       "293177            IUE         spectrum ...       293177     PUBLIC           2\n",
       "293177            IUE         spectrum ...       293177     PUBLIC           2\n",
       "293177            IUE         spectrum ...       293177     PUBLIC           2\n",
       "293177            IUE         spectrum ...       293177     PUBLIC           2\n",
       "293177            IUE         spectrum ...       293177     PUBLIC           2\n",
       "296811            IUE         spectrum ...       296811     PUBLIC           2\n",
       "   ...            ...              ... ...          ...        ...         ...\n",
       "380157            IUE         spectrum ...       380157     PUBLIC           2\n",
       "380157            IUE         spectrum ...       380157     PUBLIC           2\n",
       "380157            IUE         spectrum ...       380157     PUBLIC           2\n",
       "380177            IUE         spectrum ...       380177     PUBLIC           2\n",
       "380177            IUE         spectrum ...       380177     PUBLIC           2\n",
       "380177            IUE         spectrum ...       380177     PUBLIC           2\n",
       "380177            IUE         spectrum ...       380177     PUBLIC           2\n",
       "380177            IUE         spectrum ...       380177     PUBLIC           2\n",
       "380177            IUE         spectrum ...       380177     PUBLIC           2\n",
       "380177            IUE         spectrum ...       380177     PUBLIC           2"
      ]
     },
     "execution_count": 8,
     "metadata": {},
     "output_type": "execute_result"
    }
   ],
   "source": [
    "IUEobs_sk_67_5 = Observations.query_criteria(objectname=\"SK-675\",obs_collection=\"IUE\")\n",
    "data_products_sk_67_5 = Observations.get_product_list(IUEobs_sk_67_5)\n",
    "\n",
    "data_products_sk_67_5"
   ]
  },
  {
   "cell_type": "markdown",
   "id": "cfd19eae",
   "metadata": {},
   "source": [
    "- Observation ID: \"swp04827\":"
   ]
  },
  {
   "cell_type": "code",
   "execution_count": 9,
   "id": "fdfc8094",
   "metadata": {},
   "outputs": [
    {
     "data": {
      "text/html": [
       "<i>Row index=42 masked=True</i>\n",
       "<table id=\"table140664111944752\">\n",
       "<thead><tr><th>obsID</th><th>obs_collection</th><th>dataproduct_type</th><th>obs_id</th><th>description</th><th>type</th><th>dataURI</th><th>productType</th><th>productGroupDescription</th><th>productSubGroupDescription</th><th>productDocumentationURL</th><th>project</th><th>prvversion</th><th>proposal_id</th><th>productFilename</th><th>size</th><th>parent_obsid</th><th>dataRights</th><th>calib_level</th></tr></thead>\n",
       "<thead><tr><th>str6</th><th>str3</th><th>str8</th><th>str8</th><th>str56</th><th>str1</th><th>str62</th><th>str9</th><th>str28</th><th>str56</th><th>str1</th><th>str1</th><th>str1</th><th>str5</th><th>str20</th><th>int64</th><th>str6</th><th>str6</th><th>int64</th></tr></thead>\n",
       "<tr><td>308097</td><td>IUE</td><td>spectrum</td><td>swp04827</td><td>(extracted spectra/vo spectral container/SSAP) fits file</td><td>S</td><td>mast:IUE/url/pub/vospectra/iue2/swp04827mxlo_vo.fits</td><td>SCIENCE</td><td>Minimum Recommended Products</td><td>(extracted spectra/vo spectral container/SSAP) fits file</td><td>--</td><td>--</td><td>--</td><td>MSJDW</td><td>swp04827mxlo_vo.fits</td><td>48960</td><td>308097</td><td>PUBLIC</td><td>2</td></tr>\n",
       "</table>"
      ],
      "text/plain": [
       "<Row index=42 masked=True>\n",
       "obsID  obs_collection dataproduct_type  obs_id                        description                        type                       dataURI                        productType   productGroupDescription                   productSubGroupDescription                productDocumentationURL project prvversion proposal_id   productFilename     size parent_obsid dataRights calib_level\n",
       " str6       str3            str8         str8                            str56                           str1                        str62                             str9               str28                                      str56                                     str1            str1     str1        str5           str20         int64     str6        str6       int64   \n",
       "------ -------------- ---------------- -------- -------------------------------------------------------- ---- ---------------------------------------------------- ----------- ---------------------------- -------------------------------------------------------- ----------------------- ------- ---------- ----------- -------------------- ----- ------------ ---------- -----------\n",
       "308097            IUE         spectrum swp04827 (extracted spectra/vo spectral container/SSAP) fits file    S mast:IUE/url/pub/vospectra/iue2/swp04827mxlo_vo.fits     SCIENCE Minimum Recommended Products (extracted spectra/vo spectral container/SSAP) fits file                      --      --         --       MSJDW swp04827mxlo_vo.fits 48960       308097     PUBLIC           2"
      ]
     },
     "execution_count": 9,
     "metadata": {},
     "output_type": "execute_result"
    }
   ],
   "source": [
    "data_products_sk_67_5[42]"
   ]
  },
  {
   "cell_type": "code",
   "execution_count": 10,
   "id": "326384b3",
   "metadata": {},
   "outputs": [
    {
     "name": "stdout",
     "output_type": "stream",
     "text": [
      "Downloading URL https://mast.stsci.edu/api/v0.1/Download/file?uri=mast:IUE/url/pub/vospectra/iue2/swp04827mxlo_vo.fits to ./mastDownload/IUE/swp04827/swp04827mxlo_vo.fits ... [Done]\n"
     ]
    },
    {
     "data": {
      "text/html": [
       "<div><i>Table length=1</i>\n",
       "<table id=\"table140664111944032\" class=\"table-striped table-bordered table-condensed\">\n",
       "<thead><tr><th>Local Path</th><th>Status</th><th>Message</th><th>URL</th></tr></thead>\n",
       "<thead><tr><th>str48</th><th>str8</th><th>object</th><th>object</th></tr></thead>\n",
       "<tr><td>./mastDownload/IUE/swp04827/swp04827mxlo_vo.fits</td><td>COMPLETE</td><td>None</td><td>None</td></tr>\n",
       "</table></div>"
      ],
      "text/plain": [
       "<Table length=1>\n",
       "                   Local Path                     Status  Message  URL  \n",
       "                     str48                         str8    object object\n",
       "------------------------------------------------ -------- ------- ------\n",
       "./mastDownload/IUE/swp04827/swp04827mxlo_vo.fits COMPLETE    None   None"
      ]
     },
     "execution_count": 10,
     "metadata": {},
     "output_type": "execute_result"
    }
   ],
   "source": [
    "IUEobs_sk_67_5_sw = Observations.query_criteria(obs_collection=\"IUE\", obs_id=\"swp04827\")\n",
    "data_products_sk_67_5_sw = Observations.get_product_list(IUEobs_sk_67_5_sw)\n",
    "yourProd_sk_67_5_sw = Observations.filter_products(data_products_sk_67_5_sw, extension=\"swp04827mxlo_vo.fits\")\n",
    "Observations.download_products(yourProd_sk_67_5_sw, mrp_only = False, cache = False) "
   ]
  },
  {
   "cell_type": "markdown",
   "id": "9fc4a99b",
   "metadata": {},
   "source": [
    "- Observation ID: \"lwr04170\""
   ]
  },
  {
   "cell_type": "code",
   "execution_count": 11,
   "id": "8c0ec207",
   "metadata": {},
   "outputs": [
    {
     "data": {
      "text/html": [
       "<i>Row index=17 masked=True</i>\n",
       "<table id=\"table140664111944752\">\n",
       "<thead><tr><th>obsID</th><th>obs_collection</th><th>dataproduct_type</th><th>obs_id</th><th>description</th><th>type</th><th>dataURI</th><th>productType</th><th>productGroupDescription</th><th>productSubGroupDescription</th><th>productDocumentationURL</th><th>project</th><th>prvversion</th><th>proposal_id</th><th>productFilename</th><th>size</th><th>parent_obsid</th><th>dataRights</th><th>calib_level</th></tr></thead>\n",
       "<thead><tr><th>str6</th><th>str3</th><th>str8</th><th>str8</th><th>str56</th><th>str1</th><th>str62</th><th>str9</th><th>str28</th><th>str56</th><th>str1</th><th>str1</th><th>str1</th><th>str5</th><th>str20</th><th>int64</th><th>str6</th><th>str6</th><th>int64</th></tr></thead>\n",
       "<tr><td>296811</td><td>IUE</td><td>spectrum</td><td>lwr04170</td><td>(extracted spectra/vo spectral container/SSAP) fits file</td><td>S</td><td>mast:IUE/url/pub/vospectra/iue2/lwr04170mxlo_vo.fits</td><td>SCIENCE</td><td>Minimum Recommended Products</td><td>(extracted spectra/vo spectral container/SSAP) fits file</td><td>--</td><td>--</td><td>--</td><td>MSJDW</td><td>lwr04170mxlo_vo.fits</td><td>48960</td><td>296811</td><td>PUBLIC</td><td>2</td></tr>\n",
       "</table>"
      ],
      "text/plain": [
       "<Row index=17 masked=True>\n",
       "obsID  obs_collection dataproduct_type  obs_id                        description                        type                       dataURI                        productType   productGroupDescription                   productSubGroupDescription                productDocumentationURL project prvversion proposal_id   productFilename     size parent_obsid dataRights calib_level\n",
       " str6       str3            str8         str8                            str56                           str1                        str62                             str9               str28                                      str56                                     str1            str1     str1        str5           str20         int64     str6        str6       int64   \n",
       "------ -------------- ---------------- -------- -------------------------------------------------------- ---- ---------------------------------------------------- ----------- ---------------------------- -------------------------------------------------------- ----------------------- ------- ---------- ----------- -------------------- ----- ------------ ---------- -----------\n",
       "296811            IUE         spectrum lwr04170 (extracted spectra/vo spectral container/SSAP) fits file    S mast:IUE/url/pub/vospectra/iue2/lwr04170mxlo_vo.fits     SCIENCE Minimum Recommended Products (extracted spectra/vo spectral container/SSAP) fits file                      --      --         --       MSJDW lwr04170mxlo_vo.fits 48960       296811     PUBLIC           2"
      ]
     },
     "execution_count": 11,
     "metadata": {},
     "output_type": "execute_result"
    }
   ],
   "source": [
    "data_products_sk_67_5[17]"
   ]
  },
  {
   "cell_type": "code",
   "execution_count": 12,
   "id": "19590428",
   "metadata": {},
   "outputs": [
    {
     "name": "stdout",
     "output_type": "stream",
     "text": [
      "Downloading URL https://mast.stsci.edu/api/v0.1/Download/file?uri=mast:IUE/url/pub/vospectra/iue2/lwr04170mxlo_vo.fits to ./mastDownload/IUE/lwr04170/lwr04170mxlo_vo.fits ... [Done]\n"
     ]
    },
    {
     "data": {
      "text/html": [
       "<div><i>Table length=1</i>\n",
       "<table id=\"table140664094437040\" class=\"table-striped table-bordered table-condensed\">\n",
       "<thead><tr><th>Local Path</th><th>Status</th><th>Message</th><th>URL</th></tr></thead>\n",
       "<thead><tr><th>str48</th><th>str8</th><th>object</th><th>object</th></tr></thead>\n",
       "<tr><td>./mastDownload/IUE/lwr04170/lwr04170mxlo_vo.fits</td><td>COMPLETE</td><td>None</td><td>None</td></tr>\n",
       "</table></div>"
      ],
      "text/plain": [
       "<Table length=1>\n",
       "                   Local Path                     Status  Message  URL  \n",
       "                     str48                         str8    object object\n",
       "------------------------------------------------ -------- ------- ------\n",
       "./mastDownload/IUE/lwr04170/lwr04170mxlo_vo.fits COMPLETE    None   None"
      ]
     },
     "execution_count": 12,
     "metadata": {},
     "output_type": "execute_result"
    }
   ],
   "source": [
    "IUEobs_sk_67_5_lw = Observations.query_criteria(obs_collection=\"IUE\", obs_id=\"lwr04170\")\n",
    "data_products_sk_67_5_lw = Observations.get_product_list(IUEobs_sk_67_5_lw)\n",
    "yourProd_sk_67_5_lw = Observations.filter_products(data_products_sk_67_5_lw, extension=\"lwr04170mxlo_vo.fits\")\n",
    "Observations.download_products(yourProd_sk_67_5_lw, mrp_only = False, cache = False) "
   ]
  },
  {
   "cell_type": "markdown",
   "id": "5ff5fa48",
   "metadata": {},
   "source": [
    "### 2. Open the fits file and explore it"
   ]
  },
  {
   "cell_type": "code",
   "execution_count": 13,
   "id": "9021f42b",
   "metadata": {},
   "outputs": [
    {
     "name": "stdout",
     "output_type": "stream",
     "text": [
      "Filename: ./mastDownload/IUE/swp36552/swp36552mxlo_vo.fits\n",
      "No.    Name      Ver    Type      Cards   Dimensions   Format\n",
      "  0  PRIMARY       1 PrimaryHDU     351   ()      \n",
      "  1  Spectral Container    1 BinTableHDU    141   1R x 4C   [495E, 495E, 495E, 495I]   \n",
      "Filename: ./mastDownload/IUE/lwp15751/lwp15751mxlo_vo.fits\n",
      "No.    Name      Ver    Type      Cards   Dimensions   Format\n",
      "  0  PRIMARY       1 PrimaryHDU     350   ()      \n",
      "  1  Spectral Container    1 BinTableHDU    141   1R x 4C   [563E, 563E, 563E, 563I]   \n",
      "Filename: ./mastDownload/IUE/swp04827/swp04827mxlo_vo.fits\n",
      "No.    Name      Ver    Type      Cards   Dimensions   Format\n",
      "  0  PRIMARY       1 PrimaryHDU     345   ()      \n",
      "  1  Spectral Container    1 BinTableHDU    141   1R x 4C   [495E, 495E, 495E, 495I]   \n",
      "Filename: ./mastDownload/IUE/lwr04170/lwr04170mxlo_vo.fits\n",
      "No.    Name      Ver    Type      Cards   Dimensions   Format\n",
      "  0  PRIMARY       1 PrimaryHDU     353   ()      \n",
      "  1  Spectral Container    1 BinTableHDU    141   1R x 4C   [563E, 563E, 563E, 563I]   \n"
     ]
    }
   ],
   "source": [
    "filename_sk_69_206_sw = \"./mastDownload/IUE/swp36552/swp36552mxlo_vo.fits\"\n",
    "fits.info(filename_sk_69_206_sw)\n",
    "\n",
    "with fits.open(filename_sk_69_206_sw) as hdulist:\n",
    "    spectrum_sk_69_206_sw = hdulist[1].data\n",
    "\n",
    "wav_sk_69_206_sw = spectrum_sk_69_206_sw[0][0] # A\n",
    "flux_sk_69_206_sw = spectrum_sk_69_206_sw[0][1] # ergs/cm2/sec/A\n",
    "\n",
    "filename_sk_69_206_lw = \"./mastDownload/IUE/lwp15751/lwp15751mxlo_vo.fits\"\n",
    "fits.info(filename_sk_69_206_lw)\n",
    "\n",
    "with fits.open(filename_sk_69_206_lw) as hdulist:\n",
    "    spectrum_sk_69_206_lw = hdulist[1].data\n",
    "\n",
    "wav_sk_69_206_lw = spectrum_sk_69_206_lw[0][0] # A\n",
    "flux_sk_69_206_lw = spectrum_sk_69_206_lw[0][1] # ergs/cm2/sec/A\n",
    "\n",
    "filename_sk_67_5_sw = \"./mastDownload/IUE/swp04827/swp04827mxlo_vo.fits\"\n",
    "fits.info(filename_sk_67_5_sw)\n",
    "\n",
    "with fits.open(filename_sk_67_5_sw) as hdulist:\n",
    "    spectrum_sk_67_5_sw = hdulist[1].data\n",
    "\n",
    "wav_sk_67_5_sw = spectrum_sk_67_5_sw[0][0] # A\n",
    "flux_sk_67_5_sw = spectrum_sk_67_5_sw[0][1] # ergs/cm2/sec/A\n",
    "\n",
    "filename_sk_67_5_lw = \"./mastDownload/IUE/lwr04170/lwr04170mxlo_vo.fits\"\n",
    "fits.info(filename_sk_67_5_lw)\n",
    "\n",
    "with fits.open(filename_sk_67_5_lw) as hdulist:\n",
    "    spectrum_sk_67_5_lw = hdulist[1].data\n",
    "\n",
    "wav_sk_67_5_lw = spectrum_sk_67_5_lw[0][0] # A\n",
    "flux_sk_67_5_lw = spectrum_sk_67_5_lw[0][1] # ergs/cm2/sec/A\n",
    "\n",
    "wav_sk_69_206_sw, flux_sk_69_206_sw, wav_sk_67_5_sw, flux_sk_67_5_sw = changeNaN(wav_sk_69_206_sw, flux_sk_69_206_sw, wav_sk_67_5_sw, flux_sk_67_5_sw)\n",
    "wav_sk_69_206_lw, flux_sk_69_206_lw, wav_sk_67_5_lw, flux_sk_67_5_lw = changeNaN(wav_sk_69_206_lw, flux_sk_69_206_lw, wav_sk_67_5_lw, flux_sk_67_5_lw)"
   ]
  },
  {
   "cell_type": "markdown",
   "id": "8c5e3bbf",
   "metadata": {},
   "source": [
    "### 3. Save the data to your local computer"
   ]
  },
  {
   "cell_type": "code",
   "execution_count": 14,
   "id": "09b471ea",
   "metadata": {},
   "outputs": [
    {
     "name": "stdout",
     "output_type": "stream",
     "text": [
      "First 3 elements of original array:\n",
      " [1150.5802 1152.2566 1153.933 ]\n",
      "Last 3 elements of original array:\n",
      " [1975.3384 1977.0146 1978.691 ]\n",
      "First 3 elements of wav_sk_69_206_sw.txt:\n",
      " [1150.5802002 1152.2565918 1153.9329834]\n",
      "Last 3 elements of wav_sk_69_206_sw.txt:\n",
      " [1975.33837891 1977.01464844 1978.69104004] \n",
      "\n",
      "First 3 elements of original array:\n",
      " [2.7181413e-14 3.0124900e-14 7.0772984e-14]\n",
      "Last 3 elements of original array:\n",
      " [8.4576599e-14 8.2177856e-14 8.2617500e-14]\n",
      "First 3 elements of flux_sk_69_206_sw.txt:\n",
      " [2.71814126e-14 3.01248996e-14 7.07729841e-14]\n",
      "Last 3 elements of flux_sk_69_206_sw.txt:\n",
      " [8.45765989e-14 8.21778558e-14 8.26174998e-14] \n",
      "\n",
      "First 3 elements of original array:\n",
      " [1150.5802 1152.2566 1153.933 ]\n",
      "Last 3 elements of original array:\n",
      " [1975.3384 1977.0146 1978.691 ]\n",
      "First 3 elements of wav_sk_67_5_sw.txt:\n",
      " [1150.5802002 1152.2565918 1153.9329834]\n",
      "Last 3 elements of wav_sk_67_5_sw.txt:\n",
      " [1975.33837891 1977.01464844 1978.69104004] \n",
      "\n",
      "First 3 elements of original array:\n",
      " [2.3477002e-12 2.0947244e-12 2.2759821e-12]\n",
      "Last 3 elements of original array:\n",
      " [1.3234771e-12 1.2480189e-12 1.2281475e-12]\n",
      "First 3 elements of flux_sk_67_5_sw.txt:\n",
      " [2.34770016e-12 2.09472435e-12 2.27598214e-12]\n",
      "Last 3 elements of flux_sk_67_5_sw.txt:\n",
      " [1.32347714e-12 1.24801894e-12 1.22814747e-12] \n",
      "\n",
      "First 3 elements of original array:\n",
      " [1851.2054 1853.8682 1859.1935]\n",
      "Last 3 elements of original array:\n",
      " [3342.3083 3344.971  3347.6338]\n",
      "First 3 elements of wav_sk_69_206_lw.txt:\n",
      " [1851.20544434 1853.86816406 1859.19348145]\n",
      "Last 3 elements of wav_sk_69_206_lw.txt:\n",
      " [3342.30834961 3344.97094727 3347.63378906] \n",
      "\n",
      "First 3 elements of original array:\n",
      " [5.2585735e-13 2.6216936e-13 2.8764439e-13]\n",
      "Last 3 elements of original array:\n",
      " [6.7038307e-14 3.9260966e-14 4.4691918e-14]\n",
      "First 3 elements of flux_sk_69_206_lw.txt:\n",
      " [5.25857352e-13 2.62169355e-13 2.87644393e-13]\n",
      "Last 3 elements of flux_sk_69_206_lw.txt:\n",
      " [6.70383074e-14 3.92609664e-14 4.46919181e-14] \n",
      "\n",
      "First 3 elements of original array:\n",
      " [1851.3013 1853.967  1859.2987]\n",
      "Last 3 elements of original array:\n",
      " [3344.1611 3346.8271 3349.4927]\n",
      "First 3 elements of wav_sk_67_5_lw.txt:\n",
      " [1851.30126953 1853.96704102 1859.29870605]\n",
      "Last 3 elements of wav_sk_67_5_lw.txt:\n",
      " [3344.16113281 3346.82714844 3349.49267578] \n",
      "\n",
      "First 3 elements of original array:\n",
      " [2.4691247e-12 2.2907830e-12 1.6330023e-12]\n",
      "Last 3 elements of original array:\n",
      " [1.1981843e-12 1.0647583e-13 4.2735328e-13]\n",
      "First 3 elements of flux_sk_67_5_lw.txt:\n",
      " [2.46912473e-12 2.29078301e-12 1.63300233e-12]\n",
      "Last 3 elements of flux_sk_67_5_lw.txt:\n",
      " [1.19818435e-12 1.06475829e-13 4.27353275e-13] \n",
      "\n"
     ]
    }
   ],
   "source": [
    "arrays = [wav_sk_69_206_sw, flux_sk_69_206_sw, wav_sk_67_5_sw, flux_sk_67_5_sw, wav_sk_69_206_lw, flux_sk_69_206_lw, wav_sk_67_5_lw, flux_sk_67_5_lw]\n",
    "filenames = ['wav_sk_69_206_sw.txt', 'flux_sk_69_206_sw.txt', 'wav_sk_67_5_sw.txt', 'flux_sk_67_5_sw.txt', 'wav_sk_69_206_lw.txt', 'flux_sk_69_206_lw.txt', 'wav_sk_67_5_lw.txt', 'flux_sk_67_5_lw.txt']\n",
    "\n",
    "for i in range(len(arrays)):\n",
    "    saveArray(arrays[i],filenames[i])"
   ]
  },
  {
   "cell_type": "markdown",
   "id": "562a667f",
   "metadata": {},
   "source": [
    "## Additional Resources\n",
    "\n",
    "For more information about the MAST archive and details about mission data: \n",
    "\n",
    "<a href=\"https://mast.stsci.edu/api/v0/index.html\">MAST API</a> <br>\n",
    "<a href=\"https://archive.stsci.edu/iue/\">International Ultraviolet Explorer Page (MAST)</a> <br>\n",
    "<a href=\"https://archive.stsci.edu/iue/mdr_help.html\">IUE Data Retrieval Help Page</a> \n",
    "\n",
    "For more information about extinction curves and their parametrization:\n",
    "\n",
    "\n",
    "<a href=\"https://ui.adsabs.harvard.edu/abs/2003ApJ...594..279G/abstract\">A quantitative comparison of SMC, LMC and Milky Way UV to NIR extinction curves</a> <br>\n",
    "<a href=\"https://adsabs.harvard.edu/pdf/1990ApJS...72..163F\">An analysis of the shapes of the ultraviolet extinction curves. III. An atlas of ultraviolet extinction curves</a> "
   ]
  },
  {
   "cell_type": "markdown",
   "id": "bc79f215",
   "metadata": {},
   "source": [
    "## About this Notebook\n",
    "\n",
    "**Author**: Clara Puerto Sánchez <br>\n",
    "**Updated on**: 06/07/2022"
   ]
  },
  {
   "cell_type": "markdown",
   "id": "c17200b4",
   "metadata": {},
   "source": [
    "## Citations\n",
    "\n",
    "If you use `astropy`, `numpy`, `scipy` or `matplotlib` for published research, please cite the\n",
    "authors. Follow these links for more information about citing them:\n",
    "\n",
    "* [Citing `astropy`](https://www.astropy.org/acknowledging.html)\n",
    "* [Citing `numpy`](https://numpy.org/citing-numpy/)\n",
    "* [Citing `scipy`](https://scipy.org/citing-scipy/)\n",
    "* [Citing `matplotlib`](https://matplotlib.org/stable/users/project/citing.html)"
   ]
  },
  {
   "cell_type": "markdown",
   "id": "ece8e177",
   "metadata": {},
   "source": [
    "<img style=\"float: right;\" src=\"https://raw.githubusercontent.com/spacetelescope/notebooks/master/assets/stsci_pri_combo_mark_horizonal_white_bkgd.png\" alt=\"Space Telescope Logo\" width=\"200px\"/>"
   ]
  }
 ],
 "metadata": {
  "kernelspec": {
   "display_name": "Python 3",
   "language": "python",
   "name": "python3"
  },
  "language_info": {
   "codemirror_mode": {
    "name": "ipython",
    "version": 3
   },
   "file_extension": ".py",
   "mimetype": "text/x-python",
   "name": "python",
   "nbconvert_exporter": "python",
   "pygments_lexer": "ipython3",
   "version": "3.8.8"
  }
 },
 "nbformat": 4,
 "nbformat_minor": 5
}
