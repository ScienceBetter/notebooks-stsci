{
 "cells": [
  {
   "cell_type": "markdown",
   "id": "cf0df4e9",
   "metadata": {},
   "source": [
    "<a id=\"top\"></a>\n",
    "# UV Excess in Low Mass Stars - SOLUTION\n",
    "***\n",
    "\n",
    "Solution proposed for the exercise in the tutorial.\n",
    "\n",
    "## Imports\n",
    "\n",
    "The first step will be to import the libraries we will be using throughout this tutorial: \n",
    "\n",
    "- `pyvo` to access the Virtual Observatory.\n",
    "- `astropy` to handle celestial coordinates, units, and tables.\n",
    "- `warnings` to manage warning messages\n",
    "- `numpy` to work with arrays.\n",
    "- `astroquery` to query the SIMBAD & Vizier catalogs.\n",
    "- `matplotlib.pyplot` to plot the results."
   ]
  },
  {
   "cell_type": "code",
   "execution_count": 2,
   "id": "f10d9ab7",
   "metadata": {},
   "outputs": [],
   "source": [
    "import pyvo as vo\n",
    "import astropy.units as u\n",
    "import astropy.coordinates as coord\n",
    "from astropy.table import Table\n",
    "import warnings\n",
    "warnings.simplefilter('ignore')  \n",
    "import numpy as np\n",
    "from astroquery.simbad import Simbad\n",
    "from astroquery.vizier import Vizier\n",
    "import matplotlib.pyplot as plt"
   ]
  },
  {
   "cell_type": "markdown",
   "id": "b849cecf",
   "metadata": {},
   "source": [
    "## Data needed to create the color-color plot\n",
    "\n",
    "Data arrays obtained in the tutorial that will be used in the solutions of the exercise:\n",
    "\n",
    "### TWA"
   ]
  },
  {
   "cell_type": "code",
   "execution_count": 3,
   "id": "bcc646b1",
   "metadata": {},
   "outputs": [],
   "source": [
    "names_TWA, ra_TWA, dec_TWA = np.loadtxt('TWA_coordinates_complete.txt', unpack = True, dtype=\"U7,f8,f8\")\n",
    "\n",
    "# GALEX\n",
    "\n",
    "n = len(names_TWA)\n",
    "nuv_TWA = np.zeros(n)\n",
    "\n",
    "for i in range(n):\n",
    "    pos = coord.SkyCoord(ra=ra_TWA[i], dec=dec_TWA[i], unit='deg',frame='icrs')\n",
    "    size = u.Quantity(10, unit=\"arcsec\")\n",
    "    scs_service = vo.dal.SCSService('http://gsss.stsci.edu/webservices/vo/ConeSearch.aspx?CAT=GALEX&')\n",
    "    scs_results = scs_service.search(pos=pos, radius=size)\n",
    "    if (len(scs_results['nuv_mag']) > 0):\n",
    "        nuv_TWA[i] = float(scs_results['nuv_mag'][0])\n",
    "        \n",
    "# SIMBAD\n",
    "\n",
    "Simbad.add_votable_fields('flux(K)','flux(V)')\n",
    "n = len(names_TWA)\n",
    "magK_TWA = []\n",
    "magV_TWA = []\n",
    "missing_val_i = []\n",
    "\n",
    "for i in range(n):\n",
    "    table = Simbad.query_object(names_TWA[i])\n",
    "    if (float(table['FLUX_V']) != float(table['FLUX_V'])):\n",
    "        missing_val_i.append(i)\n",
    "        magK_TWA.append(float(table['FLUX_K']))\n",
    "        magV_TWA.append(0)\n",
    "        continue\n",
    "    else:\n",
    "        magK_TWA.append(float(table['FLUX_K']))\n",
    "        magV_TWA.append(float(table['FLUX_V']))\n",
    "magK_TWA = np.array(magK_TWA)\n",
    "magV_TWA = np.array(magV_TWA)\n",
    "\n",
    "# Match queries\n",
    "\n",
    "matched_i = []\n",
    "\n",
    "for i in range(len(names_TWA)):\n",
    "    if (nuv_TWA[i] != 0.) & (i not in missing_val_i):\n",
    "        matched_i.append(i)"
   ]
  },
  {
   "cell_type": "markdown",
   "id": "01210542",
   "metadata": {},
   "source": [
    "### M-dwarf sample"
   ]
  },
  {
   "cell_type": "code",
   "execution_count": 4,
   "id": "971e84ea",
   "metadata": {},
   "outputs": [],
   "source": [
    "# VizieR\n",
    "\n",
    "Vizier.ROW_LIMIT = -1\n",
    "catalogs = Vizier.get_catalogs(\"J/AJ/161/63/table3\")\n",
    "winters2021 = catalogs[0]\n",
    "\n",
    "V_w21 = []\n",
    "K_w21 = []\n",
    "ra_w21 = []\n",
    "dec_w21 = []\n",
    "\n",
    "for i in range(len(winters2021)):\n",
    "    if str(winters2021[i]['Vmag'])!='--' and str(winters2021[i]['Kmag'])!='--':\n",
    "        V_w21.append(float(winters2021[i]['Vmag']))\n",
    "        K_w21.append(float(winters2021[i]['Kmag']))\n",
    "        ra_w21.append(winters2021[i]['RAJ2000'])\n",
    "        dec_w21.append(winters2021[i]['DEJ2000'])\n",
    "\n",
    "V_w21 = np.array(V_w21)\n",
    "K_w21 = np.array(K_w21)\n",
    "ra_w21 = np.array(ra_w21)\n",
    "dec_w21 = np.array(dec_w21)\n",
    "\n",
    "# GALEX\n",
    "\n",
    "nuv_w21 = []\n",
    "keep_i_w21 = []\n",
    "\n",
    "for i in range(len(ra_w21)):\n",
    "    ra1 = ra_w21[i].split()\n",
    "    dec1 = dec_w21[i].split()\n",
    "    pos = coord.SkyCoord(ra=ra1[0]+'h'+ra1[1]+'m'+ra1[2]+'s', dec=dec1[0]+'d'+dec1[1]+'m'+dec1[2]+'s',frame='fk5')\n",
    "    size = u.Quantity(10, unit=\"arcsec\")\n",
    "    scs_service = vo.dal.SCSService('http://gsss.stsci.edu/webservices/vo/ConeSearch.aspx?CAT=GALEX&')\n",
    "    scs_results = scs_service.search(pos=pos, radius=size)\n",
    "    if str(scs_results['nuv_mag'])!='[]' and scs_results['nuv_mag'][0]!=-999.0:\n",
    "        keep_i_w21.append(i)\n",
    "        nuv_w21.append(float(scs_results['nuv_mag'][0]))\n",
    "    \n",
    "nuv_w21 = np.array(nuv_w21)"
   ]
  },
  {
   "cell_type": "markdown",
   "id": "689f3993",
   "metadata": {},
   "source": [
    "## Exercises\n",
    "\n",
    "Now try to re-create the steps we followed in this tutorial for the TW Hya star, from which the TW Hydrae association gets its name. The ICRS coordinates (ep = J2000) of TW Hya are, according to SIMBAD:\n",
    "\n",
    "- RA: 165.4662722021100 deg\n",
    "- DEC: -34.7047314495500 deg\n",
    "\n",
    "### 1. GALEX query\n",
    "\n",
    "Use the coordinates of TW Hya to find the NUV magnitude in GALEX for the source, as we did before."
   ]
  },
  {
   "cell_type": "code",
   "execution_count": 5,
   "id": "d67efe48",
   "metadata": {},
   "outputs": [
    {
     "name": "stdout",
     "output_type": "stream",
     "text": [
      "NUV magnitude of TW Hya:  14.356100082397461\n"
     ]
    }
   ],
   "source": [
    "pos = coord.SkyCoord(ra=165.4662722021100, dec=-34.7047314495500, unit='deg',frame='icrs')\n",
    "size = u.Quantity(10, unit=\"arcsec\")\n",
    "scs_service = vo.dal.SCSService('http://gsss.stsci.edu/webservices/vo/ConeSearch.aspx?CAT=GALEX&')\n",
    "scs_results = scs_service.search(pos=pos, radius=size)\n",
    "if (len(scs_results['nuv_mag']) > 0):\n",
    "    nuv_TWHya = float(scs_results['nuv_mag'][0])\n",
    "    \n",
    "print('NUV magnitude of TW Hya: ',nuv_TWHya)"
   ]
  },
  {
   "cell_type": "markdown",
   "id": "ab6b8a30",
   "metadata": {},
   "source": [
    "## 2. SIMBAD query\n",
    "\n",
    "Now, using either the name or the coordinates of the source, look it up in SIMBAD database and retrieve its K and V magnitudes."
   ]
  },
  {
   "cell_type": "code",
   "execution_count": 6,
   "id": "4dbee129",
   "metadata": {},
   "outputs": [
    {
     "name": "stdout",
     "output_type": "stream",
     "text": [
      "K magnitude of TW Hya:  7.296999931335449\n",
      "V magnitude of TW Hya:  10.5\n"
     ]
    }
   ],
   "source": [
    "Simbad.add_votable_fields('flux(K)','flux(V)')\n",
    "table = Simbad.query_object('TW Hya')\n",
    "magK_TWHya = float(table['FLUX_K'])\n",
    "magV_TWHya = float(table['FLUX_V'])\n",
    "\n",
    "print('K magnitude of TW Hya: ',magK_TWHya)\n",
    "print('V magnitude of TW Hya: ',magV_TWHya)"
   ]
  },
  {
   "cell_type": "markdown",
   "id": "7e350562",
   "metadata": {},
   "source": [
    "### 3. Include TW Hya in color-color diagram\n",
    "\n",
    "Finally, include in the color-color diagram that we created before, make sure to use a different marker and/or color to differentiate it from the rest of the sources!"
   ]
  },
  {
   "cell_type": "code",
   "execution_count": 7,
   "id": "57386730",
   "metadata": {},
   "outputs": [
    {
     "data": {
      "image/png": "[encoded data removed]",
      "text/plain": [
       "<Figure size 700x700 with 1 Axes>"
      ]
     },
     "metadata": {},
     "output_type": "display_data"
    }
   ],
   "source": [
    "fig = plt.figure(figsize=(7, 7))\n",
    "ax = fig.add_subplot(111)\n",
    "plt.scatter(V_w21[keep_i_w21]-K_w21[keep_i_w21],nuv_w21-V_w21[keep_i_w21],c='r',label='Old stars')\n",
    "plt.scatter(magV_TWA[matched_i]-magK_TWA[matched_i],nuv_TWA[matched_i]-magV_TWA[matched_i],c='b',label='Young stars')\n",
    "plt.plot(magV_TWHya-magK_TWHya,nuv_TWHya-magV_TWHya,'*',c='k',markersize=12,label='TW Hya')\n",
    "plt.ylabel('NUV-V')\n",
    "plt.xlabel('V-K')\n",
    "plt.xlim([2,9])\n",
    "plt.ylim([2,12])\n",
    "ax.set_aspect('equal')\n",
    "plt.legend(loc='best')\n",
    "plt.grid()\n",
    "plt.show()"
   ]
  },
  {
   "cell_type": "markdown",
   "id": "c6b9f4a8",
   "metadata": {},
   "source": [
    "As mentioned in the introduction, TW Hya has a substantial NUV excess, in particular in the $NUV-J$ color, with a $NUV-J \\sim 6$ while the rests of the stars in the association have a value around $\\sim 9-11$. The most probable emission source to explain this excess, apart from its youth, is continuous accretion onto the star, in addition to the disk being face on, causing the accretion to be unobscured. For more information about this topic, please refer to <a href=\"https://ui.adsabs.harvard.edu/abs/2011ApJ...727...62R/abstract\">Rodriguez et al. 2011.</a>"
   ]
  },
  {
   "cell_type": "markdown",
   "id": "027a5a43",
   "metadata": {},
   "source": [
    "## Additional Resources\n",
    "\n",
    "* [GALEX Mission Overview](https://asd.gsfc.nasa.gov/archive/galex/Documents/MissionOverview.html)\n",
    "* <a href=\"https://mast.stsci.edu/api/v0/index.html\">MAST API</a> \n",
    "* [GALEX UV Unique Source Catalog](https://archive.stsci.edu/hlsp/guvcat)\n",
    "* <a href=\"https://pyvo.readthedocs.io/en/latest/index.html\">PyVO documentation</a> <br> \n",
    "    \n",
    "## About this Notebook\n",
    "\n",
    "**Author**: Clara Puerto Sánchez <br>\n",
    "**Keyword(s)**: Tutorial, UV excess, M-dwarfs <br>\n",
    "**Last Updated**: Apr 2023 <br>\n",
    "**Next review**: Nov 2023\n",
    "\n",
    "For support, please contact the Archive HelpDesk at archive@stsci.edu.\n",
    "***\n",
    "[Top of Page](#top)\n",
    "<img style=\"float: right;\" src=\"https://raw.githubusercontent.com/spacetelescope/notebooks/master/assets/stsci_pri_combo_mark_horizonal_white_bkgd.png\" alt=\"Space Telescope Logo\" width=\"200px\"/>"
   ]
  }
 ],
 "metadata": {
  "kernelspec": {
   "display_name": "Python 3 (ipykernel)",
   "language": "python",
   "name": "python3"
  },
  "language_info": {
   "codemirror_mode": {
    "name": "ipython",
    "version": 3
   },
   "file_extension": ".py",
   "mimetype": "text/x-python",
   "name": "python",
   "nbconvert_exporter": "python",
   "pygments_lexer": "ipython3",
   "version": "3.9.13"
  }
 },
 "nbformat": 4,
 "nbformat_minor": 5
}
