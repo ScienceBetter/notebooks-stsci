{
 "cells": [
  {
   "cell_type": "markdown",
   "id": "f2edcf1e",
   "metadata": {},
   "source": [
    "# UV excess in low mass stars\n",
    "\n",
    "## Learning goals\n",
    "\n",
    "By the end of this tutorial you will be able to:\n",
    "\n",
    "- Understand UV excess in low mass stars\n",
    "- Download data directly from URLs and handle data-frames\n",
    "- Learn how to use a GUVcat catalog query and make selection cuts\n",
    "- Create a color-color diagram\n",
    "- **Tentatively**: Create a light curve out of gPhoton\n",
    "- **Tentatively**: add Swift UVOT time-tagged observations based on metadata (depending on length of tutorial)\n",
    "- **Tentatively**: add PS1 time series for low-cadence but longer baselines and multicolor (depending on length of tutorial)\n",
    "\n",
    "## Introduction\n",
    "\n",
    "**GALEX background**: The Galaxy Evolution Explorer (GALEX) was a satellite which mission was to produce an All-sky Imaiging Survey (AIS). It observed the sky in two different bands: in the Near UV (NUV) ($1750-27504$ Å) and in the Far UV (FUV) ($1350-1750$ Å). The GALEX database contains over 600 million source measurements in the ultraviolet domain, with some sources having more than one measurement, which could be useful to look for variability. Additionally, this survey has additionally been used to <a href=\"https://ui.adsabs.harvard.edu/abs/2008ApJ...689.1274S/abstract\">accrete binaries</a> or <a href=\"https://ui.adsabs.harvard.edu/abs/2017ApJ...841...33M/abstract\">AGB chromospheres</a>.\n",
    "\n",
    "**Light curve background**: a light curve represents the brightness variation of an object studied over a period of time. This tool is simple but powerful, especially useful for time-variable objects such as supernovae or variable stars. The plot can show brightness (magnitude) over time, but it can also be represented as any other measure of brightness, such as the count of the number of X-rays over time.\n",
    "\n",
    "**Defining some terms**:\n",
    "- **Color-color diagram**:diagram used to compare the apparent magnitudes of objects at different wavelengths.\n",
    "- **AGB**: Asymptotic Giant Branch. This corresponds to an area of the Herzsprung-Russell diagram where evolved cool luminous stars are found, all low to intermediate mass (0.5-8 solar masses) undergo this period of stellar evolution.\n",
    "\n",
    "## Imports\n",
    "\n",
    "- _wget_ to download files directly from URLs.\n",
    "- _os_ to use functions from the operating system, we will use this to unzip _.gz_ files.\n",
    "- _pandas_ for data handling, such as _.csv_ files.\n",
    "- _numpy_ to work with arrays.\n",
    "- _astroquery.simbad_ to query the SIMBAD catalog.\n",
    "- _matplotlib.pyplot_ for plotting data."
   ]
  },
  {
   "cell_type": "code",
   "execution_count": 86,
   "id": "821d756e",
   "metadata": {},
   "outputs": [],
   "source": [
    "import wget\n",
    "import os\n",
    "import pandas as pd\n",
    "import numpy as np\n",
    "from astroquery.simbad import Simbad\n",
    "import matplotlib.pyplot as plt"
   ]
  },
  {
   "cell_type": "markdown",
   "id": "f3d9d0c9",
   "metadata": {},
   "source": [
    "_**Warning**: you may need to donwload gPhoton if you have not installed it previously, information about how to install it can be found in the following <a href=\"https://archive.stsci.edu/prepds/gphoton/#installation\">link</a>_."
   ]
  },
  {
   "cell_type": "markdown",
   "id": "e4c275c2",
   "metadata": {},
   "source": [
    "## GALEX catalog\n",
    "\n",
    "The GALEX catalog can be accessed via the <a href=\"http://dolomiti.pha.jhu.edu/uvsky/#GUVcat\">author's web site</a>, through <a href=\"http://mastweb.stsci.edu/gcasjobs\">MAST casjobs</a> or from the <a href=\"https://vizier.cds.unistra.fr/viz-bin/VizieR\">SIMBAD Vizier database</a>. Through this tutorial we will use the first approach, and download the data directly from the <a href=\"http://dolomiti.pha.jhu.edu/uvsky/GUVcat/GUVcat_AIS.html\">GALEX catalogs of unique UV sources</a>, but the user is welcome to explore the documentation of the two other options and compare. \n",
    "\n",
    "For the example presented here, since we will be focusing on the TW Hydrae Association which has a Galactic latitude around $+26º.5$, we will be using the _.csv_ file _GUVCat_AIS_FOV055_glat25_00N__30_00N_. The naming convention for the GUVcat catalog is as follows:\n",
    "- _AIS_ corresponds to the name of the catalog, _All-sky Imaging Survey_.\n",
    "- _FOV055_ refers to the 1.1 degree diameter of GALEX field-of-view. \n",
    "- _glat25_00N_30_00N_ is the lower and upper Galactic boundaries for this slice. _N_ to indicate the degrees are positive, and negative degrees are indicated with _S_.\n",
    "\n",
    "More information about the naming convention can be found in the <a href=\"https://archive.stsci.edu/hlsps/guvcat/hlsp_guvcat_galex_imaging_all_fuv-nuv_v1_readme.txt\">GCat README file</a>.\n",
    "\n",
    "## Data download\n",
    "\n",
    "Let's use now the _wget_ command to download the corresponding catalog:"
   ]
  },
  {
   "cell_type": "code",
   "execution_count": 11,
   "id": "777ed3ab",
   "metadata": {},
   "outputs": [
    {
     "data": {
      "text/plain": [
       "'GUVCat_AIS_FOV055_glat25_00N__30_00N.csv.gz'"
      ]
     },
     "execution_count": 11,
     "metadata": {},
     "output_type": "execute_result"
    }
   ],
   "source": [
    "url='http://dolomiti.pha.jhu.edu/uvsky/GUVcat/GUVcat_AIS_FOV055/2019/5deglatslices/GUVCat_AIS_FOV055_glat25_00N__30_00N.csv.gz'\n",
    "wget.download(url)"
   ]
  },
  {
   "cell_type": "markdown",
   "id": "05749e81",
   "metadata": {},
   "source": [
    "The file has automatically be saved to our current working directory with the filename displayed above. In the <a href=\"http://dolomiti.pha.jhu.edu/uvsky/GUVcat/GUVcat_AIS.html\">GALEX catalogs of unique UV sources</a> all the available catalogs can be accessed in case the reader is curious.\n",
    "\n",
    "_**Heads-up**: this download may take up to a few minutes._\n",
    "\n",
    "Since the files are compressed, the first step to treat the data is decompress them, in order to do that we can use _gunzip_ option from the _os_ module in Python:"
   ]
  },
  {
   "cell_type": "code",
   "execution_count": 13,
   "id": "89d0a924",
   "metadata": {},
   "outputs": [
    {
     "data": {
      "text/plain": [
       "0"
      ]
     },
     "execution_count": 13,
     "metadata": {},
     "output_type": "execute_result"
    }
   ],
   "source": [
    "filename = 'GUVCat_AIS_FOV055_glat25_00N__30_00N.csv.gz'\n",
    "os.system('gunzip ' + filename)"
   ]
  },
  {
   "cell_type": "markdown",
   "id": "df373483",
   "metadata": {},
   "source": [
    "The _.gz_ file has been replace by a _.csv_ file in our current working directory with the same filename as before. Now let's explore the different columns this catalog has, one way to load a _.csv_ file is to use the function _read_csv_ from the _pandas_ module:"
   ]
  },
  {
   "cell_type": "code",
   "execution_count": 61,
   "id": "5108ef47",
   "metadata": {},
   "outputs": [],
   "source": [
    "GUVCat_25_30 = pd.read_csv('GUVCat_AIS_FOV055_glat25_00N__30_00N.csv',low_memory=False)"
   ]
  },
  {
   "cell_type": "markdown",
   "id": "d0ecebe8",
   "metadata": {},
   "source": [
    "## File structure and data accessing\n",
    "\n",
    "Let's display the different column names for the downloaded catalog:"
   ]
  },
  {
   "cell_type": "code",
   "execution_count": 3,
   "id": "870adfd0",
   "metadata": {},
   "outputs": [
    {
     "name": "stdout",
     "output_type": "stream",
     "text": [
      "['objid' 'photoextractid' 'mpstype' 'avaspra' 'avaspdec' 'fexptime'\n",
      " 'nexptime' 'ra' 'dec' 'glon' 'glat' 'tilenum' 'img' 'subvisit'\n",
      " 'fov_radius' 'type' 'band' 'e_bv' 'istherespectrum' 'chkobj_type'\n",
      " 'fuv_mag' 'fuv_magerr' 'nuv_mag' 'nuv_magerr' 'fuv_mag_auto'\n",
      " 'fuv_magerr_auto' 'nuv_mag_auto' 'nuv_magerr_auto' 'fuv_mag_aper_4'\n",
      " 'fuv_magerr_aper_4' 'nuv_mag_aper_4' 'nuv_magerr_aper_4' 'fuv_mag_aper_6'\n",
      " 'fuv_magerr_aper_6' 'nuv_mag_aper_6' 'nuv_magerr_aper_6' 'fuv_artifact'\n",
      " 'nuv_artifact' 'fuv_flags' 'nuv_flags' 'fuv_flux' 'fuv_fluxerr'\n",
      " 'nuv_flux' 'nuv_fluxerr' 'fuv_x_image' 'fuv_y_image' 'nuv_x_image'\n",
      " 'nuv_y_image' 'fuv_fwhm_image' 'nuv_fwhm_image' 'fuv_fwhm_world'\n",
      " 'nuv_fwhm_world' 'nuv_class_star' 'fuv_class_star' 'nuv_ellipticity'\n",
      " 'fuv_ellipticity' 'nuv_theta_j2000' 'nuv_errtheta_j2000'\n",
      " 'fuv_theta_j2000' 'fuv_errtheta_j2000' 'fuv_ncat_fwhm_image'\n",
      " 'fuv_ncat_flux_radius_3' 'nuv_kron_radius' 'nuv_a_world' 'nuv_b_world'\n",
      " 'fuv_kron_radius' 'fuv_a_world' 'fuv_b_world' 'nuv_weight' 'fuv_weight'\n",
      " 'prob' 'sep' 'nuv_poserr' 'fuv_poserr' 'ib_poserr' 'nuv_pperr'\n",
      " 'fuv_pperr' 'CorV' 'gRank' 'ngrank' 'primgid' 'groupgid' 'grankdist'\n",
      " 'ngrankdist' 'primgiddist' 'groupgiddist' 'groupgidtot' 'difffuv'\n",
      " 'diffnuv' 'difffuvdist' 'diffnuvdist' 'sepas' 'sepasdist' 'inlargeobj'\n",
      " 'largeobjsize']\n"
     ]
    }
   ],
   "source": [
    "print(GUVCat_25_30.columns.values)"
   ]
  },
  {
   "cell_type": "markdown",
   "id": "61a80f04",
   "metadata": {},
   "source": [
    "The different columns included are explained in <a href=\"https://arxiv.org/pdf/1704.05903.pdf\">Bianchi et al. 2017</a>. Some relevant identifiers are:\n",
    "\n",
    "- _objid_: GALEX identifier for the source.\n",
    "- _ra_: source’s Right Ascension (degrees).\n",
    "- _dec_: source’s Declination (degrees).\n",
    "- _fuv/nuv_mag_: FUV/NUV calibrated magnitude.\n",
    "- _fuv/nuv_flux_: FUV/NUV calibrated flux (micro Jansky).\n",
    "\n",
    "Let's take a look now at how the catalog data look like:"
   ]
  },
  {
   "cell_type": "code",
   "execution_count": 4,
   "id": "c8a00f9b",
   "metadata": {},
   "outputs": [
    {
     "data": {
      "text/html": [
       "<div>\n",
       "<style scoped>\n",
       "    .dataframe tbody tr th:only-of-type {\n",
       "        vertical-align: middle;\n",
       "    }\n",
       "\n",
       "    .dataframe tbody tr th {\n",
       "        vertical-align: top;\n",
       "    }\n",
       "\n",
       "    .dataframe thead th {\n",
       "        text-align: right;\n",
       "    }\n",
       "</style>\n",
       "<table border=\"1\" class=\"dataframe\">\n",
       "  <thead>\n",
       "    <tr style=\"text-align: right;\">\n",
       "      <th></th>\n",
       "      <th>objid</th>\n",
       "      <th>photoextractid</th>\n",
       "      <th>mpstype</th>\n",
       "      <th>avaspra</th>\n",
       "      <th>avaspdec</th>\n",
       "      <th>fexptime</th>\n",
       "      <th>nexptime</th>\n",
       "      <th>ra</th>\n",
       "      <th>dec</th>\n",
       "      <th>glon</th>\n",
       "      <th>...</th>\n",
       "      <th>groupgiddist</th>\n",
       "      <th>groupgidtot</th>\n",
       "      <th>difffuv</th>\n",
       "      <th>diffnuv</th>\n",
       "      <th>difffuvdist</th>\n",
       "      <th>diffnuvdist</th>\n",
       "      <th>sepas</th>\n",
       "      <th>sepasdist</th>\n",
       "      <th>inlargeobj</th>\n",
       "      <th>largeobjsize</th>\n",
       "    </tr>\n",
       "  </thead>\n",
       "  <tbody>\n",
       "    <tr>\n",
       "      <th>0</th>\n",
       "      <td>6370915763004377599</td>\n",
       "      <td>6370915763003326464</td>\n",
       "      <td>AIS</td>\n",
       "      <td>283.536309</td>\n",
       "      <td>77.021260</td>\n",
       "      <td>109.0</td>\n",
       "      <td>109.0</td>\n",
       "      <td>284.974027</td>\n",
       "      <td>77.231293</td>\n",
       "      <td>108.713890</td>\n",
       "      <td>...</td>\n",
       "      <td>6370915763004377599</td>\n",
       "      <td>6370915763004377599</td>\n",
       "      <td>0.0</td>\n",
       "      <td>0.0</td>\n",
       "      <td>0.0</td>\n",
       "      <td>0.0</td>\n",
       "      <td>0.0</td>\n",
       "      <td>0.0</td>\n",
       "      <td>NaN</td>\n",
       "      <td>0.0</td>\n",
       "    </tr>\n",
       "    <tr>\n",
       "      <th>1</th>\n",
       "      <td>6370915763004377601</td>\n",
       "      <td>6370915763003326464</td>\n",
       "      <td>AIS</td>\n",
       "      <td>283.536309</td>\n",
       "      <td>77.021260</td>\n",
       "      <td>109.0</td>\n",
       "      <td>109.0</td>\n",
       "      <td>285.416433</td>\n",
       "      <td>77.232453</td>\n",
       "      <td>108.731610</td>\n",
       "      <td>...</td>\n",
       "      <td>6370915763004377601</td>\n",
       "      <td>6370915763004377601</td>\n",
       "      <td>0.0</td>\n",
       "      <td>0.0</td>\n",
       "      <td>0.0</td>\n",
       "      <td>0.0</td>\n",
       "      <td>0.0</td>\n",
       "      <td>0.0</td>\n",
       "      <td>NaN</td>\n",
       "      <td>0.0</td>\n",
       "    </tr>\n",
       "    <tr>\n",
       "      <th>2</th>\n",
       "      <td>6370915763004377602</td>\n",
       "      <td>6370915763003326464</td>\n",
       "      <td>AIS</td>\n",
       "      <td>283.536309</td>\n",
       "      <td>77.021260</td>\n",
       "      <td>109.0</td>\n",
       "      <td>109.0</td>\n",
       "      <td>284.912987</td>\n",
       "      <td>77.233466</td>\n",
       "      <td>108.714070</td>\n",
       "      <td>...</td>\n",
       "      <td>6370915763004377602</td>\n",
       "      <td>6370915763004377602</td>\n",
       "      <td>0.0</td>\n",
       "      <td>0.0</td>\n",
       "      <td>0.0</td>\n",
       "      <td>0.0</td>\n",
       "      <td>0.0</td>\n",
       "      <td>0.0</td>\n",
       "      <td>NaN</td>\n",
       "      <td>0.0</td>\n",
       "    </tr>\n",
       "    <tr>\n",
       "      <th>3</th>\n",
       "      <td>6370915763004377604</td>\n",
       "      <td>6370915763003326464</td>\n",
       "      <td>AIS</td>\n",
       "      <td>283.536309</td>\n",
       "      <td>77.021260</td>\n",
       "      <td>109.0</td>\n",
       "      <td>109.0</td>\n",
       "      <td>282.320103</td>\n",
       "      <td>77.231828</td>\n",
       "      <td>108.632340</td>\n",
       "      <td>...</td>\n",
       "      <td>6370915763004377604</td>\n",
       "      <td>6370915763004377604</td>\n",
       "      <td>0.0</td>\n",
       "      <td>0.0</td>\n",
       "      <td>0.0</td>\n",
       "      <td>0.0</td>\n",
       "      <td>0.0</td>\n",
       "      <td>0.0</td>\n",
       "      <td>NaN</td>\n",
       "      <td>0.0</td>\n",
       "    </tr>\n",
       "    <tr>\n",
       "      <th>4</th>\n",
       "      <td>6370915763004377605</td>\n",
       "      <td>6370915763003326464</td>\n",
       "      <td>AIS</td>\n",
       "      <td>283.536309</td>\n",
       "      <td>77.021260</td>\n",
       "      <td>109.0</td>\n",
       "      <td>109.0</td>\n",
       "      <td>282.295966</td>\n",
       "      <td>77.236383</td>\n",
       "      <td>108.636790</td>\n",
       "      <td>...</td>\n",
       "      <td>6370915763004377605</td>\n",
       "      <td>6370915763004377605</td>\n",
       "      <td>0.0</td>\n",
       "      <td>0.0</td>\n",
       "      <td>0.0</td>\n",
       "      <td>0.0</td>\n",
       "      <td>0.0</td>\n",
       "      <td>0.0</td>\n",
       "      <td>NaN</td>\n",
       "      <td>0.0</td>\n",
       "    </tr>\n",
       "    <tr>\n",
       "      <th>...</th>\n",
       "      <td>...</td>\n",
       "      <td>...</td>\n",
       "      <td>...</td>\n",
       "      <td>...</td>\n",
       "      <td>...</td>\n",
       "      <td>...</td>\n",
       "      <td>...</td>\n",
       "      <td>...</td>\n",
       "      <td>...</td>\n",
       "      <td>...</td>\n",
       "      <td>...</td>\n",
       "      <td>...</td>\n",
       "      <td>...</td>\n",
       "      <td>...</td>\n",
       "      <td>...</td>\n",
       "      <td>...</td>\n",
       "      <td>...</td>\n",
       "      <td>...</td>\n",
       "      <td>...</td>\n",
       "      <td>...</td>\n",
       "      <td>...</td>\n",
       "    </tr>\n",
       "    <tr>\n",
       "      <th>3923423</th>\n",
       "      <td>6383441428459031767</td>\n",
       "      <td>6383441428457979904</td>\n",
       "      <td>AIS</td>\n",
       "      <td>250.942286</td>\n",
       "      <td>-6.230505</td>\n",
       "      <td>163.1</td>\n",
       "      <td>163.1</td>\n",
       "      <td>250.741181</td>\n",
       "      <td>-5.725562</td>\n",
       "      <td>11.546722</td>\n",
       "      <td>...</td>\n",
       "      <td>6383441428459031767</td>\n",
       "      <td>6383441428459031767</td>\n",
       "      <td>0.0</td>\n",
       "      <td>0.0</td>\n",
       "      <td>0.0</td>\n",
       "      <td>0.0</td>\n",
       "      <td>0.0</td>\n",
       "      <td>0.0</td>\n",
       "      <td>NaN</td>\n",
       "      <td>0.0</td>\n",
       "    </tr>\n",
       "    <tr>\n",
       "      <th>3923424</th>\n",
       "      <td>6383441428459031778</td>\n",
       "      <td>6383441428457979904</td>\n",
       "      <td>AIS</td>\n",
       "      <td>250.942286</td>\n",
       "      <td>-6.230505</td>\n",
       "      <td>163.1</td>\n",
       "      <td>163.1</td>\n",
       "      <td>250.852851</td>\n",
       "      <td>-5.693120</td>\n",
       "      <td>11.644462</td>\n",
       "      <td>...</td>\n",
       "      <td>6383441428459031778</td>\n",
       "      <td>6383441428459031778</td>\n",
       "      <td>0.0</td>\n",
       "      <td>0.0</td>\n",
       "      <td>0.0</td>\n",
       "      <td>0.0</td>\n",
       "      <td>0.0</td>\n",
       "      <td>0.0</td>\n",
       "      <td>NaN</td>\n",
       "      <td>0.0</td>\n",
       "    </tr>\n",
       "    <tr>\n",
       "      <th>3923425</th>\n",
       "      <td>6383441428461127550</td>\n",
       "      <td>6383441428457979904</td>\n",
       "      <td>AIS</td>\n",
       "      <td>250.942286</td>\n",
       "      <td>-6.230505</td>\n",
       "      <td>163.1</td>\n",
       "      <td>163.1</td>\n",
       "      <td>250.532926</td>\n",
       "      <td>-6.157141</td>\n",
       "      <td>11.023189</td>\n",
       "      <td>...</td>\n",
       "      <td>6383441428461127550</td>\n",
       "      <td>6383441428461127550</td>\n",
       "      <td>0.0</td>\n",
       "      <td>0.0</td>\n",
       "      <td>0.0</td>\n",
       "      <td>0.0</td>\n",
       "      <td>0.0</td>\n",
       "      <td>0.0</td>\n",
       "      <td>NaN</td>\n",
       "      <td>0.0</td>\n",
       "    </tr>\n",
       "    <tr>\n",
       "      <th>3923426</th>\n",
       "      <td>6383441428461128154</td>\n",
       "      <td>6383441428457979904</td>\n",
       "      <td>AIS</td>\n",
       "      <td>250.942286</td>\n",
       "      <td>-6.230505</td>\n",
       "      <td>163.1</td>\n",
       "      <td>163.1</td>\n",
       "      <td>250.634061</td>\n",
       "      <td>-5.983922</td>\n",
       "      <td>11.243939</td>\n",
       "      <td>...</td>\n",
       "      <td>6383441428461128154</td>\n",
       "      <td>6383441428461128154</td>\n",
       "      <td>0.0</td>\n",
       "      <td>0.0</td>\n",
       "      <td>0.0</td>\n",
       "      <td>0.0</td>\n",
       "      <td>0.0</td>\n",
       "      <td>0.0</td>\n",
       "      <td>NaN</td>\n",
       "      <td>0.0</td>\n",
       "    </tr>\n",
       "    <tr>\n",
       "      <th>3923427</th>\n",
       "      <td>6383441428461128367</td>\n",
       "      <td>6383441428457979904</td>\n",
       "      <td>AIS</td>\n",
       "      <td>250.942286</td>\n",
       "      <td>-6.230505</td>\n",
       "      <td>163.1</td>\n",
       "      <td>163.1</td>\n",
       "      <td>250.641404</td>\n",
       "      <td>-5.912016</td>\n",
       "      <td>11.314475</td>\n",
       "      <td>...</td>\n",
       "      <td>6383441428461128367</td>\n",
       "      <td>6383441428461128367</td>\n",
       "      <td>0.0</td>\n",
       "      <td>0.0</td>\n",
       "      <td>0.0</td>\n",
       "      <td>0.0</td>\n",
       "      <td>0.0</td>\n",
       "      <td>0.0</td>\n",
       "      <td>NaN</td>\n",
       "      <td>0.0</td>\n",
       "    </tr>\n",
       "  </tbody>\n",
       "</table>\n",
       "<p>3923428 rows × 95 columns</p>\n",
       "</div>"
      ],
      "text/plain": [
       "                       objid       photoextractid mpstype     avaspra  \\\n",
       "0        6370915763004377599  6370915763003326464     AIS  283.536309   \n",
       "1        6370915763004377601  6370915763003326464     AIS  283.536309   \n",
       "2        6370915763004377602  6370915763003326464     AIS  283.536309   \n",
       "3        6370915763004377604  6370915763003326464     AIS  283.536309   \n",
       "4        6370915763004377605  6370915763003326464     AIS  283.536309   \n",
       "...                      ...                  ...     ...         ...   \n",
       "3923423  6383441428459031767  6383441428457979904     AIS  250.942286   \n",
       "3923424  6383441428459031778  6383441428457979904     AIS  250.942286   \n",
       "3923425  6383441428461127550  6383441428457979904     AIS  250.942286   \n",
       "3923426  6383441428461128154  6383441428457979904     AIS  250.942286   \n",
       "3923427  6383441428461128367  6383441428457979904     AIS  250.942286   \n",
       "\n",
       "          avaspdec  fexptime  nexptime          ra        dec        glon  \\\n",
       "0        77.021260     109.0     109.0  284.974027  77.231293  108.713890   \n",
       "1        77.021260     109.0     109.0  285.416433  77.232453  108.731610   \n",
       "2        77.021260     109.0     109.0  284.912987  77.233466  108.714070   \n",
       "3        77.021260     109.0     109.0  282.320103  77.231828  108.632340   \n",
       "4        77.021260     109.0     109.0  282.295966  77.236383  108.636790   \n",
       "...            ...       ...       ...         ...        ...         ...   \n",
       "3923423  -6.230505     163.1     163.1  250.741181  -5.725562   11.546722   \n",
       "3923424  -6.230505     163.1     163.1  250.852851  -5.693120   11.644462   \n",
       "3923425  -6.230505     163.1     163.1  250.532926  -6.157141   11.023189   \n",
       "3923426  -6.230505     163.1     163.1  250.634061  -5.983922   11.243939   \n",
       "3923427  -6.230505     163.1     163.1  250.641404  -5.912016   11.314475   \n",
       "\n",
       "         ...         groupgiddist          groupgidtot  difffuv  diffnuv  \\\n",
       "0        ...  6370915763004377599  6370915763004377599      0.0      0.0   \n",
       "1        ...  6370915763004377601  6370915763004377601      0.0      0.0   \n",
       "2        ...  6370915763004377602  6370915763004377602      0.0      0.0   \n",
       "3        ...  6370915763004377604  6370915763004377604      0.0      0.0   \n",
       "4        ...  6370915763004377605  6370915763004377605      0.0      0.0   \n",
       "...      ...                  ...                  ...      ...      ...   \n",
       "3923423  ...  6383441428459031767  6383441428459031767      0.0      0.0   \n",
       "3923424  ...  6383441428459031778  6383441428459031778      0.0      0.0   \n",
       "3923425  ...  6383441428461127550  6383441428461127550      0.0      0.0   \n",
       "3923426  ...  6383441428461128154  6383441428461128154      0.0      0.0   \n",
       "3923427  ...  6383441428461128367  6383441428461128367      0.0      0.0   \n",
       "\n",
       "         difffuvdist  diffnuvdist  sepas  sepasdist  inlargeobj  largeobjsize  \n",
       "0                0.0          0.0    0.0        0.0         NaN           0.0  \n",
       "1                0.0          0.0    0.0        0.0         NaN           0.0  \n",
       "2                0.0          0.0    0.0        0.0         NaN           0.0  \n",
       "3                0.0          0.0    0.0        0.0         NaN           0.0  \n",
       "4                0.0          0.0    0.0        0.0         NaN           0.0  \n",
       "...              ...          ...    ...        ...         ...           ...  \n",
       "3923423          0.0          0.0    0.0        0.0         NaN           0.0  \n",
       "3923424          0.0          0.0    0.0        0.0         NaN           0.0  \n",
       "3923425          0.0          0.0    0.0        0.0         NaN           0.0  \n",
       "3923426          0.0          0.0    0.0        0.0         NaN           0.0  \n",
       "3923427          0.0          0.0    0.0        0.0         NaN           0.0  \n",
       "\n",
       "[3923428 rows x 95 columns]"
      ]
     },
     "execution_count": 4,
     "metadata": {},
     "output_type": "execute_result"
    }
   ],
   "source": [
    "GUVCat_25_30"
   ]
  },
  {
   "cell_type": "markdown",
   "id": "c46acf6b",
   "metadata": {},
   "source": [
    "If we wanted to display only the GALEX identifiers for example, we would have to provide between brackets the column name 'objid' as follows:"
   ]
  },
  {
   "cell_type": "code",
   "execution_count": 5,
   "id": "d01b9cdb",
   "metadata": {},
   "outputs": [
    {
     "name": "stdout",
     "output_type": "stream",
     "text": [
      "0          6370915763004377599\n",
      "1          6370915763004377601\n",
      "2          6370915763004377602\n",
      "3          6370915763004377604\n",
      "4          6370915763004377605\n",
      "                  ...         \n",
      "3923423    6383441428459031767\n",
      "3923424    6383441428459031778\n",
      "3923425    6383441428461127550\n",
      "3923426    6383441428461128154\n",
      "3923427    6383441428461128367\n",
      "Name: objid, Length: 3923428, dtype: int64\n"
     ]
    }
   ],
   "source": [
    "print(GUVCat_25_30['objid'])"
   ]
  },
  {
   "cell_type": "markdown",
   "id": "0cf03a30",
   "metadata": {},
   "source": [
    "This returns a specific column from our data frame. If, on the other hand, we want to access a specific row we could do so by specifying the row number with the _iloc_ function:"
   ]
  },
  {
   "cell_type": "code",
   "execution_count": 6,
   "id": "f54f57f3",
   "metadata": {},
   "outputs": [
    {
     "name": "stdout",
     "output_type": "stream",
     "text": [
      "objid             6370915763004377599\n",
      "photoextractid    6370915763003326464\n",
      "mpstype                           AIS\n",
      "avaspra                    283.536309\n",
      "avaspdec                     77.02126\n",
      "                         ...         \n",
      "diffnuvdist                       0.0\n",
      "sepas                             0.0\n",
      "sepasdist                         0.0\n",
      "inlargeobj                        NaN\n",
      "largeobjsize                      0.0\n",
      "Name: 0, Length: 95, dtype: object\n"
     ]
    }
   ],
   "source": [
    "print(GUVCat_25_30.iloc[0])"
   ]
  },
  {
   "cell_type": "markdown",
   "id": "1734a399",
   "metadata": {},
   "source": [
    "Finally, if we wanted to display only a specific value from our data-frame we would need to specify the row number and the column name:"
   ]
  },
  {
   "cell_type": "code",
   "execution_count": 7,
   "id": "1af0760d",
   "metadata": {},
   "outputs": [
    {
     "name": "stdout",
     "output_type": "stream",
     "text": [
      "GUVCat_25_30.iloc[0][objid] =  6370915763004377599\n"
     ]
    }
   ],
   "source": [
    "print('GUVCat_25_30.iloc[0][objid] = ',GUVCat_25_30.iloc[0]['objid'])"
   ]
  },
  {
   "cell_type": "markdown",
   "id": "fc8d4f7d",
   "metadata": {},
   "source": [
    "## Data reduction\n",
    "\n",
    "Before making any selection cuts, let's see how many sources we have in the selected catalog:"
   ]
  },
  {
   "cell_type": "code",
   "execution_count": 66,
   "id": "cab62b91",
   "metadata": {},
   "outputs": [
    {
     "name": "stdout",
     "output_type": "stream",
     "text": [
      "Number of elements: 3923428\n"
     ]
    }
   ],
   "source": [
    "n_total = len(GUVCat_25_30)\n",
    "print('Number of elements: '+str(len(GUVCat_25_30)))"
   ]
  },
  {
   "cell_type": "markdown",
   "id": "ee743017",
   "metadata": {},
   "source": [
    "### Selection criteria: coordinates of the TWA\n",
    "\n",
    "Since we want to create a color-color comparison using the GALEX catalog, we can select a sample of young, low-mass stars such as the TW Hydrae Association. Since the GUVCat is divided in groupd every 5 degrees of galactic latitude, wa have selected those with a galactic latitude between 25 and 30 degrees. The coordinates of its members have been provided in a _.txt_ file along with this tutorial; the first column corresponds to the name of the star, the second to its galactic longitude and the third to its galactic latitude (both in degrees).\n",
    "\n",
    "The first step for this process will be then to load this information using the _numpy_ function _loadtxt_. If we use the option _unpack=True_ we can directly separate the three columsn into different arrays to better handle them later. Additionally, _loadtxt_ assumes float as the standard input, so since the first column will correspond to strings, let's use the parameter _dtype_ to specify that the first column has a string (U) format, and the other two are floats (f)."
   ]
  },
  {
   "cell_type": "code",
   "execution_count": 203,
   "id": "042ebbfe",
   "metadata": {},
   "outputs": [],
   "source": [
    "names_TWA, glon_TWA, glat_TWA = np.loadtxt('TWA_coordinates_25_30.txt', unpack = True, dtype=\"U7,f8,f8\")"
   ]
  },
  {
   "cell_type": "code",
   "execution_count": 204,
   "id": "d6523a1e",
   "metadata": {},
   "outputs": [
    {
     "name": "stdout",
     "output_type": "stream",
     "text": [
      "Name of the stars in the TWA:  ['TWA_2' 'TWA_5' 'TWA_23' 'TWA_26' 'TWA_30' 'TWA_30B' 'TWA_31' 'TWA_32'\n",
      " 'TWA_33']\n"
     ]
    }
   ],
   "source": [
    "print('Name of the stars in the TWA: ', names_TWA)"
   ]
  },
  {
   "cell_type": "code",
   "execution_count": 205,
   "id": "cb78a711",
   "metadata": {},
   "outputs": [
    {
     "name": "stdout",
     "output_type": "stream",
     "text": [
      "Galactic longitude coordinate of the stars in the TWA:  [277.95102138 284.87408232 292.3486489  285.68451066 283.31811612\n",
      " 283.30889319 292.22347037 297.03974302 285.14291101]\n"
     ]
    }
   ],
   "source": [
    "print('Galactic longitude coordinate of the stars in the TWA: ', glon_TWA)"
   ]
  },
  {
   "cell_type": "code",
   "execution_count": 206,
   "id": "c57ec389",
   "metadata": {},
   "outputs": [
    {
     "name": "stdout",
     "output_type": "stream",
     "text": [
      "Galactic latitude of the stars in the TWA:  [27.83910412 25.46047535 29.18289511 28.47365048 29.50905281 29.5298417\n",
      " 29.43490044 29.32020358 29.71013373]\n"
     ]
    }
   ],
   "source": [
    "print('Galactic latitude of the stars in the TWA: ', glat_TWA)"
   ]
  },
  {
   "cell_type": "markdown",
   "id": "8fc58f57",
   "metadata": {},
   "source": [
    "Now that we have correctly loaded the data from the _.txt_ file, we can use the coordiantes of each star to select the entries from the _GUVCat_25_30_ catalog that we want. Let's first see how to do it for only one star, 'TWA 2', and select the NUV magnitude for it. "
   ]
  },
  {
   "cell_type": "code",
   "execution_count": 215,
   "id": "2e3867a6",
   "metadata": {},
   "outputs": [
    {
     "data": {
      "text/html": [
       "<div>\n",
       "<style scoped>\n",
       "    .dataframe tbody tr th:only-of-type {\n",
       "        vertical-align: middle;\n",
       "    }\n",
       "\n",
       "    .dataframe tbody tr th {\n",
       "        vertical-align: top;\n",
       "    }\n",
       "\n",
       "    .dataframe thead th {\n",
       "        text-align: right;\n",
       "    }\n",
       "</style>\n",
       "<table border=\"1\" class=\"dataframe\">\n",
       "  <thead>\n",
       "    <tr style=\"text-align: right;\">\n",
       "      <th></th>\n",
       "      <th>objid</th>\n",
       "      <th>photoextractid</th>\n",
       "      <th>mpstype</th>\n",
       "      <th>avaspra</th>\n",
       "      <th>avaspdec</th>\n",
       "      <th>fexptime</th>\n",
       "      <th>nexptime</th>\n",
       "      <th>ra</th>\n",
       "      <th>dec</th>\n",
       "      <th>glon</th>\n",
       "      <th>...</th>\n",
       "      <th>groupgiddist</th>\n",
       "      <th>groupgidtot</th>\n",
       "      <th>difffuv</th>\n",
       "      <th>diffnuv</th>\n",
       "      <th>difffuvdist</th>\n",
       "      <th>diffnuvdist</th>\n",
       "      <th>sepas</th>\n",
       "      <th>sepasdist</th>\n",
       "      <th>inlargeobj</th>\n",
       "      <th>largeobjsize</th>\n",
       "    </tr>\n",
       "  </thead>\n",
       "  <tbody>\n",
       "    <tr>\n",
       "      <th>3591520</th>\n",
       "      <td>6386924674855469360</td>\n",
       "      <td>6386924674852323328</td>\n",
       "      <td>AIS</td>\n",
       "      <td>167.226358</td>\n",
       "      <td>-29.590736</td>\n",
       "      <td>109.0</td>\n",
       "      <td>109.0</td>\n",
       "      <td>167.307493</td>\n",
       "      <td>-30.027679</td>\n",
       "      <td>277.95111</td>\n",
       "      <td>...</td>\n",
       "      <td>6386924674855469360+6386924705993985726</td>\n",
       "      <td>6386924674855469360+6386924705993985726</td>\n",
       "      <td>0.0</td>\n",
       "      <td>0.0</td>\n",
       "      <td>0.0</td>\n",
       "      <td>0.0</td>\n",
       "      <td>0.0</td>\n",
       "      <td>0.0</td>\n",
       "      <td>NaN</td>\n",
       "      <td>0.0</td>\n",
       "    </tr>\n",
       "  </tbody>\n",
       "</table>\n",
       "<p>1 rows × 95 columns</p>\n",
       "</div>"
      ],
      "text/plain": [
       "                       objid       photoextractid mpstype     avaspra  \\\n",
       "3591520  6386924674855469360  6386924674852323328     AIS  167.226358   \n",
       "\n",
       "          avaspdec  fexptime  nexptime          ra        dec       glon  ...  \\\n",
       "3591520 -29.590736     109.0     109.0  167.307493 -30.027679  277.95111  ...   \n",
       "\n",
       "                                    groupgiddist  \\\n",
       "3591520  6386924674855469360+6386924705993985726   \n",
       "\n",
       "                                     groupgidtot  difffuv  diffnuv  \\\n",
       "3591520  6386924674855469360+6386924705993985726      0.0      0.0   \n",
       "\n",
       "         difffuvdist  diffnuvdist  sepas  sepasdist  inlargeobj  largeobjsize  \n",
       "3591520          0.0          0.0    0.0        0.0         NaN           0.0  \n",
       "\n",
       "[1 rows x 95 columns]"
      ]
     },
     "execution_count": 215,
     "metadata": {},
     "output_type": "execute_result"
    }
   ],
   "source": [
    "TWA_2 = GUVCat_25_30[(GUVCat_25_30['glon'] > (glon_TWA[0]-0.001))& (GUVCat_25_30['glon'] < (glon_TWA[0]+0.001)) & (GUVCat_25_30['glat'] > (glat_TWA[0]-0.001))  & (GUVCat_25_30['glat'] < (glat_TWA[0]+0.001))]\n",
    "\n",
    "TWA_2"
   ]
  },
  {
   "cell_type": "code",
   "execution_count": 218,
   "id": "7df5f0f9",
   "metadata": {},
   "outputs": [
    {
     "name": "stdout",
     "output_type": "stream",
     "text": [
      "NUV magnitude of TWA 2:  17.928202\n"
     ]
    }
   ],
   "source": [
    "print('NUV magnitude of TWA 2: ',float(TWA_2['nuv_mag']))"
   ]
  },
  {
   "cell_type": "markdown",
   "id": "e2e12049",
   "metadata": {},
   "source": [
    "Now, let's do this for the whole TWA and see how many stars we can find in the catalog:"
   ]
  },
  {
   "cell_type": "code",
   "execution_count": 246,
   "id": "46b15159",
   "metadata": {},
   "outputs": [
    {
     "name": "stdout",
     "output_type": "stream",
     "text": [
      "NUV magnitudes of TWA:  [17.928202 17.820465 19.753916  0.       22.485006  0.       20.674789\n",
      " 19.032324  0.      ]\n"
     ]
    }
   ],
   "source": [
    "n = len(glon_TWA)\n",
    "NUV_TWA = np.zeros(n)\n",
    "\n",
    "for i in range(n):\n",
    "    \n",
    "    tol = 0.001\n",
    "    TWAobj = GUVCat_25_30[(GUVCat_25_30['glon'] > (glon_TWA[i]-tol))& (GUVCat_25_30['glon'] < (glon_TWA[i]+tol)) & (GUVCat_25_30['glat'] > (glat_TWA[i]-tol))  & (GUVCat_25_30['glat'] < (glat_TWA[i]+tol))]\n",
    "    if len(TWAobj) == 1:\n",
    "        NUV_TWA[i] = float(TWAobj['nuv_mag'])\n",
    "    \n",
    "print('NUV magnitudes of TWA: ',NUV_TWA)"
   ]
  },
  {
   "cell_type": "markdown",
   "id": "2c8aa727",
   "metadata": {},
   "source": [
    "## SIMBAD catalog\n",
    "\n",
    "To create the color-color diagram we need additional bands to perform the comparison. In order to do so, we can use some of the bands provided by the SIMBAD catalog ($K - 2.159 \\mu m, V - 0.540 \\mu m$). In order to do that, we should add the votable fields 'flux(K)' and 'flux(V)' to the Simbad query with the following command:"
   ]
  },
  {
   "cell_type": "code",
   "execution_count": 88,
   "id": "067ca987",
   "metadata": {},
   "outputs": [],
   "source": [
    "Simbad.add_votable_fields('flux(K)','flux(V)')"
   ]
  },
  {
   "cell_type": "markdown",
   "id": "9185e651",
   "metadata": {},
   "source": [
    "Even though the votable field that we have added says 'flux', this will provide us with the magnitude in those band, let's check it for our first star, 'TWA 1':"
   ]
  },
  {
   "cell_type": "code",
   "execution_count": 240,
   "id": "6bafbcf8",
   "metadata": {},
   "outputs": [
    {
     "data": {
      "text/html": [
       "<div><i>Table length=1</i>\n",
       "<table id=\"table140387678171248\" class=\"table-striped table-bordered table-condensed\">\n",
       "<thead><tr><th>MAIN_ID</th><th>RA</th><th>DEC</th><th>RA_PREC</th><th>DEC_PREC</th><th>COO_ERR_MAJA</th><th>COO_ERR_MINA</th><th>COO_ERR_ANGLE</th><th>COO_QUAL</th><th>COO_WAVELENGTH</th><th>COO_BIBCODE</th><th>FLUX_K</th><th>FLUX_V</th><th>FLUX_K_1</th><th>FLUX_V_1</th><th>SCRIPT_NUMBER_ID</th></tr></thead>\n",
       "<thead><tr><th></th><th>&quot;h:m:s&quot;</th><th>&quot;d:m:s&quot;</th><th></th><th></th><th>mas</th><th>mas</th><th>deg</th><th></th><th></th><th></th><th>mag</th><th>mag</th><th>mag</th><th>mag</th><th></th></tr></thead>\n",
       "<thead><tr><th>object</th><th>str13</th><th>str13</th><th>int16</th><th>int16</th><th>float32</th><th>float32</th><th>int16</th><th>str1</th><th>str1</th><th>object</th><th>float32</th><th>float32</th><th>float32</th><th>float32</th><th>int32</th></tr></thead>\n",
       "<tr><td>CD-29  8887</td><td>11 09 13.7928</td><td>-30 01 39.968</td><td>14</td><td>14</td><td>0.148</td><td>0.152</td><td>90</td><td>A</td><td>O</td><td>2020yCat.1350....0G</td><td>6.71</td><td>11.119</td><td>6.71</td><td>11.119</td><td>1</td></tr>\n",
       "</table></div>"
      ],
      "text/plain": [
       "<Table length=1>\n",
       "  MAIN_ID         RA           DEC      ... FLUX_K_1 FLUX_V_1 SCRIPT_NUMBER_ID\n",
       "               \"h:m:s\"       \"d:m:s\"    ...   mag      mag                    \n",
       "   object       str13         str13     ... float32  float32       int32      \n",
       "----------- ------------- ------------- ... -------- -------- ----------------\n",
       "CD-29  8887 11 09 13.7928 -30 01 39.968 ...     6.71   11.119                1"
      ]
     },
     "execution_count": 240,
     "metadata": {},
     "output_type": "execute_result"
    }
   ],
   "source": [
    "table_twa2 = Simbad.query_object('TWA 2')\n",
    "\n",
    "table_twa2"
   ]
  },
  {
   "cell_type": "markdown",
   "id": "cddfb72f",
   "metadata": {},
   "source": [
    "As you can see, below the name 'FLUX_K' it indicates it is a magnitude! So now let's do it for the whole TWA using the _names_TWA_ array. \n",
    "\n",
    "_**Note**: some elements may not have either the V or K magnitude, such as 'TWA 11B', which is displayed below for the reader to see the problematic values._"
   ]
  },
  {
   "cell_type": "code",
   "execution_count": 242,
   "id": "f9252c35",
   "metadata": {},
   "outputs": [
    {
     "data": {
      "text/html": [
       "<div><i>Table length=1</i>\n",
       "<table id=\"table140387742658720\" class=\"table-striped table-bordered table-condensed\">\n",
       "<thead><tr><th>MAIN_ID</th><th>RA</th><th>DEC</th><th>RA_PREC</th><th>DEC_PREC</th><th>COO_ERR_MAJA</th><th>COO_ERR_MINA</th><th>COO_ERR_ANGLE</th><th>COO_QUAL</th><th>COO_WAVELENGTH</th><th>COO_BIBCODE</th><th>FLUX_K</th><th>FLUX_V</th><th>FLUX_K_1</th><th>FLUX_V_1</th><th>SCRIPT_NUMBER_ID</th></tr></thead>\n",
       "<thead><tr><th></th><th>&quot;h:m:s&quot;</th><th>&quot;d:m:s&quot;</th><th></th><th></th><th>mas</th><th>mas</th><th>deg</th><th></th><th></th><th></th><th>mag</th><th>mag</th><th>mag</th><th>mag</th><th></th></tr></thead>\n",
       "<thead><tr><th>object</th><th>str13</th><th>str13</th><th>int16</th><th>int16</th><th>float32</th><th>float32</th><th>int16</th><th>str1</th><th>str1</th><th>object</th><th>float32</th><th>float32</th><th>float32</th><th>float32</th><th>int32</th></tr></thead>\n",
       "<tr><td>TWA 31</td><td>12 07 10.8883</td><td>-32 30 53.755</td><td>14</td><td>14</td><td>0.038</td><td>0.028</td><td>90</td><td>A</td><td>O</td><td>2020yCat.1350....0G</td><td>12.115</td><td>--</td><td>12.115</td><td>--</td><td>1</td></tr>\n",
       "</table></div>"
      ],
      "text/plain": [
       "<Table length=1>\n",
       "MAIN_ID       RA           DEC      ... FLUX_K_1 FLUX_V_1 SCRIPT_NUMBER_ID\n",
       "           \"h:m:s\"       \"d:m:s\"    ...   mag      mag                    \n",
       " object     str13         str13     ... float32  float32       int32      \n",
       "------- ------------- ------------- ... -------- -------- ----------------\n",
       " TWA 31 12 07 10.8883 -32 30 53.755 ...   12.115       --                1"
      ]
     },
     "execution_count": 242,
     "metadata": {},
     "output_type": "execute_result"
    }
   ],
   "source": [
    "table_twa31 = Simbad.query_object('TWA 31')\n",
    "\n",
    "table_twa31"
   ]
  },
  {
   "cell_type": "markdown",
   "id": "8fd4dc80",
   "metadata": {},
   "source": [
    "These elements will appear as NaN when converted to float numbers. A way to check if a value is NaN in Python is to check if it is not equal to itself, we will use this to flag the missing values."
   ]
  },
  {
   "cell_type": "code",
   "execution_count": 252,
   "id": "2ecac5b3",
   "metadata": {},
   "outputs": [
    {
     "name": "stdout",
     "output_type": "stream",
     "text": [
      "Missing V-band magnitude:  TWA_26\n",
      "Missing V-band magnitude:  TWA_30\n",
      "Missing V-band magnitude:  TWA_30B\n",
      "Missing V-band magnitude:  TWA_31\n"
     ]
    },
    {
     "name": "stderr",
     "output_type": "stream",
     "text": [
      "<ipython-input-252-bda1469fd378>:8: UserWarning: Warning: converting a masked element to nan.\n",
      "  if (float(table['FLUX_V']) != float(table['FLUX_V'])):\n",
      "<ipython-input-252-bda1469fd378>:8: UserWarning: Warning: converting a masked element to nan.\n",
      "  if (float(table['FLUX_V']) != float(table['FLUX_V'])):\n",
      "<ipython-input-252-bda1469fd378>:8: UserWarning: Warning: converting a masked element to nan.\n",
      "  if (float(table['FLUX_V']) != float(table['FLUX_V'])):\n",
      "<ipython-input-252-bda1469fd378>:8: UserWarning: Warning: converting a masked element to nan.\n",
      "  if (float(table['FLUX_V']) != float(table['FLUX_V'])):\n"
     ]
    }
   ],
   "source": [
    "n = len(names_TWA)\n",
    "magK_TWA = []\n",
    "magV_TWA = []\n",
    "missing_val_i = []\n",
    "    \n",
    "for i in range(n):\n",
    "    table = Simbad.query_object(names_TWA[i])\n",
    "    if (float(table['FLUX_V']) != float(table['FLUX_V'])):\n",
    "        print('Missing V-band magnitude: ',names_TWA[i])\n",
    "        missing_val_i.append(i)\n",
    "        magK_TWA.append(float(table['FLUX_K']))\n",
    "        magV_TWA.append(0)\n",
    "        continue\n",
    "    elif (float(table['FLUX_K']) != float(table['FLUX_K'])):\n",
    "        print('Missing K-band magnitude: ',names_TWA[i])\n",
    "        missing_val_i.append(i)\n",
    "        magK_TWA.append(0)\n",
    "        magV_TWA.append(float(table['FLUX_V']))\n",
    "        continue\n",
    "    else:\n",
    "        magK_TWA.append(float(table['FLUX_K']))\n",
    "        magV_TWA.append(float(table['FLUX_V']))"
   ]
  },
  {
   "cell_type": "markdown",
   "id": "53a6955f",
   "metadata": {},
   "source": [
    "After removing the missing values, we are still left with 35 stars, this can be checked by looking at the length of the _magK_TWA_ and _magV_TWA_ lists:"
   ]
  },
  {
   "cell_type": "code",
   "execution_count": 253,
   "id": "b4075f9f",
   "metadata": {},
   "outputs": [
    {
     "name": "stdout",
     "output_type": "stream",
     "text": [
      "9\n"
     ]
    }
   ],
   "source": [
    "print(len(magK_TWA))"
   ]
  },
  {
   "cell_type": "markdown",
   "id": "1661bb61",
   "metadata": {},
   "source": [
    "We will convert now the lists we created to numpy arrays in order to better handle them. "
   ]
  },
  {
   "cell_type": "code",
   "execution_count": 254,
   "id": "b000527c",
   "metadata": {},
   "outputs": [],
   "source": [
    "magK_TWA = np.array(magK_TWA)\n",
    "magV_TWA = np.array(magV_TWA)"
   ]
  },
  {
   "cell_type": "markdown",
   "id": "7e9ccc24",
   "metadata": {},
   "source": [
    "## Matching GUVCat to SIMBAD\n",
    "\n",
    "Since some values were missing for both the NUV and the V band magnitudes, we need to perform a match between both to only keep those stars that have both measurements."
   ]
  },
  {
   "cell_type": "code",
   "execution_count": 256,
   "id": "88ad794b",
   "metadata": {},
   "outputs": [
    {
     "data": {
      "text/plain": [
       "[0, 1, 2, 7]"
      ]
     },
     "execution_count": 256,
     "metadata": {},
     "output_type": "execute_result"
    }
   ],
   "source": [
    "matched_i = []\n",
    "\n",
    "for i in range(len(names_TWA)):\n",
    "    if (NUV_TWA[i] != 0.) & (i not in missing_val_i):\n",
    "        matched_i.append(i)\n",
    "        \n",
    "matched_i"
   ]
  },
  {
   "cell_type": "markdown",
   "id": "8038b4cc",
   "metadata": {},
   "source": [
    "## Color-color diagram"
   ]
  },
  {
   "cell_type": "code",
   "execution_count": 259,
   "id": "6fdb47a7",
   "metadata": {},
   "outputs": [
    {
     "data": {
      "image/png": "[encoded data removed]",
      "text/plain": [
       "<Figure size 432x288 with 1 Axes>"
      ]
     },
     "metadata": {
      "needs_background": "light"
     },
     "output_type": "display_data"
    }
   ],
   "source": [
    "fig = plt.figure()\n",
    "ax = fig.add_subplot(111)\n",
    "plt.plot(NUV_TWA[matched_i]-magV_TWA[matched_i],magV_TWA[matched_i]-magK_TWA[matched_i],'o',markersize=3)\n",
    "plt.plot([0, 10], [0, 10], ls=\"--\", c=\".3\")\n",
    "plt.xlim([0,10])\n",
    "plt.ylim([0,10])\n",
    "ax.set_aspect('equal')\n",
    "plt.xlabel('NUV-V')\n",
    "plt.ylabel('V-K')\n",
    "plt.show()"
   ]
  },
  {
   "cell_type": "markdown",
   "id": "9a594c14",
   "metadata": {},
   "source": [
    "## Exercises\n",
    "\n",
    "## Additional Resources\n",
    "\n",
    "For more information about the MAST archive and details about mission data: \n",
    "\n",
    "<a href=\"https://mast.stsci.edu/api/v0/index.html\">MAST API</a> <br>\n",
    "<a href=\"https://archive.stsci.edu/hlsp/guvcat\">GALEX UV Unique Source Catalogs</a> <br> \n",
    "\n",
    "## About this Notebook\n",
    "\n",
    "**Author**: Clara Puerto Sánchez <br>\n",
    "**Updated on**: 20/07/2022\n",
    "\n",
    "<img style=\"float: right;\" src=\"https://raw.githubusercontent.com/spacetelescope/notebooks/master/assets/stsci_pri_combo_mark_horizonal_white_bkgd.png\" alt=\"Space Telescope Logo\" width=\"200px\"/>"
   ]
  }
 ],
 "metadata": {
  "kernelspec": {
   "display_name": "Python 3",
   "language": "python",
   "name": "python3"
  },
  "language_info": {
   "codemirror_mode": {
    "name": "ipython",
    "version": 3
   },
   "file_extension": ".py",
   "mimetype": "text/x-python",
   "name": "python",
   "nbconvert_exporter": "python",
   "pygments_lexer": "ipython3",
   "version": "3.8.8"
  }
 },
 "nbformat": 4,
 "nbformat_minor": 5
}
