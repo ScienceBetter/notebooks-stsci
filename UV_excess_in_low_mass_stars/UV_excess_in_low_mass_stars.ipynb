{
 "cells": [
  {
   "cell_type": "markdown",
   "id": "f2edcf1e",
   "metadata": {},
   "source": [
    "# UV excess in low mass stars\n",
    "\n",
    "## Learning goals\n",
    "\n",
    "By the end of this tutorial you will be able to:\n",
    "\n",
    "- Understand UV excess in low mass stars\n",
    "- Download data directly from URLs and handle data-frames\n",
    "- Learn how to use a GUVcat catalog query and make selection cuts\n",
    "- Query both SIMBAD and Vizier catalogs\n",
    "- Create a color-color diagram and save it \n",
    "\n",
    "## Introduction\n",
    "\n",
    "**GALEX background**: The Galaxy Evolution Explorer (GALEX) was a satellite which mission was to produce an All-sky Imaiging Survey (AIS). It observed the sky in two different bands: in the Near UV (NUV) ($1750-27504$ Å) and in the Far UV (FUV) ($1350-1750$ Å). The GALEX database contains over 600 million source measurements in the ultraviolet domain, with some sources having more than one measurement, which could be useful to look for variability. Additionally, this survey has additionally been used to <a href=\"https://ui.adsabs.harvard.edu/abs/2008ApJ...689.1274S/abstract\">accrete binaries</a> or <a href=\"https://ui.adsabs.harvard.edu/abs/2017ApJ...841...33M/abstract\">AGB chromospheres</a>.\n",
    "\n",
    "**Defining some terms**:\n",
    "- **Color-color diagram**:diagram used to compare the apparent magnitudes of objects at different wavelengths.\n",
    "- **AGB**: Asymptotic Giant Branch. This corresponds to an area of the Herzsprung-Russell diagram where evolved cool luminous stars are found, all low to intermediate mass (0.5-8 solar masses) undergo this period of stellar evolution.\n",
    "\n",
    "## Imports\n",
    "\n",
    "- _pyvo_ to access the Virtual Observatory.\n",
    "- _astropy.coordinates_ to represent celestial coordinates components.\n",
    "- _astropy.units_ to define and convert units of physical quantities.\n",
    "- _astropy.table_ to store and manipulate tables of data in a way similar to numpy.\n",
    "- _warnings_ to manage warning messages\n",
    "- _numpy_ to work with arrays.\n",
    "- _astroquery.simbad_ to query the SIMBAD catalog.\n",
    "- _astroquery.vizier_ to query the VizieR catalog.\n",
    "- _matplotlib.pyplot_ for plotting data."
   ]
  },
  {
   "cell_type": "code",
   "execution_count": 1,
   "id": "821d756e",
   "metadata": {},
   "outputs": [],
   "source": [
    "import pyvo as vo\n",
    "from astropy.coordinates import SkyCoord\n",
    "from astropy.units import Quantity\n",
    "from astropy.table import Table\n",
    "import warnings\n",
    "warnings.simplefilter('ignore')  \n",
    "import numpy as np\n",
    "from astroquery.simbad import Simbad\n",
    "from astroquery.vizier import Vizier\n",
    "import matplotlib.pyplot as plt\n",
    "\n",
    "import astropy.units as u\n",
    "import astropy.coordinates as coord"
   ]
  },
  {
   "cell_type": "markdown",
   "id": "e4c275c2",
   "metadata": {},
   "source": [
    "## GALEX catalog\n",
    "\n",
    "The GALEX catalog can be accessed via the <a href=\"http://dolomiti.pha.jhu.edu/uvsky/#GUVcat\">author's web site</a>, through <a href=\"http://mastweb.stsci.edu/gcasjobs\">MAST casjobs</a> or from the <a href=\"https://vizier.cds.unistra.fr/viz-bin/VizieR\">SIMBAD Vizier database</a>. Even though in this tutorial we will use a different approach, the reader is encouraged to try and download the data directly from the <a href=\"http://dolomiti.pha.jhu.edu/uvsky/GUVcat/GUVcat_AIS.html\">GALEX catalogs of unique UV sources</a> and compare. \n",
    "\n",
    "In the author's website the catalog is divided each 5º of galactic latitude, and is presented as _.csv_ files, with a naming convention such as: _GUVCat_AIS_FOV055_glat25_00N__30_00N_. This naming convention for the GUVcat catalog is as follows:\n",
    "- _AIS_ corresponds to the name of the catalog, _All-sky Imaging Survey_.\n",
    "- _FOV055_ refers to the 1.1 degree diameter of GALEX field-of-view. \n",
    "- _glat25_00N_30_00N_ is the lower and upper Galactic boundaries for this slice. _N_ to indicate the degrees are positive, and negative degrees are indicated with _S_.\n",
    "\n",
    "More information about the naming convention can be found in the <a href=\"https://archive.stsci.edu/hlsps/guvcat/hlsp_guvcat_galex_imaging_all_fuv-nuv_v1_readme.txt\">GCat README file</a>."
   ]
  },
  {
   "cell_type": "markdown",
   "id": "8d66b571",
   "metadata": {},
   "source": [
    "## GUVCat via the virtual observatory\n",
    "\n",
    "The way in which we will access the GUVCat is through the virtual observatory. If you have never used the virtual observatory before please refer to David Rodriguez's <a href=\"https://gist.github.com/dr-rodriguez/32aa944706beee299360aa700b375baa\">virtual observatory python (pyVO) tutorial.</a> <br>\n",
    "\n",
    "As explained in the tutorial, in order to access the GUVCat catalog via the VO we need to provide the coordinates of the target we want (ra, dec), as in the example shown below for TWA 1:"
   ]
  },
  {
   "cell_type": "code",
   "execution_count": 2,
   "id": "1145a07d",
   "metadata": {
    "scrolled": false
   },
   "outputs": [
    {
     "data": {
      "text/html": [
       "<div><i>Table length=1</i>\n",
       "<table id=\"table140517374327152\" class=\"table-striped table-bordered table-condensed\">\n",
       "<thead><tr><th>objID</th><th>IAUname</th><th>RA</th><th>DEC</th><th>e_bv</th><th>nuv_artifact</th><th>fuv_artifact</th><th>nuv_flags</th><th>fuv_flags</th><th>nuv_flux</th><th>fuv_flux</th><th>nuv_fluxerr</th><th>fuv_fluxerr</th><th>nuv_fwhm_world</th><th>fuv_fwhm_world</th><th>nuv_mag</th><th>fuv_mag</th><th>nuv_magerr</th><th>fuv_magerr</th><th>nuv_fcat_flux</th><th>fuv_ncat_flux</th><th>nuv_fcat_fluxerr</th><th>fuv_ncat_fluxerr</th><th>nuv_weight</th><th>fuv_weight</th><th>survey</th><th>url</th><th>mag</th><th>distance</th></tr></thead>\n",
       "<thead><tr><th></th><th></th><th>deg</th><th>deg</th><th>mag</th><th></th><th></th><th></th><th></th><th></th><th></th><th></th><th></th><th></th><th></th><th>mag</th><th>mag</th><th>mag</th><th>mag</th><th></th><th></th><th></th><th></th><th></th><th></th><th></th><th></th><th>mag</th><th>arcsec</th></tr></thead>\n",
       "<thead><tr><th>int64</th><th>object</th><th>float64</th><th>float64</th><th>float32</th><th>int32</th><th>int32</th><th>int32</th><th>int32</th><th>float32</th><th>float32</th><th>float32</th><th>float32</th><th>float32</th><th>float32</th><th>float32</th><th>float32</th><th>float32</th><th>float32</th><th>float32</th><th>float32</th><th>float32</th><th>float32</th><th>float32</th><th>float32</th><th>object</th><th>object</th><th>float32</th><th>float32</th></tr></thead>\n",
       "<tr><td>6386924702772757883</td><td>GALEX J110151.7-344217</td><td>165.465776054982</td><td>-34.7047816865525</td><td>0.06994488</td><td>0</td><td>0</td><td>0</td><td>0</td><td>6569.914</td><td>2549.284</td><td>53.16022</td><td>51.13747</td><td>0.002040816</td><td>0.001510264</td><td>14.3561</td><td>15.38396</td><td>0.008787328</td><td>0.02178466</td><td>6244.068</td><td>2630.659</td><td>45.69708</td><td>60.6461</td><td>79.51563</td><td>94.64063</td><td>AIS</td><td>&lt;a href=&quot;http://galex.stsci.edu/GR6/?page=explore&amp;photo=true&amp;objid=6386924702772757883&quot; target=&quot;_blank&quot;&gt;6386924702772757883&lt;/a&gt;</td><td>14.3561</td><td>0.024657784</td></tr>\n",
       "</table></div>"
      ],
      "text/plain": [
       "<Table length=1>\n",
       "       objID               IAUname         ...   mag     distance \n",
       "                                           ...   mag      arcsec  \n",
       "       int64                object         ... float32   float32  \n",
       "------------------- ---------------------- ... ------- -----------\n",
       "6386924702772757883 GALEX J110151.7-344217 ... 14.3561 0.024657784"
      ]
     },
     "execution_count": 2,
     "metadata": {},
     "output_type": "execute_result"
    }
   ],
   "source": [
    "pos = SkyCoord(ra=165.4662722021100, dec=-34.7047314495500, unit='deg',frame='icrs')\n",
    "size = Quantity(10, unit=\"arcsec\")\n",
    "scs_service = vo.dal.SCSService('http://gsss.stsci.edu/webservices/vo/ConeSearch.aspx?CAT=GALEX&')\n",
    "scs_results = scs_service.search(pos=pos, radius=size)\n",
    "scs_results.to_table()"
   ]
  },
  {
   "cell_type": "markdown",
   "id": "c180472d",
   "metadata": {},
   "source": [
    "Let's display the different column names that the catalog provides:"
   ]
  },
  {
   "cell_type": "code",
   "execution_count": 3,
   "id": "a58e14e1",
   "metadata": {},
   "outputs": [
    {
     "name": "stdout",
     "output_type": "stream",
     "text": [
      "<TableColumns names=('objID','IAUname','RA','DEC','e_bv','nuv_artifact','fuv_artifact','nuv_flags','fuv_flags','nuv_flux','fuv_flux','nuv_fluxerr','fuv_fluxerr','nuv_fwhm_world','fuv_fwhm_world','nuv_mag','fuv_mag','nuv_magerr','fuv_magerr','nuv_fcat_flux','fuv_ncat_flux','nuv_fcat_fluxerr','fuv_ncat_fluxerr','nuv_weight','fuv_weight','survey','url','mag','distance')>\n"
     ]
    }
   ],
   "source": [
    "print(scs_results.to_table().columns)"
   ]
  },
  {
   "cell_type": "markdown",
   "id": "dc927e5d",
   "metadata": {},
   "source": [
    "Some relevant identifiers are:\n",
    "\n",
    "- _objID_: GALEX identifier for the source.\n",
    "- _RA_: source’s Right Ascension (degrees).\n",
    "- _DEC_: source’s Declination (degrees).\n",
    "- _fuv/nuv_mag_: FUV/NUV calibrated magnitude.\n",
    "- _fuv/nuv_flux_: FUV/NUV calibrated flux (micro Jansky).\n",
    "\n",
    "Let's take a look now at how to access a specific value inside a table. In order to do this, we need to provide the name of the column we want to access, for example for the NUV magnitude:"
   ]
  },
  {
   "cell_type": "code",
   "execution_count": 4,
   "id": "db721d08",
   "metadata": {},
   "outputs": [
    {
     "name": "stdout",
     "output_type": "stream",
     "text": [
      "[14.356100082397461]\n"
     ]
    }
   ],
   "source": [
    "print(scs_results['nuv_mag'])"
   ]
  },
  {
   "cell_type": "markdown",
   "id": "14f15c12",
   "metadata": {},
   "source": [
    "## TWA in GALEX\n",
    "\n",
    "Since we want to create a color-color comparison using the GALEX catalog, we can select a sample of young, low-mass stars such as the TW Hydrae Association. The coordinates of its members have been provided in a _.txt_ file along with this tutorial; the first column corresponds to the name of the star, the second to its right ascension and the third to its declination (both in degrees).\n",
    "\n",
    "The first step for this process will be then to load this information using the _numpy_ function _loadtxt_. If we use the option _unpack=True_ we can directly separate the three columns into different arrays to better handle them later. Additionally, _loadtxt_ assumes float as the standard input, so since the first column will correspond to strings, let's use the parameter _dtype_ to specify that the first column has a string (U) format and the next two are floats (f). "
   ]
  },
  {
   "cell_type": "code",
   "execution_count": 5,
   "id": "2564a17c",
   "metadata": {},
   "outputs": [],
   "source": [
    "names_TWA, ra_TWA, dec_TWA = np.loadtxt('TWA_coordinates_complete.txt', unpack = True, dtype=\"U7,f8,f8\")"
   ]
  },
  {
   "cell_type": "code",
   "execution_count": 6,
   "id": "e42c562c",
   "metadata": {},
   "outputs": [
    {
     "name": "stdout",
     "output_type": "stream",
     "text": [
      "Name of the stars in the TWA:  ['TWA_2' 'TWA_3' 'TWA_4' 'TWA_5' 'TWA_6' 'TWA_7' 'TWA_8A' 'TWA_8B'\n",
      " 'TWA_9A' 'TWA_9B' 'TWA_10' 'TWA_11A' 'TWA_11B' 'TWA_11C' 'TWA_12'\n",
      " 'TWA_13A' 'TWA_13B' 'TWA_14' 'TWA_15A' 'TWA_15B' 'TWA_16' 'TWA_17'\n",
      " 'TWA_18' 'TWA_19A' 'TWA_19B' 'TWA_20' 'TWA_21' 'TWA_22' 'TWA_23' 'TWA_24'\n",
      " 'TWA_25' 'TWA_26' 'TWA_27' 'TWA_28' 'TWA_29' 'TWA_30' 'TWA_30B' 'TWA_31'\n",
      " 'TWA_32' 'TWA_33' 'TWA_34']\n"
     ]
    }
   ],
   "source": [
    "print('Name of the stars in the TWA: ', names_TWA)"
   ]
  },
  {
   "cell_type": "code",
   "execution_count": 7,
   "id": "0f45b1df",
   "metadata": {},
   "outputs": [
    {
     "name": "stdout",
     "output_type": "stream",
     "text": [
      "Right Ascension of the stars in the TWA [deg]:  [167.30747036 167.6162253  170.52204061 172.98025373 154.61957813\n",
      " 160.62542455 173.17194118 173.17155553 177.10092809 177.09889501\n",
      " 188.76773349 189.00429894 189.00228808 188.95391504 170.27283924\n",
      " 170.32174722 170.32267942 168.35925362 188.58603391 188.58530003\n",
      " 188.7345942  200.18911553 200.40508013 176.85226592 176.83580497\n",
      " 187.90862149 153.31155192 154.36205323 181.86406831 182.42441209\n",
      " 183.87800133 174.96307432 181.88944814 165.54099116 191.30900324\n",
      " 173.07629827 173.07591241 181.79536803 186.7140274  174.89093731\n",
      " 157.19083017]\n"
     ]
    }
   ],
   "source": [
    "print('Right Ascension of the stars in the TWA [deg]: ', ra_TWA)"
   ]
  },
  {
   "cell_type": "code",
   "execution_count": 8,
   "id": "12ead4d1",
   "metadata": {},
   "outputs": [
    {
     "name": "stdout",
     "output_type": "stream",
     "text": [
      "Declination of the stars in the TWA [deg]:  [-30.02776913 -37.5311017  -24.77771031 -34.60755664 -31.83411946\n",
      " -33.67117495 -26.86554497 -26.8691966  -37.48030952 -37.48014456\n",
      " -41.61072667 -39.86950568 -39.87102599 -39.84015754 -38.7545897\n",
      " -34.77930646 -34.78049328 -45.39520027 -48.25375871 -48.25542933\n",
      " -45.6354537  -46.19380874 -44.36440603 -49.8841718  -49.88453792\n",
      " -45.98318276 -52.51500042 -53.90732984 -32.78340081 -58.91251712\n",
      " -39.81183519 -31.98928991 -39.54833795 -34.50987839 -44.48548007\n",
      " -30.3310716  -30.3087898  -32.51493218 -33.2701509  -30.66676829\n",
      " -28.51042382]\n"
     ]
    }
   ],
   "source": [
    "print('Declination of the stars in the TWA [deg]: ', dec_TWA)"
   ]
  },
  {
   "cell_type": "markdown",
   "id": "dd1c7a61",
   "metadata": {},
   "source": [
    "So, once we have all the coordiantes for the stars in TWA, let's look them up via VO, and flag those who do not show up in GALEX:"
   ]
  },
  {
   "cell_type": "code",
   "execution_count": 9,
   "id": "dc068685",
   "metadata": {},
   "outputs": [
    {
     "name": "stdout",
     "output_type": "stream",
     "text": [
      "Not in GALEX: ['TWA_7', 'TWA_11A', 'TWA_11B', 'TWA_11C', 'TWA_15A', 'TWA_15B', 'TWA_19A', 'TWA_19B', 'TWA_21', 'TWA_24']\n"
     ]
    }
   ],
   "source": [
    "n = len(names_TWA)\n",
    "nuv_TWA = np.zeros(n)\n",
    "not_GALEX = []\n",
    "\n",
    "print('Not in GALEX: ',end='')\n",
    "for i in range(n):\n",
    "    pos = SkyCoord(ra=ra_TWA[i], dec=dec_TWA[i], unit='deg',frame='icrs')\n",
    "    size = Quantity(50, unit=\"arcsec\")\n",
    "    scs_service = vo.dal.SCSService('http://gsss.stsci.edu/webservices/vo/ConeSearch.aspx?CAT=GALEX&')\n",
    "    scs_results = scs_service.search(pos=pos, radius=size)\n",
    "    if (len(scs_results['nuv_mag']) > 0):\n",
    "        nuv_TWA[i] = float(scs_results['nuv_mag'][0])\n",
    "    else:\n",
    "        not_GALEX.append(names_TWA[i])\n",
    "        \n",
    "print(not_GALEX)"
   ]
  },
  {
   "cell_type": "markdown",
   "id": "54b86aa1",
   "metadata": {},
   "source": [
    "Some of the stars are not in GUVCat, but we still have enough sample stars to create the color-color diagram that we want."
   ]
  },
  {
   "cell_type": "markdown",
   "id": "2c8aa727",
   "metadata": {},
   "source": [
    "## TWA in SIMBAD catalog\n",
    "\n",
    "To create the color-color diagram we need additional bands to perform the comparison. In order to do so, we can use some of the bands provided by the SIMBAD catalog ($K - 2.159 \\mu m, V - 0.540 \\mu m$). In order to do that, we should add the votable fields 'flux(K)' and 'flux(V)' to the Simbad query with the following command:"
   ]
  },
  {
   "cell_type": "code",
   "execution_count": 10,
   "id": "7167f6f7",
   "metadata": {},
   "outputs": [],
   "source": [
    "Simbad.add_votable_fields('flux(K)','flux(V)')"
   ]
  },
  {
   "cell_type": "markdown",
   "id": "05d81d62",
   "metadata": {},
   "source": [
    "Even though the votable field that we have added says 'flux', this will provide us with the magnitude in those band, let's check it for our first star, 'TWA 1':"
   ]
  },
  {
   "cell_type": "code",
   "execution_count": 11,
   "id": "6bafbcf8",
   "metadata": {},
   "outputs": [
    {
     "data": {
      "text/html": [
       "<div><i>Table length=1</i>\n",
       "<table id=\"table140517934807456\" class=\"table-striped table-bordered table-condensed\">\n",
       "<thead><tr><th>MAIN_ID</th><th>RA</th><th>DEC</th><th>RA_PREC</th><th>DEC_PREC</th><th>COO_ERR_MAJA</th><th>COO_ERR_MINA</th><th>COO_ERR_ANGLE</th><th>COO_QUAL</th><th>COO_WAVELENGTH</th><th>COO_BIBCODE</th><th>FLUX_K</th><th>FLUX_V</th><th>SCRIPT_NUMBER_ID</th></tr></thead>\n",
       "<thead><tr><th></th><th>&quot;h:m:s&quot;</th><th>&quot;d:m:s&quot;</th><th></th><th></th><th>mas</th><th>mas</th><th>deg</th><th></th><th></th><th></th><th>mag</th><th>mag</th><th></th></tr></thead>\n",
       "<thead><tr><th>object</th><th>str13</th><th>str13</th><th>int16</th><th>int16</th><th>float32</th><th>float32</th><th>int16</th><th>str1</th><th>str1</th><th>object</th><th>float32</th><th>float32</th><th>int32</th></tr></thead>\n",
       "<tr><td>CD-29  8887</td><td>11 09 13.7928</td><td>-30 01 39.968</td><td>14</td><td>14</td><td>0.148</td><td>0.152</td><td>90</td><td>A</td><td>O</td><td>2020yCat.1350....0G</td><td>6.71</td><td>11.119</td><td>1</td></tr>\n",
       "</table></div>"
      ],
      "text/plain": [
       "<Table length=1>\n",
       "  MAIN_ID         RA           DEC      ...  FLUX_K  FLUX_V SCRIPT_NUMBER_ID\n",
       "               \"h:m:s\"       \"d:m:s\"    ...   mag     mag                   \n",
       "   object       str13         str13     ... float32 float32      int32      \n",
       "----------- ------------- ------------- ... ------- ------- ----------------\n",
       "CD-29  8887 11 09 13.7928 -30 01 39.968 ...    6.71  11.119                1"
      ]
     },
     "execution_count": 11,
     "metadata": {},
     "output_type": "execute_result"
    }
   ],
   "source": [
    "table_twa2 = Simbad.query_object('TWA 2')\n",
    "\n",
    "table_twa2"
   ]
  },
  {
   "cell_type": "markdown",
   "id": "f5049177",
   "metadata": {},
   "source": [
    "As you can see, below the name 'FLUX_K' it indicates it is a magnitude! So now let's do it for the whole TWA using the _names_TWA_ array. \n",
    "\n",
    "_**Note**: some elements may not have the Vmagnitude, such as 'TWA 11B', which is displayed below for the reader to see the problematic values._"
   ]
  },
  {
   "cell_type": "code",
   "execution_count": 12,
   "id": "1e114d08",
   "metadata": {},
   "outputs": [
    {
     "data": {
      "text/html": [
       "<div><i>Table length=1</i>\n",
       "<table id=\"table140517957453472\" class=\"table-striped table-bordered table-condensed\">\n",
       "<thead><tr><th>MAIN_ID</th><th>RA</th><th>DEC</th><th>RA_PREC</th><th>DEC_PREC</th><th>COO_ERR_MAJA</th><th>COO_ERR_MINA</th><th>COO_ERR_ANGLE</th><th>COO_QUAL</th><th>COO_WAVELENGTH</th><th>COO_BIBCODE</th><th>FLUX_K</th><th>FLUX_V</th><th>SCRIPT_NUMBER_ID</th></tr></thead>\n",
       "<thead><tr><th></th><th>&quot;h:m:s&quot;</th><th>&quot;d:m:s&quot;</th><th></th><th></th><th>mas</th><th>mas</th><th>deg</th><th></th><th></th><th></th><th>mag</th><th>mag</th><th></th></tr></thead>\n",
       "<thead><tr><th>object</th><th>str13</th><th>str13</th><th>int16</th><th>int16</th><th>float32</th><th>float32</th><th>int16</th><th>str1</th><th>str1</th><th>object</th><th>float32</th><th>float32</th><th>int32</th></tr></thead>\n",
       "<tr><td>TWA 31</td><td>12 07 10.8883</td><td>-32 30 53.755</td><td>14</td><td>14</td><td>0.038</td><td>0.028</td><td>90</td><td>A</td><td>O</td><td>2020yCat.1350....0G</td><td>12.115</td><td>--</td><td>1</td></tr>\n",
       "</table></div>"
      ],
      "text/plain": [
       "<Table length=1>\n",
       "MAIN_ID       RA           DEC      RA_PREC ...  FLUX_K  FLUX_V SCRIPT_NUMBER_ID\n",
       "           \"h:m:s\"       \"d:m:s\"            ...   mag     mag                   \n",
       " object     str13         str13      int16  ... float32 float32      int32      \n",
       "------- ------------- ------------- ------- ... ------- ------- ----------------\n",
       " TWA 31 12 07 10.8883 -32 30 53.755      14 ...  12.115      --                1"
      ]
     },
     "execution_count": 12,
     "metadata": {},
     "output_type": "execute_result"
    }
   ],
   "source": [
    "table_twa31 = Simbad.query_object('TWA 31')\n",
    "\n",
    "table_twa31"
   ]
  },
  {
   "cell_type": "markdown",
   "id": "3b9b4159",
   "metadata": {},
   "source": [
    "These elements will appear as NaN when converted to float numbers. A way to check if a value is NaN in Python is to check if it is not equal to itself, we will use this to flag the missing values."
   ]
  },
  {
   "cell_type": "code",
   "execution_count": 13,
   "id": "058e8439",
   "metadata": {},
   "outputs": [
    {
     "name": "stdout",
     "output_type": "stream",
     "text": [
      "Missing V-band magnitude: ['TWA_11B', 'TWA_26', 'TWA_29', 'TWA_30', 'TWA_30B', 'TWA_31', 'TWA_34']\n"
     ]
    }
   ],
   "source": [
    "n = len(names_TWA)\n",
    "magK_TWA = []\n",
    "magV_TWA = []\n",
    "missing_val_i = []\n",
    "missing_V = []\n",
    "\n",
    "print('Missing V-band magnitude: ',end='')\n",
    "for i in range(n):\n",
    "    table = Simbad.query_object(names_TWA[i])\n",
    "    if (float(table['FLUX_V']) != float(table['FLUX_V'])):\n",
    "        missing_V.append(names_TWA[i])\n",
    "        missing_val_i.append(i)\n",
    "        magK_TWA.append(float(table['FLUX_K']))\n",
    "        magV_TWA.append(0)\n",
    "        continue\n",
    "    else:\n",
    "        magK_TWA.append(float(table['FLUX_K']))\n",
    "        magV_TWA.append(float(table['FLUX_V']))\n",
    "        \n",
    "print(missing_V)"
   ]
  },
  {
   "cell_type": "markdown",
   "id": "0f0592c2",
   "metadata": {},
   "source": [
    "After removing the missing values, we are still left with 42 stars, this can be checked by looking at the length of the _magK_TWA_ and _magV_TWA_ lists:"
   ]
  },
  {
   "cell_type": "code",
   "execution_count": 14,
   "id": "820d760e",
   "metadata": {},
   "outputs": [
    {
     "name": "stdout",
     "output_type": "stream",
     "text": [
      "41\n"
     ]
    }
   ],
   "source": [
    "print(len(magK_TWA))"
   ]
  },
  {
   "cell_type": "markdown",
   "id": "bd625c49",
   "metadata": {},
   "source": [
    "We will convert now the lists we created to numpy arrays in order to better handle them. "
   ]
  },
  {
   "cell_type": "code",
   "execution_count": 15,
   "id": "13748fce",
   "metadata": {},
   "outputs": [],
   "source": [
    "magK_TWA = np.array(magK_TWA)\n",
    "magV_TWA = np.array(magV_TWA)"
   ]
  },
  {
   "cell_type": "markdown",
   "id": "e1e856fc",
   "metadata": {},
   "source": [
    "## Matching GUVCat to SIMBAD\n",
    "\n",
    "Since some values were missing for both the NUV and the V band magnitudes, we need to perform a match between GUVcat and SIMBAD to only keep those stars that have both measurements."
   ]
  },
  {
   "cell_type": "code",
   "execution_count": 16,
   "id": "a8d13510",
   "metadata": {},
   "outputs": [
    {
     "name": "stdout",
     "output_type": "stream",
     "text": [
      "[0, 1, 2, 3, 4, 6, 7, 8, 9, 10, 14, 15, 16, 17, 20, 21, 22, 25, 27, 28, 30, 32, 33, 38, 39]\n"
     ]
    }
   ],
   "source": [
    "matched_i = []\n",
    "\n",
    "for i in range(len(names_TWA)):\n",
    "    if (nuv_TWA[i] != 0.) & (i not in missing_val_i):\n",
    "        matched_i.append(i)\n",
    "        \n",
    "print(matched_i)"
   ]
  },
  {
   "cell_type": "markdown",
   "id": "85d587af",
   "metadata": {},
   "source": [
    "## Sample of nearby M-dwarfs in VizieR\n",
    "\n",
    "We will use the sample proposed by <a href=\"https://ui.adsabs.harvard.edu/abs/2021AJ....161...63W/abstract\">Winters et al. 2021</a> of nearby M-dwards to compare it with the TWA (young stellar association) in the color-color diagram. This sample can be accesed via the VizieR catalog. In order for VizieR to load the full catalog, let's first change the row limit to -1 in order to avoid the default row limit of 50."
   ]
  },
  {
   "cell_type": "code",
   "execution_count": 17,
   "id": "6603be93",
   "metadata": {},
   "outputs": [],
   "source": [
    "Vizier.ROW_LIMIT = -1"
   ]
  },
  {
   "cell_type": "markdown",
   "id": "5807e18a",
   "metadata": {},
   "source": [
    "Now that we have changed the row limit, let's access the catalog that we want, the catalog name for this sample is 'J/AJ/161/63/table3'. Let's look it up using the _get_catalogs_ method:"
   ]
  },
  {
   "cell_type": "code",
   "execution_count": 18,
   "id": "4220edb1",
   "metadata": {},
   "outputs": [
    {
     "data": {
      "text/html": [
       "<div><i>Table length=512</i>\n",
       "<table id=\"table140516297921920\" class=\"table-striped table-bordered table-condensed\">\n",
       "<thead><tr><th>RAJ2000</th><th>DEJ2000</th><th>Name</th><th>Comp</th><th>_2MASS</th><th>Conf</th><th>l_Sep</th><th>Sep</th><th>PA</th><th>Date</th><th>Tech</th><th>DelMag</th><th>Filt</th><th>pmRA</th><th>pmDE</th><th>plx-DR2</th><th>n_plx-DR2</th><th>epsi</th><th>sepsi</th><th>plx-lit</th><th>Gmag</th><th>BpRp</th><th>Vmag</th><th>Rmag</th><th>Imag</th><th>Rtmag</th><th>Jmag</th><th>Hmag</th><th>Kmag</th><th>n_Kmag</th><th>Mass</th><th>n_Mass</th><th>Memb</th><th>SimbadName</th></tr></thead>\n",
       "<thead><tr><th>&apos;h:m:s&apos;</th><th>&apos;d:m:s&apos;</th><th></th><th></th><th></th><th></th><th></th><th>arcsec</th><th>deg</th><th></th><th></th><th>mag</th><th></th><th>mas / yr</th><th>mas / yr</th><th>mas</th><th></th><th>mas</th><th></th><th>mas</th><th>mag</th><th>mag</th><th>mag</th><th>mag</th><th>mag</th><th>mag</th><th>mag</th><th>mag</th><th>mag</th><th></th><th>solMass</th><th></th><th></th><th></th></tr></thead>\n",
       "<thead><tr><th>str11</th><th>str11</th><th>str15</th><th>str1</th><th>str16</th><th>str5</th><th>str1</th><th>float64</th><th>str3</th><th>int16</th><th>str6</th><th>float32</th><th>str3</th><th>float64</th><th>float64</th><th>float64</th><th>str2</th><th>float32</th><th>float64</th><th>float32</th><th>float32</th><th>float32</th><th>float32</th><th>float32</th><th>float32</th><th>float32</th><th>float32</th><th>float32</th><th>float32</th><th>str1</th><th>float32</th><th>str1</th><th>str2</th><th>str25</th></tr></thead>\n",
       "<tr><td>00 04 36.46</td><td>-40 44 02.7</td><td>GJ 1001</td><td>A</td><td>00043643-4044020</td><td>A-BC</td><td></td><td>18.2000</td><td>259</td><td>2003</td><td>visdet</td><td>9.91</td><td>V</td><td>677.72</td><td>-1505.11</td><td>81.2282</td><td></td><td>0.28</td><td>45.40</td><td>79.87</td><td>11.4995</td><td>2.7958</td><td>12.86</td><td>11.64</td><td>10.10</td><td>--</td><td>8.601</td><td>8.043</td><td>7.737</td><td></td><td>0.262</td><td></td><td>s</td><td>GJ 1001</td></tr>\n",
       "<tr><td>00 06 43.19</td><td>-07 32 17.0</td><td>GJ 1002</td><td></td><td>00064325-0732147</td><td></td><td></td><td>--</td><td></td><td>--</td><td></td><td>--</td><td></td><td>-811.48</td><td>-1892.90</td><td>206.2134</td><td></td><td>0.36</td><td>63.80</td><td>208.00</td><td>11.7804</td><td>3.6914</td><td>13.77</td><td>12.16</td><td>10.15</td><td>--</td><td>8.323</td><td>7.792</td><td>7.439</td><td></td><td>0.115</td><td></td><td>s</td><td>GJ 1002</td></tr>\n",
       "<tr><td>00 08 55.17</td><td>+49 18 56.3</td><td>LP 191-43</td><td></td><td>00085512+4918561</td><td></td><td></td><td>--</td><td></td><td>--</td><td></td><td>--</td><td></td><td>352.85</td><td>202.29</td><td>67.7454</td><td></td><td>0.54</td><td>71.60</td><td>72.30</td><td>14.4091</td><td>3.7831</td><td>--</td><td>--</td><td>--</td><td>14.8</td><td>10.864</td><td>10.320</td><td>9.980</td><td></td><td>0.111</td><td></td><td>s</td><td>LP 191-43</td></tr>\n",
       "<tr><td>00 11 31.81</td><td>+59 08 39.9</td><td>LSPM 0011+5908</td><td></td><td>00113182+5908400</td><td></td><td></td><td>--</td><td></td><td>--</td><td></td><td>--</td><td></td><td>-905.70</td><td>-1166.80</td><td>107.4214</td><td></td><td>0.55</td><td>85.90</td><td>108.43</td><td>13.4914</td><td>3.8302</td><td>15.63</td><td>13.95</td><td>11.91</td><td>--</td><td>9.945</td><td>9.393</td><td>9.093</td><td></td><td>0.107</td><td></td><td>s</td><td>LSPM J0011+5908</td></tr>\n",
       "<tr><td>00 15 28.07</td><td>-16 08 01.8</td><td>GJ 1005</td><td>A</td><td>00152799-1608008</td><td>AB</td><td></td><td>0.3037</td><td>orb</td><td>1997</td><td>astrad</td><td>1.23</td><td>Ks</td><td>731.70</td><td>-607.47</td><td>--</td><td>2p</td><td>--</td><td>--</td><td>168.42</td><td>10.1475</td><td>2.8333</td><td>11.48</td><td>10.27</td><td>8.70</td><td>--</td><td>7.215</td><td>6.712</td><td>6.390</td><td>J</td><td>0.179</td><td>c</td><td>s</td><td>GJ 1005</td></tr>\n",
       "<tr><td>00 15 28.07</td><td>-16 08 01.8</td><td>GJ 1005</td><td>B</td><td></td><td>AB</td><td></td><td>0.3037</td><td>orb</td><td>1997</td><td>astrad</td><td>1.23</td><td>Ks</td><td>731.70</td><td>-607.47</td><td>--</td><td>2p</td><td>--</td><td>--</td><td>168.42</td><td>--</td><td>--</td><td>--</td><td>--</td><td>--</td><td>--</td><td>--</td><td>--</td><td>--</td><td></td><td>0.112</td><td>c</td><td>sc</td><td>GJ 1005</td></tr>\n",
       "<tr><td>00 15 49.25</td><td>+13 33 22.3</td><td>GJ 12</td><td></td><td>00154919+1333218</td><td></td><td></td><td>--</td><td></td><td>--</td><td></td><td>--</td><td></td><td>618.00</td><td>329.31</td><td>81.8711</td><td></td><td>0.18</td><td>15.00</td><td>89.16</td><td>11.3963</td><td>2.6054</td><td>12.61</td><td>11.46</td><td>10.04</td><td>--</td><td>8.619</td><td>8.068</td><td>7.807</td><td></td><td>0.249</td><td></td><td>s</td><td>GJ 12</td></tr>\n",
       "<tr><td>00 18 25.81</td><td>+44 01 38.0</td><td>GJ 15</td><td>B</td><td>00182549+4401376</td><td>AB</td><td></td><td>35.1500</td><td>064</td><td>1999</td><td>visdet</td><td>2.97</td><td>V</td><td>2863.28</td><td>336.52</td><td>280.7866</td><td></td><td>0.13</td><td>10.60</td><td>280.00</td><td>9.6774</td><td>2.8421</td><td>11.07</td><td>9.82</td><td>8.34</td><td>--</td><td>6.789</td><td>6.191</td><td>5.948</td><td></td><td>0.157</td><td></td><td>s</td><td>GJ 15 B</td></tr>\n",
       "<tr><td>00 20 29.40</td><td>+33 05 06.4</td><td>LHS 112</td><td></td><td>00202922+3305081</td><td></td><td></td><td>--</td><td></td><td>--</td><td></td><td>--</td><td></td><td>1075.52</td><td>-863.65</td><td>81.6314</td><td></td><td>0.52</td><td>69.40</td><td>84.97</td><td>13.9610</td><td>3.8820</td><td>16.09</td><td>14.41</td><td>12.36</td><td>--</td><td>10.284</td><td>9.691</td><td>9.330</td><td></td><td>0.119</td><td></td><td>s</td><td>LHS 112</td></tr>\n",
       "<tr><td>...</td><td>...</td><td>...</td><td>...</td><td>...</td><td>...</td><td>...</td><td>...</td><td>...</td><td>...</td><td>...</td><td>...</td><td>...</td><td>...</td><td>...</td><td>...</td><td>...</td><td>...</td><td>...</td><td>...</td><td>...</td><td>...</td><td>...</td><td>...</td><td>...</td><td>...</td><td>...</td><td>...</td><td>...</td><td>...</td><td>...</td><td>...</td><td>...</td><td>...</td></tr>\n",
       "<tr><td>23 31 52.53</td><td>+19 56 13.9</td><td>GJ 896</td><td>B</td><td>23315244+1956138</td><td>AB</td><td></td><td>5.3510</td><td>088</td><td>2004</td><td>astdet</td><td>2.12</td><td>V</td><td>553.47</td><td>20.33</td><td>160.0598</td><td></td><td>0.33</td><td>55.50</td><td>159.88</td><td>10.8188</td><td>3.1720</td><td>12.41</td><td>11.05</td><td>9.30</td><td>--</td><td>7.101</td><td>6.555</td><td>6.262</td><td></td><td>0.262</td><td></td><td>s</td><td>GJ 896</td></tr>\n",
       "<tr><td>23 35 10.47</td><td>-02 23 20.8</td><td>GJ 1286</td><td></td><td>23351050-0223214</td><td></td><td></td><td>--</td><td></td><td>--</td><td></td><td>--</td><td></td><td>781.66</td><td>-841.42</td><td>139.3100</td><td></td><td>0.27</td><td>25.50</td><td>138.72</td><td>12.6402</td><td>3.7206</td><td>14.67</td><td>13.08</td><td>11.03</td><td>--</td><td>9.148</td><td>8.505</td><td>8.183</td><td></td><td>0.118</td><td></td><td>s</td><td>GJ 1286</td></tr>\n",
       "<tr><td>23 36 52.31</td><td>-36 28 51.8</td><td>LHS 547</td><td></td><td>23365227-3628518</td><td></td><td></td><td>--</td><td></td><td>--</td><td></td><td>--</td><td></td><td>1175.50</td><td>59.37</td><td>83.5581</td><td></td><td>0.19</td><td>10.70</td><td>85.33</td><td>12.2526</td><td>3.0259</td><td>13.76</td><td>12.46</td><td>10.79</td><td>--</td><td>9.191</td><td>8.666</td><td>8.422</td><td></td><td>0.171</td><td></td><td>s</td><td>LHS 547</td></tr>\n",
       "<tr><td>23 37 35.99</td><td>+16 22 03.2</td><td>LP 463-23</td><td></td><td>23373601+1622031</td><td></td><td></td><td>--</td><td></td><td>--</td><td></td><td>--</td><td></td><td>361.16</td><td>-63.20</td><td>72.9284</td><td></td><td>0.57</td><td>96.50</td><td>75.30</td><td>14.0219</td><td>3.6904</td><td>--</td><td>--</td><td>--</td><td>14.4</td><td>10.479</td><td>9.892</td><td>9.616</td><td></td><td>0.117</td><td></td><td>s</td><td>LP 463-23</td></tr>\n",
       "<tr><td>23 41 55.00</td><td>+44 10 38.9</td><td>GJ 905</td><td></td><td>23415498+4410407</td><td></td><td></td><td>--</td><td></td><td>--</td><td></td><td>--</td><td></td><td>112.69</td><td>-1592.05</td><td>316.9558</td><td></td><td>0.37</td><td>62.00</td><td>316.05</td><td>10.3655</td><td>3.5311</td><td>12.29</td><td>10.77</td><td>8.85</td><td>--</td><td>6.884</td><td>6.247</td><td>5.929</td><td></td><td>0.140</td><td></td><td>s</td><td>GJ 905</td></tr>\n",
       "<tr><td>23 42 52.74</td><td>+30 49 21.8</td><td>GJ 1288</td><td></td><td>23425274+3049219</td><td></td><td></td><td>--</td><td></td><td>--</td><td></td><td>--</td><td></td><td>-336.12</td><td>-300.52</td><td>77.9876</td><td></td><td>0.27</td><td>50.10</td><td>80.37</td><td>12.8140</td><td>3.1336</td><td>14.36</td><td>13.02</td><td>99.99</td><td>--</td><td>9.637</td><td>9.081</td><td>8.814</td><td></td><td>0.151</td><td></td><td>s</td><td>GJ 1288</td></tr>\n",
       "<tr><td>23 43 06.31</td><td>+36 32 13.2</td><td>GJ 1289</td><td></td><td>23430628+3632132</td><td></td><td></td><td>--</td><td></td><td>--</td><td></td><td>--</td><td></td><td>942.26</td><td>-151.39</td><td>119.7106</td><td></td><td>0.34</td><td>62.70</td><td>123.53</td><td>11.1534</td><td>3.0169</td><td>12.57</td><td>11.30</td><td>9.67</td><td>--</td><td>8.110</td><td>7.446</td><td>7.226</td><td></td><td>0.216</td><td></td><td>s</td><td>GJ 1289</td></tr>\n",
       "<tr><td>23 45 31.26</td><td>-16 10 20.1</td><td>LHS 4009</td><td>A</td><td>23453127-1610198</td><td>AB</td><td></td><td>0.0670</td><td>250</td><td>2005</td><td>AO det</td><td>0.14</td><td>K&apos;</td><td>-403.82</td><td>-535.88</td><td>--</td><td>n</td><td>--</td><td>--</td><td>79.97</td><td>--</td><td>--</td><td>14.38</td><td>12.90</td><td>10.99</td><td>--</td><td>9.206</td><td>8.614</td><td>8.312</td><td>J</td><td>0.136</td><td>v</td><td>s</td><td>LHS 4009</td></tr>\n",
       "<tr><td>23 45 31.26</td><td>-16 10 20.1</td><td>LHS 4009</td><td>B</td><td></td><td>AB</td><td></td><td>0.0670</td><td>250</td><td>2005</td><td>AO det</td><td>0.14</td><td>K&apos;</td><td>-403.82</td><td>-535.88</td><td>--</td><td>n</td><td>--</td><td>--</td><td>79.97</td><td>--</td><td>--</td><td>--</td><td>--</td><td>--</td><td>--</td><td>--</td><td>--</td><td>--</td><td></td><td>0.129</td><td>v</td><td>sc</td><td>LHS 4009</td></tr>\n",
       "<tr><td>23 53 25.21</td><td>-70 56 41.1</td><td>L 85-31</td><td></td><td>23532520-7056410</td><td></td><td></td><td>--</td><td></td><td>--</td><td></td><td>--</td><td></td><td>315.41</td><td>33.21</td><td>80.9932</td><td></td><td>0.14</td><td>9.98</td><td>80.52</td><td>11.6320</td><td>2.8704</td><td>13.01</td><td>11.78</td><td>10.18</td><td>--</td><td>8.683</td><td>8.100</td><td>7.779</td><td></td><td>0.257</td><td></td><td>s</td><td>L 85-31</td></tr>\n",
       "</table></div>"
      ],
      "text/plain": [
       "<Table length=512>\n",
       "  RAJ2000     DEJ2000        Name      Comp ... n_Mass Memb    SimbadName  \n",
       "  'h:m:s'     'd:m:s'                       ...                            \n",
       "   str11       str11        str15      str1 ...  str1  str2      str25     \n",
       "----------- ----------- -------------- ---- ... ------ ---- ---------------\n",
       "00 04 36.46 -40 44 02.7        GJ 1001    A ...           s         GJ 1001\n",
       "00 06 43.19 -07 32 17.0        GJ 1002      ...           s         GJ 1002\n",
       "00 08 55.17 +49 18 56.3      LP 191-43      ...           s       LP 191-43\n",
       "00 11 31.81 +59 08 39.9 LSPM 0011+5908      ...           s LSPM J0011+5908\n",
       "00 15 28.07 -16 08 01.8        GJ 1005    A ...      c    s         GJ 1005\n",
       "00 15 28.07 -16 08 01.8        GJ 1005    B ...      c   sc         GJ 1005\n",
       "00 15 49.25 +13 33 22.3          GJ 12      ...           s           GJ 12\n",
       "00 18 25.81 +44 01 38.0          GJ 15    B ...           s         GJ 15 B\n",
       "00 20 29.40 +33 05 06.4        LHS 112      ...           s         LHS 112\n",
       "        ...         ...            ...  ... ...    ...  ...             ...\n",
       "23 31 52.53 +19 56 13.9         GJ 896    B ...           s          GJ 896\n",
       "23 35 10.47 -02 23 20.8        GJ 1286      ...           s         GJ 1286\n",
       "23 36 52.31 -36 28 51.8        LHS 547      ...           s         LHS 547\n",
       "23 37 35.99 +16 22 03.2      LP 463-23      ...           s       LP 463-23\n",
       "23 41 55.00 +44 10 38.9         GJ 905      ...           s          GJ 905\n",
       "23 42 52.74 +30 49 21.8        GJ 1288      ...           s         GJ 1288\n",
       "23 43 06.31 +36 32 13.2        GJ 1289      ...           s         GJ 1289\n",
       "23 45 31.26 -16 10 20.1       LHS 4009    A ...      v    s        LHS 4009\n",
       "23 45 31.26 -16 10 20.1       LHS 4009    B ...      v   sc        LHS 4009\n",
       "23 53 25.21 -70 56 41.1        L 85-31      ...           s         L 85-31"
      ]
     },
     "execution_count": 18,
     "metadata": {},
     "output_type": "execute_result"
    }
   ],
   "source": [
    "catalogs = Vizier.get_catalogs(\"J/AJ/161/63/table3\")\n",
    "\n",
    "winters2021 = catalogs[0]\n",
    "winters2021"
   ]
  },
  {
   "cell_type": "markdown",
   "id": "43d1e579",
   "metadata": {},
   "source": [
    "From this table, we can directly get the name of the star, the V and K magnitudes, the right ascension and the declination for each star. \n",
    "\n",
    "_**Note**: some stars may be missing the V magnitude, we must flag these stars and not use them for the final color-color diagram._"
   ]
  },
  {
   "cell_type": "code",
   "execution_count": 19,
   "id": "d870d47e",
   "metadata": {
    "scrolled": true
   },
   "outputs": [
    {
     "name": "stdout",
     "output_type": "stream",
     "text": [
      "Missing V-band magnitude: ['LP 191-43', 'GJ 1005', 'G 172-1', 'G 172-1', 'L 291-115', '2MA 0049+6518', 'LTT 10301', 'LSPM 0058+3919', 'G 218-20', 'GJ 1029', 'GJ 53', 'GJ 1031', 'LTT 10491', 'GJ 61', 'GJ 65', 'GJ 67', 'LP 30-55', 'LSPM 0202+1034', 'LSPM 0202+1034', '2MA 0213+3648', 'G 36-26', 'LP 993-116', 'LP 831-1', 'LTT 1445', 'LHS 1516', 'LP 357-56', 'LSPM 0357+4107', '2MA 0406-0534', 'LHS 1629', 'LHS 1681', 'LTT 11472', 'LSPM 0501+2237', 'UPM 0505+4414', '2MA 0505-4756', 'LTT 11586', 'G 86-28', 'LP 119-26', 'L 449-1', 'LEHPM 2-1009', 'LHS 5108', 'SCR 0533-4257', 'LSPM 0536+1117', 'GJ 1083', 'GJ 222', 'LSPM 0556+1144', 'GJ 231', 'GJ 228', 'LP 779-34', 'LSPM 0617+8353', 'L 308-57', 'GJ 233', 'GJ 234', 'SCR 0630-7643', '2MA 0635-0403', '2MA 0635-0403', 'LHS 221', 'GJ 257', 'LHS 1885', 'LHS 224', 'GJ 268', 'LHS 1901', 'LHS 1901', 'LHS 1918', 'LTT 17993', 'LSPM 0747+5020', 'LHS 1955', 'UPM 0815-2344', 'LHS 2004', 'LHS 2010', 'GJ 310', 'LSPM 0840+3127', 'GJ 324', 'G 41-8', 'GJ 1116', 'LTT 12352', 'LTT 12352', 'G 194-47', 'G 194-47', 'GJ 334', 'LHS 6167', 'LSPM 0921-0219', 'GJ 356', '2MA 0943-3833', 'GJ 376', 'GJ 376', 'GJ 378', 'GJ 381', 'LSPM 1015+1729', 'LHS 283', 'LSPM 1038-4933', 'LHS 2320', 'GJ 424', 'LHS 2415', 'GJ 442', 'GJ 454', 'L 18-22', 'LP 320-416', 'LP 320-416', 'LTT 17123', 'GJ 469', 'GJ 473', 'GJ 483', 'GJ 487', 'GJ 487', 'LHS 2674a', 'WT 392', 'LTT 13861', 'LTT 13861', 'GJ 521', 'LP 21-224', 'LHS 2830', 'LHS 5264', 'GJ 1182', 'G 165-58', 'LSPM 1422-7023', 'LSPM 1431+7526', 'GJ 568', 'LSPM 1455+3006', 'GJ 572', 'GJ 2112', 'LP 502-56', 'GJ 1194', 'GJ 597', 'GJ 596.1', 'GJ 596.1', 'GJ 623', 'GJ 630.1', 'LP 69-457', 'GJ 1210', 'GJ 660', 'LSPM 1718-4131', 'GJ 682', 'GJ 2130', 'GJ 695', 'LTT 7077', 'LP 278-42', 'LP 71-82', 'G 154-43', 'LSPM 1805-1422', 'LP 449-10', 'L 43-72', 'G 140-51', 'LTT 15435', 'WIS 1824-0536', 'GJ 1230', 'LP 867-15', 'G 184-24', 'G 141-36', 'G 184-31', 'GJ 747', 'GJ 748', 'LSPM 1916+8413', 'LP 869-26', 'GJ 766', 'G 125-34', '2MA 1951-3510', 'GJ 770', 'LSPM 2000+3057', 'GJ 781.1', 'GJ 791.2', 'GJ 792', 'SCR 2049-4012', 'GJ 810', 'GJ 815', 'GJ 815', 'GJ 829', 'GJ 831', 'GJ 835', 'LSPM 2146+3813', 'LSPM 2211+4059', 'WT 887', 'LTT 16577', 'GJ 860', 'GJ 866', 'LSPM 2240-4931', 'LSPM 2240-4931', 'LSPM 2302+4338', 'SCR 2303-4650', 'GJ 887', 'G 190-27', 'LP 463-23', 'LHS 4009']\n"
     ]
    }
   ],
   "source": [
    "name_w21 = []\n",
    "V_w21 = []\n",
    "K_w21 = []\n",
    "ra_w21 = []\n",
    "dec_w21 = []\n",
    "missing_V = []\n",
    "\n",
    "print('Missing V-band magnitude: ',end='')\n",
    "for i in range(len(winters2021)):\n",
    "    if str(winters2021[i]['Vmag'])!='--' and str(winters2021[i]['Kmag'])!='--':\n",
    "        name_w21.append(winters2021[i]['Name'])\n",
    "        V_w21.append(float(winters2021[i]['Vmag']))\n",
    "        K_w21.append(float(winters2021[i]['Kmag']))\n",
    "        ra_w21.append(winters2021[i]['RAJ2000'])\n",
    "        dec_w21.append(winters2021[i]['DEJ2000'])\n",
    "    elif str(winters2021[i]['Vmag'])=='--':\n",
    "        missing_V.append(winters2021[i]['Name'])\n",
    "\n",
    "name_w21 = np.array(name_w21)\n",
    "V_w21 = np.array(V_w21)\n",
    "K_w21 = np.array(K_w21)\n",
    "ra_w21 = np.array(ra_w21)\n",
    "dec_w21 = np.array(dec_w21)\n",
    "\n",
    "print(missing_V)"
   ]
  },
  {
   "cell_type": "markdown",
   "id": "f882e346",
   "metadata": {},
   "source": [
    "## Sample of nearby M-dwarfs in GALEX\n",
    "\n",
    "Since we have the coordinates for each star, we can use this to look up the desired targets in GALEX and retrieve their NUV magnitude now. However, the format that GALEX accepts is in the form HHhMMmSSss DDdMMmSSs and we have our coordinates in the HH MM SS DD MM SS format, so we must fix this before making the query. This can be fone by using the <a href=\"https://docs.python.org/3/library/stdtypes.html\">_split()_</a> method for strings as show below:"
   ]
  },
  {
   "cell_type": "code",
   "execution_count": 20,
   "id": "6056833e",
   "metadata": {},
   "outputs": [
    {
     "name": "stdout",
     "output_type": "stream",
     "text": [
      "Coordinates before: RA -  00 04 36.46  DEC - -40 44 02.7\n",
      "Coordinates before: RA -  00h04m36.46s  DEC - -40d44m02.7s\n"
     ]
    }
   ],
   "source": [
    "print('Coordinates before: RA - ',ra_w21[0],' DEC -',dec_w21[0])\n",
    "ra = ra_w21[0].split()\n",
    "dec = dec_w21[0].split()\n",
    "print('Coordinates before: RA - ',ra[0]+'h'+ra[1]+'m'+ra[2]+'s',' DEC -',dec[0]+'d'+dec[1]+'m'+dec[2]+'s')"
   ]
  },
  {
   "cell_type": "markdown",
   "id": "52a9a24e",
   "metadata": {},
   "source": [
    "Now, let's use this to perform our query!\n",
    "\n",
    "_**Note**: again, some stars may not have a NUV magnitude, we should flag them and remove them from our sample for the color-color diagram_"
   ]
  },
  {
   "cell_type": "code",
   "execution_count": 21,
   "id": "b1a9a7af",
   "metadata": {},
   "outputs": [
    {
     "name": "stdout",
     "output_type": "stream",
     "text": [
      "Missing NUV magnitude: ['GJ 1002', 'LSPM 0011+5908', 'GJ 12', 'GJ 15', 'LHS 112', 'GJ 1013', 'GJ 1014', 'LHS 1140', 'GJ 1025', 'GJ 1028', 'GJ 1029', 'GJ 1035', 'GJ 65', 'LP 991-84', 'LHS 5045', 'GJ 83.1', 'LHS 1326', 'LHS 1339', 'GJ 105', 'GJ 1050', 'SCR 0246-7024', 'LHS 1443', 'LHS 1490', 'GJ 1055', 'GJ 1053', 'GJ 1057', 'GJ 1059', 'LSPM 0330+5413', 'LHS 176', 'GJ 1061', 'LSPM 0336+3118', 'L 228-92', 'LHS 1593', 'GJ 1068', 'LHS 1638', 'GJ 164', 'GJ 166', 'G 7-34', 'LHS 1668', 'GJ 170', 'LHS 1690', 'GJ 1072', 'LHS 1723', 'LTT 11586', 'GJ 203', 'GJ 213', 'GJ 2045', 'G 99-49', 'LHS 1805', 'LHS 1809', 'AP COL', 'GJ 1088', 'G 192-22', 'GJ 232', 'GJ 234', 'SCR 0642-6707', 'GJ 1092', 'GJ 257', 'LHS 224', 'G 107-48', 'SCR 0717-0501', 'L 136-37', 'LHS 1918', 'GJ 275.2', 'SCR 0736-3024', 'GJ 283', 'SCR 0754-3809', 'LTT 12102', 'GJ 299', 'LHS 1993', 'UPM 0815-2344', 'LHS 2005', 'LHS 246', 'SCR 0838-5855', 'LHS 252', 'LHS 2090', 'SCR 0914-4134', 'GJ 1123', 'LP 788-1', 'GJ 359', 'GJ 1128', 'LHS 5156', 'LHS 272', 'GJ 1132', 'LEHPM 2-2758', 'GJ 1134', 'LP 848-50', 'WT 1827', 'LHS 288', 'LHS 2303', 'LHS 2310', 'GJ 1138', 'GJ 403', 'GJ 406', 'LP 731-76', 'LHS 296', 'GJ 412', 'LHS 2385', 'LHS 2395', 'LHS 306', 'SCR 1138-7721', 'SIP 1141-3624', 'GJ 452.1', 'SCR 1214-2345', 'GJ 465', 'LHS 2557', 'GJ 1158', 'LHS 337', 'GJ 480.1', 'LHS 2608', 'WT 392', 'LHS 2718', 'L 257-129', 'GJ 1171', 'LP 911-56', 'GJ 1179', 'SSS 1358-3938', 'WT 460', 'GJ 545', 'LHS 2919', 'PROXIMA CEN', 'GJ 585', 'GJ 589', 'GJ 589', 'GJ 1194', 'WIS 1540-5101', 'GJ 595', 'LHS 5303', 'GJ 611', 'GJ 618', 'SCR 1626-3812', 'GJ 630.1', 'LHS 3241', 'LP 154-205', 'GJ 643', 'GJ 1210', 'GJ 1214', 'GJ 1215', 'GJ 682', 'LHS 3324', 'LTT 7077', 'SCR 1746-3214', 'BARNARDS STAR', 'GJ 1223', 'G 154-43', 'GJ 1224', 'LHS 461', 'GJ 712', 'GJ 1227', 'SCR 1841-4347', 'G 205-35', 'GJ 725', 'LHS 5341', 'GJ 732', 'GJ 747', 'GJ 1232', 'WIS 1912-3615', 'GJ 754.1', 'GJ 754', 'LHS 475', 'GJ 1235', 'GJ 1236', 'GJ 1238', 'GJ 766', 'GJ 1243', '2MA 1951-3510', 'GJ 1245', 'GJ 1245', 'GJ 1248', 'GJ 774', 'GJ 781.1', '2MA 2009-0113', 'GJ 1253', 'GJ 1251', 'GJ 792', 'GJ 1256', 'LP 816-60', 'LHS 3593', 'GJ 810', 'LSPM 2124+4003', 'LHS 510', 'GJ 831', 'LHS 516', 'GJ 852', 'GJ 852', 'GJ 860', 'GJ 1270', 'GJ 866', 'GJ 1277', 'SCR 2303-4650', 'LHS 547', 'GJ 905']\n"
     ]
    }
   ],
   "source": [
    "nuv_w21 = []\n",
    "keep_i_w21 = []\n",
    "missing_NUV = []\n",
    "\n",
    "print('Missing NUV magnitude: ',end='')\n",
    "for i in range(len(ra_w21)):\n",
    "    ra1 = ra_w21[i].split()\n",
    "    dec1 = dec_w21[i].split()\n",
    "    pos = SkyCoord(ra=ra1[0]+'h'+ra1[1]+'m'+ra1[2]+'s', dec=dec1[0]+'d'+dec1[1]+'m'+dec1[2]+'s',frame='fk5')\n",
    "    size = Quantity(10, unit=\"arcsec\")\n",
    "    scs_service = vo.dal.SCSService('http://gsss.stsci.edu/webservices/vo/ConeSearch.aspx?CAT=GALEX&')\n",
    "    scs_results = scs_service.search(pos=pos, radius=size)\n",
    "    if str(scs_results['nuv_mag'])!='[]' and scs_results['nuv_mag'][0]!=-999.0:\n",
    "        keep_i_w21.append(i)\n",
    "        nuv_w21.append(float(scs_results['nuv_mag'][0]))\n",
    "    else:\n",
    "        missing_NUV.append(name_w21[i])\n",
    "    \n",
    "nuv_w21 = np.array(nuv_w21)\n",
    "\n",
    "print(missing_NUV)"
   ]
  },
  {
   "cell_type": "markdown",
   "id": "8038b4cc",
   "metadata": {},
   "source": [
    "## Color-color diagram\n",
    "\n",
    "Let's now create the color-color diagram and compare the young stars to the M-dwarfs sample. In order to save this image to our local directory, we can use _plt.savefig_, we need to provide the filename we want for our file, and whether we want to save it as _.jpg_, _.png_, _.pdf_, etc. Let's do this example with the filename _colorcolor.jpg_.\n",
    "\n",
    "_**Note**: if you wanted to save the image in a different directory from the current one, you could do so by simply providing the path as the filename in plt.savefig, such as: plt.savefig('../Documents/UV_excess_tutorial/colorcolor.jpg')._"
   ]
  },
  {
   "cell_type": "code",
   "execution_count": 35,
   "id": "dff7a113",
   "metadata": {},
   "outputs": [
    {
     "data": {
      "image/png": "[encoded data removed]",
      "text/plain": [
       "<Figure size 504x504 with 1 Axes>"
      ]
     },
     "metadata": {
      "needs_background": "light"
     },
     "output_type": "display_data"
    }
   ],
   "source": [
    "fig = plt.figure(figsize=(7, 7))\n",
    "ax = fig.add_subplot(111)\n",
    "plt.scatter(V_w21[keep_i_w21]-K_w21[keep_i_w21],nuv_w21-V_w21[keep_i_w21],c='r',label='Old stars')\n",
    "plt.scatter(magV_TWA[matched_i]-magK_TWA[matched_i],nuv_TWA[matched_i]-magV_TWA[matched_i],c='b',label='Young stars')\n",
    "ax.set_aspect('equal')\n",
    "plt.ylabel('NUV-V')\n",
    "plt.xlabel('V-K')\n",
    "plt.xlim([2,10])\n",
    "plt.ylim([-0.5,12])\n",
    "plt.legend(loc='best')\n",
    "plt.grid()\n",
    "plt.savefig('colorcolor.jpg')\n",
    "plt.show()"
   ]
  },
  {
   "cell_type": "markdown",
   "id": "31007505",
   "metadata": {},
   "source": [
    "In this diagram it can be seen that, for the same $V-K$ colors, young stars tend to be below the older stars, i.e. to have lower values of $NUV-V$. What this means is that the same type of stars produces more NUV light when it is in its earlier stages. For more information related to this topic, please refer to <a href=\"https://ui.adsabs.harvard.edu/abs/2011ApJ...727...62R/abstract\">Rodriguez et al. 2011</a> and <a href=\"https://ui.adsabs.harvard.edu/abs/2013ApJ...774..101R/abstract\">Rodriguez et al. 2013</a>."
   ]
  },
  {
   "cell_type": "markdown",
   "id": "9a594c14",
   "metadata": {},
   "source": [
    "## Exercises\n",
    "\n",
    "Now try to re-create the steps we followed in this tutorial for the TW Hya star, from which the TW Hydrae association gets its name. The ICRS coordinates (ep = J2000) of TW Hya are, according to SIMBAD:\n",
    "\n",
    "- RA: 165.4662722021100 deg\n",
    "- DEC: -34.7047314495500 deg\n",
    "\n",
    "### 1. GALEX query"
   ]
  },
  {
   "cell_type": "code",
   "execution_count": 23,
   "id": "e690b34d",
   "metadata": {},
   "outputs": [
    {
     "name": "stdout",
     "output_type": "stream",
     "text": [
      "NUV magnitude of TW Hya:  14.356100082397461\n"
     ]
    }
   ],
   "source": [
    "pos = SkyCoord(ra=165.4662722021100, dec=-34.7047314495500, unit='deg',frame='icrs')\n",
    "size = Quantity(50, unit=\"arcsec\")\n",
    "scs_service = vo.dal.SCSService('http://gsss.stsci.edu/webservices/vo/ConeSearch.aspx?CAT=GALEX&')\n",
    "scs_results = scs_service.search(pos=pos, radius=size)\n",
    "if (len(scs_results['nuv_mag']) > 0):\n",
    "    nuv_TWHya = float(scs_results['nuv_mag'][0])\n",
    "    \n",
    "print('NUV magnitude of TW Hya: ',nuv_TWHya)"
   ]
  },
  {
   "cell_type": "markdown",
   "id": "b990be9f",
   "metadata": {},
   "source": [
    "### 2. SIMBAD query"
   ]
  },
  {
   "cell_type": "code",
   "execution_count": 24,
   "id": "80b83bb6",
   "metadata": {},
   "outputs": [
    {
     "name": "stdout",
     "output_type": "stream",
     "text": [
      "K magnitude of TW Hya:  7.296999931335449\n",
      "V magnitude of TW Hya:  10.5\n"
     ]
    }
   ],
   "source": [
    "Simbad.add_votable_fields('flux(K)','flux(V)')\n",
    "table = Simbad.query_object('TW Hya')\n",
    "magK_TWHya = float(table['FLUX_K'])\n",
    "magV_TWHya = float(table['FLUX_V'])\n",
    "\n",
    "print('K magnitude of TW Hya: ',magK_TWHya)\n",
    "print('V magnitude of TW Hya: ',magV_TWHya)"
   ]
  },
  {
   "cell_type": "markdown",
   "id": "ba405235",
   "metadata": {},
   "source": [
    "### Include TW Hya in color-color diagram"
   ]
  },
  {
   "cell_type": "code",
   "execution_count": 34,
   "id": "450f99ec",
   "metadata": {},
   "outputs": [
    {
     "data": {
      "image/png": "[encoded data removed]",
      "text/plain": [
       "<Figure size 504x504 with 1 Axes>"
      ]
     },
     "metadata": {
      "needs_background": "light"
     },
     "output_type": "display_data"
    }
   ],
   "source": [
    "fig = plt.figure(figsize=(7, 7))\n",
    "ax = fig.add_subplot(111)\n",
    "plt.scatter(V_w21[keep_i_w21]-K_w21[keep_i_w21],nuv_w21-V_w21[keep_i_w21],c='r',label='Old stars')\n",
    "plt.scatter(magV_TWA[matched_i]-magK_TWA[matched_i],nuv_TWA[matched_i]-magV_TWA[matched_i],c='b',label='Young stars')\n",
    "plt.plot(magV_TWHya-magK_TWHya,nuv_TWHya-magV_TWHya,'*',c='k',markersize=10,label='TW Hya')\n",
    "plt.ylabel('NUV-V')\n",
    "plt.xlabel('V-K')\n",
    "plt.xlim([2,10])\n",
    "plt.ylim([-0.5,12])\n",
    "ax.set_aspect('equal')\n",
    "plt.legend(loc='best')\n",
    "plt.grid()\n",
    "plt.show()"
   ]
  },
  {
   "cell_type": "markdown",
   "id": "5cd2b905",
   "metadata": {},
   "source": [
    "## Additional Resources\n",
    "\n",
    "For more information about the MAST archive and details about the tutorial: \n",
    "\n",
    "<a href=\"https://mast.stsci.edu/api/v0/index.html\">MAST API</a> <br>\n",
    "<a href=\"https://archive.stsci.edu/hlsp/guvcat\">GALEX UV Unique Source Catalogs</a> <br> \n",
    "<a href=\"https://pyvo.readthedocs.io/en/latest/index.html\">PyVO documentation</a> <br> \n",
    "\n",
    "## About this Notebook\n",
    "\n",
    "**Author**: Clara Puerto Sánchez <br>\n",
    "**Updated on**: 30/07/2022\n",
    "\n",
    "<img style=\"float: right;\" src=\"https://raw.githubusercontent.com/spacetelescope/notebooks/master/assets/stsci_pri_combo_mark_horizonal_white_bkgd.png\" alt=\"Space Telescope Logo\" width=\"200px\"/>"
   ]
  }
 ],
 "metadata": {
  "kernelspec": {
   "display_name": "Python 3",
   "language": "python",
   "name": "python3"
  },
  "language_info": {
   "codemirror_mode": {
    "name": "ipython",
    "version": 3
   },
   "file_extension": ".py",
   "mimetype": "text/x-python",
   "name": "python",
   "nbconvert_exporter": "python",
   "pygments_lexer": "ipython3",
   "version": "3.8.8"
  }
 },
 "nbformat": 4,
 "nbformat_minor": 5
}
