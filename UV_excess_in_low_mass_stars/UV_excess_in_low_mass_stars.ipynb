{
 "cells": [
  {
   "cell_type": "markdown",
   "id": "f2edcf1e",
   "metadata": {},
   "source": [
    "# UV excess in low mass stars\n",
    "\n",
    "## Learning goals\n",
    "\n",
    "By the end of this tutorial you will be able to:\n",
    "\n",
    "- Understand UV excess in low mass stars\n",
    "- Download data directly from URLs and handle data-frames\n",
    "- Learn how to use a GUVcat catalog query and make selection cuts\n",
    "- Create a color-color diagram\n",
    "- **Tentatively**: Create a light curve out of gPhoton\n",
    "- **Tentatively**: add Swift UVOT time-tagged observations based on metadata (depending on length of tutorial)\n",
    "- **Tentatively**: add PS1 time series for low-cadence but longer baselines and multicolor (depending on length of tutorial)\n",
    "\n",
    "## Introduction\n",
    "\n",
    "**GALEX background**: The Galaxy Evolution Explorer (GALEX) was a satellite which mission was to produce an All-sky Imaiging Survey (AIS). It observed the sky in two different bands: in the Near UV (NUV) ($1750-27504$ Å) and in the Far UV (FUV) ($1350-1750$ Å). The GALEX database contains over 600 million source measurements in the ultraviolet domain, with some sources having more than one measurement, which could be useful to look for variability. Additionally, this survey has additionally been used to <a href=\"https://ui.adsabs.harvard.edu/abs/2008ApJ...689.1274S/abstract\">accrete binaries</a> or <a href=\"https://ui.adsabs.harvard.edu/abs/2017ApJ...841...33M/abstract\">AGB chromospheres</a>.\n",
    "\n",
    "**Defining some terms**:\n",
    "- **Color-color diagram**:diagram used to compare the apparent magnitudes of objects at different wavelengths.\n",
    "- **AGB**: Asymptotic Giant Branch. This corresponds to an area of the Herzsprung-Russell diagram where evolved cool luminous stars are found, all low to intermediate mass (0.5-8 solar masses) undergo this period of stellar evolution.\n",
    "\n",
    "## Imports\n",
    "\n",
    "- _pyvo_ to access the Virtual Observatory.\n",
    "- _astropy.coordinates_ to represent celestial coordinates components.\n",
    "- _astropy.units_ to define and convert units of physical quantities.\n",
    "- _astropy.table_ to store and manipulate tables of data in a way similar to numpy.\n",
    "- _warnings_ to manage warning messages\n",
    "- _numpy_ to work with arrays.\n",
    "- _astroquery.simbad_ to query the SIMBAD catalog.\n",
    "- _matplotlib.pyplot_ for plotting data."
   ]
  },
  {
   "cell_type": "code",
   "execution_count": 31,
   "id": "821d756e",
   "metadata": {},
   "outputs": [],
   "source": [
    "import pyvo as vo\n",
    "from astropy.coordinates import SkyCoord\n",
    "from astropy.units import Quantity\n",
    "from astropy.table import Table\n",
    "import warnings\n",
    "warnings.simplefilter('ignore')  \n",
    "import numpy as np\n",
    "from astroquery.simbad import Simbad\n",
    "import matplotlib.pyplot as plt"
   ]
  },
  {
   "cell_type": "markdown",
   "id": "e4c275c2",
   "metadata": {},
   "source": [
    "## GALEX catalog\n",
    "\n",
    "The GALEX catalog can be accessed via the <a href=\"http://dolomiti.pha.jhu.edu/uvsky/#GUVcat\">author's web site</a>, through <a href=\"http://mastweb.stsci.edu/gcasjobs\">MAST casjobs</a> or from the <a href=\"https://vizier.cds.unistra.fr/viz-bin/VizieR\">SIMBAD Vizier database</a>. Even though in this tutorial we will use a different approach, the reader is encouraged to try and download the data directly from the <a href=\"http://dolomiti.pha.jhu.edu/uvsky/GUVcat/GUVcat_AIS.html\">GALEX catalogs of unique UV sources</a> and compare. \n",
    "\n",
    "In the author's website the catalog is divided each 5º of galactic latitude, and is presented as _.csv_ files, with a naming convention such as: _GUVCat_AIS_FOV055_glat25_00N__30_00N_. This naming convention for the GUVcat catalog is as follows:\n",
    "- _AIS_ corresponds to the name of the catalog, _All-sky Imaging Survey_.\n",
    "- _FOV055_ refers to the 1.1 degree diameter of GALEX field-of-view. \n",
    "- _glat25_00N_30_00N_ is the lower and upper Galactic boundaries for this slice. _N_ to indicate the degrees are positive, and negative degrees are indicated with _S_.\n",
    "\n",
    "More information about the naming convention can be found in the <a href=\"https://archive.stsci.edu/hlsps/guvcat/hlsp_guvcat_galex_imaging_all_fuv-nuv_v1_readme.txt\">GCat README file</a>."
   ]
  },
  {
   "cell_type": "markdown",
   "id": "8d66b571",
   "metadata": {},
   "source": [
    "## GUVCat via the virtual observatory\n",
    "\n",
    "The way in which we will access the GUVCat is through the virtual observatory. If you have never used the virtual observatory before please refer to David Rodriguez's <a href=\"https://gist.github.com/dr-rodriguez/32aa944706beee299360aa700b375baa\">virtual observatory python (pyVO) tutorial.</a> <br>\n",
    "\n",
    "As explained in the tutorial, in order to access the GUVCat catalog via the VO we need to provide the coordinates of the target we want (ra, dec), as in the example shown below for TWA 1:"
   ]
  },
  {
   "cell_type": "code",
   "execution_count": 22,
   "id": "1145a07d",
   "metadata": {
    "scrolled": false
   },
   "outputs": [
    {
     "data": {
      "text/html": [
       "<div><i>Table length=1</i>\n",
       "<table id=\"table140428922022400\" class=\"table-striped table-bordered table-condensed\">\n",
       "<thead><tr><th>objID</th><th>IAUname</th><th>RA</th><th>DEC</th><th>e_bv</th><th>nuv_artifact</th><th>fuv_artifact</th><th>nuv_flags</th><th>fuv_flags</th><th>nuv_flux</th><th>fuv_flux</th><th>nuv_fluxerr</th><th>fuv_fluxerr</th><th>nuv_fwhm_world</th><th>fuv_fwhm_world</th><th>nuv_mag</th><th>fuv_mag</th><th>nuv_magerr</th><th>fuv_magerr</th><th>nuv_fcat_flux</th><th>fuv_ncat_flux</th><th>nuv_fcat_fluxerr</th><th>fuv_ncat_fluxerr</th><th>nuv_weight</th><th>fuv_weight</th><th>survey</th><th>url</th><th>mag</th><th>distance</th></tr></thead>\n",
       "<thead><tr><th></th><th></th><th>deg</th><th>deg</th><th>mag</th><th></th><th></th><th></th><th></th><th></th><th></th><th></th><th></th><th></th><th></th><th>mag</th><th>mag</th><th>mag</th><th>mag</th><th></th><th></th><th></th><th></th><th></th><th></th><th></th><th></th><th>mag</th><th>arcsec</th></tr></thead>\n",
       "<thead><tr><th>int64</th><th>object</th><th>float64</th><th>float64</th><th>float32</th><th>int32</th><th>int32</th><th>int32</th><th>int32</th><th>float32</th><th>float32</th><th>float32</th><th>float32</th><th>float32</th><th>float32</th><th>float32</th><th>float32</th><th>float32</th><th>float32</th><th>float32</th><th>float32</th><th>float32</th><th>float32</th><th>float32</th><th>float32</th><th>object</th><th>object</th><th>float32</th><th>float32</th></tr></thead>\n",
       "<tr><td>6386924702772757883</td><td>GALEX J110151.7-344217</td><td>165.465776054982</td><td>-34.7047816865525</td><td>0.06994488</td><td>0</td><td>0</td><td>0</td><td>0</td><td>6569.914</td><td>2549.284</td><td>53.16022</td><td>51.13747</td><td>0.002040816</td><td>0.001510264</td><td>14.3561</td><td>15.38396</td><td>0.008787328</td><td>0.02178466</td><td>6244.068</td><td>2630.659</td><td>45.69708</td><td>60.6461</td><td>79.51563</td><td>94.64063</td><td>AIS</td><td>&lt;a href=&quot;http://galex.stsci.edu/GR6/?page=explore&amp;photo=true&amp;objid=6386924702772757883&quot; target=&quot;_blank&quot;&gt;6386924702772757883&lt;/a&gt;</td><td>14.3561</td><td>0.024657784</td></tr>\n",
       "</table></div>"
      ],
      "text/plain": [
       "<Table length=1>\n",
       "       objID               IAUname         ...   mag     distance \n",
       "                                           ...   mag      arcsec  \n",
       "       int64                object         ... float32   float32  \n",
       "------------------- ---------------------- ... ------- -----------\n",
       "6386924702772757883 GALEX J110151.7-344217 ... 14.3561 0.024657784"
      ]
     },
     "execution_count": 22,
     "metadata": {},
     "output_type": "execute_result"
    }
   ],
   "source": [
    "pos = SkyCoord(ra=165.4662722021100, dec=-34.7047314495500, unit='deg',frame='icrs')\n",
    "size = Quantity(10, unit=\"arcsec\")\n",
    "scs_service = vo.dal.SCSService('http://gsss.stsci.edu/webservices/vo/ConeSearch.aspx?CAT=GALEX&')\n",
    "scs_results = scs_service.search(pos=pos, radius=size)\n",
    "scs_results.to_table()"
   ]
  },
  {
   "cell_type": "markdown",
   "id": "c180472d",
   "metadata": {},
   "source": [
    "Let's display the different column names that the catalog provides:"
   ]
  },
  {
   "cell_type": "code",
   "execution_count": 29,
   "id": "a58e14e1",
   "metadata": {},
   "outputs": [
    {
     "name": "stdout",
     "output_type": "stream",
     "text": [
      "<TableColumns names=('objID','IAUname','RA','DEC','e_bv','nuv_artifact','fuv_artifact','nuv_flags','fuv_flags','nuv_flux','fuv_flux','nuv_fluxerr','fuv_fluxerr','nuv_fwhm_world','fuv_fwhm_world','nuv_mag','fuv_mag','nuv_magerr','fuv_magerr','nuv_fcat_flux','fuv_ncat_flux','nuv_fcat_fluxerr','fuv_ncat_fluxerr','nuv_weight','fuv_weight','survey','url','mag','distance')>\n"
     ]
    }
   ],
   "source": [
    "print(scs_results.to_table().columns)"
   ]
  },
  {
   "cell_type": "markdown",
   "id": "dc927e5d",
   "metadata": {},
   "source": [
    "Some relevant identifiers are:\n",
    "\n",
    "- _objID_: GALEX identifier for the source.\n",
    "- _RA_: source’s Right Ascension (degrees).\n",
    "- _DEC_: source’s Declination (degrees).\n",
    "- _fuv/nuv_mag_: FUV/NUV calibrated magnitude.\n",
    "- _fuv/nuv_flux_: FUV/NUV calibrated flux (micro Jansky).\n",
    "\n",
    "Let's take a look now at how to access a specific value inside a table. In order to do this, we need to provide the name of the column we want to access, for example for the NUV magnitude:"
   ]
  },
  {
   "cell_type": "code",
   "execution_count": 30,
   "id": "db721d08",
   "metadata": {},
   "outputs": [
    {
     "name": "stdout",
     "output_type": "stream",
     "text": [
      "[14.356100082397461]\n"
     ]
    }
   ],
   "source": [
    "print(scs_results['nuv_mag'])"
   ]
  },
  {
   "cell_type": "markdown",
   "id": "14f15c12",
   "metadata": {},
   "source": [
    "## TWA in GALEX\n",
    "\n",
    "Since we want to create a color-color comparison using the GALEX catalog, we can select a sample of young, low-mass stars such as the TW Hydrae Association. The coordinates of its members have been provided in a _.txt_ file along with this tutorial; the first column corresponds to the name of the star, the second to its right ascension and the third to its declination (both in degrees).\n",
    "\n",
    "The first step for this process will be then to load this information using the _numpy_ function _loadtxt_. If we use the option _unpack=True_ we can directly separate the three columsn into different arrays to better handle them later. Additionally, _loadtxt_ assumes float as the standard input, so since the first column will correspond to strings, let's use the parameter _dtype_ to specify that the first column has a string (U) format, and the other two are floats (f)."
   ]
  },
  {
   "cell_type": "code",
   "execution_count": 12,
   "id": "2564a17c",
   "metadata": {},
   "outputs": [],
   "source": [
    "names_TWA, ra_TWA, dec_TWA = np.loadtxt('TWA_coordinates_complete.txt', unpack = True, dtype=\"U7,f8,f8\")"
   ]
  },
  {
   "cell_type": "code",
   "execution_count": 14,
   "id": "e42c562c",
   "metadata": {},
   "outputs": [
    {
     "name": "stdout",
     "output_type": "stream",
     "text": [
      "Name of the stars in the TWA:  ['TWA_1' 'TWA_2' 'TWA_3' 'TWA_4' 'TWA_5' 'TWA_6' 'TWA_7' 'TWA_8A' 'TWA_8B'\n",
      " 'TWA_9A' 'TWA_9B' 'TWA_10' 'TWA_11A' 'TWA_11B' 'TWA_11C' 'TWA_12'\n",
      " 'TWA_13A' 'TWA_13B' 'TWA_14' 'TWA_15A' 'TWA_15B' 'TWA_16' 'TWA_17'\n",
      " 'TWA_18' 'TWA_19A' 'TWA_19B' 'TWA_20' 'TWA_21' 'TWA_22' 'TWA_23' 'TWA_24'\n",
      " 'TWA_25' 'TWA_26' 'TWA_27' 'TWA_28' 'TWA_29' 'TWA_30' 'TWA_30B' 'TWA_31'\n",
      " 'TWA_32' 'TWA_33' 'TWA_34']\n"
     ]
    }
   ],
   "source": [
    "print('Name of the stars in the TWA: ', names_TWA)"
   ]
  },
  {
   "cell_type": "code",
   "execution_count": 16,
   "id": "0f45b1df",
   "metadata": {},
   "outputs": [
    {
     "name": "stdout",
     "output_type": "stream",
     "text": [
      "Right Ascension of the stars in the TWA [deg]:  [165.4662722  167.30747036 167.6162253  170.52204061 172.98025373\n",
      " 154.61957813 160.62542455 173.17194118 173.17155553 177.10092809\n",
      " 177.09889501 188.76773349 189.00429894 189.00228808 188.95391504\n",
      " 170.27283924 170.32174722 170.32267942 168.35925362 188.58603391\n",
      " 188.58530003 188.7345942  200.18911553 200.40508013 176.85226592\n",
      " 176.83580497 187.90862149 153.31155192 154.36205323 181.86406831\n",
      " 182.42441209 183.87800133 174.96307432 181.88944814 165.54099116\n",
      " 191.30900324 173.07629827 173.07591241 181.79536803 186.7140274\n",
      " 174.89093731 157.19083017]\n"
     ]
    }
   ],
   "source": [
    "print('Right Ascension of the stars in the TWA [deg]: ', ra_TWA)"
   ]
  },
  {
   "cell_type": "code",
   "execution_count": 17,
   "id": "12ead4d1",
   "metadata": {},
   "outputs": [
    {
     "name": "stdout",
     "output_type": "stream",
     "text": [
      "Declination of the stars in the TWA [deg]:  [-34.70473145 -30.02776913 -37.5311017  -24.77771031 -34.60755664\n",
      " -31.83411946 -33.67117495 -26.86554497 -26.8691966  -37.48030952\n",
      " -37.48014456 -41.61072667 -39.86950568 -39.87102599 -39.84015754\n",
      " -38.7545897  -34.77930646 -34.78049328 -45.39520027 -48.25375871\n",
      " -48.25542933 -45.6354537  -46.19380874 -44.36440603 -49.8841718\n",
      " -49.88453792 -45.98318276 -52.51500042 -53.90732984 -32.78340081\n",
      " -58.91251712 -39.81183519 -31.98928991 -39.54833795 -34.50987839\n",
      " -44.48548007 -30.3310716  -30.3087898  -32.51493218 -33.2701509\n",
      " -30.66676829 -28.51042382]\n"
     ]
    }
   ],
   "source": [
    "print('Declination of the stars in the TWA [deg]: ', dec_TWA)"
   ]
  },
  {
   "cell_type": "markdown",
   "id": "dd1c7a61",
   "metadata": {},
   "source": [
    "So, once we have all the coordiantes for the stars in TWA, let's look them up via VO:"
   ]
  },
  {
   "cell_type": "code",
   "execution_count": 18,
   "id": "dc068685",
   "metadata": {},
   "outputs": [
    {
     "name": "stdout",
     "output_type": "stream",
     "text": [
      "TWA_7 not in GALEX\n",
      "TWA_8B not in GALEX\n",
      "TWA_11A not in GALEX\n",
      "TWA_11B not in GALEX\n",
      "TWA_11C not in GALEX\n",
      "TWA_15A not in GALEX\n",
      "TWA_15B not in GALEX\n",
      "TWA_19A not in GALEX\n",
      "TWA_19B not in GALEX\n",
      "TWA_21 not in GALEX\n",
      "TWA_24 not in GALEX\n",
      "TWA_26 not in GALEX\n",
      "TWA_27 not in GALEX\n",
      "TWA_28 not in GALEX\n",
      "TWA_29 not in GALEX\n",
      "TWA_30B not in GALEX\n"
     ]
    }
   ],
   "source": [
    "n = len(names_TWA)\n",
    "nuv_TWA = np.zeros(n)\n",
    "\n",
    "for i in range(n):\n",
    "    pos = SkyCoord(ra=ra_TWA[i], dec=dec_TWA[i], unit='deg')\n",
    "    size = Quantity(8, unit=\"arcsec\")\n",
    "    scs_service = vo.dal.SCSService('http://gsss.stsci.edu/webservices/vo/ConeSearch.aspx?CAT=GALEX&')\n",
    "    scs_results = scs_service.search(pos=pos, radius=size)\n",
    "    if (len(scs_results['nuv_mag']) > 0):\n",
    "        nuv_TWA[i] = float(scs_results['nuv_mag'][0])\n",
    "    else:\n",
    "        print(names_TWA[i],'not in GALEX')"
   ]
  },
  {
   "cell_type": "markdown",
   "id": "54b86aa1",
   "metadata": {},
   "source": [
    "Some of the stars are not in GUVCat, but we still have enough sample stars to create the color-color diagram that we want."
   ]
  },
  {
   "cell_type": "markdown",
   "id": "2c8aa727",
   "metadata": {},
   "source": [
    "## SIMBAD catalog\n",
    "\n",
    "To create the color-color diagram we need additional bands to perform the comparison. In order to do so, we can use some of the bands provided by the SIMBAD catalog ($K - 2.159 \\mu m, V - 0.540 \\mu m$). In order to do that, we should add the votable fields 'flux(K)' and 'flux(V)' to the Simbad query with the following command:"
   ]
  },
  {
   "cell_type": "code",
   "execution_count": 6,
   "id": "7167f6f7",
   "metadata": {},
   "outputs": [],
   "source": [
    "Simbad.add_votable_fields('flux(K)','flux(V)')"
   ]
  },
  {
   "cell_type": "markdown",
   "id": "05d81d62",
   "metadata": {},
   "source": [
    "Even though the votable field that we have added says 'flux', this will provide us with the magnitude in those band, let's check it for our first star, 'TWA 1':"
   ]
  },
  {
   "cell_type": "code",
   "execution_count": 240,
   "id": "6bafbcf8",
   "metadata": {},
   "outputs": [
    {
     "data": {
      "text/html": [
       "<div><i>Table length=1</i>\n",
       "<table id=\"table140387678171248\" class=\"table-striped table-bordered table-condensed\">\n",
       "<thead><tr><th>MAIN_ID</th><th>RA</th><th>DEC</th><th>RA_PREC</th><th>DEC_PREC</th><th>COO_ERR_MAJA</th><th>COO_ERR_MINA</th><th>COO_ERR_ANGLE</th><th>COO_QUAL</th><th>COO_WAVELENGTH</th><th>COO_BIBCODE</th><th>FLUX_K</th><th>FLUX_V</th><th>FLUX_K_1</th><th>FLUX_V_1</th><th>SCRIPT_NUMBER_ID</th></tr></thead>\n",
       "<thead><tr><th></th><th>&quot;h:m:s&quot;</th><th>&quot;d:m:s&quot;</th><th></th><th></th><th>mas</th><th>mas</th><th>deg</th><th></th><th></th><th></th><th>mag</th><th>mag</th><th>mag</th><th>mag</th><th></th></tr></thead>\n",
       "<thead><tr><th>object</th><th>str13</th><th>str13</th><th>int16</th><th>int16</th><th>float32</th><th>float32</th><th>int16</th><th>str1</th><th>str1</th><th>object</th><th>float32</th><th>float32</th><th>float32</th><th>float32</th><th>int32</th></tr></thead>\n",
       "<tr><td>CD-29  8887</td><td>11 09 13.7928</td><td>-30 01 39.968</td><td>14</td><td>14</td><td>0.148</td><td>0.152</td><td>90</td><td>A</td><td>O</td><td>2020yCat.1350....0G</td><td>6.71</td><td>11.119</td><td>6.71</td><td>11.119</td><td>1</td></tr>\n",
       "</table></div>"
      ],
      "text/plain": [
       "<Table length=1>\n",
       "  MAIN_ID         RA           DEC      ... FLUX_K_1 FLUX_V_1 SCRIPT_NUMBER_ID\n",
       "               \"h:m:s\"       \"d:m:s\"    ...   mag      mag                    \n",
       "   object       str13         str13     ... float32  float32       int32      \n",
       "----------- ------------- ------------- ... -------- -------- ----------------\n",
       "CD-29  8887 11 09 13.7928 -30 01 39.968 ...     6.71   11.119                1"
      ]
     },
     "execution_count": 240,
     "metadata": {},
     "output_type": "execute_result"
    }
   ],
   "source": [
    "table_twa2 = Simbad.query_object('TWA 2')\n",
    "\n",
    "table_twa2"
   ]
  },
  {
   "cell_type": "markdown",
   "id": "f5049177",
   "metadata": {},
   "source": [
    "As you can see, below the name 'FLUX_K' it indicates it is a magnitude! So now let's do it for the whole TWA using the _names_TWA_ array. \n",
    "\n",
    "_**Note**: some elements may not have either the V or K magnitude, such as 'TWA 11B', which is displayed below for the reader to see the problematic values._"
   ]
  },
  {
   "cell_type": "code",
   "execution_count": 242,
   "id": "1e114d08",
   "metadata": {},
   "outputs": [
    {
     "data": {
      "text/html": [
       "<div><i>Table length=1</i>\n",
       "<table id=\"table140387742658720\" class=\"table-striped table-bordered table-condensed\">\n",
       "<thead><tr><th>MAIN_ID</th><th>RA</th><th>DEC</th><th>RA_PREC</th><th>DEC_PREC</th><th>COO_ERR_MAJA</th><th>COO_ERR_MINA</th><th>COO_ERR_ANGLE</th><th>COO_QUAL</th><th>COO_WAVELENGTH</th><th>COO_BIBCODE</th><th>FLUX_K</th><th>FLUX_V</th><th>FLUX_K_1</th><th>FLUX_V_1</th><th>SCRIPT_NUMBER_ID</th></tr></thead>\n",
       "<thead><tr><th></th><th>&quot;h:m:s&quot;</th><th>&quot;d:m:s&quot;</th><th></th><th></th><th>mas</th><th>mas</th><th>deg</th><th></th><th></th><th></th><th>mag</th><th>mag</th><th>mag</th><th>mag</th><th></th></tr></thead>\n",
       "<thead><tr><th>object</th><th>str13</th><th>str13</th><th>int16</th><th>int16</th><th>float32</th><th>float32</th><th>int16</th><th>str1</th><th>str1</th><th>object</th><th>float32</th><th>float32</th><th>float32</th><th>float32</th><th>int32</th></tr></thead>\n",
       "<tr><td>TWA 31</td><td>12 07 10.8883</td><td>-32 30 53.755</td><td>14</td><td>14</td><td>0.038</td><td>0.028</td><td>90</td><td>A</td><td>O</td><td>2020yCat.1350....0G</td><td>12.115</td><td>--</td><td>12.115</td><td>--</td><td>1</td></tr>\n",
       "</table></div>"
      ],
      "text/plain": [
       "<Table length=1>\n",
       "MAIN_ID       RA           DEC      ... FLUX_K_1 FLUX_V_1 SCRIPT_NUMBER_ID\n",
       "           \"h:m:s\"       \"d:m:s\"    ...   mag      mag                    \n",
       " object     str13         str13     ... float32  float32       int32      \n",
       "------- ------------- ------------- ... -------- -------- ----------------\n",
       " TWA 31 12 07 10.8883 -32 30 53.755 ...   12.115       --                1"
      ]
     },
     "execution_count": 242,
     "metadata": {},
     "output_type": "execute_result"
    }
   ],
   "source": [
    "table_twa31 = Simbad.query_object('TWA 31')\n",
    "\n",
    "table_twa31"
   ]
  },
  {
   "cell_type": "markdown",
   "id": "3b9b4159",
   "metadata": {},
   "source": [
    "These elements will appear as NaN when converted to float numbers. A way to check if a value is NaN in Python is to check if it is not equal to itself, we will use this to flag the missing values."
   ]
  },
  {
   "cell_type": "code",
   "execution_count": 7,
   "id": "058e8439",
   "metadata": {},
   "outputs": [
    {
     "name": "stdout",
     "output_type": "stream",
     "text": [
      "Missing V-band magnitude:  TWA_11B\n",
      "Missing V-band magnitude:  TWA_26\n",
      "Missing V-band magnitude:  TWA_29\n",
      "Missing V-band magnitude:  TWA_30\n",
      "Missing V-band magnitude:  TWA_30B\n",
      "Missing V-band magnitude:  TWA_31\n",
      "Missing V-band magnitude:  TWA_34\n"
     ]
    }
   ],
   "source": [
    "n = len(names_TWA)\n",
    "magK_TWA = []\n",
    "magV_TWA = []\n",
    "missing_val_i = []\n",
    "    \n",
    "for i in range(n):\n",
    "    table = Simbad.query_object(names_TWA[i])\n",
    "    if (float(table['FLUX_V']) != float(table['FLUX_V'])):\n",
    "        print('Missing V-band magnitude: ',names_TWA[i])\n",
    "        missing_val_i.append(i)\n",
    "        magK_TWA.append(float(table['FLUX_K']))\n",
    "        magV_TWA.append(0)\n",
    "        continue\n",
    "    elif (float(table['FLUX_K']) != float(table['FLUX_K'])):\n",
    "        print('Missing K-band magnitude: ',names_TWA[i])\n",
    "        missing_val_i.append(i)\n",
    "        magK_TWA.append(0)\n",
    "        magV_TWA.append(float(table['FLUX_V']))\n",
    "        continue\n",
    "    else:\n",
    "        magK_TWA.append(float(table['FLUX_K']))\n",
    "        magV_TWA.append(float(table['FLUX_V']))"
   ]
  },
  {
   "cell_type": "markdown",
   "id": "0f0592c2",
   "metadata": {},
   "source": [
    "After removing the missing values, we are still left with 42 stars, this can be checked by looking at the length of the _magK_TWA_ and _magV_TWA_ lists:"
   ]
  },
  {
   "cell_type": "code",
   "execution_count": 9,
   "id": "820d760e",
   "metadata": {},
   "outputs": [
    {
     "name": "stdout",
     "output_type": "stream",
     "text": [
      "42\n"
     ]
    }
   ],
   "source": [
    "print(len(magK_TWA))"
   ]
  },
  {
   "cell_type": "markdown",
   "id": "bd625c49",
   "metadata": {},
   "source": [
    "We will convert now the lists we created to numpy arrays in order to better handle them. "
   ]
  },
  {
   "cell_type": "code",
   "execution_count": 10,
   "id": "13748fce",
   "metadata": {},
   "outputs": [],
   "source": [
    "magK_TWA = np.array(magK_TWA)\n",
    "magV_TWA = np.array(magV_TWA)"
   ]
  },
  {
   "cell_type": "markdown",
   "id": "667406d5",
   "metadata": {},
   "source": [
    "## Matching GUVCat to SIMBAD\n",
    "\n",
    "Since some values were missing for both the NUV and the V band magnitudes, we need to perform a match between GUVcat and SIMBAD to only keep those stars that have both measurements."
   ]
  },
  {
   "cell_type": "code",
   "execution_count": 19,
   "id": "b05f12d0",
   "metadata": {},
   "outputs": [
    {
     "name": "stdout",
     "output_type": "stream",
     "text": [
      "[0, 1, 2, 3, 4, 5, 7, 9, 10, 11, 15, 16, 17, 18, 21, 22, 23, 26, 28, 29, 31, 39, 40]\n"
     ]
    }
   ],
   "source": [
    "matched_i = []\n",
    "\n",
    "for i in range(len(names_TWA)):\n",
    "    if (nuv_TWA[i] != 0.) & (i not in missing_val_i):\n",
    "        matched_i.append(i)\n",
    "        \n",
    "print(matched_i)"
   ]
  },
  {
   "cell_type": "markdown",
   "id": "8038b4cc",
   "metadata": {},
   "source": [
    "## Color-color diagram"
   ]
  },
  {
   "cell_type": "code",
   "execution_count": 34,
   "id": "dff7a113",
   "metadata": {},
   "outputs": [
    {
     "data": {
      "image/png": "[encoded data removed]",
      "text/plain": [
       "<Figure size 432x288 with 1 Axes>"
      ]
     },
     "metadata": {
      "needs_background": "light"
     },
     "output_type": "display_data"
    }
   ],
   "source": [
    "fig = plt.figure()\n",
    "ax = fig.add_subplot(111)\n",
    "plt.plot(magV_TWA[matched_i]-magK_TWA[matched_i],nuv_TWA[matched_i]-magV_TWA[matched_i],'o',markersize=3,label='TWA')\n",
    "plt.plot([0, 8], [0, 8], ls=\"--\", c=\".3\")\n",
    "plt.xlim([0,8])\n",
    "plt.ylim([0,8])\n",
    "ax.set_aspect('equal')\n",
    "plt.ylabel('NUV-V')\n",
    "plt.xlabel('V-K')\n",
    "plt.legend(loc='best')\n",
    "plt.grid()\n",
    "plt.show()"
   ]
  },
  {
   "cell_type": "markdown",
   "id": "9a594c14",
   "metadata": {},
   "source": [
    "## Exercises\n",
    "\n",
    "_**Potentially**: make them do the same process but for older stars and overplot them to the young ones on the color-color diagram, so they can see the difference?_\n",
    "\n",
    "## Additional Resources\n",
    "\n",
    "For more information about the MAST archive and details about mission data: \n",
    "\n",
    "<a href=\"https://mast.stsci.edu/api/v0/index.html\">MAST API</a> <br>\n",
    "<a href=\"https://archive.stsci.edu/hlsp/guvcat\">GALEX UV Unique Source Catalogs</a> <br> \n",
    "\n",
    "## About this Notebook\n",
    "\n",
    "**Author**: Clara Puerto Sánchez <br>\n",
    "**Updated on**: 26/07/2022\n",
    "\n",
    "<img style=\"float: right;\" src=\"https://raw.githubusercontent.com/spacetelescope/notebooks/master/assets/stsci_pri_combo_mark_horizonal_white_bkgd.png\" alt=\"Space Telescope Logo\" width=\"200px\"/>"
   ]
  }
 ],
 "metadata": {
  "kernelspec": {
   "display_name": "Python 3",
   "language": "python",
   "name": "python3"
  },
  "language_info": {
   "codemirror_mode": {
    "name": "ipython",
    "version": 3
   },
   "file_extension": ".py",
   "mimetype": "text/x-python",
   "name": "python",
   "nbconvert_exporter": "python",
   "pygments_lexer": "ipython3",
   "version": "3.8.8"
  }
 },
 "nbformat": 4,
 "nbformat_minor": 5
}
