{
 "cells": [
  {
   "cell_type": "markdown",
   "id": "f2edcf1e",
   "metadata": {},
   "source": [
    "# UV excess in low mass stars\n",
    "\n",
    "## Learning goals\n",
    "\n",
    "By the end of this tutorial you will be able to:\n",
    "\n",
    "- Understand UV excess in low mass stars\n",
    "- Download data directly from URLs and handle data-frames\n",
    "- Learn how to use a GUVcat catalog query and make selection cuts\n",
    "- Create a color-color diagram\n",
    "- **Tentatively**: Create a light curve out of gPhoton\n",
    "- **Tentatively**: add Swift UVOT time-tagged observations based on metadata (depending on length of tutorial)\n",
    "- **Tentatively**: add PS1 time series for low-cadence but longer baselines and multicolor (depending on length of tutorial)\n",
    "\n",
    "## Introduction\n",
    "\n",
    "**GALEX background**: The Galaxy Evolution Explorer (GALEX) was a satellite which mission was to produce an All-sky Imaiging Survey (AIS). It observed the sky in two different bands: in the Near UV (NUV) ($1750-27504$ Å) and in the Far UV (FUV) ($1350-1750$ Å). The GALEX database contains over 600 million source measurements in the ultraviolet domain, with some sources having more than one measurement, which could be useful to look for variability. Additionally, this survey has additionally been used to <a href=\"https://ui.adsabs.harvard.edu/abs/2008ApJ...689.1274S/abstract\">accrete binaries</a> or <a href=\"https://ui.adsabs.harvard.edu/abs/2017ApJ...841...33M/abstract\">AGB chromospheres</a>.\n",
    "\n",
    "**Light curve background**: a light curve represents the brightness variation of an object studied over a period of time. This tool is simple but powerful, especially useful for time-variable objects such as supernovae or variable stars. The plot can show brightness (magnitude) over time, but it can also be represented as any other measure of brightness, such as the count of the number of X-rays over time.\n",
    "\n",
    "**Defining some terms**:\n",
    "- **Color-color diagram**:diagram used to compare the apparent magnitudes of objects at different wavelengths.\n",
    "- **AGB**: Asymptotic Giant Branch. This corresponds to an area of the Herzsprung-Russell diagram where evolved cool luminous stars are found, all low to intermediate mass (0.5-8 solar masses) undergo this period of stellar evolution.\n",
    "\n",
    "## Imports\n",
    "\n",
    "- _wget_ to download files directly from URLs.\n",
    "- _os_ to use functions from the operating system, we will use this to unzip _.gz_ files.\n",
    "- _pandas_ for data handling, such as _.csv_ files.\n",
    "- _matplotlib.pyplot_ for plotting data."
   ]
  },
  {
   "cell_type": "code",
   "execution_count": 16,
   "id": "821d756e",
   "metadata": {},
   "outputs": [],
   "source": [
    "import wget\n",
    "import os\n",
    "import pandas as pd\n",
    "import matplotlib.pyplot as plt"
   ]
  },
  {
   "cell_type": "markdown",
   "id": "f3d9d0c9",
   "metadata": {},
   "source": [
    "_**Warning**: you may need to donwload gPhoton if you have not installed it previously, information about how to install it can be found in the following <a href=\"https://archive.stsci.edu/prepds/gphoton/#installation\">link</a>_."
   ]
  },
  {
   "cell_type": "markdown",
   "id": "e4c275c2",
   "metadata": {},
   "source": [
    "## GALEX catalog\n",
    "\n",
    "The GALEX catalog can be accessed via the <a href=\"http://dolomiti.pha.jhu.edu/uvsky/#GUVcat\">author's web site</a>, through <a href=\"http://mastweb.stsci.edu/gcasjobs\">MAST casjobs</a> or from the <a href=\"https://vizier.cds.unistra.fr/viz-bin/VizieR\">SIMBAD Vizier database</a>. Through this tutorial we will use the first approach, and download the data directly from the <a href=\"http://dolomiti.pha.jhu.edu/uvsky/GUVcat/GUVcat_AIS.html\">GALEX catalogs of unique UV sources</a>, but the user is welcome to explore the documentation of the two other options and compare. \n",
    "\n",
    "For the example presented here, we will be using the _.csv_ file _GUVCat_AIS_FOV055_glat85_00N__90_00N_. The naming convention for the GUVcat catalog is as follows:\n",
    "- _AIS_ corresponds to the name of the catalog, _All-sky Imaging Survey_.\n",
    "- _FOV055_ refers to the 1.1 degree diameter of GALEX field-of-view. \n",
    "- _glat85_00N_90_00N_ is the lower and upper Galactic boundaries for this slice. _N_ to indicate the degrees are positive, and negative degrees are indicated with _S_.\n",
    "\n",
    "More information about the naming convention can be found in the <a href=\"https://archive.stsci.edu/hlsps/guvcat/hlsp_guvcat_galex_imaging_all_fuv-nuv_v1_readme.txt\">GCat README file</a>.\n",
    "\n",
    "## Data download\n",
    "\n",
    "Let's use now the _wget_ command to download the corresponding catalog:"
   ]
  },
  {
   "cell_type": "code",
   "execution_count": 11,
   "id": "777ed3ab",
   "metadata": {},
   "outputs": [
    {
     "data": {
      "text/plain": [
       "'GUVCat_AIS_FOV055_glat85_00N__90_00N.csv.gz'"
      ]
     },
     "execution_count": 11,
     "metadata": {},
     "output_type": "execute_result"
    }
   ],
   "source": [
    "url='http://dolomiti.pha.jhu.edu/uvsky/GUVcat/GUVcat_AIS_FOV055/2019/5deglatslices/GUVCat_AIS_FOV055_glat85_00N__90_00N.csv.gz'\n",
    "wget.download(url)"
   ]
  },
  {
   "cell_type": "markdown",
   "id": "05749e81",
   "metadata": {},
   "source": [
    "The file has automatically be saved to our current working directory with the filename displayed above. In the <a href=\"http://dolomiti.pha.jhu.edu/uvsky/GUVcat/GUVcat_AIS.html\">GALEX catalogs of unique UV sources</a> all the available catalogs can be accessed in case the reader is curious.\n",
    "\n",
    "Since the files are compressed, the first step to treat the data is decompress them, in order to do that we can use _gunzip_ option from the _os_ module in Python:"
   ]
  },
  {
   "cell_type": "code",
   "execution_count": 15,
   "id": "89d0a924",
   "metadata": {},
   "outputs": [
    {
     "data": {
      "text/plain": [
       "256"
      ]
     },
     "execution_count": 15,
     "metadata": {},
     "output_type": "execute_result"
    }
   ],
   "source": [
    "filename = 'GUVCat_AIS_FOV055_glat85_00N__90_00N.csv.gz'\n",
    "os.system('gunzip ' + filename)"
   ]
  },
  {
   "cell_type": "markdown",
   "id": "df373483",
   "metadata": {},
   "source": [
    "The _.gz_ file has been replace by a _.csv_ file in our current working directory with the same filename as before. Now let's explore the different columns this catalog has, one way to load a _.csv_ file is to use the function _read_csv_ from the _pandas_ module:"
   ]
  },
  {
   "cell_type": "code",
   "execution_count": 2,
   "id": "5108ef47",
   "metadata": {},
   "outputs": [],
   "source": [
    "GUVCat_85_90 = pd.read_csv('GUVCat_AIS_FOV055_glat85_00N__90_00N.csv',low_memory=False)"
   ]
  },
  {
   "cell_type": "markdown",
   "id": "d0ecebe8",
   "metadata": {},
   "source": [
    "## File structure and data accessing\n",
    "\n",
    "Let's display the different column names for the downloaded catalog:"
   ]
  },
  {
   "cell_type": "code",
   "execution_count": 25,
   "id": "870adfd0",
   "metadata": {},
   "outputs": [
    {
     "name": "stdout",
     "output_type": "stream",
     "text": [
      "['objid' 'photoextractid' 'mpstype' 'avaspra' 'avaspdec' 'fexptime'\n",
      " 'nexptime' 'ra' 'dec' 'glon' 'glat' 'tilenum' 'img' 'subvisit'\n",
      " 'fov_radius' 'type' 'band' 'e_bv' 'istherespectrum' 'chkobj_type'\n",
      " 'fuv_mag' 'fuv_magerr' 'nuv_mag' 'nuv_magerr' 'fuv_mag_auto'\n",
      " 'fuv_magerr_auto' 'nuv_mag_auto' 'nuv_magerr_auto' 'fuv_mag_aper_4'\n",
      " 'fuv_magerr_aper_4' 'nuv_mag_aper_4' 'nuv_magerr_aper_4' 'fuv_mag_aper_6'\n",
      " 'fuv_magerr_aper_6' 'nuv_mag_aper_6' 'nuv_magerr_aper_6' 'fuv_artifact'\n",
      " 'nuv_artifact' 'fuv_flags' 'nuv_flags' 'fuv_flux' 'fuv_fluxerr'\n",
      " 'nuv_flux' 'nuv_fluxerr' 'fuv_x_image' 'fuv_y_image' 'nuv_x_image'\n",
      " 'nuv_y_image' 'fuv_fwhm_image' 'nuv_fwhm_image' 'fuv_fwhm_world'\n",
      " 'nuv_fwhm_world' 'nuv_class_star' 'fuv_class_star' 'nuv_ellipticity'\n",
      " 'fuv_ellipticity' 'nuv_theta_j2000' 'nuv_errtheta_j2000'\n",
      " 'fuv_theta_j2000' 'fuv_errtheta_j2000' 'fuv_ncat_fwhm_image'\n",
      " 'fuv_ncat_flux_radius_3' 'nuv_kron_radius' 'nuv_a_world' 'nuv_b_world'\n",
      " 'fuv_kron_radius' 'fuv_a_world' 'fuv_b_world' 'nuv_weight' 'fuv_weight'\n",
      " 'prob' 'sep' 'nuv_poserr' 'fuv_poserr' 'ib_poserr' 'nuv_pperr'\n",
      " 'fuv_pperr' 'CorV' 'gRank' 'ngrank' 'primgid' 'groupgid' 'grankdist'\n",
      " 'ngrankdist' 'primgiddist' 'groupgiddist' 'groupgidtot' 'difffuv'\n",
      " 'diffnuv' 'difffuvdist' 'diffnuvdist' 'sepas' 'sepasdist' 'inlargeobj'\n",
      " 'largeobjsize']\n"
     ]
    }
   ],
   "source": [
    "print(GUVCat_85_90.columns.values)"
   ]
  },
  {
   "cell_type": "markdown",
   "id": "61a80f04",
   "metadata": {},
   "source": [
    "The different columns included are explained in <a href=\"https://arxiv.org/pdf/1704.05903.pdf\">Bianchi et al. 2017</a>. Some relevant identifiers are:\n",
    "\n",
    "- _objid_: GALEX identifier for the source.\n",
    "- _ra_: source’s Right Ascension (degrees).\n",
    "- _dec_: source’s Declination (degrees).\n",
    "- _fuv/nuv_mag_: FUV/NUV calibrated magnitude.\n",
    "- _fuv/nuv_flux_: FUV/NUV calibrated flux (micro Jansky).\n",
    "\n",
    "Let's take a look now at how the catalog data look like:"
   ]
  },
  {
   "cell_type": "code",
   "execution_count": 35,
   "id": "c8a00f9b",
   "metadata": {},
   "outputs": [
    {
     "data": {
      "text/html": [
       "<div>\n",
       "<style scoped>\n",
       "    .dataframe tbody tr th:only-of-type {\n",
       "        vertical-align: middle;\n",
       "    }\n",
       "\n",
       "    .dataframe tbody tr th {\n",
       "        vertical-align: top;\n",
       "    }\n",
       "\n",
       "    .dataframe thead th {\n",
       "        text-align: right;\n",
       "    }\n",
       "</style>\n",
       "<table border=\"1\" class=\"dataframe\">\n",
       "  <thead>\n",
       "    <tr style=\"text-align: right;\">\n",
       "      <th></th>\n",
       "      <th>objid</th>\n",
       "      <th>photoextractid</th>\n",
       "      <th>mpstype</th>\n",
       "      <th>avaspra</th>\n",
       "      <th>avaspdec</th>\n",
       "      <th>fexptime</th>\n",
       "      <th>nexptime</th>\n",
       "      <th>ra</th>\n",
       "      <th>dec</th>\n",
       "      <th>glon</th>\n",
       "      <th>...</th>\n",
       "      <th>groupgiddist</th>\n",
       "      <th>groupgidtot</th>\n",
       "      <th>difffuv</th>\n",
       "      <th>diffnuv</th>\n",
       "      <th>difffuvdist</th>\n",
       "      <th>diffnuvdist</th>\n",
       "      <th>sepas</th>\n",
       "      <th>sepasdist</th>\n",
       "      <th>inlargeobj</th>\n",
       "      <th>largeobjsize</th>\n",
       "    </tr>\n",
       "  </thead>\n",
       "  <tbody>\n",
       "    <tr>\n",
       "      <th>0</th>\n",
       "      <td>6374856500725153893</td>\n",
       "      <td>6374856500724105216</td>\n",
       "      <td>AIS</td>\n",
       "      <td>187.732563</td>\n",
       "      <td>29.523348</td>\n",
       "      <td>95.0</td>\n",
       "      <td>211.0</td>\n",
       "      <td>187.706324</td>\n",
       "      <td>28.976949</td>\n",
       "      <td>189.611010</td>\n",
       "      <td>...</td>\n",
       "      <td>6374856500725153893</td>\n",
       "      <td>6374856500725153893</td>\n",
       "      <td>0.0</td>\n",
       "      <td>0.0</td>\n",
       "      <td>0.0</td>\n",
       "      <td>0.0</td>\n",
       "      <td>0.0</td>\n",
       "      <td>0.0</td>\n",
       "      <td>NaN</td>\n",
       "      <td>0.0</td>\n",
       "    </tr>\n",
       "    <tr>\n",
       "      <th>1</th>\n",
       "      <td>6374856500725153904</td>\n",
       "      <td>6374856500724105216</td>\n",
       "      <td>AIS</td>\n",
       "      <td>187.732563</td>\n",
       "      <td>29.523348</td>\n",
       "      <td>95.0</td>\n",
       "      <td>211.0</td>\n",
       "      <td>187.806253</td>\n",
       "      <td>28.977880</td>\n",
       "      <td>189.229750</td>\n",
       "      <td>...</td>\n",
       "      <td>6374856500725153904</td>\n",
       "      <td>6374856500725153904</td>\n",
       "      <td>0.0</td>\n",
       "      <td>0.0</td>\n",
       "      <td>0.0</td>\n",
       "      <td>0.0</td>\n",
       "      <td>0.0</td>\n",
       "      <td>0.0</td>\n",
       "      <td>NaN</td>\n",
       "      <td>0.0</td>\n",
       "    </tr>\n",
       "    <tr>\n",
       "      <th>2</th>\n",
       "      <td>6374856500725153905</td>\n",
       "      <td>6374856500724105216</td>\n",
       "      <td>AIS</td>\n",
       "      <td>187.732563</td>\n",
       "      <td>29.523348</td>\n",
       "      <td>95.0</td>\n",
       "      <td>211.0</td>\n",
       "      <td>187.713565</td>\n",
       "      <td>28.980523</td>\n",
       "      <td>189.545530</td>\n",
       "      <td>...</td>\n",
       "      <td>6374856500725153905</td>\n",
       "      <td>6374856500725153905</td>\n",
       "      <td>0.0</td>\n",
       "      <td>0.0</td>\n",
       "      <td>0.0</td>\n",
       "      <td>0.0</td>\n",
       "      <td>0.0</td>\n",
       "      <td>0.0</td>\n",
       "      <td>NaN</td>\n",
       "      <td>0.0</td>\n",
       "    </tr>\n",
       "    <tr>\n",
       "      <th>3</th>\n",
       "      <td>6374856500725153908</td>\n",
       "      <td>6374856500724105216</td>\n",
       "      <td>AIS</td>\n",
       "      <td>187.732563</td>\n",
       "      <td>29.523348</td>\n",
       "      <td>95.0</td>\n",
       "      <td>211.0</td>\n",
       "      <td>187.712458</td>\n",
       "      <td>28.975241</td>\n",
       "      <td>189.607300</td>\n",
       "      <td>...</td>\n",
       "      <td>6374856500725153908</td>\n",
       "      <td>6374856500725153908</td>\n",
       "      <td>0.0</td>\n",
       "      <td>0.0</td>\n",
       "      <td>0.0</td>\n",
       "      <td>0.0</td>\n",
       "      <td>0.0</td>\n",
       "      <td>0.0</td>\n",
       "      <td>NaN</td>\n",
       "      <td>0.0</td>\n",
       "    </tr>\n",
       "    <tr>\n",
       "      <th>4</th>\n",
       "      <td>6374856500725153909</td>\n",
       "      <td>6374856500724105216</td>\n",
       "      <td>AIS</td>\n",
       "      <td>187.732563</td>\n",
       "      <td>29.523348</td>\n",
       "      <td>95.0</td>\n",
       "      <td>211.0</td>\n",
       "      <td>187.784015</td>\n",
       "      <td>28.975674</td>\n",
       "      <td>189.337810</td>\n",
       "      <td>...</td>\n",
       "      <td>6374856500725153909</td>\n",
       "      <td>6374856500725153909</td>\n",
       "      <td>0.0</td>\n",
       "      <td>0.0</td>\n",
       "      <td>0.0</td>\n",
       "      <td>0.0</td>\n",
       "      <td>0.0</td>\n",
       "      <td>0.0</td>\n",
       "      <td>NaN</td>\n",
       "      <td>0.0</td>\n",
       "    </tr>\n",
       "    <tr>\n",
       "      <th>...</th>\n",
       "      <td>...</td>\n",
       "      <td>...</td>\n",
       "      <td>...</td>\n",
       "      <td>...</td>\n",
       "      <td>...</td>\n",
       "      <td>...</td>\n",
       "      <td>...</td>\n",
       "      <td>...</td>\n",
       "      <td>...</td>\n",
       "      <td>...</td>\n",
       "      <td>...</td>\n",
       "      <td>...</td>\n",
       "      <td>...</td>\n",
       "      <td>...</td>\n",
       "      <td>...</td>\n",
       "      <td>...</td>\n",
       "      <td>...</td>\n",
       "      <td>...</td>\n",
       "      <td>...</td>\n",
       "      <td>...</td>\n",
       "      <td>...</td>\n",
       "    </tr>\n",
       "    <tr>\n",
       "      <th>249740</th>\n",
       "      <td>6379324897726826393</td>\n",
       "      <td>6379324897725775872</td>\n",
       "      <td>AIS</td>\n",
       "      <td>198.549110</td>\n",
       "      <td>29.399724</td>\n",
       "      <td>112.0</td>\n",
       "      <td>112.0</td>\n",
       "      <td>197.954885</td>\n",
       "      <td>29.304166</td>\n",
       "      <td>59.976341</td>\n",
       "      <td>...</td>\n",
       "      <td>6379324897726826393</td>\n",
       "      <td>6379324897726826393</td>\n",
       "      <td>0.0</td>\n",
       "      <td>0.0</td>\n",
       "      <td>0.0</td>\n",
       "      <td>0.0</td>\n",
       "      <td>0.0</td>\n",
       "      <td>0.0</td>\n",
       "      <td>NaN</td>\n",
       "      <td>0.0</td>\n",
       "    </tr>\n",
       "    <tr>\n",
       "      <th>249741</th>\n",
       "      <td>6379324897726826691</td>\n",
       "      <td>6379324897725775872</td>\n",
       "      <td>AIS</td>\n",
       "      <td>198.549110</td>\n",
       "      <td>29.399724</td>\n",
       "      <td>112.0</td>\n",
       "      <td>112.0</td>\n",
       "      <td>197.924818</td>\n",
       "      <td>29.363264</td>\n",
       "      <td>60.719563</td>\n",
       "      <td>...</td>\n",
       "      <td>6379324897726826691</td>\n",
       "      <td>6379324897726826691</td>\n",
       "      <td>0.0</td>\n",
       "      <td>0.0</td>\n",
       "      <td>0.0</td>\n",
       "      <td>0.0</td>\n",
       "      <td>0.0</td>\n",
       "      <td>0.0</td>\n",
       "      <td>NaN</td>\n",
       "      <td>0.0</td>\n",
       "    </tr>\n",
       "    <tr>\n",
       "      <th>249742</th>\n",
       "      <td>6379324897728922302</td>\n",
       "      <td>6379324897725775872</td>\n",
       "      <td>AIS</td>\n",
       "      <td>198.549110</td>\n",
       "      <td>29.399724</td>\n",
       "      <td>112.0</td>\n",
       "      <td>112.0</td>\n",
       "      <td>198.086814</td>\n",
       "      <td>29.039864</td>\n",
       "      <td>56.661587</td>\n",
       "      <td>...</td>\n",
       "      <td>6379324897728922302</td>\n",
       "      <td>6379324897728922302</td>\n",
       "      <td>0.0</td>\n",
       "      <td>0.0</td>\n",
       "      <td>0.0</td>\n",
       "      <td>0.0</td>\n",
       "      <td>0.0</td>\n",
       "      <td>0.0</td>\n",
       "      <td>NaN</td>\n",
       "      <td>0.0</td>\n",
       "    </tr>\n",
       "    <tr>\n",
       "      <th>249743</th>\n",
       "      <td>6379324897728922714</td>\n",
       "      <td>6379324897725775872</td>\n",
       "      <td>AIS</td>\n",
       "      <td>198.549110</td>\n",
       "      <td>29.399724</td>\n",
       "      <td>112.0</td>\n",
       "      <td>112.0</td>\n",
       "      <td>198.002140</td>\n",
       "      <td>29.130679</td>\n",
       "      <td>57.951881</td>\n",
       "      <td>...</td>\n",
       "      <td>6379324897728922714</td>\n",
       "      <td>6379324897728922714</td>\n",
       "      <td>0.0</td>\n",
       "      <td>0.0</td>\n",
       "      <td>0.0</td>\n",
       "      <td>0.0</td>\n",
       "      <td>0.0</td>\n",
       "      <td>0.0</td>\n",
       "      <td>NaN</td>\n",
       "      <td>0.0</td>\n",
       "    </tr>\n",
       "    <tr>\n",
       "      <th>249744</th>\n",
       "      <td>6379324897728922891</td>\n",
       "      <td>6379324897725775872</td>\n",
       "      <td>AIS</td>\n",
       "      <td>198.549110</td>\n",
       "      <td>29.399724</td>\n",
       "      <td>112.0</td>\n",
       "      <td>112.0</td>\n",
       "      <td>197.998723</td>\n",
       "      <td>29.173807</td>\n",
       "      <td>58.424625</td>\n",
       "      <td>...</td>\n",
       "      <td>6379324897728922891</td>\n",
       "      <td>6379324897728922891</td>\n",
       "      <td>0.0</td>\n",
       "      <td>0.0</td>\n",
       "      <td>0.0</td>\n",
       "      <td>0.0</td>\n",
       "      <td>0.0</td>\n",
       "      <td>0.0</td>\n",
       "      <td>NaN</td>\n",
       "      <td>0.0</td>\n",
       "    </tr>\n",
       "  </tbody>\n",
       "</table>\n",
       "<p>249745 rows × 95 columns</p>\n",
       "</div>"
      ],
      "text/plain": [
       "                      objid       photoextractid mpstype     avaspra  \\\n",
       "0       6374856500725153893  6374856500724105216     AIS  187.732563   \n",
       "1       6374856500725153904  6374856500724105216     AIS  187.732563   \n",
       "2       6374856500725153905  6374856500724105216     AIS  187.732563   \n",
       "3       6374856500725153908  6374856500724105216     AIS  187.732563   \n",
       "4       6374856500725153909  6374856500724105216     AIS  187.732563   \n",
       "...                     ...                  ...     ...         ...   \n",
       "249740  6379324897726826393  6379324897725775872     AIS  198.549110   \n",
       "249741  6379324897726826691  6379324897725775872     AIS  198.549110   \n",
       "249742  6379324897728922302  6379324897725775872     AIS  198.549110   \n",
       "249743  6379324897728922714  6379324897725775872     AIS  198.549110   \n",
       "249744  6379324897728922891  6379324897725775872     AIS  198.549110   \n",
       "\n",
       "         avaspdec  fexptime  nexptime          ra        dec        glon  ...  \\\n",
       "0       29.523348      95.0     211.0  187.706324  28.976949  189.611010  ...   \n",
       "1       29.523348      95.0     211.0  187.806253  28.977880  189.229750  ...   \n",
       "2       29.523348      95.0     211.0  187.713565  28.980523  189.545530  ...   \n",
       "3       29.523348      95.0     211.0  187.712458  28.975241  189.607300  ...   \n",
       "4       29.523348      95.0     211.0  187.784015  28.975674  189.337810  ...   \n",
       "...           ...       ...       ...         ...        ...         ...  ...   \n",
       "249740  29.399724     112.0     112.0  197.954885  29.304166   59.976341  ...   \n",
       "249741  29.399724     112.0     112.0  197.924818  29.363264   60.719563  ...   \n",
       "249742  29.399724     112.0     112.0  198.086814  29.039864   56.661587  ...   \n",
       "249743  29.399724     112.0     112.0  198.002140  29.130679   57.951881  ...   \n",
       "249744  29.399724     112.0     112.0  197.998723  29.173807   58.424625  ...   \n",
       "\n",
       "               groupgiddist          groupgidtot  difffuv  diffnuv  \\\n",
       "0       6374856500725153893  6374856500725153893      0.0      0.0   \n",
       "1       6374856500725153904  6374856500725153904      0.0      0.0   \n",
       "2       6374856500725153905  6374856500725153905      0.0      0.0   \n",
       "3       6374856500725153908  6374856500725153908      0.0      0.0   \n",
       "4       6374856500725153909  6374856500725153909      0.0      0.0   \n",
       "...                     ...                  ...      ...      ...   \n",
       "249740  6379324897726826393  6379324897726826393      0.0      0.0   \n",
       "249741  6379324897726826691  6379324897726826691      0.0      0.0   \n",
       "249742  6379324897728922302  6379324897728922302      0.0      0.0   \n",
       "249743  6379324897728922714  6379324897728922714      0.0      0.0   \n",
       "249744  6379324897728922891  6379324897728922891      0.0      0.0   \n",
       "\n",
       "        difffuvdist  diffnuvdist  sepas  sepasdist  inlargeobj  largeobjsize  \n",
       "0               0.0          0.0    0.0        0.0         NaN           0.0  \n",
       "1               0.0          0.0    0.0        0.0         NaN           0.0  \n",
       "2               0.0          0.0    0.0        0.0         NaN           0.0  \n",
       "3               0.0          0.0    0.0        0.0         NaN           0.0  \n",
       "4               0.0          0.0    0.0        0.0         NaN           0.0  \n",
       "...             ...          ...    ...        ...         ...           ...  \n",
       "249740          0.0          0.0    0.0        0.0         NaN           0.0  \n",
       "249741          0.0          0.0    0.0        0.0         NaN           0.0  \n",
       "249742          0.0          0.0    0.0        0.0         NaN           0.0  \n",
       "249743          0.0          0.0    0.0        0.0         NaN           0.0  \n",
       "249744          0.0          0.0    0.0        0.0         NaN           0.0  \n",
       "\n",
       "[249745 rows x 95 columns]"
      ]
     },
     "execution_count": 35,
     "metadata": {},
     "output_type": "execute_result"
    }
   ],
   "source": [
    "GUVCat_85_90"
   ]
  },
  {
   "cell_type": "markdown",
   "id": "c46acf6b",
   "metadata": {},
   "source": [
    "If we wanted to display only the GALEX identifiers for example, we would have to provide between brackets the column name 'objid' as follows:"
   ]
  },
  {
   "cell_type": "code",
   "execution_count": 34,
   "id": "d01b9cdb",
   "metadata": {},
   "outputs": [
    {
     "name": "stdout",
     "output_type": "stream",
     "text": [
      "0         6374856500725153893\n",
      "1         6374856500725153904\n",
      "2         6374856500725153905\n",
      "3         6374856500725153908\n",
      "4         6374856500725153909\n",
      "                 ...         \n",
      "249740    6379324897726826393\n",
      "249741    6379324897726826691\n",
      "249742    6379324897728922302\n",
      "249743    6379324897728922714\n",
      "249744    6379324897728922891\n",
      "Name: objid, Length: 249745, dtype: int64\n"
     ]
    }
   ],
   "source": [
    "print(GUVCat_85_90['objid'])"
   ]
  },
  {
   "cell_type": "markdown",
   "id": "0cf03a30",
   "metadata": {},
   "source": [
    "This returns a specific column from our data frame. If, on the other hand, we want to access a specific row we could do so by specifying the row number with the _iloc_ function:"
   ]
  },
  {
   "cell_type": "code",
   "execution_count": 36,
   "id": "f54f57f3",
   "metadata": {},
   "outputs": [
    {
     "name": "stdout",
     "output_type": "stream",
     "text": [
      "objid             6374856500725153893\n",
      "photoextractid    6374856500724105216\n",
      "mpstype                           AIS\n",
      "avaspra                    187.732563\n",
      "avaspdec                    29.523348\n",
      "                         ...         \n",
      "diffnuvdist                       0.0\n",
      "sepas                             0.0\n",
      "sepasdist                         0.0\n",
      "inlargeobj                        NaN\n",
      "largeobjsize                      0.0\n",
      "Name: 0, Length: 95, dtype: object\n"
     ]
    }
   ],
   "source": [
    "print(GUVCat_85_90.iloc[0])"
   ]
  },
  {
   "cell_type": "markdown",
   "id": "1734a399",
   "metadata": {},
   "source": [
    "Finally, if we wanted to display only a specific value from our data-frame we would need to specify the row number and the column name:"
   ]
  },
  {
   "cell_type": "code",
   "execution_count": 43,
   "id": "1af0760d",
   "metadata": {},
   "outputs": [
    {
     "name": "stdout",
     "output_type": "stream",
     "text": [
      "GUVCat_85_90.iloc[0][objid] =  6374856500725153893\n"
     ]
    }
   ],
   "source": [
    "print('GUVCat_85_90.iloc[0][objid] = ',GUVCat_85_90.iloc[0]['objid'])"
   ]
  },
  {
   "cell_type": "markdown",
   "id": "fc8d4f7d",
   "metadata": {},
   "source": [
    "## Data reduction\n",
    "\n",
    "Before making any selection cuts, let's see how many sources we have in the selected catalog:"
   ]
  },
  {
   "cell_type": "code",
   "execution_count": 3,
   "id": "cab62b91",
   "metadata": {},
   "outputs": [
    {
     "name": "stdout",
     "output_type": "stream",
     "text": [
      "Number of elements: 249745\n"
     ]
    }
   ],
   "source": [
    "n_total = len(GUVCat_85_90)\n",
    "print('Number of elements: '+str(len(GUVCat_85_90)))"
   ]
  },
  {
   "cell_type": "markdown",
   "id": "ee743017",
   "metadata": {},
   "source": [
    "### Selection criteria: NUV and FUV magnitudes\n",
    "\n",
    "Since we want to create a color-color comparison between the FUV and NUV magnitudes in the GALEX catalog, we must ensure that all the selected sources have both. This selection cut can be performed by ensuring that _band = 3_ since the _band_ tag corresponds to the band number and can be:\n",
    "- _band = 1_: NUV\n",
    "- _band = 2_: FUV\n",
    "- _band = 3_: both NUV and FUV"
   ]
  },
  {
   "cell_type": "code",
   "execution_count": 18,
   "id": "d6ae8a7a",
   "metadata": {},
   "outputs": [
    {
     "name": "stdout",
     "output_type": "stream",
     "text": [
      "0         1\n",
      "1         1\n",
      "2         1\n",
      "3         1\n",
      "4         1\n",
      "         ..\n",
      "249740    1\n",
      "249741    1\n",
      "249742    3\n",
      "249743    3\n",
      "249744    3\n",
      "Name: band, Length: 249745, dtype: int64\n"
     ]
    }
   ],
   "source": [
    "print(GUVCat_85_90['band'])"
   ]
  },
  {
   "cell_type": "markdown",
   "id": "7f444413",
   "metadata": {},
   "source": [
    "Let's first apply this selection cut and see how many elements we have remaining in our data-frame:"
   ]
  },
  {
   "cell_type": "code",
   "execution_count": 4,
   "id": "ddc0d3a5",
   "metadata": {},
   "outputs": [
    {
     "name": "stdout",
     "output_type": "stream",
     "text": [
      "Number of elements (band = 3): 36434\n"
     ]
    }
   ],
   "source": [
    "GUVCat_85_90 = GUVCat_85_90[GUVCat_85_90['band'] == 3]\n",
    "n_cut1 = len(GUVCat_85_90)\n",
    "print('Number of elements (band = 3): '+str(len(GUVCat_85_90)))"
   ]
  },
  {
   "cell_type": "markdown",
   "id": "a21ba154",
   "metadata": {},
   "source": [
    "### Selection criteria: only one source present\n",
    "\n",
    "Now, let's ensure that this observation only corresponds to one source. This can be done using the tag _gRank_, which can have the following values:\n",
    "- _gRank = 0_ if the are no other sources (from different observations) within 2.5\"\n",
    "- _gRank = 1_ if this is the best source of >1 sources within 2.5\"\n",
    "- _gRank = -1_ if this is a primary but has a better source within 2.5\"\n",
    "- _gRank = n (n>1)_ is this is the $n_{th}$ source within 2.5\" of the primary\n",
    "\n",
    "And as displayed below, our sample contains different values for the _gRank_ tag:"
   ]
  },
  {
   "cell_type": "code",
   "execution_count": 52,
   "id": "3cec14eb",
   "metadata": {},
   "outputs": [
    {
     "name": "stdout",
     "output_type": "stream",
     "text": [
      "11272    0\n",
      "11273    1\n",
      "11274    0\n",
      "11275    0\n",
      "11276    0\n",
      "11277    0\n",
      "11278    0\n",
      "11279    0\n",
      "11280    0\n",
      "11281    1\n",
      "11282    0\n",
      "11283    0\n",
      "11284    0\n",
      "11285    0\n",
      "11286    0\n",
      "Name: gRank, dtype: int64\n"
     ]
    }
   ],
   "source": [
    "print(GUVCat_85_90['gRank'][1035:1050])"
   ]
  },
  {
   "cell_type": "markdown",
   "id": "be316c55",
   "metadata": {},
   "source": [
    "So in this case our selection criteria will be: _gRank = 0_"
   ]
  },
  {
   "cell_type": "code",
   "execution_count": 5,
   "id": "542923f7",
   "metadata": {},
   "outputs": [
    {
     "name": "stdout",
     "output_type": "stream",
     "text": [
      "Number of elements (band = 3, gRank = 0): 33584\n"
     ]
    }
   ],
   "source": [
    "GUVCat_85_90 = GUVCat_85_90[GUVCat_85_90['gRank'] == 0]\n",
    "n_cut2 = len(GUVCat_85_90)\n",
    "print('Number of elements (band = 3, gRank = 0): '+str(len(GUVCat_85_90)))"
   ]
  },
  {
   "cell_type": "markdown",
   "id": "5002ba92",
   "metadata": {},
   "source": [
    "### Selection criteria: not an extended object\n",
    "\n",
    "Additionally, the GALEX catalog also provides a tag, _inlargeobj_, to identify if the observation is in the footprint of an extended object, such a galaxy or a cluster. If an extended object is present it will have the following form: _inlargeobj = XX:name-of-the-extended-object_, with XX having the following possible values:\n",
    "- GA = galaxy\n",
    "- GC = Globular cluster\n",
    "- OC = open cluster\n",
    "- SC = other stellar clusters\n",
    "\n",
    "If no extended object is present, this tag will be null (NaN value), which will be our selection cut criteria."
   ]
  },
  {
   "cell_type": "code",
   "execution_count": 77,
   "id": "e30245f8",
   "metadata": {},
   "outputs": [
    {
     "name": "stdout",
     "output_type": "stream",
     "text": [
      "1861    OC:MELOTTE111\n",
      "1862    OC:MELOTTE111\n",
      "1863    OC:MELOTTE111\n",
      "1864    OC:MELOTTE111\n",
      "1865    OC:MELOTTE111\n",
      "1866    OC:MELOTTE111\n",
      "1867    OC:MELOTTE111\n",
      "1868    OC:MELOTTE111\n",
      "1869    OC:MELOTTE111\n",
      "1870              NaN\n",
      "1873    OC:MELOTTE111\n",
      "1875              NaN\n",
      "1877    OC:MELOTTE111\n",
      "1878    OC:MELOTTE111\n",
      "1880              NaN\n",
      "1881              NaN\n",
      "1882    OC:MELOTTE111\n",
      "1883    OC:MELOTTE111\n",
      "1884              NaN\n",
      "1885    OC:MELOTTE111\n",
      "Name: inlargeobj, dtype: object\n"
     ]
    }
   ],
   "source": [
    "print(GUVCat_85_90['inlargeobj'][70:90])"
   ]
  },
  {
   "cell_type": "code",
   "execution_count": 6,
   "id": "5b4724a4",
   "metadata": {},
   "outputs": [
    {
     "name": "stdout",
     "output_type": "stream",
     "text": [
      "Number of elements (band = 3, gRank = 0, inlargeobj = NaN): 32607\n"
     ]
    }
   ],
   "source": [
    "GUVCat_85_90 = GUVCat_85_90[GUVCat_85_90['inlargeobj'].isnull()]\n",
    "n_cut3 = len(GUVCat_85_90)\n",
    "print('Number of elements (band = 3, gRank = 0, inlargeobj = NaN): '+str(len(GUVCat_85_90)))"
   ]
  },
  {
   "cell_type": "markdown",
   "id": "13926611",
   "metadata": {
    "variables": {
     " n_cut1 ": "36434",
     " n_cut2 ": "33584",
     " n_cut3 ": "32607",
     " n_total ": "249745"
    }
   },
   "source": [
    "### Summary of data reduction\n",
    "\n",
    "So, as a summary, these are the selection cuts we have performed in the original data set:\n",
    "\n",
    "| Selection cut | Number of elements |\n",
    "| :-: | :-: |\n",
    "| Original table | {{ n_total }} |\n",
    "| Both NUV and FUV magnitudes | {{ n_cut1 }} |\n",
    "| Only one object inside 2.5\" | {{ n_cut2 }} |\n",
    "| No extended object | {{ n_cut3 }} |"
   ]
  },
  {
   "cell_type": "markdown",
   "id": "79d69184",
   "metadata": {},
   "source": [
    "## Color-color diagram"
   ]
  },
  {
   "cell_type": "code",
   "execution_count": 28,
   "id": "fd16e10b",
   "metadata": {},
   "outputs": [
    {
     "data": {
      "image/png": "[encoded data removed]",
      "text/plain": [
       "<Figure size 432x288 with 1 Axes>"
      ]
     },
     "metadata": {
      "needs_background": "light"
     },
     "output_type": "display_data"
    }
   ],
   "source": [
    "fig = plt.figure()\n",
    "ax = fig.add_subplot(111)\n",
    "plt.plot(GUVCat_85_90['nuv_mag'],GUVCat_85_90['fuv_mag'],'o',markersize=1.5)\n",
    "plt.plot([11, 24], [11, 24], ls=\"--\", c=\".3\")\n",
    "plt.xlim([11,24])\n",
    "plt.ylim([11,24])\n",
    "ax.set_aspect('equal')\n",
    "plt.xlabel('NUV')\n",
    "plt.ylabel('FUV')\n",
    "plt.show()"
   ]
  },
  {
   "cell_type": "markdown",
   "id": "9a594c14",
   "metadata": {},
   "source": [
    "## Exercises\n",
    "\n",
    "## Additional Resources\n",
    "\n",
    "For more information about the MAST archive and details about mission data: \n",
    "\n",
    "<a href=\"https://mast.stsci.edu/api/v0/index.html\">MAST API</a> <br>\n",
    "<a href=\"https://archive.stsci.edu/hlsp/guvcat\">GALEX UV Unique Source Catalogs</a> <br> \n",
    "<a href=\"https://archive.stsci.edu/prepds/gphoton/\">gPhoton: A Time-Tagged Database Of Every GALEX Photon Event</a>\n",
    "\n",
    "## About this Notebook\n",
    "\n",
    "**Author**: Clara Puerto Sánchez <br>\n",
    "**Updated on**: 18/07/2022\n",
    "\n",
    "<img style=\"float: right;\" src=\"https://raw.githubusercontent.com/spacetelescope/notebooks/master/assets/stsci_pri_combo_mark_horizonal_white_bkgd.png\" alt=\"Space Telescope Logo\" width=\"200px\"/>"
   ]
  }
 ],
 "metadata": {
  "kernelspec": {
   "display_name": "Python 3",
   "language": "python",
   "name": "python3"
  },
  "language_info": {
   "codemirror_mode": {
    "name": "ipython",
    "version": 3
   },
   "file_extension": ".py",
   "mimetype": "text/x-python",
   "name": "python",
   "nbconvert_exporter": "python",
   "pygments_lexer": "ipython3",
   "version": "3.8.8"
  }
 },
 "nbformat": 4,
 "nbformat_minor": 5
}
