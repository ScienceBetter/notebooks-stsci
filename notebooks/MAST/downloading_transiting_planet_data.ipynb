{
 "cells": [
  {
   "cell_type": "markdown",
   "id": "1699b83f",
   "metadata": {},
   "source": [
    "# Downloading Transiting Planet Data\n",
    "\n",
    "Outstanding thoughts:\n",
    "- restricted to transiting planets? See if this works for tau boo."
   ]
  },
  {
   "cell_type": "markdown",
   "id": "0685d115",
   "metadata": {},
   "source": [
    "# Learning Goals\n",
    "\n",
    "By the end of this tutorial, you will:\n",
    "\n",
    "- Understand how MAST makes its transiting exoplanet time-series data accessible.\n",
    "- Be able to download MAST-hosted data for specific exoplanets.\n",
    "- Sort MAST data by attributes (e.g., year, PI)."
   ]
  },
  {
   "cell_type": "markdown",
   "id": "bd48c70a",
   "metadata": {},
   "source": [
    "# Introduction\n",
    "\n",
    "A number of space-based missions — e.g., the Hubble Space Telescope (HST), the Transiting Exoplanet Survey Satellite (TESS), the Spitzer Space Telescope — have taken data of exoplanets and their host stars. MAST aims to make it straightforward to download datasets from these disparate sources. In this tutorial, we will explore how to download MAST-hosted exoplanet data\n"
   ]
  },
  {
   "cell_type": "markdown",
   "id": "36098d34",
   "metadata": {},
   "source": [
    "# Imports\n",
    "\n",
    "- *ast* (Python builtin)\n",
    "- *sys* (Python builtin)\n",
    "- *os* (Python builtin)\n",
    "- *re* (Python builtin)\n",
    "- *json* (Python builtin)\n",
    "- *pprint* (Python builtin*\n",
    "- *requests* (Python builtin)\n",
    "- *urllib.request* (Python builtin) to submit HTTP GET requests and interact with the exo.MAST API. Todo: merge with requests?\n",
    "- *numpy*\n",
    "- *astropy*\n",
    "- *astroquery.mast*"
   ]
  },
  {
   "cell_type": "code",
   "execution_count": 48,
   "id": "d4ffc075",
   "metadata": {},
   "outputs": [],
   "source": [
    "import ast\n",
    "import sys\n",
    "import os\n",
    "import re\n",
    "import json\n",
    "import pprint\n",
    "import requests\n",
    "import urllib.request\n",
    "from urllib.parse import quote as urlencode\n",
    "\n",
    "import numpy as np\n",
    "from astropy.table import unique, Table\n",
    "from astroquery.mast import Observations"
   ]
  },
  {
   "cell_type": "markdown",
   "id": "702c7638",
   "metadata": {},
   "source": [
    "# Main Contents"
   ]
  },
  {
   "cell_type": "markdown",
   "id": "e5e823b5",
   "metadata": {},
   "source": [
    "<img style=\"float: right;\" src=\"https://raw.githubusercontent.com/spacetelescope/notebooks/master/assets/stsci_pri_combo_mark_horizonal_white_bkgd.png\" alt=\"Space Telescope Logo\" width=\"200px\"/>\n"
   ]
  },
  {
   "cell_type": "code",
   "execution_count": null,
   "id": "1d1915cd",
   "metadata": {},
   "outputs": [],
   "source": []
  },
  {
   "cell_type": "markdown",
   "id": "832d6ba0",
   "metadata": {},
   "source": [
    "# Below — draft work from the exo.MAST tutorials.\n",
    "todo\n",
    "\n",
    "- get exo.MAST API going x\n",
    "- extract metadata x\n",
    "- download multiple datasets for individual planet x\n",
    "- sort the datasets by API x\n",
    "- provide astroquery option"
   ]
  },
  {
   "cell_type": "markdown",
   "id": "aaaecaff",
   "metadata": {},
   "source": [
    "## Method 1: exo.MAST\n",
    "\n",
    "[exo.MAST](https://exo.mast.stsci.edu/docs/) is a simplified version of the full MAST API that allows for straightforward querying of exoplanet data products and metadata. Our first approach to downloading these data will use this API.\n",
    "\n",
    "This portion of the tutorial is inspired by the exo.MAST documentation, which can be found [here](https://exo.mast.stsci.edu/docs/getting_started.html)."
   ]
  },
  {
   "cell_type": "markdown",
   "id": "0c83d5fd",
   "metadata": {},
   "source": [
    "First, we'll use a small function that makes, receives, and parses requests to the exo.MAST api."
   ]
  },
  {
   "cell_type": "code",
   "execution_count": 192,
   "id": "3995a3db",
   "metadata": {},
   "outputs": [],
   "source": [
    "def make_exo_mast_query(url_suffix):\n",
    "    \"\"\"Makes a query using the exo.MAST API. Requires internet connection.\n",
    "    \n",
    "     Parameters\n",
    "        ----------\n",
    "        url_suffix (string): the end of the URL for the HTTP GET request.\n",
    "        \n",
    "        Returns head,content where head is the response HTTP headers, and content is the returned data\n",
    "    \"\"\"\n",
    "    request_url = \"https://exo.mast.stsci.edu/api/v0.1/\" + url_suffix\n",
    "    print(request_url)\n",
    "    # make the request\n",
    "    contents = urllib.request.urlopen(request_url).read()\n",
    "    \n",
    "    # we need to decode the returned bytes into a string\n",
    "    dict_str = contents.decode(\"UTF-8\")\n",
    "    \n",
    "    # null is not Pythonic\n",
    "    dict_str = dict_str.replace('null', 'None')\n",
    "    \n",
    "    \n",
    "    # File outputs can't be parsed as dictionaries directly.\n",
    "    try:\n",
    "        # literal_eval is safer than eval!\n",
    "        contents = ast.literal_eval(dict_str)\n",
    "    except:\n",
    "        print('Could not parse')\n",
    "        contents = dict_str\n",
    "        \n",
    "    return contents"
   ]
  },
  {
   "cell_type": "markdown",
   "id": "8e063733",
   "metadata": {},
   "source": [
    "Let's try this out by requesting the identifiers for a planet with multiple names: HAT-P-11 b (Bakos et al. 2010)."
   ]
  },
  {
   "cell_type": "code",
   "execution_count": 181,
   "id": "bf2eaa04",
   "metadata": {},
   "outputs": [
    {
     "name": "stdout",
     "output_type": "stream",
     "text": [
      "https://exo.mast.stsci.edu/api/v0.1/exoplanets/identifiers/?name=HAT-P-11%20b\n"
     ]
    }
   ],
   "source": [
    "planet_name = 'HAT-P-11 b'\n",
    "\n",
    "# need to format the name for the query \n",
    "planet_name_formatted = planet_name.replace(' ', '%20')\n",
    "\n",
    "request_string = f'exoplanets/identifiers/?name={planet_name_formatted}'\n",
    "\n",
    "contents = make_exo_mast_query(request_string)\n"
   ]
  },
  {
   "cell_type": "code",
   "execution_count": 182,
   "id": "23e5a51a",
   "metadata": {},
   "outputs": [
    {
     "data": {
      "text/plain": [
       "{'canonicalName': 'HAT-P-11 b',\n",
       " 'starName': 'HAT-P-11',\n",
       " 'ra': 297.70891666412354,\n",
       " 'dec': 48.080294444825924,\n",
       " 'planetNames': ['HAT-P-11 b',\n",
       "  'Gaia DR1 2086512223550151936 b',\n",
       "  'HIP 97657 b',\n",
       "  'Kepler-3 b',\n",
       "  'G 208-41 b',\n",
       "  'BD+47 2936 b',\n",
       "  'KOI 3 b',\n",
       "  'KIC 10748390 b',\n",
       "  'TYC 3561-2092-1 b',\n",
       "  'NLTT 48335 b',\n",
       "  'LSPM J1950+4804 b',\n",
       "  'USNO-B1.0 1380-00392296 b',\n",
       "  'ASCC 346382 b',\n",
       "  'GSC 03561-02092 b',\n",
       "  '2MASS J19505021+4804508 b',\n",
       "  'HIC 97657 b'],\n",
       " 'keplerID': 10748390,\n",
       " 'keplerTCE': 'TCE_1',\n",
       " 'tessID': 28230919,\n",
       " 'tessTCE': 'TCE_1'}"
      ]
     },
     "execution_count": 182,
     "metadata": {},
     "output_type": "execute_result"
    }
   ],
   "source": [
    "contents"
   ]
  },
  {
   "cell_type": "markdown",
   "id": "14d4e95a",
   "metadata": {},
   "source": [
    "Let's see what files are available for this planet."
   ]
  },
  {
   "cell_type": "code",
   "execution_count": 183,
   "id": "716f314c",
   "metadata": {},
   "outputs": [
    {
     "name": "stdout",
     "output_type": "stream",
     "text": [
      "https://exo.mast.stsci.edu/api/v0.1/spectra/HAT-P-11%20b/filelist/\n"
     ]
    }
   ],
   "source": [
    "# get list of spectra\n",
    "request_string = f'spectra/{planet_name_formatted}/filelist/'\n",
    "\n",
    "contents = make_exo_mast_query(request_string)\n",
    "\n",
    "# /api/v0.1/spectra/Hat-P-11%20b/filelist/ "
   ]
  },
  {
   "cell_type": "code",
   "execution_count": 184,
   "id": "364e9e68",
   "metadata": {},
   "outputs": [
    {
     "data": {
      "text/plain": [
       "{'filenames': ['HAT-P-11b_transmission_Chachan2019.txt',\n",
       "  'HAT-P-11b_transmission_Fraine2014.txt']}"
      ]
     },
     "execution_count": 184,
     "metadata": {},
     "output_type": "execute_result"
    }
   ],
   "source": [
    "contents"
   ]
  },
  {
   "cell_type": "markdown",
   "id": "7c77e51d",
   "metadata": {},
   "source": [
    "There are two files corresponding to spectra for this planet. Next, we can download them."
   ]
  },
  {
   "cell_type": "code",
   "execution_count": 193,
   "id": "87ed1c94",
   "metadata": {},
   "outputs": [
    {
     "name": "stdout",
     "output_type": "stream",
     "text": [
      "https://exo.mast.stsci.edu/api/v0.1/spectra/HAT-P-11%20b/file/HAT-P-11b_transmission_Chachan2019.txt\n",
      "Could not parse\n"
     ]
    }
   ],
   "source": [
    "filename = contents['filenames'][0]\n",
    "request_string = f'spectra/{planet_name_formatted}/file/{filename}'\n",
    "contents = make_exo_mast_query(request_string)"
   ]
  },
  {
   "cell_type": "markdown",
   "id": "719c41a6",
   "metadata": {},
   "source": [
    "We can now write this data to a file."
   ]
  },
  {
   "cell_type": "code",
   "execution_count": 197,
   "id": "fc0aa4d2",
   "metadata": {},
   "outputs": [],
   "source": [
    "with open(filename, 'w') as f:\n",
    "    f.write(contents)"
   ]
  },
  {
   "cell_type": "markdown",
   "id": "27155121",
   "metadata": {},
   "source": [
    "Note, however, that not all MAST data products are accessible by this method. (why is this, exactly?)\n",
    "\n",
    "To download other data products, we turn to other methods."
   ]
  },
  {
   "cell_type": "markdown",
   "id": "7286ed2e",
   "metadata": {},
   "source": [
    "## Method 2: Using astroquery.mast.\n",
    "\n",
    "For more MAST data products, we can make use of the astroquery.mast functionality. This approach requires an additional dependency (the [astroquery](https://astroquery.readthedocs.io/en/latest/) package).\n",
    "\n",
    "This portion of the tutorial is inspired by the astroquery.mast tutorial, which can be found [here](https://astroquery.readthedocs.io/en/latest/mast/mast.html)."
   ]
  },
  {
   "cell_type": "markdown",
   "id": "1e1630b5",
   "metadata": {},
   "source": [
    "First, let's search for all MAST data products for the hottest known exoplanet (at the time of this notebook's creation), KELT-9 b (Gaudi et al. 2017)."
   ]
  },
  {
   "cell_type": "code",
   "execution_count": 10,
   "id": "12ea2d7d",
   "metadata": {},
   "outputs": [
    {
     "name": "stdout",
     "output_type": "stream",
     "text": [
      "intentType obs_collection provenance_name ... srcDen  obsid   distance\n",
      "---------- -------------- --------------- ... ------ -------- --------\n",
      "   science           TESS            SPOC ...    nan 27463634      0.0\n",
      "   science           TESS            SPOC ...    nan 27507601      0.0\n",
      "   science           TESS            SPOC ...    nan 62870780      0.0\n",
      "   science           TESS            SPOC ...    nan 27438495      0.0\n",
      "   science           TESS            SPOC ...    nan 62289546      0.0\n",
      "   science           TESS            SPOC ...    nan 27738172      0.0\n",
      "   science           TESS            SPOC ...    nan 64265088      0.0\n",
      "   science           TESS            SPOC ...    nan 27503032      0.0\n",
      "   science           TESS            SPOC ...    nan 62789905      0.0\n",
      "   science    SPITZER_SHA    SSC Pipeline ...    nan  1637564      0.0\n"
     ]
    }
   ],
   "source": [
    "search_radius = \".02 deg\"\n",
    "\n",
    "planet_name = 'KELT-9 b'\n",
    "obs_table = Observations.query_object(planet_name,radius=search_radius)\n",
    "print(obs_table[:10])  "
   ]
  },
  {
   "cell_type": "code",
   "execution_count": 11,
   "id": "c482e22d",
   "metadata": {},
   "outputs": [
    {
     "data": {
      "text/plain": [
       "<TableColumns names=('intentType','obs_collection','provenance_name','instrument_name','project','filters','wavelength_region','target_name','target_classification','obs_id','s_ra','s_dec','dataproduct_type','proposal_pi','calib_level','t_min','t_max','t_exptime','em_min','em_max','obs_title','t_obs_release','proposal_id','proposal_type','sequence_number','s_region','jpegURL','dataURL','dataRights','mtFlag','srcDen','obsid','distance')>"
      ]
     },
     "execution_count": 11,
     "metadata": {},
     "output_type": "execute_result"
    }
   ],
   "source": [
    "obs_table.columns"
   ]
  },
  {
   "cell_type": "markdown",
   "id": "1497480e",
   "metadata": {},
   "source": [
    "Let's sort these observations by the proposing PI (principal investigator) and filter some columns out."
   ]
  },
  {
   "cell_type": "code",
   "execution_count": 12,
   "id": "00a90068",
   "metadata": {},
   "outputs": [],
   "source": [
    "obs_table.sort('proposal_pi')"
   ]
  },
  {
   "cell_type": "code",
   "execution_count": 18,
   "id": "4eb15424",
   "metadata": {},
   "outputs": [
    {
     "name": "stdout",
     "output_type": "stream",
     "text": [
      "     proposal_pi      provenance_name dataproduct_type\n",
      "--------------------- --------------- ----------------\n",
      "     Chelsea X. Huang             QLP       timeseries\n",
      "     Chelsea X. Huang             QLP       timeseries\n",
      "  Douglas A. Caldwell       TESS-SPOC       timeseries\n",
      "  Douglas A. Caldwell       TESS-SPOC       timeseries\n",
      "Lothringer, Joshua D.         CALSTIS            image\n",
      "Lothringer, Joshua D.         CALSTIS            image\n",
      "Lothringer, Joshua D.         CALSTIS         spectrum\n",
      "Lothringer, Joshua D.         CALSTIS         spectrum\n",
      "Lothringer, Joshua D.         CALSTIS         spectrum\n",
      "Lothringer, Joshua D.         CALSTIS         spectrum\n",
      "                  ...             ...              ...\n",
      "       Ricker, George            SPOC       timeseries\n",
      "       Ricker, George            SPOC       timeseries\n",
      "       Ricker, George            SPOC       timeseries\n",
      "       Ricker, George            SPOC            image\n",
      "       Ricker, George            SPOC       timeseries\n",
      "       Ricker, George            SPOC       timeseries\n",
      "        Zhang, Qizhou    SSC Pipeline            image\n",
      "        Zhang, Qizhou    SSC Pipeline            image\n",
      "        Zhang, Qizhou    SSC Pipeline            image\n",
      "        Zhang, Qizhou    SSC Pipeline            image\n",
      "        Zhang, Qizhou    SSC Pipeline            image\n",
      "Length = 484 rows\n"
     ]
    }
   ],
   "source": [
    "print(obs_table[['proposal_pi', 'provenance_name', 'dataproduct_type']])"
   ]
  },
  {
   "cell_type": "markdown",
   "id": "1a6eedf5",
   "metadata": {},
   "source": [
    "If we're interested in a specific instrument, we can next see which instruments observed this target."
   ]
  },
  {
   "cell_type": "code",
   "execution_count": 26,
   "id": "c6cbd323",
   "metadata": {},
   "outputs": [],
   "source": [
    "from astropy.table import unique"
   ]
  },
  {
   "cell_type": "code",
   "execution_count": 32,
   "id": "45f181a7",
   "metadata": {},
   "outputs": [
    {
     "name": "stdout",
     "output_type": "stream",
     "text": [
      "provenance_name\n",
      "---------------\n",
      "            3PI\n",
      "        CALSTIS\n",
      "         CALWF3\n",
      "            HAP\n",
      "            QLP\n",
      "           SPOC\n",
      "   SSC Pipeline\n",
      "      TESS-SPOC\n"
     ]
    }
   ],
   "source": [
    "print(unique(obs_table,  keys=['provenance_name'])['provenance_name'])"
   ]
  },
  {
   "cell_type": "markdown",
   "id": "4987adba",
   "metadata": {},
   "source": [
    "Great! In just a few lines, we've collected the metadata for many observations of this target into an astropy Table. Next, let's see what data products are available for the most recent QLP observation."
   ]
  },
  {
   "cell_type": "code",
   "execution_count": 38,
   "id": "97835290",
   "metadata": {},
   "outputs": [
    {
     "name": "stdout",
     "output_type": "stream",
     "text": [
      " obsID   obs_collection dataproduct_type ... parent_obsid dataRights calib_level\n",
      "-------- -------------- ---------------- ... ------------ ---------- -----------\n",
      "42044416           HLSP       timeseries ...     42044416     PUBLIC           4\n",
      "42044416           HLSP       timeseries ...     42044416     PUBLIC           4\n"
     ]
    }
   ],
   "source": [
    "obs_table_qlp = obs_table[obs_table['provenance_name']=='QLP']\n",
    "obs_table_qlp.sort('t_min')\n",
    "data_products_by_obs = Observations.get_product_list(obs_table_qlp[-1])\n",
    "print(data_products_by_obs) "
   ]
  },
  {
   "cell_type": "markdown",
   "id": "e086d0f7",
   "metadata": {},
   "source": [
    "There are two timeseries data products. Let's download the first one. "
   ]
  },
  {
   "cell_type": "code",
   "execution_count": 40,
   "id": "e2062d1e",
   "metadata": {},
   "outputs": [
    {
     "data": {
      "text/plain": [
       "<TableColumns names=('obsID','obs_collection','dataproduct_type','obs_id','description','type','dataURI','productType','productGroupDescription','productSubGroupDescription','productDocumentationURL','project','prvversion','proposal_id','productFilename','size','parent_obsid','dataRights','calib_level')>"
      ]
     },
     "execution_count": 40,
     "metadata": {},
     "output_type": "execute_result"
    }
   ],
   "source": [
    "data_products_by_obs.columns"
   ]
  },
  {
   "cell_type": "code",
   "execution_count": 44,
   "id": "4f8b8237",
   "metadata": {},
   "outputs": [
    {
     "name": "stdout",
     "output_type": "stream",
     "text": [
      "Downloading URL https://mast.stsci.edu/api/v0.1/Download/file?uri=mast:HLSP/qlp/s0015/0000/0000/1674/0101/hlsp_qlp_tess_ffi_s0015-0000000016740101_tess_v01_llc.fits to ./mastDownload/HLSP/hlsp_qlp_tess_ffi_s0015-0000000016740101_tess_v01_llc/hlsp_qlp_tess_ffi_s0015-0000000016740101_tess_v01_llc.fits ... [Done]\n",
      "Downloading URL https://mast.stsci.edu/api/v0.1/Download/file?uri=mast:HLSP/qlp/s0015/0000/0000/1674/0101/hlsp_qlp_tess_ffi_s0015-0000000016740101_tess_v01_llc.txt to ./mastDownload/HLSP/hlsp_qlp_tess_ffi_s0015-0000000016740101_tess_v01_llc/hlsp_qlp_tess_ffi_s0015-0000000016740101_tess_v01_llc.txt ... [Done]\n"
     ]
    }
   ],
   "source": [
    "obs_collection = data_products_by_obs['obs_collection'][0]\n",
    "obs_id = data_products_by_obs['obs_id'][0]\n",
    "\n",
    "single_obs = Observations.query_criteria(obs_collection=obs_collection, obs_id=obs_id)\n",
    "data_products = Observations.get_product_list(single_obs)\n",
    "\n",
    "manifest = Observations.download_products(data_products, productType=\"SCIENCE\")"
   ]
  },
  {
   "cell_type": "code",
   "execution_count": 45,
   "id": "de0a0c3a",
   "metadata": {},
   "outputs": [
    {
     "name": "stdout",
     "output_type": "stream",
     "text": [
      "                                                             Local Path                                                              ...\n",
      "------------------------------------------------------------------------------------------------------------------------------------ ...\n",
      "./mastDownload/HLSP/hlsp_qlp_tess_ffi_s0015-0000000016740101_tess_v01_llc/hlsp_qlp_tess_ffi_s0015-0000000016740101_tess_v01_llc.fits ...\n",
      " ./mastDownload/HLSP/hlsp_qlp_tess_ffi_s0015-0000000016740101_tess_v01_llc/hlsp_qlp_tess_ffi_s0015-0000000016740101_tess_v01_llc.txt ...\n"
     ]
    }
   ],
   "source": [
    "print(manifest)"
   ]
  },
  {
   "cell_type": "markdown",
   "id": "3d0a9a43",
   "metadata": {},
   "source": [
    "We've now successfully downloaded MAST data using the astroquery.mast API."
   ]
  },
  {
   "cell_type": "markdown",
   "id": "6e5337b0",
   "metadata": {},
   "source": [
    "## Method 3: Directly using the MAST API.\n",
    "The final approach is a bit more hands-on and requires more code, but it allows for the most flexibility. Additionally, it provides the most insight into what's going on \"under the hood\" with the MAST requests. This approach requires the [Astropy](https://www.astropy.org/) and [NumPy](https://numpy.org/) dependencies.\n",
    "\n",
    "This portion of the tutorial is inspired by the general MAST API tutorial, which can be found [here](_https://mast.stsci.edu/api/v0/MastApiTutorial.html)."
   ]
  },
  {
   "cell_type": "code",
   "execution_count": 49,
   "id": "c2878b6c",
   "metadata": {},
   "outputs": [],
   "source": [
    "pp = pprint.PrettyPrinter(indent=4)"
   ]
  },
  {
   "cell_type": "markdown",
   "id": "89233354",
   "metadata": {},
   "source": [
    "We'll start by defining a function that processes MAST queries."
   ]
  },
  {
   "cell_type": "code",
   "execution_count": 58,
   "id": "fef34033",
   "metadata": {},
   "outputs": [],
   "source": [
    "def mast_query(request):\n",
    "    \"\"\"Perform a MAST query.\n",
    "    \n",
    "        Parameters\n",
    "        ----------\n",
    "        request (dictionary): The MAST request json object\n",
    "        \n",
    "        Returns head,content where head is the response HTTP headers, and content is the returned data\"\"\"\n",
    "    \n",
    "    # Base API url\n",
    "    request_url='https://mast.stsci.edu/api/v0/invoke'    \n",
    "    \n",
    "    # Grab Python Version \n",
    "    version = \".\".join(map(str, sys.version_info[:3]))\n",
    "\n",
    "    # Create HTTP Header Variables\n",
    "    headers = {\"Content-type\": \"application/x-www-form-urlencoded\",\n",
    "               \"Accept\": \"text/plain\",\n",
    "               \"User-agent\":\"python-requests/\"+version}\n",
    "\n",
    "    # Encoding the request as a json string\n",
    "    req_string = json.dumps(request)\n",
    "    req_string = urlencode(req_string)\n",
    "    \n",
    "    # Perform the HTTP request\n",
    "    resp = requests.post(request_url, data=\"request=\"+req_string, headers=headers)\n",
    "    \n",
    "    # Pull out the headers and response content\n",
    "    head = resp.headers\n",
    "    content = resp.content.decode('utf-8')\n",
    "\n",
    "    return head, content"
   ]
  },
  {
   "cell_type": "markdown",
   "id": "57775c38",
   "metadata": {},
   "source": [
    "Sticking with out previous example, let's look at the planet KELT-9 b."
   ]
  },
  {
   "cell_type": "code",
   "execution_count": 59,
   "id": "159da2a8",
   "metadata": {},
   "outputs": [
    {
     "name": "stdout",
     "output_type": "stream",
     "text": [
      "{   'resolvedCoordinate': [   {   'cached': False,\n",
      "                                  'canonicalName': 'KELT-9 b',\n",
      "                                  'decl': 39.938828,\n",
      "                                  'ra': 307.859802,\n",
      "                                  'resolver': 'EXO',\n",
      "                                  'resolverTime': 35,\n",
      "                                  'searchRadius': 0.000333,\n",
      "                                  'searchString': 'kelt-9 b'}],\n",
      "    'status': ''}\n"
     ]
    }
   ],
   "source": [
    "object_of_interest = 'KELT-9 b'\n",
    "\n",
    "resolver_request = {'service':'Mast.Name.Lookup',\n",
    "                     'params':{'input':object_of_interest,\n",
    "                               'format':'json'},\n",
    "                     }\n",
    "\n",
    "headers, resolved_object_string = mast_query(resolver_request)\n",
    "\n",
    "resolved_object = json.loads(resolved_object_string)\n",
    "\n",
    "pp.pprint(resolved_object)"
   ]
  },
  {
   "cell_type": "markdown",
   "id": "1a8e0924",
   "metadata": {},
   "source": [
    "TODO: complete.\n",
    "Parsing apart the output:\n",
    "- the *cached* field denotes whether this result has already been saved on this device.\n",
    "- the *canonicalName* field denotes the default name of the planet.\n",
    "- the *decl* field denotes the declination of the resolved coordinate.\n",
    "- the *ra* field denotes the right ascention of the resolved coordinate.\n",
    "- the *resolver* field denotes which algorithm (?) was used to determine this coordinate.\n",
    "- the *resolverTime* field denotes how long the resolver took to resolve the coordinate (in ms?)\n",
    "- the *searchRadius* field denotes the raidius of the search.\n",
    "- the *searchString* field denotes ..."
   ]
  },
  {
   "cell_type": "markdown",
   "id": "d5477ac0",
   "metadata": {},
   "source": [
    "Now that we've resolved our target, let's save its coordinates as variables — we'll need them later on."
   ]
  },
  {
   "cell_type": "code",
   "execution_count": 63,
   "id": "71d77ac8",
   "metadata": {},
   "outputs": [],
   "source": [
    "obj_ra = resolved_object['resolvedCoordinate'][0]['ra']\n",
    "obj_dec = resolved_object['resolvedCoordinate'][0]['decl']"
   ]
  },
  {
   "cell_type": "markdown",
   "id": "7828e71f",
   "metadata": {},
   "source": [
    "With the coordinates of the object now known, we can run a *Mast.Caom.Cone* query to retrieve metadata on all MAST data around this coordinate."
   ]
  },
  {
   "cell_type": "code",
   "execution_count": 64,
   "id": "3d9ea1ef",
   "metadata": {},
   "outputs": [
    {
     "name": "stdout",
     "output_type": "stream",
     "text": [
      "dict_keys(['status', 'msg', 'data', 'fields', 'paging'])\n",
      "Query status: COMPLETE\n"
     ]
    }
   ],
   "source": [
    "mast_request = {'service':'Mast.Caom.Cone',\n",
    "                'params':{'ra':obj_ra,\n",
    "                          'dec':obj_dec,\n",
    "                          'radius':0.2},\n",
    "                'format':'json',\n",
    "                'pagesize':2000,\n",
    "                'page':1,\n",
    "                'removenullcolumns':True,\n",
    "                'removecache':True}\n",
    "\n",
    "headers, mast_data_str = mast_query(mast_request)\n",
    "\n",
    "mast_data = json.loads(mast_data_str)\n",
    "\n",
    "print(mast_data.keys())\n",
    "print(\"Query status:\",mast_data['status'])"
   ]
  },
  {
   "cell_type": "markdown",
   "id": "40db47d2",
   "metadata": {},
   "source": [
    "Let's take a look at the first returned data entry."
   ]
  },
  {
   "cell_type": "code",
   "execution_count": 71,
   "id": "f24af07d",
   "metadata": {},
   "outputs": [
    {
     "name": "stdout",
     "output_type": "stream",
     "text": [
      "{   '_selected_': None,\n",
      "    'calib_level': 3,\n",
      "    'dataRights': 'PUBLIC',\n",
      "    'dataURL': None,\n",
      "    'dataproduct_type': 'image',\n",
      "    'distance': 0,\n",
      "    'em_max': 1000,\n",
      "    'em_min': 600,\n",
      "    'filters': 'TESS',\n",
      "    'instrument_name': 'Photometer',\n",
      "    'intentType': 'science',\n",
      "    'jpegURL': None,\n",
      "    'mtFlag': False,\n",
      "    'obs_collection': 'TESS',\n",
      "    'obs_id': 'tess-s0014-1-1',\n",
      "    'obs_title': None,\n",
      "    'obsid': 27463634,\n",
      "    'project': 'TESS',\n",
      "    'proposal_id': 'N/A',\n",
      "    'proposal_pi': 'Ricker, George',\n",
      "    'proposal_type': None,\n",
      "    'provenance_name': 'SPOC',\n",
      "    's_dec': 36.61972021218414,\n",
      "    's_ra': 302.9980114101316,\n",
      "    's_region': 'POLYGON 308.95392100 43.37522300 311.73120300 32.09753200 '\n",
      "                '297.85740500 29.35212600 293.43516500 40.69926700 '\n",
      "                '308.95392100 43.37522300 ',\n",
      "    'sequence_number': 14,\n",
      "    'srcDen': None,\n",
      "    't_exptime': 1425.599392,\n",
      "    't_max': 58709.6904649,\n",
      "    't_min': 58682.8568767,\n",
      "    't_obs_release': 58739.3333334,\n",
      "    'target_classification': None,\n",
      "    'target_name': 'TESS FFI',\n",
      "    'wavelength_region': 'Optical'}\n"
     ]
    }
   ],
   "source": [
    "pp.pprint(mast_data['data'][0])"
   ]
  },
  {
   "cell_type": "markdown",
   "id": "d409c802",
   "metadata": {},
   "source": [
    "There's a lot of metadata here, and it's a bit hard to understand all at once. To make things a bit more digestible, we can create an astropy Table."
   ]
  },
  {
   "cell_type": "code",
   "execution_count": 75,
   "id": "0e85efe4",
   "metadata": {},
   "outputs": [
    {
     "name": "stdout",
     "output_type": "stream",
     "text": [
      "intentType obs_collection provenance_name ...      distance     _selected_\n",
      "---------- -------------- --------------- ... ----------------- ----------\n",
      "   science           TESS            SPOC ...               0.0      False\n",
      "   science           TESS            SPOC ...               0.0      False\n",
      "   science           TESS            SPOC ...               0.0      False\n",
      "   science           TESS            SPOC ...               0.0      False\n",
      "   science           TESS            SPOC ...               0.0      False\n",
      "   science           TESS            SPOC ...               0.0      False\n",
      "   science           TESS            SPOC ...               0.0      False\n",
      "   science           TESS            SPOC ...               0.0      False\n",
      "   science           TESS            SPOC ...               0.0      False\n",
      "   science           TESS            SPOC ... 234.2112731662015      False\n",
      "       ...            ...             ... ...               ...        ...\n",
      "   science           HLSP             QLP ... 703.8590838078958      False\n",
      "   science           HLSP             QLP ... 703.8590838078958      False\n",
      "   science           HLSP       TESS-SPOC ... 703.8590838078958      False\n",
      "   science           HLSP       TESS-SPOC ... 703.8590838078958      False\n",
      "   science           HLSP             QLP ... 707.0135308379384      False\n",
      "   science           HLSP             QLP ... 707.0135308379384      False\n",
      "   science           HLSP             QLP ... 715.5128228733198      False\n",
      "   science           HLSP             QLP ... 715.5128228733198      False\n",
      "   science           HLSP             QLP ... 715.8141642235759      False\n",
      "   science           HLSP             QLP ... 715.8141642235759      False\n",
      "   science          GALEX             AIS ... 639.7441198254168      False\n",
      "Length = 818 rows\n"
     ]
    }
   ],
   "source": [
    "mast_data_table = Table()\n",
    "\n",
    "for col,atype in [(x['name'],x['type']) for x in mast_data['fields']]:\n",
    "    if atype==\"string\":\n",
    "        atype=\"str\"\n",
    "    if atype==\"boolean\":\n",
    "        atype=\"bool\"\n",
    "    mast_data_table[col] = np.array([x.get(col,None) for x in mast_data['data']],dtype=atype)\n",
    "    \n",
    "print(mast_data_table)"
   ]
  },
  {
   "cell_type": "code",
   "execution_count": 77,
   "id": "08ab17e8",
   "metadata": {},
   "outputs": [],
   "source": [
    "mast_data_table.sort('t_min')"
   ]
  },
  {
   "cell_type": "markdown",
   "id": "66926665",
   "metadata": {},
   "source": [
    "With our metadata all acquired, we can now sort it based on, e.g., start date."
   ]
  },
  {
   "cell_type": "code",
   "execution_count": 79,
   "id": "615d3933",
   "metadata": {
    "scrolled": false
   },
   "outputs": [
    {
     "name": "stdout",
     "output_type": "stream",
     "text": [
      "intentType obs_collection provenance_name ...      distance      _selected_\n",
      "---------- -------------- --------------- ... ------------------ ----------\n",
      "   science    SPITZER_SHA    SSC Pipeline ... 172.30626398254242      False\n",
      "   science    SPITZER_SHA    SSC Pipeline ... 151.76228426688647      False\n",
      "   science    SPITZER_SHA    SSC Pipeline ...                0.0      False\n",
      "   science    SPITZER_SHA    SSC Pipeline ...                0.0      False\n",
      "   science    SPITZER_SHA    SSC Pipeline ...                0.0      False\n",
      "   science    SPITZER_SHA    SSC Pipeline ...                0.0      False\n",
      "   science    SPITZER_SHA    SSC Pipeline ...                0.0      False\n",
      "   science    SPITZER_SHA    SSC Pipeline ... 384.97796310839624      False\n",
      "   science    SPITZER_SHA    SSC Pipeline ... 376.62804765008394      False\n",
      "   science    SPITZER_SHA    SSC Pipeline ...  436.5437779039631      False\n",
      "       ...            ...             ... ...                ...        ...\n",
      "   science            HST             HAP ... 226.01579496557588      False\n",
      "   science            HST          CALWF3 ... 226.02544305239934      False\n",
      "   science            HST          CALWF3 ... 226.02544305239934      False\n",
      "   science            HST             HAP ...  225.9431018959691      False\n",
      "   science            HST             HAP ... 225.96658554923158      False\n",
      "   science            HST         CALSTIS ...                0.0      False\n",
      "   science            HST         CALSTIS ... 0.4823109257144444      False\n",
      "   science            HST         CALSTIS ...   0.48233157062371      False\n",
      "   science            HST         CALSTIS ...   0.48233157062371      False\n",
      "   science            HST         CALSTIS ...   0.48233157062371      False\n",
      "   science            HST         CALSTIS ...   0.48233157062371      False\n",
      "Length = 818 rows\n"
     ]
    }
   ],
   "source": [
    "print(mast_data_table)"
   ]
  },
  {
   "cell_type": "markdown",
   "id": "f3afc572",
   "metadata": {},
   "source": [
    "Let's get most recent Hubble Space Telescope (HST) data product."
   ]
  },
  {
   "cell_type": "code",
   "execution_count": 80,
   "id": "ae5c2857",
   "metadata": {},
   "outputs": [
    {
     "name": "stdout",
     "output_type": "stream",
     "text": [
      "Observation: ['spectrum', 'HST', 'STIS/NUV-MAMA']\n"
     ]
    }
   ],
   "source": [
    "# Picking the first Hubble Space Telescope observation\n",
    "interesting_observation = mast_data_table[mast_data_table[\"obs_collection\"] == \"HST\"][-1]\n",
    "print(\"Observation:\",\n",
    "      [interesting_observation[x] for x in ['dataproduct_type', 'obs_collection', 'instrument_name']])"
   ]
  },
  {
   "cell_type": "markdown",
   "id": "435c104d",
   "metadata": {},
   "source": [
    "It appears that the latest HST data for this target is a STIS (what's that acronym?) spectrum.\n",
    "\n",
    "We can now make another MAST query to determine how many data products are associated with this observation."
   ]
  },
  {
   "cell_type": "code",
   "execution_count": 81,
   "id": "c555785a",
   "metadata": {},
   "outputs": [
    {
     "name": "stdout",
     "output_type": "stream",
     "text": [
      "Number of data products: 15\n",
      "Product information column names:\n",
      "[   {'name': 'obsID', 'type': 'string'},\n",
      "    {'name': 'obs_collection', 'type': 'string'},\n",
      "    {'name': 'dataproduct_type', 'type': 'string'},\n",
      "    {'name': 'obs_id', 'type': 'string'},\n",
      "    {'name': 'description', 'type': 'string'},\n",
      "    {'name': 'type', 'type': 'string'},\n",
      "    {'name': 'dataURI', 'type': 'string'},\n",
      "    {'name': 'productType', 'type': 'string'},\n",
      "    {'name': 'productGroupDescription', 'type': 'string'},\n",
      "    {'name': 'productSubGroupDescription', 'type': 'string'},\n",
      "    {'name': 'productDocumentationURL', 'type': 'string'},\n",
      "    {'name': 'project', 'type': 'string'},\n",
      "    {'name': 'prvversion', 'type': 'string'},\n",
      "    {'name': 'proposal_id', 'type': 'string'},\n",
      "    {'name': 'productFilename', 'type': 'string'},\n",
      "    {'name': 'size', 'type': 'int'},\n",
      "    {'name': 'parent_obsid', 'type': 'string'},\n",
      "    {'name': 'dataRights', 'type': 'string'},\n",
      "    {'name': 'calib_level', 'type': 'int'},\n",
      "    {'name': '_selected_', 'type': 'boolean'}]\n"
     ]
    }
   ],
   "source": [
    "obsid = interesting_observation['obsid']\n",
    "\n",
    "product_request = {'service':'Mast.Caom.Products',\n",
    "                  'params':{'obsid':obsid},\n",
    "                  'format':'json',\n",
    "                  'pagesize':100,\n",
    "                  'page':1}   \n",
    "\n",
    "headers, obs_products_string = mast_query(product_request)\n",
    "\n",
    "obs_products = json.loads(obs_products_string)\n",
    "\n",
    "print(\"Number of data products:\", len(obs_products[\"data\"]))\n",
    "print(\"Product information column names:\")\n",
    "pp.pprint(obs_products['fields'])"
   ]
  },
  {
   "cell_type": "markdown",
   "id": "5f71d754",
   "metadata": {},
   "source": [
    "We can also see what *types* these data products are."
   ]
  },
  {
   "cell_type": "code",
   "execution_count": 82,
   "id": "5df9c553",
   "metadata": {},
   "outputs": [
    {
     "name": "stdout",
     "output_type": "stream",
     "text": [
      "[   'AUXILIARY',\n",
      "    'AUXILIARY',\n",
      "    'AUXILIARY',\n",
      "    'AUXILIARY',\n",
      "    'AUXILIARY',\n",
      "    'AUXILIARY',\n",
      "    'AUXILIARY',\n",
      "    'AUXILIARY',\n",
      "    'AUXILIARY',\n",
      "    'AUXILIARY',\n",
      "    'INFO',\n",
      "    'PREVIEW',\n",
      "    'SCIENCE',\n",
      "    'SCIENCE',\n",
      "    'SCIENCE']\n"
     ]
    }
   ],
   "source": [
    "pp.pprint([x.get('productType',\"\") for x in obs_products[\"data\"]])"
   ]
  },
  {
   "cell_type": "markdown",
   "id": "d5d124fc",
   "metadata": {},
   "source": [
    "We can place these results in a table as well, restricting ourselves to the science products."
   ]
  },
  {
   "cell_type": "code",
   "execution_count": 84,
   "id": "ad4c4e5e",
   "metadata": {},
   "outputs": [
    {
     "name": "stdout",
     "output_type": "stream",
     "text": [
      "Number of science products: 3\n",
      " obsID   obs_collection dataproduct_type ... calib_level _selected_\n",
      "-------- -------------- ---------------- ... ----------- ----------\n",
      "71366797            HST         spectrum ...         1.0      False\n",
      "71366797            HST         spectrum ...         2.0      False\n",
      "71366797            HST         spectrum ...         2.0      False\n"
     ]
    }
   ],
   "source": [
    "sci_prod_arr = [x for x in obs_products['data'] if x.get(\"productType\", None) == 'SCIENCE']\n",
    "science_products = Table()\n",
    "\n",
    "for col, atype in [(x['name'], x['type']) for x in obs_products['fields']]:\n",
    "    if atype==\"string\":\n",
    "        atype=\"str\"\n",
    "    if atype==\"boolean\":\n",
    "        atype=\"bool\"\n",
    "    if atype == \"int\":\n",
    "        atype = \"float\" # array may contain nan values, and they do not exist in numpy integer arrays\n",
    "    science_products[col] = np.array([x.get(col,None) for x in sci_prod_arr],dtype=atype)\n",
    "\n",
    "print(\"Number of science products:\",len(science_products))\n",
    "print(science_products)"
   ]
  },
  {
   "cell_type": "markdown",
   "id": "88d2fdf3",
   "metadata": {},
   "source": [
    "Now, let's download these data products"
   ]
  },
  {
   "cell_type": "code",
   "execution_count": 89,
   "id": "f09e25f6",
   "metadata": {},
   "outputs": [
    {
     "name": "stdout",
     "output_type": "stream",
     "text": [
      "COMPLETE:  mastFiles/HST/oecfz2050/oecfz2050_raw.fits\n",
      "COMPLETE:  mastFiles/HST/oecfz2050/oecfz2050_x1d.fits\n",
      "COMPLETE:  mastFiles/HST/oecfz2050/oecfz2050_flt.fits\n"
     ]
    }
   ],
   "source": [
    "download_url = 'https://mast.stsci.edu/api/v0.1/Download/file?'\n",
    "\n",
    "for row in science_products:     \n",
    "\n",
    "    # make file path\n",
    "    out_path = os.path.join(\"mastFiles\", row['obs_collection'], row['obs_id'])\n",
    "    if not os.path.exists(out_path):\n",
    "        os.makedirs(out_path)\n",
    "    out_path = os.path.join(out_path, os.path.basename(row['productFilename']))\n",
    "        \n",
    "    # Download the data\n",
    "    payload = {\"uri\":row['dataURI']}\n",
    "    resp = requests.get(download_url, params=payload)\n",
    "    \n",
    "    # save to file\n",
    "    with open(out_path,'wb') as FLE:\n",
    "        FLE.write(resp.content)\n",
    "        \n",
    "    # check for file \n",
    "    if not os.path.isfile(out_path):\n",
    "        print(\"ERROR: \" + out_path + \" failed to download.\")\n",
    "    else:\n",
    "        print(\"COMPLETE: \", out_path)"
   ]
  },
  {
   "cell_type": "markdown",
   "id": "e4f226be",
   "metadata": {},
   "source": [
    "You can check that these data files have been downloaded correctly by checking `out_path`."
   ]
  },
  {
   "cell_type": "code",
   "execution_count": 95,
   "id": "20b1db1e",
   "metadata": {},
   "outputs": [
    {
     "name": "stdout",
     "output_type": "stream",
     "text": [
      "oecfz2050_flt.fits  oecfz2050_raw.fits  oecfz2050_x1d.fits\r\n"
     ]
    }
   ],
   "source": [
    "ls mastFiles/HST/oecfz2050/"
   ]
  },
  {
   "cell_type": "markdown",
   "id": "137bb9e2",
   "metadata": {},
   "source": [
    "Great! We've successfully downloaded the data for this planet via MAST."
   ]
  },
  {
   "cell_type": "markdown",
   "id": "567619ad",
   "metadata": {},
   "source": [
    "# Exercises\n",
    "- Repeat this for Spitzer?\n",
    "- Query a light curve?\n",
    "- Read in and plot the data? Compare to a downloaded plot?"
   ]
  },
  {
   "cell_type": "markdown",
   "id": "d959c981",
   "metadata": {},
   "source": [
    "# Additional Resources\n",
    "- Here's an [introduction to HTTP GET requests](https://www.ibm.com/docs/en/cics-ts/5.3?topic=protocol-http-requests).\n",
    "- Primer on exoplanet data types\n",
    "- Here's a [neat blog post](https://nedbatchelder.com/blog/201206/eval_really_is_dangerous.html) on why `literal_eval` is preferred to `eval`.\n",
    "- [Prettyprint documentation](https://docs.python.org/3/library/pprint.html)"
   ]
  },
  {
   "cell_type": "markdown",
   "id": "648a761c",
   "metadata": {},
   "source": [
    "# About this Notebook"
   ]
  },
  {
   "cell_type": "markdown",
   "id": "f3b89bea",
   "metadata": {},
   "source": [
    "# Citations\n",
    "- [Gaudi, B. Scott, et al. \"A giant planet undergoing extreme-ultraviolet irradiation by its hot massive-star host.\" Nature 546.7659 (2017): 514-518.](https://www.nature.com/articles/nature22392)\n",
    "- [Bakos, G. Á., et al. \"HAT-P-11b: A super-Neptune planet transiting a bright K star in the Kepler field.\" The Astrophysical Journal 710.2 (2010): 1724.](https://iopscience.iop.org/article/10.1088/0004-637X/710/2/1724/meta)\n",
    "- [exo.MAST tutorial](https://exo.mast.stsci.edu/docs/getting_started.html#resolving-exoplanets)\n",
    "- [astroquery.MAST documentation](https://astroquery.readthedocs.io/en/latest/mast/mast.html)\n",
    "- [MAST API documentation](https://mast.stsci.edu/api/v0/MastApiTutorial.html)"
   ]
  }
 ],
 "metadata": {
  "kernelspec": {
   "display_name": "Python 3",
   "language": "python",
   "name": "python3"
  },
  "language_info": {
   "codemirror_mode": {
    "name": "ipython",
    "version": 3
   },
   "file_extension": ".py",
   "mimetype": "text/x-python",
   "name": "python",
   "nbconvert_exporter": "python",
   "pygments_lexer": "ipython3",
   "version": "3.9.5"
  }
 },
 "nbformat": 4,
 "nbformat_minor": 5
}
