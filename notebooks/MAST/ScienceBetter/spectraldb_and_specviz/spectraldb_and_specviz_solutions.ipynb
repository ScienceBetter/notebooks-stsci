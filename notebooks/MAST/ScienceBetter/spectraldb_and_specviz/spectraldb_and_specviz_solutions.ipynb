{
 "cells": [
  {
   "cell_type": "markdown",
   "id": "58b4772a",
   "metadata": {},
   "source": [
    "# Viewing JWST Spectra with Spectral DB and Specviz Solutions"
   ]
  },
  {
   "cell_type": "markdown",
   "id": "209c59ba",
   "metadata": {},
   "source": [
    "## Imports"
   ]
  },
  {
   "cell_type": "code",
   "execution_count": 1,
   "id": "48b85288",
   "metadata": {},
   "outputs": [],
   "source": [
    "%matplotlib inline\n",
    "import numpy as np\n",
    "from astropy.io import fits\n",
    "import matplotlib.pyplot as plt\n",
    "import requests\n",
    "from astroquery.mast import Observations\n",
    "from specutils import Spectrum1D\n",
    "from jdaviz import Specviz\n",
    "import astropy.units as u\n",
    "from astropy.nddata import StdDevUncertainty"
   ]
  },
  {
   "cell_type": "markdown",
   "id": "78292051",
   "metadata": {},
   "source": [
    "## Searching for JWST spectra with given pixel parameters"
   ]
  },
  {
   "cell_type": "markdown",
   "id": "ca52de17",
   "metadata": {},
   "source": [
    "### Exercises\n",
    "\n",
    "1. Review the \"Search Syntax\" section of the [Search Spectroscopic Pixel Data](https://mast.stsci.edu/spectra/docs/search_pixels.html) documentation and make a request for a list of all spectral data products (aggregated by filename) with the following criteria: 1D spectra, with flux greater than or equal to 5 Jy, for wavelengths *less than* 15 microns, with a quality flag equal to 0, from the MIRI instrument. \n",
    "\n",
    "2. Confirm that the number of spectral products returned in query `r1a` are the same as those returned in query `r1b`."
   ]
  },
  {
   "cell_type": "code",
   "execution_count": 2,
   "id": "e9c33919",
   "metadata": {},
   "outputs": [
    {
     "data": {
      "text/plain": [
       "[{'fileName': 'jw01022-o023_t001_miri_ch1-short_x1d.fits'},\n",
       " {'fileName': 'jw01022-o023_t001_miri_ch2-short_x1d.fits'},\n",
       " {'fileName': 'jw01022-o023_t001_miri_ch3-short_x1d.fits'},\n",
       " {'fileName': 'jw01047-o001_t006_miri_ch1-long_x1d.fits'},\n",
       " {'fileName': 'jw01047-o001_t006_miri_ch2-long_x1d.fits'},\n",
       " {'fileName': 'jw01047-o001_t006_miri_ch2-medium_x1d.fits'},\n",
       " {'fileName': 'jw01047-o001_t006_miri_ch2-short_x1d.fits'},\n",
       " {'fileName': 'jw01047-o001_t006_miri_ch3-medium_x1d.fits'},\n",
       " {'fileName': 'jw01047-o001_t006_miri_ch3-short_x1d.fits'},\n",
       " {'fileName': 'jw01244-c1002_t003_miri_ch1-shortmediumlong-_x1d.fits'},\n",
       " {'fileName': 'jw01244-c1002_t003_miri_ch2-shortmediumlong-_x1d.fits'},\n",
       " {'fileName': 'jw01244-c1002_t003_miri_ch3-shortmediumlong-_x1d.fits'},\n",
       " {'fileName': 'jw01244-o024_t003_miri_ch1-shortlongmedium-_x1d.fits'},\n",
       " {'fileName': 'jw01244-o024_t003_miri_ch2-shortlongmedium-_x1d.fits'},\n",
       " {'fileName': 'jw01244-o024_t003_miri_ch3-shortlongmedium-_x1d.fits'},\n",
       " {'fileName': 'jw01261-c1001_t003_miri_ch1-short_x1d.fits'},\n",
       " {'fileName': 'jw01261-c1001_t003_miri_ch2-short_x1d.fits'},\n",
       " {'fileName': 'jw01261-c1001_t003_miri_ch3-short_x1d.fits'},\n",
       " {'fileName': 'jw01261-o001_t003_miri_ch1-short_x1d.fits'},\n",
       " {'fileName': 'jw01261-o001_t003_miri_ch2-short_x1d.fits'},\n",
       " {'fileName': 'jw01261-o001_t003_miri_ch3-short_x1d.fits'},\n",
       " {'fileName': 'jw01328-c1006_t014_miri_ch3-longshortmedium-_x1d.fits'},\n",
       " {'fileName': 'jw01328-c1007_t023_miri_ch3-shortlongmedium-_x1d.fits'},\n",
       " {'fileName': 'jw01328-o015_t014_miri_ch3-mediumshortlong-_x1d.fits'},\n",
       " {'fileName': 'jw01328-o020_t023_miri_ch3-longmediumshort-_x1d.fits'},\n",
       " {'fileName': 'jw01349-c1007_t004_miri_ch1-shortlongmedium-_x1d.fits'},\n",
       " {'fileName': 'jw01349-o002_t004_miri_ch1-mediumshortlong-_x1d.fits'},\n",
       " {'fileName': 'jw01373-c1006_t001_miri_ch3-shortmediumlong-_x1d.fits'},\n",
       " {'fileName': 'jw02729-c1001_t002_miri_ch2-long_x1d.fits'},\n",
       " {'fileName': 'jw02729-c1001_t002_miri_ch2-longmediumshort-_x1d.fits'},\n",
       " {'fileName': 'jw02729-c1001_t002_miri_ch2-longshortmedium-_x1d.fits'},\n",
       " {'fileName': 'jw02729-c1001_t002_miri_ch2-medium_x1d.fits'},\n",
       " {'fileName': 'jw02729-c1001_t002_miri_ch3-longmediumshort-_x1d.fits'},\n",
       " {'fileName': 'jw02729-c1001_t002_miri_ch3-longshortmedium-_x1d.fits'},\n",
       " {'fileName': 'jw02729-c1001_t002_miri_ch3-medium_x1d.fits'},\n",
       " {'fileName': 'jw02729-c1001_t002_miri_ch3-short_x1d.fits'},\n",
       " {'fileName': 'jw02729-o003_t002_miri_ch2-long_x1d.fits'},\n",
       " {'fileName': 'jw02729-o003_t002_miri_ch2-longmediumshort-_x1d.fits'},\n",
       " {'fileName': 'jw02729-o003_t002_miri_ch2-medium_x1d.fits'},\n",
       " {'fileName': 'jw02729-o003_t002_miri_ch2-mediumshortlong-_x1d.fits'},\n",
       " {'fileName': 'jw02729-o003_t002_miri_ch3-longmediumshort-_x1d.fits'},\n",
       " {'fileName': 'jw02729-o003_t002_miri_ch3-medium_x1d.fits'},\n",
       " {'fileName': 'jw02729-o003_t002_miri_ch3-mediumshortlong-_x1d.fits'},\n",
       " {'fileName': 'jw02729-o003_t002_miri_ch3-short_x1d.fits'}]"
      ]
     },
     "execution_count": 2,
     "metadata": {},
     "output_type": "execute_result"
    }
   ],
   "source": [
    "# Solution to Exercise 1\n",
    "r1c=requests.get('https://mast.stsci.edu/spectra/api/v0.1/search?product=x1d&wavelength.lt=15&flux.gte=5&instrument=MIRI&quality=0&group=True')\n",
    "r1c.json()['results'] # Note the results of the solution will change with time."
   ]
  },
  {
   "cell_type": "code",
   "execution_count": 3,
   "id": "fa20810c",
   "metadata": {},
   "outputs": [
    {
     "name": "stdout",
     "output_type": "stream",
     "text": [
      "['jw01039-c1000_t001_miri_ch3-shortmediumlong-_x1d.fits'\n",
      " 'jw01039-o005_t001_miri_ch3-shortlongmedium-_x1d.fits'\n",
      " 'jw01047-o001_t006_miri_ch3-medium_x1d.fits'\n",
      " 'jw01050-o005_t005_miri_ch3-medium_x1d.fits'\n",
      " 'jw01244-c1002_t003_miri_ch3-shortmediumlong-_x1d.fits'\n",
      " 'jw01244-o024_t003_miri_ch3-shortlongmedium-_x1d.fits'\n",
      " 'jw01246-o004_t002_miri_ch3-longshortmedium-_x1d.fits'\n",
      " 'jw01328-c1006_t014_miri_ch3-longshortmedium-_x1d.fits'\n",
      " 'jw01328-c1007_t023_miri_ch3-shortlongmedium-_x1d.fits'\n",
      " 'jw01328-o015_t014_miri_ch3-mediumshortlong-_x1d.fits'\n",
      " 'jw01328-o020_t023_miri_ch3-longmediumshort-_x1d.fits'\n",
      " 'jw01349-c1004_t002_miri_ch3-longmediumshort-_x1d.fits'\n",
      " 'jw01349-c1007_t004_miri_ch3-shortlongmedium-_x1d.fits'\n",
      " 'jw01349-o001_t002_miri_ch3-longshortmedium-_x1d.fits'\n",
      " 'jw01349-o002_t004_miri_ch3-mediumshortlong-_x1d.fits'\n",
      " 'jw01349-o010_t003_miri_ch3-longmediumshort-_x1d.fits'\n",
      " 'jw01373-c1006_t001_miri_ch3-shortmediumlong-_x1d.fits'\n",
      " 'jw01373-o029_t031_miri_ch3-shortlongmedium-_x1d.fits'\n",
      " 'jw02729-c1001_t002_miri_ch3-longmediumshort-_x1d.fits'\n",
      " 'jw02729-c1001_t002_miri_ch3-longshortmedium-_x1d.fits'\n",
      " 'jw02729-c1001_t002_miri_ch3-medium_x1d.fits'\n",
      " 'jw02729-c1001_t004_miri_ch3-medium_x1d.fits'\n",
      " 'jw02729-o003_t002_miri_ch3-longmediumshort-_x1d.fits'\n",
      " 'jw02729-o003_t002_miri_ch3-medium_x1d.fits'\n",
      " 'jw02729-o003_t002_miri_ch3-mediumshortlong-_x1d.fits'\n",
      " 'jw02729-o004_t004_miri_ch3-medium_x1d.fits']\n",
      "[{'fileName': 'jw01039-c1000_t001_miri_ch3-shortmediumlong-_x1d.fits'}, {'fileName': 'jw01039-o005_t001_miri_ch3-shortlongmedium-_x1d.fits'}, {'fileName': 'jw01047-o001_t006_miri_ch3-medium_x1d.fits'}, {'fileName': 'jw01050-o005_t005_miri_ch3-medium_x1d.fits'}, {'fileName': 'jw01244-c1002_t003_miri_ch3-shortmediumlong-_x1d.fits'}, {'fileName': 'jw01244-o024_t003_miri_ch3-shortlongmedium-_x1d.fits'}, {'fileName': 'jw01246-o004_t002_miri_ch3-longshortmedium-_x1d.fits'}, {'fileName': 'jw01328-c1006_t014_miri_ch3-longshortmedium-_x1d.fits'}, {'fileName': 'jw01328-c1007_t023_miri_ch3-shortlongmedium-_x1d.fits'}, {'fileName': 'jw01328-o015_t014_miri_ch3-mediumshortlong-_x1d.fits'}, {'fileName': 'jw01328-o020_t023_miri_ch3-longmediumshort-_x1d.fits'}, {'fileName': 'jw01349-c1004_t002_miri_ch3-longmediumshort-_x1d.fits'}, {'fileName': 'jw01349-c1007_t004_miri_ch3-shortlongmedium-_x1d.fits'}, {'fileName': 'jw01349-o001_t002_miri_ch3-longshortmedium-_x1d.fits'}, {'fileName': 'jw01349-o002_t004_miri_ch3-mediumshortlong-_x1d.fits'}, {'fileName': 'jw01349-o010_t003_miri_ch3-longmediumshort-_x1d.fits'}, {'fileName': 'jw01373-c1006_t001_miri_ch3-shortmediumlong-_x1d.fits'}, {'fileName': 'jw01373-o029_t031_miri_ch3-shortlongmedium-_x1d.fits'}, {'fileName': 'jw02729-c1001_t002_miri_ch3-longmediumshort-_x1d.fits'}, {'fileName': 'jw02729-c1001_t002_miri_ch3-longshortmedium-_x1d.fits'}, {'fileName': 'jw02729-c1001_t002_miri_ch3-medium_x1d.fits'}, {'fileName': 'jw02729-c1001_t004_miri_ch3-medium_x1d.fits'}, {'fileName': 'jw02729-o003_t002_miri_ch3-longmediumshort-_x1d.fits'}, {'fileName': 'jw02729-o003_t002_miri_ch3-medium_x1d.fits'}, {'fileName': 'jw02729-o003_t002_miri_ch3-mediumshortlong-_x1d.fits'}, {'fileName': 'jw02729-o004_t004_miri_ch3-medium_x1d.fits'}]\n"
     ]
    }
   ],
   "source": [
    "# Before we can do Exercise 2, we must load in variables from the tutorial.\n",
    "prefix='https://mast.stsci.edu/spectra/api/v0.1/search?'\n",
    "keywords='product=x1d&wavelength=14,14.5&derSnr.gt=5&flux.gte=0.2&columns=targetName,targetRA,targetDec'\n",
    "url=prefix+keywords\n",
    "r1a=requests.get(url)\n",
    "lenr1a=len(r1a.json()['results'])\n",
    "prefix='https://mast.stsci.edu/spectra/api/v0.1/search?'\n",
    "keywords='product=x1d&wavelength=14,14.5&derSnr.gt=5&flux.gte=0.2&group=True'\n",
    "url=prefix+keywords\n",
    "r1b=requests.get(url)\n",
    "# Solution for Exercise 2\n",
    "allfilenames=[]\n",
    "for i in range(0,lenr1a): allfilenames.append(r1a.json()['results'][i]['fileName']) # Admittedly inefficient.\n",
    "uniquefilenames=np.unique(allfilenames)\n",
    "print(uniquefilenames)\n",
    "print(r1b.json()['results'])"
   ]
  },
  {
   "cell_type": "markdown",
   "id": "651adc8f",
   "metadata": {},
   "source": [
    "## Using Spectral DB API to retrieve a JWST spectrum with known URI"
   ]
  },
  {
   "cell_type": "markdown",
   "id": "b6daddf6",
   "metadata": {},
   "source": [
    "### Exercises\n",
    "\n",
    "3. Find the units of the wavelength and frequency columns from the column metadata in the JSON object and add axis labels to the plot. "
   ]
  },
  {
   "cell_type": "code",
   "execution_count": 4,
   "id": "efb2e010",
   "metadata": {},
   "outputs": [
    {
     "name": "stdout",
     "output_type": "stream",
     "text": [
      "um\n",
      "Jy\n"
     ]
    },
    {
     "data": {
      "text/plain": [
       "Text(0, 0.5, 'Flux (Jy)')"
      ]
     },
     "execution_count": 4,
     "metadata": {},
     "output_type": "execute_result"
    },
    {
     "data": {
      "image/png": "[encoded data removed]",
      "text/plain": [
       "<Figure size 432x288 with 1 Axes>"
      ]
     },
     "metadata": {
      "needs_background": "light"
     },
     "output_type": "display_data"
    }
   ],
   "source": [
    "# Before we can do Exercise 3, we must load in variables from the tutorial.\n",
    "filename='jw01039-o005_t001_miri_ch3-shortlongmedium-_x1d.fits'\n",
    "prefix='https://mast.stsci.edu/spectra/api/v0.1/retrieve?uri='\n",
    "uri='mast:JWST/product/'+filename\n",
    "url=prefix+uri\n",
    "r2=requests.get(url)\n",
    "data=r2.json()['data']\n",
    "# Solution to Exercise 3\n",
    "print(r2.json()['column_metadata']['wavelength']['units'])\n",
    "print(r2.json()['column_metadata']['flux']['units'])\n",
    "plt.plot(data['wavelength'],data['flux'])\n",
    "plt.xlabel('Wavelength (microns)')\n",
    "plt.ylabel('Flux (Jy)')"
   ]
  },
  {
   "cell_type": "markdown",
   "id": "16cedc38",
   "metadata": {},
   "source": [
    "## Viewing the Spectrum in Specviz"
   ]
  },
  {
   "cell_type": "markdown",
   "id": "5906b3a5",
   "metadata": {},
   "source": [
    "### Exercises\n",
    "\n",
    "4. Download the file associated with this URI using the [`Astroquery` instructions for Downloading a Single File](https://astroquery.readthedocs.io/en/latest/mast/mast.html#downloading-a-single-file). Load the spectrum into Specviz, labeling it \"From file\", and confirm that the contents of the two spectra (from JSON and from file) are identical."
   ]
  },
  {
   "cell_type": "code",
   "execution_count": 5,
   "id": "31d9946e",
   "metadata": {},
   "outputs": [
    {
     "data": {
      "application/vnd.jupyter.widget-view+json": {
       "model_id": "a3c0d480f84b47329104debdf1884b95",
       "version_major": 2,
       "version_minor": 0
      },
      "text/plain": [
       "Application(config='specviz', events=['call_viewer_method', 'close_snackbar_message', 'data_item_remove', 'dat…"
      ]
     },
     "metadata": {},
     "output_type": "display_data"
    },
    {
     "name": "stderr",
     "output_type": "stream",
     "text": [
      "INFO:astroquery:Found cached file /Users/julia/GitHub/notebooks-stsci/notebooks/MAST/spectraldb_and_specviz/jw01039-o005_t001_miri_ch3-shortlongmedium-_x1d.fits with expected size 388800.\n"
     ]
    },
    {
     "name": "stdout",
     "output_type": "stream",
     "text": [
      "INFO: Found cached file /Users/julia/GitHub/notebooks-stsci/notebooks/MAST/spectraldb_and_specviz/jw01039-o005_t001_miri_ch3-shortlongmedium-_x1d.fits with expected size 388800. [astroquery.query]\n",
      "jw01039-o005_t001_miri_ch3-shortlongmedium-_x1d.fits\n"
     ]
    }
   ],
   "source": [
    "# In addition to the variables loaded for Exercise 3, we need to load a few more from the tutorial.\n",
    "specviz = Specviz()\n",
    "specviz.show()\n",
    "wavelength=data['wavelength']*u.um\n",
    "flux=data['flux']*u.Jy\n",
    "error=StdDevUncertainty(data['fluxErr']*u.Jy)\n",
    "spec1d=Spectrum1D(spectral_axis=wavelength,flux=flux,uncertainty=error) \n",
    "specviz.load_spectrum(spec1d,data_label=\"From JSON\")\n",
    "# Solution to Exercise 4\n",
    "result=Observations.download_file(uri)\n",
    "filename=uri.split('/')[-1]\n",
    "print(filename)\n",
    "specviz.load_spectrum('./'+filename,data_label=\"From File\")\n",
    "# Now \"A\" and \"B\" appear in Specviz and they are completely overlapping."
   ]
  },
  {
   "cell_type": "code",
   "execution_count": null,
   "id": "7c1e0bb5",
   "metadata": {},
   "outputs": [],
   "source": []
  }
 ],
 "metadata": {
  "kernelspec": {
   "display_name": "Python 3 (ipykernel)",
   "language": "python",
   "name": "python3"
  },
  "language_info": {
   "codemirror_mode": {
    "name": "ipython",
    "version": 3
   },
   "file_extension": ".py",
   "mimetype": "text/x-python",
   "name": "python",
   "nbconvert_exporter": "python",
   "pygments_lexer": "ipython3",
   "version": "3.9.12"
  }
 },
 "nbformat": 4,
 "nbformat_minor": 5
}
