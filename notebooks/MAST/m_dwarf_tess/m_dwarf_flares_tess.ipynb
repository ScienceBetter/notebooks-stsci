{
 "cells": [
  {
   "cell_type": "markdown",
   "id": "cd5f62f4",
   "metadata": {},
   "source": [
    "<a id=\"top\"></a>"
   ]
  },
  {
   "cell_type": "markdown",
   "id": "b6dcdf40",
   "metadata": {},
   "source": [
    "# Characterizing M dwarf flares with HST III: TESS comparisons"
   ]
  },
  {
   "cell_type": "markdown",
   "id": "b7acebea",
   "metadata": {},
   "source": [
    "***"
   ]
  },
  {
   "cell_type": "markdown",
   "id": "82291f46",
   "metadata": {},
   "source": [
    "# Learning goals\n",
    "By the end of this tutorial, you will:\n",
    "- Be able to identify M dwarf flares in TESS data.\n",
    "- Understand what a periodogram is.\n",
    "- Construct periodograms for high-cadence TESS light curves.\n",
    "- Understand how to mask and process light curve data.\n",
    "- Extract light curve time stamps to compare to HST exposures."
   ]
  },
  {
   "cell_type": "markdown",
   "id": "6612805b",
   "metadata": {},
   "source": [
    "# Introduction\n",
    "The flare rate of M dwarfs — the lowest-mass stars that undergo nuclear fusion — has a broad class of science cases. Flare rates have ramifications for stellar physics (e.g., connections to stellar mass and rotation period) and exoplanet science (e.g., photochemistry and habitability). Time-series MAST data can be used to capture and constrain flares. \n",
    "\n",
    "This tutorial continues a series exploring how to use MAST data for such purposes. In this portion, we will find flares in TESS data and use this to inform how we think about HST flares.\n",
    "\n",
    "While this tutorial will result in some flare candidates, there are other to robust flare-detection (e.g., detrending with a spline fit, modeling the flare as a function of physical parameters) that are not depicted in this tutorial for the sake of brevity. These more advanced features are explored further in associated exercises.\n",
    "\n",
    "\n",
    "(reference the plotting exoplanet data notebook)"
   ]
  },
  {
   "cell_type": "markdown",
   "id": "1998bf7f",
   "metadata": {},
   "source": [
    "# Imports\n",
    "- numpy to help aggregate our metadata.\n",
    "- matplotlib to plot our data\n",
    "- sys (Python builtin) to read our machine's Python version.\n",
    "- astropy to provide data structures that organize our metadata, units functionality, and coordinates functionality.\n",
    "- lightkurve to download our data."
   ]
  },
  {
   "cell_type": "code",
   "execution_count": 1,
   "id": "f3180f73",
   "metadata": {
    "ExecuteTime": {
     "end_time": "2022-09-18T01:37:26.081261Z",
     "start_time": "2022-09-18T01:37:24.355954Z"
    }
   },
   "outputs": [],
   "source": [
    "# download the list\n",
    "import pandas as pd\n",
    "\n",
    "from astropy.coordinates import position_angle\n",
    "\n",
    "import matplotlib.pyplot as plt\n",
    "\n",
    "from urllib.error import HTTPError\n",
    "\n",
    "import astropy.units as u\n",
    "from astropy.time import Time\n",
    "from astropy.coordinates import SkyCoord\n",
    "\n",
    "\n",
    "import numpy as np\n",
    "\n",
    "import astropy.io.fits as fits\n",
    "from astropy.table import Table, vstack, unique\n",
    "\n",
    "import lightkurve"
   ]
  },
  {
   "cell_type": "markdown",
   "id": "36fb180a",
   "metadata": {},
   "source": [
    "# Flare-detection steps\n",
    "- Detrend with spline fit\n",
    "- remove strong periodicity with lomb-scargle given some steps, max 3 times.\n",
    "- bin and catch flares. iteratively mask out 3 sigma outliers.\n",
    "- We identify outliers as flare candidates if at least six minutes of flux data lie above a 3σ threshold. These criteria are empirically selected to separate noise and actual flaring objects. Each target can (and often does) have multiple “flare candidate peaks.”"
   ]
  },
  {
   "cell_type": "markdown",
   "id": "5a45410e",
   "metadata": {},
   "source": [
    "# Download data"
   ]
  },
  {
   "cell_type": "code",
   "execution_count": null,
   "id": "11b718d9",
   "metadata": {},
   "outputs": [],
   "source": [
    "# todo: run this for a bunch of stars.\n",
    "# see if caught with jwst stuff."
   ]
  },
  {
   "cell_type": "code",
   "execution_count": 238,
   "id": "e7f531f8",
   "metadata": {
    "ExecuteTime": {
     "end_time": "2022-09-18T01:52:04.326484Z",
     "start_time": "2022-09-18T01:52:04.304278Z"
    }
   },
   "outputs": [
    {
     "data": {
      "text/html": [
       "SearchResult containing 13 data products.\n",
       "\n",
       "<table id=\"table5437180080\">\n",
       "<thead><tr><th>#</th><th>mission</th><th>year</th><th>author</th><th>exptime</th><th>target_name</th><th>distance</th></tr></thead>\n",
       "<thead><tr><th></th><th></th><th></th><th></th><th>s</th><th></th><th>arcsec</th></tr></thead>\n",
       "<tr><td>0</td><td>TESS Sector 11</td><td>2019</td><td><a href='https://heasarc.gsfc.nasa.gov/docs/tess/pipeline.html'>SPOC</a></td><td>120</td><td>388857263</td><td>0.0</td></tr>\n",
       "<tr><td>1</td><td>TESS Sector 11</td><td>2019</td><td><a href='https://archive.stsci.edu/hlsp/tess-spoc'>TESS-SPOC</a></td><td>1800</td><td>388857263</td><td>0.0</td></tr>\n",
       "<tr><td>2</td><td>TESS Sector 11</td><td>2019</td><td><a href='https://archive.stsci.edu/hlsp/qlp'>QLP</a></td><td>1800</td><td>388857263</td><td>0.0</td></tr>\n",
       "<tr><td>3</td><td>TESS Sector 12</td><td>2019</td><td><a href='https://heasarc.gsfc.nasa.gov/docs/tess/pipeline.html'>SPOC</a></td><td>120</td><td>388857263</td><td>0.0</td></tr>\n",
       "<tr><td>4</td><td>TESS Sector 12</td><td>2019</td><td><a href='https://archive.stsci.edu/hlsp/tess-spoc'>TESS-SPOC</a></td><td>1800</td><td>388857263</td><td>0.0</td></tr>\n",
       "<tr><td>5</td><td>TESS Sector 12</td><td>2019</td><td><a href='https://archive.stsci.edu/hlsp/qlp'>QLP</a></td><td>1800</td><td>388857263</td><td>0.0</td></tr>\n",
       "<tr><td>6</td><td>TESS Sector 38</td><td>2021</td><td><a href='https://heasarc.gsfc.nasa.gov/docs/tess/pipeline.html'>SPOC</a></td><td>20</td><td>388857263</td><td>0.0</td></tr>\n",
       "<tr><td>7</td><td>TESS Sector 38</td><td>2021</td><td><a href='https://heasarc.gsfc.nasa.gov/docs/tess/pipeline.html'>SPOC</a></td><td>120</td><td>388857263</td><td>0.0</td></tr>\n",
       "<tr><td>8</td><td>TESS Sector 38</td><td>2021</td><td><a href='https://heasarc.gsfc.nasa.gov/docs/tess/pipeline.html'>SPOC</a></td><td>120</td><td>1019422496</td><td>0.0</td></tr>\n",
       "<tr><td>9</td><td>TESS Sector 38</td><td>2021</td><td><a href='https://archive.stsci.edu/hlsp/tess-spoc'>TESS-SPOC</a></td><td>600</td><td>388857263</td><td>0.0</td></tr>\n",
       "<tr><td>10</td><td>TESS Sector 38</td><td>2021</td><td><a href='https://archive.stsci.edu/hlsp/tess-spoc'>TESS-SPOC</a></td><td>600</td><td>1019422496</td><td>0.0</td></tr>\n",
       "<tr><td>11</td><td>TESS Sector 38</td><td>2021</td><td><a href='https://archive.stsci.edu/hlsp/qlp'>QLP</a></td><td>600</td><td>388857263</td><td>0.0</td></tr>\n",
       "<tr><td>12</td><td>TESS Sector 38</td><td>2021</td><td><a href='https://archive.stsci.edu/hlsp/qlp'>QLP</a></td><td>600</td><td>1019422535</td><td>0.0</td></tr>\n",
       "</table>"
      ],
      "text/plain": [
       "SearchResult containing 13 data products.\n",
       "\n",
       " #     mission     year   author  exptime target_name distance\n",
       "                                     s                 arcsec \n",
       "--- -------------- ---- --------- ------- ----------- --------\n",
       "  0 TESS Sector 11 2019      SPOC     120   388857263      0.0\n",
       "  1 TESS Sector 11 2019 TESS-SPOC    1800   388857263      0.0\n",
       "  2 TESS Sector 11 2019       QLP    1800   388857263      0.0\n",
       "  3 TESS Sector 12 2019      SPOC     120   388857263      0.0\n",
       "  4 TESS Sector 12 2019 TESS-SPOC    1800   388857263      0.0\n",
       "  5 TESS Sector 12 2019       QLP    1800   388857263      0.0\n",
       "  6 TESS Sector 38 2021      SPOC      20   388857263      0.0\n",
       "  7 TESS Sector 38 2021      SPOC     120   388857263      0.0\n",
       "  8 TESS Sector 38 2021      SPOC     120  1019422496      0.0\n",
       "  9 TESS Sector 38 2021 TESS-SPOC     600   388857263      0.0\n",
       " 10 TESS Sector 38 2021 TESS-SPOC     600  1019422496      0.0\n",
       " 11 TESS Sector 38 2021       QLP     600   388857263      0.0\n",
       " 12 TESS Sector 38 2021       QLP     600  1019422535      0.0"
      ]
     },
     "execution_count": 238,
     "metadata": {},
     "output_type": "execute_result"
    }
   ],
   "source": [
    "star = 'Proxima Centauri'\n",
    "\n",
    "search_result = lightkurve.search_lightcurve(star)\n",
    "search_result"
   ]
  },
  {
   "cell_type": "code",
   "execution_count": null,
   "id": "8cf35765",
   "metadata": {},
   "outputs": [],
   "source": [
    "238.369750349555\n",
    "2632.406748787494\n",
    "2632.4001750606403\n",
    "1120.1704716083\n",
    "754.6941767471776\n",
    "2632.3918761833247"
   ]
  },
  {
   "cell_type": "code",
   "execution_count": 375,
   "id": "fa988eb7",
   "metadata": {
    "ExecuteTime": {
     "end_time": "2022-09-18T02:28:56.225950Z",
     "start_time": "2022-09-18T02:28:56.066660Z"
    }
   },
   "outputs": [
    {
     "data": {
      "text/html": [
       "<div><i>TessLightCurve length=18187 LABEL=&quot;TIC 388857263&quot; SECTOR=11 AUTHOR=SPOC FLUX_ORIGIN=pdcsap_flux</i>\n",
       "<table id=\"table5433664144\" class=\"table-striped table-bordered table-condensed\">\n",
       "<thead><tr><th>time</th><th>flux</th><th>flux_err</th><th>timecorr</th><th>cadenceno</th><th>centroid_col</th><th>centroid_row</th><th>sap_flux</th><th>sap_flux_err</th><th>sap_bkg</th><th>sap_bkg_err</th><th>pdcsap_flux</th><th>pdcsap_flux_err</th><th>quality</th><th>psf_centr1</th><th>psf_centr1_err</th><th>psf_centr2</th><th>psf_centr2_err</th><th>mom_centr1</th><th>mom_centr1_err</th><th>mom_centr2</th><th>mom_centr2_err</th><th>pos_corr1</th><th>pos_corr2</th></tr></thead>\n",
       "<thead><tr><th></th><th>electron / s</th><th>electron / s</th><th>d</th><th></th><th>pix</th><th>pix</th><th>electron / s</th><th>electron / s</th><th>electron / s</th><th>electron / s</th><th>electron / s</th><th>electron / s</th><th></th><th>pix</th><th>pix</th><th>pix</th><th>pix</th><th>pix</th><th>pix</th><th>pix</th><th>pix</th><th>pix</th><th>pix</th></tr></thead>\n",
       "<thead><tr><th>Time</th><th>float32</th><th>float32</th><th>float32</th><th>int32</th><th>float64</th><th>float64</th><th>float32</th><th>float32</th><th>float32</th><th>float32</th><th>float32</th><th>float32</th><th>int32</th><th>float64</th><th>float32</th><th>float64</th><th>float32</th><th>float64</th><th>float32</th><th>float64</th><th>float32</th><th>float32</th><th>float32</th></tr></thead>\n",
       "<tr><td>1596.7812314852974</td><td>———</td><td>———</td><td>3.6637241e-03</td><td>265912</td><td>———</td><td>———</td><td>———</td><td>———</td><td>———</td><td>———</td><td>———</td><td>———</td><td>10000000010000</td><td>———</td><td>———</td><td>———</td><td>———</td><td>———</td><td>———</td><td>———</td><td>———</td><td>———</td><td>———</td></tr>\n",
       "<tr><td>1596.782620410849</td><td>———</td><td>———</td><td>3.6637613e-03</td><td>265913</td><td>———</td><td>———</td><td>———</td><td>———</td><td>———</td><td>———</td><td>———</td><td>———</td><td>10000000010000</td><td>———</td><td>———</td><td>———</td><td>———</td><td>———</td><td>———</td><td>———</td><td>———</td><td>———</td><td>———</td></tr>\n",
       "<tr><td>1596.7840093364</td><td>———</td><td>———</td><td>3.6637986e-03</td><td>265914</td><td>———</td><td>———</td><td>———</td><td>———</td><td>———</td><td>———</td><td>———</td><td>———</td><td>10000000010000</td><td>———</td><td>———</td><td>———</td><td>———</td><td>———</td><td>———</td><td>———</td><td>———</td><td>———</td><td>———</td></tr>\n",
       "<tr><td>1596.785398261952</td><td>———</td><td>———</td><td>3.6638358e-03</td><td>265915</td><td>———</td><td>———</td><td>———</td><td>———</td><td>———</td><td>———</td><td>———</td><td>———</td><td>10000000010000</td><td>———</td><td>———</td><td>———</td><td>———</td><td>———</td><td>———</td><td>———</td><td>———</td><td>———</td><td>———</td></tr>\n",
       "<tr><td>1596.786787187271</td><td>———</td><td>———</td><td>3.6638728e-03</td><td>265916</td><td>———</td><td>———</td><td>———</td><td>———</td><td>———</td><td>———</td><td>———</td><td>———</td><td>10000000010000</td><td>———</td><td>———</td><td>———</td><td>———</td><td>———</td><td>———</td><td>———</td><td>———</td><td>———</td><td>———</td></tr>\n",
       "<tr><td>1596.7881761128226</td><td>———</td><td>———</td><td>3.6639101e-03</td><td>265917</td><td>———</td><td>———</td><td>———</td><td>———</td><td>———</td><td>———</td><td>———</td><td>———</td><td>10000000010000</td><td>———</td><td>———</td><td>———</td><td>———</td><td>———</td><td>———</td><td>———</td><td>———</td><td>———</td><td>———</td></tr>\n",
       "<tr><td>1596.7895650383737</td><td>———</td><td>———</td><td>3.6639473e-03</td><td>265918</td><td>———</td><td>———</td><td>———</td><td>———</td><td>———</td><td>———</td><td>———</td><td>———</td><td>10000000010000</td><td>———</td><td>———</td><td>———</td><td>———</td><td>———</td><td>———</td><td>———</td><td>———</td><td>———</td><td>———</td></tr>\n",
       "<tr><td>1596.7909539639252</td><td>———</td><td>———</td><td>3.6639846e-03</td><td>265919</td><td>———</td><td>———</td><td>———</td><td>———</td><td>———</td><td>———</td><td>———</td><td>———</td><td>10000000010000</td><td>———</td><td>———</td><td>———</td><td>———</td><td>———</td><td>———</td><td>———</td><td>———</td><td>———</td><td>———</td></tr>\n",
       "<tr><td>1596.7923428894771</td><td>———</td><td>———</td><td>3.6640218e-03</td><td>265920</td><td>———</td><td>———</td><td>———</td><td>———</td><td>———</td><td>———</td><td>———</td><td>———</td><td>10000000010000</td><td>———</td><td>———</td><td>———</td><td>———</td><td>———</td><td>———</td><td>———</td><td>———</td><td>———</td><td>———</td></tr>\n",
       "<tr><td>1596.7937318147954</td><td>———</td><td>———</td><td>3.6640589e-03</td><td>265921</td><td>———</td><td>———</td><td>———</td><td>———</td><td>———</td><td>———</td><td>———</td><td>———</td><td>10000000010000</td><td>———</td><td>———</td><td>———</td><td>———</td><td>———</td><td>———</td><td>———</td><td>———</td><td>———</td><td>———</td></tr>\n",
       "<tr><td>1596.795120740346</td><td>———</td><td>———</td><td>3.6640961e-03</td><td>265922</td><td>1594.51348</td><td>1495.16274</td><td>1.3907659e+05</td><td>5.4284714e+01</td><td>6.3935988e+04</td><td>2.5834455e+01</td><td>———</td><td>———</td><td>11000000000000</td><td>———</td><td>———</td><td>———</td><td>———</td><td>1594.51348</td><td>3.6756817e-04</td><td>1495.16274</td><td>3.8251819e-04</td><td>-2.9198943e-02</td><td>-2.7634077e-02</td></tr>\n",
       "<tr><td>1596.796509665897</td><td>———</td><td>———</td><td>3.6641334e-03</td><td>265923</td><td>1594.51355</td><td>1495.16401</td><td>1.3901375e+05</td><td>5.4365757e+01</td><td>6.4401984e+04</td><td>2.5919107e+01</td><td>———</td><td>———</td><td>11000000000000</td><td>———</td><td>———</td><td>———</td><td>———</td><td>1594.51355</td><td>3.6845368e-04</td><td>1495.16401</td><td>3.8351584e-04</td><td>-2.9063346e-02</td><td>-2.6384002e-02</td></tr>\n",
       "<tr><td>1596.7978985914485</td><td>———</td><td>———</td><td>3.6641706e-03</td><td>265924</td><td>1594.51327</td><td>1495.16478</td><td>1.3900967e+05</td><td>5.4464214e+01</td><td>6.4927215e+04</td><td>2.6011038e+01</td><td>———</td><td>———</td><td>11000000000000</td><td>———</td><td>———</td><td>———</td><td>———</td><td>1594.51327</td><td>3.6926469e-04</td><td>1495.16478</td><td>3.8430004e-04</td><td>-2.8944904e-02</td><td>-2.5124338e-02</td></tr>\n",
       "<tr><td>1596.7992875169996</td><td>———</td><td>———</td><td>3.6642079e-03</td><td>265925</td><td>1594.51461</td><td>1495.17421</td><td>1.3918923e+05</td><td>5.4566330e+01</td><td>6.5357316e+04</td><td>2.6097868e+01</td><td>———</td><td>———</td><td>11000000000000</td><td>———</td><td>———</td><td>———</td><td>———</td><td>1594.51461</td><td>3.6967164e-04</td><td>1495.17421</td><td>3.8418442e-04</td><td>-2.7743485e-02</td><td>-1.3273397e-02</td></tr>\n",
       "<tr><td>1596.8006764425515</td><td>———</td><td>———</td><td>3.6642451e-03</td><td>265926</td><td>1594.51481</td><td>1495.15811</td><td>1.3912425e+05</td><td>5.4655994e+01</td><td>6.5815922e+04</td><td>2.6189810e+01</td><td>———</td><td>———</td><td>11000000000000</td><td>———</td><td>———</td><td>———</td><td>———</td><td>1594.51481</td><td>3.7058044e-04</td><td>1495.15811</td><td>3.8572593e-04</td><td>-2.8006449e-02</td><td>-3.2736469e-02</td></tr>\n",
       "<tr><td>1596.8020653681035</td><td>———</td><td>———</td><td>3.6642824e-03</td><td>265927</td><td>1594.51458</td><td>1495.17353</td><td>1.3907138e+05</td><td>5.4740387e+01</td><td>6.6308438e+04</td><td>2.6280651e+01</td><td>———</td><td>———</td><td>11000000000000</td><td>———</td><td>———</td><td>———</td><td>———</td><td>1594.51458</td><td>3.7157684e-04</td><td>1495.17353</td><td>3.8575870e-04</td><td>-2.8189896e-02</td><td>-1.4418653e-02</td></tr>\n",
       "<tr><td>1596.803454293655</td><td>———</td><td>———</td><td>3.6643196e-03</td><td>265928</td><td>1594.51321</td><td>1495.15538</td><td>1.3893788e+05</td><td>5.4810032e+01</td><td>6.6736555e+04</td><td>2.6360056e+01</td><td>———</td><td>———</td><td>11000000000000</td><td>———</td><td>———</td><td>———</td><td>———</td><td>1594.51321</td><td>3.7229483e-04</td><td>1495.15538</td><td>3.8788523e-04</td><td>-2.9987736e-02</td><td>-3.6585595e-02</td></tr>\n",
       "<tr><td>1596.804843219206</td><td>———</td><td>———</td><td>3.6643569e-03</td><td>265929</td><td>1594.51342</td><td>1495.16500</td><td>1.3902634e+05</td><td>5.4912617e+01</td><td>6.7247070e+04</td><td>2.6448511e+01</td><td>———</td><td>———</td><td>11000000000000</td><td>———</td><td>———</td><td>———</td><td>———</td><td>1594.51342</td><td>3.7274638e-04</td><td>1495.16500</td><td>3.8812525e-04</td><td>-3.0167343e-02</td><td>-2.4651023e-02</td></tr>\n",
       "<tr><td>1596.8062321447567</td><td>———</td><td>———</td><td>3.6643941e-03</td><td>265930</td><td>1594.51186</td><td>1495.16346</td><td>1.3897497e+05</td><td>5.4991879e+01</td><td>6.7679875e+04</td><td>2.6528694e+01</td><td>———</td><td>———</td><td>11000000000000</td><td>———</td><td>———</td><td>———</td><td>———</td><td>1594.51186</td><td>3.7378701e-04</td><td>1495.16346</td><td>3.8890814e-04</td><td>-3.0369936e-02</td><td>-2.6818724e-02</td></tr>\n",
       "<tr><td>1596.8076210703082</td><td>———</td><td>———</td><td>3.6644314e-03</td><td>265931</td><td>1594.51280</td><td>1495.16749</td><td>1.3908120e+05</td><td>5.5090702e+01</td><td>6.8135258e+04</td><td>2.6615196e+01</td><td>———</td><td>———</td><td>11000000000000</td><td>———</td><td>———</td><td>———</td><td>———</td><td>1594.51280</td><td>3.7430282e-04</td><td>1495.16749</td><td>3.8889304e-04</td><td>-2.9286116e-02</td><td>-1.9815395e-02</td></tr>\n",
       "<tr><td>1596.8090099958602</td><td>———</td><td>———</td><td>3.6644686e-03</td><td>265932</td><td>1594.51575</td><td>1495.16394</td><td>1.3892252e+05</td><td>5.5160831e+01</td><td>6.8595578e+04</td><td>2.6698044e+01</td><td>———</td><td>———</td><td>11000000000000</td><td>———</td><td>———</td><td>———</td><td>———</td><td>1594.51575</td><td>3.7545423e-04</td><td>1495.16394</td><td>3.9047902e-04</td><td>-2.5922386e-02</td><td>-2.6705969e-02</td></tr>\n",
       "<tr><td>1596.8103989214112</td><td>———</td><td>———</td><td>3.6645059e-03</td><td>265933</td><td>1594.51214</td><td>1495.16620</td><td>1.3902131e+05</td><td>5.5257004e+01</td><td>6.9049477e+04</td><td>2.6780407e+01</td><td>———</td><td>———</td><td>11000000000000</td><td>———</td><td>———</td><td>———</td><td>———</td><td>1594.51214</td><td>3.7554890e-04</td><td>1495.16620</td><td>3.9052340e-04</td><td>-3.1041937e-02</td><td>-2.2989307e-02</td></tr>\n",
       "<tr><td>...</td><td>...</td><td>...</td><td>...</td><td>...</td><td>...</td><td>...</td><td>...</td><td>...</td><td>...</td><td>...</td><td>...</td><td>...</td><td>...</td><td>...</td><td>...</td><td>...</td><td>...</td><td>...</td><td>...</td><td>...</td><td>...</td><td>...</td><td>...</td></tr>\n",
       "<tr><td>1623.866408559801</td><td>1.4512038e+05</td><td>4.6293556e+01</td><td>4.1300920e-03</td><td>285413</td><td>1594.51285</td><td>1495.19788</td><td>1.3809058e+05</td><td>4.1979485e+01</td><td>8.2037812e+03</td><td>1.0983175e+01</td><td>1.4512038e+05</td><td>4.6293556e+01</td><td>0</td><td>———</td><td>———</td><td>———</td><td>———</td><td>1594.51285</td><td>2.6864008e-04</td><td>1495.19788</td><td>2.7756713e-04</td><td>3.8416805e-03</td><td>1.9691367e-02</td></tr>\n",
       "<tr><td>1623.8677974481</td><td>1.4519367e+05</td><td>4.6305511e+01</td><td>4.1300920e-03</td><td>285414</td><td>1594.50556</td><td>1495.19763</td><td>1.3813736e+05</td><td>4.1990326e+01</td><td>8.2036797e+03</td><td>1.0981269e+01</td><td>1.4519367e+05</td><td>4.6305511e+01</td><td>0</td><td>———</td><td>———</td><td>———</td><td>———</td><td>1594.50556</td><td>2.6852899e-04</td><td>1495.19763</td><td>2.7756413e-04</td><td>-3.6760787e-03</td><td>1.9249422e-02</td></tr>\n",
       "<tr><td>1623.869186335933</td><td>1.4525881e+05</td><td>4.6293533e+01</td><td>4.1300915e-03</td><td>285415</td><td>1594.50955</td><td>1495.20397</td><td>1.3810677e+05</td><td>4.1979458e+01</td><td>8.1969961e+03</td><td>1.0975377e+01</td><td>1.4525881e+05</td><td>4.6293533e+01</td><td>0</td><td>———</td><td>———</td><td>———</td><td>———</td><td>1594.50955</td><td>2.6878476e-04</td><td>1495.20397</td><td>2.7782816e-04</td><td>1.5475450e-03</td><td>2.6749233e-02</td></tr>\n",
       "<tr><td>1623.8705752242306</td><td>1.4509438e+05</td><td>4.6275921e+01</td><td>4.1300915e-03</td><td>285416</td><td>1594.50497</td><td>1495.19640</td><td>1.3794945e+05</td><td>4.1963490e+01</td><td>8.2075996e+03</td><td>1.0978542e+01</td><td>1.4509438e+05</td><td>4.6275921e+01</td><td>0</td><td>———</td><td>———</td><td>———</td><td>———</td><td>1594.50497</td><td>2.6859526e-04</td><td>1495.19640</td><td>2.7791265e-04</td><td>-4.9650767e-03</td><td>1.7713983e-02</td></tr>\n",
       "<tr><td>1623.8719641120626</td><td>1.4514116e+05</td><td>4.6281452e+01</td><td>4.1300911e-03</td><td>285417</td><td>1594.50919</td><td>1495.19740</td><td>1.3801700e+05</td><td>4.1968506e+01</td><td>8.2046406e+03</td><td>1.0979520e+01</td><td>1.4514116e+05</td><td>4.6281452e+01</td><td>0</td><td>———</td><td>———</td><td>———</td><td>———</td><td>1594.50919</td><td>2.6849250e-04</td><td>1495.19740</td><td>2.7780098e-04</td><td>-4.2919975e-04</td><td>1.9417612e-02</td></tr>\n",
       "<tr><td>1623.8733530003617</td><td>1.4514544e+05</td><td>4.6296043e+01</td><td>4.1300911e-03</td><td>285418</td><td>1594.50793</td><td>1495.19645</td><td>1.3810427e+05</td><td>4.1981739e+01</td><td>8.2061943e+03</td><td>1.0978311e+01</td><td>1.4514544e+05</td><td>4.6296043e+01</td><td>0</td><td>———</td><td>———</td><td>———</td><td>———</td><td>1594.50793</td><td>2.6854844e-04</td><td>1495.19645</td><td>2.7750217e-04</td><td>-2.1659259e-03</td><td>1.7955607e-02</td></tr>\n",
       "<tr><td>1623.874741888195</td><td>1.4511209e+05</td><td>4.6289986e+01</td><td>4.1300906e-03</td><td>285419</td><td>1594.51235</td><td>1495.20434</td><td>1.3806867e+05</td><td>4.1976246e+01</td><td>8.1910835e+03</td><td>1.0977579e+01</td><td>1.4511209e+05</td><td>4.6289986e+01</td><td>0</td><td>———</td><td>———</td><td>———</td><td>———</td><td>1594.51235</td><td>2.6880525e-04</td><td>1495.20434</td><td>2.7775252e-04</td><td>3.8834878e-03</td><td>2.7118277e-02</td></tr>\n",
       "<tr><td>1623.8761307764928</td><td>1.4511291e+05</td><td>4.6297356e+01</td><td>4.1300906e-03</td><td>285420</td><td>1594.50917</td><td>1495.20703</td><td>1.3810005e+05</td><td>4.1982925e+01</td><td>8.2212686e+03</td><td>1.0987351e+01</td><td>1.4511291e+05</td><td>4.6297356e+01</td><td>0</td><td>———</td><td>———</td><td>———</td><td>———</td><td>1594.50917</td><td>2.6868895e-04</td><td>1495.20703</td><td>2.7748069e-04</td><td>5.1376544e-04</td><td>3.1179274e-02</td></tr>\n",
       "<tr><td>1623.8775196643248</td><td>1.4509673e+05</td><td>4.6270992e+01</td><td>4.1300901e-03</td><td>285421</td><td>1594.50929</td><td>1495.19494</td><td>1.3796756e+05</td><td>4.1959023e+01</td><td>8.1922168e+03</td><td>1.0971313e+01</td><td>1.4509673e+05</td><td>4.6270992e+01</td><td>0</td><td>———</td><td>———</td><td>———</td><td>———</td><td>1594.50929</td><td>2.6852943e-04</td><td>1495.19494</td><td>2.7792642e-04</td><td>-6.2216300e-04</td><td>1.6510868e-02</td></tr>\n",
       "<tr><td>1623.878908552623</td><td>1.4515897e+05</td><td>4.6300354e+01</td><td>4.1300901e-03</td><td>285422</td><td>1594.50853</td><td>1495.19925</td><td>1.3812914e+05</td><td>4.1985649e+01</td><td>8.1978232e+03</td><td>1.0977905e+01</td><td>1.4515897e+05</td><td>4.6300354e+01</td><td>0</td><td>———</td><td>———</td><td>———</td><td>———</td><td>1594.50853</td><td>2.6842620e-04</td><td>1495.19925</td><td>2.7756451e-04</td><td>-1.0741225e-03</td><td>2.1123489e-02</td></tr>\n",
       "<tr><td>1623.8802974404557</td><td>1.4511895e+05</td><td>4.6295006e+01</td><td>4.1300897e-03</td><td>285423</td><td>1594.51531</td><td>1495.20276</td><td>1.3808659e+05</td><td>4.1980793e+01</td><td>8.2018291e+03</td><td>1.0982355e+01</td><td>1.4511895e+05</td><td>4.6295006e+01</td><td>0</td><td>———</td><td>———</td><td>———</td><td>———</td><td>1594.51531</td><td>2.6896366e-04</td><td>1495.20276</td><td>2.7767496e-04</td><td>7.6104011e-03</td><td>2.6309727e-02</td></tr>\n",
       "<tr><td>1623.8816863282884</td><td>1.4513592e+05</td><td>4.6291168e+01</td><td>4.1300892e-03</td><td>285424</td><td>1594.50880</td><td>1495.19692</td><td>1.3805759e+05</td><td>4.1977314e+01</td><td>8.2080723e+03</td><td>1.0980979e+01</td><td>1.4513592e+05</td><td>4.6291168e+01</td><td>0</td><td>———</td><td>———</td><td>———</td><td>———</td><td>1594.50880</td><td>2.6865522e-04</td><td>1495.19692</td><td>2.7760290e-04</td><td>-1.0052761e-03</td><td>1.9199558e-02</td></tr>\n",
       "<tr><td>1623.8830752165866</td><td>1.4516230e+05</td><td>4.6304897e+01</td><td>4.1300892e-03</td><td>285425</td><td>1594.51196</td><td>1495.20542</td><td>1.3821361e+05</td><td>4.1989761e+01</td><td>8.1880796e+03</td><td>1.0970625e+01</td><td>1.4516230e+05</td><td>4.6304897e+01</td><td>0</td><td>———</td><td>———</td><td>———</td><td>———</td><td>1594.51196</td><td>2.6844806e-04</td><td>1495.20542</td><td>2.7749958e-04</td><td>4.0553762e-03</td><td>2.8926712e-02</td></tr>\n",
       "<tr><td>1623.8844641044195</td><td>1.4511195e+05</td><td>4.6282146e+01</td><td>4.1300887e-03</td><td>285426</td><td>1594.50650</td><td>1495.19553</td><td>1.3802519e+05</td><td>4.1969135e+01</td><td>8.1972900e+03</td><td>1.0974746e+01</td><td>1.4511195e+05</td><td>4.6282146e+01</td><td>0</td><td>———</td><td>———</td><td>———</td><td>———</td><td>1594.50650</td><td>2.6857053e-04</td><td>1495.19553</td><td>2.7773943e-04</td><td>-3.8264189e-03</td><td>1.7217575e-02</td></tr>\n",
       "<tr><td>1623.885852992252</td><td>1.4514673e+05</td><td>4.6299255e+01</td><td>4.1300883e-03</td><td>285427</td><td>1594.51250</td><td>1495.19875</td><td>1.3814595e+05</td><td>4.1984650e+01</td><td>8.1966328e+03</td><td>1.0975970e+01</td><td>1.4514673e+05</td><td>4.6299255e+01</td><td>0</td><td>———</td><td>———</td><td>———</td><td>———</td><td>1594.51250</td><td>2.6875304e-04</td><td>1495.19875</td><td>2.7746431e-04</td><td>4.0350128e-03</td><td>2.1020656e-02</td></tr>\n",
       "<tr><td>1623.887241880085</td><td>1.4512947e+05</td><td>4.6311718e+01</td><td>4.1300878e-03</td><td>285428</td><td>1594.51029</td><td>1495.20027</td><td>1.3819616e+05</td><td>4.1995953e+01</td><td>8.2106660e+03</td><td>1.0980828e+01</td><td>1.4512947e+05</td><td>4.6311718e+01</td><td>0</td><td>———</td><td>———</td><td>———</td><td>———</td><td>1594.51029</td><td>2.6841587e-04</td><td>1495.20027</td><td>2.7754271e-04</td><td>1.2927278e-03</td><td>2.2115346e-02</td></tr>\n",
       "<tr><td>1623.888630768383</td><td>1.4522623e+05</td><td>4.6307037e+01</td><td>4.1300878e-03</td><td>285429</td><td>1594.51074</td><td>1495.19988</td><td>1.3814725e+05</td><td>4.1991711e+01</td><td>8.2142432e+03</td><td>1.0986974e+01</td><td>1.4522623e+05</td><td>4.6307037e+01</td><td>0</td><td>———</td><td>———</td><td>———</td><td>———</td><td>1594.51074</td><td>2.6877751e-04</td><td>1495.19988</td><td>2.7773750e-04</td><td>2.2299045e-03</td><td>2.2909850e-02</td></tr>\n",
       "<tr><td>1623.890019656216</td><td>1.4514483e+05</td><td>4.6295872e+01</td><td>4.1300873e-03</td><td>285430</td><td>1594.50954</td><td>1495.20056</td><td>1.3806852e+05</td><td>4.1981579e+01</td><td>8.2199912e+03</td><td>1.0988635e+01</td><td>1.4514483e+05</td><td>4.6295872e+01</td><td>0</td><td>———</td><td>———</td><td>———</td><td>———</td><td>1594.50954</td><td>2.6857582e-04</td><td>1495.20056</td><td>2.7776312e-04</td><td>3.6873556e-05</td><td>2.3652880e-02</td></tr>\n",
       "<tr><td>1623.8914085440485</td><td>1.4511658e+05</td><td>4.6308098e+01</td><td>4.1300869e-03</td><td>285431</td><td>1594.51204</td><td>1495.20178</td><td>1.3818438e+05</td><td>4.1992668e+01</td><td>8.2106533e+03</td><td>1.0981042e+01</td><td>1.4511658e+05</td><td>4.6308098e+01</td><td>0</td><td>———</td><td>———</td><td>———</td><td>———</td><td>1594.51204</td><td>2.6864404e-04</td><td>1495.20178</td><td>2.7745077e-04</td><td>3.5827013e-03</td><td>2.4443001e-02</td></tr>\n",
       "<tr><td>1623.8927974318815</td><td>1.4513509e+05</td><td>4.6301392e+01</td><td>4.1300864e-03</td><td>285432</td><td>1594.51138</td><td>1495.20063</td><td>1.3812217e+05</td><td>4.1986588e+01</td><td>8.2080566e+03</td><td>1.0986345e+01</td><td>1.4513509e+05</td><td>4.6301392e+01</td><td>0</td><td>———</td><td>———</td><td>———</td><td>———</td><td>1594.51138</td><td>2.6877309e-04</td><td>1495.20063</td><td>2.7747781e-04</td><td>2.8777386e-03</td><td>2.2993177e-02</td></tr>\n",
       "<tr><td>1623.8941863197135</td><td>1.4519853e+05</td><td>4.6297482e+01</td><td>4.1300859e-03</td><td>285433</td><td>1594.50550</td><td>1495.19556</td><td>1.3812323e+05</td><td>4.1983044e+01</td><td>8.1940312e+03</td><td>1.0974391e+01</td><td>1.4519853e+05</td><td>4.6297482e+01</td><td>0</td><td>———</td><td>———</td><td>———</td><td>———</td><td>1594.50550</td><td>2.6850612e-04</td><td>1495.19556</td><td>2.7757464e-04</td><td>-4.5290943e-03</td><td>1.6911790e-02</td></tr>\n",
       "<tr><td>1623.8955752075456</td><td>1.4521667e+05</td><td>4.6315666e+01</td><td>4.1300855e-03</td><td>285434</td><td>1594.50755</td><td>1495.19918</td><td>1.3825589e+05</td><td>4.1999531e+01</td><td>8.1967998e+03</td><td>1.0973343e+01</td><td>1.4521667e+05</td><td>4.6315666e+01</td><td>0</td><td>———</td><td>———</td><td>———</td><td>———</td><td>1594.50755</td><td>2.6833548e-04</td><td>1495.19918</td><td>2.7741978e-04</td><td>-1.5050994e-03</td><td>2.1134768e-02</td></tr>\n",
       "</table></div>"
      ],
      "text/plain": [
       "<TessLightCurve length=18187 LABEL=\"TIC 388857263\" SECTOR=11 AUTHOR=SPOC FLUX_ORIGIN=pdcsap_flux>\n",
       "       time             flux         flux_err       timecorr    cadenceno  centroid_col ... mom_centr1_err mom_centr2 mom_centr2_err   pos_corr1      pos_corr2   \n",
       "                    electron / s   electron / s        d                       pix      ...      pix          pix          pix            pix            pix      \n",
       "       Time           float32        float32        float32       int32      float64    ...    float32      float64      float32        float32        float32    \n",
       "------------------ -------------- -------------- -------------- ---------- ------------ ... -------------- ---------- -------------- -------------- --------------\n",
       "1596.7812314852974            ———            ———  3.6637241e-03     265912          ——— ...            ———        ———            ———            ———            ———\n",
       " 1596.782620410849            ———            ———  3.6637613e-03     265913          ——— ...            ———        ———            ———            ———            ———\n",
       "   1596.7840093364            ———            ———  3.6637986e-03     265914          ——— ...            ———        ———            ———            ———            ———\n",
       " 1596.785398261952            ———            ———  3.6638358e-03     265915          ——— ...            ———        ———            ———            ———            ———\n",
       " 1596.786787187271            ———            ———  3.6638728e-03     265916          ——— ...            ———        ———            ———            ———            ———\n",
       "1596.7881761128226            ———            ———  3.6639101e-03     265917          ——— ...            ———        ———            ———            ———            ———\n",
       "1596.7895650383737            ———            ———  3.6639473e-03     265918          ——— ...            ———        ———            ———            ———            ———\n",
       "1596.7909539639252            ———            ———  3.6639846e-03     265919          ——— ...            ———        ———            ———            ———            ———\n",
       "1596.7923428894771            ———            ———  3.6640218e-03     265920          ——— ...            ———        ———            ———            ———            ———\n",
       "1596.7937318147954            ———            ———  3.6640589e-03     265921          ——— ...            ———        ———            ———            ———            ———\n",
       " 1596.795120740346            ———            ———  3.6640961e-03     265922   1594.51348 ...  3.6756817e-04 1495.16274  3.8251819e-04 -2.9198943e-02 -2.7634077e-02\n",
       " 1596.796509665897            ———            ———  3.6641334e-03     265923   1594.51355 ...  3.6845368e-04 1495.16401  3.8351584e-04 -2.9063346e-02 -2.6384002e-02\n",
       "1596.7978985914485            ———            ———  3.6641706e-03     265924   1594.51327 ...  3.6926469e-04 1495.16478  3.8430004e-04 -2.8944904e-02 -2.5124338e-02\n",
       "1596.7992875169996            ———            ———  3.6642079e-03     265925   1594.51461 ...  3.6967164e-04 1495.17421  3.8418442e-04 -2.7743485e-02 -1.3273397e-02\n",
       "1596.8006764425515            ———            ———  3.6642451e-03     265926   1594.51481 ...  3.7058044e-04 1495.15811  3.8572593e-04 -2.8006449e-02 -3.2736469e-02\n",
       "1596.8020653681035            ———            ———  3.6642824e-03     265927   1594.51458 ...  3.7157684e-04 1495.17353  3.8575870e-04 -2.8189896e-02 -1.4418653e-02\n",
       " 1596.803454293655            ———            ———  3.6643196e-03     265928   1594.51321 ...  3.7229483e-04 1495.15538  3.8788523e-04 -2.9987736e-02 -3.6585595e-02\n",
       " 1596.804843219206            ———            ———  3.6643569e-03     265929   1594.51342 ...  3.7274638e-04 1495.16500  3.8812525e-04 -3.0167343e-02 -2.4651023e-02\n",
       "1596.8062321447567            ———            ———  3.6643941e-03     265930   1594.51186 ...  3.7378701e-04 1495.16346  3.8890814e-04 -3.0369936e-02 -2.6818724e-02\n",
       "1596.8076210703082            ———            ———  3.6644314e-03     265931   1594.51280 ...  3.7430282e-04 1495.16749  3.8889304e-04 -2.9286116e-02 -1.9815395e-02\n",
       "1596.8090099958602            ———            ———  3.6644686e-03     265932   1594.51575 ...  3.7545423e-04 1495.16394  3.9047902e-04 -2.5922386e-02 -2.6705969e-02\n",
       "1596.8103989214112            ———            ———  3.6645059e-03     265933   1594.51214 ...  3.7554890e-04 1495.16620  3.9052340e-04 -3.1041937e-02 -2.2989307e-02\n",
       "               ...            ...            ...            ...        ...          ... ...            ...        ...            ...            ...            ...\n",
       " 1623.866408559801  1.4512038e+05  4.6293556e+01  4.1300920e-03     285413   1594.51285 ...  2.6864008e-04 1495.19788  2.7756713e-04  3.8416805e-03  1.9691367e-02\n",
       "   1623.8677974481  1.4519367e+05  4.6305511e+01  4.1300920e-03     285414   1594.50556 ...  2.6852899e-04 1495.19763  2.7756413e-04 -3.6760787e-03  1.9249422e-02\n",
       " 1623.869186335933  1.4525881e+05  4.6293533e+01  4.1300915e-03     285415   1594.50955 ...  2.6878476e-04 1495.20397  2.7782816e-04  1.5475450e-03  2.6749233e-02\n",
       "1623.8705752242306  1.4509438e+05  4.6275921e+01  4.1300915e-03     285416   1594.50497 ...  2.6859526e-04 1495.19640  2.7791265e-04 -4.9650767e-03  1.7713983e-02\n",
       "1623.8719641120626  1.4514116e+05  4.6281452e+01  4.1300911e-03     285417   1594.50919 ...  2.6849250e-04 1495.19740  2.7780098e-04 -4.2919975e-04  1.9417612e-02\n",
       "1623.8733530003617  1.4514544e+05  4.6296043e+01  4.1300911e-03     285418   1594.50793 ...  2.6854844e-04 1495.19645  2.7750217e-04 -2.1659259e-03  1.7955607e-02\n",
       " 1623.874741888195  1.4511209e+05  4.6289986e+01  4.1300906e-03     285419   1594.51235 ...  2.6880525e-04 1495.20434  2.7775252e-04  3.8834878e-03  2.7118277e-02\n",
       "1623.8761307764928  1.4511291e+05  4.6297356e+01  4.1300906e-03     285420   1594.50917 ...  2.6868895e-04 1495.20703  2.7748069e-04  5.1376544e-04  3.1179274e-02\n",
       "1623.8775196643248  1.4509673e+05  4.6270992e+01  4.1300901e-03     285421   1594.50929 ...  2.6852943e-04 1495.19494  2.7792642e-04 -6.2216300e-04  1.6510868e-02\n",
       " 1623.878908552623  1.4515897e+05  4.6300354e+01  4.1300901e-03     285422   1594.50853 ...  2.6842620e-04 1495.19925  2.7756451e-04 -1.0741225e-03  2.1123489e-02\n",
       "1623.8802974404557  1.4511895e+05  4.6295006e+01  4.1300897e-03     285423   1594.51531 ...  2.6896366e-04 1495.20276  2.7767496e-04  7.6104011e-03  2.6309727e-02\n",
       "1623.8816863282884  1.4513592e+05  4.6291168e+01  4.1300892e-03     285424   1594.50880 ...  2.6865522e-04 1495.19692  2.7760290e-04 -1.0052761e-03  1.9199558e-02\n",
       "1623.8830752165866  1.4516230e+05  4.6304897e+01  4.1300892e-03     285425   1594.51196 ...  2.6844806e-04 1495.20542  2.7749958e-04  4.0553762e-03  2.8926712e-02\n",
       "1623.8844641044195  1.4511195e+05  4.6282146e+01  4.1300887e-03     285426   1594.50650 ...  2.6857053e-04 1495.19553  2.7773943e-04 -3.8264189e-03  1.7217575e-02\n",
       " 1623.885852992252  1.4514673e+05  4.6299255e+01  4.1300883e-03     285427   1594.51250 ...  2.6875304e-04 1495.19875  2.7746431e-04  4.0350128e-03  2.1020656e-02\n",
       " 1623.887241880085  1.4512947e+05  4.6311718e+01  4.1300878e-03     285428   1594.51029 ...  2.6841587e-04 1495.20027  2.7754271e-04  1.2927278e-03  2.2115346e-02\n",
       " 1623.888630768383  1.4522623e+05  4.6307037e+01  4.1300878e-03     285429   1594.51074 ...  2.6877751e-04 1495.19988  2.7773750e-04  2.2299045e-03  2.2909850e-02\n",
       " 1623.890019656216  1.4514483e+05  4.6295872e+01  4.1300873e-03     285430   1594.50954 ...  2.6857582e-04 1495.20056  2.7776312e-04  3.6873556e-05  2.3652880e-02\n",
       "1623.8914085440485  1.4511658e+05  4.6308098e+01  4.1300869e-03     285431   1594.51204 ...  2.6864404e-04 1495.20178  2.7745077e-04  3.5827013e-03  2.4443001e-02\n",
       "1623.8927974318815  1.4513509e+05  4.6301392e+01  4.1300864e-03     285432   1594.51138 ...  2.6877309e-04 1495.20063  2.7747781e-04  2.8777386e-03  2.2993177e-02\n",
       "1623.8941863197135  1.4519853e+05  4.6297482e+01  4.1300859e-03     285433   1594.50550 ...  2.6850612e-04 1495.19556  2.7757464e-04 -4.5290943e-03  1.6911790e-02\n",
       "1623.8955752075456  1.4521667e+05  4.6315666e+01  4.1300855e-03     285434   1594.50755 ...  2.6833548e-04 1495.19918  2.7741978e-04 -1.5050994e-03  2.1134768e-02"
      ]
     },
     "execution_count": 375,
     "metadata": {},
     "output_type": "execute_result"
    }
   ],
   "source": [
    "lightcurve = search_result[0].download()\n",
    "lightcurve"
   ]
  },
  {
   "cell_type": "code",
   "execution_count": 240,
   "id": "a9414e89",
   "metadata": {
    "ExecuteTime": {
     "end_time": "2022-09-18T01:52:08.432806Z",
     "start_time": "2022-09-18T01:52:08.230479Z"
    }
   },
   "outputs": [
    {
     "data": {
      "text/plain": [
       "<AxesSubplot:xlabel='Time - 2457000 [BTJD days]', ylabel='Flux [$\\\\mathrm{e^{-}\\\\,s^{-1}}$]'>"
      ]
     },
     "execution_count": 240,
     "metadata": {},
     "output_type": "execute_result"
    },
    {
     "data": {
      "image/png": "[encoded data removed]",
      "text/plain": [
       "<Figure size 848.5x400 with 1 Axes>"
      ]
     },
     "metadata": {},
     "output_type": "display_data"
    }
   ],
   "source": [
    "lightcurve.plot()"
   ]
  },
  {
   "cell_type": "markdown",
   "id": "f4895ea2",
   "metadata": {},
   "source": [
    "# Periodogram analysis"
   ]
  },
  {
   "cell_type": "code",
   "execution_count": 241,
   "id": "be1d4c07",
   "metadata": {
    "ExecuteTime": {
     "end_time": "2022-09-18T01:52:23.083587Z",
     "start_time": "2022-09-18T01:52:23.076735Z"
    }
   },
   "outputs": [],
   "source": [
    "from astropy.timeseries import LombScargle"
   ]
  },
  {
   "cell_type": "code",
   "execution_count": 242,
   "id": "17cddefe",
   "metadata": {
    "ExecuteTime": {
     "end_time": "2022-09-18T01:52:23.828406Z",
     "start_time": "2022-09-18T01:52:23.378604Z"
    }
   },
   "outputs": [],
   "source": [
    "ls = LombScargle(lightcurve.time.value, lightcurve.flux.value, dy=lightcurve.flux_err.value,)\n",
    "frequency, power = ls.autopower(\n",
    "                        nyquist_factor=2)\n",
    "\n",
    "\n",
    "best_frequency = frequency[np.argmax(power)]\n",
    "y_fit = ls.model(lightcurve.time.value, best_frequency)"
   ]
  },
  {
   "cell_type": "code",
   "execution_count": 243,
   "id": "c071becf",
   "metadata": {
    "ExecuteTime": {
     "end_time": "2022-09-18T01:52:23.832189Z",
     "start_time": "2022-09-18T01:52:23.829692Z"
    }
   },
   "outputs": [
    {
     "data": {
      "text/plain": [
       "0.1460761971508668"
      ]
     },
     "execution_count": 243,
     "metadata": {},
     "output_type": "execute_result"
    }
   ],
   "source": [
    "best_frequency"
   ]
  },
  {
   "cell_type": "code",
   "execution_count": 244,
   "id": "9ddffc00",
   "metadata": {
    "ExecuteTime": {
     "end_time": "2022-09-18T01:52:24.504079Z",
     "start_time": "2022-09-18T01:52:24.493246Z"
    }
   },
   "outputs": [
    {
     "data": {
      "text/plain": [
       "array([2333.85831719, 2333.85854868, 2333.85878017, ..., 2360.55624915,\n",
       "       2360.55648063, 2360.55671211])"
      ]
     },
     "execution_count": 244,
     "metadata": {},
     "output_type": "execute_result"
    }
   ],
   "source": [
    "lightcurve.time.value"
   ]
  },
  {
   "cell_type": "code",
   "execution_count": 245,
   "id": "922e2fed",
   "metadata": {
    "ExecuteTime": {
     "end_time": "2022-09-18T01:52:25.072684Z",
     "start_time": "2022-09-18T01:52:24.976006Z"
    }
   },
   "outputs": [
    {
     "data": {
      "text/plain": [
       "[<matplotlib.lines.Line2D at 0x14192b7c0>]"
      ]
     },
     "execution_count": 245,
     "metadata": {},
     "output_type": "execute_result"
    },
    {
     "data": {
      "image/png": "[encoded data removed]",
      "text/plain": [
       "<Figure size 640x480 with 1 Axes>"
      ]
     },
     "metadata": {},
     "output_type": "display_data"
    }
   ],
   "source": [
    "plt.plot(lightcurve.time.value, lightcurve.flux.value)\n",
    "plt.plot(lightcurve.time.value, y_fit)\n",
    "# plt.yscale('log')"
   ]
  },
  {
   "cell_type": "code",
   "execution_count": 246,
   "id": "f95dece8",
   "metadata": {
    "ExecuteTime": {
     "end_time": "2022-09-18T01:52:34.722027Z",
     "start_time": "2022-09-18T01:52:34.417165Z"
    }
   },
   "outputs": [
    {
     "data": {
      "text/plain": [
       "<AxesSubplot:xlabel='Phase [JD]', ylabel='Flux [$\\\\mathrm{e^{-}\\\\,s^{-1}}$]'>"
      ]
     },
     "execution_count": 246,
     "metadata": {},
     "output_type": "execute_result"
    },
    {
     "data": {
      "image/png": "[encoded data removed]",
      "text/plain": [
       "<Figure size 848.5x400 with 1 Axes>"
      ]
     },
     "metadata": {},
     "output_type": "display_data"
    }
   ],
   "source": [
    "# for fun, we can fold at this period\n",
    "lightcurve.fold(period=1/best_frequency).plot()"
   ]
  },
  {
   "cell_type": "code",
   "execution_count": 247,
   "id": "ef7ce945",
   "metadata": {
    "ExecuteTime": {
     "end_time": "2022-09-18T01:52:35.530426Z",
     "start_time": "2022-09-18T01:52:35.434161Z"
    }
   },
   "outputs": [
    {
     "data": {
      "text/plain": [
       "[<matplotlib.lines.Line2D at 0x1419baad0>]"
      ]
     },
     "execution_count": 247,
     "metadata": {},
     "output_type": "execute_result"
    },
    {
     "data": {
      "image/png": "[encoded data removed]",
      "text/plain": [
       "<Figure size 640x480 with 1 Axes>"
      ]
     },
     "metadata": {},
     "output_type": "display_data"
    }
   ],
   "source": [
    "plt.plot(lightcurve.time.value, lightcurve.flux.value/y_fit)"
   ]
  },
  {
   "cell_type": "code",
   "execution_count": 248,
   "id": "c97381e7",
   "metadata": {
    "ExecuteTime": {
     "end_time": "2022-09-18T01:52:35.861375Z",
     "start_time": "2022-09-18T01:52:35.855487Z"
    }
   },
   "outputs": [],
   "source": [
    "cleaned_once = lightcurve.flux.value/y_fit"
   ]
  },
  {
   "cell_type": "code",
   "execution_count": 249,
   "id": "6753fe5f",
   "metadata": {
    "ExecuteTime": {
     "end_time": "2022-09-18T01:52:36.696641Z",
     "start_time": "2022-09-18T01:52:36.287801Z"
    }
   },
   "outputs": [],
   "source": [
    "ls = LombScargle(lightcurve.time.value, cleaned_once)\n",
    "frequency, power = ls.autopower(\n",
    "                        nyquist_factor=2)\n",
    "\n",
    "\n",
    "best_frequency = frequency[np.argmax(power)]\n",
    "y_fit = ls.model(lightcurve.time.value, best_frequency)"
   ]
  },
  {
   "cell_type": "code",
   "execution_count": 250,
   "id": "a7a26098",
   "metadata": {
    "ExecuteTime": {
     "end_time": "2022-09-18T01:52:36.701791Z",
     "start_time": "2022-09-18T01:52:36.697899Z"
    }
   },
   "outputs": [
    {
     "data": {
      "text/plain": [
       "0.0"
      ]
     },
     "execution_count": 250,
     "metadata": {},
     "output_type": "execute_result"
    }
   ],
   "source": [
    "ls.false_alarm_probability(power.max()) "
   ]
  },
  {
   "cell_type": "code",
   "execution_count": 251,
   "id": "4c1c804d",
   "metadata": {
    "ExecuteTime": {
     "end_time": "2022-09-18T01:52:37.490042Z",
     "start_time": "2022-09-18T01:52:37.270356Z"
    }
   },
   "outputs": [
    {
     "data": {
      "image/png": "[encoded data removed]",
      "text/plain": [
       "<Figure size 640x480 with 1 Axes>"
      ]
     },
     "metadata": {},
     "output_type": "display_data"
    }
   ],
   "source": [
    "plt.plot(frequency, power)\n",
    "plt.xscale('log')"
   ]
  },
  {
   "cell_type": "code",
   "execution_count": 252,
   "id": "41bef8ca",
   "metadata": {
    "ExecuteTime": {
     "end_time": "2022-09-18T01:52:38.386932Z",
     "start_time": "2022-09-18T01:52:38.284540Z"
    }
   },
   "outputs": [
    {
     "data": {
      "text/plain": [
       "[<matplotlib.lines.Line2D at 0x144af5270>]"
      ]
     },
     "execution_count": 252,
     "metadata": {},
     "output_type": "execute_result"
    },
    {
     "data": {
      "image/png": "[encoded data removed]",
      "text/plain": [
       "<Figure size 640x480 with 1 Axes>"
      ]
     },
     "metadata": {},
     "output_type": "display_data"
    }
   ],
   "source": [
    "plt.plot(lightcurve.time.value, cleaned_once)\n",
    "plt.plot(lightcurve.time.value, y_fit)\n"
   ]
  },
  {
   "cell_type": "code",
   "execution_count": 253,
   "id": "7ee0f7da",
   "metadata": {
    "ExecuteTime": {
     "end_time": "2022-09-18T01:52:38.870260Z",
     "start_time": "2022-09-18T01:52:38.863060Z"
    }
   },
   "outputs": [],
   "source": [
    "cleaned_twice = cleaned_once/y_fit"
   ]
  },
  {
   "cell_type": "code",
   "execution_count": 254,
   "id": "c7f995c0",
   "metadata": {
    "ExecuteTime": {
     "end_time": "2022-09-18T01:52:39.315100Z",
     "start_time": "2022-09-18T01:52:39.223580Z"
    }
   },
   "outputs": [
    {
     "data": {
      "text/plain": [
       "[<matplotlib.lines.Line2D at 0x144aad420>]"
      ]
     },
     "execution_count": 254,
     "metadata": {},
     "output_type": "execute_result"
    },
    {
     "data": {
      "image/png": "[encoded data removed]",
      "text/plain": [
       "<Figure size 640x480 with 1 Axes>"
      ]
     },
     "metadata": {},
     "output_type": "display_data"
    }
   ],
   "source": [
    "plt.plot(lightcurve.time.value,cleaned_twice)"
   ]
  },
  {
   "cell_type": "code",
   "execution_count": 255,
   "id": "ac276ec8",
   "metadata": {
    "ExecuteTime": {
     "end_time": "2022-09-18T01:52:40.830894Z",
     "start_time": "2022-09-18T01:52:40.423933Z"
    }
   },
   "outputs": [],
   "source": [
    "ls = LombScargle(lightcurve.time.value, cleaned_twice)\n",
    "frequency, power = ls.autopower(\n",
    "                        nyquist_factor=2)\n",
    "\n",
    "\n",
    "best_frequency = frequency[np.argmax(power)]\n",
    "y_fit = ls.model(lightcurve.time.value, best_frequency)"
   ]
  },
  {
   "cell_type": "code",
   "execution_count": 256,
   "id": "abf5f072",
   "metadata": {
    "ExecuteTime": {
     "end_time": "2022-09-18T01:52:40.836039Z",
     "start_time": "2022-09-18T01:52:40.832156Z"
    }
   },
   "outputs": [
    {
     "data": {
      "text/plain": [
       "3.065993328564256e-255"
      ]
     },
     "execution_count": 256,
     "metadata": {},
     "output_type": "execute_result"
    }
   ],
   "source": [
    "ls.false_alarm_probability(power.max()) "
   ]
  },
  {
   "cell_type": "code",
   "execution_count": 257,
   "id": "9de0a14b",
   "metadata": {
    "ExecuteTime": {
     "end_time": "2022-09-18T01:52:41.356724Z",
     "start_time": "2022-09-18T01:52:41.159861Z"
    }
   },
   "outputs": [
    {
     "data": {
      "image/png": "[encoded data removed]",
      "text/plain": [
       "<Figure size 640x480 with 1 Axes>"
      ]
     },
     "metadata": {},
     "output_type": "display_data"
    }
   ],
   "source": [
    "plt.plot(frequency, power)\n",
    "plt.xscale('log')"
   ]
  },
  {
   "cell_type": "code",
   "execution_count": 258,
   "id": "cd347ffd",
   "metadata": {
    "ExecuteTime": {
     "end_time": "2022-09-18T01:52:41.897653Z",
     "start_time": "2022-09-18T01:52:41.802286Z"
    }
   },
   "outputs": [
    {
     "data": {
      "text/plain": [
       "[<matplotlib.lines.Line2D at 0x1449b4040>]"
      ]
     },
     "execution_count": 258,
     "metadata": {},
     "output_type": "execute_result"
    },
    {
     "data": {
      "image/png": "[encoded data removed]",
      "text/plain": [
       "<Figure size 640x480 with 1 Axes>"
      ]
     },
     "metadata": {},
     "output_type": "display_data"
    }
   ],
   "source": [
    "plt.plot(lightcurve.time.value, cleaned_twice)\n",
    "plt.plot(lightcurve.time.value, y_fit)"
   ]
  },
  {
   "cell_type": "code",
   "execution_count": 259,
   "id": "f1d778b9",
   "metadata": {
    "ExecuteTime": {
     "end_time": "2022-09-18T01:52:42.156313Z",
     "start_time": "2022-09-18T01:52:42.153571Z"
    }
   },
   "outputs": [],
   "source": [
    "cleaned_thrice = cleaned_twice / y_fit"
   ]
  },
  {
   "cell_type": "code",
   "execution_count": 260,
   "id": "0a2964b3",
   "metadata": {
    "ExecuteTime": {
     "end_time": "2022-09-18T01:52:42.971234Z",
     "start_time": "2022-09-18T01:52:42.561518Z"
    }
   },
   "outputs": [],
   "source": [
    "ls = LombScargle(lightcurve.time.value, cleaned_thrice)\n",
    "frequency, power = ls.autopower(\n",
    "                        nyquist_factor=2)\n",
    "\n",
    "\n",
    "best_frequency = frequency[np.argmax(power)]\n",
    "y_fit = ls.model(lightcurve.time.value, best_frequency)"
   ]
  },
  {
   "cell_type": "code",
   "execution_count": 261,
   "id": "3e951186",
   "metadata": {
    "ExecuteTime": {
     "end_time": "2022-09-18T01:52:43.227555Z",
     "start_time": "2022-09-18T01:52:43.223222Z"
    }
   },
   "outputs": [
    {
     "data": {
      "text/plain": [
       "1.0816202306824183e-183"
      ]
     },
     "execution_count": 261,
     "metadata": {},
     "output_type": "execute_result"
    }
   ],
   "source": [
    "ls.false_alarm_probability(power.max()) "
   ]
  },
  {
   "cell_type": "code",
   "execution_count": 262,
   "id": "8621310b",
   "metadata": {
    "ExecuteTime": {
     "end_time": "2022-09-18T01:52:47.033594Z",
     "start_time": "2022-09-18T01:52:47.028071Z"
    }
   },
   "outputs": [],
   "source": [
    "# todo: check if standard deviation of residuals decreases with each step."
   ]
  },
  {
   "cell_type": "markdown",
   "id": "5185087d",
   "metadata": {},
   "source": [
    "# Filtering"
   ]
  },
  {
   "cell_type": "code",
   "execution_count": 263,
   "id": "98dfd31d",
   "metadata": {
    "ExecuteTime": {
     "end_time": "2022-09-18T01:52:47.780344Z",
     "start_time": "2022-09-18T01:52:47.774869Z"
    }
   },
   "outputs": [],
   "source": [
    "#todo: do the running mean\n",
    "import numpy as np\n",
    "import matplotlib.pyplot as plt\n",
    "\n",
    "from astropy.convolution import Gaussian1DKernel, Box1DKernel, convolve\n"
   ]
  },
  {
   "cell_type": "code",
   "execution_count": 264,
   "id": "6346a20c",
   "metadata": {
    "ExecuteTime": {
     "end_time": "2022-09-18T01:52:48.051331Z",
     "start_time": "2022-09-18T01:52:48.043245Z"
    }
   },
   "outputs": [
    {
     "data": {
      "text/plain": [
       "array([0.23704242, 0.23704242, 0.23704218, ..., 0.23703598, 0.2370355 ,\n",
       "       0.2370355 ])"
      ]
     },
     "execution_count": 264,
     "metadata": {},
     "output_type": "execute_result"
    }
   ],
   "source": [
    "np.diff(lightcurve.time.value) * 1024"
   ]
  },
  {
   "cell_type": "code",
   "execution_count": 265,
   "id": "2da6fa1e",
   "metadata": {
    "ExecuteTime": {
     "end_time": "2022-09-18T01:52:48.528748Z",
     "start_time": "2022-09-18T01:52:48.330905Z"
    }
   },
   "outputs": [
    {
     "data": {
      "text/plain": [
       "(0.95, 1.05)"
      ]
     },
     "execution_count": 265,
     "metadata": {},
     "output_type": "execute_result"
    },
    {
     "data": {
      "image/png": "[encoded data removed]",
      "text/plain": [
       "<Figure size 640x480 with 1 Axes>"
      ]
     },
     "metadata": {},
     "output_type": "display_data"
    }
   ],
   "source": [
    "# global view\n",
    "width = 1024\n",
    "g = Box1DKernel(width=width)\n",
    "\n",
    "z = convolve(cleaned_twice, g)\n",
    "\n",
    "plt.plot(lightcurve.time.value, cleaned_twice)\n",
    "\n",
    "dt = np.diff(lightcurve.time.value)[0]\n",
    "\n",
    "plt.plot(lightcurve.time.value, z, color='black')\n",
    "plt.xlim(lightcurve.time.value.min() + dt * width, lightcurve.time.value.max() - dt * width)\n",
    "\n",
    "plt.ylim(0.95, 1.05)"
   ]
  },
  {
   "cell_type": "code",
   "execution_count": 266,
   "id": "0d31ea6f",
   "metadata": {
    "ExecuteTime": {
     "end_time": "2022-09-18T01:52:49.499786Z",
     "start_time": "2022-09-18T01:52:49.313006Z"
    }
   },
   "outputs": [
    {
     "data": {
      "text/plain": [
       "[<matplotlib.lines.Line2D at 0x144a33250>]"
      ]
     },
     "execution_count": 266,
     "metadata": {},
     "output_type": "execute_result"
    },
    {
     "data": {
      "image/png": "[encoded data removed]",
      "text/plain": [
       "<Figure size 640x480 with 1 Axes>"
      ]
     },
     "metadata": {},
     "output_type": "display_data"
    }
   ],
   "source": [
    "plt.plot(np.square(cleaned_twice - z))\n",
    "\n",
    "cleanthing = np.square(cleaned_twice - z)\n",
    "z2 = convolve(cleanthing, g)\n",
    "\n",
    "plt.plot(np.sqrt(z2))"
   ]
  },
  {
   "cell_type": "code",
   "execution_count": 267,
   "id": "893a77c6",
   "metadata": {
    "ExecuteTime": {
     "end_time": "2022-09-18T01:52:49.688248Z",
     "start_time": "2022-09-18T01:52:49.686681Z"
    }
   },
   "outputs": [],
   "source": [
    "# check the rolling average approaches"
   ]
  },
  {
   "cell_type": "code",
   "execution_count": 268,
   "id": "5c135c5c",
   "metadata": {
    "ExecuteTime": {
     "end_time": "2022-09-18T01:52:50.162580Z",
     "start_time": "2022-09-18T01:52:50.152729Z"
    }
   },
   "outputs": [
    {
     "data": {
      "text/plain": [
       "0.8349345247375174"
      ]
     },
     "execution_count": 268,
     "metadata": {},
     "output_type": "execute_result"
    }
   ],
   "source": [
    "np.sqrt(z)[200]"
   ]
  },
  {
   "cell_type": "code",
   "execution_count": 269,
   "id": "435df635",
   "metadata": {
    "ExecuteTime": {
     "end_time": "2022-09-18T01:52:52.334266Z",
     "start_time": "2022-09-18T01:52:52.315252Z"
    }
   },
   "outputs": [
    {
     "data": {
      "text/plain": [
       "0              NaN\n",
       "1              NaN\n",
       "2              NaN\n",
       "3              NaN\n",
       "4              NaN\n",
       "            ...   \n",
       "111050    0.001021\n",
       "111051    0.001021\n",
       "111052    0.001026\n",
       "111053    0.001037\n",
       "111054    0.001030\n",
       "Length: 111055, dtype: float64"
      ]
     },
     "execution_count": 269,
     "metadata": {},
     "output_type": "execute_result"
    }
   ],
   "source": [
    "s = pd.Series(cleaned_twice)\n",
    "s.rolling(68).std()"
   ]
  },
  {
   "cell_type": "code",
   "execution_count": null,
   "id": "57b41ce8",
   "metadata": {
    "ExecuteTime": {
     "end_time": "2022-08-14T20:04:17.641706Z",
     "start_time": "2022-08-14T20:04:17.595176Z"
    }
   },
   "outputs": [],
   "source": []
  },
  {
   "cell_type": "code",
   "execution_count": 270,
   "id": "6f84b927",
   "metadata": {
    "ExecuteTime": {
     "end_time": "2022-09-18T01:52:53.241086Z",
     "start_time": "2022-09-18T01:52:53.151895Z"
    }
   },
   "outputs": [
    {
     "data": {
      "text/plain": [
       "[<matplotlib.lines.Line2D at 0x144a9e3e0>]"
      ]
     },
     "execution_count": 270,
     "metadata": {},
     "output_type": "execute_result"
    },
    {
     "data": {
      "image/png": "[encoded data removed]",
      "text/plain": [
       "<Figure size 640x480 with 1 Axes>"
      ]
     },
     "metadata": {},
     "output_type": "display_data"
    }
   ],
   "source": [
    "plt.plot(s.rolling(1024).std()[100:-100].values)\n",
    "plt.plot(np.sqrt(z2[100:-100]))\n",
    "# good enough to do the convolution without introducing a new dependency!"
   ]
  },
  {
   "cell_type": "markdown",
   "id": "4b46ed4b",
   "metadata": {},
   "source": [
    "# Flare candidate detection"
   ]
  },
  {
   "cell_type": "code",
   "execution_count": 271,
   "id": "236554c1",
   "metadata": {
    "ExecuteTime": {
     "end_time": "2022-09-18T01:52:55.589826Z",
     "start_time": "2022-09-18T01:52:55.476278Z"
    }
   },
   "outputs": [
    {
     "data": {
      "text/plain": [
       "(0.95, 1.05)"
      ]
     },
     "execution_count": 271,
     "metadata": {},
     "output_type": "execute_result"
    },
    {
     "data": {
      "image/png": "[encoded data removed]",
      "text/plain": [
       "<Figure size 640x480 with 1 Axes>"
      ]
     },
     "metadata": {},
     "output_type": "display_data"
    }
   ],
   "source": [
    "# local view\n",
    "width = 128\n",
    "g = Box1DKernel(width=width)\n",
    "\n",
    "z = convolve(cleaned_twice, g)\n",
    "\n",
    "plt.plot(lightcurve.time.value, cleaned_twice)\n",
    "\n",
    "dt = np.diff(lightcurve.time.value)[0]\n",
    "\n",
    "plt.plot(lightcurve.time.value, z, color='black')\n",
    "plt.xlim(lightcurve.time.value.min() + dt * width, lightcurve.time.value.max() - dt * width)\n",
    "\n",
    "plt.ylim(0.95, 1.05)"
   ]
  },
  {
   "cell_type": "code",
   "execution_count": 272,
   "id": "6c19c22a",
   "metadata": {
    "ExecuteTime": {
     "end_time": "2022-09-18T01:52:56.151382Z",
     "start_time": "2022-09-18T01:52:56.147771Z"
    }
   },
   "outputs": [],
   "source": [
    "# are there 3 data points greater than 3 sigma?"
   ]
  },
  {
   "cell_type": "code",
   "execution_count": 273,
   "id": "8b38faa7",
   "metadata": {
    "ExecuteTime": {
     "end_time": "2022-09-18T01:52:56.709979Z",
     "start_time": "2022-09-18T01:52:56.617793Z"
    }
   },
   "outputs": [
    {
     "data": {
      "text/plain": [
       "(0.85, 1.25)"
      ]
     },
     "execution_count": 273,
     "metadata": {},
     "output_type": "execute_result"
    },
    {
     "data": {
      "image/png": "[encoded data removed]",
      "text/plain": [
       "<Figure size 640x480 with 1 Axes>"
      ]
     },
     "metadata": {},
     "output_type": "display_data"
    }
   ],
   "source": [
    "sigma =  np.sqrt(z2)\n",
    "\n",
    "plt.plot(lightcurve.time.value, z, color='black')\n",
    "plt.xlim(lightcurve.time.value.min() + dt * width, lightcurve.time.value.max() - dt * width)\n",
    "\n",
    "\n",
    "\n",
    "mask = cleaned_twice > z + 3 * sigma\n",
    "\n",
    "plt.scatter(lightcurve.time.value[mask], cleaned_twice[mask], marker='x', color='goldenrod')\n",
    "\n",
    "\n",
    "\n",
    "plt.plot(lightcurve.time.value, cleaned_twice)\n",
    "plt.ylim(0.85, 1.25)"
   ]
  },
  {
   "cell_type": "code",
   "execution_count": 358,
   "id": "e032b4d9",
   "metadata": {
    "ExecuteTime": {
     "end_time": "2022-09-18T02:21:20.311783Z",
     "start_time": "2022-09-18T02:21:20.298167Z"
    }
   },
   "outputs": [
    {
     "data": {
      "text/plain": [
       "<Time object: scale='tdb' format='btjd' value=[2333.85831719 2333.85854868 2333.85878017 ... 2360.55624915 2360.55648063\n",
       " 2360.55671211]>"
      ]
     },
     "execution_count": 358,
     "metadata": {},
     "output_type": "execute_result"
    }
   ],
   "source": [
    "lightcurve.time"
   ]
  },
  {
   "cell_type": "code",
   "execution_count": 274,
   "id": "3d8c3953",
   "metadata": {
    "ExecuteTime": {
     "end_time": "2022-09-18T01:52:58.759708Z",
     "start_time": "2022-09-18T01:52:58.508398Z"
    }
   },
   "outputs": [],
   "source": [
    "# see whether there are consecutive times!\n",
    "\n",
    "ticker = 0\n",
    "ticker_arr = []\n",
    "for m in mask:\n",
    "    if m:\n",
    "        ticker += 1\n",
    "    else:\n",
    "        ticker = 0\n",
    "    ticker_arr += [ticker]"
   ]
  },
  {
   "cell_type": "code",
   "execution_count": 275,
   "id": "e8f1f71e",
   "metadata": {
    "ExecuteTime": {
     "end_time": "2022-09-18T01:52:58.793859Z",
     "start_time": "2022-09-18T01:52:58.787861Z"
    }
   },
   "outputs": [],
   "source": [
    "other_mask = np.array(ticker_arr) >= 3"
   ]
  },
  {
   "cell_type": "code",
   "execution_count": 276,
   "id": "d2d032b0",
   "metadata": {
    "ExecuteTime": {
     "end_time": "2022-09-18T01:52:59.375038Z",
     "start_time": "2022-09-18T01:52:59.281951Z"
    }
   },
   "outputs": [
    {
     "data": {
      "text/plain": [
       "(0.85, 1.25)"
      ]
     },
     "execution_count": 276,
     "metadata": {},
     "output_type": "execute_result"
    },
    {
     "data": {
      "image/png": "[encoded data removed]",
      "text/plain": [
       "<Figure size 640x480 with 1 Axes>"
      ]
     },
     "metadata": {},
     "output_type": "display_data"
    }
   ],
   "source": [
    "plt.plot(lightcurve.time.value, z, color='black')\n",
    "plt.xlim(lightcurve.time.value.min() + dt * width, lightcurve.time.value.max() - dt * width)\n",
    "\n",
    "\n",
    "plt.scatter(lightcurve.time.value[other_mask], cleaned_twice[other_mask], marker='x', color='goldenrod')\n",
    "\n",
    "\n",
    "\n",
    "plt.plot(lightcurve.time.value, cleaned_twice)\n",
    "plt.ylim(0.85, 1.25)\n",
    "# plt.xlim(1336.2, 1336.4)"
   ]
  },
  {
   "cell_type": "markdown",
   "id": "c5c52a73",
   "metadata": {},
   "source": [
    "# Write timestamps"
   ]
  },
  {
   "cell_type": "code",
   "execution_count": 341,
   "id": "5620ad15",
   "metadata": {
    "ExecuteTime": {
     "end_time": "2022-09-18T02:16:14.193043Z",
     "start_time": "2022-09-18T02:16:14.184167Z"
    }
   },
   "outputs": [],
   "source": [
    "# need to convert these back\n",
    "\n",
    "formatted_days = lightcurve.time.value[other_mask] + 2457000 # these are in BTJD days\n",
    "\n",
    "np.save(f'flare_timestamps_{star}.npy', formatted_days)"
   ]
  },
  {
   "cell_type": "code",
   "execution_count": 342,
   "id": "5bb14e2e",
   "metadata": {
    "ExecuteTime": {
     "end_time": "2022-09-18T02:16:14.951318Z",
     "start_time": "2022-09-18T02:16:14.939314Z"
    }
   },
   "outputs": [
    {
     "data": {
      "text/plain": [
       "<Time object: scale='tdb' format='btjd' value=[2333.85831719 2333.85854868 2333.85878017 ... 2360.55624915 2360.55648063\n",
       " 2360.55671211]>"
      ]
     },
     "execution_count": 342,
     "metadata": {},
     "output_type": "execute_result"
    }
   ],
   "source": [
    "lightcurve.time"
   ]
  },
  {
   "cell_type": "code",
   "execution_count": 363,
   "id": "f3095ba7",
   "metadata": {
    "ExecuteTime": {
     "end_time": "2022-09-18T02:22:53.511950Z",
     "start_time": "2022-09-18T02:22:53.501598Z"
    }
   },
   "outputs": [
    {
     "data": {
      "text/plain": [
       "array([59360.05671211])"
      ]
     },
     "execution_count": 363,
     "metadata": {},
     "output_type": "execute_result"
    }
   ],
   "source": [
    "lightkurve.btjd_to_astropy_time(2360.55671211).mjd"
   ]
  },
  {
   "cell_type": "code",
   "execution_count": 343,
   "id": "c6a0e0bb",
   "metadata": {
    "ExecuteTime": {
     "end_time": "2022-09-18T02:16:15.171852Z",
     "start_time": "2022-09-18T02:16:15.147992Z"
    }
   },
   "outputs": [
    {
     "ename": "ImportError",
     "evalue": "cannot import name 'Time' from 'astropy' (/Users/arjunsavel/opt/miniconda3/envs/uhj_magnet/lib/python3.10/site-packages/astropy/__init__.py)",
     "output_type": "error",
     "traceback": [
      "\u001b[0;31m---------------------------------------------------------------------------\u001b[0m",
      "\u001b[0;31mImportError\u001b[0m                               Traceback (most recent call last)",
      "Input \u001b[0;32mIn [343]\u001b[0m, in \u001b[0;36m<cell line: 1>\u001b[0;34m()\u001b[0m\n\u001b[0;32m----> 1\u001b[0m \u001b[38;5;28;01mfrom\u001b[39;00m \u001b[38;5;21;01mastropy\u001b[39;00m \u001b[38;5;28;01mimport\u001b[39;00m Time\n",
      "\u001b[0;31mImportError\u001b[0m: cannot import name 'Time' from 'astropy' (/Users/arjunsavel/opt/miniconda3/envs/uhj_magnet/lib/python3.10/site-packages/astropy/__init__.py)"
     ]
    }
   ],
   "source": [
    "from astropy import Time"
   ]
  },
  {
   "cell_type": "code",
   "execution_count": 344,
   "id": "3f79ccc3",
   "metadata": {
    "ExecuteTime": {
     "end_time": "2022-09-18T02:16:15.524655Z",
     "start_time": "2022-09-18T02:16:15.505212Z"
    }
   },
   "outputs": [
    {
     "ename": "NameError",
     "evalue": "name 'sometimes' is not defined",
     "output_type": "error",
     "traceback": [
      "\u001b[0;31m---------------------------------------------------------------------------\u001b[0m",
      "\u001b[0;31mNameError\u001b[0m                                 Traceback (most recent call last)",
      "Input \u001b[0;32mIn [344]\u001b[0m, in \u001b[0;36m<cell line: 1>\u001b[0;34m()\u001b[0m\n\u001b[0;32m----> 1\u001b[0m \u001b[43msometimes\u001b[49m\n",
      "\u001b[0;31mNameError\u001b[0m: name 'sometimes' is not defined"
     ]
    }
   ],
   "source": [
    "sometimes"
   ]
  },
  {
   "cell_type": "code",
   "execution_count": 355,
   "id": "d339db73",
   "metadata": {
    "ExecuteTime": {
     "end_time": "2022-09-18T02:19:57.979723Z",
     "start_time": "2022-09-18T02:19:57.971382Z"
    }
   },
   "outputs": [],
   "source": [
    "t = Time(2333.85831719 + 2457000, scale='tdb', format='btjd')"
   ]
  },
  {
   "cell_type": "code",
   "execution_count": 356,
   "id": "34717fbe",
   "metadata": {
    "ExecuteTime": {
     "end_time": "2022-09-18T02:19:58.443940Z",
     "start_time": "2022-09-18T02:19:58.437141Z"
    }
   },
   "outputs": [
    {
     "data": {
      "text/plain": [
       "2516333.35831719"
      ]
     },
     "execution_count": 356,
     "metadata": {},
     "output_type": "execute_result"
    }
   ],
   "source": [
    "t.mjd"
   ]
  },
  {
   "cell_type": "code",
   "execution_count": 347,
   "id": "af998990",
   "metadata": {
    "ExecuteTime": {
     "end_time": "2022-09-18T02:16:16.639639Z",
     "start_time": "2022-09-18T02:16:16.615276Z"
    }
   },
   "outputs": [
    {
     "ename": "NameError",
     "evalue": "name 'btjd' is not defined",
     "output_type": "error",
     "traceback": [
      "\u001b[0;31m---------------------------------------------------------------------------\u001b[0m",
      "\u001b[0;31mNameError\u001b[0m                                 Traceback (most recent call last)",
      "Input \u001b[0;32mIn [347]\u001b[0m, in \u001b[0;36m<cell line: 1>\u001b[0;34m()\u001b[0m\n\u001b[0;32m----> 1\u001b[0m \u001b[43mbtjd\u001b[49m\n",
      "\u001b[0;31mNameError\u001b[0m: name 'btjd' is not defined"
     ]
    }
   ],
   "source": [
    "btjd"
   ]
  },
  {
   "cell_type": "code",
   "execution_count": 348,
   "id": "a679eacf",
   "metadata": {
    "ExecuteTime": {
     "end_time": "2022-09-18T02:16:18.569342Z",
     "start_time": "2022-09-18T02:16:17.183004Z"
    }
   },
   "outputs": [],
   "source": [
    "obs_table = Observations.query_object(\"Proxima Centauri\",radius=\"10 arcsec\")\n",
    "#                                                    t_max=[t.mjd - 1, t.mjd + 1],\n",
    "#                                                    t_min=[t.mjd - 1, t.mjd + 1])"
   ]
  },
  {
   "cell_type": "code",
   "execution_count": 322,
   "id": "a8081a66",
   "metadata": {
    "ExecuteTime": {
     "end_time": "2022-09-18T02:12:33.986866Z",
     "start_time": "2022-09-18T02:12:33.962802Z"
    }
   },
   "outputs": [],
   "source": [
    "times = obs_table[obs_table['project']=='HST']['t_min']\n"
   ]
  },
  {
   "cell_type": "code",
   "execution_count": 374,
   "id": "a9d364b3",
   "metadata": {
    "ExecuteTime": {
     "end_time": "2022-09-18T02:28:15.802918Z",
     "start_time": "2022-09-18T02:28:15.647474Z"
    }
   },
   "outputs": [
    {
     "name": "stdout",
     "output_type": "stream",
     "text": [
      "-8351.170021045504\n",
      "-8351.168250258466\n",
      "-8351.165599749205\n",
      "-8351.159268776979\n",
      "-8351.157173869575\n",
      "-8351.155078962165\n",
      "-8351.151166878832\n",
      "-8351.148192388087\n",
      "-8351.14213918207\n",
      "-8351.140044193642\n",
      "-8351.137903070956\n",
      "-8329.588609048866\n",
      "-8329.587139060439\n",
      "-8329.58456965071\n",
      "-8329.57823867849\n",
      "-8329.57614377108\n",
      "-8329.573609048863\n",
      "-8329.569720159965\n",
      "-8329.567023354412\n",
      "-8329.56534507895\n",
      "-8341.650449283436\n",
      "-8341.648979376027\n",
      "-8341.646409862136\n",
      "-8341.640078878341\n",
      "-8341.637984051948\n",
      "-8341.635889063527\n",
      "-8341.631977061204\n",
      "-8341.629280267227\n",
      "-8341.622949283425\n",
      "-8294.641919182563\n",
      "-8294.640437666354\n",
      "-8294.638539552934\n",
      "-8294.635993256632\n",
      "-8294.634766370064\n",
      "-8294.633122886267\n",
      "-8294.63117844182\n",
      "-8294.62923396265\n",
      "-8285.67511367301\n",
      "-8285.673632145235\n",
      "-8285.671734043384\n",
      "-8285.66918774709\n",
      "-8285.667960848938\n",
      "-8285.666317376717\n",
      "-8285.664372966998\n",
      "-8285.662428441532\n",
      "-8275.692382145446\n",
      "-8275.69090066396\n",
      "-8275.68900256211\n",
      "-8275.686456265816\n",
      "-8275.684812747299\n",
      "-8275.683169182485\n",
      "-8275.681224738037\n",
      "-8275.679280374614\n",
      "-8263.103342875716\n",
      "-8263.101861359517\n",
      "-8263.099963165072\n",
      "-8263.097416868777\n",
      "-8263.09619006322\n",
      "-8263.094546463684\n",
      "-8263.092602053957\n",
      "-8263.090657655814\n",
      "-8248.110680759972\n",
      "-8248.109210852563\n",
      "-8248.107393769227\n",
      "-8248.104847472934\n",
      "-8248.10278724145\n",
      "-8248.10114376923\n",
      "-8248.099199278486\n",
      "-8248.097254880342\n",
      "-8248.096028063208\n",
      "-8242.99132895546\n",
      "-8242.989859048052\n",
      "-8242.98804187213\n",
      "-8242.985495575835\n",
      "-8242.983852057312\n",
      "-8242.982208538795\n",
      "-8242.980264175372\n",
      "-8242.978319649907\n",
      "-8242.976676177686\n",
      "-8239.640044187692\n",
      "-8239.638574280283\n",
      "-8239.636757150658\n",
      "-8239.634210854363\n",
      "-8239.632567382137\n",
      "-8239.630923782603\n",
      "-8239.628979372883\n",
      "-8239.627034974732\n",
      "-8229.792289560492\n",
      "-8229.790808079006\n",
      "-8229.788909977155\n",
      "-8229.786363680862\n",
      "-8229.784720162344\n",
      "-8229.783076678548\n",
      "-8229.781132153084\n",
      "-8229.77918775494\n",
      "-8215.797775675528\n",
      "-8215.79629427506\n",
      "-8215.794396045896\n",
      "-8215.791849749601\n",
      "-8215.790206277381\n",
      "-8215.788562758866\n",
      "-8215.786618268121\n",
      "-8215.785090490343\n",
      "-8209.369882158993\n",
      "-8209.368400677515\n",
      "-8209.366502575658\n",
      "-8209.363956279363\n",
      "-8209.362729381219\n",
      "-8209.361085862703\n",
      "-8209.35762526085\n",
      "-8209.356780272425\n",
      "-8190.661525683484\n",
      "-8190.660055822373\n",
      "-8190.658088183482\n",
      "-8190.655391424226\n",
      "-8190.6530998038525\n",
      "-8190.651282627931\n",
      "-8190.649164618673\n",
      "-8190.647092813113\n",
      "-8190.645275683489\n",
      "-8190.643481702004\n",
      "-8180.07940763135\n",
      "-8180.077926196162\n",
      "-8180.07575022394\n",
      "-8180.073099807281\n",
      "-8180.07180351098\n",
      "-8180.0700094832055\n",
      "-8180.067914622094\n",
      "-8180.065819714684\n",
      "-8180.064025686909\n",
      "-8180.062231705431\n",
      "-8171.978632217221\n",
      "-8171.97682661537\n",
      "-8171.97477800426\n",
      "-8171.972081210276\n",
      "-8171.970287309816\n",
      "-8171.968493328331\n",
      "-8171.966398420928\n",
      "-8171.96430351352\n",
      "-8171.962509485745\n",
      "-8171.960715504259\n",
      "-8154.169905324105\n",
      "-8154.168435416703\n",
      "-8154.1657155092935\n",
      "-8154.163285000035\n",
      "-8154.161571990775\n",
      "-8154.159650694482\n",
      "-8154.157602129669\n",
      "-8154.155588194479\n",
      "-8154.153794213\n",
      "-8154.152000231522\n",
      "-8143.525333613724\n",
      "-8143.523863625297\n",
      "-8143.521896032711\n",
      "-8143.519199308168\n",
      "-8143.51740532669\n",
      "-8143.515611345211\n",
      "-8143.5135164378025\n",
      "-8143.510426125302\n",
      "-8143.509627629933\n",
      "-8143.507428405394\n",
      "-8132.679882226937\n",
      "-8132.6784123195275\n",
      "-8132.676444726934\n",
      "-8132.673747921381\n",
      "-8132.67154884731\n",
      "-8132.669627516288\n",
      "-8132.667578939899\n",
      "-8132.665565132031\n",
      "-8132.663771115824\n",
      "-8132.661977134345\n",
      "-8123.274419219097\n",
      "-8123.272949311688\n",
      "-8123.270981719094\n",
      "-8123.267116024649\n",
      "-8123.266085932056\n",
      "-8123.264164635762\n",
      "-8123.262116024653\n",
      "-8123.260102135766\n",
      "-8123.258203941322\n",
      "-8123.256514126505\n",
      "-8113.366271118256\n",
      "-8113.364801210847\n",
      "-8113.362833618253\n",
      "-8113.360136812699\n",
      "-8113.357937738621\n",
      "-8113.356016442327\n",
      "-8113.353967831217\n",
      "-8113.3519539423305\n",
      "-8113.350160007141\n",
      "-8113.3483660256625\n",
      "-8102.520530331654\n",
      "-8102.519002519148\n",
      "-8102.516872924243\n",
      "-8102.514222426558\n",
      "-8102.512509428874\n",
      "-8102.510588202022\n",
      "-8102.508539637209\n",
      "-8102.506525702025\n",
      "-8102.504731720539\n",
      "-8102.50293773906\n",
      "-8093.416803525993\n",
      "-8093.415333618584\n",
      "-8093.413366025989\n",
      "-8093.410669220435\n",
      "-8093.4084701463635\n",
      "-8093.406548931087\n",
      "-8093.404500238952\n",
      "-8093.402486350065\n",
      "-8093.400692414883\n",
      "-8093.398898433397\n",
      "-8082.9168729234425\n",
      "-8082.915403016033\n",
      "-8082.913435423438\n",
      "-8082.909604404919\n",
      "-8082.908539636407\n",
      "-8082.9066183401055\n",
      "-8082.904569728995\n",
      "-8082.902555840108\n",
      "-8021.960102122098\n",
      "-8021.958574298022\n",
      "-8021.956444714685\n",
      "-8021.95379420543\n",
      "-8021.952081323485\n",
      "-8021.9501599924615\n",
      "-8021.948111416072\n",
      "-8021.946097411446\n",
      "-8021.94470860357\n",
      "-8011.224708599983\n",
      "-8011.223180822204\n",
      "-8011.221051192571\n",
      "-8011.2184006833095\n",
      "-8011.217092812938\n",
      "-8011.215298831458\n",
      "-8011.2132040050665\n",
      "-8011.211109016645\n",
      "-8011.2093150004375\n",
      "-8011.2075210999765\n",
      "-8000.383736327869\n",
      "-8000.3822085963875\n",
      "-8000.380078920464\n",
      "-8000.377428503796\n",
      "-8000.376120587129\n",
      "-8000.372277994538\n",
      "-8000.37174558713\n",
      "-8000.369731698235\n",
      "-8000.368342809349\n",
      "-8000.366548908887\n",
      "-7990.608609009879\n",
      "-7990.606201602469\n",
      "-7990.6046391024665\n",
      "-7990.601988604781\n",
      "-7990.600275676546\n",
      "-7990.598354380243\n",
      "-7990.596305815429\n",
      "-7990.594291880245\n",
      "-7990.592497898759\n",
      "-7990.590703917279\n",
      "-7788.750912349724\n",
      "-7788.749442442316\n",
      "-7788.747474849722\n",
      "-7788.744778055738\n",
      "-7788.742984027963\n",
      "-7788.741190046484\n",
      "-7788.739095139075\n",
      "-7788.737000231666\n",
      "-7788.735206250188\n",
      "-7788.733412268709\n",
      "-7907.584534888662\n",
      "-7907.583064981254\n",
      "-7907.581097469685\n",
      "-7907.578400664124\n",
      "-7907.576606682645\n",
      "-7907.574812701167\n",
      "-7907.572717793757\n",
      "-7907.570622886347\n",
      "-7907.568828904869\n",
      "-7907.567034888662\n",
      "-7894.525379797376\n",
      "-7894.523909970985\n",
      "-7894.521942378392\n",
      "-7894.519245572838\n",
      "-7894.517451591352\n",
      "-7894.515657609874\n",
      "-7894.513562702465\n",
      "-7894.511467795062\n",
      "-7894.509673813576\n",
      "-7894.507879797377\n",
      "-7883.817532692665\n",
      "-7883.816062785257\n",
      "-7883.814095111645\n",
      "-7883.811398398679\n",
      "-7883.809604370903\n",
      "-7883.807810389424\n",
      "-7883.805715482015\n",
      "-7883.803620574606\n",
      "-7883.801826593128\n",
      "-7872.9116414102455\n",
      "-7872.910171502836\n",
      "-7872.908203991268\n",
      "-7872.905507197283\n",
      "-7872.903713169509\n",
      "-7872.9019191880225\n",
      "-7872.899824280621\n",
      "-7872.897729373211\n",
      "-7863.144766412676\n",
      "-7863.143296505268\n",
      "-7863.141328912681\n",
      "-7863.138632199715\n",
      "-7863.13683817194\n",
      "-7863.135044190454\n",
      "-7863.132949283053\n",
      "-7863.130854375643\n",
      "-7844.779754890291\n",
      "-7844.778284982882\n",
      "-7844.776317390296\n",
      "-7844.773620584736\n",
      "-7844.771826603257\n",
      "-7844.770032621779\n",
      "-7844.76793771437\n",
      "-7844.765842887979\n",
      "-7844.764048906501\n",
      "-7835.74777568017\n",
      "-7835.746305819059\n",
      "-7835.744338180168\n",
      "-7835.74164150193\n",
      "-7835.739847485724\n",
      "-7835.738053504245\n",
      "-7835.735958596836\n",
      "-7835.733863689435\n",
      "-7835.732069707949\n",
      "-8186.977497906896\n",
      "-8186.976016506435\n",
      "-8186.974118323567\n",
      "-8186.9715719809765\n",
      "-8186.970345129122\n",
      "-8186.968701610605\n",
      "-8186.966757212455\n",
      "-8186.964812802736\n",
      "-8185.838609018375\n",
      "-8185.836803509117\n",
      "-8185.834905314672\n",
      "-8185.832359018378\n",
      "-8185.830715499862\n",
      "-8185.829071981345\n",
      "-8185.827127617916\n",
      "-8185.825183092458\n",
      "-8185.823956321621\n",
      "-8185.822312803105\n",
      "-8185.820912305421\n",
      "-8185.8195697128285\n",
      "-8185.776363694323\n",
      "-8185.774882212845\n",
      "-8185.7729840184\n",
      "-8185.770437722106\n",
      "-8185.768794203583\n",
      "-8185.767150685067\n",
      "-8185.765206321644\n",
      "-8185.763261796179\n",
      "-8185.76161832396\n",
      "-8185.759893821641\n",
      "-8185.758493323958\n",
      "-8185.757254817016\n",
      "-8176.129616012235\n",
      "-8176.128146104826\n",
      "-8176.126328928897\n",
      "-8176.123782632603\n",
      "-8176.121722493714\n",
      "-8176.1200789289005\n",
      "-8176.118134484461\n",
      "-8176.116190121031\n",
      "-8176.114963188166\n",
      "-8176.113319715939\n",
      "-8176.11191920668\n",
      "-8176.110576614094\n",
      "-8176.067741012254\n",
      "-8176.066271104846\n",
      "-8176.064453928917\n",
      "-8176.061907632623\n",
      "-8176.059847412716\n",
      "-8176.05820392892\n",
      "-8176.0562594844805\n",
      "-8176.054315005313\n",
      "-8176.053088188186\n",
      "-8176.051444715959\n",
      "-8176.0500442067\n",
      "-8176.048701614107\n",
      "-8169.0327062111555\n",
      "-8169.030565007454\n",
      "-8169.028875227358\n",
      "-8169.026375227364\n",
      "-8169.0248127273635\n",
      "-8169.023041894031\n",
      "-8169.021143711163\n",
      "-8169.019280319959\n",
      "-8169.018053514402\n",
      "-8169.016409914867\n",
      "-8169.015009486626\n",
      "-8169.013666894032\n",
      "-8168.970518826913\n",
      "-8168.969037310714\n",
      "-8168.967011801454\n",
      "-8168.964511801452\n",
      "-8168.963366014418\n",
      "-8168.961722414883\n",
      "-8168.959778005157\n",
      "-8168.9578336070135\n",
      "-8168.955773421828\n",
      "-8168.954048919517\n",
      "-8168.952972495903\n",
      "-8168.951629903309\n",
      "-8154.302752511571\n",
      "-8154.301271111111\n",
      "-8154.299245601851\n",
      "-8154.29674560185\n",
      "-8154.295183101856\n",
      "-8154.293412314813\n",
      "-8154.291514120369\n",
      "-8154.289650694444\n",
      "-8154.288007222225\n",
      "-8154.286282638888\n",
      "-8154.284882222223\n",
      "-8154.28364383102\n",
      "-8154.240900694463\n",
      "-8154.239419212978\n",
      "-8154.237393831032\n",
      "-8154.234893831038\n",
      "-8154.233736423629\n",
      "-8154.232092824095\n",
      "-8154.230148425944\n",
      "-8154.2282039352\n",
      "-8154.2261553240905\n",
      "-8154.224430833356\n",
      "-8154.223030324096\n",
      "-8154.221791898165\n",
      "-8141.7178799104095\n",
      "-8141.716398428931\n",
      "-8141.7143729196705\n",
      "-8141.711872919669\n",
      "-8141.71071551226\n",
      "-8141.709071993744\n",
      "-8141.707127630321\n",
      "-8141.705183104856\n",
      "-8141.703134493747\n",
      "-8141.701722421986\n",
      "-8141.700321993745\n",
      "-8141.6989794011515\n",
      "-8141.656039632646\n",
      "-8141.65455810487\n",
      "-8141.652532641908\n",
      "-8141.650032641905\n",
      "-8141.648875234497\n",
      "-8141.6472317159805\n",
      "-8141.6439331048705\n",
      "-8141.643169215978\n",
      "-8141.641294215983\n",
      "-8141.639569725241\n",
      "-8141.638169215981\n",
      "-8141.636930720608\n",
      "-8140.785842827273\n",
      "-8140.784315130512\n",
      "-8140.782335929121\n",
      "-8140.779835929126\n",
      "-8140.778273429125\n",
      "-8140.776502630514\n",
      "-8140.774604401348\n",
      "-8140.772741021714\n",
      "-8140.770958614312\n",
      "-8140.769372919867\n",
      "-8140.767972503202\n",
      "-8140.766734030981\n",
      "-8140.724060419879\n",
      "-8140.722729401355\n",
      "-8140.720912318026\n",
      "-8140.718366021725\n",
      "-8140.716722503208\n",
      "-8140.715079019413\n",
      "-8140.713134493954\n",
      "-8140.711190014786\n",
      "-8140.7093151305235\n",
      "-8140.707590512473\n",
      "-8140.706190130529\n",
      "-8140.704951623579\n",
      "-7772.298805837255\n",
      "-7772.296433152068\n",
      "-7772.294118337251\n",
      "-7772.290958568736\n",
      "-7772.2887363465115\n",
      "-7772.286595142809\n",
      "-7772.284835929851\n",
      "-7772.282405327998\n",
      "-7772.27988214513\n",
      "-7772.27774094142\n",
      "-7772.27559977244\n",
      "-7762.396109033435\n",
      "-7762.3940835704725\n",
      "-7762.391768755655\n",
      "-7762.388609033437\n",
      "-7762.386386857509\n",
      "-7762.384245653807\n",
      "-7762.382486348248\n",
      "-7762.3800558389885\n",
      "-7762.377532644543\n",
      "-7762.375391440842\n",
      "-7762.3732502371395\n",
      "-7631.544592808163\n",
      "-7631.542567345198\n",
      "-7631.540252530387\n",
      "-7631.53709280816\n",
      "-7631.534870632231\n",
      "-7631.532729428529\n",
      "-7631.530970122975\n",
      "-7631.528539532697\n",
      "-7631.526016419269\n",
      "-7631.523875215566\n",
      "-7631.521734011863\n",
      "-7743.941791951923\n",
      "-7743.939766442662\n",
      "-7743.937451627845\n",
      "-7743.934291951923\n",
      "-7743.932069764419\n",
      "-7743.929928444978\n",
      "-7743.92816926674\n",
      "-7743.925738745905\n",
      "-7743.923215563036\n",
      "-7743.921074359327\n",
      "-7743.9189331556245\n",
      "-7733.998458572543\n",
      "-7733.996433155877\n",
      "-7733.994118260049\n",
      "-7733.990958572544\n",
      "-7733.988736350325\n",
      "-7733.986595146615\n",
      "-7733.9848359336565\n",
      "-7733.982405331803\n",
      "-7733.979882148934\n",
      "-7733.97774106097\n",
      "-7733.97559977625\n",
      "-7560.401791913755\n",
      "-7560.399419228568\n",
      "-7560.397104413758\n",
      "-7560.393944610514\n",
      "-7560.391722423017\n",
      "-7560.389581219308\n",
      "-7560.387822006349\n",
      "-7560.385391404496\n",
      "-7560.382868302644\n",
      "-7560.380727098942\n",
      "-7560.37858589524\n",
      "-7550.756502515543\n",
      "-7550.754477017858\n",
      "-7550.752162237762\n",
      "-7550.749002515543\n",
      "-7550.746780293318\n",
      "-7550.744639089616\n",
      "-7550.74287983036\n",
      "-7550.740449321101\n",
      "-7550.737926207673\n",
      "-7550.735784922953\n",
      "-7550.733643719243\n",
      "-7541.039465525229\n",
      "-7541.037440015969\n",
      "-7541.0351252011515\n",
      "-7541.031965525231\n",
      "-7541.029743221988\n",
      "-7541.0276020182855\n",
      "-7541.025842793751\n",
      "-7541.023412319212\n",
      "-7541.020889090047\n",
      "-7541.018747886337\n",
      "-7541.016606728932\n",
      "-7531.990229415025\n",
      "-7531.988203905766\n",
      "-7531.985889090948\n",
      "-7531.982729415026\n",
      "-7531.980507227523\n",
      "-7531.978366023821\n",
      "-7531.976606729837\n",
      "-7531.974176127984\n",
      "-7531.971653026133\n",
      "-7522.871132228867\n",
      "-7522.869106731183\n",
      "-7522.866791916365\n",
      "-7522.8636322288685\n",
      "-7522.861409925626\n",
      "-7522.859268721924\n",
      "-7522.857509508965\n",
      "-7522.855078907113\n",
      "-7522.8525558052615\n",
      "-7522.850414520542\n",
      "-7522.848273397851\n",
      "-7075.465981754486\n",
      "-7075.457555782268\n",
      "-7075.4555418586615\n",
      "-7075.45340068968\n",
      "-7075.450958560048\n",
      "-7075.448817356347\n",
      "-7075.440021060049\n",
      "-7075.438007171162\n",
      "-7075.435565041537\n",
      "-7075.433423837829\n",
      "-7075.431282680424\n",
      "-7075.429141476722\n",
      "-7075.421039578574\n",
      "-7075.419025770706\n",
      "-7075.416884485987\n",
      "-7075.414743282285\n",
      "-7075.398713270715\n",
      "-7075.396977078581\n",
      "-7075.394963189695\n",
      "-7075.392821985994\n",
      "-7075.390379856361\n",
      "-7075.388238652659\n",
      "-7075.386479358676\n",
      "-7075.384465550807\n",
      "-7075.382023374886\n",
      "-7075.379882171184\n",
      "-7075.377740967476\n",
      "-7075.375981754517\n",
      "-7075.373967865631\n",
      "-7048.298759493398\n",
      "-7048.297023382289\n",
      "-7048.295009493396\n",
      "-7048.292868289694\n",
      "-7048.290426160069\n",
      "-7048.288284956359\n",
      "-7048.286525778122\n",
      "-7048.284511854515\n",
      "-7048.282069678586\n",
      "-7048.2799284748835\n",
      "-7048.277787271182\n",
      "-7048.276027977198\n",
      "-7048.27401416933\n",
      "-7014.056768757687\n",
      "-7014.0483428780535\n",
      "-7014.046328989167\n",
      "-7014.044187785465\n",
      "-7014.041745574814\n",
      "-7014.03960448685\n",
      "-7014.030808074812\n",
      "-7014.028794266943\n",
      "-7014.02635209102\n",
      "-7014.024210887318\n",
      "-7014.022069683609\n",
      "-7014.019928479906\n",
      "-7014.01182667435\n",
      "-7014.0098127854635\n",
      "-7014.007671581761\n",
      "-7014.005530378059\n",
      "-6999.301409961632\n",
      "-6999.299673850523\n",
      "-6999.297659961629\n",
      "-6999.295518757926\n",
      "-6999.29307667459\n",
      "-6999.290935470888\n",
      "-6999.289176165335\n",
      "-6999.287162276441\n",
      "-6999.284720193113\n",
      "-6999.2825789894105\n",
      "-6999.280437785701\n",
      "-6999.278678480148\n",
      "-6999.276664591261\n",
      "-6916.95182665634\n",
      "-6916.950090545225\n",
      "-6916.948076656334\n",
      "-6916.945935452631\n",
      "-6916.943493276702\n",
      "-6916.941352154017\n",
      "-6916.939592860036\n",
      "-6916.937578971145\n",
      "-6916.935136841513\n",
      "-6916.932995556791\n",
      "-6916.930854468828\n",
      "-6916.929095174847\n",
      "-6916.927081239658\n",
      "-6902.33403725327\n",
      "-6902.325611373641\n",
      "-6902.323597484746\n",
      "-6902.321456281043\n",
      "-6902.319014186137\n",
      "-6902.316872901417\n",
      "-6902.308076605113\n",
      "-6902.306062762523\n",
      "-6902.303620586592\n",
      "-6902.301479382889\n",
      "-6902.299338179186\n",
      "-6902.297196975483\n",
      "-6902.289095169923\n",
      "-6902.287081281036\n",
      "-6902.284940077326\n",
      "-6902.282798873623\n",
      "-6880.6094885659\n",
      "-6880.608180764972\n",
      "-6880.605738681642\n",
      "-6880.603597477939\n",
      "-6880.601838172379\n",
      "-6880.599824283491\n",
      "-6880.597382153857\n",
      "-6880.595240950155\n",
      "-6880.593099746452\n",
      "-6880.591340487189\n",
      "-6880.589326598301\n",
      "-6852.276826591836\n",
      "-6852.27579658026\n",
      "-6852.274037239987\n",
      "-6852.272023351093\n",
      "-6852.269581267763\n",
      "-6852.267440064061\n",
      "-6852.26529886035\n",
      "-6852.263539554798\n",
      "-6852.261525665911\n",
      "-6790.575032576176\n",
      "-6790.566606684974\n",
      "-6790.564592761368\n",
      "-6790.562451592386\n",
      "-6790.560009462754\n",
      "-6790.551213166462\n",
      "-6790.549199277569\n",
      "-6790.546757147943\n",
      "-6790.544615944242\n",
      "-6790.536514092389\n",
      "-6790.534372888687\n",
      "-6790.532231684985\n",
      "-6735.794893783156\n",
      "-6735.78646777621\n",
      "-6735.784453968342\n",
      "-6735.782312683623\n",
      "-6735.779870588712\n",
      "-6735.77772938501\n",
      "-6735.76893308872\n",
      "-6735.766919199826\n",
      "-6735.764477070201\n",
      "-6735.7623358665\n",
      "-6735.760194662798\n",
      "-6735.75805345909\n",
      "-6735.7499516882635\n",
      "-6735.747937764649\n",
      "-6735.745796595668\n",
      "-6735.743655391967\n",
      "-6664.013852089473\n",
      "-6664.011328987622\n",
      "-6664.009315098735\n",
      "-6664.007173895026\n",
      "-6664.004731719104\n",
      "-6664.002590515402\n",
      "-6664.000044219108\n",
      "-6663.998030411231\n",
      "-6663.995588200589\n",
      "-6663.993446996887\n",
      "-6663.991305793177\n",
      "-6663.988759496883\n",
      "-6663.986745607996\n",
      "-6626.9250615816645\n",
      "-6626.921155296943\n",
      "-6626.921155296943\n",
      "-6626.917249081664\n",
      "-6626.917249081664\n",
      "-6626.913342796943\n",
      "-6626.909436581663\n",
      "-6626.909436581663\n",
      "-6626.905530296942\n",
      "-6626.905530296942\n",
      "-6626.901624081663\n",
      "-6626.897717796942\n",
      "-6626.897717796942\n",
      "-6291.450460932837\n",
      "-6291.447937738391\n",
      "-6291.445923849505\n",
      "-6291.4437826458025\n",
      "-6291.44134051617\n",
      "-6291.4387942198755\n",
      "-6291.436780330989\n",
      "-6291.434338201357\n",
      "-6291.432197043951\n",
      "-6291.430055840249\n",
      "-6291.427509543954\n",
      "-6291.425495608764\n",
      "-6442.815686543768\n",
      "-6442.815686543768\n",
      "-6442.811780259047\n",
      "-6442.807874043769\n",
      "-6442.807874043769\n",
      "-6442.803967759048\n",
      "-6442.803967759048\n",
      "-6442.800061543769\n",
      "-6442.800061543769\n",
      "-6442.796155259049\n",
      "-6442.7922490437695\n",
      "-6442.7922490437695\n",
      "-6442.788342759049\n",
      "-6263.33193084097\n",
      "-6263.3294076465245\n",
      "-6263.327393722917\n",
      "-6263.325252634953\n",
      "-6263.322810424303\n",
      "-6263.3206692206\n",
      "-6263.318122924305\n",
      "-6263.316109035418\n",
      "-6263.313666905785\n",
      "-6263.311525702083\n",
      "-6263.309384544677\n",
      "-6263.306838202086\n",
      "-6263.304824313192\n",
      "-5899.795634462855\n",
      "-5899.794048812851\n",
      "-5899.791493294607\n",
      "-5899.790796502849\n",
      "-5899.787708572388\n",
      "-5899.7861437228485\n",
      "-5899.7835882020145\n",
      "-5899.782871350165\n",
      "-5899.779803479795\n",
      "-5899.778238632854\n",
      "-5899.775683109422\n",
      "-5899.7749662575725\n",
      "-5899.771898387202\n",
      "-5899.770333532846\n",
      "-5899.767778016829\n",
      "-5899.767061164979\n",
      "-5899.7949052928525\n",
      "-5899.793288016829\n",
      "-5327.464213282697\n",
      "-5326.502257345369\n",
      "-7158.887983304876\n",
      "-7158.8845110826505\n",
      "-7158.8810388604315\n",
      "-7158.877566638206\n",
      "-7158.874094415988\n",
      "-7158.870622193762\n",
      "-7158.867149971544\n",
      "-7158.8636777493175\n",
      "-7057.071316667174\n",
      "-7057.062983333844\n",
      "-7057.054650000515\n",
      "-7057.046316667186\n",
      "-7057.008122222751\n",
      "-7056.999788889414\n",
      "-7056.991455556085\n",
      "-7056.983122222756\n",
      "-7056.940762546838\n",
      "-7056.937984769067\n",
      "-7056.935206991288\n",
      "-7056.93242921351\n",
      "-7056.929651435731\n",
      "-7056.926873657952\n",
      "-7056.92409588018\n",
      "-7056.9213181024015\n",
      "-7056.9178444449935\n",
      "-7056.9143722227755\n",
      "-7056.874094445008\n",
      "-7056.870622222783\n",
      "-7056.867150000565\n",
      "-7056.8636777783395\n",
      "-7056.860205556121\n",
      "-7056.856733333903\n",
      "-7056.853262546861\n",
      "-7056.8518736579745\n",
      "-7056.850484769088\n",
      "-7056.849095880196\n",
      "-7056.84770699131\n",
      "-7056.846318102424\n",
      "-7056.844929213531\n",
      "-7056.843540324645\n",
      "-7058.079650000244\n",
      "-7058.076177778019\n",
      "-7058.072705555801\n",
      "-7058.069233333576\n",
      "-7058.065761111358\n",
      "-7058.062288889133\n",
      "-7058.058816666915\n",
      "-7058.0553459146\n",
      "-7058.053957025714\n",
      "-7058.052568136821\n",
      "-7058.051179247936\n",
      "-7058.049790359049\n",
      "-7058.048401470157\n",
      "-7058.04701254655\n",
      "-7058.045623692377\n",
      "-6462.128278256207\n",
      "-6462.126889367313\n",
      "-6462.124111589541\n",
      "-6462.1227227006475\n",
      "-6462.121333811761\n",
      "-6462.119944922874\n",
      "-6462.118554564077\n",
      "-6462.112999043239\n",
      "-6462.107443452966\n",
      "-6462.101194922871\n",
      "-6462.099806033985\n",
      "-6462.098417145092\n",
      "-6462.097028256206\n",
      "-6462.095639367312\n",
      "-6441.470639205925\n",
      "-6441.469250317039\n",
      "-6441.467861428153\n",
      "-6441.4664725392595\n",
      "-6441.465083650373\n",
      "-6441.46369476148\n",
      "-6441.462305872594\n",
      "-6441.460915525374\n",
      "-6441.455359969815\n",
      "-6441.449804414264\n",
      "-6441.443555872593\n",
      "-6441.442166983707\n",
      "-6441.440778094821\n",
      "-6441.439389205928\n",
      "-6441.438000317042\n",
      "-7183.33451101081\n",
      "-7183.342844344142\n",
      "-7183.35117767748\n",
      "-7183.359511010811\n",
      "-7183.367844344142\n",
      "-7183.376177677474\n",
      "-7183.384511010812\n",
      "-7183.392844344143\n",
      "-7183.398399899702\n",
      "-7183.401872121921\n",
      "-7183.40534434414\n",
      "-7183.408816566366\n",
      "-7183.412288788585\n",
      "-7183.4157610108105\n",
      "-7183.419233233029\n",
      "-7183.422705455256\n",
      "-6004.006502502257\n",
      "-6004.004916852254\n",
      "-6004.0023265379\n",
      "-6004.001664532256\n",
      "-6004.055556514736\n",
      "-6004.054014072237\n",
      "-6004.0562849059415\n",
      "-6004.05475481224\n",
      "-6004.052220092235\n",
      "-6004.05150250224\n",
      "-5327.458924393808\n",
      "-5327.406262518816\n",
      "-5327.339016986426\n",
      "-5327.2717717781\n",
      "-5326.49696845648\n",
      "-5326.4443062226965\n",
      "-5326.377061049092\n",
      "-5326.309815481981\n",
      "-4263.549002480659\n",
      "-4263.547127480657\n",
      "-4263.545287200659\n",
      "-4263.541741288902\n",
      "-6118.611039516471\n",
      "-6118.609434577671\n",
      "-6118.60689990175\n",
      "-6118.606201556473\n",
      "-6118.610291799892\n",
      "-6118.608694577675\n",
      "-6118.6031344264675\n",
      "-6118.601529485078\n",
      "-6118.5990140564645\n",
      "-6118.598277911002\n",
      "-6004.014351954565\n",
      "-6004.012821942253\n",
      "-6004.01023163049\n",
      "-6004.009569632252\n",
      "-6004.022257128173\n",
      "-6004.020727032245\n",
      "-6004.018136757808\n",
      "-6004.017474722253\n",
      "2632.3935661833225\n",
      "-6118.53676096655\n",
      "-6118.535175318402\n",
      "-6118.532659886458\n",
      "-6118.531942296462\n",
      "-6118.544685356461\n",
      "-6118.543080410996\n",
      "-6118.540564986458\n",
      "-6118.539828836921\n",
      "238.369750349555\n",
      "2632.406748787494\n",
      "2632.4001750606403\n",
      "1120.1704716083\n",
      "754.6941767471776\n",
      "2632.3918761833247\n"
     ]
    }
   ],
   "source": [
    "for time in times:\n",
    "    t = Time(time, format='mjd')\n",
    "    print(t.btjd)"
   ]
  },
  {
   "cell_type": "code",
   "execution_count": 366,
   "id": "bdcee2a5",
   "metadata": {
    "ExecuteTime": {
     "end_time": "2022-09-18T02:26:18.770958Z",
     "start_time": "2022-09-18T02:26:18.762168Z"
    }
   },
   "outputs": [],
   "source": [
    "t = Time(59631.89107542824, format='mjd')"
   ]
  },
  {
   "cell_type": "code",
   "execution_count": 367,
   "id": "c862a1ad",
   "metadata": {
    "ExecuteTime": {
     "end_time": "2022-09-18T02:26:21.464861Z",
     "start_time": "2022-09-18T02:26:21.440637Z"
    }
   },
   "outputs": [
    {
     "data": {
      "text/plain": [
       "2632.3918761833247"
      ]
     },
     "execution_count": 367,
     "metadata": {},
     "output_type": "execute_result"
    }
   ],
   "source": [
    "t.btjd"
   ]
  },
  {
   "cell_type": "code",
   "execution_count": 315,
   "id": "995b914e",
   "metadata": {
    "ExecuteTime": {
     "end_time": "2022-09-18T02:11:25.173518Z",
     "start_time": "2022-09-18T02:11:25.153380Z"
    }
   },
   "outputs": [
    {
     "data": {
      "text/html": [
       "&lt;MaskedColumn name=&apos;project&apos; dtype=&apos;str12&apos; length=7&gt;\n",
       "<table>\n",
       "<tr><td>AIS</td></tr>\n",
       "<tr><td>HAP</td></tr>\n",
       "<tr><td>HLA</td></tr>\n",
       "<tr><td>HST</td></tr>\n",
       "<tr><td>--</td></tr>\n",
       "<tr><td>TESS</td></tr>\n",
       "<tr><td>hlsp_starcat</td></tr>\n",
       "</table>"
      ],
      "text/plain": [
       "<MaskedColumn name='project' dtype='str12' length=7>\n",
       "         AIS\n",
       "         HAP\n",
       "         HLA\n",
       "         HST\n",
       "          --\n",
       "        TESS\n",
       "hlsp_starcat"
      ]
     },
     "execution_count": 315,
     "metadata": {},
     "output_type": "execute_result"
    }
   ],
   "source": [
    "np.unique(obs_table['project'])"
   ]
  },
  {
   "cell_type": "code",
   "execution_count": 309,
   "id": "586cdb39",
   "metadata": {
    "ExecuteTime": {
     "end_time": "2022-09-18T02:09:58.039118Z",
     "start_time": "2022-09-18T02:09:58.032966Z"
    }
   },
   "outputs": [
    {
     "data": {
      "text/html": [
       "<div><i>Table masked=True length=0</i>\n",
       "<table id=\"table5498103040\" class=\"table-striped table-bordered table-condensed\">\n",
       "<thead><tr><th>dataproduct_type</th><th>calib_level</th><th>obs_collection</th><th>obs_id</th><th>target_name</th><th>s_ra</th><th>s_dec</th><th>t_min</th><th>t_max</th><th>t_exptime</th><th>wavelength_region</th><th>filters</th><th>em_min</th><th>em_max</th><th>target_classification</th><th>obs_title</th><th>t_obs_release</th><th>instrument_name</th><th>proposal_pi</th><th>proposal_id</th><th>proposal_type</th><th>project</th><th>sequence_number</th><th>provenance_name</th><th>s_region</th><th>jpegURL</th><th>dataURL</th><th>dataRights</th><th>mtFlag</th><th>srcDen</th><th>intentType</th><th>obsid</th><th>objID</th><th>objID1</th><th>distance</th></tr></thead>\n",
       "<thead><tr><th>str1</th><th>int64</th><th>str1</th><th>str1</th><th>str1</th><th>float64</th><th>float64</th><th>float64</th><th>float64</th><th>float64</th><th>str1</th><th>str1</th><th>float64</th><th>float64</th><th>str1</th><th>str1</th><th>float64</th><th>str1</th><th>str1</th><th>str1</th><th>str1</th><th>str1</th><th>int64</th><th>str1</th><th>str1</th><th>str1</th><th>str1</th><th>str1</th><th>bool</th><th>float64</th><th>str1</th><th>str1</th><th>str1</th><th>str1</th><th>float64</th></tr></thead>\n",
       "</table></div>"
      ],
      "text/plain": [
       "<Table masked=True length=0>\n",
       "dataproduct_type calib_level obs_collection obs_id target_name   s_ra   s_dec   t_min   t_max  ... dataRights mtFlag  srcDen intentType obsid objID objID1 distance\n",
       "      str1          int64         str1       str1      str1    float64 float64 float64 float64 ...    str1     bool  float64    str1     str1  str1  str1  float64 \n",
       "---------------- ----------- -------------- ------ ----------- ------- ------- ------- ------- ... ---------- ------ ------- ---------- ----- ----- ------ --------"
      ]
     },
     "execution_count": 309,
     "metadata": {},
     "output_type": "execute_result"
    }
   ],
   "source": [
    "obs_table"
   ]
  },
  {
   "cell_type": "code",
   "execution_count": 338,
   "id": "7ad1d32d",
   "metadata": {
    "ExecuteTime": {
     "end_time": "2022-09-18T02:15:31.722399Z",
     "start_time": "2022-09-18T02:15:31.713423Z"
    }
   },
   "outputs": [],
   "source": [
    "some_flares = np.load('flare_timestamps_Proxima Centauri.npy')"
   ]
  },
  {
   "cell_type": "code",
   "execution_count": 339,
   "id": "41a87068",
   "metadata": {
    "ExecuteTime": {
     "end_time": "2022-09-18T02:15:31.999310Z",
     "start_time": "2022-09-18T02:15:31.990313Z"
    }
   },
   "outputs": [
    {
     "data": {
      "text/plain": [
       "array([2334.89190495, 2334.89213644, 2334.89236793, 2334.89259941,\n",
       "       2334.8928309 , 2334.89306239, 2334.89329387, 2334.89352536,\n",
       "       2334.89375684, 2334.89398833, 2334.89421982, 2334.8944513 ,\n",
       "       2335.80697122, 2335.80720271, 2337.16463874, 2337.16487023,\n",
       "       2337.16510171, 2337.1653332 , 2337.16556469, 2338.36188498,\n",
       "       2338.71675297, 2340.19478962, 2340.19502111, 2341.72814918,\n",
       "       2342.19389743, 2342.19412892, 2342.1943604 , 2343.14483803,\n",
       "       2343.17238474, 2343.53280673, 2344.95852092, 2344.9587524 ,\n",
       "       2345.32519232, 2345.3254238 , 2345.32565528, 2345.9251997 ,\n",
       "       2348.28216411, 2348.55161016, 2348.80346349, 2350.18124871,\n",
       "       2350.18148019, 2350.18171168, 2350.18194316, 2351.94792279,\n",
       "       2351.94815427, 2351.94838575, 2351.94861723, 2351.94884872,\n",
       "       2351.9490802 , 2352.76019378, 2353.38774155, 2353.38797304,\n",
       "       2353.38820452, 2353.388436  , 2353.38866748, 2353.38889896,\n",
       "       2353.38913045, 2353.38936193, 2353.38959341, 2353.38982489,\n",
       "       2353.39005637, 2356.77038182, 2357.30556618, 2357.30579766,\n",
       "       2357.30602914, 2357.30626062, 2357.3064921 ])"
      ]
     },
     "execution_count": 339,
     "metadata": {},
     "output_type": "execute_result"
    }
   ],
   "source": [
    "some_flares"
   ]
  },
  {
   "cell_type": "code",
   "execution_count": 364,
   "id": "7bbb8d6e",
   "metadata": {
    "ExecuteTime": {
     "end_time": "2022-09-18T02:24:33.541776Z",
     "start_time": "2022-09-18T02:24:33.516436Z"
    }
   },
   "outputs": [
    {
     "name": "stdout",
     "output_type": "stream",
     "text": [
      "[59334.39190495]\n",
      "[59334.39213644]\n",
      "[59334.39236793]\n",
      "[59334.39259941]\n",
      "[59334.3928309]\n",
      "[59334.39306239]\n",
      "[59334.39329387]\n",
      "[59334.39352536]\n",
      "[59334.39375684]\n",
      "[59334.39398833]\n",
      "[59334.39421982]\n",
      "[59334.3944513]\n",
      "[59335.30697122]\n",
      "[59335.30720271]\n",
      "[59336.66463874]\n",
      "[59336.66487023]\n",
      "[59336.66510171]\n",
      "[59336.6653332]\n",
      "[59336.66556469]\n",
      "[59337.86188498]\n",
      "[59338.21675297]\n",
      "[59339.69478962]\n",
      "[59339.69502111]\n",
      "[59341.22814918]\n",
      "[59341.69389743]\n",
      "[59341.69412892]\n",
      "[59341.6943604]\n",
      "[59342.64483803]\n",
      "[59342.67238474]\n",
      "[59343.03280673]\n",
      "[59344.45852092]\n",
      "[59344.4587524]\n",
      "[59344.82519232]\n",
      "[59344.8254238]\n",
      "[59344.82565528]\n",
      "[59345.4251997]\n",
      "[59347.78216411]\n",
      "[59348.05161016]\n",
      "[59348.30346349]\n",
      "[59349.68124871]\n",
      "[59349.68148019]\n",
      "[59349.68171168]\n",
      "[59349.68194316]\n",
      "[59351.44792279]\n",
      "[59351.44815427]\n",
      "[59351.44838575]\n",
      "[59351.44861723]\n",
      "[59351.44884872]\n",
      "[59351.4490802]\n",
      "[59352.26019378]\n",
      "[59352.88774155]\n",
      "[59352.88797304]\n",
      "[59352.88820452]\n",
      "[59352.888436]\n",
      "[59352.88866748]\n",
      "[59352.88889896]\n",
      "[59352.88913045]\n",
      "[59352.88936193]\n",
      "[59352.88959341]\n",
      "[59352.88982489]\n",
      "[59352.89005637]\n",
      "[59356.27038182]\n",
      "[59356.80556618]\n",
      "[59356.80579766]\n",
      "[59356.80602914]\n",
      "[59356.80626062]\n",
      "[59356.8064921]\n"
     ]
    }
   ],
   "source": [
    "for flare in some_flares:\n",
    "    print(lightkurve.btjd_to_astropy_time(flare).mjd)"
   ]
  },
  {
   "cell_type": "code",
   "execution_count": 17,
   "id": "7d85a0a6",
   "metadata": {
    "ExecuteTime": {
     "end_time": "2022-09-18T01:43:04.767024Z",
     "start_time": "2022-09-18T01:43:04.621974Z"
    }
   },
   "outputs": [],
   "source": [
    "import json\n",
    "import ast\n",
    "import sys\n",
    "import os\n",
    "import json\n",
    "import pprint\n",
    "import urllib.request\n",
    "from urllib.parse import quote as urlencode\n",
    "\n",
    "import numpy as np\n",
    "import requests\n",
    "from astropy.table import Table\n",
    "from astroquery.mast import Observations"
   ]
  },
  {
   "cell_type": "code",
   "execution_count": 26,
   "id": "06329683",
   "metadata": {
    "ExecuteTime": {
     "end_time": "2022-09-18T01:45:44.489622Z",
     "start_time": "2022-09-18T01:45:44.481462Z"
    }
   },
   "outputs": [],
   "source": [
    "object_of_interest = 'Proxima Centauri'\n",
    "\n",
    "resolver_request = {'service':'Mast.Name.Lookup',\n",
    "                     'params':{'input':object_of_interest,\n",
    "                               'format':'json'},\n",
    "                     }\n",
    "\n",
    "# encoding the request as a json string\n",
    "req_string = json.dumps(resolver_request)\n",
    "req_string = urlencode(req_string)"
   ]
  },
  {
   "cell_type": "code",
   "execution_count": 27,
   "id": "33fcc57f",
   "metadata": {
    "ExecuteTime": {
     "end_time": "2022-09-18T01:45:44.697663Z",
     "start_time": "2022-09-18T01:45:44.692759Z"
    }
   },
   "outputs": [],
   "source": [
    "# retrieve our system's Python version for the request. \n",
    "version = \".\".join(map(str, sys.version_info[:3]))\n",
    "\n",
    "# create HTTP Header Variables\n",
    "headers = {\"Content-type\": \"application/x-www-form-urlencoded\",\n",
    "           \"Accept\": \"text/plain\",\n",
    "           \"User-agent\":\"python-requests/\"+version}\n"
   ]
  },
  {
   "cell_type": "code",
   "execution_count": 28,
   "id": "50a18373",
   "metadata": {
    "ExecuteTime": {
     "end_time": "2022-09-18T01:45:46.297064Z",
     "start_time": "2022-09-18T01:45:45.025831Z"
    }
   },
   "outputs": [],
   "source": [
    "# base API url\n",
    "request_url='https://mast.stsci.edu/api/v0/invoke'    \n",
    "\n",
    "# perform the HTTP request\n",
    "resp = requests.post(request_url, data=\"request=\"+req_string, headers=headers)"
   ]
  },
  {
   "cell_type": "code",
   "execution_count": 29,
   "id": "a5c61667",
   "metadata": {
    "ExecuteTime": {
     "end_time": "2022-09-18T01:45:46.315609Z",
     "start_time": "2022-09-18T01:45:46.310839Z"
    }
   },
   "outputs": [
    {
     "data": {
      "text/plain": [
       "{'resolvedCoordinate': [{'searchString': 'proxima centauri',\n",
       "   'resolver': 'SIMBADCFA',\n",
       "   'cached': False,\n",
       "   'resolverTime': 190,\n",
       "   'searchRadius': -1.0,\n",
       "   'canonicalName': 'NAME Proxima Centauri',\n",
       "   'ra': 217.4289422216058,\n",
       "   'decl': -62.6794901890756,\n",
       "   'objectType': 'Eruptive*'}],\n",
       " 'status': ''}"
      ]
     },
     "execution_count": 29,
     "metadata": {},
     "output_type": "execute_result"
    }
   ],
   "source": [
    "resp.json()"
   ]
  },
  {
   "cell_type": "markdown",
   "id": "219df724",
   "metadata": {},
   "source": [
    "# Exercises\n",
    "1. Try this for another star.\n",
    "2. Add a spline-fit detrending step to the flare-detection pipeline.\n",
    "3. Perform injection/recovery tests in the flare-detection pipeline.\n",
    "4. Identify \"outburst flares,\" as described by Günther et al. 2020: \"... iterate through all flare events sorted in time. For a given flare, if there is no other candidate peak one hour before or three hours after the event, the outburst is labeled as containing only this single flare. When there are other flares following, the outburst epoch gets expanded accordingly. As a result, outburst epochs span from 1 hr before their earliest flare peak to 3 hr after their latest flare peak.\"\n",
    "4. Loop this pipeline over many stars. Try to construct a flare rate vs. stellar rotation period diagram for all known M dwarf exoplanet hosts.\n",
    "5. Connect this to the HST timestamps for a single M dwarf (e.g., Proxima Centauri) — are there any overlaps?\n",
    "6. Estimate the energy associated with an individual flare."
   ]
  },
  {
   "cell_type": "markdown",
   "id": "4994d44b",
   "metadata": {},
   "source": [
    "# Additional Resources\n",
    "- Give a few flares papers\n",
    "- give a few TESS papers\n",
    "- convolution resources\n",
    "- periodogram resources\n"
   ]
  },
  {
   "cell_type": "markdown",
   "id": "fd9dfdb0",
   "metadata": {},
   "source": [
    "# About this Notebook\n",
    "\n",
    "**Author**: Arjun B. Savel (asavel@umd.edu).\n",
    "\n",
    "**Last updated**: 2022-08-14"
   ]
  },
  {
   "cell_type": "markdown",
   "id": "8eb0ecc9",
   "metadata": {},
   "source": [
    "# Citations\n",
    "If you use `astropy`, `lightkurve`, or `numpy` for published research, please cite the\n",
    "authors. Follow these links for more information about citing `astropy`,\n",
    "`lightkurve`, and `numpy`:\n",
    "\n",
    "* [Citing `astropy`](https://www.astropy.org/acknowledging.html)\n",
    "* [Citing `lightkurve`](https://docs.lightkurve.org/about/citing.html)\n",
    "* [Citing `numpy`](https://numpy.org/citing-numpy/)"
   ]
  },
  {
   "cell_type": "markdown",
   "id": "5a6c4327",
   "metadata": {},
   "source": [
    "[Top of Page](#top)<img style=\"float: right;\" src=\"https://raw.githubusercontent.com/spacetelescope/notebooks/master/assets/stsci_pri_combo_mark_horizonal_white_bkgd.png\" alt=\"Space Telescope Logo\" width=\"200px\"/>\n"
   ]
  }
 ],
 "metadata": {
  "kernelspec": {
   "display_name": "Python 3 (ipykernel)",
   "language": "python",
   "name": "python3"
  },
  "language_info": {
   "codemirror_mode": {
    "name": "ipython",
    "version": 3
   },
   "file_extension": ".py",
   "mimetype": "text/x-python",
   "name": "python",
   "nbconvert_exporter": "python",
   "pygments_lexer": "ipython3",
   "version": "3.10.5"
  }
 },
 "nbformat": 4,
 "nbformat_minor": 5
}
