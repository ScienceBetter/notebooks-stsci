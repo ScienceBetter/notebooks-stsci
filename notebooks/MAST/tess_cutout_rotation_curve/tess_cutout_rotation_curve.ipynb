{
 "cells": [
  {
   "cell_type": "markdown",
   "id": "636e567b",
   "metadata": {},
   "source": [
    "# Finding the Rotation Curve of an Asteroid or Comet with TESScut and lightkurve\n",
    "---"
   ]
  },
  {
   "cell_type": "markdown",
   "id": "17d1c868",
   "metadata": {},
   "source": [
    "## Learning Goals\n",
    "\n",
    "By the end of this tutorial, you will:\n",
    "- Understand what a TESS cutout of a moving target is.\n",
    "- Use the `Tesscut` feature of `astroquery` to find a cutout of an asteroid or comet by name.\n",
    "- Plot the lightcurve using lightkurve\n",
    "- Find the rotation period of a bright asteroid using lightkurve"
   ]
  },
  {
   "cell_type": "markdown",
   "id": "c4ca0d91",
   "metadata": {},
   "source": [
    "## Introduction\n",
    "\n",
    "NASA's [Transiting Exoplanet Survey Satellite, or TESS](https://archive.stsci.edu/missions-and-data/tess), was designed to detect planets orbiting bright stars. There are a number of different kinds of [TESS data products](https://heasarc.gsfc.nasa.gov/docs/tess/data-products.html) available in the MAST archive, including:\n",
    "- FFI (full-frame image) time series contain the entire image captured by the camera taken at different times; these are large views of the sky.\n",
    "- Target Pixel Files (TPFs) are smaller subsets of full images focused on a single target. They are \"postage-stamp\" sized images separated by smaller time intervals than FFIs.\n",
    "- Light Curve Files are derived from the TPFs using Simple Aperture Photometry (SAP). \n",
    "\n",
    "Though TESS was designed to study stars and the signatures of exoplanets orbiting them, other objects inevitably are observed within the FFIs. In particular, some asteroids and comets move through the observing sectors. [Pál et al. 2020](https://ui.adsabs.harvard.edu/abs/2020ApJS..247...26P/abstract) noted:\n",
    "\n",
    ">\"While its primary mission avoids the vicinity of the ecliptic plane by approximately six degrees, the scale height of the solar system debris disk is large enough to place various small body populations in the field of view.\" \n",
    "    \n",
    "Because small bodies like asteroids and comets are moving targets, they don't have fixed RA and Dec coordinates. The MAST archive's [TESScut](https://mast.stsci.edu/tesscut/) tool has built-in features to find all of the sectors that include observations of a moving target, so long as the object's name or ID can be understood by the [JPL Horizon ephemerades interface](https://ssd.jpl.nasa.gov/horizons/app.html#/). `TESScut` can then return a \"cutout\" of the full-frame images centered on the target as it moves through the observing sector. With this cutout, we can perform some simple aperture photometry on the target with `lightkurve`. \n",
    "\n",
    "In [Pál et al. 2020](https://ui.adsabs.harvard.edu/abs/2020ApJS..247...26P/abstract), the bright asteroid 354 Eleonora (often just called \"Eleonora\") was found to have a rotation period of 4.27735 hours and had a mean magnitude of about 9.4 while observed by TESS. \n",
    "\n",
    "In this tutorial, we will use `TESScut` to download a cutout of the TESS observations of Eleonora and use `lightkurve` to create a light curve of Eleonora and find its rotation period. This simple method will work because Eleonora is so bright. Generally, for fainter solar system objects, more involved photometry methods will be needed. We'll investigate why in one of the exercises. "
   ]
  },
  {
   "cell_type": "markdown",
   "id": "11fd6e73",
   "metadata": {},
   "source": [
    "The workflow for this notebook consists of:\n",
    "- Searching the TESS archive by moving target name using astroquery\n",
    "- Investigating the results of TESScut\n",
    "- Plotting the cutout in lightkurve\n",
    "- Finding the rotation period from the light curve's periodogram\n",
    "- Exercises"
   ]
  },
  {
   "cell_type": "markdown",
   "id": "2dded33a",
   "metadata": {},
   "source": [
    "## Imports\n",
    "\n",
    "- *numpy* to handle array functions\n",
    "- *astropy.io fits* for acccessing FITS files\n",
    "- *astropy.table Table* for creating tidy tables of the data\n",
    "- *matplotlib.pyplot* for plotting data\n",
    "\n",
    "JRK be sure to review when done-ish."
   ]
  },
  {
   "cell_type": "code",
   "execution_count": 1,
   "id": "19f0e45b",
   "metadata": {},
   "outputs": [],
   "source": [
    "%matplotlib inline\n",
    "\n",
    "import matplotlib.pyplot as plt\n",
    "import numpy as np\n",
    "\n",
    "from astropy.io import fits\n",
    "from astropy.table import Table\n",
    "#from astroquery.mast import Mast\n",
    "#from astroquery.mast import Observations\n",
    "import astropy.units as u\n",
    "\n",
    "# JRK be sure to review when done-ish.\n",
    "\n",
    "#import requests # Not doing this. \n",
    "from astroquery.mast import Tesscut\n",
    "import lightkurve as lk\n",
    "from astropy.visualization import time_support"
   ]
  },
  {
   "cell_type": "markdown",
   "id": "d3b281f9",
   "metadata": {},
   "source": [
    "## Searching the TESS archive by moving target name using astroquery\n",
    "\n",
    "You can use the [TESScut webpage](https://mast.stsci.edu/tesscut/) to make a cutout of a TESS FFI time series; for a solar system object like an asteroid or comet, be sure to click on the \"Moving Target\" button at the top after the words \"Create cutout based on.\" \n",
    "\n",
    "To create a scriptable process for using TESScut, we can instead use the Built-in [MAST functionality in astroquery to access TESScut](https://astroquery.readthedocs.io/en/latest/mast/mast.html#cutouts). Let's set our object name to \"Eleonora.\""
   ]
  },
  {
   "cell_type": "code",
   "execution_count": 2,
   "id": "51315a5c",
   "metadata": {},
   "outputs": [],
   "source": [
    "objname='Eleonora'"
   ]
  },
  {
   "cell_type": "markdown",
   "id": "18cd6a48",
   "metadata": {},
   "source": [
    "TESS observed distinct areas of the sky called Sectors. We can use `Tesscut.get_sectors` to see which (if any) sectors inlude observations of our object. Whenever using Tesscut with a moving target, we must always set `moving_target=True` (the default is `False`). "
   ]
  },
  {
   "cell_type": "code",
   "execution_count": 3,
   "id": "6a62da63",
   "metadata": {},
   "outputs": [
    {
     "name": "stdout",
     "output_type": "stream",
     "text": [
      "  sectorName   sector camera ccd\n",
      "-------------- ------ ------ ---\n",
      "tess-s0006-1-1      6      1   1\n",
      "tess-s0023-1-1     23      1   1\n"
     ]
    }
   ],
   "source": [
    "sector_table=Tesscut.get_sectors(objectname=objname, moving_target=True)\n",
    "print(sector_table)"
   ]
  },
  {
   "cell_type": "markdown",
   "id": "d4ea4d5e",
   "metadata": {},
   "source": [
    "Next we'll use `Tess.get_cutouts` to, as the name implies, get the cutouts. Again, we must include the keyword `moving_target=True`.\n",
    "\n",
    "We will also add the `size` keyword to choose how many pixels (in both width and height) we want our cutout to be. For this tutorial, we will choose a 10x10 cutout. This choice significantly affects the size of the .fits files and the time it will take to complete `get_cutouts`. \n",
    "\n",
    "You can specify e.g. `sector=6` when requesting a single cutout, but it's not necessary. Without specifying the sector, we will receive results for all sectors available. "
   ]
  },
  {
   "cell_type": "code",
   "execution_count": 4,
   "id": "d381bb77",
   "metadata": {},
   "outputs": [
    {
     "name": "stdout",
     "output_type": "stream",
     "text": [
      "Length of hdulist = 2\n"
     ]
    }
   ],
   "source": [
    "hdulist = Tesscut.get_cutouts(objectname=objname, moving_target=True, size=10)\n",
    "print('Length of hdulist =',len(hdulist))"
   ]
  },
  {
   "cell_type": "markdown",
   "id": "34e37a34",
   "metadata": {},
   "source": [
    "## Investigating the results of TESScut\n",
    "The result of Tesscut.get_cutouts is a list of .fits datasets; there is one element in the list per sector returned above. The contents of each element in `hdulist` are identical to the .fits files downloaded from the [TESSCut](https://mast.stsci.edu/tesscut/) website with the same selections (target name and size). Let's examine the *second* item in the list, because it will be the more interesting of the two, as we'll see soon."
   ]
  },
  {
   "cell_type": "code",
   "execution_count": 5,
   "id": "8551da3b",
   "metadata": {},
   "outputs": [
    {
     "name": "stdout",
     "output_type": "stream",
     "text": [
      "Filename: <class '_io.BytesIO'>\n",
      "No.    Name      Ver    Type      Cards   Dimensions   Format\n",
      "  0  PRIMARY       1 PrimaryHDU      54   ()      \n",
      "  1  PIXELS        1 BinTableHDU    150   444R x 16C   [D, E, J, 100J, 100E, 100E, 100E, 100E, J, E, E, 38A, D, D, D, D]   \n",
      "  2  APERTURE      1 ImageHDU        97   (2136, 2078)   int32   \n"
     ]
    }
   ],
   "source": [
    "hdulist[1].info()"
   ]
  },
  {
   "cell_type": "markdown",
   "id": "aaed15c3",
   "metadata": {},
   "source": [
    "The result that we get is described in the [astrocut documentation on Path Focused Target Pixel Files](https://astrocut.readthedocs.io/en/latest/astrocut/file_formats.html#path-focused-target-pixel-files). Extension 0 is the header with metadata. Astronomers not used to working with moving targets may note that the `RA_OBJ` and `DEC_OBJ` keywords are not there!\n",
    "\n",
    "Extension 1 is the data we most want in the form of a binary table; we'll look at that next.\n",
    "\n",
    "But first, Extension 2, if present, is an image the size of the full-frame image (FFI) that the cutouts were drawn from. It's an array of 1's if the pixel was used and 0 if the pixel was not. By displaying this array as an image, we can see the trajectory of our moving target through the TESS sector. "
   ]
  },
  {
   "cell_type": "code",
   "execution_count": 6,
   "id": "c827df35",
   "metadata": {},
   "outputs": [
    {
     "data": {
      "text/plain": [
       "<matplotlib.image.AxesImage at 0x1253d6ac0>"
      ]
     },
     "execution_count": 6,
     "metadata": {},
     "output_type": "execute_result"
    },
    {
     "data": {
      "image/png": "[encoded data removed]",
      "text/plain": [
       "<Figure size 432x288 with 1 Axes>"
      ]
     },
     "metadata": {
      "needs_background": "light"
     },
     "output_type": "display_data"
    }
   ],
   "source": [
    "plt.imshow(hdulist[1][2].data)"
   ]
  },
  {
   "cell_type": "markdown",
   "id": "7fd30b5e",
   "metadata": {},
   "source": [
    "It looks like, for this sector, Eleonora is partially outside of the sector during the course of the observations.\n",
    "\n",
    "Going back to Extension 1, this is a binary table with 358 rows and 16 columns. The header keys `TTYPE1`, `TTYPE2`, etc. tell us the names of each column. Let's view each of them. Additionally, some of the (row, column) entries in this extension will actually be arrays of exactly the cutout size we requested. To show this, we'll also print the shape of the entries of the first row along with the column name."
   ]
  },
  {
   "cell_type": "code",
   "execution_count": 7,
   "id": "bb7b9a38",
   "metadata": {},
   "outputs": [
    {
     "name": "stdout",
     "output_type": "stream",
     "text": [
      "0 TIME ()\n",
      "1 TIMECORR ()\n",
      "2 CADENCENO (10, 10)\n",
      "3 RAW_CNTS (10, 10)\n",
      "4 FLUX (10, 10)\n",
      "5 FLUX_ERR (10, 10)\n",
      "6 FLUX_BKG (10, 10)\n",
      "7 FLUX_BKG_ERR ()\n",
      "8 QUALITY ()\n",
      "9 POS_CORR1 ()\n",
      "10 POS_CORR2 ()\n",
      "11 FFI_FILE ()\n",
      "12 TGT_X ()\n",
      "13 TGT_Y ()\n",
      "14 TGT_RA ()\n"
     ]
    }
   ],
   "source": [
    "for i in range(1,16): print(i-1,\n",
    "                            hdulist[1][1].header['TTYPE'+str(i)],\n",
    "                            np.shape(hdulist[1][1].data[0][i]))"
   ]
  },
  {
   "cell_type": "markdown",
   "id": "7838b478",
   "metadata": {},
   "source": [
    "The column of index i=4 is actually an array of fluxes. We can check the header info to confirm the units of the flux and of the time, and then we can view the first cutout, along with the coordinates (RA, Dec) of Eleonora at the time the cutout was taken."
   ]
  },
  {
   "cell_type": "code",
   "execution_count": 8,
   "id": "784462ef",
   "metadata": {},
   "outputs": [
    {
     "data": {
      "text/plain": [
       "'e-/s'"
      ]
     },
     "execution_count": 8,
     "metadata": {},
     "output_type": "execute_result"
    }
   ],
   "source": [
    "hdulist[1][1].header['TUNIT5']"
   ]
  },
  {
   "cell_type": "code",
   "execution_count": 9,
   "id": "e279a422",
   "metadata": {},
   "outputs": [
    {
     "data": {
      "text/plain": [
       "'BJD - 2457000, days'"
      ]
     },
     "execution_count": 9,
     "metadata": {},
     "output_type": "execute_result"
    }
   ],
   "source": [
    "hdulist[1][1].header['TUNIT1']"
   ]
  },
  {
   "cell_type": "code",
   "execution_count": 10,
   "id": "285a7e71",
   "metadata": {},
   "outputs": [
    {
     "name": "stdout",
     "output_type": "stream",
     "text": [
      "RA:  213.3993203187711\n",
      "Dec:  14.185531754865366\n"
     ]
    },
    {
     "data": {
      "image/png": "[encoded data removed]",
      "text/plain": [
       "<Figure size 432x288 with 2 Axes>"
      ]
     },
     "metadata": {
      "needs_background": "light"
     },
     "output_type": "display_data"
    }
   ],
   "source": [
    "fig,ax=plt.subplots(1,1)\n",
    "imgplot=plt.imshow(hdulist[1][1].data[0][4])\n",
    "plt.colorbar(label='Flux (e-/s)')\n",
    "ax.set_title(objname+', '+str(hdulist[1][1].data[0][0])+' '+str(hdulist[1][1].header['TUNIT1']))\n",
    "print('RA: ',hdulist[1][1].data[0][14])\n",
    "print('Dec: ',hdulist[1][1].data[0][15])"
   ]
  },
  {
   "cell_type": "markdown",
   "id": "4ecc7e6c",
   "metadata": {},
   "source": [
    "Something looks wrong! Let's view a later image instead, say at row (or \"cadence\") 100."
   ]
  },
  {
   "cell_type": "code",
   "execution_count": 11,
   "id": "b060bf60",
   "metadata": {},
   "outputs": [
    {
     "name": "stdout",
     "output_type": "stream",
     "text": [
      "RA:  213.07099059474592\n",
      "Dec:  14.509726204925824\n"
     ]
    },
    {
     "data": {
      "image/png": "[encoded data removed]",
      "text/plain": [
       "<Figure size 432x288 with 2 Axes>"
      ]
     },
     "metadata": {
      "needs_background": "light"
     },
     "output_type": "display_data"
    }
   ],
   "source": [
    "i=100\n",
    "fig,ax=plt.subplots(1,1)\n",
    "imgplot=plt.imshow(hdulist[1][1].data[i][4])\n",
    "plt.colorbar()\n",
    "ax.set_title(objname+', '+str(hdulist[1][1].data[i][0])+' '+str(hdulist[1][1].header['TUNIT1']))\n",
    "print('RA: ',hdulist[1][1].data[i][14])\n",
    "print('Dec: ',hdulist[1][1].data[i][15])"
   ]
  },
  {
   "cell_type": "markdown",
   "id": "39743ef8",
   "metadata": {},
   "source": [
    "The target is clearly there. Remember, we thought the asteroid would not be in the field of view the whole time; this helps us know that the target started out of the frame and moved in. At this later time, a few days later, the target has moved to a different RA and Dec."
   ]
  },
  {
   "cell_type": "markdown",
   "id": "c200b9ed",
   "metadata": {},
   "source": [
    "## Plotting the cutout in lightkurve"
   ]
  },
  {
   "cell_type": "markdown",
   "id": "332ae7c2",
   "metadata": {},
   "source": [
    "Though `lightkurve` has a `search_tesscut` function, at the time of this tutorial is does not work for moving targets. \n",
    "\n",
    "We'll need to save these .fits files locally to load them as Target Pixel Files into `lightkurve`. In a later exercise, you'll confirm that the files we write are the same as those you could download from the [TESSCut](https://mast.stsci.edu/tesscut/) tool in a web browser. "
   ]
  },
  {
   "cell_type": "code",
   "execution_count": 12,
   "id": "34b52be8",
   "metadata": {},
   "outputs": [],
   "source": [
    "nsectors=len(hdulist)\n",
    "for i in range(nsectors): \n",
    "    hdulist[i].writeto(objname+'_'+str(i)+'.fits',overwrite=True)"
   ]
  },
  {
   "cell_type": "markdown",
   "id": "0c654ee6",
   "metadata": {},
   "source": [
    "Now, we'll load each .fits file in as a `TessTargetPixelFile` object and collect all the sectors together into a `TargetPixelFileCollection` object; basically, a list of target pixel file (TPF) objects."
   ]
  },
  {
   "cell_type": "code",
   "execution_count": 13,
   "id": "68e2914c",
   "metadata": {},
   "outputs": [],
   "source": [
    "for i in range(nsectors):\n",
    "    tpf = lk.TessTargetPixelFile(objname+'_'+str(i)+'.fits')\n",
    "    if i==0: \n",
    "        tpfc=lk.TargetPixelFileCollection([tpf])\n",
    "    else:\n",
    "        tpfc.append(tpf)"
   ]
  },
  {
   "cell_type": "markdown",
   "id": "99bd9d9b",
   "metadata": {},
   "source": [
    "For one TPF at a time, we can use the `interact` feature of `lightkurve` to easily view a light curve (on the left) as a function of time. On the right, we'll see the image of 10x10 image of Eleonora, overlaid with the aperture mask used for the aperture photometry that produced the light curve. Let's view the second sector observed by TESS. Try clicking and dragging the \"Cadence Number\" bar to see how Eleonora moves through the field of view. Can you tell that it is rotating every few hours ?"
   ]
  },
  {
   "cell_type": "code",
   "execution_count": 14,
   "id": "0bef5813",
   "metadata": {},
   "outputs": [
    {
     "data": {
      "application/javascript": [
       "\n",
       "(function(root) {\n",
       "  function now() {\n",
       "    return new Date();\n",
       "  }\n",
       "\n",
       "  const force = true;\n",
       "\n",
       "  if (typeof root._bokeh_onload_callbacks === \"undefined\" || force === true) {\n",
       "    root._bokeh_onload_callbacks = [];\n",
       "    root._bokeh_is_loading = undefined;\n",
       "  }\n",
       "\n",
       "  const JS_MIME_TYPE = 'application/javascript';\n",
       "  const HTML_MIME_TYPE = 'text/html';\n",
       "  const EXEC_MIME_TYPE = 'application/vnd.bokehjs_exec.v0+json';\n",
       "  const CLASS_NAME = 'output_bokeh rendered_html';\n",
       "\n",
       "  /**\n",
       "   * Render data to the DOM node\n",
       "   */\n",
       "  function render(props, node) {\n",
       "    const script = document.createElement(\"script\");\n",
       "    node.appendChild(script);\n",
       "  }\n",
       "\n",
       "  /**\n",
       "   * Handle when an output is cleared or removed\n",
       "   */\n",
       "  function handleClearOutput(event, handle) {\n",
       "    const cell = handle.cell;\n",
       "\n",
       "    const id = cell.output_area._bokeh_element_id;\n",
       "    const server_id = cell.output_area._bokeh_server_id;\n",
       "    // Clean up Bokeh references\n",
       "    if (id != null && id in Bokeh.index) {\n",
       "      Bokeh.index[id].model.document.clear();\n",
       "      delete Bokeh.index[id];\n",
       "    }\n",
       "\n",
       "    if (server_id !== undefined) {\n",
       "      // Clean up Bokeh references\n",
       "      const cmd_clean = \"from bokeh.io.state import curstate; print(curstate().uuid_to_server['\" + server_id + \"'].get_sessions()[0].document.roots[0]._id)\";\n",
       "      cell.notebook.kernel.execute(cmd_clean, {\n",
       "        iopub: {\n",
       "          output: function(msg) {\n",
       "            const id = msg.content.text.trim();\n",
       "            if (id in Bokeh.index) {\n",
       "              Bokeh.index[id].model.document.clear();\n",
       "              delete Bokeh.index[id];\n",
       "            }\n",
       "          }\n",
       "        }\n",
       "      });\n",
       "      // Destroy server and session\n",
       "      const cmd_destroy = \"import bokeh.io.notebook as ion; ion.destroy_server('\" + server_id + \"')\";\n",
       "      cell.notebook.kernel.execute(cmd_destroy);\n",
       "    }\n",
       "  }\n",
       "\n",
       "  /**\n",
       "   * Handle when a new output is added\n",
       "   */\n",
       "  function handleAddOutput(event, handle) {\n",
       "    const output_area = handle.output_area;\n",
       "    const output = handle.output;\n",
       "\n",
       "    // limit handleAddOutput to display_data with EXEC_MIME_TYPE content only\n",
       "    if ((output.output_type != \"display_data\") || (!Object.prototype.hasOwnProperty.call(output.data, EXEC_MIME_TYPE))) {\n",
       "      return\n",
       "    }\n",
       "\n",
       "    const toinsert = output_area.element.find(\".\" + CLASS_NAME.split(' ')[0]);\n",
       "\n",
       "    if (output.metadata[EXEC_MIME_TYPE][\"id\"] !== undefined) {\n",
       "      toinsert[toinsert.length - 1].firstChild.textContent = output.data[JS_MIME_TYPE];\n",
       "      // store reference to embed id on output_area\n",
       "      output_area._bokeh_element_id = output.metadata[EXEC_MIME_TYPE][\"id\"];\n",
       "    }\n",
       "    if (output.metadata[EXEC_MIME_TYPE][\"server_id\"] !== undefined) {\n",
       "      const bk_div = document.createElement(\"div\");\n",
       "      bk_div.innerHTML = output.data[HTML_MIME_TYPE];\n",
       "      const script_attrs = bk_div.children[0].attributes;\n",
       "      for (let i = 0; i < script_attrs.length; i++) {\n",
       "        toinsert[toinsert.length - 1].firstChild.setAttribute(script_attrs[i].name, script_attrs[i].value);\n",
       "        toinsert[toinsert.length - 1].firstChild.textContent = bk_div.children[0].textContent\n",
       "      }\n",
       "      // store reference to server id on output_area\n",
       "      output_area._bokeh_server_id = output.metadata[EXEC_MIME_TYPE][\"server_id\"];\n",
       "    }\n",
       "  }\n",
       "\n",
       "  function register_renderer(events, OutputArea) {\n",
       "\n",
       "    function append_mime(data, metadata, element) {\n",
       "      // create a DOM node to render to\n",
       "      const toinsert = this.create_output_subarea(\n",
       "        metadata,\n",
       "        CLASS_NAME,\n",
       "        EXEC_MIME_TYPE\n",
       "      );\n",
       "      this.keyboard_manager.register_events(toinsert);\n",
       "      // Render to node\n",
       "      const props = {data: data, metadata: metadata[EXEC_MIME_TYPE]};\n",
       "      render(props, toinsert[toinsert.length - 1]);\n",
       "      element.append(toinsert);\n",
       "      return toinsert\n",
       "    }\n",
       "\n",
       "    /* Handle when an output is cleared or removed */\n",
       "    events.on('clear_output.CodeCell', handleClearOutput);\n",
       "    events.on('delete.Cell', handleClearOutput);\n",
       "\n",
       "    /* Handle when a new output is added */\n",
       "    events.on('output_added.OutputArea', handleAddOutput);\n",
       "\n",
       "    /**\n",
       "     * Register the mime type and append_mime function with output_area\n",
       "     */\n",
       "    OutputArea.prototype.register_mime_type(EXEC_MIME_TYPE, append_mime, {\n",
       "      /* Is output safe? */\n",
       "      safe: true,\n",
       "      /* Index of renderer in `output_area.display_order` */\n",
       "      index: 0\n",
       "    });\n",
       "  }\n",
       "\n",
       "  // register the mime type if in Jupyter Notebook environment and previously unregistered\n",
       "  if (root.Jupyter !== undefined) {\n",
       "    const events = require('base/js/events');\n",
       "    const OutputArea = require('notebook/js/outputarea').OutputArea;\n",
       "\n",
       "    if (OutputArea.prototype.mime_types().indexOf(EXEC_MIME_TYPE) == -1) {\n",
       "      register_renderer(events, OutputArea);\n",
       "    }\n",
       "  }\n",
       "\n",
       "  \n",
       "  if (typeof (root._bokeh_timeout) === \"undefined\" || force === true) {\n",
       "    root._bokeh_timeout = Date.now() + 5000;\n",
       "    root._bokeh_failed_load = false;\n",
       "  }\n",
       "\n",
       "  const NB_LOAD_WARNING = {'data': {'text/html':\n",
       "     \"<div style='background-color: #fdd'>\\n\"+\n",
       "     \"<p>\\n\"+\n",
       "     \"BokehJS does not appear to have successfully loaded. If loading BokehJS from CDN, this \\n\"+\n",
       "     \"may be due to a slow or bad network connection. Possible fixes:\\n\"+\n",
       "     \"</p>\\n\"+\n",
       "     \"<ul>\\n\"+\n",
       "     \"<li>re-rerun `output_notebook()` to attempt to load from CDN again, or</li>\\n\"+\n",
       "     \"<li>use INLINE resources instead, as so:</li>\\n\"+\n",
       "     \"</ul>\\n\"+\n",
       "     \"<code>\\n\"+\n",
       "     \"from bokeh.resources import INLINE\\n\"+\n",
       "     \"output_notebook(resources=INLINE)\\n\"+\n",
       "     \"</code>\\n\"+\n",
       "     \"</div>\"}};\n",
       "\n",
       "  function display_loaded() {\n",
       "    const el = document.getElementById(null);\n",
       "    if (el != null) {\n",
       "      el.textContent = \"BokehJS is loading...\";\n",
       "    }\n",
       "    if (root.Bokeh !== undefined) {\n",
       "      if (el != null) {\n",
       "        el.textContent = \"BokehJS \" + root.Bokeh.version + \" successfully loaded.\";\n",
       "      }\n",
       "    } else if (Date.now() < root._bokeh_timeout) {\n",
       "      setTimeout(display_loaded, 100)\n",
       "    }\n",
       "  }\n",
       "\n",
       "\n",
       "  function run_callbacks() {\n",
       "    try {\n",
       "      root._bokeh_onload_callbacks.forEach(function(callback) {\n",
       "        if (callback != null)\n",
       "          callback();\n",
       "      });\n",
       "    } finally {\n",
       "      delete root._bokeh_onload_callbacks\n",
       "    }\n",
       "    console.debug(\"Bokeh: all callbacks have finished\");\n",
       "  }\n",
       "\n",
       "  function load_libs(css_urls, js_urls, callback) {\n",
       "    if (css_urls == null) css_urls = [];\n",
       "    if (js_urls == null) js_urls = [];\n",
       "\n",
       "    root._bokeh_onload_callbacks.push(callback);\n",
       "    if (root._bokeh_is_loading > 0) {\n",
       "      console.debug(\"Bokeh: BokehJS is being loaded, scheduling callback at\", now());\n",
       "      return null;\n",
       "    }\n",
       "    if (js_urls == null || js_urls.length === 0) {\n",
       "      run_callbacks();\n",
       "      return null;\n",
       "    }\n",
       "    console.debug(\"Bokeh: BokehJS not loaded, scheduling load and callback at\", now());\n",
       "    root._bokeh_is_loading = css_urls.length + js_urls.length;\n",
       "\n",
       "    function on_load() {\n",
       "      root._bokeh_is_loading--;\n",
       "      if (root._bokeh_is_loading === 0) {\n",
       "        console.debug(\"Bokeh: all BokehJS libraries/stylesheets loaded\");\n",
       "        run_callbacks()\n",
       "      }\n",
       "    }\n",
       "\n",
       "    function on_error(url) {\n",
       "      console.error(\"failed to load \" + url);\n",
       "    }\n",
       "\n",
       "    for (let i = 0; i < css_urls.length; i++) {\n",
       "      const url = css_urls[i];\n",
       "      const element = document.createElement(\"link\");\n",
       "      element.onload = on_load;\n",
       "      element.onerror = on_error.bind(null, url);\n",
       "      element.rel = \"stylesheet\";\n",
       "      element.type = \"text/css\";\n",
       "      element.href = url;\n",
       "      console.debug(\"Bokeh: injecting link tag for BokehJS stylesheet: \", url);\n",
       "      document.body.appendChild(element);\n",
       "    }\n",
       "\n",
       "    for (let i = 0; i < js_urls.length; i++) {\n",
       "      const url = js_urls[i];\n",
       "      const element = document.createElement('script');\n",
       "      element.onload = on_load;\n",
       "      element.onerror = on_error.bind(null, url);\n",
       "      element.async = false;\n",
       "      element.src = url;\n",
       "      console.debug(\"Bokeh: injecting script tag for BokehJS library: \", url);\n",
       "      document.head.appendChild(element);\n",
       "    }\n",
       "  };\n",
       "\n",
       "  function inject_raw_css(css) {\n",
       "    const element = document.createElement(\"style\");\n",
       "    element.appendChild(document.createTextNode(css));\n",
       "    document.body.appendChild(element);\n",
       "  }\n",
       "\n",
       "  \n",
       "  const js_urls = [\"https://cdn.bokeh.org/bokeh/release/bokeh-2.4.2.min.js\", \"https://cdn.bokeh.org/bokeh/release/bokeh-gl-2.4.2.min.js\", \"https://cdn.bokeh.org/bokeh/release/bokeh-widgets-2.4.2.min.js\", \"https://cdn.bokeh.org/bokeh/release/bokeh-tables-2.4.2.min.js\", \"https://cdn.bokeh.org/bokeh/release/bokeh-mathjax-2.4.2.min.js\"];\n",
       "  const css_urls = [];\n",
       "  \n",
       "\n",
       "  const inline_js = [\n",
       "    function(Bokeh) {\n",
       "      Bokeh.set_log_level(\"info\");\n",
       "    },\n",
       "    function(Bokeh) {\n",
       "    \n",
       "    \n",
       "    }\n",
       "  ];\n",
       "\n",
       "  function run_inline_js() {\n",
       "    \n",
       "    if (root.Bokeh !== undefined || force === true) {\n",
       "      \n",
       "    for (let i = 0; i < inline_js.length; i++) {\n",
       "      inline_js[i].call(root, root.Bokeh);\n",
       "    }\n",
       "    } else if (Date.now() < root._bokeh_timeout) {\n",
       "      setTimeout(run_inline_js, 100);\n",
       "    } else if (!root._bokeh_failed_load) {\n",
       "      console.log(\"Bokeh: BokehJS failed to load within specified timeout.\");\n",
       "      root._bokeh_failed_load = true;\n",
       "    } else if (force !== true) {\n",
       "      const cell = $(document.getElementById(null)).parents('.cell').data().cell;\n",
       "      cell.output_area.append_execute_result(NB_LOAD_WARNING)\n",
       "    }\n",
       "\n",
       "  }\n",
       "\n",
       "  if (root._bokeh_is_loading === 0) {\n",
       "    console.debug(\"Bokeh: BokehJS loaded, going straight to plotting\");\n",
       "    run_inline_js();\n",
       "  } else {\n",
       "    load_libs(css_urls, js_urls, function() {\n",
       "      console.debug(\"Bokeh: BokehJS plotting callback run at\", now());\n",
       "      run_inline_js();\n",
       "    });\n",
       "  }\n",
       "}(window));"
      ],
      "application/vnd.bokehjs_load.v0+json": "\n(function(root) {\n  function now() {\n    return new Date();\n  }\n\n  const force = true;\n\n  if (typeof root._bokeh_onload_callbacks === \"undefined\" || force === true) {\n    root._bokeh_onload_callbacks = [];\n    root._bokeh_is_loading = undefined;\n  }\n\n  \n\n  \n  if (typeof (root._bokeh_timeout) === \"undefined\" || force === true) {\n    root._bokeh_timeout = Date.now() + 5000;\n    root._bokeh_failed_load = false;\n  }\n\n  const NB_LOAD_WARNING = {'data': {'text/html':\n     \"<div style='background-color: #fdd'>\\n\"+\n     \"<p>\\n\"+\n     \"BokehJS does not appear to have successfully loaded. If loading BokehJS from CDN, this \\n\"+\n     \"may be due to a slow or bad network connection. Possible fixes:\\n\"+\n     \"</p>\\n\"+\n     \"<ul>\\n\"+\n     \"<li>re-rerun `output_notebook()` to attempt to load from CDN again, or</li>\\n\"+\n     \"<li>use INLINE resources instead, as so:</li>\\n\"+\n     \"</ul>\\n\"+\n     \"<code>\\n\"+\n     \"from bokeh.resources import INLINE\\n\"+\n     \"output_notebook(resources=INLINE)\\n\"+\n     \"</code>\\n\"+\n     \"</div>\"}};\n\n  function display_loaded() {\n    const el = document.getElementById(null);\n    if (el != null) {\n      el.textContent = \"BokehJS is loading...\";\n    }\n    if (root.Bokeh !== undefined) {\n      if (el != null) {\n        el.textContent = \"BokehJS \" + root.Bokeh.version + \" successfully loaded.\";\n      }\n    } else if (Date.now() < root._bokeh_timeout) {\n      setTimeout(display_loaded, 100)\n    }\n  }\n\n\n  function run_callbacks() {\n    try {\n      root._bokeh_onload_callbacks.forEach(function(callback) {\n        if (callback != null)\n          callback();\n      });\n    } finally {\n      delete root._bokeh_onload_callbacks\n    }\n    console.debug(\"Bokeh: all callbacks have finished\");\n  }\n\n  function load_libs(css_urls, js_urls, callback) {\n    if (css_urls == null) css_urls = [];\n    if (js_urls == null) js_urls = [];\n\n    root._bokeh_onload_callbacks.push(callback);\n    if (root._bokeh_is_loading > 0) {\n      console.debug(\"Bokeh: BokehJS is being loaded, scheduling callback at\", now());\n      return null;\n    }\n    if (js_urls == null || js_urls.length === 0) {\n      run_callbacks();\n      return null;\n    }\n    console.debug(\"Bokeh: BokehJS not loaded, scheduling load and callback at\", now());\n    root._bokeh_is_loading = css_urls.length + js_urls.length;\n\n    function on_load() {\n      root._bokeh_is_loading--;\n      if (root._bokeh_is_loading === 0) {\n        console.debug(\"Bokeh: all BokehJS libraries/stylesheets loaded\");\n        run_callbacks()\n      }\n    }\n\n    function on_error(url) {\n      console.error(\"failed to load \" + url);\n    }\n\n    for (let i = 0; i < css_urls.length; i++) {\n      const url = css_urls[i];\n      const element = document.createElement(\"link\");\n      element.onload = on_load;\n      element.onerror = on_error.bind(null, url);\n      element.rel = \"stylesheet\";\n      element.type = \"text/css\";\n      element.href = url;\n      console.debug(\"Bokeh: injecting link tag for BokehJS stylesheet: \", url);\n      document.body.appendChild(element);\n    }\n\n    for (let i = 0; i < js_urls.length; i++) {\n      const url = js_urls[i];\n      const element = document.createElement('script');\n      element.onload = on_load;\n      element.onerror = on_error.bind(null, url);\n      element.async = false;\n      element.src = url;\n      console.debug(\"Bokeh: injecting script tag for BokehJS library: \", url);\n      document.head.appendChild(element);\n    }\n  };\n\n  function inject_raw_css(css) {\n    const element = document.createElement(\"style\");\n    element.appendChild(document.createTextNode(css));\n    document.body.appendChild(element);\n  }\n\n  \n  const js_urls = [\"https://cdn.bokeh.org/bokeh/release/bokeh-2.4.2.min.js\", \"https://cdn.bokeh.org/bokeh/release/bokeh-gl-2.4.2.min.js\", \"https://cdn.bokeh.org/bokeh/release/bokeh-widgets-2.4.2.min.js\", \"https://cdn.bokeh.org/bokeh/release/bokeh-tables-2.4.2.min.js\", \"https://cdn.bokeh.org/bokeh/release/bokeh-mathjax-2.4.2.min.js\"];\n  const css_urls = [];\n  \n\n  const inline_js = [\n    function(Bokeh) {\n      Bokeh.set_log_level(\"info\");\n    },\n    function(Bokeh) {\n    \n    \n    }\n  ];\n\n  function run_inline_js() {\n    \n    if (root.Bokeh !== undefined || force === true) {\n      \n    for (let i = 0; i < inline_js.length; i++) {\n      inline_js[i].call(root, root.Bokeh);\n    }\n    } else if (Date.now() < root._bokeh_timeout) {\n      setTimeout(run_inline_js, 100);\n    } else if (!root._bokeh_failed_load) {\n      console.log(\"Bokeh: BokehJS failed to load within specified timeout.\");\n      root._bokeh_failed_load = true;\n    } else if (force !== true) {\n      const cell = $(document.getElementById(null)).parents('.cell').data().cell;\n      cell.output_area.append_execute_result(NB_LOAD_WARNING)\n    }\n\n  }\n\n  if (root._bokeh_is_loading === 0) {\n    console.debug(\"Bokeh: BokehJS loaded, going straight to plotting\");\n    run_inline_js();\n  } else {\n    load_libs(css_urls, js_urls, function() {\n      console.debug(\"Bokeh: BokehJS plotting callback run at\", now());\n      run_inline_js();\n    });\n  }\n}(window));"
     },
     "metadata": {},
     "output_type": "display_data"
    },
    {
     "data": {
      "application/vnd.bokehjs_exec.v0+json": "",
      "text/html": [
       "\n",
       "<script id=\"1002\">\n",
       "  (function() {\n",
       "    const xhr = new XMLHttpRequest()\n",
       "    xhr.responseType = 'blob';\n",
       "    xhr.open('GET', \"http://localhost:53537/autoload.js?bokeh-autoload-element=1002&bokeh-absolute-url=http://localhost:53537&resources=none\", true);\n",
       "    \n",
       "    xhr.onload = function (event) {\n",
       "      const script = document.createElement('script');\n",
       "      const src = URL.createObjectURL(event.target.response);\n",
       "      script.src = src;\n",
       "      document.body.appendChild(script);\n",
       "    };\n",
       "    xhr.send();\n",
       "  })();\n",
       "</script>"
      ]
     },
     "metadata": {
      "application/vnd.bokehjs_exec.v0+json": {
       "server_id": "72bf917c88f84e35a7d66a30fd567be5"
      }
     },
     "output_type": "display_data"
    }
   ],
   "source": [
    "tpfc[1].interact()"
   ]
  },
  {
   "cell_type": "markdown",
   "id": "6f966ec2",
   "metadata": {},
   "source": [
    "The lightcurve above confirms our suspicion that Eleonora was not viewable in the sector during the whole time of observation because it moved *into* the FFI during the observation. At the time of the writing of this tutorial, these cadences do not have a quality flag associated with them. \n",
    "\n",
    "We can check that all of the cadences loaded in this observation have a quality flag of zero:"
   ]
  },
  {
   "cell_type": "code",
   "execution_count": 15,
   "id": "22ed8117",
   "metadata": {},
   "outputs": [
    {
     "data": {
      "text/plain": [
       "0"
      ]
     },
     "execution_count": 15,
     "metadata": {},
     "output_type": "execute_result"
    }
   ],
   "source": [
    "np.sum(tpfc[0].quality)"
   ]
  },
  {
   "cell_type": "markdown",
   "id": "f82b5b3e",
   "metadata": {},
   "source": [
    "To handle this issue, we will make the lightcurve for each TPF, collect them as a list in a `LightCurveCollection` object and then truncate the lightcurves to remove the blank cadences."
   ]
  },
  {
   "cell_type": "code",
   "execution_count": 16,
   "id": "a48a39f5",
   "metadata": {},
   "outputs": [],
   "source": [
    "for i in range(nsectors):\n",
    "    lc=tpfc[i].to_lightcurve()\n",
    "    if i==0: \n",
    "        lcc=lk.LightCurveCollection([lc])\n",
    "    else:\n",
    "        lcc.append(lc)    "
   ]
  },
  {
   "cell_type": "markdown",
   "id": "1dbb9b47",
   "metadata": {},
   "source": [
    "Based on the `interact` screen above, the second lightkurve should be truncated for all rows before cadence number 59. In an exercise below, you can confirm for yourself that we should truncate the first lightkurve after cadence number 293. \n",
    "\n"
   ]
  },
  {
   "cell_type": "code",
   "execution_count": 17,
   "id": "cda0ae8e",
   "metadata": {},
   "outputs": [],
   "source": [
    "lcc[0]=lcc[0].truncate(after=293,column='cadenceno')\n",
    "lcc[1]=lcc[1].truncate(before=59,column='cadenceno')"
   ]
  },
  {
   "cell_type": "markdown",
   "id": "5a5821d1",
   "metadata": {},
   "source": [
    "The second lightcurve also shows two notable features around cadences 191-203 and 366-381. By examining the Pixel data screen on the right, it's clear that Eleonora passed by two stars at those times, and the flux from both stars is added into the aperture photometry and resulting light curve. We should also remove those cadences from our lightcurve or they may interfere with the periodogram. In this case, we can use `remove_outliers` to remove fluxes greater than 2 standard deviations from the median. In a later exercise, you can confirm that this does not modify the rest of the periodic fluctuation of the lightcurve. "
   ]
  },
  {
   "cell_type": "code",
   "execution_count": 18,
   "id": "4d246217",
   "metadata": {},
   "outputs": [],
   "source": [
    "lcc[1]=lcc[1].remove_outliers(sigma_upper=2)"
   ]
  },
  {
   "cell_type": "markdown",
   "id": "0b574577",
   "metadata": {},
   "source": [
    "Now we're ready to view the two lightcurves on one plot. "
   ]
  },
  {
   "cell_type": "code",
   "execution_count": 19,
   "id": "ceeec608",
   "metadata": {},
   "outputs": [
    {
     "data": {
      "text/plain": [
       "<AxesSubplot:xlabel='Time - 2457000 [BTJD days]', ylabel='Flux [$\\\\mathrm{e^{-}\\\\,s^{-1}}$]'>"
      ]
     },
     "execution_count": 19,
     "metadata": {},
     "output_type": "execute_result"
    },
    {
     "data": {
      "image/png": "[encoded data removed]",
      "text/plain": [
       "<Figure size 848.5x400 with 1 Axes>"
      ]
     },
     "metadata": {},
     "output_type": "display_data"
    }
   ],
   "source": [
    "lcc.plot()"
   ]
  },
  {
   "cell_type": "markdown",
   "id": "33da0e7f",
   "metadata": {},
   "source": [
    "Admittedly, that view is not very helpful because of the large gap in time between observations of Eleonora. However, this time gap is important because it explains the difference in mean flux values between the two observations. Eleonora must have either been farther away from us during the first sector (and hence, dimmer) *or* possibly in a dimmer phase due to its position from us relative to the sun.\n",
    "\n",
    "Still, having all of this data combined helps confirm the periodic nature of the flux variation, and hence, the period of the rotation of the asteroid. So, we will still stitch these together to combine them into one light curve and view the result. In an exercse, you can investigate if this affects the rotation period."
   ]
  },
  {
   "cell_type": "code",
   "execution_count": 20,
   "id": "ef4f5d85",
   "metadata": {},
   "outputs": [
    {
     "data": {
      "text/plain": [
       "<AxesSubplot:xlabel='Time - 2457000 [BTJD days]', ylabel='Normalized Flux'>"
      ]
     },
     "execution_count": 20,
     "metadata": {},
     "output_type": "execute_result"
    },
    {
     "data": {
      "image/png": "[encoded data removed]",
      "text/plain": [
       "<Figure size 848.5x400 with 1 Axes>"
      ]
     },
     "metadata": {},
     "output_type": "display_data"
    }
   ],
   "source": [
    "lc_stitched=lcc.stitch()\n",
    "lc_stitched.plot()"
   ]
  },
  {
   "cell_type": "markdown",
   "id": "080f652d",
   "metadata": {},
   "source": [
    "## Finding the rotation period from the light curve's periodogram\n",
    "Next, we'll create the periodogram of this stitched lightcurve. More information can be found in the lightkurve documentation: [What are Periodogram objects?](https://docs.lightkurve.org/tutorials/1-getting-started/what-are-periodogram-objects.html)"
   ]
  },
  {
   "cell_type": "code",
   "execution_count": 21,
   "id": "9db0e1a7",
   "metadata": {},
   "outputs": [
    {
     "name": "stderr",
     "output_type": "stream",
     "text": [
      "/Users/julia/opt/anaconda3/lib/python3.9/site-packages/astropy/units/quantity.py:613: RuntimeWarning: invalid value encountered in sqrt\n",
      "  result = super().__array_ufunc__(function, method, *arrays, **kwargs)\n"
     ]
    }
   ],
   "source": [
    "pg=lc_stitched.to_periodogram()"
   ]
  },
  {
   "cell_type": "code",
   "execution_count": 22,
   "id": "59dc54eb",
   "metadata": {},
   "outputs": [
    {
     "data": {
      "text/plain": [
       "<AxesSubplot:xlabel='Frequency [$\\\\mathrm{\\\\frac{1}{d}}$]', ylabel='Power'>"
      ]
     },
     "execution_count": 22,
     "metadata": {},
     "output_type": "execute_result"
    },
    {
     "data": {
      "image/png": "[encoded data removed]",
      "text/plain": [
       "<Figure size 848.5x400 with 1 Axes>"
      ]
     },
     "metadata": {},
     "output_type": "display_data"
    }
   ],
   "source": [
    "pg.plot()"
   ]
  },
  {
   "cell_type": "markdown",
   "id": "8faa27bf",
   "metadata": {},
   "source": [
    "There is clearly a frequency around 11 1/d found with maximum power. That corresponds to a period of:"
   ]
  },
  {
   "cell_type": "code",
   "execution_count": 23,
   "id": "dd98e2a9",
   "metadata": {},
   "outputs": [
    {
     "data": {
      "text/latex": [
       "$0.089104183 \\; \\mathrm{d}$"
      ],
      "text/plain": [
       "<Quantity 0.08910418 d>"
      ]
     },
     "execution_count": 23,
     "metadata": {},
     "output_type": "execute_result"
    }
   ],
   "source": [
    "pg.period_at_max_power"
   ]
  },
  {
   "cell_type": "markdown",
   "id": "88cd829f",
   "metadata": {},
   "source": [
    "Or, in hours:"
   ]
  },
  {
   "cell_type": "code",
   "execution_count": 24,
   "id": "a178ce4a",
   "metadata": {},
   "outputs": [
    {
     "data": {
      "text/latex": [
       "$2.1385004 \\; \\mathrm{h}$"
      ],
      "text/plain": [
       "<Quantity 2.13850039 h>"
      ]
     },
     "execution_count": 24,
     "metadata": {},
     "output_type": "execute_result"
    }
   ],
   "source": [
    "pg.period_at_max_power.to(u.hr)"
   ]
  },
  {
   "cell_type": "markdown",
   "id": "d03912c7",
   "metadata": {},
   "source": [
    "[Pál et al. 2020](https://ui.adsabs.harvard.edu/abs/2020ApJS..247...26P/abstract), found a rotation period of 4.27735 hours; their period is almost a perfectly integer multiple of ours (times 2). Their period corresponds to second highest peak in our periodogram. We can view the difference this makes by looking at the folded light curve, first with our period, and next with our period times two:"
   ]
  },
  {
   "cell_type": "code",
   "execution_count": 25,
   "id": "62ecb764",
   "metadata": {},
   "outputs": [
    {
     "data": {
      "text/plain": [
       "<AxesSubplot:xlabel='Phase [JD]', ylabel='Normalized Flux'>"
      ]
     },
     "execution_count": 25,
     "metadata": {},
     "output_type": "execute_result"
    },
    {
     "data": {
      "image/png": "[encoded data removed]",
      "text/plain": [
       "<Figure size 848.5x400 with 1 Axes>"
      ]
     },
     "metadata": {},
     "output_type": "display_data"
    }
   ],
   "source": [
    "lc_stitched.fold(period=pg.period_at_max_power).scatter()"
   ]
  },
  {
   "cell_type": "code",
   "execution_count": 26,
   "id": "b1c7dc53",
   "metadata": {},
   "outputs": [
    {
     "data": {
      "text/plain": [
       "<AxesSubplot:xlabel='Phase [JD]', ylabel='Normalized Flux'>"
      ]
     },
     "execution_count": 26,
     "metadata": {},
     "output_type": "execute_result"
    },
    {
     "data": {
      "image/png": "[encoded data removed]",
      "text/plain": [
       "<Figure size 848.5x400 with 1 Axes>"
      ]
     },
     "metadata": {},
     "output_type": "display_data"
    }
   ],
   "source": [
    "lc_stitched.fold(period=2*pg.period_at_max_power).scatter()"
   ]
  },
  {
   "cell_type": "markdown",
   "id": "c43331e2",
   "metadata": {},
   "source": [
    "The accepted period (the second one we viewed) produced better folded lightcurve. There appear to be two separate lightcurves: one with higher variation from the normalized flux, and one with lower variation. These correspond, respectively, to the first and second sectors, where the mean brightness of the asteroid was notably different. "
   ]
  },
  {
   "cell_type": "markdown",
   "id": "729824ae",
   "metadata": {},
   "source": [
    "## Exercises"
   ]
  },
  {
   "cell_type": "markdown",
   "id": "a23e3e54",
   "metadata": {},
   "source": [
    "1. Confirm that the first lightcurve in our hdulist should be truncated after cadence number 293. "
   ]
  },
  {
   "cell_type": "code",
   "execution_count": 27,
   "id": "6a2cab50",
   "metadata": {},
   "outputs": [],
   "source": [
    "# Place for code for Exercise 1"
   ]
  },
  {
   "cell_type": "markdown",
   "id": "d0e8b9a3",
   "metadata": {},
   "source": [
    "2. Confirm that using a `remove_outlier` cutoff of `sigma_upper=2` did not affect the other cadences of the lightcurve for the second sector. At this point in the tutorial, the second sector's original light curve is still saved under the variable name `lc`; plot a graph of its time vs. flux columns and then overplot our sigma-clipped time and flux columns. Hint: You'll need to [load `time_support()` first](https://docs.astropy.org/en/stable/visualization/matplotlib_integration.html#plotting-times) in order to use the time column in matplotlib. "
   ]
  },
  {
   "cell_type": "code",
   "execution_count": 28,
   "id": "a5594520",
   "metadata": {},
   "outputs": [],
   "source": [
    "# Place for code for Exercise 2"
   ]
  },
  {
   "cell_type": "markdown",
   "id": "7f935c89",
   "metadata": {},
   "source": [
    "3. Determine if the rotation period returned by `lightkurve` is different when using only one sector's light curve at a time. "
   ]
  },
  {
   "cell_type": "code",
   "execution_count": 29,
   "id": "0880e99e",
   "metadata": {},
   "outputs": [],
   "source": [
    "# Place for code for Exercise 3"
   ]
  },
  {
   "cell_type": "markdown",
   "id": "fe42996c",
   "metadata": {},
   "source": [
    "4. Use the interactive [TESSCut webpage](https://mast.stsci.edu/tesscut/) to download 10x10 cutouts for all sectors observing Eleonora. Be sure to select \"Moving Target\" at the top! Load the resulting fits files in and confirm that they are identical to the items in `hdulist` above. Hint: Astropy has a built-in method called [FITSDiff](https://docs.astropy.org/en/stable/io/fits/api/diff.html). "
   ]
  },
  {
   "cell_type": "code",
   "execution_count": 30,
   "id": "440ad457",
   "metadata": {},
   "outputs": [],
   "source": [
    "# Place for code for Exercise 4"
   ]
  },
  {
   "cell_type": "markdown",
   "id": "7fccf576",
   "metadata": {},
   "source": [
    "5. Try recreating the procedure above to find the rotation period for a fainter (higher magnitude) small body from [Pál et al. 2020](https://ui.adsabs.harvard.edu/abs/2020ApJS..247...26P/abstract) such as Hippodamia. What issues do you encounter in this case?"
   ]
  },
  {
   "cell_type": "code",
   "execution_count": 31,
   "id": "fb19fc9e",
   "metadata": {},
   "outputs": [],
   "source": [
    "# Place for code for Exercise 5"
   ]
  },
  {
   "cell_type": "markdown",
   "id": "e044571f",
   "metadata": {},
   "source": [
    "6. Use [astroquery's Minor Planet Center Queries (MPC)](https://astroquery.readthedocs.io/en/latest/mpc/mpc.html?highlight=mpc#ephemerides) `get_ephemeris` feature to investigate why the median flux for the first sector's observations is lower than for the second sector's observations. The times of each cadence are in the light curve's `time` column."
   ]
  },
  {
   "cell_type": "code",
   "execution_count": 32,
   "id": "ea8eb695",
   "metadata": {},
   "outputs": [],
   "source": [
    "# Place for code for Exercise 6"
   ]
  },
  {
   "cell_type": "markdown",
   "id": "546b4037",
   "metadata": {},
   "source": [
    "## Citations\n",
    "\n",
    "If you use `astropy`, `lightkurve`, or `TESScut` for published research, please cite the\n",
    "authors. Follow these links for more information about citations:\n",
    "\n",
    "* [Citing `astropy`](https://www.astropy.org/acknowledging.html)\n",
    "* [Citing `lightkurve`](http://docs.lightkurve.org/about/citing.html)\n",
    "* Cite [Brasseur et al. 2019](https://ui.adsabs.harvard.edu/abs/2019ascl.soft05007B/abstract) for TESScut"
   ]
  },
  {
   "cell_type": "markdown",
   "id": "7494fca9",
   "metadata": {},
   "source": [
    "## About this Notebook\n",
    "\n",
    "**Author:** Julia Kamenetzky, ScienceBetter Consultant <br>\n",
    "**Keywords:** <br>\n",
    "**Last Updated:**  Sep 2022<br>\n",
    "**Next Review:** Feb 2023<br>\n",
    "***\n",
    "[Top of Page](#top)\n",
    "<img style=\"float: right;\" src=\"https://raw.githubusercontent.com/spacetelescope/notebooks/master/assets/stsci_pri_combo_mark_horizonal_white_bkgd.png\" alt=\"Space Telescope Logo\" width=\"200px\"/> "
   ]
  },
  {
   "cell_type": "code",
   "execution_count": null,
   "id": "77e31f65",
   "metadata": {},
   "outputs": [],
   "source": []
  }
 ],
 "metadata": {
  "kernelspec": {
   "display_name": "Python 3 (ipykernel)",
   "language": "python",
   "name": "python3"
  },
  "language_info": {
   "codemirror_mode": {
    "name": "ipython",
    "version": 3
   },
   "file_extension": ".py",
   "mimetype": "text/x-python",
   "name": "python",
   "nbconvert_exporter": "python",
   "pygments_lexer": "ipython3",
   "version": "3.9.12"
  }
 },
 "nbformat": 4,
 "nbformat_minor": 5
}
