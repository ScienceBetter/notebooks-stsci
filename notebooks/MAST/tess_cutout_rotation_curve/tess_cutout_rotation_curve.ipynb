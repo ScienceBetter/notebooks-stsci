{
 "cells": [
  {
   "cell_type": "markdown",
   "id": "636e567b",
   "metadata": {},
   "source": [
    "# Finding the Rotation Curve of an Asteroid or Comet with TESScut and lightkurve\n",
    "---"
   ]
  },
  {
   "cell_type": "markdown",
   "id": "17d1c868",
   "metadata": {},
   "source": [
    "## Learning Goals\n",
    "\n",
    "By the end of this tutorial, you will:\n",
    "- Understand what a cutout of SOMETHING SOMETHING is?\n",
    "- Use the TESScut API to find a cutout of an asteroid or comet by name.\n",
    "- Plot the lightcurve using lightkurve\n",
    "- Find the rotation period of the asteroid using lightkurve"
   ]
  },
  {
   "cell_type": "markdown",
   "id": "c4ca0d91",
   "metadata": {},
   "source": [
    "## Introduction\n",
    "Intro ideas...\n",
    "- Asteroids and comets and moving targets, they won't have a fixed RA and Dec. But built-in tools can be searched by object name or ID understood by [JPL Horizon ephemerades interface](https://ssd.jpl.nasa.gov/horizons/app.html#/)\n",
    "- \"While its primary mission avoids the vicinity of the ecliptic plane by approximately six degrees, the scale height of the solar system debris disk is large enough to place various small body populations in the field of view.\" https://ui.adsabs.harvard.edu/abs/2020ApJS..247...26P/abstract <- They have MAST data (TSSYS-DR1) and published lightcurves and periods. We'll get the TESS cutout by object name and compare.\n",
    "- What is a CUTOUT, what is an FFI TIME SERIES. FFI = full-frame images, as opposed to target pixel files (TPFs) https://heasarc.gsfc.nasa.gov/docs/tess/data-products.html "
   ]
  },
  {
   "cell_type": "markdown",
   "id": "11fd6e73",
   "metadata": {},
   "source": [
    "The workflow for this notebook consists of:\n",
    "    THE TOC"
   ]
  },
  {
   "cell_type": "markdown",
   "id": "2dded33a",
   "metadata": {},
   "source": [
    "## Imports\n",
    "\n",
    "- *numpy* to handle array functions\n",
    "- *astropy.io fits* for acccessing FITS files\n",
    "- *astropy.table Table* for creating tidy tables of the data\n",
    "- *matplotlib.pyplot* for plotting data\n",
    "\n",
    "JRK be sure to review when done-ish."
   ]
  },
  {
   "cell_type": "code",
   "execution_count": 105,
   "id": "19f0e45b",
   "metadata": {},
   "outputs": [],
   "source": [
    "%matplotlib inline\n",
    "\n",
    "import matplotlib.pyplot as plt\n",
    "import numpy as np\n",
    "\n",
    "from astropy.io import fits\n",
    "from astropy.table import Table\n",
    "from astroquery.mast import Mast\n",
    "from astroquery.mast import Observations\n",
    "\n",
    "# JRK be sure to review when done-ish.\n",
    "\n",
    "import requests\n",
    "from astroquery.mast import Tesscut\n",
    "import lightkurve as lk"
   ]
  },
  {
   "cell_type": "markdown",
   "id": "2fdb808a",
   "metadata": {},
   "source": [
    "## Searching the TESS archive by target name using the TESScut API\n",
    "\n",
    "You can duse the [TESScut webpage](https://mast.stsci.edu/tesscut/) to make a cutout of a TESS FFI time series; for a solar system object like an asteroid or comet, be sure to click on the \"Moving Target\" button at the top after the words \"Create cutout based on.\" \n",
    "\n",
    "To create a scriptable process for using TESScut, we can instead use the API or Application Programming Interface. We can use a script to create a unique URL that contains the same information and settings you'd input by hand on the webpage. Then we can use the python `requests` library to access that URL and deliver the results into this notebook."
   ]
  },
  {
   "cell_type": "markdown",
   "id": "dfb5330d",
   "metadata": {},
   "source": [
    "The URLs for the TESScut API will all start with `https://mast.stsci.edu/tesscut/api/v0.1/` and for the case of moving targets, `moving_target/` will be appended. After `astrocut?` we will include all of the keywords we want separated by `&` signs. \n",
    "- `obj_id=hippodamia` to search by the object's name\n",
    "- `x=4` for our cutout image to be 4 pixels in width\n",
    "- `y=4` for our cutout image to be 4 pixels in height.\n",
    "\n",
    "1 TESS pixel is about 21 arcseconds wide. \n",
    "\n",
    "JRK justify the width and height based on something useful.\n",
    "\n",
    "Below, we print the status code from our query; a code of 200 means success. "
   ]
  },
  {
   "cell_type": "code",
   "execution_count": 41,
   "id": "51315a5c",
   "metadata": {},
   "outputs": [],
   "source": [
    "objname='hippodamia'"
   ]
  },
  {
   "cell_type": "code",
   "execution_count": 2,
   "id": "8cf0d923",
   "metadata": {},
   "outputs": [
    {
     "data": {
      "text/plain": [
       "200"
      ]
     },
     "execution_count": 2,
     "metadata": {},
     "output_type": "execute_result"
    }
   ],
   "source": [
    "url='https://mast.stsci.edu/tesscut/api/v0.1/moving_target/astrocut?obj_id='+objname+'&x=4&y=4'\n",
    "r=requests.get(url)\n",
    "r.status_code"
   ]
  },
  {
   "cell_type": "code",
   "execution_count": null,
   "id": "afcd370c",
   "metadata": {},
   "outputs": [],
   "source": [
    "#r.json().keys() # THIS BREAKS IT"
   ]
  },
  {
   "cell_type": "markdown",
   "id": "d3b281f9",
   "metadata": {},
   "source": [
    "## Searching the TESS archive by target name using astroquery\n",
    "\n",
    "Built-in [MAST functionality in astroquery can also access TESScut](https://astroquery.readthedocs.io/en/latest/mast/mast.html#cutouts). "
   ]
  },
  {
   "cell_type": "markdown",
   "id": "18cd6a48",
   "metadata": {},
   "source": [
    "TESS observed distinct areas of the sky called Sectors. We can use `Tesscut.get_sectors` to see which sectors inlude observations of our object. Whenever using Tesscut with a moving target, we must always set `moving_target=True` (the default is `False`). "
   ]
  },
  {
   "cell_type": "code",
   "execution_count": 42,
   "id": "6a62da63",
   "metadata": {},
   "outputs": [
    {
     "name": "stdout",
     "output_type": "stream",
     "text": [
      "  sectorName   sector camera ccd\n",
      "-------------- ------ ------ ---\n",
      "tess-s0003-1-2      3      1   2\n"
     ]
    }
   ],
   "source": [
    "sector_table=Tesscut.get_sectors(objectname=objname, moving_target=True)\n",
    "print(sector_table)"
   ]
  },
  {
   "cell_type": "markdown",
   "id": "d4ea4d5e",
   "metadata": {},
   "source": [
    "Next we'll use `Tess.get_cutouts` to You can specify `sector=3` when requesting the cutouts, but it's not necessary. Without specifying the sector, we will receive results for all sectors available. \n",
    "\n",
    "JRK is that true or did I make it up. \n",
    "\n",
    "JRK if I chose one with multiple sectors observed, would hdulist be longer than 1? Tried with Ceres, takes forever, gave up."
   ]
  },
  {
   "cell_type": "code",
   "execution_count": 43,
   "id": "d381bb77",
   "metadata": {},
   "outputs": [],
   "source": [
    "hdulist = Tesscut.get_cutouts(objectname=objname, moving_target=True, size=5)"
   ]
  },
  {
   "cell_type": "code",
   "execution_count": 44,
   "id": "8551da3b",
   "metadata": {},
   "outputs": [
    {
     "name": "stdout",
     "output_type": "stream",
     "text": [
      "Length of hdulist = 1\n",
      "Filename: <class '_io.BytesIO'>\n",
      "No.    Name      Ver    Type      Cards   Dimensions   Format\n",
      "  0  PRIMARY       1 PrimaryHDU      54   ()      \n",
      "  1  PIXELS        1 BinTableHDU    150   1267R x 16C   [D, E, J, 25J, 25E, 25E, 25E, 25E, J, E, E, 38A, D, D, D, D]   \n",
      "  2  APERTURE      1 ImageHDU        97   (2136, 2078)   int32   \n"
     ]
    }
   ],
   "source": [
    "print('Length of hdulist =',len(hdulist))\n",
    "hdulist[0].info()"
   ]
  },
  {
   "cell_type": "markdown",
   "id": "aaed15c3",
   "metadata": {},
   "source": [
    "The result that we get is describe in the [astrocut documentation on Path Focused Target Pixel Files](https://astrocut.readthedocs.io/en/latest/astrocut/file_formats.html#path-focused-target-pixel-files). Extension 0 is the header with metadata. Astronomers not used to working with moving targets may note that the `RA_OBJ` and `DEC_OBJ` keywords are not there!\n",
    "\n",
    "Extension 1 is the data we most want in the form of a binary table; we'll look at tha tnext.\n",
    "\n",
    "But first, extension 2, if present, is an image the size of the full image that the cutouts were drawn from. It's an array of 1's if the pixel was used and 0 if the pixel was not. By displaying this array as an image, we can see the trajectory of our moving target through the TESS sector. \n",
    "\n",
    "JRK is that right, is it the whole sector or some subset? "
   ]
  },
  {
   "cell_type": "code",
   "execution_count": 45,
   "id": "c827df35",
   "metadata": {},
   "outputs": [
    {
     "data": {
      "text/plain": [
       "<matplotlib.image.AxesImage at 0x11fae2ca0>"
      ]
     },
     "execution_count": 45,
     "metadata": {},
     "output_type": "execute_result"
    },
    {
     "data": {
      "image/png": "[encoded data removed]",
      "text/plain": [
       "<Figure size 432x288 with 1 Axes>"
      ]
     },
     "metadata": {
      "needs_background": "light"
     },
     "output_type": "display_data"
    }
   ],
   "source": [
    "plt.imshow(hdulist[0][2].data)"
   ]
  },
  {
   "cell_type": "markdown",
   "id": "7fd30b5e",
   "metadata": {},
   "source": [
    "Going back to Extension 1, this is a binary table with 1267 rows and 16 columns. The header keys `TTYPE1`, `TTYPE2`, etc. tell us the names of each column. Let's view each of them."
   ]
  },
  {
   "cell_type": "code",
   "execution_count": 60,
   "id": "bb7b9a38",
   "metadata": {},
   "outputs": [
    {
     "name": "stdout",
     "output_type": "stream",
     "text": [
      "0 TIME\n",
      "1 TIMECORR\n",
      "2 CADENCENO\n",
      "3 RAW_CNTS\n",
      "4 FLUX\n",
      "5 FLUX_ERR\n",
      "6 FLUX_BKG\n",
      "7 FLUX_BKG_ERR\n",
      "8 QUALITY\n",
      "9 POS_CORR1\n",
      "10 POS_CORR2\n",
      "11 FFI_FILE\n",
      "12 TGT_X\n",
      "13 TGT_Y\n",
      "14 TGT_RA\n",
      "15 TGT_DEC\n"
     ]
    }
   ],
   "source": [
    "for i in range(1,17): print(i-1,hdulist[0][1].header['TTYPE'+str(i)])"
   ]
  },
  {
   "cell_type": "markdown",
   "id": "7e3f9718",
   "metadata": {},
   "source": [
    "Examining the first row of this binary table, we can see that some of the columns are really arrays; these are the single cutout images we requested. "
   ]
  },
  {
   "cell_type": "code",
   "execution_count": 59,
   "id": "8d09b065",
   "metadata": {},
   "outputs": [
    {
     "name": "stdout",
     "output_type": "stream",
     "text": [
      "(1382.0576094717571, 0.004970673, 0, array([[-1, -1, -1, -1, -1],\n",
      "       [-1, -1, -1, -1, -1],\n",
      "       [-1, -1, -1, -1, -1],\n",
      "       [-1, -1, -1, -1, -1],\n",
      "       [-1, -1, -1, -1, -1]], dtype=int32), array([[145.30815, 145.67703, 147.01529, 148.26833, 146.83429],\n",
      "       [147.08664, 155.12308, 187.63747, 179.78893, 153.01134],\n",
      "       [152.07637, 168.54951, 230.23271, 240.85228, 162.49188],\n",
      "       [147.38747, 156.7292 , 176.37457, 179.8293 , 151.83972],\n",
      "       [145.20474, 146.8089 , 151.55435, 152.69827, 147.08081]],\n",
      "      dtype=float32), array([[0.36228755, 0.36212125, 0.36649147, 0.36717445, 0.36338165],\n",
      "       [0.36321196, 0.37023285, 0.4006252 , 0.39401156, 0.3682797 ],\n",
      "       [0.36974123, 0.3842766 , 0.4421701 , 0.44933993, 0.37955892],\n",
      "       [0.3637108 , 0.37181395, 0.39431497, 0.39451766, 0.37103018],\n",
      "       [0.36040527, 0.36415857, 0.36874247, 0.36804777, 0.3647822 ]],\n",
      "      dtype=float32), array([[0., 0., 0., 0., 0.],\n",
      "       [0., 0., 0., 0., 0.],\n",
      "       [0., 0., 0., 0., 0.],\n",
      "       [0., 0., 0., 0., 0.],\n",
      "       [0., 0., 0., 0., 0.]], dtype=float32), array([[0., 0., 0., 0., 0.],\n",
      "       [0., 0., 0., 0., 0.],\n",
      "       [0., 0., 0., 0., 0.],\n",
      "       [0., 0., 0., 0., 0.],\n",
      "       [0., 0., 0., 0., 0.]], dtype=float32), 0, 0.0, 0.0, 'tess2018263125940-s0003-1-2-0123-s_ffi', 2.15628512337571, 2.0775588454314793, 28.747652131598336, -18.551440349900805)\n"
     ]
    }
   ],
   "source": [
    "print(hdulist[0][1].data[0])"
   ]
  },
  {
   "cell_type": "markdown",
   "id": "7838b478",
   "metadata": {},
   "source": [
    "The column of index i=4 is the array of fluxes; it's exactly the size we requested. Let's view the first cutout!"
   ]
  },
  {
   "cell_type": "code",
   "execution_count": 103,
   "id": "285a7e71",
   "metadata": {},
   "outputs": [
    {
     "name": "stdout",
     "output_type": "stream",
     "text": [
      "RA:  28.747652131598336\n",
      "Dec:  -18.551440349900805\n"
     ]
    },
    {
     "data": {
      "image/png": "[encoded data removed]",
      "text/plain": [
       "<Figure size 432x288 with 2 Axes>"
      ]
     },
     "metadata": {
      "needs_background": "light"
     },
     "output_type": "display_data"
    }
   ],
   "source": [
    "fig,ax=plt.subplots(1,1)\n",
    "imgplot=plt.imshow(hdulist[0][1].data[0][4])\n",
    "plt.colorbar()\n",
    "ax.set_title(objname+' Time '+str(hdulist[0][1].data[0][0]))\n",
    "print('RA: ',hdulist[0][1].data[0][14])\n",
    "print('Dec: ',hdulist[0][1].data[0][15])"
   ]
  },
  {
   "cell_type": "markdown",
   "id": "4ecc7e6c",
   "metadata": {},
   "source": [
    "Let's view another cutout at a later time, say at row 500."
   ]
  },
  {
   "cell_type": "code",
   "execution_count": 124,
   "id": "b060bf60",
   "metadata": {},
   "outputs": [
    {
     "name": "stdout",
     "output_type": "stream",
     "text": [
      "RA:  26.787163993772285\n",
      "Dec:  -19.15745493486343\n"
     ]
    },
    {
     "data": {
      "image/png": "[encoded data removed]",
      "text/plain": [
       "<Figure size 432x288 with 2 Axes>"
      ]
     },
     "metadata": {
      "needs_background": "light"
     },
     "output_type": "display_data"
    }
   ],
   "source": [
    "i=500\n",
    "fig,ax=plt.subplots(1,1)\n",
    "imgplot=plt.imshow(hdulist[0][1].data[i][4])\n",
    "plt.colorbar()\n",
    "ax.set_title(objname+' Time '+str(hdulist[0][1].data[i][0]))\n",
    "print('RA: ',hdulist[0][1].data[i][14])\n",
    "print('Dec: ',hdulist[0][1].data[i][15])"
   ]
  },
  {
   "cell_type": "markdown",
   "id": "39743ef8",
   "metadata": {},
   "source": [
    "At this later time, the target has moved to a different RA and Dec, and also appears differently due to its rotation about its own axis."
   ]
  },
  {
   "cell_type": "code",
   "execution_count": 98,
   "id": "f3d79bfc",
   "metadata": {},
   "outputs": [
    {
     "data": {
      "text/plain": [
       "[<matplotlib.lines.Line2D at 0x129da7c40>]"
      ]
     },
     "execution_count": 98,
     "metadata": {},
     "output_type": "execute_result"
    },
    {
     "data": {
      "image/png": "[encoded data removed]",
      "text/plain": [
       "<Figure size 432x288 with 1 Axes>"
      ]
     },
     "metadata": {
      "needs_background": "light"
     },
     "output_type": "display_data"
    }
   ],
   "source": [
    "times=np.zeros(1267)\n",
    "for i in range(0,1267): times[i]=hdulist[0][1].data[i][0]\n",
    "plt.plot(times)"
   ]
  },
  {
   "cell_type": "code",
   "execution_count": 61,
   "id": "eb03fdf5",
   "metadata": {},
   "outputs": [
    {
     "data": {
      "text/plain": [
       "XTENSION= 'BINTABLE'           / binary table extension                         \n",
       "BITPIX  =                    8 / array data type                                \n",
       "NAXIS   =                    2 / number of array dimensions                     \n",
       "NAXIS1  =                  598 / length of dimension 1                          \n",
       "NAXIS2  =                 1267 / length of dimension 2                          \n",
       "PCOUNT  =                    0 / number of group parameters                     \n",
       "GCOUNT  =                    1 / number of groups                               \n",
       "TFIELDS =                   16 / number of table fields                         \n",
       "TTYPE1  = 'TIME    '           / column name                                    \n",
       "TDISP1  = 'D14.7   '           / display format                                 \n",
       "TUNIT1  = 'BJD - 2457000, days' / unit                                          \n",
       "TFORM1  = 'D       '           / column format                                  \n",
       "TTYPE2  = 'TIMECORR'           / column name                                    \n",
       "TDISP2  = 'E14.7   '           / display format                                 \n",
       "TUNIT2  = 'd       '           / unit                                           \n",
       "TFORM2  = 'E       '           / column format                                  \n",
       "TTYPE3  = 'CADENCENO'          / column name                                    \n",
       "TDISP3  = 'I10     '           / display format                                 \n",
       "TFORM3  = 'J       '           / column format                                  \n",
       "TTYPE4  = 'RAW_CNTS'           / column name                                    \n",
       "TDISP4  = 'I8      '           / display format                                 \n",
       "TUNIT4  = 'count   '           / unit                                           \n",
       "TFORM4  = '25J     '           / column format                                  \n",
       "TDIM4   = '(5,5)   '           / multi-dimensional array spec                   \n",
       "TTYPE5  = 'FLUX    '           / column name                                    \n",
       "TDISP5  = 'E14.7   '           / display format                                 \n",
       "TUNIT5  = 'e-/s    '           / unit                                           \n",
       "TFORM5  = '25E     '           / column format                                  \n",
       "TDIM5   = '(5,5)   '           / multi-dimensional array spec                   \n",
       "TTYPE6  = 'FLUX_ERR'           / column name                                    \n",
       "TDISP6  = 'E14.7   '           / display format                                 \n",
       "TUNIT6  = 'e-/s    '           / unit                                           \n",
       "TFORM6  = '25E     '           / column format                                  \n",
       "TDIM6   = '(5,5)   '           / multi-dimensional array spec                   \n",
       "TTYPE7  = 'FLUX_BKG'           / column name                                    \n",
       "TDISP7  = 'E14.7   '           / display format                                 \n",
       "TUNIT7  = 'e-/s    '           / unit                                           \n",
       "TFORM7  = '25E     '           / column format                                  \n",
       "TDIM7   = '(5,5)   '           / multi-dimensional array spec                   \n",
       "TTYPE8  = 'FLUX_BKG_ERR'       / column name                                    \n",
       "TDISP8  = 'E14.7   '           / display format                                 \n",
       "TUNIT8  = 'e-/s    '           / unit                                           \n",
       "TFORM8  = '25E     '           / column format                                  \n",
       "TDIM8   = '(5,5)   '           / multi-dimensional array spec                   \n",
       "TTYPE9  = 'QUALITY '           / column name                                    \n",
       "TDISP9  = 'B16.16  '           / display format                                 \n",
       "TFORM9  = 'J       '           / column format                                  \n",
       "TTYPE10 = 'POS_CORR1'          / column name                                    \n",
       "TDISP10 = 'E14.7   '           / display format                                 \n",
       "TUNIT10 = 'pixel   '           / unit                                           \n",
       "TFORM10 = 'E       '           / column format                                  \n",
       "TTYPE11 = 'POS_CORR2'          / column name                                    \n",
       "TDISP11 = 'E14.7   '           / display format                                 \n",
       "TUNIT11 = 'pixel   '           / unit                                           \n",
       "TFORM11 = 'E       '           / column format                                  \n",
       "TTYPE12 = 'FFI_FILE'           / column name                                    \n",
       "TUNIT12 = 'pixel   '           / unit                                           \n",
       "TFORM12 = '38A     '           / column format                                  \n",
       "TTYPE13 = 'TGT_X   '           / column name                                    \n",
       "TFORM13 = 'D       '           / column format                                  \n",
       "TTYPE14 = 'TGT_Y   '           / column name                                    \n",
       "TFORM14 = 'D       '           / column format                                  \n",
       "TTYPE15 = 'TGT_RA  '           / column name                                    \n",
       "TFORM15 = 'D       '           / column format                                  \n",
       "TTYPE16 = 'TGT_DEC '           / column name                                    \n",
       "TFORM16 = 'D       '           / column format                                  \n",
       "TNULL4  =                   -1 / null value                                     \n",
       "EXTNAME = 'PIXELS  '                                                            \n",
       "INHERIT =                    T                                                  \n",
       "BACKAPP =                  0.0 / background is subtracted                       \n",
       "CDPP0_5 =  / RMS CDPP on 0.5-hr time scales                                     \n",
       "CDPP1_0 =  / RMS CDPP on 1.0-hr time scales                                     \n",
       "CDPP2_0 =  / RMS CDPP on 2.0-hr time scales                                     \n",
       "CROWDSAP=  / Ratio of target flux to total flux in op. ap.                      \n",
       "DEADAPP =                  1.0 / deadtime applied                               \n",
       "DEADC   =                0.792 / deadtime correction                            \n",
       "EXPOSURE=       0.016499993334 / [d] time on source                             \n",
       "FLFRCSAP=  / Frac. of target flux w/in the op. aperture                         \n",
       "FRAMETIM=                  2.0 / [s] frame time [INT_TIME + READTIME]           \n",
       "FXDOFF  =              3355400 / compression fixed offset                       \n",
       "GAINA   =    5.269999980926514 / [electrons/count] CCD output A gain            \n",
       "GAINB   =    5.139999866485596 / [electrons/count] CCD output B gain            \n",
       "GAINC   =    5.110000133514404 / [electrons/count] CCD output C gain            \n",
       "GAIND   =    5.190000057220459 / [electrons/count] CCD output D gain            \n",
       "INT_TIME=                 1.98 / [s] photon accumulation time per frame         \n",
       "LIVETIME=   0.0164999933341005 / [d] TELAPSE multiplied by DEADC                \n",
       "MEANBLCA=                 6659 / [count] FSW mean black level CCD output A      \n",
       "MEANBLCB=                 6986 / [count] FSW mean black level CCD output B      \n",
       "MEANBLCC=                 6796 / [count] FSW mean black level CCD output C      \n",
       "MEANBLCD=                 6666 / [count] FSW mean black level CCD output D      \n",
       "NREADOUT=                  720 / number of read per cadence                     \n",
       "NUM_FRM =                  900 / number of frames per time stamp                \n",
       "READNOIA=    10.22380065917969 / [electrons] read noise CCD output A            \n",
       "READNOIB=    7.401599884033203 / [electrons] read noise CCD output B            \n",
       "READNOIC=    7.358400344848633 / [electrons] read noise CCD output C            \n",
       "READNOID=    9.549600601196289 / [electrons] read noise CCD output D            \n",
       "READTIME=                 0.02 / [s] readout time per frame                     \n",
       "TIERRELA=             1.16E-05 / [d] relative time error                        \n",
       "TIMEDEL =  0.02083333333333333 / [d] time resolution of data                    \n",
       "TIMEPIXR=                  0.5 / bin time beginning=0 middle=0.5 end=1          \n",
       "TMOFST11=  / (s) readout delay for camera 1 and ccd 1                           \n",
       "VIGNAPP =                  1.0 / vignetting or collimator correction applied    \n",
       "EXTVER  =                    1 / extension version number (not format version)  \n",
       "SIMDATA =                    F / file is based on simulated data                \n",
       "ORIGIN  = 'STScI/MAST'         / institution responsible for creating this file \n",
       "DATE    = '2021-05-26'         / file creation date.                            \n",
       "TSTART  =     1382.04719292504 / observation start time in BTJD                 \n",
       "TSTOP   =    1409.380772206575 / observation stop time in BTJD                  \n",
       "DATE-OBS= '2018-09-20T13:06:48.285' / TSTART as UTC calendar date               \n",
       "DATE-END= '2018-10-17T21:07:09.535' / TSTOP as UTC calendar date                \n",
       "CREATOR = 'astrocut'           / software used to produce this file             \n",
       "PROCVER = '0.8     '           / software version                               \n",
       "FILEVER = '1.0     '           / file format version                            \n",
       "TIMVERSN= 'OGIP/93-003'        / OGIP memo number for file format               \n",
       "TELESCOP= 'TESS    '           / telescope                                      \n",
       "INSTRUME= 'TESS Photometer'    / detector type                                  \n",
       "DATA_REL=                   42 / data release version number                    \n",
       "ASTATE  =                    T / archive state F indicates single orbit processi\n",
       "SCCONFIG=                  123 / spacecraft configuration ID                    \n",
       "RADESYS = 'ICRS    '           / reference frame of celestial coordinates       \n",
       "FFIINDEX=                 7420 / number of FFI cadence interval                 \n",
       "EQUINOX =               2000.0 / equinox of celestial coordinate system         \n",
       "CRMITEN =                    T / spacecraft cosmic ray mitigation enabled       \n",
       "CRBLKSZ =                   10 / [exposures] s/c cosmic ray mitigation block siz\n",
       "CRSPOC  =                    F / SPOC cosmic ray cleaning enabled               \n",
       "CAMERA  =                    1 / Camera number                                  \n",
       "CCD     =                    2 / CCD chip number                                \n",
       "SECTOR  =                    3 / Observing sector                               \n",
       "TIMEREF = 'SOLARSYSTEM'        / barycentric correction applied to times        \n",
       "TASSIGN = 'SPACECRAFT'         / where time is assigned                         \n",
       "TIMESYS = 'TDB     '           / time system is Barycentric Dynamical Time (TDB)\n",
       "BJDREFI =              2457000 / integer part of BTJD reference date            \n",
       "BJDREFF =                  0.0 / fraction of the day in BTJD reference date     \n",
       "TIMEUNIT= 'd       '           / time unit for TIME, TSTART and TSTOP           \n",
       "TELAPSE =    27.33357928153509 / [d] TSTOP - TSTART                             \n",
       "OBJECT  = '' / string version of target id                                      \n",
       "TCID    =                    0 / unique tess target identifier                  \n",
       "PXTABLE =                    0 / pixel table id                                 \n",
       "PMRA    =                  0.0 / [mas/yr] RA proper motion                      \n",
       "PMDEC   =                  0.0 / [mas/yr] Dec proper motion                     \n",
       "PMTOTAL =                  0.0 / [mas/yr] total proper motion                   \n",
       "TESSMAG =                  0.0 / [mag] TESS magnitude                           \n",
       "TEFF    =                  0.0 / [K] Effective temperature                      \n",
       "LOGG    =                  0.0 / [cm/s2] log10 surface gravity                  \n",
       "MH      =                  0.0 / [log10([M/H])] metallicity                     \n",
       "RADIUS  =                  0.0 / [solar radii] stellar radius                   \n",
       "TICVER  =                    0 / TICVER                                         \n",
       "TICID   =  / unique tess target identifier                                      \n",
       "CHECKSUM= 'ch2Bcg19cg1Acg17'   / HDU checksum updated 2022-08-24T02:55:00       \n",
       "DATASUM = '2024370178'         / data unit checksum updated 2022-08-24T02:55:00 "
      ]
     },
     "execution_count": 61,
     "metadata": {},
     "output_type": "execute_result"
    }
   ],
   "source": []
  },
  {
   "cell_type": "markdown",
   "id": "c200b9ed",
   "metadata": {},
   "source": [
    "# Attempt to get this into lightkurve"
   ]
  },
  {
   "cell_type": "code",
   "execution_count": 137,
   "id": "34b52be8",
   "metadata": {},
   "outputs": [],
   "source": [
    "hdulist[0].writeto('testfile.fits')"
   ]
  },
  {
   "cell_type": "code",
   "execution_count": 138,
   "id": "68e2914c",
   "metadata": {},
   "outputs": [],
   "source": [
    "tpf = lk.TessTargetPixelFile('testfile.fits')"
   ]
  },
  {
   "cell_type": "code",
   "execution_count": 139,
   "id": "0bef5813",
   "metadata": {},
   "outputs": [
    {
     "data": {
      "application/javascript": [
       "\n",
       "(function(root) {\n",
       "  function now() {\n",
       "    return new Date();\n",
       "  }\n",
       "\n",
       "  const force = true;\n",
       "\n",
       "  if (typeof root._bokeh_onload_callbacks === \"undefined\" || force === true) {\n",
       "    root._bokeh_onload_callbacks = [];\n",
       "    root._bokeh_is_loading = undefined;\n",
       "  }\n",
       "\n",
       "  const JS_MIME_TYPE = 'application/javascript';\n",
       "  const HTML_MIME_TYPE = 'text/html';\n",
       "  const EXEC_MIME_TYPE = 'application/vnd.bokehjs_exec.v0+json';\n",
       "  const CLASS_NAME = 'output_bokeh rendered_html';\n",
       "\n",
       "  /**\n",
       "   * Render data to the DOM node\n",
       "   */\n",
       "  function render(props, node) {\n",
       "    const script = document.createElement(\"script\");\n",
       "    node.appendChild(script);\n",
       "  }\n",
       "\n",
       "  /**\n",
       "   * Handle when an output is cleared or removed\n",
       "   */\n",
       "  function handleClearOutput(event, handle) {\n",
       "    const cell = handle.cell;\n",
       "\n",
       "    const id = cell.output_area._bokeh_element_id;\n",
       "    const server_id = cell.output_area._bokeh_server_id;\n",
       "    // Clean up Bokeh references\n",
       "    if (id != null && id in Bokeh.index) {\n",
       "      Bokeh.index[id].model.document.clear();\n",
       "      delete Bokeh.index[id];\n",
       "    }\n",
       "\n",
       "    if (server_id !== undefined) {\n",
       "      // Clean up Bokeh references\n",
       "      const cmd_clean = \"from bokeh.io.state import curstate; print(curstate().uuid_to_server['\" + server_id + \"'].get_sessions()[0].document.roots[0]._id)\";\n",
       "      cell.notebook.kernel.execute(cmd_clean, {\n",
       "        iopub: {\n",
       "          output: function(msg) {\n",
       "            const id = msg.content.text.trim();\n",
       "            if (id in Bokeh.index) {\n",
       "              Bokeh.index[id].model.document.clear();\n",
       "              delete Bokeh.index[id];\n",
       "            }\n",
       "          }\n",
       "        }\n",
       "      });\n",
       "      // Destroy server and session\n",
       "      const cmd_destroy = \"import bokeh.io.notebook as ion; ion.destroy_server('\" + server_id + \"')\";\n",
       "      cell.notebook.kernel.execute(cmd_destroy);\n",
       "    }\n",
       "  }\n",
       "\n",
       "  /**\n",
       "   * Handle when a new output is added\n",
       "   */\n",
       "  function handleAddOutput(event, handle) {\n",
       "    const output_area = handle.output_area;\n",
       "    const output = handle.output;\n",
       "\n",
       "    // limit handleAddOutput to display_data with EXEC_MIME_TYPE content only\n",
       "    if ((output.output_type != \"display_data\") || (!Object.prototype.hasOwnProperty.call(output.data, EXEC_MIME_TYPE))) {\n",
       "      return\n",
       "    }\n",
       "\n",
       "    const toinsert = output_area.element.find(\".\" + CLASS_NAME.split(' ')[0]);\n",
       "\n",
       "    if (output.metadata[EXEC_MIME_TYPE][\"id\"] !== undefined) {\n",
       "      toinsert[toinsert.length - 1].firstChild.textContent = output.data[JS_MIME_TYPE];\n",
       "      // store reference to embed id on output_area\n",
       "      output_area._bokeh_element_id = output.metadata[EXEC_MIME_TYPE][\"id\"];\n",
       "    }\n",
       "    if (output.metadata[EXEC_MIME_TYPE][\"server_id\"] !== undefined) {\n",
       "      const bk_div = document.createElement(\"div\");\n",
       "      bk_div.innerHTML = output.data[HTML_MIME_TYPE];\n",
       "      const script_attrs = bk_div.children[0].attributes;\n",
       "      for (let i = 0; i < script_attrs.length; i++) {\n",
       "        toinsert[toinsert.length - 1].firstChild.setAttribute(script_attrs[i].name, script_attrs[i].value);\n",
       "        toinsert[toinsert.length - 1].firstChild.textContent = bk_div.children[0].textContent\n",
       "      }\n",
       "      // store reference to server id on output_area\n",
       "      output_area._bokeh_server_id = output.metadata[EXEC_MIME_TYPE][\"server_id\"];\n",
       "    }\n",
       "  }\n",
       "\n",
       "  function register_renderer(events, OutputArea) {\n",
       "\n",
       "    function append_mime(data, metadata, element) {\n",
       "      // create a DOM node to render to\n",
       "      const toinsert = this.create_output_subarea(\n",
       "        metadata,\n",
       "        CLASS_NAME,\n",
       "        EXEC_MIME_TYPE\n",
       "      );\n",
       "      this.keyboard_manager.register_events(toinsert);\n",
       "      // Render to node\n",
       "      const props = {data: data, metadata: metadata[EXEC_MIME_TYPE]};\n",
       "      render(props, toinsert[toinsert.length - 1]);\n",
       "      element.append(toinsert);\n",
       "      return toinsert\n",
       "    }\n",
       "\n",
       "    /* Handle when an output is cleared or removed */\n",
       "    events.on('clear_output.CodeCell', handleClearOutput);\n",
       "    events.on('delete.Cell', handleClearOutput);\n",
       "\n",
       "    /* Handle when a new output is added */\n",
       "    events.on('output_added.OutputArea', handleAddOutput);\n",
       "\n",
       "    /**\n",
       "     * Register the mime type and append_mime function with output_area\n",
       "     */\n",
       "    OutputArea.prototype.register_mime_type(EXEC_MIME_TYPE, append_mime, {\n",
       "      /* Is output safe? */\n",
       "      safe: true,\n",
       "      /* Index of renderer in `output_area.display_order` */\n",
       "      index: 0\n",
       "    });\n",
       "  }\n",
       "\n",
       "  // register the mime type if in Jupyter Notebook environment and previously unregistered\n",
       "  if (root.Jupyter !== undefined) {\n",
       "    const events = require('base/js/events');\n",
       "    const OutputArea = require('notebook/js/outputarea').OutputArea;\n",
       "\n",
       "    if (OutputArea.prototype.mime_types().indexOf(EXEC_MIME_TYPE) == -1) {\n",
       "      register_renderer(events, OutputArea);\n",
       "    }\n",
       "  }\n",
       "\n",
       "  \n",
       "  if (typeof (root._bokeh_timeout) === \"undefined\" || force === true) {\n",
       "    root._bokeh_timeout = Date.now() + 5000;\n",
       "    root._bokeh_failed_load = false;\n",
       "  }\n",
       "\n",
       "  const NB_LOAD_WARNING = {'data': {'text/html':\n",
       "     \"<div style='background-color: #fdd'>\\n\"+\n",
       "     \"<p>\\n\"+\n",
       "     \"BokehJS does not appear to have successfully loaded. If loading BokehJS from CDN, this \\n\"+\n",
       "     \"may be due to a slow or bad network connection. Possible fixes:\\n\"+\n",
       "     \"</p>\\n\"+\n",
       "     \"<ul>\\n\"+\n",
       "     \"<li>re-rerun `output_notebook()` to attempt to load from CDN again, or</li>\\n\"+\n",
       "     \"<li>use INLINE resources instead, as so:</li>\\n\"+\n",
       "     \"</ul>\\n\"+\n",
       "     \"<code>\\n\"+\n",
       "     \"from bokeh.resources import INLINE\\n\"+\n",
       "     \"output_notebook(resources=INLINE)\\n\"+\n",
       "     \"</code>\\n\"+\n",
       "     \"</div>\"}};\n",
       "\n",
       "  function display_loaded() {\n",
       "    const el = document.getElementById(null);\n",
       "    if (el != null) {\n",
       "      el.textContent = \"BokehJS is loading...\";\n",
       "    }\n",
       "    if (root.Bokeh !== undefined) {\n",
       "      if (el != null) {\n",
       "        el.textContent = \"BokehJS \" + root.Bokeh.version + \" successfully loaded.\";\n",
       "      }\n",
       "    } else if (Date.now() < root._bokeh_timeout) {\n",
       "      setTimeout(display_loaded, 100)\n",
       "    }\n",
       "  }\n",
       "\n",
       "\n",
       "  function run_callbacks() {\n",
       "    try {\n",
       "      root._bokeh_onload_callbacks.forEach(function(callback) {\n",
       "        if (callback != null)\n",
       "          callback();\n",
       "      });\n",
       "    } finally {\n",
       "      delete root._bokeh_onload_callbacks\n",
       "    }\n",
       "    console.debug(\"Bokeh: all callbacks have finished\");\n",
       "  }\n",
       "\n",
       "  function load_libs(css_urls, js_urls, callback) {\n",
       "    if (css_urls == null) css_urls = [];\n",
       "    if (js_urls == null) js_urls = [];\n",
       "\n",
       "    root._bokeh_onload_callbacks.push(callback);\n",
       "    if (root._bokeh_is_loading > 0) {\n",
       "      console.debug(\"Bokeh: BokehJS is being loaded, scheduling callback at\", now());\n",
       "      return null;\n",
       "    }\n",
       "    if (js_urls == null || js_urls.length === 0) {\n",
       "      run_callbacks();\n",
       "      return null;\n",
       "    }\n",
       "    console.debug(\"Bokeh: BokehJS not loaded, scheduling load and callback at\", now());\n",
       "    root._bokeh_is_loading = css_urls.length + js_urls.length;\n",
       "\n",
       "    function on_load() {\n",
       "      root._bokeh_is_loading--;\n",
       "      if (root._bokeh_is_loading === 0) {\n",
       "        console.debug(\"Bokeh: all BokehJS libraries/stylesheets loaded\");\n",
       "        run_callbacks()\n",
       "      }\n",
       "    }\n",
       "\n",
       "    function on_error(url) {\n",
       "      console.error(\"failed to load \" + url);\n",
       "    }\n",
       "\n",
       "    for (let i = 0; i < css_urls.length; i++) {\n",
       "      const url = css_urls[i];\n",
       "      const element = document.createElement(\"link\");\n",
       "      element.onload = on_load;\n",
       "      element.onerror = on_error.bind(null, url);\n",
       "      element.rel = \"stylesheet\";\n",
       "      element.type = \"text/css\";\n",
       "      element.href = url;\n",
       "      console.debug(\"Bokeh: injecting link tag for BokehJS stylesheet: \", url);\n",
       "      document.body.appendChild(element);\n",
       "    }\n",
       "\n",
       "    for (let i = 0; i < js_urls.length; i++) {\n",
       "      const url = js_urls[i];\n",
       "      const element = document.createElement('script');\n",
       "      element.onload = on_load;\n",
       "      element.onerror = on_error.bind(null, url);\n",
       "      element.async = false;\n",
       "      element.src = url;\n",
       "      console.debug(\"Bokeh: injecting script tag for BokehJS library: \", url);\n",
       "      document.head.appendChild(element);\n",
       "    }\n",
       "  };\n",
       "\n",
       "  function inject_raw_css(css) {\n",
       "    const element = document.createElement(\"style\");\n",
       "    element.appendChild(document.createTextNode(css));\n",
       "    document.body.appendChild(element);\n",
       "  }\n",
       "\n",
       "  \n",
       "  const js_urls = [\"https://cdn.bokeh.org/bokeh/release/bokeh-2.4.2.min.js\", \"https://cdn.bokeh.org/bokeh/release/bokeh-gl-2.4.2.min.js\", \"https://cdn.bokeh.org/bokeh/release/bokeh-widgets-2.4.2.min.js\", \"https://cdn.bokeh.org/bokeh/release/bokeh-tables-2.4.2.min.js\", \"https://cdn.bokeh.org/bokeh/release/bokeh-mathjax-2.4.2.min.js\"];\n",
       "  const css_urls = [];\n",
       "  \n",
       "\n",
       "  const inline_js = [\n",
       "    function(Bokeh) {\n",
       "      Bokeh.set_log_level(\"info\");\n",
       "    },\n",
       "    function(Bokeh) {\n",
       "    \n",
       "    \n",
       "    }\n",
       "  ];\n",
       "\n",
       "  function run_inline_js() {\n",
       "    \n",
       "    if (root.Bokeh !== undefined || force === true) {\n",
       "      \n",
       "    for (let i = 0; i < inline_js.length; i++) {\n",
       "      inline_js[i].call(root, root.Bokeh);\n",
       "    }\n",
       "    } else if (Date.now() < root._bokeh_timeout) {\n",
       "      setTimeout(run_inline_js, 100);\n",
       "    } else if (!root._bokeh_failed_load) {\n",
       "      console.log(\"Bokeh: BokehJS failed to load within specified timeout.\");\n",
       "      root._bokeh_failed_load = true;\n",
       "    } else if (force !== true) {\n",
       "      const cell = $(document.getElementById(null)).parents('.cell').data().cell;\n",
       "      cell.output_area.append_execute_result(NB_LOAD_WARNING)\n",
       "    }\n",
       "\n",
       "  }\n",
       "\n",
       "  if (root._bokeh_is_loading === 0) {\n",
       "    console.debug(\"Bokeh: BokehJS loaded, going straight to plotting\");\n",
       "    run_inline_js();\n",
       "  } else {\n",
       "    load_libs(css_urls, js_urls, function() {\n",
       "      console.debug(\"Bokeh: BokehJS plotting callback run at\", now());\n",
       "      run_inline_js();\n",
       "    });\n",
       "  }\n",
       "}(window));"
      ],
      "application/vnd.bokehjs_load.v0+json": "\n(function(root) {\n  function now() {\n    return new Date();\n  }\n\n  const force = true;\n\n  if (typeof root._bokeh_onload_callbacks === \"undefined\" || force === true) {\n    root._bokeh_onload_callbacks = [];\n    root._bokeh_is_loading = undefined;\n  }\n\n  \n\n  \n  if (typeof (root._bokeh_timeout) === \"undefined\" || force === true) {\n    root._bokeh_timeout = Date.now() + 5000;\n    root._bokeh_failed_load = false;\n  }\n\n  const NB_LOAD_WARNING = {'data': {'text/html':\n     \"<div style='background-color: #fdd'>\\n\"+\n     \"<p>\\n\"+\n     \"BokehJS does not appear to have successfully loaded. If loading BokehJS from CDN, this \\n\"+\n     \"may be due to a slow or bad network connection. Possible fixes:\\n\"+\n     \"</p>\\n\"+\n     \"<ul>\\n\"+\n     \"<li>re-rerun `output_notebook()` to attempt to load from CDN again, or</li>\\n\"+\n     \"<li>use INLINE resources instead, as so:</li>\\n\"+\n     \"</ul>\\n\"+\n     \"<code>\\n\"+\n     \"from bokeh.resources import INLINE\\n\"+\n     \"output_notebook(resources=INLINE)\\n\"+\n     \"</code>\\n\"+\n     \"</div>\"}};\n\n  function display_loaded() {\n    const el = document.getElementById(null);\n    if (el != null) {\n      el.textContent = \"BokehJS is loading...\";\n    }\n    if (root.Bokeh !== undefined) {\n      if (el != null) {\n        el.textContent = \"BokehJS \" + root.Bokeh.version + \" successfully loaded.\";\n      }\n    } else if (Date.now() < root._bokeh_timeout) {\n      setTimeout(display_loaded, 100)\n    }\n  }\n\n\n  function run_callbacks() {\n    try {\n      root._bokeh_onload_callbacks.forEach(function(callback) {\n        if (callback != null)\n          callback();\n      });\n    } finally {\n      delete root._bokeh_onload_callbacks\n    }\n    console.debug(\"Bokeh: all callbacks have finished\");\n  }\n\n  function load_libs(css_urls, js_urls, callback) {\n    if (css_urls == null) css_urls = [];\n    if (js_urls == null) js_urls = [];\n\n    root._bokeh_onload_callbacks.push(callback);\n    if (root._bokeh_is_loading > 0) {\n      console.debug(\"Bokeh: BokehJS is being loaded, scheduling callback at\", now());\n      return null;\n    }\n    if (js_urls == null || js_urls.length === 0) {\n      run_callbacks();\n      return null;\n    }\n    console.debug(\"Bokeh: BokehJS not loaded, scheduling load and callback at\", now());\n    root._bokeh_is_loading = css_urls.length + js_urls.length;\n\n    function on_load() {\n      root._bokeh_is_loading--;\n      if (root._bokeh_is_loading === 0) {\n        console.debug(\"Bokeh: all BokehJS libraries/stylesheets loaded\");\n        run_callbacks()\n      }\n    }\n\n    function on_error(url) {\n      console.error(\"failed to load \" + url);\n    }\n\n    for (let i = 0; i < css_urls.length; i++) {\n      const url = css_urls[i];\n      const element = document.createElement(\"link\");\n      element.onload = on_load;\n      element.onerror = on_error.bind(null, url);\n      element.rel = \"stylesheet\";\n      element.type = \"text/css\";\n      element.href = url;\n      console.debug(\"Bokeh: injecting link tag for BokehJS stylesheet: \", url);\n      document.body.appendChild(element);\n    }\n\n    for (let i = 0; i < js_urls.length; i++) {\n      const url = js_urls[i];\n      const element = document.createElement('script');\n      element.onload = on_load;\n      element.onerror = on_error.bind(null, url);\n      element.async = false;\n      element.src = url;\n      console.debug(\"Bokeh: injecting script tag for BokehJS library: \", url);\n      document.head.appendChild(element);\n    }\n  };\n\n  function inject_raw_css(css) {\n    const element = document.createElement(\"style\");\n    element.appendChild(document.createTextNode(css));\n    document.body.appendChild(element);\n  }\n\n  \n  const js_urls = [\"https://cdn.bokeh.org/bokeh/release/bokeh-2.4.2.min.js\", \"https://cdn.bokeh.org/bokeh/release/bokeh-gl-2.4.2.min.js\", \"https://cdn.bokeh.org/bokeh/release/bokeh-widgets-2.4.2.min.js\", \"https://cdn.bokeh.org/bokeh/release/bokeh-tables-2.4.2.min.js\", \"https://cdn.bokeh.org/bokeh/release/bokeh-mathjax-2.4.2.min.js\"];\n  const css_urls = [];\n  \n\n  const inline_js = [\n    function(Bokeh) {\n      Bokeh.set_log_level(\"info\");\n    },\n    function(Bokeh) {\n    \n    \n    }\n  ];\n\n  function run_inline_js() {\n    \n    if (root.Bokeh !== undefined || force === true) {\n      \n    for (let i = 0; i < inline_js.length; i++) {\n      inline_js[i].call(root, root.Bokeh);\n    }\n    } else if (Date.now() < root._bokeh_timeout) {\n      setTimeout(run_inline_js, 100);\n    } else if (!root._bokeh_failed_load) {\n      console.log(\"Bokeh: BokehJS failed to load within specified timeout.\");\n      root._bokeh_failed_load = true;\n    } else if (force !== true) {\n      const cell = $(document.getElementById(null)).parents('.cell').data().cell;\n      cell.output_area.append_execute_result(NB_LOAD_WARNING)\n    }\n\n  }\n\n  if (root._bokeh_is_loading === 0) {\n    console.debug(\"Bokeh: BokehJS loaded, going straight to plotting\");\n    run_inline_js();\n  } else {\n    load_libs(css_urls, js_urls, function() {\n      console.debug(\"Bokeh: BokehJS plotting callback run at\", now());\n      run_inline_js();\n    });\n  }\n}(window));"
     },
     "metadata": {},
     "output_type": "display_data"
    },
    {
     "data": {
      "application/vnd.bokehjs_exec.v0+json": "",
      "text/html": [
       "\n",
       "<script id=\"2040\">\n",
       "  (function() {\n",
       "    const xhr = new XMLHttpRequest()\n",
       "    xhr.responseType = 'blob';\n",
       "    xhr.open('GET', \"http://localhost:63012/autoload.js?bokeh-autoload-element=2040&bokeh-absolute-url=http://localhost:63012&resources=none\", true);\n",
       "    \n",
       "    xhr.onload = function (event) {\n",
       "      const script = document.createElement('script');\n",
       "      const src = URL.createObjectURL(event.target.response);\n",
       "      script.src = src;\n",
       "      document.body.appendChild(script);\n",
       "    };\n",
       "    xhr.send();\n",
       "  })();\n",
       "</script>"
      ]
     },
     "metadata": {
      "application/vnd.bokehjs_exec.v0+json": {
       "server_id": "35e13990950f45028f03b0eeb7d2d05e"
      }
     },
     "output_type": "display_data"
    }
   ],
   "source": [
    "tpf.interact()"
   ]
  },
  {
   "cell_type": "code",
   "execution_count": 140,
   "id": "a48a39f5",
   "metadata": {},
   "outputs": [],
   "source": [
    "lc=tpf.to_lightcurve()"
   ]
  },
  {
   "cell_type": "code",
   "execution_count": 141,
   "id": "f091b072",
   "metadata": {},
   "outputs": [
    {
     "data": {
      "text/plain": [
       "<AxesSubplot:xlabel='Time - 2457000 [BTJD days]', ylabel='Flux [$\\\\mathrm{e^{-}\\\\,s^{-1}}$]'>"
      ]
     },
     "execution_count": 141,
     "metadata": {},
     "output_type": "execute_result"
    },
    {
     "data": {
      "image/png": "[encoded data removed]",
      "text/plain": [
       "<Figure size 848.5x400 with 1 Axes>"
      ]
     },
     "metadata": {},
     "output_type": "display_data"
    }
   ],
   "source": [
    "lc.plot()"
   ]
  },
  {
   "cell_type": "code",
   "execution_count": 142,
   "id": "9db0e1a7",
   "metadata": {},
   "outputs": [],
   "source": [
    "pg=lc.to_periodogram()"
   ]
  },
  {
   "cell_type": "code",
   "execution_count": 143,
   "id": "59dc54eb",
   "metadata": {},
   "outputs": [
    {
     "data": {
      "text/plain": [
       "<AxesSubplot:xlabel='Frequency [$\\\\mathrm{\\\\frac{1}{d}}$]', ylabel='Power [$\\\\mathrm{\\\\frac{e^{-}}{s}}$]'>"
      ]
     },
     "execution_count": 143,
     "metadata": {},
     "output_type": "execute_result"
    },
    {
     "data": {
      "image/png": "[encoded data removed]",
      "text/plain": [
       "<Figure size 848.5x400 with 1 Axes>"
      ]
     },
     "metadata": {},
     "output_type": "display_data"
    }
   ],
   "source": [
    "pg.plot()"
   ]
  },
  {
   "cell_type": "code",
   "execution_count": 144,
   "id": "62ecb764",
   "metadata": {},
   "outputs": [
    {
     "data": {
      "text/plain": [
       "<AxesSubplot:xlabel='Phase [JD]', ylabel='Flux [$\\\\mathrm{e^{-}\\\\,s^{-1}}$]'>"
      ]
     },
     "execution_count": 144,
     "metadata": {},
     "output_type": "execute_result"
    },
    {
     "data": {
      "image/png": "[encoded data removed]",
      "text/plain": [
       "<Figure size 848.5x400 with 1 Axes>"
      ]
     },
     "metadata": {},
     "output_type": "display_data"
    }
   ],
   "source": [
    "lc.fold(period=pg.period_at_max_power).scatter()"
   ]
  },
  {
   "cell_type": "markdown",
   "id": "c975e72a",
   "metadata": {},
   "source": [
    "# Playing around with a non-moving target in lightkurve\n",
    "\n",
    "Though `lightkurve` has a `search_tesscut` feature, it does not work for moving targets at the time of the writing of this tutorial. \n",
    "\n",
    "Just how different are these from targetpixelfiles? \n",
    "\n",
    "You can't do search_tesscut https://docs.lightkurve.org/reference/api/lightkurve.search_tesscut.html with moving_target=True, and you can't resolve by name to a sky position. But I'll investigate what you CAN do with a non-moving target? You get the list of dataproducts. \n",
    "\n"
   ]
  },
  {
   "cell_type": "code",
   "execution_count": 117,
   "id": "540a1875",
   "metadata": {},
   "outputs": [
    {
     "name": "stdout",
     "output_type": "stream",
     "text": [
      "SearchResult containing 4 data products.\n",
      "\n",
      " #     mission     year  author exptime target_name distance\n",
      "                                   s                 arcsec \n",
      "--- -------------- ---- ------- ------- ----------- --------\n",
      "  0 TESS Sector 20 2019 TESScut    1426    WASP-12b      0.0\n",
      "  1 TESS Sector 43 2021 TESScut     475    WASP-12b      0.0\n",
      "  2 TESS Sector 44 2021 TESScut     475    WASP-12b      0.0\n",
      "  3 TESS Sector 45 2021 TESScut     475    WASP-12b      0.0\n"
     ]
    }
   ],
   "source": [
    "search_result=lk.search_tesscut('WASP-12b')\n",
    "print(search_result)"
   ]
  },
  {
   "cell_type": "code",
   "execution_count": 119,
   "id": "7093f476",
   "metadata": {},
   "outputs": [
    {
     "name": "stderr",
     "output_type": "stream",
     "text": [
      "/Users/julia/opt/anaconda3/lib/python3.9/site-packages/lightkurve/search.py:346: LightkurveWarning: Warning: 2 files available to download. Only the first file has been downloaded. Please use `download_all()` or specify additional criteria (e.g. quarter, campaign, or sector) to limit your search.\n",
      "  warnings.warn(\n"
     ]
    }
   ],
   "source": [
    "tpf=lk.search_targetpixelfile('WASP-12b',sector=20).download()"
   ]
  },
  {
   "cell_type": "code",
   "execution_count": 125,
   "id": "734ec4ad",
   "metadata": {},
   "outputs": [
    {
     "data": {
      "text/plain": [
       "(17633, 11, 11)"
      ]
     },
     "execution_count": 125,
     "metadata": {},
     "output_type": "execute_result"
    }
   ],
   "source": [
    "tpf.flux.shape"
   ]
  },
  {
   "cell_type": "code",
   "execution_count": 133,
   "id": "b1fa82c3",
   "metadata": {},
   "outputs": [
    {
     "data": {
      "text/plain": [
       "array([[False, False, False, False, False, False, False, False, False,\n",
       "        False, False],\n",
       "       [False, False, False, False, False, False, False, False, False,\n",
       "        False, False],\n",
       "       [False, False, False, False, False, False, False, False, False,\n",
       "        False, False],\n",
       "       [False, False, False, False, False, False, False, False, False,\n",
       "        False, False],\n",
       "       [False, False, False, False,  True,  True, False, False, False,\n",
       "        False, False],\n",
       "       [False, False, False, False,  True,  True,  True, False, False,\n",
       "        False, False],\n",
       "       [False, False, False, False,  True,  True,  True, False, False,\n",
       "        False, False],\n",
       "       [False, False, False, False,  True,  True,  True, False, False,\n",
       "        False, False],\n",
       "       [False, False, False, False, False, False, False, False, False,\n",
       "        False, False],\n",
       "       [False, False, False, False, False, False, False, False, False,\n",
       "        False, False],\n",
       "       [False, False, False, False, False, False, False, False, False,\n",
       "        False, False]])"
      ]
     },
     "execution_count": 133,
     "metadata": {},
     "output_type": "execute_result"
    }
   ],
   "source": [
    "tpf.pipeline_mask"
   ]
  },
  {
   "cell_type": "code",
   "execution_count": 135,
   "id": "e1af21c4",
   "metadata": {},
   "outputs": [
    {
     "data": {
      "text/plain": [
       "<AxesSubplot:title={'center':'Target ID: 86396382, Cadence: 442835'}, xlabel='Pixel Column Number', ylabel='Pixel Row Number'>"
      ]
     },
     "execution_count": 135,
     "metadata": {},
     "output_type": "execute_result"
    },
    {
     "data": {
      "image/png": "[encoded data removed]",
      "text/plain": [
       "<Figure size 848.5x400 with 2 Axes>"
      ]
     },
     "metadata": {},
     "output_type": "display_data"
    }
   ],
   "source": [
    "tpf.plot(frame=0,aperture_mask=tpf.pipeline_mask)"
   ]
  },
  {
   "cell_type": "code",
   "execution_count": 134,
   "id": "c5db0366",
   "metadata": {},
   "outputs": [
    {
     "data": {
      "application/javascript": [
       "\n",
       "(function(root) {\n",
       "  function now() {\n",
       "    return new Date();\n",
       "  }\n",
       "\n",
       "  const force = true;\n",
       "\n",
       "  if (typeof root._bokeh_onload_callbacks === \"undefined\" || force === true) {\n",
       "    root._bokeh_onload_callbacks = [];\n",
       "    root._bokeh_is_loading = undefined;\n",
       "  }\n",
       "\n",
       "  const JS_MIME_TYPE = 'application/javascript';\n",
       "  const HTML_MIME_TYPE = 'text/html';\n",
       "  const EXEC_MIME_TYPE = 'application/vnd.bokehjs_exec.v0+json';\n",
       "  const CLASS_NAME = 'output_bokeh rendered_html';\n",
       "\n",
       "  /**\n",
       "   * Render data to the DOM node\n",
       "   */\n",
       "  function render(props, node) {\n",
       "    const script = document.createElement(\"script\");\n",
       "    node.appendChild(script);\n",
       "  }\n",
       "\n",
       "  /**\n",
       "   * Handle when an output is cleared or removed\n",
       "   */\n",
       "  function handleClearOutput(event, handle) {\n",
       "    const cell = handle.cell;\n",
       "\n",
       "    const id = cell.output_area._bokeh_element_id;\n",
       "    const server_id = cell.output_area._bokeh_server_id;\n",
       "    // Clean up Bokeh references\n",
       "    if (id != null && id in Bokeh.index) {\n",
       "      Bokeh.index[id].model.document.clear();\n",
       "      delete Bokeh.index[id];\n",
       "    }\n",
       "\n",
       "    if (server_id !== undefined) {\n",
       "      // Clean up Bokeh references\n",
       "      const cmd_clean = \"from bokeh.io.state import curstate; print(curstate().uuid_to_server['\" + server_id + \"'].get_sessions()[0].document.roots[0]._id)\";\n",
       "      cell.notebook.kernel.execute(cmd_clean, {\n",
       "        iopub: {\n",
       "          output: function(msg) {\n",
       "            const id = msg.content.text.trim();\n",
       "            if (id in Bokeh.index) {\n",
       "              Bokeh.index[id].model.document.clear();\n",
       "              delete Bokeh.index[id];\n",
       "            }\n",
       "          }\n",
       "        }\n",
       "      });\n",
       "      // Destroy server and session\n",
       "      const cmd_destroy = \"import bokeh.io.notebook as ion; ion.destroy_server('\" + server_id + \"')\";\n",
       "      cell.notebook.kernel.execute(cmd_destroy);\n",
       "    }\n",
       "  }\n",
       "\n",
       "  /**\n",
       "   * Handle when a new output is added\n",
       "   */\n",
       "  function handleAddOutput(event, handle) {\n",
       "    const output_area = handle.output_area;\n",
       "    const output = handle.output;\n",
       "\n",
       "    // limit handleAddOutput to display_data with EXEC_MIME_TYPE content only\n",
       "    if ((output.output_type != \"display_data\") || (!Object.prototype.hasOwnProperty.call(output.data, EXEC_MIME_TYPE))) {\n",
       "      return\n",
       "    }\n",
       "\n",
       "    const toinsert = output_area.element.find(\".\" + CLASS_NAME.split(' ')[0]);\n",
       "\n",
       "    if (output.metadata[EXEC_MIME_TYPE][\"id\"] !== undefined) {\n",
       "      toinsert[toinsert.length - 1].firstChild.textContent = output.data[JS_MIME_TYPE];\n",
       "      // store reference to embed id on output_area\n",
       "      output_area._bokeh_element_id = output.metadata[EXEC_MIME_TYPE][\"id\"];\n",
       "    }\n",
       "    if (output.metadata[EXEC_MIME_TYPE][\"server_id\"] !== undefined) {\n",
       "      const bk_div = document.createElement(\"div\");\n",
       "      bk_div.innerHTML = output.data[HTML_MIME_TYPE];\n",
       "      const script_attrs = bk_div.children[0].attributes;\n",
       "      for (let i = 0; i < script_attrs.length; i++) {\n",
       "        toinsert[toinsert.length - 1].firstChild.setAttribute(script_attrs[i].name, script_attrs[i].value);\n",
       "        toinsert[toinsert.length - 1].firstChild.textContent = bk_div.children[0].textContent\n",
       "      }\n",
       "      // store reference to server id on output_area\n",
       "      output_area._bokeh_server_id = output.metadata[EXEC_MIME_TYPE][\"server_id\"];\n",
       "    }\n",
       "  }\n",
       "\n",
       "  function register_renderer(events, OutputArea) {\n",
       "\n",
       "    function append_mime(data, metadata, element) {\n",
       "      // create a DOM node to render to\n",
       "      const toinsert = this.create_output_subarea(\n",
       "        metadata,\n",
       "        CLASS_NAME,\n",
       "        EXEC_MIME_TYPE\n",
       "      );\n",
       "      this.keyboard_manager.register_events(toinsert);\n",
       "      // Render to node\n",
       "      const props = {data: data, metadata: metadata[EXEC_MIME_TYPE]};\n",
       "      render(props, toinsert[toinsert.length - 1]);\n",
       "      element.append(toinsert);\n",
       "      return toinsert\n",
       "    }\n",
       "\n",
       "    /* Handle when an output is cleared or removed */\n",
       "    events.on('clear_output.CodeCell', handleClearOutput);\n",
       "    events.on('delete.Cell', handleClearOutput);\n",
       "\n",
       "    /* Handle when a new output is added */\n",
       "    events.on('output_added.OutputArea', handleAddOutput);\n",
       "\n",
       "    /**\n",
       "     * Register the mime type and append_mime function with output_area\n",
       "     */\n",
       "    OutputArea.prototype.register_mime_type(EXEC_MIME_TYPE, append_mime, {\n",
       "      /* Is output safe? */\n",
       "      safe: true,\n",
       "      /* Index of renderer in `output_area.display_order` */\n",
       "      index: 0\n",
       "    });\n",
       "  }\n",
       "\n",
       "  // register the mime type if in Jupyter Notebook environment and previously unregistered\n",
       "  if (root.Jupyter !== undefined) {\n",
       "    const events = require('base/js/events');\n",
       "    const OutputArea = require('notebook/js/outputarea').OutputArea;\n",
       "\n",
       "    if (OutputArea.prototype.mime_types().indexOf(EXEC_MIME_TYPE) == -1) {\n",
       "      register_renderer(events, OutputArea);\n",
       "    }\n",
       "  }\n",
       "\n",
       "  \n",
       "  if (typeof (root._bokeh_timeout) === \"undefined\" || force === true) {\n",
       "    root._bokeh_timeout = Date.now() + 5000;\n",
       "    root._bokeh_failed_load = false;\n",
       "  }\n",
       "\n",
       "  const NB_LOAD_WARNING = {'data': {'text/html':\n",
       "     \"<div style='background-color: #fdd'>\\n\"+\n",
       "     \"<p>\\n\"+\n",
       "     \"BokehJS does not appear to have successfully loaded. If loading BokehJS from CDN, this \\n\"+\n",
       "     \"may be due to a slow or bad network connection. Possible fixes:\\n\"+\n",
       "     \"</p>\\n\"+\n",
       "     \"<ul>\\n\"+\n",
       "     \"<li>re-rerun `output_notebook()` to attempt to load from CDN again, or</li>\\n\"+\n",
       "     \"<li>use INLINE resources instead, as so:</li>\\n\"+\n",
       "     \"</ul>\\n\"+\n",
       "     \"<code>\\n\"+\n",
       "     \"from bokeh.resources import INLINE\\n\"+\n",
       "     \"output_notebook(resources=INLINE)\\n\"+\n",
       "     \"</code>\\n\"+\n",
       "     \"</div>\"}};\n",
       "\n",
       "  function display_loaded() {\n",
       "    const el = document.getElementById(null);\n",
       "    if (el != null) {\n",
       "      el.textContent = \"BokehJS is loading...\";\n",
       "    }\n",
       "    if (root.Bokeh !== undefined) {\n",
       "      if (el != null) {\n",
       "        el.textContent = \"BokehJS \" + root.Bokeh.version + \" successfully loaded.\";\n",
       "      }\n",
       "    } else if (Date.now() < root._bokeh_timeout) {\n",
       "      setTimeout(display_loaded, 100)\n",
       "    }\n",
       "  }\n",
       "\n",
       "\n",
       "  function run_callbacks() {\n",
       "    try {\n",
       "      root._bokeh_onload_callbacks.forEach(function(callback) {\n",
       "        if (callback != null)\n",
       "          callback();\n",
       "      });\n",
       "    } finally {\n",
       "      delete root._bokeh_onload_callbacks\n",
       "    }\n",
       "    console.debug(\"Bokeh: all callbacks have finished\");\n",
       "  }\n",
       "\n",
       "  function load_libs(css_urls, js_urls, callback) {\n",
       "    if (css_urls == null) css_urls = [];\n",
       "    if (js_urls == null) js_urls = [];\n",
       "\n",
       "    root._bokeh_onload_callbacks.push(callback);\n",
       "    if (root._bokeh_is_loading > 0) {\n",
       "      console.debug(\"Bokeh: BokehJS is being loaded, scheduling callback at\", now());\n",
       "      return null;\n",
       "    }\n",
       "    if (js_urls == null || js_urls.length === 0) {\n",
       "      run_callbacks();\n",
       "      return null;\n",
       "    }\n",
       "    console.debug(\"Bokeh: BokehJS not loaded, scheduling load and callback at\", now());\n",
       "    root._bokeh_is_loading = css_urls.length + js_urls.length;\n",
       "\n",
       "    function on_load() {\n",
       "      root._bokeh_is_loading--;\n",
       "      if (root._bokeh_is_loading === 0) {\n",
       "        console.debug(\"Bokeh: all BokehJS libraries/stylesheets loaded\");\n",
       "        run_callbacks()\n",
       "      }\n",
       "    }\n",
       "\n",
       "    function on_error(url) {\n",
       "      console.error(\"failed to load \" + url);\n",
       "    }\n",
       "\n",
       "    for (let i = 0; i < css_urls.length; i++) {\n",
       "      const url = css_urls[i];\n",
       "      const element = document.createElement(\"link\");\n",
       "      element.onload = on_load;\n",
       "      element.onerror = on_error.bind(null, url);\n",
       "      element.rel = \"stylesheet\";\n",
       "      element.type = \"text/css\";\n",
       "      element.href = url;\n",
       "      console.debug(\"Bokeh: injecting link tag for BokehJS stylesheet: \", url);\n",
       "      document.body.appendChild(element);\n",
       "    }\n",
       "\n",
       "    for (let i = 0; i < js_urls.length; i++) {\n",
       "      const url = js_urls[i];\n",
       "      const element = document.createElement('script');\n",
       "      element.onload = on_load;\n",
       "      element.onerror = on_error.bind(null, url);\n",
       "      element.async = false;\n",
       "      element.src = url;\n",
       "      console.debug(\"Bokeh: injecting script tag for BokehJS library: \", url);\n",
       "      document.head.appendChild(element);\n",
       "    }\n",
       "  };\n",
       "\n",
       "  function inject_raw_css(css) {\n",
       "    const element = document.createElement(\"style\");\n",
       "    element.appendChild(document.createTextNode(css));\n",
       "    document.body.appendChild(element);\n",
       "  }\n",
       "\n",
       "  \n",
       "  const js_urls = [\"https://cdn.bokeh.org/bokeh/release/bokeh-2.4.2.min.js\", \"https://cdn.bokeh.org/bokeh/release/bokeh-gl-2.4.2.min.js\", \"https://cdn.bokeh.org/bokeh/release/bokeh-widgets-2.4.2.min.js\", \"https://cdn.bokeh.org/bokeh/release/bokeh-tables-2.4.2.min.js\", \"https://cdn.bokeh.org/bokeh/release/bokeh-mathjax-2.4.2.min.js\"];\n",
       "  const css_urls = [];\n",
       "  \n",
       "\n",
       "  const inline_js = [\n",
       "    function(Bokeh) {\n",
       "      Bokeh.set_log_level(\"info\");\n",
       "    },\n",
       "    function(Bokeh) {\n",
       "    \n",
       "    \n",
       "    }\n",
       "  ];\n",
       "\n",
       "  function run_inline_js() {\n",
       "    \n",
       "    if (root.Bokeh !== undefined || force === true) {\n",
       "      \n",
       "    for (let i = 0; i < inline_js.length; i++) {\n",
       "      inline_js[i].call(root, root.Bokeh);\n",
       "    }\n",
       "    } else if (Date.now() < root._bokeh_timeout) {\n",
       "      setTimeout(run_inline_js, 100);\n",
       "    } else if (!root._bokeh_failed_load) {\n",
       "      console.log(\"Bokeh: BokehJS failed to load within specified timeout.\");\n",
       "      root._bokeh_failed_load = true;\n",
       "    } else if (force !== true) {\n",
       "      const cell = $(document.getElementById(null)).parents('.cell').data().cell;\n",
       "      cell.output_area.append_execute_result(NB_LOAD_WARNING)\n",
       "    }\n",
       "\n",
       "  }\n",
       "\n",
       "  if (root._bokeh_is_loading === 0) {\n",
       "    console.debug(\"Bokeh: BokehJS loaded, going straight to plotting\");\n",
       "    run_inline_js();\n",
       "  } else {\n",
       "    load_libs(css_urls, js_urls, function() {\n",
       "      console.debug(\"Bokeh: BokehJS plotting callback run at\", now());\n",
       "      run_inline_js();\n",
       "    });\n",
       "  }\n",
       "}(window));"
      ],
      "application/vnd.bokehjs_load.v0+json": "\n(function(root) {\n  function now() {\n    return new Date();\n  }\n\n  const force = true;\n\n  if (typeof root._bokeh_onload_callbacks === \"undefined\" || force === true) {\n    root._bokeh_onload_callbacks = [];\n    root._bokeh_is_loading = undefined;\n  }\n\n  \n\n  \n  if (typeof (root._bokeh_timeout) === \"undefined\" || force === true) {\n    root._bokeh_timeout = Date.now() + 5000;\n    root._bokeh_failed_load = false;\n  }\n\n  const NB_LOAD_WARNING = {'data': {'text/html':\n     \"<div style='background-color: #fdd'>\\n\"+\n     \"<p>\\n\"+\n     \"BokehJS does not appear to have successfully loaded. If loading BokehJS from CDN, this \\n\"+\n     \"may be due to a slow or bad network connection. Possible fixes:\\n\"+\n     \"</p>\\n\"+\n     \"<ul>\\n\"+\n     \"<li>re-rerun `output_notebook()` to attempt to load from CDN again, or</li>\\n\"+\n     \"<li>use INLINE resources instead, as so:</li>\\n\"+\n     \"</ul>\\n\"+\n     \"<code>\\n\"+\n     \"from bokeh.resources import INLINE\\n\"+\n     \"output_notebook(resources=INLINE)\\n\"+\n     \"</code>\\n\"+\n     \"</div>\"}};\n\n  function display_loaded() {\n    const el = document.getElementById(null);\n    if (el != null) {\n      el.textContent = \"BokehJS is loading...\";\n    }\n    if (root.Bokeh !== undefined) {\n      if (el != null) {\n        el.textContent = \"BokehJS \" + root.Bokeh.version + \" successfully loaded.\";\n      }\n    } else if (Date.now() < root._bokeh_timeout) {\n      setTimeout(display_loaded, 100)\n    }\n  }\n\n\n  function run_callbacks() {\n    try {\n      root._bokeh_onload_callbacks.forEach(function(callback) {\n        if (callback != null)\n          callback();\n      });\n    } finally {\n      delete root._bokeh_onload_callbacks\n    }\n    console.debug(\"Bokeh: all callbacks have finished\");\n  }\n\n  function load_libs(css_urls, js_urls, callback) {\n    if (css_urls == null) css_urls = [];\n    if (js_urls == null) js_urls = [];\n\n    root._bokeh_onload_callbacks.push(callback);\n    if (root._bokeh_is_loading > 0) {\n      console.debug(\"Bokeh: BokehJS is being loaded, scheduling callback at\", now());\n      return null;\n    }\n    if (js_urls == null || js_urls.length === 0) {\n      run_callbacks();\n      return null;\n    }\n    console.debug(\"Bokeh: BokehJS not loaded, scheduling load and callback at\", now());\n    root._bokeh_is_loading = css_urls.length + js_urls.length;\n\n    function on_load() {\n      root._bokeh_is_loading--;\n      if (root._bokeh_is_loading === 0) {\n        console.debug(\"Bokeh: all BokehJS libraries/stylesheets loaded\");\n        run_callbacks()\n      }\n    }\n\n    function on_error(url) {\n      console.error(\"failed to load \" + url);\n    }\n\n    for (let i = 0; i < css_urls.length; i++) {\n      const url = css_urls[i];\n      const element = document.createElement(\"link\");\n      element.onload = on_load;\n      element.onerror = on_error.bind(null, url);\n      element.rel = \"stylesheet\";\n      element.type = \"text/css\";\n      element.href = url;\n      console.debug(\"Bokeh: injecting link tag for BokehJS stylesheet: \", url);\n      document.body.appendChild(element);\n    }\n\n    for (let i = 0; i < js_urls.length; i++) {\n      const url = js_urls[i];\n      const element = document.createElement('script');\n      element.onload = on_load;\n      element.onerror = on_error.bind(null, url);\n      element.async = false;\n      element.src = url;\n      console.debug(\"Bokeh: injecting script tag for BokehJS library: \", url);\n      document.head.appendChild(element);\n    }\n  };\n\n  function inject_raw_css(css) {\n    const element = document.createElement(\"style\");\n    element.appendChild(document.createTextNode(css));\n    document.body.appendChild(element);\n  }\n\n  \n  const js_urls = [\"https://cdn.bokeh.org/bokeh/release/bokeh-2.4.2.min.js\", \"https://cdn.bokeh.org/bokeh/release/bokeh-gl-2.4.2.min.js\", \"https://cdn.bokeh.org/bokeh/release/bokeh-widgets-2.4.2.min.js\", \"https://cdn.bokeh.org/bokeh/release/bokeh-tables-2.4.2.min.js\", \"https://cdn.bokeh.org/bokeh/release/bokeh-mathjax-2.4.2.min.js\"];\n  const css_urls = [];\n  \n\n  const inline_js = [\n    function(Bokeh) {\n      Bokeh.set_log_level(\"info\");\n    },\n    function(Bokeh) {\n    \n    \n    }\n  ];\n\n  function run_inline_js() {\n    \n    if (root.Bokeh !== undefined || force === true) {\n      \n    for (let i = 0; i < inline_js.length; i++) {\n      inline_js[i].call(root, root.Bokeh);\n    }\n    } else if (Date.now() < root._bokeh_timeout) {\n      setTimeout(run_inline_js, 100);\n    } else if (!root._bokeh_failed_load) {\n      console.log(\"Bokeh: BokehJS failed to load within specified timeout.\");\n      root._bokeh_failed_load = true;\n    } else if (force !== true) {\n      const cell = $(document.getElementById(null)).parents('.cell').data().cell;\n      cell.output_area.append_execute_result(NB_LOAD_WARNING)\n    }\n\n  }\n\n  if (root._bokeh_is_loading === 0) {\n    console.debug(\"Bokeh: BokehJS loaded, going straight to plotting\");\n    run_inline_js();\n  } else {\n    load_libs(css_urls, js_urls, function() {\n      console.debug(\"Bokeh: BokehJS plotting callback run at\", now());\n      run_inline_js();\n    });\n  }\n}(window));"
     },
     "metadata": {},
     "output_type": "display_data"
    },
    {
     "data": {
      "application/vnd.bokehjs_exec.v0+json": "",
      "text/html": [
       "\n",
       "<script id=\"1002\">\n",
       "  (function() {\n",
       "    const xhr = new XMLHttpRequest()\n",
       "    xhr.responseType = 'blob';\n",
       "    xhr.open('GET', \"http://localhost:62942/autoload.js?bokeh-autoload-element=1002&bokeh-absolute-url=http://localhost:62942&resources=none\", true);\n",
       "    \n",
       "    xhr.onload = function (event) {\n",
       "      const script = document.createElement('script');\n",
       "      const src = URL.createObjectURL(event.target.response);\n",
       "      script.src = src;\n",
       "      document.body.appendChild(script);\n",
       "    };\n",
       "    xhr.send();\n",
       "  })();\n",
       "</script>"
      ]
     },
     "metadata": {
      "application/vnd.bokehjs_exec.v0+json": {
       "server_id": "8241e9ca7fe04392b41dc5059f044027"
      }
     },
     "output_type": "display_data"
    }
   ],
   "source": [
    "tpf.interact()"
   ]
  },
  {
   "cell_type": "code",
   "execution_count": 129,
   "id": "1727a60d",
   "metadata": {},
   "outputs": [],
   "source": [
    "lc=tpf.to_lightcurve()"
   ]
  },
  {
   "cell_type": "code",
   "execution_count": 130,
   "id": "a1a7d055",
   "metadata": {},
   "outputs": [
    {
     "data": {
      "text/plain": [
       "<AxesSubplot:xlabel='Time - 2457000 [BTJD days]', ylabel='Flux [$\\\\mathrm{e^{-}\\\\,s^{-1}}$]'>"
      ]
     },
     "execution_count": 130,
     "metadata": {},
     "output_type": "execute_result"
    },
    {
     "data": {
      "image/png": "[encoded data removed]",
      "text/plain": [
       "<Figure size 848.5x400 with 1 Axes>"
      ]
     },
     "metadata": {},
     "output_type": "display_data"
    }
   ],
   "source": [
    "lc.plot()"
   ]
  },
  {
   "cell_type": "markdown",
   "id": "729824ae",
   "metadata": {},
   "source": [
    "## Exercises"
   ]
  },
  {
   "cell_type": "markdown",
   "id": "d34d50ec",
   "metadata": {},
   "source": [
    "## Additional Resources"
   ]
  },
  {
   "cell_type": "markdown",
   "id": "546b4037",
   "metadata": {},
   "source": [
    "## Citations\n",
    "\n",
    "If you use `astropy` or `lightkurve` for published research, please cite the\n",
    "authors. Follow these links for more information about citing `astropy` and\n",
    "`lightkurve`:\n",
    "\n",
    "TESScut citation https://ui.adsabs.harvard.edu/abs/2019ascl.soft05007B/abstract Brasseur et al. 2019\n",
    "\n",
    "* [Citing `astropy`](https://www.astropy.org/acknowledging.html)\n",
    "* [Citing `lightkurve`](http://docs.lightkurve.org/about/citing.html)"
   ]
  },
  {
   "cell_type": "markdown",
   "id": "7494fca9",
   "metadata": {},
   "source": [
    "## About this Notebook\n",
    "\n",
    "**Author:** Julia Kamenetzky, ScienceBetter Consultant  \n",
    "**Keywords:**   \n",
    "**Last Updated:**  \n",
    "**Next Review:**  \n",
    "\n",
    "JRK not done, and add the footer."
   ]
  }
 ],
 "metadata": {
  "kernelspec": {
   "display_name": "Python 3 (ipykernel)",
   "language": "python",
   "name": "python3"
  },
  "language_info": {
   "codemirror_mode": {
    "name": "ipython",
    "version": 3
   },
   "file_extension": ".py",
   "mimetype": "text/x-python",
   "name": "python",
   "nbconvert_exporter": "python",
   "pygments_lexer": "ipython3",
   "version": "3.9.12"
  }
 },
 "nbformat": 4,
 "nbformat_minor": 5
}
