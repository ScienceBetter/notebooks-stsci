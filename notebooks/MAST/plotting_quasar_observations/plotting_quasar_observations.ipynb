{
 "cells": [
  {
   "cell_type": "markdown",
   "id": "2151027e",
   "metadata": {},
   "source": [
    "# Learning Goals\n",
    "By the end of this tutorial, you will:\n",
    "* Understand how to query data on a target from the MAST archive.\n",
    "* Be able to plot a timeline of all observations of the target.\n",
    "* Learn to plot a spectrum from any historical observation. \n",
    "* Make your own comparisons and conclusions based on the target. "
   ]
  },
  {
   "cell_type": "markdown",
   "id": "a20fe201",
   "metadata": {},
   "source": [
    "# Introduction\n",
    "\n",
    "Quasars are extremely luminous astronomical objects that can be found at the center of some galaxies. They are powered by gas spiraling at high velocity into a super-massive black hole. The brightest quasars are capable of outshining all the stars in their galaxy, they can be seen from billions of light-years away. The first quasar ever discovered is called **3c273**, it is one of the most luminous quasars and therefore one of the most luminous objects in the observable universe. It is at a distance of 749 Megaparsecs [1 Megaparsec = 1 million parsecs = 3.26 million lightyears] with an absolute magnitude of −26.7, meaning that if it were at a distance of 10 parsecs, it would be as bright in our sky as the Sun. <br>\n",
    "    \n",
    "Quasar **3c273** is the target we will focus on in this tutorial. We will first gather all the observations of this quasar from the MAST archive. Then, we will plot those observations as a function of wavelength versus time. Finally, we will plot a spectrum from one of the observations. These two plots should help us to understand what the history of this quasar looks and then we can try to draw our own conclusions."
   ]
  },
  {
   "cell_type": "markdown",
   "id": "b9a2a907",
   "metadata": {},
   "source": [
    "# Imports\n",
    "The following cell holds the imported packages. These packages are necessary for running the rest of the cells in this notebook. A description of each import is as follows:\n",
    "\n",
    "* *numpy* to handle array functions\n",
    "* *pandas* to handle date conversions\n",
    "* *fits from astropy.io* for accessing FITS files\n",
    "* *Table from astropy.table* for creating tidy tables of the data\n",
    "* *matplotlib.pyplot* for plotting data\n",
    "* *Mast and Observations from astroquery.mast* for querying data and observations from the MAST archive\n"
   ]
  },
  {
   "cell_type": "code",
   "execution_count": null,
   "id": "b7dfb613",
   "metadata": {},
   "outputs": [],
   "source": [
    "%matplotlib inline\n",
    "import numpy as np\n",
    "import pandas as pd\n",
    "from astropy.io import fits\n",
    "from astropy.table import Table\n",
    "import matplotlib.pyplot as plt\n",
    "from astroquery.mast import Mast\n",
    "from astroquery.mast import Observations"
   ]
  },
  {
   "cell_type": "markdown",
   "id": "1405104b",
   "metadata": {},
   "source": [
    "# Main Content\n",
    "\n",
    "## Gather the Data\n",
    "\n",
    "We are going to use the **astroquery.mast Observations** package to gather our data from the MAST Archive. There are a number of ways to go about querying data with this package. For our purposes, we will be using the **Observations.query_object()** function which takes in the name of the target and optionally, a radius around the target (the default is 0.2 degrees if not provided). You can find a link to the MAST data column descriptions in the **\"Additional Resources\"** section below. \n"
   ]
  },
  {
   "cell_type": "code",
   "execution_count": null,
   "id": "bb3976ff",
   "metadata": {},
   "outputs": [],
   "source": [
    "#define target name\n",
    "target_name = \"3c273\"\n",
    "\n",
    "#We'll name the data \"obs_table\" for \"observations table\"\n",
    "obs_table = Observations.query_object(target_name)\n",
    "\n",
    "#lets print out the first 10 entries\n",
    "print(obs_table[:10])  "
   ]
  },
  {
   "cell_type": "markdown",
   "id": "c3772f97",
   "metadata": {},
   "source": [
    "### Compile necessary variables for plotting\n",
    "Before we start parsing our observations table, lets recall what we want to do with it. <br> \n",
    "<br>\n",
    "First, we want to plot an Historical Observational Coverage Plot, where the x-axis will be time and the y-axis will be wavelength. We are also going to want to label or color each observation according to what mission it corresponds to. So, we are going need a variable for:\n",
    "* array of times of all observations\n",
    "* array of wavelengths of all observations\n",
    "* array of mission names of all observations. <br> \n",
    "\n",
    "Some modifications to the quieried data will be desired for easy visualization. 1) We will want to convert the Modified Julian Date returned from our MAST query to a Calendar Date so when we plot the timeline, it will be easy to tell when each observation was made. 2) MAST only holds columns for the minimum and maximum wavelength of the observation, for the Historic Observational Coverage plot, we only want one wavelength per time so we will calculate the median between each min and max wavelength value. <br>\n",
    "<br>\n",
    "Second, we want to plot a spectrum for one of our observations, where the x-axis will be wavelength and the y-axis will be intensity (or what you can call brightness). For this plot we will need a variable for:\n",
    "* array of wavelength range of one observation\n",
    "* array of intensities of one observation. \n"
   ]
  },
  {
   "cell_type": "code",
   "execution_count": null,
   "id": "03622f17",
   "metadata": {},
   "outputs": [],
   "source": [
    "#Parse the observations table to get the Time data\n",
    "obs_times = obs_table[\"t_min\"]\n",
    "#Convert MJD to Calendar Date:\n",
    "#initialize list for times as calendar dates\n",
    "times = []\n",
    "#loop through times quieried from MAST\n",
    "for t in obs_times:\n",
    "    #convert MJD to Julian date\n",
    "    t = t + 2400000.5\n",
    "    #convert Julian date to Calendar date \n",
    "    time = pd.to_datetime(t, unit = 'D', origin = 'julian')\n",
    "    #add converted date to times list\n",
    "    times.append(time.to_numpy())\n",
    "#change list to numpy array for easy plotting\n",
    "times = np.array(times)\n",
    "\n",
    "#Parse observations table to get the wavelength data\n",
    "wavelength_min = obs_table[\"em_min\"]\n",
    "wavelength_max = obs_table[\"em_max\"]\n",
    "#Calculate the median between each wavelength min/max value:\n",
    "#initialize list for median wavelengths\n",
    "waves = []\n",
    "#loop through the number of wavelengths\n",
    "for wave in range(len(wavelength_max)):\n",
    "    #add each median value to a list\n",
    "    waves.append((wavelength_max[wave]-wavelength_min[wave])/2)\n",
    "#change list to numpy array and convert units from nanometers to meters \n",
    "waves = np.array(waves)*1e-9\n",
    "\n",
    "#Parse the observations table to get the mission names data\n",
    "mission = obs_table[\"obs_collection\"]\n",
    "mission = np.array(mission)"
   ]
  },
  {
   "cell_type": "markdown",
   "id": "fc6ae213",
   "metadata": {},
   "source": [
    "## Historical Observational Coverage Plot \n",
    "\n",
    "We want to visualize the history of observations of 3c273 according to the wavelength of the observation. This plot will tell us much more if we change the color of each point to indicate which mission made the observation. "
   ]
  },
  {
   "cell_type": "code",
   "execution_count": null,
   "id": "0801f224",
   "metadata": {},
   "outputs": [],
   "source": [
    "#make plot axes\n",
    "fig = plt.figure()\n",
    "fig.set_size_inches(10,10)\n",
    "ax = fig.add_subplot()\n",
    "        \n",
    "#get color for every unique mission name\n",
    "cm = plt.cm.get_cmap(\"plasma\") \n",
    "num_colors = len(np.unique(mission))\n",
    "ax.set_prop_cycle(color = [cm(1.*i/num_colors) for i in range(num_colors)])\n",
    "\n",
    "#loop through the mission names\n",
    "for i in np.unique(mission):\n",
    "    #filter times and wavelengths by mission name\n",
    "    ind = np.where(mission == i)\n",
    "    #plot it\n",
    "    ax.scatter(times[ind], waves[ind], label = i, s = 100)#, edgecolor = 'darkgrey')\n",
    "\n",
    "#place the legend\n",
    "plt.legend()  \n",
    "#scale the y-axis to log for better visualization\n",
    "plt.yscale(\"log\")\n",
    "#set the limits of the y-axis, you can change this to see different wavelength ranges later\n",
    "plt.ylim(10**-9,10**3)\n",
    "#set the label of the x and y axes\n",
    "plt.xlabel(\"Time of Observation [Year]\", fontsize = 15)\n",
    "plt.ylabel(\"Wavelength of Observation [meters]\", fontsize = 15)\n",
    "#show the plot\n",
    "plt.show()\n"
   ]
  },
  {
   "cell_type": "markdown",
   "id": "a1fc0f6a",
   "metadata": {},
   "source": [
    "## Plot Spectrum\n",
    "\n",
    "### Choose a single observation"
   ]
  },
  {
   "cell_type": "markdown",
   "id": "30a59ddd",
   "metadata": {},
   "source": [
    "# Exercises\n"
   ]
  },
  {
   "cell_type": "markdown",
   "id": "09765ff9",
   "metadata": {},
   "source": [
    "# Additional Resources\n",
    "\n",
    "You can find the name of each data column in our queried table here: https://mast.stsci.edu/api/v0/_c_a_o_mfields.html \n",
    "\n",
    "Check out this youtube video by David Butler giving a 1 minute summary of **3c273**: https://youtu.be/VfBOIcKU8xU\n",
    "\n",
    "Here is a neat article written about **3c723** by Phil Plait for SYFY: https://www.syfy.com/syfy-wire/most-distant-astronomical-object-ever-seen-in-1962 "
   ]
  },
  {
   "cell_type": "markdown",
   "id": "38972ed1",
   "metadata": {},
   "source": [
    "# About this Notebook\n",
    "\n",
    "**Author**: Emma Lieb <br>\n",
    "**Last updated:** 10 Jun 2022"
   ]
  },
  {
   "cell_type": "markdown",
   "id": "1c7fdde4",
   "metadata": {},
   "source": [
    "# Citations\n",
    "\n",
    "* [Citation for `astropy`](https://www.astropy.org/acknowledging.html)\n"
   ]
  }
 ],
 "metadata": {
  "kernelspec": {
   "display_name": "Python 3",
   "language": "python",
   "name": "python3"
  },
  "language_info": {
   "codemirror_mode": {
    "name": "ipython",
    "version": 3
   },
   "file_extension": ".py",
   "mimetype": "text/x-python",
   "name": "python",
   "nbconvert_exporter": "python",
   "pygments_lexer": "ipython3",
   "version": "3.8.8"
  }
 },
 "nbformat": 4,
 "nbformat_minor": 5
}
