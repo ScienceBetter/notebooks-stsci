{
 "cells": [
  {
   "cell_type": "markdown",
   "id": "2151027e",
   "metadata": {},
   "source": [
    "# Learning Goals\n",
    "By the end of this tutorial, you will:\n",
    "* Understand how to query data on a target from the MAST archive.\n",
    "* Be able to plot a timeline of all observations of the target.\n",
    "* Learn to plot a spectrum from any historical observation. \n",
    "* Make your own comparisons and conclusions based on the target. "
   ]
  },
  {
   "cell_type": "markdown",
   "id": "a20fe201",
   "metadata": {},
   "source": [
    "# Introduction\n",
    "\n",
    "Quasars are extremely luminous astronomical objects that can be found at the center of some galaxies. They are powered by gas spiraling at high velocity into a super-massive black hole. The brightest quasars are capable of outshining all the stars in their galaxy, they can be seen from billions of light-years away. The first quasar ever discovered is called **3c273**, it is one of the most luminous quasars and therefore one of the most luminous objects in the observable universe. It is at a distance of 749 Megaparsecs [1 Megaparsec = 1 million parsecs = 3.26 million lightyears] with an absolute magnitude of −26.7, meaning that if it were at a distance of 10 parsecs, it would be as bright in our sky as the Sun. <br>\n",
    "    \n",
    "Quasar **3c273** is the target we will focus on in this tutorial. We will first gather all the observations of this quasar from the MAST archive. Then, we will plot those observations as a function of wavelength versus time. Finally, we will plot a spectrum from one of the observations. These two plots should help us to understand what the history of this quasar looks and then we can try to draw our own conclusions."
   ]
  },
  {
   "cell_type": "markdown",
   "id": "b9a2a907",
   "metadata": {},
   "source": [
    "# Imports\n",
    "The following cell holds the imported packages. These packages are necessary for running the rest of the cells in this notebook. A description of each import is as follows:\n",
    "\n",
    "* *numpy* to handle array functions\n",
    "* *fits from astropy.io* for accessing FITS files\n",
    "* *Table from astropy.table* for creating tidy tables of the data\n",
    "* *matplotlib.pyplot* for plotting data\n",
    "* *Mast and Observations from astroquery.mast* for querying data and observations from the MAST archive\n"
   ]
  },
  {
   "cell_type": "code",
   "execution_count": null,
   "id": "b7dfb613",
   "metadata": {},
   "outputs": [],
   "source": [
    "%matplotlib inline\n",
    "import numpy as np\n",
    "from astropy.io import fits\n",
    "from astropy.table import Table\n",
    "import matplotlib.pyplot as plt\n",
    "from astroquery.mast import Mast\n",
    "from astroquery.mast import Observations"
   ]
  },
  {
   "cell_type": "markdown",
   "id": "1405104b",
   "metadata": {},
   "source": [
    "# Main Content\n",
    "\n",
    "## Gather the Data\n",
    "\n",
    "### Compile necessary variables (target name, RA, Dec, etc.)\n",
    "\n",
    "### Organize queried data, show table\n",
    "\n",
    "## Historical Observational Coverage Plot \n",
    "\n",
    "### Set up axes\n",
    "\n",
    "## Time-Wavelength-Type Footprint Plot\n",
    "\n",
    "### Choose a single observation"
   ]
  },
  {
   "cell_type": "markdown",
   "id": "30a59ddd",
   "metadata": {},
   "source": [
    "# Exercises\n"
   ]
  },
  {
   "cell_type": "markdown",
   "id": "09765ff9",
   "metadata": {},
   "source": [
    "# Additional Resources\n",
    "\n",
    "Check out this youtube video by David Butler giving a 1 minute summary of **3c273**: https://youtu.be/VfBOIcKU8xU\n",
    "\n",
    "Here is a neat article written about **3c723** by Phil Plait for SYFY: https://www.syfy.com/syfy-wire/most-distant-astronomical-object-ever-seen-in-1962 "
   ]
  },
  {
   "cell_type": "markdown",
   "id": "38972ed1",
   "metadata": {},
   "source": [
    "# About this Notebook\n",
    "\n",
    "**Author**: Emma Lieb <br>\n",
    "**Last updated:** 10 Jun 2022"
   ]
  },
  {
   "cell_type": "markdown",
   "id": "1c7fdde4",
   "metadata": {},
   "source": [
    "# Citations\n",
    "\n",
    "* [Citation for `astropy`](https://www.astropy.org/acknowledging.html)\n"
   ]
  }
 ],
 "metadata": {
  "kernelspec": {
   "display_name": "Python 3",
   "language": "python",
   "name": "python3"
  },
  "language_info": {
   "codemirror_mode": {
    "name": "ipython",
    "version": 3
   },
   "file_extension": ".py",
   "mimetype": "text/x-python",
   "name": "python",
   "nbconvert_exporter": "python",
   "pygments_lexer": "ipython3",
   "version": "3.8.8"
  }
 },
 "nbformat": 4,
 "nbformat_minor": 5
}
