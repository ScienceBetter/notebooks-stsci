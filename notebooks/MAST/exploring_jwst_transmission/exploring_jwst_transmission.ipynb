{
 "cells": [
  {
   "cell_type": "markdown",
   "id": "65f3eaf0",
   "metadata": {},
   "source": [
    "<a id=\"top\"></a>"
   ]
  },
  {
   "cell_type": "markdown",
   "id": "5d84656f",
   "metadata": {},
   "source": [
    "# Exploring JWST Transmission Spectrum Proposals"
   ]
  },
  {
   "cell_type": "markdown",
   "id": "515b6fba",
   "metadata": {},
   "source": [
    "***"
   ]
  },
  {
   "cell_type": "markdown",
   "id": "ea13b8cc",
   "metadata": {},
   "source": [
    "# Learning Goals\n",
    "\n",
    "By the end of this tutorial, you will:\n",
    "\n",
    "- Understand how MAST makes its transiting exoplanet time-series data accessible.\n",
    "- Be able to download MAST-hosted data for specific exoplanets.\n",
    "- Become familiar with the exo.MAST, astoquery, and MAST APIs.\n",
    "- Sort MAST data product metadata by attributes (e.g., year, PI)."
   ]
  },
  {
   "cell_type": "markdown",
   "id": "d28853a0",
   "metadata": {},
   "source": [
    "# Introduction\n",
    "\n"
   ]
  },
  {
   "cell_type": "markdown",
   "id": "9253f3d4",
   "metadata": {},
   "source": [
    "# Imports\n",
    "\n",
    "- *jdaviz* to visualize JWST data."
   ]
  },
  {
   "cell_type": "code",
   "execution_count": null,
   "id": "0f1a0b6a",
   "metadata": {},
   "outputs": [],
   "source": [
    "import jdaviz"
   ]
  },
  {
   "cell_type": "markdown",
   "id": "0c6fa1c6",
   "metadata": {},
   "source": [
    "# Main Contents"
   ]
  },
  {
   "cell_type": "markdown",
   "id": "2b7782b1",
   "metadata": {},
   "source": [
    "## Acquiring data"
   ]
  },
  {
   "cell_type": "code",
   "execution_count": null,
   "id": "bd3561b9",
   "metadata": {},
   "outputs": [],
   "source": [
    "target_name='HD 80606 b'\n",
    "target_resolver='NED'\n",
    "width=u.Quantity(5, u.deg)\n",
    "height=u.Quantity(5, u.deg)\n",
    "r=Jwst.query_target(target_name=target_name, width=width, height=height, async_job=True)\n",
    "r"
   ]
  },
  {
   "cell_type": "code",
   "execution_count": null,
   "id": "cede307b",
   "metadata": {},
   "outputs": [],
   "source": [
    "product_list=Jwst.get_product_list(observation_id='jw02008001001_xx103_00003_miri')\n",
    "for row in product_list:\n",
    "    print(\"filename: %s\" % (row['filename']))"
   ]
  },
  {
   "cell_type": "markdown",
   "id": "16fe8c3c",
   "metadata": {},
   "source": [
    "## Using `jdaviz`"
   ]
  },
  {
   "cell_type": "code",
   "execution_count": null,
   "id": "c3045b60",
   "metadata": {},
   "outputs": [],
   "source": [
    "import astropy.units as u\n"
   ]
  },
  {
   "cell_type": "code",
   "execution_count": null,
   "id": "9928e3d9",
   "metadata": {},
   "outputs": [],
   "source": [
    "# Suppress warnings\n",
    "import warnings\n",
    "\n",
    "with warnings.catch_warnings():\n",
    "    warnings.simplefilter(\"ignore\")"
   ]
  },
  {
   "cell_type": "code",
   "execution_count": null,
   "id": "5de45ea1",
   "metadata": {},
   "outputs": [],
   "source": [
    "from jdaviz import Specviz\n",
    "specviz = Specviz()"
   ]
  },
  {
   "cell_type": "code",
   "execution_count": null,
   "id": "f29d3408",
   "metadata": {},
   "outputs": [],
   "source": [
    "specviz.app\n"
   ]
  },
  {
   "cell_type": "code",
   "execution_count": null,
   "id": "df7a8f69",
   "metadata": {},
   "outputs": [],
   "source": [
    "from astropy.utils.data import download_file\n",
    "fn = download_file('https://data.sdss.org/sas/dr14/sdss/spectro/redux/26/spectra/0751/spec-0751-52251-0160.fits', cache=True)\n",
    "specviz.load_spectrum(fn, \"myfile\", format=\"SDSS-III/IV spec\")"
   ]
  },
  {
   "cell_type": "code",
   "execution_count": null,
   "id": "fccf936b",
   "metadata": {},
   "outputs": [],
   "source": [
    "from jdaviz import Specviz2d\n",
    "specviz2d = Specviz2d()"
   ]
  },
  {
   "cell_type": "code",
   "execution_count": null,
   "id": "1a4bc4c8",
   "metadata": {},
   "outputs": [],
   "source": [
    "specviz2d.app\n"
   ]
  },
  {
   "cell_type": "code",
   "execution_count": null,
   "id": "9584cc7e",
   "metadata": {},
   "outputs": [],
   "source": [
    "fn = download_file('https://stsci.box.com/shared/static/exnkul627fcuhy5akf2gswytud5tazmw.fits', cache=True)\n"
   ]
  },
  {
   "cell_type": "code",
   "execution_count": null,
   "id": "862c5cd2",
   "metadata": {},
   "outputs": [],
   "source": [
    "specviz2d.load_data(fn)\n"
   ]
  },
  {
   "cell_type": "markdown",
   "id": "1ddfaa71",
   "metadata": {},
   "source": [
    "# Exercises\n",
    "- Do for a different proposal?\n",
    "- Do for emission spectra?\n",
    "- Do for phase curves?"
   ]
  },
  {
   "cell_type": "markdown",
   "id": "bf351b95",
   "metadata": {},
   "source": [
    "# Additional Resources\n",
    "- Primers on exoplanet spectral data types ([Deming, Louie, and Sheets 2018](https://iopscience.iop.org/article/10.1088/1538-3873/aae5c5/meta?casa_token=253HfRr4kyYAAAAA:C0CtfuH4Um2l4Kul5O3tajY2TolSVuXi8fGj48bzSlmJIuvPmeYkb1yXtd10MOjwPqJokDpNvv4)) \n",
    "- JWST primer"
   ]
  },
  {
   "cell_type": "markdown",
   "id": "4f799c59",
   "metadata": {},
   "source": [
    "# About this Notebook\n",
    "\n",
    "**Author**: Arjun B. Savel (asavel@umd.edu).\n",
    "\n",
    "**Last updated**: 2022-06-12"
   ]
  },
  {
   "cell_type": "markdown",
   "id": "1a9681aa",
   "metadata": {},
   "source": [
    "# Citations\n",
    "If you use `jdaviz` for published research, please cite the authors. Follow these links for more information about citing `jdaviz`:\n",
    "\n",
    "* [Citing `jdaviz`](https://www.astropy.org/acknowledging.html)\n"
   ]
  },
  {
   "cell_type": "markdown",
   "id": "6ec567e1",
   "metadata": {},
   "source": [
    "[Top of Page](#top)\n",
    "<img style=\"float: right;\" src=\"https://raw.githubusercontent.com/spacetelescope/notebooks/master/assets/stsci_pri_combo_mark_horizonal_white_bkgd.png\" alt=\"Space Telescope Logo\" width=\"200px\"/>\n"
   ]
  }
 ],
 "metadata": {
  "kernelspec": {
   "display_name": "Python 3",
   "language": "python",
   "name": "python3"
  },
  "language_info": {
   "codemirror_mode": {
    "name": "ipython",
    "version": 3
   },
   "file_extension": ".py",
   "mimetype": "text/x-python",
   "name": "python",
   "nbconvert_exporter": "python",
   "pygments_lexer": "ipython3",
   "version": "3.9.5"
  }
 },
 "nbformat": 4,
 "nbformat_minor": 5
}
