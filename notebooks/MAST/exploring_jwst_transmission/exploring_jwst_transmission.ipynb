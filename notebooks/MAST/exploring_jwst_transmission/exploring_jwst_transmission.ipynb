{
 "cells": [
  {
   "cell_type": "markdown",
   "id": "6b894155",
   "metadata": {},
   "source": [
    "<a id=\"top\"></a>"
   ]
  },
  {
   "cell_type": "markdown",
   "id": "fe7e2692",
   "metadata": {},
   "source": [
    "# Exploring JWST Transmission Spectrum Proposals"
   ]
  },
  {
   "cell_type": "markdown",
   "id": "3ee8a053",
   "metadata": {},
   "source": [
    "***"
   ]
  },
  {
   "cell_type": "markdown",
   "id": "4acae469",
   "metadata": {},
   "source": [
    "# Learning Goals\n",
    "\n",
    "By the end of this tutorial, you will:\n",
    "\n",
    "- Understand how MAST makes its transiting exoplanet time-series data accessible.\n",
    "- Be able to download MAST-hosted data for specific exoplanets.\n",
    "- Become familiar with the exo.MAST, astoquery, and MAST APIs.\n",
    "- Sort MAST data product metadata by attributes (e.g., year, PI)."
   ]
  },
  {
   "cell_type": "markdown",
   "id": "3f219382",
   "metadata": {},
   "source": [
    "# Introduction\n",
    "\n"
   ]
  },
  {
   "cell_type": "markdown",
   "id": "57f9fed7",
   "metadata": {},
   "source": [
    "# Imports\n",
    "\n",
    "- *jdaviz* to visualize JWST data."
   ]
  },
  {
   "cell_type": "code",
   "execution_count": 2,
   "id": "12421077",
   "metadata": {},
   "outputs": [],
   "source": [
    "import jdaviz"
   ]
  },
  {
   "cell_type": "markdown",
   "id": "399212f8",
   "metadata": {},
   "source": [
    "# Main Contents"
   ]
  },
  {
   "cell_type": "markdown",
   "id": "6e737455",
   "metadata": {},
   "source": [
    "# Exercises\n",
    "- Do for a different proposal?\n",
    "- Do for emission spectra?\n",
    "- Do for phase curves?"
   ]
  },
  {
   "cell_type": "markdown",
   "id": "bfab2e66",
   "metadata": {},
   "source": [
    "# Additional Resources\n",
    "- Primers on exoplanet spectral data types ([Deming, Louie, and Sheets 2018](https://iopscience.iop.org/article/10.1088/1538-3873/aae5c5/meta?casa_token=253HfRr4kyYAAAAA:C0CtfuH4Um2l4Kul5O3tajY2TolSVuXi8fGj48bzSlmJIuvPmeYkb1yXtd10MOjwPqJokDpNvv4)) \n",
    "- JWST primer"
   ]
  },
  {
   "cell_type": "markdown",
   "id": "3657c768",
   "metadata": {},
   "source": [
    "# About this Notebook\n",
    "\n",
    "**Author**: Arjun B. Savel (asavel@umd.edu).\n",
    "\n",
    "**Last updated**: 2022-06-12"
   ]
  },
  {
   "cell_type": "markdown",
   "id": "7823f773",
   "metadata": {},
   "source": [
    "# Citations\n",
    "If you use `jdaviz` for published research, please cite the authors. Follow these links for more information about citing `jdaviz`:\n",
    "\n",
    "* [Citing `jdaviz`](https://www.astropy.org/acknowledging.html)\n"
   ]
  },
  {
   "cell_type": "markdown",
   "id": "3ade21ef",
   "metadata": {},
   "source": [
    "[Top of Page](#top)\n",
    "<img style=\"float: right;\" src=\"https://raw.githubusercontent.com/spacetelescope/notebooks/master/assets/stsci_pri_combo_mark_horizonal_white_bkgd.png\" alt=\"Space Telescope Logo\" width=\"200px\"/>\n"
   ]
  }
 ],
 "metadata": {
  "kernelspec": {
   "display_name": "Python 3",
   "language": "python",
   "name": "python3"
  },
  "language_info": {
   "codemirror_mode": {
    "name": "ipython",
    "version": 3
   },
   "file_extension": ".py",
   "mimetype": "text/x-python",
   "name": "python",
   "nbconvert_exporter": "python",
   "pygments_lexer": "ipython3",
   "version": "3.9.5"
  }
 },
 "nbformat": 4,
 "nbformat_minor": 5
}
