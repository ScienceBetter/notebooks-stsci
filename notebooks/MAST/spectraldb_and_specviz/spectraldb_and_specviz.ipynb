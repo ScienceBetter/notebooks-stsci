{
 "cells": [
  {
   "cell_type": "markdown",
   "id": "c344b94f",
   "metadata": {},
   "source": [
    "# Viewing JWST Spectra with Spectral DB API and SpecViz"
   ]
  },
  {
   "cell_type": "markdown",
   "id": "1ae6a84f",
   "metadata": {},
   "source": [
    "## Learning Goals\n",
    "\n",
    "By the end of this tutorial, you will:\n",
    "- Understand the difference between searching and downloading JWST spectra with `astroquery.MAST` and `SpectralDB`\n",
    "- Search for JWST spectra given a set of pixel-level criteria with `SpectralDB`\n",
    "- Access a JWST spectrum with a known URI using `SpectralDB` API\n",
    "- View a JWST spectrum JSON object with `SpecViz`"
   ]
  },
  {
   "cell_type": "markdown",
   "id": "680ef199",
   "metadata": {},
   "source": [
    "## Introduction\n",
    "\n",
    "The Barbara A. Mikulski Archive for Space Telescopes (MAST) is the home for all data from the James Webb Space Telescope (JWST), among other telescope data archives. There are multiple ways to search for and download images and spectra from MAST. In this tutorial, we will access a spectrum with a known Uniform Resource Indicator (URI) using the Spectral DB Application Programming Interface (API). Using a correctly formatted URL (Uniform Resource Locator; a web address that starts with https://) request to the API, we can directly access the same content as contained with a .fits file in our Jupyter notebook without having to download and store the .fits file locally. This tutorial will also briefly demonstrate how to plot the spectrum in the `SpecViz` portion of `Jdaviz`. \n",
    "\n",
    "At the time of this tutorial, not all publicly available taken by JWST is available through Spectral DB; it currently only contains the final calibrated data science products (\"Level 3\" products), not lower level calibration products. Additionally, searching for 2D and 3D spectroscopic pixel data is not yet supported. The filename of a 1D spectroscopic products, which are supported in searching, will all end in `_x1d.fits1`. This tutorial retrieves publicly available data, which we can do anonymously; to retrieve proprietary or protected data, you will need to use an authentication token. \n",
    "\n",
    "More documentation for [Specviz](https://jdaviz.readthedocs.io/en/latest/specviz/) is available online.\n",
    "\n",
    "JRK, questions, \n",
    "- how should this be written consistently... Spectral DB, Spectraldb, etc. `with` or without formatting?\n",
    "- how do know if the spectrum you are trying to access is final calibrated science data product? e.g. if searching via MAST portal instead, so skipping straight to the 2nd step.\n",
    "- See how long the \"at the time of this tutorial...\" will last.\n",
    "- Also link to Spectral DB or general API documentation."
   ]
  },
  {
   "cell_type": "markdown",
   "id": "da9d2b3e",
   "metadata": {},
   "source": [
    "## Imports\n",
    "\n",
    "- numpy to handle array functions\n",
    "- astropy.io fits for accessing FITS files\n",
    "- astropy.io ascii for writing an astropy table to a .csv file (for an Exercise)\n",
    "- astropy.table Table for creating tidy tables of the data\n",
    "- matplotlib.pyplot for plotting data\n",
    "- requests to access the API\n",
    "- astroquery.mast Observations for querying MAST for observations\n",
    "- json\n",
    "\n",
    "JRK jdaviz and astroquery may require installation?\n",
    "\n",
    "JRK go back and see what ends up being used."
   ]
  },
  {
   "cell_type": "code",
   "execution_count": 1,
   "id": "5d01c1c7",
   "metadata": {},
   "outputs": [],
   "source": [
    "%matplotlib inline\n",
    "import numpy as np\n",
    "from astropy.io import fits\n",
    "from astropy.io import ascii\n",
    "from astropy.table import Table\n",
    "import astropy.units as u\n",
    "import matplotlib.pyplot as plt\n",
    "from astroquery.mast import Observations\n",
    "import requests\n",
    "import json\n",
    "from jdaviz import Specviz\n",
    "from specutils import Spectrum1D"
   ]
  },
  {
   "cell_type": "markdown",
   "id": "a75a66f6",
   "metadata": {},
   "source": [
    "## Searching for JWST spectra with given pixel parameters\n",
    "\n",
    "There are many ways to search the MAST database, such as with [`astroquery`](https://astroquery.readthedocs.io/en/latest/mast/mast.html) in Python or with the [MAST Portal](https://mast.stsci.edu/portal/Mashup/Clients/Mast/Portal.html) in your web browser. These types of searches are usually designed to be done by object name, region, or proposal or observation ID; in other words, the searches are usually done based on the observing target or the observing plan (such as proposer, instrument, filters, etc.) The Spectral DB API, on the other hand, can search by pixel-level information within the spectrum itself, such as signal-to-noise ratios (SNR), or flux values in certain wavelength ranges; we can search by the actual result of the observing. More documentation is available about how to [Search Spectroscopic Pixel Data](https://mast.stsci.edu/spectra/docs/search_pixels.html) \n",
    "\n",
    "The URLs for searching with the Spectral DB API will all begin with https://mast.stsci.edu/spectra/api/v0.1/search? and then be followed by the appropriate keywords.\n",
    "\n",
    "In the example below, we search for 1D spectra (`product=x1d`) that have a flux of at least 0.2 Jy and SNR of at least 5 in the wavelength range of 14 to 14.5 microns.\n",
    "\n",
    "JRK - this is completely arbitrary - come up with a compelling science case, e.g. looking for a specific kind of emission or something.\n"
   ]
  },
  {
   "cell_type": "code",
   "execution_count": 2,
   "id": "8e5808ca",
   "metadata": {},
   "outputs": [
    {
     "name": "stdout",
     "output_type": "stream",
     "text": [
      "https://mast.stsci.edu/spectra/api/v0.1/search?product=x1d&wavelength=14,14.5&derSnr.gt=5&flux.gte=0.2\n"
     ]
    }
   ],
   "source": [
    "prefix='https://mast.stsci.edu/spectra/api/v0.1/search?'\n",
    "keywords='product=x1d&wavelength=14,14.5&derSnr.gt=5&flux.gte=0.2'\n",
    "url=prefix+keywords\n",
    "print(url)"
   ]
  },
  {
   "cell_type": "code",
   "execution_count": 3,
   "id": "72d5d2b1",
   "metadata": {},
   "outputs": [
    {
     "data": {
      "text/plain": [
       "200"
      ]
     },
     "execution_count": 3,
     "metadata": {},
     "output_type": "execute_result"
    }
   ],
   "source": [
    "r1=requests.get(url)\n",
    "r1.status_code"
   ]
  },
  {
   "cell_type": "code",
   "execution_count": 4,
   "id": "cb508e5c",
   "metadata": {},
   "outputs": [
    {
     "data": {
      "text/plain": [
       "dict_keys(['status', 'query', 'results'])"
      ]
     },
     "execution_count": 4,
     "metadata": {},
     "output_type": "execute_result"
    }
   ],
   "source": [
    "r1.json().keys()"
   ]
  },
  {
   "cell_type": "markdown",
   "id": "fa36adde",
   "metadata": {},
   "source": [
    "Above, we can see the contents of the `r` JSON object. The three keys tell us about the status of our request, the query itself, and also, the results. Let's examine what is contained in the results dictionary:"
   ]
  },
  {
   "cell_type": "code",
   "execution_count": 5,
   "id": "0c61559d",
   "metadata": {},
   "outputs": [
    {
     "name": "stdout",
     "output_type": "stream",
     "text": [
      "Length of results: 2160\n",
      "First result: \n",
      "{'fileName': 'jw01328-o020_t023_miri_ch3-longmediumshort-_x1d.fits', 'x': 817, 'y': None, 'wavelength': 14.002500212052837, 'flux': 0.577426376942338, 'derSnr': 269.32294857030854}\n",
      "Second result: \n",
      "{'fileName': 'jw01328-o020_t023_miri_ch3-longmediumshort-_x1d.fits', 'x': 883, 'y': None, 'wavelength': 14.200500213773921, 'flux': 0.5959414144803693, 'derSnr': 269.32294857030854}\n"
     ]
    }
   ],
   "source": [
    "lenr=len(r1.json()['results'])\n",
    "print('Length of results: '+str(lenr))\n",
    "print('First result: ')\n",
    "print(r1.json()['results'][0])\n",
    "print('Second result: ')\n",
    "print(r1.json()['results'][100])"
   ]
  },
  {
   "cell_type": "markdown",
   "id": "2ca0920f",
   "metadata": {},
   "source": [
    "It seems every individual pixel (including each individual portion of a spectrum) that met our criteria gets included in our results. So, the same spectrum is represented multiple times. Let's view how many unique individual filenames are in our results list. Below, we will make an array with all of the filenames and then print the unique names."
   ]
  },
  {
   "cell_type": "code",
   "execution_count": 6,
   "id": "f711ed06",
   "metadata": {},
   "outputs": [],
   "source": [
    "allfilenames=[]\n",
    "for i in range(0,lenr): allfilenames.append(r1.json()['results'][i]['fileName'])\n",
    "# JRK this is very inefficient."
   ]
  },
  {
   "cell_type": "code",
   "execution_count": 7,
   "id": "a2ddfa54",
   "metadata": {},
   "outputs": [
    {
     "data": {
      "text/plain": [
       "array(['jw01039-c1000_t001_miri_ch3-shortmediumlong-_x1d.fits',\n",
       "       'jw01039-o005_t001_miri_ch3-shortlongmedium-_x1d.fits',\n",
       "       'jw01047-o001_t006_miri_ch3-medium_x1d.fits',\n",
       "       'jw01050-o005_t005_miri_ch3-medium_x1d.fits',\n",
       "       'jw01328-c1006_t014_miri_ch3-longshortmedium-_x1d.fits',\n",
       "       'jw01328-c1007_t023_miri_ch3-shortlongmedium-_x1d.fits',\n",
       "       'jw01328-o015_t014_miri_ch3-mediumshortlong-_x1d.fits',\n",
       "       'jw01328-o020_t023_miri_ch3-longmediumshort-_x1d.fits',\n",
       "       'jw01349-c1004_t002_miri_ch3-longmediumshort-_x1d.fits',\n",
       "       'jw01349-c1007_t004_miri_ch3-shortlongmedium-_x1d.fits',\n",
       "       'jw01349-o001_t002_miri_ch3-longshortmedium-_x1d.fits',\n",
       "       'jw01349-o002_t004_miri_ch3-mediumshortlong-_x1d.fits',\n",
       "       'jw01349-o010_t003_miri_ch3-longmediumshort-_x1d.fits'],\n",
       "      dtype='<U53')"
      ]
     },
     "execution_count": 7,
     "metadata": {},
     "output_type": "execute_result"
    }
   ],
   "source": [
    "uniquefilenames=np.unique(allfilenames)\n",
    "uniquefilenames"
   ]
  },
  {
   "cell_type": "markdown",
   "id": "53fcd4bf",
   "metadata": {},
   "source": [
    "The results give us science information about the pixels (wavelength, flux, and SNR) and just the filename that is associated with the pixel. We are missing a lot of metadata, such as what the targets of these spectra even are! The filenames themselves do give us some information about the observations. Using 'jw01039-o005_t001_miri_ch3-shortlongmedium-_x1d.fits' as an example:\n",
    "- 01039 is the program number.\n",
    "- 005 is the observation number.\n",
    "- 001 is the visit number. \n",
    "- MIRI is the instrument used.\n",
    "- 3 is the instrument channel used.\n",
    "- JRK I'm not sure the right terminolgoy for shortlongmedium, mediumshortlong, etc. An instrument mode?\n",
    "- x1d indicates this is a 1D spectrum. JRK find link to a list of all the possibilities there.\n",
    "\n",
    "To find more information about any of these spectra, we can use `Observations.query_criteria` imported above from `astroquery.mast`. We can query any of the metadata that are available. JWST spectra will be unique identified by the majority of their filenames; everything up to the final `_x1d.fits` (or similar suffix) will be in the `obs_id` kewyord of the metadata. In practice, you might search for metadata for all of the filenames listed in our `uniquefilenames` variable above. For the purpose of this tutorial, because the results above from Spectral DB will change with time as more JWST data becomes available, we will use filename 'jw01039-o005_t001_miri_ch3-shortlongmedium-_x1d.fits'. \n",
    "\n",
    "First, we will split the string everywhere there is a '_' and then rejoin it together with everything but the last suffix. We'll then search the MAST archive with astroquery and print just some of the information form the resulting table."
   ]
  },
  {
   "cell_type": "code",
   "execution_count": 8,
   "id": "754c9a34",
   "metadata": {},
   "outputs": [
    {
     "name": "stdout",
     "output_type": "stream",
     "text": [
      "jw01039-o005_t001_miri_ch3-shortlongmedium-\n",
      "target_name        s_ra             s_dec      \n",
      "----------- ----------------- -----------------\n",
      "   NGC 6552 270.0302116666667 66.61509722222222\n"
     ]
    }
   ],
   "source": [
    "filename='jw01039-o005_t001_miri_ch3-shortlongmedium-_x1d.fits'\n",
    "search=str.join('_',filename.split('_')[0:-1])\n",
    "print(search)\n",
    "obs_table=Observations.query_criteria(obs_id=search)\n",
    "print(obs_table['target_name','s_ra','s_dec'])\n",
    "#obs_table=Observations.query_criteria(dataURL=uniquefilenames[0]) What should that be"
   ]
  },
  {
   "cell_type": "markdown",
   "id": "922fd34f",
   "metadata": {},
   "source": [
    "We now know that this spectrum, which met our criteria for flux and signal to noise in a certain wavelength range, was taken of the barred spiral galaxy NGC 6225. Let's continue to retrieve the spectrum itself."
   ]
  },
  {
   "cell_type": "markdown",
   "id": "3bed7e3b",
   "metadata": {},
   "source": [
    "## Using Spectral DB API to retrieve a JWST spectrum with known URI\n",
    "\n",
    "Each high-level data product in the JWST data archive has a unique URI (Uniform Resource Locator) that consists of a prefix (mast:JWST/product) and the file name.\n",
    "\n",
    "JRK need to explain or demonstrate other ways to find the URI, for example if you were searching in the MAST portal. You'd have to limit yourself to level-3 science products. \n",
    "\n",
    "The URLs for retrieving data with the Spectral DB API will all begin with https://mast.stsci.edu/spectra/api/v0.1/retrieve?. In our case, with a known URI, we'll append 'uri=' and then the spectrum's URI. In the code block below, we combine those two strings and print the final result. \n",
    "\n",
    "JRK: I thought you could use column 'dataURL' from the astroquery table, but it ends in s3d.fits not x1d.fits. "
   ]
  },
  {
   "cell_type": "code",
   "execution_count": 9,
   "id": "b0aa6d9d",
   "metadata": {},
   "outputs": [
    {
     "name": "stdout",
     "output_type": "stream",
     "text": [
      "https://mast.stsci.edu/spectra/api/v0.1/retrieve?uri=mast:JWST/product/jw01039-o005_t001_miri_ch3-shortlongmedium-_x1d.fits\n"
     ]
    }
   ],
   "source": [
    "prefix='https://mast.stsci.edu/spectra/api/v0.1/retrieve?uri='\n",
    "uri='mast:JWST/product/'+filename\n",
    "#uri=obs_table['dataURL'][0] # JRK, PROBLEM, this ends in s3d.fits not x1d.fits\n",
    "url=prefix+uri\n",
    "print(url)"
   ]
  },
  {
   "cell_type": "markdown",
   "id": "55b21bba",
   "metadata": {},
   "source": [
    "By using requests.get with our URL, we ask the Spectral DB API to send the spectrum information associated with that unique URI. The resulting object, `r`, is a JSON (JavaScript Object Notation) object, used to store and exchanged data in a standardized format. Next, we print the status code of the `r` object; a code of 200 means success."
   ]
  },
  {
   "cell_type": "code",
   "execution_count": 10,
   "id": "9730c684",
   "metadata": {},
   "outputs": [
    {
     "data": {
      "text/plain": [
       "200"
      ]
     },
     "execution_count": 10,
     "metadata": {},
     "output_type": "execute_result"
    }
   ],
   "source": [
    "r2=requests.get(url)\n",
    "r2.status_code"
   ]
  },
  {
   "cell_type": "markdown",
   "id": "5225b7b3",
   "metadata": {},
   "source": [
    "Similarly to our result from searching, this result `r` contains multiple keys:"
   ]
  },
  {
   "cell_type": "code",
   "execution_count": 11,
   "id": "11e2f323",
   "metadata": {},
   "outputs": [
    {
     "data": {
      "text/plain": [
       "dict_keys(['status', 'message', 'uri', 'filename', 'column_metadata', 'data'])"
      ]
     },
     "execution_count": 11,
     "metadata": {},
     "output_type": "execute_result"
    }
   ],
   "source": [
    "r2.json().keys()"
   ]
  },
  {
   "cell_type": "markdown",
   "id": "69818020",
   "metadata": {},
   "source": [
    "The `r2` object itself looks a lot like a dictionary of dictionaries. It contains information about our request (status, message, uri, filename), a dictionary of the metadata for each column, and a dictionary of the array data we'd expect for a spectrum (e.g. wavelength, flux, and some characterization of the error). \n",
    "\n",
    "Below, we exact the 'data' dictionary and plot the wavelength vs. flux columns using the built-in matplotlib routines. "
   ]
  },
  {
   "cell_type": "code",
   "execution_count": 12,
   "id": "f01cfe4c",
   "metadata": {},
   "outputs": [
    {
     "data": {
      "text/plain": [
       "[<matplotlib.lines.Line2D at 0x7fc200a5b6a0>]"
      ]
     },
     "execution_count": 12,
     "metadata": {},
     "output_type": "execute_result"
    },
    {
     "data": {
      "image/png": "[encoded data removed]",
      "text/plain": [
       "<Figure size 432x288 with 1 Axes>"
      ]
     },
     "metadata": {
      "needs_background": "light"
     },
     "output_type": "display_data"
    }
   ],
   "source": [
    "data=r2.json()['data']\n",
    "plt.plot(data['wavelength'],data['flux'])"
   ]
  },
  {
   "cell_type": "markdown",
   "id": "dcf7d1d2",
   "metadata": {},
   "source": [
    "### Exercise 1\n",
    "\n",
    "Find the units of the wavelength and frequency columns from the column metadata in the JSON object and add axis labels to the plot. "
   ]
  },
  {
   "cell_type": "code",
   "execution_count": 13,
   "id": "75ba3f41",
   "metadata": {},
   "outputs": [
    {
     "name": "stdout",
     "output_type": "stream",
     "text": [
      "um\n",
      "Jy\n"
     ]
    },
    {
     "data": {
      "text/plain": [
       "Text(0, 0.5, 'Flux (Jy)')"
      ]
     },
     "execution_count": 13,
     "metadata": {},
     "output_type": "execute_result"
    },
    {
     "data": {
      "image/png": "[encoded data removed]",
      "text/plain": [
       "<Figure size 432x288 with 1 Axes>"
      ]
     },
     "metadata": {
      "needs_background": "light"
     },
     "output_type": "display_data"
    }
   ],
   "source": [
    "# Place for code for Exercise 1\n",
    "# My solution (to be moved after finishing notebook)\n",
    "print(r2.json()['column_metadata']['wavelength']['units'])\n",
    "print(r2.json()['column_metadata']['flux']['units'])\n",
    "plt.plot(data['wavelength'],data['flux'])\n",
    "plt.xlabel('Wavelength (microns)')\n",
    "plt.ylabel('Flux (Jy)')"
   ]
  },
  {
   "cell_type": "markdown",
   "id": "5a6a4ac9",
   "metadata": {},
   "source": [
    "## Viewing the Spectrum in Specviz\n",
    "\n",
    "Though the built-in plotting routines in Python are helpful to making sure we understand the structure of the data we retrieve from the MAST archive, they are not particularly useful for detailed spectral analysis. The [Jdaviz](https://jdaviz.readthedocs.io/en/latest/) package is specially built for data visualization and analysis of images (using Imviz), 1-dimensional spectra (Specviz), spectral cubes (Cubeviz), and multi-object spectroscopy (Mosviz).  \n",
    "\n",
    "First, we load and show a new instance of Specviz, since we are using a one-dimensional spectrum."
   ]
  },
  {
   "cell_type": "code",
   "execution_count": 14,
   "id": "5960e473",
   "metadata": {},
   "outputs": [
    {
     "data": {
      "application/vnd.jupyter.widget-view+json": {
       "model_id": "4f763b25ba844820bd606872a321fe5e",
       "version_major": 2,
       "version_minor": 0
      },
      "text/plain": [
       "Application(config='specviz', events=['call_viewer_method', 'close_snackbar_message', 'data_item_remove', 'dat…"
      ]
     },
     "metadata": {},
     "output_type": "display_data"
    }
   ],
   "source": [
    "specviz = Specviz()\n",
    "specviz.show()"
   ]
  },
  {
   "cell_type": "markdown",
   "id": "d3ff2f69",
   "metadata": {},
   "source": [
    "Next, we need to convert the information in our `data` dictionary into an object that can be understood by Specviz. We will create a Spectrum1D object from the specutils package. At minimum, we need to provide the array that defines the horizontal axis (the spectral_axis keyword) and the array that defines the vertical axis (the flux keyword). Both arrays need to have the correct units, so we can multiply their respective columns in `data` by an astropy units object. \"um\" is the standard abbreviation for microns. (To know why these units were used, be sure to try Exercise 1 above!)\n",
    "\n",
    "JRK should other metadata, etc. be provided in spec1d, that I assume would be already loaded in if we used the .fits file? Will difference science use cases encounter problems if other metadata is not provided?"
   ]
  },
  {
   "cell_type": "code",
   "execution_count": 15,
   "id": "970b59b3",
   "metadata": {},
   "outputs": [],
   "source": [
    "wavelength=data['wavelength']*u.um\n",
    "flux=data['flux']*u.Jy\n",
    "error=data['fluxErr']*u.Jy\n",
    "spec1d=Spectrum1D(spectral_axis=wavelength,flux=flux)#,uncertainty=error) This results in error\n",
    "# INFO:astropy:uncertainty should have attribute uncertainty_type."
   ]
  },
  {
   "cell_type": "markdown",
   "id": "a82f04b0",
   "metadata": {},
   "source": [
    "In the next code block, we load the spectrum object into Specviz and provide a helpful label (\"From JSON\"). By default, the spectrum will appear in our specviz window above, from earlier in the notebook.\n",
    "\n",
    "If we added ```specviz.show()``` to the code block below, another (identical) specviz window would be shown here. Calling ```specviz.show()``` frequently would create a lot of windows and make your Jupyter notebook quite long and with redundant visual information."
   ]
  },
  {
   "cell_type": "code",
   "execution_count": 16,
   "id": "ab3ba62c",
   "metadata": {},
   "outputs": [],
   "source": [
    "specviz.load_spectrum(spec1d,data_label=\"From JSON\")"
   ]
  },
  {
   "cell_type": "markdown",
   "id": "ab806c59",
   "metadata": {},
   "source": [
    "JRK, comment on the units? \n",
    "\n",
    "JRK, wrapping it up here, provide some links to other tutorials or documentation that shows how to do various things with Specviz. Ideas: the finding redshift tutorial, other things to do with spectral lines, modeling, continuum baseline, etc. etc...."
   ]
  },
  {
   "cell_type": "markdown",
   "id": "a8fcf7d9",
   "metadata": {},
   "source": [
    "### Exercise 2\n",
    "\n",
    "Download the file associated with this URI using astroquery (link to download instructions). Load the spectrum into Specviz, labeling it \"From file\", and confirm that the contents of the two spectra (from JSON and from file) are identical."
   ]
  },
  {
   "cell_type": "code",
   "execution_count": 17,
   "id": "57aa411f",
   "metadata": {},
   "outputs": [
    {
     "name": "stderr",
     "output_type": "stream",
     "text": [
      "INFO:astroquery:Found cached file /Users/julia/Documents/GitHub/notebooks-stsci/notebooks/MAST/spectraldb_and_specviz/jw01039-o005_t001_miri_ch3-shortlongmedium-_x1d.fits with expected size 388800.\n",
      "WARNING: UnitsWarning: '(MJy/sr)^2' did not parse as fits unit: Syntax error parsing unit '(MJy/sr)^2' If this is meant to be a custom unit, define it with 'u.def_unit'. To have it recognized inside a file reader or other code, enable it with 'u.add_enabled_units'. For details, see https://docs.astropy.org/en/latest/units/combining_and_defining.html [astropy.units.core]\n",
      "WARNING:astroquery:UnitsWarning: '(MJy/sr)^2' did not parse as fits unit: Syntax error parsing unit '(MJy/sr)^2' If this is meant to be a custom unit, define it with 'u.def_unit'. To have it recognized inside a file reader or other code, enable it with 'u.add_enabled_units'. For details, see https://docs.astropy.org/en/latest/units/combining_and_defining.html\n"
     ]
    },
    {
     "name": "stdout",
     "output_type": "stream",
     "text": [
      "INFO: Found cached file /Users/julia/Documents/GitHub/notebooks-stsci/notebooks/MAST/spectraldb_and_specviz/jw01039-o005_t001_miri_ch3-shortlongmedium-_x1d.fits with expected size 388800. [astroquery.query]\n",
      "jw01039-o005_t001_miri_ch3-shortlongmedium-_x1d.fits\n"
     ]
    }
   ],
   "source": [
    "# Place for code for Exercise 2\n",
    "result=Observations.download_file(uri)\n",
    "filename=uri.split('/')[-1]\n",
    "print(filename)\n",
    "specviz.load_spectrum(filename,data_label=\"From File\")"
   ]
  },
  {
   "cell_type": "markdown",
   "id": "c608ec37",
   "metadata": {},
   "source": [
    "## About this Notebook\n",
    "\n",
    "**Author**: Julia Kamenetzky, ScienceBetter Consultant (JRK what email address to put?)\n",
    "\n",
    "**Updated On:*** TBD"
   ]
  },
  {
   "cell_type": "markdown",
   "id": "8ec93ec1",
   "metadata": {},
   "source": [
    "## Citations\n",
    "\n",
    "JRK do this, add logo and top of page and lines at bottom"
   ]
  },
  {
   "cell_type": "code",
   "execution_count": null,
   "id": "4f4256e3",
   "metadata": {},
   "outputs": [],
   "source": []
  }
 ],
 "metadata": {
  "kernelspec": {
   "display_name": "Python 3",
   "language": "python",
   "name": "python3"
  },
  "language_info": {
   "codemirror_mode": {
    "name": "ipython",
    "version": 3
   },
   "file_extension": ".py",
   "mimetype": "text/x-python",
   "name": "python",
   "nbconvert_exporter": "python",
   "pygments_lexer": "ipython3",
   "version": "3.8.8"
  }
 },
 "nbformat": 4,
 "nbformat_minor": 5
}
