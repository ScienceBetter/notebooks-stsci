{
 "cells": [
  {
   "cell_type": "markdown",
   "metadata": {},
   "source": [
    "# Viewing JWST Spectra with Spectral DB API and SpecViz"
   ]
  },
  {
   "cell_type": "markdown",
   "metadata": {},
   "source": [
    "***"
   ]
  },
  {
   "cell_type": "markdown",
   "metadata": {},
   "source": [
    "## Learning Goals\n",
    "\n",
    "By the end of this tutorial, you will:\n",
    "- Understand the difference between searching and downloading JWST spectra with `astroquery.MAST` and `SpectralDB`\n",
    "- Search for JWST spectra given a set of pixel-level criteria with `SpectralDB`\n",
    "- Find more observation information about the search result using `astroquery.MAST`.\n",
    "- Access a JWST spectrum with a known URI using `SpectralDB` API\n",
    "- View a JWST spectrum from `SpectralDB` with `SpecViz`"
   ]
  },
  {
   "cell_type": "markdown",
   "metadata": {},
   "source": [
    "## Introduction\n",
    "\n",
    "The Barbara A. Mikulski Archive for Space Telescopes (MAST) is the home for all data from the James Webb Space Telescope (JWST), among other telescope data archives. There are multiple ways to search for and download images and spectra from MAST. In this tutorial, we will define pixel-level criteria to search high-level spectral data products available in the [ `SpectralDB` Application Programming Interface (API)](https://mast.stsci.edu/spectra/docs/). Using a correctly formatted URL (Uniform Resource Locator; a web address that starts with https://) request to the API, we will receive a list of all pixels and spectra that meet the criteria. \n",
    "\n",
    "Next, we will choose one spectrum and use its Uniform Resource Indicator (URI) to format a correct URL to request the spectrum from `SpectralDB`. With the API we can directly access the same content as contained with a .fits file in our Jupyter notebook *without* having to download and store the .fits file locally. Finally, this tutorial will briefly demonstrate how to plot the spectrum in the `SpecViz` portion of `Jdaviz`. \n",
    "\n",
    "At the time of this tutorial, not all publicly available taken by JWST is available through `SpectralDB`; it currently only contains the final calibrated data science products (\"Level 3\" products), not lower level calibration products. Additionally, searching for 2D and 3D spectroscopic pixel data is not yet supported. The filename of a 1D spectroscopic products, which are supported in searching, will all end in `_x1d.fits`. This tutorial retrieves publicly available data, which we can do anonymously; to retrieve proprietary or protected data, you will need to use an authentication token. \n",
    "\n",
    "More documentation for [Specviz](https://jdaviz.readthedocs.io/en/latest/specviz/) is available online.\n",
    "\n",
    "The workflow for this notebook consists of:\n",
    "- Searching for JWST spectra with given pixel parameters\n",
    "    - Exercises\n",
    "- Using Spectral DB API to retrieve a JWST spectrum with known URI\n",
    "    - Exercises\n",
    "- Viewing the Spectrum in Specviz\n",
    "    - Exercises"
   ]
  },
  {
   "cell_type": "markdown",
   "metadata": {},
   "source": [
    "\n",
    "JRK, questions, \n",
    "- how should this be written consistently... Spectral DB, Spectraldb, etc. `with` or without formatting?"
   ]
  },
  {
   "cell_type": "markdown",
   "metadata": {},
   "source": [
    "## Imports\n",
    "\n",
    "- *numpy* to handle array functions\n",
    "- *astropy.io fits* for accessing FITS files\n",
    "- *matplotlib.pyplot* for plotting data\n",
    "- *requests* to access the API\n",
    "- *astroquery.mast Observations* for querying MAST for observations\n",
    "- *specutils.Spectrum1D* to create a spectrum from the MAST API result\n",
    "- *jdaviz.Specviz* to plot the spectrum\n",
    "- *astropy.units* for supplying units to the spectrum object.\n",
    "- *astropy.nddata StdDevUncertainty* for supplying uncertainty to the spectrum object\n",
    "\n",
    "You may need to follow the documention to [install jdaviv](https://jdaviz.readthedocs.io/en/latest/installation.html), [astroquery](https://astroquery.readthedocs.io/en/latest/), and [specutils](https://specutils.readthedocs.io/en/stable/installation.html). "
   ]
  },
  {
   "cell_type": "code",
   "execution_count": 1,
   "metadata": {},
   "outputs": [],
   "source": [
    "%matplotlib inline\n",
    "import numpy as np\n",
    "from astropy.io import fits\n",
    "import matplotlib.pyplot as plt\n",
    "import requests\n",
    "from astroquery.mast import Observations\n",
    "from specutils import Spectrum1D\n",
    "from jdaviz import Specviz\n",
    "import astropy.units as u\n",
    "from astropy.nddata import StdDevUncertainty"
   ]
  },
  {
   "cell_type": "markdown",
   "metadata": {},
   "source": [
    "***"
   ]
  },
  {
   "cell_type": "markdown",
   "metadata": {},
   "source": [
    "## Searching for JWST spectra with given pixel parameters\n",
    "\n",
    "There are many ways to search the MAST database, such as with [`astroquery`](https://astroquery.readthedocs.io/en/latest/mast/mast.html) in Python or with the [MAST Portal](https://mast.stsci.edu/portal/Mashup/Clients/Mast/Portal.html) in your web browser. These types of searches are usually designed to be done by object name, region, or proposal or observation ID; in other words, the searches are usually done based on the observing target or the observing plan (such as proposer, instrument, filters, etc.) The Spectral DB API, on the other hand, can search by pixel-level information within the spectrum itself, such as signal-to-noise ratios (SNR), or flux values in certain wavelength ranges; we can search by the actual result of the observation, in addition to typical search criteria above. More documentation is available about how to [Search Spectroscopic Pixel Data](https://mast.stsci.edu/spectra/docs/search_pixels.html) \n",
    "\n",
    "The URLs for searching with the Spectral DB API will all begin with `https://mast.stsci.edu/spectra/api/v0.1/search?` and then be followed by the appropriate keywords.\n",
    "\n",
    "In the example below, we search for 1D spectra (`product=x1d`) that have a flux of at least 0.2 Jy (`flux.gte=0.2`) in the wavelength range of 14 to 14.5 microns (`wavelength=14,14.5`). We search for spectra with a global SNR of at least 5 (`&derSnr.gt=5`) The `&` signs between our keywords indicate that the pixels should satisfy *all* of the criteria. \n",
    "All of the columns in our query will automaticlaly returned in the search results, but we might also want other columns that were are not searching for. So, finally, we will use the `columns` keyword to specify that we would also like the API to return the target's name, RA, and Dec along with the spectral information.\n"
   ]
  },
  {
   "cell_type": "markdown",
   "metadata": {},
   "source": [
    "JRK - this is completely arbitrary - come up with a compelling science case, e.g. looking for a specific kind of emission or something."
   ]
  },
  {
   "cell_type": "code",
   "execution_count": 2,
   "metadata": {},
   "outputs": [
    {
     "name": "stdout",
     "output_type": "stream",
     "text": [
      "https://mast.stsci.edu/spectra/api/v0.1/search?product=x1d&wavelength=14,14.5&derSnr.gt=5&flux.gte=0.2&columns=targetName,targetRA,targetDec\n"
     ]
    }
   ],
   "source": [
    "prefix='https://mast.stsci.edu/spectra/api/v0.1/search?'\n",
    "keywords='product=x1d&wavelength=14,14.5&derSnr.gt=5&flux.gte=0.2&columns=targetName,targetRA,targetDec'\n",
    "url=prefix+keywords\n",
    "print(url)"
   ]
  },
  {
   "cell_type": "markdown",
   "metadata": {},
   "source": [
    "By using requests.get with our URL, we ask the Spectral DB API to send the results of the search query. The resulting object, `r1a`, is a JSON (JavaScript Object Notation) object, used to store and exchanged data in a standardized format. Next, we print the status code of the `r1a` object; a code of 200 means success."
   ]
  },
  {
   "cell_type": "code",
   "execution_count": 3,
   "metadata": {},
   "outputs": [
    {
     "data": {
      "text/plain": [
       "200"
      ]
     },
     "execution_count": 3,
     "metadata": {},
     "output_type": "execute_result"
    }
   ],
   "source": [
    "r1a=requests.get(url)\n",
    "r1a.status_code"
   ]
  },
  {
   "cell_type": "code",
   "execution_count": 4,
   "metadata": {},
   "outputs": [
    {
     "data": {
      "text/plain": [
       "dict_keys(['status', 'query', 'results'])"
      ]
     },
     "execution_count": 4,
     "metadata": {},
     "output_type": "execute_result"
    }
   ],
   "source": [
    "r1a.json().keys()"
   ]
  },
  {
   "cell_type": "markdown",
   "metadata": {},
   "source": [
    "Above, we can see the contents of the `r1a` JSON object. The three keys tell us about the status of our request, the query itself, and also, the results. Let's examine what is contained in the results dictionary:"
   ]
  },
  {
   "cell_type": "code",
   "execution_count": 5,
   "metadata": {},
   "outputs": [
    {
     "name": "stdout",
     "output_type": "stream",
     "text": [
      "Length of results: 2990\n",
      "First result: \n",
      "{'fileName': 'jw01328-o020_t023_miri_ch3-longmediumshort-_x1d.fits', 'x': 817, 'y': None, 'wavelength': 14.002500212052837, 'flux': 0.577426376942338, 'targetName': 'VV114', 'targetRA': 16.94804166666666, 'targetDec': -17.50700000000001, 'derSnr': 269.32294857030854}\n",
      "Second result: \n",
      "{'fileName': 'jw01328-o020_t023_miri_ch3-longmediumshort-_x1d.fits', 'x': 818, 'y': None, 'wavelength': 14.005500212078914, 'flux': 0.5736309967509212, 'targetName': 'VV114', 'targetRA': 16.94804166666666, 'targetDec': -17.50700000000001, 'derSnr': 269.32294857030854}\n"
     ]
    }
   ],
   "source": [
    "lenr1a=len(r1a.json()['results'])\n",
    "print('Length of results: '+str(lenr1a))\n",
    "print('First result: ')\n",
    "print(r1a.json()['results'][0])\n",
    "print('Second result: ')\n",
    "print(r1a.json()['results'][1])"
   ]
  },
  {
   "cell_type": "markdown",
   "metadata": {},
   "source": [
    "It seems every individual pixel (including each individual portion of a spectrum) that met our criteria gets included in our results. So, the same spectrum is represented multiple times. We can redo the above request with the parameter `group=True` added in order to aggregate the results by data product filename. At the time of the writing of this tutorial, when using `group=True`, we cannot also return the metadata columns with the target's name, RA, or Dec. "
   ]
  },
  {
   "cell_type": "code",
   "execution_count": 6,
   "metadata": {},
   "outputs": [
    {
     "name": "stdout",
     "output_type": "stream",
     "text": [
      "Length of results: 18\n",
      "[{'fileName': 'jw01039-c1000_t001_miri_ch3-shortmediumlong-_x1d.fits'}, {'fileName': 'jw01039-o005_t001_miri_ch3-shortlongmedium-_x1d.fits'}, {'fileName': 'jw01047-o001_t006_miri_ch3-medium_x1d.fits'}, {'fileName': 'jw01050-o005_t005_miri_ch3-medium_x1d.fits'}, {'fileName': 'jw01244-c1002_t003_miri_ch3-shortmediumlong-_x1d.fits'}, {'fileName': 'jw01244-o024_t003_miri_ch3-shortlongmedium-_x1d.fits'}, {'fileName': 'jw01246-o004_t002_miri_ch3-longshortmedium-_x1d.fits'}, {'fileName': 'jw01328-c1006_t014_miri_ch3-longshortmedium-_x1d.fits'}, {'fileName': 'jw01328-c1007_t023_miri_ch3-shortlongmedium-_x1d.fits'}, {'fileName': 'jw01328-o015_t014_miri_ch3-mediumshortlong-_x1d.fits'}, {'fileName': 'jw01328-o020_t023_miri_ch3-longmediumshort-_x1d.fits'}, {'fileName': 'jw01349-c1004_t002_miri_ch3-longmediumshort-_x1d.fits'}, {'fileName': 'jw01349-c1007_t004_miri_ch3-shortlongmedium-_x1d.fits'}, {'fileName': 'jw01349-o001_t002_miri_ch3-longshortmedium-_x1d.fits'}, {'fileName': 'jw01349-o002_t004_miri_ch3-mediumshortlong-_x1d.fits'}, {'fileName': 'jw01349-o010_t003_miri_ch3-longmediumshort-_x1d.fits'}, {'fileName': 'jw01373-c1006_t001_miri_ch3-shortmediumlong-_x1d.fits'}, {'fileName': 'jw01373-o029_t031_miri_ch3-shortlongmedium-_x1d.fits'}]\n"
     ]
    }
   ],
   "source": [
    "prefix='https://mast.stsci.edu/spectra/api/v0.1/search?'\n",
    "keywords='product=x1d&wavelength=14,14.5&derSnr.gt=5&flux.gte=0.2&group=True'\n",
    "url=prefix+keywords\n",
    "r1b=requests.get(url)\n",
    "lenr1b=len(r1b.json()['results'])\n",
    "print('Length of results: '+str(lenr1b))\n",
    "print(r1b.json()['results'])"
   ]
  },
  {
   "cell_type": "markdown",
   "metadata": {},
   "source": [
    "The results in `r1a` give us science information about the pixels (wavelength, flux, and SNR) and the filename that is associated with the pixel; when grouping by filename, that is the only content in the results. We are missing a lot of metadata, such as what the targets of these spectra even are! The filenames themselves do give us some information about the observations. Using 'jw01039-o005_t001_miri_ch3-shortlongmedium-_x1d.fits' as an example:\n",
    "- 01039 is the program number.\n",
    "- 005 is the observation number.\n",
    "- 001 is the visit number. \n",
    "- MIRI is the instrument used.\n",
    "- 3 is the instrument channel used.\n",
    "- JRK I'm not sure the right terminology for shortlongmedium, mediumshortlong, etc. An instrument mode?\n",
    "- x1d indicates this is a 1D spectrum. (c1d, s2d, and s3d [Level 3 Data Products](https://jwst-pipeline.readthedocs.io/en/latest/jwst/data_products/product_types.html#stage-3-data-products) are not yet searchable.)"
   ]
  },
  {
   "cell_type": "markdown",
   "metadata": {},
   "source": [
    "To find more information about any of these spectra, we could cross-reference the filenames in r1b with those in r1a, which does contain more columns. For the purpose of this tutorial, we will instead use `Observations.query_criteria` imported above from `astroquery.mast`. We can query any of the metadata that are available. JWST spectra will be unique identified by the majority of their filenames; everything up to the final `_x1d.fits` (or similar suffix) will be in the `obs_id` keyword of the metadata. \n",
    "\n",
    "In practice, you might search for metadata for all of the filenames listed in our `r1b` variable above. For the purpose of this tutorial, because the results above from Spectral DB will change with time as more JWST data becomes available, we will use hard-coded filename 'jw01039-o005_t001_miri_ch3-shortlongmedium-_x1d.fits'. \n",
    "\n",
    "First, we will split the string everywhere there is a '_' and then rejoin it together with everything but the last suffix. We'll then search the MAST archive with astroquery and print just some of the information form the resulting table."
   ]
  },
  {
   "cell_type": "code",
   "execution_count": 7,
   "metadata": {},
   "outputs": [
    {
     "name": "stdout",
     "output_type": "stream",
     "text": [
      "jw01039-o005_t001_miri_ch3-shortlongmedium-\n",
      "target_name        s_ra             s_dec      \n",
      "----------- ----------------- -----------------\n",
      "   NGC 6552 270.0302116666667 66.61509722222222\n"
     ]
    }
   ],
   "source": [
    "filename='jw01039-o005_t001_miri_ch3-shortlongmedium-_x1d.fits'\n",
    "search=str.join('_',filename.split('_')[0:-1])\n",
    "print(search)\n",
    "obs_table=Observations.query_criteria(obs_id=search)\n",
    "print(obs_table['target_name','s_ra','s_dec'])\n",
    "#obs_table=Observations.query_criteria(dataURL=uniquefilenames[0]) What should that be"
   ]
  },
  {
   "cell_type": "markdown",
   "metadata": {},
   "source": [
    "We now know that this spectrum, which met our criteria for flux and signal to noise in a certain wavelength range, was taken of the barred spiral galaxy NGC 6225. Let's continue to retrieve the spectrum itself."
   ]
  },
  {
   "cell_type": "markdown",
   "metadata": {},
   "source": [
    "### Exercises\n",
    "\n",
    "1. Review the \"Search Syntax\" section of the [Search Spectroscopic Pixel Data](https://mast.stsci.edu/spectra/docs/search_pixels.html) documentation and make a request for a list of all spectral data products (aggregated by filename) with the following criteria: 1D spectra, with flux greater than or equal to 5 Jy, for wavelengths *less than* 15 microns, with a quality flag equal to 0, from the MIRI instrument. \n",
    "\n",
    "2. Confirm that the number of spectral products returned in query `r1a` are the same as those returned in query `r1b`."
   ]
  },
  {
   "cell_type": "code",
   "execution_count": 8,
   "metadata": {},
   "outputs": [
    {
     "data": {
      "text/plain": [
       "[{'fileName': 'jw01022-o023_t001_miri_ch1-short_x1d.fits'},\n",
       " {'fileName': 'jw01022-o023_t001_miri_ch2-short_x1d.fits'},\n",
       " {'fileName': 'jw01022-o023_t001_miri_ch3-short_x1d.fits'},\n",
       " {'fileName': 'jw01047-o001_t006_miri_ch1-long_x1d.fits'},\n",
       " {'fileName': 'jw01047-o001_t006_miri_ch2-long_x1d.fits'},\n",
       " {'fileName': 'jw01047-o001_t006_miri_ch2-medium_x1d.fits'},\n",
       " {'fileName': 'jw01047-o001_t006_miri_ch2-short_x1d.fits'},\n",
       " {'fileName': 'jw01047-o001_t006_miri_ch3-medium_x1d.fits'},\n",
       " {'fileName': 'jw01047-o001_t006_miri_ch3-short_x1d.fits'},\n",
       " {'fileName': 'jw01244-c1002_t003_miri_ch1-shortmediumlong-_x1d.fits'},\n",
       " {'fileName': 'jw01244-c1002_t003_miri_ch2-shortmediumlong-_x1d.fits'},\n",
       " {'fileName': 'jw01244-c1002_t003_miri_ch3-shortmediumlong-_x1d.fits'},\n",
       " {'fileName': 'jw01244-o024_t003_miri_ch1-shortlongmedium-_x1d.fits'},\n",
       " {'fileName': 'jw01244-o024_t003_miri_ch2-shortlongmedium-_x1d.fits'},\n",
       " {'fileName': 'jw01244-o024_t003_miri_ch3-shortlongmedium-_x1d.fits'},\n",
       " {'fileName': 'jw01261-c1001_t003_miri_ch1-short_x1d.fits'},\n",
       " {'fileName': 'jw01261-c1001_t003_miri_ch2-short_x1d.fits'},\n",
       " {'fileName': 'jw01261-c1001_t003_miri_ch3-short_x1d.fits'},\n",
       " {'fileName': 'jw01261-o001_t003_miri_ch1-short_x1d.fits'},\n",
       " {'fileName': 'jw01261-o001_t003_miri_ch2-short_x1d.fits'},\n",
       " {'fileName': 'jw01261-o001_t003_miri_ch3-short_x1d.fits'},\n",
       " {'fileName': 'jw01328-c1006_t014_miri_ch3-longshortmedium-_x1d.fits'},\n",
       " {'fileName': 'jw01328-c1007_t023_miri_ch3-shortlongmedium-_x1d.fits'},\n",
       " {'fileName': 'jw01328-o015_t014_miri_ch3-mediumshortlong-_x1d.fits'},\n",
       " {'fileName': 'jw01328-o020_t023_miri_ch3-longmediumshort-_x1d.fits'},\n",
       " {'fileName': 'jw01349-c1007_t004_miri_ch1-shortlongmedium-_x1d.fits'},\n",
       " {'fileName': 'jw01349-o002_t004_miri_ch1-mediumshortlong-_x1d.fits'},\n",
       " {'fileName': 'jw01373-c1006_t001_miri_ch3-shortmediumlong-_x1d.fits'}]"
      ]
     },
     "execution_count": 8,
     "metadata": {},
     "output_type": "execute_result"
    }
   ],
   "source": [
    "# Space for code for Exercise 1\n",
    "# Solution to Exercise 1\n",
    "r1c=requests.get('https://mast.stsci.edu/spectra/api/v0.1/search?product=x1d&wavelength.lt=15&flux.gte=5&instrument=MIRI&quality=0&group=True')\n",
    "r1c.json()['results'] # Note the results of the solution will change with time."
   ]
  },
  {
   "cell_type": "code",
   "execution_count": 9,
   "metadata": {},
   "outputs": [
    {
     "name": "stdout",
     "output_type": "stream",
     "text": [
      "['jw01039-c1000_t001_miri_ch3-shortmediumlong-_x1d.fits'\n",
      " 'jw01039-o005_t001_miri_ch3-shortlongmedium-_x1d.fits'\n",
      " 'jw01047-o001_t006_miri_ch3-medium_x1d.fits'\n",
      " 'jw01050-o005_t005_miri_ch3-medium_x1d.fits'\n",
      " 'jw01244-c1002_t003_miri_ch3-shortmediumlong-_x1d.fits'\n",
      " 'jw01244-o024_t003_miri_ch3-shortlongmedium-_x1d.fits'\n",
      " 'jw01246-o004_t002_miri_ch3-longshortmedium-_x1d.fits'\n",
      " 'jw01328-c1006_t014_miri_ch3-longshortmedium-_x1d.fits'\n",
      " 'jw01328-c1007_t023_miri_ch3-shortlongmedium-_x1d.fits'\n",
      " 'jw01328-o015_t014_miri_ch3-mediumshortlong-_x1d.fits'\n",
      " 'jw01328-o020_t023_miri_ch3-longmediumshort-_x1d.fits'\n",
      " 'jw01349-c1004_t002_miri_ch3-longmediumshort-_x1d.fits'\n",
      " 'jw01349-c1007_t004_miri_ch3-shortlongmedium-_x1d.fits'\n",
      " 'jw01349-o001_t002_miri_ch3-longshortmedium-_x1d.fits'\n",
      " 'jw01349-o002_t004_miri_ch3-mediumshortlong-_x1d.fits'\n",
      " 'jw01349-o010_t003_miri_ch3-longmediumshort-_x1d.fits'\n",
      " 'jw01373-c1006_t001_miri_ch3-shortmediumlong-_x1d.fits'\n",
      " 'jw01373-o029_t031_miri_ch3-shortlongmedium-_x1d.fits']\n",
      "[{'fileName': 'jw01039-c1000_t001_miri_ch3-shortmediumlong-_x1d.fits'}, {'fileName': 'jw01039-o005_t001_miri_ch3-shortlongmedium-_x1d.fits'}, {'fileName': 'jw01047-o001_t006_miri_ch3-medium_x1d.fits'}, {'fileName': 'jw01050-o005_t005_miri_ch3-medium_x1d.fits'}, {'fileName': 'jw01244-c1002_t003_miri_ch3-shortmediumlong-_x1d.fits'}, {'fileName': 'jw01244-o024_t003_miri_ch3-shortlongmedium-_x1d.fits'}, {'fileName': 'jw01246-o004_t002_miri_ch3-longshortmedium-_x1d.fits'}, {'fileName': 'jw01328-c1006_t014_miri_ch3-longshortmedium-_x1d.fits'}, {'fileName': 'jw01328-c1007_t023_miri_ch3-shortlongmedium-_x1d.fits'}, {'fileName': 'jw01328-o015_t014_miri_ch3-mediumshortlong-_x1d.fits'}, {'fileName': 'jw01328-o020_t023_miri_ch3-longmediumshort-_x1d.fits'}, {'fileName': 'jw01349-c1004_t002_miri_ch3-longmediumshort-_x1d.fits'}, {'fileName': 'jw01349-c1007_t004_miri_ch3-shortlongmedium-_x1d.fits'}, {'fileName': 'jw01349-o001_t002_miri_ch3-longshortmedium-_x1d.fits'}, {'fileName': 'jw01349-o002_t004_miri_ch3-mediumshortlong-_x1d.fits'}, {'fileName': 'jw01349-o010_t003_miri_ch3-longmediumshort-_x1d.fits'}, {'fileName': 'jw01373-c1006_t001_miri_ch3-shortmediumlong-_x1d.fits'}, {'fileName': 'jw01373-o029_t031_miri_ch3-shortlongmedium-_x1d.fits'}]\n"
     ]
    }
   ],
   "source": [
    "# Space for code for Exercise 2\n",
    "# Solution for Exercise 2\n",
    "allfilenames=[]\n",
    "for i in range(0,lenr1a): allfilenames.append(r1a.json()['results'][i]['fileName']) # Admittedly inefficient.\n",
    "uniquefilenames=np.unique(allfilenames)\n",
    "print(uniquefilenames)\n",
    "print(r1b.json()['results'])"
   ]
  },
  {
   "cell_type": "markdown",
   "metadata": {},
   "source": [
    "## Using Spectral DB API to retrieve a JWST spectrum with known URI\n",
    "\n",
    "Each high-level data product in the JWST data archive has a unique URI (Uniform Resource Locator) that consists of a prefix (mast:JWST/product) and the file name. Keep in mind that observations from JWST may have many data products associated with them. We can get the full list of data products using `get_product_list` (described more in the [MAST Queries documentation](https://astroquery.readthedocs.io/en/latest/mast/mast.html#getting-product-lists))."
   ]
  },
  {
   "cell_type": "code",
   "execution_count": 10,
   "metadata": {},
   "outputs": [
    {
     "name": "stdout",
     "output_type": "stream",
     "text": [
      " obsID   obs_collection dataproduct_type ... parent_obsid dataRights calib_level\n",
      "-------- -------------- ---------------- ... ------------ ---------- -----------\n",
      "87529053           JWST             cube ...     87529053     PUBLIC           3\n",
      "87529053           JWST             cube ...     87529053     PUBLIC           3\n",
      "87529053           JWST             cube ...     87529053     PUBLIC           3\n",
      "87529053           JWST             cube ...     87529053     PUBLIC           3\n",
      "87529053           JWST             cube ...     87529053     PUBLIC           3\n",
      "83209879           JWST            image ...     87529053     PUBLIC           1\n",
      "83209879           JWST            image ...     87529053     PUBLIC           1\n",
      "83209879           JWST            image ...     87529053     PUBLIC           1\n",
      "83209879           JWST            image ...     87529053     PUBLIC           1\n",
      "83209879           JWST            image ...     87529053     PUBLIC           1\n",
      "83209879           JWST            image ...     87529053     PUBLIC           1\n",
      "     ...            ...              ... ...          ...        ...         ...\n",
      "83209880           JWST            image ...     87529053     PUBLIC           2\n",
      "83209880           JWST            image ...     87529053     PUBLIC           2\n",
      "83209880           JWST            image ...     87529053     PUBLIC           2\n",
      "83209880           JWST            image ...     87529053     PUBLIC           2\n",
      "83209880           JWST            image ...     87529053     PUBLIC           2\n",
      "83209880           JWST            image ...     87529053     PUBLIC           2\n",
      "83209880           JWST            image ...     87529053     PUBLIC           2\n",
      "83209880           JWST            image ...     87529053     PUBLIC           2\n",
      "83209880           JWST            image ...     87529053     PUBLIC           2\n",
      "83209880           JWST            image ...     87529053     PUBLIC           1\n",
      "83209880           JWST            image ...     87529053     PUBLIC           2\n",
      "Length = 263 rows\n"
     ]
    }
   ],
   "source": [
    "data_products_by_obs = Observations.get_product_list(obs_table[0])\n",
    "print(data_products_by_obs)"
   ]
  },
  {
   "cell_type": "markdown",
   "metadata": {},
   "source": [
    "There are 263 data products, ranging from raw data (`calib_level=1`), calibrated data (`calib_level=2`), to high-level data products (`calib_level=3`). \n",
    "\n",
    "You might note that our `obs_table` from above does include a `dataURL` column; let's view it and compare it to the filename we wanted."
   ]
  },
  {
   "cell_type": "code",
   "execution_count": 11,
   "metadata": {},
   "outputs": [
    {
     "name": "stdout",
     "output_type": "stream",
     "text": [
      "Filename we identified with SpectralDB: jw01039-o005_t001_miri_ch3-shortlongmedium-_x1d.fits\n",
      "                               dataURL                                \n",
      "----------------------------------------------------------------------\n",
      "mast:JWST/product/jw01039-o005_t001_miri_ch3-shortlongmedium-_s3d.fits\n"
     ]
    }
   ],
   "source": [
    "print('Filename we identified with SpectralDB:',filename)\n",
    "print(obs_table['dataURL'])"
   ]
  },
  {
   "cell_type": "markdown",
   "metadata": {},
   "source": [
    "The two do not match; we wanted the 1D extracted spectrum that ends in `_x1d.fits` but the only URL listed in our observation table is the full spectral data cube that ends in `_s3d.fits`. **The lesson here is to be sure to use the filename from SpectralDB**, not `Astroquery.Observations`."
   ]
  },
  {
   "cell_type": "markdown",
   "metadata": {},
   "source": [
    "The URLs for retrieving data with the Spectral DB API will all begin with https://mast.stsci.edu/spectra/api/v0.1/retrieve?. In our case, with a known URI, we'll append 'uri=' and then the spectrum's URI. Note that the URI includes the prefix `mast:JWST/product/` followed by the filename. In the code block below, we combine those two strings and print the final result.  "
   ]
  },
  {
   "cell_type": "code",
   "execution_count": 12,
   "metadata": {},
   "outputs": [
    {
     "name": "stdout",
     "output_type": "stream",
     "text": [
      "https://mast.stsci.edu/spectra/api/v0.1/retrieve?uri=mast:JWST/product/jw01039-o005_t001_miri_ch3-shortlongmedium-_x1d.fits\n"
     ]
    }
   ],
   "source": [
    "prefix='https://mast.stsci.edu/spectra/api/v0.1/retrieve?uri='\n",
    "uri='mast:JWST/product/'+filename\n",
    "url=prefix+uri\n",
    "print(url)"
   ]
  },
  {
   "cell_type": "markdown",
   "metadata": {},
   "source": [
    "Like above, by using requests.get with our URL, we ask the Spectral DB API to send the spectrum information associated with that unique URI and check for a status code of 200 for success."
   ]
  },
  {
   "cell_type": "code",
   "execution_count": 13,
   "metadata": {},
   "outputs": [
    {
     "data": {
      "text/plain": [
       "200"
      ]
     },
     "execution_count": 13,
     "metadata": {},
     "output_type": "execute_result"
    }
   ],
   "source": [
    "r2=requests.get(url)\n",
    "r2.status_code"
   ]
  },
  {
   "cell_type": "markdown",
   "metadata": {},
   "source": [
    "Similarly to our result from searching, this result `r2` contains multiple keys:"
   ]
  },
  {
   "cell_type": "code",
   "execution_count": 14,
   "metadata": {},
   "outputs": [
    {
     "data": {
      "text/plain": [
       "dict_keys(['status', 'message', 'uri', 'filename', 'column_metadata', 'data'])"
      ]
     },
     "execution_count": 14,
     "metadata": {},
     "output_type": "execute_result"
    }
   ],
   "source": [
    "r2.json().keys()"
   ]
  },
  {
   "cell_type": "markdown",
   "metadata": {},
   "source": [
    "The `r2` object itself looks a lot like a dictionary of dictionaries. It contains information about our request (status, message, uri, filename), a dictionary of the metadata for each column, and a dictionary of the array data we'd expect for a spectrum (e.g. wavelength, flux, and some characterization of the error). \n",
    "\n",
    "Below, we exact the 'data' dictionary and plot the wavelength vs. flux columns using the built-in matplotlib routines. "
   ]
  },
  {
   "cell_type": "code",
   "execution_count": 15,
   "metadata": {},
   "outputs": [
    {
     "data": {
      "text/plain": [
       "[<matplotlib.lines.Line2D at 0x11e9c0a90>]"
      ]
     },
     "execution_count": 15,
     "metadata": {},
     "output_type": "execute_result"
    },
    {
     "data": {
      "image/png": "[encoded data removed]",
      "text/plain": [
       "<Figure size 432x288 with 1 Axes>"
      ]
     },
     "metadata": {
      "needs_background": "light"
     },
     "output_type": "display_data"
    }
   ],
   "source": [
    "data=r2.json()['data']\n",
    "plt.plot(data['wavelength'],data['flux'])"
   ]
  },
  {
   "cell_type": "markdown",
   "metadata": {},
   "source": [
    "### Exercises\n",
    "\n",
    "3. Find the units of the wavelength and frequency columns from the column metadata in the JSON object and add axis labels to the plot. "
   ]
  },
  {
   "cell_type": "code",
   "execution_count": 16,
   "metadata": {},
   "outputs": [
    {
     "name": "stdout",
     "output_type": "stream",
     "text": [
      "um\n",
      "Jy\n"
     ]
    },
    {
     "data": {
      "text/plain": [
       "Text(0, 0.5, 'Flux (Jy)')"
      ]
     },
     "execution_count": 16,
     "metadata": {},
     "output_type": "execute_result"
    },
    {
     "data": {
      "image/png": "[encoded data removed]",
      "text/plain": [
       "<Figure size 432x288 with 1 Axes>"
      ]
     },
     "metadata": {
      "needs_background": "light"
     },
     "output_type": "display_data"
    }
   ],
   "source": [
    "# Place for code for Exercise 3\n",
    "# My solution (to be moved after finishing notebook)\n",
    "print(r2.json()['column_metadata']['wavelength']['units'])\n",
    "print(r2.json()['column_metadata']['flux']['units'])\n",
    "plt.plot(data['wavelength'],data['flux'])\n",
    "plt.xlabel('Wavelength (microns)')\n",
    "plt.ylabel('Flux (Jy)')"
   ]
  },
  {
   "cell_type": "markdown",
   "metadata": {},
   "source": [
    "## Viewing the Spectrum in Specviz\n",
    "\n",
    "Though the built-in plotting routines in Python are helpful to making sure we understand the structure of the data we retrieve from the MAST archive, they are not particularly useful for detailed spectral analysis. The [Jdaviz](https://jdaviz.readthedocs.io/en/latest/) package is specially built for data visualization and analysis of images (using Imviz), 1-dimensional spectra (Specviz), spectral cubes (Cubeviz), and multi-object spectroscopy (Mosviz).  \n",
    "\n",
    "First, we load and show a new instance of Specviz, since we are using a one-dimensional spectrum."
   ]
  },
  {
   "cell_type": "code",
   "execution_count": 17,
   "metadata": {},
   "outputs": [
    {
     "data": {
      "application/vnd.jupyter.widget-view+json": {
       "model_id": "25c8083fd17a410985053f3b3f798921",
       "version_major": 2,
       "version_minor": 0
      },
      "text/plain": [
       "Application(config='specviz', events=['call_viewer_method', 'close_snackbar_message', 'data_item_remove', 'dat…"
      ]
     },
     "metadata": {},
     "output_type": "display_data"
    }
   ],
   "source": [
    "specviz = Specviz()\n",
    "specviz.show()"
   ]
  },
  {
   "cell_type": "markdown",
   "metadata": {},
   "source": [
    "Next, we need to convert the information in our `data` dictionary into an object that can be understood by Specviz. We will create a Spectrum1D object from the specutils package. At minimum, we need to provide the array that defines the horizontal axis (the spectral_axis keyword) and the array that defines the vertical axis (the flux keyword). Both arrays need to have the correct units, so we can multiply their respective columns in `data` by an astropy units object. \"um\" is the standard abbreviation for microns. (To know why these units were used, be sure to try Exercise 1 above!)\n",
    "\n",
    "We can also include the uncertainties from the `fluxErr` column following the [Specutils documentation on Including Uncertainties](https://specutils.readthedocs.io/en/stable/spectrum1d.html#including-uncertainties).\n",
    "\n",
    "JRK should other metadata, etc. be provided in spec1d, that I assume would be already loaded in if we used the .fits file? Will difference science use cases encounter problems if other metadata is not provided? Also confirm that the fluxErr column is in fact a standard deviation, not variance or something else? "
   ]
  },
  {
   "cell_type": "code",
   "execution_count": 18,
   "metadata": {},
   "outputs": [],
   "source": [
    "wavelength=data['wavelength']*u.um\n",
    "flux=data['flux']*u.Jy\n",
    "error=StdDevUncertainty(data['fluxErr']*u.Jy)\n",
    "spec1d=Spectrum1D(spectral_axis=wavelength,flux=flux,uncertainty=error) "
   ]
  },
  {
   "cell_type": "markdown",
   "metadata": {},
   "source": [
    "In the next code block, we load the spectrum object into Specviz and provide a helpful label (\"From JSON\"). By default, the spectrum will appear in our specviz window above, from earlier in the notebook.\n",
    "\n",
    "If we added ```specviz.show()``` to the code block below, another (identical) specviz window would be shown here. Calling ```specviz.show()``` frequently would create a lot of windows and make your Jupyter notebook quite long and with redundant visual information."
   ]
  },
  {
   "cell_type": "code",
   "execution_count": 19,
   "metadata": {},
   "outputs": [],
   "source": [
    "specviz.load_spectrum(spec1d,data_label=\"From JSON\")"
   ]
  },
  {
   "cell_type": "markdown",
   "metadata": {},
   "source": [
    "We have successfully searched the SpectralDB API and used it to access a spectrum, without downloading any files on our local machine! There are many other powerful data analysis tools in Specviz that you can use. Check out the [Specviz documentation](https://jdaviz.readthedocs.io/en/latest/specviz/index.html) for more information including [example notebooks and video tutorials](https://jdaviz.readthedocs.io/en/latest/specviz/examples.html)."
   ]
  },
  {
   "cell_type": "markdown",
   "metadata": {},
   "source": [
    "### Exercises\n",
    "\n",
    "4. Download the file associated with this URI using the [`Astroquery` instructions for Downloading a Single File](https://astroquery.readthedocs.io/en/latest/mast/mast.html#downloading-a-single-file). Load the spectrum into Specviz, labeling it \"From file\", and confirm that the contents of the two spectra (from JSON and from file) are identical."
   ]
  },
  {
   "cell_type": "code",
   "execution_count": 20,
   "metadata": {},
   "outputs": [
    {
     "name": "stderr",
     "output_type": "stream",
     "text": [
      "INFO:astroquery:Found cached file /Users/julia/GitHub/notebooks-stsci/notebooks/MAST/spectraldb_and_specviz/jw01039-o005_t001_miri_ch3-shortlongmedium-_x1d.fits with expected size 388800.\n"
     ]
    },
    {
     "name": "stdout",
     "output_type": "stream",
     "text": [
      "INFO: Found cached file /Users/julia/GitHub/notebooks-stsci/notebooks/MAST/spectraldb_and_specviz/jw01039-o005_t001_miri_ch3-shortlongmedium-_x1d.fits with expected size 388800. [astroquery.query]\n",
      "jw01039-o005_t001_miri_ch3-shortlongmedium-_x1d.fits\n"
     ]
    }
   ],
   "source": [
    "# Place for code for Exercise 4\n",
    "result=Observations.download_file(uri)\n",
    "filename=uri.split('/')[-1]\n",
    "print(filename)\n",
    "specviz.load_spectrum('./'+filename,data_label=\"From File\")\n",
    "# Seems to require the developer version of Jdaviz.?\n",
    "# Now \"A\" and \"B\" appear in SpecViz and they are completely overlapping."
   ]
  },
  {
   "cell_type": "markdown",
   "metadata": {},
   "source": [
    "## Citations\n",
    "\n",
    "If you use these Python tools for published research, please cite the\n",
    "authors. Follow these links for more information about citing:\n",
    "\n",
    "* [Citing `astropy`](https://www.astropy.org/acknowledging.html)\n",
    "* [Citing `astroquery`](https://github.com/astropy/astroquery/blob/main/astroquery/CITATION) \n",
    "* [Citing `jdaviz`](https://jdaviz.readthedocs.io/en/latest/index.html#license-attribution)\n",
    "* Citing `specutils` (JRK ???)"
   ]
  },
  {
   "cell_type": "markdown",
   "metadata": {},
   "source": [
    "## About this Notebook\n",
    "\n",
    "**Author:** Julia Kamenetzky, ScienceBetter Consultant  \n",
    "**Last Updated:** Aug 2022  \n",
    "**Next Review:** Nov 2022\n",
    "\n",
    "For support, please contact the Archive HelpDesk at archive@stsci.edu."
   ]
  },
  {
   "cell_type": "markdown",
   "metadata": {},
   "source": [
    "***"
   ]
  },
  {
   "cell_type": "markdown",
   "metadata": {},
   "source": [
    "[Top of Page](#top)\n",
    "<img style=\"float: right;\" src=\"https://raw.githubusercontent.com/spacetelescope/notebooks/master/assets/stsci_pri_combo_mark_horizonal_white_bkgd.png\" alt=\"Space Telescope Logo\" width=\"200px\"/> "
   ]
  }
 ],
 "metadata": {
  "kernelspec": {
   "display_name": "Python 3",
   "language": "python",
   "name": "python3"
  },
  "language_info": {
   "codemirror_mode": {
    "name": "ipython",
    "version": 3
   },
   "file_extension": ".py",
   "mimetype": "text/x-python",
   "name": "python",
   "nbconvert_exporter": "python",
   "pygments_lexer": "ipython3",
   "version": "3.8.5"
  }
 },
 "nbformat": 4,
 "nbformat_minor": 5
}
