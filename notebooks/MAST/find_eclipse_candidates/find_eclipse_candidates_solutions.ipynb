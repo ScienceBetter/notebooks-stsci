{
 "cells": [
  {
   "cell_type": "markdown",
   "metadata": {
    "slideshow": {
     "slide_type": "slide"
    }
   },
   "source": [
    "# Find Eclipsing Binary Star Candidates from a Radial Velocity Catalog on Vizier: Solutions"
   ]
  },
  {
   "cell_type": "markdown",
   "metadata": {
    "slideshow": {
     "slide_type": "skip"
    }
   },
   "source": [
    "***"
   ]
  },
  {
   "cell_type": "code",
   "execution_count": 1,
   "metadata": {
    "slideshow": {
     "slide_type": "fragment"
    }
   },
   "outputs": [],
   "source": [
    "%matplotlib inline\n",
    "import numpy as np\n",
    "from astropy.io import fits\n",
    "from astropy.io import ascii\n",
    "from astropy.table import Table\n",
    "from astropy.coordinates import SkyCoord\n",
    "from astropy import units as u\n",
    "import matplotlib.pyplot as plt\n",
    "from astroquery.mast import Observations\n",
    "from astroquery.vizier import Vizier"
   ]
  },
  {
   "cell_type": "markdown",
   "metadata": {},
   "source": [
    "***"
   ]
  },
  {
   "cell_type": "markdown",
   "metadata": {},
   "source": [
    "## Exercises\n",
    "\n",
    "1. An alternative method to narrowing down candidates from Table 4a: Instead of filtering by ```Per``` and sorting by qmin, filter by some qmin value (such as > 0.3) and then sort by period from lowest to highest. Still require Conv=1. How do your resulting tables vary? Which one do you think would be most helpful in trying to find eclipses, and why? \n",
    "2. An alternative method to searching astroquery in a loop: Export the APOGEE name, RA, and Dec from our filtered version of Table 4a (`tbl`) above to a .csv file, and use the Upload Target List feature on the online MAST Portal to search for QLP and TASOC observations in bulk. Hint: After cross-referencing your uploaded list to all MAST observations, filter (in the left hand column) by Mission: HLSP and Product Type: time series. Reference the [Writing Tables](https://docs.astropy.org/en/stable/io/ascii/write.html) page of the astropy documentation and [Search a List of Targets](https://outerspace.stsci.edu/display/MASTDOCS/Search+a+List+of+Targets) from MAST for help. Export the data (list of all HLSP light curves) to a local file and load it into this notebook. Compared to our loop above, which method is faster? Which is easier to find what you need?"
   ]
  },
  {
   "cell_type": "code",
   "execution_count": 2,
   "metadata": {},
   "outputs": [
    {
     "name": "stdout",
     "output_type": "stream",
     "text": [
      "      APOGEE          Per        M1     M2min     qmin    RAJ2000    DEJ2000  \n",
      "                       d      solMass  solMass              deg        deg    \n",
      "------------------ ---------- -------- -------- -------- ---------- ----------\n",
      "2M00092789+0145417    2.61133  0.78317  0.40848  0.52157   2.366216   1.761607\n",
      "2M00104203+0152065   23.47142  0.92806  0.36483  0.39311   2.675149   1.868474\n",
      "2M19364967+3813244   24.72355  0.88201  0.31293  0.35479 294.206988  38.223454\n",
      "2M20183197+1953430   51.30696  1.96604  1.36037  0.69193 304.633241  19.895283\n",
      "2M01210284+8431304   54.25957  2.25258  0.96650  0.42906  20.261862  84.525131\n",
      "2M04411627+5855354   56.05161  1.46516  0.61969  0.42295  70.317793  58.926521\n",
      "2M07103169+0712585   62.37094  1.65363  0.58727  0.35514 107.632065   7.216252\n",
      "2M07282763+2225408   80.29508  1.91156  0.97309  0.50906 112.115125  22.428013\n",
      "2M00085727+7341257   83.66193  1.77608  1.12293  0.63225   2.238636  73.690475\n",
      "2M20512287+5144445  108.33268  1.42243  1.07114  0.75303 312.845323  51.745708\n",
      "               ...        ...      ...      ...      ...        ...        ...\n",
      "2M01415794+8520066  175.20654  1.13283  1.05693  0.93300  25.491446  85.335190\n",
      "2M19315429+4232516  207.18320  1.55680  1.24380  0.79894 292.976217  42.547680\n",
      "2M20472800+5111090  249.78685  1.34704  0.52737  0.39150 311.866675  51.185841\n",
      "2M00331236+6300491  258.15182  1.35604  0.59487  0.43868   8.301504  63.013645\n",
      "2M07021716+0517093  299.16592  1.45416  0.84049  0.57799 105.571533   5.285917\n",
      "2M19422723+2241055  330.40311  1.62019  0.62331  0.38472 295.613463  22.684875\n",
      "2M19145920-0539507  503.73038  1.00905  0.37373  0.37037 288.746698  -5.664099\n",
      "2M11474948+0051345  927.19623  1.09592  0.43679  0.39856 176.956185   0.859605\n",
      "2M19390004+2427162  975.66156  2.35121  1.02374  0.43541 294.750180  24.454500\n",
      "2M18500328-0320450 1034.24927  1.04646  0.35226  0.33662 282.513684  -3.345846\n",
      "Length = 24 rows\n"
     ]
    }
   ],
   "source": [
    "# Exercise 1 Solution:\n",
    "v2 = Vizier(columns=['APOGEE','Per','M1','M2min','qmin','RAJ2000', 'DEJ2000'],\n",
    "           column_filters={\"qmin\":\">0.3\",\"Conv\":\"=1\"})\n",
    "v2.ROW_LIMIT = -1\n",
    "catalogs2=v2.get_catalogs('J/AJ/156/18')\n",
    "tbl2=catalogs2[2]\n",
    "tbl2.sort('Per')\n",
    "print(tbl2)\n",
    "# Result: As of the writing of this tutorial, we have 24 stellar systems that meet our criteria, \n",
    "# but many of the periods are extremely long, so eclipses are unlikely to be observed by TESS."
   ]
  },
  {
   "cell_type": "code",
   "execution_count": 4,
   "metadata": {
    "scrolled": true
   },
   "outputs": [
    {
     "data": {
      "text/html": [
       "<div><i>Table length=5</i>\n",
       "<table id=\"table140505433331984\" class=\"table-striped table-bordered table-condensed\">\n",
       "<thead><tr><th>APOGEE</th><th>RAJ2000</th><th>DEJ2000</th><th>calib_level</th><th>obs_collection</th><th>obs_id</th><th>target_name</th><th>s_ra</th><th>s_dec</th><th>t_min</th><th>t_exptime</th><th>wavelength_region</th><th>filters</th><th>target_classification</th><th>t_obs_release</th><th>instrument_name</th><th>project</th><th>distance</th></tr></thead>\n",
       "<thead><tr><th>str18</th><th>float64</th><th>float64</th><th>int64</th><th>str4</th><th>str53</th><th>int64</th><th>float64</th><th>float64</th><th>float64</th><th>int64</th><th>str7</th><th>str4</th><th>int64</th><th>float64</th><th>str10</th><th>str4</th><th>int64</th></tr></thead>\n",
       "<tr><td>2M00085727+7341257</td><td>2.238636</td><td>73.690475</td><td>4</td><td>HLSP</td><td>hlsp_qlp_tess_ffi_s0018-0000000373283207_tess_v01_llc</td><td>373283207</td><td>2.23859187586</td><td>73.6904753894</td><td>58790.18018644</td><td>1800</td><td>Optical</td><td>TESS</td><td>--</td><td>59185.12138895</td><td>Photometer</td><td>TESS</td><td>0</td></tr>\n",
       "<tr><td>2M00085727+7341257</td><td>2.238636</td><td>73.690475</td><td>4</td><td>HLSP</td><td>hlsp_qlp_tess_ffi_s0025-0000000373283207_tess_v01_llc</td><td>373283207</td><td>2.23859187586</td><td>73.6904753894</td><td>58983.15378152</td><td>1800</td><td>Optical</td><td>TESS</td><td>--</td><td>59167.08523145</td><td>Photometer</td><td>TESS</td><td>0</td></tr>\n",
       "<tr><td>2M08112409+3251415</td><td>122.850404</td><td>32.861553</td><td>4</td><td>HLSP</td><td>hlsp_qlp_tess_ffi_s0020-0000000165853060_tess_v01_llc</td><td>165853060</td><td>122.850386903</td><td>32.8615681619</td><td>58842.0158634</td><td>1800</td><td>Optical</td><td>TESS</td><td>--</td><td>59177.41143517</td><td>Photometer</td><td>TESS</td><td>0</td></tr>\n",
       "<tr><td>2M00085727+7341257</td><td>2.238636</td><td>73.690475</td><td>4</td><td>HLSP</td><td>hlsp_qlp_tess_ffi_s0019-0000000373283207_tess_v01_llc</td><td>373283207</td><td>2.23859187586</td><td>73.6904753894</td><td>58815.59685655</td><td>1800</td><td>Optical</td><td>TESS</td><td>--</td><td>59181.05509258</td><td>Photometer</td><td>TESS</td><td>0</td></tr>\n",
       "<tr><td>2M00085727+7341257</td><td>2.238636</td><td>73.690475</td><td>4</td><td>HLSP</td><td>hlsp_qlp_tess_ffi_s0024-0000000373283207_tess_v01_llc</td><td>373283207</td><td>2.23859187586</td><td>73.6904753894</td><td>58955.2999708</td><td>1800</td><td>Optical</td><td>TESS</td><td>--</td><td>59170.23827551</td><td>Photometer</td><td>TESS</td><td>0</td></tr>\n",
       "</table></div>"
      ],
      "text/plain": [
       "<Table length=5>\n",
       "      APOGEE        RAJ2000    DEJ2000  ... instrument_name project distance\n",
       "      str18         float64    float64  ...      str10        str4   int64  \n",
       "------------------ ---------- --------- ... --------------- ------- --------\n",
       "2M00085727+7341257   2.238636 73.690475 ...      Photometer    TESS        0\n",
       "2M00085727+7341257   2.238636 73.690475 ...      Photometer    TESS        0\n",
       "2M08112409+3251415 122.850404 32.861553 ...      Photometer    TESS        0\n",
       "2M00085727+7341257   2.238636 73.690475 ...      Photometer    TESS        0\n",
       "2M00085727+7341257   2.238636 73.690475 ...      Photometer    TESS        0"
      ]
     },
     "execution_count": 4,
     "metadata": {},
     "output_type": "execute_result"
    }
   ],
   "source": [
    "# Before the Exercise 2 solution, this portion of the code reproduces the variable \"tbl\" from the main notebook.\n",
    "v=Vizier(columns=['APOGEE','Per','M1','M2min','qmin','RAJ2000', 'DEJ2000'],\n",
    "           column_filters={\"Per\":\"<100\",\"Conv\":\"=1\"})\n",
    "v.ROW_LIMIT = -1\n",
    "catalogs=v.get_catalogs('J/AJ/156/18')\n",
    "tbl=catalogs[2]\n",
    "tbl.sort('qmin')\n",
    "tbl.reverse()\n",
    "tbl=tbl[~tbl['qmin'].mask]\n",
    "# Exercise 2 Solution:\n",
    "ascii.write(tbl[['APOGEE','RAJ2000','DEJ2000']],'coords.csv',overwrite=True,delimiter=',')\n",
    "# Outside of the Jupyter notebook, you'll need to upload that file to the MAST portal. \n",
    "# The default filename for the results is 'MAST_Crossmatch_All_Observati.csv'\n",
    "# Be sure that file is in the same directory as this notebook. \n",
    "# At the time of the writing of this tutorial, the result table is 5 rows long. \n",
    "masttbl=ascii.read('MAST_Crossmatch_All_Observati.csv')\n",
    "masttbl\n",
    "# It seems the MAST portal is faster to actually perform the search, \n",
    "# but we do have to do more \"by hand\" to narrow down the observations to the ones we want.\n",
    "# However, this now gives us the option to export a list of all the TESS light curves we might like, \n",
    "# which we can sort by object, \n",
    "# instead of having to query the archive individually each time. "
   ]
  },
  {
   "cell_type": "markdown",
   "metadata": {},
   "source": [
    "***"
   ]
  },
  {
   "cell_type": "markdown",
   "metadata": {},
   "source": [
    "[Top of Page](#top)\n",
    "<img style=\"float: right;\" src=\"https://raw.githubusercontent.com/spacetelescope/notebooks/master/assets/stsci_pri_combo_mark_horizonal_white_bkgd.png\" alt=\"Space Telescope Logo\" width=\"200px\"/> "
   ]
  }
 ],
 "metadata": {
  "kernelspec": {
   "display_name": "Python 3",
   "language": "python",
   "name": "python3"
  },
  "language_info": {
   "codemirror_mode": {
    "name": "ipython",
    "version": 3
   },
   "file_extension": ".py",
   "mimetype": "text/x-python",
   "name": "python",
   "nbconvert_exporter": "python",
   "pygments_lexer": "ipython3",
   "version": "3.8.5"
  }
 },
 "nbformat": 4,
 "nbformat_minor": 2
}
