{
 "cells": [
  {
   "cell_type": "markdown",
   "metadata": {
    "slideshow": {
     "slide_type": "slide"
    }
   },
   "source": [
    "# Find Eclipsing Binary Star Candidates from a Radial Velocity Catalog on Vizier"
   ]
  },
  {
   "cell_type": "markdown",
   "metadata": {
    "slideshow": {
     "slide_type": "skip"
    }
   },
   "source": [
    "***"
   ]
  },
  {
   "cell_type": "markdown",
   "metadata": {},
   "source": [
    "## Learning Goals\n",
    "\n",
    "By the end of this tutorial, you will:\n",
    "\n",
    "- Use `astroquery` to load the APOGEE Binary Radial Velocity catalog from `Vizier`.\n",
    "- Find the binary candidates most likely to be observed as eclipsing binaries by using a set of parameters from the APOGEE catalog. \n",
    "- Determine if a candidate system in the APOGEE catalog has a light curve in either (a) the TESS Data for Asteroseismology Lightcurves archive from TASOC (the TESS Asteroseismic Science Operations Center) or (b) the TESS Lightcurves From The MIT Quick-Look Pipeline (\"QLP\") archive using `astroquery` and the MAST archive.\n",
    "\n",
    "This is Part 1 of a two-part tutorial. In a separate notebook for Part 2, `plot_analyze_with_lightkurve`, you will also:\n",
    "- Download and plot a light curve file using `astroquery.mast`.\n",
    "- Download and plot a collection of the light curves using `lightkurve`.\n",
    "- Create a periodogram of a collection of light curves to find the possible eclipsing binary period. "
   ]
  },
  {
   "cell_type": "markdown",
   "metadata": {
    "slideshow": {
     "slide_type": "slide"
    }
   },
   "source": [
    "## Introduction\n",
    "Just like extrasolar planets, binary star systems can be discovered by multiple methods. The two stars orbit around their mutual center of mass, so all three methods rely on detecting the signatures of this motion. Three of the methods are:\n",
    "\n",
    "1. Astrometry. For binaries whose plane of orbit is perpendicular (or nearly perpendicular) to our line of sight, we may be able to actually see stars (or just the primary star) moving back and forth relative to the more distant background stars. \n",
    "2. Radial velocity. For binaries whose plane of orbit is more aligned with our line of sight, their spectroscopic emission and absorption lines will be periodically blueshifted and redshifted as the star moves towards and away from us, respectively. In the catalog we will use, it is the radial velocity of only the primary (brighter) star that is detected. \n",
    "3. Eclipses. When the dimmer star passes in front of the brighter star, a notable drop in the brightness of the stellar system can be detected. This dip in brightness is analogous to the transit of an exoplanet in front of a star. Depending on the difference in brightness of the two stars, a secondary eclipse may also be detectable when the dimmer star passes behind the brighter star. \n",
    "\n",
    "The [Apache Point Observatory Galactic Evolution Experiment 2 (APOGEE-2)](https://www.sdss.org/surveys/apogee-2/) observed near-infrared spectra of hundreds of thousands of stars in our Milky Way. This survey was used to search for stars with spectral lines showing the tell-tale radial velocity shifts associated with stellar binaries. Near the end of the APOGEE-2 survey, the [Transiting Exoplanet Survey Satellite (TESS)](https://tess.mit.edu/) was launched to search for exoplanets using the transit method; eclipses of primary stars by companion stars would also be observed by TESS. Finding a stellar system that has been observed by both surveys would provide confirmation of the properties of the system. \n",
    "\n",
    "In this tutorial, we will load a catalog of binary stellar systems discovered through the radial velocity method and investigate if those systems also have light curves in the MAST archive from the TESS mission. Two sources for those already processed light curves are the TESS Data for Asteroseismology Lightcurves archive from TASOC (the TESS Asteroseismic Science Operations Center) or in the TESS Lightcurves From The MIT Quick-Look Pipeline (\"QLP\") archive. Though we'll focus on a narrow set of eclipsing binaries with previously-measured properties, the radial velocity catalog we'll be working with has nearly 5000 stellar systems that are yet to be fully characterized. \n",
    "\n",
    "In Part 2 (`plot_analyze_with_lightkurve`), we'll actually view and analyze the light curves. \n",
    "\n",
    "The workflow for this notebook consists of:\n",
    "- Loading the APOGEE Binary Radial Velocity catalog from VizieR\n",
    "- Narrowing down the list of stellar systems in the catalog's Table 4\n",
    "- Searching the TASOC and QLP archives for a light curve by coordinate\n",
    "- Exercises"
   ]
  },
  {
   "cell_type": "markdown",
   "metadata": {
    "slideshow": {
     "slide_type": "slide"
    }
   },
   "source": [
    "## Imports\n",
    "\n",
    "- *numpy* to handle array functions\n",
    "- *astropy.io fits* for accessing FITS files\n",
    "- *astropy.io ascii* for writing an astropy table to a .csv file (for an Exercise)\n",
    "- *astropy.table Table* for creating tidy tables of the data\n",
    "- *astropy.coordinates SkyCoord* for creating sky coordinate objects\n",
    "- *astropy.units* for coordinate units\n",
    "- *matplotlib.pyplot* for plotting data\n",
    "- *astroquery.mast Observations* for querying MAST for observations\n",
    "- *astroquery.vizier Vizier* for querying Vizier for published tables"
   ]
  },
  {
   "cell_type": "code",
   "execution_count": 1,
   "metadata": {
    "slideshow": {
     "slide_type": "fragment"
    }
   },
   "outputs": [],
   "source": [
    "%matplotlib inline\n",
    "import numpy as np\n",
    "from astropy.io import fits\n",
    "from astropy.io import ascii\n",
    "from astropy.table import Table\n",
    "from astropy.coordinates import SkyCoord\n",
    "from astropy import units as u\n",
    "import matplotlib.pyplot as plt\n",
    "from astroquery.mast import Observations\n",
    "from astroquery.vizier import Vizier"
   ]
  },
  {
   "cell_type": "markdown",
   "metadata": {},
   "source": [
    "***"
   ]
  },
  {
   "cell_type": "markdown",
   "metadata": {},
   "source": [
    "## Loading the APOGEE Binary Radial Velocity catalog from VizieR\n",
    "\n",
    "The catalogs and data tables produced for astrophysical publications in refereed journals are made accessible in digital form through the CDS VizieR catalog service. First, we'll use astroquery to find the tables associated with [Price-Whelan et al. 2018 (AJ, 156, 1, 18)](https://ui.adsabs.harvard.edu/abs/2018AJ....156...18P/abstract), a catalog of ~5000 binary companions of evolved stars in APOGEE DR14. "
   ]
  },
  {
   "cell_type": "markdown",
   "metadata": {},
   "source": [
    "If we didn't know the the specific 'key' or unique string that identifies the dataset we want, we could query Vizier by the author name. In the first query below, ```catalog_list1``` is an ordered dictionary. Alternatively, we could search for any catalogs that could be found with the key words 'APOGEE' and 'binary,' as we do for catalog_list2. More information about how to use VizieR can be found in [Astroquery:docs, VizieR Queries](https://astroquery.readthedocs.io/en/latest/vizier/vizier.html). "
   ]
  },
  {
   "cell_type": "code",
   "execution_count": 3,
   "metadata": {
    "slideshow": {
     "slide_type": "fragment"
    }
   },
   "outputs": [
    {
     "name": "stderr",
     "output_type": "stream",
     "text": [
      "WARNING: UnitsWarning: Unit 'Sun' not supported by the VOUnit standard. Did you mean uN? [astropy.units.format.vounit]\n"
     ]
    },
    {
     "name": "stdout",
     "output_type": "stream",
     "text": [
      "17 results for \"Price-Whelan\" query:\n",
      "{'J/ApJ/760/12': 'LIGO/Virgo gravitational-wave (GW) bursts with GRBs (Abadie+, 2012)', 'J/ApJ/785/119': 'Gravitational waves from known pulsars (Aasi+, 2014)', 'J/ApJ/809/59': 'Ophiuchus stellar stream with PS1 data (Sesar+, 2015)', 'J/ApJ/813/39': 'LIGO gravitational-wave (GW) searches from SNRs (Aasi+, 2015)', 'J/ApJ/816/L4': 'Candidate BHB stars in Ophiuchus stream (Sesar+, 2016)', 'J/ApJ/838/107': 'Distances to RRab stars from WISE and Gaia (Sesar+, 2017)', 'J/ApJ/854/47': 'RRab stars of Monoceros Ring & A13 overdensities (Sheffield+, 2018)', 'J/ApJ/859/L8': 'Properties of TriAnd stars (Hayes+, 2018)', 'J/ApJ/866/133': 'Continuum-H{beta} light curves of 5 Seyfert 1 (De Rosa+, 2018)', 'J/ApJ/887/19': 'DECam phot. of Gaia stars in Price-Whelan 1 (Price-Whelan+, 2019)', 'J/ApJ/887/115': 'Spectra of 28 stars in Price-Whelan 1 association (Nidever+, 2019)', 'J/ApJ/889/63': 'Properties of Sgr Stars (Hayes+, 2020)', 'J/AJ/153/257': 'Comoving stars in Gaia DR1 (Oh+, 2017)', 'J/AJ/156/18': 'APOGEE DR14:Binary companions of evolved stars (Price-Whelan+, 2018)', 'J/AJ/158/223': 'RR Lyrae members of the Pal 5 stellar stream (Price-Whelan+, 2019)', 'J/AJ/159/287': 'Stellar parameters in Ophiuchus Stream with MMT (Caldwell+, 2020)', 'J/AJ/160/90': 'Stellar parameters for 13196 Kepler dwarfs (Angus+, 2020)'}\n",
      "2 results for \"APOGEE binary\" query:\n",
      "{'J/AJ/156/18': 'APOGEE DR14:Binary companions of evolved stars (Price-Whelan+, 2018)', 'J/AJ/158/106': 'Eclipsing binaries RVs from APOGEE spectra (Cunningham+, 2019)'}\n"
     ]
    },
    {
     "name": "stderr",
     "output_type": "stream",
     "text": [
      "WARNING: UnitsWarning: Unit 'Sun' not supported by the VOUnit standard. Did you mean uN? [astropy.units.format.vounit]\n"
     ]
    }
   ],
   "source": [
    "catalog_list1 = Vizier.find_catalogs('Price-Whelan') \n",
    "print(str(len(catalog_list1.items()))+' results for \"Price-Whelan\" query:')\n",
    "print({k:v.description for k,v in catalog_list1.items()})\n",
    "catalog_list2 = Vizier.find_catalogs('APOGEE binary') \n",
    "print(str(len(catalog_list2.items()))+' results for \"APOGEE binary\" query:')\n",
    "print({k:v.description for k,v in catalog_list2.items()})"
   ]
  },
  {
   "cell_type": "markdown",
   "metadata": {},
   "source": [
    "Using either of the results above, we can find that 'J/AJ/156/18' is the key that matches the paper we were looking for. \n",
    "\n",
    "It's also possible to skip the searching step. When working with data from a publication, look for the \"Data Products\" or \"Related Materials\" sections of its entry in [ADS](https://ui.adsabs.harvard.edu/) for direct links to online supplemental material. In our case, \"Catalog: 2019yCat..51560018P\" is listed under related materials; this is the ADS entry for the catalog itself. \"CDS(1)\" is listed under \"Data Products\"; this is the link to the VizieR entry, where we can see that the catalog key is J/AJ/156/18. With this key, we can directly load all the tables in this catalog. "
   ]
  },
  {
   "cell_type": "code",
   "execution_count": 4,
   "metadata": {},
   "outputs": [
    {
     "name": "stdout",
     "output_type": "stream",
     "text": [
      "TableList with 8 tables:\n",
      "\t'0:J/AJ/156/18/table2' with 5 column(s) and 50 row(s) \n",
      "\t'1:J/AJ/156/18/table3' with 1 column(s) and 50 row(s) \n",
      "\t'2:J/AJ/156/18/table4a' with 13 column(s) and 50 row(s) \n",
      "\t'3:J/AJ/156/18/table4b' with 10 column(s) and 50 row(s) \n",
      "\t'4:J/AJ/156/18/table4c' with 12 column(s) and 50 row(s) \n",
      "\t'5:J/AJ/156/18/table5a' with 12 column(s) and 50 row(s) \n",
      "\t'6:J/AJ/156/18/table5b' with 6 column(s) and 50 row(s) \n",
      "\t'7:J/AJ/156/18/table5c' with 6 column(s) and 50 row(s) \n"
     ]
    },
    {
     "name": "stderr",
     "output_type": "stream",
     "text": [
      "WARNING: UnitsWarning: Unit 'Sun' not supported by the VOUnit standard. Did you mean uN? [astropy.units.format.vounit]\n"
     ]
    }
   ],
   "source": [
    "catalogs=Vizier.get_catalogs('J/AJ/156/18')\n",
    "print(catalogs)"
   ]
  },
  {
   "cell_type": "markdown",
   "metadata": {},
   "source": [
    "There are actually multiple tables available within this catalog entry, so we'll need to investigate more to find which ones contain the list of binary star systems. Furthermore, the title of the paper says there should be about 5000 sources in the catalog, so the \"50 row(s)\" shown above must mean our tables are being truncated. Using the command below, we'll remove the row limit and retrieve the catalog again. "
   ]
  },
  {
   "cell_type": "code",
   "execution_count": 5,
   "metadata": {},
   "outputs": [
    {
     "name": "stdout",
     "output_type": "stream",
     "text": [
      "TableList with 8 tables:\n",
      "\t'0:J/AJ/156/18/table2' with 5 column(s) and 96231 row(s) \n",
      "\t'1:J/AJ/156/18/table3' with 1 column(s) and 4898 row(s) \n",
      "\t'2:J/AJ/156/18/table4a' with 13 column(s) and 320 row(s) \n",
      "\t'3:J/AJ/156/18/table4b' with 10 column(s) and 320 row(s) \n",
      "\t'4:J/AJ/156/18/table4c' with 12 column(s) and 320 row(s) \n",
      "\t'5:J/AJ/156/18/table5a' with 12 column(s) and 212 row(s) \n",
      "\t'6:J/AJ/156/18/table5b' with 6 column(s) and 212 row(s) \n",
      "\t'7:J/AJ/156/18/table5c' with 6 column(s) and 212 row(s) \n"
     ]
    },
    {
     "name": "stderr",
     "output_type": "stream",
     "text": [
      "WARNING: UnitsWarning: Unit 'Sun' not supported by the VOUnit standard. Did you mean uN? [astropy.units.format.vounit]\n"
     ]
    }
   ],
   "source": [
    "Vizier.ROW_LIMIT = -1\n",
    "catalogs=Vizier.get_catalogs('J/AJ/156/18')\n",
    "print(catalogs)"
   ]
  },
  {
   "cell_type": "markdown",
   "metadata": {},
   "source": [
    "The tables in the TableList can be referenced by their integer number (```catalogs[0]```) or named key (```catalogs['J/AJ/156/18/table2']```). By the length alone, ```catalogs[1]``` appears to be the list of the nearly 5000 binary candidates. Reading the source paper itself lets us know exactly what these tables show:\n",
    "\n",
    "- Table 2 contains the 96,231 stars that were the parent sample for this work.\n",
    "- Table 3 contains the 4898 stars that likely have a companion, but orbital properties could not be constrained.\n",
    "- Tables 4a, 4b, and 4c contain the 320 systems with uniquely determined companion orbits.\n",
    "- Tables 5a, 5b, and 5c contain the 106 systems with two distinct companion orbit possibilities each.\n",
    "\n",
    "While any of these stars may have visible eclipses observed by TESS, we'll start our search with the most likely candidates. The larger the mass of the evolved star's companion, the brigher it will be, and the change in the observed luminosity of the stellar system will be the most pronounced during an eclipse. Furthermore, a system with a shorter orbital period will also be the most likely to have an eclipse (or even better, multiple eclipses) successfully observed by TESS. Let's focus on one of the stellar systems with already determined orbits (Table 4) to demonstrate how to find its corresponding light curve from TESS. "
   ]
  },
  {
   "cell_type": "markdown",
   "metadata": {},
   "source": [
    "## Narrowing down the list of stellar systems in the catalog's Table 4"
   ]
  },
  {
   "cell_type": "markdown",
   "metadata": {},
   "source": [
    "We need to see which columns of data are in which table, since Table 4 is separated into 3 parts. "
   ]
  },
  {
   "cell_type": "code",
   "execution_count": 6,
   "metadata": {},
   "outputs": [
    {
     "name": "stdout",
     "output_type": "stream",
     "text": [
      "<TableColumns names=('APOGEE','M0','omega','K','Teff','logg','__Fe_H_','logM','Jmag','Hmag','Ksmag','RAJ2000','DEJ2000')>\n",
      "<TableColumns names=('APOGEE','TeffA','loggA','Vmicro','Vmacro','vsini','__Z_H_','__a_M_','chi2A','TClass')>\n",
      "<TableColumns names=('APOGEE','__C_Fe_','__CI_Fe_','__N_Fe_','__O_Fe_','__Na_Fe_','__Mg_Fe_','_4.5magW','_4.5targ','EK','pmRA','pmDE')>\n"
     ]
    }
   ],
   "source": [
    "catids=[2,3,4]\n",
    "for i in catids:\n",
    "    print(catalogs[i].columns)"
   ]
  },
  {
   "cell_type": "markdown",
   "metadata": {},
   "source": [
    "We wanted to make our selections based on the period and the relative masses of the two stars in the system, but those columns are not included here! Not all columns are selected by default with VizieR. Visiting [the VizieR site itself for Table 4a](https://vizier.cfa.harvard.edu/viz-bin/VizieR-3?-source=J/AJ/156/18/table4a) shows us which columns are included by default as well as the names of the other columns we are missing. Let's redo our call to VizieR to specifically choose the columns we want. We can do this by creating a new instance of the ```VizierClass``` that will only include the columns we choose. From [Table 4a's online version in VizieR](https://vizier.cfa.harvard.edu/viz-bin/VizieR-3?-source=J/AJ/156/18/table4a), we can find the keys for the following columns:\n",
    "\n",
    "- APOGEE, the identifier used by APOGEE.\n",
    "- Per, the period in days.\n",
    "- M1, the primary mass estimate.\n",
    "- M2min, the minimum companion mass.\n",
    "- qmin, the minimum mass ratio.\n",
    "- RAJ2000, Right Ascension in decimal degrees (J2000)\n",
    "- DECJ2000, Declination in decimal degrees (J2000)\n",
    "- Conv, binary flag indicating whether the sampling converged.\n",
    "\n",
    "Additionally, we can also filter the rows to only include\n",
    "- those stellar systems that have a period of less than 100 days,\n",
    "- that also have a measured value of qmin, the minimum mass ratio of the companion to the primary star,\n",
    "- and that Conv=1 (True), which means the sampler did converge on a single period mode.\n",
    "\n",
    "For details on the derivation of these parameters, please refer to the [Price-Whelan et al. 2018](https://ui.adsabs.harvard.edu/abs/2018AJ....156...18P/abstract) paper. \n",
    "\n",
    "Finally, we'll rename Table 4a as tbl and sort it in ascending order by the stellar mass ratio, qmin."
   ]
  },
  {
   "cell_type": "code",
   "execution_count": 7,
   "metadata": {},
   "outputs": [
    {
     "name": "stdout",
     "output_type": "stream",
     "text": [
      "Number of systems meeting our selection criteria:\n",
      " 17\n",
      "      APOGEE          Per        M1     M2min     qmin    RAJ2000    DEJ2000  \n",
      "                       d      solMass  solMass              deg        deg    \n",
      "------------------ ---------- -------- -------- -------- ---------- ----------\n",
      "2M20183197+1953430   51.30696  1.96604  1.36037  0.69193 304.633241  19.895283\n",
      "2M00085727+7341257   83.66193  1.77608  1.12293  0.63225   2.238636  73.690475\n",
      "2M00092789+0145417    2.61133  0.78317  0.40848  0.52157   2.366216   1.761607\n",
      "2M07282763+2225408   80.29508  1.91156  0.97309  0.50906 112.115125  22.428013\n",
      "2M01210284+8431304   54.25957  2.25258  0.96650  0.42906  20.261862  84.525131\n",
      "2M04411627+5855354   56.05161  1.46516  0.61969  0.42295  70.317793  58.926521\n",
      "2M00104203+0152065   23.47142  0.92806  0.36483  0.39311   2.675149   1.868474\n",
      "2M07103169+0712585   62.37094  1.65363  0.58727  0.35514 107.632065   7.216252\n",
      "2M19364967+3813244   24.72355  0.88201  0.31293  0.35479 294.206988  38.223454\n",
      "2M19565473+2206194   98.82371  1.05631  0.21351  0.20213 299.228079  22.105410\n",
      "2M06181256+3148140   34.24248  1.51188  0.29579  0.19564  94.552351  31.803905\n",
      "2M08112409+3251415   23.04126  1.51613  0.21905  0.14448 122.850404  32.861553\n",
      "2M07282117+2232479   39.27491  1.08022  0.13520  0.12516 112.088243  22.546661\n",
      "2M21324071+1224030   69.63969  0.99542  0.10714  0.10763 323.169642  12.400843\n",
      "2M19301464+2613471   46.23300  1.53079  0.12880  0.08414 292.561020  26.229767\n",
      "2M18141209-0000109   12.25295  2.56392  0.19917  0.07768 273.550415  -0.003030\n",
      "2M05224382+4300425    1.77015  1.24633  0.05076  0.04073  80.682587  43.011822\n"
     ]
    }
   ],
   "source": [
    "v=Vizier(columns=['APOGEE','Per','M1','M2min','qmin','RAJ2000', 'DEJ2000'],\n",
    "           column_filters={\"Per\":\"<100\",\"Conv\":\"=1\"})\n",
    "v.ROW_LIMIT = -1\n",
    "catalogs=v.get_catalogs('J/AJ/156/18')\n",
    "tbl=catalogs[2]\n",
    "tbl.sort('qmin')\n",
    "tbl.reverse()\n",
    "tbl=tbl[~tbl['qmin'].mask]\n",
    "print(\"Number of systems meeting our selection criteria:\\n\",len(tbl))\n",
    "print(tbl)"
   ]
  },
  {
   "cell_type": "markdown",
   "metadata": {},
   "source": [
    "Our table has been narrowed down from 320 stellar systems to only 17 that meet our criteria."
   ]
  },
  {
   "cell_type": "markdown",
   "metadata": {},
   "source": [
    "## Searching the TASOC and QLP archives for a light curve by coordinate\n",
    "\n",
    "It's possible to search the MAST archive by object name, but the APOGEE names are not resolvable into a sky position. Instead, we will search by the RA and Dec coordinates. The default radius for a coordinate search is 0.2 degrees, or 720 arcseconds. For this tutorial, we will limit the search radius to 0; this may exclude some observations that are in fact of the same stellar system.\n",
    "\n",
    "Let's search the MAST archive for the first object in our table (```ind=0```) and examine the results."
   ]
  },
  {
   "cell_type": "code",
   "execution_count": 8,
   "metadata": {},
   "outputs": [
    {
     "name": "stdout",
     "output_type": "stream",
     "text": [
      "Searching for coordinate:  304.633 19.8953\n",
      "Number of observations in MAST:\n",
      " 20\n",
      "intentType obs_collection provenance_name instrument_name ... mtFlag srcDen  obsid   distance\n",
      "---------- -------------- --------------- --------------- ... ------ ------ -------- --------\n",
      "   science           TESS            SPOC      Photometer ...  False    nan 27463637      0.0\n",
      "   science           TESS            SPOC      Photometer ...  False    nan 62870782      0.0\n",
      "   science           TESS            SPOC      Photometer ...  False    nan 92616895      0.0\n",
      "   science           TESS            SPOC      Photometer ...  False    nan 95133352      0.0\n",
      "   science            PS1             3PI            GPC1 ...     -- 5885.0  2316686      0.0\n",
      "   science            PS1             3PI            GPC1 ...     -- 5885.0  2316687      0.0\n",
      "   science            PS1             3PI            GPC1 ...     -- 5885.0  2316688      0.0\n",
      "   science            PS1             3PI            GPC1 ...     -- 5885.0  2316689      0.0\n",
      "   science            PS1             3PI            GPC1 ...     -- 5885.0  2316690      0.0\n",
      "   science           JWST         CALJWST         NIRSPEC ...  False    nan 89362972      0.0\n",
      "   science           JWST         CALJWST         NIRSPEC ...  False    nan 88601104      0.0\n",
      "   science           JWST         CALJWST         NIRSPEC ...  False    nan 88607893      0.0\n",
      "   science           JWST         CALJWST         NIRSPEC ...  False    nan 91628497      0.0\n",
      "   science           JWST         CALJWST         NIRSPEC ...  False    nan 91628506      0.0\n",
      "   science           JWST         CALJWST         NIRSPEC ...  False    nan 90624244      0.0\n",
      "   science           JWST         CALJWST         NIRSPEC ...  False    nan 90624234      0.0\n",
      "   science           JWST         CALJWST         NIRSPEC ...  False    nan 87658606      0.0\n",
      "   science           JWST         CALJWST         NIRSPEC ...  False    nan 87635244      0.0\n",
      "   science           JWST         CALJWST         NIRSPEC ...  False    nan 90638358      0.0\n",
      "   science          GALEX             AIS           GALEX ...     -- 5885.0    28264      0.0\n"
     ]
    }
   ],
   "source": [
    "ind=0\n",
    "coord=SkyCoord(ra=tbl['RAJ2000'].data[ind]*u.degree, dec=tbl['DEJ2000'].data[ind]*u.degree, frame='icrs')\n",
    "print('Searching for coordinate: ',coord.to_string('decimal'))\n",
    "obs_tbl = Observations.query_region(coord, radius=0)\n",
    "print(\"Number of observations in MAST:\\n\",len(obs_tbl))\n",
    "print(obs_tbl)"
   ]
  },
  {
   "cell_type": "markdown",
   "metadata": {},
   "source": [
    "The MAST archive has multiple observations of this stellar system! However, we don't want to access the raw observations; we are interested in observations that have already been processed and transformed into a light curve; the light curve itself is what is called a \"High Level Science Product\" or HLSP. The products we want will have \"HLSP\" in the ```obs_collection``` column and \"TASOC\" or \"QLP\" in the ```provenance_name``` column.\n",
    "\n",
    "Let's instead write a short loop that will search the MAST archive for our whole table of coordinates and tell us which ones have TASOC or QLP light curves. Before the loop, we'll add a boolean column to ```tbl``` that will switch from False to True if a TASOC or QLP light curve is found. \n",
    "\n",
    "As you'll see, searching in a loop is very inefficient. It can take a while for our 17 rows, so trying to do this for all 5000 possible binary systems would be impractical. Instead, cross-referencing catalogs of that size would require e.g. the use of ```Casjobs``` or the use of the online MAST portal (see the second Exercise, below). "
   ]
  },
  {
   "cell_type": "code",
   "execution_count": 9,
   "metadata": {},
   "outputs": [],
   "source": [
    "n=len(tbl)\n",
    "col_TASOC = Table.Column(name='TASOC',data=np.full(n,False))\n",
    "col_QLP = Table.Column(name='QLP',data=np.full(n,False))\n",
    "if 'TASOC' not in tbl.colnames: \n",
    "    tbl.add_column(col_TASOC) # Can only add the column once.\n",
    "else:\n",
    "    tbl['TASOC']=col_TASOC\n",
    "if 'QLP' not in tbl.colnames: \n",
    "    tbl.add_column(col_QLP)\n",
    "else: \n",
    "    tbl['QLP']=col_QLP"
   ]
  },
  {
   "cell_type": "code",
   "execution_count": 10,
   "metadata": {},
   "outputs": [
    {
     "name": "stdout",
     "output_type": "stream",
     "text": [
      "Searching for index 0, coordinate: 304.633 19.8953\n",
      "Searching for index 1, coordinate: 2.23864 73.6905\n",
      "Found QLP light curve for index 1, coordinate: 2.23864 73.6905\n",
      "Searching for index 2, coordinate: 2.36622 1.76161\n",
      "Searching for index 3, coordinate: 112.115 22.428\n",
      "Searching for index 4, coordinate: 20.2619 84.5251\n",
      "Searching for index 5, coordinate: 70.3178 58.9265\n",
      "Searching for index 6, coordinate: 2.67515 1.86847\n",
      "Searching for index 7, coordinate: 107.632 7.21625\n",
      "Searching for index 8, coordinate: 294.207 38.2235\n",
      "Searching for index 9, coordinate: 299.228 22.1054\n",
      "Searching for index 10, coordinate: 94.5524 31.8039\n",
      "Searching for index 11, coordinate: 122.85 32.8616\n",
      "Found QLP light curve for index 11, coordinate: 122.85 32.8616\n",
      "Searching for index 12, coordinate: 112.088 22.5467\n",
      "Searching for index 13, coordinate: 323.17 12.4008\n",
      "Searching for index 14, coordinate: 292.561 26.2298\n",
      "Searching for index 15, coordinate: 273.55 -0.00303\n",
      "Searching for index 16, coordinate: 80.6826 43.0118\n",
      "Done.\n"
     ]
    }
   ],
   "source": [
    "for i in range(0,n):\n",
    "    coord=SkyCoord(ra=tbl['RAJ2000'].data[i]*u.degree, dec=tbl['DEJ2000'].data[i]*u.degree, frame='icrs')\n",
    "    obs_tbl = Observations.query_region(coord, radius=0)\n",
    "    \n",
    "    print('Searching for index '+str(i)+', coordinate: '+coord.to_string('decimal'))\n",
    "    if np.any(obs_tbl['provenance_name']=='TASOC'):\n",
    "        tbl['TASOC'][i]=True\n",
    "        print('Found TASOC light curve for index '+str(i)+', coordinate: '+coord.to_string('decimal'))\n",
    "    if np.any(obs_tbl['provenance_name']=='QLP'):\n",
    "        tbl['QLP'][i]=True\n",
    "        print('Found QLP light curve for index '+str(i)+', coordinate: '+coord.to_string('decimal'))\n",
    "print('Done.')"
   ]
  },
  {
   "cell_type": "code",
   "execution_count": 11,
   "metadata": {},
   "outputs": [
    {
     "name": "stdout",
     "output_type": "stream",
     "text": [
      "Total number of systems with TASOC light curves found: 0\n",
      "Total number of systems with QLP light curves found: 2\n"
     ]
    }
   ],
   "source": [
    "print('Total number of systems with TASOC light curves found: '+str(np.sum(tbl['TASOC'])))\n",
    "print('Total number of systems with QLP light curves found: '+str(np.sum(tbl['QLP'])))"
   ]
  },
  {
   "cell_type": "markdown",
   "metadata": {},
   "source": [
    "2 of our 17 likely candidates have QLP light curves with exact coordinate matches (as of the writing of this tutorial). Let's view the observations from MAST for the star that is index 1. We will narrow down the obs_tbl results to only those that are QLP light curves."
   ]
  },
  {
   "cell_type": "code",
   "execution_count": 12,
   "metadata": {},
   "outputs": [
    {
     "name": "stdout",
     "output_type": "stream",
     "text": [
      "intentType obs_collection provenance_name instrument_name ... mtFlag srcDen  obsid   distance\n",
      "---------- -------------- --------------- --------------- ... ------ ------ -------- --------\n",
      "   science           HLSP             QLP      Photometer ...  False    nan 39201475      0.0\n",
      "   science           HLSP             QLP      Photometer ...  False    nan 38106544      0.0\n",
      "   science           HLSP             QLP      Photometer ...  False    nan 34983240      0.0\n",
      "   science           HLSP             QLP      Photometer ...  False    nan 34099561      0.0\n"
     ]
    }
   ],
   "source": [
    "ind=1\n",
    "coord=SkyCoord(ra=tbl['RAJ2000'].data[ind]*u.degree, dec=tbl['DEJ2000'].data[ind]*u.degree, frame='icrs')\n",
    "obs_tbl = Observations.query_region(coord, radius=0)\n",
    "obs_tbl=obs_tbl[obs_tbl['provenance_name']=='QLP']\n",
    "print(obs_tbl)"
   ]
  },
  {
   "cell_type": "markdown",
   "metadata": {},
   "source": [
    "There are multiple light curves for this stellar system! In Part 2 of this tutorial, we will examine the light curves individually. "
   ]
  },
  {
   "cell_type": "markdown",
   "metadata": {},
   "source": [
    "## Exercises\n",
    "\n",
    "1. An alternative method to narrowing down candidates from Table 4a: Instead of filtering by ```Per``` and sorting by qmin, filter by some qmin value (such as > 0.3) and then sort by period from lowest to highest. Still require Conv=1. How do your resulting tables vary? Which one do you think would be most helpful in trying to find eclipses, and why? \n",
    "2. An alternative method to searching astroquery in a loop: Export the APOGEE name, RA, and Dec from our filtered version of Table 4a (`tbl`) above to a .csv file, and use the Upload Target List feature on the online MAST Portal to search for QLP and TASOC observations in bulk. Hint: After cross-referencing your uploaded list to all MAST observations, filter (in the left hand column) by Mission: HLSP and Product Type: time series. Reference the [Writing Tables](https://docs.astropy.org/en/stable/io/ascii/write.html) page of the astropy documentation and [Search a List of Targets](https://outerspace.stsci.edu/display/MASTDOCS/Search+a+List+of+Targets) from MAST for help. Export the data (list of all HLSP light curves) to a local file and load it into this notebook. Compared to our loop above, which method is faster? Which is easier to find what you need?"
   ]
  },
  {
   "cell_type": "code",
   "execution_count": 13,
   "metadata": {},
   "outputs": [],
   "source": [
    "# Place for code for Exercise 1"
   ]
  },
  {
   "cell_type": "code",
   "execution_count": 14,
   "metadata": {
    "scrolled": true
   },
   "outputs": [],
   "source": [
    "# Place for code for Exercise 2"
   ]
  },
  {
   "cell_type": "markdown",
   "metadata": {},
   "source": [
    "## Citations\n",
    "\n",
    "If you use `astropy`, `astroquery`, or `VizieR` for published research, please cite the\n",
    "authors. Follow these links for more information about citing these tools:\n",
    "\n",
    "* [Citing `astropy`](https://www.astropy.org/acknowledging.html)\n",
    "* If you use astroquery, please cite the paper [Ginsburg, Sipőcz, Brasseur et al 2019](https://ui.adsabs.harvard.edu/abs/2019AJ....157...98G/abstract).\n",
    "* [Citing `VizieR`](https://cds.unistra.fr/vizier-org/licences_vizier.html?#copyrightvizier)"
   ]
  },
  {
   "cell_type": "markdown",
   "metadata": {
    "slideshow": {
     "slide_type": "slide"
    }
   },
   "source": [
    "## About this Notebook\n",
    "\n",
    "**Author:** Julia Kamenetzky, ScienceBetter Consultant  \n",
    "**Last Updated:** Sep 2022  \n",
    "**Next Review:** Mar 2023\n",
    "\n",
    "For support, please contact the Archive HelpDesk at archive@stsci.edu."
   ]
  },
  {
   "cell_type": "markdown",
   "metadata": {},
   "source": [
    "***"
   ]
  },
  {
   "cell_type": "markdown",
   "metadata": {},
   "source": [
    "[Top of Page](#top)\n",
    "<img style=\"float: right;\" src=\"https://raw.githubusercontent.com/spacetelescope/notebooks/master/assets/stsci_pri_combo_mark_horizonal_white_bkgd.png\" alt=\"Space Telescope Logo\" width=\"200px\"/> "
   ]
  }
 ],
 "metadata": {
  "kernelspec": {
   "display_name": "Python 3 (ipykernel)",
   "language": "python",
   "name": "python3"
  },
  "language_info": {
   "codemirror_mode": {
    "name": "ipython",
    "version": 3
   },
   "file_extension": ".py",
   "mimetype": "text/x-python",
   "name": "python",
   "nbconvert_exporter": "python",
   "pygments_lexer": "ipython3",
   "version": "3.9.12"
  }
 },
 "nbformat": 4,
 "nbformat_minor": 2
}
