{
 "cells": [
  {
   "cell_type": "markdown",
   "id": "299914c2",
   "metadata": {},
   "source": [
    "<a id=\"top\"></a>"
   ]
  },
  {
   "cell_type": "markdown",
   "id": "34e84478",
   "metadata": {},
   "source": [
    "# Characterizing M dwarfs with MAST: Downloading HST data"
   ]
  },
  {
   "cell_type": "markdown",
   "id": "efd95862",
   "metadata": {
    "ExecuteTime": {
     "end_time": "2022-08-14T16:26:30.013712Z",
     "start_time": "2022-08-14T16:26:29.999705Z"
    }
   },
   "source": [
    "***"
   ]
  },
  {
   "cell_type": "markdown",
   "id": "03bc01b0",
   "metadata": {},
   "source": [
    "# Learning goals\n",
    "By the end of this tutorial, you will:\n",
    "- Understand how to find high proper motion targets over multiple years with Hubble Space Telescope data.\n",
    "- Be able to extract World Coordinate System (WCS) information from downloaded FITS image headers.\n"
   ]
  },
  {
   "cell_type": "markdown",
   "id": "a75860de",
   "metadata": {},
   "source": [
    "# Introduction\n",
    "M dwarfs are the lowest-mass stars that undergo nuclear fusion. There are a broad range of science cases that motivate understanding M dwarf behavior, from stellar physics (e.g., connecting flare rates to [stellar age](https://iopscience.iop.org/article/10.1088/0004-6256/140/5/1402/meta) and [rotation period](https://iopscience.iop.org/article/10.3847/1538-4357/abc686/meta)) and exoplanet science (e.g., modeling [atmospheric chemical stability](https://iopscience.iop.org/article/10.1088/0004-637X/806/2/249/meta) and [habitability](https://www.sciencedirect.com/science/article/abs/pii/S0370157316303179?casa_token=CgdZouwvNqUAAAAA:H7jREjaKAQcw0CHRCoIenNht8XEruxUeOPbR0yOcFE8NXOBv8trOLsQYh64K1fVtIyHVK2SwZaGe)). \n",
    "\n",
    "Because of their intrinsically low luminosity, M dwarfs are often close to the Sun — and therefore can have high proper motions on the sky. Downloading and extracting these data can therefore be non-trivial, as querying MAST for these targets by target name may not return HST exposures of other targets that overlap with the bigh proper motion target of interest.\n",
    "\n",
    "This tutorial begins a series exploring how to use MAST data for such purposes, starting with querying and downloading Hubble Space Telescope ([HST](https://archive.stsci.edu/missions-and-data/hst)) data for M dwarfs. The series will continue on to demonstrate how to connect these HST data to shorter-cadence data from, e.g., the Transiting Exoplanet Survey Satellite ([TESS](https://archive.stsci.edu/missions-and-data/tess)).\n",
    "\n",
    "The workflow for this notebook consists of:\n",
    "\n",
    "- [Download M dwarf coordinates](#Download-M-dwarf-coordinates)\n",
    "- [Download HST data](#Download-HST-data)\n",
    "- [Plot HST data](#Plot-HST-data)"
   ]
  },
  {
   "cell_type": "markdown",
   "id": "770ed275",
   "metadata": {},
   "source": [
    "# Imports\n",
    "- numpy to help aggregate our metadata.\n",
    "- pandas to sort through our list of M dwarfs.\n",
    "- sys (Python builtin) to read our machine's Python version.\n",
    "- astroquery.mast to interact with MAST data products.\n",
    "- astropy to provide data structures that organize our metadata, units functionality, and coordinates functionality."
   ]
  },
  {
   "cell_type": "code",
   "execution_count": 15,
   "id": "f6b4197e",
   "metadata": {
    "ExecuteTime": {
     "end_time": "2022-09-28T04:25:18.266939Z",
     "start_time": "2022-09-28T04:25:18.257532Z"
    }
   },
   "outputs": [],
   "source": [
    "import pandas as pd\n",
    "\n",
    "from astropy.coordinates import position_angle\n",
    "\n",
    "import matplotlib.pyplot as plt\n",
    "\n",
    "import astropy.units as u\n",
    "from astropy.time import Time\n",
    "from astropy.coordinates import SkyCoord\n",
    "\n",
    "from astroquery.mast import Observations\n",
    "import numpy as np\n",
    "import astropy.io.fits as fits\n",
    "from astropy.table import Table, vstack, unique\n",
    "from astropy.time import TimeDelta\n",
    "from astroquery.vizier import Vizier"
   ]
  },
  {
   "cell_type": "markdown",
   "id": "b09eedcc",
   "metadata": {},
   "source": [
    "# Download M dwarf coordinates"
   ]
  },
  {
   "cell_type": "markdown",
   "id": "0ec66a97",
   "metadata": {},
   "source": [
    "There exist a number of catalogs of nearby M dwarfs. For this exercise, we will use data from [Winters et al. 2021](https://iopscience.iop.org/article/10.3847/1538-3881/abcc74/meta).\n",
    "\n",
    "These data are hosted on [CDS VizieR](https://vizier.cfa.harvard.edu/viz-bin/VizieR), an astronomical catalog service. We can use `astroquery` to access the VizieR data.\n",
    "\n",
    "First, we need to reset the row limit to our query so that our results are not limited to 50 entries."
   ]
  },
  {
   "cell_type": "code",
   "execution_count": 31,
   "id": "bd4e057e",
   "metadata": {},
   "outputs": [],
   "source": [
    "Vizier.ROW_LIMIT = -1"
   ]
  },
  {
   "cell_type": "markdown",
   "id": "27d9dcff",
   "metadata": {},
   "source": [
    "Next, we access the catalog using the VizieR listing corresponding to this study: J/AJ/161/63/."
   ]
  },
  {
   "cell_type": "code",
   "execution_count": 33,
   "id": "8f27c086",
   "metadata": {},
   "outputs": [
    {
     "name": "stdout",
     "output_type": "stream",
     "text": [
      "TableList with 2 tables:\n",
      "\t'0:J/AJ/161/63/table3' with 34 column(s) and 512 row(s) \n",
      "\t'1:J/AJ/161/63/table4' with 26 column(s) and 120 row(s) \n"
     ]
    }
   ],
   "source": [
    "catalogs=Vizier.get_catalogs('J/AJ/161/63/')\n",
    "print(catalogs)\n"
   ]
  },
  {
   "cell_type": "markdown",
   "id": "62612d12",
   "metadata": {},
   "source": [
    "There are two tables associated with this study. `table3` lists the source information for the 512 M dwarfs listed in the study, so we'll make use of it for the rest of this notebook."
   ]
  },
  {
   "cell_type": "code",
   "execution_count": 71,
   "id": "0182d281",
   "metadata": {},
   "outputs": [
    {
     "data": {
      "text/html": [
       "<div><i>Table length=512</i>\n",
       "<table id=\"table4902618160\" class=\"table-striped table-bordered table-condensed\">\n",
       "<thead><tr><th>RAJ2000</th><th>DEJ2000</th><th>Name</th><th>Comp</th><th>_2MASS</th><th>Conf</th><th>l_Sep</th><th>Sep</th><th>PA</th><th>Date</th><th>Tech</th><th>DelMag</th><th>Filt</th><th>pmRA</th><th>pmDE</th><th>plx-DR2</th><th>n_plx-DR2</th><th>epsi</th><th>sepsi</th><th>plx-lit</th><th>Gmag</th><th>BpRp</th><th>Vmag</th><th>Rmag</th><th>Imag</th><th>Rtmag</th><th>Jmag</th><th>Hmag</th><th>Kmag</th><th>n_Kmag</th><th>Mass</th><th>n_Mass</th><th>Memb</th><th>SimbadName</th></tr></thead>\n",
       "<thead><tr><th>&apos;h:m:s&apos;</th><th>&apos;d:m:s&apos;</th><th></th><th></th><th></th><th></th><th></th><th>arcsec</th><th>deg</th><th></th><th></th><th>mag</th><th></th><th>mas / yr</th><th>mas / yr</th><th>mas</th><th></th><th>mas</th><th></th><th>mas</th><th>mag</th><th>mag</th><th>mag</th><th>mag</th><th>mag</th><th>mag</th><th>mag</th><th>mag</th><th>mag</th><th></th><th>solMass</th><th></th><th></th><th></th></tr></thead>\n",
       "<thead><tr><th>str11</th><th>str11</th><th>str15</th><th>str1</th><th>str16</th><th>str5</th><th>str1</th><th>float64</th><th>str3</th><th>int16</th><th>str6</th><th>float32</th><th>str3</th><th>float64</th><th>float64</th><th>float64</th><th>str2</th><th>float32</th><th>float64</th><th>float32</th><th>float32</th><th>float32</th><th>float32</th><th>float32</th><th>float32</th><th>float32</th><th>float32</th><th>float32</th><th>float32</th><th>str1</th><th>float32</th><th>str1</th><th>str2</th><th>str25</th></tr></thead>\n",
       "<tr><td>00 04 36.46</td><td>-40 44 02.7</td><td>GJ 1001</td><td>A</td><td>00043643-4044020</td><td>A-BC</td><td></td><td>18.2000</td><td>259</td><td>2003</td><td>visdet</td><td>9.91</td><td>V</td><td>677.72</td><td>-1505.11</td><td>81.2282</td><td></td><td>0.28</td><td>45.40</td><td>79.87</td><td>11.4995</td><td>2.7958</td><td>12.86</td><td>11.64</td><td>10.10</td><td>--</td><td>8.601</td><td>8.043</td><td>7.737</td><td></td><td>0.262</td><td></td><td>s</td><td>GJ 1001</td></tr>\n",
       "<tr><td>00 06 43.19</td><td>-07 32 17.0</td><td>GJ 1002</td><td></td><td>00064325-0732147</td><td></td><td></td><td>--</td><td></td><td>--</td><td></td><td>--</td><td></td><td>-811.48</td><td>-1892.90</td><td>206.2134</td><td></td><td>0.36</td><td>63.80</td><td>208.00</td><td>11.7804</td><td>3.6914</td><td>13.77</td><td>12.16</td><td>10.15</td><td>--</td><td>8.323</td><td>7.792</td><td>7.439</td><td></td><td>0.115</td><td></td><td>s</td><td>GJ 1002</td></tr>\n",
       "<tr><td>00 08 55.17</td><td>+49 18 56.3</td><td>LP 191-43</td><td></td><td>00085512+4918561</td><td></td><td></td><td>--</td><td></td><td>--</td><td></td><td>--</td><td></td><td>352.85</td><td>202.29</td><td>67.7454</td><td></td><td>0.54</td><td>71.60</td><td>72.30</td><td>14.4091</td><td>3.7831</td><td>--</td><td>--</td><td>--</td><td>14.8</td><td>10.864</td><td>10.320</td><td>9.980</td><td></td><td>0.111</td><td></td><td>s</td><td>LP 191-43</td></tr>\n",
       "<tr><td>00 11 31.81</td><td>+59 08 39.9</td><td>LSPM 0011+5908</td><td></td><td>00113182+5908400</td><td></td><td></td><td>--</td><td></td><td>--</td><td></td><td>--</td><td></td><td>-905.70</td><td>-1166.80</td><td>107.4214</td><td></td><td>0.55</td><td>85.90</td><td>108.43</td><td>13.4914</td><td>3.8302</td><td>15.63</td><td>13.95</td><td>11.91</td><td>--</td><td>9.945</td><td>9.393</td><td>9.093</td><td></td><td>0.107</td><td></td><td>s</td><td>LSPM J0011+5908</td></tr>\n",
       "<tr><td>00 15 28.07</td><td>-16 08 01.8</td><td>GJ 1005</td><td>A</td><td>00152799-1608008</td><td>AB</td><td></td><td>0.3037</td><td>orb</td><td>1997</td><td>astrad</td><td>1.23</td><td>Ks</td><td>731.70</td><td>-607.47</td><td>--</td><td>2p</td><td>--</td><td>--</td><td>168.42</td><td>10.1475</td><td>2.8333</td><td>11.48</td><td>10.27</td><td>8.70</td><td>--</td><td>7.215</td><td>6.712</td><td>6.390</td><td>J</td><td>0.179</td><td>c</td><td>s</td><td>GJ 1005</td></tr>\n",
       "<tr><td>00 15 28.07</td><td>-16 08 01.8</td><td>GJ 1005</td><td>B</td><td></td><td>AB</td><td></td><td>0.3037</td><td>orb</td><td>1997</td><td>astrad</td><td>1.23</td><td>Ks</td><td>731.70</td><td>-607.47</td><td>--</td><td>2p</td><td>--</td><td>--</td><td>168.42</td><td>--</td><td>--</td><td>--</td><td>--</td><td>--</td><td>--</td><td>--</td><td>--</td><td>--</td><td></td><td>0.112</td><td>c</td><td>sc</td><td>GJ 1005</td></tr>\n",
       "<tr><td>00 15 49.25</td><td>+13 33 22.3</td><td>GJ 12</td><td></td><td>00154919+1333218</td><td></td><td></td><td>--</td><td></td><td>--</td><td></td><td>--</td><td></td><td>618.00</td><td>329.31</td><td>81.8711</td><td></td><td>0.18</td><td>15.00</td><td>89.16</td><td>11.3963</td><td>2.6054</td><td>12.61</td><td>11.46</td><td>10.04</td><td>--</td><td>8.619</td><td>8.068</td><td>7.807</td><td></td><td>0.249</td><td></td><td>s</td><td>GJ 12</td></tr>\n",
       "<tr><td>00 18 25.81</td><td>+44 01 38.0</td><td>GJ 15</td><td>B</td><td>00182549+4401376</td><td>AB</td><td></td><td>35.1500</td><td>064</td><td>1999</td><td>visdet</td><td>2.97</td><td>V</td><td>2863.28</td><td>336.52</td><td>280.7866</td><td></td><td>0.13</td><td>10.60</td><td>280.00</td><td>9.6774</td><td>2.8421</td><td>11.07</td><td>9.82</td><td>8.34</td><td>--</td><td>6.789</td><td>6.191</td><td>5.948</td><td></td><td>0.157</td><td></td><td>s</td><td>GJ 15 B</td></tr>\n",
       "<tr><td>00 20 29.40</td><td>+33 05 06.4</td><td>LHS 112</td><td></td><td>00202922+3305081</td><td></td><td></td><td>--</td><td></td><td>--</td><td></td><td>--</td><td></td><td>1075.52</td><td>-863.65</td><td>81.6314</td><td></td><td>0.52</td><td>69.40</td><td>84.97</td><td>13.9610</td><td>3.8820</td><td>16.09</td><td>14.41</td><td>12.36</td><td>--</td><td>10.284</td><td>9.691</td><td>9.330</td><td></td><td>0.119</td><td></td><td>s</td><td>LHS 112</td></tr>\n",
       "<tr><td>00 24 44.19</td><td>-27 08 24.2</td><td>GJ 2005</td><td>A</td><td>00244419-2708242</td><td>A-BC</td><td></td><td>1.5710</td><td>027</td><td>2008</td><td>astdet</td><td>0.61</td><td>K</td><td>-132.62</td><td>640.41</td><td>--</td><td>2p</td><td>--</td><td>--</td><td>129.71</td><td>13.0942</td><td>3.9669</td><td>15.28</td><td>13.52</td><td>11.37</td><td>--</td><td>9.254</td><td>8.547</td><td>8.241</td><td>J</td><td>0.106</td><td>v</td><td>s</td><td>GJ 2005</td></tr>\n",
       "<tr><td>...</td><td>...</td><td>...</td><td>...</td><td>...</td><td>...</td><td>...</td><td>...</td><td>...</td><td>...</td><td>...</td><td>...</td><td>...</td><td>...</td><td>...</td><td>...</td><td>...</td><td>...</td><td>...</td><td>...</td><td>...</td><td>...</td><td>...</td><td>...</td><td>...</td><td>...</td><td>...</td><td>...</td><td>...</td><td>...</td><td>...</td><td>...</td><td>...</td><td>...</td></tr>\n",
       "<tr><td>23 30 38.19</td><td>-84 55 18.9</td><td>LEHPM 2-2163</td><td></td><td>23303802-8455189</td><td></td><td></td><td>--</td><td></td><td>--</td><td></td><td>--</td><td></td><td>-272.15</td><td>-62.86</td><td>78.5808</td><td></td><td>0.31</td><td>43.50</td><td>--</td><td>12.9045</td><td>3.0565</td><td>14.49</td><td>13.11</td><td>11.42</td><td>--</td><td>9.835</td><td>9.305</td><td>8.995</td><td></td><td>0.138</td><td></td><td>s</td><td>LEHPM 2163</td></tr>\n",
       "<tr><td>23 31 52.53</td><td>+19 56 13.9</td><td>GJ 896</td><td>B</td><td>23315244+1956138</td><td>AB</td><td></td><td>5.3510</td><td>088</td><td>2004</td><td>astdet</td><td>2.12</td><td>V</td><td>553.47</td><td>20.33</td><td>160.0598</td><td></td><td>0.33</td><td>55.50</td><td>159.88</td><td>10.8188</td><td>3.1720</td><td>12.41</td><td>11.05</td><td>9.30</td><td>--</td><td>7.101</td><td>6.555</td><td>6.262</td><td></td><td>0.262</td><td></td><td>s</td><td>GJ 896</td></tr>\n",
       "<tr><td>23 35 10.47</td><td>-02 23 20.8</td><td>GJ 1286</td><td></td><td>23351050-0223214</td><td></td><td></td><td>--</td><td></td><td>--</td><td></td><td>--</td><td></td><td>781.66</td><td>-841.42</td><td>139.3100</td><td></td><td>0.27</td><td>25.50</td><td>138.72</td><td>12.6402</td><td>3.7206</td><td>14.67</td><td>13.08</td><td>11.03</td><td>--</td><td>9.148</td><td>8.505</td><td>8.183</td><td></td><td>0.118</td><td></td><td>s</td><td>GJ 1286</td></tr>\n",
       "<tr><td>23 36 52.31</td><td>-36 28 51.8</td><td>LHS 547</td><td></td><td>23365227-3628518</td><td></td><td></td><td>--</td><td></td><td>--</td><td></td><td>--</td><td></td><td>1175.50</td><td>59.37</td><td>83.5581</td><td></td><td>0.19</td><td>10.70</td><td>85.33</td><td>12.2526</td><td>3.0259</td><td>13.76</td><td>12.46</td><td>10.79</td><td>--</td><td>9.191</td><td>8.666</td><td>8.422</td><td></td><td>0.171</td><td></td><td>s</td><td>LHS 547</td></tr>\n",
       "<tr><td>23 37 35.99</td><td>+16 22 03.2</td><td>LP 463-23</td><td></td><td>23373601+1622031</td><td></td><td></td><td>--</td><td></td><td>--</td><td></td><td>--</td><td></td><td>361.16</td><td>-63.20</td><td>72.9284</td><td></td><td>0.57</td><td>96.50</td><td>75.30</td><td>14.0219</td><td>3.6904</td><td>--</td><td>--</td><td>--</td><td>14.4</td><td>10.479</td><td>9.892</td><td>9.616</td><td></td><td>0.117</td><td></td><td>s</td><td>LP 463-23</td></tr>\n",
       "<tr><td>23 41 55.00</td><td>+44 10 38.9</td><td>GJ 905</td><td></td><td>23415498+4410407</td><td></td><td></td><td>--</td><td></td><td>--</td><td></td><td>--</td><td></td><td>112.69</td><td>-1592.05</td><td>316.9558</td><td></td><td>0.37</td><td>62.00</td><td>316.05</td><td>10.3655</td><td>3.5311</td><td>12.29</td><td>10.77</td><td>8.85</td><td>--</td><td>6.884</td><td>6.247</td><td>5.929</td><td></td><td>0.140</td><td></td><td>s</td><td>GJ 905</td></tr>\n",
       "<tr><td>23 42 52.74</td><td>+30 49 21.8</td><td>GJ 1288</td><td></td><td>23425274+3049219</td><td></td><td></td><td>--</td><td></td><td>--</td><td></td><td>--</td><td></td><td>-336.12</td><td>-300.52</td><td>77.9876</td><td></td><td>0.27</td><td>50.10</td><td>80.37</td><td>12.8140</td><td>3.1336</td><td>14.36</td><td>13.02</td><td>99.99</td><td>--</td><td>9.637</td><td>9.081</td><td>8.814</td><td></td><td>0.151</td><td></td><td>s</td><td>GJ 1288</td></tr>\n",
       "<tr><td>23 43 06.31</td><td>+36 32 13.2</td><td>GJ 1289</td><td></td><td>23430628+3632132</td><td></td><td></td><td>--</td><td></td><td>--</td><td></td><td>--</td><td></td><td>942.26</td><td>-151.39</td><td>119.7106</td><td></td><td>0.34</td><td>62.70</td><td>123.53</td><td>11.1534</td><td>3.0169</td><td>12.57</td><td>11.30</td><td>9.67</td><td>--</td><td>8.110</td><td>7.446</td><td>7.226</td><td></td><td>0.216</td><td></td><td>s</td><td>GJ 1289</td></tr>\n",
       "<tr><td>23 45 31.26</td><td>-16 10 20.1</td><td>LHS 4009</td><td>A</td><td>23453127-1610198</td><td>AB</td><td></td><td>0.0670</td><td>250</td><td>2005</td><td>AO det</td><td>0.14</td><td>K&apos;</td><td>-403.82</td><td>-535.88</td><td>--</td><td>n</td><td>--</td><td>--</td><td>79.97</td><td>--</td><td>--</td><td>14.38</td><td>12.90</td><td>10.99</td><td>--</td><td>9.206</td><td>8.614</td><td>8.312</td><td>J</td><td>0.136</td><td>v</td><td>s</td><td>LHS 4009</td></tr>\n",
       "<tr><td>23 45 31.26</td><td>-16 10 20.1</td><td>LHS 4009</td><td>B</td><td></td><td>AB</td><td></td><td>0.0670</td><td>250</td><td>2005</td><td>AO det</td><td>0.14</td><td>K&apos;</td><td>-403.82</td><td>-535.88</td><td>--</td><td>n</td><td>--</td><td>--</td><td>79.97</td><td>--</td><td>--</td><td>--</td><td>--</td><td>--</td><td>--</td><td>--</td><td>--</td><td>--</td><td></td><td>0.129</td><td>v</td><td>sc</td><td>LHS 4009</td></tr>\n",
       "<tr><td>23 53 25.21</td><td>-70 56 41.1</td><td>L 85-31</td><td></td><td>23532520-7056410</td><td></td><td></td><td>--</td><td></td><td>--</td><td></td><td>--</td><td></td><td>315.41</td><td>33.21</td><td>80.9932</td><td></td><td>0.14</td><td>9.98</td><td>80.52</td><td>11.6320</td><td>2.8704</td><td>13.01</td><td>11.78</td><td>10.18</td><td>--</td><td>8.683</td><td>8.100</td><td>7.779</td><td></td><td>0.257</td><td></td><td>s</td><td>L 85-31</td></tr>\n",
       "</table></div>"
      ],
      "text/plain": [
       "<Table length=512>\n",
       "  RAJ2000     DEJ2000        Name      Comp      _2MASS      Conf ... n_Kmag   Mass  n_Mass Memb    SimbadName  \n",
       "  'h:m:s'     'd:m:s'                                             ...        solMass                            \n",
       "   str11       str11        str15      str1      str16       str5 ...  str1  float32  str1  str2      str25     \n",
       "----------- ----------- -------------- ---- ---------------- ---- ... ------ ------- ------ ---- ---------------\n",
       "00 04 36.46 -40 44 02.7        GJ 1001    A 00043643-4044020 A-BC ...          0.262           s         GJ 1001\n",
       "00 06 43.19 -07 32 17.0        GJ 1002      00064325-0732147      ...          0.115           s         GJ 1002\n",
       "00 08 55.17 +49 18 56.3      LP 191-43      00085512+4918561      ...          0.111           s       LP 191-43\n",
       "00 11 31.81 +59 08 39.9 LSPM 0011+5908      00113182+5908400      ...          0.107           s LSPM J0011+5908\n",
       "00 15 28.07 -16 08 01.8        GJ 1005    A 00152799-1608008   AB ...      J   0.179      c    s         GJ 1005\n",
       "00 15 28.07 -16 08 01.8        GJ 1005    B                    AB ...          0.112      c   sc         GJ 1005\n",
       "00 15 49.25 +13 33 22.3          GJ 12      00154919+1333218      ...          0.249           s           GJ 12\n",
       "00 18 25.81 +44 01 38.0          GJ 15    B 00182549+4401376   AB ...          0.157           s         GJ 15 B\n",
       "00 20 29.40 +33 05 06.4        LHS 112      00202922+3305081      ...          0.119           s         LHS 112\n",
       "00 24 44.19 -27 08 24.2        GJ 2005    A 00244419-2708242 A-BC ...      J   0.106      v    s         GJ 2005\n",
       "        ...         ...            ...  ...              ...  ... ...    ...     ...    ...  ...             ...\n",
       "23 30 38.19 -84 55 18.9   LEHPM 2-2163      23303802-8455189      ...          0.138           s      LEHPM 2163\n",
       "23 31 52.53 +19 56 13.9         GJ 896    B 23315244+1956138   AB ...          0.262           s          GJ 896\n",
       "23 35 10.47 -02 23 20.8        GJ 1286      23351050-0223214      ...          0.118           s         GJ 1286\n",
       "23 36 52.31 -36 28 51.8        LHS 547      23365227-3628518      ...          0.171           s         LHS 547\n",
       "23 37 35.99 +16 22 03.2      LP 463-23      23373601+1622031      ...          0.117           s       LP 463-23\n",
       "23 41 55.00 +44 10 38.9         GJ 905      23415498+4410407      ...          0.140           s          GJ 905\n",
       "23 42 52.74 +30 49 21.8        GJ 1288      23425274+3049219      ...          0.151           s         GJ 1288\n",
       "23 43 06.31 +36 32 13.2        GJ 1289      23430628+3632132      ...          0.216           s         GJ 1289\n",
       "23 45 31.26 -16 10 20.1       LHS 4009    A 23453127-1610198   AB ...      J   0.136      v    s        LHS 4009\n",
       "23 45 31.26 -16 10 20.1       LHS 4009    B                    AB ...          0.129      v   sc        LHS 4009\n",
       "23 53 25.21 -70 56 41.1        L 85-31      23532520-7056410      ...          0.257           s         L 85-31"
      ]
     },
     "execution_count": 71,
     "metadata": {},
     "output_type": "execute_result"
    }
   ],
   "source": [
    "df = catalogs[0]\n",
    "df"
   ]
  },
  {
   "cell_type": "markdown",
   "id": "a619702c",
   "metadata": {},
   "source": [
    "This `Table` includes a number of different columns. We'll be most interested in the `RAJ2000` (right ascension at the J2000 epoch), `DEJ2000` (declination at the J2000 epoch), `pmDE` (proper motion in the DE coordinate), and `pmRA` (proper motion in the RA coordinate) columns. The J2000 epoch is a standard reference frame used for celestial positions, providing a system in which positions of moving objects can be compared on equal footing."
   ]
  },
  {
   "cell_type": "markdown",
   "id": "e92ccdf5",
   "metadata": {},
   "source": [
    "There are a lot of high proper motion targets here. Let's choose Proxima Centauri to analyze further — it's been a target of a high number of investigations over the years. [Arjun note — cite?]"
   ]
  },
  {
   "cell_type": "code",
   "execution_count": 72,
   "id": "0cf56238",
   "metadata": {},
   "outputs": [
    {
     "data": {
      "text/html": [
       "<div><i>Table length=1</i>\n",
       "<table id=\"table4955418064\" class=\"table-striped table-bordered table-condensed\">\n",
       "<thead><tr><th>RAJ2000</th><th>DEJ2000</th><th>Name</th><th>Comp</th><th>_2MASS</th><th>Conf</th><th>l_Sep</th><th>Sep</th><th>PA</th><th>Date</th><th>Tech</th><th>DelMag</th><th>Filt</th><th>pmRA</th><th>pmDE</th><th>plx-DR2</th><th>n_plx-DR2</th><th>epsi</th><th>sepsi</th><th>plx-lit</th><th>Gmag</th><th>BpRp</th><th>Vmag</th><th>Rmag</th><th>Imag</th><th>Rtmag</th><th>Jmag</th><th>Hmag</th><th>Kmag</th><th>n_Kmag</th><th>Mass</th><th>n_Mass</th><th>Memb</th><th>SimbadName</th></tr></thead>\n",
       "<thead><tr><th>&apos;h:m:s&apos;</th><th>&apos;d:m:s&apos;</th><th></th><th></th><th></th><th></th><th></th><th>arcsec</th><th>deg</th><th></th><th></th><th>mag</th><th></th><th>mas / yr</th><th>mas / yr</th><th>mas</th><th></th><th>mas</th><th></th><th>mas</th><th>mag</th><th>mag</th><th>mag</th><th>mag</th><th>mag</th><th>mag</th><th>mag</th><th>mag</th><th>mag</th><th></th><th>solMass</th><th></th><th></th><th></th></tr></thead>\n",
       "<thead><tr><th>str11</th><th>str11</th><th>str15</th><th>str1</th><th>str16</th><th>str5</th><th>str1</th><th>float64</th><th>str3</th><th>int16</th><th>str6</th><th>float32</th><th>str3</th><th>float64</th><th>float64</th><th>float64</th><th>str2</th><th>float32</th><th>float64</th><th>float32</th><th>float32</th><th>float32</th><th>float32</th><th>float32</th><th>float32</th><th>float32</th><th>float32</th><th>float32</th><th>float32</th><th>str1</th><th>float32</th><th>str1</th><th>str2</th><th>str25</th></tr></thead>\n",
       "<tr><td>14 29 43.02</td><td>-62 40 46.7</td><td>PROXIMA CEN</td><td>C</td><td>14294291-6240465</td><td>AC</td><td></td><td>7803.9000</td><td>212</td><td>2000</td><td>visdet</td><td>6.39</td><td>Ks</td><td>-3781.30</td><td>769.76</td><td>768.5004</td><td></td><td>0.34</td><td>40.60</td><td>768.69</td><td>8.9536</td><td>3.7965</td><td>11.09</td><td>9.42</td><td>7.37</td><td>--</td><td>5.357</td><td>4.835</td><td>4.384</td><td></td><td>0.122</td><td></td><td>s</td><td>PROXIMA CEN</td></tr>\n",
       "</table></div>"
      ],
      "text/plain": [
       "<Table length=1>\n",
       "  RAJ2000     DEJ2000       Name    Comp      _2MASS      Conf ...   Kmag  n_Kmag   Mass  n_Mass Memb  SimbadName\n",
       "  'h:m:s'     'd:m:s'                                          ...   mag          solMass                        \n",
       "   str11       str11       str15    str1      str16       str5 ... float32  str1  float32  str1  str2    str25   \n",
       "----------- ----------- ----------- ---- ---------------- ---- ... ------- ------ ------- ------ ---- -----------\n",
       "14 29 43.02 -62 40 46.7 PROXIMA CEN    C 14294291-6240465   AC ...   4.384          0.122           s PROXIMA CEN"
      ]
     },
     "execution_count": 72,
     "metadata": {},
     "output_type": "execute_result"
    }
   ],
   "source": [
    "proxima_cen_table = df[df['Name'] == 'PROXIMA CEN']\n",
    "proxima_cen_table"
   ]
  },
  {
   "cell_type": "markdown",
   "id": "0fc4695a",
   "metadata": {},
   "source": [
    "The calculations that we'll do later on require that RA and Dec be in degrees, so we'll let a `SkyCoord` object do that conversion for us. "
   ]
  },
  {
   "cell_type": "code",
   "execution_count": 87,
   "id": "a440f07e",
   "metadata": {},
   "outputs": [],
   "source": [
    "ra_string = proxima_cen_table['RAJ2000'][0].replace(' ', 'h', 1) # convert first space to h\n",
    "ra_string = ra_string.replace(' ', 'm', 1) # convert new first space to m\n",
    "ra_string = ra_string + 's' # append 's' to the end of the string\n",
    "\n",
    "dec_string = proxima_cen_table['DEJ2000'][0].replace(' ', 'd', 1) # convert first space to h\n",
    "dec_string = dec_string.replace(' ', 'm', 1) # convert new first space to m\n",
    "dec_string = dec_string + 's' # append 's' to the end of the string\n",
    "\n",
    "\n",
    "c = SkyCoord(ra_string, dec_string)\n",
    "\n",
    "ra, dec = c.ra, c.dec"
   ]
  },
  {
   "cell_type": "markdown",
   "id": "2092b053",
   "metadata": {},
   "source": [
    "In addition to our positional coordinates, we will require the object's proper motion in declination and proper motion in right ascension multiplied by the cosine of the declination. These position and velocity coodinates will constitute a `SkyCoord` that we will evolve over time to track the target."
   ]
  },
  {
   "cell_type": "code",
   "execution_count": 92,
   "id": "9ba5e584",
   "metadata": {},
   "outputs": [],
   "source": [
    "pm_ra_cosdec = proxima_cen_table['pmRA'][0] * np.cos(np.radians(dec)) * u.mas/u.yr\n",
    "pm_dec = proxima_cen_table['pmDE'][0] * u.mas/u.yr"
   ]
  },
  {
   "cell_type": "markdown",
   "id": "b60877e7",
   "metadata": {},
   "source": [
    "First, we'll read in a list of high-proper motion M dwarfs."
   ]
  },
  {
   "cell_type": "markdown",
   "id": "2b0a31f8",
   "metadata": {},
   "source": [
    "Next, we can define a `Time` object corresponding to the J2000 epoch. We will use this to determine how far our target has moved since J2000. The `tt` (Terrestrial Time) [scale](https://docs.astropy.org/en/stable/time/index.html#id6) ensures that our date directly [corresponds to J2000](https://en.wikipedia.org/wiki/Epoch_(astronomy))."
   ]
  },
  {
   "cell_type": "code",
   "execution_count": 93,
   "id": "064082fb",
   "metadata": {
    "ExecuteTime": {
     "end_time": "2022-09-28T03:42:05.127537Z",
     "start_time": "2022-09-28T03:42:05.122820Z"
    }
   },
   "outputs": [],
   "source": [
    "J2000 = Time('2000-1-1 12:00:00.0', scale='tt')"
   ]
  },
  {
   "cell_type": "markdown",
   "id": "ab61a1e4",
   "metadata": {},
   "source": [
    "With our observation coordinates and measurements defined, we can construct our `SkyCoord` object:"
   ]
  },
  {
   "cell_type": "code",
   "execution_count": 94,
   "id": "f485bb3c",
   "metadata": {},
   "outputs": [],
   "source": [
    "c = SkyCoord(ra=ra, dec=dec,\n",
    "            pm_ra_cosdec=pm_ra_cosdec, pm_dec=pm_dec, obstime=J2000)"
   ]
  },
  {
   "cell_type": "markdown",
   "id": "e33112b7",
   "metadata": {},
   "source": [
    "# Download HST data"
   ]
  },
  {
   "cell_type": "markdown",
   "id": "a050cf16",
   "metadata": {},
   "source": [
    "If we'd like to access all HST observations of this target, we'll need to start querying observations as far back as the initial HST launch date. Let's define another `Time` object corresponding to this date. As a rough estimate, let's also say that we'd like to search for this target in HST data spanning 30 years after the HST launch date, with time windows spanning a single year (as represented by a `TimeDelta` object)."
   ]
  },
  {
   "cell_type": "code",
   "execution_count": 50,
   "id": "842869f9",
   "metadata": {
    "ExecuteTime": {
     "end_time": "2022-09-28T03:42:05.552718Z",
     "start_time": "2022-09-28T03:42:05.544534Z"
    }
   },
   "outputs": [],
   "source": [
    "launch_time = Time('1990-04-24 05:11:23.5')\n",
    "\n",
    "years = np.arange(30)\n",
    "\n",
    "delta_t = TimeDelta(1.0 * u.yr)"
   ]
  },
  {
   "cell_type": "markdown",
   "id": "e7158b3b",
   "metadata": {},
   "source": [
    "Finally, we can access our data. We'll iterate over the years since launch date and query in time (plus or minus one year) and space (5 arcsecond cone search) around the target. \n",
    "\n",
    "When we perform our downloads, we want to restrict ourselves to science products, as opposed to raw data. We can specify this constraint in our query with the `calib_level = 3` argument. Other `calib_level` values can [refer to](https://mast.stsci.edu/api/v0/_c_a_o_mfields.html), e.g., raw or uncalibrated data.\n",
    "\n",
    "\n",
    "This cell may take up to a minute to run."
   ]
  },
  {
   "cell_type": "code",
   "execution_count": 54,
   "id": "d9a8d887",
   "metadata": {
    "ExecuteTime": {
     "end_time": "2022-09-28T03:43:56.563079Z",
     "start_time": "2022-09-28T03:43:33.642732Z"
    }
   },
   "outputs": [],
   "source": [
    "# iterate over years\n",
    "for i, year in enumerate(years):\n",
    "    print(f'Searching year number {i} of {len(years)} total')\n",
    "    \n",
    "    # year of requested observation\n",
    "    new_time = launch_time + year * u.year\n",
    "\n",
    "\n",
    "    # apply motion to our SkyCoord. This uses the proper motions we supplied to the SkyCoord.\n",
    "    delta_t = new_time - J2000\n",
    "    c_translated = c.apply_space_motion(dt=delta_t)\n",
    "    \n",
    "#     # we must access the values of RA and Dec — we can't pass Astropy units to our query.\n",
    "#     new_ra = c_translated.ra.value\n",
    "#     new_dec = c_translated.dec.value\n",
    "    \n",
    "#     # for our query, the coordinates must be a string composed of our translated RA and Dec.\n",
    "#     coordinates = f\"{new_ra} {new_dec}\"\n",
    "    \n",
    "    \n",
    "    # This is the maximum and minimum time allowed \n",
    "    tmax = (new_time + 0.5 * u.year).mjd \n",
    "    tmin = (new_time - 0.5 * u.year).mjd \n",
    "    \n",
    "    calib_level = 3 # restrict ourselves to science products\n",
    "    \n",
    "    obs_table = Observations.query_criteria(dataproduct_type=[\"image\"],\n",
    "                                           obs_collection='HST',\n",
    "#                                            coordinates=coordinates,\n",
    "                                            coordinates=c_translated,\n",
    "                                            radius=f\"{5} arcsec\",\n",
    "                                               t_max=[tmin, tmax], # the range of ends for obs.\n",
    "                                               t_min=[tmin, tmax], # the range of beginnings for obs.\n",
    "                                            intentType='science', # don't want calibration data\n",
    "                                           calib_level=calib_level) \n",
    "    \n",
    "    \n",
    "    if i == 0:\n",
    "        # we want to make sure that we can access this data and that it is composed of science frames.\n",
    "        science_obs = obs_table[obs_table['intentType'] != 'calibration']\n",
    "        public_obs_tables = science_obs[science_obs['dataRights'] == 'PUBLIC']\n",
    "\n",
    "    # if this is the not the first year, we need to stack it and remove duplicates.\n",
    "    else:\n",
    "        public_obs_tables = vstack([public_obs_tables,obs_table])\n",
    "        \n",
    "        if len(public_obs_tables) == 0:\n",
    "            continue\n",
    "\n",
    "        public_obs_tables = unique(public_obs_tables, keys=['obsid', 'objID', 'objID1'])\n",
    "\n",
    "        public_obs_tables = public_obs_tables[public_obs_tables['intentType'] != 'calibration']\n",
    "        public_obs_tables = public_obs_tables[public_obs_tables['dataRights'] == 'PUBLIC']"
   ]
  },
  {
   "cell_type": "markdown",
   "id": "8d1b3d8e",
   "metadata": {},
   "source": [
    "Let's examine the returned observational tables. For our purposes, the most important columns are the `obs_id`, which unqieuly identifies a given observation."
   ]
  },
  {
   "cell_type": "code",
   "execution_count": 151,
   "id": "e4652df8",
   "metadata": {
    "ExecuteTime": {
     "end_time": "2022-09-28T04:04:49.816928Z",
     "start_time": "2022-09-28T04:04:49.769122Z"
    }
   },
   "outputs": [
    {
     "data": {
      "text/html": [
       "<div><i>Table length=208</i>\n",
       "<table id=\"table5996363488\" class=\"table-striped table-bordered table-condensed\">\n",
       "<thead><tr><th>dataproduct_type</th><th>calib_level</th><th>obs_collection</th><th>obs_id</th><th>target_name</th><th>s_ra</th><th>s_dec</th><th>t_min</th><th>t_max</th><th>t_exptime</th><th>wavelength_region</th><th>filters</th><th>em_min</th><th>em_max</th><th>target_classification</th><th>obs_title</th><th>t_obs_release</th><th>instrument_name</th><th>proposal_pi</th><th>proposal_id</th><th>proposal_type</th><th>project</th><th>sequence_number</th><th>provenance_name</th><th>s_region</th><th>jpegURL</th><th>dataURL</th><th>dataRights</th><th>mtFlag</th><th>srcDen</th><th>intentType</th><th>obsid</th><th>objID</th><th>objID1</th><th>distance</th></tr></thead>\n",
       "<thead><tr><th>str5</th><th>int64</th><th>str3</th><th>str35</th><th>str18</th><th>float64</th><th>float64</th><th>float64</th><th>float64</th><th>float64</th><th>str8</th><th>str12</th><th>float64</th><th>float64</th><th>str32</th><th>str95</th><th>float64</th><th>str11</th><th>str23</th><th>str5</th><th>str8</th><th>str3</th><th>int64</th><th>str8</th><th>str1047</th><th>str60</th><th>str61</th><th>str6</th><th>bool</th><th>float64</th><th>str11</th><th>str8</th><th>str9</th><th>str9</th><th>float64</th></tr></thead>\n",
       "<tr><td>image</td><td>1</td><td>HST</td><td>o5eo01a1q</td><td>GJ551</td><td>217.4280908626</td><td>-62.67956274384</td><td>51672.03504383102</td><td>51672.03703611111</td><td>0.3</td><td>Optical</td><td>MIRVIS</td><td>nan</td><td>nan</td><td>STAR;M V-IV;IRREGULAR VARIABLE;E</td><td>Dynamics and Energetics of Stellar Flares</td><td>52037.0370254</td><td>STIS/CCD</td><td>Linsky, Jeffrey L.</td><td>8040</td><td>GTO/STIS</td><td>HST</td><td>--</td><td>CALSTIS</td><td>POLYGON 217.42011179 -62.68680907 217.41036229 -62.68027519 217.4356892 -62.6723125 217.44544167 -62.67884459 217.42011179 -62.68680907</td><td>--</td><td>mast:HST/product/o5eo01a1q_raw.fits</td><td>PUBLIC</td><td>False</td><td>nan</td><td>science</td><td>24456245</td><td>124595927</td><td>124595927</td><td>0.0</td></tr>\n",
       "<tr><td>image</td><td>1</td><td>HST</td><td>o5eo02d8q</td><td>GJ551</td><td>217.4280776369</td><td>-62.67956109707</td><td>51672.99699976852</td><td>51672.998992395835</td><td>0.3</td><td>Optical</td><td>MIRVIS</td><td>nan</td><td>nan</td><td>STAR;M V-IV;IRREGULAR VARIABLE;E</td><td>Dynamics and Energetics of Stellar Flares</td><td>54062.00761569</td><td>STIS/CCD</td><td>Linsky, Jeffrey L.</td><td>8040</td><td>GTO/STIS</td><td>HST</td><td>--</td><td>CALSTIS</td><td>POLYGON 217.41974905 -62.68672409 217.41031893 -62.68009225 217.43602555 -62.67239023 217.44545898 -62.67902032 217.41974905 -62.68672409</td><td>--</td><td>mast:HST/product/o5eo02d8q_raw.fits</td><td>PUBLIC</td><td>False</td><td>nan</td><td>science</td><td>24456246</td><td>124012931</td><td>124012931</td><td>0.0</td></tr>\n",
       "<tr><td>image</td><td>2</td><td>HST</td><td>u2kx0e01p</td><td>PROXIMA-CEN</td><td>217.4428774942</td><td>-62.68950743618</td><td>49816.07658637731</td><td>49816.07890119213</td><td>200.0</td><td>Optical</td><td>F814W</td><td>713.51</td><td>867.4499999999999</td><td>STAR;M V-IV;</td><td>A PHOTOMETRIC SEARCH FOR PLANETS OF NEARBY STARS; GTO PROPOSAL #5132</td><td>50182.73520821</td><td>WFPC2/PC</td><td>Ford, Holland</td><td>5132</td><td>GTO/OS</td><td>HST</td><td>--</td><td>CALWFPC2</td><td>POLYGON 217.44122282 -62.68870402 217.42431314 -62.68221434 217.43844665 -62.67445529 217.45535553 -62.68094604 217.44122282 -62.68870402</td><td>mast:HST/product/u2kx0e01p_c0f.jpg</td><td>mast:HST/product/u2kx0e01p_c0f.fits</td><td>PUBLIC</td><td>False</td><td>nan</td><td>science</td><td>24555169</td><td>123975056</td><td>123975056</td><td>0.0</td></tr>\n",
       "<tr><td>image</td><td>2</td><td>HST</td><td>u2kx0e02p</td><td>PROXIMA-CEN</td><td>217.4428774479</td><td>-62.68950743517</td><td>49816.08005859954</td><td>49816.08237341435</td><td>200.0</td><td>Optical</td><td>F814W</td><td>713.51</td><td>867.4499999999999</td><td>STAR;M V-IV;</td><td>A PHOTOMETRIC SEARCH FOR PLANETS OF NEARBY STARS; GTO PROPOSAL #5132</td><td>50182.73635405</td><td>WFPC2/PC</td><td>Ford, Holland</td><td>5132</td><td>GTO/OS</td><td>HST</td><td>--</td><td>CALWFPC2</td><td>POLYGON 217.44122277 -62.68870402 217.42431309 -62.68221434 217.43844661 -62.67445529 217.45535548 -62.68094603 217.44122277 -62.68870402</td><td>mast:HST/product/u2kx0e02p_c0f.jpg</td><td>mast:HST/product/u2kx0e02p_c0f.fits</td><td>PUBLIC</td><td>False</td><td>nan</td><td>science</td><td>24555170</td><td>123975428</td><td>123975428</td><td>0.0</td></tr>\n",
       "<tr><td>image</td><td>2</td><td>HST</td><td>u2kx0e03p</td><td>PROXIMA-CEN</td><td>217.4428774015</td><td>-62.68950743416</td><td>49816.08353082176</td><td>49816.085845636575</td><td>200.0</td><td>Optical</td><td>F814W</td><td>713.51</td><td>867.4499999999999</td><td>STAR;M V-IV;</td><td>A PHOTOMETRIC SEARCH FOR PLANETS OF NEARBY STARS; GTO PROPOSAL #5132</td><td>50182.73736105</td><td>WFPC2/PC</td><td>Ford, Holland</td><td>5132</td><td>GTO/OS</td><td>HST</td><td>--</td><td>CALWFPC2</td><td>POLYGON 217.44122273 -62.68870402 217.42431304 -62.68221434 217.43844656 -62.67445529 217.45535544 -62.68094603 217.44122273 -62.68870402</td><td>mast:HST/product/u2kx0e03p_c0f.jpg</td><td>mast:HST/product/u2kx0e03p_c0f.fits</td><td>PUBLIC</td><td>False</td><td>nan</td><td>science</td><td>24555171</td><td>123975054</td><td>123975054</td><td>0.0</td></tr>\n",
       "<tr><td>image</td><td>2</td><td>HST</td><td>u2kx0e04p</td><td>PROXIMA-CEN</td><td>217.4428773552</td><td>-62.68950743315</td><td>49816.087003043984</td><td>49816.089317858794</td><td>200.0</td><td>Optical</td><td>F814W</td><td>713.51</td><td>867.4499999999999</td><td>STAR;M V-IV;</td><td>A PHOTOMETRIC SEARCH FOR PLANETS OF NEARBY STARS; GTO PROPOSAL #5132</td><td>50182.73829856</td><td>WFPC2/PC</td><td>Ford, Holland</td><td>5132</td><td>GTO/OS</td><td>HST</td><td>--</td><td>CALWFPC2</td><td>POLYGON 217.44122268 -62.68870401 217.424313 -62.68221434 217.43844651 -62.67445529 217.45535539 -62.68094603 217.44122268 -62.68870401</td><td>mast:HST/product/u2kx0e04p_c0f.jpg</td><td>mast:HST/product/u2kx0e04p_c0f.fits</td><td>PUBLIC</td><td>False</td><td>nan</td><td>science</td><td>24555172</td><td>123975319</td><td>123975319</td><td>0.0</td></tr>\n",
       "<tr><td>image</td><td>2</td><td>HST</td><td>u2kx0e05p</td><td>PROXIMA-CEN</td><td>217.4428773088</td><td>-62.68950743213</td><td>49816.0904752662</td><td>49816.09279008102</td><td>200.0</td><td>Optical</td><td>F814W</td><td>713.51</td><td>867.4499999999999</td><td>STAR;M V-IV;</td><td>A PHOTOMETRIC SEARCH FOR PLANETS OF NEARBY STARS; GTO PROPOSAL #5132</td><td>50182.73927074</td><td>WFPC2/PC</td><td>Ford, Holland</td><td>5132</td><td>GTO/OS</td><td>HST</td><td>--</td><td>CALWFPC2</td><td>POLYGON 217.44122263 -62.68870401 217.42431295 -62.68221433 217.43844647 -62.67445529 217.45535534 -62.68094603 217.44122263 -62.68870401</td><td>mast:HST/product/u2kx0e05p_c0f.jpg</td><td>mast:HST/product/u2kx0e05p_c0f.fits</td><td>PUBLIC</td><td>False</td><td>nan</td><td>science</td><td>24555173</td><td>123975430</td><td>123975430</td><td>0.0</td></tr>\n",
       "<tr><td>image</td><td>2</td><td>HST</td><td>u2kx0e06p</td><td>PROXIMA-CEN</td><td>217.4428772625</td><td>-62.68950743112</td><td>49816.09394748843</td><td>49816.09626230324</td><td>200.0</td><td>Optical</td><td>F814W</td><td>713.51</td><td>867.4499999999999</td><td>STAR;M V-IV;</td><td>A PHOTOMETRIC SEARCH FOR PLANETS OF NEARBY STARS; GTO PROPOSAL #5132</td><td>50182.74025459</td><td>WFPC2/PC</td><td>Ford, Holland</td><td>5132</td><td>GTO/OS</td><td>HST</td><td>--</td><td>CALWFPC2</td><td>POLYGON 217.44122259 -62.68870401 217.42431291 -62.68221433 217.43844642 -62.67445528 217.4553553 -62.68094603 217.44122259 -62.68870401</td><td>mast:HST/product/u2kx0e06p_c0f.jpg</td><td>mast:HST/product/u2kx0e06p_c0f.fits</td><td>PUBLIC</td><td>False</td><td>nan</td><td>science</td><td>24555174</td><td>123974989</td><td>123974989</td><td>0.0</td></tr>\n",
       "<tr><td>image</td><td>2</td><td>HST</td><td>u2kx0e07p</td><td>PROXIMA-CEN</td><td>217.4428772162</td><td>-62.6895074301</td><td>49816.09741971065</td><td>49816.099734525465</td><td>200.0</td><td>Optical</td><td>F814W</td><td>713.51</td><td>867.4499999999999</td><td>STAR;M V-IV;</td><td>A PHOTOMETRIC SEARCH FOR PLANETS OF NEARBY STARS; GTO PROPOSAL #5132</td><td>50182.74120358</td><td>WFPC2/PC</td><td>Ford, Holland</td><td>5132</td><td>GTO/OS</td><td>HST</td><td>--</td><td>CALWFPC2</td><td>POLYGON 217.44122254 -62.68870401 217.42431286 -62.68221433 217.43844638 -62.67445528 217.45535525 -62.68094603 217.44122254 -62.68870401</td><td>mast:HST/product/u2kx0e07p_c0f.jpg</td><td>mast:HST/product/u2kx0e07p_c0f.fits</td><td>PUBLIC</td><td>False</td><td>nan</td><td>science</td><td>24555175</td><td>123975317</td><td>123975317</td><td>0.0</td></tr>\n",
       "<tr><td>image</td><td>2</td><td>HST</td><td>u2kx0e08p</td><td>PROXIMA-CEN</td><td>217.4428771698</td><td>-62.68950742909</td><td>49816.10089193287</td><td>49816.103206747684</td><td>200.0</td><td>Optical</td><td>F814W</td><td>713.51</td><td>867.4499999999999</td><td>STAR;M V-IV;</td><td>A PHOTOMETRIC SEARCH FOR PLANETS OF NEARBY STARS; GTO PROPOSAL #5132</td><td>50182.74259248</td><td>WFPC2/PC</td><td>Ford, Holland</td><td>5132</td><td>GTO/OS</td><td>HST</td><td>--</td><td>CALWFPC2</td><td>POLYGON 217.44122249 -62.68870401 217.42431281 -62.68221433 217.43844633 -62.67445528 217.4553552 -62.68094603 217.44122249 -62.68870401</td><td>mast:HST/product/u2kx0e08p_c0f.jpg</td><td>mast:HST/product/u2kx0e08p_c0f.fits</td><td>PUBLIC</td><td>False</td><td>nan</td><td>science</td><td>24555176</td><td>123975052</td><td>123975052</td><td>0.0</td></tr>\n",
       "<tr><td>image</td><td>2</td><td>HST</td><td>u2kx0e09p</td><td>PROXIMA-CEN</td><td>217.4428770308</td><td>-62.68950742604</td><td>49816.106447488426</td><td>49816.11339193287</td><td>600.0</td><td>Optical</td><td>F675W</td><td>624.4</td><td>711.08</td><td>STAR;M V-IV;</td><td>A PHOTOMETRIC SEARCH FOR PLANETS OF NEARBY STARS; GTO PROPOSAL #5132</td><td>50182.74354161</td><td>WFPC2/PC</td><td>Ford, Holland</td><td>5132</td><td>GTO/OS</td><td>HST</td><td>--</td><td>CALWFPC2</td><td>POLYGON 217.44122235 -62.68870401 217.42431267 -62.68221433 217.43844619 -62.67445528 217.45535507 -62.68094603 217.44122235 -62.68870401</td><td>mast:HST/product/u2kx0e09p_c0f.jpg</td><td>mast:HST/product/u2kx0e09p_c0f.fits</td><td>PUBLIC</td><td>False</td><td>nan</td><td>science</td><td>24555177</td><td>123974876</td><td>123974876</td><td>0.0</td></tr>\n",
       "<tr><td>image</td><td>2</td><td>HST</td><td>u2kx0e0ap</td><td>PROXIMA-CEN</td><td>217.4428769195</td><td>-62.68950742359</td><td>49816.11478082176</td><td>49816.1217252662</td><td>600.0</td><td>Optical</td><td>F675W</td><td>624.4</td><td>711.08</td><td>STAR;M V-IV;</td><td>A PHOTOMETRIC SEARCH FOR PLANETS OF NEARBY STARS; GTO PROPOSAL #5132</td><td>50182.74450227</td><td>WFPC2/PC</td><td>Ford, Holland</td><td>5132</td><td>GTO/OS</td><td>HST</td><td>--</td><td>CALWFPC2</td><td>POLYGON 217.44122224 -62.68870401 217.42431256 -62.68221433 217.43844608 -62.67445528 217.45535495 -62.68094602 217.44122224 -62.68870401</td><td>mast:HST/product/u2kx0e0ap_c0f.jpg</td><td>mast:HST/product/u2kx0e0ap_c0f.fits</td><td>PUBLIC</td><td>False</td><td>nan</td><td>science</td><td>24555178</td><td>123974872</td><td>123974872</td><td>0.0</td></tr>\n",
       "<tr><td>image</td><td>2</td><td>HST</td><td>u2kx0e0bp</td><td>PROXIMA-CEN</td><td>217.4428768083</td><td>-62.68950742115</td><td>49816.123114155096</td><td>49816.130058599534</td><td>600.0</td><td>Optical</td><td>F675W</td><td>624.4</td><td>711.08</td><td>STAR;M V-IV;</td><td>A PHOTOMETRIC SEARCH FOR PLANETS OF NEARBY STARS; GTO PROPOSAL #5132</td><td>50182.74635413</td><td>WFPC2/PC</td><td>Ford, Holland</td><td>5132</td><td>GTO/OS</td><td>HST</td><td>--</td><td>CALWFPC2</td><td>POLYGON 217.44122213 -62.688704 217.42431245 -62.68221432 217.43844597 -62.67445527 217.45535484 -62.68094602 217.44122213 -62.688704</td><td>mast:HST/product/u2kx0e0bp_c0f.jpg</td><td>mast:HST/product/u2kx0e0bp_c0f.fits</td><td>PUBLIC</td><td>False</td><td>nan</td><td>science</td><td>24555179</td><td>123975048</td><td>123975048</td><td>0.0</td></tr>\n",
       "<tr><td>image</td><td>2</td><td>HST</td><td>u2kx0e0cp</td><td>PROXIMA-CEN</td><td>217.442876697</td><td>-62.6895074187</td><td>49816.13144748843</td><td>49816.13839193287</td><td>600.0</td><td>Optical</td><td>F675W</td><td>624.4</td><td>711.08</td><td>STAR;M V-IV;</td><td>A PHOTOMETRIC SEARCH FOR PLANETS OF NEARBY STARS; GTO PROPOSAL #5132</td><td>50182.74754617</td><td>WFPC2/PC</td><td>Ford, Holland</td><td>5132</td><td>GTO/OS</td><td>HST</td><td>--</td><td>CALWFPC2</td><td>POLYGON 217.44122202 -62.688704 217.42431234 -62.68221432 217.43844586 -62.67445527 217.45535473 -62.68094602 217.44122202 -62.688704</td><td>mast:HST/product/u2kx0e0cp_c0f.jpg</td><td>mast:HST/product/u2kx0e0cp_c0f.fits</td><td>PUBLIC</td><td>False</td><td>nan</td><td>science</td><td>24555180</td><td>123975312</td><td>123975312</td><td>0.0</td></tr>\n",
       "<tr><td>image</td><td>2</td><td>HST</td><td>u2kx0e0dp</td><td>PROXIMA-CEN</td><td>217.4428765858</td><td>-62.68950741624</td><td>49816.13978082176</td><td>49816.146725266204</td><td>600.0</td><td>Optical</td><td>F675W</td><td>624.4</td><td>711.08</td><td>STAR;M V-IV;</td><td>A PHOTOMETRIC SEARCH FOR PLANETS OF NEARBY STARS; GTO PROPOSAL #5132</td><td>50182.74872674</td><td>WFPC2/PC</td><td>Ford, Holland</td><td>5132</td><td>GTO/OS</td><td>HST</td><td>--</td><td>CALWFPC2</td><td>POLYGON 217.44122191 -62.688704 217.42431223 -62.68221432 217.43844575 -62.67445527 217.45535462 -62.68094602 217.44122191 -62.688704</td><td>mast:HST/product/u2kx0e0dp_c0f.jpg</td><td>mast:HST/product/u2kx0e0dp_c0f.fits</td><td>PUBLIC</td><td>False</td><td>nan</td><td>science</td><td>24555181</td><td>123975418</td><td>123975418</td><td>0.0</td></tr>\n",
       "<tr><td>image</td><td>2</td><td>HST</td><td>u2kx0e0ep</td><td>PROXIMA-CEN</td><td>217.4428764745</td><td>-62.68950741378</td><td>49816.14811415509</td><td>49816.155058599536</td><td>600.0</td><td>Optical</td><td>F675W</td><td>624.4</td><td>711.08</td><td>STAR;M V-IV;</td><td>A PHOTOMETRIC SEARCH FOR PLANETS OF NEARBY STARS; GTO PROPOSAL #5132</td><td>50182.74982633</td><td>WFPC2/PC</td><td>Ford, Holland</td><td>5132</td><td>GTO/OS</td><td>HST</td><td>--</td><td>CALWFPC2</td><td>POLYGON 217.4412218 -62.688704 217.42431212 -62.68221432 217.43844563 -62.67445527 217.45535451 -62.68094601 217.4412218 -62.688704</td><td>mast:HST/product/u2kx0e0ep_c0f.jpg</td><td>mast:HST/product/u2kx0e0ep_c0f.fits</td><td>PUBLIC</td><td>False</td><td>nan</td><td>science</td><td>24555182</td><td>123975209</td><td>123975209</td><td>0.0</td></tr>\n",
       "<tr><td>image</td><td>2</td><td>HST</td><td>u2kx0e0fp</td><td>PROXIMA-CEN</td><td>217.4428763633</td><td>-62.68950741132</td><td>49816.15644748843</td><td>49816.16339193287</td><td>600.0</td><td>Optical</td><td>F675W</td><td>624.4</td><td>711.08</td><td>STAR;M V-IV;</td><td>A PHOTOMETRIC SEARCH FOR PLANETS OF NEARBY STARS; GTO PROPOSAL #5132</td><td>50182.75084486</td><td>WFPC2/PC</td><td>Ford, Holland</td><td>5132</td><td>GTO/OS</td><td>HST</td><td>--</td><td>CALWFPC2</td><td>POLYGON 217.44122169 -62.68870399 217.42431201 -62.68221431 217.43844552 -62.67445526 217.4553544 -62.68094601 217.44122169 -62.68870399</td><td>mast:HST/product/u2kx0e0fp_c0f.jpg</td><td>mast:HST/product/u2kx0e0fp_c0f.fits</td><td>PUBLIC</td><td>False</td><td>nan</td><td>science</td><td>24555183</td><td>123975314</td><td>123975314</td><td>0.0</td></tr>\n",
       "<tr><td>image</td><td>2</td><td>HST</td><td>u2kx0e0gp</td><td>PROXIMA-CEN</td><td>217.442876252</td><td>-62.68950740886</td><td>49816.16478082176</td><td>49816.171725266206</td><td>600.0</td><td>Optical</td><td>F675W</td><td>624.4</td><td>711.08</td><td>STAR;M V-IV;</td><td>A PHOTOMETRIC SEARCH FOR PLANETS OF NEARBY STARS; GTO PROPOSAL #5132</td><td>50182.75185176</td><td>WFPC2/PC</td><td>Ford, Holland</td><td>5132</td><td>GTO/OS</td><td>HST</td><td>--</td><td>CALWFPC2</td><td>POLYGON 217.44122158 -62.68870399 217.4243119 -62.68221431 217.43844541 -62.67445526 217.45535429 -62.68094601 217.44122158 -62.68870399</td><td>mast:HST/product/u2kx0e0gp_c0f.jpg</td><td>mast:HST/product/u2kx0e0gp_c0f.fits</td><td>PUBLIC</td><td>False</td><td>nan</td><td>science</td><td>24555184</td><td>123975416</td><td>123975416</td><td>0.0</td></tr>\n",
       "<tr><td>image</td><td>2</td><td>HST</td><td>u2kx0f01t</td><td>PROXIMA-CEN</td><td>217.4425411714</td><td>-62.6894858212</td><td>49840.61130853009</td><td>49840.61362334491</td><td>200.0</td><td>Optical</td><td>F814W</td><td>713.51</td><td>867.4499999999999</td><td>STAR;M V-IV;</td><td>A PHOTOMETRIC SEARCH FOR PLANETS OF NEARBY STARS; GTO PROPOSAL #5132</td><td>50207.06831012</td><td>WFPC2/PC</td><td>Ford, Holland</td><td>5132</td><td>GTO/OS</td><td>HST</td><td>--</td><td>CALWFPC2</td><td>POLYGON 217.44088651 -62.6886824 217.42397691 -62.68219268 217.43811051 -62.67443366 217.4550193 -62.68092445 217.44088651 -62.6886824</td><td>mast:HST/product/u2kx0f01t_c0f.jpg</td><td>mast:HST/product/u2kx0f01t_c0f.fits</td><td>PUBLIC</td><td>False</td><td>nan</td><td>science</td><td>24555185</td><td>123975050</td><td>123975050</td><td>0.0</td></tr>\n",
       "<tr><td>image</td><td>2</td><td>HST</td><td>u2kx0f02t</td><td>PROXIMA-CEN</td><td>217.4425411233</td><td>-62.68948581612</td><td>49840.614780752316</td><td>49840.61709556713</td><td>200.0</td><td>Optical</td><td>F814W</td><td>713.51</td><td>867.4499999999999</td><td>STAR;M V-IV;</td><td>A PHOTOMETRIC SEARCH FOR PLANETS OF NEARBY STARS; GTO PROPOSAL #5132</td><td>50207.08671295</td><td>WFPC2/PC</td><td>Ford, Holland</td><td>5132</td><td>GTO/OS</td><td>HST</td><td>--</td><td>CALWFPC2</td><td>POLYGON 217.44088646 -62.68868239 217.42397686 -62.68219267 217.43811046 -62.67443366 217.45501925 -62.68092445 217.44088646 -62.68868239</td><td>mast:HST/product/u2kx0f02t_c0f.jpg</td><td>mast:HST/product/u2kx0f02t_c0f.fits</td><td>PUBLIC</td><td>False</td><td>nan</td><td>science</td><td>24555186</td><td>123975044</td><td>123975044</td><td>0.0</td></tr>\n",
       "<tr><td>image</td><td>2</td><td>HST</td><td>u2kx0f03t</td><td>PROXIMA-CEN</td><td>217.4425410753</td><td>-62.68948581105</td><td>49840.618252974535</td><td>49840.62056778935</td><td>200.0</td><td>Optical</td><td>F814W</td><td>713.51</td><td>867.4499999999999</td><td>STAR;M V-IV;</td><td>A PHOTOMETRIC SEARCH FOR PLANETS OF NEARBY STARS; GTO PROPOSAL #5132</td><td>50207.069375</td><td>WFPC2/PC</td><td>Ford, Holland</td><td>5132</td><td>GTO/OS</td><td>HST</td><td>--</td><td>CALWFPC2</td><td>POLYGON 217.44088641 -62.68868239 217.42397682 -62.68219267 217.43811041 -62.67443365 217.4550192 -62.68092444 217.44088641 -62.68868239</td><td>mast:HST/product/u2kx0f03t_c0f.jpg</td><td>mast:HST/product/u2kx0f03t_c0f.fits</td><td>PUBLIC</td><td>False</td><td>nan</td><td>science</td><td>24555187</td><td>123975315</td><td>123975315</td><td>0.0</td></tr>\n",
       "<tr><td>image</td><td>2</td><td>HST</td><td>u2kx0f04t</td><td>PROXIMA-CEN</td><td>217.4425410272</td><td>-62.68948580597</td><td>49840.62172519676</td><td>49840.62404001157</td><td>200.0</td><td>Optical</td><td>F814W</td><td>713.51</td><td>867.4499999999999</td><td>STAR;M V-IV;</td><td>A PHOTOMETRIC SEARCH FOR PLANETS OF NEARBY STARS; GTO PROPOSAL #5132</td><td>50207.07042825</td><td>WFPC2/PC</td><td>Ford, Holland</td><td>5132</td><td>GTO/OS</td><td>HST</td><td>--</td><td>CALWFPC2</td><td>POLYGON 217.44088636 -62.68868238 217.42397677 -62.68219266 217.43811036 -62.67443365 217.45501915 -62.68092444 217.44088636 -62.68868238</td><td>mast:HST/product/u2kx0f04t_c0f.jpg</td><td>mast:HST/product/u2kx0f04t_c0f.fits</td><td>PUBLIC</td><td>False</td><td>nan</td><td>science</td><td>24555188</td><td>123975414</td><td>123975414</td><td>0.0</td></tr>\n",
       "<tr><td>...</td><td>...</td><td>...</td><td>...</td><td>...</td><td>...</td><td>...</td><td>...</td><td>...</td><td>...</td><td>...</td><td>...</td><td>...</td><td>...</td><td>...</td><td>...</td><td>...</td><td>...</td><td>...</td><td>...</td><td>...</td><td>...</td><td>...</td><td>...</td><td>...</td><td>...</td><td>...</td><td>...</td><td>...</td><td>...</td><td>...</td><td>...</td><td>...</td><td>...</td><td>...</td></tr>\n",
       "<tr><td>image</td><td>3</td><td>HST</td><td>hst_12985_02_wfc3_uvis_f475w_ic3j02</td><td>PROXIMA-CEN-SOURCE</td><td>217.3930416667</td><td>-62.67610555556</td><td>56382.95548894</td><td>56382.95995058</td><td>200.48</td><td>Optical</td><td>F475W</td><td>397.5</td><td>554.1</td><td>--</td><td>--</td><td>56748.67219899</td><td>WFC3/UVIS</td><td>Sahu, Kailash C.</td><td>12985</td><td>HAP</td><td>HAP</td><td>--</td><td>HAP</td><td>POLYGON -142.6414171 -62.67192408 -142.60859567 -62.68878396 -142.57417734 -62.67265545 -142.60660426000004 -62.65581367 -142.6414171 -62.67192408 -142.6414171 -62.67192408</td><td>mast:HST/product/hst_12985_02_wfc3_uvis_f475w_ic3j02_drc.jpg</td><td>mast:HST/product/hst_12985_02_wfc3_uvis_f475w_ic3j02_drc.fits</td><td>PUBLIC</td><td>False</td><td>nan</td><td>science</td><td>26590254</td><td>154539788</td><td>154539788</td><td>0.0</td></tr>\n",
       "<tr><td>image</td><td>3</td><td>HST</td><td>hst_12985_02_wfc3_uvis_f606w_ic3j02</td><td>PROXIMA-CEN-SOURCE</td><td>217.3930416667</td><td>-62.67610555556</td><td>56382.9428382</td><td>56382.94616577</td><td>100.48</td><td>Optical</td><td>F606W</td><td>474.9</td><td>713.2</td><td>--</td><td>--</td><td>56748.67190964</td><td>WFC3/UVIS</td><td>Sahu, Kailash C.</td><td>12985</td><td>HAP</td><td>HAP</td><td>--</td><td>HAP</td><td>POLYGON -142.63764781999998 -62.68421978 -142.61143917407765 -62.687324357303318 -142.60859567 -62.68878396 -142.6066809564405 -62.687887403752825 -142.59016596000004 -62.68984023 -142.58524991745529 -62.67784692371842 -142.57417734 -62.67265545 -142.58155493803616 -62.668826039618281 -142.58105433000003 -62.66760343 -142.58475158235296 -62.667166363932374 -142.60660426000004 -62.65581367 -142.62168233150089 -62.662794591307261 -142.62850227 -62.66198606 -142.63051478954407 -62.666881607760807 -142.6414171 -62.67192408 -142.63412933300742 -62.675670018983432 -142.63764781999998 -62.68421978 -142.63764781999998 -62.68421978</td><td>mast:HST/product/hst_12985_02_wfc3_uvis_f606w_ic3j02_drc.jpg</td><td>mast:HST/product/hst_12985_02_wfc3_uvis_f606w_ic3j02_drc.fits</td><td>PUBLIC</td><td>False</td><td>nan</td><td>science</td><td>26590257</td><td>154539816</td><td>154539816</td><td>0.0</td></tr>\n",
       "<tr><td>image</td><td>3</td><td>HST</td><td>hst_12985_02_wfc3_uvis_total_ic3j02</td><td>PROXIMA-CEN-SOURCE</td><td>217.3930416667</td><td>-62.67610555556</td><td>56382.93741005</td><td>56382.97385095</td><td>722.4</td><td>--</td><td>detection</td><td>397.5</td><td>961.2</td><td>--</td><td>--</td><td>56748.67219899</td><td>WFC3/UVIS</td><td>Sahu, Kailash C.</td><td>12985</td><td>HAP</td><td>HAP</td><td>--</td><td>HAP</td><td>POLYGON -142.63764781999998 -62.68421978 -142.61143917407753 -62.687324357303368 -142.60859567 -62.68878396 -142.60668095644033 -62.687887403752761 -142.59016596000004 -62.68984023 -142.59013668901477 -62.689768849008331 -142.58781569999996 -62.69004312 -142.58737354593922 -62.688964620414311 -142.58736770999997 -62.68896531 -142.58223188976618 -62.676432162339083 -142.57417734 -62.67265545 -142.57954450076468 -62.669869712240235 -142.57825849 -62.6667283 -142.58775786477585 -62.665605286685306 -142.60660426000004 -62.65581367 -142.6196082824963 -62.661834628830491 -142.62570547999997 -62.66111187 -142.62614860947826 -62.662190238396562 -142.62615449999998 -62.66218954 -142.6261838496165 -62.662260960224316 -142.62850227 -62.66198606 -142.63051478954407 -62.666881607760807 -142.6414171 -62.67192408 -142.63412933300737 -62.675670018983467 -142.63764781999998 -62.68421978 -142.63764781999998 -62.68421978</td><td>mast:HST/product/hst_12985_02_wfc3_uvis_total_ic3j02_drc.jpg</td><td>mast:HST/product/hst_12985_02_wfc3_uvis_total_ic3j02_drc.fits</td><td>PUBLIC</td><td>False</td><td>nan</td><td>science</td><td>26590259</td><td>154539832</td><td>154539832</td><td>0.0</td></tr>\n",
       "<tr><td>image</td><td>3</td><td>HST</td><td>hst_13466_02_wfc3_uvis_f555w_icdc02</td><td>PROXIMA-CEN-SOURCE</td><td>217.3930416667</td><td>-62.67610555556</td><td>56947.9727391</td><td>56948.00370519</td><td>1002.4</td><td>Optical</td><td>F555W</td><td>441.7</td><td>659.1</td><td>--</td><td>--</td><td>57313.25745365</td><td>WFC3/UVIS</td><td>Sahu, Kailash C.</td><td>13466</td><td>HAP</td><td>HAP</td><td>--</td><td>HAP</td><td>POLYGON -142.64252898999996 -62.67978978 -142.60013604 -62.69109651 -142.59995089156544 -62.690925079230674 -142.59449367000002 -62.69237903 -142.57261488 -62.67210221 -142.57801514686955 -62.670663572873195 -142.60660426000004 -62.65581367 -142.61680981105516 -62.660539224137011 -142.62062664 -62.65952045 -142.6266406095269 -62.665089127473124 -142.6414171 -62.67192408 -142.6366655342643 -62.674366552656039 -142.64252898999996 -62.67978978 -142.64252898999996 -62.67978978</td><td>mast:HST/product/hst_13466_02_wfc3_uvis_f555w_icdc02_drc.jpg</td><td>mast:HST/product/hst_13466_02_wfc3_uvis_f555w_icdc02_drc.fits</td><td>PUBLIC</td><td>False</td><td>nan</td><td>science</td><td>26605207</td><td>154846920</td><td>154846920</td><td>0.0</td></tr>\n",
       "<tr><td>image</td><td>3</td><td>HST</td><td>hst_13466_02_wfc3_uvis_total_icdc02</td><td>PROXIMA-CEN-SOURCE</td><td>217.3930416667</td><td>-62.67610555556</td><td>56947.9727391</td><td>56948.00370519</td><td>1002.4</td><td>--</td><td>detection</td><td>441.7</td><td>659.1</td><td>--</td><td>--</td><td>57313.25745365</td><td>WFC3/UVIS</td><td>Sahu, Kailash C.</td><td>13466</td><td>HAP</td><td>HAP</td><td>--</td><td>HAP</td><td>POLYGON -142.64252898999996 -62.67978978 -142.60013604 -62.69109651 -142.59995089156544 -62.690925079230674 -142.59449367000002 -62.69237903 -142.57261488 -62.67210221 -142.57801514686955 -62.670663572873195 -142.60660426000004 -62.65581367 -142.61680981105516 -62.660539224137011 -142.62062664 -62.65952045 -142.6266406095269 -62.665089127473124 -142.6414171 -62.67192408 -142.6366655342643 -62.674366552656039 -142.64252898999996 -62.67978978 -142.64252898999996 -62.67978978</td><td>mast:HST/product/hst_13466_02_wfc3_uvis_total_icdc02_drc.jpg</td><td>mast:HST/product/hst_13466_02_wfc3_uvis_total_icdc02_drc.fits</td><td>PUBLIC</td><td>False</td><td>nan</td><td>science</td><td>26605218</td><td>154846952</td><td>154846952</td><td>0.0</td></tr>\n",
       "<tr><td>image</td><td>3</td><td>HST</td><td>hst_13466_03_wfc3_uvis_f555w_icdc03</td><td>PROXIMA-CEN-SOURCE</td><td>217.3930416667</td><td>-62.67610555556</td><td>56748.51124124</td><td>56748.5466577</td><td>1202.4</td><td>Optical</td><td>F555W</td><td>441.7</td><td>659.1</td><td>--</td><td>--</td><td>57113.91277777</td><td>WFC3/UVIS</td><td>Sahu, Kailash C.</td><td>13466</td><td>HAP</td><td>HAP</td><td>--</td><td>HAP</td><td>POLYGON -142.63792210999998 -62.68391331 -142.63522022727679 -62.684233631637717 -142.63574773 -62.68551528 -142.60872982258832 -62.688715102494129 -142.60859567 -62.68878396 -142.60850533811492 -62.688741664297652 -142.58826334000003 -62.6911351 -142.58777858076621 -62.689952758305168 -142.58484076000002 -62.69029986 -142.57842923723317 -62.674649307364028 -142.57417734 -62.67265545 -142.57701088758003 -62.671184833949013 -142.57573295999998 -62.66806265 -142.58136968409269 -62.667396501959267 -142.58132897999997 -62.66729709 -142.58543456531362 -62.666811730335866 -142.60660426000004 -62.65581367 -142.62121110900108 -62.662576496647354 -142.62877643000002 -62.66167959 -142.63100899942941 -62.667110242271391 -142.6414171 -62.67192408 -142.6344597901099 -62.6755001915173 -142.63792210999998 -62.68391331 -142.63792210999998 -62.68391331</td><td>mast:HST/product/hst_13466_03_wfc3_uvis_f555w_icdc03_drc.jpg</td><td>mast:HST/product/hst_13466_03_wfc3_uvis_f555w_icdc03_drc.fits</td><td>PUBLIC</td><td>False</td><td>nan</td><td>science</td><td>26605798</td><td>154674990</td><td>154674990</td><td>0.0</td></tr>\n",
       "<tr><td>image</td><td>3</td><td>HST</td><td>hst_13466_03_wfc3_uvis_total_icdc03</td><td>PROXIMA-CEN-SOURCE</td><td>217.3930416667</td><td>-62.67610555556</td><td>56748.51124124</td><td>56748.5466577</td><td>1202.4</td><td>--</td><td>detection</td><td>441.7</td><td>659.1</td><td>--</td><td>--</td><td>57113.91277777</td><td>WFC3/UVIS</td><td>Sahu, Kailash C.</td><td>13466</td><td>HAP</td><td>HAP</td><td>--</td><td>HAP</td><td>POLYGON -142.63792210999998 -62.68391331 -142.63522022727679 -62.684233631637717 -142.63574773 -62.68551528 -142.60872982258832 -62.688715102494129 -142.60859567 -62.68878396 -142.60850533811492 -62.688741664297652 -142.58826334000003 -62.6911351 -142.58777858076621 -62.689952758305168 -142.58484076000002 -62.69029986 -142.57842923723317 -62.674649307364028 -142.57417734 -62.67265545 -142.57701088758003 -62.671184833949013 -142.57573295999998 -62.66806265 -142.58136968409269 -62.667396501959267 -142.58132897999997 -62.66729709 -142.58543456531362 -62.666811730335866 -142.60660426000004 -62.65581367 -142.62121110900108 -62.662576496647354 -142.62877643000002 -62.66167959 -142.63100899942941 -62.667110242271391 -142.6414171 -62.67192408 -142.6344597901099 -62.6755001915173 -142.63792210999998 -62.68391331 -142.63792210999998 -62.68391331</td><td>mast:HST/product/hst_13466_03_wfc3_uvis_total_icdc03_drc.jpg</td><td>mast:HST/product/hst_13466_03_wfc3_uvis_total_icdc03_drc.fits</td><td>PUBLIC</td><td>False</td><td>nan</td><td>science</td><td>26605804</td><td>154675023</td><td>154675023</td><td>0.0</td></tr>\n",
       "<tr><td>image</td><td>3</td><td>HST</td><td>hst_13847_04_wfc3_uvis_f555w_icpc04</td><td>PROXIMA-CEN-SOURCE</td><td>217.3930416667</td><td>-62.67610555556</td><td>57438.67114194</td><td>57438.7021084</td><td>1002.4</td><td>Optical</td><td>F555W</td><td>441.7</td><td>659.1</td><td>--</td><td>--</td><td>57806.83766193</td><td>WFC3/UVIS</td><td>Sahu, Kailash C.</td><td>13847</td><td>HAP</td><td>HAP</td><td>--</td><td>HAP</td><td>POLYGON -142.63561847 -62.68567432 -142.61148580981117 -62.687300416975724 -142.60859567 -62.68878396 -142.60618846152045 -62.687656782157781 -142.58710091 -62.68893912 -142.58706793916116 -62.68874828286598 -142.58082408999996 -62.68916717 -142.57831053321428 -62.674593648454341 -142.57417734 -62.67265545 -142.57766449004845 -62.67084558429908 -142.57693481 -62.66661115 -142.58714005269869 -62.665926117673074 -142.60660426000004 -62.65581367 -142.62320453401639 -62.663499075514231 -142.62541712 -62.66334986 -142.62545027838664 -62.663540507366612 -142.63168789999997 -62.66311965 -142.63250330819307 -62.667801516815167 -142.6414171 -62.67192408 -142.63389525852546 -62.675790312149637 -142.63561847 -62.68567432 -142.63561847 -62.68567432</td><td>mast:HST/product/hst_13847_04_wfc3_uvis_f555w_icpc04_drc.jpg</td><td>mast:HST/product/hst_13847_04_wfc3_uvis_f555w_icpc04_drc.fits</td><td>PUBLIC</td><td>False</td><td>nan</td><td>science</td><td>26626705</td><td>154408795</td><td>154408795</td><td>0.0</td></tr>\n",
       "<tr><td>image</td><td>3</td><td>HST</td><td>hst_13847_04_wfc3_uvis_total_icpc04</td><td>PROXIMA-CEN-SOURCE</td><td>217.3930416667</td><td>-62.67610555556</td><td>57438.67114194</td><td>57438.7021084</td><td>1002.4</td><td>--</td><td>detection</td><td>441.7</td><td>659.1</td><td>--</td><td>--</td><td>57806.83766193</td><td>WFC3/UVIS</td><td>Sahu, Kailash C.</td><td>13847</td><td>HAP</td><td>HAP</td><td>--</td><td>HAP</td><td>POLYGON -142.63561847 -62.68567432 -142.61148580981117 -62.687300416975724 -142.60859567 -62.68878396 -142.60618846152045 -62.687656782157781 -142.58710091 -62.68893912 -142.58706793916116 -62.68874828286598 -142.58082408999996 -62.68916717 -142.57831053321428 -62.674593648454341 -142.57417734 -62.67265545 -142.57766449004845 -62.67084558429908 -142.57693481 -62.66661115 -142.58714005269869 -62.665926117673074 -142.60660426000004 -62.65581367 -142.62320453401639 -62.663499075514231 -142.62541712 -62.66334986 -142.62545027838664 -62.663540507366612 -142.63168789999997 -62.66311965 -142.63250330819307 -62.667801516815167 -142.6414171 -62.67192408 -142.63389525852546 -62.675790312149637 -142.63561847 -62.68567432 -142.63561847 -62.68567432</td><td>mast:HST/product/hst_13847_04_wfc3_uvis_total_icpc04_drc.jpg</td><td>mast:HST/product/hst_13847_04_wfc3_uvis_total_icpc04_drc.fits</td><td>PUBLIC</td><td>False</td><td>nan</td><td>science</td><td>26626711</td><td>154408827</td><td>154408827</td><td>0.0</td></tr>\n",
       "<tr><td>image</td><td>3</td><td>HST</td><td>hst_13847_01_wfc3_uvis_f555w_icpc01</td><td>PROXIMA-CEN-SOURCE</td><td>217.3930416667</td><td>-62.67610555556</td><td>57128.29633099</td><td>57128.33282411</td><td>1102.88</td><td>Optical</td><td>F555W</td><td>441.7</td><td>659.1</td><td>--</td><td>--</td><td>57494.58446751</td><td>WFC3/UVIS</td><td>Sahu, Kailash C.</td><td>13847</td><td>HAP</td><td>HAP</td><td>--</td><td>HAP</td><td>POLYGON -142.64101835999998 -62.6810445 -142.59914169 -62.6927509 -142.59808351306251 -62.691820035165229 -142.59746154000004 -62.69199374 -142.59675828048563 -62.691375043363834 -142.59509965 -62.69183824 -142.57231167999998 -62.67177352 -142.57459119374357 -62.671136998639867 -142.57425332000003 -62.67083929 -142.58166360546142 -62.668769624489215 -142.60660426000004 -62.65581367 -142.61466218566636 -62.659544979619504 -142.61610878 -62.65914028 -142.61722402341189 -62.660121755193323 -142.61867351 -62.65971622 -142.62271576569236 -62.66327287613246 -142.6414171 -62.67192408 -142.63582352469757 -62.6747993165273 -142.64148360000002 -62.67977341 -142.64003350303889 -62.680179164371282 -142.64101835999998 -62.6810445 -142.64101835999998 -62.6810445</td><td>mast:HST/product/hst_13847_01_wfc3_uvis_f555w_icpc01_drc.jpg</td><td>mast:HST/product/hst_13847_01_wfc3_uvis_f555w_icpc01_drc.fits</td><td>PUBLIC</td><td>False</td><td>nan</td><td>science</td><td>26626899</td><td>155391920</td><td>155391920</td><td>0.0</td></tr>\n",
       "<tr><td>image</td><td>3</td><td>HST</td><td>hst_13847_01_wfc3_uvis_total_icpc01</td><td>PROXIMA-CEN-SOURCE</td><td>217.3930416667</td><td>-62.67610555556</td><td>57128.29633099</td><td>57128.33282411</td><td>1102.88</td><td>--</td><td>detection</td><td>441.7</td><td>659.1</td><td>--</td><td>--</td><td>57494.58446751</td><td>WFC3/UVIS</td><td>Sahu, Kailash C.</td><td>13847</td><td>HAP</td><td>HAP</td><td>--</td><td>HAP</td><td>POLYGON -142.64101835999998 -62.6810445 -142.59914169 -62.6927509 -142.59808351306251 -62.691820035165229 -142.59746154000004 -62.69199374 -142.59675828048563 -62.691375043363834 -142.59509965 -62.69183824 -142.57231167999998 -62.67177352 -142.57459119374357 -62.671136998639867 -142.57425332000003 -62.67083929 -142.58166360546142 -62.668769624489215 -142.60660426000004 -62.65581367 -142.61466218566636 -62.659544979619504 -142.61610878 -62.65914028 -142.61722402341189 -62.660121755193323 -142.61867351 -62.65971622 -142.62271576569236 -62.66327287613246 -142.6414171 -62.67192408 -142.63582352469757 -62.6747993165273 -142.64148360000002 -62.67977341 -142.64003350303889 -62.680179164371282 -142.64101835999998 -62.6810445 -142.64101835999998 -62.6810445</td><td>mast:HST/product/hst_13847_01_wfc3_uvis_total_icpc01_drc.jpg</td><td>mast:HST/product/hst_13847_01_wfc3_uvis_total_icpc01_drc.fits</td><td>PUBLIC</td><td>False</td><td>nan</td><td>science</td><td>26626903</td><td>155391940</td><td>155391940</td><td>0.0</td></tr>\n",
       "<tr><td>image</td><td>3</td><td>HST</td><td>hst_13847_07_wfc3_uvis_f555w_icpc07</td><td>PROXIMA-CEN-SOURCE</td><td>217.3930416667</td><td>-62.67610555556</td><td>57754.19337599</td><td>57754.22698727</td><td>1042.4</td><td>Optical</td><td>F555W</td><td>441.7</td><td>659.1</td><td>--</td><td>--</td><td>58119.75109949</td><td>WFC3/UVIS</td><td>Sahu, Kailash C.</td><td>13847</td><td>HAP</td><td>HAP</td><td>--</td><td>HAP</td><td>POLYGON -142.64381169 -62.67943234 -142.60320594999996 -62.6922693 -142.60217091376293 -62.691668801836585 -142.60036661000004 -62.69223867 -142.56996536999998 -62.67458578 -142.57085853657816 -62.674303805938422 -142.56920452999998 -62.67334261 -142.57852199336702 -62.670400484356392 -142.60660426000004 -62.65581367 -142.6414171 -62.67192408 -142.63743106304051 -62.67397308191191 -142.64474394 -62.67821289 -142.64278004024823 -62.678834321242626 -142.64381169 -62.67943234 -142.64381169 -62.67943234</td><td>mast:HST/product/hst_13847_07_wfc3_uvis_f555w_icpc07_drc.jpg</td><td>mast:HST/product/hst_13847_07_wfc3_uvis_f555w_icpc07_drc.fits</td><td>PUBLIC</td><td>False</td><td>nan</td><td>science</td><td>26627137</td><td>153993800</td><td>153993800</td><td>0.0</td></tr>\n",
       "<tr><td>image</td><td>3</td><td>HST</td><td>hst_13847_07_wfc3_uvis_total_icpc07</td><td>PROXIMA-CEN-SOURCE</td><td>217.3930416667</td><td>-62.67610555556</td><td>57754.19337599</td><td>57754.22698727</td><td>1042.4</td><td>--</td><td>detection</td><td>441.7</td><td>659.1</td><td>--</td><td>--</td><td>58119.75109949</td><td>WFC3/UVIS</td><td>Sahu, Kailash C.</td><td>13847</td><td>HAP</td><td>HAP</td><td>--</td><td>HAP</td><td>POLYGON -142.64381169 -62.67943234 -142.60320594999996 -62.6922693 -142.60217091376293 -62.691668801836585 -142.60036661000004 -62.69223867 -142.56996536999998 -62.67458578 -142.57085853657816 -62.674303805938422 -142.56920452999998 -62.67334261 -142.57852199336702 -62.670400484356392 -142.60660426000004 -62.65581367 -142.6414171 -62.67192408 -142.63743106304051 -62.67397308191191 -142.64474394 -62.67821289 -142.64278004024823 -62.678834321242626 -142.64381169 -62.67943234 -142.64381169 -62.67943234</td><td>mast:HST/product/hst_13847_07_wfc3_uvis_total_icpc07_drc.jpg</td><td>mast:HST/product/hst_13847_07_wfc3_uvis_total_icpc07_drc.fits</td><td>PUBLIC</td><td>False</td><td>nan</td><td>science</td><td>26627144</td><td>153993862</td><td>153993862</td><td>0.0</td></tr>\n",
       "<tr><td>image</td><td>3</td><td>HST</td><td>hst_13847_05_wfc3_uvis_f555w_icpc05</td><td>PROXIMA-CEN-SOURCE</td><td>217.3930416667</td><td>-62.67610555556</td><td>57546.46137634</td><td>57546.49612169</td><td>1141.92</td><td>Optical</td><td>F555W</td><td>441.7</td><td>659.1</td><td>--</td><td>--</td><td>57911.68567122</td><td>WFC3/UVIS</td><td>Sahu, Kailash C.</td><td>13847</td><td>HAP</td><td>HAP</td><td>--</td><td>HAP</td><td>POLYGON -142.63543088 -62.68809352 -142.58627147000004 -62.68988988 -142.58570954610892 -62.688127009133773 -142.58355137 -62.68820547 -142.5793746720816 -62.675092599524177 -142.57417734 -62.67265545 -142.57797192793714 -62.670686006198366 -142.57646211999997 -62.6659416 -142.58791204462841 -62.665525219286913 -142.60660426000004 -62.65581367 -142.62467973264629 -62.664181758333804 -142.62558221 -62.66414866 -142.62575142026341 -62.664677677502134 -142.62825094706062 -62.665834227245441 -142.62830265000002 -62.66583233 -142.62831234677626 -62.665862635656694 -142.6414171 -62.67192408 -142.63182979931352 -62.67685171257137 -142.63543088 -62.68809352 -142.63543088 -62.68809352</td><td>mast:HST/product/hst_13847_05_wfc3_uvis_f555w_icpc05_drc.jpg</td><td>mast:HST/product/hst_13847_05_wfc3_uvis_f555w_icpc05_drc.fits</td><td>PUBLIC</td><td>False</td><td>nan</td><td>science</td><td>26627184</td><td>154557800</td><td>154557800</td><td>0.0</td></tr>\n",
       "<tr><td>image</td><td>3</td><td>HST</td><td>hst_13847_05_wfc3_uvis_total_icpc05</td><td>PROXIMA-CEN-SOURCE</td><td>217.3930416667</td><td>-62.67610555556</td><td>57546.46137634</td><td>57546.49612169</td><td>1141.92</td><td>--</td><td>detection</td><td>441.7</td><td>659.1</td><td>--</td><td>--</td><td>57911.68567122</td><td>WFC3/UVIS</td><td>Sahu, Kailash C.</td><td>13847</td><td>HAP</td><td>HAP</td><td>--</td><td>HAP</td><td>POLYGON -142.63543088 -62.68809352 -142.58627147000004 -62.68988988 -142.58570954610892 -62.688127009133773 -142.58355137 -62.68820547 -142.5793746720816 -62.675092599524177 -142.57417734 -62.67265545 -142.57797192793714 -62.670686006198366 -142.57646211999997 -62.6659416 -142.58791204462841 -62.665525219286913 -142.60660426000004 -62.65581367 -142.62467973264629 -62.664181758333804 -142.62558221 -62.66414866 -142.62575142026341 -62.664677677502134 -142.62825094706062 -62.665834227245441 -142.62830265000002 -62.66583233 -142.62831234677626 -62.665862635656694 -142.6414171 -62.67192408 -142.63182979931352 -62.67685171257137 -142.63543088 -62.68809352 -142.63543088 -62.68809352</td><td>mast:HST/product/hst_13847_05_wfc3_uvis_total_icpc05_drc.jpg</td><td>mast:HST/product/hst_13847_05_wfc3_uvis_total_icpc05_drc.fits</td><td>PUBLIC</td><td>False</td><td>nan</td><td>science</td><td>26627185</td><td>154557825</td><td>154557825</td><td>0.0</td></tr>\n",
       "<tr><td>image</td><td>3</td><td>HST</td><td>hst_13847_08_wfc3_uvis_f555w_icpc08</td><td>PROXIMA-CEN-SOURCE</td><td>217.3930416667</td><td>-62.67610555556</td><td>58014.48179732</td><td>58014.51937823</td><td>1202.88</td><td>Optical</td><td>F555W</td><td>441.7</td><td>659.1</td><td>--</td><td>--</td><td>58380.04111108</td><td>WFC3/UVIS</td><td>Sahu, Kailash C.</td><td>13847</td><td>HAP</td><td>HAP</td><td>--</td><td>HAP</td><td>POLYGON -142.6339802 -62.68696819 -142.63131624413964 -62.687082919166784 -142.63133547 -62.68740441 -142.60945089015829 -62.688344987044573 -142.60859567 -62.68878396 -142.60780860682306 -62.688415430845431 -142.58250971 -62.68949813 -142.58244606109736 -62.688403640998779 -142.58079078000003 -62.68847432 -142.58003163231675 -62.675400621160456 -142.57417734 -62.67265545 -142.57970581365598 -62.669785974110823 -142.57947780999996 -62.66585565 -142.58797522328237 -62.665492409699851 -142.60660426000004 -62.65581367 -142.6241570588428 -62.663939884125334 -142.6282647 -62.66376303 -142.62831080279321 -62.664535925573496 -142.63262664 -62.66434998 -142.63284244266654 -62.667958395375095 -142.6414171 -62.67192408 -142.63332844643176 -62.676081596764327 -142.6339802 -62.68696819 -142.6339802 -62.68696819</td><td>mast:HST/product/hst_13847_08_wfc3_uvis_f555w_icpc08_drc.jpg</td><td>mast:HST/product/hst_13847_08_wfc3_uvis_f555w_icpc08_drc.fits</td><td>PUBLIC</td><td>False</td><td>nan</td><td>science</td><td>26627323</td><td>155465386</td><td>155465386</td><td>0.0</td></tr>\n",
       "<tr><td>image</td><td>3</td><td>HST</td><td>hst_13847_08_wfc3_uvis_total_icpc08</td><td>PROXIMA-CEN-SOURCE</td><td>217.3930416667</td><td>-62.67610555556</td><td>58014.48179732</td><td>58014.51937823</td><td>1202.88</td><td>--</td><td>detection</td><td>441.7</td><td>659.1</td><td>--</td><td>--</td><td>58380.04111108</td><td>WFC3/UVIS</td><td>Sahu, Kailash C.</td><td>13847</td><td>HAP</td><td>HAP</td><td>--</td><td>HAP</td><td>POLYGON -142.6339802 -62.68696819 -142.63131624413964 -62.687082919166784 -142.63133547 -62.68740441 -142.60945089015829 -62.688344987044573 -142.60859567 -62.68878396 -142.60780860682306 -62.688415430845431 -142.58250971 -62.68949813 -142.58244606109736 -62.688403640998779 -142.58079078000003 -62.68847432 -142.58003163231675 -62.675400621160456 -142.57417734 -62.67265545 -142.57970581365598 -62.669785974110823 -142.57947780999996 -62.66585565 -142.58797522328237 -62.665492409699851 -142.60660426000004 -62.65581367 -142.6241570588428 -62.663939884125334 -142.6282647 -62.66376303 -142.62831080279321 -62.664535925573496 -142.63262664 -62.66434998 -142.63284244266654 -62.667958395375095 -142.6414171 -62.67192408 -142.63332844643176 -62.676081596764327 -142.6339802 -62.68696819 -142.6339802 -62.68696819</td><td>mast:HST/product/hst_13847_08_wfc3_uvis_total_icpc08_drc.jpg</td><td>mast:HST/product/hst_13847_08_wfc3_uvis_total_icpc08_drc.fits</td><td>PUBLIC</td><td>False</td><td>nan</td><td>science</td><td>26627327</td><td>155465390</td><td>155465390</td><td>0.0</td></tr>\n",
       "<tr><td>image</td><td>3</td><td>HST</td><td>hst_13847_03_wfc3_uvis_f555w_icpc03</td><td>PROXIMA-CEN-SOURCE</td><td>217.3930416667</td><td>-62.67610555556</td><td>58119.66967086</td><td>58119.70725177</td><td>1202.88</td><td>Optical</td><td>F555W</td><td>441.7</td><td>659.1</td><td>--</td><td>--</td><td>58484.90803231</td><td>WFC3/UVIS</td><td>Sahu, Kailash C.</td><td>13847</td><td>HAP</td><td>HAP</td><td>--</td><td>HAP</td><td>POLYGON -142.64381169 -62.67943234 -142.60320594999996 -62.6922693 -142.6021709137629 -62.691668801836585 -142.60036661000004 -62.69223867 -142.56996536999998 -62.67458578 -142.57085853657819 -62.674303805938443 -142.56920452999998 -62.67334261 -142.5785219933673 -62.6704004843563 -142.60660426000004 -62.65581367 -142.6414171 -62.67192408 -142.63743106304051 -62.67397308191191 -142.64474394 -62.67821289 -142.64278004024814 -62.67883432124264 -142.64381169 -62.67943234 -142.64381169 -62.67943234</td><td>mast:HST/product/hst_13847_03_wfc3_uvis_f555w_icpc03_drc.jpg</td><td>mast:HST/product/hst_13847_03_wfc3_uvis_f555w_icpc03_drc.fits</td><td>PUBLIC</td><td>False</td><td>nan</td><td>science</td><td>26627334</td><td>155489709</td><td>155489709</td><td>0.0</td></tr>\n",
       "<tr><td>image</td><td>3</td><td>HST</td><td>hst_13847_03_wfc3_uvis_total_icpc03</td><td>PROXIMA-CEN-SOURCE</td><td>217.3930416667</td><td>-62.67610555556</td><td>58119.66967086</td><td>58119.70725177</td><td>1202.88</td><td>--</td><td>detection</td><td>441.7</td><td>659.1</td><td>--</td><td>--</td><td>58484.90803231</td><td>WFC3/UVIS</td><td>Sahu, Kailash C.</td><td>13847</td><td>HAP</td><td>HAP</td><td>--</td><td>HAP</td><td>POLYGON -142.64381169 -62.67943234 -142.60320594999996 -62.6922693 -142.6021709137629 -62.691668801836585 -142.60036661000004 -62.69223867 -142.56996536999998 -62.67458578 -142.57085853657819 -62.674303805938443 -142.56920452999998 -62.67334261 -142.5785219933673 -62.6704004843563 -142.60660426000004 -62.65581367 -142.6414171 -62.67192408 -142.63743106304051 -62.67397308191191 -142.64474394 -62.67821289 -142.64278004024814 -62.67883432124264 -142.64381169 -62.67943234 -142.64381169 -62.67943234</td><td>mast:HST/product/hst_13847_03_wfc3_uvis_total_icpc03_drc.jpg</td><td>mast:HST/product/hst_13847_03_wfc3_uvis_total_icpc03_drc.fits</td><td>PUBLIC</td><td>False</td><td>nan</td><td>science</td><td>26627338</td><td>155489728</td><td>155489728</td><td>0.0</td></tr>\n",
       "<tr><td>image</td><td>3</td><td>HST</td><td>hst_13847_06_wfc3_uvis_f555w_icpc06</td><td>PROXIMA-CEN-SOURCE</td><td>217.3930416667</td><td>-62.67610555556</td><td>57651.12776794</td><td>57651.16249033</td><td>1142.4</td><td>Optical</td><td>F555W</td><td>441.7</td><td>659.1</td><td>--</td><td>--</td><td>58016.48351858</td><td>WFC3/UVIS</td><td>Sahu, Kailash C.</td><td>13847</td><td>HAP</td><td>HAP</td><td>--</td><td>HAP</td><td>POLYGON -142.6339802 -62.68696819 -142.61013610897859 -62.687993260324781 -142.60859567 -62.68878396 -142.60717798836779 -62.688120144506748 -142.58515515 -62.68906279 -142.58511436389904 -62.688362492017376 -142.58318122000003 -62.68844507 -142.58317699403838 -62.688372424512593 -142.58079078000003 -62.68847432 -142.58003163231675 -62.675400621160456 -142.57417734 -62.67265545 -142.57970581365598 -62.669785974110987 -142.57947780999996 -62.66585565 -142.58113784511292 -62.665784729314232 -142.58107952 -62.66478011 -142.5900885567215 -62.664394866879341 -142.60660426000004 -62.65581367 -142.62216592327437 -62.663018405822143 -142.62986463 -62.66268694 -142.62992894233687 -62.663764166954572 -142.63065327000004 -62.66373296 -142.63069509609952 -62.664433216234585 -142.63262664 -62.66434998 -142.63284244266654 -62.667958395375095 -142.6414171 -62.67192408 -142.63332844643179 -62.676081596764185 -142.6339802 -62.68696819 -142.6339802 -62.68696819</td><td>mast:HST/product/hst_13847_06_wfc3_uvis_f555w_icpc06_drc.jpg</td><td>mast:HST/product/hst_13847_06_wfc3_uvis_f555w_icpc06_drc.fits</td><td>PUBLIC</td><td>False</td><td>nan</td><td>science</td><td>26627693</td><td>153844955</td><td>153844955</td><td>0.0</td></tr>\n",
       "<tr><td>image</td><td>3</td><td>HST</td><td>hst_13847_06_wfc3_uvis_total_icpc06</td><td>PROXIMA-CEN-SOURCE</td><td>217.3930416667</td><td>-62.67610555556</td><td>57651.12776794</td><td>57651.16249033</td><td>1142.4</td><td>--</td><td>detection</td><td>441.7</td><td>659.1</td><td>--</td><td>--</td><td>58016.48351858</td><td>WFC3/UVIS</td><td>Sahu, Kailash C.</td><td>13847</td><td>HAP</td><td>HAP</td><td>--</td><td>HAP</td><td>POLYGON -142.6339802 -62.68696819 -142.61013610897859 -62.687993260324781 -142.60859567 -62.68878396 -142.60717798836779 -62.688120144506748 -142.58515515 -62.68906279 -142.58511436389904 -62.688362492017376 -142.58318122000003 -62.68844507 -142.58317699403838 -62.688372424512593 -142.58079078000003 -62.68847432 -142.58003163231675 -62.675400621160456 -142.57417734 -62.67265545 -142.57970581365598 -62.669785974110987 -142.57947780999996 -62.66585565 -142.58113784511292 -62.665784729314232 -142.58107952 -62.66478011 -142.5900885567215 -62.664394866879341 -142.60660426000004 -62.65581367 -142.62216592327437 -62.663018405822143 -142.62986463 -62.66268694 -142.62992894233687 -62.663764166954572 -142.63065327000004 -62.66373296 -142.63069509609952 -62.664433216234585 -142.63262664 -62.66434998 -142.63284244266654 -62.667958395375095 -142.6414171 -62.67192408 -142.63332844643179 -62.676081596764185 -142.6339802 -62.68696819 -142.6339802 -62.68696819</td><td>mast:HST/product/hst_13847_06_wfc3_uvis_total_icpc06_drc.jpg</td><td>mast:HST/product/hst_13847_06_wfc3_uvis_total_icpc06_drc.fits</td><td>PUBLIC</td><td>False</td><td>nan</td><td>science</td><td>26627696</td><td>153844999</td><td>153844999</td><td>0.0</td></tr>\n",
       "<tr><td>image</td><td>3</td><td>HST</td><td>hst_13847_02_wfc3_uvis_f555w_icpc02</td><td>PROXIMA-CEN-SOURCE</td><td>217.3930416667</td><td>-62.67610555556</td><td>57237.86896117</td><td>57237.90545429</td><td>1102.88</td><td>Optical</td><td>F555W</td><td>441.7</td><td>659.1</td><td>--</td><td>--</td><td>57604.17579856</td><td>WFC3/UVIS</td><td>Sahu, Kailash C.</td><td>13847</td><td>HAP</td><td>HAP</td><td>--</td><td>HAP</td><td>POLYGON -142.6414171 -62.67192408 -142.63638438392709 -62.674511056198867 -142.62411884 -62.68962341 -142.62225863882469 -62.689368224502317 -142.6218172 -62.68991177 -142.6211195387562 -62.689816055509667 -142.62033297 -62.69078448 -142.57335665 -62.68433015 -142.57420071074992 -62.683293021563728 -142.57257362999997 -62.68306914 -142.57914953048166 -62.674987037705492 -142.57417734 -62.67265545 -142.58606235753211 -62.666485743682514 -142.58981248999999 -62.6618717 -142.59143841719273 -62.662095365463628 -142.59218167 -62.66118064 -142.59541920968556 -62.661625932205418 -142.60660426000004 -62.65581367 -142.62918026359407 -62.666264194579192 -142.63912545 -62.66762869 -142.63876837845567 -62.668069030598687 -142.64132456 -62.66841961 -142.63928302027963 -62.670937239824688 -142.6414171 -62.67192408 -142.6414171 -62.67192408</td><td>mast:HST/product/hst_13847_02_wfc3_uvis_f555w_icpc02_drc.jpg</td><td>mast:HST/product/hst_13847_02_wfc3_uvis_f555w_icpc02_drc.fits</td><td>PUBLIC</td><td>False</td><td>nan</td><td>science</td><td>26629691</td><td>155176854</td><td>155176854</td><td>0.0</td></tr>\n",
       "<tr><td>image</td><td>3</td><td>HST</td><td>hst_13847_02_wfc3_uvis_total_icpc02</td><td>PROXIMA-CEN-SOURCE</td><td>217.3930416667</td><td>-62.67610555556</td><td>57237.86896117</td><td>57237.90545429</td><td>1102.88</td><td>--</td><td>detection</td><td>441.7</td><td>659.1</td><td>--</td><td>--</td><td>57604.17579856</td><td>WFC3/UVIS</td><td>Sahu, Kailash C.</td><td>13847</td><td>HAP</td><td>HAP</td><td>--</td><td>HAP</td><td>POLYGON -142.6414171 -62.67192408 -142.63638438392709 -62.674511056198867 -142.62411884 -62.68962341 -142.62225863882469 -62.689368224502317 -142.6218172 -62.68991177 -142.6211195387562 -62.689816055509667 -142.62033297 -62.69078448 -142.57335665 -62.68433015 -142.57420071074992 -62.683293021563728 -142.57257362999997 -62.68306914 -142.57914953048166 -62.674987037705492 -142.57417734 -62.67265545 -142.58606235753211 -62.666485743682514 -142.58981248999999 -62.6618717 -142.59143841719273 -62.662095365463628 -142.59218167 -62.66118064 -142.59541920968556 -62.661625932205418 -142.60660426000004 -62.65581367 -142.62918026359407 -62.666264194579192 -142.63912545 -62.66762869 -142.63876837845567 -62.668069030598687 -142.64132456 -62.66841961 -142.63928302027963 -62.670937239824688 -142.6414171 -62.67192408 -142.6414171 -62.67192408</td><td>mast:HST/product/hst_13847_02_wfc3_uvis_total_icpc02_drc.jpg</td><td>mast:HST/product/hst_13847_02_wfc3_uvis_total_icpc02_drc.fits</td><td>PUBLIC</td><td>False</td><td>nan</td><td>science</td><td>26629693</td><td>155176877</td><td>155176877</td><td>0.0</td></tr>\n",
       "</table></div>"
      ],
      "text/plain": [
       "<Table length=208>\n",
       "dataproduct_type calib_level obs_collection                obs_id                  target_name          s_ra      ... intentType  obsid     objID     objID1  distance\n",
       "      str5          int64         str3                     str35                      str18           float64     ...   str11      str8      str9      str9   float64 \n",
       "---------------- ----------- -------------- ----------------------------------- ------------------ -------------- ... ---------- -------- --------- --------- --------\n",
       "           image           1            HST                           o5eo01a1q              GJ551 217.4280908626 ...    science 24456245 124595927 124595927      0.0\n",
       "           image           1            HST                           o5eo02d8q              GJ551 217.4280776369 ...    science 24456246 124012931 124012931      0.0\n",
       "           image           2            HST                           u2kx0e01p        PROXIMA-CEN 217.4428774942 ...    science 24555169 123975056 123975056      0.0\n",
       "           image           2            HST                           u2kx0e02p        PROXIMA-CEN 217.4428774479 ...    science 24555170 123975428 123975428      0.0\n",
       "           image           2            HST                           u2kx0e03p        PROXIMA-CEN 217.4428774015 ...    science 24555171 123975054 123975054      0.0\n",
       "           image           2            HST                           u2kx0e04p        PROXIMA-CEN 217.4428773552 ...    science 24555172 123975319 123975319      0.0\n",
       "           image           2            HST                           u2kx0e05p        PROXIMA-CEN 217.4428773088 ...    science 24555173 123975430 123975430      0.0\n",
       "           image           2            HST                           u2kx0e06p        PROXIMA-CEN 217.4428772625 ...    science 24555174 123974989 123974989      0.0\n",
       "           image           2            HST                           u2kx0e07p        PROXIMA-CEN 217.4428772162 ...    science 24555175 123975317 123975317      0.0\n",
       "           image           2            HST                           u2kx0e08p        PROXIMA-CEN 217.4428771698 ...    science 24555176 123975052 123975052      0.0\n",
       "           image           2            HST                           u2kx0e09p        PROXIMA-CEN 217.4428770308 ...    science 24555177 123974876 123974876      0.0\n",
       "           image           2            HST                           u2kx0e0ap        PROXIMA-CEN 217.4428769195 ...    science 24555178 123974872 123974872      0.0\n",
       "           image           2            HST                           u2kx0e0bp        PROXIMA-CEN 217.4428768083 ...    science 24555179 123975048 123975048      0.0\n",
       "           image           2            HST                           u2kx0e0cp        PROXIMA-CEN  217.442876697 ...    science 24555180 123975312 123975312      0.0\n",
       "           image           2            HST                           u2kx0e0dp        PROXIMA-CEN 217.4428765858 ...    science 24555181 123975418 123975418      0.0\n",
       "           image           2            HST                           u2kx0e0ep        PROXIMA-CEN 217.4428764745 ...    science 24555182 123975209 123975209      0.0\n",
       "           image           2            HST                           u2kx0e0fp        PROXIMA-CEN 217.4428763633 ...    science 24555183 123975314 123975314      0.0\n",
       "           image           2            HST                           u2kx0e0gp        PROXIMA-CEN  217.442876252 ...    science 24555184 123975416 123975416      0.0\n",
       "           image           2            HST                           u2kx0f01t        PROXIMA-CEN 217.4425411714 ...    science 24555185 123975050 123975050      0.0\n",
       "           image           2            HST                           u2kx0f02t        PROXIMA-CEN 217.4425411233 ...    science 24555186 123975044 123975044      0.0\n",
       "           image           2            HST                           u2kx0f03t        PROXIMA-CEN 217.4425410753 ...    science 24555187 123975315 123975315      0.0\n",
       "           image           2            HST                           u2kx0f04t        PROXIMA-CEN 217.4425410272 ...    science 24555188 123975414 123975414      0.0\n",
       "             ...         ...            ...                                 ...                ...            ... ...        ...      ...       ...       ...      ...\n",
       "           image           3            HST hst_12985_02_wfc3_uvis_f475w_ic3j02 PROXIMA-CEN-SOURCE 217.3930416667 ...    science 26590254 154539788 154539788      0.0\n",
       "           image           3            HST hst_12985_02_wfc3_uvis_f606w_ic3j02 PROXIMA-CEN-SOURCE 217.3930416667 ...    science 26590257 154539816 154539816      0.0\n",
       "           image           3            HST hst_12985_02_wfc3_uvis_total_ic3j02 PROXIMA-CEN-SOURCE 217.3930416667 ...    science 26590259 154539832 154539832      0.0\n",
       "           image           3            HST hst_13466_02_wfc3_uvis_f555w_icdc02 PROXIMA-CEN-SOURCE 217.3930416667 ...    science 26605207 154846920 154846920      0.0\n",
       "           image           3            HST hst_13466_02_wfc3_uvis_total_icdc02 PROXIMA-CEN-SOURCE 217.3930416667 ...    science 26605218 154846952 154846952      0.0\n",
       "           image           3            HST hst_13466_03_wfc3_uvis_f555w_icdc03 PROXIMA-CEN-SOURCE 217.3930416667 ...    science 26605798 154674990 154674990      0.0\n",
       "           image           3            HST hst_13466_03_wfc3_uvis_total_icdc03 PROXIMA-CEN-SOURCE 217.3930416667 ...    science 26605804 154675023 154675023      0.0\n",
       "           image           3            HST hst_13847_04_wfc3_uvis_f555w_icpc04 PROXIMA-CEN-SOURCE 217.3930416667 ...    science 26626705 154408795 154408795      0.0\n",
       "           image           3            HST hst_13847_04_wfc3_uvis_total_icpc04 PROXIMA-CEN-SOURCE 217.3930416667 ...    science 26626711 154408827 154408827      0.0\n",
       "           image           3            HST hst_13847_01_wfc3_uvis_f555w_icpc01 PROXIMA-CEN-SOURCE 217.3930416667 ...    science 26626899 155391920 155391920      0.0\n",
       "           image           3            HST hst_13847_01_wfc3_uvis_total_icpc01 PROXIMA-CEN-SOURCE 217.3930416667 ...    science 26626903 155391940 155391940      0.0\n",
       "           image           3            HST hst_13847_07_wfc3_uvis_f555w_icpc07 PROXIMA-CEN-SOURCE 217.3930416667 ...    science 26627137 153993800 153993800      0.0\n",
       "           image           3            HST hst_13847_07_wfc3_uvis_total_icpc07 PROXIMA-CEN-SOURCE 217.3930416667 ...    science 26627144 153993862 153993862      0.0\n",
       "           image           3            HST hst_13847_05_wfc3_uvis_f555w_icpc05 PROXIMA-CEN-SOURCE 217.3930416667 ...    science 26627184 154557800 154557800      0.0\n",
       "           image           3            HST hst_13847_05_wfc3_uvis_total_icpc05 PROXIMA-CEN-SOURCE 217.3930416667 ...    science 26627185 154557825 154557825      0.0\n",
       "           image           3            HST hst_13847_08_wfc3_uvis_f555w_icpc08 PROXIMA-CEN-SOURCE 217.3930416667 ...    science 26627323 155465386 155465386      0.0\n",
       "           image           3            HST hst_13847_08_wfc3_uvis_total_icpc08 PROXIMA-CEN-SOURCE 217.3930416667 ...    science 26627327 155465390 155465390      0.0\n",
       "           image           3            HST hst_13847_03_wfc3_uvis_f555w_icpc03 PROXIMA-CEN-SOURCE 217.3930416667 ...    science 26627334 155489709 155489709      0.0\n",
       "           image           3            HST hst_13847_03_wfc3_uvis_total_icpc03 PROXIMA-CEN-SOURCE 217.3930416667 ...    science 26627338 155489728 155489728      0.0\n",
       "           image           3            HST hst_13847_06_wfc3_uvis_f555w_icpc06 PROXIMA-CEN-SOURCE 217.3930416667 ...    science 26627693 153844955 153844955      0.0\n",
       "           image           3            HST hst_13847_06_wfc3_uvis_total_icpc06 PROXIMA-CEN-SOURCE 217.3930416667 ...    science 26627696 153844999 153844999      0.0\n",
       "           image           3            HST hst_13847_02_wfc3_uvis_f555w_icpc02 PROXIMA-CEN-SOURCE 217.3930416667 ...    science 26629691 155176854 155176854      0.0\n",
       "           image           3            HST hst_13847_02_wfc3_uvis_total_icpc02 PROXIMA-CEN-SOURCE 217.3930416667 ...    science 26629693 155176877 155176877      0.0"
      ]
     },
     "execution_count": 151,
     "metadata": {},
     "output_type": "execute_result"
    }
   ],
   "source": [
    "public_obs_tables"
   ]
  },
  {
   "cell_type": "markdown",
   "id": "c3495bd1",
   "metadata": {},
   "source": [
    "That's quite a number of observations! Let's download just one for illustrative purposes."
   ]
  },
  {
   "cell_type": "code",
   "execution_count": 165,
   "id": "5deb2ba8",
   "metadata": {
    "ExecuteTime": {
     "end_time": "2022-09-28T04:07:06.851372Z",
     "start_time": "2022-09-28T04:07:06.413788Z"
    }
   },
   "outputs": [
    {
     "data": {
      "text/html": [
       "<div><i>Table masked=True length=51</i>\n",
       "<table id=\"table6017386624\" class=\"table-striped table-bordered table-condensed\">\n",
       "<thead><tr><th>obsID</th><th>obs_collection</th><th>dataproduct_type</th><th>obs_id</th><th>description</th><th>type</th><th>dataURI</th><th>productType</th><th>productGroupDescription</th><th>productSubGroupDescription</th><th>productDocumentationURL</th><th>project</th><th>prvversion</th><th>proposal_id</th><th>productFilename</th><th>size</th><th>parent_obsid</th><th>dataRights</th><th>calib_level</th></tr></thead>\n",
       "<thead><tr><th>str8</th><th>str3</th><th>str5</th><th>str37</th><th>str64</th><th>str1</th><th>str69</th><th>str9</th><th>str28</th><th>str11</th><th>str1</th><th>str6</th><th>str19</th><th>str5</th><th>str52</th><th>int64</th><th>str8</th><th>str6</th><th>int64</th></tr></thead>\n",
       "<tr><td>26589234</td><td>HST</td><td>image</td><td>hst_12985_01_wfc3_uvis_f814w_ic3j01</td><td>HAP trailer file</td><td>D</td><td>mast:HST/product/hst_12985_01_wfc3_uvis_f814w_ic3j01_trl.txt</td><td>AUXILIARY</td><td>--</td><td>TRL</td><td>--</td><td>HAP</td><td>DrizzlePac 3.4.1</td><td>12985</td><td>hst_12985_01_wfc3_uvis_f814w_ic3j01_trl.txt</td><td>17127</td><td>24810126</td><td>PUBLIC</td><td>3</td></tr>\n",
       "<tr><td>26589234</td><td>HST</td><td>image</td><td>hst_12985_01_wfc3_uvis_f814w_ic3j01</td><td>Preview-Full</td><td>D</td><td>mast:HST/product/hst_12985_01_wfc3_uvis_f814w_ic3j01_drc.jpg</td><td>PREVIEW</td><td>--</td><td>--</td><td>--</td><td>HAP</td><td>DrizzlePac 3.4.1</td><td>12985</td><td>hst_12985_01_wfc3_uvis_f814w_ic3j01_drc.jpg</td><td>443220</td><td>24810126</td><td>PUBLIC</td><td>3</td></tr>\n",
       "<tr><td>26589234</td><td>HST</td><td>image</td><td>hst_12985_01_wfc3_uvis_f814w_ic3j01</td><td>HAP fits science image</td><td>D</td><td>mast:HST/product/hst_12985_01_wfc3_uvis_f814w_ic3j01_drc.fits</td><td>SCIENCE</td><td>--</td><td>DRC</td><td>--</td><td>HAP</td><td>DrizzlePac 3.4.1</td><td>12985</td><td>hst_12985_01_wfc3_uvis_f814w_ic3j01_drc.fits</td><td>88899840</td><td>24810126</td><td>PUBLIC</td><td>3</td></tr>\n",
       "<tr><td>26589234</td><td>HST</td><td>image</td><td>hst_12985_01_wfc3_uvis_f814w_ic3j01</td><td>HAP source catalog</td><td>D</td><td>mast:HST/product/hst_12985_01_wfc3_uvis_f814w_ic3j01_point-cat.ecsv</td><td>SCIENCE</td><td>--</td><td>POINT-CAT</td><td>--</td><td>HAP</td><td>DrizzlePac 3.4.1</td><td>12985</td><td>hst_12985_01_wfc3_uvis_f814w_ic3j01_point-cat.ecsv</td><td>1242194</td><td>24810126</td><td>PUBLIC</td><td>3</td></tr>\n",
       "<tr><td>26589234</td><td>HST</td><td>image</td><td>hst_12985_01_wfc3_uvis_f814w_ic3j01</td><td>HAP source catalog</td><td>D</td><td>mast:HST/product/hst_12985_01_wfc3_uvis_f814w_ic3j01_segment-cat.ecsv</td><td>SCIENCE</td><td>--</td><td>SEGMENT-CAT</td><td>--</td><td>HAP</td><td>DrizzlePac 3.4.1</td><td>12985</td><td>hst_12985_01_wfc3_uvis_f814w_ic3j01_segment-cat.ecsv</td><td>7071511</td><td>24810126</td><td>PUBLIC</td><td>3</td></tr>\n",
       "<tr><td>26589198</td><td>HST</td><td>image</td><td>hst_12985_01_wfc3_uvis_f814w_ic3j01a1</td><td>HAP headerlet file</td><td>D</td><td>mast:HST/product/hst_12985_01_wfc3_uvis_f814w_ic3j01a1_hlet.fits</td><td>AUXILIARY</td><td>--</td><td>HLET</td><td>--</td><td>HAP</td><td>DrizzlePac 3.4.1</td><td>12985</td><td>hst_12985_01_wfc3_uvis_f814w_ic3j01a1_hlet.fits</td><td>57600</td><td>24810126</td><td>PUBLIC</td><td>2</td></tr>\n",
       "<tr><td>26589198</td><td>HST</td><td>image</td><td>hst_12985_01_wfc3_uvis_f814w_ic3j01a1</td><td>HAP trailer file</td><td>D</td><td>mast:HST/product/hst_12985_01_wfc3_uvis_f814w_ic3j01a1_trl.txt</td><td>AUXILIARY</td><td>--</td><td>TRL</td><td>--</td><td>HAP</td><td>DrizzlePac 3.4.1</td><td>12985</td><td>hst_12985_01_wfc3_uvis_f814w_ic3j01a1_trl.txt</td><td>7219</td><td>24810126</td><td>PUBLIC</td><td>2</td></tr>\n",
       "<tr><td>26589198</td><td>HST</td><td>image</td><td>hst_12985_01_wfc3_uvis_f814w_ic3j01a1</td><td>Preview-Full</td><td>D</td><td>mast:HST/product/hst_12985_01_wfc3_uvis_f814w_ic3j01a1_drc.jpg</td><td>PREVIEW</td><td>--</td><td>--</td><td>--</td><td>HAP</td><td>DrizzlePac 3.4.1</td><td>12985</td><td>hst_12985_01_wfc3_uvis_f814w_ic3j01a1_drc.jpg</td><td>1345226</td><td>24810126</td><td>PUBLIC</td><td>2</td></tr>\n",
       "<tr><td>26589198</td><td>HST</td><td>image</td><td>hst_12985_01_wfc3_uvis_f814w_ic3j01a1</td><td>HAP fits science image</td><td>D</td><td>mast:HST/product/hst_12985_01_wfc3_uvis_f814w_ic3j01a1_drc.fits</td><td>SCIENCE</td><td>--</td><td>DRC</td><td>--</td><td>HAP</td><td>DrizzlePac 3.4.1</td><td>12985</td><td>hst_12985_01_wfc3_uvis_f814w_ic3j01a1_drc.fits</td><td>88894080</td><td>24810126</td><td>PUBLIC</td><td>2</td></tr>\n",
       "<tr><td>26589198</td><td>HST</td><td>image</td><td>hst_12985_01_wfc3_uvis_f814w_ic3j01a1</td><td>HAP flat-field product</td><td>D</td><td>mast:HST/product/hst_12985_01_wfc3_uvis_f814w_ic3j01a1_flc.fits</td><td>SCIENCE</td><td>--</td><td>FLC</td><td>--</td><td>HAP</td><td>DrizzlePac 3.4.1</td><td>12985</td><td>hst_12985_01_wfc3_uvis_f814w_ic3j01a1_flc.fits</td><td>42577920</td><td>24810126</td><td>PUBLIC</td><td>2</td></tr>\n",
       "<tr><td>26589189</td><td>HST</td><td>image</td><td>hst_12985_01_wfc3_uvis_f814w_ic3j01a2</td><td>HAP headerlet file</td><td>D</td><td>mast:HST/product/hst_12985_01_wfc3_uvis_f814w_ic3j01a2_hlet.fits</td><td>AUXILIARY</td><td>--</td><td>HLET</td><td>--</td><td>HAP</td><td>DrizzlePac 3.4.1</td><td>12985</td><td>hst_12985_01_wfc3_uvis_f814w_ic3j01a2_hlet.fits</td><td>57600</td><td>24810126</td><td>PUBLIC</td><td>2</td></tr>\n",
       "<tr><td>26589189</td><td>HST</td><td>image</td><td>hst_12985_01_wfc3_uvis_f814w_ic3j01a2</td><td>HAP trailer file</td><td>D</td><td>mast:HST/product/hst_12985_01_wfc3_uvis_f814w_ic3j01a2_trl.txt</td><td>AUXILIARY</td><td>--</td><td>TRL</td><td>--</td><td>HAP</td><td>DrizzlePac 3.4.1</td><td>12985</td><td>hst_12985_01_wfc3_uvis_f814w_ic3j01a2_trl.txt</td><td>7206</td><td>24810126</td><td>PUBLIC</td><td>2</td></tr>\n",
       "<tr><td>26589189</td><td>HST</td><td>image</td><td>hst_12985_01_wfc3_uvis_f814w_ic3j01a2</td><td>Preview-Full</td><td>D</td><td>mast:HST/product/hst_12985_01_wfc3_uvis_f814w_ic3j01a2_drc.jpg</td><td>PREVIEW</td><td>--</td><td>--</td><td>--</td><td>HAP</td><td>DrizzlePac 3.4.1</td><td>12985</td><td>hst_12985_01_wfc3_uvis_f814w_ic3j01a2_drc.jpg</td><td>267868</td><td>24810126</td><td>PUBLIC</td><td>2</td></tr>\n",
       "<tr><td>26589189</td><td>HST</td><td>image</td><td>hst_12985_01_wfc3_uvis_f814w_ic3j01a2</td><td>HAP fits science image</td><td>D</td><td>mast:HST/product/hst_12985_01_wfc3_uvis_f814w_ic3j01a2_drc.fits</td><td>SCIENCE</td><td>--</td><td>DRC</td><td>--</td><td>HAP</td><td>DrizzlePac 3.4.1</td><td>12985</td><td>hst_12985_01_wfc3_uvis_f814w_ic3j01a2_drc.fits</td><td>88894080</td><td>24810126</td><td>PUBLIC</td><td>2</td></tr>\n",
       "<tr><td>26589189</td><td>HST</td><td>image</td><td>hst_12985_01_wfc3_uvis_f814w_ic3j01a2</td><td>HAP flat-field product</td><td>D</td><td>mast:HST/product/hst_12985_01_wfc3_uvis_f814w_ic3j01a2_flc.fits</td><td>SCIENCE</td><td>--</td><td>FLC</td><td>--</td><td>HAP</td><td>DrizzlePac 3.4.1</td><td>12985</td><td>hst_12985_01_wfc3_uvis_f814w_ic3j01a2_flc.fits</td><td>42577920</td><td>24810126</td><td>PUBLIC</td><td>2</td></tr>\n",
       "<tr><td>26589246</td><td>HST</td><td>image</td><td>hst_12985_01_wfc3_uvis_total_ic3j01</td><td>HAP trailer file</td><td>D</td><td>mast:HST/product/hst_12985_01_wfc3_uvis_total_ic3j01_trl.txt</td><td>AUXILIARY</td><td>--</td><td>TRL</td><td>--</td><td>HAP</td><td>DrizzlePac 3.4.1</td><td>12985</td><td>hst_12985_01_wfc3_uvis_total_ic3j01_trl.txt</td><td>535492</td><td>24810126</td><td>PUBLIC</td><td>3</td></tr>\n",
       "<tr><td>26589246</td><td>HST</td><td>image</td><td>hst_12985_01_wfc3_uvis_total_ic3j01</td><td>Preview-Full</td><td>D</td><td>mast:HST/product/hst_12985_01_wfc3_uvis_total_ic3j01_drc.jpg</td><td>PREVIEW</td><td>--</td><td>--</td><td>--</td><td>HAP</td><td>DrizzlePac 3.4.1</td><td>12985</td><td>hst_12985_01_wfc3_uvis_total_ic3j01_drc.jpg</td><td>718433</td><td>24810126</td><td>PUBLIC</td><td>3</td></tr>\n",
       "<tr><td>26589246</td><td>HST</td><td>image</td><td>hst_12985_01_wfc3_uvis_total_ic3j01</td><td>Preview-Full</td><td>D</td><td>mast:HST/product/hst_12985_01_wfc3_uvis_total_ic3j01_drc_color.jpg</td><td>PREVIEW</td><td>--</td><td>--</td><td>--</td><td>HAP</td><td>DrizzlePac 3.4.1</td><td>12985</td><td>hst_12985_01_wfc3_uvis_total_ic3j01_drc_color.jpg</td><td>851621</td><td>24810126</td><td>PUBLIC</td><td>3</td></tr>\n",
       "<tr><td>26589246</td><td>HST</td><td>image</td><td>hst_12985_01_wfc3_uvis_total_ic3j01</td><td>HAP fits science image</td><td>D</td><td>mast:HST/product/hst_12985_01_wfc3_uvis_total_ic3j01_drc.fits</td><td>SCIENCE</td><td>--</td><td>DRC</td><td>--</td><td>HAP</td><td>DrizzlePac 3.4.1</td><td>12985</td><td>hst_12985_01_wfc3_uvis_total_ic3j01_drc.fits</td><td>88925760</td><td>24810126</td><td>PUBLIC</td><td>3</td></tr>\n",
       "<tr><td>26589246</td><td>HST</td><td>image</td><td>hst_12985_01_wfc3_uvis_total_ic3j01</td><td>HAP source catalog</td><td>D</td><td>mast:HST/product/hst_12985_01_wfc3_uvis_total_ic3j01_point-cat.ecsv</td><td>SCIENCE</td><td>--</td><td>POINT-CAT</td><td>--</td><td>HAP</td><td>DrizzlePac 3.4.1</td><td>12985</td><td>hst_12985_01_wfc3_uvis_total_ic3j01_point-cat.ecsv</td><td>1059056</td><td>24810126</td><td>PUBLIC</td><td>3</td></tr>\n",
       "<tr><td>26589246</td><td>HST</td><td>image</td><td>hst_12985_01_wfc3_uvis_total_ic3j01</td><td>HAP source catalog</td><td>D</td><td>mast:HST/product/hst_12985_01_wfc3_uvis_total_ic3j01_segment-cat.ecsv</td><td>SCIENCE</td><td>--</td><td>SEGMENT-CAT</td><td>--</td><td>HAP</td><td>DrizzlePac 3.4.1</td><td>12985</td><td>hst_12985_01_wfc3_uvis_total_ic3j01_segment-cat.ecsv</td><td>2256094</td><td>24810126</td><td>PUBLIC</td><td>3</td></tr>\n",
       "<tr><td>24810126</td><td>HST</td><td>image</td><td>ic3j01010</td><td>DADS JIF file</td><td>D</td><td>mast:HST/product/ic3j01010_jif.fits</td><td>AUXILIARY</td><td>--</td><td>JIF</td><td>--</td><td>CALWF3</td><td>--</td><td>12985</td><td>ic3j01010_jif.fits</td><td>60480</td><td>24810126</td><td>PUBLIC</td><td>1</td></tr>\n",
       "<tr><td>...</td><td>...</td><td>...</td><td>...</td><td>...</td><td>...</td><td>...</td><td>...</td><td>...</td><td>...</td><td>...</td><td>...</td><td>...</td><td>...</td><td>...</td><td>...</td><td>...</td><td>...</td><td>...</td></tr>\n",
       "<tr><td>24810126</td><td>HST</td><td>image</td><td>ic3j01010</td><td>Preview-Full</td><td>D</td><td>mast:HST/product/ic3j01010_drz.jpg</td><td>PREVIEW</td><td>--</td><td>--</td><td>--</td><td>CALWF3</td><td>3.6.2 (May-27-2021)</td><td>12985</td><td>ic3j01010_drz.jpg</td><td>385672</td><td>24810126</td><td>PUBLIC</td><td>3</td></tr>\n",
       "<tr><td>24810126</td><td>HST</td><td>image</td><td>ic3j01010</td><td>DADS DRC file - CTE-corrected calibrated combined image ACS/WFC3</td><td>D</td><td>mast:HST/product/ic3j01010_drc.fits</td><td>SCIENCE</td><td>Minimum Recommended Products</td><td>DRC</td><td>--</td><td>CALWF3</td><td>3.6.2 (May-27-2021)</td><td>12985</td><td>ic3j01010_drc.fits</td><td>53879040</td><td>24810126</td><td>PUBLIC</td><td>3</td></tr>\n",
       "<tr><td>24810126</td><td>HST</td><td>image</td><td>ic3j01010</td><td>DADS DRZ file - Calibrated combined image ACS/WFC3/WFPC2/STIS</td><td>D</td><td>mast:HST/product/ic3j01010_drz.fits</td><td>SCIENCE</td><td>Minimum Recommended Products</td><td>DRZ</td><td>--</td><td>CALWF3</td><td>3.6.2 (May-27-2021)</td><td>12985</td><td>ic3j01010_drz.fits</td><td>53879040</td><td>24810126</td><td>PUBLIC</td><td>3</td></tr>\n",
       "<tr><td>23915519</td><td>HST</td><td>image</td><td>ic3j01a1q</td><td>DADS FLT_HLET</td><td>S</td><td>mast:HST/product/ic3j01a1q_flt_hlet.fits</td><td>AUXILIARY</td><td>--</td><td>FLT_HLET</td><td>--</td><td>CALWF3</td><td>3.6.2 (May-27-2021)</td><td>12985</td><td>ic3j01a1q_flt_hlet.fits</td><td>57600</td><td>24810126</td><td>PUBLIC</td><td>2</td></tr>\n",
       "<tr><td>23915519</td><td>HST</td><td>image</td><td>ic3j01a1q</td><td>DADS SPT file - Engineering telemetry ACS/WFC3/NICMOS/COS/STIS</td><td>S</td><td>mast:HST/product/ic3j01a1q_spt.fits</td><td>AUXILIARY</td><td>--</td><td>SPT</td><td>--</td><td>CALWF3</td><td>--</td><td>12985</td><td>ic3j01a1q_spt.fits</td><td>103680</td><td>24810126</td><td>PUBLIC</td><td>1</td></tr>\n",
       "<tr><td>23915519</td><td>HST</td><td>image</td><td>ic3j01a1q</td><td>DADS TRL file - Processing log</td><td>S</td><td>mast:HST/product/ic3j01a1q_trl.fits</td><td>AUXILIARY</td><td>--</td><td>TRL</td><td>--</td><td>CALWF3</td><td>--</td><td>12985</td><td>ic3j01a1q_trl.fits</td><td>48960</td><td>24810126</td><td>PUBLIC</td><td>1</td></tr>\n",
       "<tr><td>23915519</td><td>HST</td><td>image</td><td>ic3j01a1q</td><td>DADS LOG file</td><td>S</td><td>mast:HST/product/ic3j01a1q_log.txt</td><td>INFO</td><td>--</td><td>LOG</td><td>--</td><td>CALWF3</td><td>--</td><td>12985</td><td>ic3j01a1q_log.txt</td><td>11849</td><td>24810126</td><td>PUBLIC</td><td>1</td></tr>\n",
       "<tr><td>23915519</td><td>HST</td><td>image</td><td>ic3j01a1q</td><td>Preview-Full</td><td>S</td><td>mast:HST/product/ic3j01a1q_raw.jpg</td><td>PREVIEW</td><td>--</td><td>--</td><td>--</td><td>CALWF3</td><td>--</td><td>12985</td><td>ic3j01a1q_raw.jpg</td><td>1179045</td><td>24810126</td><td>PUBLIC</td><td>1</td></tr>\n",
       "<tr><td>23915519</td><td>HST</td><td>image</td><td>ic3j01a1q</td><td>Preview-Full</td><td>S</td><td>mast:HST/product/ic3j01a1q_flc.jpg</td><td>PREVIEW</td><td>--</td><td>--</td><td>--</td><td>CALWF3</td><td>3.6.2 (May-27-2021)</td><td>12985</td><td>ic3j01a1q_flc.jpg</td><td>1340944</td><td>24810126</td><td>PUBLIC</td><td>2</td></tr>\n",
       "<tr><td>23915519</td><td>HST</td><td>image</td><td>ic3j01a1q</td><td>Preview-Full</td><td>S</td><td>mast:HST/product/ic3j01a1q_flt.jpg</td><td>PREVIEW</td><td>--</td><td>--</td><td>--</td><td>CALWF3</td><td>3.6.2 (May-27-2021)</td><td>12985</td><td>ic3j01a1q_flt.jpg</td><td>1338371</td><td>24810126</td><td>PUBLIC</td><td>2</td></tr>\n",
       "<tr><td>23915519</td><td>HST</td><td>image</td><td>ic3j01a1q</td><td>DADS FLC file - CTE-corrected calibrated exposure ACS/WFC3</td><td>S</td><td>mast:HST/product/ic3j01a1q_flc.fits</td><td>SCIENCE</td><td>--</td><td>FLC</td><td>--</td><td>CALWF3</td><td>3.6.2 (May-27-2021)</td><td>12985</td><td>ic3j01a1q_flc.fits</td><td>42514560</td><td>24810126</td><td>PUBLIC</td><td>2</td></tr>\n",
       "<tr><td>23915519</td><td>HST</td><td>image</td><td>ic3j01a1q</td><td>DADS FLT file - Calibrated exposure ACS/WFC3/STIS/COS</td><td>S</td><td>mast:HST/product/ic3j01a1q_flt.fits</td><td>SCIENCE</td><td>--</td><td>FLT</td><td>--</td><td>CALWF3</td><td>3.6.2 (May-27-2021)</td><td>12985</td><td>ic3j01a1q_flt.fits</td><td>42514560</td><td>24810126</td><td>PUBLIC</td><td>2</td></tr>\n",
       "<tr><td>23915519</td><td>HST</td><td>image</td><td>ic3j01a1q</td><td>DADS RAW file - Raw exposure COS/NICMOS/STIS/WFC3/ACS</td><td>S</td><td>mast:HST/product/ic3j01a1q_raw.fits</td><td>SCIENCE</td><td>--</td><td>RAW</td><td>--</td><td>CALWF3</td><td>--</td><td>12985</td><td>ic3j01a1q_raw.fits</td><td>8527680</td><td>24810126</td><td>PUBLIC</td><td>1</td></tr>\n",
       "<tr><td>23915520</td><td>HST</td><td>image</td><td>ic3j01a2q</td><td>DADS FLT_HLET</td><td>S</td><td>mast:HST/product/ic3j01a2q_flt_hlet.fits</td><td>AUXILIARY</td><td>--</td><td>FLT_HLET</td><td>--</td><td>CALWF3</td><td>3.6.2 (May-27-2021)</td><td>12985</td><td>ic3j01a2q_flt_hlet.fits</td><td>57600</td><td>24810126</td><td>PUBLIC</td><td>2</td></tr>\n",
       "<tr><td>23915520</td><td>HST</td><td>image</td><td>ic3j01a2q</td><td>DADS SPT file - Engineering telemetry ACS/WFC3/NICMOS/COS/STIS</td><td>S</td><td>mast:HST/product/ic3j01a2q_spt.fits</td><td>AUXILIARY</td><td>--</td><td>SPT</td><td>--</td><td>CALWF3</td><td>--</td><td>12985</td><td>ic3j01a2q_spt.fits</td><td>103680</td><td>24810126</td><td>PUBLIC</td><td>1</td></tr>\n",
       "<tr><td>23915520</td><td>HST</td><td>image</td><td>ic3j01a2q</td><td>DADS TRL file - Processing log</td><td>S</td><td>mast:HST/product/ic3j01a2q_trl.fits</td><td>AUXILIARY</td><td>--</td><td>TRL</td><td>--</td><td>CALWF3</td><td>--</td><td>12985</td><td>ic3j01a2q_trl.fits</td><td>46080</td><td>24810126</td><td>PUBLIC</td><td>1</td></tr>\n",
       "<tr><td>23915520</td><td>HST</td><td>image</td><td>ic3j01a2q</td><td>DADS LOG file</td><td>S</td><td>mast:HST/product/ic3j01a2q_log.txt</td><td>INFO</td><td>--</td><td>LOG</td><td>--</td><td>CALWF3</td><td>--</td><td>12985</td><td>ic3j01a2q_log.txt</td><td>11508</td><td>24810126</td><td>PUBLIC</td><td>1</td></tr>\n",
       "<tr><td>23915520</td><td>HST</td><td>image</td><td>ic3j01a2q</td><td>Preview-Full</td><td>S</td><td>mast:HST/product/ic3j01a2q_raw.jpg</td><td>PREVIEW</td><td>--</td><td>--</td><td>--</td><td>CALWF3</td><td>--</td><td>12985</td><td>ic3j01a2q_raw.jpg</td><td>225724</td><td>24810126</td><td>PUBLIC</td><td>1</td></tr>\n",
       "<tr><td>23915520</td><td>HST</td><td>image</td><td>ic3j01a2q</td><td>Preview-Full</td><td>S</td><td>mast:HST/product/ic3j01a2q_flc.jpg</td><td>PREVIEW</td><td>--</td><td>--</td><td>--</td><td>CALWF3</td><td>3.6.2 (May-27-2021)</td><td>12985</td><td>ic3j01a2q_flc.jpg</td><td>303638</td><td>24810126</td><td>PUBLIC</td><td>2</td></tr>\n",
       "<tr><td>23915520</td><td>HST</td><td>image</td><td>ic3j01a2q</td><td>Preview-Full</td><td>S</td><td>mast:HST/product/ic3j01a2q_flt.jpg</td><td>PREVIEW</td><td>--</td><td>--</td><td>--</td><td>CALWF3</td><td>3.6.2 (May-27-2021)</td><td>12985</td><td>ic3j01a2q_flt.jpg</td><td>305361</td><td>24810126</td><td>PUBLIC</td><td>2</td></tr>\n",
       "<tr><td>23915520</td><td>HST</td><td>image</td><td>ic3j01a2q</td><td>DADS FLC file - CTE-corrected calibrated exposure ACS/WFC3</td><td>S</td><td>mast:HST/product/ic3j01a2q_flc.fits</td><td>SCIENCE</td><td>--</td><td>FLC</td><td>--</td><td>CALWF3</td><td>3.6.2 (May-27-2021)</td><td>12985</td><td>ic3j01a2q_flc.fits</td><td>42514560</td><td>24810126</td><td>PUBLIC</td><td>2</td></tr>\n",
       "<tr><td>23915520</td><td>HST</td><td>image</td><td>ic3j01a2q</td><td>DADS FLT file - Calibrated exposure ACS/WFC3/STIS/COS</td><td>S</td><td>mast:HST/product/ic3j01a2q_flt.fits</td><td>SCIENCE</td><td>--</td><td>FLT</td><td>--</td><td>CALWF3</td><td>3.6.2 (May-27-2021)</td><td>12985</td><td>ic3j01a2q_flt.fits</td><td>42514560</td><td>24810126</td><td>PUBLIC</td><td>2</td></tr>\n",
       "<tr><td>23915520</td><td>HST</td><td>image</td><td>ic3j01a2q</td><td>DADS RAW file - Raw exposure COS/NICMOS/STIS/WFC3/ACS</td><td>S</td><td>mast:HST/product/ic3j01a2q_raw.fits</td><td>SCIENCE</td><td>--</td><td>RAW</td><td>--</td><td>CALWF3</td><td>--</td><td>12985</td><td>ic3j01a2q_raw.fits</td><td>8527680</td><td>24810126</td><td>PUBLIC</td><td>1</td></tr>\n",
       "</table></div>"
      ],
      "text/plain": [
       "<Table masked=True length=51>\n",
       " obsID   obs_collection dataproduct_type                 obs_id                ...   size   parent_obsid dataRights calib_level\n",
       "  str8        str3            str5                       str37                 ...  int64       str8        str6       int64   \n",
       "-------- -------------- ---------------- ------------------------------------- ... -------- ------------ ---------- -----------\n",
       "26589234            HST            image   hst_12985_01_wfc3_uvis_f814w_ic3j01 ...    17127     24810126     PUBLIC           3\n",
       "26589234            HST            image   hst_12985_01_wfc3_uvis_f814w_ic3j01 ...   443220     24810126     PUBLIC           3\n",
       "26589234            HST            image   hst_12985_01_wfc3_uvis_f814w_ic3j01 ... 88899840     24810126     PUBLIC           3\n",
       "26589234            HST            image   hst_12985_01_wfc3_uvis_f814w_ic3j01 ...  1242194     24810126     PUBLIC           3\n",
       "26589234            HST            image   hst_12985_01_wfc3_uvis_f814w_ic3j01 ...  7071511     24810126     PUBLIC           3\n",
       "26589198            HST            image hst_12985_01_wfc3_uvis_f814w_ic3j01a1 ...    57600     24810126     PUBLIC           2\n",
       "26589198            HST            image hst_12985_01_wfc3_uvis_f814w_ic3j01a1 ...     7219     24810126     PUBLIC           2\n",
       "26589198            HST            image hst_12985_01_wfc3_uvis_f814w_ic3j01a1 ...  1345226     24810126     PUBLIC           2\n",
       "26589198            HST            image hst_12985_01_wfc3_uvis_f814w_ic3j01a1 ... 88894080     24810126     PUBLIC           2\n",
       "26589198            HST            image hst_12985_01_wfc3_uvis_f814w_ic3j01a1 ... 42577920     24810126     PUBLIC           2\n",
       "26589189            HST            image hst_12985_01_wfc3_uvis_f814w_ic3j01a2 ...    57600     24810126     PUBLIC           2\n",
       "26589189            HST            image hst_12985_01_wfc3_uvis_f814w_ic3j01a2 ...     7206     24810126     PUBLIC           2\n",
       "26589189            HST            image hst_12985_01_wfc3_uvis_f814w_ic3j01a2 ...   267868     24810126     PUBLIC           2\n",
       "26589189            HST            image hst_12985_01_wfc3_uvis_f814w_ic3j01a2 ... 88894080     24810126     PUBLIC           2\n",
       "26589189            HST            image hst_12985_01_wfc3_uvis_f814w_ic3j01a2 ... 42577920     24810126     PUBLIC           2\n",
       "26589246            HST            image   hst_12985_01_wfc3_uvis_total_ic3j01 ...   535492     24810126     PUBLIC           3\n",
       "26589246            HST            image   hst_12985_01_wfc3_uvis_total_ic3j01 ...   718433     24810126     PUBLIC           3\n",
       "26589246            HST            image   hst_12985_01_wfc3_uvis_total_ic3j01 ...   851621     24810126     PUBLIC           3\n",
       "26589246            HST            image   hst_12985_01_wfc3_uvis_total_ic3j01 ... 88925760     24810126     PUBLIC           3\n",
       "26589246            HST            image   hst_12985_01_wfc3_uvis_total_ic3j01 ...  1059056     24810126     PUBLIC           3\n",
       "26589246            HST            image   hst_12985_01_wfc3_uvis_total_ic3j01 ...  2256094     24810126     PUBLIC           3\n",
       "24810126            HST            image                             ic3j01010 ...    60480     24810126     PUBLIC           1\n",
       "     ...            ...              ...                                   ... ...      ...          ...        ...         ...\n",
       "24810126            HST            image                             ic3j01010 ...   385672     24810126     PUBLIC           3\n",
       "24810126            HST            image                             ic3j01010 ... 53879040     24810126     PUBLIC           3\n",
       "24810126            HST            image                             ic3j01010 ... 53879040     24810126     PUBLIC           3\n",
       "23915519            HST            image                             ic3j01a1q ...    57600     24810126     PUBLIC           2\n",
       "23915519            HST            image                             ic3j01a1q ...   103680     24810126     PUBLIC           1\n",
       "23915519            HST            image                             ic3j01a1q ...    48960     24810126     PUBLIC           1\n",
       "23915519            HST            image                             ic3j01a1q ...    11849     24810126     PUBLIC           1\n",
       "23915519            HST            image                             ic3j01a1q ...  1179045     24810126     PUBLIC           1\n",
       "23915519            HST            image                             ic3j01a1q ...  1340944     24810126     PUBLIC           2\n",
       "23915519            HST            image                             ic3j01a1q ...  1338371     24810126     PUBLIC           2\n",
       "23915519            HST            image                             ic3j01a1q ... 42514560     24810126     PUBLIC           2\n",
       "23915519            HST            image                             ic3j01a1q ... 42514560     24810126     PUBLIC           2\n",
       "23915519            HST            image                             ic3j01a1q ...  8527680     24810126     PUBLIC           1\n",
       "23915520            HST            image                             ic3j01a2q ...    57600     24810126     PUBLIC           2\n",
       "23915520            HST            image                             ic3j01a2q ...   103680     24810126     PUBLIC           1\n",
       "23915520            HST            image                             ic3j01a2q ...    46080     24810126     PUBLIC           1\n",
       "23915520            HST            image                             ic3j01a2q ...    11508     24810126     PUBLIC           1\n",
       "23915520            HST            image                             ic3j01a2q ...   225724     24810126     PUBLIC           1\n",
       "23915520            HST            image                             ic3j01a2q ...   303638     24810126     PUBLIC           2\n",
       "23915520            HST            image                             ic3j01a2q ...   305361     24810126     PUBLIC           2\n",
       "23915520            HST            image                             ic3j01a2q ... 42514560     24810126     PUBLIC           2\n",
       "23915520            HST            image                             ic3j01a2q ... 42514560     24810126     PUBLIC           2\n",
       "23915520            HST            image                             ic3j01a2q ...  8527680     24810126     PUBLIC           1"
      ]
     },
     "execution_count": 165,
     "metadata": {},
     "output_type": "execute_result"
    }
   ],
   "source": [
    "data_products_by_obs = Observations.get_product_list(public_obs_tables[0])\n",
    "data_products_by_obs"
   ]
  },
  {
   "cell_type": "markdown",
   "id": "39767042",
   "metadata": {},
   "source": [
    "As we download our data, we'll restrict ourselves to files that have been subjected to the [Drizzle algorithm](https://hst-docs.stsci.edu/drizzpac/chapter-3-description-of-the-drizzle-algorithm/3-2-drizzle-concept) \"drizzled\" files — ones with the `drz.fits` extension. \"Drizzled\" data have higher spatial resolution than non-drizzled data, and would therefore likely be desired for later science goals. \n"
   ]
  },
  {
   "cell_type": "code",
   "execution_count": 166,
   "id": "b5123544",
   "metadata": {
    "ExecuteTime": {
     "end_time": "2022-09-28T04:07:23.628600Z",
     "start_time": "2022-09-28T04:07:17.041461Z"
    }
   },
   "outputs": [
    {
     "name": "stdout",
     "output_type": "stream",
     "text": [
      "INFO: Found cached file ./mastDownload/HST/hst_12985_01_wfc3_uvis_f814w_ic3j01/hst_12985_01_wfc3_uvis_f814w_ic3j01_drc.fits with expected size 88899840. [astroquery.query]\n",
      "Downloading URL https://mast.stsci.edu/api/v0.1/Download/file?uri=mast:HST/product/hst_12985_01_wfc3_uvis_f814w_ic3j01_point-cat.ecsv to ./mastDownload/HST/hst_12985_01_wfc3_uvis_f814w_ic3j01/hst_12985_01_wfc3_uvis_f814w_ic3j01_point-cat.ecsv ... [Done]\n",
      "Downloading URL https://mast.stsci.edu/api/v0.1/Download/file?uri=mast:HST/product/hst_12985_01_wfc3_uvis_f814w_ic3j01_segment-cat.ecsv to ./mastDownload/HST/hst_12985_01_wfc3_uvis_f814w_ic3j01/hst_12985_01_wfc3_uvis_f814w_ic3j01_segment-cat.ecsv ... [Done]\n",
      "INFO: Found cached file ./mastDownload/HST/hst_12985_01_wfc3_uvis_f814w_ic3j01a1/hst_12985_01_wfc3_uvis_f814w_ic3j01a1_drc.fits with expected size 88894080. [astroquery.query]\n",
      "INFO: Found cached file ./mastDownload/HST/hst_12985_01_wfc3_uvis_f814w_ic3j01a1/hst_12985_01_wfc3_uvis_f814w_ic3j01a1_flc.fits with expected size 42577920. [astroquery.query]\n",
      "INFO: Found cached file ./mastDownload/HST/hst_12985_01_wfc3_uvis_f814w_ic3j01a2/hst_12985_01_wfc3_uvis_f814w_ic3j01a2_drc.fits with expected size 88894080. [astroquery.query]\n",
      "INFO: Found cached file ./mastDownload/HST/hst_12985_01_wfc3_uvis_f814w_ic3j01a2/hst_12985_01_wfc3_uvis_f814w_ic3j01a2_flc.fits with expected size 42577920. [astroquery.query]\n",
      "Downloading URL https://mast.stsci.edu/api/v0.1/Download/file?uri=mast:HST/product/hst_skycell-p0172x08y08_wfc3_uvis_f814w_all_drc.fits to ./mastDownload/HST/hst_skycell-p0172x08y08_wfc3_uvis_f814w_all/hst_skycell-p0172x08y08_wfc3_uvis_f814w_all_drc.fits ... [Done]\n",
      "INFO: Found cached file ./mastDownload/HST/ic3j01010/ic3j01010_drc.fits with expected size 53879040. [astroquery.query]\n",
      "INFO: Found cached file ./mastDownload/HST/ic3j01010/ic3j01010_drz.fits with expected size 53879040. [astroquery.query]\n",
      "INFO: Found cached file ./mastDownload/HST/ic3j01a1q/ic3j01a1q_flc.fits with expected size 42514560. [astroquery.query]\n",
      "INFO: Found cached file ./mastDownload/HST/ic3j01a1q/ic3j01a1q_flt.fits with expected size 42514560. [astroquery.query]\n",
      "INFO: Found cached file ./mastDownload/HST/ic3j01a1q/ic3j01a1q_raw.fits with expected size 8527680. [astroquery.query]\n",
      "INFO: Found cached file ./mastDownload/HST/ic3j01a2q/ic3j01a2q_flc.fits with expected size 42514560. [astroquery.query]\n",
      "INFO: Found cached file ./mastDownload/HST/ic3j01a2q/ic3j01a2q_flt.fits with expected size 42514560. [astroquery.query]\n",
      "INFO: Found cached file ./mastDownload/HST/ic3j01a2q/ic3j01a2q_raw.fits with expected size 8527680. [astroquery.query]\n"
     ]
    }
   ],
   "source": [
    "# select first observation collection\n",
    "obs_collection = data_products_by_obs['obs_collection'][0]\n",
    "obs_id = data_products_by_obs['obs_id'][0]\n",
    "\n",
    "# query and get product list for this collection\n",
    "single_obs = Observations.query_criteria(obs_collection=obs_collection, obs_id=obs_id)\n",
    "data_products = Observations.get_product_list(single_obs)\n",
    "\n",
    "# download data products\n",
    "manifest = Observations.download_products(data_products, productType=\"SCIENCE\", extension='drz.fits')"
   ]
  },
  {
   "cell_type": "markdown",
   "id": "deb40ae8",
   "metadata": {
    "ExecuteTime": {
     "end_time": "2022-09-28T04:05:44.620255Z",
     "start_time": "2022-09-28T04:05:44.616780Z"
    }
   },
   "source": [
    "## Plot HST data"
   ]
  },
  {
   "cell_type": "markdown",
   "id": "baeb92aa",
   "metadata": {},
   "source": [
    "We can read in the downloaded file with `astropy.io.fits`. We'll save the `log10` of the read in data as `data`, because science cases are often interested in log differences as opposed to linear differences in photon counts."
   ]
  },
  {
   "cell_type": "code",
   "execution_count": 174,
   "id": "6c19cf9c",
   "metadata": {
    "ExecuteTime": {
     "end_time": "2022-09-28T04:08:15.280119Z",
     "start_time": "2022-09-28T04:08:15.275314Z"
    }
   },
   "outputs": [],
   "source": [
    "file = 'mastDownload/HST/ic3j01010/ic3j01010_drz.fits'"
   ]
  },
  {
   "cell_type": "code",
   "execution_count": 175,
   "id": "6e9036d3",
   "metadata": {
    "ExecuteTime": {
     "end_time": "2022-09-28T04:08:15.575005Z",
     "start_time": "2022-09-28T04:08:15.445057Z"
    }
   },
   "outputs": [
    {
     "name": "stderr",
     "output_type": "stream",
     "text": [
      "/var/folders/6g/wwdtn0b173592x4xsbqc03t80000gn/T/ipykernel_43424/2984226887.py:1: RuntimeWarning: invalid value encountered in log10\n",
      "  data = np.log10(fits.getdata(file))\n"
     ]
    }
   ],
   "source": [
    "data = np.log10(fits.getdata(file))"
   ]
  },
  {
   "cell_type": "markdown",
   "id": "8e8ea2a2",
   "metadata": {},
   "source": [
    "As a first check, we can just plot the data as-is."
   ]
  },
  {
   "cell_type": "code",
   "execution_count": 186,
   "id": "e92ad6ac",
   "metadata": {
    "ExecuteTime": {
     "end_time": "2022-09-28T04:16:37.274913Z",
     "start_time": "2022-09-28T04:16:36.923653Z"
    }
   },
   "outputs": [
    {
     "data": {
      "text/plain": [
       "<matplotlib.colorbar.Colorbar at 0x166ae69e0>"
      ]
     },
     "execution_count": 186,
     "metadata": {},
     "output_type": "execute_result"
    },
    {
     "data": {
      "image/png": "[encoded data removed]",
      "text/plain": [
       "<Figure size 432x288 with 2 Axes>"
      ]
     },
     "metadata": {
      "needs_background": "light"
     },
     "output_type": "display_data"
    }
   ],
   "source": [
    "plt.imshow(data)\n",
    "plt.colorbar()"
   ]
  },
  {
   "cell_type": "markdown",
   "id": "18cf8929",
   "metadata": {},
   "source": [
    "Right now, however, we're dealing with pixel units. We don't really know how this translates to our sky coordinate system.\n",
    "\n",
    "This is where a [World Coordinate System](https://docs.astropy.org/en/stable/wcs/index.html#:~:text=World%20Coordinate%20Systems%20(WCSs)%20describe,to%20wavelength%20in%20a%20spectrum) (WCS) comes into play. This structure, which is embedded in our FITS file, will help us construct an accurate conversion from pixel units to sky units."
   ]
  },
  {
   "cell_type": "code",
   "execution_count": 184,
   "id": "11cb335b",
   "metadata": {
    "ExecuteTime": {
     "end_time": "2022-09-28T04:11:27.721825Z",
     "start_time": "2022-09-28T04:11:27.156394Z"
    }
   },
   "outputs": [
    {
     "name": "stdout",
     "output_type": "stream",
     "text": [
      "[<Quantity 11.>, <Quantity 1.>]\n"
     ]
    }
   ],
   "source": [
    "f = fits.open(file)\n",
    "w = WCS(f[1].header)\n",
    "f.close()"
   ]
  },
  {
   "cell_type": "markdown",
   "id": "0ecdfd31",
   "metadata": {
    "ExecuteTime": {
     "end_time": "2022-09-28T04:18:39.861793Z",
     "start_time": "2022-09-28T04:18:39.853347Z"
    }
   },
   "source": [
    "Finally, we can plot these data with our WCS projection, along with some cosmetic enhancements.\n",
    "\n",
    "The bright source in the center left is our star, Proxima Centauri. The spikes that jut out from that source are the HST point spread function. (describe)."
   ]
  },
  {
   "cell_type": "code",
   "execution_count": 185,
   "id": "ef40ea16",
   "metadata": {
    "ExecuteTime": {
     "end_time": "2022-09-28T04:11:29.389832Z",
     "start_time": "2022-09-28T04:11:28.880467Z"
    }
   },
   "outputs": [
    {
     "data": {
      "image/png": "[encoded data removed]",
      "text/plain": [
       "<Figure size 720x720 with 1 Axes>"
      ]
     },
     "metadata": {
      "needs_background": "light"
     },
     "output_type": "display_data"
    }
   ],
   "source": [
    "fig = plt.figure(figsize=(10, 10))\n",
    "ax = plt.subplot(projection=w)\n",
    "plt.imshow(data, origin='lower', cmap='cividis', aspect='equal')\n",
    "plt.xlabel(r'RA')\n",
    "plt.ylabel(r'Dec')"
   ]
  },
  {
   "cell_type": "markdown",
   "id": "11e8abc3",
   "metadata": {},
   "source": [
    "# Exercises\n",
    "- Stack a number of observations of a single star. Are you able to align the coordinate systems?\n",
    "- Repeat this process for Barnard's star.\n",
    "- Extract the photometry from a single soruce over multiple exposures. Are there discernible brightness variations in the target?\n",
    "- How many arcseconds have each of the highest proper motion targets moved over HST's lifetime?"
   ]
  },
  {
   "cell_type": "markdown",
   "id": "5080fad8",
   "metadata": {},
   "source": [
    "# Resources\n",
    "- [WCS primer](https://docs.astropy.org/en/stable/wcs/index.html#:~:text=World%20Coordinate%20Systems%20(WCSs)%20describe,to%20wavelength%20in%20a%20spectrum.)"
   ]
  },
  {
   "cell_type": "markdown",
   "id": "846aeeb6",
   "metadata": {},
   "source": [
    "# About this Notebook\n",
    "\n",
    "**Last updated**: 2022-09-28\n",
    "\n",
    "For support, contact archive@stsci.edu"
   ]
  },
  {
   "cell_type": "markdown",
   "id": "a74e1f32",
   "metadata": {},
   "source": [
    "# Citations\n",
    "If you use `astropy`, `astroquery`, or `numpy` for published research, please cite the\n",
    "authors. Follow these links for more information about citing `astropy`,\n",
    "`astroquery`, and `numpy`:\n",
    "\n",
    "* [Citing `astropy`](https://www.astropy.org/acknowledging.html)\n",
    "* [Citing `astroquery`](https://astroquery.readthedocs.io/en/latest/#astroquery)\n",
    "* [Citing `numpy`](https://numpy.org/citing-numpy/)"
   ]
  },
  {
   "cell_type": "markdown",
   "id": "18222a36",
   "metadata": {},
   "source": [
    "[Top of Page](#top)<img style=\"float: right;\" src=\"https://raw.githubusercontent.com/spacetelescope/notebooks/master/assets/stsci_pri_combo_mark_horizonal_white_bkgd.png\" alt=\"Space Telescope Logo\" width=\"200px\"/>\n"
   ]
  }
 ],
 "metadata": {
  "gist": {
   "data": {
    "description": "notebooks/MAST/m_dwarf_flares_hst/Untitled.ipynb",
    "public": true
   },
   "id": ""
  },
  "kernelspec": {
   "display_name": "Python 3 (ipykernel)",
   "language": "python",
   "name": "python3"
  },
  "language_info": {
   "codemirror_mode": {
    "name": "ipython",
    "version": 3
   },
   "file_extension": ".py",
   "mimetype": "text/x-python",
   "name": "python",
   "nbconvert_exporter": "python",
   "pygments_lexer": "ipython3",
   "version": "3.10.6"
  }
 },
 "nbformat": 4,
 "nbformat_minor": 5
}
