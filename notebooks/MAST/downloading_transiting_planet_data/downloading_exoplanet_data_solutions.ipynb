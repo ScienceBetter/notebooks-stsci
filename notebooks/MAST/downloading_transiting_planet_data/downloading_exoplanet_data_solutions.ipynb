{
 "cells": [
  {
   "cell_type": "markdown",
   "id": "ee38760a",
   "metadata": {},
   "source": [
    "# Downloading Exoplanet Data Solutions"
   ]
  },
  {
   "cell_type": "markdown",
   "id": "3113aa7c",
   "metadata": {},
   "source": [
    "***"
   ]
  },
  {
   "cell_type": "markdown",
   "id": "7761d2b6",
   "metadata": {},
   "source": [
    "This notebook contains solutions to the exercises described in the Exercises section of `downloading_exoplanet_data.ipynb`."
   ]
  },
  {
   "cell_type": "code",
   "execution_count": 3,
   "id": "409cd36e",
   "metadata": {
    "ExecuteTime": {
     "end_time": "2022-07-24T16:06:15.779691Z",
     "start_time": "2022-07-24T16:06:15.769636Z"
    }
   },
   "outputs": [],
   "source": [
    "import ast\n",
    "import sys\n",
    "import os\n",
    "import json\n",
    "import pprint\n",
    "import urllib.request\n",
    "from urllib.parse import quote as urlencode\n",
    "\n",
    "import numpy as np\n",
    "import requests\n",
    "from astropy.table import Table\n",
    "from astroquery.mast import Observations"
   ]
  },
  {
   "cell_type": "markdown",
   "id": "9703719f",
   "metadata": {},
   "source": [
    "# Exercise 1\n",
    "*Use the MAST API to sort Swift data on WASP-12 b by PI and download it.*"
   ]
  },
  {
   "cell_type": "markdown",
   "id": "614a673a",
   "metadata": {},
   "source": [
    "We begin with much of the same procedure as the tutorial notebook."
   ]
  },
  {
   "cell_type": "code",
   "execution_count": 4,
   "id": "ac5be813",
   "metadata": {
    "ExecuteTime": {
     "end_time": "2022-07-24T16:06:17.962334Z",
     "start_time": "2022-07-24T16:06:17.954757Z"
    }
   },
   "outputs": [],
   "source": [
    "object_of_interest = 'WASP-12 b'\n",
    "\n",
    "resolver_request = {'service':'Mast.Name.Lookup',\n",
    "                     'params':{'input':object_of_interest,\n",
    "                               'format':'json'},\n",
    "                     }\n",
    "\n",
    "# encoding the request as a json string\n",
    "req_string = json.dumps(resolver_request)\n",
    "req_string = urlencode(req_string)"
   ]
  },
  {
   "cell_type": "code",
   "execution_count": 5,
   "id": "9ad1d29a",
   "metadata": {
    "ExecuteTime": {
     "end_time": "2022-07-24T16:06:30.622486Z",
     "start_time": "2022-07-24T16:06:30.615277Z"
    }
   },
   "outputs": [],
   "source": [
    "pp = pprint.PrettyPrinter(indent=4)"
   ]
  },
  {
   "cell_type": "code",
   "execution_count": 6,
   "id": "a352177a",
   "metadata": {
    "ExecuteTime": {
     "end_time": "2022-07-24T16:06:34.424492Z",
     "start_time": "2022-07-24T16:06:34.416530Z"
    }
   },
   "outputs": [],
   "source": [
    "object_of_interest = 'WASP-12 b'\n",
    "\n",
    "resolver_request = {'service':'Mast.Name.Lookup',\n",
    "                     'params':{'input':object_of_interest,\n",
    "                               'format':'json'},\n",
    "                     }\n",
    "\n",
    "# encoding the request as a json string\n",
    "req_string = json.dumps(resolver_request)\n",
    "req_string = urlencode(req_string)"
   ]
  },
  {
   "cell_type": "code",
   "execution_count": 7,
   "id": "3081324f",
   "metadata": {
    "ExecuteTime": {
     "end_time": "2022-07-24T16:06:38.388067Z",
     "start_time": "2022-07-24T16:06:38.380353Z"
    }
   },
   "outputs": [],
   "source": [
    "# retrieve our system's Python version for the request. \n",
    "version = \".\".join(map(str, sys.version_info[:3]))\n",
    "\n",
    "# create HTTP Header Variables\n",
    "headers = {\"Content-type\": \"application/x-www-form-urlencoded\",\n",
    "           \"Accept\": \"text/plain\",\n",
    "           \"User-agent\":\"python-requests/\"+version}\n"
   ]
  },
  {
   "cell_type": "code",
   "execution_count": 8,
   "id": "0a9e03b5",
   "metadata": {
    "ExecuteTime": {
     "end_time": "2022-07-24T16:06:42.831071Z",
     "start_time": "2022-07-24T16:06:42.327472Z"
    }
   },
   "outputs": [],
   "source": [
    "# base API url\n",
    "request_url='https://mast.stsci.edu/api/v0/invoke'    \n",
    "\n",
    "# perform the HTTP request\n",
    "resp = requests.post(request_url, data=\"request=\"+req_string, headers=headers)"
   ]
  },
  {
   "cell_type": "code",
   "execution_count": 9,
   "id": "dc61ff3d",
   "metadata": {
    "ExecuteTime": {
     "end_time": "2022-07-24T16:06:46.035376Z",
     "start_time": "2022-07-24T16:06:46.025936Z"
    }
   },
   "outputs": [
    {
     "name": "stdout",
     "output_type": "stream",
     "text": [
      "{   'resolvedCoordinate': [   {   'cached': False,\n",
      "                                  'canonicalName': 'WASP-12 b',\n",
      "                                  'decl': 29.672277777989713,\n",
      "                                  'ra': 97.6366416613261,\n",
      "                                  'resolver': 'EXO',\n",
      "                                  'resolverTime': 79,\n",
      "                                  'searchRadius': 0.000333,\n",
      "                                  'searchString': 'wasp-12 b'}],\n",
      "    'status': ''}\n"
     ]
    }
   ],
   "source": [
    "resolved_object = resp.json()\n",
    "\n",
    "pp.pprint(resolved_object)"
   ]
  },
  {
   "cell_type": "code",
   "execution_count": 10,
   "id": "c5515f76",
   "metadata": {
    "ExecuteTime": {
     "end_time": "2022-07-24T16:06:51.524964Z",
     "start_time": "2022-07-24T16:06:51.505910Z"
    }
   },
   "outputs": [
    {
     "data": {
      "text/plain": [
       "(97.6366416613261, 29.672277777989713)"
      ]
     },
     "execution_count": 10,
     "metadata": {},
     "output_type": "execute_result"
    }
   ],
   "source": [
    "obj_ra = resolved_object['resolvedCoordinate'][0]['ra']\n",
    "obj_dec = resolved_object['resolvedCoordinate'][0]['decl']\n",
    "\n",
    "obj_ra, obj_dec"
   ]
  },
  {
   "cell_type": "code",
   "execution_count": 11,
   "id": "c5e8a9fb",
   "metadata": {
    "ExecuteTime": {
     "end_time": "2022-07-24T16:07:08.682307Z",
     "start_time": "2022-07-24T16:06:55.380443Z"
    }
   },
   "outputs": [
    {
     "name": "stdout",
     "output_type": "stream",
     "text": [
      "dict_keys(['status', 'msg', 'data', 'fields', 'paging'])\n",
      "Query status: COMPLETE\n"
     ]
    }
   ],
   "source": [
    "mast_request = {'service':'Mast.Caom.Cone',\n",
    "                'params':{'ra':obj_ra,\n",
    "                          'dec':obj_dec,\n",
    "                          'radius':0.2},\n",
    "                'format':'json',\n",
    "                'pagesize':2000,\n",
    "                'page':1,\n",
    "                'removenullcolumns':True,\n",
    "                'removecache':True}\n",
    "\n",
    "\n",
    "# encoding the request as a json string\n",
    "req_string = json.dumps(mast_request)\n",
    "req_string = urlencode(req_string)\n",
    "\n",
    "# perform the HTTP request\n",
    "resp = requests.post(request_url, data=\"request=\"+req_string, headers=headers)\n",
    "\n",
    "# decode the HTTP result\n",
    "mast_data = resp.json()\n",
    "\n",
    "\n",
    "print(mast_data.keys())\n",
    "print(\"Query status:\",mast_data['status'])"
   ]
  },
  {
   "cell_type": "code",
   "execution_count": 14,
   "id": "8720398c",
   "metadata": {
    "ExecuteTime": {
     "end_time": "2022-07-24T16:08:32.700362Z",
     "start_time": "2022-07-24T16:08:32.656426Z"
    }
   },
   "outputs": [
    {
     "name": "stdout",
     "output_type": "stream",
     "text": [
      "intentType obs_collection provenance_name instrument_name project filters ... dataRights mtFlag srcDen  obsid       distance     _selected_\n",
      "---------- -------------- --------------- --------------- ------- ------- ... ---------- ------ ------ -------- ---------------- ----------\n",
      "   science           TESS            SPOC      Photometer    TESS    TESS ...     PUBLIC  False    nan 27266912              0.0      False\n",
      "   science           TESS            SPOC      Photometer    TESS    TESS ...     PUBLIC  False    nan 65432622              0.0      False\n",
      "   science           TESS            SPOC      Photometer    TESS    TESS ...     PUBLIC  False    nan 68942182              0.0      False\n",
      "   science           TESS            SPOC      Photometer    TESS    TESS ...     PUBLIC  False    nan 71308547              0.0      False\n",
      "   science           TESS            SPOC      Photometer    TESS    TESS ...     PUBLIC  False    nan 71741843              0.0      False\n",
      "   science           TESS            SPOC      Photometer    TESS    TESS ...     PUBLIC  False    nan 27242856              0.0      False\n",
      "   science           TESS            SPOC      Photometer    TESS    TESS ...     PUBLIC  False    nan 71741845              0.0      False\n",
      "   science           TESS            SPOC      Photometer    TESS    TESS ...     PUBLIC  False    nan 65361378              0.0      False\n",
      "   science           TESS            SPOC      Photometer    TESS    TESS ...     PUBLIC  False    nan 68725979              0.0      False\n",
      "   science           TESS            SPOC      Photometer    TESS    TESS ...     PUBLIC  False    nan 71236476              0.0      False\n",
      "   science           TESS            SPOC      Photometer    TESS    TESS ...     PUBLIC  False    nan 65361380 581.781066069102      False\n",
      "   science           TESS            SPOC      Photometer    TESS    TESS ...     PUBLIC  False    nan 68725981 581.781066069102      False\n",
      "   science           TESS            SPOC      Photometer    TESS    TESS ...     PUBLIC  False    nan 71236478 581.781066069102      False\n",
      "   science          SWIFT            None            UVOT    None    UVM2 ...     PUBLIC  False 5885.0  1468834              0.0      False\n",
      "   science          SWIFT            None            UVOT    None    UVM2 ...     PUBLIC  False 5885.0  1522757              0.0      False\n",
      "   science          SWIFT            None            UVOT    None    UVM2 ...     PUBLIC  False 5885.0  1522758              0.0      False\n",
      "       ...            ...             ...             ...     ...     ... ...        ...    ...    ...      ...              ...        ...\n",
      "   science    SPITZER_SHA    SSC Pipeline            IRAC    None   IRAC2 ...     PUBLIC  False    nan  1692417              0.0      False\n",
      "   science    SPITZER_SHA    SSC Pipeline            IRAC    None   IRAC2 ...     PUBLIC  False    nan  1692417              0.0      False\n",
      "   science    SPITZER_SHA    SSC Pipeline            IRAC    None   IRAC4 ...     PUBLIC  False    nan  1692417              0.0      False\n",
      "   science    SPITZER_SHA    SSC Pipeline            IRAC    None   IRAC2 ...     PUBLIC  False    nan  1692417              0.0      False\n",
      "   science    SPITZER_SHA    SSC Pipeline            IRAC    None   IRAC4 ...     PUBLIC  False    nan  1692417              0.0      False\n",
      "   science    SPITZER_SHA    SSC Pipeline            IRAC    None   IRAC2 ...     PUBLIC  False    nan  1692417              0.0      False\n",
      "   science    SPITZER_SHA    SSC Pipeline            IRAC    None   IRAC4 ...     PUBLIC  False    nan  1692417              0.0      False\n",
      "   science    SPITZER_SHA    SSC Pipeline            IRAC    None   IRAC2 ...     PUBLIC  False    nan  1692417              0.0      False\n",
      "   science    SPITZER_SHA    SSC Pipeline            IRAC    None   IRAC2 ...     PUBLIC  False    nan  1692417              0.0      False\n",
      "   science    SPITZER_SHA    SSC Pipeline            IRAC    None   IRAC2 ...     PUBLIC  False    nan  1692417              0.0      False\n",
      "   science    SPITZER_SHA    SSC Pipeline            IRAC    None   IRAC2 ...     PUBLIC  False    nan  1692417              0.0      False\n",
      "   science    SPITZER_SHA    SSC Pipeline            IRAC    None   IRAC4 ...     PUBLIC  False    nan  1692417              0.0      False\n",
      "   science    SPITZER_SHA    SSC Pipeline            IRAC    None   IRAC4 ...     PUBLIC  False    nan  1692417              0.0      False\n",
      "   science    SPITZER_SHA    SSC Pipeline            IRAC    None   IRAC2 ...     PUBLIC  False    nan  1692417              0.0      False\n",
      "   science    SPITZER_SHA    SSC Pipeline            IRAC    None   IRAC4 ...     PUBLIC  False    nan  1692417              0.0      False\n",
      "   science    SPITZER_SHA    SSC Pipeline            IRAC    None   IRAC2 ...     PUBLIC  False    nan  1692417              0.0      False\n",
      "Length = 2000 rows\n"
     ]
    }
   ],
   "source": [
    "mast_data_table = Table()\n",
    "\n",
    "col_type_list = [(field['name'], field['type']) for field in mast_data['fields']]\n",
    "\n",
    "for col, atype in col_type_list:\n",
    "    \n",
    "    # recast data types\n",
    "    if atype==\"string\":\n",
    "        atype=\"str\"\n",
    "    if atype==\"boolean\":\n",
    "        atype=\"bool\"\n",
    "    \n",
    "    # create column in Table corresponding to the mast_data field\n",
    "    mast_data_table[col] = np.array([x.get(col, None) for x in mast_data['data']],dtype=atype)\n",
    "    \n",
    "print(mast_data_table)"
   ]
  },
  {
   "cell_type": "code",
   "execution_count": 15,
   "id": "c79fe493",
   "metadata": {
    "ExecuteTime": {
     "end_time": "2022-07-24T16:08:34.667046Z",
     "start_time": "2022-07-24T16:08:34.656231Z"
    }
   },
   "outputs": [
    {
     "data": {
      "text/plain": [
       "<TableColumns names=('intentType','obs_collection','provenance_name','instrument_name','project','filters','wavelength_region','target_name','target_classification','obs_id','s_ra','s_dec','dataproduct_type','proposal_pi','calib_level','t_min','t_max','t_exptime','em_min','em_max','obs_title','t_obs_release','proposal_id','proposal_type','sequence_number','s_region','jpegURL','dataURL','dataRights','mtFlag','srcDen','obsid','distance','_selected_')>"
      ]
     },
     "execution_count": 15,
     "metadata": {},
     "output_type": "execute_result"
    }
   ],
   "source": [
    "mast_data_table.columns"
   ]
  },
  {
   "cell_type": "markdown",
   "id": "7d10cf6c",
   "metadata": {},
   "source": [
    "Instead of next sorting by `t_min`, though, we sort by PI."
   ]
  },
  {
   "cell_type": "code",
   "execution_count": 17,
   "id": "239e831c",
   "metadata": {
    "ExecuteTime": {
     "end_time": "2022-07-24T16:08:52.329003Z",
     "start_time": "2022-07-24T16:08:52.300792Z"
    }
   },
   "outputs": [],
   "source": [
    "mast_data_table.sort('proposal_pi')"
   ]
  },
  {
   "cell_type": "code",
   "execution_count": 19,
   "id": "a6ffad4c",
   "metadata": {
    "ExecuteTime": {
     "end_time": "2022-07-24T16:10:15.932778Z",
     "start_time": "2022-07-24T16:10:15.914667Z"
    }
   },
   "outputs": [
    {
     "name": "stdout",
     "output_type": "stream",
     "text": [
      "intentType obs_collection provenance_name instrument_name project filters ... dataRights mtFlag srcDen  obsid       distance     _selected_\n",
      "---------- -------------- --------------- --------------- ------- ------- ... ---------- ------ ------ -------- ---------------- ----------\n",
      "   science    SPITZER_SHA    SSC Pipeline            IRAC    None   IRAC1 ...     PUBLIC  False    nan  1696175              0.0      False\n",
      "   science    SPITZER_SHA    SSC Pipeline            IRAC    None   IRAC3 ...     PUBLIC  False    nan  1696175              0.0      False\n",
      "   science    SPITZER_SHA    SSC Pipeline            IRAC    None   IRAC2 ...     PUBLIC  False    nan  1696175              0.0      False\n",
      "   science    SPITZER_SHA    SSC Pipeline            IRAC    None   IRAC4 ...     PUBLIC  False    nan  1696175              0.0      False\n",
      "   science          SWIFT            None            UVOT    None    UVM2 ...     PUBLIC  False 5885.0  1513232              0.0      False\n",
      "   science          SWIFT            None            UVOT    None    UVM2 ...     PUBLIC  False 5885.0  1392183              0.0      False\n",
      "   science          SWIFT            None            UVOT    None    UVM2 ...     PUBLIC  False 5885.0  1522758              0.0      False\n",
      "   science          SWIFT            None            UVOT    None    UVM2 ...     PUBLIC  False 5885.0  1522757              0.0      False\n",
      "   science          SWIFT            None            UVOT    None    UVM2 ...     PUBLIC  False 5885.0  1468834              0.0      False\n",
      "   science           TESS            SPOC      Photometer    TESS    TESS ...     PUBLIC  False    nan 65361380 581.781066069102      False\n",
      "   science           TESS            SPOC      Photometer    TESS    TESS ...     PUBLIC  False    nan 65432622              0.0      False\n",
      "   science           TESS            SPOC      Photometer    TESS    TESS ...     PUBLIC  False    nan 68942182              0.0      False\n",
      "   science           TESS            SPOC      Photometer    TESS    TESS ...     PUBLIC  False    nan 71308547              0.0      False\n",
      "   science           TESS            SPOC      Photometer    TESS    TESS ...     PUBLIC  False    nan 27242856              0.0      False\n",
      "   science           TESS            SPOC      Photometer    TESS    TESS ...     PUBLIC  False    nan 71741845              0.0      False\n",
      "   science           TESS            SPOC      Photometer    TESS    TESS ...     PUBLIC  False    nan 71741843              0.0      False\n",
      "       ...            ...             ...             ...     ...     ... ...        ...    ...    ...      ...              ...        ...\n",
      "   science    SPITZER_SHA    SSC Pipeline            IRAC    None   IRAC2 ...     PUBLIC  False    nan  1692417              0.0      False\n",
      "   science    SPITZER_SHA    SSC Pipeline            IRAC    None   IRAC2 ...     PUBLIC  False    nan  1692417              0.0      False\n",
      "   science    SPITZER_SHA    SSC Pipeline            IRAC    None   IRAC2 ...     PUBLIC  False    nan  1692417              0.0      False\n",
      "   science    SPITZER_SHA    SSC Pipeline            IRAC    None   IRAC4 ...     PUBLIC  False    nan  1692417              0.0      False\n",
      "   science    SPITZER_SHA    SSC Pipeline            IRAC    None   IRAC2 ...     PUBLIC  False    nan  1692417              0.0      False\n",
      "   science    SPITZER_SHA    SSC Pipeline            IRAC    None   IRAC4 ...     PUBLIC  False    nan  1692417              0.0      False\n",
      "   science    SPITZER_SHA    SSC Pipeline            IRAC    None   IRAC2 ...     PUBLIC  False    nan  1692417              0.0      False\n",
      "   science    SPITZER_SHA    SSC Pipeline            IRAC    None   IRAC4 ...     PUBLIC  False    nan  1692417              0.0      False\n",
      "   science    SPITZER_SHA    SSC Pipeline            IRAC    None   IRAC2 ...     PUBLIC  False    nan  1692417              0.0      False\n",
      "   science    SPITZER_SHA    SSC Pipeline            IRAC    None   IRAC2 ...     PUBLIC  False    nan  1692417              0.0      False\n",
      "   science    SPITZER_SHA    SSC Pipeline            IRAC    None   IRAC2 ...     PUBLIC  False    nan  1692417              0.0      False\n",
      "   science    SPITZER_SHA    SSC Pipeline            IRAC    None   IRAC2 ...     PUBLIC  False    nan  1692417              0.0      False\n",
      "   science    SPITZER_SHA    SSC Pipeline            IRAC    None   IRAC4 ...     PUBLIC  False    nan  1692417              0.0      False\n",
      "   science    SPITZER_SHA    SSC Pipeline            IRAC    None   IRAC4 ...     PUBLIC  False    nan  1692417              0.0      False\n",
      "   science    SPITZER_SHA    SSC Pipeline            IRAC    None   IRAC4 ...     PUBLIC  False    nan  1692417              0.0      False\n",
      "   science    SPITZER_SHA    SSC Pipeline            IRAC    None   IRAC2 ...     PUBLIC  False    nan  1692417              0.0      False\n",
      "Length = 2000 rows\n"
     ]
    }
   ],
   "source": [
    "print(mast_data_table)"
   ]
  },
  {
   "cell_type": "code",
   "execution_count": 21,
   "id": "ad6fa10e",
   "metadata": {
    "ExecuteTime": {
     "end_time": "2022-07-24T16:11:58.027195Z",
     "start_time": "2022-07-24T16:11:58.013881Z"
    }
   },
   "outputs": [
    {
     "name": "stdout",
     "output_type": "stream",
     "text": [
      "Observation: ['cube', 'SWIFT', 'UVOT']\n"
     ]
    }
   ],
   "source": [
    "recent_index = -1\n",
    "interesting_observation = mast_data_table[mast_data_table[\"obs_collection\"] == \"SWIFT\"][recent_index]\n",
    "print(\"Observation:\",\n",
    "      [interesting_observation[x] for x in ['dataproduct_type', 'obs_collection', 'instrument_name']])"
   ]
  },
  {
   "cell_type": "code",
   "execution_count": 23,
   "id": "5d573cb9",
   "metadata": {
    "ExecuteTime": {
     "end_time": "2022-07-24T16:13:20.584304Z",
     "start_time": "2022-07-24T16:13:20.360519Z"
    }
   },
   "outputs": [
    {
     "name": "stdout",
     "output_type": "stream",
     "text": [
      "Number of data products: 5\n",
      "Product information column names:\n",
      "[   {'name': 'obsID', 'type': 'string'},\n",
      "    {'name': 'obs_collection', 'type': 'string'},\n",
      "    {'name': 'dataproduct_type', 'type': 'string'},\n",
      "    {'name': 'obs_id', 'type': 'string'},\n",
      "    {'name': 'description', 'type': 'string'},\n",
      "    {'name': 'type', 'type': 'string'},\n",
      "    {'name': 'dataURI', 'type': 'string'},\n",
      "    {'name': 'productType', 'type': 'string'},\n",
      "    {'name': 'productGroupDescription', 'type': 'string'},\n",
      "    {'name': 'productSubGroupDescription', 'type': 'string'},\n",
      "    {'name': 'productDocumentationURL', 'type': 'string'},\n",
      "    {'name': 'project', 'type': 'string'},\n",
      "    {'name': 'prvversion', 'type': 'string'},\n",
      "    {'name': 'proposal_id', 'type': 'string'},\n",
      "    {'name': 'productFilename', 'type': 'string'},\n",
      "    {'name': 'size', 'type': 'int'},\n",
      "    {'name': 'parent_obsid', 'type': 'string'},\n",
      "    {'name': 'dataRights', 'type': 'string'},\n",
      "    {'name': 'calib_level', 'type': 'int'},\n",
      "    {'name': '_selected_', 'type': 'boolean'}]\n"
     ]
    }
   ],
   "source": [
    "obsid = interesting_observation['obsid']\n",
    "\n",
    "product_request = {'service':'Mast.Caom.Products',\n",
    "                  'params':{'obsid':obsid},\n",
    "                  'format':'json',\n",
    "                  'pagesize':100,\n",
    "                  'page':1}   \n",
    "\n",
    "# encoding the request as a json string\n",
    "req_string = json.dumps(product_request)\n",
    "req_string = urlencode(req_string)\n",
    "\n",
    "# perform the HTTP request\n",
    "resp = requests.post(request_url, data=\"request=\"+req_string, headers=headers)\n",
    "\n",
    "# dfrecode the HTTP result\n",
    "obs_products = resp.json()\n",
    "\n",
    "print(\"Number of data products:\", len(obs_products[\"data\"]))\n",
    "print(\"Product information column names:\")\n",
    "pp.pprint(obs_products['fields'])"
   ]
  },
  {
   "cell_type": "code",
   "execution_count": 24,
   "id": "675a2c8b",
   "metadata": {
    "ExecuteTime": {
     "end_time": "2022-07-24T16:13:35.966640Z",
     "start_time": "2022-07-24T16:13:35.960324Z"
    }
   },
   "outputs": [
    {
     "name": "stdout",
     "output_type": "stream",
     "text": [
      "['PREVIEW', 'SCIENCE', 'SCIENCE', 'SCIENCE', 'SCIENCE']\n"
     ]
    }
   ],
   "source": [
    "pp.pprint([x.get('productType',\"\") for x in obs_products[\"data\"]])"
   ]
  },
  {
   "cell_type": "code",
   "execution_count": 25,
   "id": "1d1d58d0",
   "metadata": {
    "ExecuteTime": {
     "end_time": "2022-07-24T16:13:50.010133Z",
     "start_time": "2022-07-24T16:13:49.990549Z"
    }
   },
   "outputs": [
    {
     "name": "stdout",
     "output_type": "stream",
     "text": [
      "Number of science products: 4\n",
      " obsID  obs_collection dataproduct_type    obs_id   ... parent_obsid dataRights calib_level _selected_\n",
      "------- -------------- ---------------- ----------- ... ------------ ---------- ----------- ----------\n",
      "1468834          SWIFT             cube 00032242001 ...      1468834     PUBLIC         2.0      False\n",
      "1468834          SWIFT             cube 00032242001 ...      1468834     PUBLIC         2.0      False\n",
      "1468834          SWIFT             cube 00032242001 ...      1468834     PUBLIC         2.0      False\n",
      "1468834          SWIFT             cube 00032242001 ...      1468834     PUBLIC         2.0      False\n"
     ]
    }
   ],
   "source": [
    "sci_prod_arr = [x for x in obs_products['data'] if x.get(\"productType\", None) == 'SCIENCE']\n",
    "science_products = Table()\n",
    "\n",
    "col_type_list = [(field['name'], field['type']) for field in obs_products['fields']]\n",
    "\n",
    "for col, atype in col_type_list:\n",
    "    \n",
    "    # recast data types\n",
    "    if atype==\"string\":\n",
    "        atype=\"str\"\n",
    "    if atype==\"boolean\":\n",
    "        atype=\"bool\"\n",
    "    if atype == \"int\":\n",
    "        atype = \"float\" # array may contain nan values, and they do not exist in numpy integer arrays\n",
    "        \n",
    "    # Create column in Table corresponding to the mast_data field\n",
    "    science_products[col] = np.array([x.get(col,None) for x in sci_prod_arr],dtype=atype)\n",
    "\n",
    "print(\"Number of science products:\",len(science_products))\n",
    "print(science_products)"
   ]
  },
  {
   "cell_type": "code",
   "execution_count": null,
   "id": "0d31b36b",
   "metadata": {
    "ExecuteTime": {
     "start_time": "2022-07-24T16:13:57.562Z"
    }
   },
   "outputs": [
    {
     "name": "stdout",
     "output_type": "stream",
     "text": [
      "COMPLETE:  mastFiles/SWIFT/00032242001/sw00032242001u_ex.img.gz\n",
      "COMPLETE:  mastFiles/SWIFT/00032242001/sw00032242001um2_ex.img.gz\n",
      "COMPLETE:  mastFiles/SWIFT/00032242001/sw00032242001um2_rw.img.gz\n"
     ]
    }
   ],
   "source": [
    "download_url = 'https://mast.stsci.edu/api/v0.1/Download/file?'\n",
    "\n",
    "for row in science_products:     \n",
    "\n",
    "    # Make file path\n",
    "    out_path = os.path.join(\"mastFiles\", row['obs_collection'], row['obs_id'])\n",
    "    if not os.path.exists(out_path):\n",
    "        os.makedirs(out_path)\n",
    "    out_path = os.path.join(out_path, os.path.basename(row['productFilename']))\n",
    "        \n",
    "    # Download the data\n",
    "    payload = {\"uri\":row['dataURI']}\n",
    "    resp = requests.get(download_url, params=payload)\n",
    "    \n",
    "    # Save to file\n",
    "    with open(out_path,'wb') as f:\n",
    "        f.write(resp.content)\n",
    "        \n",
    "    # Check for file \n",
    "    if not os.path.isfile(out_path):\n",
    "        print(\"ERROR: \" + out_path + \" failed to download.\")\n",
    "    else:\n",
    "        print(\"COMPLETE: \", out_path)"
   ]
  },
  {
   "cell_type": "code",
   "execution_count": null,
   "id": "c5eac5f6",
   "metadata": {},
   "outputs": [],
   "source": [
    "ls mastFiles/SPITZER_SHA/000001AF1000/"
   ]
  },
  {
   "cell_type": "markdown",
   "id": "d0665872",
   "metadata": {},
   "source": [
    "# Exercise 2"
   ]
  },
  {
   "cell_type": "markdown",
   "id": "fcef15a5",
   "metadata": {},
   "source": [
    "# Exercise 3"
   ]
  },
  {
   "cell_type": "code",
   "execution_count": null,
   "id": "9406acc8",
   "metadata": {},
   "outputs": [],
   "source": []
  }
 ],
 "metadata": {
  "kernelspec": {
   "display_name": "Python 3 (ipykernel)",
   "language": "python",
   "name": "python3"
  },
  "language_info": {
   "codemirror_mode": {
    "name": "ipython",
    "version": 3
   },
   "file_extension": ".py",
   "mimetype": "text/x-python",
   "name": "python",
   "nbconvert_exporter": "python",
   "pygments_lexer": "ipython3",
   "version": "3.10.5"
  }
 },
 "nbformat": 4,
 "nbformat_minor": 5
}
