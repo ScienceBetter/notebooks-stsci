{
 "cells": [
  {
   "cell_type": "markdown",
   "id": "2061dfa2",
   "metadata": {},
   "source": [
    "# Downloading Exoplanet Data Solutions"
   ]
  },
  {
   "cell_type": "markdown",
   "id": "b253cc79",
   "metadata": {},
   "source": [
    "***"
   ]
  },
  {
   "cell_type": "markdown",
   "id": "5b001531",
   "metadata": {},
   "source": [
    "This notebook contains solutions to the exercises described in the Exercises section of `downloading_exoplanet_data.ipynb`."
   ]
  },
  {
   "cell_type": "code",
   "execution_count": null,
   "id": "ceccc7b4",
   "metadata": {
    "ExecuteTime": {
     "end_time": "2022-07-24T16:06:15.779691Z",
     "start_time": "2022-07-24T16:06:15.769636Z"
    }
   },
   "outputs": [],
   "source": [
    "import ast\n",
    "import sys\n",
    "import os\n",
    "import json\n",
    "import pprint\n",
    "import urllib.request\n",
    "from urllib.parse import quote as urlencode\n",
    "\n",
    "import numpy as np\n",
    "import requests\n",
    "from astropy.table import Table\n",
    "from astroquery.mast import Observations"
   ]
  },
  {
   "cell_type": "markdown",
   "id": "4bef042d",
   "metadata": {},
   "source": [
    "# Exercise 1\n",
    "*Use the MAST API to sort Swift data on WASP-12 b by PI and download it.*"
   ]
  },
  {
   "cell_type": "markdown",
   "id": "dd57cd75",
   "metadata": {},
   "source": [
    "We begin with much of the same procedure as the tutorial notebook."
   ]
  },
  {
   "cell_type": "code",
   "execution_count": null,
   "id": "e7f93937",
   "metadata": {
    "ExecuteTime": {
     "end_time": "2022-07-24T16:06:17.962334Z",
     "start_time": "2022-07-24T16:06:17.954757Z"
    }
   },
   "outputs": [],
   "source": [
    "object_of_interest = 'WASP-12 b'\n",
    "\n",
    "resolver_request = {'service':'Mast.Name.Lookup',\n",
    "                     'params':{'input':object_of_interest,\n",
    "                               'format':'json'},\n",
    "                     }\n",
    "\n",
    "# encoding the request as a json string\n",
    "req_string = json.dumps(resolver_request)\n",
    "req_string = urlencode(req_string)"
   ]
  },
  {
   "cell_type": "code",
   "execution_count": null,
   "id": "321787a4",
   "metadata": {
    "ExecuteTime": {
     "end_time": "2022-07-24T16:06:30.622486Z",
     "start_time": "2022-07-24T16:06:30.615277Z"
    }
   },
   "outputs": [],
   "source": [
    "pp = pprint.PrettyPrinter(indent=4)"
   ]
  },
  {
   "cell_type": "code",
   "execution_count": null,
   "id": "3b0d8dab",
   "metadata": {
    "ExecuteTime": {
     "end_time": "2022-07-24T16:06:34.424492Z",
     "start_time": "2022-07-24T16:06:34.416530Z"
    }
   },
   "outputs": [],
   "source": [
    "object_of_interest = 'WASP-12 b'\n",
    "\n",
    "resolver_request = {'service':'Mast.Name.Lookup',\n",
    "                     'params':{'input':object_of_interest,\n",
    "                               'format':'json'},\n",
    "                     }\n",
    "\n",
    "# encoding the request as a json string\n",
    "req_string = json.dumps(resolver_request)\n",
    "req_string = urlencode(req_string)"
   ]
  },
  {
   "cell_type": "code",
   "execution_count": null,
   "id": "0a43cbb5",
   "metadata": {
    "ExecuteTime": {
     "end_time": "2022-07-24T16:06:38.388067Z",
     "start_time": "2022-07-24T16:06:38.380353Z"
    }
   },
   "outputs": [],
   "source": [
    "# retrieve our system's Python version for the request. \n",
    "version = \".\".join(map(str, sys.version_info[:3]))\n",
    "\n",
    "# create HTTP Header Variables\n",
    "headers = {\"Content-type\": \"application/x-www-form-urlencoded\",\n",
    "           \"Accept\": \"text/plain\",\n",
    "           \"User-agent\":\"python-requests/\"+version}\n"
   ]
  },
  {
   "cell_type": "code",
   "execution_count": null,
   "id": "e8b1218b",
   "metadata": {
    "ExecuteTime": {
     "end_time": "2022-07-24T16:06:42.831071Z",
     "start_time": "2022-07-24T16:06:42.327472Z"
    }
   },
   "outputs": [],
   "source": [
    "# base API url\n",
    "request_url='https://mast.stsci.edu/api/v0/invoke'    \n",
    "\n",
    "# perform the HTTP request\n",
    "resp = requests.post(request_url, data=\"request=\"+req_string, headers=headers)"
   ]
  },
  {
   "cell_type": "code",
   "execution_count": null,
   "id": "97aeb8da",
   "metadata": {
    "ExecuteTime": {
     "end_time": "2022-07-24T16:06:46.035376Z",
     "start_time": "2022-07-24T16:06:46.025936Z"
    }
   },
   "outputs": [],
   "source": [
    "resolved_object = resp.json()\n",
    "\n",
    "pp.pprint(resolved_object)"
   ]
  },
  {
   "cell_type": "code",
   "execution_count": null,
   "id": "15b266ab",
   "metadata": {
    "ExecuteTime": {
     "end_time": "2022-07-24T16:06:51.524964Z",
     "start_time": "2022-07-24T16:06:51.505910Z"
    }
   },
   "outputs": [],
   "source": [
    "obj_ra = resolved_object['resolvedCoordinate'][0]['ra']\n",
    "obj_dec = resolved_object['resolvedCoordinate'][0]['decl']\n",
    "\n",
    "obj_ra, obj_dec"
   ]
  },
  {
   "cell_type": "code",
   "execution_count": null,
   "id": "19c30d95",
   "metadata": {
    "ExecuteTime": {
     "end_time": "2022-07-24T16:07:08.682307Z",
     "start_time": "2022-07-24T16:06:55.380443Z"
    }
   },
   "outputs": [],
   "source": [
    "mast_request = {'service':'Mast.Caom.Cone',\n",
    "                'params':{'ra':obj_ra,\n",
    "                          'dec':obj_dec,\n",
    "                          'radius':0.2},\n",
    "                'format':'json',\n",
    "                'pagesize':2000,\n",
    "                'page':1,\n",
    "                'removenullcolumns':True,\n",
    "                'removecache':True}\n",
    "\n",
    "\n",
    "# encoding the request as a json string\n",
    "req_string = json.dumps(mast_request)\n",
    "req_string = urlencode(req_string)\n",
    "\n",
    "# perform the HTTP request\n",
    "resp = requests.post(request_url, data=\"request=\"+req_string, headers=headers)\n",
    "\n",
    "# decode the HTTP result\n",
    "mast_data = resp.json()\n",
    "\n",
    "\n",
    "print(mast_data.keys())\n",
    "print(\"Query status:\",mast_data['status'])"
   ]
  },
  {
   "cell_type": "code",
   "execution_count": null,
   "id": "0fd97db4",
   "metadata": {
    "ExecuteTime": {
     "end_time": "2022-07-24T16:08:32.700362Z",
     "start_time": "2022-07-24T16:08:32.656426Z"
    }
   },
   "outputs": [],
   "source": [
    "mast_data_table = Table()\n",
    "\n",
    "col_type_list = [(field['name'], field['type']) for field in mast_data['fields']]\n",
    "\n",
    "for col, atype in col_type_list:\n",
    "    \n",
    "    # recast data types\n",
    "    if atype==\"string\":\n",
    "        atype=\"str\"\n",
    "    if atype==\"boolean\":\n",
    "        atype=\"bool\"\n",
    "    \n",
    "    # create column in Table corresponding to the mast_data field\n",
    "    mast_data_table[col] = np.array([x.get(col, None) for x in mast_data['data']],dtype=atype)\n",
    "    \n",
    "print(mast_data_table)"
   ]
  },
  {
   "cell_type": "code",
   "execution_count": null,
   "id": "1125120d",
   "metadata": {
    "ExecuteTime": {
     "end_time": "2022-07-24T16:08:34.667046Z",
     "start_time": "2022-07-24T16:08:34.656231Z"
    }
   },
   "outputs": [],
   "source": [
    "mast_data_table.columns"
   ]
  },
  {
   "cell_type": "markdown",
   "id": "dff24f46",
   "metadata": {},
   "source": [
    "Instead of next sorting by `t_min`, though, we sort by PI."
   ]
  },
  {
   "cell_type": "code",
   "execution_count": null,
   "id": "0b2511a5",
   "metadata": {
    "ExecuteTime": {
     "end_time": "2022-07-24T16:08:52.329003Z",
     "start_time": "2022-07-24T16:08:52.300792Z"
    }
   },
   "outputs": [],
   "source": [
    "mast_data_table.sort('proposal_pi')"
   ]
  },
  {
   "cell_type": "code",
   "execution_count": null,
   "id": "08a00794",
   "metadata": {
    "ExecuteTime": {
     "end_time": "2022-07-24T16:10:15.932778Z",
     "start_time": "2022-07-24T16:10:15.914667Z"
    }
   },
   "outputs": [],
   "source": [
    "print(mast_data_table)"
   ]
  },
  {
   "cell_type": "code",
   "execution_count": null,
   "id": "62e4895b",
   "metadata": {
    "ExecuteTime": {
     "end_time": "2022-07-24T16:11:58.027195Z",
     "start_time": "2022-07-24T16:11:58.013881Z"
    }
   },
   "outputs": [],
   "source": [
    "recent_index = -1\n",
    "interesting_observation = mast_data_table[mast_data_table[\"obs_collection\"] == \"SWIFT\"][recent_index]\n",
    "print(\"Observation:\",\n",
    "      [interesting_observation[x] for x in ['dataproduct_type', 'obs_collection', 'instrument_name']])"
   ]
  },
  {
   "cell_type": "code",
   "execution_count": null,
   "id": "b6f8fc96",
   "metadata": {
    "ExecuteTime": {
     "end_time": "2022-07-24T16:13:20.584304Z",
     "start_time": "2022-07-24T16:13:20.360519Z"
    }
   },
   "outputs": [],
   "source": [
    "obsid = interesting_observation['obsid']\n",
    "\n",
    "product_request = {'service':'Mast.Caom.Products',\n",
    "                  'params':{'obsid':obsid},\n",
    "                  'format':'json',\n",
    "                  'pagesize':100,\n",
    "                  'page':1}   \n",
    "\n",
    "# encoding the request as a json string\n",
    "req_string = json.dumps(product_request)\n",
    "req_string = urlencode(req_string)\n",
    "\n",
    "# perform the HTTP request\n",
    "resp = requests.post(request_url, data=\"request=\"+req_string, headers=headers)\n",
    "\n",
    "# dfrecode the HTTP result\n",
    "obs_products = resp.json()\n",
    "\n",
    "print(\"Number of data products:\", len(obs_products[\"data\"]))\n",
    "print(\"Product information column names:\")\n",
    "pp.pprint(obs_products['fields'])"
   ]
  },
  {
   "cell_type": "code",
   "execution_count": null,
   "id": "d5f3f404",
   "metadata": {
    "ExecuteTime": {
     "end_time": "2022-07-24T16:13:35.966640Z",
     "start_time": "2022-07-24T16:13:35.960324Z"
    }
   },
   "outputs": [],
   "source": [
    "pp.pprint([x.get('productType',\"\") for x in obs_products[\"data\"]])"
   ]
  },
  {
   "cell_type": "code",
   "execution_count": null,
   "id": "d90f5d70",
   "metadata": {
    "ExecuteTime": {
     "end_time": "2022-07-24T16:13:50.010133Z",
     "start_time": "2022-07-24T16:13:49.990549Z"
    }
   },
   "outputs": [],
   "source": [
    "sci_prod_arr = [x for x in obs_products['data'] if x.get(\"productType\", None) == 'SCIENCE']\n",
    "science_products = Table()\n",
    "\n",
    "col_type_list = [(field['name'], field['type']) for field in obs_products['fields']]\n",
    "\n",
    "for col, atype in col_type_list:\n",
    "    \n",
    "    # recast data types\n",
    "    if atype==\"string\":\n",
    "        atype=\"str\"\n",
    "    if atype==\"boolean\":\n",
    "        atype=\"bool\"\n",
    "    if atype == \"int\":\n",
    "        atype = \"float\" # array may contain nan values, and they do not exist in numpy integer arrays\n",
    "        \n",
    "    # Create column in Table corresponding to the mast_data field\n",
    "    science_products[col] = np.array([x.get(col,None) for x in sci_prod_arr],dtype=atype)\n",
    "\n",
    "print(\"Number of science products:\",len(science_products))\n",
    "print(science_products)"
   ]
  },
  {
   "cell_type": "code",
   "execution_count": null,
   "id": "d88b5506",
   "metadata": {
    "ExecuteTime": {
     "end_time": "2022-07-24T16:14:07.690002Z",
     "start_time": "2022-07-24T16:13:57.568237Z"
    }
   },
   "outputs": [],
   "source": [
    "download_url = 'https://mast.stsci.edu/api/v0.1/Download/file?'\n",
    "\n",
    "for row in science_products:     \n",
    "\n",
    "    # Make file path\n",
    "    out_path = os.path.join(\"mastFiles\", row['obs_collection'], row['obs_id'])\n",
    "    if not os.path.exists(out_path):\n",
    "        os.makedirs(out_path)\n",
    "    out_path = os.path.join(out_path, os.path.basename(row['productFilename']))\n",
    "        \n",
    "    # Download the data\n",
    "    payload = {\"uri\":row['dataURI']}\n",
    "    resp = requests.get(download_url, params=payload)\n",
    "    \n",
    "    # Save to file\n",
    "    with open(out_path,'wb') as f:\n",
    "        f.write(resp.content)\n",
    "        \n",
    "    # Check for file \n",
    "    if not os.path.isfile(out_path):\n",
    "        print(\"ERROR: \" + out_path + \" failed to download.\")\n",
    "    else:\n",
    "        print(\"COMPLETE: \", out_path)"
   ]
  },
  {
   "cell_type": "code",
   "execution_count": null,
   "id": "25a389de",
   "metadata": {
    "ExecuteTime": {
     "end_time": "2022-07-24T16:14:14.049748Z",
     "start_time": "2022-07-24T16:14:13.541960Z"
    }
   },
   "outputs": [],
   "source": [
    "ls mastFiles/SWIFT/00032242001/"
   ]
  },
  {
   "cell_type": "markdown",
   "id": "0149885a",
   "metadata": {},
   "source": [
    "# Exercise 2"
   ]
  },
  {
   "cell_type": "markdown",
   "id": "8dcbd70f",
   "metadata": {
    "ExecuteTime": {
     "end_time": "2022-07-24T16:16:32.836749Z",
     "start_time": "2022-07-24T16:16:32.825434Z"
    }
   },
   "source": [
    "*Query the latest light curve of WASP-12 b.*\n",
    "*Question: Is this too close to the actual tutorial?*"
   ]
  },
  {
   "cell_type": "markdown",
   "id": "50001a9b",
   "metadata": {},
   "source": [
    "We can fetch light curves from the TESS mission."
   ]
  },
  {
   "cell_type": "code",
   "execution_count": 30,
   "id": "8a9450f7",
   "metadata": {
    "ExecuteTime": {
     "end_time": "2022-07-24T16:18:32.158494Z",
     "start_time": "2022-07-24T16:18:06.897570Z"
    }
   },
   "outputs": [
    {
     "name": "stdout",
     "output_type": "stream",
     "text": [
      "intentType obs_collection provenance_name instrument_name project filters ... dataRights mtFlag srcDen  obsid   distance\n",
      "---------- -------------- --------------- --------------- ------- ------- ... ---------- ------ ------ -------- --------\n",
      "   science           TESS            SPOC      Photometer    TESS    TESS ...     PUBLIC  False    nan 27266912      0.0\n",
      "   science           TESS            SPOC      Photometer    TESS    TESS ...     PUBLIC  False    nan 65432622      0.0\n",
      "   science           TESS            SPOC      Photometer    TESS    TESS ...     PUBLIC  False    nan 68942182      0.0\n",
      "   science           TESS            SPOC      Photometer    TESS    TESS ...     PUBLIC  False    nan 71308547      0.0\n",
      "   science           TESS            SPOC      Photometer    TESS    TESS ...     PUBLIC  False    nan 71741843      0.0\n",
      "   science           TESS            SPOC      Photometer    TESS    TESS ...     PUBLIC  False    nan 27242856      0.0\n",
      "   science           TESS            SPOC      Photometer    TESS    TESS ...     PUBLIC  False    nan 71741845      0.0\n",
      "   science           TESS            SPOC      Photometer    TESS    TESS ...     PUBLIC  False    nan 65361378      0.0\n",
      "   science           TESS            SPOC      Photometer    TESS    TESS ...     PUBLIC  False    nan 68725979      0.0\n",
      "   science           TESS            SPOC      Photometer    TESS    TESS ...     PUBLIC  False    nan 71236476      0.0\n"
     ]
    }
   ],
   "source": [
    "search_radius = \".02 deg\"\n",
    "\n",
    "planet_name = 'WASP-12 b'\n",
    "obs_table = Observations.query_object(planet_name,radius=search_radius)\n",
    "\n",
    "# only print the first 10 results for clarity\n",
    "print(obs_table[:10])  "
   ]
  },
  {
   "cell_type": "code",
   "execution_count": 36,
   "id": "34e505ec",
   "metadata": {
    "ExecuteTime": {
     "end_time": "2022-07-24T16:19:05.158146Z",
     "start_time": "2022-07-24T16:19:05.112441Z"
    }
   },
   "outputs": [
    {
     "data": {
      "text/html": [
       "<div><i>Table masked=True length=24815</i>\n",
       "<table id=\"table5343809344\" class=\"table-striped table-bordered table-condensed\">\n",
       "<thead><tr><th>intentType</th><th>obs_collection</th><th>provenance_name</th><th>instrument_name</th><th>project</th><th>filters</th><th>wavelength_region</th><th>target_name</th><th>target_classification</th><th>obs_id</th><th>s_ra</th><th>s_dec</th><th>dataproduct_type</th><th>proposal_pi</th><th>calib_level</th><th>t_min</th><th>t_max</th><th>t_exptime</th><th>em_min</th><th>em_max</th><th>obs_title</th><th>t_obs_release</th><th>proposal_id</th><th>proposal_type</th><th>sequence_number</th><th>s_region</th><th>jpegURL</th><th>dataURL</th><th>dataRights</th><th>mtFlag</th><th>srcDen</th><th>obsid</th><th>distance</th></tr></thead>\n",
       "<thead><tr><th>str7</th><th>str11</th><th>str12</th><th>str10</th><th>str4</th><th>str9</th><th>str16</th><th>str21</th><th>str32</th><th>str78</th><th>float64</th><th>float64</th><th>str10</th><th>str23</th><th>int64</th><th>float64</th><th>float64</th><th>float64</th><th>float64</th><th>float64</th><th>str81</th><th>float64</th><th>str34</th><th>str3</th><th>int64</th><th>str461</th><th>str120</th><th>str136</th><th>str6</th><th>bool</th><th>float64</th><th>str8</th><th>float64</th></tr></thead>\n",
       "<tr><td>science</td><td>SPITZER_SHA</td><td>SSC Pipeline</td><td>IRAC</td><td>--</td><td>IRAC4</td><td>Infrared</td><td>WASP12b-ecl-ch24-1</td><td>--</td><td>000001B3E200</td><td>97.594583</td><td>29.639722</td><td>image</td><td>Wheatley, Peter</td><td>2</td><td>54768.668948</td><td>54768.66908689</td><td>10.4</td><td>6430.0</td><td>9280.0</td><td>Searching for hot stratospheres of new transiting exoplanets from the WASP survey</td><td>55148.84736098</td><td>WASP_C5_50759</td><td>y</td><td>28566016</td><td>POLYGON ICRS 97.64707900 29.67869000 97.63958900 29.59290200 97.54052900 29.59868200 97.54840100 29.68551900 97.64707900 29.67869000</td><td>--</td><td>https://irsa.ipac.caltech.edu/data/SPITZER/SHA/archive/proc/IRAC013500/r28566016/ch4/bcd/SPITZER_I4_28566016_0001_0000_6_bcd.fits</td><td>PUBLIC</td><td>False</td><td>nan</td><td>1692417</td><td>0.0</td></tr>\n",
       "<tr><td>science</td><td>SPITZER_SHA</td><td>SSC Pipeline</td><td>IRAC</td><td>--</td><td>IRAC2</td><td>Infrared</td><td>WASP12b-ecl-ch24-1</td><td>--</td><td>000001B3E200</td><td>97.594583</td><td>29.639722</td><td>image</td><td>Wheatley, Peter</td><td>2</td><td>54768.668948</td><td>54768.66908689</td><td>10.4</td><td>3990.0</td><td>5010.0</td><td>Searching for hot stratospheres of new transiting exoplanets from the WASP survey</td><td>55148.84736098</td><td>WASP_C5_50759</td><td>y</td><td>28566016</td><td>POLYGON ICRS 97.64803700 29.67819700 97.63949100 29.59287700 97.54075000 29.60016300 97.54975300 29.68611500 97.64803700 29.67819700</td><td>--</td><td>https://irsa.ipac.caltech.edu/data/SPITZER/SHA/archive/proc/IRAC013500/r28566016/ch2/bcd/SPITZER_I2_28566016_0001_0000_6_bcd.fits</td><td>PUBLIC</td><td>False</td><td>nan</td><td>1692417</td><td>0.0</td></tr>\n",
       "<tr><td>science</td><td>SPITZER_SHA</td><td>SSC Pipeline</td><td>IRAC</td><td>--</td><td>IRAC2</td><td>Infrared</td><td>WASP12b-ecl-ch24-1</td><td>--</td><td>000001B3E200</td><td>97.594583</td><td>29.639722</td><td>image</td><td>Wheatley, Peter</td><td>2</td><td>54768.6690955</td><td>54768.66923439</td><td>10.4</td><td>3990.0</td><td>5010.0</td><td>Searching for hot stratospheres of new transiting exoplanets from the WASP survey</td><td>55148.84736098</td><td>WASP_C5_50759</td><td>y</td><td>28566016</td><td>POLYGON ICRS 97.64802100 29.67823200 97.63947500 29.59291200 97.54073400 29.60019800 97.54973600 29.68615000 97.64802100 29.67823200</td><td>--</td><td>https://irsa.ipac.caltech.edu/data/SPITZER/SHA/archive/proc/IRAC013500/r28566016/ch2/bcd/SPITZER_I2_28566016_0002_0000_6_bcd.fits</td><td>PUBLIC</td><td>False</td><td>nan</td><td>1692417</td><td>0.0</td></tr>\n",
       "<tr><td>science</td><td>SPITZER_SHA</td><td>SSC Pipeline</td><td>IRAC</td><td>--</td><td>IRAC4</td><td>Infrared</td><td>WASP12b-ecl-ch24-1</td><td>--</td><td>000001B3E200</td><td>97.594583</td><td>29.639722</td><td>image</td><td>Wheatley, Peter</td><td>2</td><td>54768.6690955</td><td>54768.66923439</td><td>10.4</td><td>6430.0</td><td>9280.0</td><td>Searching for hot stratospheres of new transiting exoplanets from the WASP survey</td><td>55148.84736098</td><td>WASP_C5_50759</td><td>y</td><td>28566016</td><td>POLYGON ICRS 97.64706200 29.67872600 97.63957300 29.59293800 97.54051300 29.59871700 97.54838400 29.68555400 97.64706200 29.67872600</td><td>--</td><td>https://irsa.ipac.caltech.edu/data/SPITZER/SHA/archive/proc/IRAC013500/r28566016/ch4/bcd/SPITZER_I4_28566016_0002_0000_6_bcd.fits</td><td>PUBLIC</td><td>False</td><td>nan</td><td>1692417</td><td>0.0</td></tr>\n",
       "<tr><td>science</td><td>SPITZER_SHA</td><td>SSC Pipeline</td><td>IRAC</td><td>--</td><td>IRAC4</td><td>Infrared</td><td>WASP12b-ecl-ch24-1</td><td>--</td><td>000001B3E200</td><td>97.594583</td><td>29.639722</td><td>image</td><td>Wheatley, Peter</td><td>2</td><td>54768.6692483</td><td>54768.66938719</td><td>10.4</td><td>6430.0</td><td>9280.0</td><td>Searching for hot stratospheres of new transiting exoplanets from the WASP survey</td><td>55148.84736098</td><td>WASP_C5_50759</td><td>y</td><td>28566016</td><td>POLYGON ICRS 97.64705400 29.67873900 97.63956500 29.59295100 97.54050500 29.59873000 97.54837600 29.68556700 97.64705400 29.67873900</td><td>--</td><td>https://irsa.ipac.caltech.edu/data/SPITZER/SHA/archive/proc/IRAC013500/r28566016/ch4/bcd/SPITZER_I4_28566016_0003_0000_6_bcd.fits</td><td>PUBLIC</td><td>False</td><td>nan</td><td>1692417</td><td>0.0</td></tr>\n",
       "<tr><td>science</td><td>SPITZER_SHA</td><td>SSC Pipeline</td><td>IRAC</td><td>--</td><td>IRAC2</td><td>Infrared</td><td>WASP12b-ecl-ch24-1</td><td>--</td><td>000001B3E200</td><td>97.594583</td><td>29.639722</td><td>image</td><td>Wheatley, Peter</td><td>2</td><td>54768.6692483</td><td>54768.66938719</td><td>10.4</td><td>3990.0</td><td>5010.0</td><td>Searching for hot stratospheres of new transiting exoplanets from the WASP survey</td><td>55148.84736098</td><td>WASP_C5_50759</td><td>y</td><td>28566016</td><td>POLYGON ICRS 97.64801300 29.67824500 97.63946700 29.59292500 97.54072600 29.60021100 97.54972800 29.68616300 97.64801300 29.67824500</td><td>--</td><td>https://irsa.ipac.caltech.edu/data/SPITZER/SHA/archive/proc/IRAC013500/r28566016/ch2/bcd/SPITZER_I2_28566016_0003_0000_6_bcd.fits</td><td>PUBLIC</td><td>False</td><td>nan</td><td>1692417</td><td>0.0</td></tr>\n",
       "<tr><td>science</td><td>SPITZER_SHA</td><td>SSC Pipeline</td><td>IRAC</td><td>--</td><td>IRAC2</td><td>Infrared</td><td>WASP12b-ecl-ch24-1</td><td>--</td><td>000001B3E200</td><td>97.594583</td><td>29.639722</td><td>image</td><td>Wheatley, Peter</td><td>2</td><td>54768.6693964</td><td>54768.66953529</td><td>10.4</td><td>3990.0</td><td>5010.0</td><td>Searching for hot stratospheres of new transiting exoplanets from the WASP survey</td><td>55148.84736098</td><td>WASP_C5_50759</td><td>y</td><td>28566016</td><td>POLYGON ICRS 97.64801100 29.67825100 97.63946500 29.59293100 97.54072400 29.60021700 97.54972700 29.68616900 97.64801100 29.67825100</td><td>--</td><td>https://irsa.ipac.caltech.edu/data/SPITZER/SHA/archive/proc/IRAC013500/r28566016/ch2/bcd/SPITZER_I2_28566016_0004_0000_6_bcd.fits</td><td>PUBLIC</td><td>False</td><td>nan</td><td>1692417</td><td>0.0</td></tr>\n",
       "<tr><td>science</td><td>SPITZER_SHA</td><td>SSC Pipeline</td><td>IRAC</td><td>--</td><td>IRAC4</td><td>Infrared</td><td>WASP12b-ecl-ch24-1</td><td>--</td><td>000001B3E200</td><td>97.594583</td><td>29.639722</td><td>image</td><td>Wheatley, Peter</td><td>2</td><td>54768.6693964</td><td>54768.66953529</td><td>10.4</td><td>6430.0</td><td>9280.0</td><td>Searching for hot stratospheres of new transiting exoplanets from the WASP survey</td><td>55148.84736098</td><td>WASP_C5_50759</td><td>y</td><td>28566016</td><td>POLYGON ICRS 97.64705300 29.67874500 97.63956300 29.59295700 97.54050300 29.59873600 97.54837500 29.68557300 97.64705300 29.67874500</td><td>--</td><td>https://irsa.ipac.caltech.edu/data/SPITZER/SHA/archive/proc/IRAC013500/r28566016/ch4/bcd/SPITZER_I4_28566016_0004_0000_6_bcd.fits</td><td>PUBLIC</td><td>False</td><td>nan</td><td>1692417</td><td>0.0</td></tr>\n",
       "<tr><td>science</td><td>SPITZER_SHA</td><td>SSC Pipeline</td><td>IRAC</td><td>--</td><td>IRAC4</td><td>Infrared</td><td>WASP12b-ecl-ch24-1</td><td>--</td><td>000001B3E200</td><td>97.594583</td><td>29.639722</td><td>image</td><td>Wheatley, Peter</td><td>2</td><td>54768.6695492</td><td>54768.66968809</td><td>10.4</td><td>6430.0</td><td>9280.0</td><td>Searching for hot stratospheres of new transiting exoplanets from the WASP survey</td><td>55148.84736098</td><td>WASP_C5_50759</td><td>y</td><td>28566016</td><td>POLYGON ICRS 97.64704700 29.67874700 97.63955800 29.59295900 97.54049700 29.59873900 97.54836900 29.68557500 97.64704700 29.67874700</td><td>--</td><td>https://irsa.ipac.caltech.edu/data/SPITZER/SHA/archive/proc/IRAC013500/r28566016/ch4/bcd/SPITZER_I4_28566016_0005_0000_6_bcd.fits</td><td>PUBLIC</td><td>False</td><td>nan</td><td>1692417</td><td>0.0</td></tr>\n",
       "<tr><td>science</td><td>SPITZER_SHA</td><td>SSC Pipeline</td><td>IRAC</td><td>--</td><td>IRAC2</td><td>Infrared</td><td>WASP12b-ecl-ch24-1</td><td>--</td><td>000001B3E200</td><td>97.594583</td><td>29.639722</td><td>image</td><td>Wheatley, Peter</td><td>2</td><td>54768.6695492</td><td>54768.66968809</td><td>10.4</td><td>3990.0</td><td>5010.0</td><td>Searching for hot stratospheres of new transiting exoplanets from the WASP survey</td><td>55148.84736098</td><td>WASP_C5_50759</td><td>y</td><td>28566016</td><td>POLYGON ICRS 97.64800500 29.67825300 97.63946000 29.59293300 97.54071900 29.60022000 97.54972100 29.68617100 97.64800500 29.67825300</td><td>--</td><td>https://irsa.ipac.caltech.edu/data/SPITZER/SHA/archive/proc/IRAC013500/r28566016/ch2/bcd/SPITZER_I2_28566016_0005_0000_6_bcd.fits</td><td>PUBLIC</td><td>False</td><td>nan</td><td>1692417</td><td>0.0</td></tr>\n",
       "<tr><td>science</td><td>SPITZER_SHA</td><td>SSC Pipeline</td><td>IRAC</td><td>--</td><td>IRAC2</td><td>Infrared</td><td>WASP12b-ecl-ch24-1</td><td>--</td><td>000001B3E200</td><td>97.594583</td><td>29.639722</td><td>image</td><td>Wheatley, Peter</td><td>2</td><td>54768.6696973</td><td>54768.66983619</td><td>10.4</td><td>3990.0</td><td>5010.0</td><td>Searching for hot stratospheres of new transiting exoplanets from the WASP survey</td><td>55148.84736098</td><td>WASP_C5_50759</td><td>y</td><td>28566016</td><td>POLYGON ICRS 97.64800900 29.67825600 97.63946300 29.59293700 97.54072200 29.60022300 97.54972500 29.68617500 97.64800900 29.67825600</td><td>--</td><td>https://irsa.ipac.caltech.edu/data/SPITZER/SHA/archive/proc/IRAC013500/r28566016/ch2/bcd/SPITZER_I2_28566016_0006_0000_6_bcd.fits</td><td>PUBLIC</td><td>False</td><td>nan</td><td>1692417</td><td>0.0</td></tr>\n",
       "<tr><td>science</td><td>SPITZER_SHA</td><td>SSC Pipeline</td><td>IRAC</td><td>--</td><td>IRAC4</td><td>Infrared</td><td>WASP12b-ecl-ch24-1</td><td>--</td><td>000001B3E200</td><td>97.594583</td><td>29.639722</td><td>image</td><td>Wheatley, Peter</td><td>2</td><td>54768.6696973</td><td>54768.66983619</td><td>10.4</td><td>6430.0</td><td>9280.0</td><td>Searching for hot stratospheres of new transiting exoplanets from the WASP survey</td><td>55148.84736098</td><td>WASP_C5_50759</td><td>y</td><td>28566016</td><td>POLYGON ICRS 97.64705100 29.67875000 97.63956100 29.59296200 97.54050100 29.59874200 97.54837300 29.68557900 97.64705100 29.67875000</td><td>--</td><td>https://irsa.ipac.caltech.edu/data/SPITZER/SHA/archive/proc/IRAC013500/r28566016/ch4/bcd/SPITZER_I4_28566016_0006_0000_6_bcd.fits</td><td>PUBLIC</td><td>False</td><td>nan</td><td>1692417</td><td>0.0</td></tr>\n",
       "<tr><td>science</td><td>SPITZER_SHA</td><td>SSC Pipeline</td><td>IRAC</td><td>--</td><td>IRAC2</td><td>Infrared</td><td>WASP12b-ecl-ch24-1</td><td>--</td><td>000001B3E200</td><td>97.594583</td><td>29.639722</td><td>image</td><td>Wheatley, Peter</td><td>2</td><td>54768.6698501</td><td>54768.66998899</td><td>10.4</td><td>3990.0</td><td>5010.0</td><td>Searching for hot stratospheres of new transiting exoplanets from the WASP survey</td><td>55148.84736098</td><td>WASP_C5_50759</td><td>y</td><td>28566016</td><td>POLYGON ICRS 97.64801000 29.67825500 97.63946400 29.59293500 97.54072300 29.60022100 97.54972500 29.68617300 97.64801000 29.67825500</td><td>--</td><td>https://irsa.ipac.caltech.edu/data/SPITZER/SHA/archive/proc/IRAC013500/r28566016/ch2/bcd/SPITZER_I2_28566016_0007_0000_6_bcd.fits</td><td>PUBLIC</td><td>False</td><td>nan</td><td>1692417</td><td>0.0</td></tr>\n",
       "<tr><td>science</td><td>SPITZER_SHA</td><td>SSC Pipeline</td><td>IRAC</td><td>--</td><td>IRAC4</td><td>Infrared</td><td>WASP12b-ecl-ch24-1</td><td>--</td><td>000001B3E200</td><td>97.594583</td><td>29.639722</td><td>image</td><td>Wheatley, Peter</td><td>2</td><td>54768.6698501</td><td>54768.66998899</td><td>10.4</td><td>6430.0</td><td>9280.0</td><td>Searching for hot stratospheres of new transiting exoplanets from the WASP survey</td><td>55148.84736098</td><td>WASP_C5_50759</td><td>y</td><td>28566016</td><td>POLYGON ICRS 97.64705100 29.67874900 97.63956200 29.59296000 97.54050200 29.59874000 97.54837300 29.68557700 97.64705100 29.67874900</td><td>--</td><td>https://irsa.ipac.caltech.edu/data/SPITZER/SHA/archive/proc/IRAC013500/r28566016/ch4/bcd/SPITZER_I4_28566016_0007_0000_6_bcd.fits</td><td>PUBLIC</td><td>False</td><td>nan</td><td>1692417</td><td>0.0</td></tr>\n",
       "<tr><td>science</td><td>SPITZER_SHA</td><td>SSC Pipeline</td><td>IRAC</td><td>--</td><td>IRAC2</td><td>Infrared</td><td>WASP12b-ecl-ch24-1</td><td>--</td><td>000001B3E200</td><td>97.594583</td><td>29.639722</td><td>image</td><td>Wheatley, Peter</td><td>2</td><td>54768.6699982</td><td>54768.67013709</td><td>10.4</td><td>3990.0</td><td>5010.0</td><td>Searching for hot stratospheres of new transiting exoplanets from the WASP survey</td><td>55148.84736098</td><td>WASP_C5_50759</td><td>y</td><td>28566016</td><td>POLYGON ICRS 97.64801200 29.67825500 97.63946600 29.59293500 97.54072500 29.60022100 97.54972700 29.68617300 97.64801200 29.67825500</td><td>--</td><td>https://irsa.ipac.caltech.edu/data/SPITZER/SHA/archive/proc/IRAC013500/r28566016/ch2/bcd/SPITZER_I2_28566016_0008_0000_6_bcd.fits</td><td>PUBLIC</td><td>False</td><td>nan</td><td>1692417</td><td>0.0</td></tr>\n",
       "<tr><td>...</td><td>...</td><td>...</td><td>...</td><td>...</td><td>...</td><td>...</td><td>...</td><td>...</td><td>...</td><td>...</td><td>...</td><td>...</td><td>...</td><td>...</td><td>...</td><td>...</td><td>...</td><td>...</td><td>...</td><td>...</td><td>...</td><td>...</td><td>...</td><td>...</td><td>...</td><td>...</td><td>...</td><td>...</td><td>...</td><td>...</td><td>...</td><td>...</td></tr>\n",
       "<tr><td>science</td><td>SPITZER_SHA</td><td>SSC Pipeline</td><td>IRAC</td><td>--</td><td>IRAC1</td><td>Infrared</td><td>WASP12-1</td><td>--</td><td>000002627C00</td><td>97.63662499999998</td><td>29.672306</td><td>image</td><td>Machalek, Pavel</td><td>2</td><td>nan</td><td>nan</td><td>nan</td><td>3170.0</td><td>3950.0000000000005</td><td>Balancing the Budget: Simultaneous Near- and Mid-IR Phase Curves of WASP-12b</td><td>55904.75</td><td>IVANMLADEK_70060</td><td>--</td><td>40008704</td><td>POLYGON ICRS 97.64324400 29.67694900 97.64222600 29.66608600 97.62974900 29.66693700 97.63076400 29.67780100 97.64324400 29.67694900</td><td>--</td><td>https://irsa.ipac.caltech.edu/data/SPITZER/SHA/archive/proc/IRAC026400/r40008704/ch1/bcd/SPITZER_I1_40008704_0313_0000_2_bcd.fits</td><td>PUBLIC</td><td>False</td><td>nan</td><td>1719720</td><td>0.0</td></tr>\n",
       "<tr><td>science</td><td>SPITZER_SHA</td><td>SSC Pipeline</td><td>IRAC</td><td>--</td><td>IRAC1</td><td>Infrared</td><td>WASP12-1</td><td>--</td><td>000002627C00</td><td>97.63662499999998</td><td>29.672306</td><td>image</td><td>Machalek, Pavel</td><td>2</td><td>nan</td><td>nan</td><td>nan</td><td>3170.0</td><td>3950.0000000000005</td><td>Balancing the Budget: Simultaneous Near- and Mid-IR Phase Curves of WASP-12b</td><td>55904.75</td><td>IVANMLADEK_70060</td><td>--</td><td>40008704</td><td>POLYGON ICRS 97.64327600 29.67737200 97.64225900 29.66650900 97.62978100 29.66736000 97.63079700 29.67822400 97.64327600 29.67737200</td><td>--</td><td>https://irsa.ipac.caltech.edu/data/SPITZER/SHA/archive/proc/IRAC026400/r40008704/ch1/bcd/SPITZER_I1_40008704_0194_0000_2_sub2d.fits</td><td>PUBLIC</td><td>False</td><td>nan</td><td>1719720</td><td>0.0</td></tr>\n",
       "<tr><td>science</td><td>SPITZER_SHA</td><td>SSC Pipeline</td><td>IRAC</td><td>--</td><td>IRAC1</td><td>Infrared</td><td>WASP12-1</td><td>--</td><td>000002627C00</td><td>97.63662499999998</td><td>29.672306</td><td>image</td><td>Machalek, Pavel</td><td>2</td><td>nan</td><td>nan</td><td>nan</td><td>3170.0</td><td>3950.0000000000005</td><td>Balancing the Budget: Simultaneous Near- and Mid-IR Phase Curves of WASP-12b</td><td>55904.75</td><td>IVANMLADEK_70060</td><td>--</td><td>40008704</td><td>POLYGON ICRS 97.64313000 29.67700500 97.64211300 29.66614200 97.62963500 29.66699300 97.63065100 29.67785700 97.64313000 29.67700500</td><td>--</td><td>https://irsa.ipac.caltech.edu/data/SPITZER/SHA/archive/proc/IRAC026400/r40008704/ch1/bcd/SPITZER_I1_40008704_0179_0000_2_bcd.fits</td><td>PUBLIC</td><td>False</td><td>nan</td><td>1719720</td><td>0.0</td></tr>\n",
       "<tr><td>science</td><td>SPITZER_SHA</td><td>SSC Pipeline</td><td>IRAC</td><td>--</td><td>IRAC1</td><td>Infrared</td><td>WASP12-1</td><td>--</td><td>000002627C00</td><td>97.63662499999998</td><td>29.672306</td><td>image</td><td>Machalek, Pavel</td><td>2</td><td>nan</td><td>nan</td><td>nan</td><td>3170.0</td><td>3950.0000000000005</td><td>Balancing the Budget: Simultaneous Near- and Mid-IR Phase Curves of WASP-12b</td><td>55904.75</td><td>IVANMLADEK_70060</td><td>--</td><td>40008704</td><td>POLYGON ICRS 97.64353300 29.67741600 97.64251500 29.66655300 97.63003700 29.66740400 97.63105300 29.67826900 97.64353300 29.67741600</td><td>--</td><td>https://irsa.ipac.caltech.edu/data/SPITZER/SHA/archive/proc/IRAC026400/r40008704/ch1/bcd/SPITZER_I1_40008704_0322_0000_2_sub2d.fits</td><td>PUBLIC</td><td>False</td><td>nan</td><td>1719720</td><td>0.0</td></tr>\n",
       "<tr><td>science</td><td>SPITZER_SHA</td><td>SSC Pipeline</td><td>IRAC</td><td>--</td><td>IRAC1</td><td>Infrared</td><td>WASP12-1</td><td>--</td><td>000002627C00</td><td>97.63662499999998</td><td>29.672306</td><td>image</td><td>Machalek, Pavel</td><td>2</td><td>nan</td><td>nan</td><td>nan</td><td>3170.0</td><td>3950.0000000000005</td><td>Balancing the Budget: Simultaneous Near- and Mid-IR Phase Curves of WASP-12b</td><td>55904.75</td><td>IVANMLADEK_70060</td><td>--</td><td>40008704</td><td>POLYGON ICRS 97.64293000 29.67731900 97.64191200 29.66645600 97.62943500 29.66730700 97.63045000 29.67817100 97.64293000 29.67731900</td><td>--</td><td>https://irsa.ipac.caltech.edu/data/SPITZER/SHA/archive/proc/IRAC026400/r40008704/ch1/bcd/SPITZER_I1_40008704_0018_0000_2_sub2d.fits</td><td>PUBLIC</td><td>False</td><td>nan</td><td>1719720</td><td>0.0</td></tr>\n",
       "<tr><td>science</td><td>SPITZER_SHA</td><td>SSC Pipeline</td><td>IRAC</td><td>--</td><td>IRAC1</td><td>Infrared</td><td>WASP12-1</td><td>--</td><td>000002627C00</td><td>97.63662499999998</td><td>29.672306</td><td>image</td><td>Machalek, Pavel</td><td>2</td><td>nan</td><td>nan</td><td>nan</td><td>3170.0</td><td>3950.0000000000005</td><td>Balancing the Budget: Simultaneous Near- and Mid-IR Phase Curves of WASP-12b</td><td>55904.75</td><td>IVANMLADEK_70060</td><td>--</td><td>40008704</td><td>POLYGON ICRS 97.64359400 29.67743700 97.64257700 29.66657400 97.63009900 29.66742500 97.63111500 29.67829000 97.64359400 29.67743700</td><td>--</td><td>https://irsa.ipac.caltech.edu/data/SPITZER/SHA/archive/proc/IRAC026400/r40008704/ch1/bcd/SPITZER_I1_40008704_0405_0000_2_sub2d.fits</td><td>PUBLIC</td><td>False</td><td>nan</td><td>1719720</td><td>0.0</td></tr>\n",
       "<tr><td>science</td><td>SPITZER_SHA</td><td>SSC Pipeline</td><td>IRAC</td><td>--</td><td>IRAC1</td><td>Infrared</td><td>WASP12-1</td><td>--</td><td>000002627C00</td><td>97.63662499999998</td><td>29.672306</td><td>image</td><td>Machalek, Pavel</td><td>2</td><td>nan</td><td>nan</td><td>nan</td><td>3170.0</td><td>3950.0000000000005</td><td>Balancing the Budget: Simultaneous Near- and Mid-IR Phase Curves of WASP-12b</td><td>55904.75</td><td>IVANMLADEK_70060</td><td>--</td><td>40008704</td><td>POLYGON ICRS 97.64297000 29.67718200 97.64195300 29.66631900 97.62947500 29.66716900 97.63049100 29.67803400 97.64297000 29.67718200</td><td>--</td><td>https://irsa.ipac.caltech.edu/data/SPITZER/SHA/archive/proc/IRAC026400/r40008704/ch1/bcd/SPITZER_I1_40008704_0250_0000_2_sub2d.fits</td><td>PUBLIC</td><td>False</td><td>nan</td><td>1719720</td><td>0.0</td></tr>\n",
       "<tr><td>science</td><td>SPITZER_SHA</td><td>SSC Pipeline</td><td>IRAC</td><td>--</td><td>IRAC1</td><td>Infrared</td><td>WASP12-1</td><td>--</td><td>000002627C00</td><td>97.63662499999998</td><td>29.672306</td><td>image</td><td>Machalek, Pavel</td><td>2</td><td>nan</td><td>nan</td><td>nan</td><td>3170.0</td><td>3950.0000000000005</td><td>Balancing the Budget: Simultaneous Near- and Mid-IR Phase Curves of WASP-12b</td><td>55904.75</td><td>IVANMLADEK_70060</td><td>--</td><td>40008704</td><td>POLYGON ICRS 97.64324500 29.67739500 97.64222800 29.66653200 97.62975000 29.66738300 97.63076600 29.67824700 97.64324500 29.67739500</td><td>--</td><td>https://irsa.ipac.caltech.edu/data/SPITZER/SHA/archive/proc/IRAC026400/r40008704/ch1/bcd/SPITZER_I1_40008704_0184_0000_2_sub2d.fits</td><td>PUBLIC</td><td>False</td><td>nan</td><td>1719720</td><td>0.0</td></tr>\n",
       "<tr><td>science</td><td>SPITZER_SHA</td><td>SSC Pipeline</td><td>IRAC</td><td>--</td><td>IRAC1</td><td>Infrared</td><td>WASP12-1</td><td>--</td><td>000002627C00</td><td>97.63662499999998</td><td>29.672306</td><td>image</td><td>Machalek, Pavel</td><td>2</td><td>nan</td><td>nan</td><td>nan</td><td>3170.0</td><td>3950.0000000000005</td><td>Balancing the Budget: Simultaneous Near- and Mid-IR Phase Curves of WASP-12b</td><td>55904.75</td><td>IVANMLADEK_70060</td><td>--</td><td>40008704</td><td>POLYGON ICRS 97.64290400 29.67705400 97.64188700 29.66619100 97.62940900 29.66704100 97.63042500 29.67790600 97.64290400 29.67705400</td><td>--</td><td>https://irsa.ipac.caltech.edu/data/SPITZER/SHA/archive/proc/IRAC026400/r40008704/ch1/bcd/SPITZER_I1_40008704_0089_0000_2_sub2d.fits</td><td>PUBLIC</td><td>False</td><td>nan</td><td>1719720</td><td>0.0</td></tr>\n",
       "<tr><td>science</td><td>SPITZER_SHA</td><td>SSC Pipeline</td><td>IRAC</td><td>--</td><td>IRAC1</td><td>Infrared</td><td>WASP12-1</td><td>--</td><td>000002627C00</td><td>97.63662499999998</td><td>29.672306</td><td>image</td><td>Machalek, Pavel</td><td>2</td><td>nan</td><td>nan</td><td>nan</td><td>3170.0</td><td>3950.0000000000005</td><td>Balancing the Budget: Simultaneous Near- and Mid-IR Phase Curves of WASP-12b</td><td>55904.75</td><td>IVANMLADEK_70060</td><td>--</td><td>40008704</td><td>POLYGON ICRS 97.64350100 29.67701600 97.64248300 29.66615300 97.63000500 29.66700300 97.63102100 29.67786800 97.64350100 29.67701600</td><td>--</td><td>https://irsa.ipac.caltech.edu/data/SPITZER/SHA/archive/proc/IRAC026400/r40008704/ch1/bcd/SPITZER_I1_40008704_0402_0000_2_sub2d.fits</td><td>PUBLIC</td><td>False</td><td>nan</td><td>1719720</td><td>0.0</td></tr>\n",
       "<tr><td>science</td><td>SPITZER_SHA</td><td>SSC Pipeline</td><td>IRAC</td><td>--</td><td>IRAC1</td><td>Infrared</td><td>WASP12-1</td><td>--</td><td>000002627C00</td><td>97.63662499999998</td><td>29.672306</td><td>image</td><td>Machalek, Pavel</td><td>2</td><td>nan</td><td>nan</td><td>nan</td><td>3170.0</td><td>3950.0000000000005</td><td>Balancing the Budget: Simultaneous Near- and Mid-IR Phase Curves of WASP-12b</td><td>55904.75</td><td>IVANMLADEK_70060</td><td>--</td><td>40008704</td><td>POLYGON ICRS 97.64358400 29.67747200 97.64256600 29.66660900 97.63008800 29.66746000 97.63110400 29.67832400 97.64358400 29.67747200</td><td>--</td><td>https://irsa.ipac.caltech.edu/data/SPITZER/SHA/archive/proc/IRAC026400/r40008704/ch1/bcd/SPITZER_I1_40008704_0316_0000_2_sub2d.fits</td><td>PUBLIC</td><td>False</td><td>nan</td><td>1719720</td><td>0.0</td></tr>\n",
       "<tr><td>science</td><td>SPITZER_SHA</td><td>SSC Pipeline</td><td>IRAC</td><td>--</td><td>IRAC1</td><td>Infrared</td><td>WASP12-1</td><td>--</td><td>000002627C00</td><td>97.63662499999998</td><td>29.672306</td><td>image</td><td>Machalek, Pavel</td><td>2</td><td>nan</td><td>nan</td><td>nan</td><td>3170.0</td><td>3950.0000000000005</td><td>Balancing the Budget: Simultaneous Near- and Mid-IR Phase Curves of WASP-12b</td><td>55904.75</td><td>IVANMLADEK_70060</td><td>--</td><td>40008704</td><td>POLYGON ICRS 97.64292900 29.67736500 97.64191100 29.66650200 97.62943300 29.66735200 97.63044900 29.67821700 97.64292900 29.67736500</td><td>--</td><td>https://irsa.ipac.caltech.edu/data/SPITZER/SHA/archive/proc/IRAC026400/r40008704/ch1/bcd/SPITZER_I1_40008704_0016_0000_2_bcd.fits</td><td>PUBLIC</td><td>False</td><td>nan</td><td>1719720</td><td>0.0</td></tr>\n",
       "<tr><td>science</td><td>SPITZER_SHA</td><td>SSC Pipeline</td><td>IRAC</td><td>--</td><td>IRAC1</td><td>Infrared</td><td>WASP12-1</td><td>--</td><td>000002627C00</td><td>97.63662499999998</td><td>29.672306</td><td>image</td><td>Machalek, Pavel</td><td>2</td><td>nan</td><td>nan</td><td>nan</td><td>3170.0</td><td>3950.0000000000005</td><td>Balancing the Budget: Simultaneous Near- and Mid-IR Phase Curves of WASP-12b</td><td>55904.75</td><td>IVANMLADEK_70060</td><td>--</td><td>40008704</td><td>POLYGON ICRS 97.64323800 29.67704300 97.64222000 29.66618000 97.62974300 29.66703000 97.63075800 29.67789500 97.64323800 29.67704300</td><td>--</td><td>https://irsa.ipac.caltech.edu/data/SPITZER/SHA/archive/proc/IRAC026400/r40008704/ch1/bcd/SPITZER_I1_40008704_0305_0000_2_bcd.fits</td><td>PUBLIC</td><td>False</td><td>nan</td><td>1719720</td><td>0.0</td></tr>\n",
       "<tr><td>science</td><td>SPITZER_SHA</td><td>SSC Pipeline</td><td>IRAC</td><td>--</td><td>IRAC1</td><td>Infrared</td><td>WASP12-1</td><td>--</td><td>000002627C00</td><td>97.63662499999998</td><td>29.672306</td><td>image</td><td>Machalek, Pavel</td><td>2</td><td>nan</td><td>nan</td><td>nan</td><td>3170.0</td><td>3950.0000000000005</td><td>Balancing the Budget: Simultaneous Near- and Mid-IR Phase Curves of WASP-12b</td><td>55904.75</td><td>IVANMLADEK_70060</td><td>--</td><td>40008704</td><td>POLYGON ICRS 97.64356300 29.67711700 97.64254500 29.66625400 97.63006800 29.66710500 97.63108300 29.67796900 97.64356300 29.67711700</td><td>--</td><td>https://irsa.ipac.caltech.edu/data/SPITZER/SHA/archive/proc/IRAC026400/r40008704/ch1/bcd/SPITZER_I1_40008704_0394_0000_2_sub2d.fits</td><td>PUBLIC</td><td>False</td><td>nan</td><td>1719720</td><td>0.0</td></tr>\n",
       "<tr><td>science</td><td>SPITZER_SHA</td><td>SSC Pipeline</td><td>IRAC</td><td>--</td><td>IRAC1</td><td>Infrared</td><td>WASP12-1</td><td>--</td><td>000002627C00</td><td>97.63662499999998</td><td>29.672306</td><td>image</td><td>Machalek, Pavel</td><td>2</td><td>nan</td><td>nan</td><td>nan</td><td>3170.0</td><td>3950.0000000000005</td><td>Balancing the Budget: Simultaneous Near- and Mid-IR Phase Curves of WASP-12b</td><td>55904.75</td><td>IVANMLADEK_70060</td><td>--</td><td>40008704</td><td>POLYGON ICRS 97.64309600 29.67708700 97.64207800 29.66622400 97.62960100 29.66707400 97.63061600 29.67793900 97.64309600 29.67708700</td><td>--</td><td>https://irsa.ipac.caltech.edu/data/SPITZER/SHA/archive/proc/IRAC026400/r40008704/ch1/bcd/SPITZER_I1_40008704_0217_0000_2_bcd.fits</td><td>PUBLIC</td><td>False</td><td>nan</td><td>1719720</td><td>0.0</td></tr>\n",
       "<tr><td>science</td><td>SPITZER_SHA</td><td>SSC Pipeline</td><td>IRAC</td><td>--</td><td>IRAC2</td><td>Infrared</td><td>WASP12</td><td>--</td><td>0000027A9200</td><td>97.63662499999998</td><td>29.672306</td><td>image</td><td>Machalek, Pavel</td><td>2</td><td>nan</td><td>nan</td><td>nan</td><td>3990.0</td><td>5010.0</td><td>Balancing the Budget: Simultaneous Near- and Mid-IR Phase Curves of WASP-12b</td><td>55939.6666666</td><td>IVANMLADEK_70060</td><td>--</td><td>41587200</td><td>POLYGON ICRS 97.64307200 29.67738700 97.64247900 29.66668200 97.63008000 29.66715400 97.63069300 29.67785500 97.64307200 29.67738700</td><td>--</td><td>https://irsa.ipac.caltech.edu/data/SPITZER/SHA/archive/proc/IRAC026600/r41587200/ch2/bcd/SPITZER_I2_41587200_0272_0000_2_bcd.fits</td><td>PUBLIC</td><td>False</td><td>nan</td><td>1729553</td><td>0.0</td></tr>\n",
       "</table></div>"
      ],
      "text/plain": [
       "<Table masked=True length=24815>\n",
       "intentType obs_collection provenance_name instrument_name project filters ... dataRights mtFlag  srcDen  obsid  distance\n",
       "   str7        str11           str12           str10        str4    str9  ...    str6     bool  float64   str8  float64 \n",
       "---------- -------------- --------------- --------------- ------- ------- ... ---------- ------ ------- ------- --------\n",
       "   science    SPITZER_SHA    SSC Pipeline            IRAC      --   IRAC4 ...     PUBLIC  False     nan 1692417      0.0\n",
       "   science    SPITZER_SHA    SSC Pipeline            IRAC      --   IRAC2 ...     PUBLIC  False     nan 1692417      0.0\n",
       "   science    SPITZER_SHA    SSC Pipeline            IRAC      --   IRAC2 ...     PUBLIC  False     nan 1692417      0.0\n",
       "   science    SPITZER_SHA    SSC Pipeline            IRAC      --   IRAC4 ...     PUBLIC  False     nan 1692417      0.0\n",
       "   science    SPITZER_SHA    SSC Pipeline            IRAC      --   IRAC4 ...     PUBLIC  False     nan 1692417      0.0\n",
       "   science    SPITZER_SHA    SSC Pipeline            IRAC      --   IRAC2 ...     PUBLIC  False     nan 1692417      0.0\n",
       "   science    SPITZER_SHA    SSC Pipeline            IRAC      --   IRAC2 ...     PUBLIC  False     nan 1692417      0.0\n",
       "   science    SPITZER_SHA    SSC Pipeline            IRAC      --   IRAC4 ...     PUBLIC  False     nan 1692417      0.0\n",
       "   science    SPITZER_SHA    SSC Pipeline            IRAC      --   IRAC4 ...     PUBLIC  False     nan 1692417      0.0\n",
       "   science    SPITZER_SHA    SSC Pipeline            IRAC      --   IRAC2 ...     PUBLIC  False     nan 1692417      0.0\n",
       "   science    SPITZER_SHA    SSC Pipeline            IRAC      --   IRAC2 ...     PUBLIC  False     nan 1692417      0.0\n",
       "   science    SPITZER_SHA    SSC Pipeline            IRAC      --   IRAC4 ...     PUBLIC  False     nan 1692417      0.0\n",
       "   science    SPITZER_SHA    SSC Pipeline            IRAC      --   IRAC2 ...     PUBLIC  False     nan 1692417      0.0\n",
       "   science    SPITZER_SHA    SSC Pipeline            IRAC      --   IRAC4 ...     PUBLIC  False     nan 1692417      0.0\n",
       "   science    SPITZER_SHA    SSC Pipeline            IRAC      --   IRAC2 ...     PUBLIC  False     nan 1692417      0.0\n",
       "       ...            ...             ...             ...     ...     ... ...        ...    ...     ...     ...      ...\n",
       "   science    SPITZER_SHA    SSC Pipeline            IRAC      --   IRAC1 ...     PUBLIC  False     nan 1719720      0.0\n",
       "   science    SPITZER_SHA    SSC Pipeline            IRAC      --   IRAC1 ...     PUBLIC  False     nan 1719720      0.0\n",
       "   science    SPITZER_SHA    SSC Pipeline            IRAC      --   IRAC1 ...     PUBLIC  False     nan 1719720      0.0\n",
       "   science    SPITZER_SHA    SSC Pipeline            IRAC      --   IRAC1 ...     PUBLIC  False     nan 1719720      0.0\n",
       "   science    SPITZER_SHA    SSC Pipeline            IRAC      --   IRAC1 ...     PUBLIC  False     nan 1719720      0.0\n",
       "   science    SPITZER_SHA    SSC Pipeline            IRAC      --   IRAC1 ...     PUBLIC  False     nan 1719720      0.0\n",
       "   science    SPITZER_SHA    SSC Pipeline            IRAC      --   IRAC1 ...     PUBLIC  False     nan 1719720      0.0\n",
       "   science    SPITZER_SHA    SSC Pipeline            IRAC      --   IRAC1 ...     PUBLIC  False     nan 1719720      0.0\n",
       "   science    SPITZER_SHA    SSC Pipeline            IRAC      --   IRAC1 ...     PUBLIC  False     nan 1719720      0.0\n",
       "   science    SPITZER_SHA    SSC Pipeline            IRAC      --   IRAC1 ...     PUBLIC  False     nan 1719720      0.0\n",
       "   science    SPITZER_SHA    SSC Pipeline            IRAC      --   IRAC1 ...     PUBLIC  False     nan 1719720      0.0\n",
       "   science    SPITZER_SHA    SSC Pipeline            IRAC      --   IRAC1 ...     PUBLIC  False     nan 1719720      0.0\n",
       "   science    SPITZER_SHA    SSC Pipeline            IRAC      --   IRAC1 ...     PUBLIC  False     nan 1719720      0.0\n",
       "   science    SPITZER_SHA    SSC Pipeline            IRAC      --   IRAC1 ...     PUBLIC  False     nan 1719720      0.0\n",
       "   science    SPITZER_SHA    SSC Pipeline            IRAC      --   IRAC1 ...     PUBLIC  False     nan 1719720      0.0\n",
       "   science    SPITZER_SHA    SSC Pipeline            IRAC      --   IRAC2 ...     PUBLIC  False     nan 1729553      0.0"
      ]
     },
     "execution_count": 36,
     "metadata": {},
     "output_type": "execute_result"
    }
   ],
   "source": [
    "obs_table"
   ]
  },
  {
   "cell_type": "markdown",
   "id": "6adfae44",
   "metadata": {},
   "source": [
    "To get the latest results, we sort by t_min."
   ]
  },
  {
   "cell_type": "code",
   "execution_count": 37,
   "id": "9054aabe",
   "metadata": {
    "ExecuteTime": {
     "end_time": "2022-07-24T16:20:06.575783Z",
     "start_time": "2022-07-24T16:20:06.392793Z"
    }
   },
   "outputs": [],
   "source": [
    "obs_table.sort('t_min')"
   ]
  },
  {
   "cell_type": "markdown",
   "id": "82b591d7",
   "metadata": {},
   "source": [
    "However, we want to make sure that we aren't selecting an observation with a `NaN` value for `t_min`."
   ]
  },
  {
   "cell_type": "code",
   "execution_count": 42,
   "id": "908a9f3e",
   "metadata": {
    "ExecuteTime": {
     "end_time": "2022-07-24T16:22:05.919105Z",
     "start_time": "2022-07-24T16:22:05.876026Z"
    }
   },
   "outputs": [],
   "source": [
    "not_nan_mask = ~np.isnan(obs_table['t_min'])\n",
    "\n",
    "obs_table = obs_table[not_nan_mask]"
   ]
  },
  {
   "cell_type": "code",
   "execution_count": 43,
   "id": "cc5e48b5",
   "metadata": {
    "ExecuteTime": {
     "end_time": "2022-07-24T16:22:11.711429Z",
     "start_time": "2022-07-24T16:22:11.671742Z"
    }
   },
   "outputs": [
    {
     "data": {
      "text/html": [
       "<div><i>Table masked=True length=20271</i>\n",
       "<table id=\"table5626402976\" class=\"table-striped table-bordered table-condensed\">\n",
       "<thead><tr><th>intentType</th><th>obs_collection</th><th>provenance_name</th><th>instrument_name</th><th>project</th><th>filters</th><th>wavelength_region</th><th>target_name</th><th>target_classification</th><th>obs_id</th><th>s_ra</th><th>s_dec</th><th>dataproduct_type</th><th>proposal_pi</th><th>calib_level</th><th>t_min</th><th>t_max</th><th>t_exptime</th><th>em_min</th><th>em_max</th><th>obs_title</th><th>t_obs_release</th><th>proposal_id</th><th>proposal_type</th><th>sequence_number</th><th>s_region</th><th>jpegURL</th><th>dataURL</th><th>dataRights</th><th>mtFlag</th><th>srcDen</th><th>obsid</th><th>distance</th></tr></thead>\n",
       "<thead><tr><th>str7</th><th>str11</th><th>str12</th><th>str10</th><th>str4</th><th>str9</th><th>str16</th><th>str21</th><th>str32</th><th>str78</th><th>float64</th><th>float64</th><th>str10</th><th>str23</th><th>int64</th><th>float64</th><th>float64</th><th>float64</th><th>float64</th><th>float64</th><th>str81</th><th>float64</th><th>str34</th><th>str3</th><th>int64</th><th>str461</th><th>str120</th><th>str136</th><th>str6</th><th>bool</th><th>float64</th><th>str8</th><th>float64</th></tr></thead>\n",
       "<tr><td>science</td><td>SPITZER_SHA</td><td>SSC Pipeline</td><td>IRAC</td><td>--</td><td>IRAC4</td><td>Infrared</td><td>WASP12b-ecl-ch24-1</td><td>--</td><td>000001B3E200</td><td>97.594583</td><td>29.639722</td><td>image</td><td>Wheatley, Peter</td><td>2</td><td>54768.668948</td><td>54768.66908689</td><td>10.4</td><td>6430.0</td><td>9280.0</td><td>Searching for hot stratospheres of new transiting exoplanets from the WASP survey</td><td>55148.84736098</td><td>WASP_C5_50759</td><td>y</td><td>28566016</td><td>POLYGON ICRS 97.64707900 29.67869000 97.63958900 29.59290200 97.54052900 29.59868200 97.54840100 29.68551900 97.64707900 29.67869000</td><td>--</td><td>https://irsa.ipac.caltech.edu/data/SPITZER/SHA/archive/proc/IRAC013500/r28566016/ch4/bcd/SPITZER_I4_28566016_0001_0000_6_bcd.fits</td><td>PUBLIC</td><td>False</td><td>nan</td><td>1692417</td><td>0.0</td></tr>\n",
       "<tr><td>science</td><td>SPITZER_SHA</td><td>SSC Pipeline</td><td>IRAC</td><td>--</td><td>IRAC2</td><td>Infrared</td><td>WASP12b-ecl-ch24-1</td><td>--</td><td>000001B3E200</td><td>97.594583</td><td>29.639722</td><td>image</td><td>Wheatley, Peter</td><td>2</td><td>54768.668948</td><td>54768.66908689</td><td>10.4</td><td>3990.0</td><td>5010.0</td><td>Searching for hot stratospheres of new transiting exoplanets from the WASP survey</td><td>55148.84736098</td><td>WASP_C5_50759</td><td>y</td><td>28566016</td><td>POLYGON ICRS 97.64803700 29.67819700 97.63949100 29.59287700 97.54075000 29.60016300 97.54975300 29.68611500 97.64803700 29.67819700</td><td>--</td><td>https://irsa.ipac.caltech.edu/data/SPITZER/SHA/archive/proc/IRAC013500/r28566016/ch2/bcd/SPITZER_I2_28566016_0001_0000_6_bcd.fits</td><td>PUBLIC</td><td>False</td><td>nan</td><td>1692417</td><td>0.0</td></tr>\n",
       "<tr><td>science</td><td>SPITZER_SHA</td><td>SSC Pipeline</td><td>IRAC</td><td>--</td><td>IRAC2</td><td>Infrared</td><td>WASP12b-ecl-ch24-1</td><td>--</td><td>000001B3E200</td><td>97.594583</td><td>29.639722</td><td>image</td><td>Wheatley, Peter</td><td>2</td><td>54768.6690955</td><td>54768.66923439</td><td>10.4</td><td>3990.0</td><td>5010.0</td><td>Searching for hot stratospheres of new transiting exoplanets from the WASP survey</td><td>55148.84736098</td><td>WASP_C5_50759</td><td>y</td><td>28566016</td><td>POLYGON ICRS 97.64802100 29.67823200 97.63947500 29.59291200 97.54073400 29.60019800 97.54973600 29.68615000 97.64802100 29.67823200</td><td>--</td><td>https://irsa.ipac.caltech.edu/data/SPITZER/SHA/archive/proc/IRAC013500/r28566016/ch2/bcd/SPITZER_I2_28566016_0002_0000_6_bcd.fits</td><td>PUBLIC</td><td>False</td><td>nan</td><td>1692417</td><td>0.0</td></tr>\n",
       "<tr><td>science</td><td>SPITZER_SHA</td><td>SSC Pipeline</td><td>IRAC</td><td>--</td><td>IRAC4</td><td>Infrared</td><td>WASP12b-ecl-ch24-1</td><td>--</td><td>000001B3E200</td><td>97.594583</td><td>29.639722</td><td>image</td><td>Wheatley, Peter</td><td>2</td><td>54768.6690955</td><td>54768.66923439</td><td>10.4</td><td>6430.0</td><td>9280.0</td><td>Searching for hot stratospheres of new transiting exoplanets from the WASP survey</td><td>55148.84736098</td><td>WASP_C5_50759</td><td>y</td><td>28566016</td><td>POLYGON ICRS 97.64706200 29.67872600 97.63957300 29.59293800 97.54051300 29.59871700 97.54838400 29.68555400 97.64706200 29.67872600</td><td>--</td><td>https://irsa.ipac.caltech.edu/data/SPITZER/SHA/archive/proc/IRAC013500/r28566016/ch4/bcd/SPITZER_I4_28566016_0002_0000_6_bcd.fits</td><td>PUBLIC</td><td>False</td><td>nan</td><td>1692417</td><td>0.0</td></tr>\n",
       "<tr><td>science</td><td>SPITZER_SHA</td><td>SSC Pipeline</td><td>IRAC</td><td>--</td><td>IRAC4</td><td>Infrared</td><td>WASP12b-ecl-ch24-1</td><td>--</td><td>000001B3E200</td><td>97.594583</td><td>29.639722</td><td>image</td><td>Wheatley, Peter</td><td>2</td><td>54768.6692483</td><td>54768.66938719</td><td>10.4</td><td>6430.0</td><td>9280.0</td><td>Searching for hot stratospheres of new transiting exoplanets from the WASP survey</td><td>55148.84736098</td><td>WASP_C5_50759</td><td>y</td><td>28566016</td><td>POLYGON ICRS 97.64705400 29.67873900 97.63956500 29.59295100 97.54050500 29.59873000 97.54837600 29.68556700 97.64705400 29.67873900</td><td>--</td><td>https://irsa.ipac.caltech.edu/data/SPITZER/SHA/archive/proc/IRAC013500/r28566016/ch4/bcd/SPITZER_I4_28566016_0003_0000_6_bcd.fits</td><td>PUBLIC</td><td>False</td><td>nan</td><td>1692417</td><td>0.0</td></tr>\n",
       "<tr><td>science</td><td>SPITZER_SHA</td><td>SSC Pipeline</td><td>IRAC</td><td>--</td><td>IRAC2</td><td>Infrared</td><td>WASP12b-ecl-ch24-1</td><td>--</td><td>000001B3E200</td><td>97.594583</td><td>29.639722</td><td>image</td><td>Wheatley, Peter</td><td>2</td><td>54768.6692483</td><td>54768.66938719</td><td>10.4</td><td>3990.0</td><td>5010.0</td><td>Searching for hot stratospheres of new transiting exoplanets from the WASP survey</td><td>55148.84736098</td><td>WASP_C5_50759</td><td>y</td><td>28566016</td><td>POLYGON ICRS 97.64801300 29.67824500 97.63946700 29.59292500 97.54072600 29.60021100 97.54972800 29.68616300 97.64801300 29.67824500</td><td>--</td><td>https://irsa.ipac.caltech.edu/data/SPITZER/SHA/archive/proc/IRAC013500/r28566016/ch2/bcd/SPITZER_I2_28566016_0003_0000_6_bcd.fits</td><td>PUBLIC</td><td>False</td><td>nan</td><td>1692417</td><td>0.0</td></tr>\n",
       "<tr><td>science</td><td>SPITZER_SHA</td><td>SSC Pipeline</td><td>IRAC</td><td>--</td><td>IRAC2</td><td>Infrared</td><td>WASP12b-ecl-ch24-1</td><td>--</td><td>000001B3E200</td><td>97.594583</td><td>29.639722</td><td>image</td><td>Wheatley, Peter</td><td>2</td><td>54768.6693964</td><td>54768.66953529</td><td>10.4</td><td>3990.0</td><td>5010.0</td><td>Searching for hot stratospheres of new transiting exoplanets from the WASP survey</td><td>55148.84736098</td><td>WASP_C5_50759</td><td>y</td><td>28566016</td><td>POLYGON ICRS 97.64801100 29.67825100 97.63946500 29.59293100 97.54072400 29.60021700 97.54972700 29.68616900 97.64801100 29.67825100</td><td>--</td><td>https://irsa.ipac.caltech.edu/data/SPITZER/SHA/archive/proc/IRAC013500/r28566016/ch2/bcd/SPITZER_I2_28566016_0004_0000_6_bcd.fits</td><td>PUBLIC</td><td>False</td><td>nan</td><td>1692417</td><td>0.0</td></tr>\n",
       "<tr><td>science</td><td>SPITZER_SHA</td><td>SSC Pipeline</td><td>IRAC</td><td>--</td><td>IRAC4</td><td>Infrared</td><td>WASP12b-ecl-ch24-1</td><td>--</td><td>000001B3E200</td><td>97.594583</td><td>29.639722</td><td>image</td><td>Wheatley, Peter</td><td>2</td><td>54768.6693964</td><td>54768.66953529</td><td>10.4</td><td>6430.0</td><td>9280.0</td><td>Searching for hot stratospheres of new transiting exoplanets from the WASP survey</td><td>55148.84736098</td><td>WASP_C5_50759</td><td>y</td><td>28566016</td><td>POLYGON ICRS 97.64705300 29.67874500 97.63956300 29.59295700 97.54050300 29.59873600 97.54837500 29.68557300 97.64705300 29.67874500</td><td>--</td><td>https://irsa.ipac.caltech.edu/data/SPITZER/SHA/archive/proc/IRAC013500/r28566016/ch4/bcd/SPITZER_I4_28566016_0004_0000_6_bcd.fits</td><td>PUBLIC</td><td>False</td><td>nan</td><td>1692417</td><td>0.0</td></tr>\n",
       "<tr><td>science</td><td>SPITZER_SHA</td><td>SSC Pipeline</td><td>IRAC</td><td>--</td><td>IRAC4</td><td>Infrared</td><td>WASP12b-ecl-ch24-1</td><td>--</td><td>000001B3E200</td><td>97.594583</td><td>29.639722</td><td>image</td><td>Wheatley, Peter</td><td>2</td><td>54768.6695492</td><td>54768.66968809</td><td>10.4</td><td>6430.0</td><td>9280.0</td><td>Searching for hot stratospheres of new transiting exoplanets from the WASP survey</td><td>55148.84736098</td><td>WASP_C5_50759</td><td>y</td><td>28566016</td><td>POLYGON ICRS 97.64704700 29.67874700 97.63955800 29.59295900 97.54049700 29.59873900 97.54836900 29.68557500 97.64704700 29.67874700</td><td>--</td><td>https://irsa.ipac.caltech.edu/data/SPITZER/SHA/archive/proc/IRAC013500/r28566016/ch4/bcd/SPITZER_I4_28566016_0005_0000_6_bcd.fits</td><td>PUBLIC</td><td>False</td><td>nan</td><td>1692417</td><td>0.0</td></tr>\n",
       "<tr><td>science</td><td>SPITZER_SHA</td><td>SSC Pipeline</td><td>IRAC</td><td>--</td><td>IRAC2</td><td>Infrared</td><td>WASP12b-ecl-ch24-1</td><td>--</td><td>000001B3E200</td><td>97.594583</td><td>29.639722</td><td>image</td><td>Wheatley, Peter</td><td>2</td><td>54768.6695492</td><td>54768.66968809</td><td>10.4</td><td>3990.0</td><td>5010.0</td><td>Searching for hot stratospheres of new transiting exoplanets from the WASP survey</td><td>55148.84736098</td><td>WASP_C5_50759</td><td>y</td><td>28566016</td><td>POLYGON ICRS 97.64800500 29.67825300 97.63946000 29.59293300 97.54071900 29.60022000 97.54972100 29.68617100 97.64800500 29.67825300</td><td>--</td><td>https://irsa.ipac.caltech.edu/data/SPITZER/SHA/archive/proc/IRAC013500/r28566016/ch2/bcd/SPITZER_I2_28566016_0005_0000_6_bcd.fits</td><td>PUBLIC</td><td>False</td><td>nan</td><td>1692417</td><td>0.0</td></tr>\n",
       "<tr><td>science</td><td>SPITZER_SHA</td><td>SSC Pipeline</td><td>IRAC</td><td>--</td><td>IRAC4</td><td>Infrared</td><td>WASP12b-ecl-ch24-1</td><td>--</td><td>000001B3E200</td><td>97.594583</td><td>29.639722</td><td>image</td><td>Wheatley, Peter</td><td>2</td><td>54768.6696973</td><td>54768.66983619</td><td>10.4</td><td>6430.0</td><td>9280.0</td><td>Searching for hot stratospheres of new transiting exoplanets from the WASP survey</td><td>55148.84736098</td><td>WASP_C5_50759</td><td>y</td><td>28566016</td><td>POLYGON ICRS 97.64705100 29.67875000 97.63956100 29.59296200 97.54050100 29.59874200 97.54837300 29.68557900 97.64705100 29.67875000</td><td>--</td><td>https://irsa.ipac.caltech.edu/data/SPITZER/SHA/archive/proc/IRAC013500/r28566016/ch4/bcd/SPITZER_I4_28566016_0006_0000_6_bcd.fits</td><td>PUBLIC</td><td>False</td><td>nan</td><td>1692417</td><td>0.0</td></tr>\n",
       "<tr><td>science</td><td>SPITZER_SHA</td><td>SSC Pipeline</td><td>IRAC</td><td>--</td><td>IRAC2</td><td>Infrared</td><td>WASP12b-ecl-ch24-1</td><td>--</td><td>000001B3E200</td><td>97.594583</td><td>29.639722</td><td>image</td><td>Wheatley, Peter</td><td>2</td><td>54768.6696973</td><td>54768.66983619</td><td>10.4</td><td>3990.0</td><td>5010.0</td><td>Searching for hot stratospheres of new transiting exoplanets from the WASP survey</td><td>55148.84736098</td><td>WASP_C5_50759</td><td>y</td><td>28566016</td><td>POLYGON ICRS 97.64800900 29.67825600 97.63946300 29.59293700 97.54072200 29.60022300 97.54972500 29.68617500 97.64800900 29.67825600</td><td>--</td><td>https://irsa.ipac.caltech.edu/data/SPITZER/SHA/archive/proc/IRAC013500/r28566016/ch2/bcd/SPITZER_I2_28566016_0006_0000_6_bcd.fits</td><td>PUBLIC</td><td>False</td><td>nan</td><td>1692417</td><td>0.0</td></tr>\n",
       "<tr><td>science</td><td>SPITZER_SHA</td><td>SSC Pipeline</td><td>IRAC</td><td>--</td><td>IRAC2</td><td>Infrared</td><td>WASP12b-ecl-ch24-1</td><td>--</td><td>000001B3E200</td><td>97.594583</td><td>29.639722</td><td>image</td><td>Wheatley, Peter</td><td>2</td><td>54768.6698501</td><td>54768.66998899</td><td>10.4</td><td>3990.0</td><td>5010.0</td><td>Searching for hot stratospheres of new transiting exoplanets from the WASP survey</td><td>55148.84736098</td><td>WASP_C5_50759</td><td>y</td><td>28566016</td><td>POLYGON ICRS 97.64801000 29.67825500 97.63946400 29.59293500 97.54072300 29.60022100 97.54972500 29.68617300 97.64801000 29.67825500</td><td>--</td><td>https://irsa.ipac.caltech.edu/data/SPITZER/SHA/archive/proc/IRAC013500/r28566016/ch2/bcd/SPITZER_I2_28566016_0007_0000_6_bcd.fits</td><td>PUBLIC</td><td>False</td><td>nan</td><td>1692417</td><td>0.0</td></tr>\n",
       "<tr><td>science</td><td>SPITZER_SHA</td><td>SSC Pipeline</td><td>IRAC</td><td>--</td><td>IRAC4</td><td>Infrared</td><td>WASP12b-ecl-ch24-1</td><td>--</td><td>000001B3E200</td><td>97.594583</td><td>29.639722</td><td>image</td><td>Wheatley, Peter</td><td>2</td><td>54768.6698501</td><td>54768.66998899</td><td>10.4</td><td>6430.0</td><td>9280.0</td><td>Searching for hot stratospheres of new transiting exoplanets from the WASP survey</td><td>55148.84736098</td><td>WASP_C5_50759</td><td>y</td><td>28566016</td><td>POLYGON ICRS 97.64705100 29.67874900 97.63956200 29.59296000 97.54050200 29.59874000 97.54837300 29.68557700 97.64705100 29.67874900</td><td>--</td><td>https://irsa.ipac.caltech.edu/data/SPITZER/SHA/archive/proc/IRAC013500/r28566016/ch4/bcd/SPITZER_I4_28566016_0007_0000_6_bcd.fits</td><td>PUBLIC</td><td>False</td><td>nan</td><td>1692417</td><td>0.0</td></tr>\n",
       "<tr><td>science</td><td>SPITZER_SHA</td><td>SSC Pipeline</td><td>IRAC</td><td>--</td><td>IRAC2</td><td>Infrared</td><td>WASP12b-ecl-ch24-1</td><td>--</td><td>000001B3E200</td><td>97.594583</td><td>29.639722</td><td>image</td><td>Wheatley, Peter</td><td>2</td><td>54768.6699982</td><td>54768.67013709</td><td>10.4</td><td>3990.0</td><td>5010.0</td><td>Searching for hot stratospheres of new transiting exoplanets from the WASP survey</td><td>55148.84736098</td><td>WASP_C5_50759</td><td>y</td><td>28566016</td><td>POLYGON ICRS 97.64801200 29.67825500 97.63946600 29.59293500 97.54072500 29.60022100 97.54972700 29.68617300 97.64801200 29.67825500</td><td>--</td><td>https://irsa.ipac.caltech.edu/data/SPITZER/SHA/archive/proc/IRAC013500/r28566016/ch2/bcd/SPITZER_I2_28566016_0008_0000_6_bcd.fits</td><td>PUBLIC</td><td>False</td><td>nan</td><td>1692417</td><td>0.0</td></tr>\n",
       "<tr><td>...</td><td>...</td><td>...</td><td>...</td><td>...</td><td>...</td><td>...</td><td>...</td><td>...</td><td>...</td><td>...</td><td>...</td><td>...</td><td>...</td><td>...</td><td>...</td><td>...</td><td>...</td><td>...</td><td>...</td><td>...</td><td>...</td><td>...</td><td>...</td><td>...</td><td>...</td><td>...</td><td>...</td><td>...</td><td>...</td><td>...</td><td>...</td><td>...</td></tr>\n",
       "<tr><td>science</td><td>HST</td><td>CALSTIS</td><td>STIS/CCD</td><td>HST</td><td>G430L</td><td>Optical</td><td>WASP-12</td><td>EXT-STAR;EXTRA-SOLAR PLANET;G V-</td><td>od9f07080</td><td>97.63664166667</td><td>29.67230277778</td><td>spectrum</td><td>Crossfield, Ian</td><td>3</td><td>57680.709943518516</td><td>57680.744075347226</td><td>2760.0</td><td>290.0</td><td>570.0</td><td>Atmospheric Albedos, Alkalis, and Aerosols of Hot Jupiters</td><td>57680.92537027</td><td>14797</td><td>GO</td><td>--</td><td>POLYGON 97.6426147 29.67751985 97.63114696 29.6667032 97.63066939 29.6670854 97.64213715 29.67790212 97.6426147 29.67751985</td><td>mast:HST/product/od9f07080_sx1_thumb.png</td><td>mast:HST/product/od9f07080_sx1.fits</td><td>PUBLIC</td><td>False</td><td>nan</td><td>25052271</td><td>0.0</td></tr>\n",
       "<tr><td>science</td><td>HST</td><td>CALSTIS</td><td>STIS/CCD</td><td>HST</td><td>G430L</td><td>Optical</td><td>WASP-12</td><td>EXT-STAR;EXTRA-SOLAR PLANET;G V-</td><td>od9f07090</td><td>97.63664166667</td><td>29.67230277778</td><td>spectrum</td><td>Crossfield, Ian</td><td>3</td><td>57680.775984988424</td><td>57680.7759965625</td><td>1.0</td><td>290.0</td><td>570.0</td><td>Atmospheric Albedos, Alkalis, and Aerosols of Hot Jupiters</td><td>57680.92525452</td><td>14797</td><td>GO</td><td>--</td><td>POLYGON 97.6426147 29.67751985 97.63114696 29.6667032 97.63066939 29.6670854 97.64213715 29.67790212 97.6426147 29.67751985</td><td>mast:HST/product/od9f07090_x1d.png</td><td>mast:HST/product/od9f07090_flt.fits</td><td>PUBLIC</td><td>False</td><td>nan</td><td>25052272</td><td>0.0</td></tr>\n",
       "<tr><td>science</td><td>HST</td><td>CALSTIS</td><td>STIS/CCD</td><td>HST</td><td>G430L</td><td>Optical</td><td>WASP-12</td><td>EXT-STAR;EXTRA-SOLAR PLANET;G V-</td><td>od9f070a0</td><td>97.63664166667</td><td>29.67230277778</td><td>spectrum</td><td>Crossfield, Ian</td><td>3</td><td>57680.77622832176</td><td>57680.81036018518</td><td>2760.0</td><td>290.0</td><td>570.0</td><td>Atmospheric Albedos, Alkalis, and Aerosols of Hot Jupiters</td><td>57680.92546286</td><td>14797</td><td>GO</td><td>--</td><td>POLYGON 97.6426147 29.67751985 97.63114696 29.6667032 97.63066939 29.6670854 97.64213715 29.67790212 97.6426147 29.67751985</td><td>mast:HST/product/od9f070a0_sx1_thumb.png</td><td>mast:HST/product/od9f070a0_sx1.fits</td><td>PUBLIC</td><td>False</td><td>nan</td><td>25052273</td><td>0.0</td></tr>\n",
       "<tr><td>science</td><td>TESS</td><td>SPOC</td><td>Photometer</td><td>TESS</td><td>TESS</td><td>Optical</td><td>86396382</td><td>--</td><td>tess2018206190142-s0001-s0046-0000000086396382</td><td>97.6366528287122</td><td>29.6722962039341</td><td>timeseries</td><td>Ricker, George</td><td>3</td><td>58842.00245947917</td><td>59550.12932283565</td><td>120.0</td><td>600.0</td><td>1000.0</td><td>--</td><td>59642.0</td><td>N/A</td><td>--</td><td>46</td><td>CIRCLE 97.63665283 29.6722962 0.00138889</td><td>--</td><td>mast:TESS/product/tess2018206190142-s0001-s0046-0000000086396382-00555_dvt.fits</td><td>PUBLIC</td><td>False</td><td>nan</td><td>71741843</td><td>0.0</td></tr>\n",
       "<tr><td>science</td><td>TESS</td><td>SPOC</td><td>Photometer</td><td>TESS</td><td>TESS</td><td>Optical</td><td>TESS FFI</td><td>--</td><td>tess-s0020-1-3</td><td>101.64458792443914</td><td>34.91458576307677</td><td>image</td><td>Ricker, George</td><td>3</td><td>58842.00512903</td><td>58868.3173308</td><td>1425.599406</td><td>600.0</td><td>1000.0</td><td>--</td><td>58893.0</td><td>N/A</td><td>--</td><td>20</td><td>POLYGON 94.61647600 29.34512900 93.87837900 40.81682500 109.96143000 40.20664100 108.07068800 28.39783100 94.61647600 29.34512900</td><td>--</td><td>--</td><td>PUBLIC</td><td>False</td><td>nan</td><td>27266912</td><td>0.0</td></tr>\n",
       "<tr><td>science</td><td>TESS</td><td>SPOC</td><td>Photometer</td><td>TESS</td><td>TESS</td><td>Optical</td><td>86396382</td><td>--</td><td>tess2019357164649-s0020-0000000086396382-0165-s</td><td>97.6366528287122</td><td>29.6722962039341</td><td>timeseries</td><td>Ricker, George</td><td>3</td><td>58842.0080151</td><td>58868.32702384</td><td>120.0</td><td>600.0</td><td>1000.0</td><td>--</td><td>58893.0</td><td>G022053</td><td>--</td><td>20</td><td>CIRCLE ICRS 97.63665283 29.67229620 0.00138889</td><td>--</td><td>mast:TESS/product/tess2019357164649-s0020-0000000086396382-0165-s_lc.fits</td><td>PUBLIC</td><td>False</td><td>nan</td><td>27242856</td><td>0.0</td></tr>\n",
       "<tr><td>science</td><td>HLSP</td><td>QLP</td><td>Photometer</td><td>TESS</td><td>TESS</td><td>Optical</td><td>86396382</td><td>--</td><td>hlsp_qlp_tess_ffi_s0020-0000000086396382_tess_v01_llc</td><td>97.6366528287</td><td>29.6722962039</td><td>timeseries</td><td>Chelsea X. Huang</td><td>4</td><td>58842.01647715</td><td>58868.30770916</td><td>1800.0</td><td>600.0</td><td>1000.0</td><td>--</td><td>59177.26151619</td><td>N/A</td><td>--</td><td>20</td><td>CIRCLE ICRS 97.63665283 29.67229620 0.00111111</td><td>--</td><td>mast:HLSP/qlp/s0020/0000/0000/8639/6382/hlsp_qlp_tess_ffi_s0020-0000000086396382_tess_v01_llc.fits</td><td>PUBLIC</td><td>False</td><td>nan</td><td>36811427</td><td>0.0</td></tr>\n",
       "<tr><td>science</td><td>HLSP</td><td>TESS-SPOC</td><td>Photometer</td><td>TESS</td><td>TESS</td><td>Optical</td><td>86396382</td><td>--</td><td>hlsp_tess-spoc_tess_phot_0000000086396382-s0020_tess_v1_tp</td><td>97.6366528287122</td><td>29.6722962039341</td><td>timeseries</td><td>Douglas A. Caldwell</td><td>4</td><td>58842.02607088</td><td>58868.31730205</td><td>1800.0</td><td>600.0</td><td>1000.0</td><td>--</td><td>59176.51293981</td><td>N/A</td><td>--</td><td>20</td><td>CIRCLE ICRS 97.63665283 29.67229620 0.00111111</td><td>--</td><td>mast:HLSP/tess-spoc/s0020/target/0000/0000/8639/6382/hlsp_tess-spoc_tess_phot_0000000086396382-s0020_tess_v1_lc.fits</td><td>PUBLIC</td><td>False</td><td>nan</td><td>36650971</td><td>0.0</td></tr>\n",
       "<tr><td>science</td><td>HLSP</td><td>CDIPS</td><td>Photometer</td><td>TESS</td><td>TESS</td><td>Optical</td><td>86396382</td><td>--</td><td>hlsp_cdips_tess_ffi_gaiatwo0003435282862461427072-s0020-cam1-ccd3_tess_v01_llc</td><td>97.6366449998</td><td>29.672266247</td><td>timeseries</td><td>Luke Bouma</td><td>4</td><td>58842.03081050003</td><td>58868.30163289979</td><td>1800.0</td><td>600.0</td><td>1000.0</td><td>--</td><td>59690.50298603</td><td>N/A</td><td>--</td><td>20</td><td>CIRCLE ICRS 97.63664500 29.67226625 0.00583333</td><td>--</td><td>mast:HLSP/cdips/s0020/cam1_ccd3/hlsp_cdips_tess_ffi_gaiatwo0003435282862461427072-s0020-cam1-ccd3_tess_v01_llc.fits</td><td>PUBLIC</td><td>False</td><td>nan</td><td>80567668</td><td>0.0</td></tr>\n",
       "<tr><td>science</td><td>TESS</td><td>SPOC</td><td>Photometer</td><td>TESS</td><td>TESS</td><td>Optical</td><td>86396382</td><td>--</td><td>tess2021233042500-s0042-s0046-0000000086396382</td><td>97.6366528287122</td><td>29.6722962039341</td><td>timeseries</td><td>Ricker, George</td><td>3</td><td>59473.659134270834</td><td>59550.12932283565</td><td>120.0</td><td>600.0</td><td>1000.0</td><td>--</td><td>59641.0</td><td>N/A</td><td>--</td><td>46</td><td>CIRCLE 97.63665283 29.6722962 0.00138889</td><td>--</td><td>mast:TESS/product/tess2021233042500-s0042-s0046-0000000086396382-00550_dvt.fits</td><td>PUBLIC</td><td>False</td><td>nan</td><td>71741845</td><td>0.0</td></tr>\n",
       "<tr><td>science</td><td>TESS</td><td>SPOC</td><td>Photometer</td><td>TESS</td><td>TESS</td><td>Optical</td><td>TESS FFI</td><td>--</td><td>tess-s0043-4-4</td><td>94.91872285177537</td><td>30.010055064290807</td><td>image</td><td>Ricker, George</td><td>3</td><td>59473.664902094904</td><td>59498.389529837965</td><td>475.19979</td><td>600.0</td><td>1000.0</td><td>--</td><td>59526.0</td><td>N/A</td><td>--</td><td>43</td><td>POLYGON 101.170932 23.599319 88.171631 24.077849 88.080994 36.299239 102.20512 35.36993 101.170932 23.599319</td><td>--</td><td>--</td><td>PUBLIC</td><td>False</td><td>nan</td><td>65432622</td><td>0.0</td></tr>\n",
       "<tr><td>science</td><td>TESS</td><td>SPOC</td><td>Photometer</td><td>TESS</td><td>TESS</td><td>Optical</td><td>86396382</td><td>--</td><td>tess2021258175143-s0043-0000000086396382-0214-s</td><td>97.6366528287122</td><td>29.6722962039341</td><td>timeseries</td><td>Ricker, George</td><td>3</td><td>59473.670246458336</td><td>59498.3754325</td><td>120.0</td><td>600.0</td><td>1000.0</td><td>--</td><td>59526.0</td><td>G04096_G04226_G04171_G04098_G04039</td><td>--</td><td>43</td><td>CIRCLE 97.63665283 29.6722962 0.00138889</td><td>--</td><td>mast:TESS/product/tess2021258175143-s0043-0000000086396382-0214-s_lc.fits</td><td>PUBLIC</td><td>False</td><td>nan</td><td>65361378</td><td>0.0</td></tr>\n",
       "<tr><td>science</td><td>TESS</td><td>SPOC</td><td>Photometer</td><td>TESS</td><td>TESS</td><td>Optical</td><td>TESS FFI</td><td>--</td><td>tess-s0044-3-1</td><td>96.459848690926</td><td>30.13339795946023</td><td>image</td><td>Ricker, George</td><td>3</td><td>59499.688170671296</td><td>59523.940292025465</td><td>475.19979</td><td>600.0</td><td>1000.0</td><td>--</td><td>59563.0</td><td>N/A</td><td>--</td><td>44</td><td>POLYGON 89.724166 36.015972 103.928036 35.890833 102.631307 23.721251 89.605838 24.203241 89.724166 36.015972</td><td>--</td><td>--</td><td>PUBLIC</td><td>False</td><td>nan</td><td>68942182</td><td>0.0</td></tr>\n",
       "<tr><td>science</td><td>TESS</td><td>SPOC</td><td>Photometer</td><td>TESS</td><td>TESS</td><td>Optical</td><td>86396382</td><td>--</td><td>tess2021284114741-s0044-0000000086396382-0215-s</td><td>97.6366528287122</td><td>29.6722962039341</td><td>timeseries</td><td>Ricker, George</td><td>3</td><td>59499.697771747684</td><td>59523.94297460648</td><td>120.0</td><td>600.0</td><td>1000.0</td><td>--</td><td>59563.0</td><td>G04096_G04226_G04171_G04098_G04039</td><td>--</td><td>44</td><td>CIRCLE 97.63665283 29.6722962 0.00138889</td><td>--</td><td>mast:TESS/product/tess2021284114741-s0044-0000000086396382-0215-s_lc.fits</td><td>PUBLIC</td><td>False</td><td>nan</td><td>68725979</td><td>0.0</td></tr>\n",
       "<tr><td>science</td><td>TESS</td><td>SPOC</td><td>Photometer</td><td>TESS</td><td>TESS</td><td>Optical</td><td>TESS FFI</td><td>--</td><td>tess-s0045-1-2</td><td>98.8029651865073</td><td>29.902014714340964</td><td>image</td><td>Ricker, George</td><td>3</td><td>59525.00961508102</td><td>59550.129263310184</td><td>475.199789</td><td>600.0</td><td>1000.0</td><td>--</td><td>59575.0</td><td>N/A</td><td>--</td><td>45</td><td>POLYGON 104.979403 23.429132 91.986543 24.03353 92.049345 36.255056 106.150992 35.198847 104.979403 23.429132</td><td>--</td><td>--</td><td>PUBLIC</td><td>False</td><td>nan</td><td>71308547</td><td>0.0</td></tr>\n",
       "<tr><td>science</td><td>TESS</td><td>SPOC</td><td>Photometer</td><td>TESS</td><td>TESS</td><td>Optical</td><td>86396382</td><td>--</td><td>tess2021310001228-s0045-0000000086396382-0216-s</td><td>97.6366528287122</td><td>29.6722962039341</td><td>timeseries</td><td>Ricker, George</td><td>3</td><td>59525.026382233795</td><td>59550.12932283565</td><td>120.0</td><td>600.0</td><td>1000.0</td><td>--</td><td>59575.0</td><td>G04096_G04226_G04171_G04098_G04039</td><td>--</td><td>45</td><td>CIRCLE 97.63665283 29.6722962 0.00138889</td><td>--</td><td>mast:TESS/product/tess2021310001228-s0045-0000000086396382-0216-s_lc.fits</td><td>PUBLIC</td><td>False</td><td>nan</td><td>71236476</td><td>0.0</td></tr>\n",
       "</table></div>"
      ],
      "text/plain": [
       "<Table masked=True length=20271>\n",
       "intentType obs_collection provenance_name instrument_name project filters ... dataRights mtFlag  srcDen  obsid   distance\n",
       "   str7        str11           str12           str10        str4    str9  ...    str6     bool  float64   str8   float64 \n",
       "---------- -------------- --------------- --------------- ------- ------- ... ---------- ------ ------- -------- --------\n",
       "   science    SPITZER_SHA    SSC Pipeline            IRAC      --   IRAC4 ...     PUBLIC  False     nan  1692417      0.0\n",
       "   science    SPITZER_SHA    SSC Pipeline            IRAC      --   IRAC2 ...     PUBLIC  False     nan  1692417      0.0\n",
       "   science    SPITZER_SHA    SSC Pipeline            IRAC      --   IRAC2 ...     PUBLIC  False     nan  1692417      0.0\n",
       "   science    SPITZER_SHA    SSC Pipeline            IRAC      --   IRAC4 ...     PUBLIC  False     nan  1692417      0.0\n",
       "   science    SPITZER_SHA    SSC Pipeline            IRAC      --   IRAC4 ...     PUBLIC  False     nan  1692417      0.0\n",
       "   science    SPITZER_SHA    SSC Pipeline            IRAC      --   IRAC2 ...     PUBLIC  False     nan  1692417      0.0\n",
       "   science    SPITZER_SHA    SSC Pipeline            IRAC      --   IRAC2 ...     PUBLIC  False     nan  1692417      0.0\n",
       "   science    SPITZER_SHA    SSC Pipeline            IRAC      --   IRAC4 ...     PUBLIC  False     nan  1692417      0.0\n",
       "   science    SPITZER_SHA    SSC Pipeline            IRAC      --   IRAC4 ...     PUBLIC  False     nan  1692417      0.0\n",
       "   science    SPITZER_SHA    SSC Pipeline            IRAC      --   IRAC2 ...     PUBLIC  False     nan  1692417      0.0\n",
       "   science    SPITZER_SHA    SSC Pipeline            IRAC      --   IRAC4 ...     PUBLIC  False     nan  1692417      0.0\n",
       "   science    SPITZER_SHA    SSC Pipeline            IRAC      --   IRAC2 ...     PUBLIC  False     nan  1692417      0.0\n",
       "   science    SPITZER_SHA    SSC Pipeline            IRAC      --   IRAC2 ...     PUBLIC  False     nan  1692417      0.0\n",
       "   science    SPITZER_SHA    SSC Pipeline            IRAC      --   IRAC4 ...     PUBLIC  False     nan  1692417      0.0\n",
       "   science    SPITZER_SHA    SSC Pipeline            IRAC      --   IRAC2 ...     PUBLIC  False     nan  1692417      0.0\n",
       "       ...            ...             ...             ...     ...     ... ...        ...    ...     ...      ...      ...\n",
       "   science            HST         CALSTIS        STIS/CCD     HST   G430L ...     PUBLIC  False     nan 25052271      0.0\n",
       "   science            HST         CALSTIS        STIS/CCD     HST   G430L ...     PUBLIC  False     nan 25052272      0.0\n",
       "   science            HST         CALSTIS        STIS/CCD     HST   G430L ...     PUBLIC  False     nan 25052273      0.0\n",
       "   science           TESS            SPOC      Photometer    TESS    TESS ...     PUBLIC  False     nan 71741843      0.0\n",
       "   science           TESS            SPOC      Photometer    TESS    TESS ...     PUBLIC  False     nan 27266912      0.0\n",
       "   science           TESS            SPOC      Photometer    TESS    TESS ...     PUBLIC  False     nan 27242856      0.0\n",
       "   science           HLSP             QLP      Photometer    TESS    TESS ...     PUBLIC  False     nan 36811427      0.0\n",
       "   science           HLSP       TESS-SPOC      Photometer    TESS    TESS ...     PUBLIC  False     nan 36650971      0.0\n",
       "   science           HLSP           CDIPS      Photometer    TESS    TESS ...     PUBLIC  False     nan 80567668      0.0\n",
       "   science           TESS            SPOC      Photometer    TESS    TESS ...     PUBLIC  False     nan 71741845      0.0\n",
       "   science           TESS            SPOC      Photometer    TESS    TESS ...     PUBLIC  False     nan 65432622      0.0\n",
       "   science           TESS            SPOC      Photometer    TESS    TESS ...     PUBLIC  False     nan 65361378      0.0\n",
       "   science           TESS            SPOC      Photometer    TESS    TESS ...     PUBLIC  False     nan 68942182      0.0\n",
       "   science           TESS            SPOC      Photometer    TESS    TESS ...     PUBLIC  False     nan 68725979      0.0\n",
       "   science           TESS            SPOC      Photometer    TESS    TESS ...     PUBLIC  False     nan 71308547      0.0\n",
       "   science           TESS            SPOC      Photometer    TESS    TESS ...     PUBLIC  False     nan 71236476      0.0"
      ]
     },
     "execution_count": 43,
     "metadata": {},
     "output_type": "execute_result"
    }
   ],
   "source": [
    "obs_table"
   ]
  },
  {
   "cell_type": "code",
   "execution_count": 44,
   "id": "f4c64ff9",
   "metadata": {
    "ExecuteTime": {
     "end_time": "2022-07-24T16:23:39.867438Z",
     "start_time": "2022-07-24T16:23:39.850837Z"
    }
   },
   "outputs": [],
   "source": [
    "obs_table_qlp = obs_table[obs_table['project']=='TESS']"
   ]
  },
  {
   "cell_type": "code",
   "execution_count": 45,
   "id": "e6ae4060",
   "metadata": {
    "ExecuteTime": {
     "end_time": "2022-07-24T16:23:56.343762Z",
     "start_time": "2022-07-24T16:23:56.197318Z"
    }
   },
   "outputs": [
    {
     "name": "stdout",
     "output_type": "stream",
     "text": [
      " obsID   obs_collection dataproduct_type                      obs_id                     ...   size   parent_obsid dataRights calib_level\n",
      "-------- -------------- ---------------- ----------------------------------------------- ... -------- ------------ ---------- -----------\n",
      "71236476           TESS       timeseries tess2021310001228-s0045-0000000086396382-0216-s ... 18181717     71236476     PUBLIC           3\n",
      "71236476           TESS       timeseries tess2021310001228-s0045-0000000086396382-0216-s ...   123354     71236476     PUBLIC           3\n",
      "71236476           TESS       timeseries tess2021310001228-s0045-0000000086396382-0216-s ...  5251286     71236476     PUBLIC           3\n",
      "71236476           TESS       timeseries tess2021310001228-s0045-0000000086396382-0216-s ...  1273273     71236476     PUBLIC           3\n",
      "71236476           TESS       timeseries tess2021310001228-s0045-0000000086396382-0216-s ...  3648960     71236476     PUBLIC           3\n",
      "71236476           TESS       timeseries tess2021310001228-s0045-0000000086396382-0216-s ...  1840320     71236476     PUBLIC           3\n",
      "71236476           TESS       timeseries tess2021310001228-s0045-0000000086396382-0216-s ... 44320320     71236476     PUBLIC           2\n"
     ]
    }
   ],
   "source": [
    "recent_index = -1\n",
    "data_products_by_obs = Observations.get_product_list(obs_table_qlp[recent_index])\n",
    "print(data_products_by_obs) "
   ]
  },
  {
   "cell_type": "code",
   "execution_count": 46,
   "id": "1eb7b843",
   "metadata": {
    "ExecuteTime": {
     "end_time": "2022-07-24T16:24:03.200892Z",
     "start_time": "2022-07-24T16:24:03.194059Z"
    }
   },
   "outputs": [
    {
     "data": {
      "text/plain": [
       "<TableColumns names=('obsID','obs_collection','dataproduct_type','obs_id','description','type','dataURI','productType','productGroupDescription','productSubGroupDescription','productDocumentationURL','project','prvversion','proposal_id','productFilename','size','parent_obsid','dataRights','calib_level')>"
      ]
     },
     "execution_count": 46,
     "metadata": {},
     "output_type": "execute_result"
    }
   ],
   "source": [
    "data_products_by_obs.columns"
   ]
  },
  {
   "cell_type": "code",
   "execution_count": 47,
   "id": "44101f00",
   "metadata": {
    "ExecuteTime": {
     "end_time": "2022-07-24T16:24:19.413810Z",
     "start_time": "2022-07-24T16:24:08.372891Z"
    }
   },
   "outputs": [
    {
     "name": "stdout",
     "output_type": "stream",
     "text": [
      "Downloading URL https://mast.stsci.edu/api/v0.1/Download/file?uri=mast:TESS/product/tess2021311000057-s0045-s0045-0000000086396382-00542_dvt.fits to ./mastDownload/TESS/tess2021310001228-s0045-0000000086396382-0216-s/tess2021311000057-s0045-s0045-0000000086396382-00542_dvt.fits ... [Done]\n",
      "Downloading URL https://mast.stsci.edu/api/v0.1/Download/file?uri=mast:TESS/product/tess2021310001228-s0045-0000000086396382-0216-s_lc.fits to ./mastDownload/TESS/tess2021310001228-s0045-0000000086396382-0216-s/tess2021310001228-s0045-0000000086396382-0216-s_lc.fits ... [Done]\n",
      "Downloading URL https://mast.stsci.edu/api/v0.1/Download/file?uri=mast:TESS/product/tess2021310001228-s0045-0000000086396382-0216-s_tp.fits to ./mastDownload/TESS/tess2021310001228-s0045-0000000086396382-0216-s/tess2021310001228-s0045-0000000086396382-0216-s_tp.fits ... [Done]\n"
     ]
    }
   ],
   "source": [
    "# select first observation collection\n",
    "obs_collection = data_products_by_obs['obs_collection'][0]\n",
    "obs_id = data_products_by_obs['obs_id'][0]\n",
    "\n",
    "# query and get product list for this collection\n",
    "single_obs = Observations.query_criteria(obs_collection=obs_collection, obs_id=obs_id)\n",
    "data_products = Observations.get_product_list(single_obs)\n",
    "\n",
    "# download data products\n",
    "manifest = Observations.download_products(data_products, productType=\"SCIENCE\")"
   ]
  },
  {
   "cell_type": "markdown",
   "id": "7f5ec60b",
   "metadata": {},
   "source": [
    "# Exercise 3"
   ]
  },
  {
   "cell_type": "code",
   "execution_count": 106,
   "id": "ff3cb72d",
   "metadata": {
    "ExecuteTime": {
     "end_time": "2022-07-24T16:33:17.965398Z",
     "start_time": "2022-07-24T16:33:17.958954Z"
    }
   },
   "outputs": [],
   "source": [
    "planet_name = 'BD+47 2936 b'"
   ]
  },
  {
   "cell_type": "code",
   "execution_count": 107,
   "id": "51b490a2",
   "metadata": {
    "ExecuteTime": {
     "end_time": "2022-07-24T16:33:18.287541Z",
     "start_time": "2022-07-24T16:33:18.281884Z"
    }
   },
   "outputs": [],
   "source": [
    "planet_name_formatted = planet_name.replace(' ', '%20')\n",
    "\n",
    "request_name_string = f'exoplanets/identifiers/?name={planet_name_formatted}'"
   ]
  },
  {
   "cell_type": "code",
   "execution_count": 108,
   "id": "d373fd64",
   "metadata": {
    "ExecuteTime": {
     "end_time": "2022-07-24T16:33:18.640197Z",
     "start_time": "2022-07-24T16:33:18.631241Z"
    }
   },
   "outputs": [
    {
     "name": "stdout",
     "output_type": "stream",
     "text": [
      "https://exo.mast.stsci.edu/api/v0.1/exoplanets/identifiers/?name=BD+47%202936%20b\n"
     ]
    }
   ],
   "source": [
    "request_name_url = \"https://exo.mast.stsci.edu/api/v0.1/\" + request_name_string\n",
    "print(request_name_url)"
   ]
  },
  {
   "cell_type": "code",
   "execution_count": 115,
   "id": "da67d124",
   "metadata": {
    "ExecuteTime": {
     "end_time": "2022-07-24T16:33:42.458220Z",
     "start_time": "2022-07-24T16:33:42.167997Z"
    }
   },
   "outputs": [
    {
     "data": {
      "text/plain": [
       "b'{\"canonicalName\":\"HAT-P-11 b\",\"starName\":\"HAT-P-11\",\"ra\":297.70891666412354,\"dec\":48.080294444825924,\"planetNames\":[\"HAT-P-11 b\",\"Gaia DR1 2086512223550151936 b\",\"HIP 97657 b\",\"Kepler-3 b\",\"G 208-41 b\",\"BD+47 2936 b\",\"KOI 3 b\",\"KIC 10748390 b\",\"TYC 3561-2092-1 b\",\"NLTT 48335 b\",\"LSPM J1950+4804 b\",\"USNO-B1.0 1380-00392296 b\",\"ASCC 346382 b\",\"GSC 03561-02092 b\",\"2MASS J19505021+4804508 b\",\"HIC 97657 b\"],\"keplerID\":10748390,\"keplerTCE\":\"TCE_1\",\"tessID\":28230919,\"tessTCE\":\"TCE_1\"}'"
      ]
     },
     "execution_count": 115,
     "metadata": {},
     "output_type": "execute_result"
    }
   ],
   "source": [
    "names = urllib.request.urlopen(request_name_url).read()\n",
    "names"
   ]
  },
  {
   "cell_type": "markdown",
   "id": "64f5ced6",
   "metadata": {},
   "source": [
    "Now, we note that the canonical name for this planet is HAT-P-11 b. We use this name for our data request."
   ]
  },
  {
   "cell_type": "code",
   "execution_count": 118,
   "id": "5096e6c9",
   "metadata": {
    "ExecuteTime": {
     "end_time": "2022-07-24T16:34:24.044616Z",
     "start_time": "2022-07-24T16:34:24.041750Z"
    }
   },
   "outputs": [],
   "source": [
    "planet_name = 'HAT-P-11 b'\n",
    "planet_name_formatted = planet_name.replace(' ', '%20')"
   ]
  },
  {
   "cell_type": "code",
   "execution_count": 119,
   "id": "faa3079f",
   "metadata": {
    "ExecuteTime": {
     "end_time": "2022-07-24T16:34:24.354021Z",
     "start_time": "2022-07-24T16:34:24.347893Z"
    }
   },
   "outputs": [],
   "source": [
    "dict_str = names.decode(\"UTF-8\")"
   ]
  },
  {
   "cell_type": "code",
   "execution_count": 120,
   "id": "a0ae81bd",
   "metadata": {
    "ExecuteTime": {
     "end_time": "2022-07-24T16:34:24.814672Z",
     "start_time": "2022-07-24T16:34:24.807388Z"
    }
   },
   "outputs": [
    {
     "data": {
      "text/plain": [
       "'{\"canonicalName\":\"HAT-P-11 b\",\"starName\":\"HAT-P-11\",\"ra\":297.70891666412354,\"dec\":48.080294444825924,\"planetNames\":[\"HAT-P-11 b\",\"Gaia DR1 2086512223550151936 b\",\"HIP 97657 b\",\"Kepler-3 b\",\"G 208-41 b\",\"BD+47 2936 b\",\"KOI 3 b\",\"KIC 10748390 b\",\"TYC 3561-2092-1 b\",\"NLTT 48335 b\",\"LSPM J1950+4804 b\",\"USNO-B1.0 1380-00392296 b\",\"ASCC 346382 b\",\"GSC 03561-02092 b\",\"2MASS J19505021+4804508 b\",\"HIC 97657 b\"],\"keplerID\":10748390,\"keplerTCE\":\"TCE_1\",\"tessID\":28230919,\"tessTCE\":\"TCE_1\"}'"
      ]
     },
     "execution_count": 120,
     "metadata": {},
     "output_type": "execute_result"
    }
   ],
   "source": [
    "dict_str = dict_str.replace('null', 'None')\n",
    "dict_str"
   ]
  },
  {
   "cell_type": "code",
   "execution_count": 121,
   "id": "91a18279",
   "metadata": {
    "ExecuteTime": {
     "end_time": "2022-07-24T16:34:25.526638Z",
     "start_time": "2022-07-24T16:34:25.520105Z"
    }
   },
   "outputs": [],
   "source": [
    "name_matches = ast.literal_eval(dict_str)"
   ]
  },
  {
   "cell_type": "code",
   "execution_count": 122,
   "id": "fb22bc15",
   "metadata": {
    "ExecuteTime": {
     "end_time": "2022-07-24T16:34:37.156781Z",
     "start_time": "2022-07-24T16:34:37.146266Z"
    }
   },
   "outputs": [
    {
     "data": {
      "text/plain": [
       "{'canonicalName': 'HAT-P-11 b',\n",
       " 'starName': 'HAT-P-11',\n",
       " 'ra': 297.70891666412354,\n",
       " 'dec': 48.080294444825924,\n",
       " 'planetNames': ['HAT-P-11 b',\n",
       "  'Gaia DR1 2086512223550151936 b',\n",
       "  'HIP 97657 b',\n",
       "  'Kepler-3 b',\n",
       "  'G 208-41 b',\n",
       "  'BD+47 2936 b',\n",
       "  'KOI 3 b',\n",
       "  'KIC 10748390 b',\n",
       "  'TYC 3561-2092-1 b',\n",
       "  'NLTT 48335 b',\n",
       "  'LSPM J1950+4804 b',\n",
       "  'USNO-B1.0 1380-00392296 b',\n",
       "  'ASCC 346382 b',\n",
       "  'GSC 03561-02092 b',\n",
       "  '2MASS J19505021+4804508 b',\n",
       "  'HIC 97657 b'],\n",
       " 'keplerID': 10748390,\n",
       " 'keplerTCE': 'TCE_1',\n",
       " 'tessID': 28230919,\n",
       " 'tessTCE': 'TCE_1'}"
      ]
     },
     "execution_count": 122,
     "metadata": {},
     "output_type": "execute_result"
    }
   ],
   "source": [
    "name_matches"
   ]
  },
  {
   "cell_type": "code",
   "execution_count": 123,
   "id": "9e47a784",
   "metadata": {
    "ExecuteTime": {
     "end_time": "2022-07-24T16:34:43.245097Z",
     "start_time": "2022-07-24T16:34:42.995938Z"
    }
   },
   "outputs": [
    {
     "data": {
      "text/plain": [
       "{'filenames': ['HAT-P-11b_transmission_Chachan2019.txt',\n",
       "  'HAT-P-11b_transmission_Fraine2014.txt']}"
      ]
     },
     "execution_count": 123,
     "metadata": {},
     "output_type": "execute_result"
    }
   ],
   "source": [
    "# construct request string\n",
    "request_spectra_string = f'spectra/{planet_name_formatted}/filelist/'\n",
    "request_spectra_url = \"https://exo.mast.stsci.edu/api/v0.1/\" + request_spectra_string\n",
    "\n",
    "# send the request\n",
    "spectra_result = urllib.request.urlopen(request_spectra_url).read()\n",
    "\n",
    "# decode the result and make it Pythonic\n",
    "dict_str = spectra_result.decode(\"UTF-8\")\n",
    "dict_str = dict_str.replace('null', 'None')\n",
    "\n",
    "# evaluate the result\n",
    "spectra = ast.literal_eval(dict_str)\n",
    "spectra"
   ]
  },
  {
   "cell_type": "code",
   "execution_count": 124,
   "id": "963dab98",
   "metadata": {
    "ExecuteTime": {
     "end_time": "2022-07-24T16:34:43.517762Z",
     "start_time": "2022-07-24T16:34:43.303820Z"
    }
   },
   "outputs": [
    {
     "data": {
      "text/plain": [
       "'# HAT-P-11b transmission spectrum \\n# This file contains:\\n# HST STIS G430L - GO 14767 (PI Sing, Lopez-Morales) - Chachan et al. 2019, AJ\\n# HST STIS G750L - GO 14767 (PI Sing, Lopez-Morales) - Chachan et al. 2019, AJ\\n# HST WFC3 G102 - GO 14793 (PI Bean) - Chachan et al. 2019, AJ\\n# HST WFC3 G141 - GO 14260 (PI Deming) - Chachan et al. 2019, AJ\\n# Spitzer 3.6, 4.5 -  Chachan et al. 2019, AJ\\n# Data history:\\n# Converted from: Chachan et al. 2019, AJ\\n# ----------------------------------------------------------------------------------------\\n# Wavelength (microns)  Delta Wavelength (microns)  (Rp/Rs)^2   (Rp/Rs)^2 +/-uncertainty\\n# ----------------------------------------------------------------------------------------\\n3.734999999999999987e-01 2.750000000000002442e-02 3.350094400000000212e-03 1.354392000000000161e-04\\n4.284999999999999920e-01 2.749999999999999667e-02 3.388404099999999843e-03 5.238899999999999596e-05\\n4.835000000000000409e-01 2.749999999999999667e-02 3.396558399999999745e-03 3.613359999999999570e-05\\n5.384999999999999787e-01 2.749999999999996891e-02 3.377934399999999674e-03 3.370959999999999994e-05\\n5.524999999999999911e-01 2.449999999999996625e-02 3.484540899999999820e-03 1.015316000000000021e-04\\n6.014999999999999236e-01 2.450000000000002176e-02 3.270696099999999620e-03 7.777840000000000057e-05\\n6.500000000000000222e-01 2.400000000000002132e-02 3.348936899999999713e-03 8.101800000000000256e-05\\n6.985000000000000098e-01 2.449999999999996625e-02 3.324675600000000231e-03 8.418360000000000491e-05\\n7.475000000000000533e-01 2.450000000000002176e-02 3.121456900000000190e-03 1.217966000000000122e-04\\n7.964999999999999858e-01 2.449999999999996625e-02 3.321216899999999972e-03 9.681840000000000801e-05\\n8.454999999999999183e-01 2.450000000000002176e-02 3.351252099999999477e-03 1.343047999999999952e-04\\n8.945000000000000728e-01 2.450000000000002176e-02 3.285582400000000135e-03 1.478855999999999856e-04\\n9.430000000000000604e-01 2.399999999999996581e-02 3.132640899999999777e-03 1.779845999999999967e-04\\n9.915000000000000480e-01 2.450000000000002176e-02 3.234196899999999819e-03 2.388539999999999598e-04\\n5.899999999999999689e-01 1.000000000000000888e-03 3.898753600000000232e-03 4.508167999999999898e-04\\n7.695000000000000728e-01 3.500000000000003109e-03 3.236472100000000254e-03 2.184576000000000139e-04\\n8.614999999999999325e-01 1.150000000000001021e-02 3.377934399999999674e-03 2.208560000000000078e-05\\n8.850000000000000089e-01 1.200000000000001066e-02 3.338528399999999598e-03 1.848959999999999997e-05\\n9.085000000000000853e-01 1.150000000000001021e-02 3.343152400000000413e-03 1.734599999999999960e-05\\n9.314999999999999947e-01 1.149999999999995470e-02 3.358202499999999972e-03 1.622600000000000016e-05\\n9.549999999999999600e-01 1.200000000000001066e-02 3.372124899999999655e-03 1.509819999999999717e-05\\n9.784999999999999254e-01 1.150000000000001021e-02 3.375609999999999809e-03 1.510599999999999903e-05\\n1.001500000000000057e+00 1.149999999999995470e-02 3.369802499999999604e-03 1.509299999999999763e-05\\n1.024999999999999911e+00 1.200000000000001066e-02 3.345465600000000362e-03 1.272480000000000055e-05\\n1.048499999999999988e+00 1.150000000000006573e-02 3.376772100000000141e-03 1.510859999999999965e-05\\n1.071499999999999897e+00 1.149999999999995470e-02 3.348936899999999713e-03 1.388879999999999991e-05\\n1.094999999999999973e+00 1.200000000000001066e-02 3.376772100000000141e-03 1.394640000000000085e-05\\n1.118500000000000050e+00 1.149999999999995470e-02 3.400056100000000293e-03 1.399440000000000106e-05\\n1.135000000000000009e+00 1.499999999999990230e-02 3.479820100000000256e-03 5.191120000000000538e-05\\n1.165000000000000036e+00 1.500000000000001332e-02 3.476281599999999673e-03 4.834719999999999681e-05\\n1.194999999999999840e+00 1.500000000000001332e-02 3.393062500000000245e-03 3.261999999999999600e-05\\n1.225000000000000089e+00 1.500000000000001332e-02 3.294759999999999876e-03 3.788399999999999846e-05\\n1.254999999999999893e+00 1.500000000000001332e-02 3.278707599999999833e-03 3.550119999999999817e-05\\n1.285000000000000142e+00 1.500000000000001332e-02 3.412896400000000035e-03 2.687320000000000217e-05\\n1.314999999999999947e+00 1.500000000000001332e-02 3.367480899999999826e-03 2.669379999999999843e-05\\n1.345000000000000195e+00 1.500000000000001332e-02 3.497539599999999801e-03 3.548399999999999433e-05\\n1.375000000000000000e+00 1.499999999999990230e-02 3.442168900000000097e-03 3.637539999999999735e-05\\n1.404999999999999805e+00 1.500000000000001332e-02 3.491628099999999693e-03 3.545399999999999631e-05\\n1.435000000000000053e+00 1.500000000000001332e-02 3.529548099999999574e-03 3.683420000000000048e-05\\n1.464999999999999858e+00 1.500000000000001332e-02 3.520048899999999887e-03 3.559800000000000036e-05\\n1.495000000000000107e+00 1.500000000000001332e-02 3.307400099999999871e-03 3.335579999999999665e-05\\n1.524999999999999911e+00 1.500000000000001332e-02 3.455088399999999959e-03 3.174120000000000028e-05\\n1.555000000000000160e+00 1.500000000000001332e-02 3.417571599999999661e-03 3.507599999999999417e-05\\n1.584999999999999964e+00 1.500000000000001332e-02 3.395392900000000422e-03 4.195440000000000611e-05\\n1.614999999999999991e+00 1.499999999999990230e-02 3.468032099999999833e-03 3.533399999999999746e-05\\n1.645000000000000018e+00 1.500000000000001332e-02 3.540249999999999560e-03 4.402999999999999687e-05\\n1.674999999999999822e+00 1.500000000000001332e-02 3.390732899999999474e-03 1.187892000000000044e-04\\n3.600\\t0.5\\t\\t0.0033385284\\t0.0000277344\\n4.500\\t0.5\\t\\t0.0033767721\\t0.0000325416'"
      ]
     },
     "execution_count": 124,
     "metadata": {},
     "output_type": "execute_result"
    }
   ],
   "source": [
    "# construct request string\n",
    "filename = spectra['filenames'][0]\n",
    "request_file_string = f'spectra/{planet_name_formatted}/file/{filename}'\n",
    "request_file_url = \"https://exo.mast.stsci.edu/api/v0.1/\" + request_file_string\n",
    "\n",
    "# send the request\n",
    "spectra_result = urllib.request.urlopen(request_file_url).read()\n",
    "\n",
    "# decode the result and make it Pythonic\n",
    "downloaded_file = spectra_result.decode(\"UTF-8\")\n",
    "downloaded_file"
   ]
  },
  {
   "cell_type": "code",
   "execution_count": 125,
   "id": "6ccbd5eb",
   "metadata": {
    "ExecuteTime": {
     "end_time": "2022-07-24T16:34:44.661541Z",
     "start_time": "2022-07-24T16:34:44.657310Z"
    }
   },
   "outputs": [],
   "source": [
    "with open(filename, 'w') as f:\n",
    "    f.write(downloaded_file)"
   ]
  },
  {
   "cell_type": "code",
   "execution_count": null,
   "id": "164bda17",
   "metadata": {},
   "outputs": [],
   "source": []
  }
 ],
 "metadata": {
  "kernelspec": {
   "display_name": "Python 3 (ipykernel)",
   "language": "python",
   "name": "python3"
  },
  "language_info": {
   "codemirror_mode": {
    "name": "ipython",
    "version": 3
   },
   "file_extension": ".py",
   "mimetype": "text/x-python",
   "name": "python",
   "nbconvert_exporter": "python",
   "pygments_lexer": "ipython3",
   "version": "3.10.5"
  }
 },
 "nbformat": 4,
 "nbformat_minor": 5
}
