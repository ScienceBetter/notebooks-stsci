{
 "cells": [
  {
   "cell_type": "markdown",
   "id": "b87dedcb",
   "metadata": {},
   "source": [
    "# Downloading Exoplanet Data Solutions"
   ]
  },
  {
   "cell_type": "markdown",
   "id": "949d0274",
   "metadata": {},
   "source": [
    "***"
   ]
  },
  {
   "cell_type": "markdown",
   "id": "ddae3c82",
   "metadata": {},
   "source": [
    "This notebook contains solutions to the exercises described in the Exercises section of `downloading_exoplanet_data.ipynb`."
   ]
  },
  {
   "cell_type": "markdown",
   "id": "779d821c",
   "metadata": {},
   "source": [
    "We begin with the same set of imports as the tutorial notebook."
   ]
  },
  {
   "cell_type": "code",
   "execution_count": null,
   "id": "4bf80957",
   "metadata": {
    "ExecuteTime": {
     "end_time": "2022-07-24T16:06:15.779691Z",
     "start_time": "2022-07-24T16:06:15.769636Z"
    }
   },
   "outputs": [],
   "source": [
    "import ast\n",
    "import sys\n",
    "import os\n",
    "import json\n",
    "import pprint\n",
    "import urllib.request\n",
    "from urllib.parse import quote as urlencode\n",
    "\n",
    "import numpy as np\n",
    "import requests\n",
    "from astropy.table import Table\n",
    "from astroquery.mast import Observations"
   ]
  },
  {
   "cell_type": "markdown",
   "id": "68fe6e3e",
   "metadata": {},
   "source": [
    "# Exercise 1\n",
    "*Use the MAST API to sort Swift data on WASP-12 b by PI and download it.*"
   ]
  },
  {
   "cell_type": "markdown",
   "id": "defc5d9e",
   "metadata": {},
   "source": [
    "We begin with much of the same procedure as the tutorial notebook."
   ]
  },
  {
   "cell_type": "code",
   "execution_count": null,
   "id": "4aeeafd8",
   "metadata": {
    "ExecuteTime": {
     "end_time": "2022-07-24T16:06:17.962334Z",
     "start_time": "2022-07-24T16:06:17.954757Z"
    }
   },
   "outputs": [],
   "source": [
    "object_of_interest = 'WASP-12 b'\n",
    "\n",
    "resolver_request = {'service':'Mast.Name.Lookup',\n",
    "                     'params':{'input':object_of_interest,\n",
    "                               'format':'json'},\n",
    "                     }\n",
    "\n",
    "# encoding the request as a json string\n",
    "req_string = json.dumps(resolver_request)\n",
    "req_string = urlencode(req_string)"
   ]
  },
  {
   "cell_type": "code",
   "execution_count": null,
   "id": "c9da9f1a",
   "metadata": {
    "ExecuteTime": {
     "end_time": "2022-07-24T16:06:30.622486Z",
     "start_time": "2022-07-24T16:06:30.615277Z"
    }
   },
   "outputs": [],
   "source": [
    "pp = pprint.PrettyPrinter(indent=4)"
   ]
  },
  {
   "cell_type": "code",
   "execution_count": null,
   "id": "0009a93b",
   "metadata": {
    "ExecuteTime": {
     "end_time": "2022-07-24T16:06:34.424492Z",
     "start_time": "2022-07-24T16:06:34.416530Z"
    }
   },
   "outputs": [],
   "source": [
    "object_of_interest = 'WASP-12 b'\n",
    "\n",
    "resolver_request = {'service':'Mast.Name.Lookup',\n",
    "                     'params':{'input':object_of_interest,\n",
    "                               'format':'json'},\n",
    "                     }\n",
    "\n",
    "# encoding the request as a json string\n",
    "req_string = json.dumps(resolver_request)\n",
    "req_string = urlencode(req_string)"
   ]
  },
  {
   "cell_type": "code",
   "execution_count": null,
   "id": "a7991cde",
   "metadata": {
    "ExecuteTime": {
     "end_time": "2022-07-24T16:06:38.388067Z",
     "start_time": "2022-07-24T16:06:38.380353Z"
    }
   },
   "outputs": [],
   "source": [
    "# retrieve our system's Python version for the request. \n",
    "version = \".\".join(map(str, sys.version_info[:3]))\n",
    "\n",
    "# create HTTP Header Variables\n",
    "headers = {\"Content-type\": \"application/x-www-form-urlencoded\",\n",
    "           \"Accept\": \"text/plain\",\n",
    "           \"User-agent\":\"python-requests/\"+version}\n"
   ]
  },
  {
   "cell_type": "code",
   "execution_count": null,
   "id": "3e29b876",
   "metadata": {
    "ExecuteTime": {
     "end_time": "2022-07-24T16:06:42.831071Z",
     "start_time": "2022-07-24T16:06:42.327472Z"
    }
   },
   "outputs": [],
   "source": [
    "# base API url\n",
    "request_url='https://mast.stsci.edu/api/v0/invoke'    \n",
    "\n",
    "# perform the HTTP request\n",
    "resp = requests.post(request_url, data=\"request=\"+req_string, headers=headers)"
   ]
  },
  {
   "cell_type": "code",
   "execution_count": null,
   "id": "1e0d7d24",
   "metadata": {
    "ExecuteTime": {
     "end_time": "2022-07-24T16:06:46.035376Z",
     "start_time": "2022-07-24T16:06:46.025936Z"
    }
   },
   "outputs": [],
   "source": [
    "resolved_object = resp.json()\n",
    "\n",
    "pp.pprint(resolved_object)"
   ]
  },
  {
   "cell_type": "code",
   "execution_count": null,
   "id": "904a4662",
   "metadata": {
    "ExecuteTime": {
     "end_time": "2022-07-24T16:06:51.524964Z",
     "start_time": "2022-07-24T16:06:51.505910Z"
    }
   },
   "outputs": [],
   "source": [
    "obj_ra = resolved_object['resolvedCoordinate'][0]['ra']\n",
    "obj_dec = resolved_object['resolvedCoordinate'][0]['decl']\n",
    "\n",
    "obj_ra, obj_dec"
   ]
  },
  {
   "cell_type": "code",
   "execution_count": null,
   "id": "ae95f00a",
   "metadata": {
    "ExecuteTime": {
     "end_time": "2022-07-24T16:07:08.682307Z",
     "start_time": "2022-07-24T16:06:55.380443Z"
    }
   },
   "outputs": [],
   "source": [
    "mast_request = {'service':'Mast.Caom.Cone',\n",
    "                'params':{'ra':obj_ra,\n",
    "                          'dec':obj_dec,\n",
    "                          'radius':0.2},\n",
    "                'format':'json',\n",
    "                'pagesize':2000,\n",
    "                'page':1,\n",
    "                'removenullcolumns':True,\n",
    "                'removecache':True}\n",
    "\n",
    "\n",
    "# encoding the request as a json string\n",
    "req_string = json.dumps(mast_request)\n",
    "req_string = urlencode(req_string)\n",
    "\n",
    "# perform the HTTP request\n",
    "resp = requests.post(request_url, data=\"request=\"+req_string, headers=headers)\n",
    "\n",
    "# decode the HTTP result\n",
    "mast_data = resp.json()\n",
    "\n",
    "\n",
    "print(mast_data.keys())\n",
    "print(\"Query status:\",mast_data['status'])"
   ]
  },
  {
   "cell_type": "code",
   "execution_count": null,
   "id": "1b607a29",
   "metadata": {
    "ExecuteTime": {
     "end_time": "2022-07-24T16:08:32.700362Z",
     "start_time": "2022-07-24T16:08:32.656426Z"
    }
   },
   "outputs": [],
   "source": [
    "mast_data_table = Table()\n",
    "\n",
    "col_type_list = [(field['name'], field['type']) for field in mast_data['fields']]\n",
    "\n",
    "for col, atype in col_type_list:\n",
    "    \n",
    "    # recast data types\n",
    "    if atype==\"string\":\n",
    "        atype=\"str\"\n",
    "    if atype==\"boolean\":\n",
    "        atype=\"bool\"\n",
    "    \n",
    "    # create column in Table corresponding to the mast_data field\n",
    "    mast_data_table[col] = np.array([x.get(col, None) for x in mast_data['data']],dtype=atype)\n",
    "    \n",
    "print(mast_data_table)"
   ]
  },
  {
   "cell_type": "code",
   "execution_count": null,
   "id": "7138f9a5",
   "metadata": {
    "ExecuteTime": {
     "end_time": "2022-07-24T16:08:34.667046Z",
     "start_time": "2022-07-24T16:08:34.656231Z"
    }
   },
   "outputs": [],
   "source": [
    "mast_data_table.columns"
   ]
  },
  {
   "cell_type": "markdown",
   "id": "af3fcd73",
   "metadata": {},
   "source": [
    "Instead of next sorting by `t_min`, though, we sort by PI."
   ]
  },
  {
   "cell_type": "code",
   "execution_count": null,
   "id": "bc9691fb",
   "metadata": {
    "ExecuteTime": {
     "end_time": "2022-07-24T16:08:52.329003Z",
     "start_time": "2022-07-24T16:08:52.300792Z"
    }
   },
   "outputs": [],
   "source": [
    "mast_data_table.sort('proposal_pi')"
   ]
  },
  {
   "cell_type": "code",
   "execution_count": null,
   "id": "2c4f8138",
   "metadata": {
    "ExecuteTime": {
     "end_time": "2022-07-24T16:10:15.932778Z",
     "start_time": "2022-07-24T16:10:15.914667Z"
    }
   },
   "outputs": [],
   "source": [
    "print(mast_data_table)"
   ]
  },
  {
   "cell_type": "code",
   "execution_count": null,
   "id": "9d460543",
   "metadata": {
    "ExecuteTime": {
     "end_time": "2022-07-24T16:11:58.027195Z",
     "start_time": "2022-07-24T16:11:58.013881Z"
    }
   },
   "outputs": [],
   "source": [
    "recent_index = -1\n",
    "interesting_observation = mast_data_table[mast_data_table[\"obs_collection\"] == \"SWIFT\"][recent_index]\n",
    "print(\"Observation:\",\n",
    "      [interesting_observation[x] for x in ['dataproduct_type', 'obs_collection', 'instrument_name']])"
   ]
  },
  {
   "cell_type": "code",
   "execution_count": null,
   "id": "7fbea24c",
   "metadata": {
    "ExecuteTime": {
     "end_time": "2022-07-24T16:13:20.584304Z",
     "start_time": "2022-07-24T16:13:20.360519Z"
    }
   },
   "outputs": [],
   "source": [
    "obsid = interesting_observation['obsid']\n",
    "\n",
    "product_request = {'service':'Mast.Caom.Products',\n",
    "                  'params':{'obsid':obsid},\n",
    "                  'format':'json',\n",
    "                  'pagesize':100,\n",
    "                  'page':1}   \n",
    "\n",
    "# encoding the request as a json string\n",
    "req_string = json.dumps(product_request)\n",
    "req_string = urlencode(req_string)\n",
    "\n",
    "# perform the HTTP request\n",
    "resp = requests.post(request_url, data=\"request=\"+req_string, headers=headers)\n",
    "\n",
    "# dfrecode the HTTP result\n",
    "obs_products = resp.json()\n",
    "\n",
    "print(\"Number of data products:\", len(obs_products[\"data\"]))\n",
    "print(\"Product information column names:\")\n",
    "pp.pprint(obs_products['fields'])"
   ]
  },
  {
   "cell_type": "code",
   "execution_count": null,
   "id": "c1632bf3",
   "metadata": {
    "ExecuteTime": {
     "end_time": "2022-07-24T16:13:35.966640Z",
     "start_time": "2022-07-24T16:13:35.960324Z"
    }
   },
   "outputs": [],
   "source": [
    "pp.pprint([x.get('productType',\"\") for x in obs_products[\"data\"]])"
   ]
  },
  {
   "cell_type": "code",
   "execution_count": null,
   "id": "4ebad0b2",
   "metadata": {
    "ExecuteTime": {
     "end_time": "2022-07-24T16:13:50.010133Z",
     "start_time": "2022-07-24T16:13:49.990549Z"
    }
   },
   "outputs": [],
   "source": [
    "sci_prod_arr = [x for x in obs_products['data'] if x.get(\"productType\", None) == 'SCIENCE']\n",
    "science_products = Table()\n",
    "\n",
    "col_type_list = [(field['name'], field['type']) for field in obs_products['fields']]\n",
    "\n",
    "for col, atype in col_type_list:\n",
    "    \n",
    "    # recast data types\n",
    "    if atype==\"string\":\n",
    "        atype=\"str\"\n",
    "    if atype==\"boolean\":\n",
    "        atype=\"bool\"\n",
    "    if atype == \"int\":\n",
    "        atype = \"float\" # array may contain nan values, and they do not exist in numpy integer arrays\n",
    "        \n",
    "    # Create column in Table corresponding to the mast_data field\n",
    "    science_products[col] = np.array([x.get(col,None) for x in sci_prod_arr],dtype=atype)\n",
    "\n",
    "print(\"Number of science products:\",len(science_products))\n",
    "print(science_products)"
   ]
  },
  {
   "cell_type": "code",
   "execution_count": null,
   "id": "0803dd6a",
   "metadata": {
    "ExecuteTime": {
     "end_time": "2022-07-24T16:14:07.690002Z",
     "start_time": "2022-07-24T16:13:57.568237Z"
    }
   },
   "outputs": [],
   "source": [
    "download_url = 'https://mast.stsci.edu/api/v0.1/Download/file?'\n",
    "\n",
    "for row in science_products:     \n",
    "\n",
    "    # Make file path\n",
    "    out_path = os.path.join(\"mastFiles\", row['obs_collection'], row['obs_id'])\n",
    "    if not os.path.exists(out_path):\n",
    "        os.makedirs(out_path)\n",
    "    out_path = os.path.join(out_path, os.path.basename(row['productFilename']))\n",
    "        \n",
    "    # Download the data\n",
    "    payload = {\"uri\":row['dataURI']}\n",
    "    resp = requests.get(download_url, params=payload)\n",
    "    \n",
    "    # Save to file\n",
    "    with open(out_path,'wb') as f:\n",
    "        f.write(resp.content)\n",
    "        \n",
    "    # Check for file \n",
    "    if not os.path.isfile(out_path):\n",
    "        print(\"ERROR: \" + out_path + \" failed to download.\")\n",
    "    else:\n",
    "        print(\"COMPLETE: \", out_path)"
   ]
  },
  {
   "cell_type": "code",
   "execution_count": null,
   "id": "a7d43259",
   "metadata": {
    "ExecuteTime": {
     "end_time": "2022-07-24T16:14:14.049748Z",
     "start_time": "2022-07-24T16:14:13.541960Z"
    }
   },
   "outputs": [],
   "source": [
    "ls mastFiles/SWIFT/00032242001/"
   ]
  },
  {
   "cell_type": "markdown",
   "id": "78a38b33",
   "metadata": {},
   "source": [
    "# Exercise 2"
   ]
  },
  {
   "cell_type": "markdown",
   "id": "2360a470",
   "metadata": {
    "ExecuteTime": {
     "end_time": "2022-07-24T16:16:32.836749Z",
     "start_time": "2022-07-24T16:16:32.825434Z"
    }
   },
   "source": [
    "*Query the latest light curve of WASP-12 b.*\n",
    "*Question: Is this too close to the actual tutorial?*"
   ]
  },
  {
   "cell_type": "markdown",
   "id": "c498031d",
   "metadata": {},
   "source": [
    "We can fetch light curves from the TESS mission."
   ]
  },
  {
   "cell_type": "code",
   "execution_count": null,
   "id": "60aa12d4",
   "metadata": {
    "ExecuteTime": {
     "end_time": "2022-07-24T16:18:32.158494Z",
     "start_time": "2022-07-24T16:18:06.897570Z"
    }
   },
   "outputs": [],
   "source": [
    "search_radius = \".02 deg\"\n",
    "\n",
    "planet_name = 'WASP-12 b'\n",
    "obs_table = Observations.query_object(planet_name,radius=search_radius)\n",
    "\n",
    "# only print the first 10 results for clarity\n",
    "print(obs_table[:10])  "
   ]
  },
  {
   "cell_type": "code",
   "execution_count": null,
   "id": "ff87ea34",
   "metadata": {
    "ExecuteTime": {
     "end_time": "2022-07-24T16:19:05.158146Z",
     "start_time": "2022-07-24T16:19:05.112441Z"
    }
   },
   "outputs": [],
   "source": [
    "obs_table"
   ]
  },
  {
   "cell_type": "markdown",
   "id": "ca9c4327",
   "metadata": {},
   "source": [
    "To get the latest results, we sort by t_min."
   ]
  },
  {
   "cell_type": "code",
   "execution_count": null,
   "id": "9ff3af2e",
   "metadata": {
    "ExecuteTime": {
     "end_time": "2022-07-24T16:20:06.575783Z",
     "start_time": "2022-07-24T16:20:06.392793Z"
    }
   },
   "outputs": [],
   "source": [
    "obs_table.sort('t_min')"
   ]
  },
  {
   "cell_type": "markdown",
   "id": "890e35a6",
   "metadata": {},
   "source": [
    "However, we want to make sure that we aren't selecting an observation with a `NaN` value for `t_min`."
   ]
  },
  {
   "cell_type": "code",
   "execution_count": null,
   "id": "e1e7734b",
   "metadata": {
    "ExecuteTime": {
     "end_time": "2022-07-24T16:22:05.919105Z",
     "start_time": "2022-07-24T16:22:05.876026Z"
    }
   },
   "outputs": [],
   "source": [
    "not_nan_mask = ~np.isnan(obs_table['t_min'])\n",
    "\n",
    "obs_table = obs_table[not_nan_mask]"
   ]
  },
  {
   "cell_type": "code",
   "execution_count": null,
   "id": "50b1ead6",
   "metadata": {
    "ExecuteTime": {
     "end_time": "2022-07-24T16:22:11.711429Z",
     "start_time": "2022-07-24T16:22:11.671742Z"
    }
   },
   "outputs": [],
   "source": [
    "obs_table"
   ]
  },
  {
   "cell_type": "code",
   "execution_count": null,
   "id": "ed99b292",
   "metadata": {
    "ExecuteTime": {
     "end_time": "2022-07-24T16:23:39.867438Z",
     "start_time": "2022-07-24T16:23:39.850837Z"
    }
   },
   "outputs": [],
   "source": [
    "obs_table_qlp = obs_table[obs_table['project']=='TESS']"
   ]
  },
  {
   "cell_type": "code",
   "execution_count": null,
   "id": "feb00806",
   "metadata": {
    "ExecuteTime": {
     "end_time": "2022-07-24T16:23:56.343762Z",
     "start_time": "2022-07-24T16:23:56.197318Z"
    }
   },
   "outputs": [],
   "source": [
    "recent_index = -1\n",
    "data_products_by_obs = Observations.get_product_list(obs_table_qlp[recent_index])\n",
    "print(data_products_by_obs) "
   ]
  },
  {
   "cell_type": "code",
   "execution_count": null,
   "id": "32ec1555",
   "metadata": {
    "ExecuteTime": {
     "end_time": "2022-07-24T16:24:03.200892Z",
     "start_time": "2022-07-24T16:24:03.194059Z"
    }
   },
   "outputs": [],
   "source": [
    "data_products_by_obs.columns"
   ]
  },
  {
   "cell_type": "code",
   "execution_count": null,
   "id": "1a169116",
   "metadata": {
    "ExecuteTime": {
     "end_time": "2022-07-24T16:24:19.413810Z",
     "start_time": "2022-07-24T16:24:08.372891Z"
    }
   },
   "outputs": [],
   "source": [
    "# select first observation collection\n",
    "obs_collection = data_products_by_obs['obs_collection'][0]\n",
    "obs_id = data_products_by_obs['obs_id'][0]\n",
    "\n",
    "# query and get product list for this collection\n",
    "single_obs = Observations.query_criteria(obs_collection=obs_collection, obs_id=obs_id)\n",
    "data_products = Observations.get_product_list(single_obs)\n",
    "\n",
    "# download data products\n",
    "manifest = Observations.download_products(data_products, productType=\"SCIENCE\")"
   ]
  },
  {
   "cell_type": "markdown",
   "id": "5d2225ba",
   "metadata": {},
   "source": [
    "# Exercise 3"
   ]
  },
  {
   "cell_type": "code",
   "execution_count": null,
   "id": "11dd2798",
   "metadata": {
    "ExecuteTime": {
     "end_time": "2022-07-24T16:33:17.965398Z",
     "start_time": "2022-07-24T16:33:17.958954Z"
    }
   },
   "outputs": [],
   "source": [
    "planet_name = 'BD+47 2936 b'"
   ]
  },
  {
   "cell_type": "code",
   "execution_count": null,
   "id": "166e02ba",
   "metadata": {
    "ExecuteTime": {
     "end_time": "2022-07-24T16:33:18.287541Z",
     "start_time": "2022-07-24T16:33:18.281884Z"
    }
   },
   "outputs": [],
   "source": [
    "planet_name_formatted = planet_name.replace(' ', '%20')\n",
    "\n",
    "request_name_string = f'exoplanets/identifiers/?name={planet_name_formatted}'"
   ]
  },
  {
   "cell_type": "code",
   "execution_count": null,
   "id": "a9ea001b",
   "metadata": {
    "ExecuteTime": {
     "end_time": "2022-07-24T16:33:18.640197Z",
     "start_time": "2022-07-24T16:33:18.631241Z"
    }
   },
   "outputs": [],
   "source": [
    "request_name_url = \"https://exo.mast.stsci.edu/api/v0.1/\" + request_name_string\n",
    "print(request_name_url)"
   ]
  },
  {
   "cell_type": "code",
   "execution_count": null,
   "id": "03cde2d3",
   "metadata": {
    "ExecuteTime": {
     "end_time": "2022-07-24T16:33:42.458220Z",
     "start_time": "2022-07-24T16:33:42.167997Z"
    }
   },
   "outputs": [],
   "source": [
    "names = urllib.request.urlopen(request_name_url).read()\n",
    "names"
   ]
  },
  {
   "cell_type": "markdown",
   "id": "cb7e7905",
   "metadata": {},
   "source": [
    "Now, we note that the canonical name for this planet is HAT-P-11 b. We use this name for our data request."
   ]
  },
  {
   "cell_type": "code",
   "execution_count": null,
   "id": "5a933ac7",
   "metadata": {
    "ExecuteTime": {
     "end_time": "2022-07-24T16:34:24.044616Z",
     "start_time": "2022-07-24T16:34:24.041750Z"
    }
   },
   "outputs": [],
   "source": [
    "planet_name = 'HAT-P-11 b'\n",
    "planet_name_formatted = planet_name.replace(' ', '%20')"
   ]
  },
  {
   "cell_type": "code",
   "execution_count": null,
   "id": "d06f70bb",
   "metadata": {
    "ExecuteTime": {
     "end_time": "2022-07-24T16:34:24.354021Z",
     "start_time": "2022-07-24T16:34:24.347893Z"
    }
   },
   "outputs": [],
   "source": [
    "dict_str = names.decode(\"UTF-8\")"
   ]
  },
  {
   "cell_type": "code",
   "execution_count": null,
   "id": "646f165d",
   "metadata": {
    "ExecuteTime": {
     "end_time": "2022-07-24T16:34:24.814672Z",
     "start_time": "2022-07-24T16:34:24.807388Z"
    }
   },
   "outputs": [],
   "source": [
    "dict_str = dict_str.replace('null', 'None')\n",
    "dict_str"
   ]
  },
  {
   "cell_type": "code",
   "execution_count": null,
   "id": "76863e31",
   "metadata": {
    "ExecuteTime": {
     "end_time": "2022-07-24T16:34:25.526638Z",
     "start_time": "2022-07-24T16:34:25.520105Z"
    }
   },
   "outputs": [],
   "source": [
    "name_matches = ast.literal_eval(dict_str)"
   ]
  },
  {
   "cell_type": "code",
   "execution_count": null,
   "id": "c799e565",
   "metadata": {
    "ExecuteTime": {
     "end_time": "2022-07-24T16:34:37.156781Z",
     "start_time": "2022-07-24T16:34:37.146266Z"
    }
   },
   "outputs": [],
   "source": [
    "name_matches"
   ]
  },
  {
   "cell_type": "code",
   "execution_count": null,
   "id": "daba1330",
   "metadata": {
    "ExecuteTime": {
     "end_time": "2022-07-24T16:34:43.245097Z",
     "start_time": "2022-07-24T16:34:42.995938Z"
    }
   },
   "outputs": [],
   "source": [
    "# construct request string\n",
    "request_spectra_string = f'spectra/{planet_name_formatted}/filelist/'\n",
    "request_spectra_url = \"https://exo.mast.stsci.edu/api/v0.1/\" + request_spectra_string\n",
    "\n",
    "# send the request\n",
    "spectra_result = urllib.request.urlopen(request_spectra_url).read()\n",
    "\n",
    "# decode the result and make it Pythonic\n",
    "dict_str = spectra_result.decode(\"UTF-8\")\n",
    "dict_str = dict_str.replace('null', 'None')\n",
    "\n",
    "# evaluate the result\n",
    "spectra = ast.literal_eval(dict_str)\n",
    "spectra"
   ]
  },
  {
   "cell_type": "code",
   "execution_count": null,
   "id": "d443ee8c",
   "metadata": {
    "ExecuteTime": {
     "end_time": "2022-07-24T16:34:43.517762Z",
     "start_time": "2022-07-24T16:34:43.303820Z"
    }
   },
   "outputs": [],
   "source": [
    "# construct request string\n",
    "filename = spectra['filenames'][0]\n",
    "request_file_string = f'spectra/{planet_name_formatted}/file/{filename}'\n",
    "request_file_url = \"https://exo.mast.stsci.edu/api/v0.1/\" + request_file_string\n",
    "\n",
    "# send the request\n",
    "spectra_result = urllib.request.urlopen(request_file_url).read()\n",
    "\n",
    "# decode the result and make it Pythonic\n",
    "downloaded_file = spectra_result.decode(\"UTF-8\")\n",
    "downloaded_file"
   ]
  },
  {
   "cell_type": "code",
   "execution_count": null,
   "id": "d345f1b8",
   "metadata": {
    "ExecuteTime": {
     "end_time": "2022-07-24T16:34:44.661541Z",
     "start_time": "2022-07-24T16:34:44.657310Z"
    }
   },
   "outputs": [],
   "source": [
    "with open(filename, 'w') as f:\n",
    "    f.write(downloaded_file)"
   ]
  },
  {
   "cell_type": "code",
   "execution_count": null,
   "id": "76e21109",
   "metadata": {},
   "outputs": [],
   "source": []
  }
 ],
 "metadata": {
  "kernelspec": {
   "display_name": "Python 3 (ipykernel)",
   "language": "python",
   "name": "python3"
  },
  "language_info": {
   "codemirror_mode": {
    "name": "ipython",
    "version": 3
   },
   "file_extension": ".py",
   "mimetype": "text/x-python",
   "name": "python",
   "nbconvert_exporter": "python",
   "pygments_lexer": "ipython3",
   "version": "3.10.5"
  }
 },
 "nbformat": 4,
 "nbformat_minor": 5
}
