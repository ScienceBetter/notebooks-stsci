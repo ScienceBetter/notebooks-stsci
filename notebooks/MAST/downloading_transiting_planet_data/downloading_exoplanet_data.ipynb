{
 "cells": [
  {
   "cell_type": "markdown",
   "id": "03bf811f",
   "metadata": {},
   "source": [
    "<a id=\"top\"></a>"
   ]
  },
  {
   "cell_type": "markdown",
   "id": "1699b83f",
   "metadata": {},
   "source": [
    "# Downloading Exoplanet Data"
   ]
  },
  {
   "cell_type": "markdown",
   "id": "8e1ddab1",
   "metadata": {},
   "source": [
    "***"
   ]
  },
  {
   "cell_type": "markdown",
   "id": "0685d115",
   "metadata": {},
   "source": [
    "# Learning Goals\n",
    "\n",
    "By the end of this tutorial, you will:\n",
    "\n",
    "- Understand how MAST makes its exoplanet time-series data accessible.\n",
    "- Be able to download MAST-hosted data for specific exoplanets.\n",
    "- Become familiar with the exo.MAST, Astoquery, and MAST APIs.\n",
    "- Sort MAST data product metadata by attributes (e.g., year, PI)."
   ]
  },
  {
   "cell_type": "code",
   "execution_count": 1,
   "id": "d4ffc075",
   "metadata": {
    "ExecuteTime": {
     "end_time": "2022-07-24T16:12:40.607315Z",
     "start_time": "2022-07-24T16:12:40.230310Z"
    }
   },
   "outputs": [],
   "source": [
    "import ast\n",
    "import sys\n",
    "import os\n",
    "import json\n",
    "import pprint\n",
    "import urllib.request\n",
    "from urllib.parse import quote as urlencode\n",
    "\n",
    "import numpy as np\n",
    "import requests\n",
    "from astropy.table import Table\n",
    "from astroquery.mast import Observations"
   ]
  },
  {
   "cell_type": "markdown",
   "id": "aaaecaff",
   "metadata": {},
   "source": [
    "# Method 1: exo.MAST\n",
    "\n",
    "[exo.MAST](https://exo.mast.stsci.edu/docs/) is a web service API that is optimized for querying exoplanet data. Our first approach to downloading MAST exoplanet data will use this API.\n",
    "\n",
    "This portion of the tutorial is inspired by the [exo.MAST documentation](https://exo.mast.stsci.edu/docs/getting_started.html)."
   ]
  },
  {
   "cell_type": "markdown",
   "id": "8e063733",
   "metadata": {},
   "source": [
    "We can query exo.MAST using a planet's name and the exoplanets/identifiers table."
   ]
  },
  {
   "cell_type": "code",
   "execution_count": 2,
   "id": "bec483ee",
   "metadata": {
    "ExecuteTime": {
     "end_time": "2022-07-24T16:12:40.609888Z",
     "start_time": "2022-07-24T16:12:40.608426Z"
    }
   },
   "outputs": [],
   "source": [
    "planet_name = 'WASP-12 b' # Hebb et al. 2009"
   ]
  },
  {
   "cell_type": "markdown",
   "id": "6c45e347",
   "metadata": {},
   "source": [
    "We need to safely encode the spaces in this URL for our exo.MAST request. This step is done by replacing all spaces in the name with the \"%20\" string."
   ]
  },
  {
   "cell_type": "code",
   "execution_count": 3,
   "id": "bf2eaa04",
   "metadata": {
    "ExecuteTime": {
     "end_time": "2022-07-24T16:12:40.612135Z",
     "start_time": "2022-07-24T16:12:40.610742Z"
    }
   },
   "outputs": [],
   "source": [
    "planet_name_formatted = planet_name.replace(' ', '%20')\n",
    "\n",
    "request_name_string = f'exoplanets/identifiers/?name={planet_name_formatted}'"
   ]
  },
  {
   "cell_type": "markdown",
   "id": "57ded6b6",
   "metadata": {},
   "source": [
    "Now, we append our ``request_name_string`` to the URL that points to the exo.MAST API, forming a complete request URL."
   ]
  },
  {
   "cell_type": "code",
   "execution_count": 4,
   "id": "3995a3db",
   "metadata": {
    "ExecuteTime": {
     "end_time": "2022-07-24T16:12:40.614807Z",
     "start_time": "2022-07-24T16:12:40.613345Z"
    }
   },
   "outputs": [
    {
     "name": "stdout",
     "output_type": "stream",
     "text": [
      "https://exo.mast.stsci.edu/api/v0.1/exoplanets/identifiers/?name=WASP-12%20b\n"
     ]
    }
   ],
   "source": [
    "request_name_url = \"https://exo.mast.stsci.edu/api/v0.1/\" + request_name_string\n",
    "print(request_name_url)"
   ]
  },
  {
   "cell_type": "markdown",
   "id": "f5f4a7d2",
   "metadata": {},
   "source": [
    "With our URL assembled, we can now make the HTTPS request using the ``urllib`` package."
   ]
  },
  {
   "cell_type": "code",
   "execution_count": 5,
   "id": "044fe5b1",
   "metadata": {
    "ExecuteTime": {
     "end_time": "2022-07-24T16:12:40.805090Z",
     "start_time": "2022-07-24T16:12:40.615520Z"
    }
   },
   "outputs": [
    {
     "data": {
      "text/plain": [
       "b'{\"canonicalName\":\"WASP-12 b\",\"starName\":\"WASP-12\",\"ra\":97.6366416613261,\"dec\":29.672277777989713,\"planetNames\":[\"WASP-12 b\",\"TYC 1891-1178-1 b\",\"Gaia DR1 3435282862461427072 b\",\"2MASS J06303279+2940202 b\",\"2MASS J063032.79+294020.4 b\",\"UCAC2 42216354 b\",\"Bergfors-6 b\"],\"keplerID\":null,\"keplerTCE\":null,\"tessID\":86396382,\"tessTCE\":\"TCE_1\"}'"
      ]
     },
     "execution_count": 5,
     "metadata": {},
     "output_type": "execute_result"
    }
   ],
   "source": [
    "names = urllib.request.urlopen(request_name_url).read()\n",
    "names"
   ]
  },
  {
   "cell_type": "markdown",
   "id": "d1d65c4c",
   "metadata": {},
   "source": [
    "The ``b`` before the printed dictionary indicates that these data are currently represented as bytes. To represent the requested data as a string, we need to decode the bytes with the UTF-8 encoding."
   ]
  },
  {
   "cell_type": "code",
   "execution_count": 6,
   "id": "3468644a",
   "metadata": {
    "ExecuteTime": {
     "end_time": "2022-07-24T16:12:40.810236Z",
     "start_time": "2022-07-24T16:12:40.807301Z"
    }
   },
   "outputs": [],
   "source": [
    "dict_str = names.decode(\"UTF-8\")"
   ]
  },
  {
   "cell_type": "markdown",
   "id": "e6de1011",
   "metadata": {},
   "source": [
    "Now that we've converted the returned bytes into a string, we'd like to evaluate them to case them into a more useful data type: a ``dict``.\n",
    "\n",
    "However, we need to ensure that the evaluated string is Pythonic to evaluate it. Note that some keys — e.g., ``\"keplerID\"`` — have values of \"null.\" As a next step, we therefore replace all instances of \"null\" with \"None\", which will evaluate to a Python ``None``."
   ]
  },
  {
   "cell_type": "code",
   "execution_count": 7,
   "id": "28b93c38",
   "metadata": {
    "ExecuteTime": {
     "end_time": "2022-07-24T16:12:40.815558Z",
     "start_time": "2022-07-24T16:12:40.812529Z"
    }
   },
   "outputs": [
    {
     "data": {
      "text/plain": [
       "'{\"canonicalName\":\"WASP-12 b\",\"starName\":\"WASP-12\",\"ra\":97.6366416613261,\"dec\":29.672277777989713,\"planetNames\":[\"WASP-12 b\",\"TYC 1891-1178-1 b\",\"Gaia DR1 3435282862461427072 b\",\"2MASS J06303279+2940202 b\",\"2MASS J063032.79+294020.4 b\",\"UCAC2 42216354 b\",\"Bergfors-6 b\"],\"keplerID\":None,\"keplerTCE\":None,\"tessID\":86396382,\"tessTCE\":\"TCE_1\"}'"
      ]
     },
     "execution_count": 7,
     "metadata": {},
     "output_type": "execute_result"
    }
   ],
   "source": [
    "dict_str = dict_str.replace('null', 'None')\n",
    "dict_str"
   ]
  },
  {
   "cell_type": "markdown",
   "id": "f74b341a",
   "metadata": {},
   "source": [
    "At this point, we can evaluate the string to return a ``dict``. We will use the ``ast.literal_eval`` function to do so, as it is safer to use than the ``eval`` function."
   ]
  },
  {
   "cell_type": "code",
   "execution_count": 8,
   "id": "ae7c816b",
   "metadata": {
    "ExecuteTime": {
     "end_time": "2022-07-24T16:12:40.818722Z",
     "start_time": "2022-07-24T16:12:40.816814Z"
    }
   },
   "outputs": [],
   "source": [
    "name_matches = ast.literal_eval(dict_str)"
   ]
  },
  {
   "cell_type": "code",
   "execution_count": 9,
   "id": "7c8da336",
   "metadata": {
    "ExecuteTime": {
     "end_time": "2022-07-24T16:12:40.823095Z",
     "start_time": "2022-07-24T16:12:40.820317Z"
    }
   },
   "outputs": [
    {
     "data": {
      "text/plain": [
       "{'canonicalName': 'WASP-12 b',\n",
       " 'starName': 'WASP-12',\n",
       " 'ra': 97.6366416613261,\n",
       " 'dec': 29.672277777989713,\n",
       " 'planetNames': ['WASP-12 b',\n",
       "  'TYC 1891-1178-1 b',\n",
       "  'Gaia DR1 3435282862461427072 b',\n",
       "  '2MASS J06303279+2940202 b',\n",
       "  '2MASS J063032.79+294020.4 b',\n",
       "  'UCAC2 42216354 b',\n",
       "  'Bergfors-6 b'],\n",
       " 'keplerID': None,\n",
       " 'keplerTCE': None,\n",
       " 'tessID': 86396382,\n",
       " 'tessTCE': 'TCE_1'}"
      ]
     },
     "execution_count": 9,
     "metadata": {},
     "output_type": "execute_result"
    }
   ],
   "source": [
    "name_matches"
   ]
  },
  {
   "cell_type": "markdown",
   "id": "1a02127c",
   "metadata": {},
   "source": [
    "``name_matches`` is now a ``dict`` that contains our results. A few important fields:\n",
    "\n",
    "- ``ra`` and ``dec``: Right ascension and declination of the planet's host star.\n",
    "- `planetNames`: A ``list`` of names that are used for this planet in different catalogs."
   ]
  },
  {
   "cell_type": "markdown",
   "id": "0ec2194a",
   "metadata": {},
   "source": [
    "With the names for this exoplanet known, we can query exo.MAST for a list of files that are available for it. As before, we:\n",
    "\n",
    "1. Format a request string\n",
    "2. Submit the HTTPS request\n",
    "3. Decode the request's result\n",
    "4. Replace any \"null\"s with \"None\"s\n",
    "5. Evaluate the string"
   ]
  },
  {
   "cell_type": "code",
   "execution_count": 10,
   "id": "716f314c",
   "metadata": {
    "ExecuteTime": {
     "end_time": "2022-07-24T16:12:41.121242Z",
     "start_time": "2022-07-24T16:12:40.826332Z"
    }
   },
   "outputs": [
    {
     "data": {
      "text/plain": [
       "{'filenames': ['WASP-12b_transmission_Kreidberg2015.txt',\n",
       "  'WASP-12b_transmission_Sing2016.txt']}"
      ]
     },
     "execution_count": 10,
     "metadata": {},
     "output_type": "execute_result"
    }
   ],
   "source": [
    "# construct request string\n",
    "request_spectra_string = f'spectra/{planet_name_formatted}/filelist/'\n",
    "request_spectra_url = \"https://exo.mast.stsci.edu/api/v0.1/\" + request_spectra_string\n",
    "\n",
    "# send the request\n",
    "spectra_result = urllib.request.urlopen(request_spectra_url).read()\n",
    "\n",
    "# decode the result and make it Pythonic\n",
    "dict_str = spectra_result.decode(\"UTF-8\")\n",
    "dict_str = dict_str.replace('null', 'None')\n",
    "\n",
    "# evaluate the result\n",
    "spectra = ast.literal_eval(dict_str)\n",
    "spectra"
   ]
  },
  {
   "cell_type": "markdown",
   "id": "38272104",
   "metadata": {},
   "source": [
    "``spectra`` is now a ``dict``. Its key ``filenames`` has a value that is a ``list`` of spectra associated with the submitted planet."
   ]
  },
  {
   "cell_type": "markdown",
   "id": "99320dc2",
   "metadata": {},
   "source": [
    "There are two files corresponding to spectra for this planet. Next, we can download one of them, once again following the above steps."
   ]
  },
  {
   "cell_type": "code",
   "execution_count": 11,
   "id": "c14901d0",
   "metadata": {
    "ExecuteTime": {
     "end_time": "2022-07-24T16:12:41.334910Z",
     "start_time": "2022-07-24T16:12:41.124701Z"
    }
   },
   "outputs": [
    {
     "data": {
      "text/plain": [
       "'# WASP-12b transmission spectrum \\n# This file contains:\\n# WFC3 G102 - GO 13467 - Kreidberg, et al. 2015, ApJ\\n# WFC3 G141 - GO 13467 - Kreidberg, et al. 2015, ApJ\\n# Data history:\\n# Converted from: - Kreidberg, et al. 2015, ApJ\\n# ----------------------------------------------------------------------------------------\\n# Wavelength (microns)  Delta Wavelength (microns)  (Rp/Rs)^2   (Rp/Rs)^2 +/-uncertainty\\n# ----------------------------------------------------------------------------------------\\n         0.8670000    0.02900001   0.01444100   0.00006900  \\n         0.9250000    0.02899998   0.01442200   0.00005500  \\n         0.9830000    0.02899998   0.01440200   0.00005200  \\n         1.0410000    0.02900004   0.01442800   0.00005100  \\n         1.0995000    0.02949995   0.01439100   0.00005300  \\n         1.1470000    0.03500003   0.01438600   0.00004700  \\n         1.2165000    0.03450000   0.01436500   0.00004500  \\n         1.2855000    0.03450000   0.01432700   0.00004100  \\n         1.3545001    0.03450000   0.01458200   0.00004000  \\n         1.4235000    0.03449994   0.01460000   0.00004300  \\n         1.4924999    0.03450000   0.01453000   0.00004500  \\n         1.5620000    0.03500003   0.01447500   0.00005800  \\n         1.6315000    0.03450000   0.01433200   0.00005500  '"
      ]
     },
     "execution_count": 11,
     "metadata": {},
     "output_type": "execute_result"
    }
   ],
   "source": [
    "# construct request string\n",
    "filename = spectra['filenames'][0]\n",
    "request_file_string = f'spectra/{planet_name_formatted}/file/{filename}'\n",
    "request_file_url = \"https://exo.mast.stsci.edu/api/v0.1/\" + request_file_string\n",
    "\n",
    "# send the request\n",
    "spectra_result = urllib.request.urlopen(request_file_url).read()\n",
    "\n",
    "# decode the result and make it Pythonic\n",
    "downloaded_file = spectra_result.decode(\"UTF-8\")\n",
    "downloaded_file"
   ]
  },
  {
   "cell_type": "markdown",
   "id": "fa3df429",
   "metadata": {},
   "source": [
    "This time, however, the decoded data cannot be evaluated as a ``dict``. Rather, it is a string of lines that are separated by the new line character ``\\n``. We can directly write this string to a file."
   ]
  },
  {
   "cell_type": "code",
   "execution_count": 12,
   "id": "aa81147f",
   "metadata": {
    "ExecuteTime": {
     "end_time": "2022-07-24T16:12:41.343948Z",
     "start_time": "2022-07-24T16:12:41.339902Z"
    }
   },
   "outputs": [],
   "source": [
    "with open(filename, 'w') as f:\n",
    "    f.write(downloaded_file)"
   ]
  },
  {
   "cell_type": "markdown",
   "id": "4458207a",
   "metadata": {},
   "source": [
    "Note, however, that not all MAST data products are accessible by this method. (why is this, exactly?)\n",
    "\n",
    "To download other data products, we turn to other methods."
   ]
  },
  {
   "cell_type": "markdown",
   "id": "a7ece539",
   "metadata": {},
   "source": [
    "# Method 2: Using astroquery.mast.\n",
    "\n",
    "For more MAST data products, we can make use of the ``astroquery.mast`` functionality. This approach requires an additional dependency (the [Astroquery](https://astroquery.readthedocs.io/en/latest/) package).\n",
    "\n",
    "This portion of the tutorial is inspired by the [astroquery.mast tutorial](https://astroquery.readthedocs.io/en/latest/mast/mast.html)."
   ]
  },
  {
   "cell_type": "markdown",
   "id": "4756f454",
   "metadata": {},
   "source": [
    "First, let's search for all MAST data products for a single exoplanet."
   ]
  },
  {
   "cell_type": "code",
   "execution_count": 13,
   "id": "12ea2d7d",
   "metadata": {
    "ExecuteTime": {
     "end_time": "2022-07-24T16:13:03.590332Z",
     "start_time": "2022-07-24T16:12:41.345440Z"
    }
   },
   "outputs": [
    {
     "name": "stdout",
     "output_type": "stream",
     "text": [
      "intentType obs_collection provenance_name instrument_name project filters ... dataRights mtFlag srcDen  obsid   distance\n",
      "---------- -------------- --------------- --------------- ------- ------- ... ---------- ------ ------ -------- --------\n",
      "   science           TESS            SPOC      Photometer    TESS    TESS ...     PUBLIC  False    nan 27266912      0.0\n",
      "   science           TESS            SPOC      Photometer    TESS    TESS ...     PUBLIC  False    nan 65432622      0.0\n",
      "   science           TESS            SPOC      Photometer    TESS    TESS ...     PUBLIC  False    nan 68942182      0.0\n",
      "   science           TESS            SPOC      Photometer    TESS    TESS ...     PUBLIC  False    nan 71308547      0.0\n",
      "   science           TESS            SPOC      Photometer    TESS    TESS ...     PUBLIC  False    nan 71741843      0.0\n",
      "   science           TESS            SPOC      Photometer    TESS    TESS ...     PUBLIC  False    nan 27242856      0.0\n",
      "   science           TESS            SPOC      Photometer    TESS    TESS ...     PUBLIC  False    nan 71741845      0.0\n",
      "   science           TESS            SPOC      Photometer    TESS    TESS ...     PUBLIC  False    nan 65361378      0.0\n",
      "   science           TESS            SPOC      Photometer    TESS    TESS ...     PUBLIC  False    nan 68725979      0.0\n",
      "   science           TESS            SPOC      Photometer    TESS    TESS ...     PUBLIC  False    nan 71236476      0.0\n"
     ]
    }
   ],
   "source": [
    "search_radius = \".02 deg\"\n",
    "\n",
    "planet_name = 'WASP-12 b'\n",
    "obs_table = Observations.query_object(planet_name,radius=search_radius)\n",
    "\n",
    "# only print the first 10 results for clarity\n",
    "print(obs_table[:10])  "
   ]
  },
  {
   "cell_type": "code",
   "execution_count": 14,
   "id": "641df19c",
   "metadata": {
    "ExecuteTime": {
     "end_time": "2022-07-24T16:13:03.593846Z",
     "start_time": "2022-07-24T16:13:03.591277Z"
    }
   },
   "outputs": [
    {
     "data": {
      "text/plain": [
       "<TableColumns names=('intentType','obs_collection','provenance_name','instrument_name','project','filters','wavelength_region','target_name','target_classification','obs_id','s_ra','s_dec','dataproduct_type','proposal_pi','calib_level','t_min','t_max','t_exptime','em_min','em_max','obs_title','t_obs_release','proposal_id','proposal_type','sequence_number','s_region','jpegURL','dataURL','dataRights','mtFlag','srcDen','obsid','distance')>"
      ]
     },
     "execution_count": 14,
     "metadata": {},
     "output_type": "execute_result"
    }
   ],
   "source": [
    "obs_table.columns"
   ]
  },
  {
   "cell_type": "markdown",
   "id": "2b608022",
   "metadata": {},
   "source": [
    "Let's sort these observations by the proposing PI (principal investigator) and filter out extraneous columns."
   ]
  },
  {
   "cell_type": "code",
   "execution_count": 15,
   "id": "60e836fa",
   "metadata": {
    "ExecuteTime": {
     "end_time": "2022-07-24T16:13:03.746704Z",
     "start_time": "2022-07-24T16:13:03.595001Z"
    }
   },
   "outputs": [],
   "source": [
    "obs_table.sort('proposal_pi')"
   ]
  },
  {
   "cell_type": "code",
   "execution_count": 16,
   "id": "835880f2",
   "metadata": {
    "ExecuteTime": {
     "end_time": "2022-07-24T16:13:03.751229Z",
     "start_time": "2022-07-24T16:13:03.747716Z"
    }
   },
   "outputs": [
    {
     "name": "stdout",
     "output_type": "stream",
     "text": [
      "  proposal_pi   provenance_name dataproduct_type\n",
      "--------------- --------------- ----------------\n",
      "           Bean             HLA            image\n",
      "           Bean             HLA            image\n",
      "           Bean             HLA            image\n",
      "           Bean             HLA            image\n",
      "           Bean             HLA            image\n",
      "           Bean             HLA            image\n",
      "           Bean             HLA            image\n",
      "           Bean             HLA            image\n",
      "           Bean             HLA            image\n",
      "           Bean             HLA            image\n",
      "           Bean             HLA            image\n",
      "           Bean             HLA            image\n",
      "           Bean             HLA            image\n",
      "           Bean             HLA            image\n",
      "           Bean             HLA            image\n",
      "           Bean             HLA            image\n",
      "            ...             ...              ...\n",
      "Wheatley, Peter    SSC Pipeline            image\n",
      "Wheatley, Peter    SSC Pipeline            image\n",
      "Wheatley, Peter    SSC Pipeline            image\n",
      "Wheatley, Peter    SSC Pipeline            image\n",
      "Wheatley, Peter    SSC Pipeline            image\n",
      "Wheatley, Peter    SSC Pipeline            image\n",
      "Wheatley, Peter    SSC Pipeline            image\n",
      "Wheatley, Peter    SSC Pipeline            image\n",
      "Wheatley, Peter    SSC Pipeline            image\n",
      "Wheatley, Peter    SSC Pipeline            image\n",
      "Wheatley, Peter    SSC Pipeline            image\n",
      "Wheatley, Peter    SSC Pipeline            image\n",
      "Wheatley, Peter    SSC Pipeline            image\n",
      "Wheatley, Peter    SSC Pipeline            image\n",
      "Wheatley, Peter    SSC Pipeline            image\n",
      "Wheatley, Peter    SSC Pipeline            image\n",
      "Length = 24815 rows\n"
     ]
    }
   ],
   "source": [
    "print(obs_table[['proposal_pi', 'provenance_name', 'dataproduct_type']])"
   ]
  },
  {
   "cell_type": "markdown",
   "id": "606d5001",
   "metadata": {},
   "source": [
    "If we're interested in a specific instrument, we can next see which instruments were used to observe this target."
   ]
  },
  {
   "cell_type": "code",
   "execution_count": 17,
   "id": "80c868b3",
   "metadata": {
    "ExecuteTime": {
     "end_time": "2022-07-24T16:13:03.761110Z",
     "start_time": "2022-07-24T16:13:03.752014Z"
    }
   },
   "outputs": [
    {
     "name": "stdout",
     "output_type": "stream",
     "text": [
      "provenance_name\n",
      "---------------\n",
      "            3PI\n",
      "         CALCOS\n",
      "        CALSTIS\n",
      "         CALWF3\n",
      "          CDIPS\n",
      "            HAP\n",
      "            HLA\n",
      "             --\n",
      "            QLP\n",
      "           SPOC\n",
      "   SSC Pipeline\n",
      "      TESS-SPOC\n"
     ]
    }
   ],
   "source": [
    "print(np.unique(obs_table['provenance_name']))"
   ]
  },
  {
   "cell_type": "markdown",
   "id": "6ebd1027",
   "metadata": {},
   "source": [
    "Great! In just a few lines, we've collected the metadata for many observations of this target into an Astropy ``Table``. Next, let's see what data products are available for the most recent Quick Look Pipeline ([QLP](https://tess.mit.edu/qlp/)) data. Because we'll sort these data by time, the most recent data is the last entry, which we can access with the ``-1`` index."
   ]
  },
  {
   "cell_type": "code",
   "execution_count": 18,
   "id": "aa0afd0d",
   "metadata": {
    "ExecuteTime": {
     "end_time": "2022-07-24T16:13:03.867793Z",
     "start_time": "2022-07-24T16:13:03.762066Z"
    }
   },
   "outputs": [
    {
     "name": "stdout",
     "output_type": "stream",
     "text": [
      " obsID   obs_collection dataproduct_type                         obs_id                        description ...  size parent_obsid dataRights calib_level\n",
      "-------- -------------- ---------------- ----------------------------------------------------- ----------- ... ----- ------------ ---------- -----------\n",
      "36811427           HLSP       timeseries hlsp_qlp_tess_ffi_s0020-0000000086396382_tess_v01_llc        FITS ... 77760     36811427     PUBLIC           4\n",
      "36811427           HLSP       timeseries hlsp_qlp_tess_ffi_s0020-0000000086396382_tess_v01_llc        Text ... 48016     36811427     PUBLIC           4\n"
     ]
    }
   ],
   "source": [
    "obs_table_qlp = obs_table[obs_table['provenance_name']=='QLP']\n",
    "obs_table_qlp.sort('t_min')\n",
    "\n",
    "recent_index = -1\n",
    "data_products_by_obs = Observations.get_product_list(obs_table_qlp[recent_index])\n",
    "print(data_products_by_obs) "
   ]
  },
  {
   "cell_type": "markdown",
   "id": "cc529f51",
   "metadata": {},
   "source": [
    "There are two timeseries data products. Let's download the first one. "
   ]
  },
  {
   "cell_type": "code",
   "execution_count": 19,
   "id": "ea562e82",
   "metadata": {
    "ExecuteTime": {
     "end_time": "2022-07-24T16:13:03.871487Z",
     "start_time": "2022-07-24T16:13:03.868882Z"
    }
   },
   "outputs": [
    {
     "data": {
      "text/plain": [
       "<TableColumns names=('obsID','obs_collection','dataproduct_type','obs_id','description','type','dataURI','productType','productGroupDescription','productSubGroupDescription','productDocumentationURL','project','prvversion','proposal_id','productFilename','size','parent_obsid','dataRights','calib_level')>"
      ]
     },
     "execution_count": 19,
     "metadata": {},
     "output_type": "execute_result"
    }
   ],
   "source": [
    "data_products_by_obs.columns"
   ]
  },
  {
   "cell_type": "code",
   "execution_count": 20,
   "id": "a16ead13",
   "metadata": {
    "ExecuteTime": {
     "end_time": "2022-07-24T16:13:04.680731Z",
     "start_time": "2022-07-24T16:13:03.872534Z"
    }
   },
   "outputs": [
    {
     "name": "stdout",
     "output_type": "stream",
     "text": [
      "Downloading URL https://mast.stsci.edu/api/v0.1/Download/file?uri=mast:HLSP/qlp/s0020/0000/0000/8639/6382/hlsp_qlp_tess_ffi_s0020-0000000086396382_tess_v01_llc.fits to ./mastDownload/HLSP/hlsp_qlp_tess_ffi_s0020-0000000086396382_tess_v01_llc/hlsp_qlp_tess_ffi_s0020-0000000086396382_tess_v01_llc.fits ... [Done]\n",
      "Downloading URL https://mast.stsci.edu/api/v0.1/Download/file?uri=mast:HLSP/qlp/s0020/0000/0000/8639/6382/hlsp_qlp_tess_ffi_s0020-0000000086396382_tess_v01_llc.txt to ./mastDownload/HLSP/hlsp_qlp_tess_ffi_s0020-0000000086396382_tess_v01_llc/hlsp_qlp_tess_ffi_s0020-0000000086396382_tess_v01_llc.txt ... [Done]\n"
     ]
    }
   ],
   "source": [
    "# select first observation collection\n",
    "obs_collection = data_products_by_obs['obs_collection'][0]\n",
    "obs_id = data_products_by_obs['obs_id'][0]\n",
    "\n",
    "# query and get product list for this collection\n",
    "single_obs = Observations.query_criteria(obs_collection=obs_collection, obs_id=obs_id)\n",
    "data_products = Observations.get_product_list(single_obs)\n",
    "\n",
    "# download data products\n",
    "manifest = Observations.download_products(data_products, productType=\"SCIENCE\")"
   ]
  },
  {
   "cell_type": "code",
   "execution_count": 21,
   "id": "efeb174b",
   "metadata": {
    "ExecuteTime": {
     "end_time": "2022-07-24T16:13:04.686862Z",
     "start_time": "2022-07-24T16:13:04.682313Z"
    }
   },
   "outputs": [
    {
     "name": "stdout",
     "output_type": "stream",
     "text": [
      "                                                             Local Path                                                               Status  ... URL \n",
      "------------------------------------------------------------------------------------------------------------------------------------ -------- ... ----\n",
      "./mastDownload/HLSP/hlsp_qlp_tess_ffi_s0020-0000000086396382_tess_v01_llc/hlsp_qlp_tess_ffi_s0020-0000000086396382_tess_v01_llc.fits COMPLETE ... None\n",
      " ./mastDownload/HLSP/hlsp_qlp_tess_ffi_s0020-0000000086396382_tess_v01_llc/hlsp_qlp_tess_ffi_s0020-0000000086396382_tess_v01_llc.txt COMPLETE ... None\n"
     ]
    }
   ],
   "source": [
    "print(manifest)"
   ]
  },
  {
   "cell_type": "markdown",
   "id": "6b877f17",
   "metadata": {},
   "source": [
    "We've now successfully downloaded MAST data using the ``astroquery.mast`` API."
   ]
  },
  {
   "cell_type": "markdown",
   "id": "6e5337b0",
   "metadata": {},
   "source": [
    "# Method 3: Directly using the MAST API.\n",
    "This final approach is a bit more hands-on and requires more code, but it allows for the most flexibility. Additionally, it provides the most insight into what's going on \"under the hood\" with MAST data requests. This approach requires the [Astropy](https://www.astropy.org/) and [NumPy](https://numpy.org/) dependencies.\n",
    "\n",
    "This portion of the tutorial is inspired by the general [MAST API tutorial](_https://mast.stsci.edu/api/v0/MastApiTutorial.html)."
   ]
  },
  {
   "cell_type": "code",
   "execution_count": 22,
   "id": "d230c0d4",
   "metadata": {
    "ExecuteTime": {
     "end_time": "2022-07-24T16:13:04.691506Z",
     "start_time": "2022-07-24T16:13:04.688749Z"
    }
   },
   "outputs": [],
   "source": [
    "pp = pprint.PrettyPrinter(indent=4)"
   ]
  },
  {
   "cell_type": "markdown",
   "id": "57775c38",
   "metadata": {},
   "source": [
    "Sticking with our previous example, let's look at the planet WASP-12 b. First, we need to format our request to the MAST resolver — the service that matches requests to MAST data."
   ]
  },
  {
   "cell_type": "code",
   "execution_count": 23,
   "id": "159da2a8",
   "metadata": {
    "ExecuteTime": {
     "end_time": "2022-07-24T16:13:04.696245Z",
     "start_time": "2022-07-24T16:13:04.693353Z"
    }
   },
   "outputs": [],
   "source": [
    "object_of_interest = 'WASP-12 b'\n",
    "\n",
    "resolver_request = {'service':'Mast.Name.Lookup',\n",
    "                     'params':{'input':object_of_interest,\n",
    "                               'format':'json'},\n",
    "                     }\n",
    "\n",
    "# encoding the request as a json string\n",
    "req_string = json.dumps(resolver_request)\n",
    "req_string = urlencode(req_string)"
   ]
  },
  {
   "cell_type": "markdown",
   "id": "23a0043c",
   "metadata": {},
   "source": [
    "Next, we set the header variables needed to make the request."
   ]
  },
  {
   "cell_type": "code",
   "execution_count": 24,
   "id": "8ac96514",
   "metadata": {
    "ExecuteTime": {
     "end_time": "2022-07-24T16:13:04.700470Z",
     "start_time": "2022-07-24T16:13:04.697790Z"
    }
   },
   "outputs": [],
   "source": [
    "# retrieve our system's Python version for the request. \n",
    "version = \".\".join(map(str, sys.version_info[:3]))\n",
    "\n",
    "# create HTTP Header Variables\n",
    "headers = {\"Content-type\": \"application/x-www-form-urlencoded\",\n",
    "           \"Accept\": \"text/plain\",\n",
    "           \"User-agent\":\"python-requests/\"+version}\n"
   ]
  },
  {
   "cell_type": "markdown",
   "id": "36fa0238",
   "metadata": {},
   "source": [
    "Now, we construct our request URL and perform our HTTP request with the ``requests`` package."
   ]
  },
  {
   "cell_type": "code",
   "execution_count": 25,
   "id": "ea354c1e",
   "metadata": {
    "ExecuteTime": {
     "end_time": "2022-07-24T16:13:05.037519Z",
     "start_time": "2022-07-24T16:13:04.701947Z"
    }
   },
   "outputs": [],
   "source": [
    "# base API url\n",
    "request_url='https://mast.stsci.edu/api/v0/invoke'    \n",
    "\n",
    "# perform the HTTP request\n",
    "resp = requests.post(request_url, data=\"request=\"+req_string, headers=headers)"
   ]
  },
  {
   "cell_type": "markdown",
   "id": "20774429",
   "metadata": {},
   "source": [
    "The response must be decoded into a string, as in the previous examples."
   ]
  },
  {
   "cell_type": "code",
   "execution_count": 26,
   "id": "6c76c03e",
   "metadata": {
    "ExecuteTime": {
     "end_time": "2022-07-24T16:13:05.058807Z",
     "start_time": "2022-07-24T16:13:05.043800Z"
    }
   },
   "outputs": [
    {
     "name": "stdout",
     "output_type": "stream",
     "text": [
      "{   'resolvedCoordinate': [   {   'cached': False,\n",
      "                                  'canonicalName': 'WASP-12 b',\n",
      "                                  'decl': 29.672277777989713,\n",
      "                                  'ra': 97.6366416613261,\n",
      "                                  'resolver': 'EXO',\n",
      "                                  'resolverTime': 88,\n",
      "                                  'searchRadius': 0.000333,\n",
      "                                  'searchString': 'wasp-12 b'}],\n",
      "    'status': ''}\n"
     ]
    }
   ],
   "source": [
    "resolved_object = resp.json()\n",
    "\n",
    "pp.pprint(resolved_object)"
   ]
  },
  {
   "cell_type": "markdown",
   "id": "1a8e0924",
   "metadata": {},
   "source": [
    "Parsing apart some of the output:\n",
    "- the *cached* field denotes whether this result has already been saved on this device.\n",
    "- the *canonicalName* field denotes the default name of the planet.\n",
    "- the *decl* (float) field denotes the declination of the resolved coordinate.\n",
    "- the *ra* (float) field denotes the right ascention of the resolved coordinate.\n",
    "- the *searchRadius* field denotes the raidius of the search.\n",
    "\n",
    "See the documentation (link) for further information."
   ]
  },
  {
   "cell_type": "markdown",
   "id": "d5477ac0",
   "metadata": {},
   "source": [
    "Now that we've resolved our target, let's save its coordinates as (float) variables — we'll need them later on."
   ]
  },
  {
   "cell_type": "code",
   "execution_count": 27,
   "id": "71d77ac8",
   "metadata": {
    "ExecuteTime": {
     "end_time": "2022-07-24T16:13:05.064712Z",
     "start_time": "2022-07-24T16:13:05.062207Z"
    }
   },
   "outputs": [
    {
     "data": {
      "text/plain": [
       "(97.6366416613261, 29.672277777989713)"
      ]
     },
     "execution_count": 27,
     "metadata": {},
     "output_type": "execute_result"
    }
   ],
   "source": [
    "obj_ra = resolved_object['resolvedCoordinate'][0]['ra']\n",
    "obj_dec = resolved_object['resolvedCoordinate'][0]['decl']\n",
    "\n",
    "obj_ra, obj_dec"
   ]
  },
  {
   "cell_type": "markdown",
   "id": "7828e71f",
   "metadata": {},
   "source": [
    "With the coordinates of the object now known, we can run a *Mast.Caom.Cone* query to retrieve metadata on all MAST data around this coordinate."
   ]
  },
  {
   "cell_type": "code",
   "execution_count": 28,
   "id": "3d9ea1ef",
   "metadata": {
    "ExecuteTime": {
     "end_time": "2022-07-24T16:13:34.743840Z",
     "start_time": "2022-07-24T16:13:05.070967Z"
    }
   },
   "outputs": [
    {
     "name": "stdout",
     "output_type": "stream",
     "text": [
      "dict_keys(['status', 'msg', 'data', 'fields', 'paging'])\n",
      "Query status: COMPLETE\n"
     ]
    }
   ],
   "source": [
    "mast_request = {'service':'Mast.Caom.Cone',\n",
    "                'params':{'ra':obj_ra,\n",
    "                          'dec':obj_dec,\n",
    "                          'radius':0.2},\n",
    "                'format':'json',\n",
    "                'pagesize':2000,\n",
    "                'page':1,\n",
    "                'removenullcolumns':True,\n",
    "                'removecache':True}\n",
    "\n",
    "\n",
    "# encoding the request as a json string\n",
    "req_string = json.dumps(mast_request)\n",
    "req_string = urlencode(req_string)\n",
    "\n",
    "# perform the HTTP request\n",
    "resp = requests.post(request_url, data=\"request=\"+req_string, headers=headers)\n",
    "\n",
    "# decode the HTTP result\n",
    "mast_data = resp.json()\n",
    "\n",
    "\n",
    "print(mast_data.keys())\n",
    "print(\"Query status:\",mast_data['status'])"
   ]
  },
  {
   "cell_type": "markdown",
   "id": "40db47d2",
   "metadata": {},
   "source": [
    "Let's take a look at the first returned data entry."
   ]
  },
  {
   "cell_type": "code",
   "execution_count": 29,
   "id": "f24af07d",
   "metadata": {
    "ExecuteTime": {
     "end_time": "2022-07-24T16:13:34.749120Z",
     "start_time": "2022-07-24T16:13:34.745755Z"
    }
   },
   "outputs": [
    {
     "name": "stdout",
     "output_type": "stream",
     "text": [
      "{   '_selected_': None,\n",
      "    'calib_level': 3,\n",
      "    'dataRights': 'PUBLIC',\n",
      "    'dataURL': None,\n",
      "    'dataproduct_type': 'image',\n",
      "    'distance': 0,\n",
      "    'em_max': 1000,\n",
      "    'em_min': 600,\n",
      "    'filters': 'TESS',\n",
      "    'instrument_name': 'Photometer',\n",
      "    'intentType': 'science',\n",
      "    'jpegURL': None,\n",
      "    'mtFlag': False,\n",
      "    'obs_collection': 'TESS',\n",
      "    'obs_id': 'tess-s0020-1-3',\n",
      "    'obs_title': None,\n",
      "    'obsid': 27266912,\n",
      "    'project': 'TESS',\n",
      "    'proposal_id': 'N/A',\n",
      "    'proposal_pi': 'Ricker, George',\n",
      "    'proposal_type': None,\n",
      "    'provenance_name': 'SPOC',\n",
      "    's_dec': 34.91458576307677,\n",
      "    's_ra': 101.64458792443914,\n",
      "    's_region': 'POLYGON 94.61647600 29.34512900 93.87837900 40.81682500 '\n",
      "                '109.96143000 40.20664100 108.07068800 28.39783100 94.61647600 '\n",
      "                '29.34512900 ',\n",
      "    'sequence_number': 20,\n",
      "    'srcDen': None,\n",
      "    't_exptime': 1425.599406,\n",
      "    't_max': 58868.3173308,\n",
      "    't_min': 58842.00512903,\n",
      "    't_obs_release': 58893,\n",
      "    'target_classification': None,\n",
      "    'target_name': 'TESS FFI',\n",
      "    'wavelength_region': 'Optical'}\n"
     ]
    }
   ],
   "source": [
    "pp.pprint(mast_data['data'][0])"
   ]
  },
  {
   "cell_type": "markdown",
   "id": "d409c802",
   "metadata": {},
   "source": [
    "There's a lot of metadata here, and it's a bit hard to understand all at once. To make things a bit more digestible, we can create an Astropy ``Table``.\n",
    "\n",
    "To do so, we need to loop through each ``field`` in ``mast_data``. These ``field``s will become the columns of our ``Table``. The ``field``s also have associated data types that are contained in ``mast_data``; however, we'll need to convert the names of these data types into Pythonic data types. For example, the data type for the field ``indentType`` is ``'string'``, but the corresponding Python data type is ``str``, so we'll need to take this into account when creating the ``Table``."
   ]
  },
  {
   "cell_type": "code",
   "execution_count": 30,
   "id": "0e85efe4",
   "metadata": {
    "ExecuteTime": {
     "end_time": "2022-07-24T16:13:34.774756Z",
     "start_time": "2022-07-24T16:13:34.750572Z"
    }
   },
   "outputs": [
    {
     "name": "stdout",
     "output_type": "stream",
     "text": [
      "intentType obs_collection provenance_name instrument_name project filters ... dataRights mtFlag srcDen  obsid       distance     _selected_\n",
      "---------- -------------- --------------- --------------- ------- ------- ... ---------- ------ ------ -------- ---------------- ----------\n",
      "   science           TESS            SPOC      Photometer    TESS    TESS ...     PUBLIC  False    nan 27266912              0.0      False\n",
      "   science           TESS            SPOC      Photometer    TESS    TESS ...     PUBLIC  False    nan 65432622              0.0      False\n",
      "   science           TESS            SPOC      Photometer    TESS    TESS ...     PUBLIC  False    nan 68942182              0.0      False\n",
      "   science           TESS            SPOC      Photometer    TESS    TESS ...     PUBLIC  False    nan 71308547              0.0      False\n",
      "   science           TESS            SPOC      Photometer    TESS    TESS ...     PUBLIC  False    nan 71741843              0.0      False\n",
      "   science           TESS            SPOC      Photometer    TESS    TESS ...     PUBLIC  False    nan 27242856              0.0      False\n",
      "   science           TESS            SPOC      Photometer    TESS    TESS ...     PUBLIC  False    nan 71741845              0.0      False\n",
      "   science           TESS            SPOC      Photometer    TESS    TESS ...     PUBLIC  False    nan 65361378              0.0      False\n",
      "   science           TESS            SPOC      Photometer    TESS    TESS ...     PUBLIC  False    nan 68725979              0.0      False\n",
      "   science           TESS            SPOC      Photometer    TESS    TESS ...     PUBLIC  False    nan 71236476              0.0      False\n",
      "   science           TESS            SPOC      Photometer    TESS    TESS ...     PUBLIC  False    nan 65361380 581.781066069102      False\n",
      "   science           TESS            SPOC      Photometer    TESS    TESS ...     PUBLIC  False    nan 68725981 581.781066069102      False\n",
      "   science           TESS            SPOC      Photometer    TESS    TESS ...     PUBLIC  False    nan 71236478 581.781066069102      False\n",
      "   science          SWIFT            None            UVOT    None    UVM2 ...     PUBLIC  False 5885.0  1468834              0.0      False\n",
      "   science          SWIFT            None            UVOT    None    UVM2 ...     PUBLIC  False 5885.0  1522757              0.0      False\n",
      "   science          SWIFT            None            UVOT    None    UVM2 ...     PUBLIC  False 5885.0  1522758              0.0      False\n",
      "       ...            ...             ...             ...     ...     ... ...        ...    ...    ...      ...              ...        ...\n",
      "   science    SPITZER_SHA    SSC Pipeline            IRAC    None   IRAC2 ...     PUBLIC  False    nan  1692417              0.0      False\n",
      "   science    SPITZER_SHA    SSC Pipeline            IRAC    None   IRAC4 ...     PUBLIC  False    nan  1692417              0.0      False\n",
      "   science    SPITZER_SHA    SSC Pipeline            IRAC    None   IRAC2 ...     PUBLIC  False    nan  1692417              0.0      False\n",
      "   science    SPITZER_SHA    SSC Pipeline            IRAC    None   IRAC4 ...     PUBLIC  False    nan  1692417              0.0      False\n",
      "   science    SPITZER_SHA    SSC Pipeline            IRAC    None   IRAC4 ...     PUBLIC  False    nan  1692417              0.0      False\n",
      "   science    SPITZER_SHA    SSC Pipeline            IRAC    None   IRAC2 ...     PUBLIC  False    nan  1692417              0.0      False\n",
      "   science    SPITZER_SHA    SSC Pipeline            IRAC    None   IRAC2 ...     PUBLIC  False    nan  1692417              0.0      False\n",
      "   science    SPITZER_SHA    SSC Pipeline            IRAC    None   IRAC2 ...     PUBLIC  False    nan  1692417              0.0      False\n",
      "   science    SPITZER_SHA    SSC Pipeline            IRAC    None   IRAC2 ...     PUBLIC  False    nan  1692417              0.0      False\n",
      "   science    SPITZER_SHA    SSC Pipeline            IRAC    None   IRAC2 ...     PUBLIC  False    nan  1692417              0.0      False\n",
      "   science    SPITZER_SHA    SSC Pipeline            IRAC    None   IRAC2 ...     PUBLIC  False    nan  1692417              0.0      False\n",
      "   science    SPITZER_SHA    SSC Pipeline            IRAC    None   IRAC2 ...     PUBLIC  False    nan  1692417              0.0      False\n",
      "   science    SPITZER_SHA    SSC Pipeline            IRAC    None   IRAC2 ...     PUBLIC  False    nan  1692417              0.0      False\n",
      "   science    SPITZER_SHA    SSC Pipeline            IRAC    None   IRAC2 ...     PUBLIC  False    nan  1692417              0.0      False\n",
      "   science    SPITZER_SHA    SSC Pipeline            IRAC    None   IRAC2 ...     PUBLIC  False    nan  1692417              0.0      False\n",
      "   science    SPITZER_SHA    SSC Pipeline            IRAC    None   IRAC2 ...     PUBLIC  False    nan  1692417              0.0      False\n",
      "Length = 2000 rows\n"
     ]
    }
   ],
   "source": [
    "mast_data_table = Table()\n",
    "\n",
    "col_type_list = [(field['name'], field['type']) for field in mast_data['fields']]\n",
    "\n",
    "for col, atype in col_type_list:\n",
    "    \n",
    "    # recast data types\n",
    "    if atype==\"string\":\n",
    "        atype=\"str\"\n",
    "    if atype==\"boolean\":\n",
    "        atype=\"bool\"\n",
    "    \n",
    "    # create column in Table corresponding to the mast_data field\n",
    "    mast_data_table[col] = np.array([x.get(col, None) for x in mast_data['data']],dtype=atype)\n",
    "    \n",
    "print(mast_data_table)"
   ]
  },
  {
   "cell_type": "markdown",
   "id": "66926665",
   "metadata": {},
   "source": [
    "With our metadata all acquired, we can now sort it based on, e.g., start date."
   ]
  },
  {
   "cell_type": "code",
   "execution_count": 31,
   "id": "08ab17e8",
   "metadata": {
    "ExecuteTime": {
     "end_time": "2022-07-24T16:13:34.788647Z",
     "start_time": "2022-07-24T16:13:34.775812Z"
    }
   },
   "outputs": [],
   "source": [
    "mast_data_table.sort('t_min')"
   ]
  },
  {
   "cell_type": "code",
   "execution_count": 32,
   "id": "615d3933",
   "metadata": {
    "ExecuteTime": {
     "end_time": "2022-07-24T16:13:34.793474Z",
     "start_time": "2022-07-24T16:13:34.789450Z"
    },
    "scrolled": false
   },
   "outputs": [
    {
     "name": "stdout",
     "output_type": "stream",
     "text": [
      "intentType obs_collection provenance_name instrument_name project filters ... dataRights mtFlag srcDen  obsid       distance     _selected_\n",
      "---------- -------------- --------------- --------------- ------- ------- ... ---------- ------ ------ -------- ---------------- ----------\n",
      "   science    SPITZER_SHA    SSC Pipeline            IRAC    None   IRAC2 ...     PUBLIC  False    nan  1692417              0.0      False\n",
      "   science    SPITZER_SHA    SSC Pipeline            IRAC    None   IRAC4 ...     PUBLIC  False    nan  1692417              0.0      False\n",
      "   science    SPITZER_SHA    SSC Pipeline            IRAC    None   IRAC2 ...     PUBLIC  False    nan  1692417              0.0      False\n",
      "   science    SPITZER_SHA    SSC Pipeline            IRAC    None   IRAC2 ...     PUBLIC  False    nan  1692417              0.0      False\n",
      "   science    SPITZER_SHA    SSC Pipeline            IRAC    None   IRAC4 ...     PUBLIC  False    nan  1692417              0.0      False\n",
      "   science    SPITZER_SHA    SSC Pipeline            IRAC    None   IRAC4 ...     PUBLIC  False    nan  1692417              0.0      False\n",
      "   science    SPITZER_SHA    SSC Pipeline            IRAC    None   IRAC2 ...     PUBLIC  False    nan  1692417              0.0      False\n",
      "   science    SPITZER_SHA    SSC Pipeline            IRAC    None   IRAC4 ...     PUBLIC  False    nan  1692417              0.0      False\n",
      "   science    SPITZER_SHA    SSC Pipeline            IRAC    None   IRAC4 ...     PUBLIC  False    nan  1692417              0.0      False\n",
      "   science    SPITZER_SHA    SSC Pipeline            IRAC    None   IRAC2 ...     PUBLIC  False    nan  1692417              0.0      False\n",
      "   science    SPITZER_SHA    SSC Pipeline            IRAC    None   IRAC4 ...     PUBLIC  False    nan  1692417              0.0      False\n",
      "   science    SPITZER_SHA    SSC Pipeline            IRAC    None   IRAC2 ...     PUBLIC  False    nan  1692417              0.0      False\n",
      "   science    SPITZER_SHA    SSC Pipeline            IRAC    None   IRAC2 ...     PUBLIC  False    nan  1692417              0.0      False\n",
      "   science    SPITZER_SHA    SSC Pipeline            IRAC    None   IRAC2 ...     PUBLIC  False    nan  1692417              0.0      False\n",
      "   science    SPITZER_SHA    SSC Pipeline            IRAC    None   IRAC2 ...     PUBLIC  False    nan  1692417              0.0      False\n",
      "   science    SPITZER_SHA    SSC Pipeline            IRAC    None   IRAC4 ...     PUBLIC  False    nan  1692417              0.0      False\n",
      "       ...            ...             ...             ...     ...     ... ...        ...    ...    ...      ...              ...        ...\n",
      "   science          SWIFT            None            UVOT    None    UVM2 ...     PUBLIC  False 5885.0  1522758              0.0      False\n",
      "   science          SWIFT            None            UVOT    None    UVM2 ...     PUBLIC  False 5885.0  1392183              0.0      False\n",
      "   science          SWIFT            None            UVOT    None    UVM2 ...     PUBLIC  False 5885.0  1513232              0.0      False\n",
      "   science           TESS            SPOC      Photometer    TESS    TESS ...     PUBLIC  False    nan 71741843              0.0      False\n",
      "   science           TESS            SPOC      Photometer    TESS    TESS ...     PUBLIC  False    nan 27266912              0.0      False\n",
      "   science           TESS            SPOC      Photometer    TESS    TESS ...     PUBLIC  False    nan 27242856              0.0      False\n",
      "   science           TESS            SPOC      Photometer    TESS    TESS ...     PUBLIC  False    nan 71741845              0.0      False\n",
      "   science           TESS            SPOC      Photometer    TESS    TESS ...     PUBLIC  False    nan 65432622              0.0      False\n",
      "   science           TESS            SPOC      Photometer    TESS    TESS ...     PUBLIC  False    nan 65361380 581.781066069102      False\n",
      "   science           TESS            SPOC      Photometer    TESS    TESS ...     PUBLIC  False    nan 65361378              0.0      False\n",
      "   science           TESS            SPOC      Photometer    TESS    TESS ...     PUBLIC  False    nan 68942182              0.0      False\n",
      "   science           TESS            SPOC      Photometer    TESS    TESS ...     PUBLIC  False    nan 68725981 581.781066069102      False\n",
      "   science           TESS            SPOC      Photometer    TESS    TESS ...     PUBLIC  False    nan 68725979              0.0      False\n",
      "   science           TESS            SPOC      Photometer    TESS    TESS ...     PUBLIC  False    nan 71308547              0.0      False\n",
      "   science           TESS            SPOC      Photometer    TESS    TESS ...     PUBLIC  False    nan 71236478 581.781066069102      False\n",
      "   science           TESS            SPOC      Photometer    TESS    TESS ...     PUBLIC  False    nan 71236476              0.0      False\n",
      "Length = 2000 rows\n"
     ]
    }
   ],
   "source": [
    "print(mast_data_table)"
   ]
  },
  {
   "cell_type": "markdown",
   "id": "f3afc572",
   "metadata": {},
   "source": [
    "Let's get the most recent Spitzer data product. Because these data are sorted by time, the most recent data is the last entry, which we can access with the ``-1`` index."
   ]
  },
  {
   "cell_type": "code",
   "execution_count": 33,
   "id": "ae5c2857",
   "metadata": {
    "ExecuteTime": {
     "end_time": "2022-07-24T16:13:34.797635Z",
     "start_time": "2022-07-24T16:13:34.794366Z"
    }
   },
   "outputs": [
    {
     "name": "stdout",
     "output_type": "stream",
     "text": [
      "Observation: ['image', 'SPITZER_SHA', 'IRAC']\n"
     ]
    }
   ],
   "source": [
    "recent_index = -1\n",
    "interesting_observation = mast_data_table[mast_data_table[\"obs_collection\"] == \"SPITZER_SHA\"][recent_index]\n",
    "print(\"Observation:\",\n",
    "      [interesting_observation[x] for x in ['dataproduct_type', 'obs_collection', 'instrument_name']])"
   ]
  },
  {
   "cell_type": "markdown",
   "id": "435c104d",
   "metadata": {},
   "source": [
    "It appears that the latest Spitzer data for this target was taken with IRAC (Infrared Array Camera).\n",
    "\n",
    "We can search MAST using the ``obsid`` of this observation to determine how many data products are associated with this observation."
   ]
  },
  {
   "cell_type": "code",
   "execution_count": 34,
   "id": "c555785a",
   "metadata": {
    "ExecuteTime": {
     "end_time": "2022-07-24T16:13:35.274542Z",
     "start_time": "2022-07-24T16:13:34.798496Z"
    }
   },
   "outputs": [
    {
     "ename": "NameError",
     "evalue": "name 'obs_products' is not defined",
     "output_type": "error",
     "traceback": [
      "\u001b[0;31m---------------------------------------------------------------------------\u001b[0m",
      "\u001b[0;31mNameError\u001b[0m                                 Traceback (most recent call last)",
      "Input \u001b[0;32mIn [34]\u001b[0m, in \u001b[0;36m<cell line: 19>\u001b[0;34m()\u001b[0m\n\u001b[1;32m     16\u001b[0m \u001b[38;5;66;03m# dfrecode the HTTP result\u001b[39;00m\n\u001b[1;32m     17\u001b[0m obs_products_products \u001b[38;5;241m=\u001b[39m resp\u001b[38;5;241m.\u001b[39mjson()\n\u001b[0;32m---> 19\u001b[0m \u001b[38;5;28mprint\u001b[39m(\u001b[38;5;124m\"\u001b[39m\u001b[38;5;124mNumber of data products:\u001b[39m\u001b[38;5;124m\"\u001b[39m, \u001b[38;5;28mlen\u001b[39m(\u001b[43mobs_products\u001b[49m[\u001b[38;5;124m\"\u001b[39m\u001b[38;5;124mdata\u001b[39m\u001b[38;5;124m\"\u001b[39m]))\n\u001b[1;32m     20\u001b[0m \u001b[38;5;28mprint\u001b[39m(\u001b[38;5;124m\"\u001b[39m\u001b[38;5;124mProduct information column names:\u001b[39m\u001b[38;5;124m\"\u001b[39m)\n\u001b[1;32m     21\u001b[0m pp\u001b[38;5;241m.\u001b[39mpprint(obs_products[\u001b[38;5;124m'\u001b[39m\u001b[38;5;124mfields\u001b[39m\u001b[38;5;124m'\u001b[39m])\n",
      "\u001b[0;31mNameError\u001b[0m: name 'obs_products' is not defined"
     ]
    }
   ],
   "source": [
    "obsid = interesting_observation['obsid']\n",
    "\n",
    "product_request = {'service':'Mast.Caom.Products',\n",
    "                  'params':{'obsid':obsid},\n",
    "                  'format':'json',\n",
    "                  'pagesize':100,\n",
    "                  'page':1}   \n",
    "\n",
    "# encoding the request as a json string\n",
    "req_string = json.dumps(product_request)\n",
    "req_string = urlencode(req_string)\n",
    "\n",
    "# perform the HTTP request\n",
    "resp = requests.post(request_url, data=\"request=\"+req_string, headers=headers)\n",
    "\n",
    "# dfrecode the HTTP result\n",
    "obs_products = resp.json()\n",
    "\n",
    "print(\"Number of data products:\", len(obs_products[\"data\"]))\n",
    "print(\"Product information column names:\")\n",
    "pp.pprint(obs_products['fields'])"
   ]
  },
  {
   "cell_type": "markdown",
   "id": "5f71d754",
   "metadata": {},
   "source": [
    "We can also see what *types* these data products are."
   ]
  },
  {
   "cell_type": "code",
   "execution_count": null,
   "id": "5df9c553",
   "metadata": {
    "ExecuteTime": {
     "end_time": "2022-07-24T16:13:35.275306Z",
     "start_time": "2022-07-24T16:13:35.275301Z"
    },
    "scrolled": true
   },
   "outputs": [],
   "source": [
    "pp.pprint([x.get('productType',\"\") for x in obs_products[\"data\"]])"
   ]
  },
  {
   "cell_type": "markdown",
   "id": "d5d124fc",
   "metadata": {},
   "source": [
    "We can place these results in a table as well, restricting ourselves to the science products. As before, we need to be careful about recasting the listed data types to Pythonic types."
   ]
  },
  {
   "cell_type": "code",
   "execution_count": null,
   "id": "ad4c4e5e",
   "metadata": {
    "ExecuteTime": {
     "end_time": "2022-07-24T16:13:35.275853Z",
     "start_time": "2022-07-24T16:13:35.275847Z"
    }
   },
   "outputs": [],
   "source": [
    "sci_prod_arr = [x for x in obs_products['data'] if x.get(\"productType\", None) == 'SCIENCE']\n",
    "science_products = Table()\n",
    "\n",
    "col_type_list = [(field['name'], field['type']) for field in obs_products['fields']]\n",
    "\n",
    "for col, atype in col_type_list:\n",
    "    \n",
    "    # recast data types\n",
    "    if atype==\"string\":\n",
    "        atype=\"str\"\n",
    "    if atype==\"boolean\":\n",
    "        atype=\"bool\"\n",
    "    if atype == \"int\":\n",
    "        atype = \"float\" # array may contain nan values, and they do not exist in numpy integer arrays\n",
    "        \n",
    "    # Create column in Table corresponding to the mast_data field\n",
    "    science_products[col] = np.array([x.get(col,None) for x in sci_prod_arr],dtype=atype)\n",
    "\n",
    "print(\"Number of science products:\",len(science_products))\n",
    "print(science_products)"
   ]
  },
  {
   "cell_type": "markdown",
   "id": "88d2fdf3",
   "metadata": {},
   "source": [
    "Next, let's download these data products using the [requests](https://requests.readthedocs.io/en/latest/) package."
   ]
  },
  {
   "cell_type": "code",
   "execution_count": null,
   "id": "f09e25f6",
   "metadata": {
    "ExecuteTime": {
     "end_time": "2022-07-24T16:13:35.276592Z",
     "start_time": "2022-07-24T16:13:35.276587Z"
    }
   },
   "outputs": [],
   "source": [
    "download_url = 'https://mast.stsci.edu/api/v0.1/Download/file?'\n",
    "\n",
    "for row in science_products:     \n",
    "\n",
    "    # Make file path\n",
    "    out_path = os.path.join(\"mastFiles\", row['obs_collection'], row['obs_id'])\n",
    "    if not os.path.exists(out_path):\n",
    "        os.makedirs(out_path)\n",
    "    out_path = os.path.join(out_path, os.path.basename(row['productFilename']))\n",
    "        \n",
    "    # Download the data\n",
    "    payload = {\"uri\":row['dataURI']}\n",
    "    resp = requests.get(download_url, params=payload)\n",
    "    \n",
    "    # Save to file\n",
    "    with open(out_path,'wb') as f:\n",
    "        f.write(resp.content)\n",
    "        \n",
    "    # Check for file \n",
    "    if not os.path.isfile(out_path):\n",
    "        print(\"ERROR: \" + out_path + \" failed to download.\")\n",
    "    else:\n",
    "        print(\"COMPLETE: \", out_path)"
   ]
  },
  {
   "cell_type": "markdown",
   "id": "e4f226be",
   "metadata": {},
   "source": [
    "We can check that these data files have been downloaded correctly by checking the directory that the `out_path`s are downloaded to."
   ]
  },
  {
   "cell_type": "code",
   "execution_count": null,
   "id": "20b1db1e",
   "metadata": {
    "ExecuteTime": {
     "end_time": "2022-07-24T16:13:35.277122Z",
     "start_time": "2022-07-24T16:13:35.277116Z"
    }
   },
   "outputs": [],
   "source": [
    "ls mastFiles/SPITZER_SHA/000001AF1000/"
   ]
  },
  {
   "cell_type": "markdown",
   "id": "137bb9e2",
   "metadata": {},
   "source": [
    "Great! We've successfully downloaded the data for this planet via MAST."
   ]
  },
  {
   "cell_type": "markdown",
   "id": "567619ad",
   "metadata": {},
   "source": [
    "# Exercises\n",
    "1. Use the MAST API to sort Swift data on WASP-12 b by PI and download it.\n",
    "2. Query a light curve.\n",
    "3. Repeat this for the exoplanet KELT-9 b."
   ]
  },
  {
   "cell_type": "markdown",
   "id": "d959c981",
   "metadata": {},
   "source": [
    "# Additional Resources\n",
    "- An [introduction to HTTP GET requests](https://www.ibm.com/docs/en/cics-ts/5.3?topic=protocol-http-requests).\n",
    "- Primers on exoplanet spectral data types ([Deming, Louie, and Sheets 2018](https://iopscience.iop.org/article/10.1088/1538-3873/aae5c5/meta?casa_token=253HfRr4kyYAAAAA:C0CtfuH4Um2l4Kul5O3tajY2TolSVuXi8fGj48bzSlmJIuvPmeYkb1yXtd10MOjwPqJokDpNvv4)) and on lightcurves ([Winn 2010](https://books.google.com/books?hl=en&lr=&id=VlSVmxgPgGYC&oi=fnd&pg=PA55&dq=exoplanet+transits&ots=-sl8U--Mws&sig=lvBd93ioa2YDxehtpxSx6nL82UA#v=onepage&q=exoplanet%20transits&f=false))\n",
    "- Information on the [TESS Mission](https://tess.mit.edu/).\n",
    "- A [neat blog post](https://nedbatchelder.com/blog/201206/eval_really_is_dangerous.html) on why `literal_eval` is preferred to `eval`.\n",
    "- [Prettyprint documentation](https://docs.python.org/3/library/pprint.html)\n",
    "\n",
    "- [Gaudi, B. Scott, et al. \"A giant planet undergoing extreme-ultraviolet irradiation by its hot massive-star host.\" Nature 546.7659 (2017): 514-518.](https://www.nature.com/articles/nature22392)\n",
    "- [Bakos, G. Á., et al. \"HAT-P-11b: A super-Neptune planet transiting a bright K star in the Kepler field.\" The Astrophysical Journal 710.2 (2010): 1724.](https://iopscience.iop.org/article/10.1088/0004-637X/710/2/1724/meta)\n",
    "- [exo.MAST tutorial](https://exo.mast.stsci.edu/docs/getting_started.html#resolving-exoplanets)\n",
    "- [astroquery.MAST documentation](https://astroquery.readthedocs.io/en/latest/mast/mast.html)\n",
    "- [MAST API documentation](https://mast.stsci.edu/api/v0/MastApiTutorial.html)"
   ]
  },
  {
   "cell_type": "markdown",
   "id": "648a761c",
   "metadata": {},
   "source": [
    "# About this Notebook\n",
    "\n",
    "**Author**: Arjun B. Savel (asavel@umd.edu).\n",
    "\n",
    "**Last updated**: 2022-06-25"
   ]
  },
  {
   "cell_type": "markdown",
   "id": "d488b624",
   "metadata": {},
   "source": [
    "# Citations\n",
    "If you use `astropy`, `astroquery`, or `numpy` for published research, please cite the\n",
    "authors. Follow these links for more information about citing `astropy`,\n",
    "`astroquery`, and `numpy`:\n",
    "\n",
    "* [Citing `astropy`](https://www.astropy.org/acknowledging.html)\n",
    "* [Citing `astroquery`](https://astroquery.readthedocs.io/en/latest/#astroquery)\n",
    "* [Citing `numpy`](https://numpy.org/citing-numpy/)\n"
   ]
  },
  {
   "cell_type": "markdown",
   "id": "fb40938b",
   "metadata": {},
   "source": [
    "***"
   ]
  },
  {
   "cell_type": "markdown",
   "id": "e5e823b5",
   "metadata": {},
   "source": [
    "[Top of Page](#top)<img style=\"float: right;\" src=\"https://raw.githubusercontent.com/spacetelescope/notebooks/master/assets/stsci_pri_combo_mark_horizonal_white_bkgd.png\" alt=\"Space Telescope Logo\" width=\"200px\"/>\n"
   ]
  }
 ],
 "metadata": {
  "kernelspec": {
   "display_name": "Python 3 (ipykernel)",
   "language": "python",
   "name": "python3"
  },
  "language_info": {
   "codemirror_mode": {
    "name": "ipython",
    "version": 3
   },
   "file_extension": ".py",
   "mimetype": "text/x-python",
   "name": "python",
   "nbconvert_exporter": "python",
   "pygments_lexer": "ipython3",
   "version": "3.10.5"
  }
 },
 "nbformat": 4,
 "nbformat_minor": 5
}
