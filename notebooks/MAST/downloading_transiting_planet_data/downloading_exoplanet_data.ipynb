{
 "cells": [
  {
   "cell_type": "markdown",
   "id": "03bf811f",
   "metadata": {},
   "source": [
    "<a id=\"top\"></a>"
   ]
  },
  {
   "cell_type": "markdown",
   "id": "1699b83f",
   "metadata": {},
   "source": [
    "# Downloading Exoplanet Data"
   ]
  },
  {
   "cell_type": "markdown",
   "id": "8e1ddab1",
   "metadata": {},
   "source": [
    "***"
   ]
  },
  {
   "cell_type": "markdown",
   "id": "0685d115",
   "metadata": {},
   "source": [
    "# Learning Goals\n",
    "\n",
    "By the end of this tutorial, you will:\n",
    "\n",
    "- Understand how MAST makes its exoplanet time-series data accessible.\n",
    "- Be able to download MAST-hosted data for specific exoplanets.\n",
    "- Become familiar with the MAST API and two of its services: exo.MAST and astroquery.mast\n",
    "- Sort MAST data product metadata by attributes (e.g., year, PI)."
   ]
  },
  {
   "cell_type": "markdown",
   "id": "323e64b2",
   "metadata": {},
   "source": [
    "# Introduction"
   ]
  },
  {
   "cell_type": "markdown",
   "id": "1595bf94",
   "metadata": {
    "ExecuteTime": {
     "end_time": "2022-07-24T16:37:24.619223Z",
     "start_time": "2022-07-24T16:37:24.613658Z"
    }
   },
   "source": [
    "A number of space-based missions — e.g., the Hubble Space Telescope ([HST](https://archive.stsci.edu/missions-and-data/hst)), the Transiting Exoplanet Survey Satellite ([TESS](https://archive.stsci.edu/missions-and-data/tess)), the Spitzer Space Telescope — have observed exoplanets and their host stars. MAST hosts the data products from these disparate sources, making it possible to aggregate heterogeneous data on a single target within a single interface. \n",
    "\n",
    "\n",
    "In this tutorial, we will cover how to explore, sort, and download MAST-hosted exoplanet data using a variety of methods. There are a number of different ways to access MAST's exoplanet data. The first is [exo.MAST](https://exo.mast.stsci.edu/), a \"one-stop-shop\" for MAST's exoplanet data. A second is [astroquery.MAST](https://astroquery.readthedocs.io/en/latest/mast/mast.html), a module within the [astroquery](https://astroquery.readthedocs.io/en/latest/) framework that can query all MAST data. A third is the [MAST API](https://mast.stsci.edu/api/v0/), which can be used to directly interface with MAST databases. We will walk through all of these methods in turn.\n",
    "\n",
    "\n",
    "The workflow for this notebook consists of:\n",
    "\n",
    "- [Querying exoplanet data by name with exo.MAST](#Querying-exoplanet-data-by-name-with-exo.MAST)\n",
    "    - [Searching the `identifiers` table of exo.MAST to find the canonical name](#Searching-the-`identifiers`-table-of-exo.MAST-to-find-the-canonical-name)\n",
    "    - [Searching exo.MAST for exoplanet data by name](#Searching-exo.MAST-for-exoplanet-data-by-name)\n",
    "- [Using astroquery.mast](#Using-astroquery.mast)\n",
    "- [Directly using the MAST API](#Directly-using-the-MAST-API)\n",
    "- [Acquire RA and Dec of target](#Acquire-RA-and-Dec-of-target)\n",
    "- [Perform data search around target RA and Dec](Perform-data-search-around-target-RA-and-Dec)"
   ]
  },
  {
   "cell_type": "markdown",
   "id": "90828ea4",
   "metadata": {},
   "source": [
    "# Imports \n",
    "- ast (Python builtin) to safely evaluate strings.\n",
    "- json (Python builtin) to load results from HTTP requests.\n",
    "- numpy to help aggregate our metadata.\n",
    "- os (Python builtin) to create directories for downloaded data and to manage paths.\n",
    "- pprint (Python builtin) to neatly print json outputs.\n",
    "- requests to make HTTPS requests to MAST servers.\n",
    "- sys (Python builtin) to read our machine's Python version.\n",
    "- urllib (Python builtin) to submit HTTP requests and interact with the exo.MAST API.\n",
    "- astroquery.mast to interact with MAST data products.\n",
    "- astropy to provide data structures that organize our metadata."
   ]
  },
  {
   "cell_type": "code",
   "execution_count": 1,
   "id": "d4ffc075",
   "metadata": {
    "ExecuteTime": {
     "end_time": "2022-09-02T04:51:29.403835Z",
     "start_time": "2022-09-02T04:51:28.813403Z"
    }
   },
   "outputs": [],
   "source": [
    "import ast\n",
    "import json\n",
    "import numpy as np\n",
    "import os\n",
    "import pprint\n",
    "import requests\n",
    "import sys\n",
    "import urllib.request\n",
    "from astroquery.mast import Observations\n",
    "\n",
    "from astropy.table import Table\n",
    "\n",
    "from urllib.parse import quote as urlencode"
   ]
  },
  {
   "cell_type": "markdown",
   "id": "aaaecaff",
   "metadata": {},
   "source": [
    "# Querying exoplanet data by name with exo.MAST\n",
    "\n",
    "[exo.MAST](https://exo.mast.stsci.edu/docs/) is a web service API that is optimized for querying exoplanet data. Our first approach to downloading MAST exoplanet data will use this API.\n",
    "\n",
    "This portion of the tutorial is inspired by the [exo.MAST documentation](https://exo.mast.stsci.edu/docs/getting_started.html)."
   ]
  },
  {
   "cell_type": "markdown",
   "id": "53709e5f",
   "metadata": {},
   "source": [
    "## Searching the `identifiers` table of exo.MAST to find the canonical name\n",
    "Data requests to exo.MAST require the \"canonical name\" of a planet. If we don't already know the canonical name of a planet, we can determine it using the `identifiers` table. This table is a flexible tool that can be used to cross-reference different names of exoplanets—a helpful feature, given that exoplanets often have multiple aliases across multiple caatlogs. The table is generally able to handle slight permutations to names, such as omitting spaces."
   ]
  },
  {
   "cell_type": "markdown",
   "id": "8e063733",
   "metadata": {},
   "source": [
    "We can query exo.MAST using a planet's name and the exoplanets/identifiers table."
   ]
  },
  {
   "cell_type": "code",
   "execution_count": 2,
   "id": "bec483ee",
   "metadata": {
    "ExecuteTime": {
     "end_time": "2022-09-02T04:51:29.406784Z",
     "start_time": "2022-09-02T04:51:29.405133Z"
    }
   },
   "outputs": [],
   "source": [
    "planet_name = 'TIC 86396382 b' # Hebb et al. 2009"
   ]
  },
  {
   "cell_type": "markdown",
   "id": "6c45e347",
   "metadata": {},
   "source": [
    "We need to safely encode the spaces in this URL for our exo.MAST request. This step is done by replacing all spaces in the name with the \"%20\" string."
   ]
  },
  {
   "cell_type": "code",
   "execution_count": 3,
   "id": "bf2eaa04",
   "metadata": {
    "ExecuteTime": {
     "end_time": "2022-09-02T04:51:29.409296Z",
     "start_time": "2022-09-02T04:51:29.407606Z"
    }
   },
   "outputs": [],
   "source": [
    "planet_name_formatted = planet_name.replace(' ', '%20')\n",
    "\n",
    "request_name_string = f'exoplanets/identifiers/?name={planet_name_formatted}'"
   ]
  },
  {
   "cell_type": "markdown",
   "id": "57ded6b6",
   "metadata": {},
   "source": [
    "Now, we append our ``request_name_string`` to the URL that points to the exo.MAST API, forming a complete request URL."
   ]
  },
  {
   "cell_type": "code",
   "execution_count": 4,
   "id": "3995a3db",
   "metadata": {
    "ExecuteTime": {
     "end_time": "2022-09-02T04:51:29.412891Z",
     "start_time": "2022-09-02T04:51:29.410867Z"
    }
   },
   "outputs": [
    {
     "name": "stdout",
     "output_type": "stream",
     "text": [
      "https://exo.mast.stsci.edu/api/v0.1/exoplanets/identifiers/?name=TIC%2086396382%20b\n"
     ]
    }
   ],
   "source": [
    "request_name_url = \"https://exo.mast.stsci.edu/api/v0.1/\" + request_name_string\n",
    "print(request_name_url)"
   ]
  },
  {
   "cell_type": "markdown",
   "id": "f5f4a7d2",
   "metadata": {},
   "source": [
    "With our URL assembled, we can now make the HTTPS request using the ``urllib`` package."
   ]
  },
  {
   "cell_type": "code",
   "execution_count": 39,
   "id": "044fe5b1",
   "metadata": {
    "ExecuteTime": {
     "end_time": "2022-09-02T04:56:13.222526Z",
     "start_time": "2022-09-02T04:56:12.913125Z"
    }
   },
   "outputs": [
    {
     "data": {
      "text/plain": [
       "b'{\"canonicalName\":\"WASP-12 b\",\"starName\":\"WASP-12\",\"ra\":97.6366416613261,\"dec\":29.672277777989713,\"planetNames\":[\"WASP-12 b\",\"TYC 1891-1178-1 b\",\"Gaia DR1 3435282862461427072 b\",\"2MASS J06303279+2940202 b\",\"2MASS J063032.79+294020.4 b\",\"UCAC2 42216354 b\",\"Bergfors-6 b\"],\"keplerID\":null,\"keplerTCE\":null,\"tessID\":86396382,\"tessTCE\":\"TCE_1\"}'"
      ]
     },
     "execution_count": 39,
     "metadata": {},
     "output_type": "execute_result"
    }
   ],
   "source": [
    "names = urllib.request.urlopen(request_name_url).read()\n",
    "names"
   ]
  },
  {
   "cell_type": "markdown",
   "id": "d1d65c4c",
   "metadata": {},
   "source": [
    "The ``b`` before the printed dictionary indicates that these data are currently represented as bytes. To represent the requested data as a string, we need to decode the bytes with the UTF-8 encoding."
   ]
  },
  {
   "cell_type": "code",
   "execution_count": 6,
   "id": "3468644a",
   "metadata": {
    "ExecuteTime": {
     "end_time": "2022-09-02T04:51:29.749073Z",
     "start_time": "2022-09-02T04:51:29.745213Z"
    }
   },
   "outputs": [],
   "source": [
    "dict_str = names.decode(\"UTF-8\")"
   ]
  },
  {
   "cell_type": "markdown",
   "id": "e6de1011",
   "metadata": {},
   "source": [
    "Now that we've converted the returned bytes into a string, we'd like to evaluate them to case them into a more useful data type: a ``dict``.\n",
    "\n",
    "However, we need to ensure that the evaluated string is Pythonic to evaluate it. Note that some keys — e.g., ``\"keplerID\"`` — have values of \"null.\" As a next step, we therefore replace all instances of \"null\" with \"None\", which will evaluate to a Python ``None``."
   ]
  },
  {
   "cell_type": "code",
   "execution_count": 7,
   "id": "28b93c38",
   "metadata": {
    "ExecuteTime": {
     "end_time": "2022-09-02T04:51:29.755230Z",
     "start_time": "2022-09-02T04:51:29.751400Z"
    }
   },
   "outputs": [
    {
     "data": {
      "text/plain": [
       "'{\"canonicalName\":\"WASP-12 b\",\"starName\":\"WASP-12\",\"ra\":97.6366416613261,\"dec\":29.672277777989713,\"planetNames\":[\"WASP-12 b\",\"TYC 1891-1178-1 b\",\"Gaia DR1 3435282862461427072 b\",\"2MASS J06303279+2940202 b\",\"2MASS J063032.79+294020.4 b\",\"UCAC2 42216354 b\",\"Bergfors-6 b\"],\"keplerID\":None,\"keplerTCE\":None,\"tessID\":86396382,\"tessTCE\":\"TCE_1\"}'"
      ]
     },
     "execution_count": 7,
     "metadata": {},
     "output_type": "execute_result"
    }
   ],
   "source": [
    "dict_str = dict_str.replace('null', 'None')\n",
    "dict_str"
   ]
  },
  {
   "cell_type": "markdown",
   "id": "f74b341a",
   "metadata": {},
   "source": [
    "At this point, we can evaluate the string to return a ``dict``. We will use the ``ast.literal_eval`` function to do so. Using ``ast.literal_eval`` instead of ``eval`` is in general better practice, as ``eval`` can accidentally be used to execute malicious code (e.g., see the blog post in the Resources section of this tutorial)."
   ]
  },
  {
   "cell_type": "code",
   "execution_count": 8,
   "id": "ae7c816b",
   "metadata": {
    "ExecuteTime": {
     "end_time": "2022-09-02T04:51:29.759785Z",
     "start_time": "2022-09-02T04:51:29.757510Z"
    }
   },
   "outputs": [],
   "source": [
    "name_matches = ast.literal_eval(dict_str)"
   ]
  },
  {
   "cell_type": "code",
   "execution_count": 9,
   "id": "7c8da336",
   "metadata": {
    "ExecuteTime": {
     "end_time": "2022-09-02T04:51:29.765458Z",
     "start_time": "2022-09-02T04:51:29.762043Z"
    }
   },
   "outputs": [
    {
     "data": {
      "text/plain": [
       "{'canonicalName': 'WASP-12 b',\n",
       " 'starName': 'WASP-12',\n",
       " 'ra': 97.6366416613261,\n",
       " 'dec': 29.672277777989713,\n",
       " 'planetNames': ['WASP-12 b',\n",
       "  'TYC 1891-1178-1 b',\n",
       "  'Gaia DR1 3435282862461427072 b',\n",
       "  '2MASS J06303279+2940202 b',\n",
       "  '2MASS J063032.79+294020.4 b',\n",
       "  'UCAC2 42216354 b',\n",
       "  'Bergfors-6 b'],\n",
       " 'keplerID': None,\n",
       " 'keplerTCE': None,\n",
       " 'tessID': 86396382,\n",
       " 'tessTCE': 'TCE_1'}"
      ]
     },
     "execution_count": 9,
     "metadata": {},
     "output_type": "execute_result"
    }
   ],
   "source": [
    "name_matches"
   ]
  },
  {
   "cell_type": "markdown",
   "id": "1a02127c",
   "metadata": {},
   "source": [
    "``name_matches`` is now a ``dict`` that contains our results. A few important fields:\n",
    "\n",
    "- ``ra`` and ``dec``: Right ascension and declination of the planet's host star.\n",
    "- `planetNames`: A ``list`` of names that are used for this planet in different catalogs."
   ]
  },
  {
   "cell_type": "markdown",
   "id": "0ec2194a",
   "metadata": {},
   "source": [
    "## Searching exo.MAST for exoplanet data by name\n",
    "With the names for this exoplanet known, we can query exo.MAST for a list of files that are available for it with the following steps:\n",
    "\n",
    "1. Format a request string\n",
    "2. Submit the HTTPS request\n",
    "3. Decode the request's result\n",
    "4. Replace any \"null\"s with \"None\"s\n",
    "5. Evaluate the string"
   ]
  },
  {
   "cell_type": "code",
   "execution_count": 10,
   "id": "716f314c",
   "metadata": {
    "ExecuteTime": {
     "end_time": "2022-09-02T04:51:30.170240Z",
     "start_time": "2022-09-02T04:51:29.769624Z"
    }
   },
   "outputs": [
    {
     "data": {
      "text/plain": [
       "{'filenames': ['WASP-12b_transmission_Kreidberg2015.txt',\n",
       "  'WASP-12b_transmission_Sing2016.txt']}"
      ]
     },
     "execution_count": 10,
     "metadata": {},
     "output_type": "execute_result"
    }
   ],
   "source": [
    "# use the canonical name\n",
    "planet_name = name_matches['canonicalName']\n",
    "\n",
    "# format the canonical name\n",
    "planet_name_formatted = planet_name.replace(' ', '%20')\n",
    "\n",
    "# construct request string\n",
    "request_spectra_string = f'spectra/{planet_name_formatted}/filelist/'\n",
    "request_spectra_url = \"https://exo.mast.stsci.edu/api/v0.1/\" + request_spectra_string\n",
    "\n",
    "# send the request\n",
    "spectra_result = urllib.request.urlopen(request_spectra_url).read()\n",
    "\n",
    "# decode the result and make it Pythonic\n",
    "dict_str = spectra_result.decode(\"UTF-8\")\n",
    "dict_str = dict_str.replace('null', 'None')\n",
    "\n",
    "# evaluate the result\n",
    "spectra = ast.literal_eval(dict_str)\n",
    "spectra"
   ]
  },
  {
   "cell_type": "markdown",
   "id": "38272104",
   "metadata": {},
   "source": [
    "``spectra`` is now a ``dict``. Its key ``filenames`` has a value that is a ``list`` of spectra associated with the submitted planet."
   ]
  },
  {
   "cell_type": "markdown",
   "id": "99320dc2",
   "metadata": {},
   "source": [
    "We now know the filenames corresponding to spectra for this planet. Next, we can download one of them, once again following the above steps. We'll hardcode the actual filename here so that the result of this notebook will stay the same if new data are acquired for this target in the future.\n",
    "\n",
    "For this request, note that the API requires that we query `spectra/{planet_name_formatted}/file/{filename}`. That is, we cannot just query the planet name itself."
   ]
  },
  {
   "cell_type": "code",
   "execution_count": 11,
   "id": "c14901d0",
   "metadata": {
    "ExecuteTime": {
     "end_time": "2022-09-02T04:51:30.552921Z",
     "start_time": "2022-09-02T04:51:30.178344Z"
    }
   },
   "outputs": [
    {
     "data": {
      "text/plain": [
       "'# WASP-12b transmission spectrum \\n# This file contains:\\n# WFC3 G102 - GO 13467 - Kreidberg, et al. 2015, ApJ\\n# WFC3 G141 - GO 13467 - Kreidberg, et al. 2015, ApJ\\n# Data history:\\n# Converted from: - Kreidberg, et al. 2015, ApJ\\n# ----------------------------------------------------------------------------------------\\n# Wavelength (microns)  Delta Wavelength (microns)  (Rp/Rs)^2   (Rp/Rs)^2 +/-uncertainty\\n# ----------------------------------------------------------------------------------------\\n         0.8670000    0.02900001   0.01444100   0.00006900  \\n         0.9250000    0.02899998   0.01442200   0.00005500  \\n         0.9830000    0.02899998   0.01440200   0.00005200  \\n         1.0410000    0.02900004   0.01442800   0.00005100  \\n         1.0995000    0.02949995   0.01439100   0.00005300  \\n         1.1470000    0.03500003   0.01438600   0.00004700  \\n         1.2165000    0.03450000   0.01436500   0.00004500  \\n         1.2855000    0.03450000   0.01432700   0.00004100  \\n         1.3545001    0.03450000   0.01458200   0.00004000  \\n         1.4235000    0.03449994   0.01460000   0.00004300  \\n         1.4924999    0.03450000   0.01453000   0.00004500  \\n         1.5620000    0.03500003   0.01447500   0.00005800  \\n         1.6315000    0.03450000   0.01433200   0.00005500  '"
      ]
     },
     "execution_count": 11,
     "metadata": {},
     "output_type": "execute_result"
    }
   ],
   "source": [
    "# construct request string\n",
    "filename = spectra['filenames']['WASP-12b_transmission_Kreidberg2015.txt']\n",
    "request_file_string = f'spectra/{planet_name_formatted}/file/{filename}'\n",
    "request_file_url = \"https://exo.mast.stsci.edu/api/v0.1/\" + request_file_string\n",
    "\n",
    "# send the request\n",
    "spectra_result = urllib.request.urlopen(request_file_url).read()\n",
    "\n",
    "# decode the result and make it Pythonic\n",
    "downloaded_file = spectra_result.decode(\"UTF-8\")\n",
    "downloaded_file"
   ]
  },
  {
   "cell_type": "markdown",
   "id": "fa3df429",
   "metadata": {},
   "source": [
    "This time, however, the decoded data cannot be evaluated as a ``dict``. Rather, it is a string of lines that are separated by the new line character ``\\n``. We can directly write this string to a file."
   ]
  },
  {
   "cell_type": "code",
   "execution_count": 12,
   "id": "aa81147f",
   "metadata": {
    "ExecuteTime": {
     "end_time": "2022-09-02T04:51:30.566345Z",
     "start_time": "2022-09-02T04:51:30.555968Z"
    }
   },
   "outputs": [],
   "source": [
    "with open(filename, 'w') as f:\n",
    "    f.write(downloaded_file)"
   ]
  },
  {
   "cell_type": "markdown",
   "id": "4458207a",
   "metadata": {},
   "source": [
    "Note, however, that not all MAST data products are accessible by this method. (why is this, exactly?)\n",
    "\n",
    "To download other data products, we turn to other methods."
   ]
  },
  {
   "cell_type": "markdown",
   "id": "a7ece539",
   "metadata": {},
   "source": [
    "# Using astroquery.mast\n",
    "\n",
    "For more MAST data products, we can make use of the ``astroquery.mast`` functionality. This approach requires an additional dependency (the [Astroquery](https://astroquery.readthedocs.io/en/latest/) package).\n",
    "\n",
    "This portion of the tutorial is inspired by the [astroquery.mast tutorial](https://astroquery.readthedocs.io/en/latest/mast/mast.html)."
   ]
  },
  {
   "cell_type": "markdown",
   "id": "4756f454",
   "metadata": {},
   "source": [
    "First, let's search for all MAST data products for a single exoplanet."
   ]
  },
  {
   "cell_type": "code",
   "execution_count": 13,
   "id": "12ea2d7d",
   "metadata": {
    "ExecuteTime": {
     "end_time": "2022-09-02T04:51:51.921890Z",
     "start_time": "2022-09-02T04:51:30.568867Z"
    }
   },
   "outputs": [
    {
     "name": "stdout",
     "output_type": "stream",
     "text": [
      "intentType obs_collection provenance_name instrument_name project filters ... dataRights mtFlag srcDen  obsid   distance\n",
      "---------- -------------- --------------- --------------- ------- ------- ... ---------- ------ ------ -------- --------\n",
      "   science           TESS            SPOC      Photometer    TESS    TESS ...     PUBLIC  False    nan 27266912      0.0\n",
      "   science           TESS            SPOC      Photometer    TESS    TESS ...     PUBLIC  False    nan 65432622      0.0\n",
      "   science           TESS            SPOC      Photometer    TESS    TESS ...     PUBLIC  False    nan 68942182      0.0\n",
      "   science           TESS            SPOC      Photometer    TESS    TESS ...     PUBLIC  False    nan 71308547      0.0\n",
      "   science           TESS            SPOC      Photometer    TESS    TESS ...     PUBLIC  False    nan 71741843      0.0\n",
      "   science           TESS            SPOC      Photometer    TESS    TESS ...     PUBLIC  False    nan 27242856      0.0\n",
      "   science           TESS            SPOC      Photometer    TESS    TESS ...     PUBLIC  False    nan 71741845      0.0\n",
      "   science           TESS            SPOC      Photometer    TESS    TESS ...     PUBLIC  False    nan 65361378      0.0\n",
      "   science           TESS            SPOC      Photometer    TESS    TESS ...     PUBLIC  False    nan 68725979      0.0\n",
      "   science           TESS            SPOC      Photometer    TESS    TESS ...     PUBLIC  False    nan 71236476      0.0\n"
     ]
    }
   ],
   "source": [
    "search_radius = \".02 deg\"\n",
    "\n",
    "planet_name = 'WASP-12 b'\n",
    "obs_table = Observations.query_object(planet_name,radius=search_radius)\n",
    "\n",
    "# only print the first 10 results for clarity\n",
    "print(obs_table[:10])  "
   ]
  },
  {
   "cell_type": "code",
   "execution_count": 14,
   "id": "641df19c",
   "metadata": {
    "ExecuteTime": {
     "end_time": "2022-09-02T04:51:51.924841Z",
     "start_time": "2022-09-02T04:51:51.922698Z"
    }
   },
   "outputs": [
    {
     "data": {
      "text/plain": [
       "<TableColumns names=('intentType','obs_collection','provenance_name','instrument_name','project','filters','wavelength_region','target_name','target_classification','obs_id','s_ra','s_dec','dataproduct_type','proposal_pi','calib_level','t_min','t_max','t_exptime','em_min','em_max','obs_title','t_obs_release','proposal_id','proposal_type','sequence_number','s_region','jpegURL','dataURL','dataRights','mtFlag','srcDen','obsid','distance')>"
      ]
     },
     "execution_count": 14,
     "metadata": {},
     "output_type": "execute_result"
    }
   ],
   "source": [
    "obs_table.columns"
   ]
  },
  {
   "cell_type": "markdown",
   "id": "2b608022",
   "metadata": {},
   "source": [
    "Let's sort these observations by the proposing PI (principal investigator) and filter out extraneous columns."
   ]
  },
  {
   "cell_type": "code",
   "execution_count": 15,
   "id": "60e836fa",
   "metadata": {
    "ExecuteTime": {
     "end_time": "2022-09-02T04:51:52.147404Z",
     "start_time": "2022-09-02T04:51:51.925723Z"
    }
   },
   "outputs": [],
   "source": [
    "obs_table.sort('proposal_pi')"
   ]
  },
  {
   "cell_type": "code",
   "execution_count": 16,
   "id": "835880f2",
   "metadata": {
    "ExecuteTime": {
     "end_time": "2022-09-02T04:51:52.152102Z",
     "start_time": "2022-09-02T04:51:52.148319Z"
    }
   },
   "outputs": [
    {
     "name": "stdout",
     "output_type": "stream",
     "text": [
      "  proposal_pi   provenance_name dataproduct_type\n",
      "--------------- --------------- ----------------\n",
      "           Bean             HLA            image\n",
      "           Bean             HLA            image\n",
      "           Bean             HLA            image\n",
      "           Bean             HLA            image\n",
      "           Bean             HLA            image\n",
      "           Bean             HLA            image\n",
      "           Bean             HLA            image\n",
      "           Bean             HLA            image\n",
      "           Bean             HLA            image\n",
      "           Bean             HLA            image\n",
      "           Bean             HLA            image\n",
      "           Bean             HLA            image\n",
      "           Bean             HLA            image\n",
      "           Bean             HLA            image\n",
      "           Bean             HLA            image\n",
      "           Bean             HLA            image\n",
      "           Bean             HLA            image\n",
      "           Bean             HLA            image\n",
      "           Bean             HLA            image\n",
      "           Bean             HLA            image\n",
      "           Bean             HLA            image\n",
      "           Bean             HLA            image\n",
      "           Bean             HLA            image\n",
      "            ...             ...              ...\n",
      "Wheatley, Peter    SSC Pipeline            image\n",
      "Wheatley, Peter    SSC Pipeline            image\n",
      "Wheatley, Peter    SSC Pipeline            image\n",
      "Wheatley, Peter    SSC Pipeline            image\n",
      "Wheatley, Peter    SSC Pipeline            image\n",
      "Wheatley, Peter    SSC Pipeline            image\n",
      "Wheatley, Peter    SSC Pipeline            image\n",
      "Wheatley, Peter    SSC Pipeline            image\n",
      "Wheatley, Peter    SSC Pipeline            image\n",
      "Wheatley, Peter    SSC Pipeline            image\n",
      "Wheatley, Peter    SSC Pipeline            image\n",
      "Wheatley, Peter    SSC Pipeline            image\n",
      "Wheatley, Peter    SSC Pipeline            image\n",
      "Wheatley, Peter    SSC Pipeline            image\n",
      "Wheatley, Peter    SSC Pipeline            image\n",
      "Wheatley, Peter    SSC Pipeline            image\n",
      "Wheatley, Peter    SSC Pipeline            image\n",
      "Wheatley, Peter    SSC Pipeline            image\n",
      "Wheatley, Peter    SSC Pipeline            image\n",
      "Wheatley, Peter    SSC Pipeline            image\n",
      "Wheatley, Peter    SSC Pipeline            image\n",
      "Wheatley, Peter    SSC Pipeline            image\n",
      "Wheatley, Peter    SSC Pipeline            image\n",
      "Length = 24821 rows\n"
     ]
    }
   ],
   "source": [
    "print(obs_table[['proposal_pi', 'provenance_name', 'dataproduct_type']])"
   ]
  },
  {
   "cell_type": "markdown",
   "id": "606d5001",
   "metadata": {},
   "source": [
    "If we're interested in a specific instrument, we can next see which instruments were used to observe this target."
   ]
  },
  {
   "cell_type": "code",
   "execution_count": 17,
   "id": "80c868b3",
   "metadata": {
    "ExecuteTime": {
     "end_time": "2022-09-02T04:51:52.161574Z",
     "start_time": "2022-09-02T04:51:52.152765Z"
    }
   },
   "outputs": [
    {
     "name": "stdout",
     "output_type": "stream",
     "text": [
      "provenance_name\n",
      "---------------\n",
      "            3PI\n",
      "         CALCOS\n",
      "        CALSTIS\n",
      "         CALWF3\n",
      "          CDIPS\n",
      "            HAP\n",
      "        HAP-MVM\n",
      "            HLA\n",
      "             --\n",
      "            QLP\n",
      "           SPOC\n",
      "   SSC Pipeline\n",
      "      TESS-SPOC\n"
     ]
    }
   ],
   "source": [
    "print(np.unique(obs_table['provenance_name']))"
   ]
  },
  {
   "cell_type": "markdown",
   "id": "6ebd1027",
   "metadata": {},
   "source": [
    "Great! In just a few lines, we've collected the metadata for many observations of this target into an Astropy ``Table``. Next, let's see what data products are available for the most recent Quick Look Pipeline ([QLP](https://tess.mit.edu/qlp/)) data. The QLP is a pipeline from the TESS Science Office that processes TESS full-frame images to search for transiting exoplanets. Because we'll sort these data by time, the most recent data is the last entry, which we can access with the ``-1`` index."
   ]
  },
  {
   "cell_type": "code",
   "execution_count": 18,
   "id": "aa0afd0d",
   "metadata": {
    "ExecuteTime": {
     "end_time": "2022-09-02T04:51:52.342710Z",
     "start_time": "2022-09-02T04:51:52.162509Z"
    }
   },
   "outputs": [
    {
     "name": "stdout",
     "output_type": "stream",
     "text": [
      " obsID   obs_collection dataproduct_type                         obs_id                        description ...  size parent_obsid dataRights calib_level\n",
      "-------- -------------- ---------------- ----------------------------------------------------- ----------- ... ----- ------------ ---------- -----------\n",
      "36811427           HLSP       timeseries hlsp_qlp_tess_ffi_s0020-0000000086396382_tess_v01_llc        FITS ... 77760     36811427     PUBLIC           4\n",
      "36811427           HLSP       timeseries hlsp_qlp_tess_ffi_s0020-0000000086396382_tess_v01_llc        Text ... 48016     36811427     PUBLIC           4\n"
     ]
    }
   ],
   "source": [
    "obs_table_qlp = obs_table[obs_table['provenance_name']=='QLP']\n",
    "obs_table_qlp.sort('t_min')\n",
    "\n",
    "recent_index = -1\n",
    "data_products_by_obs = Observations.get_product_list(obs_table_qlp[recent_index])\n",
    "print(data_products_by_obs) "
   ]
  },
  {
   "cell_type": "markdown",
   "id": "cc529f51",
   "metadata": {},
   "source": [
    "There are two timeseries data products. Let's download the first one. "
   ]
  },
  {
   "cell_type": "code",
   "execution_count": 19,
   "id": "ea562e82",
   "metadata": {
    "ExecuteTime": {
     "end_time": "2022-09-02T04:51:52.349446Z",
     "start_time": "2022-09-02T04:51:52.344940Z"
    }
   },
   "outputs": [
    {
     "data": {
      "text/plain": [
       "<TableColumns names=('obsID','obs_collection','dataproduct_type','obs_id','description','type','dataURI','productType','productGroupDescription','productSubGroupDescription','productDocumentationURL','project','prvversion','proposal_id','productFilename','size','parent_obsid','dataRights','calib_level')>"
      ]
     },
     "execution_count": 19,
     "metadata": {},
     "output_type": "execute_result"
    }
   ],
   "source": [
    "data_products_by_obs.columns"
   ]
  },
  {
   "cell_type": "code",
   "execution_count": 20,
   "id": "a16ead13",
   "metadata": {
    "ExecuteTime": {
     "end_time": "2022-09-02T04:51:53.291311Z",
     "start_time": "2022-09-02T04:51:52.350943Z"
    }
   },
   "outputs": [
    {
     "name": "stdout",
     "output_type": "stream",
     "text": [
      "INFO: Found cached file ./mastDownload/HLSP/hlsp_qlp_tess_ffi_s0020-0000000086396382_tess_v01_llc/hlsp_qlp_tess_ffi_s0020-0000000086396382_tess_v01_llc.fits with expected size 77760. [astroquery.query]\n",
      "INFO: Found cached file ./mastDownload/HLSP/hlsp_qlp_tess_ffi_s0020-0000000086396382_tess_v01_llc/hlsp_qlp_tess_ffi_s0020-0000000086396382_tess_v01_llc.txt with expected size 48016. [astroquery.query]\n"
     ]
    }
   ],
   "source": [
    "# select first observation collection\n",
    "obs_collection = data_products_by_obs['obs_collection'][0]\n",
    "obs_id = data_products_by_obs['obs_id'][0]\n",
    "\n",
    "# query and get product list for this collection\n",
    "single_obs = Observations.query_criteria(obs_collection=obs_collection, obs_id=obs_id)\n",
    "data_products = Observations.get_product_list(single_obs)\n",
    "\n",
    "# download data products\n",
    "manifest = Observations.download_products(data_products, productType=\"SCIENCE\")"
   ]
  },
  {
   "cell_type": "markdown",
   "id": "3c5cfdcf",
   "metadata": {},
   "source": [
    "Let's take a closer look at the list of downloaded files, known as the \"manifest.\""
   ]
  },
  {
   "cell_type": "code",
   "execution_count": 21,
   "id": "efeb174b",
   "metadata": {
    "ExecuteTime": {
     "end_time": "2022-09-02T04:51:53.304992Z",
     "start_time": "2022-09-02T04:51:53.298783Z"
    }
   },
   "outputs": [
    {
     "name": "stdout",
     "output_type": "stream",
     "text": [
      "                                                             Local Path                                                               Status  Message URL \n",
      "------------------------------------------------------------------------------------------------------------------------------------ -------- ------- ----\n",
      "./mastDownload/HLSP/hlsp_qlp_tess_ffi_s0020-0000000086396382_tess_v01_llc/hlsp_qlp_tess_ffi_s0020-0000000086396382_tess_v01_llc.fits COMPLETE    None None\n",
      " ./mastDownload/HLSP/hlsp_qlp_tess_ffi_s0020-0000000086396382_tess_v01_llc/hlsp_qlp_tess_ffi_s0020-0000000086396382_tess_v01_llc.txt COMPLETE    None None\n"
     ]
    }
   ],
   "source": [
    "print(manifest)"
   ]
  },
  {
   "cell_type": "markdown",
   "id": "6b877f17",
   "metadata": {},
   "source": [
    "We've now successfully downloaded MAST data using the ``astroquery.mast`` API."
   ]
  },
  {
   "cell_type": "markdown",
   "id": "6e5337b0",
   "metadata": {},
   "source": [
    "# Directly using the MAST API\n",
    "This final approach is a bit more hands-on and requires more code, but it allows for the most flexibility. Additionally, it provides the most insight into what's going on \"under the hood\" with MAST data requests. This approach requires the [Astropy](https://www.astropy.org/) and [NumPy](https://numpy.org/) dependencies.\n",
    "\n",
    "This portion of the tutorial is inspired by the general [MAST API tutorial](https://mast.stsci.edu/api/v0/MastApiTutorial.html)."
   ]
  },
  {
   "cell_type": "markdown",
   "id": "e6206e09",
   "metadata": {},
   "source": [
    "## Acquire RA and Dec of target\n",
    "With the MAST API, we'll need the sky coordinates of our target. Our first step is to therefore find the right ascension and declintation of our target."
   ]
  },
  {
   "cell_type": "markdown",
   "id": "23525c39",
   "metadata": {},
   "source": [
    "We'll start off by initializing [``pprint``](https://docs.python.org/3/library/pprint.html). This module prints arbitrary python data in a more readable way. Without it, json data in particular can appear compact and difficult to read."
   ]
  },
  {
   "cell_type": "code",
   "execution_count": 22,
   "id": "d230c0d4",
   "metadata": {
    "ExecuteTime": {
     "end_time": "2022-09-02T04:51:53.311480Z",
     "start_time": "2022-09-02T04:51:53.307570Z"
    }
   },
   "outputs": [],
   "source": [
    "pp = pprint.PrettyPrinter(indent=4)"
   ]
  },
  {
   "cell_type": "markdown",
   "id": "57775c38",
   "metadata": {},
   "source": [
    "Sticking with our previous example, let's look at the planet WASP-12 b. First, we need to format our request to the MAST resolver — the service that matches requests to MAST data."
   ]
  },
  {
   "cell_type": "code",
   "execution_count": 23,
   "id": "159da2a8",
   "metadata": {
    "ExecuteTime": {
     "end_time": "2022-09-02T04:51:53.317172Z",
     "start_time": "2022-09-02T04:51:53.313495Z"
    }
   },
   "outputs": [],
   "source": [
    "object_of_interest = 'WASP-12 b'\n",
    "\n",
    "resolver_request = {'service':'Mast.Name.Lookup',\n",
    "                     'params':{'input':object_of_interest,\n",
    "                               'format':'json'},\n",
    "                     }\n",
    "\n",
    "# encoding the request as a json string\n",
    "req_string = json.dumps(resolver_request)\n",
    "req_string = urlencode(req_string)"
   ]
  },
  {
   "cell_type": "markdown",
   "id": "23a0043c",
   "metadata": {},
   "source": [
    "Next, we set the header variables needed to make the request."
   ]
  },
  {
   "cell_type": "code",
   "execution_count": 24,
   "id": "8ac96514",
   "metadata": {
    "ExecuteTime": {
     "end_time": "2022-09-02T04:51:53.322119Z",
     "start_time": "2022-09-02T04:51:53.319188Z"
    }
   },
   "outputs": [],
   "source": [
    "# retrieve our system's Python version for the request. \n",
    "version = \".\".join(map(str, sys.version_info[:3]))\n",
    "\n",
    "# create HTTP Header Variables\n",
    "headers = {\"Content-type\": \"application/x-www-form-urlencoded\",\n",
    "           \"Accept\": \"text/plain\",\n",
    "           \"User-agent\":\"python-requests/\"+version}\n"
   ]
  },
  {
   "cell_type": "markdown",
   "id": "36fa0238",
   "metadata": {},
   "source": [
    "Now, we construct our request URL and perform our HTTP request with the ``requests`` package."
   ]
  },
  {
   "cell_type": "code",
   "execution_count": 25,
   "id": "ea354c1e",
   "metadata": {
    "ExecuteTime": {
     "end_time": "2022-09-02T04:51:53.731946Z",
     "start_time": "2022-09-02T04:51:53.324261Z"
    }
   },
   "outputs": [],
   "source": [
    "# base API url\n",
    "request_url='https://mast.stsci.edu/api/v0/invoke'    \n",
    "\n",
    "# perform the HTTP request\n",
    "resp = requests.post(request_url, data=\"request=\"+req_string, headers=headers)"
   ]
  },
  {
   "cell_type": "markdown",
   "id": "20774429",
   "metadata": {},
   "source": [
    "The response must be decoded into a string, as in the previous examples."
   ]
  },
  {
   "cell_type": "code",
   "execution_count": 26,
   "id": "6c76c03e",
   "metadata": {
    "ExecuteTime": {
     "end_time": "2022-09-02T04:51:53.738620Z",
     "start_time": "2022-09-02T04:51:53.733818Z"
    }
   },
   "outputs": [
    {
     "name": "stdout",
     "output_type": "stream",
     "text": [
      "{   'resolvedCoordinate': [   {   'cached': False,\n",
      "                                  'canonicalName': 'WASP-12 b',\n",
      "                                  'decl': 29.672277777989713,\n",
      "                                  'ra': 97.6366416613261,\n",
      "                                  'resolver': 'EXO',\n",
      "                                  'resolverTime': 34,\n",
      "                                  'searchRadius': 0.000333,\n",
      "                                  'searchString': 'wasp-12 b'}],\n",
      "    'status': ''}\n"
     ]
    }
   ],
   "source": [
    "resolved_object = resp.json()\n",
    "\n",
    "pp.pprint(resolved_object)"
   ]
  },
  {
   "cell_type": "markdown",
   "id": "1a8e0924",
   "metadata": {},
   "source": [
    "Parsing apart some of the output:\n",
    "- the *cached* field denotes whether this result has already been saved on this device.\n",
    "- the *canonicalName* field denotes the default name of the planet.\n",
    "- the *decl* (float) field denotes the declination of the resolved coordinate.\n",
    "- the *ra* (float) field denotes the right ascention of the resolved coordinate.\n",
    "- the *searchRadius* field denotes the raidius of the search.\n",
    "\n",
    "See the [documentation](https://mast.stsci.edu/api/v0/) for further information."
   ]
  },
  {
   "cell_type": "markdown",
   "id": "d5477ac0",
   "metadata": {},
   "source": [
    "Now that we've resolved our target, let's save its coordinates as (float) variables — we'll need them later on."
   ]
  },
  {
   "cell_type": "code",
   "execution_count": 27,
   "id": "71d77ac8",
   "metadata": {
    "ExecuteTime": {
     "end_time": "2022-09-02T04:51:53.746180Z",
     "start_time": "2022-09-02T04:51:53.741017Z"
    }
   },
   "outputs": [
    {
     "data": {
      "text/plain": [
       "(97.6366416613261, 29.672277777989713)"
      ]
     },
     "execution_count": 27,
     "metadata": {},
     "output_type": "execute_result"
    }
   ],
   "source": [
    "obj_ra = resolved_object['resolvedCoordinate'][0]['ra']\n",
    "obj_dec = resolved_object['resolvedCoordinate'][0]['decl']\n",
    "\n",
    "obj_ra, obj_dec"
   ]
  },
  {
   "cell_type": "markdown",
   "id": "7718d11e",
   "metadata": {},
   "source": [
    "## Perform data search around target RA and Dec"
   ]
  },
  {
   "cell_type": "markdown",
   "id": "7828e71f",
   "metadata": {},
   "source": [
    "With the coordinates of the object now known, we can run a [Mast.Caom.Cone](https://mast.stsci.edu/api/v0/pyex.html#MastCaomConePy) query to retrieve metadata on all MAST data around this coordinate.\n",
    "\n",
    "As `params`, we'll pass the object's position (in right ascension and declination) and the desired rearch radius in degrees.\n",
    "\n",
    "Together, the `page` and `pagesize` parameters control how many results are returned. A user can either set a `pagesize` that is large enough to return all results in a single page, or a user can set a smaller `pagesize` and step through results in successive requests by requesting different `page` values."
   ]
  },
  {
   "cell_type": "code",
   "execution_count": 28,
   "id": "3d9ea1ef",
   "metadata": {
    "ExecuteTime": {
     "end_time": "2022-09-02T04:52:11.896663Z",
     "start_time": "2022-09-02T04:51:53.755046Z"
    }
   },
   "outputs": [
    {
     "name": "stdout",
     "output_type": "stream",
     "text": [
      "dict_keys(['status', 'msg', 'data', 'fields', 'paging'])\n",
      "Query status: COMPLETE\n"
     ]
    }
   ],
   "source": [
    "mast_request = {'service':'Mast.Caom.Cone',\n",
    "                'params':{'ra':obj_ra,\n",
    "                          'dec':obj_dec,\n",
    "                          'radius':0.2},\n",
    "                'format':'json',\n",
    "                'pagesize':2000,\n",
    "                'page':1,\n",
    "                'removenullcolumns':True,\n",
    "                'removecache':True}\n",
    "\n",
    "\n",
    "# encoding the request as a json string\n",
    "req_string = json.dumps(mast_request)\n",
    "req_string = urlencode(req_string)\n",
    "\n",
    "# perform the HTTP request\n",
    "resp = requests.post(request_url, data=\"request=\"+req_string, headers=headers)\n",
    "\n",
    "# decode the HTTP result\n",
    "mast_data = resp.json()\n",
    "\n",
    "\n",
    "print(mast_data.keys())\n",
    "print(\"Query status:\",mast_data['status'])"
   ]
  },
  {
   "cell_type": "markdown",
   "id": "40db47d2",
   "metadata": {},
   "source": [
    "Let's take a look at the first returned data entry."
   ]
  },
  {
   "cell_type": "code",
   "execution_count": 29,
   "id": "f24af07d",
   "metadata": {
    "ExecuteTime": {
     "end_time": "2022-09-02T04:52:11.900899Z",
     "start_time": "2022-09-02T04:52:11.897872Z"
    }
   },
   "outputs": [
    {
     "name": "stdout",
     "output_type": "stream",
     "text": [
      "{   '_selected_': None,\n",
      "    'calib_level': 3,\n",
      "    'dataRights': 'PUBLIC',\n",
      "    'dataURL': None,\n",
      "    'dataproduct_type': 'image',\n",
      "    'distance': 0,\n",
      "    'em_max': 1000,\n",
      "    'em_min': 600,\n",
      "    'filters': 'TESS',\n",
      "    'instrument_name': 'Photometer',\n",
      "    'intentType': 'science',\n",
      "    'jpegURL': None,\n",
      "    'mtFlag': False,\n",
      "    'obs_collection': 'TESS',\n",
      "    'obs_id': 'tess-s0020-1-3',\n",
      "    'obs_title': None,\n",
      "    'obsid': 27266912,\n",
      "    'project': 'TESS',\n",
      "    'proposal_id': 'N/A',\n",
      "    'proposal_pi': 'Ricker, George',\n",
      "    'proposal_type': None,\n",
      "    'provenance_name': 'SPOC',\n",
      "    's_dec': 34.91458576307677,\n",
      "    's_ra': 101.64458792443914,\n",
      "    's_region': 'POLYGON 94.61647600 29.34512900 93.87837900 40.81682500 '\n",
      "                '109.96143000 40.20664100 108.07068800 28.39783100 94.61647600 '\n",
      "                '29.34512900 ',\n",
      "    'sequence_number': 20,\n",
      "    'srcDen': None,\n",
      "    't_exptime': 1425.599406,\n",
      "    't_max': 58868.3173308,\n",
      "    't_min': 58842.00512903,\n",
      "    't_obs_release': 58893,\n",
      "    'target_classification': None,\n",
      "    'target_name': 'TESS FFI',\n",
      "    'wavelength_region': 'Optical'}\n"
     ]
    }
   ],
   "source": [
    "pp.pprint(mast_data['data'][0])"
   ]
  },
  {
   "cell_type": "markdown",
   "id": "d409c802",
   "metadata": {},
   "source": [
    "There's a lot of metadata here, and it's a bit hard to understand all at once. To make things a bit more digestible, we can create an Astropy ``Table``.\n",
    "\n",
    "To do so, we need to loop through each ``field`` in ``mast_data``. These ``field``s will become the columns of our ``Table``. The ``field``s also have associated data types that are contained in ``mast_data``; however, we'll need to convert the names of these data types into Pythonic data types. For example, the data type for the field ``indentType`` is ``'string'``, but the corresponding Python data type is ``str``, so we'll need to take this into account when creating the ``Table``."
   ]
  },
  {
   "cell_type": "code",
   "execution_count": 30,
   "id": "0e85efe4",
   "metadata": {
    "ExecuteTime": {
     "end_time": "2022-09-02T04:52:11.925393Z",
     "start_time": "2022-09-02T04:52:11.902475Z"
    }
   },
   "outputs": [
    {
     "name": "stdout",
     "output_type": "stream",
     "text": [
      "intentType obs_collection provenance_name instrument_name project filters wavelength_region ... dataRights mtFlag srcDen  obsid       distance     _selected_\n",
      "---------- -------------- --------------- --------------- ------- ------- ----------------- ... ---------- ------ ------ -------- ---------------- ----------\n",
      "   science           TESS            SPOC      Photometer    TESS    TESS           Optical ...     PUBLIC  False    nan 27266912              0.0      False\n",
      "   science           TESS            SPOC      Photometer    TESS    TESS           Optical ...     PUBLIC  False    nan 65432622              0.0      False\n",
      "   science           TESS            SPOC      Photometer    TESS    TESS           Optical ...     PUBLIC  False    nan 68942182              0.0      False\n",
      "   science           TESS            SPOC      Photometer    TESS    TESS           Optical ...     PUBLIC  False    nan 71308547              0.0      False\n",
      "   science           TESS            SPOC      Photometer    TESS    TESS           Optical ...     PUBLIC  False    nan 71741843              0.0      False\n",
      "   science           TESS            SPOC      Photometer    TESS    TESS           Optical ...     PUBLIC  False    nan 27242856              0.0      False\n",
      "   science           TESS            SPOC      Photometer    TESS    TESS           Optical ...     PUBLIC  False    nan 71741845              0.0      False\n",
      "   science           TESS            SPOC      Photometer    TESS    TESS           Optical ...     PUBLIC  False    nan 65361378              0.0      False\n",
      "   science           TESS            SPOC      Photometer    TESS    TESS           Optical ...     PUBLIC  False    nan 68725979              0.0      False\n",
      "   science           TESS            SPOC      Photometer    TESS    TESS           Optical ...     PUBLIC  False    nan 71236476              0.0      False\n",
      "   science           TESS            SPOC      Photometer    TESS    TESS           Optical ...     PUBLIC  False    nan 65361380 581.781066069102      False\n",
      "   science           TESS            SPOC      Photometer    TESS    TESS           Optical ...     PUBLIC  False    nan 68725981 581.781066069102      False\n",
      "   science           TESS            SPOC      Photometer    TESS    TESS           Optical ...     PUBLIC  False    nan 71236478 581.781066069102      False\n",
      "   science          SWIFT            None            UVOT    None    UVM2                UV ...     PUBLIC  False 5885.0  1468834              0.0      False\n",
      "   science          SWIFT            None            UVOT    None    UVM2                UV ...     PUBLIC  False 5885.0  1522757              0.0      False\n",
      "   science          SWIFT            None            UVOT    None    UVM2                UV ...     PUBLIC  False 5885.0  1522758              0.0      False\n",
      "   science          SWIFT            None            UVOT    None    UVM2                UV ...     PUBLIC  False 5885.0  1392183              0.0      False\n",
      "   science          SWIFT            None            UVOT    None    UVM2                UV ...     PUBLIC  False 5885.0  1513232              0.0      False\n",
      "   science    SPITZER_SHA    SSC Pipeline            IRAC    None   IRAC2          Infrared ...     PUBLIC  False    nan  1696175              0.0      False\n",
      "   science    SPITZER_SHA    SSC Pipeline            IRAC    None   IRAC3          Infrared ...     PUBLIC  False    nan  1696175              0.0      False\n",
      "   science    SPITZER_SHA    SSC Pipeline            IRAC    None   IRAC1          Infrared ...     PUBLIC  False    nan  1696175              0.0      False\n",
      "   science    SPITZER_SHA    SSC Pipeline            IRAC    None   IRAC4          Infrared ...     PUBLIC  False    nan  1696175              0.0      False\n",
      "   science    SPITZER_SHA    SSC Pipeline            IRAC    None   IRAC2          Infrared ...     PUBLIC  False    nan  1681695              0.0      False\n",
      "       ...            ...             ...             ...     ...     ...               ... ...        ...    ...    ...      ...              ...        ...\n",
      "   science    SPITZER_SHA    SSC Pipeline            IRAC    None   IRAC4          Infrared ...     PUBLIC  False    nan  1692417              0.0      False\n",
      "   science    SPITZER_SHA    SSC Pipeline            IRAC    None   IRAC4          Infrared ...     PUBLIC  False    nan  1692417              0.0      False\n",
      "   science    SPITZER_SHA    SSC Pipeline            IRAC    None   IRAC4          Infrared ...     PUBLIC  False    nan  1692417              0.0      False\n",
      "   science    SPITZER_SHA    SSC Pipeline            IRAC    None   IRAC2          Infrared ...     PUBLIC  False    nan  1692417              0.0      False\n",
      "   science    SPITZER_SHA    SSC Pipeline            IRAC    None   IRAC2          Infrared ...     PUBLIC  False    nan  1692417              0.0      False\n",
      "   science    SPITZER_SHA    SSC Pipeline            IRAC    None   IRAC4          Infrared ...     PUBLIC  False    nan  1692417              0.0      False\n",
      "   science    SPITZER_SHA    SSC Pipeline            IRAC    None   IRAC2          Infrared ...     PUBLIC  False    nan  1692417              0.0      False\n",
      "   science    SPITZER_SHA    SSC Pipeline            IRAC    None   IRAC4          Infrared ...     PUBLIC  False    nan  1692417              0.0      False\n",
      "   science    SPITZER_SHA    SSC Pipeline            IRAC    None   IRAC4          Infrared ...     PUBLIC  False    nan  1692417              0.0      False\n",
      "   science    SPITZER_SHA    SSC Pipeline            IRAC    None   IRAC4          Infrared ...     PUBLIC  False    nan  1692417              0.0      False\n",
      "   science    SPITZER_SHA    SSC Pipeline            IRAC    None   IRAC4          Infrared ...     PUBLIC  False    nan  1692417              0.0      False\n",
      "   science    SPITZER_SHA    SSC Pipeline            IRAC    None   IRAC4          Infrared ...     PUBLIC  False    nan  1692417              0.0      False\n",
      "   science    SPITZER_SHA    SSC Pipeline            IRAC    None   IRAC2          Infrared ...     PUBLIC  False    nan  1692417              0.0      False\n",
      "   science    SPITZER_SHA    SSC Pipeline            IRAC    None   IRAC4          Infrared ...     PUBLIC  False    nan  1692417              0.0      False\n",
      "   science    SPITZER_SHA    SSC Pipeline            IRAC    None   IRAC2          Infrared ...     PUBLIC  False    nan  1692417              0.0      False\n",
      "   science    SPITZER_SHA    SSC Pipeline            IRAC    None   IRAC4          Infrared ...     PUBLIC  False    nan  1692417              0.0      False\n",
      "   science    SPITZER_SHA    SSC Pipeline            IRAC    None   IRAC4          Infrared ...     PUBLIC  False    nan  1692417              0.0      False\n",
      "   science    SPITZER_SHA    SSC Pipeline            IRAC    None   IRAC2          Infrared ...     PUBLIC  False    nan  1692417              0.0      False\n",
      "   science    SPITZER_SHA    SSC Pipeline            IRAC    None   IRAC4          Infrared ...     PUBLIC  False    nan  1692417              0.0      False\n",
      "   science    SPITZER_SHA    SSC Pipeline            IRAC    None   IRAC2          Infrared ...     PUBLIC  False    nan  1692417              0.0      False\n",
      "   science    SPITZER_SHA    SSC Pipeline            IRAC    None   IRAC4          Infrared ...     PUBLIC  False    nan  1692417              0.0      False\n",
      "   science    SPITZER_SHA    SSC Pipeline            IRAC    None   IRAC4          Infrared ...     PUBLIC  False    nan  1692417              0.0      False\n",
      "   science    SPITZER_SHA    SSC Pipeline            IRAC    None   IRAC2          Infrared ...     PUBLIC  False    nan  1692417              0.0      False\n",
      "Length = 2000 rows\n"
     ]
    }
   ],
   "source": [
    "mast_data_table = Table()\n",
    "\n",
    "col_type_list = [(field['name'], field['type']) for field in mast_data['fields']]\n",
    "\n",
    "for col, atype in col_type_list:\n",
    "    \n",
    "    # recast data types\n",
    "    if atype==\"string\":\n",
    "        atype=\"str\"\n",
    "    if atype==\"boolean\":\n",
    "        atype=\"bool\"\n",
    "    \n",
    "    # create column in Table corresponding to the mast_data field\n",
    "    mast_data_table[col] = np.array([x.get(col, None) for x in mast_data['data']],dtype=atype)\n",
    "    \n",
    "print(mast_data_table)"
   ]
  },
  {
   "cell_type": "markdown",
   "id": "7013ea7d",
   "metadata": {},
   "source": [
    "Note that, because we set our ``pagesize`` to 2000, we will only see the first 2000 rows returned here. Other MAST data exists that meets our criteria, but we would need to alter the ``pagesize`` value to access them."
   ]
  },
  {
   "cell_type": "markdown",
   "id": "66926665",
   "metadata": {},
   "source": [
    "With our metadata all acquired, we can now sort it based on, e.g., start date."
   ]
  },
  {
   "cell_type": "code",
   "execution_count": 31,
   "id": "08ab17e8",
   "metadata": {
    "ExecuteTime": {
     "end_time": "2022-09-02T04:52:11.941683Z",
     "start_time": "2022-09-02T04:52:11.926927Z"
    }
   },
   "outputs": [],
   "source": [
    "mast_data_table.sort('t_min')"
   ]
  },
  {
   "cell_type": "code",
   "execution_count": 32,
   "id": "615d3933",
   "metadata": {
    "ExecuteTime": {
     "end_time": "2022-09-02T04:52:11.947771Z",
     "start_time": "2022-09-02T04:52:11.942815Z"
    },
    "scrolled": false
   },
   "outputs": [
    {
     "name": "stdout",
     "output_type": "stream",
     "text": [
      "intentType obs_collection provenance_name instrument_name project filters wavelength_region ... dataRights mtFlag srcDen  obsid       distance     _selected_\n",
      "---------- -------------- --------------- --------------- ------- ------- ----------------- ... ---------- ------ ------ -------- ---------------- ----------\n",
      "   science    SPITZER_SHA    SSC Pipeline            IRAC    None   IRAC2          Infrared ...     PUBLIC  False    nan  1692417              0.0      False\n",
      "   science    SPITZER_SHA    SSC Pipeline            IRAC    None   IRAC4          Infrared ...     PUBLIC  False    nan  1692417              0.0      False\n",
      "   science    SPITZER_SHA    SSC Pipeline            IRAC    None   IRAC2          Infrared ...     PUBLIC  False    nan  1692417              0.0      False\n",
      "   science    SPITZER_SHA    SSC Pipeline            IRAC    None   IRAC4          Infrared ...     PUBLIC  False    nan  1692417              0.0      False\n",
      "   science    SPITZER_SHA    SSC Pipeline            IRAC    None   IRAC2          Infrared ...     PUBLIC  False    nan  1692417              0.0      False\n",
      "   science    SPITZER_SHA    SSC Pipeline            IRAC    None   IRAC4          Infrared ...     PUBLIC  False    nan  1692417              0.0      False\n",
      "   science    SPITZER_SHA    SSC Pipeline            IRAC    None   IRAC2          Infrared ...     PUBLIC  False    nan  1692417              0.0      False\n",
      "   science    SPITZER_SHA    SSC Pipeline            IRAC    None   IRAC4          Infrared ...     PUBLIC  False    nan  1692417              0.0      False\n",
      "   science    SPITZER_SHA    SSC Pipeline            IRAC    None   IRAC4          Infrared ...     PUBLIC  False    nan  1692417              0.0      False\n",
      "   science    SPITZER_SHA    SSC Pipeline            IRAC    None   IRAC2          Infrared ...     PUBLIC  False    nan  1692417              0.0      False\n",
      "   science    SPITZER_SHA    SSC Pipeline            IRAC    None   IRAC4          Infrared ...     PUBLIC  False    nan  1692417              0.0      False\n",
      "   science    SPITZER_SHA    SSC Pipeline            IRAC    None   IRAC4          Infrared ...     PUBLIC  False    nan  1692417              0.0      False\n",
      "   science    SPITZER_SHA    SSC Pipeline            IRAC    None   IRAC2          Infrared ...     PUBLIC  False    nan  1692417              0.0      False\n",
      "   science    SPITZER_SHA    SSC Pipeline            IRAC    None   IRAC2          Infrared ...     PUBLIC  False    nan  1692417              0.0      False\n",
      "   science    SPITZER_SHA    SSC Pipeline            IRAC    None   IRAC4          Infrared ...     PUBLIC  False    nan  1692417              0.0      False\n",
      "   science    SPITZER_SHA    SSC Pipeline            IRAC    None   IRAC2          Infrared ...     PUBLIC  False    nan  1692417              0.0      False\n",
      "   science    SPITZER_SHA    SSC Pipeline            IRAC    None   IRAC4          Infrared ...     PUBLIC  False    nan  1692417              0.0      False\n",
      "   science    SPITZER_SHA    SSC Pipeline            IRAC    None   IRAC2          Infrared ...     PUBLIC  False    nan  1692417              0.0      False\n",
      "   science    SPITZER_SHA    SSC Pipeline            IRAC    None   IRAC4          Infrared ...     PUBLIC  False    nan  1692417              0.0      False\n",
      "   science    SPITZER_SHA    SSC Pipeline            IRAC    None   IRAC2          Infrared ...     PUBLIC  False    nan  1692417              0.0      False\n",
      "   science    SPITZER_SHA    SSC Pipeline            IRAC    None   IRAC2          Infrared ...     PUBLIC  False    nan  1692417              0.0      False\n",
      "   science    SPITZER_SHA    SSC Pipeline            IRAC    None   IRAC4          Infrared ...     PUBLIC  False    nan  1692417              0.0      False\n",
      "   science    SPITZER_SHA    SSC Pipeline            IRAC    None   IRAC2          Infrared ...     PUBLIC  False    nan  1692417              0.0      False\n",
      "       ...            ...             ...             ...     ...     ...               ... ...        ...    ...    ...      ...              ...        ...\n",
      "   science    SPITZER_SHA    SSC Pipeline            IRAC    None   IRAC1          Infrared ...     PUBLIC  False    nan  1681695              0.0      False\n",
      "   science    SPITZER_SHA    SSC Pipeline            IRAC    None   IRAC4          Infrared ...     PUBLIC  False    nan  1696175              0.0      False\n",
      "   science    SPITZER_SHA    SSC Pipeline            IRAC    None   IRAC1          Infrared ...     PUBLIC  False    nan  1696175              0.0      False\n",
      "   science    SPITZER_SHA    SSC Pipeline            IRAC    None   IRAC3          Infrared ...     PUBLIC  False    nan  1696175              0.0      False\n",
      "   science    SPITZER_SHA    SSC Pipeline            IRAC    None   IRAC2          Infrared ...     PUBLIC  False    nan  1696175              0.0      False\n",
      "   science          SWIFT            None            UVOT    None    UVM2                UV ...     PUBLIC  False 5885.0  1468834              0.0      False\n",
      "   science          SWIFT            None            UVOT    None    UVM2                UV ...     PUBLIC  False 5885.0  1522757              0.0      False\n",
      "   science          SWIFT            None            UVOT    None    UVM2                UV ...     PUBLIC  False 5885.0  1522758              0.0      False\n",
      "   science          SWIFT            None            UVOT    None    UVM2                UV ...     PUBLIC  False 5885.0  1392183              0.0      False\n",
      "   science          SWIFT            None            UVOT    None    UVM2                UV ...     PUBLIC  False 5885.0  1513232              0.0      False\n",
      "   science           TESS            SPOC      Photometer    TESS    TESS           Optical ...     PUBLIC  False    nan 71741843              0.0      False\n",
      "   science           TESS            SPOC      Photometer    TESS    TESS           Optical ...     PUBLIC  False    nan 27266912              0.0      False\n",
      "   science           TESS            SPOC      Photometer    TESS    TESS           Optical ...     PUBLIC  False    nan 27242856              0.0      False\n",
      "   science           TESS            SPOC      Photometer    TESS    TESS           Optical ...     PUBLIC  False    nan 71741845              0.0      False\n",
      "   science           TESS            SPOC      Photometer    TESS    TESS           Optical ...     PUBLIC  False    nan 65432622              0.0      False\n",
      "   science           TESS            SPOC      Photometer    TESS    TESS           Optical ...     PUBLIC  False    nan 65361380 581.781066069102      False\n",
      "   science           TESS            SPOC      Photometer    TESS    TESS           Optical ...     PUBLIC  False    nan 65361378              0.0      False\n",
      "   science           TESS            SPOC      Photometer    TESS    TESS           Optical ...     PUBLIC  False    nan 68942182              0.0      False\n",
      "   science           TESS            SPOC      Photometer    TESS    TESS           Optical ...     PUBLIC  False    nan 68725981 581.781066069102      False\n",
      "   science           TESS            SPOC      Photometer    TESS    TESS           Optical ...     PUBLIC  False    nan 68725979              0.0      False\n",
      "   science           TESS            SPOC      Photometer    TESS    TESS           Optical ...     PUBLIC  False    nan 71308547              0.0      False\n",
      "   science           TESS            SPOC      Photometer    TESS    TESS           Optical ...     PUBLIC  False    nan 71236478 581.781066069102      False\n",
      "   science           TESS            SPOC      Photometer    TESS    TESS           Optical ...     PUBLIC  False    nan 71236476              0.0      False\n",
      "Length = 2000 rows\n"
     ]
    }
   ],
   "source": [
    "print(mast_data_table)"
   ]
  },
  {
   "cell_type": "markdown",
   "id": "f3afc572",
   "metadata": {},
   "source": [
    "Let's get the most recent Spitzer data product. Because these data are sorted by time, the most recent data is the last entry, which we can access with the ``-1`` index."
   ]
  },
  {
   "cell_type": "code",
   "execution_count": 33,
   "id": "ae5c2857",
   "metadata": {
    "ExecuteTime": {
     "end_time": "2022-09-02T04:52:11.952378Z",
     "start_time": "2022-09-02T04:52:11.948960Z"
    }
   },
   "outputs": [
    {
     "name": "stdout",
     "output_type": "stream",
     "text": [
      "Observation: ['image', 'SPITZER_SHA', 'IRAC']\n"
     ]
    }
   ],
   "source": [
    "recent_index = -1\n",
    "interesting_observation = mast_data_table[mast_data_table[\"obs_collection\"] == \"SPITZER_SHA\"][recent_index]\n",
    "print(\"Observation:\",\n",
    "      [interesting_observation[x] for x in ['dataproduct_type', 'obs_collection', 'instrument_name']])"
   ]
  },
  {
   "cell_type": "markdown",
   "id": "435c104d",
   "metadata": {},
   "source": [
    "It appears that the latest Spitzer data for this target was taken with IRAC (Infrared Array Camera).\n",
    "\n",
    "We can search MAST using the ``obsid`` of this observation to determine how many data products are associated with this observation. This is similar to our previous MAST API request, except now we query by a specific observation ID instead of a position (RA and Dec)."
   ]
  },
  {
   "cell_type": "code",
   "execution_count": 34,
   "id": "c555785a",
   "metadata": {
    "ExecuteTime": {
     "end_time": "2022-09-02T04:52:12.242846Z",
     "start_time": "2022-09-02T04:52:11.953448Z"
    }
   },
   "outputs": [
    {
     "name": "stdout",
     "output_type": "stream",
     "text": [
      "Number of data products: 100\n",
      "Product information column names:\n",
      "[   {'name': 'obsID', 'type': 'string'},\n",
      "    {'name': 'obs_collection', 'type': 'string'},\n",
      "    {'name': 'dataproduct_type', 'type': 'string'},\n",
      "    {'name': 'obs_id', 'type': 'string'},\n",
      "    {'name': 'description', 'type': 'string'},\n",
      "    {'name': 'type', 'type': 'string'},\n",
      "    {'name': 'dataURI', 'type': 'string'},\n",
      "    {'name': 'productType', 'type': 'string'},\n",
      "    {'name': 'productGroupDescription', 'type': 'string'},\n",
      "    {'name': 'productSubGroupDescription', 'type': 'string'},\n",
      "    {'name': 'productDocumentationURL', 'type': 'string'},\n",
      "    {'name': 'project', 'type': 'string'},\n",
      "    {'name': 'prvversion', 'type': 'string'},\n",
      "    {'name': 'proposal_id', 'type': 'string'},\n",
      "    {'name': 'productFilename', 'type': 'string'},\n",
      "    {'name': 'size', 'type': 'int'},\n",
      "    {'name': 'parent_obsid', 'type': 'string'},\n",
      "    {'name': 'dataRights', 'type': 'string'},\n",
      "    {'name': 'calib_level', 'type': 'int'},\n",
      "    {'name': '_selected_', 'type': 'boolean'}]\n"
     ]
    }
   ],
   "source": [
    "obsid = interesting_observation['obsid']\n",
    "\n",
    "product_request = {'service':'Mast.Caom.Products',\n",
    "                  'params':{'obsid':obsid},\n",
    "                  'format':'json',\n",
    "                  'pagesize':100,\n",
    "                  'page':1}   \n",
    "\n",
    "# encoding the request as a json string\n",
    "req_string = json.dumps(product_request)\n",
    "req_string = urlencode(req_string)\n",
    "\n",
    "# perform the HTTP request\n",
    "resp = requests.post(request_url, data=\"request=\"+req_string, headers=headers)\n",
    "\n",
    "# dfrecode the HTTP result\n",
    "obs_products = resp.json()\n",
    "\n",
    "print(\"Number of data products:\", len(obs_products[\"data\"]))\n",
    "print(\"Product information column names:\")\n",
    "pp.pprint(obs_products['fields'])"
   ]
  },
  {
   "cell_type": "markdown",
   "id": "5f71d754",
   "metadata": {},
   "source": [
    "We can also see what *types* these data products are. 'SCIENCE' products are meant to be used for analysis, whereas 'AUXILIARY' and 'NOISE' products are supplemental (e.g., used for calibration)."
   ]
  },
  {
   "cell_type": "code",
   "execution_count": 35,
   "id": "5df9c553",
   "metadata": {
    "ExecuteTime": {
     "end_time": "2022-09-02T04:52:12.252438Z",
     "start_time": "2022-09-02T04:52:12.246647Z"
    },
    "scrolled": true
   },
   "outputs": [
    {
     "name": "stdout",
     "output_type": "stream",
     "text": [
      "['AUXILIARY' 'NOISE' 'SCIENCE']\n"
     ]
    }
   ],
   "source": [
    "file_types = [x.get('productType',\"\") for x in obs_products[\"data\"]]\n",
    "\n",
    "print(np.unique(file_types))"
   ]
  },
  {
   "cell_type": "markdown",
   "id": "d5d124fc",
   "metadata": {},
   "source": [
    "We can place these results in a table as well, restricting ourselves to the science products. As before, we need to be careful about recasting the listed data types to Pythonic types."
   ]
  },
  {
   "cell_type": "code",
   "execution_count": 36,
   "id": "ad4c4e5e",
   "metadata": {
    "ExecuteTime": {
     "end_time": "2022-09-02T04:52:12.260675Z",
     "start_time": "2022-09-02T04:52:12.254161Z"
    }
   },
   "outputs": [
    {
     "name": "stdout",
     "output_type": "stream",
     "text": [
      "Number of science products: 8\n",
      " obsID  obs_collection dataproduct_type    obs_id    description  type ...   size   parent_obsid dataRights calib_level _selected_\n",
      "------- -------------- ---------------- ------------ ------------ ---- ... -------- ------------ ---------- ----------- ----------\n",
      "1696175    SPITZER_SHA            image 000001AF1000 BCD (MJy/sr)    S ... 290880.0      1696175     PUBLIC         2.0      False\n",
      "1696175    SPITZER_SHA            image 000001AF1000 BCD (MJy/sr)    S ... 290880.0      1696175     PUBLIC         2.0      False\n",
      "1696175    SPITZER_SHA            image 000001AF1000 BCD (MJy/sr)    S ... 290880.0      1696175     PUBLIC         2.0      False\n",
      "1696175    SPITZER_SHA            image 000001AF1000 BCD (MJy/sr)    S ... 290880.0      1696175     PUBLIC         2.0      False\n",
      "1696175    SPITZER_SHA            image 000001AF1000 BCD (MJy/sr)    S ... 290880.0      1696175     PUBLIC         2.0      False\n",
      "1696175    SPITZER_SHA            image 000001AF1000 BCD (MJy/sr)    S ... 290880.0      1696175     PUBLIC         2.0      False\n",
      "1696175    SPITZER_SHA            image 000001AF1000 BCD (MJy/sr)    S ... 290880.0      1696175     PUBLIC         2.0      False\n",
      "1696175    SPITZER_SHA            image 000001AF1000 BCD (MJy/sr)    S ... 290880.0      1696175     PUBLIC         2.0      False\n"
     ]
    }
   ],
   "source": [
    "sci_prod_arr = [x for x in obs_products['data'] if x.get(\"productType\", None) == 'SCIENCE']\n",
    "science_products = Table()\n",
    "\n",
    "col_type_list = [(field['name'], field['type']) for field in obs_products['fields']]\n",
    "\n",
    "for col, atype in col_type_list:\n",
    "    \n",
    "    # recast data types\n",
    "    if atype==\"string\":\n",
    "        atype=\"str\"\n",
    "    if atype==\"boolean\":\n",
    "        atype=\"bool\"\n",
    "    if atype == \"int\":\n",
    "        atype = \"float\" # array may contain nan values, and they do not exist in numpy integer arrays\n",
    "        \n",
    "    # Create column in Table corresponding to the mast_data field\n",
    "    science_products[col] = np.array([x.get(col,None) for x in sci_prod_arr],dtype=atype)\n",
    "\n",
    "print(\"Number of science products:\",len(science_products))\n",
    "print(science_products)"
   ]
  },
  {
   "cell_type": "markdown",
   "id": "88d2fdf3",
   "metadata": {},
   "source": [
    "Next, let's download these data products using the [requests](https://requests.readthedocs.io/en/latest/) package. \n",
    "\n",
    "Each row in the `science_products` object refers to a different data product, so we'll iterate through the object to download each product. For each data product, we'll need to send a specific request that includes that data product's uniform resource identifier (URI). We'll then save the response to that request to a file and check that it has been saved correctly."
   ]
  },
  {
   "cell_type": "code",
   "execution_count": 37,
   "id": "f09e25f6",
   "metadata": {
    "ExecuteTime": {
     "end_time": "2022-09-02T04:52:26.554941Z",
     "start_time": "2022-09-02T04:52:12.262326Z"
    }
   },
   "outputs": [
    {
     "name": "stdout",
     "output_type": "stream",
     "text": [
      "COMPLETE:  mastFiles/SPITZER_SHA/000001AF1000/SPITZER_I1_28250112_0000_0000_6_bcd.fits\n",
      "COMPLETE:  mastFiles/SPITZER_SHA/000001AF1000/SPITZER_I1_28250112_0001_0000_6_bcd.fits\n",
      "COMPLETE:  mastFiles/SPITZER_SHA/000001AF1000/SPITZER_I1_28250112_0002_0000_6_bcd.fits\n",
      "COMPLETE:  mastFiles/SPITZER_SHA/000001AF1000/SPITZER_I1_28250112_0003_0000_6_bcd.fits\n",
      "COMPLETE:  mastFiles/SPITZER_SHA/000001AF1000/SPITZER_I1_28250112_0004_0000_6_bcd.fits\n",
      "COMPLETE:  mastFiles/SPITZER_SHA/000001AF1000/SPITZER_I1_28250112_0005_0000_6_bcd.fits\n",
      "COMPLETE:  mastFiles/SPITZER_SHA/000001AF1000/SPITZER_I1_28250112_0006_0000_6_bcd.fits\n",
      "COMPLETE:  mastFiles/SPITZER_SHA/000001AF1000/SPITZER_I1_28250112_0007_0000_6_bcd.fits\n"
     ]
    }
   ],
   "source": [
    "download_url = 'https://mast.stsci.edu/api/v0.1/Download/file?'\n",
    "\n",
    "for row in science_products:     \n",
    "\n",
    "    # Make file path\n",
    "    out_path = os.path.join(\"mastFiles\", row['obs_collection'], row['obs_id'])\n",
    "    if not os.path.exists(out_path):\n",
    "        os.makedirs(out_path)\n",
    "    out_path = os.path.join(out_path, os.path.basename(row['productFilename']))\n",
    "        \n",
    "    # Download the data\n",
    "    payload = {\"uri\":row['dataURI']}\n",
    "    resp = requests.get(download_url, params=payload)\n",
    "    \n",
    "    # Save to file\n",
    "    with open(out_path,'wb') as f:\n",
    "        f.write(resp.content)\n",
    "        \n",
    "    # Check for file \n",
    "    if not os.path.isfile(out_path):\n",
    "        print(\"ERROR: \" + out_path + \" failed to download.\")\n",
    "    else:\n",
    "        print(\"COMPLETE: \", out_path)"
   ]
  },
  {
   "cell_type": "markdown",
   "id": "e4f226be",
   "metadata": {},
   "source": [
    "We can check that these data files have been downloaded correctly by checking the directory that the `out_path`s are downloaded to."
   ]
  },
  {
   "cell_type": "code",
   "execution_count": 38,
   "id": "20b1db1e",
   "metadata": {
    "ExecuteTime": {
     "end_time": "2022-09-02T04:52:27.079291Z",
     "start_time": "2022-09-02T04:52:26.561114Z"
    }
   },
   "outputs": [
    {
     "name": "stdout",
     "output_type": "stream",
     "text": [
      "SPITZER_I1_28250112_0000_0000_6_bcd.fits\r\n",
      "SPITZER_I1_28250112_0001_0000_6_bcd.fits\r\n",
      "SPITZER_I1_28250112_0002_0000_6_bcd.fits\r\n",
      "SPITZER_I1_28250112_0003_0000_6_bcd.fits\r\n",
      "SPITZER_I1_28250112_0004_0000_6_bcd.fits\r\n",
      "SPITZER_I1_28250112_0005_0000_6_bcd.fits\r\n",
      "SPITZER_I1_28250112_0006_0000_6_bcd.fits\r\n",
      "SPITZER_I1_28250112_0007_0000_6_bcd.fits\r\n"
     ]
    }
   ],
   "source": [
    "ls mastFiles/SPITZER_SHA/000001AF1000/"
   ]
  },
  {
   "cell_type": "markdown",
   "id": "137bb9e2",
   "metadata": {},
   "source": [
    "Great! We've successfully downloaded the data for this planet via MAST."
   ]
  },
  {
   "cell_type": "markdown",
   "id": "567619ad",
   "metadata": {},
   "source": [
    "# Exercises\n",
    "1. Use the MAST API to sort Swift data on WASP-12 b by PI and download it.\n",
    "2. Query the latest light curve of WASP-12 b with `astroquery.mast`. \n",
    "3. Query data for the planet BD+47 2936 b using the `exo.MAST` API."
   ]
  },
  {
   "cell_type": "markdown",
   "id": "d959c981",
   "metadata": {},
   "source": [
    "# Additional Resources\n",
    "- An [introduction to HTTP GET requests](https://www.ibm.com/docs/en/cics-ts/5.3?topic=protocol-http-requests).\n",
    "- Primers on exoplanet spectral data types ([Deming, Louie, and Sheets 2018](https://iopscience.iop.org/article/10.1088/1538-3873/aae5c5/meta?casa_token=253HfRr4kyYAAAAA:C0CtfuH4Um2l4Kul5O3tajY2TolSVuXi8fGj48bzSlmJIuvPmeYkb1yXtd10MOjwPqJokDpNvv4)) and on lightcurves ([Winn 2010](https://books.google.com/books?hl=en&lr=&id=VlSVmxgPgGYC&oi=fnd&pg=PA55&dq=exoplanet+transits&ots=-sl8U--Mws&sig=lvBd93ioa2YDxehtpxSx6nL82UA#v=onepage&q=exoplanet%20transits&f=false))\n",
    "- Information on the [TESS Mission](https://tess.mit.edu/).\n",
    "- A [neat blog post](https://nedbatchelder.com/blog/201206/eval_really_is_dangerous.html) on why `literal_eval` is preferred to `eval`.\n",
    "- [Prettyprint documentation](https://docs.python.org/3/library/pprint.html)\n",
    "\n",
    "- [Gaudi, B. Scott, et al. \"A giant planet undergoing extreme-ultraviolet irradiation by its hot massive-star host.\" Nature 546.7659 (2017): 514-518.](https://www.nature.com/articles/nature22392)\n",
    "- [Bakos, G. Á., et al. \"HAT-P-11b: A super-Neptune planet transiting a bright K star in the Kepler field.\" The Astrophysical Journal 710.2 (2010): 1724.](https://iopscience.iop.org/article/10.1088/0004-637X/710/2/1724/meta)\n",
    "- [exo.MAST tutorial](https://exo.mast.stsci.edu/docs/getting_started.html#resolving-exoplanets)\n",
    "- [astroquery.MAST documentation](https://astroquery.readthedocs.io/en/latest/mast/mast.html)\n",
    "- [MAST API documentation](https://mast.stsci.edu/api/v0/MastApiTutorial.html)"
   ]
  },
  {
   "cell_type": "markdown",
   "id": "648a761c",
   "metadata": {},
   "source": [
    "# About this Notebook\n",
    "\n",
    "**Author**: Arjun B. Savel (asavel@umd.edu).\n",
    "\n",
    "**Last updated**: 2022-09-02"
   ]
  },
  {
   "cell_type": "markdown",
   "id": "d488b624",
   "metadata": {},
   "source": [
    "# Citations\n",
    "If you use `astropy`, `astroquery`, or `numpy` for published research, please cite the\n",
    "authors. Follow these links for more information about citing `astropy`,\n",
    "`astroquery`, and `numpy`:\n",
    "\n",
    "* [Citing `astropy`](https://www.astropy.org/acknowledging.html)\n",
    "* [Citing `astroquery`](https://astroquery.readthedocs.io/en/latest/#astroquery)\n",
    "* [Citing `numpy`](https://numpy.org/citing-numpy/)\n"
   ]
  },
  {
   "cell_type": "markdown",
   "id": "fb40938b",
   "metadata": {},
   "source": [
    "***"
   ]
  },
  {
   "cell_type": "markdown",
   "id": "e5e823b5",
   "metadata": {},
   "source": [
    "[Top of Page](#top)<img style=\"float: right;\" src=\"https://raw.githubusercontent.com/spacetelescope/notebooks/master/assets/stsci_pri_combo_mark_horizonal_white_bkgd.png\" alt=\"Space Telescope Logo\" width=\"200px\"/>\n"
   ]
  }
 ],
 "metadata": {
  "kernelspec": {
   "display_name": "Python 3 (ipykernel)",
   "language": "python",
   "name": "python3"
  },
  "language_info": {
   "codemirror_mode": {
    "name": "ipython",
    "version": 3
   },
   "file_extension": ".py",
   "mimetype": "text/x-python",
   "name": "python",
   "nbconvert_exporter": "python",
   "pygments_lexer": "ipython3",
   "version": "3.10.5"
  }
 },
 "nbformat": 4,
 "nbformat_minor": 5
}
