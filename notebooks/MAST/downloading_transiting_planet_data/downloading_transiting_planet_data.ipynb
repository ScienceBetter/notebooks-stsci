{
 "cells": [
  {
   "cell_type": "markdown",
   "id": "03bf811f",
   "metadata": {},
   "source": [
    "<a id=\"top\"></a>"
   ]
  },
  {
   "cell_type": "markdown",
   "id": "1699b83f",
   "metadata": {},
   "source": [
    "# Downloading Transiting Planet Data\n",
    "\n",
    "Outstanding thoughts:\n",
    "- restricted to transiting planets? See if this works for tau boo.\n",
    "- do we need all methods?\n",
    "- what exercises would be best?\n",
    "- any other resources needed?"
   ]
  },
  {
   "cell_type": "markdown",
   "id": "8e1ddab1",
   "metadata": {},
   "source": [
    "***"
   ]
  },
  {
   "cell_type": "markdown",
   "id": "0685d115",
   "metadata": {},
   "source": [
    "# Learning Goals\n",
    "\n",
    "By the end of this tutorial, you will:\n",
    "\n",
    "- Understand how MAST makes its transiting exoplanet time-series data accessible.\n",
    "- Be able to download MAST-hosted data for specific exoplanets.\n",
    "- Become familiar with the exo.MAST, astoquery, and MAST APIs.\n",
    "- Sort MAST data product metadata by attributes (e.g., year, PI)."
   ]
  },
  {
   "cell_type": "markdown",
   "id": "bd48c70a",
   "metadata": {},
   "source": [
    "# Introduction\n",
    "\n",
    "A number of space-based missions — e.g., the Hubble Space Telescope (HST), the Transiting Exoplanet Survey Satellite (TESS), the Spitzer Space Telescope — have observed exoplanets and their host stars. MAST hosts the data products from these disparate sources, making it possible to aggregate heterogeneous data on a single target. In this tutorial, we will cover how to explore, sort, and MAST-hosted exoplanet data using a variety of methods.\n"
   ]
  },
  {
   "cell_type": "markdown",
   "id": "36098d34",
   "metadata": {},
   "source": [
    "# Imports\n",
    "\n",
    "- *ast* (Python builtin) to safely evaluate strings.\n",
    "- *sys* (Python builtin) to read our system's Python version.\n",
    "- *os* (Python builtin) to create directories for downloaded data.\n",
    "- *json* (Python builtin) to load results from HTTP GET requests.\n",
    "- *pprint* (Python builtin) to neatly print json outputs.\n",
    "- *urllib.request* (Python builtin) to submit HTTP GET requests and interact with the exo.MAST API. Todo: merge with requests?\n",
    "- *numpy* to help aggregate our metadata (can probably remove this dependency).\n",
    "- *requests* to make requests to MAST servers.\n",
    "- *astropy* to provide data structures that organize our metadata.\n",
    "- *astroquery.mast* to interact with MAST data products."
   ]
  },
  {
   "cell_type": "code",
   "execution_count": null,
   "id": "d4ffc075",
   "metadata": {
    "ExecuteTime": {
     "end_time": "2022-06-25T18:42:53.581983Z",
     "start_time": "2022-06-25T18:42:53.232522Z"
    }
   },
   "outputs": [],
   "source": [
    "import ast\n",
    "import sys\n",
    "import os\n",
    "import json\n",
    "import pprint\n",
    "import urllib.request\n",
    "from urllib.parse import quote as urlencode\n",
    "\n",
    "import numpy as np\n",
    "import requests\n",
    "from astropy.table import unique, Table\n",
    "from astroquery.mast import Observations"
   ]
  },
  {
   "cell_type": "markdown",
   "id": "aaaecaff",
   "metadata": {},
   "source": [
    "# Method 1: exo.MAST\n",
    "\n",
    "[exo.MAST](https://exo.mast.stsci.edu/docs/) is a web service API that is optimized for querying exoplanet data. Our first approach to downloading MAST data will use this API.\n",
    "\n",
    "This portion of the tutorial is inspired by the [exo.MAST documentation](https://exo.mast.stsci.edu/docs/getting_started.html)."
   ]
  },
  {
   "cell_type": "markdown",
   "id": "8e063733",
   "metadata": {},
   "source": [
    "We can query exo.MAST using a planet's name and the exoplanets/identifiers table. However, the name needs to be formatted for the web."
   ]
  },
  {
   "cell_type": "code",
   "execution_count": null,
   "id": "9179127e",
   "metadata": {
    "ExecuteTime": {
     "end_time": "2022-06-25T18:42:53.584750Z",
     "start_time": "2022-06-25T18:42:53.583095Z"
    }
   },
   "outputs": [],
   "source": [
    "planet_name = 'WASP-12 b' # Hebb et al. 2009"
   ]
  },
  {
   "cell_type": "markdown",
   "id": "75ad6ac2",
   "metadata": {},
   "source": [
    "We need to safely encode the spaces in this URL. This is done by replacing all spaces in the same with the \"%20\" string."
   ]
  },
  {
   "cell_type": "code",
   "execution_count": null,
   "id": "bf2eaa04",
   "metadata": {
    "ExecuteTime": {
     "end_time": "2022-06-25T18:42:53.587496Z",
     "start_time": "2022-06-25T18:42:53.585845Z"
    }
   },
   "outputs": [],
   "source": [
    "planet_name_formatted = planet_name.replace(' ', '%20')\n",
    "\n",
    "request_name_string = f'exoplanets/identifiers/?name={planet_name_formatted}'\n",
    "\n",
    "\n"
   ]
  },
  {
   "cell_type": "markdown",
   "id": "0706fdea",
   "metadata": {},
   "source": [
    "Now, we append our ``request_string`` to the URL that points to the exo.MAST API, forming a complete request."
   ]
  },
  {
   "cell_type": "code",
   "execution_count": null,
   "id": "3995a3db",
   "metadata": {
    "ExecuteTime": {
     "end_time": "2022-06-25T18:42:53.591053Z",
     "start_time": "2022-06-25T18:42:53.589128Z"
    }
   },
   "outputs": [],
   "source": [
    "request_name_url = \"https://exo.mast.stsci.edu/api/v0.1/\" + request_name_string\n",
    "print(request_name_url)\n"
   ]
  },
  {
   "cell_type": "markdown",
   "id": "2ce32706",
   "metadata": {},
   "source": [
    "With our URL assembled, we can now make the HTTPS request using the ``urllib`` package."
   ]
  },
  {
   "cell_type": "code",
   "execution_count": null,
   "id": "9988c7a0",
   "metadata": {
    "ExecuteTime": {
     "end_time": "2022-06-25T18:42:53.838701Z",
     "start_time": "2022-06-25T18:42:53.592200Z"
    }
   },
   "outputs": [],
   "source": [
    "names = urllib.request.urlopen(request_name_url).read()\n",
    "names"
   ]
  },
  {
   "cell_type": "markdown",
   "id": "06f1a851",
   "metadata": {},
   "source": [
    "The ``b`` before the printed dictionary indicates that these data are currently represented as bytes. To represent the requested data as a string, we need to decode the bytes with the UTF-8 encoding."
   ]
  },
  {
   "cell_type": "code",
   "execution_count": null,
   "id": "e51ce6aa",
   "metadata": {
    "ExecuteTime": {
     "end_time": "2022-06-25T18:42:53.842938Z",
     "start_time": "2022-06-25T18:42:53.840358Z"
    }
   },
   "outputs": [],
   "source": [
    "dict_str = names.decode(\"UTF-8\")"
   ]
  },
  {
   "cell_type": "markdown",
   "id": "ba3a7097",
   "metadata": {},
   "source": [
    "Now that we've converted the returned bytes into a string, we'd like to evaluate them to case them into a more useful data type: a ``dict``.\n",
    "\n",
    "However, we need to ensure that the evaluated string is Pythonic to evaluate it. Note that some keys — e.g., ``\"keplerID\"`` — have values of \"null.\" As a next step, we therefore replace all instances of \"null\" with \"None\", which will evaluate to a Python ``None``."
   ]
  },
  {
   "cell_type": "code",
   "execution_count": null,
   "id": "0b80b0d9",
   "metadata": {
    "ExecuteTime": {
     "end_time": "2022-06-25T18:42:53.847332Z",
     "start_time": "2022-06-25T18:42:53.844363Z"
    }
   },
   "outputs": [],
   "source": [
    "# null is not Pythonic\n",
    "dict_str = dict_str.replace('null', 'None')\n",
    "dict_str\n"
   ]
  },
  {
   "cell_type": "markdown",
   "id": "18961e83",
   "metadata": {},
   "source": [
    "At this point, we can evaluate the string to return a ``dict``. We will use the ``ast.literal_eval`` function to do so, as it is safer to use than the ``eval`` function."
   ]
  },
  {
   "cell_type": "code",
   "execution_count": null,
   "id": "6e59c911",
   "metadata": {
    "ExecuteTime": {
     "end_time": "2022-06-25T18:42:53.850291Z",
     "start_time": "2022-06-25T18:42:53.848590Z"
    }
   },
   "outputs": [],
   "source": [
    "name_matches = ast.literal_eval(dict_str)"
   ]
  },
  {
   "cell_type": "code",
   "execution_count": null,
   "id": "7c8da336",
   "metadata": {
    "ExecuteTime": {
     "end_time": "2022-06-25T18:42:53.853818Z",
     "start_time": "2022-06-25T18:42:53.851224Z"
    }
   },
   "outputs": [],
   "source": [
    "name_matches"
   ]
  },
  {
   "cell_type": "markdown",
   "id": "c79a59c1",
   "metadata": {},
   "source": [
    "``name_matches`` is now a ``dict`` that contains our results. A few important fields:\n",
    "\n",
    "- ``ra`` and ``dec``: Right ascension and declination of the planet's host star.\n",
    "- `planetNames`: A ``list`` of names that are used for this planet in different catalogs."
   ]
  },
  {
   "cell_type": "markdown",
   "id": "0ec2194a",
   "metadata": {},
   "source": [
    "We can query exo.MAST for a list of files that are available for this planet. As before, we:\n",
    "\n",
    "1. Format a request string\n",
    "2. Submit the HTTPS request\n",
    "3. Decode the request's result\n",
    "4. Replace any \"null\"s with \"None\"s\n",
    "5. Evaluate the string"
   ]
  },
  {
   "cell_type": "code",
   "execution_count": null,
   "id": "716f314c",
   "metadata": {
    "ExecuteTime": {
     "end_time": "2022-06-25T18:42:54.095081Z",
     "start_time": "2022-06-25T18:42:53.857285Z"
    }
   },
   "outputs": [],
   "source": [
    "# construct request string\n",
    "request_spectra_string = f'spectra/{planet_name_formatted}/filelist/'\n",
    "request_spectra_url = \"https://exo.mast.stsci.edu/api/v0.1/\" + request_spectra_string\n",
    "\n",
    "# send the request\n",
    "spectra_result = urllib.request.urlopen(request_spectra_url).read()\n",
    "\n",
    "# decode the result and make it Pythonic\n",
    "dict_str = spectra_result.decode(\"UTF-8\")\n",
    "dict_str = dict_str.replace('null', 'None')\n",
    "\n",
    "# evaluate the result\n",
    "spectra = ast.literal_eval(dict_str)"
   ]
  },
  {
   "cell_type": "markdown",
   "id": "c52cd4a7",
   "metadata": {},
   "source": [
    "``spectra`` is now a ``dict``. Its key ``filenames`` has a value that is a ``list`` of spectra associated with the submitted planet."
   ]
  },
  {
   "cell_type": "code",
   "execution_count": null,
   "id": "3d4de489",
   "metadata": {
    "ExecuteTime": {
     "end_time": "2022-06-25T18:42:54.108807Z",
     "start_time": "2022-06-25T18:42:54.099375Z"
    }
   },
   "outputs": [],
   "source": [
    "spectra"
   ]
  },
  {
   "cell_type": "markdown",
   "id": "99320dc2",
   "metadata": {},
   "source": [
    "There are two files corresponding to spectra for this planet. Next, we can download them, once again following the above steps."
   ]
  },
  {
   "cell_type": "code",
   "execution_count": null,
   "id": "c14901d0",
   "metadata": {
    "ExecuteTime": {
     "end_time": "2022-06-25T18:42:54.387354Z",
     "start_time": "2022-06-25T18:42:54.111782Z"
    }
   },
   "outputs": [],
   "source": [
    "# construct request string\n",
    "filename = spectra['filenames'][0]\n",
    "request_file_string = f'spectra/{planet_name_formatted}/file/{filename}'\n",
    "request_file_url = \"https://exo.mast.stsci.edu/api/v0.1/\" + request_file_string\n",
    "\n",
    "# send the request\n",
    "spectra_result = urllib.request.urlopen(request_file_url).read()\n",
    "\n",
    "# decode the result and make it Pythonic\n",
    "downloaded_file = spectra_result.decode(\"UTF-8\")\n",
    "downloaded_file"
   ]
  },
  {
   "cell_type": "markdown",
   "id": "77da9d2a",
   "metadata": {},
   "source": [
    "This time, however, the decoded data cannot be evaluated as a ``dict``. Rather, it is a string of lines (separated by the new line character ``\\n``). We can directly write this string to a file."
   ]
  },
  {
   "cell_type": "code",
   "execution_count": null,
   "id": "aa81147f",
   "metadata": {
    "ExecuteTime": {
     "end_time": "2022-06-25T18:42:54.399888Z",
     "start_time": "2022-06-25T18:42:54.391050Z"
    }
   },
   "outputs": [],
   "source": [
    "with open(filename, 'w') as f:\n",
    "    f.write(downloaded_file)"
   ]
  },
  {
   "cell_type": "markdown",
   "id": "4458207a",
   "metadata": {},
   "source": [
    "Note, however, that not all MAST data products are accessible by this method. (why is this, exactly?)\n",
    "\n",
    "To download other data products, we turn to other methods."
   ]
  },
  {
   "cell_type": "markdown",
   "id": "a7ece539",
   "metadata": {},
   "source": [
    "# Method 2: Using astroquery.mast.\n",
    "\n",
    "For more MAST data products, we can make use of the astroquery.mast functionality. This approach requires an additional dependency (the [astroquery](https://astroquery.readthedocs.io/en/latest/) package).\n",
    "\n",
    "This portion of the tutorial is inspired by the [astroquery.mast tutorial](https://astroquery.readthedocs.io/en/latest/mast/mast.html)."
   ]
  },
  {
   "cell_type": "markdown",
   "id": "4756f454",
   "metadata": {},
   "source": [
    "First, let's search for all MAST data products for the exoplanet WASP-12 b (Hebb et al. 2009)."
   ]
  },
  {
   "cell_type": "code",
   "execution_count": null,
   "id": "12ea2d7d",
   "metadata": {
    "ExecuteTime": {
     "end_time": "2022-06-25T18:43:12.819206Z",
     "start_time": "2022-06-25T18:42:54.402466Z"
    }
   },
   "outputs": [],
   "source": [
    "search_radius = \".02 deg\"\n",
    "\n",
    "planet_name = 'WASP-12 b'\n",
    "obs_table = Observations.query_object(planet_name,radius=search_radius)\n",
    "print(obs_table[:10])  "
   ]
  },
  {
   "cell_type": "code",
   "execution_count": null,
   "id": "641df19c",
   "metadata": {
    "ExecuteTime": {
     "end_time": "2022-06-25T18:43:12.822143Z",
     "start_time": "2022-06-25T18:43:12.820069Z"
    }
   },
   "outputs": [],
   "source": [
    "obs_table.columns"
   ]
  },
  {
   "cell_type": "markdown",
   "id": "2b608022",
   "metadata": {},
   "source": [
    "Let's sort these observations by the proposing PI (principal investigator) and filter out extraneous columns."
   ]
  },
  {
   "cell_type": "code",
   "execution_count": null,
   "id": "60e836fa",
   "metadata": {
    "ExecuteTime": {
     "end_time": "2022-06-25T18:43:12.963678Z",
     "start_time": "2022-06-25T18:43:12.822896Z"
    }
   },
   "outputs": [],
   "source": [
    "obs_table.sort('proposal_pi')"
   ]
  },
  {
   "cell_type": "code",
   "execution_count": null,
   "id": "835880f2",
   "metadata": {
    "ExecuteTime": {
     "end_time": "2022-06-25T18:43:12.967444Z",
     "start_time": "2022-06-25T18:43:12.964616Z"
    }
   },
   "outputs": [],
   "source": [
    "print(obs_table[['proposal_pi', 'provenance_name', 'dataproduct_type']])"
   ]
  },
  {
   "cell_type": "markdown",
   "id": "606d5001",
   "metadata": {},
   "source": [
    "If we're interested in a specific instrument, we can next see which instruments were used to observe this target."
   ]
  },
  {
   "cell_type": "code",
   "execution_count": null,
   "id": "80c868b3",
   "metadata": {
    "ExecuteTime": {
     "end_time": "2022-06-25T18:43:12.976969Z",
     "start_time": "2022-06-25T18:43:12.968210Z"
    }
   },
   "outputs": [],
   "source": [
    "print(np.unique(obs_table['provenance_name']))"
   ]
  },
  {
   "cell_type": "markdown",
   "id": "6ebd1027",
   "metadata": {},
   "source": [
    "Great! In just a few lines, we've collected the metadata for many observations of this target into an Astropy ``Table``. Next, let's see what data products are available for the most recent QLP observation."
   ]
  },
  {
   "cell_type": "code",
   "execution_count": null,
   "id": "aa0afd0d",
   "metadata": {
    "ExecuteTime": {
     "end_time": "2022-06-25T18:43:13.108542Z",
     "start_time": "2022-06-25T18:43:12.977924Z"
    }
   },
   "outputs": [],
   "source": [
    "obs_table_qlp = obs_table[obs_table['provenance_name']=='QLP']\n",
    "obs_table_qlp.sort('t_min')\n",
    "data_products_by_obs = Observations.get_product_list(obs_table_qlp[-1])\n",
    "print(data_products_by_obs) "
   ]
  },
  {
   "cell_type": "markdown",
   "id": "cc529f51",
   "metadata": {},
   "source": [
    "There are two timeseries data products. Let's download the first one. "
   ]
  },
  {
   "cell_type": "code",
   "execution_count": null,
   "id": "ea562e82",
   "metadata": {
    "ExecuteTime": {
     "end_time": "2022-06-25T18:43:13.113663Z",
     "start_time": "2022-06-25T18:43:13.110081Z"
    }
   },
   "outputs": [],
   "source": [
    "data_products_by_obs.columns"
   ]
  },
  {
   "cell_type": "code",
   "execution_count": null,
   "id": "a16ead13",
   "metadata": {
    "ExecuteTime": {
     "end_time": "2022-06-25T18:43:13.637103Z",
     "start_time": "2022-06-25T18:43:13.115014Z"
    }
   },
   "outputs": [],
   "source": [
    "obs_collection = data_products_by_obs['obs_collection'][0]\n",
    "obs_id = data_products_by_obs['obs_id'][0]\n",
    "\n",
    "single_obs = Observations.query_criteria(obs_collection=obs_collection, obs_id=obs_id)\n",
    "data_products = Observations.get_product_list(single_obs)\n",
    "\n",
    "manifest = Observations.download_products(data_products, productType=\"SCIENCE\")"
   ]
  },
  {
   "cell_type": "code",
   "execution_count": null,
   "id": "efeb174b",
   "metadata": {
    "ExecuteTime": {
     "end_time": "2022-06-25T18:43:13.642181Z",
     "start_time": "2022-06-25T18:43:13.638933Z"
    }
   },
   "outputs": [],
   "source": [
    "print(manifest)"
   ]
  },
  {
   "cell_type": "markdown",
   "id": "6b877f17",
   "metadata": {},
   "source": [
    "We've now successfully downloaded MAST data using the astroquery.mast API."
   ]
  },
  {
   "cell_type": "markdown",
   "id": "6e5337b0",
   "metadata": {},
   "source": [
    "# Method 3: Directly using the MAST API.\n",
    "The final approach is a bit more hands-on and requires more code, but it allows for the most flexibility. Additionally, it provides the most insight into what's going on \"under the hood\" with the MAST requests. This approach requires the [Astropy](https://www.astropy.org/) and [NumPy](https://numpy.org/) dependencies.\n",
    "\n",
    "This portion of the tutorial is inspired by the general [MAST API tutorial](_https://mast.stsci.edu/api/v0/MastApiTutorial.html)."
   ]
  },
  {
   "cell_type": "code",
   "execution_count": null,
   "id": "d230c0d4",
   "metadata": {
    "ExecuteTime": {
     "end_time": "2022-06-25T18:43:13.646672Z",
     "start_time": "2022-06-25T18:43:13.643997Z"
    }
   },
   "outputs": [],
   "source": [
    "pp = pprint.PrettyPrinter(indent=4)"
   ]
  },
  {
   "cell_type": "markdown",
   "id": "57775c38",
   "metadata": {},
   "source": [
    "Sticking with our previous example, let's look at the planet WASP-12 b. First, we need to format our request to the MAST resolver — the service that matches requests to MAST data."
   ]
  },
  {
   "cell_type": "code",
   "execution_count": null,
   "id": "159da2a8",
   "metadata": {
    "ExecuteTime": {
     "end_time": "2022-06-25T18:43:13.651655Z",
     "start_time": "2022-06-25T18:43:13.648770Z"
    }
   },
   "outputs": [],
   "source": [
    "object_of_interest = 'WASP-12 b'\n",
    "\n",
    "resolver_request = {'service':'Mast.Name.Lookup',\n",
    "                     'params':{'input':object_of_interest,\n",
    "                               'format':'json'},\n",
    "                     }\n",
    "\n",
    "# Encoding the request as a json string\n",
    "req_string = json.dumps(resolver_request)\n",
    "req_string = urlencode(req_string)"
   ]
  },
  {
   "cell_type": "markdown",
   "id": "9ea28519",
   "metadata": {},
   "source": [
    "Next, we set the header variables needed to make the request."
   ]
  },
  {
   "cell_type": "code",
   "execution_count": null,
   "id": "3aa1ede5",
   "metadata": {
    "ExecuteTime": {
     "end_time": "2022-06-25T18:43:13.655332Z",
     "start_time": "2022-06-25T18:43:13.652962Z"
    }
   },
   "outputs": [],
   "source": [
    "# Grab our system's Python version for the request. \n",
    "version = \".\".join(map(str, sys.version_info[:3]))\n",
    "\n",
    "# Create HTTP Header Variables\n",
    "headers = {\"Content-type\": \"application/x-www-form-urlencoded\",\n",
    "           \"Accept\": \"text/plain\",\n",
    "           \"User-agent\":\"python-requests/\"+version}\n"
   ]
  },
  {
   "cell_type": "markdown",
   "id": "f58b4e22",
   "metadata": {},
   "source": [
    "Now, we construct our request URL and perform our HTTP request with the ``requests`` package."
   ]
  },
  {
   "cell_type": "code",
   "execution_count": null,
   "id": "ef857a43",
   "metadata": {
    "ExecuteTime": {
     "end_time": "2022-06-25T18:43:13.962459Z",
     "start_time": "2022-06-25T18:43:13.656680Z"
    }
   },
   "outputs": [],
   "source": [
    "# Base API url\n",
    "request_url='https://mast.stsci.edu/api/v0/invoke'    \n",
    "\n",
    "# Perform the HTTP request\n",
    "resp = requests.post(request_url, data=\"request=\"+req_string, headers=headers)"
   ]
  },
  {
   "cell_type": "markdown",
   "id": "38faf760",
   "metadata": {},
   "source": [
    "The response must be decoded into a string, as in the previous examples, with the UTF-8 encoding. We'll also use the ``json`` package to parse the string."
   ]
  },
  {
   "cell_type": "code",
   "execution_count": null,
   "id": "bb5890d1",
   "metadata": {
    "ExecuteTime": {
     "end_time": "2022-06-25T18:43:13.977546Z",
     "start_time": "2022-06-25T18:43:13.968412Z"
    }
   },
   "outputs": [],
   "source": [
    "resolved_object_string = resp.content.decode('UTF-8')\n",
    "resolved_object = json.loads(resolved_object_string)\n",
    "\n",
    "pp.pprint(resolved_object)"
   ]
  },
  {
   "cell_type": "markdown",
   "id": "1a8e0924",
   "metadata": {},
   "source": [
    "Parsing apart some of the output:\n",
    "- the *cached* field denotes whether this result has already been saved on this device.\n",
    "- the *canonicalName* field denotes the default name of the planet.\n",
    "- the *decl* (float) field denotes the declination of the resolved coordinate.\n",
    "- the *ra* (float) field denotes the right ascention of the resolved coordinate.\n",
    "- the *searchRadius* field denotes the raidius of the search.\n",
    "\n",
    "See the documentation (link) for further information."
   ]
  },
  {
   "cell_type": "markdown",
   "id": "d5477ac0",
   "metadata": {},
   "source": [
    "Now that we've resolved our target, let's save its coordinates as variables (as floats) — we'll need them later on."
   ]
  },
  {
   "cell_type": "code",
   "execution_count": null,
   "id": "71d77ac8",
   "metadata": {
    "ExecuteTime": {
     "end_time": "2022-06-25T18:43:13.990467Z",
     "start_time": "2022-06-25T18:43:13.986421Z"
    }
   },
   "outputs": [],
   "source": [
    "obj_ra = resolved_object['resolvedCoordinate'][0]['ra']\n",
    "obj_dec = resolved_object['resolvedCoordinate'][0]['decl']\n",
    "\n",
    "obj_ra, obj_dec"
   ]
  },
  {
   "cell_type": "markdown",
   "id": "7828e71f",
   "metadata": {},
   "source": [
    "With the coordinates of the object now known, we can run a *Mast.Caom.Cone* query to retrieve metadata on all MAST data around this coordinate."
   ]
  },
  {
   "cell_type": "code",
   "execution_count": null,
   "id": "3d9ea1ef",
   "metadata": {
    "ExecuteTime": {
     "end_time": "2022-06-25T18:43:26.411536Z",
     "start_time": "2022-06-25T18:43:13.992158Z"
    }
   },
   "outputs": [],
   "source": [
    "mast_request = {'service':'Mast.Caom.Cone',\n",
    "                'params':{'ra':obj_ra,\n",
    "                          'dec':obj_dec,\n",
    "                          'radius':0.2},\n",
    "                'format':'json',\n",
    "                'pagesize':2000,\n",
    "                'page':1,\n",
    "                'removenullcolumns':True,\n",
    "                'removecache':True}\n",
    "\n",
    "\n",
    "# Encoding the request as a json string\n",
    "req_string = json.dumps(mast_request)\n",
    "req_string = urlencode(req_string)\n",
    "\n",
    "# Perform the HTTP request\n",
    "resp = requests.post(request_url, data=\"request=\"+req_string, headers=headers)\n",
    "\n",
    "# Decode the HTTP result\n",
    "mast_data_string = resp.content.decode('UTF-8')\n",
    "mast_data = json.loads(mast_data_string)\n",
    "\n",
    "\n",
    "print(mast_data.keys())\n",
    "print(\"Query status:\",mast_data['status'])"
   ]
  },
  {
   "cell_type": "markdown",
   "id": "40db47d2",
   "metadata": {},
   "source": [
    "Let's take a look at the first returned data entry."
   ]
  },
  {
   "cell_type": "code",
   "execution_count": null,
   "id": "f24af07d",
   "metadata": {
    "ExecuteTime": {
     "end_time": "2022-06-25T18:43:26.416795Z",
     "start_time": "2022-06-25T18:43:26.413457Z"
    }
   },
   "outputs": [],
   "source": [
    "pp.pprint(mast_data['data'][0])"
   ]
  },
  {
   "cell_type": "markdown",
   "id": "d409c802",
   "metadata": {},
   "source": [
    "There's a lot of metadata here, and it's a bit hard to understand all at once. To make things a bit more digestible, we can create an Astropy ``Table``.\n",
    "\n",
    "To do so, we need to loop through each ``field`` in ``mast_data``. These ``field``s will become the columns of our ``Table``. The ``field``s also have associated data types that are contained in ``mast_data``; however, we'll need to convert the names of these data types into Pythonic data types. For example, the data type for the field ``indentType`` is ``'string'``, but the corresponding Python data type is ``str``, so we'll need to take this into account when creating the ``Table``."
   ]
  },
  {
   "cell_type": "code",
   "execution_count": null,
   "id": "0e85efe4",
   "metadata": {
    "ExecuteTime": {
     "end_time": "2022-06-25T18:43:26.443140Z",
     "start_time": "2022-06-25T18:43:26.418223Z"
    }
   },
   "outputs": [],
   "source": [
    "mast_data_table = Table()\n",
    "\n",
    "col_type_list = [(field['name'], field['type']) for field in mast_data['fields']]\n",
    "\n",
    "for col, atype in col_type_list:\n",
    "    \n",
    "    # recast data types\n",
    "    if atype==\"string\":\n",
    "        atype=\"str\"\n",
    "    if atype==\"boolean\":\n",
    "        atype=\"bool\"\n",
    "    \n",
    "    # Create column in Table corresponding to the mast_data field\n",
    "    mast_data_table[col] = np.array([x.get(col, None) for x in mast_data['data']],dtype=atype)\n",
    "    \n",
    "print(mast_data_table)"
   ]
  },
  {
   "cell_type": "code",
   "execution_count": null,
   "id": "08ab17e8",
   "metadata": {
    "ExecuteTime": {
     "end_time": "2022-06-25T18:43:26.457827Z",
     "start_time": "2022-06-25T18:43:26.444148Z"
    }
   },
   "outputs": [],
   "source": [
    "mast_data_table.sort('t_min')"
   ]
  },
  {
   "cell_type": "markdown",
   "id": "66926665",
   "metadata": {},
   "source": [
    "With our metadata all acquired, we can now sort it based on, e.g., start date."
   ]
  },
  {
   "cell_type": "code",
   "execution_count": null,
   "id": "615d3933",
   "metadata": {
    "ExecuteTime": {
     "end_time": "2022-06-25T18:43:26.461953Z",
     "start_time": "2022-06-25T18:43:26.458704Z"
    },
    "scrolled": false
   },
   "outputs": [],
   "source": [
    "print(mast_data_table)"
   ]
  },
  {
   "cell_type": "markdown",
   "id": "f3afc572",
   "metadata": {},
   "source": [
    "Let's get the most recent Spitzer data product. Because these data are sorted by time, the most recent data is the last entry, which we can access with the ``-1`` index."
   ]
  },
  {
   "cell_type": "code",
   "execution_count": null,
   "id": "ae5c2857",
   "metadata": {
    "ExecuteTime": {
     "end_time": "2022-06-25T18:43:26.466348Z",
     "start_time": "2022-06-25T18:43:26.462815Z"
    }
   },
   "outputs": [],
   "source": [
    "# Picking the first Hubble Space Telescope observation\n",
    "recent_index = -1\n",
    "interesting_observation = mast_data_table[mast_data_table[\"obs_collection\"] == \"SPITZER_SHA\"][recent_index]\n",
    "print(\"Observation:\",\n",
    "      [interesting_observation[x] for x in ['dataproduct_type', 'obs_collection', 'instrument_name']])"
   ]
  },
  {
   "cell_type": "markdown",
   "id": "435c104d",
   "metadata": {},
   "source": [
    "It appears that the latest Spitzer data for this target was taken with IRAC (Infrared Array Camera).\n",
    "\n",
    "We can search MAST using the obsid of this observation to determine how many data products are associated with this observation."
   ]
  },
  {
   "cell_type": "code",
   "execution_count": null,
   "id": "c555785a",
   "metadata": {
    "ExecuteTime": {
     "end_time": "2022-06-25T18:43:26.637905Z",
     "start_time": "2022-06-25T18:43:26.467281Z"
    }
   },
   "outputs": [],
   "source": [
    "obsid = interesting_observation['obsid']\n",
    "\n",
    "product_request = {'service':'Mast.Caom.Products',\n",
    "                  'params':{'obsid':obsid},\n",
    "                  'format':'json',\n",
    "                  'pagesize':100,\n",
    "                  'page':1}   \n",
    "\n",
    "# Encoding the request as a json string\n",
    "req_string = json.dumps(product_request)\n",
    "req_string = urlencode(req_string)\n",
    "\n",
    "# Perform the HTTP request\n",
    "resp = requests.post(request_url, data=\"request=\"+req_string, headers=headers)\n",
    "\n",
    "# Decode the HTTP result\n",
    "obs_products_string = resp.content.decode('UTF-8')\n",
    "obs_products = json.loads(obs_products_string)\n",
    "\n",
    "print(\"Number of data products:\", len(obs_products[\"data\"]))\n",
    "print(\"Product information column names:\")\n",
    "pp.pprint(obs_products['fields'])"
   ]
  },
  {
   "cell_type": "markdown",
   "id": "5f71d754",
   "metadata": {},
   "source": [
    "We can also see what *types* these data products are."
   ]
  },
  {
   "cell_type": "code",
   "execution_count": null,
   "id": "5df9c553",
   "metadata": {
    "ExecuteTime": {
     "end_time": "2022-06-25T18:43:26.643592Z",
     "start_time": "2022-06-25T18:43:26.639960Z"
    },
    "scrolled": true
   },
   "outputs": [],
   "source": [
    "pp.pprint([x.get('productType',\"\") for x in obs_products[\"data\"]])"
   ]
  },
  {
   "cell_type": "markdown",
   "id": "d5d124fc",
   "metadata": {},
   "source": [
    "We can place these results in a table as well, restricting ourselves to the science products. As before, we need to be careful about recasting the listed data types to Pythonic types."
   ]
  },
  {
   "cell_type": "code",
   "execution_count": null,
   "id": "ad4c4e5e",
   "metadata": {
    "ExecuteTime": {
     "end_time": "2022-06-25T18:43:26.651599Z",
     "start_time": "2022-06-25T18:43:26.645422Z"
    }
   },
   "outputs": [],
   "source": [
    "sci_prod_arr = [x for x in obs_products['data'] if x.get(\"productType\", None) == 'SCIENCE']\n",
    "science_products = Table()\n",
    "\n",
    "col_type_list = [(field['name'], field['type']) for field in obs_products['fields']]\n",
    "\n",
    "for col, atype in col_type_list:\n",
    "    \n",
    "    # recast data types\n",
    "    if atype==\"string\":\n",
    "        atype=\"str\"\n",
    "    if atype==\"boolean\":\n",
    "        atype=\"bool\"\n",
    "    if atype == \"int\":\n",
    "        atype = \"float\" # array may contain nan values, and they do not exist in numpy integer arrays\n",
    "        \n",
    "    # Create column in Table corresponding to the mast_data field\n",
    "    science_products[col] = np.array([x.get(col,None) for x in sci_prod_arr],dtype=atype)\n",
    "\n",
    "print(\"Number of science products:\",len(science_products))\n",
    "print(science_products)"
   ]
  },
  {
   "cell_type": "markdown",
   "id": "88d2fdf3",
   "metadata": {},
   "source": [
    "Next, let's download these data products using the [requests](https://requests.readthedocs.io/en/latest/) package."
   ]
  },
  {
   "cell_type": "code",
   "execution_count": null,
   "id": "f09e25f6",
   "metadata": {
    "ExecuteTime": {
     "end_time": "2022-06-25T18:43:34.835742Z",
     "start_time": "2022-06-25T18:43:26.652974Z"
    }
   },
   "outputs": [],
   "source": [
    "download_url = 'https://mast.stsci.edu/api/v0.1/Download/file?'\n",
    "\n",
    "for row in science_products:     \n",
    "\n",
    "    # Make file path\n",
    "    out_path = os.path.join(\"mastFiles\", row['obs_collection'], row['obs_id'])\n",
    "    if not os.path.exists(out_path):\n",
    "        os.makedirs(out_path)\n",
    "    out_path = os.path.join(out_path, os.path.basename(row['productFilename']))\n",
    "        \n",
    "    # Download the data\n",
    "    payload = {\"uri\":row['dataURI']}\n",
    "    resp = requests.get(download_url, params=payload)\n",
    "    \n",
    "    # Save to file\n",
    "    with open(out_path,'wb') as f:\n",
    "        f.write(resp.content)\n",
    "        \n",
    "    # Check for file \n",
    "    if not os.path.isfile(out_path):\n",
    "        print(\"ERROR: \" + out_path + \" failed to download.\")\n",
    "    else:\n",
    "        print(\"COMPLETE: \", out_path)"
   ]
  },
  {
   "cell_type": "markdown",
   "id": "e4f226be",
   "metadata": {},
   "source": [
    "You can check that these data files have been downloaded correctly by checking the directory that the `out_path`s are downloaded to."
   ]
  },
  {
   "cell_type": "code",
   "execution_count": null,
   "id": "20b1db1e",
   "metadata": {
    "ExecuteTime": {
     "end_time": "2022-06-25T18:43:35.386221Z",
     "start_time": "2022-06-25T18:43:34.842355Z"
    }
   },
   "outputs": [],
   "source": [
    "ls mastFiles/SPITZER_SHA/000001AF1000/"
   ]
  },
  {
   "cell_type": "markdown",
   "id": "137bb9e2",
   "metadata": {},
   "source": [
    "Great! We've successfully downloaded the data for this planet via MAST."
   ]
  },
  {
   "cell_type": "markdown",
   "id": "567619ad",
   "metadata": {},
   "source": [
    "# Exercises\n",
    "- Repeat this for Spitzer.\n",
    "- Query a light curve.\n",
    "- Repeat this for the exoplanet KELT-9 b."
   ]
  },
  {
   "cell_type": "markdown",
   "id": "d959c981",
   "metadata": {},
   "source": [
    "# Additional Resources\n",
    "- An [introduction to HTTP GET requests](https://www.ibm.com/docs/en/cics-ts/5.3?topic=protocol-http-requests).\n",
    "- Primers on exoplanet spectral data types ([Deming, Louie, and Sheets 2018](https://iopscience.iop.org/article/10.1088/1538-3873/aae5c5/meta?casa_token=253HfRr4kyYAAAAA:C0CtfuH4Um2l4Kul5O3tajY2TolSVuXi8fGj48bzSlmJIuvPmeYkb1yXtd10MOjwPqJokDpNvv4)) and on lightcurves ([Winn 2010](https://books.google.com/books?hl=en&lr=&id=VlSVmxgPgGYC&oi=fnd&pg=PA55&dq=exoplanet+transits&ots=-sl8U--Mws&sig=lvBd93ioa2YDxehtpxSx6nL82UA#v=onepage&q=exoplanet%20transits&f=false))\n",
    "- Information on the [TESS Mission](https://tess.mit.edu/).\n",
    "- A [neat blog post](https://nedbatchelder.com/blog/201206/eval_really_is_dangerous.html) on why `literal_eval` is preferred to `eval`.\n",
    "- [Prettyprint documentation](https://docs.python.org/3/library/pprint.html)\n",
    "\n",
    "- [Gaudi, B. Scott, et al. \"A giant planet undergoing extreme-ultraviolet irradiation by its hot massive-star host.\" Nature 546.7659 (2017): 514-518.](https://www.nature.com/articles/nature22392)\n",
    "- [Bakos, G. Á., et al. \"HAT-P-11b: A super-Neptune planet transiting a bright K star in the Kepler field.\" The Astrophysical Journal 710.2 (2010): 1724.](https://iopscience.iop.org/article/10.1088/0004-637X/710/2/1724/meta)\n",
    "- [exo.MAST tutorial](https://exo.mast.stsci.edu/docs/getting_started.html#resolving-exoplanets)\n",
    "- [astroquery.MAST documentation](https://astroquery.readthedocs.io/en/latest/mast/mast.html)\n",
    "- [MAST API documentation](https://mast.stsci.edu/api/v0/MastApiTutorial.html)"
   ]
  },
  {
   "cell_type": "markdown",
   "id": "648a761c",
   "metadata": {},
   "source": [
    "# About this Notebook\n",
    "\n",
    "**Author**: Arjun B. Savel (asavel@umd.edu).\n",
    "\n",
    "**Last updated**: 2022-06-12"
   ]
  },
  {
   "cell_type": "markdown",
   "id": "f3b89bea",
   "metadata": {},
   "source": [
    "# Citations\n",
    "If you use `astropy`, `astroquery`, or `numpy` for published research, please cite the\n",
    "authors. Follow these links for more information about citing `astropy`,\n",
    "`astroquery`, and `numpy`:\n",
    "\n",
    "* [Citing `astropy`](https://www.astropy.org/acknowledging.html)\n",
    "* [Citing `astroquery`](https://astroquery.readthedocs.io/en/latest/#astroquery)\n",
    "* [Citing `numpy`](https://numpy.org/citing-numpy/)\n"
   ]
  },
  {
   "cell_type": "markdown",
   "id": "fb40938b",
   "metadata": {},
   "source": [
    "***"
   ]
  },
  {
   "cell_type": "markdown",
   "id": "e5e823b5",
   "metadata": {},
   "source": [
    "[Top of Page](#top)<img style=\"float: right;\" src=\"https://raw.githubusercontent.com/spacetelescope/notebooks/master/assets/stsci_pri_combo_mark_horizonal_white_bkgd.png\" alt=\"Space Telescope Logo\" width=\"200px\"/>\n"
   ]
  }
 ],
 "metadata": {
  "kernelspec": {
   "display_name": "Python 3 (ipykernel)",
   "language": "python",
   "name": "python3"
  },
  "language_info": {
   "codemirror_mode": {
    "name": "ipython",
    "version": 3
   },
   "file_extension": ".py",
   "mimetype": "text/x-python",
   "name": "python",
   "nbconvert_exporter": "python",
   "pygments_lexer": "ipython3",
   "version": "3.10.5"
  }
 },
 "nbformat": 4,
 "nbformat_minor": 5
}
