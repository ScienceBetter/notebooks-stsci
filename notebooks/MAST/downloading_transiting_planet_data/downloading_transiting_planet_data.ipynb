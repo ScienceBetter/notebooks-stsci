{
 "cells": [
  {
   "cell_type": "markdown",
   "id": "03bf811f",
   "metadata": {},
   "source": [
    "<a id=\"top\"></a>"
   ]
  },
  {
   "cell_type": "markdown",
   "id": "1699b83f",
   "metadata": {},
   "source": [
    "# Downloading Transiting Planet Data\n",
    "\n",
    "Outstanding thoughts:\n",
    "- restricted to transiting planets? See if this works for tau boo.\n",
    "- do we need all methods?\n",
    "- what exercises would be best?\n",
    "- any other resources needed?"
   ]
  },
  {
   "cell_type": "markdown",
   "id": "8e1ddab1",
   "metadata": {},
   "source": [
    "***"
   ]
  },
  {
   "cell_type": "markdown",
   "id": "0685d115",
   "metadata": {},
   "source": [
    "# Learning Goals\n",
    "\n",
    "By the end of this tutorial, you will:\n",
    "\n",
    "- Understand how MAST makes its transiting exoplanet time-series data accessible.\n",
    "- Be able to download MAST-hosted data for specific exoplanets.\n",
    "- Become familiar with the exo.MAST, astoquery, and MAST APIs.\n",
    "- Sort MAST data product metadata by attributes (e.g., year, PI)."
   ]
  },
  {
   "cell_type": "markdown",
   "id": "bd48c70a",
   "metadata": {},
   "source": [
    "# Introduction\n",
    "\n",
    "A number of space-based missions — e.g., the Hubble Space Telescope (HST), the Transiting Exoplanet Survey Satellite (TESS), the Spitzer Space Telescope — have observed exoplanets and their host stars. MAST hosts the data products from these disparate sources, making it straightforward to aggregate heterogeneous data on a single target. In this tutorial, we will cover how to explore, sort, and MAST-hosted exoplanet data using a variety of methods.\n"
   ]
  },
  {
   "cell_type": "markdown",
   "id": "36098d34",
   "metadata": {},
   "source": [
    "# Imports\n",
    "\n",
    "- *ast* (Python builtin) to safely evaluate strings.\n",
    "- *sys* (Python builtin) to read our system's Python version.\n",
    "- *os* (Python builtin) to create directories for downloaded data.\n",
    "- *json* (Python builtin) to load results from HTTP GET requests.\n",
    "- *pprint* (Python builtin* to neatly print json outputs.\n",
    "- *requests* (Python builtin) to make requests to MAST servers.\n",
    "- *urllib.request* (Python builtin) to submit HTTP GET requests and interact with the exo.MAST API. Todo: merge with requests?\n",
    "- *numpy* to help aggregate our metadata (can probably remove this dependency).\n",
    "- *astropy* to provide data structures that organize our metadata.\n",
    "- *astroquery.mast* to interact with MAST data products."
   ]
  },
  {
   "cell_type": "code",
   "execution_count": 15,
   "id": "d4ffc075",
   "metadata": {
    "ExecuteTime": {
     "end_time": "2022-06-23T03:49:38.627820Z",
     "start_time": "2022-06-23T03:49:38.619476Z"
    }
   },
   "outputs": [],
   "source": [
    "import ast\n",
    "import sys\n",
    "import os\n",
    "import json\n",
    "import pprint\n",
    "import requests\n",
    "import urllib.request\n",
    "from urllib.parse import quote as urlencode\n",
    "\n",
    "import numpy as np\n",
    "from astropy.table import unique, Table\n",
    "from astroquery.mast import Observations"
   ]
  },
  {
   "cell_type": "markdown",
   "id": "aaaecaff",
   "metadata": {},
   "source": [
    "# Method 1: exo.MAST\n",
    "\n",
    "[exo.MAST](https://exo.mast.stsci.edu/docs/) is a web service API that is optimized for querying exoplanet data. Our first approach to downloading these data will use this API.\n",
    "\n",
    "This portion of the tutorial is inspired by the [exo.MAST documentation](https://exo.mast.stsci.edu/docs/getting_started.html)."
   ]
  },
  {
   "cell_type": "markdown",
   "id": "0c83d5fd",
   "metadata": {},
   "source": [
    "First, we'll use a small function that makes, receives, and parses requests to the exo.MAST api."
   ]
  },
  {
   "cell_type": "code",
   "execution_count": 2,
   "id": "3995a3db",
   "metadata": {
    "ExecuteTime": {
     "end_time": "2022-06-23T03:40:59.531514Z",
     "start_time": "2022-06-23T03:40:59.521455Z"
    }
   },
   "outputs": [],
   "source": [
    "def make_exo_mast_query(url_suffix):\n",
    "    \"\"\"Makes a query using the exo.MAST API. Requires internet connection.\n",
    "    \n",
    "     Parameters\n",
    "        ----------\n",
    "        url_suffix (string): the end of the URL for the HTTP GET request.\n",
    "        \n",
    "        Returns head,content where head is the response HTTP headers, and content is the returned data\n",
    "    \"\"\"\n",
    "    request_url = \"https://exo.mast.stsci.edu/api/v0.1/\" + url_suffix\n",
    "    print(request_url)\n",
    "    # make the request\n",
    "    contents = urllib.request.urlopen(request_url).read()\n",
    "    \n",
    "    # we need to decode the returned bytes into a string\n",
    "    dict_str = contents.decode(\"UTF-8\")\n",
    "    \n",
    "    # null is not Pythonic\n",
    "    dict_str = dict_str.replace('null', 'None')\n",
    "    \n",
    "    \n",
    "    # File outputs can't be parsed as dictionaries directly.\n",
    "    try:\n",
    "        # literal_eval is safer than eval!\n",
    "        contents = ast.literal_eval(dict_str)\n",
    "    except:\n",
    "        print('Could not parse')\n",
    "        contents = dict_str\n",
    "        \n",
    "    return contents"
   ]
  },
  {
   "cell_type": "markdown",
   "id": "8e063733",
   "metadata": {},
   "source": [
    "We can query exo.MAST using a planet's name and the exoplanets/identifiers table. However, the name needs to be formatted for the web."
   ]
  },
  {
   "cell_type": "code",
   "execution_count": 3,
   "id": "0a0d2333",
   "metadata": {
    "ExecuteTime": {
     "end_time": "2022-06-23T03:41:00.273689Z",
     "start_time": "2022-06-23T03:41:00.264609Z"
    }
   },
   "outputs": [],
   "source": [
    "planet_name = 'HAT-P-11 b'# Bakos et al. 2010"
   ]
  },
  {
   "cell_type": "markdown",
   "id": "ffd394a7",
   "metadata": {},
   "source": [
    "We need to safely encode the spaces in this URL. This is done by replacing all spaces in the same with the \"%20\" string."
   ]
  },
  {
   "cell_type": "code",
   "execution_count": 4,
   "id": "bf2eaa04",
   "metadata": {
    "ExecuteTime": {
     "end_time": "2022-06-23T03:41:01.375490Z",
     "start_time": "2022-06-23T03:41:01.129486Z"
    }
   },
   "outputs": [
    {
     "name": "stdout",
     "output_type": "stream",
     "text": [
      "https://exo.mast.stsci.edu/api/v0.1/exoplanets/identifiers/?name=HAT-P-11%20b\n"
     ]
    }
   ],
   "source": [
    "planet_name_formatted = planet_name.replace(' ', '%20')\n",
    "\n",
    "request_string = f'exoplanets/identifiers/?name={planet_name_formatted}'\n",
    "\n",
    "name_matches = make_exo_mast_query(request_string)\n"
   ]
  },
  {
   "cell_type": "markdown",
   "id": "1c30f16e",
   "metadata": {},
   "source": [
    "``name_matches`` is now a ``dict`` that contains our results. A few important fields:\n",
    "\n",
    "- ``ra`` and ``dec``: Right ascension and declination of the planet's host star.\n",
    "- `planetNames`: A ``list`` of names that are used for this planet in different catalogs."
   ]
  },
  {
   "cell_type": "code",
   "execution_count": 5,
   "id": "7c8da336",
   "metadata": {
    "ExecuteTime": {
     "end_time": "2022-06-23T03:41:02.660668Z",
     "start_time": "2022-06-23T03:41:02.640085Z"
    }
   },
   "outputs": [
    {
     "data": {
      "text/plain": [
       "{'canonicalName': 'HAT-P-11 b',\n",
       " 'starName': 'HAT-P-11',\n",
       " 'ra': 297.70891666412354,\n",
       " 'dec': 48.080294444825924,\n",
       " 'planetNames': ['HAT-P-11 b',\n",
       "  'Gaia DR1 2086512223550151936 b',\n",
       "  'HIP 97657 b',\n",
       "  'Kepler-3 b',\n",
       "  'G 208-41 b',\n",
       "  'BD+47 2936 b',\n",
       "  'KOI 3 b',\n",
       "  'KIC 10748390 b',\n",
       "  'TYC 3561-2092-1 b',\n",
       "  'NLTT 48335 b',\n",
       "  'LSPM J1950+4804 b',\n",
       "  'USNO-B1.0 1380-00392296 b',\n",
       "  'ASCC 346382 b',\n",
       "  'GSC 03561-02092 b',\n",
       "  '2MASS J19505021+4804508 b',\n",
       "  'HIC 97657 b'],\n",
       " 'keplerID': 10748390,\n",
       " 'keplerTCE': 'TCE_1',\n",
       " 'tessID': 28230919,\n",
       " 'tessTCE': 'TCE_1'}"
      ]
     },
     "execution_count": 5,
     "metadata": {},
     "output_type": "execute_result"
    }
   ],
   "source": [
    "name_matches"
   ]
  },
  {
   "cell_type": "markdown",
   "id": "0ec2194a",
   "metadata": {},
   "source": [
    "We can query exo.MAST for a list of files that are available for this planet."
   ]
  },
  {
   "cell_type": "code",
   "execution_count": 9,
   "id": "716f314c",
   "metadata": {
    "ExecuteTime": {
     "end_time": "2022-06-23T03:45:28.319726Z",
     "start_time": "2022-06-23T03:45:28.037787Z"
    }
   },
   "outputs": [
    {
     "name": "stdout",
     "output_type": "stream",
     "text": [
      "https://exo.mast.stsci.edu/api/v0.1/spectra/HAT-P-11%20b/filelist/\n"
     ]
    }
   ],
   "source": [
    "# get list of spectra\n",
    "request_spectra_string = f'spectra/{planet_name_formatted}/filelist/'\n",
    "\n",
    "spectra = make_exo_mast_query(request_spectra_string)"
   ]
  },
  {
   "cell_type": "markdown",
   "id": "038e6862",
   "metadata": {},
   "source": [
    "``spectra`` is now a ``dict``. Its key ``filenames`` has a value that is a ``list`` of spectra associated with the submitted planet."
   ]
  },
  {
   "cell_type": "code",
   "execution_count": 10,
   "id": "3d4de489",
   "metadata": {
    "ExecuteTime": {
     "end_time": "2022-06-23T03:45:28.375767Z",
     "start_time": "2022-06-23T03:45:28.368766Z"
    }
   },
   "outputs": [
    {
     "data": {
      "text/plain": [
       "{'filenames': ['HAT-P-11b_transmission_Chachan2019.txt',\n",
       "  'HAT-P-11b_transmission_Fraine2014.txt']}"
      ]
     },
     "execution_count": 10,
     "metadata": {},
     "output_type": "execute_result"
    }
   ],
   "source": [
    "spectra"
   ]
  },
  {
   "cell_type": "markdown",
   "id": "99320dc2",
   "metadata": {},
   "source": [
    "There are two files corresponding to spectra for this planet. Next, we can download them."
   ]
  },
  {
   "cell_type": "code",
   "execution_count": 12,
   "id": "c14901d0",
   "metadata": {
    "ExecuteTime": {
     "end_time": "2022-06-23T03:47:01.368822Z",
     "start_time": "2022-06-23T03:47:01.089572Z"
    }
   },
   "outputs": [
    {
     "name": "stdout",
     "output_type": "stream",
     "text": [
      "https://exo.mast.stsci.edu/api/v0.1/spectra/HAT-P-11%20b/file/HAT-P-11b_transmission_Chachan2019.txt\n",
      "Could not parse\n"
     ]
    }
   ],
   "source": [
    "filename = spectra['filenames'][0]\n",
    "request_files_string = f'spectra/{planet_name_formatted}/file/{filename}'\n",
    "contents = make_exo_mast_query(request_files_string)"
   ]
  },
  {
   "cell_type": "markdown",
   "id": "e90fbeeb",
   "metadata": {},
   "source": [
    "We can now write this data to a file."
   ]
  },
  {
   "cell_type": "code",
   "execution_count": null,
   "id": "aa81147f",
   "metadata": {},
   "outputs": [],
   "source": [
    "with open(filename, 'w') as f:\n",
    "    f.write(contents)"
   ]
  },
  {
   "cell_type": "markdown",
   "id": "4458207a",
   "metadata": {},
   "source": [
    "Note, however, that not all MAST data products are accessible by this method. (why is this, exactly?)\n",
    "\n",
    "To download other data products, we turn to other methods."
   ]
  },
  {
   "cell_type": "markdown",
   "id": "a7ece539",
   "metadata": {},
   "source": [
    "# Method 2: Using astroquery.mast.\n",
    "\n",
    "For more MAST data products, we can make use of the astroquery.mast functionality. This approach requires an additional dependency (the [astroquery](https://astroquery.readthedocs.io/en/latest/) package).\n",
    "\n",
    "This portion of the tutorial is inspired by the [astroquery.mast tutorial](https://astroquery.readthedocs.io/en/latest/mast/mast.html)."
   ]
  },
  {
   "cell_type": "markdown",
   "id": "4756f454",
   "metadata": {},
   "source": [
    "First, let's search for all MAST data products for the exoplanet KELT-9 b (Gaudi et al. 2017)."
   ]
  },
  {
   "cell_type": "code",
   "execution_count": null,
   "id": "12ea2d7d",
   "metadata": {},
   "outputs": [],
   "source": [
    "search_radius = \".02 deg\"\n",
    "\n",
    "planet_name = 'KELT-9 b'\n",
    "obs_table = Observations.query_object(planet_name,radius=search_radius)\n",
    "print(obs_table[:10])  "
   ]
  },
  {
   "cell_type": "code",
   "execution_count": null,
   "id": "641df19c",
   "metadata": {},
   "outputs": [],
   "source": [
    "obs_table.columns"
   ]
  },
  {
   "cell_type": "markdown",
   "id": "2b608022",
   "metadata": {},
   "source": [
    "Let's sort these observations by the proposing PI (principal investigator) and filter some columns out."
   ]
  },
  {
   "cell_type": "code",
   "execution_count": null,
   "id": "60e836fa",
   "metadata": {},
   "outputs": [],
   "source": [
    "obs_table.sort('proposal_pi')"
   ]
  },
  {
   "cell_type": "code",
   "execution_count": null,
   "id": "835880f2",
   "metadata": {},
   "outputs": [],
   "source": [
    "print(obs_table[['proposal_pi', 'provenance_name', 'dataproduct_type']])"
   ]
  },
  {
   "cell_type": "markdown",
   "id": "606d5001",
   "metadata": {},
   "source": [
    "If we're interested in a specific instrument, we can next see which instruments observed this target."
   ]
  },
  {
   "cell_type": "code",
   "execution_count": null,
   "id": "d8cebae0",
   "metadata": {},
   "outputs": [],
   "source": [
    "from astropy.table import unique"
   ]
  },
  {
   "cell_type": "code",
   "execution_count": null,
   "id": "80c868b3",
   "metadata": {},
   "outputs": [],
   "source": [
    "print(unique(obs_table,  keys=['provenance_name'])['provenance_name'])"
   ]
  },
  {
   "cell_type": "markdown",
   "id": "6ebd1027",
   "metadata": {},
   "source": [
    "Great! In just a few lines, we've collected the metadata for many observations of this target into an astropy Table. Next, let's see what data products are available for the most recent QLP observation."
   ]
  },
  {
   "cell_type": "code",
   "execution_count": null,
   "id": "aa0afd0d",
   "metadata": {},
   "outputs": [],
   "source": [
    "obs_table_qlp = obs_table[obs_table['provenance_name']=='QLP']\n",
    "obs_table_qlp.sort('t_min')\n",
    "data_products_by_obs = Observations.get_product_list(obs_table_qlp[-1])\n",
    "print(data_products_by_obs) "
   ]
  },
  {
   "cell_type": "markdown",
   "id": "cc529f51",
   "metadata": {},
   "source": [
    "There are two timeseries data products. Let's download the first one. "
   ]
  },
  {
   "cell_type": "code",
   "execution_count": null,
   "id": "ea562e82",
   "metadata": {},
   "outputs": [],
   "source": [
    "data_products_by_obs.columns"
   ]
  },
  {
   "cell_type": "code",
   "execution_count": null,
   "id": "a16ead13",
   "metadata": {},
   "outputs": [],
   "source": [
    "obs_collection = data_products_by_obs['obs_collection'][0]\n",
    "obs_id = data_products_by_obs['obs_id'][0]\n",
    "\n",
    "single_obs = Observations.query_criteria(obs_collection=obs_collection, obs_id=obs_id)\n",
    "data_products = Observations.get_product_list(single_obs)\n",
    "\n",
    "manifest = Observations.download_products(data_products, productType=\"SCIENCE\")"
   ]
  },
  {
   "cell_type": "code",
   "execution_count": null,
   "id": "efeb174b",
   "metadata": {},
   "outputs": [],
   "source": [
    "print(manifest)"
   ]
  },
  {
   "cell_type": "markdown",
   "id": "6b877f17",
   "metadata": {},
   "source": [
    "We've now successfully downloaded MAST data using the astroquery.mast API."
   ]
  },
  {
   "cell_type": "markdown",
   "id": "6e5337b0",
   "metadata": {},
   "source": [
    "# Method 3: Directly using the MAST API.\n",
    "The final approach is a bit more hands-on and requires more code, but it allows for the most flexibility. Additionally, it provides the most insight into what's going on \"under the hood\" with the MAST requests. This approach requires the [Astropy](https://www.astropy.org/) and [NumPy](https://numpy.org/) dependencies.\n",
    "\n",
    "This portion of the tutorial is inspired by the general [MAST API tutorial](_https://mast.stsci.edu/api/v0/MastApiTutorial.html)."
   ]
  },
  {
   "cell_type": "code",
   "execution_count": 16,
   "id": "d230c0d4",
   "metadata": {
    "ExecuteTime": {
     "end_time": "2022-06-23T03:49:58.608183Z",
     "start_time": "2022-06-23T03:49:58.601776Z"
    }
   },
   "outputs": [],
   "source": [
    "pp = pprint.PrettyPrinter(indent=4)"
   ]
  },
  {
   "cell_type": "markdown",
   "id": "89233354",
   "metadata": {},
   "source": [
    "We'll start by defining a function that processes MAST queries."
   ]
  },
  {
   "cell_type": "code",
   "execution_count": 17,
   "id": "fef34033",
   "metadata": {
    "ExecuteTime": {
     "end_time": "2022-06-23T03:49:59.330683Z",
     "start_time": "2022-06-23T03:49:59.318741Z"
    }
   },
   "outputs": [],
   "source": [
    "def mast_query(request):\n",
    "    \"\"\"Perform a MAST query.\n",
    "    \n",
    "        Parameters\n",
    "        ----------\n",
    "        request (dictionary): The MAST request json object\n",
    "        \n",
    "        Returns head,content where head is the response HTTP headers, and content is the returned data\"\"\"\n",
    "    \n",
    "    # Base API url\n",
    "    request_url='https://mast.stsci.edu/api/v0/invoke'    \n",
    "    \n",
    "    # Grab Python Version \n",
    "    version = \".\".join(map(str, sys.version_info[:3]))\n",
    "\n",
    "    # Create HTTP Header Variables\n",
    "    headers = {\"Content-type\": \"application/x-www-form-urlencoded\",\n",
    "               \"Accept\": \"text/plain\",\n",
    "               \"User-agent\":\"python-requests/\"+version}\n",
    "\n",
    "    # Encoding the request as a json string\n",
    "    req_string = json.dumps(request)\n",
    "    req_string = urlencode(req_string)\n",
    "    \n",
    "    # Perform the HTTP request\n",
    "    resp = requests.post(request_url, data=\"request=\"+req_string, headers=headers)\n",
    "    \n",
    "    # Pull out the headers and response content\n",
    "    head = resp.headers\n",
    "    content = resp.content.decode('utf-8')\n",
    "\n",
    "    return head, content"
   ]
  },
  {
   "cell_type": "markdown",
   "id": "57775c38",
   "metadata": {},
   "source": [
    "Sticking with out previous example, let's look at the planet KELT-9 b."
   ]
  },
  {
   "cell_type": "code",
   "execution_count": 18,
   "id": "159da2a8",
   "metadata": {
    "ExecuteTime": {
     "end_time": "2022-06-23T03:50:00.172219Z",
     "start_time": "2022-06-23T03:49:59.990683Z"
    }
   },
   "outputs": [
    {
     "name": "stdout",
     "output_type": "stream",
     "text": [
      "{   'resolvedCoordinate': [   {   'cached': False,\n",
      "                                  'canonicalName': 'KELT-9 b',\n",
      "                                  'decl': 39.938828,\n",
      "                                  'ra': 307.859802,\n",
      "                                  'resolver': 'EXO',\n",
      "                                  'resolverTime': 38,\n",
      "                                  'searchRadius': 0.000333,\n",
      "                                  'searchString': 'kelt-9 b'}],\n",
      "    'status': ''}\n"
     ]
    }
   ],
   "source": [
    "object_of_interest = 'KELT-9 b'\n",
    "\n",
    "resolver_request = {'service':'Mast.Name.Lookup',\n",
    "                     'params':{'input':object_of_interest,\n",
    "                               'format':'json'},\n",
    "                     }\n",
    "\n",
    "headers, resolved_object_string = mast_query(resolver_request)\n",
    "\n",
    "resolved_object = json.loads(resolved_object_string)\n",
    "\n",
    "pp.pprint(resolved_object)"
   ]
  },
  {
   "cell_type": "markdown",
   "id": "1a8e0924",
   "metadata": {},
   "source": [
    "Parsing apart some of the output:\n",
    "- the *cached* field denotes whether this result has already been saved on this device.\n",
    "- the *canonicalName* field denotes the default name of the planet.\n",
    "- the *decl* (float) field denotes the declination of the resolved coordinate.\n",
    "- the *ra* (float) field denotes the right ascention of the resolved coordinate.\n",
    "- the *searchRadius* field denotes the raidius of the search.\n",
    "\n",
    "See the documentation (link) for further information."
   ]
  },
  {
   "cell_type": "markdown",
   "id": "d5477ac0",
   "metadata": {},
   "source": [
    "Now that we've resolved our target, let's save its coordinates as variables (as floats) — we'll need them later on."
   ]
  },
  {
   "cell_type": "code",
   "execution_count": 23,
   "id": "71d77ac8",
   "metadata": {
    "ExecuteTime": {
     "end_time": "2022-06-23T03:50:42.505222Z",
     "start_time": "2022-06-23T03:50:42.495228Z"
    }
   },
   "outputs": [
    {
     "data": {
      "text/plain": [
       "(307.859802, 39.938828)"
      ]
     },
     "execution_count": 23,
     "metadata": {},
     "output_type": "execute_result"
    }
   ],
   "source": [
    "obj_ra = resolved_object['resolvedCoordinate'][0]['ra']\n",
    "obj_dec = resolved_object['resolvedCoordinate'][0]['decl']\n",
    "\n",
    "obj_ra, obj_dec"
   ]
  },
  {
   "cell_type": "markdown",
   "id": "7828e71f",
   "metadata": {},
   "source": [
    "With the coordinates of the object now known, we can run a *Mast.Caom.Cone* query to retrieve metadata on all MAST data around this coordinate."
   ]
  },
  {
   "cell_type": "code",
   "execution_count": null,
   "id": "3d9ea1ef",
   "metadata": {},
   "outputs": [],
   "source": [
    "mast_request = {'service':'Mast.Caom.Cone',\n",
    "                'params':{'ra':obj_ra,\n",
    "                          'dec':obj_dec,\n",
    "                          'radius':0.2},\n",
    "                'format':'json',\n",
    "                'pagesize':2000,\n",
    "                'page':1,\n",
    "                'removenullcolumns':True,\n",
    "                'removecache':True}\n",
    "\n",
    "headers, mast_data_str = mast_query(mast_request)\n",
    "\n",
    "mast_data = json.loads(mast_data_str)\n",
    "\n",
    "print(mast_data.keys())\n",
    "print(\"Query status:\",mast_data['status'])"
   ]
  },
  {
   "cell_type": "markdown",
   "id": "40db47d2",
   "metadata": {},
   "source": [
    "Let's take a look at the first returned data entry."
   ]
  },
  {
   "cell_type": "code",
   "execution_count": null,
   "id": "f24af07d",
   "metadata": {},
   "outputs": [],
   "source": [
    "pp.pprint(mast_data['data'][0])"
   ]
  },
  {
   "cell_type": "markdown",
   "id": "d409c802",
   "metadata": {},
   "source": [
    "There's a lot of metadata here, and it's a bit hard to understand all at once. To make things a bit more digestible, we can create an astropy Table."
   ]
  },
  {
   "cell_type": "code",
   "execution_count": null,
   "id": "0e85efe4",
   "metadata": {},
   "outputs": [],
   "source": [
    "mast_data_table = Table()\n",
    "\n",
    "# todo: explain loop\n",
    "for col,atype in [(x['name'],x['type']) for x in mast_data['fields']]:\n",
    "    if atype==\"string\":\n",
    "        atype=\"str\"\n",
    "    if atype==\"boolean\":\n",
    "        atype=\"bool\"\n",
    "    mast_data_table[col] = np.array([x.get(col,None) for x in mast_data['data']],dtype=atype)\n",
    "    \n",
    "print(mast_data_table)"
   ]
  },
  {
   "cell_type": "code",
   "execution_count": null,
   "id": "08ab17e8",
   "metadata": {},
   "outputs": [],
   "source": [
    "mast_data_table.sort('t_min')"
   ]
  },
  {
   "cell_type": "markdown",
   "id": "66926665",
   "metadata": {},
   "source": [
    "With our metadata all acquired, we can now sort it based on, e.g., start date."
   ]
  },
  {
   "cell_type": "code",
   "execution_count": null,
   "id": "615d3933",
   "metadata": {
    "scrolled": false
   },
   "outputs": [],
   "source": [
    "print(mast_data_table)"
   ]
  },
  {
   "cell_type": "markdown",
   "id": "f3afc572",
   "metadata": {},
   "source": [
    "Let's get most recent (HST) data product."
   ]
  },
  {
   "cell_type": "code",
   "execution_count": null,
   "id": "ae5c2857",
   "metadata": {},
   "outputs": [],
   "source": [
    "# Picking the first Hubble Space Telescope observation\n",
    "# todo: explain why -1 index\n",
    "interesting_observation = mast_data_table[mast_data_table[\"obs_collection\"] == \"HST\"][-1]\n",
    "print(\"Observation:\",\n",
    "      [interesting_observation[x] for x in ['dataproduct_type', 'obs_collection', 'instrument_name']])"
   ]
  },
  {
   "cell_type": "markdown",
   "id": "435c104d",
   "metadata": {},
   "source": [
    "It appears that the latest HST data for this target is a STIS (todo: what's that acronym?) spectrum.\n",
    "\n",
    "We can search MAST using the obsid of this observation to determine how many data products are associated with this observation."
   ]
  },
  {
   "cell_type": "code",
   "execution_count": null,
   "id": "c555785a",
   "metadata": {},
   "outputs": [],
   "source": [
    "obsid = interesting_observation['obsid']\n",
    "\n",
    "product_request = {'service':'Mast.Caom.Products',\n",
    "                  'params':{'obsid':obsid},\n",
    "                  'format':'json',\n",
    "                  'pagesize':100,\n",
    "                  'page':1}   \n",
    "\n",
    "headers, obs_products_string = mast_query(product_request)\n",
    "\n",
    "obs_products = json.loads(obs_products_string)\n",
    "\n",
    "print(\"Number of data products:\", len(obs_products[\"data\"]))\n",
    "print(\"Product information column names:\")\n",
    "pp.pprint(obs_products['fields'])"
   ]
  },
  {
   "cell_type": "markdown",
   "id": "5f71d754",
   "metadata": {},
   "source": [
    "We can also see what *types* these data products are."
   ]
  },
  {
   "cell_type": "code",
   "execution_count": null,
   "id": "5df9c553",
   "metadata": {},
   "outputs": [],
   "source": [
    "pp.pprint([x.get('productType',\"\") for x in obs_products[\"data\"]])"
   ]
  },
  {
   "cell_type": "markdown",
   "id": "d5d124fc",
   "metadata": {},
   "source": [
    "We can place these results in a table as well, restricting ourselves to the science products."
   ]
  },
  {
   "cell_type": "code",
   "execution_count": null,
   "id": "ad4c4e5e",
   "metadata": {},
   "outputs": [],
   "source": [
    "sci_prod_arr = [x for x in obs_products['data'] if x.get(\"productType\", None) == 'SCIENCE']\n",
    "science_products = Table()\n",
    "\n",
    "for col, atype in [(x['name'], x['type']) for x in obs_products['fields']]:\n",
    "    if atype==\"string\":\n",
    "        atype=\"str\"\n",
    "    if atype==\"boolean\":\n",
    "        atype=\"bool\"\n",
    "    if atype == \"int\":\n",
    "        atype = \"float\" # array may contain nan values, and they do not exist in numpy integer arrays\n",
    "    science_products[col] = np.array([x.get(col,None) for x in sci_prod_arr],dtype=atype)\n",
    "\n",
    "print(\"Number of science products:\",len(science_products))\n",
    "print(science_products)"
   ]
  },
  {
   "cell_type": "markdown",
   "id": "88d2fdf3",
   "metadata": {},
   "source": [
    "Next, let's download these data products using the [requests](https://requests.readthedocs.io/en/latest/) package."
   ]
  },
  {
   "cell_type": "code",
   "execution_count": null,
   "id": "f09e25f6",
   "metadata": {},
   "outputs": [],
   "source": [
    "download_url = 'https://mast.stsci.edu/api/v0.1/Download/file?'\n",
    "\n",
    "for row in science_products:     \n",
    "\n",
    "    # make file path\n",
    "    out_path = os.path.join(\"mastFiles\", row['obs_collection'], row['obs_id'])\n",
    "    if not os.path.exists(out_path):\n",
    "        os.makedirs(out_path)\n",
    "    out_path = os.path.join(out_path, os.path.basename(row['productFilename']))\n",
    "        \n",
    "    # Download the data\n",
    "    payload = {\"uri\":row['dataURI']}\n",
    "    resp = requests.get(download_url, params=payload)\n",
    "    \n",
    "    # save to file\n",
    "    with open(out_path,'wb') as FLE:\n",
    "        FLE.write(resp.content)\n",
    "        \n",
    "    # check for file \n",
    "    if not os.path.isfile(out_path):\n",
    "        print(\"ERROR: \" + out_path + \" failed to download.\")\n",
    "    else:\n",
    "        print(\"COMPLETE: \", out_path)"
   ]
  },
  {
   "cell_type": "markdown",
   "id": "e4f226be",
   "metadata": {},
   "source": [
    "You can check that these data files have been downloaded correctly by checking `out_path`."
   ]
  },
  {
   "cell_type": "code",
   "execution_count": null,
   "id": "20b1db1e",
   "metadata": {},
   "outputs": [],
   "source": [
    "ls mastFiles/HST/oecfz2050/"
   ]
  },
  {
   "cell_type": "markdown",
   "id": "137bb9e2",
   "metadata": {},
   "source": [
    "Great! We've successfully downloaded the data for this planet via MAST."
   ]
  },
  {
   "cell_type": "markdown",
   "id": "567619ad",
   "metadata": {},
   "source": [
    "# Exercises\n",
    "- Repeat this for Spitzer?\n",
    "- Query a light curve?\n",
    "- Read in and plot the data? Compare to a downloaded plot?"
   ]
  },
  {
   "cell_type": "markdown",
   "id": "d959c981",
   "metadata": {},
   "source": [
    "# Additional Resources\n",
    "- An [introduction to HTTP GET requests](https://www.ibm.com/docs/en/cics-ts/5.3?topic=protocol-http-requests).\n",
    "- Primers on exoplanet spectral data types ([Deming, Louie, and Sheets 2018](https://iopscience.iop.org/article/10.1088/1538-3873/aae5c5/meta?casa_token=253HfRr4kyYAAAAA:C0CtfuH4Um2l4Kul5O3tajY2TolSVuXi8fGj48bzSlmJIuvPmeYkb1yXtd10MOjwPqJokDpNvv4)) and on lightcurves ([Winn 2010](https://books.google.com/books?hl=en&lr=&id=VlSVmxgPgGYC&oi=fnd&pg=PA55&dq=exoplanet+transits&ots=-sl8U--Mws&sig=lvBd93ioa2YDxehtpxSx6nL82UA#v=onepage&q=exoplanet%20transits&f=false))\n",
    "- Information on the [TESS Mission](https://tess.mit.edu/).\n",
    "- A [neat blog post](https://nedbatchelder.com/blog/201206/eval_really_is_dangerous.html) on why `literal_eval` is preferred to `eval`.\n",
    "- [Prettyprint documentation](https://docs.python.org/3/library/pprint.html)\n",
    "\n",
    "- [Gaudi, B. Scott, et al. \"A giant planet undergoing extreme-ultraviolet irradiation by its hot massive-star host.\" Nature 546.7659 (2017): 514-518.](https://www.nature.com/articles/nature22392)\n",
    "- [Bakos, G. Á., et al. \"HAT-P-11b: A super-Neptune planet transiting a bright K star in the Kepler field.\" The Astrophysical Journal 710.2 (2010): 1724.](https://iopscience.iop.org/article/10.1088/0004-637X/710/2/1724/meta)\n",
    "- [exo.MAST tutorial](https://exo.mast.stsci.edu/docs/getting_started.html#resolving-exoplanets)\n",
    "- [astroquery.MAST documentation](https://astroquery.readthedocs.io/en/latest/mast/mast.html)\n",
    "- [MAST API documentation](https://mast.stsci.edu/api/v0/MastApiTutorial.html)"
   ]
  },
  {
   "cell_type": "markdown",
   "id": "648a761c",
   "metadata": {},
   "source": [
    "# About this Notebook\n",
    "\n",
    "**Author**: Arjun B. Savel (asavel@umd.edu).\n",
    "\n",
    "**Last updated**: 2022-06-12"
   ]
  },
  {
   "cell_type": "markdown",
   "id": "f3b89bea",
   "metadata": {},
   "source": [
    "# Citations\n",
    "If you use `astropy`, `astroquery`, or `numpy` for published research, please cite the\n",
    "authors. Follow these links for more information about citing `astropy`,\n",
    "`astroquery`, and `numpy`:\n",
    "\n",
    "* [Citing `astropy`](https://www.astropy.org/acknowledging.html)\n",
    "* [Citing `astroquery`](https://astroquery.readthedocs.io/en/latest/#astroquery)\n",
    "* [Citing `numpy`](https://numpy.org/citing-numpy/)\n"
   ]
  },
  {
   "cell_type": "markdown",
   "id": "fb40938b",
   "metadata": {},
   "source": [
    "***"
   ]
  },
  {
   "cell_type": "markdown",
   "id": "e5e823b5",
   "metadata": {},
   "source": [
    "[Top of Page](#top)<img style=\"float: right;\" src=\"https://raw.githubusercontent.com/spacetelescope/notebooks/master/assets/stsci_pri_combo_mark_horizonal_white_bkgd.png\" alt=\"Space Telescope Logo\" width=\"200px\"/>\n"
   ]
  }
 ],
 "metadata": {
  "kernelspec": {
   "display_name": "Python 3 (ipykernel)",
   "language": "python",
   "name": "python3"
  },
  "language_info": {
   "codemirror_mode": {
    "name": "ipython",
    "version": 3
   },
   "file_extension": ".py",
   "mimetype": "text/x-python",
   "name": "python",
   "nbconvert_exporter": "python",
   "pygments_lexer": "ipython3",
   "version": "3.10.5"
  }
 },
 "nbformat": 4,
 "nbformat_minor": 5
}
