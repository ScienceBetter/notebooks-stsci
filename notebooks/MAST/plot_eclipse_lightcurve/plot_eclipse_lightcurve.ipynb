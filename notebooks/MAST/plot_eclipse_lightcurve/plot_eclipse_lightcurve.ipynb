{
 "cells": [
  {
   "cell_type": "markdown",
   "metadata": {
    "slideshow": {
     "slide_type": "slide"
    }
   },
   "source": [
    "# Searching for and Plotting Lightcurves of Eclipsing Binary Stars"
   ]
  },
  {
   "cell_type": "markdown",
   "metadata": {
    "slideshow": {
     "slide_type": "skip"
    }
   },
   "source": [
    "***"
   ]
  },
  {
   "cell_type": "markdown",
   "metadata": {},
   "source": [
    "## Learning Goals\n",
    ">Write three to five learning goals. A learning goal should describe what a reader should know or be able to do by the >end of the tutorial that they didn't know or couldn't do before.\n",
    "\n",
    "By the end of this tutorial, you will:\n",
    "\n",
    "- Use VizieR to load a digital catalog or table from a publication in a refereed astronomy journal. \n",
    "- Use `astroquery` to load the APOGEE Binary Radial Velocity catalog and narrow down a list of stellar binaries by a set of parameters. \n",
    "- Determine if a stellar system in the APOGEE catalog has lightcurve in the TESS Data for Asteroseismology Lightcurves archive from TASOC (the TESS Asterosesmic Science Operations Center) or in the TESS Lightcurves From The MIT Quick-Look Pipeline (\"QLP\") archive. \n",
    "- If so, plot the lightcurve using `lightkurve`.\n",
    "- (Maybe?) Given a known eclipsing cadence, predict future eclipsing event dates/times for follow up observations.\n",
    "- (Not this tutorial, likely a second one, but putting the idea here for future refrence) Cross-reference two catalogs to find objects that appear in both. "
   ]
  },
  {
   "cell_type": "markdown",
   "metadata": {
    "slideshow": {
     "slide_type": "slide"
    }
   },
   "source": [
    "## Introduction\n",
    ">Write a short introduction explaining the purpose of the tutorial. Define any terms or common acronyms that your audience may not know. If you're using some kind of domain-specific astronomical symbol or unusual mathematical concept, make sure you define it (for example, in its mathematical form) and link to any definitions (from literature, Wikipedia, etc.).\n",
    "\n",
    ">If there are background materials or resources that may be useful to the reader to provide additional context, you may link to it here. If your tutorial is a continuation from another tutorial, or there are other tutorials that would be useful for the reader to read before or after your tutorial, mention that here as well.\n",
    "\n",
    "Just like extrasolar planets, binary star systems can be discovered by multiple methods. Three of the methods include:\n",
    "\n",
    "1. Astrometry (explain, visual binary)\n",
    "2. Radial velocity (explain, spectroscopic binary)\n",
    "3. Eclipses. \n",
    "\n",
    "Notes: \n",
    "- Define eclipse, transit, binary, multiple. Asteroseismology! \n",
    "- The observations/missions used\n",
    "- The Apache Point Observatory Galactic Evolution Experiment, APOGEE-1 and APOGEE-2 surveys... https://www.sdss.org/surveys/apogee-2/ \n",
    "- Something about, do binary system candidates identified with RV also have TESS lightcurves that show eclipses. What info can be gathered from each type of observation and why eclipse would add more information. Narrow down to e.g. short orbital periods, why most likely to find it with that. Choose ones that do it. \n",
    "\n",
    "In this tutorial, we will load a catalog of binary stellar systems discovered through the radial velocity method and investigate if those systems have also have lightcurves from the TESS mission that observed eclipsing.  \n"
   ]
  },
  {
   "cell_type": "markdown",
   "metadata": {
    "slideshow": {
     "slide_type": "slide"
    }
   },
   "source": [
    "## Imports\n",
    ">Describe the libraries we're using here. If there's something unusual, explain what the library is, and why we need it.\n",
    "\n",
    "- *numpy* to handle array functions\n",
    "- *astropy.io fits* for accessing FITS files # Needed?\n",
    "- *astropy.table Table* for creating tidy tables of the data\n",
    "- *matplotlib.pyplot* for plotting data\n",
    "- *astroquery.mast Observations* for querying MAST for observations\n",
    "- *astroquery.vizier Vizier* for querying Vizier for published tables\n",
    "- *lightkurve* for plotting TESS lightcurves from the QLP or TASOC archives hosted on MASS\n",
    "\n",
    "You may need to [install the ```lightkurve``` package using its quickstart guide](https://docs.lightkurve.org/quickstart.html). \n",
    "\n",
    "JRK update when done."
   ]
  },
  {
   "cell_type": "code",
   "execution_count": 93,
   "metadata": {
    "slideshow": {
     "slide_type": "fragment"
    }
   },
   "outputs": [],
   "source": [
    "%matplotlib inline\n",
    "import numpy as np\n",
    "from astropy.io import fits\n",
    "from astropy.table import Table\n",
    "import matplotlib.pyplot as plt\n",
    "from astroquery.mast import Mast\n",
    "from astroquery.mast import Observations\n",
    "# Above were from the template, JRK review which ones end up applicable.\n",
    "from astroquery.vizier import Vizier\n",
    "import lightkurve as lk"
   ]
  },
  {
   "cell_type": "markdown",
   "metadata": {},
   "source": [
    "***"
   ]
  },
  {
   "cell_type": "markdown",
   "metadata": {},
   "source": [
    "## Loading the APOGEE Binary Radial Velocity catalog from VizieR\n",
    "\n",
    "The catalogs and data tables produced for astrophysical publications in refereed journals are made accessible in digital form through the CDS VizieR catalog service. First, we'll use astroquery to find the tables associated with [Price-Whelan et al. 2018 (AJ, 156, 1, 18)](https://ui.adsabs.harvard.edu/abs/2018AJ....156...18P/abstract), a catalog of ~5000 binary compansions of evolved stars in APOGEE DR14. "
   ]
  },
  {
   "cell_type": "markdown",
   "metadata": {
    "slideshow": {
     "slide_type": "slide"
    }
   },
   "source": [
    ">Loading data and file information should appear within your main content, at the same time the data is going to be used, if possible. These elements of your tutorial can be their own sections within the main content, but avoid generic or vague headings like “Loading Data” and instead use descriptive headings pertinent to the content of the tutorial and the actual data being downloaded or files being used.\n",
    "\n",
    ">If the user needs to download data to run the tutorial properly, where possible, use [Astroquery](https://astroquery.readthedocs.io/en/latest/) (or similar) to retrieve files. If this is not possible, see the [data guide](https://github.com/spacetelescope/style-guides/blob/master/guides/where-to-put-your-data.md) for other options."
   ]
  },
  {
   "cell_type": "markdown",
   "metadata": {},
   "source": [
    "If we didn't know the the specific 'key' or unique string that identifies the dataset we want, we could query Vizier by the author name. In the first query below, ```catalog_list1``` is an ordered dictionary. Alternatively, we could search for any catalogs that could be found with the key words 'APOGEE' and 'binary,' as we do for catalog_list2."
   ]
  },
  {
   "cell_type": "code",
   "execution_count": 56,
   "metadata": {
    "slideshow": {
     "slide_type": "fragment"
    }
   },
   "outputs": [
    {
     "name": "stderr",
     "output_type": "stream",
     "text": [
      "WARNING: UnitsWarning: Unit 'Sun' not supported by the VOUnit standard. Did you mean uN? [astropy.units.format.vounit]\n"
     ]
    },
    {
     "name": "stdout",
     "output_type": "stream",
     "text": [
      "17 results for \"Price-Whelan\" query:\n",
      "{'J/ApJ/760/12': 'LIGO/Virgo gravitational-wave (GW) bursts with GRBs (Abadie+, 2012)', 'J/ApJ/785/119': 'Gravitational waves from known pulsars (Aasi+, 2014)', 'J/ApJ/809/59': 'Ophiuchus stellar stream with PS1 data (Sesar+, 2015)', 'J/ApJ/813/39': 'LIGO gravitational-wave (GW) searches from SNRs (Aasi+, 2015)', 'J/ApJ/816/L4': 'Candidate BHB stars in Ophiuchus stream (Sesar+, 2016)', 'J/ApJ/838/107': 'Distances to RRab stars from WISE and Gaia (Sesar+, 2017)', 'J/ApJ/854/47': 'RRab stars of Monoceros Ring & A13 overdensities (Sheffield+, 2018)', 'J/ApJ/859/L8': 'Properties of TriAnd stars (Hayes+, 2018)', 'J/ApJ/866/133': 'Continuum-H{beta} light curves of 5 Seyfert 1 (De Rosa+, 2018)', 'J/ApJ/887/19': 'DECam phot. of Gaia stars in Price-Whelan 1 (Price-Whelan+, 2019)', 'J/ApJ/887/115': 'Spectra of 28 stars in Price-Whelan 1 association (Nidever+, 2019)', 'J/ApJ/889/63': 'Properties of Sgr Stars (Hayes+, 2020)', 'J/AJ/153/257': 'Comoving stars in Gaia DR1 (Oh+, 2017)', 'J/AJ/156/18': 'APOGEE DR14:Binary companions of evolved stars (Price-Whelan+, 2018)', 'J/AJ/158/223': 'RR Lyrae members of the Pal 5 stellar stream (Price-Whelan+, 2019)', 'J/AJ/159/287': 'Stellar parameters in Ophiuchus Stream with MMT (Caldwell+, 2020)', 'J/AJ/160/90': 'Stellar parameters for 13196 Kepler dwarfs (Angus+, 2020)'}\n",
      "2 results for \"APOGEE binary\" query:\n",
      "{'J/AJ/156/18': 'APOGEE DR14:Binary companions of evolved stars (Price-Whelan+, 2018)', 'J/AJ/158/106': 'Eclipsing binaries RVs from APOGEE spectra (Cunningham+, 2019)'}\n"
     ]
    },
    {
     "name": "stderr",
     "output_type": "stream",
     "text": [
      "WARNING: UnitsWarning: Unit 'Sun' not supported by the VOUnit standard. Did you mean uN? [astropy.units.format.vounit]\n"
     ]
    }
   ],
   "source": [
    "catalog_list1 = Vizier.find_catalogs('Price-Whelan') \n",
    "print(str(len(catalog_list1.items()))+' results for \"Price-Whelan\" query:')\n",
    "print({k:v.description for k,v in catalog_list1.items()})\n",
    "catalog_list2 = Vizier.find_catalogs('APOGEE binary') \n",
    "print(str(len(catalog_list2.items()))+' results for \"APOGEE binary\" query:')\n",
    "print({k:v.description for k,v in catalog_list2.items()})"
   ]
  },
  {
   "cell_type": "markdown",
   "metadata": {},
   "source": [
    "Using either of the results above, we can find that 'J/AJ/156/18' is the key that matches the paper we were looking for. \n",
    "\n",
    "It's also possible to skip the searching step. When working with data from a publication, look for the \"Data Products\" or \"Related Materials\" sections of its entry in [ADS](https://ui.adsabs.harvard.edu/) for direct links to online supplemental material. In our case, \"Catalog: 2019yCat..51560018P\" is listed under related materials; this is the ADS entry for the catalog itself. \"CDS(1)\" is listed under \"Data Products\"; this is the link to the VizieR entry, where we can see that the catalog key is J/AJ/156/18. With this key, we can directly load all the tables in this catalog. "
   ]
  },
  {
   "cell_type": "code",
   "execution_count": 57,
   "metadata": {},
   "outputs": [
    {
     "name": "stdout",
     "output_type": "stream",
     "text": [
      "TableList with 8 tables:\n",
      "\t'0:J/AJ/156/18/table2' with 5 column(s) and 96231 row(s) \n",
      "\t'1:J/AJ/156/18/table3' with 1 column(s) and 4898 row(s) \n",
      "\t'2:J/AJ/156/18/table4a' with 13 column(s) and 320 row(s) \n",
      "\t'3:J/AJ/156/18/table4b' with 10 column(s) and 320 row(s) \n",
      "\t'4:J/AJ/156/18/table4c' with 12 column(s) and 320 row(s) \n",
      "\t'5:J/AJ/156/18/table5a' with 12 column(s) and 212 row(s) \n",
      "\t'6:J/AJ/156/18/table5b' with 6 column(s) and 212 row(s) \n",
      "\t'7:J/AJ/156/18/table5c' with 6 column(s) and 212 row(s) \n"
     ]
    },
    {
     "name": "stderr",
     "output_type": "stream",
     "text": [
      "WARNING: UnitsWarning: Unit 'Sun' not supported by the VOUnit standard. Did you mean uN? [astropy.units.format.vounit]\n"
     ]
    }
   ],
   "source": [
    "catalogs=Vizier.get_catalogs('J/AJ/156/18')\n",
    "print(catalogs)"
   ]
  },
  {
   "cell_type": "markdown",
   "metadata": {},
   "source": [
    "There are actually multiple tables available within this catalog entry, so we'll need to investigate more to find which ones contain the list of binary star systems. Furthermore, the title of the paper says there should be about 5000 sources in the catalog, so the \"50 row(s)\" shown above must mean our tables are being truncated. Using the command below, we'll remove the row limit and retrieve the catalog again. "
   ]
  },
  {
   "cell_type": "code",
   "execution_count": 58,
   "metadata": {},
   "outputs": [
    {
     "name": "stdout",
     "output_type": "stream",
     "text": [
      "TableList with 8 tables:\n",
      "\t'0:J/AJ/156/18/table2' with 5 column(s) and 96231 row(s) \n",
      "\t'1:J/AJ/156/18/table3' with 1 column(s) and 4898 row(s) \n",
      "\t'2:J/AJ/156/18/table4a' with 13 column(s) and 320 row(s) \n",
      "\t'3:J/AJ/156/18/table4b' with 10 column(s) and 320 row(s) \n",
      "\t'4:J/AJ/156/18/table4c' with 12 column(s) and 320 row(s) \n",
      "\t'5:J/AJ/156/18/table5a' with 12 column(s) and 212 row(s) \n",
      "\t'6:J/AJ/156/18/table5b' with 6 column(s) and 212 row(s) \n",
      "\t'7:J/AJ/156/18/table5c' with 6 column(s) and 212 row(s) \n"
     ]
    },
    {
     "name": "stderr",
     "output_type": "stream",
     "text": [
      "WARNING: UnitsWarning: Unit 'Sun' not supported by the VOUnit standard. Did you mean uN? [astropy.units.format.vounit]\n"
     ]
    }
   ],
   "source": [
    "Vizier.ROW_LIMIT = -1\n",
    "catalogs=Vizier.get_catalogs('J/AJ/156/18')\n",
    "print(catalogs)"
   ]
  },
  {
   "cell_type": "markdown",
   "metadata": {},
   "source": [
    "The tables in the TableList can be referenced by their integer number (```catalogs[0]```) or named key (```catalogs['J/AJ/156/18/table2']```). By the length alone, ```catalogs[1]``` appears to be the list of the nearly 5000 binary candidates. Reading the source paper itself lets us know exactly what these tables show:\n",
    "\n",
    "- Table 2 contains the 96,231 stars that were the parent sample for this work.\n",
    "- Table 3 contains the 4898 stars that likely have a companion, but orbital properties could not be constrained.\n",
    "- Tables 4a, 4b, and 4c contain the 320 systems with uniquely determined companion orbits.\n",
    "- Tables 5a, 5b, and 5c contain the 106 systems with two distinct companion orbit possibilities each.\n",
    "\n",
    "While any of these stars may have visible eclipses observed by TESS, we'll start out search with the most likely candidates. The larger the mass of the evolved star's companion, the brigher it will be, and the change in the observed luminosity of the stellar system will be the most pronounced during an eclipse. Furthermore, a system with a shorter orbital period will also be the most likely to have an eclipse successfully observed by TESS. Let's focus on one of the stellar systems with already determined orbits (Table 4) to demonstrate how to find its corresponding lightcurve from TESS. "
   ]
  },
  {
   "cell_type": "markdown",
   "metadata": {},
   "source": [
    "#### Selecting one stellar system from the catalog's Table 4"
   ]
  },
  {
   "cell_type": "markdown",
   "metadata": {},
   "source": [
    "We need to see which columns of data are in which table, since Table 4 is separated into 3 parts. "
   ]
  },
  {
   "cell_type": "code",
   "execution_count": 59,
   "metadata": {},
   "outputs": [
    {
     "name": "stdout",
     "output_type": "stream",
     "text": [
      "<TableColumns names=('APOGEE','M0','omega','K','Teff','logg','__Fe_H_','logM','Jmag','Hmag','Ksmag','RAJ2000','DEJ2000')>\n",
      "<TableColumns names=('APOGEE','TeffA','loggA','Vmicro','Vmacro','vsini','__Z_H_','__a_M_','chi2A','TClass')>\n",
      "<TableColumns names=('APOGEE','__C_Fe_','__CI_Fe_','__N_Fe_','__O_Fe_','__Na_Fe_','__Mg_Fe_','_4.5magW','_4.5targ','EK','pmRA','pmDE')>\n"
     ]
    }
   ],
   "source": [
    "catids=[2,3,4]\n",
    "for i in catids:\n",
    "    print(catalogs[i].columns)"
   ]
  },
  {
   "cell_type": "markdown",
   "metadata": {},
   "source": [
    "We wanted to make our selections based on the period and the relative masses of the two stars in the system, but those columns are not included here! Not all columns are selected by default with VizieR. Visiting [the VizieR site itself for Table 4a](https://vizier.cfa.harvard.edu/viz-bin/VizieR-3?-source=J/AJ/156/18/table4a) shows us which columns are included by default as well as the names of the other columns we are missing. Let's redo our call to VizieR to specifically choose the columns we want. We can do this by creating a new instance of the ```VizierClass``` that will only include the columns we choose. From [Table 4a's online version in VizieR](https://vizier.cfa.harvard.edu/viz-bin/VizieR-3?-source=J/AJ/156/18/table4a), we can find the keys for the following columns:\n",
    "\n",
    "- APOGEE, the identifier used by APOGEE.\n",
    "- Per, the period in days.\n",
    "- M1, the primary mass estimate.\n",
    "- M2min, the minimum companion mass.\n",
    "- qmin, the minimum mass ratio.\n",
    "- RAJ2000, Right Ascension in decimal degrees (J2000)\n",
    "- DECJ2000, Declination in decimal degrees (J2000)\n",
    "\n",
    "Additionally, we can also filter the rows to only include those stellar systems that have a qmin, or minimum mass ratio of the companion to the primary star, of 0.3 and above.\n",
    "\n",
    "Finally, we'll rename Table 4a as tbl and sort it in ascending order by the period in days."
   ]
  },
  {
   "cell_type": "code",
   "execution_count": 62,
   "metadata": {},
   "outputs": [
    {
     "name": "stdout",
     "output_type": "stream",
     "text": [
      "      APOGEE          Per        M1     M2min     qmin    RAJ2000    DEJ2000  \n",
      "                       d      solMass  solMass              deg        deg    \n",
      "------------------ ---------- -------- -------- -------- ---------- ----------\n",
      "2M00092789+0145417    2.61133  0.78317  0.40848  0.52157   2.366216   1.761607\n",
      "2M00104203+0152065   23.47142  0.92806  0.36483  0.39311   2.675149   1.868474\n",
      "2M19364967+3813244   24.72355  0.88201  0.31293  0.35479 294.206988  38.223454\n",
      "2M20183197+1953430   51.30696  1.96604  1.36037  0.69193 304.633241  19.895283\n",
      "2M01210284+8431304   54.25957  2.25258  0.96650  0.42906  20.261862  84.525131\n",
      "2M04411627+5855354   56.05161  1.46516  0.61969  0.42295  70.317793  58.926521\n",
      "2M07103169+0712585   62.37094  1.65363  0.58727  0.35514 107.632065   7.216252\n",
      "2M18554795-0751284   72.52728  0.59656  0.42263  0.70845 283.949829  -7.857901\n",
      "2M07282763+2225408   80.29508  1.91156  0.97309  0.50906 112.115125  22.428013\n",
      "2M00085727+7341257   83.66193  1.77608  1.12293  0.63225   2.238636  73.690475\n",
      "               ...        ...      ...      ...      ...        ...        ...\n",
      "2M07021716+0517093  299.16592  1.45416  0.84049  0.57799 105.571533   5.285917\n",
      "2M05011739+2311561  316.63843  1.37879  1.01595  0.73684  75.322468  23.198919\n",
      "2M19422723+2241055  330.40311  1.62019  0.62331  0.38472 295.613463  22.684875\n",
      "2M19145920-0539507  503.73038  1.00905  0.37373  0.37037 288.746698  -5.664099\n",
      "2M11502139+0116009  804.07611  0.93607  1.24830  1.33355 177.589140   1.266923\n",
      "2M11474948+0051345  927.19623  1.09592  0.43679  0.39856 176.956185   0.859605\n",
      "2M21151420+4741327  959.55017  3.06137  1.01348  0.33105 318.809179  47.692417\n",
      "2M19390004+2427162  975.66156  2.35121  1.02374  0.43541 294.750180  24.454500\n",
      "2M18500328-0320450 1034.24927  1.04646  0.35226  0.33662 282.513684  -3.345846\n",
      "2M21361780+0021069 1111.70959  1.17818  0.53902  0.45750 324.074194   0.351926\n",
      "2M07433758+2152015 1321.86084  1.56859  0.85734  0.54657 115.906595  21.867100\n",
      "Length = 39 rows\n"
     ]
    }
   ],
   "source": [
    "v = Vizier(columns=['APOGEE','Per','M1','M2min','qmin','RAJ2000', 'DEJ2000'],\n",
    "           column_filters={\"qmin\":\">0.3\"})\n",
    "v.ROW_LIMIT = -1\n",
    "catalogs=v.get_catalogs('J/AJ/156/18')\n",
    "tbl=catalogs[2]\n",
    "tbl.sort('Per')\n",
    "print(tbl)"
   ]
  },
  {
   "cell_type": "markdown",
   "metadata": {},
   "source": [
    "Our table has been narrowed down from 320 stellar systems to only 39 that meet our criteria. We'll use the entry at the top, ```2M00092789+0145417```, for the remainder of the tutorial."
   ]
  },
  {
   "cell_type": "markdown",
   "metadata": {},
   "source": [
    "## Exercise - how to format these when embedded throughout\n",
    "Exercise 1: Instead of filtering by ```qmin``` and sorting by period, filter by period in days and then sort by ```qmin``` from highest to lowest. Only include rows with a ```qmin``` measurement. How do your resulting tables vary? Which one do you think would be most helpful in trying to find eclipses, and why? "
   ]
  },
  {
   "cell_type": "code",
   "execution_count": 63,
   "metadata": {},
   "outputs": [
    {
     "name": "stdout",
     "output_type": "stream",
     "text": [
      "      APOGEE          Per        M1     M2min     qmin    RAJ2000    DEJ2000  \n",
      "                       d      solMass  solMass              deg        deg    \n",
      "------------------ ---------- -------- -------- -------- ---------- ----------\n",
      "2M18554795-0751284   72.52728  0.59656  0.42263  0.70845 283.949829  -7.857901\n",
      "2M20183197+1953430   51.30696  1.96604  1.36037  0.69193 304.633241  19.895283\n",
      "2M00085727+7341257   83.66193  1.77608  1.12293  0.63225   2.238636  73.690475\n",
      "2M00092789+0145417    2.61133  0.78317  0.40848  0.52157   2.366216   1.761607\n",
      "2M07282763+2225408   80.29508  1.91156  0.97309  0.50906 112.115125  22.428013\n",
      "2M01210284+8431304   54.25957  2.25258  0.96650  0.42906  20.261862  84.525131\n",
      "2M04411627+5855354   56.05161  1.46516  0.61969  0.42295  70.317793  58.926521\n",
      "2M00104203+0152065   23.47142  0.92806  0.36483  0.39311   2.675149   1.868474\n",
      "2M07103169+0712585   62.37094  1.65363  0.58727  0.35514 107.632065   7.216252\n",
      "2M19364967+3813244   24.72355  0.88201  0.31293  0.35479 294.206988  38.223454\n",
      "               ...        ...      ...      ...      ...        ...        ...\n",
      "2M07433752+1754592   72.78126  1.10469  0.18464  0.16715 115.906373  17.916458\n",
      "2M08112409+3251415   23.04126  1.51613  0.21905  0.14448 122.850404  32.861553\n",
      "2M07282117+2232479   39.27491  1.08022  0.13520  0.12516 112.088243  22.546661\n",
      "2M21324071+1224030   69.63969  0.99542  0.10714  0.10763 323.169642  12.400843\n",
      "2M14592692+2259273   62.95642  1.05738  0.11301  0.10687 224.862200  22.990929\n",
      "2M17223366+4850318    1.29208  1.43514  0.15180  0.10577 260.640256  48.842175\n",
      "2M16132502+2241142   10.44883  1.21682  0.10735  0.08822 243.354251  22.687284\n",
      "2M15042105+2700026   36.67933  0.98399  0.08365  0.08501 226.087723  27.000746\n",
      "2M19301464+2613471   46.23300  1.53079  0.12880  0.08414 292.561020  26.229767\n",
      "2M18141209-0000109   12.25295  2.56392  0.19917  0.07768 273.550415  -0.003030\n",
      "2M05224382+4300425    1.77015  1.24633  0.05076  0.04073  80.682587  43.011822\n",
      "Length = 24 rows\n"
     ]
    }
   ],
   "source": [
    "# Place for code for Exercise 1\n",
    "# My solution:\n",
    "v2=Vizier(columns=['APOGEE','Per','M1','M2min','qmin','RAJ2000', 'DEJ2000'],\n",
    "           column_filters={\"Per\":\"<100\"})\n",
    "v2.ROW_LIMIT = -1\n",
    "catalogs2=v2.get_catalogs('J/AJ/156/18')\n",
    "tbl2=catalogs2[2]\n",
    "tbl2.sort('qmin')\n",
    "tbl2.reverse()\n",
    "tbl2=tbl2[~tbl2['qmin'].mask] # Is this gross? \n",
    "print(tbl2)"
   ]
  },
  {
   "cell_type": "markdown",
   "metadata": {},
   "source": [
    "# Searching the TASOC archive for a lightcurve by coordinate\n",
    "\n",
    "It's possible to search the MAST archive by object name, but the APOGEE names are not resolvable into a sky position. Instead, we will search by the RA and Dec coordinates; the default radius is 0.2 degrees."
   ]
  },
  {
   "cell_type": "code",
   "execution_count": 64,
   "metadata": {},
   "outputs": [
    {
     "name": "stdout",
     "output_type": "stream",
     "text": [
      "Searching for coordinate: 2.366216 1.761607\n"
     ]
    },
    {
     "name": "stderr",
     "output_type": "stream",
     "text": [
      "WARNING: InputWarning: Coordinate string is being interpreted as an ICRS coordinate provided in degrees. [astroquery.utils.commons]\n"
     ]
    },
    {
     "name": "stdout",
     "output_type": "stream",
     "text": [
      "intentType obs_collection provenance_name instrument_name ... srcDen  obsid        distance     \n",
      "---------- -------------- --------------- --------------- ... ------ -------- ------------------\n",
      "   science           TESS            SPOC      Photometer ...    nan 63630590  239.9102423920586\n",
      "   science           TESS            SPOC      Photometer ...    nan 63630591  406.8753727790844\n",
      "   science    SPITZER_SHA    SSC Pipeline            IRAC ...    nan  1713755  628.0880608444758\n",
      "   science    SPITZER_SHA    SSC Pipeline            IRAC ...    nan  1713755  628.0880608444758\n",
      "   science            PS1             3PI            GPC1 ... 5885.0  2102451                0.0\n",
      "   science            PS1             3PI            GPC1 ... 5885.0  2102452                0.0\n",
      "   science            PS1             3PI            GPC1 ... 5885.0  2102453                0.0\n",
      "   science            PS1             3PI            GPC1 ... 5885.0  2102454                0.0\n",
      "   science            PS1             3PI            GPC1 ... 5885.0  2102455                0.0\n",
      "   science            PS1             3PI            GPC1 ... 5885.0  2102446   60.1904410071493\n",
      "   science            PS1             3PI            GPC1 ... 5885.0  2102447   60.1904410071493\n",
      "       ...            ...             ...             ... ...    ...      ...                ...\n",
      "   science          GALEX             GII           GALEX ... 5885.0     4355  96.37916448598314\n",
      "   science          GALEX             AIS           GALEX ... 5885.0    30451 141.84867212151596\n",
      "   science          GALEX             AIS           GALEX ... 5885.0    30451 141.84867212151596\n",
      "   science          GALEX             GII           GALEX ... 5885.0    44785 235.84146509769008\n",
      "   science          GALEX             GII           GALEX ... 5885.0    44785 235.84146509769008\n",
      "   science          GALEX             GII           GALEX ... 5885.0    44778  353.7327425289605\n",
      "   science          GALEX             GII           GALEX ... 5885.0    44778  353.7327425289605\n",
      "   science          GALEX             GII           GALEX ... 5885.0    44777 394.10541706192674\n",
      "   science          GALEX             GII           GALEX ... 5885.0    44777 394.10541706192674\n",
      "   science          GALEX             GII           GALEX ... 5885.0    44779  496.0296647519374\n",
      "   science          GALEX             GII           GALEX ... 5885.0    44779  496.0296647519374\n",
      "Length = 42 rows\n"
     ]
    }
   ],
   "source": [
    "ind=0\n",
    "coordstring=str(tbl['RAJ2000'].data[ind])+' '+str(tbl['DEJ2000'].data[ind])\n",
    "print('Searching for coordinate: '+coordstring)\n",
    "obs_tbl = Observations.query_region(coordstring)\n",
    "print(obs_tbl)"
   ]
  },
  {
   "cell_type": "markdown",
   "metadata": {},
   "source": [
    "The MAST archive has 42 observations of the stellar system. However, we don't want to access the raw observations; we are interested in observations that have already been processed and transformed into a lightcurve; the lightcurve itself is what is called a \"High Level Science Product\" or HLSP. The products we want will have \"HLSP\" in the ```obs_collection``` column and \"TASOC\" or \"QLP\" in the ```provenance_name``` column.\n",
    "\n",
    "Let's instead write a short loop that will search the MAST archive for our whole table of coordinates and tell us which ones have TASOC or QLPlightcurves. Before the loop, we'll add a boolean column to ```tbl``` that will switch from False to True if a TASOC lightcurve is found. As you'll see, this is rather inefficient. It can take a while for our 39 rows, so trying to do this for all 5000 possible binary systems would be impractical. Instead, cross-referencing catalogs of that size would require e.g. the use of Casjobs, which will be the subject of another tutorial. (JRK maybe???) \n",
    "\n",
    "The default radius for a coordinate search is 0.2 degrees, or 720 arcseconds. For our purposes, for this tutorial, we will limit the search radius to 0; this may exclude some observations."
   ]
  },
  {
   "cell_type": "code",
   "execution_count": 128,
   "metadata": {},
   "outputs": [
    {
     "name": "stdout",
     "output_type": "stream",
     "text": [
      "39\n"
     ]
    }
   ],
   "source": [
    "n=len(tbl)\n",
    "col_TASOC = Table.Column(name='TASOC',data=np.full(n,False))\n",
    "col_QLP = Table.Column(name='QLP',data=np.full(n,False))\n",
    "if 'TASOC' not in tbl.colnames: \n",
    "    tbl.add_column(col_TASOC) # Can only add the column once.\n",
    "else:\n",
    "    tbl['TASOC']=col_TASOC\n",
    "if 'QLP' not in tbl.colnames: \n",
    "    tbl.add_column(col_QLP)\n",
    "else: \n",
    "    tbl['QLP']=col_QLP\n",
    "print(n)"
   ]
  },
  {
   "cell_type": "code",
   "execution_count": 132,
   "metadata": {},
   "outputs": [
    {
     "name": "stdout",
     "output_type": "stream",
     "text": [
      "Found QLP light curve for index 9, coordinate: 2.238636 73.690475\n",
      "Found QLP light curve for index 12, coordinate: 122.798435 32.91803\n",
      "Found QLP light curve for index 13, coordinate: 99.002646 6.206361\n",
      "Found QLP light curve for index 15, coordinate: 94.742364 40.037991\n",
      "Found QLP light curve for index 19, coordinate: 122.602369 32.694553\n",
      "Found QLP light curve for index 20, coordinate: 25.491446 85.33519\n",
      "Found QLP light curve for index 21, coordinate: 260.365225 59.855801\n",
      "Found QLP light curve for index 22, coordinate: 292.976217 42.54768\n",
      "Found QLP light curve for index 27, coordinate: 48.237207 40.7892\n",
      "Done.\n"
     ]
    }
   ],
   "source": [
    "for i in range(0,n):\n",
    "    coordstring=str(tbl['RAJ2000'].data[i])+' '+str(tbl['DEJ2000'].data[i])\n",
    "    obs_tbl = Observations.query_region(coordstring,radius=0)\n",
    "    if np.any(obs_tbl['provenance_name']=='TASOC'):\n",
    "        tbl['TASOC'][i]=True\n",
    "        print('Found TASOC light curve for index '+str(i)+', coordinate: '+coordstring)\n",
    "    if np.any(obs_tbl['provenance_name']=='QLP'):\n",
    "        tbl['QLP'][i]=True\n",
    "        print('Found QLP light curve for index '+str(i)+', coordinate: '+coordstring)\n",
    "print('Done.')"
   ]
  },
  {
   "cell_type": "code",
   "execution_count": 133,
   "metadata": {},
   "outputs": [
    {
     "name": "stdout",
     "output_type": "stream",
     "text": [
      "Total number of systems with TASOC lightcurves found: 0\n",
      "Total number of systems with QLP lightcurves found: 9\n"
     ]
    }
   ],
   "source": [
    "print('Total number of systems with TASOC lightcurves found: '+str(np.sum(tbl['TASOC'])))\n",
    "print('Total number of systems with QLP lightcurves found: '+str(np.sum(tbl['QLP'])))"
   ]
  },
  {
   "cell_type": "markdown",
   "metadata": {},
   "source": [
    "9 of our 39 likely candidates have QLP lightcurves with exact coordinate matches! Let's view the observations from from MAST for the star that is index 9. We will narrow down the obs_tbl results to only those that are QLP lightcurves."
   ]
  },
  {
   "cell_type": "code",
   "execution_count": 134,
   "metadata": {},
   "outputs": [
    {
     "name": "stdout",
     "output_type": "stream",
     "text": [
      "9  2.238636 73.690475\n",
      "intentType obs_collection provenance_name instrument_name ... mtFlag srcDen  obsid   distance\n",
      "---------- -------------- --------------- --------------- ... ------ ------ -------- --------\n",
      "   science           HLSP             QLP      Photometer ...  False    nan 39201475      0.0\n",
      "   science           HLSP             QLP      Photometer ...  False    nan 38106544      0.0\n",
      "   science           HLSP             QLP      Photometer ...  False    nan 34983240      0.0\n",
      "   science           HLSP             QLP      Photometer ...  False    nan 34099561      0.0\n"
     ]
    }
   ],
   "source": [
    "# Just try to pick one for which I have QLP for now. Try to get lightkurve to work. \n",
    "ind=9\n",
    "coordstring=str(tbl['RAJ2000'].data[ind])+' '+str(tbl['DEJ2000'].data[ind])\n",
    "print(str(ind)+'  '+coordstring)\n",
    "obs_tbl = Observations.query_region(coordstring,radius=0.008)\n",
    "obs_tbl=obs_tbl[obs_tbl['provenance_name']=='QLP']\n",
    "print(obs_tbl)"
   ]
  },
  {
   "cell_type": "markdown",
   "metadata": {},
   "source": [
    "There are multiple light curves for this stellar system! We will examine the first one."
   ]
  },
  {
   "cell_type": "markdown",
   "metadata": {},
   "source": [
    "Our ```obs_tbl``` table from ```astroquery``` includes a column called \"dataURL.\" With this URL, we can directly download the lightcurve file in .fits format to the harddrive. If it is successfully, 'COMPLETE' will appear as the first output. It will automatically download into the current working directory, unless the ```local_path``` option is set. Also, by default, the file will not download again if the file is already found on the harddrive. To see how to change this and other settings you can [view the ```Observations.download_file``` documentation](https://astroquery.readthedocs.io/en/latest/api/astroquery.mast.ObservationsClass.html#astroquery.mast.ObservationsClass.download_file). To download multiple files at once, use ```Observations.download_products``` instead.  "
   ]
  },
  {
   "cell_type": "code",
   "execution_count": 135,
   "metadata": {},
   "outputs": [
    {
     "name": "stdout",
     "output_type": "stream",
     "text": [
      "INFO: Found cached file /Users/julia/GitHub/notebooks-stsci/notebooks/MAST/plot_eclipse_lightcurve/hlsp_qlp_tess_ffi_s0018-0000000373283207_tess_v01_llc.fits with expected size 72000. [astroquery.query]\n"
     ]
    },
    {
     "data": {
      "text/plain": [
       "('COMPLETE', None, None)"
      ]
     },
     "execution_count": 135,
     "metadata": {},
     "output_type": "execute_result"
    }
   ],
   "source": [
    "url=obs_tbl[0]['dataURL']\n",
    "Observations.download_file(url)\n",
    "# JRK this is actually uri not URL? Confused. "
   ]
  },
  {
   "cell_type": "markdown",
   "metadata": {},
   "source": [
    "# Examining and Plotting the Lightcurve File\n",
    "\n",
    "We can use ```fits``` from ```astropy``` to examine the lightcurve file. The filename will be the last part of the url string, when separated by slashes."
   ]
  },
  {
   "cell_type": "code",
   "execution_count": 136,
   "metadata": {},
   "outputs": [
    {
     "name": "stdout",
     "output_type": "stream",
     "text": [
      "Filename: hlsp_qlp_tess_ffi_s0018-0000000373283207_tess_v01_llc.fits\n",
      "No.    Name      Ver    Type      Cards   Dimensions   Format\n",
      "  0  PRIMARY       1 PrimaryHDU      29   ()      \n",
      "  1  LIGHTCURVE    1 BinTableHDU     65   1107R x 13C   [D, J, E, E, E, J, J, E, E, E, E, E, E]   \n"
     ]
    }
   ],
   "source": [
    "filename=url.split('/')[-1]\n",
    "lc=fits.open(filename)\n",
    "lc.info()"
   ]
  },
  {
   "cell_type": "markdown",
   "metadata": {},
   "source": [
    "The TESS lightcurve file has two extensions:\n",
    "\n",
    "- No. 0 (Primary): This HDU (Header Data Unit) contains metadata related to the entire file.\n",
    "- No. 1 (Light Curve): This HDU contains a binary table that holds data like flux measurements and times. We will extract information from here when we define the parameters for the light curve plot.\n",
    "\n",
    "We can preview the contents of the second file extension by examining the names of the columns and the first few lines of data."
   ]
  },
  {
   "cell_type": "code",
   "execution_count": 137,
   "metadata": {},
   "outputs": [
    {
     "name": "stdout",
     "output_type": "stream",
     "text": [
      "ColDefs(\n",
      "    name = 'TIME'; format = 'D'; unit = 'BJD-2457000, days'\n",
      "    name = 'CADENCENO'; format = 'J'\n",
      "    name = 'SAP_FLUX'; format = 'E'\n",
      "    name = 'KSPSAP_FLUX'; format = 'E'\n",
      "    name = 'KSPSAP_FLUX_ERR'; format = 'E'\n",
      "    name = 'QUALITY'; format = 'J'\n",
      "    name = 'ORBITID'; format = 'J'\n",
      "    name = 'SAP_X'; format = 'E'; unit = 'pixel'\n",
      "    name = 'SAP_Y'; format = 'E'; unit = 'pixel'\n",
      "    name = 'SAP_BKG'; format = 'E'\n",
      "    name = 'SAP_BKG_ERR'; format = 'E'\n",
      "    name = 'KSPSAP_FLUX_SML'; format = 'E'\n",
      "    name = 'KSPSAP_FLUX_LAG'; format = 'E'\n",
      ")\n",
      "[(1790.68018644, 27034, 0.9677139 , 1.0017732, 0.00369792, 4096, 43, 171.42014, 1276.1276, 623.68, 1048.87, 1.000957 , 1.0035249 )\n",
      " (1790.70102002, 27035, 0.9719843 , 1.0031046, 0.00369792, 4096, 43, 171.41783, 1276.131 , 179.44, 1076.92, 1.0003365, 1.0048736 )\n",
      " (1790.72185361, 27036, 0.96478045, 0.993276 , 0.00369792, 4096, 43, 171.41919, 1276.1296, 446.8 , 1027.99, 0.9969646, 0.9932044 )\n",
      " (1790.74268719, 27037, 0.97234386, 0.9992326, 0.00369792, 4096, 43, 171.41798, 1276.1305, 290.9 ,  862.25, 1.0009333, 0.99838513)\n",
      " (1790.76352077, 27038, 0.97762185, 1.0033098, 0.00369792, 4096, 43, 171.41882, 1276.1299, 148.66, 1082.57, 1.003577 , 1.0015497 )]\n"
     ]
    }
   ],
   "source": [
    "print(lc[1].columns)\n",
    "print(lc[1].data[0:5])"
   ]
  },
  {
   "cell_type": "markdown",
   "metadata": {},
   "source": [
    "Detailed information about the QLP data products can be found linked at the [MAST QLP website](https://archive.stsci.edu/hlsp/qlp) in the [QLP Data Production Description Document](https://archive.stsci.edu/hlsps/qlp/hlsp_qlp_tess_ffi_all_tess_v1_data-prod-desc.pdf), a supplement to the RNAAS article ([Kunimoto et al., 2021, RNAAS, 5, 10, 234](https://ui.adsabs.harvard.edu/abs/2021RNAAS...5..234K/abstract)) that describes the process for creating the QLP lightcurves. \n",
    "\n",
    "At its most basic, a lightcurve is a plot of flux on the vertical axis vs. time on the horizontal axis. We can use ```matplotlib``` to take a very quick look at the data; the column KSPSAP_FLUX is the detrended flux as described in [Kunimoto et al. 2021](https://ui.adsabs.harvard.edu/abs/2021RNAAS...5..234K/abstract). "
   ]
  },
  {
   "cell_type": "code",
   "execution_count": 138,
   "metadata": {},
   "outputs": [
    {
     "data": {
      "text/plain": [
       "[<matplotlib.lines.Line2D at 0x1313ddb50>]"
      ]
     },
     "execution_count": 138,
     "metadata": {},
     "output_type": "execute_result"
    },
    {
     "data": {
      "image/png": "[encoded data removed]",
      "text/plain": [
       "<Figure size 432x288 with 1 Axes>"
      ]
     },
     "metadata": {
      "needs_background": "light"
     },
     "output_type": "display_data"
    }
   ],
   "source": [
    "plt.plot(lc[1].data['TIME'],lc[1].data['KSPSAP_FLUX'])"
   ]
  },
  {
   "cell_type": "markdown",
   "metadata": {},
   "source": [
    "Let's remind ourselves the period of the stellar system we were examining. "
   ]
  },
  {
   "cell_type": "code",
   "execution_count": 139,
   "metadata": {},
   "outputs": [
    {
     "data": {
      "text/html": [
       "<i>Row index=9</i>\n",
       "<table id=\"table4969217904\">\n",
       "<thead><tr><th>APOGEE</th><th>Per</th><th>M1</th><th>M2min</th><th>qmin</th><th>RAJ2000</th><th>DEJ2000</th><th>TASOC</th><th>QLP</th></tr></thead>\n",
       "<thead><tr><th></th><th>d</th><th>solMass</th><th>solMass</th><th></th><th>deg</th><th>deg</th><th></th><th></th></tr></thead>\n",
       "<thead><tr><th>str18</th><th>float64</th><th>float64</th><th>float64</th><th>float64</th><th>float64</th><th>float64</th><th>bool</th><th>bool</th></tr></thead>\n",
       "<tr><td>2M00085727+7341257</td><td>83.66193</td><td>1.77608</td><td>1.12293</td><td>0.63225</td><td>2.238636</td><td>73.690475</td><td>False</td><td>True</td></tr>\n",
       "</table>"
      ],
      "text/plain": [
       "<Row index=9>\n",
       "      APOGEE          Per        M1     M2min     qmin    RAJ2000    DEJ2000   TASOC QLP \n",
       "                       d      solMass  solMass              deg        deg               \n",
       "      str18         float64   float64  float64  float64   float64    float64    bool bool\n",
       "------------------ ---------- -------- -------- -------- ---------- ---------- ----- ----\n",
       "2M00085727+7341257   83.66193  1.77608  1.12293  0.63225   2.238636  73.690475 False True"
      ]
     },
     "execution_count": 139,
     "metadata": {},
     "output_type": "execute_result"
    }
   ],
   "source": [
    "tbl[ind]"
   ]
  },
  {
   "cell_type": "markdown",
   "metadata": {},
   "source": [
    "The period was about 84 days; but the QLP lightcurve we downloaded only spans about 25 days. The dips we are seeing are exoplanet transits, not the binary stars eclipsing! We will need to use multiple datasets.\n",
    "\n",
    "JRK WHERE TO GO FROM HERE\n",
    "- Downloading multiple lightcurves, to see the full dataset? Can we identify the eclipse there?\n",
    "- When I tried index 3, the eclipse seemed to be visible in about a 15 day interval but period from APOGEE was 51 days; the distance was 12 arcseconds, which seems to be 12 arcseconds too far. "
   ]
  },
  {
   "cell_type": "markdown",
   "metadata": {},
   "source": [
    "# Combining Multiple Lightcurve Products\n",
    "We can download the entire list of products from obs_tbl. JRK left off here."
   ]
  },
  {
   "cell_type": "code",
   "execution_count": 152,
   "metadata": {},
   "outputs": [
    {
     "name": "stdout",
     "output_type": "stream",
     "text": [
      "INFO: Found cached file ./mastDownload/HLSP/hlsp_qlp_tess_ffi_s0018-0000000373283207_tess_v01_llc/hlsp_qlp_tess_ffi_s0018-0000000373283207_tess_v01_llc.fits with expected size 72000. [astroquery.query]\n",
      "INFO: Found cached file ./mastDownload/HLSP/hlsp_qlp_tess_ffi_s0018-0000000373283207_tess_v01_llc/hlsp_qlp_tess_ffi_s0018-0000000373283207_tess_v01_llc.txt with expected size 54440. [astroquery.query]\n",
      "INFO: Found cached file ./mastDownload/HLSP/hlsp_qlp_tess_ffi_s0019-0000000373283207_tess_v01_llc/hlsp_qlp_tess_ffi_s0019-0000000373283207_tess_v01_llc.fits with expected size 74880. [astroquery.query]\n",
      "INFO: Found cached file ./mastDownload/HLSP/hlsp_qlp_tess_ffi_s0019-0000000373283207_tess_v01_llc/hlsp_qlp_tess_ffi_s0019-0000000373283207_tess_v01_llc.txt with expected size 52385. [astroquery.query]\n",
      "INFO: Found cached file ./mastDownload/HLSP/hlsp_qlp_tess_ffi_s0024-0000000373283207_tess_v01_llc/hlsp_qlp_tess_ffi_s0024-0000000373283207_tess_v01_llc.fits with expected size 77760. [astroquery.query]\n",
      "INFO: Found cached file ./mastDownload/HLSP/hlsp_qlp_tess_ffi_s0024-0000000373283207_tess_v01_llc/hlsp_qlp_tess_ffi_s0024-0000000373283207_tess_v01_llc.txt with expected size 67816. [astroquery.query]\n",
      "INFO: Found cached file ./mastDownload/HLSP/hlsp_qlp_tess_ffi_s0025-0000000373283207_tess_v01_llc/hlsp_qlp_tess_ffi_s0025-0000000373283207_tess_v01_llc.fits with expected size 74880. [astroquery.query]\n",
      "INFO: Found cached file ./mastDownload/HLSP/hlsp_qlp_tess_ffi_s0025-0000000373283207_tess_v01_llc/hlsp_qlp_tess_ffi_s0025-0000000373283207_tess_v01_llc.txt with expected size 47741. [astroquery.query]\n"
     ]
    }
   ],
   "source": [
    "data_products=Observations.get_product_list(obs_tbl)\n",
    "result=Observations.download_products(data_products)"
   ]
  },
  {
   "cell_type": "code",
   "execution_count": 153,
   "metadata": {},
   "outputs": [
    {
     "data": {
      "text/plain": [
       "['obsID',\n",
       " 'obs_collection',\n",
       " 'dataproduct_type',\n",
       " 'obs_id',\n",
       " 'description',\n",
       " 'type',\n",
       " 'dataURI',\n",
       " 'productType',\n",
       " 'productGroupDescription',\n",
       " 'productSubGroupDescription',\n",
       " 'productDocumentationURL',\n",
       " 'project',\n",
       " 'prvversion',\n",
       " 'proposal_id',\n",
       " 'productFilename',\n",
       " 'size',\n",
       " 'parent_obsid',\n",
       " 'dataRights',\n",
       " 'calib_level']"
      ]
     },
     "execution_count": 153,
     "metadata": {},
     "output_type": "execute_result"
    }
   ],
   "source": [
    "data_products.colnames"
   ]
  },
  {
   "cell_type": "code",
   "execution_count": 154,
   "metadata": {},
   "outputs": [
    {
     "data": {
      "text/html": [
       "&lt;MaskedColumn name=&apos;productFilename&apos; dtype=&apos;str58&apos; length=8&gt;\n",
       "<table>\n",
       "<tr><td>hlsp_qlp_tess_ffi_s0018-0000000373283207_tess_v01_llc.fits</td></tr>\n",
       "<tr><td>hlsp_qlp_tess_ffi_s0018-0000000373283207_tess_v01_llc.txt</td></tr>\n",
       "<tr><td>hlsp_qlp_tess_ffi_s0019-0000000373283207_tess_v01_llc.fits</td></tr>\n",
       "<tr><td>hlsp_qlp_tess_ffi_s0019-0000000373283207_tess_v01_llc.txt</td></tr>\n",
       "<tr><td>hlsp_qlp_tess_ffi_s0024-0000000373283207_tess_v01_llc.fits</td></tr>\n",
       "<tr><td>hlsp_qlp_tess_ffi_s0024-0000000373283207_tess_v01_llc.txt</td></tr>\n",
       "<tr><td>hlsp_qlp_tess_ffi_s0025-0000000373283207_tess_v01_llc.fits</td></tr>\n",
       "<tr><td>hlsp_qlp_tess_ffi_s0025-0000000373283207_tess_v01_llc.txt</td></tr>\n",
       "</table>"
      ],
      "text/plain": [
       "<MaskedColumn name='productFilename' dtype='str58' length=8>\n",
       "hlsp_qlp_tess_ffi_s0018-0000000373283207_tess_v01_llc.fits\n",
       " hlsp_qlp_tess_ffi_s0018-0000000373283207_tess_v01_llc.txt\n",
       "hlsp_qlp_tess_ffi_s0019-0000000373283207_tess_v01_llc.fits\n",
       " hlsp_qlp_tess_ffi_s0019-0000000373283207_tess_v01_llc.txt\n",
       "hlsp_qlp_tess_ffi_s0024-0000000373283207_tess_v01_llc.fits\n",
       " hlsp_qlp_tess_ffi_s0024-0000000373283207_tess_v01_llc.txt\n",
       "hlsp_qlp_tess_ffi_s0025-0000000373283207_tess_v01_llc.fits\n",
       " hlsp_qlp_tess_ffi_s0025-0000000373283207_tess_v01_llc.txt"
      ]
     },
     "execution_count": 154,
     "metadata": {},
     "output_type": "execute_result"
    }
   ],
   "source": [
    "data_products['productFilename']"
   ]
  },
  {
   "cell_type": "markdown",
   "metadata": {},
   "source": [
    "## Additional Exercises\n",
    ">Exercises are optional, but encouraged. Exercises can be woven into the main content of your tutorial, or appear in their own section toward the end of the tutorial. Final exercises can be more challenging, similar to homework problems. They can be minimal or take as long as 30 minutes to an hour to complete. If you do have one or more exercises in your tutorial, be sure to leave a blank code cell underneath each to show the reader that they're meant to try out their new skill right there. You may also want to include a \"solutions\" notebook next to your main notebook for the reader to check their work after they have finished their attempt."
   ]
  },
  {
   "cell_type": "markdown",
   "metadata": {},
   "source": [
    "## Additional Resources\n",
    "\n",
    ">This section is optional. Try to weave resource links into the main content of your tutorial so that they are falling in line with the context of your writing. For resources that do not fit cleanly into your narrative, you may include an additional resources section at the end of your tutorial. Usually a list of links using Markdown bullet list plus link format is appropriate:\n",
    "\n",
    "- [Astroquery:docs, VizieR Queries](https://astroquery.readthedocs.io/en/latest/vizier/vizier.html)"
   ]
  },
  {
   "cell_type": "markdown",
   "metadata": {
    "slideshow": {
     "slide_type": "slide"
    }
   },
   "source": [
    "## About this Notebook\n",
    ">Let the world know who the author of this great tutorial is! If possible and appropriate, include a contact email address for users who might need support (for example, `archive@stsci.edu`). You can also optionally include keywords, your funding source, or a last update date in this section.\n",
    "\n",
    "**Author:** Julia Kamenetzky, ScienceBetter Consultant\n",
    "**Updated On:** YYYY-MM-DD"
   ]
  },
  {
   "cell_type": "markdown",
   "metadata": {},
   "source": [
    "## Citations\n",
    ">Provide your reader with guidelines on how to cite open source software and other resources in their own published work.\n",
    "\n",
    "If you use `astropy` or `lightkurve` for published research, please cite the\n",
    "authors. Follow these links for more information about citing `astropy` and\n",
    "`lightkurve`:\n",
    "\n",
    "* [Citing `astropy`](https://www.astropy.org/acknowledging.html)\n",
    "* [Citing `lightkurve`](http://docs.lightkurve.org/about/citing.html)\n",
    "* [Citing `VizieR`](https://cds.unistra.fr/vizier-org/licences_vizier.html?#copyrightvizier)"
   ]
  },
  {
   "cell_type": "markdown",
   "metadata": {},
   "source": [
    "***"
   ]
  },
  {
   "cell_type": "markdown",
   "metadata": {},
   "source": [
    "[Top of Page](#top)\n",
    "<img style=\"float: right;\" src=\"https://raw.githubusercontent.com/spacetelescope/notebooks/master/assets/stsci_pri_combo_mark_horizonal_white_bkgd.png\" alt=\"Space Telescope Logo\" width=\"200px\"/> "
   ]
  }
 ],
 "metadata": {
  "kernelspec": {
   "display_name": "Python 3 (ipykernel)",
   "language": "python",
   "name": "python3"
  },
  "language_info": {
   "codemirror_mode": {
    "name": "ipython",
    "version": 3
   },
   "file_extension": ".py",
   "mimetype": "text/x-python",
   "name": "python",
   "nbconvert_exporter": "python",
   "pygments_lexer": "ipython3",
   "version": "3.9.12"
  }
 },
 "nbformat": 4,
 "nbformat_minor": 2
}
