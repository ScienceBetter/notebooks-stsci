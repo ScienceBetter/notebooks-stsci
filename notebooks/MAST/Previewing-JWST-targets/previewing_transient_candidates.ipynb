{
 "cells": [
  {
   "cell_type": "markdown",
   "metadata": {
    "slideshow": {
     "slide_type": "slide"
    }
   },
   "source": [
    "<a id=\"top\"></a>\n",
    "# Tutorial Title"
   ]
  },
  {
   "cell_type": "markdown",
   "metadata": {
    "slideshow": {
     "slide_type": "skip"
    }
   },
   "source": [
    "***"
   ]
  },
  {
   "cell_type": "markdown",
   "metadata": {},
   "source": [
    "## Learning Goals\n",
    "Write three to five learning goals. A learning goal should describe what a reader should know or be able to do by the end of the tutorial that they didn't know or couldn't do before.\n",
    "\n",
    "```\n",
    "By the end of this tutorial, you will:\n",
    "\n",
    "- Use astroquery to access the HST and Gaia archives\n",
    "- Understand the drizzle technique\n",
    "- Run a source extractor on HST images.\n",
    "- Cross match the HST and Gaia sources.\n",
    "- Create your view own previews of targets for future proposals, including for JWST!\n",
    "\n",
    "```"
   ]
  },
  {
   "cell_type": "markdown",
   "metadata": {
    "slideshow": {
     "slide_type": "slide"
    }
   },
   "source": [
    "## Introduction\n",
    "This tutorial teaches us to align images between HST observations using `drizzlepac` and `tweakreg`. We learn the subtleties of combining images from different filters in a single visit, and combining multiple visits. Image aligning and stacking is crucial to make the most of the extensive Hubble archives, and are a crucial tool in preparing proposals for future observations. \n",
    "\n",
    "Before starting, [set up AstroConda](https://astroconda.readthedocs.io/en/latest/installation.html). "
   ]
  },
  {
   "cell_type": "markdown",
   "metadata": {
    "slideshow": {
     "slide_type": "slide"
    }
   },
   "source": [
    "## Imports\n",
    "Describe the libraries we're using here. If there's something unusual, explain what the library is, and why we need it.\n",
    "- *numpy* to handle array functions\n",
    "- *astropy.io fits* for accessing FITS files\n",
    "- *astropy.table Table* for creating tidy tables of the data\n",
    "- *matplotlib.pyplot* for plotting data\n",
    "- *astroquery* for pulling data from the Mikulski Archive at Space Telescope (MAST)\n",
    "- *stwcs* for tracking the World Coordinate System (WCS) data in the image files\n",
    "- *subprocess* to parallelize tasks\n",
    "- *shutil*, *glob*, *os* for accessing and manipulating files in the local system "
   ]
  },
  {
   "cell_type": "markdown",
   "metadata": {},
   "source": [
    "If any of these modules are not currently installed, get them in your command line:\n",
    "\n",
    "`conda install -u stwcs numpy matplotlib astropy astroquery shutil subprocess glob os` or \n",
    "\n",
    "`pip3 install -u stwcs numpy matplotlib astropy astroquery shutil subprocess glob os`\n"
   ]
  },
  {
   "cell_type": "code",
   "execution_count": null,
   "metadata": {
    "slideshow": {
     "slide_type": "fragment"
    }
   },
   "outputs": [],
   "source": [
    "%matplotlib inline\n",
    "import numpy as np\n",
    "from astropy.io import fits\n",
    "from astropy.table import Table\n",
    "import matplotlib.pyplot as plt\n",
    "from astroquery.mast import Mast\n",
    "from astroquery.mast import Observations\n",
    "import shutil, stwcs, subprocess, glob, os "
   ]
  },
  {
   "cell_type": "markdown",
   "metadata": {},
   "source": [
    "## Main Content\n",
    "### Accessing Existing Images with astroquery.Observations\n",
    "\n",
    "Let's start by retrieving images of our object of interest from the HST Archive. For this project, we will consider the Orion Nebula. Astroquery.Observations allows you to query targets by name, and it is helpful to additionally specify a search radius. We download the products and store them locally. \n",
    "\n",
    "More famous objects have been observed by Hubble many times, so the download may be prohibitively large. You may want to select only images in a certain band, or apply filters on any of the [fields listed here.]( https://mast.stsci.edu/api/v0/_c_a_o_mfields.html)"
   ]
  },
  {
   "cell_type": "code",
   "execution_count": null,
   "metadata": {},
   "outputs": [],
   "source": [
    "obs_table = Observations.query_criteria(target_name=[\"Orion\",\"OrionNebula\"],intentType='science',dataproduct_type='image')\n",
    "obs_table"
   ]
  },
  {
   "cell_type": "markdown",
   "metadata": {},
   "source": [
    "It looks like Hubble has observed the Orion Nebula on 44 separate occasions. Let us download all of these. "
   ]
  },
  {
   "cell_type": "code",
   "execution_count": 40,
   "metadata": {},
   "outputs": [
    {
     "name": "stdout",
     "output_type": "stream",
     "text": [
      "Downloading URL https://mast.stsci.edu/api/v0.1/Download/file?uri=mast:HST/product/j8up02usq_flt_hlet.fits to ./mastDownload/HST/j8up02usq/j8up02usq_flt_hlet.fits ... [Done]\n",
      "Downloading URL https://mast.stsci.edu/api/v0.1/Download/file?uri=mast:HST/product/j8up02usj_jif.fits to ./mastDownload/HST/j8up02usq/j8up02usj_jif.fits ... [Done]\n",
      "Downloading URL https://mast.stsci.edu/api/v0.1/Download/file?uri=mast:HST/product/j8up02usj_jit.fits to ./mastDownload/HST/j8up02usq/j8up02usj_jit.fits ... [Done]\n",
      "Downloading URL https://mast.stsci.edu/api/v0.1/Download/file?uri=mast:HST/product/j8up02usq_spt.fits to ./mastDownload/HST/j8up02usq/j8up02usq_spt.fits ... [Done]\n",
      "Downloading URL https://mast.stsci.edu/api/v0.1/Download/file?uri=mast:HST/product/j8up02usq_trl.fits to ./mastDownload/HST/j8up02usq/j8up02usq_trl.fits ... [Done]\n",
      "Downloading URL https://mast.stsci.edu/api/v0.1/Download/file?uri=mast:HST/product/j8up02usq_drz.jpg to ./mastDownload/HST/j8up02usq/j8up02usq_drz.jpg ... [Done]\n",
      "Downloading URL https://mast.stsci.edu/api/v0.1/Download/file?uri=mast:HST/product/j8up02usq_raw.jpg to ./mastDownload/HST/j8up02usq/j8up02usq_raw.jpg ... [Done]\n",
      "Downloading URL https://mast.stsci.edu/api/v0.1/Download/file?uri=mast:HST/product/j8up02usq_flt.jpg to ./mastDownload/HST/j8up02usq/j8up02usq_flt.jpg ... [Done]\n",
      "Downloading URL https://mast.stsci.edu/api/v0.1/Download/file?uri=mast:HST/product/j8up02usq_raw.fits to ./mastDownload/HST/j8up02usq/j8up02usq_raw.fits ... [Done]\n",
      "Downloading URL https://mast.stsci.edu/api/v0.1/Download/file?uri=mast:HST/product/j8up02usq_drz.fits to ./mastDownload/HST/j8up02usq/j8up02usq_drz.fits ... [Done]\n",
      "Downloading URL https://mast.stsci.edu/api/v0.1/Download/file?uri=mast:HST/product/j8up02usq_flt.fits to ./mastDownload/HST/j8up02usq/j8up02usq_flt.fits ... [Done]\n",
      "Downloading URL https://mast.stsci.edu/api/v0.1/Download/file?uri=mast:HST/product/j8up02utq_flt_hlet.fits to ./mastDownload/HST/j8up02utq/j8up02utq_flt_hlet.fits ... [Done]\n",
      "Downloading URL https://mast.stsci.edu/api/v0.1/Download/file?uri=mast:HST/product/j8up02utj_jif.fits to ./mastDownload/HST/j8up02utq/j8up02utj_jif.fits ... [Done]\n",
      "Downloading URL https://mast.stsci.edu/api/v0.1/Download/file?uri=mast:HST/product/j8up02utj_jit.fits to ./mastDownload/HST/j8up02utq/j8up02utj_jit.fits ... [Done]\n",
      "Downloading URL https://mast.stsci.edu/api/v0.1/Download/file?uri=mast:HST/product/j8up02utq_spt.fits to ./mastDownload/HST/j8up02utq/j8up02utq_spt.fits ... [Done]\n",
      "Downloading URL https://mast.stsci.edu/api/v0.1/Download/file?uri=mast:HST/product/j8up02utq_trl.fits to ./mastDownload/HST/j8up02utq/j8up02utq_trl.fits ... [Done]\n",
      "Downloading URL https://mast.stsci.edu/api/v0.1/Download/file?uri=mast:HST/product/j8up02utq_drz.jpg to ./mastDownload/HST/j8up02utq/j8up02utq_drz.jpg ... [Done]\n",
      "Downloading URL https://mast.stsci.edu/api/v0.1/Download/file?uri=mast:HST/product/j8up02utq_raw.jpg to ./mastDownload/HST/j8up02utq/j8up02utq_raw.jpg ... [Done]\n",
      "Downloading URL https://mast.stsci.edu/api/v0.1/Download/file?uri=mast:HST/product/j8up02utq_flt.jpg to ./mastDownload/HST/j8up02utq/j8up02utq_flt.jpg ... [Done]\n",
      "Downloading URL https://mast.stsci.edu/api/v0.1/Download/file?uri=mast:HST/product/j8up02utq_raw.fits to ./mastDownload/HST/j8up02utq/j8up02utq_raw.fits ... [Done]\n",
      "Downloading URL https://mast.stsci.edu/api/v0.1/Download/file?uri=mast:HST/product/j8up02utq_drz.fits to ./mastDownload/HST/j8up02utq/j8up02utq_drz.fits ... [Done]\n",
      "Downloading URL https://mast.stsci.edu/api/v0.1/Download/file?uri=mast:HST/product/j8up02utq_flt.fits to ./mastDownload/HST/j8up02utq/j8up02utq_flt.fits ... [Done]\n",
      "Downloading URL https://mast.stsci.edu/api/v0.1/Download/file?uri=mast:HST/product/j8up02uuq_flt_hlet.fits to ./mastDownload/HST/j8up02uuq/j8up02uuq_flt_hlet.fits ... [Done]\n",
      "Downloading URL https://mast.stsci.edu/api/v0.1/Download/file?uri=mast:HST/product/j8up02uuj_jif.fits to ./mastDownload/HST/j8up02uuq/j8up02uuj_jif.fits ... [Done]\n",
      "Downloading URL https://mast.stsci.edu/api/v0.1/Download/file?uri=mast:HST/product/j8up02uuj_jit.fits to ./mastDownload/HST/j8up02uuq/j8up02uuj_jit.fits ... [Done]\n",
      "Downloading URL https://mast.stsci.edu/api/v0.1/Download/file?uri=mast:HST/product/j8up02uuq_spt.fits to ./mastDownload/HST/j8up02uuq/j8up02uuq_spt.fits ... [Done]\n",
      "Downloading URL https://mast.stsci.edu/api/v0.1/Download/file?uri=mast:HST/product/j8up02uuq_trl.fits to ./mastDownload/HST/j8up02uuq/j8up02uuq_trl.fits ... [Done]\n",
      "Downloading URL https://mast.stsci.edu/api/v0.1/Download/file?uri=mast:HST/product/j8up02uuq_drz.jpg to ./mastDownload/HST/j8up02uuq/j8up02uuq_drz.jpg ... [Done]\n",
      "Downloading URL https://mast.stsci.edu/api/v0.1/Download/file?uri=mast:HST/product/j8up02uuq_raw.jpg to ./mastDownload/HST/j8up02uuq/j8up02uuq_raw.jpg ... [Done]\n",
      "Downloading URL https://mast.stsci.edu/api/v0.1/Download/file?uri=mast:HST/product/j8up02uuq_flt.jpg to ./mastDownload/HST/j8up02uuq/j8up02uuq_flt.jpg ... [Done]\n",
      "Downloading URL https://mast.stsci.edu/api/v0.1/Download/file?uri=mast:HST/product/j8up02uuq_raw.fits to ./mastDownload/HST/j8up02uuq/j8up02uuq_raw.fits ... [Done]\n",
      "Downloading URL https://mast.stsci.edu/api/v0.1/Download/file?uri=mast:HST/product/j8up02uuq_drz.fits to ./mastDownload/HST/j8up02uuq/j8up02uuq_drz.fits ... [Done]\n",
      "Downloading URL https://mast.stsci.edu/api/v0.1/Download/file?uri=mast:HST/product/j8up02uuq_flt.fits to ./mastDownload/HST/j8up02uuq/j8up02uuq_flt.fits ... [Done]\n",
      "Downloading URL https://mast.stsci.edu/api/v0.1/Download/file?uri=mast:HST/product/j8up02uvq_flt_hlet.fits to ./mastDownload/HST/j8up02uvq/j8up02uvq_flt_hlet.fits ... [Done]\n",
      "Downloading URL https://mast.stsci.edu/api/v0.1/Download/file?uri=mast:HST/product/j8up02uvj_jif.fits to ./mastDownload/HST/j8up02uvq/j8up02uvj_jif.fits ... [Done]\n",
      "Downloading URL https://mast.stsci.edu/api/v0.1/Download/file?uri=mast:HST/product/j8up02uvj_jit.fits to ./mastDownload/HST/j8up02uvq/j8up02uvj_jit.fits ... [Done]\n",
      "Downloading URL https://mast.stsci.edu/api/v0.1/Download/file?uri=mast:HST/product/j8up02uvq_spt.fits to ./mastDownload/HST/j8up02uvq/j8up02uvq_spt.fits ... [Done]\n",
      "Downloading URL https://mast.stsci.edu/api/v0.1/Download/file?uri=mast:HST/product/j8up02uvq_trl.fits to ./mastDownload/HST/j8up02uvq/j8up02uvq_trl.fits ... [Done]\n",
      "Downloading URL https://mast.stsci.edu/api/v0.1/Download/file?uri=mast:HST/product/j8up02uvq_drz.jpg to ./mastDownload/HST/j8up02uvq/j8up02uvq_drz.jpg ... [Done]\n",
      "Downloading URL https://mast.stsci.edu/api/v0.1/Download/file?uri=mast:HST/product/j8up02uvq_raw.jpg to ./mastDownload/HST/j8up02uvq/j8up02uvq_raw.jpg ... [Done]\n",
      "Downloading URL https://mast.stsci.edu/api/v0.1/Download/file?uri=mast:HST/product/j8up02uvq_flt.jpg to ./mastDownload/HST/j8up02uvq/j8up02uvq_flt.jpg ... [Done]\n",
      "Downloading URL https://mast.stsci.edu/api/v0.1/Download/file?uri=mast:HST/product/j8up02uvq_raw.fits to ./mastDownload/HST/j8up02uvq/j8up02uvq_raw.fits ... [Done]\n",
      "Downloading URL https://mast.stsci.edu/api/v0.1/Download/file?uri=mast:HST/product/j8up02uvq_drz.fits to ./mastDownload/HST/j8up02uvq/j8up02uvq_drz.fits ... [Done]\n",
      "Downloading URL https://mast.stsci.edu/api/v0.1/Download/file?uri=mast:HST/product/j8up02uvq_flt.fits to ./mastDownload/HST/j8up02uvq/j8up02uvq_flt.fits ... [Done]\n",
      "Downloading URL https://mast.stsci.edu/api/v0.1/Download/file?uri=mast:HST/product/j8up02uwq_flt_hlet.fits to ./mastDownload/HST/j8up02uwq/j8up02uwq_flt_hlet.fits ... [Done]\n",
      "Downloading URL https://mast.stsci.edu/api/v0.1/Download/file?uri=mast:HST/product/j8up02uwj_jif.fits to ./mastDownload/HST/j8up02uwq/j8up02uwj_jif.fits ... [Done]\n",
      "Downloading URL https://mast.stsci.edu/api/v0.1/Download/file?uri=mast:HST/product/j8up02uwj_jit.fits to ./mastDownload/HST/j8up02uwq/j8up02uwj_jit.fits ... [Done]\n",
      "Downloading URL https://mast.stsci.edu/api/v0.1/Download/file?uri=mast:HST/product/j8up02uwq_spt.fits to ./mastDownload/HST/j8up02uwq/j8up02uwq_spt.fits ... [Done]\n",
      "Downloading URL https://mast.stsci.edu/api/v0.1/Download/file?uri=mast:HST/product/j8up02uwq_trl.fits to ./mastDownload/HST/j8up02uwq/j8up02uwq_trl.fits ... [Done]\n",
      "Downloading URL https://mast.stsci.edu/api/v0.1/Download/file?uri=mast:HST/product/j8up02uwq_drz.jpg to ./mastDownload/HST/j8up02uwq/j8up02uwq_drz.jpg ... [Done]\n",
      "Downloading URL https://mast.stsci.edu/api/v0.1/Download/file?uri=mast:HST/product/j8up02uwq_raw.jpg to ./mastDownload/HST/j8up02uwq/j8up02uwq_raw.jpg ... [Done]\n",
      "Downloading URL https://mast.stsci.edu/api/v0.1/Download/file?uri=mast:HST/product/j8up02uwq_flt.jpg to ./mastDownload/HST/j8up02uwq/j8up02uwq_flt.jpg ... [Done]\n",
      "Downloading URL https://mast.stsci.edu/api/v0.1/Download/file?uri=mast:HST/product/j8up02uwq_raw.fits to ./mastDownload/HST/j8up02uwq/j8up02uwq_raw.fits ... [Done]\n",
      "Downloading URL https://mast.stsci.edu/api/v0.1/Download/file?uri=mast:HST/product/j8up02uwq_drz.fits to ./mastDownload/HST/j8up02uwq/j8up02uwq_drz.fits ... [Done]\n",
      "Downloading URL https://mast.stsci.edu/api/v0.1/Download/file?uri=mast:HST/product/j8up02uwq_flt.fits to ./mastDownload/HST/j8up02uwq/j8up02uwq_flt.fits ... [Done]\n",
      "Downloading URL https://mast.stsci.edu/api/v0.1/Download/file?uri=mast:HST/product/j8up02uyq_flt_hlet.fits to ./mastDownload/HST/j8up02uyq/j8up02uyq_flt_hlet.fits ... [Done]\n",
      "Downloading URL https://mast.stsci.edu/api/v0.1/Download/file?uri=mast:HST/product/j8up02uyj_jif.fits to ./mastDownload/HST/j8up02uyq/j8up02uyj_jif.fits ... [Done]\n",
      "Downloading URL https://mast.stsci.edu/api/v0.1/Download/file?uri=mast:HST/product/j8up02uyj_jit.fits to ./mastDownload/HST/j8up02uyq/j8up02uyj_jit.fits ... [Done]\n",
      "Downloading URL https://mast.stsci.edu/api/v0.1/Download/file?uri=mast:HST/product/j8up02uyq_spt.fits to ./mastDownload/HST/j8up02uyq/j8up02uyq_spt.fits ... [Done]\n",
      "Downloading URL https://mast.stsci.edu/api/v0.1/Download/file?uri=mast:HST/product/j8up02uyq_trl.fits to ./mastDownload/HST/j8up02uyq/j8up02uyq_trl.fits ... [Done]\n",
      "Downloading URL https://mast.stsci.edu/api/v0.1/Download/file?uri=mast:HST/product/j8up02uyq_drz.jpg to ./mastDownload/HST/j8up02uyq/j8up02uyq_drz.jpg ... [Done]\n",
      "Downloading URL https://mast.stsci.edu/api/v0.1/Download/file?uri=mast:HST/product/j8up02uyq_raw.jpg to ./mastDownload/HST/j8up02uyq/j8up02uyq_raw.jpg ... [Done]\n",
      "Downloading URL https://mast.stsci.edu/api/v0.1/Download/file?uri=mast:HST/product/j8up02uyq_flt.jpg to ./mastDownload/HST/j8up02uyq/j8up02uyq_flt.jpg ... [Done]\n",
      "Downloading URL https://mast.stsci.edu/api/v0.1/Download/file?uri=mast:HST/product/j8up02uyq_raw.fits to ./mastDownload/HST/j8up02uyq/j8up02uyq_raw.fits ... [Done]\n",
      "Downloading URL https://mast.stsci.edu/api/v0.1/Download/file?uri=mast:HST/product/j8up02uyq_drz.fits to ./mastDownload/HST/j8up02uyq/j8up02uyq_drz.fits ... [Done]\n",
      "Downloading URL https://mast.stsci.edu/api/v0.1/Download/file?uri=mast:HST/product/j8up02uyq_flt.fits to ./mastDownload/HST/j8up02uyq/j8up02uyq_flt.fits ... [Done]\n",
      "Downloading URL https://mast.stsci.edu/api/v0.1/Download/file?uri=mast:HST/product/j8up02v0q_flt_hlet.fits to ./mastDownload/HST/j8up02v0q/j8up02v0q_flt_hlet.fits ... [Done]\n",
      "Downloading URL https://mast.stsci.edu/api/v0.1/Download/file?uri=mast:HST/product/j8up02v0j_jif.fits to ./mastDownload/HST/j8up02v0q/j8up02v0j_jif.fits ... [Done]\n",
      "Downloading URL https://mast.stsci.edu/api/v0.1/Download/file?uri=mast:HST/product/j8up02v0j_jit.fits to ./mastDownload/HST/j8up02v0q/j8up02v0j_jit.fits ... [Done]\n",
      "Downloading URL https://mast.stsci.edu/api/v0.1/Download/file?uri=mast:HST/product/j8up02v0q_spt.fits to ./mastDownload/HST/j8up02v0q/j8up02v0q_spt.fits ... [Done]\n",
      "Downloading URL https://mast.stsci.edu/api/v0.1/Download/file?uri=mast:HST/product/j8up02v0q_trl.fits to ./mastDownload/HST/j8up02v0q/j8up02v0q_trl.fits ... [Done]\n",
      "Downloading URL https://mast.stsci.edu/api/v0.1/Download/file?uri=mast:HST/product/j8up02v0q_drz.jpg to ./mastDownload/HST/j8up02v0q/j8up02v0q_drz.jpg ... [Done]\n",
      "Downloading URL https://mast.stsci.edu/api/v0.1/Download/file?uri=mast:HST/product/j8up02v0q_raw.jpg to ./mastDownload/HST/j8up02v0q/j8up02v0q_raw.jpg ... [Done]\n",
      "Downloading URL https://mast.stsci.edu/api/v0.1/Download/file?uri=mast:HST/product/j8up02v0q_flt.jpg to ./mastDownload/HST/j8up02v0q/j8up02v0q_flt.jpg ... [Done]\n",
      "Downloading URL https://mast.stsci.edu/api/v0.1/Download/file?uri=mast:HST/product/j8up02v0q_raw.fits to ./mastDownload/HST/j8up02v0q/j8up02v0q_raw.fits ... [Done]\n",
      "Downloading URL https://mast.stsci.edu/api/v0.1/Download/file?uri=mast:HST/product/j8up02v0q_drz.fits to ./mastDownload/HST/j8up02v0q/j8up02v0q_drz.fits ... [Done]\n",
      "Downloading URL https://mast.stsci.edu/api/v0.1/Download/file?uri=mast:HST/product/j8up02v0q_flt.fits to ./mastDownload/HST/j8up02v0q/j8up02v0q_flt.fits ... [Done]\n",
      "Downloading URL https://mast.stsci.edu/api/v0.1/Download/file?uri=mast:HST/product/j8up02v5q_flt_hlet.fits to ./mastDownload/HST/j8up02v5q/j8up02v5q_flt_hlet.fits ... [Done]\n",
      "Downloading URL https://mast.stsci.edu/api/v0.1/Download/file?uri=mast:HST/product/j8up02v5j_jif.fits to ./mastDownload/HST/j8up02v5q/j8up02v5j_jif.fits ... [Done]\n",
      "Downloading URL https://mast.stsci.edu/api/v0.1/Download/file?uri=mast:HST/product/j8up02v5j_jit.fits to ./mastDownload/HST/j8up02v5q/j8up02v5j_jit.fits ... [Done]\n",
      "Downloading URL https://mast.stsci.edu/api/v0.1/Download/file?uri=mast:HST/product/j8up02v5q_spt.fits to ./mastDownload/HST/j8up02v5q/j8up02v5q_spt.fits ... [Done]\n",
      "Downloading URL https://mast.stsci.edu/api/v0.1/Download/file?uri=mast:HST/product/j8up02v5q_trl.fits to ./mastDownload/HST/j8up02v5q/j8up02v5q_trl.fits ... [Done]\n",
      "Downloading URL https://mast.stsci.edu/api/v0.1/Download/file?uri=mast:HST/product/j8up02v5q_drz.jpg to ./mastDownload/HST/j8up02v5q/j8up02v5q_drz.jpg ... [Done]\n",
      "Downloading URL https://mast.stsci.edu/api/v0.1/Download/file?uri=mast:HST/product/j8up02v5q_raw.jpg to ./mastDownload/HST/j8up02v5q/j8up02v5q_raw.jpg ... [Done]\n",
      "Downloading URL https://mast.stsci.edu/api/v0.1/Download/file?uri=mast:HST/product/j8up02v5q_flt.jpg to ./mastDownload/HST/j8up02v5q/j8up02v5q_flt.jpg ... [Done]\n",
      "Downloading URL https://mast.stsci.edu/api/v0.1/Download/file?uri=mast:HST/product/j8up02v5q_raw.fits to ./mastDownload/HST/j8up02v5q/j8up02v5q_raw.fits ... [Done]\n",
      "Downloading URL https://mast.stsci.edu/api/v0.1/Download/file?uri=mast:HST/product/j8up02v5q_drz.fits to ./mastDownload/HST/j8up02v5q/j8up02v5q_drz.fits ... [Done]\n",
      "Downloading URL https://mast.stsci.edu/api/v0.1/Download/file?uri=mast:HST/product/j8up02v5q_flt.fits to ./mastDownload/HST/j8up02v5q/j8up02v5q_flt.fits ... [Done]\n",
      "Downloading URL https://mast.stsci.edu/api/v0.1/Download/file?uri=mast:HST/product/j8up02v7q_flt_hlet.fits to ./mastDownload/HST/j8up02v7q/j8up02v7q_flt_hlet.fits ... [Done]\n",
      "Downloading URL https://mast.stsci.edu/api/v0.1/Download/file?uri=mast:HST/product/j8up02v7j_jif.fits to ./mastDownload/HST/j8up02v7q/j8up02v7j_jif.fits ... [Done]\n",
      "Downloading URL https://mast.stsci.edu/api/v0.1/Download/file?uri=mast:HST/product/j8up02v7j_jit.fits to ./mastDownload/HST/j8up02v7q/j8up02v7j_jit.fits ... [Done]\n",
      "Downloading URL https://mast.stsci.edu/api/v0.1/Download/file?uri=mast:HST/product/j8up02v7q_spt.fits to ./mastDownload/HST/j8up02v7q/j8up02v7q_spt.fits ... [Done]\n",
      "Downloading URL https://mast.stsci.edu/api/v0.1/Download/file?uri=mast:HST/product/j8up02v7q_trl.fits to ./mastDownload/HST/j8up02v7q/j8up02v7q_trl.fits ... [Done]\n",
      "Downloading URL https://mast.stsci.edu/api/v0.1/Download/file?uri=mast:HST/product/j8up02v7q_drz.jpg to ./mastDownload/HST/j8up02v7q/j8up02v7q_drz.jpg ... [Done]\n",
      "Downloading URL https://mast.stsci.edu/api/v0.1/Download/file?uri=mast:HST/product/j8up02v7q_raw.jpg to ./mastDownload/HST/j8up02v7q/j8up02v7q_raw.jpg ... [Done]\n",
      "Downloading URL https://mast.stsci.edu/api/v0.1/Download/file?uri=mast:HST/product/j8up02v7q_flt.jpg to ./mastDownload/HST/j8up02v7q/j8up02v7q_flt.jpg ... [Done]\n",
      "Downloading URL https://mast.stsci.edu/api/v0.1/Download/file?uri=mast:HST/product/j8up02v7q_raw.fits to ./mastDownload/HST/j8up02v7q/j8up02v7q_raw.fits ... [Done]\n",
      "Downloading URL https://mast.stsci.edu/api/v0.1/Download/file?uri=mast:HST/product/j8up02v7q_drz.fits to ./mastDownload/HST/j8up02v7q/j8up02v7q_drz.fits ... [Done]\n"
     ]
    },
    {
     "name": "stdout",
     "output_type": "stream",
     "text": [
      "Downloading URL https://mast.stsci.edu/api/v0.1/Download/file?uri=mast:HST/product/j8up02v7q_flt.fits to ./mastDownload/HST/j8up02v7q/j8up02v7q_flt.fits ... [Done]\n",
      "Downloading URL https://mast.stsci.edu/api/v0.1/Download/file?uri=mast:HST/product/j8up02v9q_flt_hlet.fits to ./mastDownload/HST/j8up02v9q/j8up02v9q_flt_hlet.fits ... [Done]\n",
      "Downloading URL https://mast.stsci.edu/api/v0.1/Download/file?uri=mast:HST/product/j8up02v9j_jif.fits to ./mastDownload/HST/j8up02v9q/j8up02v9j_jif.fits ... [Done]\n",
      "Downloading URL https://mast.stsci.edu/api/v0.1/Download/file?uri=mast:HST/product/j8up02v9j_jit.fits to ./mastDownload/HST/j8up02v9q/j8up02v9j_jit.fits ... [Done]\n",
      "Downloading URL https://mast.stsci.edu/api/v0.1/Download/file?uri=mast:HST/product/j8up02v9q_spt.fits to ./mastDownload/HST/j8up02v9q/j8up02v9q_spt.fits ... [Done]\n",
      "Downloading URL https://mast.stsci.edu/api/v0.1/Download/file?uri=mast:HST/product/j8up02v9q_trl.fits to ./mastDownload/HST/j8up02v9q/j8up02v9q_trl.fits ... [Done]\n",
      "Downloading URL https://mast.stsci.edu/api/v0.1/Download/file?uri=mast:HST/product/j8up02v9q_drz.jpg to ./mastDownload/HST/j8up02v9q/j8up02v9q_drz.jpg ... [Done]\n",
      "Downloading URL https://mast.stsci.edu/api/v0.1/Download/file?uri=mast:HST/product/j8up02v9q_raw.jpg to ./mastDownload/HST/j8up02v9q/j8up02v9q_raw.jpg ... [Done]\n",
      "Downloading URL https://mast.stsci.edu/api/v0.1/Download/file?uri=mast:HST/product/j8up02v9q_flt.jpg to ./mastDownload/HST/j8up02v9q/j8up02v9q_flt.jpg ... [Done]\n",
      "Downloading URL https://mast.stsci.edu/api/v0.1/Download/file?uri=mast:HST/product/j8up02v9q_raw.fits to ./mastDownload/HST/j8up02v9q/j8up02v9q_raw.fits ... [Done]\n",
      "Downloading URL https://mast.stsci.edu/api/v0.1/Download/file?uri=mast:HST/product/j8up02v9q_drz.fits to ./mastDownload/HST/j8up02v9q/j8up02v9q_drz.fits ... [Done]\n",
      "Downloading URL https://mast.stsci.edu/api/v0.1/Download/file?uri=mast:HST/product/j8up02v9q_flt.fits to ./mastDownload/HST/j8up02v9q/j8up02v9q_flt.fits ... [Done]\n",
      "Downloading URL https://mast.stsci.edu/api/v0.1/Download/file?uri=mast:HST/product/j8up02vbq_flt_hlet.fits to ./mastDownload/HST/j8up02vbq/j8up02vbq_flt_hlet.fits ... [Done]\n",
      "Downloading URL https://mast.stsci.edu/api/v0.1/Download/file?uri=mast:HST/product/j8up02vbj_jif.fits to ./mastDownload/HST/j8up02vbq/j8up02vbj_jif.fits ... [Done]\n",
      "Downloading URL https://mast.stsci.edu/api/v0.1/Download/file?uri=mast:HST/product/j8up02vbj_jit.fits to ./mastDownload/HST/j8up02vbq/j8up02vbj_jit.fits ... [Done]\n",
      "Downloading URL https://mast.stsci.edu/api/v0.1/Download/file?uri=mast:HST/product/j8up02vbq_spt.fits to ./mastDownload/HST/j8up02vbq/j8up02vbq_spt.fits ... [Done]\n",
      "Downloading URL https://mast.stsci.edu/api/v0.1/Download/file?uri=mast:HST/product/j8up02vbq_trl.fits to ./mastDownload/HST/j8up02vbq/j8up02vbq_trl.fits ... [Done]\n",
      "Downloading URL https://mast.stsci.edu/api/v0.1/Download/file?uri=mast:HST/product/j8up02vbq_drz.jpg to ./mastDownload/HST/j8up02vbq/j8up02vbq_drz.jpg ... [Done]\n",
      "Downloading URL https://mast.stsci.edu/api/v0.1/Download/file?uri=mast:HST/product/j8up02vbq_raw.jpg to ./mastDownload/HST/j8up02vbq/j8up02vbq_raw.jpg ... [Done]\n",
      "Downloading URL https://mast.stsci.edu/api/v0.1/Download/file?uri=mast:HST/product/j8up02vbq_flt.jpg to ./mastDownload/HST/j8up02vbq/j8up02vbq_flt.jpg ... [Done]\n",
      "Downloading URL https://mast.stsci.edu/api/v0.1/Download/file?uri=mast:HST/product/j8up02vbq_raw.fits to ./mastDownload/HST/j8up02vbq/j8up02vbq_raw.fits ... [Done]\n",
      "Downloading URL https://mast.stsci.edu/api/v0.1/Download/file?uri=mast:HST/product/j8up02vbq_drz.fits to ./mastDownload/HST/j8up02vbq/j8up02vbq_drz.fits ... [Done]\n",
      "Downloading URL https://mast.stsci.edu/api/v0.1/Download/file?uri=mast:HST/product/j8up02vbq_flt.fits to ./mastDownload/HST/j8up02vbq/j8up02vbq_flt.fits ... [Done]\n",
      "Downloading URL https://mast.stsci.edu/api/v0.1/Download/file?uri=mast:HST/product/j8up02vcq_flt_hlet.fits to ./mastDownload/HST/j8up02vcq/j8up02vcq_flt_hlet.fits ... [Done]\n",
      "Downloading URL https://mast.stsci.edu/api/v0.1/Download/file?uri=mast:HST/product/j8up02vcj_jif.fits to ./mastDownload/HST/j8up02vcq/j8up02vcj_jif.fits ... [Done]\n",
      "Downloading URL https://mast.stsci.edu/api/v0.1/Download/file?uri=mast:HST/product/j8up02vcj_jit.fits to ./mastDownload/HST/j8up02vcq/j8up02vcj_jit.fits ... [Done]\n",
      "Downloading URL https://mast.stsci.edu/api/v0.1/Download/file?uri=mast:HST/product/j8up02vcq_spt.fits to ./mastDownload/HST/j8up02vcq/j8up02vcq_spt.fits ... [Done]\n",
      "Downloading URL https://mast.stsci.edu/api/v0.1/Download/file?uri=mast:HST/product/j8up02vcq_trl.fits to ./mastDownload/HST/j8up02vcq/j8up02vcq_trl.fits ... [Done]\n",
      "Downloading URL https://mast.stsci.edu/api/v0.1/Download/file?uri=mast:HST/product/j8up02vcq_drz.jpg to ./mastDownload/HST/j8up02vcq/j8up02vcq_drz.jpg ... [Done]\n",
      "Downloading URL https://mast.stsci.edu/api/v0.1/Download/file?uri=mast:HST/product/j8up02vcq_raw.jpg to ./mastDownload/HST/j8up02vcq/j8up02vcq_raw.jpg ... [Done]\n",
      "Downloading URL https://mast.stsci.edu/api/v0.1/Download/file?uri=mast:HST/product/j8up02vcq_flt.jpg to ./mastDownload/HST/j8up02vcq/j8up02vcq_flt.jpg ... [Done]\n",
      "Downloading URL https://mast.stsci.edu/api/v0.1/Download/file?uri=mast:HST/product/j8up02vcq_raw.fits to ./mastDownload/HST/j8up02vcq/j8up02vcq_raw.fits ... [Done]\n",
      "Downloading URL https://mast.stsci.edu/api/v0.1/Download/file?uri=mast:HST/product/j8up02vcq_drz.fits to ./mastDownload/HST/j8up02vcq/j8up02vcq_drz.fits ... [Done]\n",
      "Downloading URL https://mast.stsci.edu/api/v0.1/Download/file?uri=mast:HST/product/j8up02vcq_flt.fits to ./mastDownload/HST/j8up02vcq/j8up02vcq_flt.fits ... [Done]\n",
      "Downloading URL https://mast.stsci.edu/api/v0.1/Download/file?uri=mast:HST/product/j8up02vdq_flt_hlet.fits to ./mastDownload/HST/j8up02vdq/j8up02vdq_flt_hlet.fits ... [Done]\n",
      "Downloading URL https://mast.stsci.edu/api/v0.1/Download/file?uri=mast:HST/product/j8up02vdj_jif.fits to ./mastDownload/HST/j8up02vdq/j8up02vdj_jif.fits ... [Done]\n",
      "Downloading URL https://mast.stsci.edu/api/v0.1/Download/file?uri=mast:HST/product/j8up02vdj_jit.fits to ./mastDownload/HST/j8up02vdq/j8up02vdj_jit.fits ... [Done]\n",
      "Downloading URL https://mast.stsci.edu/api/v0.1/Download/file?uri=mast:HST/product/j8up02vdq_spt.fits to ./mastDownload/HST/j8up02vdq/j8up02vdq_spt.fits ... [Done]\n",
      "Downloading URL https://mast.stsci.edu/api/v0.1/Download/file?uri=mast:HST/product/j8up02vdq_trl.fits to ./mastDownload/HST/j8up02vdq/j8up02vdq_trl.fits ... [Done]\n",
      "Downloading URL https://mast.stsci.edu/api/v0.1/Download/file?uri=mast:HST/product/j8up02vdq_drz.jpg to ./mastDownload/HST/j8up02vdq/j8up02vdq_drz.jpg ... [Done]\n",
      "Downloading URL https://mast.stsci.edu/api/v0.1/Download/file?uri=mast:HST/product/j8up02vdq_raw.jpg to ./mastDownload/HST/j8up02vdq/j8up02vdq_raw.jpg ... [Done]\n",
      "Downloading URL https://mast.stsci.edu/api/v0.1/Download/file?uri=mast:HST/product/j8up02vdq_flt.jpg to ./mastDownload/HST/j8up02vdq/j8up02vdq_flt.jpg ... [Done]\n",
      "Downloading URL https://mast.stsci.edu/api/v0.1/Download/file?uri=mast:HST/product/j8up02vdq_raw.fits to ./mastDownload/HST/j8up02vdq/j8up02vdq_raw.fits ... [Done]\n",
      "Downloading URL https://mast.stsci.edu/api/v0.1/Download/file?uri=mast:HST/product/j8up02vdq_drz.fits to ./mastDownload/HST/j8up02vdq/j8up02vdq_drz.fits ... [Done]\n",
      "Downloading URL https://mast.stsci.edu/api/v0.1/Download/file?uri=mast:HST/product/j8up02vdq_flt.fits to ./mastDownload/HST/j8up02vdq/j8up02vdq_flt.fits ... [Done]\n",
      "Downloading URL https://mast.stsci.edu/api/v0.1/Download/file?uri=mast:HST/product/x22q0101t_dgr.fits to ./mastDownload/HST/x22q0101t/x22q0101t_dgr.fits ... [Done]\n",
      "Downloading URL https://mast.stsci.edu/api/v0.1/Download/file?uri=mast:HST/product/x22q0101t_q0f.fits to ./mastDownload/HST/x22q0101t/x22q0101t_q0f.fits ... [Done]\n",
      "Downloading URL https://mast.stsci.edu/api/v0.1/Download/file?uri=mast:HST/product/x22q0101t_shf.fits to ./mastDownload/HST/x22q0101t/x22q0101t_shf.fits ... [Done]\n",
      "Downloading URL https://mast.stsci.edu/api/v0.1/Download/file?uri=mast:HST/product/x22q0101t_trl.fits to ./mastDownload/HST/x22q0101t/x22q0101t_trl.fits ... [Done]\n",
      "Downloading URL https://mast.stsci.edu/api/v0.1/Download/file?uri=mast:HST/product/x22q0101t_ulf.fits to ./mastDownload/HST/x22q0101t/x22q0101t_ulf.fits ... [Done]\n",
      "Downloading URL https://mast.stsci.edu/api/v0.1/Download/file?uri=mast:HST/product/x22q0101t_c0f.jpg to ./mastDownload/HST/x22q0101t/x22q0101t_c0f.jpg ... [Done]\n",
      "Downloading URL https://mast.stsci.edu/api/v0.1/Download/file?uri=mast:HST/product/x22q0101t_d0f.jpg to ./mastDownload/HST/x22q0101t/x22q0101t_d0f.jpg ... [Done]\n",
      "Downloading URL https://mast.stsci.edu/api/v0.1/Download/file?uri=mast:HST/product/x22q0101t_d0f.fits to ./mastDownload/HST/x22q0101t/x22q0101t_d0f.fits ... [Done]\n",
      "Downloading URL https://mast.stsci.edu/api/v0.1/Download/file?uri=mast:HST/product/x22q0101t_c0f.fits to ./mastDownload/HST/x22q0101t/x22q0101t_c0f.fits ... [Done]\n",
      "Downloading URL https://mast.stsci.edu/api/v0.1/Download/file?uri=mast:HST/product/x22q0101t_c1f.fits to ./mastDownload/HST/x22q0101t/x22q0101t_c1f.fits ... [Done]\n",
      "Downloading URL https://mast.stsci.edu/api/v0.1/Download/file?uri=mast:HST/product/x22q0201t_dgr.fits to ./mastDownload/HST/x22q0201t/x22q0201t_dgr.fits ... [Done]\n",
      "Downloading URL https://mast.stsci.edu/api/v0.1/Download/file?uri=mast:HST/product/x22q0201t_q0f.fits to ./mastDownload/HST/x22q0201t/x22q0201t_q0f.fits ... [Done]\n",
      "Downloading URL https://mast.stsci.edu/api/v0.1/Download/file?uri=mast:HST/product/x22q0201t_shf.fits to ./mastDownload/HST/x22q0201t/x22q0201t_shf.fits ... [Done]\n",
      "Downloading URL https://mast.stsci.edu/api/v0.1/Download/file?uri=mast:HST/product/x22q0201t_trl.fits to ./mastDownload/HST/x22q0201t/x22q0201t_trl.fits ... [Done]\n",
      "Downloading URL https://mast.stsci.edu/api/v0.1/Download/file?uri=mast:HST/product/x22q0201t_ulf.fits to ./mastDownload/HST/x22q0201t/x22q0201t_ulf.fits ... [Done]\n",
      "Downloading URL https://mast.stsci.edu/api/v0.1/Download/file?uri=mast:HST/product/x22q0201t_c0f.jpg to ./mastDownload/HST/x22q0201t/x22q0201t_c0f.jpg ... [Done]\n",
      "Downloading URL https://mast.stsci.edu/api/v0.1/Download/file?uri=mast:HST/product/x22q0201t_d0f.jpg to ./mastDownload/HST/x22q0201t/x22q0201t_d0f.jpg ... [Done]\n",
      "Downloading URL https://mast.stsci.edu/api/v0.1/Download/file?uri=mast:HST/product/x22q0201t_d0f.fits to ./mastDownload/HST/x22q0201t/x22q0201t_d0f.fits ... [Done]\n",
      "Downloading URL https://mast.stsci.edu/api/v0.1/Download/file?uri=mast:HST/product/x22q0201t_c0f.fits to ./mastDownload/HST/x22q0201t/x22q0201t_c0f.fits ... [Done]\n",
      "Downloading URL https://mast.stsci.edu/api/v0.1/Download/file?uri=mast:HST/product/x22q0201t_c1f.fits to ./mastDownload/HST/x22q0201t/x22q0201t_c1f.fits ... [Done]\n",
      "Downloading URL https://mast.stsci.edu/api/v0.1/Download/file?uri=mast:HLSP/url/cgi-bin/preview.cgi?dataset=hlsp_orion_hst_acs_colorimage_b_v1_drz to ./mastDownload/HLSP/hlsp_orion_hst_acs_colorimage_b_v1_drz/hlsp_orion_hst_acs_colorimage_b_v1_drz.jpg ... [Done]\n",
      "Downloading URL https://mast.stsci.edu/api/v0.1/Download/file?uri=mast:HLSP/url/cgi-bin/getdata.cgi?dataset=hlsp_orion_hst_acs_colorimage_b_v1_drz to ./mastDownload/HLSP/hlsp_orion_hst_acs_colorimage_b_v1_drz/hlsp_orion_hst_acs_colorimage_b_v1_drz.fits ... [Done]\n",
      "Downloading URL https://mast.stsci.edu/api/v0.1/Download/file?uri=mast:HLSP/url/cgi-bin/preview.cgi?dataset=hlsp_orion_hst_acs_colorimage_g_v1_drz to ./mastDownload/HLSP/hlsp_orion_hst_acs_colorimage_g_v1_drz/hlsp_orion_hst_acs_colorimage_g_v1_drz.jpg ... [Done]\n",
      "Downloading URL https://mast.stsci.edu/api/v0.1/Download/file?uri=mast:HLSP/url/cgi-bin/getdata.cgi?dataset=hlsp_orion_hst_acs_colorimage_g_v1_drz to ./mastDownload/HLSP/hlsp_orion_hst_acs_colorimage_g_v1_drz/hlsp_orion_hst_acs_colorimage_g_v1_drz.fits ... [Done]\n",
      "Downloading URL https://mast.stsci.edu/api/v0.1/Download/file?uri=mast:HLSP/url/cgi-bin/preview.cgi?dataset=hlsp_orion_hst_acs_colorimage_r_v1_drz to ./mastDownload/HLSP/hlsp_orion_hst_acs_colorimage_r_v1_drz/hlsp_orion_hst_acs_colorimage_r_v1_drz.jpg ... [Done]\n",
      "Downloading URL https://mast.stsci.edu/api/v0.1/Download/file?uri=mast:HLSP/url/cgi-bin/getdata.cgi?dataset=hlsp_orion_hst_acs_colorimage_r_v1_drz to ./mastDownload/HLSP/hlsp_orion_hst_acs_colorimage_r_v1_drz/hlsp_orion_hst_acs_colorimage_r_v1_drz.fits ... [Done]\n",
      "Downloading URL https://mast.stsci.edu/api/v0.1/Download/file?uri=mast:HLA/url/cgi-bin/preview.cgi?dataset=hst_10057_02_acs_wfc_fr388n_01 to ./mastDownload/HLA/hst_10057_02_acs_wfc_fr388n_01/hst_10057_02_acs_wfc_fr388n_01_drz.jpg ... [Done]\n",
      "Downloading URL https://mast.stsci.edu/api/v0.1/Download/file?uri=mast:HLA/url/cgi-bin/getdata.cgi?dataset=hst_10057_02_acs_wfc_fr388n_01_drz.fits to ./mastDownload/HLA/hst_10057_02_acs_wfc_fr388n_01/hst_10057_02_acs_wfc_fr388n_01_drz.fits ... [Done]\n",
      "Downloading URL https://mast.stsci.edu/api/v0.1/Download/file?uri=mast:HLA/url/cgi-bin/preview.cgi?dataset=hst_10057_02_acs_wfc_fr388n_02 to ./mastDownload/HLA/hst_10057_02_acs_wfc_fr388n_02/hst_10057_02_acs_wfc_fr388n_02_drz.jpg ... [Done]\n",
      "Downloading URL https://mast.stsci.edu/api/v0.1/Download/file?uri=mast:HLA/url/cgi-bin/getdata.cgi?dataset=hst_10057_02_acs_wfc_fr388n_02_drz.fits to ./mastDownload/HLA/hst_10057_02_acs_wfc_fr388n_02/hst_10057_02_acs_wfc_fr388n_02_drz.fits ... [Done]\n",
      "Downloading URL https://mast.stsci.edu/api/v0.1/Download/file?uri=mast:HLA/url/cgi-bin/preview.cgi?dataset=hst_10057_02_acs_wfc_fr459m_01 to ./mastDownload/HLA/hst_10057_02_acs_wfc_fr459m_01/hst_10057_02_acs_wfc_fr459m_01_drz.jpg ... [Done]\n",
      "Downloading URL https://mast.stsci.edu/api/v0.1/Download/file?uri=mast:HLA/url/cgi-bin/getdata.cgi?dataset=hst_10057_02_acs_wfc_fr459m_01_drz.fits to ./mastDownload/HLA/hst_10057_02_acs_wfc_fr459m_01/hst_10057_02_acs_wfc_fr459m_01_drz.fits ... [Done]\n",
      "Downloading URL https://mast.stsci.edu/api/v0.1/Download/file?uri=mast:HLA/url/cgi-bin/preview.cgi?dataset=hst_10057_02_acs_wfc_fr459m_02 to ./mastDownload/HLA/hst_10057_02_acs_wfc_fr459m_02/hst_10057_02_acs_wfc_fr459m_02_drz.jpg ... [Done]\n",
      "Downloading URL https://mast.stsci.edu/api/v0.1/Download/file?uri=mast:HLA/url/cgi-bin/getdata.cgi?dataset=hst_10057_02_acs_wfc_fr459m_02_drz.fits to ./mastDownload/HLA/hst_10057_02_acs_wfc_fr459m_02/hst_10057_02_acs_wfc_fr459m_02_drz.fits ... [Done]\n",
      "Downloading URL https://mast.stsci.edu/api/v0.1/Download/file?uri=mast:HLA/url/cgi-bin/preview.cgi?dataset=hst_10057_02_acs_wfc_fr459m_03 to ./mastDownload/HLA/hst_10057_02_acs_wfc_fr459m_03/hst_10057_02_acs_wfc_fr459m_03_drz.jpg ... [Done]\n",
      "Downloading URL https://mast.stsci.edu/api/v0.1/Download/file?uri=mast:HLA/url/cgi-bin/getdata.cgi?dataset=hst_10057_02_acs_wfc_fr459m_03_drz.fits to ./mastDownload/HLA/hst_10057_02_acs_wfc_fr459m_03/hst_10057_02_acs_wfc_fr459m_03_drz.fits ... [Done]\n",
      "Downloading URL https://mast.stsci.edu/api/v0.1/Download/file?uri=mast:HLA/url/cgi-bin/preview.cgi?dataset=hst_10057_02_acs_wfc_fr505n_01 to ./mastDownload/HLA/hst_10057_02_acs_wfc_fr505n_01/hst_10057_02_acs_wfc_fr505n_01_drz.jpg ... [Done]\n",
      "Downloading URL https://mast.stsci.edu/api/v0.1/Download/file?uri=mast:HLA/url/cgi-bin/getdata.cgi?dataset=hst_10057_02_acs_wfc_fr505n_01_drz.fits to ./mastDownload/HLA/hst_10057_02_acs_wfc_fr505n_01/hst_10057_02_acs_wfc_fr505n_01_drz.fits ... [Done]\n",
      "Downloading URL https://mast.stsci.edu/api/v0.1/Download/file?uri=mast:HLA/url/cgi-bin/preview.cgi?dataset=hst_10057_02_acs_wfc_fr505n_02 to ./mastDownload/HLA/hst_10057_02_acs_wfc_fr505n_02/hst_10057_02_acs_wfc_fr505n_02_drz.jpg ... [Done]\n",
      "Downloading URL https://mast.stsci.edu/api/v0.1/Download/file?uri=mast:HLA/url/cgi-bin/getdata.cgi?dataset=hst_10057_02_acs_wfc_fr505n_02_drz.fits to ./mastDownload/HLA/hst_10057_02_acs_wfc_fr505n_02/hst_10057_02_acs_wfc_fr505n_02_drz.fits ... [Done]\n",
      "Downloading URL https://mast.stsci.edu/api/v0.1/Download/file?uri=mast:HLA/url/cgi-bin/preview.cgi?dataset=hst_10057_02_acs_wfc_fr656n_01 to ./mastDownload/HLA/hst_10057_02_acs_wfc_fr656n_01/hst_10057_02_acs_wfc_fr656n_01_drz.jpg ... [Done]\n",
      "Downloading URL https://mast.stsci.edu/api/v0.1/Download/file?uri=mast:HLA/url/cgi-bin/getdata.cgi?dataset=hst_10057_02_acs_wfc_fr656n_01_drz.fits to ./mastDownload/HLA/hst_10057_02_acs_wfc_fr656n_01/hst_10057_02_acs_wfc_fr656n_01_drz.fits ... [Done]\n"
     ]
    },
    {
     "name": "stdout",
     "output_type": "stream",
     "text": [
      "Downloading URL https://mast.stsci.edu/api/v0.1/Download/file?uri=mast:HLA/url/cgi-bin/preview.cgi?dataset=hst_10057_02_acs_wfc_fr656n_02 to ./mastDownload/HLA/hst_10057_02_acs_wfc_fr656n_02/hst_10057_02_acs_wfc_fr656n_02_drz.jpg ... [Done]\n",
      "Downloading URL https://mast.stsci.edu/api/v0.1/Download/file?uri=mast:HLA/url/cgi-bin/getdata.cgi?dataset=hst_10057_02_acs_wfc_fr656n_02_drz.fits to ./mastDownload/HLA/hst_10057_02_acs_wfc_fr656n_02/hst_10057_02_acs_wfc_fr656n_02_drz.fits ... [Done]\n",
      "Downloading URL https://mast.stsci.edu/api/v0.1/Download/file?uri=mast:HLA/url/cgi-bin/preview.cgi?dataset=hst_10057_02_acs_wfc_fr656n_03 to ./mastDownload/HLA/hst_10057_02_acs_wfc_fr656n_03/hst_10057_02_acs_wfc_fr656n_03_drz.jpg ... [Done]\n",
      "Downloading URL https://mast.stsci.edu/api/v0.1/Download/file?uri=mast:HLA/url/cgi-bin/getdata.cgi?dataset=hst_10057_02_acs_wfc_fr656n_03_drz.fits to ./mastDownload/HLA/hst_10057_02_acs_wfc_fr656n_03/hst_10057_02_acs_wfc_fr656n_03_drz.fits ... [Done]\n",
      "Downloading URL https://mast.stsci.edu/api/v0.1/Download/file?uri=mast:HLA/url/cgi-bin/preview.cgi?dataset=hst_10057_02_acs_wfc_fr914m_01 to ./mastDownload/HLA/hst_10057_02_acs_wfc_fr914m_01/hst_10057_02_acs_wfc_fr914m_01_drz.jpg ... [Done]\n",
      "Downloading URL https://mast.stsci.edu/api/v0.1/Download/file?uri=mast:HLA/url/cgi-bin/getdata.cgi?dataset=hst_10057_02_acs_wfc_fr914m_01_drz.fits to ./mastDownload/HLA/hst_10057_02_acs_wfc_fr914m_01/hst_10057_02_acs_wfc_fr914m_01_drz.fits ... [Done]\n",
      "Downloading URL https://mast.stsci.edu/api/v0.1/Download/file?uri=mast:HLA/url/cgi-bin/preview.cgi?dataset=hst_10057_02_acs_wfc_fr914m_02 to ./mastDownload/HLA/hst_10057_02_acs_wfc_fr914m_02/hst_10057_02_acs_wfc_fr914m_02_drz.jpg ... [Done]\n",
      "Downloading URL https://mast.stsci.edu/api/v0.1/Download/file?uri=mast:HLA/url/cgi-bin/getdata.cgi?dataset=hst_10057_02_acs_wfc_fr914m_02_drz.fits to ./mastDownload/HLA/hst_10057_02_acs_wfc_fr914m_02/hst_10057_02_acs_wfc_fr914m_02_drz.fits ... [Done]\n",
      "Downloading URL https://mast.stsci.edu/api/v0.1/Download/file?uri=mast:HLA/url/cgi-bin/preview.cgi?dataset=hst_10057_02_acs_wfc_fr914m_03 to ./mastDownload/HLA/hst_10057_02_acs_wfc_fr914m_03/hst_10057_02_acs_wfc_fr914m_03_drz.jpg ... [Done]\n",
      "Downloading URL https://mast.stsci.edu/api/v0.1/Download/file?uri=mast:HLA/url/cgi-bin/getdata.cgi?dataset=hst_10057_02_acs_wfc_fr914m_03_drz.fits to ./mastDownload/HLA/hst_10057_02_acs_wfc_fr914m_03/hst_10057_02_acs_wfc_fr914m_03_drz.fits ... [Done]\n",
      "Downloading URL https://mast.stsci.edu/api/v0.1/Download/file?uri=mast:HST/product/hst_10057_02_acs_wfc_fr388n_j8up02uw_trl.txt to ./mastDownload/HST/hst_10057_02_acs_wfc_fr388n_j8up02uw/hst_10057_02_acs_wfc_fr388n_j8up02uw_trl.txt ... [Done]\n",
      "Downloading URL https://mast.stsci.edu/api/v0.1/Download/file?uri=mast:HST/product/hst_10057_02_acs_wfc_fr388n_j8up02uw_flt.fits to ./mastDownload/HST/hst_10057_02_acs_wfc_fr388n_j8up02uw/hst_10057_02_acs_wfc_fr388n_j8up02uw_flt.fits ... [Done]\n",
      "Downloading URL https://mast.stsci.edu/api/v0.1/Download/file?uri=mast:HST/product/hst_10057_02_acs_wfc_fr459m_j8up02v7_trl.txt to ./mastDownload/HST/hst_10057_02_acs_wfc_fr459m_j8up02v7/hst_10057_02_acs_wfc_fr459m_j8up02v7_trl.txt ... [Done]\n",
      "Downloading URL https://mast.stsci.edu/api/v0.1/Download/file?uri=mast:HST/product/hst_10057_02_acs_wfc_fr459m_j8up02v7_flt.fits to ./mastDownload/HST/hst_10057_02_acs_wfc_fr459m_j8up02v7/hst_10057_02_acs_wfc_fr459m_j8up02v7_flt.fits ... [Done]\n",
      "Downloading URL https://mast.stsci.edu/api/v0.1/Download/file?uri=mast:HST/product/hst_10057_02_acs_wfc_fr914m_j8up02vb_trl.txt to ./mastDownload/HST/hst_10057_02_acs_wfc_fr914m_j8up02vb/hst_10057_02_acs_wfc_fr914m_j8up02vb_trl.txt ... [Done]\n",
      "Downloading URL https://mast.stsci.edu/api/v0.1/Download/file?uri=mast:HST/product/hst_10057_02_acs_wfc_fr914m_j8up02vb_flt.fits to ./mastDownload/HST/hst_10057_02_acs_wfc_fr914m_j8up02vb/hst_10057_02_acs_wfc_fr914m_j8up02vb_flt.fits ... [Done]\n",
      "Downloading URL https://mast.stsci.edu/api/v0.1/Download/file?uri=mast:HST/product/hst_10057_02_acs_wfc_fr459m_j8up02v5_trl.txt to ./mastDownload/HST/hst_10057_02_acs_wfc_fr459m_j8up02v5/hst_10057_02_acs_wfc_fr459m_j8up02v5_trl.txt ... [Done]\n",
      "Downloading URL https://mast.stsci.edu/api/v0.1/Download/file?uri=mast:HST/product/hst_10057_02_acs_wfc_fr459m_j8up02v5_flt.fits to ./mastDownload/HST/hst_10057_02_acs_wfc_fr459m_j8up02v5/hst_10057_02_acs_wfc_fr459m_j8up02v5_flt.fits ... [Done]\n",
      "Downloading URL https://mast.stsci.edu/api/v0.1/Download/file?uri=mast:HST/product/hst_10057_02_acs_wfc_fr656n_j8up02ut_trl.txt to ./mastDownload/HST/hst_10057_02_acs_wfc_fr656n_j8up02ut/hst_10057_02_acs_wfc_fr656n_j8up02ut_trl.txt ... [Done]\n",
      "Downloading URL https://mast.stsci.edu/api/v0.1/Download/file?uri=mast:HST/product/hst_10057_02_acs_wfc_fr656n_j8up02ut_flt.fits to ./mastDownload/HST/hst_10057_02_acs_wfc_fr656n_j8up02ut/hst_10057_02_acs_wfc_fr656n_j8up02ut_flt.fits ... [Done]\n",
      "Downloading URL https://mast.stsci.edu/api/v0.1/Download/file?uri=mast:HST/product/hst_10057_02_acs_wfc_fr914m_j8up02vd_trl.txt to ./mastDownload/HST/hst_10057_02_acs_wfc_fr914m_j8up02vd/hst_10057_02_acs_wfc_fr914m_j8up02vd_trl.txt ... [Done]\n",
      "Downloading URL https://mast.stsci.edu/api/v0.1/Download/file?uri=mast:HST/product/hst_10057_02_acs_wfc_fr914m_j8up02vd_flt.fits to ./mastDownload/HST/hst_10057_02_acs_wfc_fr914m_j8up02vd/hst_10057_02_acs_wfc_fr914m_j8up02vd_flt.fits ... [Done]\n",
      "Downloading URL https://mast.stsci.edu/api/v0.1/Download/file?uri=mast:HST/product/hst_10057_02_acs_wfc_fr505n_j8up02uy_trl.txt to ./mastDownload/HST/hst_10057_02_acs_wfc_fr505n_j8up02uy/hst_10057_02_acs_wfc_fr505n_j8up02uy_trl.txt ... [Done]\n",
      "Downloading URL https://mast.stsci.edu/api/v0.1/Download/file?uri=mast:HST/product/hst_10057_02_acs_wfc_fr505n_j8up02uy_flt.fits to ./mastDownload/HST/hst_10057_02_acs_wfc_fr505n_j8up02uy/hst_10057_02_acs_wfc_fr505n_j8up02uy_flt.fits ... [Done]\n",
      "Downloading URL https://mast.stsci.edu/api/v0.1/Download/file?uri=mast:HST/product/hst_10057_02_acs_wfc_fr914m_j8up02vc_trl.txt to ./mastDownload/HST/hst_10057_02_acs_wfc_fr914m_j8up02vc/hst_10057_02_acs_wfc_fr914m_j8up02vc_trl.txt ... [Done]\n",
      "Downloading URL https://mast.stsci.edu/api/v0.1/Download/file?uri=mast:HST/product/hst_10057_02_acs_wfc_fr914m_j8up02vc_flt.fits to ./mastDownload/HST/hst_10057_02_acs_wfc_fr914m_j8up02vc/hst_10057_02_acs_wfc_fr914m_j8up02vc_flt.fits ... [Done]\n",
      "Downloading URL https://mast.stsci.edu/api/v0.1/Download/file?uri=mast:HST/product/hst_10057_02_acs_wfc_fr656n_j8up02us_trl.txt to ./mastDownload/HST/hst_10057_02_acs_wfc_fr656n_j8up02us/hst_10057_02_acs_wfc_fr656n_j8up02us_trl.txt ... [Done]\n",
      "Downloading URL https://mast.stsci.edu/api/v0.1/Download/file?uri=mast:HST/product/hst_10057_02_acs_wfc_fr656n_j8up02us_flt.fits to ./mastDownload/HST/hst_10057_02_acs_wfc_fr656n_j8up02us/hst_10057_02_acs_wfc_fr656n_j8up02us_flt.fits ... [Done]\n",
      "Downloading URL https://mast.stsci.edu/api/v0.1/Download/file?uri=mast:HST/product/hst_10057_02_acs_wfc_fr656n_j8up02uu_trl.txt to ./mastDownload/HST/hst_10057_02_acs_wfc_fr656n_j8up02uu/hst_10057_02_acs_wfc_fr656n_j8up02uu_trl.txt ... [Done]\n",
      "Downloading URL https://mast.stsci.edu/api/v0.1/Download/file?uri=mast:HST/product/hst_10057_02_acs_wfc_fr656n_j8up02uu_flt.fits to ./mastDownload/HST/hst_10057_02_acs_wfc_fr656n_j8up02uu/hst_10057_02_acs_wfc_fr656n_j8up02uu_flt.fits ... [Done]\n",
      "Downloading URL https://mast.stsci.edu/api/v0.1/Download/file?uri=mast:HST/product/hst_10057_02_acs_wfc_fr388n_j8up02uv_trl.txt to ./mastDownload/HST/hst_10057_02_acs_wfc_fr388n_j8up02uv/hst_10057_02_acs_wfc_fr388n_j8up02uv_trl.txt ... [Done]\n",
      "Downloading URL https://mast.stsci.edu/api/v0.1/Download/file?uri=mast:HST/product/hst_10057_02_acs_wfc_fr388n_j8up02uv_flt.fits to ./mastDownload/HST/hst_10057_02_acs_wfc_fr388n_j8up02uv/hst_10057_02_acs_wfc_fr388n_j8up02uv_flt.fits ... [Done]\n",
      "Downloading URL https://mast.stsci.edu/api/v0.1/Download/file?uri=mast:HST/product/hst_10057_02_acs_wfc_fr505n_j8up02v0_trl.txt to ./mastDownload/HST/hst_10057_02_acs_wfc_fr505n_j8up02v0/hst_10057_02_acs_wfc_fr505n_j8up02v0_trl.txt ... [Done]\n",
      "Downloading URL https://mast.stsci.edu/api/v0.1/Download/file?uri=mast:HST/product/hst_10057_02_acs_wfc_fr505n_j8up02v0_flt.fits to ./mastDownload/HST/hst_10057_02_acs_wfc_fr505n_j8up02v0/hst_10057_02_acs_wfc_fr505n_j8up02v0_flt.fits ... [Done]\n",
      "Downloading URL https://mast.stsci.edu/api/v0.1/Download/file?uri=mast:HST/product/hst_10057_02_acs_wfc_fr459m_j8up02v9_trl.txt to ./mastDownload/HST/hst_10057_02_acs_wfc_fr459m_j8up02v9/hst_10057_02_acs_wfc_fr459m_j8up02v9_trl.txt ... [Done]\n",
      "Downloading URL https://mast.stsci.edu/api/v0.1/Download/file?uri=mast:HST/product/hst_10057_02_acs_wfc_fr459m_j8up02v9_flt.fits to ./mastDownload/HST/hst_10057_02_acs_wfc_fr459m_j8up02v9/hst_10057_02_acs_wfc_fr459m_j8up02v9_flt.fits ... [Done]\n"
     ]
    },
    {
     "data": {
      "text/html": [
       "<div><i>Table length=221</i>\n",
       "<table id=\"table140641677659824\" class=\"table-striped table-bordered table-condensed\">\n",
       "<thead><tr><th>Local Path</th><th>Status</th><th>Message</th><th>URL</th></tr></thead>\n",
       "<thead><tr><th>str102</th><th>str8</th><th>object</th><th>object</th></tr></thead>\n",
       "<tr><td>./mastDownload/HST/j8up02usq/j8up02usq_flt_hlet.fits</td><td>COMPLETE</td><td>None</td><td>None</td></tr>\n",
       "<tr><td>./mastDownload/HST/j8up02usq/j8up02usj_jif.fits</td><td>COMPLETE</td><td>None</td><td>None</td></tr>\n",
       "<tr><td>./mastDownload/HST/j8up02usq/j8up02usj_jit.fits</td><td>COMPLETE</td><td>None</td><td>None</td></tr>\n",
       "<tr><td>./mastDownload/HST/j8up02usq/j8up02usq_spt.fits</td><td>COMPLETE</td><td>None</td><td>None</td></tr>\n",
       "<tr><td>./mastDownload/HST/j8up02usq/j8up02usq_trl.fits</td><td>COMPLETE</td><td>None</td><td>None</td></tr>\n",
       "<tr><td>./mastDownload/HST/j8up02usq/j8up02usq_drz.jpg</td><td>COMPLETE</td><td>None</td><td>None</td></tr>\n",
       "<tr><td>./mastDownload/HST/j8up02usq/j8up02usq_raw.jpg</td><td>COMPLETE</td><td>None</td><td>None</td></tr>\n",
       "<tr><td>./mastDownload/HST/j8up02usq/j8up02usq_flt.jpg</td><td>COMPLETE</td><td>None</td><td>None</td></tr>\n",
       "<tr><td>./mastDownload/HST/j8up02usq/j8up02usq_raw.fits</td><td>COMPLETE</td><td>None</td><td>None</td></tr>\n",
       "<tr><td>./mastDownload/HST/j8up02usq/j8up02usq_drz.fits</td><td>COMPLETE</td><td>None</td><td>None</td></tr>\n",
       "<tr><td>...</td><td>...</td><td>...</td><td>...</td></tr>\n",
       "<tr><td>./mastDownload/HST/hst_10057_02_acs_wfc_fr656n_j8up02us/hst_10057_02_acs_wfc_fr656n_j8up02us_trl.txt</td><td>COMPLETE</td><td>None</td><td>None</td></tr>\n",
       "<tr><td>./mastDownload/HST/hst_10057_02_acs_wfc_fr656n_j8up02us/hst_10057_02_acs_wfc_fr656n_j8up02us_flt.fits</td><td>COMPLETE</td><td>None</td><td>None</td></tr>\n",
       "<tr><td>./mastDownload/HST/hst_10057_02_acs_wfc_fr656n_j8up02uu/hst_10057_02_acs_wfc_fr656n_j8up02uu_trl.txt</td><td>COMPLETE</td><td>None</td><td>None</td></tr>\n",
       "<tr><td>./mastDownload/HST/hst_10057_02_acs_wfc_fr656n_j8up02uu/hst_10057_02_acs_wfc_fr656n_j8up02uu_flt.fits</td><td>COMPLETE</td><td>None</td><td>None</td></tr>\n",
       "<tr><td>./mastDownload/HST/hst_10057_02_acs_wfc_fr388n_j8up02uv/hst_10057_02_acs_wfc_fr388n_j8up02uv_trl.txt</td><td>COMPLETE</td><td>None</td><td>None</td></tr>\n",
       "<tr><td>./mastDownload/HST/hst_10057_02_acs_wfc_fr388n_j8up02uv/hst_10057_02_acs_wfc_fr388n_j8up02uv_flt.fits</td><td>COMPLETE</td><td>None</td><td>None</td></tr>\n",
       "<tr><td>./mastDownload/HST/hst_10057_02_acs_wfc_fr505n_j8up02v0/hst_10057_02_acs_wfc_fr505n_j8up02v0_trl.txt</td><td>COMPLETE</td><td>None</td><td>None</td></tr>\n",
       "<tr><td>./mastDownload/HST/hst_10057_02_acs_wfc_fr505n_j8up02v0/hst_10057_02_acs_wfc_fr505n_j8up02v0_flt.fits</td><td>COMPLETE</td><td>None</td><td>None</td></tr>\n",
       "<tr><td>./mastDownload/HST/hst_10057_02_acs_wfc_fr459m_j8up02v9/hst_10057_02_acs_wfc_fr459m_j8up02v9_trl.txt</td><td>COMPLETE</td><td>None</td><td>None</td></tr>\n",
       "<tr><td>./mastDownload/HST/hst_10057_02_acs_wfc_fr459m_j8up02v9/hst_10057_02_acs_wfc_fr459m_j8up02v9_flt.fits</td><td>COMPLETE</td><td>None</td><td>None</td></tr>\n",
       "</table></div>"
      ],
      "text/plain": [
       "<Table length=221>\n",
       "                                              Local Path                                              ...\n",
       "                                                str102                                                ...\n",
       "----------------------------------------------------------------------------------------------------- ...\n",
       "                                                 ./mastDownload/HST/j8up02usq/j8up02usq_flt_hlet.fits ...\n",
       "                                                      ./mastDownload/HST/j8up02usq/j8up02usj_jif.fits ...\n",
       "                                                      ./mastDownload/HST/j8up02usq/j8up02usj_jit.fits ...\n",
       "                                                      ./mastDownload/HST/j8up02usq/j8up02usq_spt.fits ...\n",
       "                                                      ./mastDownload/HST/j8up02usq/j8up02usq_trl.fits ...\n",
       "                                                       ./mastDownload/HST/j8up02usq/j8up02usq_drz.jpg ...\n",
       "                                                       ./mastDownload/HST/j8up02usq/j8up02usq_raw.jpg ...\n",
       "                                                       ./mastDownload/HST/j8up02usq/j8up02usq_flt.jpg ...\n",
       "                                                      ./mastDownload/HST/j8up02usq/j8up02usq_raw.fits ...\n",
       "                                                      ./mastDownload/HST/j8up02usq/j8up02usq_drz.fits ...\n",
       "                                                                                                  ... ...\n",
       " ./mastDownload/HST/hst_10057_02_acs_wfc_fr656n_j8up02us/hst_10057_02_acs_wfc_fr656n_j8up02us_trl.txt ...\n",
       "./mastDownload/HST/hst_10057_02_acs_wfc_fr656n_j8up02us/hst_10057_02_acs_wfc_fr656n_j8up02us_flt.fits ...\n",
       " ./mastDownload/HST/hst_10057_02_acs_wfc_fr656n_j8up02uu/hst_10057_02_acs_wfc_fr656n_j8up02uu_trl.txt ...\n",
       "./mastDownload/HST/hst_10057_02_acs_wfc_fr656n_j8up02uu/hst_10057_02_acs_wfc_fr656n_j8up02uu_flt.fits ...\n",
       " ./mastDownload/HST/hst_10057_02_acs_wfc_fr388n_j8up02uv/hst_10057_02_acs_wfc_fr388n_j8up02uv_trl.txt ...\n",
       "./mastDownload/HST/hst_10057_02_acs_wfc_fr388n_j8up02uv/hst_10057_02_acs_wfc_fr388n_j8up02uv_flt.fits ...\n",
       " ./mastDownload/HST/hst_10057_02_acs_wfc_fr505n_j8up02v0/hst_10057_02_acs_wfc_fr505n_j8up02v0_trl.txt ...\n",
       "./mastDownload/HST/hst_10057_02_acs_wfc_fr505n_j8up02v0/hst_10057_02_acs_wfc_fr505n_j8up02v0_flt.fits ...\n",
       " ./mastDownload/HST/hst_10057_02_acs_wfc_fr459m_j8up02v9/hst_10057_02_acs_wfc_fr459m_j8up02v9_trl.txt ...\n",
       "./mastDownload/HST/hst_10057_02_acs_wfc_fr459m_j8up02v9/hst_10057_02_acs_wfc_fr459m_j8up02v9_flt.fits ..."
      ]
     },
     "execution_count": 40,
     "metadata": {},
     "output_type": "execute_result"
    }
   ],
   "source": [
    "download_tab = Observations.download_products(obs_table['obsid'])\n",
    "download_tab"
   ]
  },
  {
   "cell_type": "code",
   "execution_count": 47,
   "metadata": {},
   "outputs": [
    {
     "name": "stdout",
     "output_type": "stream",
     "text": [
      "\u001b[34mFITS\u001b[m\u001b[m\r\n",
      "hst_10057_02_acs_wfc_fr388n_j8up02uv_trl.txt\r\n",
      "hst_10057_02_acs_wfc_fr388n_j8up02uw_trl.txt\r\n",
      "hst_10057_02_acs_wfc_fr459m_j8up02v5_trl.txt\r\n",
      "hst_10057_02_acs_wfc_fr459m_j8up02v7_trl.txt\r\n",
      "hst_10057_02_acs_wfc_fr459m_j8up02v9_trl.txt\r\n",
      "hst_10057_02_acs_wfc_fr505n_j8up02uy_trl.txt\r\n",
      "hst_10057_02_acs_wfc_fr505n_j8up02v0_trl.txt\r\n",
      "hst_10057_02_acs_wfc_fr656n_j8up02us_trl.txt\r\n",
      "hst_10057_02_acs_wfc_fr656n_j8up02ut_trl.txt\r\n",
      "hst_10057_02_acs_wfc_fr656n_j8up02uu_trl.txt\r\n",
      "hst_10057_02_acs_wfc_fr914m_j8up02vb_trl.txt\r\n",
      "hst_10057_02_acs_wfc_fr914m_j8up02vc_trl.txt\r\n",
      "hst_10057_02_acs_wfc_fr914m_j8up02vd_trl.txt\r\n",
      "\u001b[34mimages\u001b[m\u001b[m\r\n",
      "previewing_transient_candidates.ipynb\r\n"
     ]
    }
   ],
   "source": [
    "!mkdir('OrionNebulaHST')\n",
    "!cd OrionNebulaHST\n",
    "!mkdir('FITS')\n",
    "!mkdir('images')\n",
    "for file in download_tab['Local Path']:\n",
    "    os.rename(file, os.path.basename(file))\n",
    "    \n",
    "shutil.rmtree('mastDownload')\n",
    "!mv *fits FITS/\n",
    "!mv *jpg images/"
   ]
  },
  {
   "cell_type": "markdown",
   "metadata": {},
   "source": [
    "At this point, all the FITS files live in the FITS directory, while pre-processed images are in images/. Take a moment to look through the images in your preferred image viewer. Next, we will load the FITS files and manipulate them."
   ]
  },
  {
   "cell_type": "markdown",
   "metadata": {},
   "source": [
    "## Assignment 1: \n",
    "Pull all available observations for the galaxy cluster Abell 2744, also known as Pandora's Cluster. Try your favourite object. If you query only by target name, do you get too many results? What filters might help you narrow down to the data most useful to your proposal? Besides images, what data types might serve you? "
   ]
  },
  {
   "cell_type": "code",
   "execution_count": null,
   "metadata": {},
   "outputs": [],
   "source": [
    "obs_table = Observations.query_object( `Fill out your query here` )\n"
   ]
  },
  {
   "cell_type": "markdown",
   "metadata": {},
   "source": [
    "### Inspecting the observations\n",
    "\n",
    "You will notice that the number of downloaded files far exceeds the number of observations collected in `obs_table`. To understand them, let us look into the one of the accompanying `.txt` files."
   ]
  },
  {
   "cell_type": "code",
   "execution_count": 56,
   "metadata": {},
   "outputs": [
    {
     "name": "stdout",
     "output_type": "stream",
     "text": [
      "2021330044237 INFO src=drizzlepac.hapsequencer- Run start time: 2021-11-26 04:42:37.777383\n",
      "2021330044237 INFO src=drizzlepac.hapsequencer- Parse the poller and determine what exposures need to be combined into separate products.\n",
      "\n",
      "2021330044237 INFO src=drizzlepac.haputils.poller_utils- Input image j8up02usq_flt.fits found in current working directory.\n",
      "2021330044237 INFO src=drizzlepac.haputils.poller_utils- Input image j8up02utq_flt.fits found in current working directory.\n",
      "2021330044237 INFO src=drizzlepac.haputils.poller_utils- Input image j8up02uuq_flt.fits found in current working directory.\n",
      "2021330044237 INFO src=drizzlepac.haputils.poller_utils- Input image j8up02uvq_flt.fits found in current working directory.\n",
      "2021330044237 INFO src=drizzlepac.haputils.poller_utils- Input image j8up02uwq_flt.fits found in current working directory.\n",
      "2021330044237 INFO src=drizzlepac.haputils.poller_utils- Input image j8up02uyq_flt.fits found in current working directory.\n",
      "2021330044237 INFO src=drizzlepac.haputils.poller_utils- Input image j8up02v0q_flt.fits found in current working directory.\n"
     ]
    }
   ],
   "source": [
    "with open('hst_10057_02_acs_wfc_fr388n_j8up02uv_trl.txt') as f:\n",
    "    a = f.readlines()\n",
    "    for line in a[:10]:\n",
    "        print(line.split('\\n')[0])"
   ]
  },
  {
   "cell_type": "markdown",
   "metadata": {},
   "source": [
    "This tells us that several files, j...fits, were collected at each observation and combined into one image per filter using `drizzlepac`. We can further use `drizzlepac` to combine all of these into a single composite image, deeper than any individual one.\n",
    "\n",
    "The Drizzle technique is a way of orienting all the images into exactly the same reference frame. This is crucial since the telescope shifts its pointing direction slightly all the time; in addition, different instruments on the telescope point in different directions. To align the images, we first need to find all the point sources in them, and then feed in the point source lists, along with the WCS coordinate information, to `drizzlepac`."
   ]
  },
  {
   "cell_type": "markdown",
   "metadata": {},
   "source": [
    "### File Information\n",
    "\n",
    "Each FITS file uses the Multi-Extension FITS (MEF) format, meaning that multiple each file contains multiple objects. The first object details how the file was processed, the second is the image, and subsequent files, if any, contain spectra and/or other data products. Inspecting the FITS files, we see that those with `drz` in the filename have already had AstroDrizzle run on them."
   ]
  },
  {
   "cell_type": "code",
   "execution_count": null,
   "metadata": {},
   "outputs": [],
   "source": [
    "h = fits.open('FITS/j8up02uvq_drz.fits')[0].header\n",
    "h"
   ]
  },
  {
   "cell_type": "markdown",
   "metadata": {},
   "source": [
    "If you would like to learn to drizzle-align images yourself, use use [this tutorial](http://localhost:8889/notebooks/notebooks/DrizzlePac/Initialization/Initialization.ipynb) to set up AstroDrizzle and [this one](http://localhost:8889/notebooks/notebooks/DrizzlePac/drizzle_wfpc2/drizzle_wfpc2.ipynb) to create your very own composite image.  "
   ]
  },
  {
   "cell_type": "markdown",
   "metadata": {},
   "source": [
    "### Assignment 2\n",
    "Inspect the header file. What else can you learn about the observation and its processing from this? How many files were combined? Were these in the same, or different filters? What inputs were provided to AstroDrizzle?"
   ]
  },
  {
   "cell_type": "markdown",
   "metadata": {},
   "source": [
    "### Stacking images with tweakreg\n"
   ]
  },
  {
   "cell_type": "markdown",
   "metadata": {},
   "source": [
    "***"
   ]
  },
  {
   "cell_type": "markdown",
   "metadata": {},
   "source": [
    "## Exercises\n",
    "Exercises are optional, but encouraged. Exercises can be woven into the main content of your tutorial, or appear in their own section toward the end of the tutorial. Final exercises can be more challenging, similar to homework problems. They can be minimal or take as long as 30 minutes to an hour to complete. If you do have one or more exercises in your tutorial, be sure to leave a blank code cell underneath each to show the reader that they're meant to try out their new skill right there. You may also want to include a \"solutions\" notebook next to your main notebook for the reader to check their work after they have finished their attempt."
   ]
  },
  {
   "cell_type": "markdown",
   "metadata": {},
   "source": [
    "## Additional Resources\n",
    "\n",
    "This section is optional. Try to weave resource links into the main content of your tutorial so that they are falling in line with the context of your writing. For resources that do not fit cleanly into your narrative, you may include an additional resources section at the end of your tutorial. Usually a list of links using Markdown bullet list plus link format is appropriate:\n",
    "\n",
    "- [MAST API](https://mast.stsci.edu/api/v0/index.html)\n",
    "- [Kepler Archive Page (MAST)](https://archive.stsci.edu/kepler/)\n",
    "- [Kepler Archive Manual](https://archive.stsci.edu/kepler/manuals/archive_manual.pdf)\n",
    "- [Exo.MAST website](https://exo.mast.stsci.edu/)"
   ]
  },
  {
   "cell_type": "markdown",
   "metadata": {
    "slideshow": {
     "slide_type": "slide"
    }
   },
   "source": [
    "## About this Notebook\n",
    "\n",
    "**Author:** Urmila Chadayammuri, Postdoctoral Fellow, Smithsonian Astrophysical Observatory\n",
    "\n",
    "**Updated On:** 2022-07-24"
   ]
  },
  {
   "cell_type": "markdown",
   "metadata": {},
   "source": [
    "## Citations\n",
    "Provide your reader with guidelines on how to cite open source software and other resources in their own published work.\n",
    "\n",
    "```\n",
    "If you use `astropy` or `lightkurve` for published research, please cite the\n",
    "authors. Follow these links for more information about citing `astropy` and\n",
    "`lightkurve`:\n",
    "\n",
    "* [Citing `astropy`](https://www.astropy.org/acknowledging.html)\n",
    "* [Citing `lightkurve`](http://docs.lightkurve.org/about/citing.html)\n",
    "\n",
    "```"
   ]
  },
  {
   "cell_type": "markdown",
   "metadata": {},
   "source": [
    "***"
   ]
  },
  {
   "cell_type": "markdown",
   "metadata": {},
   "source": [
    "[Top of Page](#top)\n",
    "<img style=\"float: right;\" src=\"https://raw.githubusercontent.com/spacetelescope/notebooks/master/assets/stsci_pri_combo_mark_horizonal_white_bkgd.png\" alt=\"Space Telescope Logo\" width=\"200px\"/> "
   ]
  }
 ],
 "metadata": {
  "kernelspec": {
   "display_name": "Python 3",
   "language": "python",
   "name": "python3"
  },
  "language_info": {
   "codemirror_mode": {
    "name": "ipython",
    "version": 3
   },
   "file_extension": ".py",
   "mimetype": "text/x-python",
   "name": "python",
   "nbconvert_exporter": "python",
   "pygments_lexer": "ipython3",
   "version": "3.9.5"
  }
 },
 "nbformat": 4,
 "nbformat_minor": 2
}
