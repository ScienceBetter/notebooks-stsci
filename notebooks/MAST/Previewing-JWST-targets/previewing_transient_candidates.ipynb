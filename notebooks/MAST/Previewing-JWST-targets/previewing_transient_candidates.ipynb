{
 "cells": [
  {
   "cell_type": "markdown",
   "metadata": {
    "slideshow": {
     "slide_type": "slide"
    }
   },
   "source": [
    "<a id=\"top\"></a>\n",
    "# Tutorial Title"
   ]
  },
  {
   "cell_type": "markdown",
   "metadata": {
    "slideshow": {
     "slide_type": "skip"
    }
   },
   "source": [
    "***"
   ]
  },
  {
   "cell_type": "markdown",
   "metadata": {},
   "source": [
    "## Learning Goals\n",
    "Write three to five learning goals. A learning goal should describe what a reader should know or be able to do by the end of the tutorial that they didn't know or couldn't do before.\n",
    "\n",
    "```\n",
    "By the end of this tutorial, you will:\n",
    "\n",
    "- Use astroquery to access the HST and Gaia archives\n",
    "- Understand the drizzle technique\n",
    "- Run a source extractor on HST images.\n",
    "- Cross match the HST and Gaia sources.\n",
    "- Create your view own previews of targets for future proposals, including for JWST!\n",
    "\n",
    "```"
   ]
  },
  {
   "cell_type": "markdown",
   "metadata": {
    "slideshow": {
     "slide_type": "slide"
    }
   },
   "source": [
    "## Introduction\n",
    "This tutorial teaches us to align images between HST observations using `drizzlepac` and `tweakreg`. We learn the subtleties of combining images from different filters in a single visit, and combining multiple visits. Image aligning and stacking is crucial to make the most of the extensive Hubble archives, and are a crucial tool in preparing proposals for future observations. \n",
    "\n",
    "Before starting, [set up AstroConda](https://astroconda.readthedocs.io/en/latest/installation.html). "
   ]
  },
  {
   "cell_type": "markdown",
   "metadata": {
    "slideshow": {
     "slide_type": "slide"
    }
   },
   "source": [
    "## Imports\n",
    "Describe the libraries we're using here. If there's something unusual, explain what the library is, and why we need it.\n",
    "- *numpy* to handle array functions\n",
    "- *astropy.io fits* for accessing FITS files\n",
    "- *astropy.table Table* for creating tidy tables of the data\n",
    "- *matplotlib.pyplot* for plotting data\n",
    "- *astroquery* for pulling data from the Mikulski Archive at Space Telescope (MAST)\n",
    "- *stwcs* for tracking the World Coordinate System (WCS) data in the image files\n",
    "- *subprocess* to parallelize tasks\n",
    "- *shutil*, *glob*, *os* for accessing and manipulating files in the local system "
   ]
  },
  {
   "cell_type": "markdown",
   "metadata": {},
   "source": [
    "The easiest way to make sure you have all the relevant modules is to download the Astroconda environment. Due to a known error, for Drizzlepac to work, you need to specify older versions for a couple packages:\n",
    "\n",
    "```\n",
    "conda deactivate\n",
    "conda update --all\n",
    "conda create -n astroconda -c http://ssb.stsci.edu/astroconda stsci python=3.7 photutils=1.0.2 markupsafe=2.0.1 astroquery drizzlepac stwcs \n",
    "conda activate astroconda\n",
    "```"
   ]
  },
  {
   "cell_type": "code",
   "execution_count": 1,
   "metadata": {
    "slideshow": {
     "slide_type": "fragment"
    }
   },
   "outputs": [
    {
     "name": "stdout",
     "output_type": "stream",
     "text": [
      "\n",
      "\n",
      "The following task in the stsci.skypac package can be run with TEAL:\n",
      "                                    skymatch                                    \n",
      "The following tasks in the drizzlepac package can be run with TEAL:\n",
      "    astrodrizzle       config_testbed      imagefindpars           mapreg       \n",
      "       photeq            pixreplace           pixtopix            pixtosky      \n",
      "  refimagefindpars       resetbits          runastrodriz          skytopix      \n",
      "     tweakback            tweakreg           updatenpol\n"
     ]
    }
   ],
   "source": [
    "%matplotlib inline\n",
    "import numpy as np\n",
    "from astropy.io import fits\n",
    "from astropy.table import Table\n",
    "import matplotlib.pyplot as plt\n",
    "from astroquery.mast import Mast\n",
    "from astroquery.mast import Observations\n",
    "import shutil, stwcs, subprocess, glob, os \n",
    "\n",
    "from stwcs.updatewcs import updatewcs\n",
    "from drizzlepac import tweakreg, astrodrizzle, photeq\n",
    "from stsci.skypac import skymatch"
   ]
  },
  {
   "cell_type": "markdown",
   "metadata": {},
   "source": [
    "## Main Content\n",
    "### Accessing Existing Images with astroquery.Observations\n",
    "\n",
    "Let's start by retrieving images of our object of interest from the HST Archive. For this project, we will consider the Orion Nebula. Astroquery.Observations allows you to query targets by name, and it is helpful to additionally specify a search radius. We download the products and store them locally. \n",
    "\n",
    "More famous objects have been observed by Hubble many times, so the download may be prohibitively large. You may want to select only images in a certain band, or apply filters on any of the [fields listed here.]( https://mast.stsci.edu/api/v0/_c_a_o_mfields.html)"
   ]
  },
  {
   "cell_type": "code",
   "execution_count": 2,
   "metadata": {},
   "outputs": [
    {
     "data": {
      "text/html": [
       "<div><i>Table masked=True length=44</i>\n",
       "<table id=\"table140306120762944\" class=\"table-striped table-bordered table-condensed\">\n",
       "<thead><tr><th>dataproduct_type</th><th>calib_level</th><th>obs_collection</th><th>obs_id</th><th>target_name</th><th>s_ra</th><th>s_dec</th><th>t_min</th><th>t_max</th><th>t_exptime</th><th>wavelength_region</th><th>filters</th><th>em_min</th><th>em_max</th><th>target_classification</th><th>obs_title</th><th>t_obs_release</th><th>instrument_name</th><th>proposal_pi</th><th>proposal_id</th><th>proposal_type</th><th>project</th><th>sequence_number</th><th>provenance_name</th><th>s_region</th><th>jpegURL</th><th>dataURL</th><th>dataRights</th><th>mtFlag</th><th>srcDen</th><th>intentType</th><th>obsid</th><th>objID</th></tr></thead>\n",
       "<thead><tr><th>str5</th><th>int64</th><th>str4</th><th>str38</th><th>str11</th><th>float64</th><th>float64</th><th>float64</th><th>float64</th><th>float64</th><th>str8</th><th>str26</th><th>float64</th><th>float64</th><th>str23</th><th>str27</th><th>float64</th><th>str7</th><th>str20</th><th>str5</th><th>str10</th><th>str10</th><th>int64</th><th>str10</th><th>str133</th><th>str88</th><th>str87</th><th>str6</th><th>bool</th><th>float64</th><th>str7</th><th>str8</th><th>str9</th></tr></thead>\n",
       "<tr><td>image</td><td>3</td><td>HST</td><td>j8up02usq</td><td>ORIONNEBULA</td><td>83.81875</td><td>-5.38975</td><td>53025.179451655094</td><td>53025.1811996875</td><td>150.0</td><td>Optical</td><td>CLEAR1L;FR656N</td><td>200.0</td><td>1100.0</td><td>CALIBRATION</td><td>ACS Ramp Filter Calibration</td><td>53025.78548604</td><td>ACS/WFC</td><td>Jogee, Shardha</td><td>10057</td><td>CAL/ACS</td><td>HST</td><td>--</td><td>CALACS</td><td>POLYGON 83.817931 -5.410508 83.798123 -5.388606 83.819603 -5.36935 83.839412 -5.391251 83.817931 -5.410508</td><td>mast:HST/product/j8up02usq_drz.jpg</td><td>mast:HST/product/j8up02usq_drz.fits</td><td>PUBLIC</td><td>False</td><td>nan</td><td>science</td><td>24016393</td><td>121741157</td></tr>\n",
       "<tr><td>image</td><td>3</td><td>HST</td><td>j8up02utq</td><td>ORIONNEBULA</td><td>83.81875</td><td>-5.38975</td><td>53025.18352569445</td><td>53025.18527376158</td><td>150.0</td><td>Optical</td><td>CLEAR1L;FR656N</td><td>200.0</td><td>1100.0</td><td>CALIBRATION</td><td>ACS Ramp Filter Calibration</td><td>53025.78619211</td><td>ACS/WFC</td><td>Jogee, Shardha</td><td>10057</td><td>CAL/ACS</td><td>HST</td><td>--</td><td>CALACS</td><td>POLYGON 83.817931 -5.410508 83.798123 -5.388606 83.819603 -5.36935 83.839412 -5.391251 83.817931 -5.410508</td><td>mast:HST/product/j8up02utq_drz.jpg</td><td>mast:HST/product/j8up02utq_drz.fits</td><td>PUBLIC</td><td>False</td><td>nan</td><td>science</td><td>24016394</td><td>121741219</td></tr>\n",
       "<tr><td>image</td><td>3</td><td>HST</td><td>j8up02uuq</td><td>ORIONNEBULA</td><td>83.81875</td><td>-5.38975</td><td>53025.18759980324</td><td>53025.18934783565</td><td>150.0</td><td>Optical</td><td>CLEAR1L;FR656N</td><td>200.0</td><td>1100.0</td><td>CALIBRATION</td><td>ACS Ramp Filter Calibration</td><td>53025.78692124</td><td>ACS/WFC</td><td>Jogee, Shardha</td><td>10057</td><td>CAL/ACS</td><td>HST</td><td>--</td><td>CALACS</td><td>POLYGON 83.817931 -5.410508 83.798123 -5.388606 83.819603 -5.36935 83.839412 -5.391251 83.817931 -5.410508</td><td>mast:HST/product/j8up02uuq_drz.jpg</td><td>mast:HST/product/j8up02uuq_drz.fits</td><td>PUBLIC</td><td>False</td><td>nan</td><td>science</td><td>24016395</td><td>121741204</td></tr>\n",
       "<tr><td>image</td><td>3</td><td>HST</td><td>j8up02uvq</td><td>ORIONNEBULA</td><td>83.81875</td><td>-5.38975</td><td>53025.19178943287</td><td>53025.193537465275</td><td>150.0</td><td>Optical</td><td>CLEAR1L;FR388N</td><td>200.0</td><td>1100.0</td><td>CALIBRATION</td><td>ACS Ramp Filter Calibration</td><td>53025.78775462</td><td>ACS/WFC</td><td>Jogee, Shardha</td><td>10057</td><td>CAL/ACS</td><td>HST</td><td>--</td><td>CALACS</td><td>POLYGON 83.817931 -5.410508 83.798123 -5.388606 83.819603 -5.369349 83.839412 -5.391251 83.817931 -5.410508</td><td>mast:HST/product/j8up02uvq_drz.jpg</td><td>mast:HST/product/j8up02uvq_drz.fits</td><td>PUBLIC</td><td>False</td><td>nan</td><td>science</td><td>24016396</td><td>121741214</td></tr>\n",
       "<tr><td>image</td><td>3</td><td>HST</td><td>j8up02uwq</td><td>ORIONNEBULA</td><td>83.81875</td><td>-5.38975</td><td>53025.19584054398</td><td>53025.20048190972</td><td>400.0</td><td>Optical</td><td>CLEAR1L;FR388N</td><td>200.0</td><td>1100.0</td><td>CALIBRATION</td><td>ACS Ramp Filter Calibration</td><td>53025.60020823</td><td>ACS/WFC</td><td>Jogee, Shardha</td><td>10057</td><td>CAL/ACS</td><td>HST</td><td>--</td><td>CALACS</td><td>POLYGON 83.817931 -5.410508 83.798123 -5.388605 83.819603 -5.369349 83.839412 -5.391251 83.817931 -5.410508</td><td>mast:HST/product/j8up02uwq_drz.jpg</td><td>mast:HST/product/j8up02uwq_drz.fits</td><td>PUBLIC</td><td>False</td><td>nan</td><td>science</td><td>24016397</td><td>121741185</td></tr>\n",
       "<tr><td>image</td><td>3</td><td>HST</td><td>j8up02uyq</td><td>ORIONNEBULA</td><td>83.81875</td><td>-5.38975</td><td>53025.202993136576</td><td>53025.20474116898</td><td>150.0</td><td>Optical</td><td>CLEAR1L;FR505N</td><td>200.0</td><td>1100.0</td><td>CALIBRATION</td><td>ACS Ramp Filter Calibration</td><td>53025.60090273</td><td>ACS/WFC</td><td>Jogee, Shardha</td><td>10057</td><td>CAL/ACS</td><td>HST</td><td>--</td><td>CALACS</td><td>POLYGON 83.817931 -5.410507 83.798123 -5.388605 83.819603 -5.369349 83.839412 -5.391251 83.817931 -5.410507</td><td>mast:HST/product/j8up02uyq_drz.jpg</td><td>mast:HST/product/j8up02uyq_drz.fits</td><td>PUBLIC</td><td>False</td><td>nan</td><td>science</td><td>24016398</td><td>121741174</td></tr>\n",
       "<tr><td>image</td><td>3</td><td>HST</td><td>j8up02v0q</td><td>ORIONNEBULA</td><td>83.81875</td><td>-5.38975</td><td>53025.20706721065</td><td>53025.20881524306</td><td>150.0</td><td>Optical</td><td>CLEAR1L;FR505N</td><td>200.0</td><td>1100.0</td><td>CALIBRATION</td><td>ACS Ramp Filter Calibration</td><td>53025.78953694</td><td>ACS/WFC</td><td>Jogee, Shardha</td><td>10057</td><td>CAL/ACS</td><td>HST</td><td>--</td><td>CALACS</td><td>POLYGON 83.817931 -5.410507 83.798123 -5.388605 83.819603 -5.369349 83.839412 -5.391251 83.817931 -5.410507</td><td>mast:HST/product/j8up02v0q_drz.jpg</td><td>mast:HST/product/j8up02v0q_drz.fits</td><td>PUBLIC</td><td>False</td><td>nan</td><td>science</td><td>24016399</td><td>121741211</td></tr>\n",
       "<tr><td>image</td><td>3</td><td>HST</td><td>j8up02v5q</td><td>ORIONNEBULA</td><td>83.81875</td><td>-5.38975</td><td>53025.24283128472</td><td>53025.24457931713</td><td>150.0</td><td>Optical</td><td>CLEAR1L;FR459M</td><td>200.0</td><td>1100.0</td><td>CALIBRATION</td><td>ACS Ramp Filter Calibration</td><td>53025.79164349</td><td>ACS/WFC</td><td>Jogee, Shardha</td><td>10057</td><td>CAL/ACS</td><td>HST</td><td>--</td><td>CALACS</td><td>POLYGON 83.817931 -5.410508 83.798123 -5.388606 83.819603 -5.36935 83.839412 -5.391251 83.817931 -5.410508</td><td>mast:HST/product/j8up02v5q_drz.jpg</td><td>mast:HST/product/j8up02v5q_drz.fits</td><td>PUBLIC</td><td>False</td><td>nan</td><td>science</td><td>24016400</td><td>121741178</td></tr>\n",
       "<tr><td>image</td><td>3</td><td>HST</td><td>j8up02v7q</td><td>ORIONNEBULA</td><td>83.81875</td><td>-5.38975</td><td>53025.24690532407</td><td>53025.2486533912</td><td>150.0</td><td>Optical</td><td>CLEAR1L;FR459M</td><td>200.0</td><td>1100.0</td><td>CALIBRATION</td><td>ACS Ramp Filter Calibration</td><td>53025.79233789</td><td>ACS/WFC</td><td>Jogee, Shardha</td><td>10057</td><td>CAL/ACS</td><td>HST</td><td>--</td><td>CALACS</td><td>POLYGON 83.817931 -5.410508 83.798123 -5.388606 83.819603 -5.36935 83.839412 -5.391251 83.817931 -5.410508</td><td>mast:HST/product/j8up02v7q_drz.jpg</td><td>mast:HST/product/j8up02v7q_drz.fits</td><td>PUBLIC</td><td>False</td><td>nan</td><td>science</td><td>24016401</td><td>121741200</td></tr>\n",
       "<tr><td>image</td><td>3</td><td>HST</td><td>j8up02v9q</td><td>ORIONNEBULA</td><td>83.81875</td><td>-5.38975</td><td>53025.25097943287</td><td>53025.252727465275</td><td>150.0</td><td>Optical</td><td>CLEAR1L;FR459M</td><td>200.0</td><td>1100.0</td><td>CALIBRATION</td><td>ACS Ramp Filter Calibration</td><td>53025.79269664</td><td>ACS/WFC</td><td>Jogee, Shardha</td><td>10057</td><td>CAL/ACS</td><td>HST</td><td>--</td><td>CALACS</td><td>POLYGON 83.817931 -5.410508 83.798123 -5.388606 83.819603 -5.36935 83.839412 -5.391251 83.817931 -5.410508</td><td>mast:HST/product/j8up02v9q_drz.jpg</td><td>mast:HST/product/j8up02v9q_drz.fits</td><td>PUBLIC</td><td>False</td><td>nan</td><td>science</td><td>24016402</td><td>121741150</td></tr>\n",
       "<tr><td>image</td><td>3</td><td>HST</td><td>j8up02vbq</td><td>ORIONNEBULA</td><td>83.81875</td><td>-5.38975</td><td>53025.255122766204</td><td>53025.256870798614</td><td>150.0</td><td>Infrared</td><td>CLEAR1L;FR914M</td><td>200.0</td><td>1100.0</td><td>CALIBRATION</td><td>ACS Ramp Filter Calibration</td><td>53025.79339104</td><td>ACS/WFC</td><td>Jogee, Shardha</td><td>10057</td><td>CAL/ACS</td><td>HST</td><td>--</td><td>CALACS</td><td>POLYGON 83.817931 -5.410508 83.798123 -5.388606 83.819603 -5.36935 83.839412 -5.391251 83.817931 -5.410508</td><td>mast:HST/product/j8up02vbq_drz.jpg</td><td>mast:HST/product/j8up02vbq_drz.fits</td><td>PUBLIC</td><td>False</td><td>nan</td><td>science</td><td>24016403</td><td>121741155</td></tr>\n",
       "<tr><td>image</td><td>3</td><td>HST</td><td>j8up02vcq</td><td>ORIONNEBULA</td><td>83.81875</td><td>-5.38975</td><td>53025.25919684028</td><td>53025.26094487269</td><td>150.0</td><td>Infrared</td><td>CLEAR1L;FR914M</td><td>200.0</td><td>1100.0</td><td>CALIBRATION</td><td>ACS Ramp Filter Calibration</td><td>53025.79408554</td><td>ACS/WFC</td><td>Jogee, Shardha</td><td>10057</td><td>CAL/ACS</td><td>HST</td><td>--</td><td>CALACS</td><td>POLYGON 83.817931 -5.410508 83.798123 -5.388606 83.819603 -5.369349 83.839412 -5.391251 83.817931 -5.410508</td><td>mast:HST/product/j8up02vcq_drz.jpg</td><td>mast:HST/product/j8up02vcq_drz.fits</td><td>PUBLIC</td><td>False</td><td>nan</td><td>science</td><td>24016404</td><td>121741190</td></tr>\n",
       "<tr><td>image</td><td>3</td><td>HST</td><td>j8up02vdq</td><td>ORIONNEBULA</td><td>83.81875</td><td>-5.38975</td><td>53025.26327091435</td><td>53025.26501894676</td><td>150.0</td><td>Infrared</td><td>CLEAR1L;FR914M</td><td>200.0</td><td>1100.0</td><td>CALIBRATION</td><td>ACS Ramp Filter Calibration</td><td>53025.79479152</td><td>ACS/WFC</td><td>Jogee, Shardha</td><td>10057</td><td>CAL/ACS</td><td>HST</td><td>--</td><td>CALACS</td><td>POLYGON 83.817931 -5.410508 83.798123 -5.388605 83.819603 -5.369349 83.839412 -5.391251 83.817931 -5.410508</td><td>mast:HST/product/j8up02vdq_drz.jpg</td><td>mast:HST/product/j8up02vdq_drz.fits</td><td>PUBLIC</td><td>False</td><td>nan</td><td>science</td><td>24016405</td><td>121741168</td></tr>\n",
       "<tr><td>image</td><td>2</td><td>HST</td><td>x22q0101t</td><td>ORION</td><td>83.83833333333</td><td>-5.351944444444</td><td>49342.93551802084</td><td>49342.9458883912</td><td>896.0</td><td>Optical</td><td>CLEAR1;F140W;CLEAR3;CLEAR4</td><td>117.0</td><td>480.4</td><td>CALIBRATION;FLAT FIELD;</td><td>FOC FLAT FIELD CHECKOUT</td><td>49344.60973367</td><td>FOC/96</td><td>Jedrzejewski, Robert</td><td>4700</td><td>SMC/FOC</td><td>HST</td><td>--</td><td>CALFOC</td><td>POLYGON 83.834335 -5.350079 83.839811 -5.347793 83.84234 -5.353799 83.836864 -5.356085 83.834335 -5.350079</td><td>mast:HST/product/x22q0101t_c0f.jpg</td><td>mast:HST/product/x22q0101t_c0f.fits</td><td>PUBLIC</td><td>False</td><td>nan</td><td>science</td><td>24744092</td><td>121606465</td></tr>\n",
       "<tr><td>image</td><td>2</td><td>HST</td><td>x22q0201t</td><td>ORION</td><td>83.83833333333</td><td>-5.351944444444</td><td>49375.04335396991</td><td>49375.06413958333</td><td>1795.875</td><td>Optical</td><td>CLEAR1;F140W;CLEAR3;CLEAR4</td><td>117.0</td><td>480.4</td><td>CALIBRATION;FLAT FIELD;</td><td>FOC FLAT FIELD CHECKOUT</td><td>49375.58114567</td><td>FOC/96</td><td>Jedrzejewski, Robert</td><td>4700</td><td>SMC/FOC</td><td>HST</td><td>--</td><td>CALFOC</td><td>POLYGON 83.839422 -5.354615 83.835647 -5.353033 83.837236 -5.349275 83.841011 -5.350856 83.839422 -5.354615</td><td>mast:HST/product/x22q0201t_c0f.jpg</td><td>mast:HST/product/x22q0201t_c0f.fits</td><td>PUBLIC</td><td>False</td><td>nan</td><td>science</td><td>24744093</td><td>121606413</td></tr>\n",
       "<tr><td>image</td><td>4</td><td>HLSP</td><td>hlsp_orion_hst_acs_colorimage_b_v1_drz</td><td>ORION</td><td>83.79060979000002</td><td>-5.41438449</td><td>nan</td><td>nan</td><td>0.0</td><td>--</td><td>B</td><td>nan</td><td>nan</td><td>--</td><td>orion</td><td>56125.89456014</td><td>ACS</td><td>--</td><td>--</td><td>hlsp_orion</td><td>hlsp_orion</td><td>--</td><td>hlsp_orion</td><td>POLYGON J2000 84.041683 -5.664830 84.041249 -5.164458 83.539747 -5.163837 83.539757 -5.664214 84.041683 -5.664830</td><td>https://hla.stsci.edu/cgi-bin/preview.cgi?dataset=hlsp_orion_hst_acs_colorimage_b_v1_drz</td><td>http://hla.stsci.edu/cgi-bin/getdata.cgi?dataset=hlsp_orion_hst_acs_colorimage_b_v1_drz</td><td>PUBLIC</td><td>--</td><td>nan</td><td>science</td><td>25073236</td><td>66994074</td></tr>\n",
       "<tr><td>image</td><td>4</td><td>HLSP</td><td>hlsp_orion_hst_acs_colorimage_g_v1_drz</td><td>ORION</td><td>83.79060979000002</td><td>-5.41438449</td><td>nan</td><td>nan</td><td>0.0</td><td>--</td><td>G</td><td>nan</td><td>nan</td><td>--</td><td>orion</td><td>56125.89456014</td><td>ACS</td><td>--</td><td>--</td><td>hlsp_orion</td><td>hlsp_orion</td><td>--</td><td>hlsp_orion</td><td>POLYGON J2000 84.041683 -5.664830 84.041249 -5.164458 83.539747 -5.163837 83.539757 -5.664214 84.041683 -5.664830</td><td>https://hla.stsci.edu/cgi-bin/preview.cgi?dataset=hlsp_orion_hst_acs_colorimage_g_v1_drz</td><td>http://hla.stsci.edu/cgi-bin/getdata.cgi?dataset=hlsp_orion_hst_acs_colorimage_g_v1_drz</td><td>PUBLIC</td><td>--</td><td>nan</td><td>science</td><td>25073237</td><td>66994075</td></tr>\n",
       "<tr><td>...</td><td>...</td><td>...</td><td>...</td><td>...</td><td>...</td><td>...</td><td>...</td><td>...</td><td>...</td><td>...</td><td>...</td><td>...</td><td>...</td><td>...</td><td>...</td><td>...</td><td>...</td><td>...</td><td>...</td><td>...</td><td>...</td><td>...</td><td>...</td><td>...</td><td>...</td><td>...</td><td>...</td><td>...</td><td>...</td><td>...</td><td>...</td><td>...</td></tr>\n",
       "<tr><td>image</td><td>2</td><td>HLA</td><td>hst_10057_02_acs_wfc_fr656n_02</td><td>ORIONNEBULA</td><td>83.81880407677454</td><td>-5.389803900505133</td><td>53025.18353</td><td>53025.18528</td><td>150.0</td><td>OPTICAL</td><td>FR656N</td><td>627400024414.0625</td><td>684799987792.9688</td><td>--</td><td>--</td><td>53025.78619211</td><td>ACS/WFC</td><td>Jogee</td><td>10057</td><td>HLA</td><td>HLA</td><td>--</td><td>HLA</td><td>POLYGON J2000 83.83800650 -5.39110330 83.81959080 -5.36913700 83.79960170 -5.38850400 83.81801730 -5.41047080 83.83800650 -5.39110330</td><td>https://hla.stsci.edu/cgi-bin/preview.cgi?dataset=hst_10057_02_acs_wfc_fr656n_02</td><td>--</td><td>PUBLIC</td><td>--</td><td>nan</td><td>science</td><td>25888848</td><td>67856115</td></tr>\n",
       "<tr><td>image</td><td>2</td><td>HLA</td><td>hst_10057_02_acs_wfc_fr656n_03</td><td>ORIONNEBULA</td><td>83.81880407677448</td><td>-5.389803950505216</td><td>53025.1876</td><td>53025.18935</td><td>150.0</td><td>OPTICAL</td><td>FR656N</td><td>627400024414.0625</td><td>684799987792.9688</td><td>--</td><td>--</td><td>53025.78692124</td><td>ACS/WFC</td><td>Jogee</td><td>10057</td><td>HLA</td><td>HLA</td><td>--</td><td>HLA</td><td>POLYGON J2000 83.81959080 -5.36913720 83.79960190 -5.38850400 83.81801730 -5.41047070 83.83800640 -5.39110330 83.81959080 -5.36913720</td><td>https://hla.stsci.edu/cgi-bin/preview.cgi?dataset=hst_10057_02_acs_wfc_fr656n_03</td><td>--</td><td>PUBLIC</td><td>--</td><td>nan</td><td>science</td><td>25888849</td><td>67856116</td></tr>\n",
       "<tr><td>image</td><td>2</td><td>HLA</td><td>hst_10057_02_acs_wfc_fr914m_01</td><td>ORIONNEBULA</td><td>83.81880407677437</td><td>-5.389803950505156</td><td>53025.25513</td><td>53025.25688</td><td>150.0</td><td>INFRARED</td><td>FR914M</td><td>757400024414.0625</td><td>1070900024414.0625</td><td>--</td><td>--</td><td>53025.79339104</td><td>ACS/WFC</td><td>Jogee</td><td>10057</td><td>HLA</td><td>HLA</td><td>--</td><td>HLA</td><td>POLYGON J2000 83.81959080 -5.36913720 83.79960190 -5.38850400 83.81801730 -5.41047070 83.83800630 -5.39110330 83.81959080 -5.36913720</td><td>https://hla.stsci.edu/cgi-bin/preview.cgi?dataset=hst_10057_02_acs_wfc_fr914m_01</td><td>--</td><td>PUBLIC</td><td>--</td><td>nan</td><td>science</td><td>25888850</td><td>67856117</td></tr>\n",
       "<tr><td>image</td><td>2</td><td>HLA</td><td>hst_10057_02_acs_wfc_fr914m_02</td><td>ORIONNEBULA</td><td>83.81880407677414</td><td>-5.3898039005051865</td><td>53025.26328</td><td>53025.26502</td><td>150.0</td><td>INFRARED</td><td>FR914M</td><td>757400024414.0625</td><td>1070900024414.0625</td><td>--</td><td>--</td><td>53025.79479152</td><td>ACS/WFC</td><td>Jogee</td><td>10057</td><td>HLA</td><td>HLA</td><td>--</td><td>HLA</td><td>POLYGON J2000 83.81959080 -5.36913750 83.79960220 -5.38850400 83.81801730 -5.41047030 83.83800600 -5.39110330 83.81959080 -5.36913750</td><td>https://hla.stsci.edu/cgi-bin/preview.cgi?dataset=hst_10057_02_acs_wfc_fr914m_02</td><td>--</td><td>PUBLIC</td><td>--</td><td>nan</td><td>science</td><td>25888851</td><td>67856118</td></tr>\n",
       "<tr><td>image</td><td>2</td><td>HLA</td><td>hst_10057_02_acs_wfc_fr914m_03</td><td>ORIONNEBULA</td><td>83.81880407677414</td><td>-5.38980395050512</td><td>53025.2592</td><td>53025.26095</td><td>150.0</td><td>INFRARED</td><td>FR914M</td><td>757400024414.0625</td><td>1070900024414.0625</td><td>--</td><td>--</td><td>53025.79408554</td><td>ACS/WFC</td><td>Jogee</td><td>10057</td><td>HLA</td><td>HLA</td><td>--</td><td>HLA</td><td>POLYGON J2000 83.83800620 -5.39110330 83.81959080 -5.36913740 83.79960210 -5.38850400 83.81801730 -5.41047050 83.83800620 -5.39110330</td><td>https://hla.stsci.edu/cgi-bin/preview.cgi?dataset=hst_10057_02_acs_wfc_fr914m_03</td><td>--</td><td>PUBLIC</td><td>--</td><td>nan</td><td>science</td><td>25888852</td><td>67856119</td></tr>\n",
       "<tr><td>image</td><td>2</td><td>HST</td><td>hst_10057_02_acs_wfc_fr388n_j8up02uw</td><td>ORIONNEBULA</td><td>83.81875</td><td>-5.38975</td><td>53025.19584053</td><td>53025.20048192</td><td>400.0</td><td>--</td><td>--</td><td>nan</td><td>nan</td><td>--</td><td>--</td><td>53025.60020823</td><td>ACS/WFC</td><td>Jogee, Shardha</td><td>10057</td><td>HAP</td><td>HAP</td><td>--</td><td>HAP</td><td>POLYGON 83.81793 -5.410508 83.799386 -5.388632 83.819602 -5.369345 83.837647 -5.391097 83.81793 -5.410508</td><td>--</td><td>mast:HST/product/hst_10057_02_acs_wfc_fr388n_j8up02uw_flt.fits</td><td>PUBLIC</td><td>False</td><td>nan</td><td>science</td><td>71322149</td><td>137757773</td></tr>\n",
       "<tr><td>image</td><td>2</td><td>HST</td><td>hst_10057_02_acs_wfc_fr459m_j8up02v7</td><td>ORIONNEBULA</td><td>83.81875</td><td>-5.38975</td><td>53025.24690534</td><td>53025.2486534</td><td>150.0</td><td>--</td><td>--</td><td>nan</td><td>nan</td><td>--</td><td>--</td><td>53025.79233789</td><td>ACS/WFC</td><td>Jogee, Shardha</td><td>10057</td><td>HAP</td><td>HAP</td><td>--</td><td>HAP</td><td>POLYGON 83.81793 -5.410509 83.799385 -5.388632 83.819602 -5.369344 83.837648 -5.391097 83.81793 -5.410509</td><td>--</td><td>mast:HST/product/hst_10057_02_acs_wfc_fr459m_j8up02v7_flt.fits</td><td>PUBLIC</td><td>False</td><td>nan</td><td>science</td><td>71322160</td><td>137757790</td></tr>\n",
       "<tr><td>image</td><td>2</td><td>HST</td><td>hst_10057_02_acs_wfc_fr914m_j8up02vb</td><td>ORIONNEBULA</td><td>83.81875</td><td>-5.38975</td><td>53025.25512275</td><td>53025.25687081</td><td>150.0</td><td>--</td><td>--</td><td>nan</td><td>nan</td><td>--</td><td>--</td><td>53025.79339104</td><td>ACS/WFC</td><td>Jogee, Shardha</td><td>10057</td><td>HAP</td><td>HAP</td><td>--</td><td>HAP</td><td>POLYGON 83.81793 -5.410508 83.799385 -5.388632 83.819602 -5.369344 83.837648 -5.391097 83.81793 -5.410508</td><td>--</td><td>mast:HST/product/hst_10057_02_acs_wfc_fr914m_j8up02vb_flt.fits</td><td>PUBLIC</td><td>False</td><td>nan</td><td>science</td><td>71322170</td><td>137757806</td></tr>\n",
       "<tr><td>image</td><td>2</td><td>HST</td><td>hst_10057_02_acs_wfc_fr459m_j8up02v5</td><td>ORIONNEBULA</td><td>83.81875</td><td>-5.38975</td><td>53025.24283127</td><td>53025.24457932</td><td>150.0</td><td>--</td><td>--</td><td>nan</td><td>nan</td><td>--</td><td>--</td><td>53025.79164349</td><td>ACS/WFC</td><td>Jogee, Shardha</td><td>10057</td><td>HAP</td><td>HAP</td><td>--</td><td>HAP</td><td>POLYGON 83.81793 -5.410509 83.799385 -5.388632 83.819602 -5.369344 83.837648 -5.391097 83.81793 -5.410509</td><td>--</td><td>mast:HST/product/hst_10057_02_acs_wfc_fr459m_j8up02v5_flt.fits</td><td>PUBLIC</td><td>False</td><td>nan</td><td>science</td><td>71322181</td><td>137757824</td></tr>\n",
       "<tr><td>image</td><td>2</td><td>HST</td><td>hst_10057_02_acs_wfc_fr656n_j8up02ut</td><td>ORIONNEBULA</td><td>83.81875</td><td>-5.38975</td><td>53025.18352571</td><td>53025.18527377</td><td>150.0</td><td>--</td><td>--</td><td>nan</td><td>nan</td><td>--</td><td>--</td><td>53025.78619211</td><td>ACS/WFC</td><td>Jogee, Shardha</td><td>10057</td><td>HAP</td><td>HAP</td><td>--</td><td>HAP</td><td>POLYGON 83.81793 -5.410509 83.799385 -5.388632 83.819602 -5.369344 83.837648 -5.391097 83.81793 -5.410509</td><td>--</td><td>mast:HST/product/hst_10057_02_acs_wfc_fr656n_j8up02ut_flt.fits</td><td>PUBLIC</td><td>False</td><td>nan</td><td>science</td><td>71322195</td><td>137757844</td></tr>\n",
       "<tr><td>image</td><td>2</td><td>HST</td><td>hst_10057_02_acs_wfc_fr914m_j8up02vd</td><td>ORIONNEBULA</td><td>83.81875</td><td>-5.38975</td><td>53025.2632709</td><td>53025.26501895</td><td>150.0</td><td>--</td><td>--</td><td>nan</td><td>nan</td><td>--</td><td>--</td><td>53025.79479152</td><td>ACS/WFC</td><td>Jogee, Shardha</td><td>10057</td><td>HAP</td><td>HAP</td><td>--</td><td>HAP</td><td>POLYGON 83.81793 -5.410508 83.799386 -5.388632 83.819602 -5.369345 83.837647 -5.391097 83.81793 -5.410508</td><td>--</td><td>mast:HST/product/hst_10057_02_acs_wfc_fr914m_j8up02vd_flt.fits</td><td>PUBLIC</td><td>False</td><td>nan</td><td>science</td><td>71322208</td><td>137757866</td></tr>\n",
       "<tr><td>image</td><td>2</td><td>HST</td><td>hst_10057_02_acs_wfc_fr505n_j8up02uy</td><td>ORIONNEBULA</td><td>83.81875</td><td>-5.38975</td><td>53025.20299312</td><td>53025.20474118</td><td>150.0</td><td>--</td><td>--</td><td>nan</td><td>nan</td><td>--</td><td>--</td><td>53025.60090273</td><td>ACS/WFC</td><td>Jogee, Shardha</td><td>10057</td><td>HAP</td><td>HAP</td><td>--</td><td>HAP</td><td>POLYGON 83.81793 -5.410508 83.799386 -5.388632 83.819602 -5.369345 83.837647 -5.391097 83.81793 -5.410508</td><td>--</td><td>mast:HST/product/hst_10057_02_acs_wfc_fr505n_j8up02uy_flt.fits</td><td>PUBLIC</td><td>False</td><td>nan</td><td>science</td><td>71322221</td><td>137757881</td></tr>\n",
       "<tr><td>image</td><td>2</td><td>HST</td><td>hst_10057_02_acs_wfc_fr914m_j8up02vc</td><td>ORIONNEBULA</td><td>83.81875</td><td>-5.38975</td><td>53025.25919682</td><td>53025.26094488</td><td>150.0</td><td>--</td><td>--</td><td>nan</td><td>nan</td><td>--</td><td>--</td><td>53025.79408554</td><td>ACS/WFC</td><td>Jogee, Shardha</td><td>10057</td><td>HAP</td><td>HAP</td><td>--</td><td>HAP</td><td>POLYGON 83.81793 -5.410508 83.799385 -5.388632 83.819602 -5.369344 83.837648 -5.391097 83.81793 -5.410508</td><td>--</td><td>mast:HST/product/hst_10057_02_acs_wfc_fr914m_j8up02vc_flt.fits</td><td>PUBLIC</td><td>False</td><td>nan</td><td>science</td><td>71322234</td><td>137757901</td></tr>\n",
       "<tr><td>image</td><td>2</td><td>HST</td><td>hst_10057_02_acs_wfc_fr656n_j8up02us</td><td>ORIONNEBULA</td><td>83.81875</td><td>-5.38975</td><td>53025.17945164</td><td>53025.1811997</td><td>150.0</td><td>--</td><td>--</td><td>nan</td><td>nan</td><td>--</td><td>--</td><td>53025.78548604</td><td>ACS/WFC</td><td>Jogee, Shardha</td><td>10057</td><td>HAP</td><td>HAP</td><td>--</td><td>HAP</td><td>POLYGON 83.81793 -5.410509 83.799385 -5.388632 83.819602 -5.369344 83.837648 -5.391097 83.81793 -5.410509</td><td>--</td><td>mast:HST/product/hst_10057_02_acs_wfc_fr656n_j8up02us_flt.fits</td><td>PUBLIC</td><td>False</td><td>nan</td><td>science</td><td>71322252</td><td>137757922</td></tr>\n",
       "<tr><td>image</td><td>2</td><td>HST</td><td>hst_10057_02_acs_wfc_fr656n_j8up02uu</td><td>ORIONNEBULA</td><td>83.81875</td><td>-5.38975</td><td>53025.18759979</td><td>53025.18934784</td><td>150.0</td><td>--</td><td>--</td><td>nan</td><td>nan</td><td>--</td><td>--</td><td>53025.78692124</td><td>ACS/WFC</td><td>Jogee, Shardha</td><td>10057</td><td>HAP</td><td>HAP</td><td>--</td><td>HAP</td><td>POLYGON 83.81793 -5.410508 83.799385 -5.388632 83.819602 -5.369344 83.837648 -5.391097 83.81793 -5.410508</td><td>--</td><td>mast:HST/product/hst_10057_02_acs_wfc_fr656n_j8up02uu_flt.fits</td><td>PUBLIC</td><td>False</td><td>nan</td><td>science</td><td>71322267</td><td>137757943</td></tr>\n",
       "<tr><td>image</td><td>2</td><td>HST</td><td>hst_10057_02_acs_wfc_fr388n_j8up02uv</td><td>ORIONNEBULA</td><td>83.81875</td><td>-5.38975</td><td>53025.19178942</td><td>53025.19353747</td><td>150.0</td><td>--</td><td>--</td><td>nan</td><td>nan</td><td>--</td><td>--</td><td>53025.78775462</td><td>ACS/WFC</td><td>Jogee, Shardha</td><td>10057</td><td>HAP</td><td>HAP</td><td>--</td><td>HAP</td><td>POLYGON 83.81793 -5.410508 83.799385 -5.388632 83.819602 -5.369344 83.837648 -5.391097 83.81793 -5.410508</td><td>--</td><td>mast:HST/product/hst_10057_02_acs_wfc_fr388n_j8up02uv_flt.fits</td><td>PUBLIC</td><td>False</td><td>nan</td><td>science</td><td>71322283</td><td>137757965</td></tr>\n",
       "<tr><td>image</td><td>2</td><td>HST</td><td>hst_10057_02_acs_wfc_fr505n_j8up02v0</td><td>ORIONNEBULA</td><td>83.81875</td><td>-5.38975</td><td>53025.2070672</td><td>53025.20881525</td><td>150.0</td><td>--</td><td>--</td><td>nan</td><td>nan</td><td>--</td><td>--</td><td>53025.78953694</td><td>ACS/WFC</td><td>Jogee, Shardha</td><td>10057</td><td>HAP</td><td>HAP</td><td>--</td><td>HAP</td><td>POLYGON 83.81793 -5.410508 83.799386 -5.388632 83.819602 -5.369345 83.837647 -5.391097 83.81793 -5.410508</td><td>--</td><td>mast:HST/product/hst_10057_02_acs_wfc_fr505n_j8up02v0_flt.fits</td><td>PUBLIC</td><td>False</td><td>nan</td><td>science</td><td>71322299</td><td>137757988</td></tr>\n",
       "<tr><td>image</td><td>2</td><td>HST</td><td>hst_10057_02_acs_wfc_fr459m_j8up02v9</td><td>ORIONNEBULA</td><td>83.81875</td><td>-5.38975</td><td>53025.25097942</td><td>53025.25272747</td><td>150.0</td><td>--</td><td>--</td><td>nan</td><td>nan</td><td>--</td><td>--</td><td>53025.79269664</td><td>ACS/WFC</td><td>Jogee, Shardha</td><td>10057</td><td>HAP</td><td>HAP</td><td>--</td><td>HAP</td><td>POLYGON 83.81793 -5.410509 83.799385 -5.388632 83.819602 -5.369344 83.837648 -5.391097 83.81793 -5.410509</td><td>--</td><td>mast:HST/product/hst_10057_02_acs_wfc_fr459m_j8up02v9_flt.fits</td><td>PUBLIC</td><td>False</td><td>nan</td><td>science</td><td>71322311</td><td>137758006</td></tr>\n",
       "</table></div>"
      ],
      "text/plain": [
       "<Table masked=True length=44>\n",
       "dataproduct_type calib_level obs_collection                 obs_id                 target_name        s_ra       ... mtFlag  srcDen intentType  obsid     objID  \n",
       "      str5          int64         str4                      str38                     str11         float64      ...  bool  float64    str7      str8      str9  \n",
       "---------------- ----------- -------------- -------------------------------------- ----------- ----------------- ... ------ ------- ---------- -------- ---------\n",
       "           image           3            HST                              j8up02usq ORIONNEBULA          83.81875 ...  False     nan    science 24016393 121741157\n",
       "           image           3            HST                              j8up02utq ORIONNEBULA          83.81875 ...  False     nan    science 24016394 121741219\n",
       "           image           3            HST                              j8up02uuq ORIONNEBULA          83.81875 ...  False     nan    science 24016395 121741204\n",
       "           image           3            HST                              j8up02uvq ORIONNEBULA          83.81875 ...  False     nan    science 24016396 121741214\n",
       "           image           3            HST                              j8up02uwq ORIONNEBULA          83.81875 ...  False     nan    science 24016397 121741185\n",
       "           image           3            HST                              j8up02uyq ORIONNEBULA          83.81875 ...  False     nan    science 24016398 121741174\n",
       "           image           3            HST                              j8up02v0q ORIONNEBULA          83.81875 ...  False     nan    science 24016399 121741211\n",
       "           image           3            HST                              j8up02v5q ORIONNEBULA          83.81875 ...  False     nan    science 24016400 121741178\n",
       "           image           3            HST                              j8up02v7q ORIONNEBULA          83.81875 ...  False     nan    science 24016401 121741200\n",
       "           image           3            HST                              j8up02v9q ORIONNEBULA          83.81875 ...  False     nan    science 24016402 121741150\n",
       "           image           3            HST                              j8up02vbq ORIONNEBULA          83.81875 ...  False     nan    science 24016403 121741155\n",
       "           image           3            HST                              j8up02vcq ORIONNEBULA          83.81875 ...  False     nan    science 24016404 121741190\n",
       "           image           3            HST                              j8up02vdq ORIONNEBULA          83.81875 ...  False     nan    science 24016405 121741168\n",
       "           image           2            HST                              x22q0101t       ORION    83.83833333333 ...  False     nan    science 24744092 121606465\n",
       "           image           2            HST                              x22q0201t       ORION    83.83833333333 ...  False     nan    science 24744093 121606413\n",
       "           image           4           HLSP hlsp_orion_hst_acs_colorimage_b_v1_drz       ORION 83.79060979000002 ...     --     nan    science 25073236  66994074\n",
       "           image           4           HLSP hlsp_orion_hst_acs_colorimage_g_v1_drz       ORION 83.79060979000002 ...     --     nan    science 25073237  66994075\n",
       "             ...         ...            ...                                    ...         ...               ... ...    ...     ...        ...      ...       ...\n",
       "           image           2            HLA         hst_10057_02_acs_wfc_fr656n_02 ORIONNEBULA 83.81880407677454 ...     --     nan    science 25888848  67856115\n",
       "           image           2            HLA         hst_10057_02_acs_wfc_fr656n_03 ORIONNEBULA 83.81880407677448 ...     --     nan    science 25888849  67856116\n",
       "           image           2            HLA         hst_10057_02_acs_wfc_fr914m_01 ORIONNEBULA 83.81880407677437 ...     --     nan    science 25888850  67856117\n",
       "           image           2            HLA         hst_10057_02_acs_wfc_fr914m_02 ORIONNEBULA 83.81880407677414 ...     --     nan    science 25888851  67856118\n",
       "           image           2            HLA         hst_10057_02_acs_wfc_fr914m_03 ORIONNEBULA 83.81880407677414 ...     --     nan    science 25888852  67856119\n",
       "           image           2            HST   hst_10057_02_acs_wfc_fr388n_j8up02uw ORIONNEBULA          83.81875 ...  False     nan    science 71322149 137757773\n",
       "           image           2            HST   hst_10057_02_acs_wfc_fr459m_j8up02v7 ORIONNEBULA          83.81875 ...  False     nan    science 71322160 137757790\n",
       "           image           2            HST   hst_10057_02_acs_wfc_fr914m_j8up02vb ORIONNEBULA          83.81875 ...  False     nan    science 71322170 137757806\n",
       "           image           2            HST   hst_10057_02_acs_wfc_fr459m_j8up02v5 ORIONNEBULA          83.81875 ...  False     nan    science 71322181 137757824\n",
       "           image           2            HST   hst_10057_02_acs_wfc_fr656n_j8up02ut ORIONNEBULA          83.81875 ...  False     nan    science 71322195 137757844\n",
       "           image           2            HST   hst_10057_02_acs_wfc_fr914m_j8up02vd ORIONNEBULA          83.81875 ...  False     nan    science 71322208 137757866\n",
       "           image           2            HST   hst_10057_02_acs_wfc_fr505n_j8up02uy ORIONNEBULA          83.81875 ...  False     nan    science 71322221 137757881\n",
       "           image           2            HST   hst_10057_02_acs_wfc_fr914m_j8up02vc ORIONNEBULA          83.81875 ...  False     nan    science 71322234 137757901\n",
       "           image           2            HST   hst_10057_02_acs_wfc_fr656n_j8up02us ORIONNEBULA          83.81875 ...  False     nan    science 71322252 137757922\n",
       "           image           2            HST   hst_10057_02_acs_wfc_fr656n_j8up02uu ORIONNEBULA          83.81875 ...  False     nan    science 71322267 137757943\n",
       "           image           2            HST   hst_10057_02_acs_wfc_fr388n_j8up02uv ORIONNEBULA          83.81875 ...  False     nan    science 71322283 137757965\n",
       "           image           2            HST   hst_10057_02_acs_wfc_fr505n_j8up02v0 ORIONNEBULA          83.81875 ...  False     nan    science 71322299 137757988\n",
       "           image           2            HST   hst_10057_02_acs_wfc_fr459m_j8up02v9 ORIONNEBULA          83.81875 ...  False     nan    science 71322311 137758006"
      ]
     },
     "execution_count": 2,
     "metadata": {},
     "output_type": "execute_result"
    }
   ],
   "source": [
    "obs_table = Observations.query_criteria(target_name=[\"Orion\",\"OrionNebula\"],intentType='science',dataproduct_type='image')\n",
    "obs_table"
   ]
  },
  {
   "cell_type": "markdown",
   "metadata": {},
   "source": [
    "It looks like Hubble has observed the Orion Nebula on 44 separate occasions. Let us download all of these. "
   ]
  },
  {
   "cell_type": "code",
   "execution_count": 40,
   "metadata": {},
   "outputs": [
    {
     "name": "stdout",
     "output_type": "stream",
     "text": [
      "Downloading URL https://mast.stsci.edu/api/v0.1/Download/file?uri=mast:HST/product/j8up02usq_flt_hlet.fits to ./mastDownload/HST/j8up02usq/j8up02usq_flt_hlet.fits ... [Done]\n",
      "Downloading URL https://mast.stsci.edu/api/v0.1/Download/file?uri=mast:HST/product/j8up02usj_jif.fits to ./mastDownload/HST/j8up02usq/j8up02usj_jif.fits ... [Done]\n",
      "Downloading URL https://mast.stsci.edu/api/v0.1/Download/file?uri=mast:HST/product/j8up02usj_jit.fits to ./mastDownload/HST/j8up02usq/j8up02usj_jit.fits ... [Done]\n",
      "Downloading URL https://mast.stsci.edu/api/v0.1/Download/file?uri=mast:HST/product/j8up02usq_spt.fits to ./mastDownload/HST/j8up02usq/j8up02usq_spt.fits ... [Done]\n",
      "Downloading URL https://mast.stsci.edu/api/v0.1/Download/file?uri=mast:HST/product/j8up02usq_trl.fits to ./mastDownload/HST/j8up02usq/j8up02usq_trl.fits ... [Done]\n",
      "Downloading URL https://mast.stsci.edu/api/v0.1/Download/file?uri=mast:HST/product/j8up02usq_drz.jpg to ./mastDownload/HST/j8up02usq/j8up02usq_drz.jpg ... [Done]\n",
      "Downloading URL https://mast.stsci.edu/api/v0.1/Download/file?uri=mast:HST/product/j8up02usq_raw.jpg to ./mastDownload/HST/j8up02usq/j8up02usq_raw.jpg ... [Done]\n",
      "Downloading URL https://mast.stsci.edu/api/v0.1/Download/file?uri=mast:HST/product/j8up02usq_flt.jpg to ./mastDownload/HST/j8up02usq/j8up02usq_flt.jpg ... [Done]\n",
      "Downloading URL https://mast.stsci.edu/api/v0.1/Download/file?uri=mast:HST/product/j8up02usq_raw.fits to ./mastDownload/HST/j8up02usq/j8up02usq_raw.fits ... [Done]\n",
      "Downloading URL https://mast.stsci.edu/api/v0.1/Download/file?uri=mast:HST/product/j8up02usq_drz.fits to ./mastDownload/HST/j8up02usq/j8up02usq_drz.fits ... [Done]\n",
      "Downloading URL https://mast.stsci.edu/api/v0.1/Download/file?uri=mast:HST/product/j8up02usq_flt.fits to ./mastDownload/HST/j8up02usq/j8up02usq_flt.fits ... [Done]\n",
      "Downloading URL https://mast.stsci.edu/api/v0.1/Download/file?uri=mast:HST/product/j8up02utq_flt_hlet.fits to ./mastDownload/HST/j8up02utq/j8up02utq_flt_hlet.fits ... [Done]\n",
      "Downloading URL https://mast.stsci.edu/api/v0.1/Download/file?uri=mast:HST/product/j8up02utj_jif.fits to ./mastDownload/HST/j8up02utq/j8up02utj_jif.fits ... [Done]\n",
      "Downloading URL https://mast.stsci.edu/api/v0.1/Download/file?uri=mast:HST/product/j8up02utj_jit.fits to ./mastDownload/HST/j8up02utq/j8up02utj_jit.fits ... [Done]\n",
      "Downloading URL https://mast.stsci.edu/api/v0.1/Download/file?uri=mast:HST/product/j8up02utq_spt.fits to ./mastDownload/HST/j8up02utq/j8up02utq_spt.fits ... [Done]\n",
      "Downloading URL https://mast.stsci.edu/api/v0.1/Download/file?uri=mast:HST/product/j8up02utq_trl.fits to ./mastDownload/HST/j8up02utq/j8up02utq_trl.fits ... [Done]\n",
      "Downloading URL https://mast.stsci.edu/api/v0.1/Download/file?uri=mast:HST/product/j8up02utq_drz.jpg to ./mastDownload/HST/j8up02utq/j8up02utq_drz.jpg ... [Done]\n",
      "Downloading URL https://mast.stsci.edu/api/v0.1/Download/file?uri=mast:HST/product/j8up02utq_raw.jpg to ./mastDownload/HST/j8up02utq/j8up02utq_raw.jpg ... [Done]\n",
      "Downloading URL https://mast.stsci.edu/api/v0.1/Download/file?uri=mast:HST/product/j8up02utq_flt.jpg to ./mastDownload/HST/j8up02utq/j8up02utq_flt.jpg ... [Done]\n",
      "Downloading URL https://mast.stsci.edu/api/v0.1/Download/file?uri=mast:HST/product/j8up02utq_raw.fits to ./mastDownload/HST/j8up02utq/j8up02utq_raw.fits ... [Done]\n",
      "Downloading URL https://mast.stsci.edu/api/v0.1/Download/file?uri=mast:HST/product/j8up02utq_drz.fits to ./mastDownload/HST/j8up02utq/j8up02utq_drz.fits ... [Done]\n",
      "Downloading URL https://mast.stsci.edu/api/v0.1/Download/file?uri=mast:HST/product/j8up02utq_flt.fits to ./mastDownload/HST/j8up02utq/j8up02utq_flt.fits ... [Done]\n",
      "Downloading URL https://mast.stsci.edu/api/v0.1/Download/file?uri=mast:HST/product/j8up02uuq_flt_hlet.fits to ./mastDownload/HST/j8up02uuq/j8up02uuq_flt_hlet.fits ... [Done]\n",
      "Downloading URL https://mast.stsci.edu/api/v0.1/Download/file?uri=mast:HST/product/j8up02uuj_jif.fits to ./mastDownload/HST/j8up02uuq/j8up02uuj_jif.fits ... [Done]\n",
      "Downloading URL https://mast.stsci.edu/api/v0.1/Download/file?uri=mast:HST/product/j8up02uuj_jit.fits to ./mastDownload/HST/j8up02uuq/j8up02uuj_jit.fits ... [Done]\n",
      "Downloading URL https://mast.stsci.edu/api/v0.1/Download/file?uri=mast:HST/product/j8up02uuq_spt.fits to ./mastDownload/HST/j8up02uuq/j8up02uuq_spt.fits ... [Done]\n",
      "Downloading URL https://mast.stsci.edu/api/v0.1/Download/file?uri=mast:HST/product/j8up02uuq_trl.fits to ./mastDownload/HST/j8up02uuq/j8up02uuq_trl.fits ... [Done]\n",
      "Downloading URL https://mast.stsci.edu/api/v0.1/Download/file?uri=mast:HST/product/j8up02uuq_drz.jpg to ./mastDownload/HST/j8up02uuq/j8up02uuq_drz.jpg ... [Done]\n",
      "Downloading URL https://mast.stsci.edu/api/v0.1/Download/file?uri=mast:HST/product/j8up02uuq_raw.jpg to ./mastDownload/HST/j8up02uuq/j8up02uuq_raw.jpg ... [Done]\n",
      "Downloading URL https://mast.stsci.edu/api/v0.1/Download/file?uri=mast:HST/product/j8up02uuq_flt.jpg to ./mastDownload/HST/j8up02uuq/j8up02uuq_flt.jpg ... [Done]\n",
      "Downloading URL https://mast.stsci.edu/api/v0.1/Download/file?uri=mast:HST/product/j8up02uuq_raw.fits to ./mastDownload/HST/j8up02uuq/j8up02uuq_raw.fits ... [Done]\n",
      "Downloading URL https://mast.stsci.edu/api/v0.1/Download/file?uri=mast:HST/product/j8up02uuq_drz.fits to ./mastDownload/HST/j8up02uuq/j8up02uuq_drz.fits ... [Done]\n",
      "Downloading URL https://mast.stsci.edu/api/v0.1/Download/file?uri=mast:HST/product/j8up02uuq_flt.fits to ./mastDownload/HST/j8up02uuq/j8up02uuq_flt.fits ... [Done]\n",
      "Downloading URL https://mast.stsci.edu/api/v0.1/Download/file?uri=mast:HST/product/j8up02uvq_flt_hlet.fits to ./mastDownload/HST/j8up02uvq/j8up02uvq_flt_hlet.fits ... [Done]\n",
      "Downloading URL https://mast.stsci.edu/api/v0.1/Download/file?uri=mast:HST/product/j8up02uvj_jif.fits to ./mastDownload/HST/j8up02uvq/j8up02uvj_jif.fits ... [Done]\n",
      "Downloading URL https://mast.stsci.edu/api/v0.1/Download/file?uri=mast:HST/product/j8up02uvj_jit.fits to ./mastDownload/HST/j8up02uvq/j8up02uvj_jit.fits ... [Done]\n",
      "Downloading URL https://mast.stsci.edu/api/v0.1/Download/file?uri=mast:HST/product/j8up02uvq_spt.fits to ./mastDownload/HST/j8up02uvq/j8up02uvq_spt.fits ... [Done]\n",
      "Downloading URL https://mast.stsci.edu/api/v0.1/Download/file?uri=mast:HST/product/j8up02uvq_trl.fits to ./mastDownload/HST/j8up02uvq/j8up02uvq_trl.fits ... [Done]\n",
      "Downloading URL https://mast.stsci.edu/api/v0.1/Download/file?uri=mast:HST/product/j8up02uvq_drz.jpg to ./mastDownload/HST/j8up02uvq/j8up02uvq_drz.jpg ... [Done]\n",
      "Downloading URL https://mast.stsci.edu/api/v0.1/Download/file?uri=mast:HST/product/j8up02uvq_raw.jpg to ./mastDownload/HST/j8up02uvq/j8up02uvq_raw.jpg ... [Done]\n",
      "Downloading URL https://mast.stsci.edu/api/v0.1/Download/file?uri=mast:HST/product/j8up02uvq_flt.jpg to ./mastDownload/HST/j8up02uvq/j8up02uvq_flt.jpg ... [Done]\n",
      "Downloading URL https://mast.stsci.edu/api/v0.1/Download/file?uri=mast:HST/product/j8up02uvq_raw.fits to ./mastDownload/HST/j8up02uvq/j8up02uvq_raw.fits ... [Done]\n",
      "Downloading URL https://mast.stsci.edu/api/v0.1/Download/file?uri=mast:HST/product/j8up02uvq_drz.fits to ./mastDownload/HST/j8up02uvq/j8up02uvq_drz.fits ... [Done]\n",
      "Downloading URL https://mast.stsci.edu/api/v0.1/Download/file?uri=mast:HST/product/j8up02uvq_flt.fits to ./mastDownload/HST/j8up02uvq/j8up02uvq_flt.fits ... [Done]\n",
      "Downloading URL https://mast.stsci.edu/api/v0.1/Download/file?uri=mast:HST/product/j8up02uwq_flt_hlet.fits to ./mastDownload/HST/j8up02uwq/j8up02uwq_flt_hlet.fits ... [Done]\n",
      "Downloading URL https://mast.stsci.edu/api/v0.1/Download/file?uri=mast:HST/product/j8up02uwj_jif.fits to ./mastDownload/HST/j8up02uwq/j8up02uwj_jif.fits ... [Done]\n",
      "Downloading URL https://mast.stsci.edu/api/v0.1/Download/file?uri=mast:HST/product/j8up02uwj_jit.fits to ./mastDownload/HST/j8up02uwq/j8up02uwj_jit.fits ... [Done]\n",
      "Downloading URL https://mast.stsci.edu/api/v0.1/Download/file?uri=mast:HST/product/j8up02uwq_spt.fits to ./mastDownload/HST/j8up02uwq/j8up02uwq_spt.fits ... [Done]\n",
      "Downloading URL https://mast.stsci.edu/api/v0.1/Download/file?uri=mast:HST/product/j8up02uwq_trl.fits to ./mastDownload/HST/j8up02uwq/j8up02uwq_trl.fits ... [Done]\n",
      "Downloading URL https://mast.stsci.edu/api/v0.1/Download/file?uri=mast:HST/product/j8up02uwq_drz.jpg to ./mastDownload/HST/j8up02uwq/j8up02uwq_drz.jpg ... [Done]\n",
      "Downloading URL https://mast.stsci.edu/api/v0.1/Download/file?uri=mast:HST/product/j8up02uwq_raw.jpg to ./mastDownload/HST/j8up02uwq/j8up02uwq_raw.jpg ... [Done]\n",
      "Downloading URL https://mast.stsci.edu/api/v0.1/Download/file?uri=mast:HST/product/j8up02uwq_flt.jpg to ./mastDownload/HST/j8up02uwq/j8up02uwq_flt.jpg ... [Done]\n",
      "Downloading URL https://mast.stsci.edu/api/v0.1/Download/file?uri=mast:HST/product/j8up02uwq_raw.fits to ./mastDownload/HST/j8up02uwq/j8up02uwq_raw.fits ... [Done]\n",
      "Downloading URL https://mast.stsci.edu/api/v0.1/Download/file?uri=mast:HST/product/j8up02uwq_drz.fits to ./mastDownload/HST/j8up02uwq/j8up02uwq_drz.fits ... [Done]\n",
      "Downloading URL https://mast.stsci.edu/api/v0.1/Download/file?uri=mast:HST/product/j8up02uwq_flt.fits to ./mastDownload/HST/j8up02uwq/j8up02uwq_flt.fits ... [Done]\n",
      "Downloading URL https://mast.stsci.edu/api/v0.1/Download/file?uri=mast:HST/product/j8up02uyq_flt_hlet.fits to ./mastDownload/HST/j8up02uyq/j8up02uyq_flt_hlet.fits ... [Done]\n",
      "Downloading URL https://mast.stsci.edu/api/v0.1/Download/file?uri=mast:HST/product/j8up02uyj_jif.fits to ./mastDownload/HST/j8up02uyq/j8up02uyj_jif.fits ... [Done]\n",
      "Downloading URL https://mast.stsci.edu/api/v0.1/Download/file?uri=mast:HST/product/j8up02uyj_jit.fits to ./mastDownload/HST/j8up02uyq/j8up02uyj_jit.fits ... [Done]\n",
      "Downloading URL https://mast.stsci.edu/api/v0.1/Download/file?uri=mast:HST/product/j8up02uyq_spt.fits to ./mastDownload/HST/j8up02uyq/j8up02uyq_spt.fits ... [Done]\n",
      "Downloading URL https://mast.stsci.edu/api/v0.1/Download/file?uri=mast:HST/product/j8up02uyq_trl.fits to ./mastDownload/HST/j8up02uyq/j8up02uyq_trl.fits ... [Done]\n",
      "Downloading URL https://mast.stsci.edu/api/v0.1/Download/file?uri=mast:HST/product/j8up02uyq_drz.jpg to ./mastDownload/HST/j8up02uyq/j8up02uyq_drz.jpg ... [Done]\n",
      "Downloading URL https://mast.stsci.edu/api/v0.1/Download/file?uri=mast:HST/product/j8up02uyq_raw.jpg to ./mastDownload/HST/j8up02uyq/j8up02uyq_raw.jpg ... [Done]\n",
      "Downloading URL https://mast.stsci.edu/api/v0.1/Download/file?uri=mast:HST/product/j8up02uyq_flt.jpg to ./mastDownload/HST/j8up02uyq/j8up02uyq_flt.jpg ... [Done]\n",
      "Downloading URL https://mast.stsci.edu/api/v0.1/Download/file?uri=mast:HST/product/j8up02uyq_raw.fits to ./mastDownload/HST/j8up02uyq/j8up02uyq_raw.fits ... [Done]\n",
      "Downloading URL https://mast.stsci.edu/api/v0.1/Download/file?uri=mast:HST/product/j8up02uyq_drz.fits to ./mastDownload/HST/j8up02uyq/j8up02uyq_drz.fits ... [Done]\n",
      "Downloading URL https://mast.stsci.edu/api/v0.1/Download/file?uri=mast:HST/product/j8up02uyq_flt.fits to ./mastDownload/HST/j8up02uyq/j8up02uyq_flt.fits ... [Done]\n",
      "Downloading URL https://mast.stsci.edu/api/v0.1/Download/file?uri=mast:HST/product/j8up02v0q_flt_hlet.fits to ./mastDownload/HST/j8up02v0q/j8up02v0q_flt_hlet.fits ... [Done]\n",
      "Downloading URL https://mast.stsci.edu/api/v0.1/Download/file?uri=mast:HST/product/j8up02v0j_jif.fits to ./mastDownload/HST/j8up02v0q/j8up02v0j_jif.fits ... [Done]\n",
      "Downloading URL https://mast.stsci.edu/api/v0.1/Download/file?uri=mast:HST/product/j8up02v0j_jit.fits to ./mastDownload/HST/j8up02v0q/j8up02v0j_jit.fits ... [Done]\n",
      "Downloading URL https://mast.stsci.edu/api/v0.1/Download/file?uri=mast:HST/product/j8up02v0q_spt.fits to ./mastDownload/HST/j8up02v0q/j8up02v0q_spt.fits ... [Done]\n",
      "Downloading URL https://mast.stsci.edu/api/v0.1/Download/file?uri=mast:HST/product/j8up02v0q_trl.fits to ./mastDownload/HST/j8up02v0q/j8up02v0q_trl.fits ... [Done]\n",
      "Downloading URL https://mast.stsci.edu/api/v0.1/Download/file?uri=mast:HST/product/j8up02v0q_drz.jpg to ./mastDownload/HST/j8up02v0q/j8up02v0q_drz.jpg ... [Done]\n",
      "Downloading URL https://mast.stsci.edu/api/v0.1/Download/file?uri=mast:HST/product/j8up02v0q_raw.jpg to ./mastDownload/HST/j8up02v0q/j8up02v0q_raw.jpg ... [Done]\n",
      "Downloading URL https://mast.stsci.edu/api/v0.1/Download/file?uri=mast:HST/product/j8up02v0q_flt.jpg to ./mastDownload/HST/j8up02v0q/j8up02v0q_flt.jpg ... [Done]\n",
      "Downloading URL https://mast.stsci.edu/api/v0.1/Download/file?uri=mast:HST/product/j8up02v0q_raw.fits to ./mastDownload/HST/j8up02v0q/j8up02v0q_raw.fits ... [Done]\n",
      "Downloading URL https://mast.stsci.edu/api/v0.1/Download/file?uri=mast:HST/product/j8up02v0q_drz.fits to ./mastDownload/HST/j8up02v0q/j8up02v0q_drz.fits ... [Done]\n",
      "Downloading URL https://mast.stsci.edu/api/v0.1/Download/file?uri=mast:HST/product/j8up02v0q_flt.fits to ./mastDownload/HST/j8up02v0q/j8up02v0q_flt.fits ... [Done]\n",
      "Downloading URL https://mast.stsci.edu/api/v0.1/Download/file?uri=mast:HST/product/j8up02v5q_flt_hlet.fits to ./mastDownload/HST/j8up02v5q/j8up02v5q_flt_hlet.fits ... [Done]\n",
      "Downloading URL https://mast.stsci.edu/api/v0.1/Download/file?uri=mast:HST/product/j8up02v5j_jif.fits to ./mastDownload/HST/j8up02v5q/j8up02v5j_jif.fits ... [Done]\n",
      "Downloading URL https://mast.stsci.edu/api/v0.1/Download/file?uri=mast:HST/product/j8up02v5j_jit.fits to ./mastDownload/HST/j8up02v5q/j8up02v5j_jit.fits ... [Done]\n",
      "Downloading URL https://mast.stsci.edu/api/v0.1/Download/file?uri=mast:HST/product/j8up02v5q_spt.fits to ./mastDownload/HST/j8up02v5q/j8up02v5q_spt.fits ... [Done]\n",
      "Downloading URL https://mast.stsci.edu/api/v0.1/Download/file?uri=mast:HST/product/j8up02v5q_trl.fits to ./mastDownload/HST/j8up02v5q/j8up02v5q_trl.fits ... [Done]\n",
      "Downloading URL https://mast.stsci.edu/api/v0.1/Download/file?uri=mast:HST/product/j8up02v5q_drz.jpg to ./mastDownload/HST/j8up02v5q/j8up02v5q_drz.jpg ... [Done]\n",
      "Downloading URL https://mast.stsci.edu/api/v0.1/Download/file?uri=mast:HST/product/j8up02v5q_raw.jpg to ./mastDownload/HST/j8up02v5q/j8up02v5q_raw.jpg ... [Done]\n",
      "Downloading URL https://mast.stsci.edu/api/v0.1/Download/file?uri=mast:HST/product/j8up02v5q_flt.jpg to ./mastDownload/HST/j8up02v5q/j8up02v5q_flt.jpg ... [Done]\n",
      "Downloading URL https://mast.stsci.edu/api/v0.1/Download/file?uri=mast:HST/product/j8up02v5q_raw.fits to ./mastDownload/HST/j8up02v5q/j8up02v5q_raw.fits ... [Done]\n",
      "Downloading URL https://mast.stsci.edu/api/v0.1/Download/file?uri=mast:HST/product/j8up02v5q_drz.fits to ./mastDownload/HST/j8up02v5q/j8up02v5q_drz.fits ... [Done]\n",
      "Downloading URL https://mast.stsci.edu/api/v0.1/Download/file?uri=mast:HST/product/j8up02v5q_flt.fits to ./mastDownload/HST/j8up02v5q/j8up02v5q_flt.fits ... [Done]\n",
      "Downloading URL https://mast.stsci.edu/api/v0.1/Download/file?uri=mast:HST/product/j8up02v7q_flt_hlet.fits to ./mastDownload/HST/j8up02v7q/j8up02v7q_flt_hlet.fits ... [Done]\n",
      "Downloading URL https://mast.stsci.edu/api/v0.1/Download/file?uri=mast:HST/product/j8up02v7j_jif.fits to ./mastDownload/HST/j8up02v7q/j8up02v7j_jif.fits ... [Done]\n",
      "Downloading URL https://mast.stsci.edu/api/v0.1/Download/file?uri=mast:HST/product/j8up02v7j_jit.fits to ./mastDownload/HST/j8up02v7q/j8up02v7j_jit.fits ... [Done]\n",
      "Downloading URL https://mast.stsci.edu/api/v0.1/Download/file?uri=mast:HST/product/j8up02v7q_spt.fits to ./mastDownload/HST/j8up02v7q/j8up02v7q_spt.fits ... [Done]\n",
      "Downloading URL https://mast.stsci.edu/api/v0.1/Download/file?uri=mast:HST/product/j8up02v7q_trl.fits to ./mastDownload/HST/j8up02v7q/j8up02v7q_trl.fits ... [Done]\n",
      "Downloading URL https://mast.stsci.edu/api/v0.1/Download/file?uri=mast:HST/product/j8up02v7q_drz.jpg to ./mastDownload/HST/j8up02v7q/j8up02v7q_drz.jpg ... [Done]\n",
      "Downloading URL https://mast.stsci.edu/api/v0.1/Download/file?uri=mast:HST/product/j8up02v7q_raw.jpg to ./mastDownload/HST/j8up02v7q/j8up02v7q_raw.jpg ... [Done]\n",
      "Downloading URL https://mast.stsci.edu/api/v0.1/Download/file?uri=mast:HST/product/j8up02v7q_flt.jpg to ./mastDownload/HST/j8up02v7q/j8up02v7q_flt.jpg ... [Done]\n",
      "Downloading URL https://mast.stsci.edu/api/v0.1/Download/file?uri=mast:HST/product/j8up02v7q_raw.fits to ./mastDownload/HST/j8up02v7q/j8up02v7q_raw.fits ... [Done]\n",
      "Downloading URL https://mast.stsci.edu/api/v0.1/Download/file?uri=mast:HST/product/j8up02v7q_drz.fits to ./mastDownload/HST/j8up02v7q/j8up02v7q_drz.fits ... [Done]\n"
     ]
    },
    {
     "name": "stdout",
     "output_type": "stream",
     "text": [
      "Downloading URL https://mast.stsci.edu/api/v0.1/Download/file?uri=mast:HST/product/j8up02v7q_flt.fits to ./mastDownload/HST/j8up02v7q/j8up02v7q_flt.fits ... [Done]\n",
      "Downloading URL https://mast.stsci.edu/api/v0.1/Download/file?uri=mast:HST/product/j8up02v9q_flt_hlet.fits to ./mastDownload/HST/j8up02v9q/j8up02v9q_flt_hlet.fits ... [Done]\n",
      "Downloading URL https://mast.stsci.edu/api/v0.1/Download/file?uri=mast:HST/product/j8up02v9j_jif.fits to ./mastDownload/HST/j8up02v9q/j8up02v9j_jif.fits ... [Done]\n",
      "Downloading URL https://mast.stsci.edu/api/v0.1/Download/file?uri=mast:HST/product/j8up02v9j_jit.fits to ./mastDownload/HST/j8up02v9q/j8up02v9j_jit.fits ... [Done]\n",
      "Downloading URL https://mast.stsci.edu/api/v0.1/Download/file?uri=mast:HST/product/j8up02v9q_spt.fits to ./mastDownload/HST/j8up02v9q/j8up02v9q_spt.fits ... [Done]\n",
      "Downloading URL https://mast.stsci.edu/api/v0.1/Download/file?uri=mast:HST/product/j8up02v9q_trl.fits to ./mastDownload/HST/j8up02v9q/j8up02v9q_trl.fits ... [Done]\n",
      "Downloading URL https://mast.stsci.edu/api/v0.1/Download/file?uri=mast:HST/product/j8up02v9q_drz.jpg to ./mastDownload/HST/j8up02v9q/j8up02v9q_drz.jpg ... [Done]\n",
      "Downloading URL https://mast.stsci.edu/api/v0.1/Download/file?uri=mast:HST/product/j8up02v9q_raw.jpg to ./mastDownload/HST/j8up02v9q/j8up02v9q_raw.jpg ... [Done]\n",
      "Downloading URL https://mast.stsci.edu/api/v0.1/Download/file?uri=mast:HST/product/j8up02v9q_flt.jpg to ./mastDownload/HST/j8up02v9q/j8up02v9q_flt.jpg ... [Done]\n",
      "Downloading URL https://mast.stsci.edu/api/v0.1/Download/file?uri=mast:HST/product/j8up02v9q_raw.fits to ./mastDownload/HST/j8up02v9q/j8up02v9q_raw.fits ... [Done]\n",
      "Downloading URL https://mast.stsci.edu/api/v0.1/Download/file?uri=mast:HST/product/j8up02v9q_drz.fits to ./mastDownload/HST/j8up02v9q/j8up02v9q_drz.fits ... [Done]\n",
      "Downloading URL https://mast.stsci.edu/api/v0.1/Download/file?uri=mast:HST/product/j8up02v9q_flt.fits to ./mastDownload/HST/j8up02v9q/j8up02v9q_flt.fits ... [Done]\n",
      "Downloading URL https://mast.stsci.edu/api/v0.1/Download/file?uri=mast:HST/product/j8up02vbq_flt_hlet.fits to ./mastDownload/HST/j8up02vbq/j8up02vbq_flt_hlet.fits ... [Done]\n",
      "Downloading URL https://mast.stsci.edu/api/v0.1/Download/file?uri=mast:HST/product/j8up02vbj_jif.fits to ./mastDownload/HST/j8up02vbq/j8up02vbj_jif.fits ... [Done]\n",
      "Downloading URL https://mast.stsci.edu/api/v0.1/Download/file?uri=mast:HST/product/j8up02vbj_jit.fits to ./mastDownload/HST/j8up02vbq/j8up02vbj_jit.fits ... [Done]\n",
      "Downloading URL https://mast.stsci.edu/api/v0.1/Download/file?uri=mast:HST/product/j8up02vbq_spt.fits to ./mastDownload/HST/j8up02vbq/j8up02vbq_spt.fits ... [Done]\n",
      "Downloading URL https://mast.stsci.edu/api/v0.1/Download/file?uri=mast:HST/product/j8up02vbq_trl.fits to ./mastDownload/HST/j8up02vbq/j8up02vbq_trl.fits ... [Done]\n",
      "Downloading URL https://mast.stsci.edu/api/v0.1/Download/file?uri=mast:HST/product/j8up02vbq_drz.jpg to ./mastDownload/HST/j8up02vbq/j8up02vbq_drz.jpg ... [Done]\n",
      "Downloading URL https://mast.stsci.edu/api/v0.1/Download/file?uri=mast:HST/product/j8up02vbq_raw.jpg to ./mastDownload/HST/j8up02vbq/j8up02vbq_raw.jpg ... [Done]\n",
      "Downloading URL https://mast.stsci.edu/api/v0.1/Download/file?uri=mast:HST/product/j8up02vbq_flt.jpg to ./mastDownload/HST/j8up02vbq/j8up02vbq_flt.jpg ... [Done]\n",
      "Downloading URL https://mast.stsci.edu/api/v0.1/Download/file?uri=mast:HST/product/j8up02vbq_raw.fits to ./mastDownload/HST/j8up02vbq/j8up02vbq_raw.fits ... [Done]\n",
      "Downloading URL https://mast.stsci.edu/api/v0.1/Download/file?uri=mast:HST/product/j8up02vbq_drz.fits to ./mastDownload/HST/j8up02vbq/j8up02vbq_drz.fits ... [Done]\n",
      "Downloading URL https://mast.stsci.edu/api/v0.1/Download/file?uri=mast:HST/product/j8up02vbq_flt.fits to ./mastDownload/HST/j8up02vbq/j8up02vbq_flt.fits ... [Done]\n",
      "Downloading URL https://mast.stsci.edu/api/v0.1/Download/file?uri=mast:HST/product/j8up02vcq_flt_hlet.fits to ./mastDownload/HST/j8up02vcq/j8up02vcq_flt_hlet.fits ... [Done]\n",
      "Downloading URL https://mast.stsci.edu/api/v0.1/Download/file?uri=mast:HST/product/j8up02vcj_jif.fits to ./mastDownload/HST/j8up02vcq/j8up02vcj_jif.fits ... [Done]\n",
      "Downloading URL https://mast.stsci.edu/api/v0.1/Download/file?uri=mast:HST/product/j8up02vcj_jit.fits to ./mastDownload/HST/j8up02vcq/j8up02vcj_jit.fits ... [Done]\n",
      "Downloading URL https://mast.stsci.edu/api/v0.1/Download/file?uri=mast:HST/product/j8up02vcq_spt.fits to ./mastDownload/HST/j8up02vcq/j8up02vcq_spt.fits ... [Done]\n",
      "Downloading URL https://mast.stsci.edu/api/v0.1/Download/file?uri=mast:HST/product/j8up02vcq_trl.fits to ./mastDownload/HST/j8up02vcq/j8up02vcq_trl.fits ... [Done]\n",
      "Downloading URL https://mast.stsci.edu/api/v0.1/Download/file?uri=mast:HST/product/j8up02vcq_drz.jpg to ./mastDownload/HST/j8up02vcq/j8up02vcq_drz.jpg ... [Done]\n",
      "Downloading URL https://mast.stsci.edu/api/v0.1/Download/file?uri=mast:HST/product/j8up02vcq_raw.jpg to ./mastDownload/HST/j8up02vcq/j8up02vcq_raw.jpg ... [Done]\n",
      "Downloading URL https://mast.stsci.edu/api/v0.1/Download/file?uri=mast:HST/product/j8up02vcq_flt.jpg to ./mastDownload/HST/j8up02vcq/j8up02vcq_flt.jpg ... [Done]\n",
      "Downloading URL https://mast.stsci.edu/api/v0.1/Download/file?uri=mast:HST/product/j8up02vcq_raw.fits to ./mastDownload/HST/j8up02vcq/j8up02vcq_raw.fits ... [Done]\n",
      "Downloading URL https://mast.stsci.edu/api/v0.1/Download/file?uri=mast:HST/product/j8up02vcq_drz.fits to ./mastDownload/HST/j8up02vcq/j8up02vcq_drz.fits ... [Done]\n",
      "Downloading URL https://mast.stsci.edu/api/v0.1/Download/file?uri=mast:HST/product/j8up02vcq_flt.fits to ./mastDownload/HST/j8up02vcq/j8up02vcq_flt.fits ... [Done]\n",
      "Downloading URL https://mast.stsci.edu/api/v0.1/Download/file?uri=mast:HST/product/j8up02vdq_flt_hlet.fits to ./mastDownload/HST/j8up02vdq/j8up02vdq_flt_hlet.fits ... [Done]\n",
      "Downloading URL https://mast.stsci.edu/api/v0.1/Download/file?uri=mast:HST/product/j8up02vdj_jif.fits to ./mastDownload/HST/j8up02vdq/j8up02vdj_jif.fits ... [Done]\n",
      "Downloading URL https://mast.stsci.edu/api/v0.1/Download/file?uri=mast:HST/product/j8up02vdj_jit.fits to ./mastDownload/HST/j8up02vdq/j8up02vdj_jit.fits ... [Done]\n",
      "Downloading URL https://mast.stsci.edu/api/v0.1/Download/file?uri=mast:HST/product/j8up02vdq_spt.fits to ./mastDownload/HST/j8up02vdq/j8up02vdq_spt.fits ... [Done]\n",
      "Downloading URL https://mast.stsci.edu/api/v0.1/Download/file?uri=mast:HST/product/j8up02vdq_trl.fits to ./mastDownload/HST/j8up02vdq/j8up02vdq_trl.fits ... [Done]\n",
      "Downloading URL https://mast.stsci.edu/api/v0.1/Download/file?uri=mast:HST/product/j8up02vdq_drz.jpg to ./mastDownload/HST/j8up02vdq/j8up02vdq_drz.jpg ... [Done]\n",
      "Downloading URL https://mast.stsci.edu/api/v0.1/Download/file?uri=mast:HST/product/j8up02vdq_raw.jpg to ./mastDownload/HST/j8up02vdq/j8up02vdq_raw.jpg ... [Done]\n",
      "Downloading URL https://mast.stsci.edu/api/v0.1/Download/file?uri=mast:HST/product/j8up02vdq_flt.jpg to ./mastDownload/HST/j8up02vdq/j8up02vdq_flt.jpg ... [Done]\n",
      "Downloading URL https://mast.stsci.edu/api/v0.1/Download/file?uri=mast:HST/product/j8up02vdq_raw.fits to ./mastDownload/HST/j8up02vdq/j8up02vdq_raw.fits ... [Done]\n",
      "Downloading URL https://mast.stsci.edu/api/v0.1/Download/file?uri=mast:HST/product/j8up02vdq_drz.fits to ./mastDownload/HST/j8up02vdq/j8up02vdq_drz.fits ... [Done]\n",
      "Downloading URL https://mast.stsci.edu/api/v0.1/Download/file?uri=mast:HST/product/j8up02vdq_flt.fits to ./mastDownload/HST/j8up02vdq/j8up02vdq_flt.fits ... [Done]\n",
      "Downloading URL https://mast.stsci.edu/api/v0.1/Download/file?uri=mast:HST/product/x22q0101t_dgr.fits to ./mastDownload/HST/x22q0101t/x22q0101t_dgr.fits ... [Done]\n",
      "Downloading URL https://mast.stsci.edu/api/v0.1/Download/file?uri=mast:HST/product/x22q0101t_q0f.fits to ./mastDownload/HST/x22q0101t/x22q0101t_q0f.fits ... [Done]\n",
      "Downloading URL https://mast.stsci.edu/api/v0.1/Download/file?uri=mast:HST/product/x22q0101t_shf.fits to ./mastDownload/HST/x22q0101t/x22q0101t_shf.fits ... [Done]\n",
      "Downloading URL https://mast.stsci.edu/api/v0.1/Download/file?uri=mast:HST/product/x22q0101t_trl.fits to ./mastDownload/HST/x22q0101t/x22q0101t_trl.fits ... [Done]\n",
      "Downloading URL https://mast.stsci.edu/api/v0.1/Download/file?uri=mast:HST/product/x22q0101t_ulf.fits to ./mastDownload/HST/x22q0101t/x22q0101t_ulf.fits ... [Done]\n",
      "Downloading URL https://mast.stsci.edu/api/v0.1/Download/file?uri=mast:HST/product/x22q0101t_c0f.jpg to ./mastDownload/HST/x22q0101t/x22q0101t_c0f.jpg ... [Done]\n",
      "Downloading URL https://mast.stsci.edu/api/v0.1/Download/file?uri=mast:HST/product/x22q0101t_d0f.jpg to ./mastDownload/HST/x22q0101t/x22q0101t_d0f.jpg ... [Done]\n",
      "Downloading URL https://mast.stsci.edu/api/v0.1/Download/file?uri=mast:HST/product/x22q0101t_d0f.fits to ./mastDownload/HST/x22q0101t/x22q0101t_d0f.fits ... [Done]\n",
      "Downloading URL https://mast.stsci.edu/api/v0.1/Download/file?uri=mast:HST/product/x22q0101t_c0f.fits to ./mastDownload/HST/x22q0101t/x22q0101t_c0f.fits ... [Done]\n",
      "Downloading URL https://mast.stsci.edu/api/v0.1/Download/file?uri=mast:HST/product/x22q0101t_c1f.fits to ./mastDownload/HST/x22q0101t/x22q0101t_c1f.fits ... [Done]\n",
      "Downloading URL https://mast.stsci.edu/api/v0.1/Download/file?uri=mast:HST/product/x22q0201t_dgr.fits to ./mastDownload/HST/x22q0201t/x22q0201t_dgr.fits ... [Done]\n",
      "Downloading URL https://mast.stsci.edu/api/v0.1/Download/file?uri=mast:HST/product/x22q0201t_q0f.fits to ./mastDownload/HST/x22q0201t/x22q0201t_q0f.fits ... [Done]\n",
      "Downloading URL https://mast.stsci.edu/api/v0.1/Download/file?uri=mast:HST/product/x22q0201t_shf.fits to ./mastDownload/HST/x22q0201t/x22q0201t_shf.fits ... [Done]\n",
      "Downloading URL https://mast.stsci.edu/api/v0.1/Download/file?uri=mast:HST/product/x22q0201t_trl.fits to ./mastDownload/HST/x22q0201t/x22q0201t_trl.fits ... [Done]\n",
      "Downloading URL https://mast.stsci.edu/api/v0.1/Download/file?uri=mast:HST/product/x22q0201t_ulf.fits to ./mastDownload/HST/x22q0201t/x22q0201t_ulf.fits ... [Done]\n",
      "Downloading URL https://mast.stsci.edu/api/v0.1/Download/file?uri=mast:HST/product/x22q0201t_c0f.jpg to ./mastDownload/HST/x22q0201t/x22q0201t_c0f.jpg ... [Done]\n",
      "Downloading URL https://mast.stsci.edu/api/v0.1/Download/file?uri=mast:HST/product/x22q0201t_d0f.jpg to ./mastDownload/HST/x22q0201t/x22q0201t_d0f.jpg ... [Done]\n",
      "Downloading URL https://mast.stsci.edu/api/v0.1/Download/file?uri=mast:HST/product/x22q0201t_d0f.fits to ./mastDownload/HST/x22q0201t/x22q0201t_d0f.fits ... [Done]\n",
      "Downloading URL https://mast.stsci.edu/api/v0.1/Download/file?uri=mast:HST/product/x22q0201t_c0f.fits to ./mastDownload/HST/x22q0201t/x22q0201t_c0f.fits ... [Done]\n",
      "Downloading URL https://mast.stsci.edu/api/v0.1/Download/file?uri=mast:HST/product/x22q0201t_c1f.fits to ./mastDownload/HST/x22q0201t/x22q0201t_c1f.fits ... [Done]\n",
      "Downloading URL https://mast.stsci.edu/api/v0.1/Download/file?uri=mast:HLSP/url/cgi-bin/preview.cgi?dataset=hlsp_orion_hst_acs_colorimage_b_v1_drz to ./mastDownload/HLSP/hlsp_orion_hst_acs_colorimage_b_v1_drz/hlsp_orion_hst_acs_colorimage_b_v1_drz.jpg ... [Done]\n",
      "Downloading URL https://mast.stsci.edu/api/v0.1/Download/file?uri=mast:HLSP/url/cgi-bin/getdata.cgi?dataset=hlsp_orion_hst_acs_colorimage_b_v1_drz to ./mastDownload/HLSP/hlsp_orion_hst_acs_colorimage_b_v1_drz/hlsp_orion_hst_acs_colorimage_b_v1_drz.fits ... [Done]\n",
      "Downloading URL https://mast.stsci.edu/api/v0.1/Download/file?uri=mast:HLSP/url/cgi-bin/preview.cgi?dataset=hlsp_orion_hst_acs_colorimage_g_v1_drz to ./mastDownload/HLSP/hlsp_orion_hst_acs_colorimage_g_v1_drz/hlsp_orion_hst_acs_colorimage_g_v1_drz.jpg ... [Done]\n",
      "Downloading URL https://mast.stsci.edu/api/v0.1/Download/file?uri=mast:HLSP/url/cgi-bin/getdata.cgi?dataset=hlsp_orion_hst_acs_colorimage_g_v1_drz to ./mastDownload/HLSP/hlsp_orion_hst_acs_colorimage_g_v1_drz/hlsp_orion_hst_acs_colorimage_g_v1_drz.fits ... [Done]\n",
      "Downloading URL https://mast.stsci.edu/api/v0.1/Download/file?uri=mast:HLSP/url/cgi-bin/preview.cgi?dataset=hlsp_orion_hst_acs_colorimage_r_v1_drz to ./mastDownload/HLSP/hlsp_orion_hst_acs_colorimage_r_v1_drz/hlsp_orion_hst_acs_colorimage_r_v1_drz.jpg ... [Done]\n",
      "Downloading URL https://mast.stsci.edu/api/v0.1/Download/file?uri=mast:HLSP/url/cgi-bin/getdata.cgi?dataset=hlsp_orion_hst_acs_colorimage_r_v1_drz to ./mastDownload/HLSP/hlsp_orion_hst_acs_colorimage_r_v1_drz/hlsp_orion_hst_acs_colorimage_r_v1_drz.fits ... [Done]\n",
      "Downloading URL https://mast.stsci.edu/api/v0.1/Download/file?uri=mast:HLA/url/cgi-bin/preview.cgi?dataset=hst_10057_02_acs_wfc_fr388n_01 to ./mastDownload/HLA/hst_10057_02_acs_wfc_fr388n_01/hst_10057_02_acs_wfc_fr388n_01_drz.jpg ... [Done]\n",
      "Downloading URL https://mast.stsci.edu/api/v0.1/Download/file?uri=mast:HLA/url/cgi-bin/getdata.cgi?dataset=hst_10057_02_acs_wfc_fr388n_01_drz.fits to ./mastDownload/HLA/hst_10057_02_acs_wfc_fr388n_01/hst_10057_02_acs_wfc_fr388n_01_drz.fits ... [Done]\n",
      "Downloading URL https://mast.stsci.edu/api/v0.1/Download/file?uri=mast:HLA/url/cgi-bin/preview.cgi?dataset=hst_10057_02_acs_wfc_fr388n_02 to ./mastDownload/HLA/hst_10057_02_acs_wfc_fr388n_02/hst_10057_02_acs_wfc_fr388n_02_drz.jpg ... [Done]\n",
      "Downloading URL https://mast.stsci.edu/api/v0.1/Download/file?uri=mast:HLA/url/cgi-bin/getdata.cgi?dataset=hst_10057_02_acs_wfc_fr388n_02_drz.fits to ./mastDownload/HLA/hst_10057_02_acs_wfc_fr388n_02/hst_10057_02_acs_wfc_fr388n_02_drz.fits ... [Done]\n",
      "Downloading URL https://mast.stsci.edu/api/v0.1/Download/file?uri=mast:HLA/url/cgi-bin/preview.cgi?dataset=hst_10057_02_acs_wfc_fr459m_01 to ./mastDownload/HLA/hst_10057_02_acs_wfc_fr459m_01/hst_10057_02_acs_wfc_fr459m_01_drz.jpg ... [Done]\n",
      "Downloading URL https://mast.stsci.edu/api/v0.1/Download/file?uri=mast:HLA/url/cgi-bin/getdata.cgi?dataset=hst_10057_02_acs_wfc_fr459m_01_drz.fits to ./mastDownload/HLA/hst_10057_02_acs_wfc_fr459m_01/hst_10057_02_acs_wfc_fr459m_01_drz.fits ... [Done]\n",
      "Downloading URL https://mast.stsci.edu/api/v0.1/Download/file?uri=mast:HLA/url/cgi-bin/preview.cgi?dataset=hst_10057_02_acs_wfc_fr459m_02 to ./mastDownload/HLA/hst_10057_02_acs_wfc_fr459m_02/hst_10057_02_acs_wfc_fr459m_02_drz.jpg ... [Done]\n",
      "Downloading URL https://mast.stsci.edu/api/v0.1/Download/file?uri=mast:HLA/url/cgi-bin/getdata.cgi?dataset=hst_10057_02_acs_wfc_fr459m_02_drz.fits to ./mastDownload/HLA/hst_10057_02_acs_wfc_fr459m_02/hst_10057_02_acs_wfc_fr459m_02_drz.fits ... [Done]\n",
      "Downloading URL https://mast.stsci.edu/api/v0.1/Download/file?uri=mast:HLA/url/cgi-bin/preview.cgi?dataset=hst_10057_02_acs_wfc_fr459m_03 to ./mastDownload/HLA/hst_10057_02_acs_wfc_fr459m_03/hst_10057_02_acs_wfc_fr459m_03_drz.jpg ... [Done]\n",
      "Downloading URL https://mast.stsci.edu/api/v0.1/Download/file?uri=mast:HLA/url/cgi-bin/getdata.cgi?dataset=hst_10057_02_acs_wfc_fr459m_03_drz.fits to ./mastDownload/HLA/hst_10057_02_acs_wfc_fr459m_03/hst_10057_02_acs_wfc_fr459m_03_drz.fits ... [Done]\n",
      "Downloading URL https://mast.stsci.edu/api/v0.1/Download/file?uri=mast:HLA/url/cgi-bin/preview.cgi?dataset=hst_10057_02_acs_wfc_fr505n_01 to ./mastDownload/HLA/hst_10057_02_acs_wfc_fr505n_01/hst_10057_02_acs_wfc_fr505n_01_drz.jpg ... [Done]\n",
      "Downloading URL https://mast.stsci.edu/api/v0.1/Download/file?uri=mast:HLA/url/cgi-bin/getdata.cgi?dataset=hst_10057_02_acs_wfc_fr505n_01_drz.fits to ./mastDownload/HLA/hst_10057_02_acs_wfc_fr505n_01/hst_10057_02_acs_wfc_fr505n_01_drz.fits ... [Done]\n",
      "Downloading URL https://mast.stsci.edu/api/v0.1/Download/file?uri=mast:HLA/url/cgi-bin/preview.cgi?dataset=hst_10057_02_acs_wfc_fr505n_02 to ./mastDownload/HLA/hst_10057_02_acs_wfc_fr505n_02/hst_10057_02_acs_wfc_fr505n_02_drz.jpg ... [Done]\n",
      "Downloading URL https://mast.stsci.edu/api/v0.1/Download/file?uri=mast:HLA/url/cgi-bin/getdata.cgi?dataset=hst_10057_02_acs_wfc_fr505n_02_drz.fits to ./mastDownload/HLA/hst_10057_02_acs_wfc_fr505n_02/hst_10057_02_acs_wfc_fr505n_02_drz.fits ... [Done]\n",
      "Downloading URL https://mast.stsci.edu/api/v0.1/Download/file?uri=mast:HLA/url/cgi-bin/preview.cgi?dataset=hst_10057_02_acs_wfc_fr656n_01 to ./mastDownload/HLA/hst_10057_02_acs_wfc_fr656n_01/hst_10057_02_acs_wfc_fr656n_01_drz.jpg ... [Done]\n",
      "Downloading URL https://mast.stsci.edu/api/v0.1/Download/file?uri=mast:HLA/url/cgi-bin/getdata.cgi?dataset=hst_10057_02_acs_wfc_fr656n_01_drz.fits to ./mastDownload/HLA/hst_10057_02_acs_wfc_fr656n_01/hst_10057_02_acs_wfc_fr656n_01_drz.fits ... [Done]\n"
     ]
    },
    {
     "name": "stdout",
     "output_type": "stream",
     "text": [
      "Downloading URL https://mast.stsci.edu/api/v0.1/Download/file?uri=mast:HLA/url/cgi-bin/preview.cgi?dataset=hst_10057_02_acs_wfc_fr656n_02 to ./mastDownload/HLA/hst_10057_02_acs_wfc_fr656n_02/hst_10057_02_acs_wfc_fr656n_02_drz.jpg ... [Done]\n",
      "Downloading URL https://mast.stsci.edu/api/v0.1/Download/file?uri=mast:HLA/url/cgi-bin/getdata.cgi?dataset=hst_10057_02_acs_wfc_fr656n_02_drz.fits to ./mastDownload/HLA/hst_10057_02_acs_wfc_fr656n_02/hst_10057_02_acs_wfc_fr656n_02_drz.fits ... [Done]\n",
      "Downloading URL https://mast.stsci.edu/api/v0.1/Download/file?uri=mast:HLA/url/cgi-bin/preview.cgi?dataset=hst_10057_02_acs_wfc_fr656n_03 to ./mastDownload/HLA/hst_10057_02_acs_wfc_fr656n_03/hst_10057_02_acs_wfc_fr656n_03_drz.jpg ... [Done]\n",
      "Downloading URL https://mast.stsci.edu/api/v0.1/Download/file?uri=mast:HLA/url/cgi-bin/getdata.cgi?dataset=hst_10057_02_acs_wfc_fr656n_03_drz.fits to ./mastDownload/HLA/hst_10057_02_acs_wfc_fr656n_03/hst_10057_02_acs_wfc_fr656n_03_drz.fits ... [Done]\n",
      "Downloading URL https://mast.stsci.edu/api/v0.1/Download/file?uri=mast:HLA/url/cgi-bin/preview.cgi?dataset=hst_10057_02_acs_wfc_fr914m_01 to ./mastDownload/HLA/hst_10057_02_acs_wfc_fr914m_01/hst_10057_02_acs_wfc_fr914m_01_drz.jpg ... [Done]\n",
      "Downloading URL https://mast.stsci.edu/api/v0.1/Download/file?uri=mast:HLA/url/cgi-bin/getdata.cgi?dataset=hst_10057_02_acs_wfc_fr914m_01_drz.fits to ./mastDownload/HLA/hst_10057_02_acs_wfc_fr914m_01/hst_10057_02_acs_wfc_fr914m_01_drz.fits ... [Done]\n",
      "Downloading URL https://mast.stsci.edu/api/v0.1/Download/file?uri=mast:HLA/url/cgi-bin/preview.cgi?dataset=hst_10057_02_acs_wfc_fr914m_02 to ./mastDownload/HLA/hst_10057_02_acs_wfc_fr914m_02/hst_10057_02_acs_wfc_fr914m_02_drz.jpg ... [Done]\n",
      "Downloading URL https://mast.stsci.edu/api/v0.1/Download/file?uri=mast:HLA/url/cgi-bin/getdata.cgi?dataset=hst_10057_02_acs_wfc_fr914m_02_drz.fits to ./mastDownload/HLA/hst_10057_02_acs_wfc_fr914m_02/hst_10057_02_acs_wfc_fr914m_02_drz.fits ... [Done]\n",
      "Downloading URL https://mast.stsci.edu/api/v0.1/Download/file?uri=mast:HLA/url/cgi-bin/preview.cgi?dataset=hst_10057_02_acs_wfc_fr914m_03 to ./mastDownload/HLA/hst_10057_02_acs_wfc_fr914m_03/hst_10057_02_acs_wfc_fr914m_03_drz.jpg ... [Done]\n",
      "Downloading URL https://mast.stsci.edu/api/v0.1/Download/file?uri=mast:HLA/url/cgi-bin/getdata.cgi?dataset=hst_10057_02_acs_wfc_fr914m_03_drz.fits to ./mastDownload/HLA/hst_10057_02_acs_wfc_fr914m_03/hst_10057_02_acs_wfc_fr914m_03_drz.fits ... [Done]\n",
      "Downloading URL https://mast.stsci.edu/api/v0.1/Download/file?uri=mast:HST/product/hst_10057_02_acs_wfc_fr388n_j8up02uw_trl.txt to ./mastDownload/HST/hst_10057_02_acs_wfc_fr388n_j8up02uw/hst_10057_02_acs_wfc_fr388n_j8up02uw_trl.txt ... [Done]\n",
      "Downloading URL https://mast.stsci.edu/api/v0.1/Download/file?uri=mast:HST/product/hst_10057_02_acs_wfc_fr388n_j8up02uw_flt.fits to ./mastDownload/HST/hst_10057_02_acs_wfc_fr388n_j8up02uw/hst_10057_02_acs_wfc_fr388n_j8up02uw_flt.fits ... [Done]\n",
      "Downloading URL https://mast.stsci.edu/api/v0.1/Download/file?uri=mast:HST/product/hst_10057_02_acs_wfc_fr459m_j8up02v7_trl.txt to ./mastDownload/HST/hst_10057_02_acs_wfc_fr459m_j8up02v7/hst_10057_02_acs_wfc_fr459m_j8up02v7_trl.txt ... [Done]\n",
      "Downloading URL https://mast.stsci.edu/api/v0.1/Download/file?uri=mast:HST/product/hst_10057_02_acs_wfc_fr459m_j8up02v7_flt.fits to ./mastDownload/HST/hst_10057_02_acs_wfc_fr459m_j8up02v7/hst_10057_02_acs_wfc_fr459m_j8up02v7_flt.fits ... [Done]\n",
      "Downloading URL https://mast.stsci.edu/api/v0.1/Download/file?uri=mast:HST/product/hst_10057_02_acs_wfc_fr914m_j8up02vb_trl.txt to ./mastDownload/HST/hst_10057_02_acs_wfc_fr914m_j8up02vb/hst_10057_02_acs_wfc_fr914m_j8up02vb_trl.txt ... [Done]\n",
      "Downloading URL https://mast.stsci.edu/api/v0.1/Download/file?uri=mast:HST/product/hst_10057_02_acs_wfc_fr914m_j8up02vb_flt.fits to ./mastDownload/HST/hst_10057_02_acs_wfc_fr914m_j8up02vb/hst_10057_02_acs_wfc_fr914m_j8up02vb_flt.fits ... [Done]\n",
      "Downloading URL https://mast.stsci.edu/api/v0.1/Download/file?uri=mast:HST/product/hst_10057_02_acs_wfc_fr459m_j8up02v5_trl.txt to ./mastDownload/HST/hst_10057_02_acs_wfc_fr459m_j8up02v5/hst_10057_02_acs_wfc_fr459m_j8up02v5_trl.txt ... [Done]\n",
      "Downloading URL https://mast.stsci.edu/api/v0.1/Download/file?uri=mast:HST/product/hst_10057_02_acs_wfc_fr459m_j8up02v5_flt.fits to ./mastDownload/HST/hst_10057_02_acs_wfc_fr459m_j8up02v5/hst_10057_02_acs_wfc_fr459m_j8up02v5_flt.fits ... [Done]\n",
      "Downloading URL https://mast.stsci.edu/api/v0.1/Download/file?uri=mast:HST/product/hst_10057_02_acs_wfc_fr656n_j8up02ut_trl.txt to ./mastDownload/HST/hst_10057_02_acs_wfc_fr656n_j8up02ut/hst_10057_02_acs_wfc_fr656n_j8up02ut_trl.txt ... [Done]\n",
      "Downloading URL https://mast.stsci.edu/api/v0.1/Download/file?uri=mast:HST/product/hst_10057_02_acs_wfc_fr656n_j8up02ut_flt.fits to ./mastDownload/HST/hst_10057_02_acs_wfc_fr656n_j8up02ut/hst_10057_02_acs_wfc_fr656n_j8up02ut_flt.fits ... [Done]\n",
      "Downloading URL https://mast.stsci.edu/api/v0.1/Download/file?uri=mast:HST/product/hst_10057_02_acs_wfc_fr914m_j8up02vd_trl.txt to ./mastDownload/HST/hst_10057_02_acs_wfc_fr914m_j8up02vd/hst_10057_02_acs_wfc_fr914m_j8up02vd_trl.txt ... [Done]\n",
      "Downloading URL https://mast.stsci.edu/api/v0.1/Download/file?uri=mast:HST/product/hst_10057_02_acs_wfc_fr914m_j8up02vd_flt.fits to ./mastDownload/HST/hst_10057_02_acs_wfc_fr914m_j8up02vd/hst_10057_02_acs_wfc_fr914m_j8up02vd_flt.fits ... [Done]\n",
      "Downloading URL https://mast.stsci.edu/api/v0.1/Download/file?uri=mast:HST/product/hst_10057_02_acs_wfc_fr505n_j8up02uy_trl.txt to ./mastDownload/HST/hst_10057_02_acs_wfc_fr505n_j8up02uy/hst_10057_02_acs_wfc_fr505n_j8up02uy_trl.txt ... [Done]\n",
      "Downloading URL https://mast.stsci.edu/api/v0.1/Download/file?uri=mast:HST/product/hst_10057_02_acs_wfc_fr505n_j8up02uy_flt.fits to ./mastDownload/HST/hst_10057_02_acs_wfc_fr505n_j8up02uy/hst_10057_02_acs_wfc_fr505n_j8up02uy_flt.fits ... [Done]\n",
      "Downloading URL https://mast.stsci.edu/api/v0.1/Download/file?uri=mast:HST/product/hst_10057_02_acs_wfc_fr914m_j8up02vc_trl.txt to ./mastDownload/HST/hst_10057_02_acs_wfc_fr914m_j8up02vc/hst_10057_02_acs_wfc_fr914m_j8up02vc_trl.txt ... [Done]\n",
      "Downloading URL https://mast.stsci.edu/api/v0.1/Download/file?uri=mast:HST/product/hst_10057_02_acs_wfc_fr914m_j8up02vc_flt.fits to ./mastDownload/HST/hst_10057_02_acs_wfc_fr914m_j8up02vc/hst_10057_02_acs_wfc_fr914m_j8up02vc_flt.fits ... [Done]\n",
      "Downloading URL https://mast.stsci.edu/api/v0.1/Download/file?uri=mast:HST/product/hst_10057_02_acs_wfc_fr656n_j8up02us_trl.txt to ./mastDownload/HST/hst_10057_02_acs_wfc_fr656n_j8up02us/hst_10057_02_acs_wfc_fr656n_j8up02us_trl.txt ... [Done]\n",
      "Downloading URL https://mast.stsci.edu/api/v0.1/Download/file?uri=mast:HST/product/hst_10057_02_acs_wfc_fr656n_j8up02us_flt.fits to ./mastDownload/HST/hst_10057_02_acs_wfc_fr656n_j8up02us/hst_10057_02_acs_wfc_fr656n_j8up02us_flt.fits ... [Done]\n",
      "Downloading URL https://mast.stsci.edu/api/v0.1/Download/file?uri=mast:HST/product/hst_10057_02_acs_wfc_fr656n_j8up02uu_trl.txt to ./mastDownload/HST/hst_10057_02_acs_wfc_fr656n_j8up02uu/hst_10057_02_acs_wfc_fr656n_j8up02uu_trl.txt ... [Done]\n",
      "Downloading URL https://mast.stsci.edu/api/v0.1/Download/file?uri=mast:HST/product/hst_10057_02_acs_wfc_fr656n_j8up02uu_flt.fits to ./mastDownload/HST/hst_10057_02_acs_wfc_fr656n_j8up02uu/hst_10057_02_acs_wfc_fr656n_j8up02uu_flt.fits ... [Done]\n",
      "Downloading URL https://mast.stsci.edu/api/v0.1/Download/file?uri=mast:HST/product/hst_10057_02_acs_wfc_fr388n_j8up02uv_trl.txt to ./mastDownload/HST/hst_10057_02_acs_wfc_fr388n_j8up02uv/hst_10057_02_acs_wfc_fr388n_j8up02uv_trl.txt ... [Done]\n",
      "Downloading URL https://mast.stsci.edu/api/v0.1/Download/file?uri=mast:HST/product/hst_10057_02_acs_wfc_fr388n_j8up02uv_flt.fits to ./mastDownload/HST/hst_10057_02_acs_wfc_fr388n_j8up02uv/hst_10057_02_acs_wfc_fr388n_j8up02uv_flt.fits ... [Done]\n",
      "Downloading URL https://mast.stsci.edu/api/v0.1/Download/file?uri=mast:HST/product/hst_10057_02_acs_wfc_fr505n_j8up02v0_trl.txt to ./mastDownload/HST/hst_10057_02_acs_wfc_fr505n_j8up02v0/hst_10057_02_acs_wfc_fr505n_j8up02v0_trl.txt ... [Done]\n",
      "Downloading URL https://mast.stsci.edu/api/v0.1/Download/file?uri=mast:HST/product/hst_10057_02_acs_wfc_fr505n_j8up02v0_flt.fits to ./mastDownload/HST/hst_10057_02_acs_wfc_fr505n_j8up02v0/hst_10057_02_acs_wfc_fr505n_j8up02v0_flt.fits ... [Done]\n",
      "Downloading URL https://mast.stsci.edu/api/v0.1/Download/file?uri=mast:HST/product/hst_10057_02_acs_wfc_fr459m_j8up02v9_trl.txt to ./mastDownload/HST/hst_10057_02_acs_wfc_fr459m_j8up02v9/hst_10057_02_acs_wfc_fr459m_j8up02v9_trl.txt ... [Done]\n",
      "Downloading URL https://mast.stsci.edu/api/v0.1/Download/file?uri=mast:HST/product/hst_10057_02_acs_wfc_fr459m_j8up02v9_flt.fits to ./mastDownload/HST/hst_10057_02_acs_wfc_fr459m_j8up02v9/hst_10057_02_acs_wfc_fr459m_j8up02v9_flt.fits ... [Done]\n"
     ]
    },
    {
     "data": {
      "text/html": [
       "<div><i>Table length=221</i>\n",
       "<table id=\"table140641677659824\" class=\"table-striped table-bordered table-condensed\">\n",
       "<thead><tr><th>Local Path</th><th>Status</th><th>Message</th><th>URL</th></tr></thead>\n",
       "<thead><tr><th>str102</th><th>str8</th><th>object</th><th>object</th></tr></thead>\n",
       "<tr><td>./mastDownload/HST/j8up02usq/j8up02usq_flt_hlet.fits</td><td>COMPLETE</td><td>None</td><td>None</td></tr>\n",
       "<tr><td>./mastDownload/HST/j8up02usq/j8up02usj_jif.fits</td><td>COMPLETE</td><td>None</td><td>None</td></tr>\n",
       "<tr><td>./mastDownload/HST/j8up02usq/j8up02usj_jit.fits</td><td>COMPLETE</td><td>None</td><td>None</td></tr>\n",
       "<tr><td>./mastDownload/HST/j8up02usq/j8up02usq_spt.fits</td><td>COMPLETE</td><td>None</td><td>None</td></tr>\n",
       "<tr><td>./mastDownload/HST/j8up02usq/j8up02usq_trl.fits</td><td>COMPLETE</td><td>None</td><td>None</td></tr>\n",
       "<tr><td>./mastDownload/HST/j8up02usq/j8up02usq_drz.jpg</td><td>COMPLETE</td><td>None</td><td>None</td></tr>\n",
       "<tr><td>./mastDownload/HST/j8up02usq/j8up02usq_raw.jpg</td><td>COMPLETE</td><td>None</td><td>None</td></tr>\n",
       "<tr><td>./mastDownload/HST/j8up02usq/j8up02usq_flt.jpg</td><td>COMPLETE</td><td>None</td><td>None</td></tr>\n",
       "<tr><td>./mastDownload/HST/j8up02usq/j8up02usq_raw.fits</td><td>COMPLETE</td><td>None</td><td>None</td></tr>\n",
       "<tr><td>./mastDownload/HST/j8up02usq/j8up02usq_drz.fits</td><td>COMPLETE</td><td>None</td><td>None</td></tr>\n",
       "<tr><td>...</td><td>...</td><td>...</td><td>...</td></tr>\n",
       "<tr><td>./mastDownload/HST/hst_10057_02_acs_wfc_fr656n_j8up02us/hst_10057_02_acs_wfc_fr656n_j8up02us_trl.txt</td><td>COMPLETE</td><td>None</td><td>None</td></tr>\n",
       "<tr><td>./mastDownload/HST/hst_10057_02_acs_wfc_fr656n_j8up02us/hst_10057_02_acs_wfc_fr656n_j8up02us_flt.fits</td><td>COMPLETE</td><td>None</td><td>None</td></tr>\n",
       "<tr><td>./mastDownload/HST/hst_10057_02_acs_wfc_fr656n_j8up02uu/hst_10057_02_acs_wfc_fr656n_j8up02uu_trl.txt</td><td>COMPLETE</td><td>None</td><td>None</td></tr>\n",
       "<tr><td>./mastDownload/HST/hst_10057_02_acs_wfc_fr656n_j8up02uu/hst_10057_02_acs_wfc_fr656n_j8up02uu_flt.fits</td><td>COMPLETE</td><td>None</td><td>None</td></tr>\n",
       "<tr><td>./mastDownload/HST/hst_10057_02_acs_wfc_fr388n_j8up02uv/hst_10057_02_acs_wfc_fr388n_j8up02uv_trl.txt</td><td>COMPLETE</td><td>None</td><td>None</td></tr>\n",
       "<tr><td>./mastDownload/HST/hst_10057_02_acs_wfc_fr388n_j8up02uv/hst_10057_02_acs_wfc_fr388n_j8up02uv_flt.fits</td><td>COMPLETE</td><td>None</td><td>None</td></tr>\n",
       "<tr><td>./mastDownload/HST/hst_10057_02_acs_wfc_fr505n_j8up02v0/hst_10057_02_acs_wfc_fr505n_j8up02v0_trl.txt</td><td>COMPLETE</td><td>None</td><td>None</td></tr>\n",
       "<tr><td>./mastDownload/HST/hst_10057_02_acs_wfc_fr505n_j8up02v0/hst_10057_02_acs_wfc_fr505n_j8up02v0_flt.fits</td><td>COMPLETE</td><td>None</td><td>None</td></tr>\n",
       "<tr><td>./mastDownload/HST/hst_10057_02_acs_wfc_fr459m_j8up02v9/hst_10057_02_acs_wfc_fr459m_j8up02v9_trl.txt</td><td>COMPLETE</td><td>None</td><td>None</td></tr>\n",
       "<tr><td>./mastDownload/HST/hst_10057_02_acs_wfc_fr459m_j8up02v9/hst_10057_02_acs_wfc_fr459m_j8up02v9_flt.fits</td><td>COMPLETE</td><td>None</td><td>None</td></tr>\n",
       "</table></div>"
      ],
      "text/plain": [
       "<Table length=221>\n",
       "                                              Local Path                                              ...\n",
       "                                                str102                                                ...\n",
       "----------------------------------------------------------------------------------------------------- ...\n",
       "                                                 ./mastDownload/HST/j8up02usq/j8up02usq_flt_hlet.fits ...\n",
       "                                                      ./mastDownload/HST/j8up02usq/j8up02usj_jif.fits ...\n",
       "                                                      ./mastDownload/HST/j8up02usq/j8up02usj_jit.fits ...\n",
       "                                                      ./mastDownload/HST/j8up02usq/j8up02usq_spt.fits ...\n",
       "                                                      ./mastDownload/HST/j8up02usq/j8up02usq_trl.fits ...\n",
       "                                                       ./mastDownload/HST/j8up02usq/j8up02usq_drz.jpg ...\n",
       "                                                       ./mastDownload/HST/j8up02usq/j8up02usq_raw.jpg ...\n",
       "                                                       ./mastDownload/HST/j8up02usq/j8up02usq_flt.jpg ...\n",
       "                                                      ./mastDownload/HST/j8up02usq/j8up02usq_raw.fits ...\n",
       "                                                      ./mastDownload/HST/j8up02usq/j8up02usq_drz.fits ...\n",
       "                                                                                                  ... ...\n",
       " ./mastDownload/HST/hst_10057_02_acs_wfc_fr656n_j8up02us/hst_10057_02_acs_wfc_fr656n_j8up02us_trl.txt ...\n",
       "./mastDownload/HST/hst_10057_02_acs_wfc_fr656n_j8up02us/hst_10057_02_acs_wfc_fr656n_j8up02us_flt.fits ...\n",
       " ./mastDownload/HST/hst_10057_02_acs_wfc_fr656n_j8up02uu/hst_10057_02_acs_wfc_fr656n_j8up02uu_trl.txt ...\n",
       "./mastDownload/HST/hst_10057_02_acs_wfc_fr656n_j8up02uu/hst_10057_02_acs_wfc_fr656n_j8up02uu_flt.fits ...\n",
       " ./mastDownload/HST/hst_10057_02_acs_wfc_fr388n_j8up02uv/hst_10057_02_acs_wfc_fr388n_j8up02uv_trl.txt ...\n",
       "./mastDownload/HST/hst_10057_02_acs_wfc_fr388n_j8up02uv/hst_10057_02_acs_wfc_fr388n_j8up02uv_flt.fits ...\n",
       " ./mastDownload/HST/hst_10057_02_acs_wfc_fr505n_j8up02v0/hst_10057_02_acs_wfc_fr505n_j8up02v0_trl.txt ...\n",
       "./mastDownload/HST/hst_10057_02_acs_wfc_fr505n_j8up02v0/hst_10057_02_acs_wfc_fr505n_j8up02v0_flt.fits ...\n",
       " ./mastDownload/HST/hst_10057_02_acs_wfc_fr459m_j8up02v9/hst_10057_02_acs_wfc_fr459m_j8up02v9_trl.txt ...\n",
       "./mastDownload/HST/hst_10057_02_acs_wfc_fr459m_j8up02v9/hst_10057_02_acs_wfc_fr459m_j8up02v9_flt.fits ..."
      ]
     },
     "execution_count": 40,
     "metadata": {},
     "output_type": "execute_result"
    }
   ],
   "source": [
    "download_tab = Observations.download_products(obs_table['obsid'], extension='fits')\n",
    "download_tab"
   ]
  },
  {
   "cell_type": "code",
   "execution_count": 43,
   "metadata": {},
   "outputs": [],
   "source": [
    "# os.makedirs('OrionNebulaHST')\n",
    "# os.chdir('OrionNebulaHST')\n",
    "# os.makedirs('FITS')\n",
    "# os.makedirs('images')\n",
    "# for file in download_tab['Local Path']:\n",
    "#     os.rename(file, os.path.basename(file))\n",
    "# shutil.rmtree('mastDownload')\n",
    "# !mv *fits FITS/\n",
    "# !mv *jpg images/\n",
    "# !mv *txt doc/"
   ]
  },
  {
   "cell_type": "markdown",
   "metadata": {},
   "source": [
    "At this point, all the FITS files live in the FITS directory, while pre-processed images are in images/. Take a moment to look through the images in your preferred image viewer. Next, we will load the FITS files and manipulate them."
   ]
  },
  {
   "cell_type": "markdown",
   "metadata": {},
   "source": [
    "## Assignment 1: \n",
    "Pull all available observations for the galaxy cluster Abell 2744, also known as Pandora's Cluster. Try your favourite object. If you query only by target name, do you get too many results? What filters might help you narrow down to the data most useful to your proposal? Besides images, what data types might serve you? "
   ]
  },
  {
   "cell_type": "code",
   "execution_count": null,
   "metadata": {},
   "outputs": [],
   "source": [
    "obs_table = Observations.query_object( `Fill out your query here` )\n"
   ]
  },
  {
   "cell_type": "markdown",
   "metadata": {},
   "source": [
    "### Inspecting the observations\n",
    "\n",
    "You will notice that the number of downloaded files far exceeds the number of observations collected in `obs_table`. To understand them, let us look into the one of the accompanying `.txt` files."
   ]
  },
  {
   "cell_type": "code",
   "execution_count": 56,
   "metadata": {},
   "outputs": [
    {
     "name": "stdout",
     "output_type": "stream",
     "text": [
      "2021330044237 INFO src=drizzlepac.hapsequencer- Run start time: 2021-11-26 04:42:37.777383\n",
      "2021330044237 INFO src=drizzlepac.hapsequencer- Parse the poller and determine what exposures need to be combined into separate products.\n",
      "\n",
      "2021330044237 INFO src=drizzlepac.haputils.poller_utils- Input image j8up02usq_flt.fits found in current working directory.\n",
      "2021330044237 INFO src=drizzlepac.haputils.poller_utils- Input image j8up02utq_flt.fits found in current working directory.\n",
      "2021330044237 INFO src=drizzlepac.haputils.poller_utils- Input image j8up02uuq_flt.fits found in current working directory.\n",
      "2021330044237 INFO src=drizzlepac.haputils.poller_utils- Input image j8up02uvq_flt.fits found in current working directory.\n",
      "2021330044237 INFO src=drizzlepac.haputils.poller_utils- Input image j8up02uwq_flt.fits found in current working directory.\n",
      "2021330044237 INFO src=drizzlepac.haputils.poller_utils- Input image j8up02uyq_flt.fits found in current working directory.\n",
      "2021330044237 INFO src=drizzlepac.haputils.poller_utils- Input image j8up02v0q_flt.fits found in current working directory.\n"
     ]
    }
   ],
   "source": [
    "with open('hst_10057_02_acs_wfc_fr388n_j8up02uv_trl.txt') as f:\n",
    "    a = f.readlines()\n",
    "    for line in a[:10]:\n",
    "        print(line.split('\\n')[0])"
   ]
  },
  {
   "cell_type": "markdown",
   "metadata": {},
   "source": [
    "This tells us that several files, j...fits, were collected at each observation and combined into one image per filter using `drizzlepac`. We can further use `drizzlepac` to combine all of these into a single composite image, deeper than any individual one.\n",
    "\n",
    "The Drizzle technique is a way of orienting all the images into exactly the same reference frame. This is crucial since the telescope shifts its pointing direction slightly all the time; in addition, different instruments on the telescope point in different directions. To align the images, we first need to find all the point sources in them, and then feed in the point source lists, along with the WCS coordinate information, to `drizzlepac`."
   ]
  },
  {
   "cell_type": "markdown",
   "metadata": {},
   "source": [
    "### File Information\n",
    "\n",
    "Each FITS file uses the Multi-Extension FITS (MEF) format, meaning that multiple each file contains multiple objects. The first object details how the file was processed, the second is the image, and subsequent files, if any, contain spectra and/or other data products. Inspecting the FITS files, we see that those with `drz` in the filename have already had AstroDrizzle run on them."
   ]
  },
  {
   "cell_type": "code",
   "execution_count": 2,
   "metadata": {},
   "outputs": [
    {
     "data": {
      "text/plain": [
       "SIMPLE  =                    T / conforms to FITS standard                      \n",
       "BITPIX  =                    8 / array data type                                \n",
       "NAXIS   =                    0 / number of array dimensions                     \n",
       "EXTEND  =                    T                                                  \n",
       "COMMENT   FITS (Flexible Image Transport System) format is defined in 'Astronomy\n",
       "COMMENT   and Astrophysics', volume 376, page 359; bibcode: 2001A&A...376..359H \n",
       "                                                                                \n",
       "TELESCOP= 'HST'                / telescope used to acquire data                 \n",
       "INSTRUME= 'ACS   '             / identifier for instrument used to acquire data \n",
       "                                                                                \n",
       "              / DATA DESCRIPTION KEYWORDS                                       \n",
       "                                                                                \n",
       "IMAGETYP= 'EXT               ' / type of exposure identifier                    \n",
       "PRIMESI = 'ACS   '             / instrument designated as prime                 \n",
       "                                                                                \n",
       "              / TARGET INFORMATION                                              \n",
       "                                                                                \n",
       "TARGNAME= 'ORIONNEBULA                   ' / proposer's target name             \n",
       "                                                                                \n",
       "              / PROPOSAL INFORMATION                                            \n",
       "                                                                                \n",
       "PROPOSID=                10057 / PEP proposal identifier                        \n",
       "                                                                                \n",
       "              / EXPOSURE INFORMATION                                            \n",
       "                                                                                \n",
       "SUNANGLE=           134.229706 / angle between sun and V1 axis                  \n",
       "MOONANGL=           137.298859 / angle between moon and V1 axis                 \n",
       "SUN_ALT =           -29.482069 / altitude of the sun above Earth's limb         \n",
       "FGSLOCK = 'FINE              ' / commanded FGS lock (FINE,COARSE,GYROS,UNKNOWN) \n",
       "GYROMODE= '3'                  / number of gyros scheduled, T=3+OBAD            \n",
       "                                                                                \n",
       "DATE-OBS= '2004-01-21'         / UT date of start of observation (yyyy-mm-dd)   \n",
       "EXPSTART=   5.302519178942E+04 / exposure start time (Modified Julian Date)     \n",
       "EXPEND  =   5.302519353747E+04 / exposure end time (Modified Julian Date)       \n",
       "EXPTIME =           150.000000 / exposure duration (seconds)--calculated        \n",
       "TEXPTIME=                150.0                                                  \n",
       "EXPFLAG = 'NORMAL       '      / Exposure interruption indicator                \n",
       "                                                                                \n",
       "DARKTIME=           153.110450 / fiducial pixel dark time (secs)                \n",
       "                                                                                \n",
       "              / POINTING INFORMATION                                            \n",
       "                                                                                \n",
       "                                                                                \n",
       "              / TARGET OFFSETS (POSTARGS)                                       \n",
       "                                                                                \n",
       "POSTARG1=             0.000000 / POSTARG in axis 1 direction                    \n",
       "POSTARG2=             0.000000 / POSTARG in axis 2 direction                    \n",
       "                                                                                \n",
       "              / DIAGNOSTIC KEYWORDS                                             \n",
       "                                                                                \n",
       "CSYS_VER= 'hstdp-2017.3'       / Calibration software system version id         \n",
       "                                                                                \n",
       "              / SCIENCE INSTRUMENT CONFIGURATION                                \n",
       "                                                                                \n",
       "OBSTYPE = 'IMAGING       '     / observation type - imaging or spectroscopic    \n",
       "OBSMODE = 'ACCUM     '         / operating mode                                 \n",
       "CTEIMAGE= 'NONE'               / type of Charge Transfer Image, if applicable   \n",
       "SCLAMP  = 'NONE          '     / lamp status, NONE or name of lamp which is on  \n",
       "NRPTEXP =                    1 / number of repeat exposures in set: default 1   \n",
       "SUBARRAY=                    T / data from a subarray (T) or full frame (F)     \n",
       "DETECTOR= 'WFC'                / detector in use: WFC, HRC, or SBC              \n",
       "FILTER1 = 'CLEAR1L           ' / element selected from filter wheel 1           \n",
       "FILTER2 = 'FR388N            ' / element selected from filter wheel 2           \n",
       "FW1OFFST=                    0 / computed filter wheel offset                   \n",
       "FW1ERROR=                    F / filter wheel position error flag               \n",
       "FW2OFFST=                    0 / computed filter wheel offset                   \n",
       "FW2ERROR=                    F / filter wheel position error flag               \n",
       "FWSOFFST=                    0 / computed filter wheel offset                   \n",
       "FWSERROR=                    F / filter wheel position error flag               \n",
       "LRFWAVE =          3727.000000 / proposed linear ramp filter wavelength         \n",
       "APERTURE= 'WFC1-MRAMP      '   / aperture name                                  \n",
       "PROPAPER= 'WFC1-MRAMP      '   / proposed aperture name                         \n",
       "DIRIMAGE= 'NONE     '          / direct image for grism or prism exposure       \n",
       "CTEDIR  = 'NONE    '           / CTE measurement direction: serial or parallel  \n",
       "CRSPLIT =                    1 / number of cosmic ray split exposures           \n",
       "                                                                                \n",
       "              / CALIBRATION SWITCHES: PERFORM, OMIT, COMPLETE                   \n",
       "                                                                                \n",
       "WRTERR  =                    T / write out error array extension                \n",
       "DQICORR = 'COMPLETE'           / data quality initialization                    \n",
       "ATODCORR= 'OMIT    '           / correct for A to D conversion errors           \n",
       "BLEVCORR= 'COMPLETE'           / subtract bias level computed from overscan img \n",
       "BIASCORR= 'COMPLETE'           / Subtract bias image                            \n",
       "FLSHCORR= 'OMIT    '           / post flash correction                          \n",
       "CRCORR  = 'OMIT    '           / combine observations to reject cosmic rays     \n",
       "EXPSCORR= 'COMPLETE'           / process individual observations after cr-reject\n",
       "SHADCORR= 'OMIT    '           / apply shutter shading correction               \n",
       "DARKCORR= 'COMPLETE'           / Subtract dark image                            \n",
       "FLATCORR= 'COMPLETE'           / flat field data                                \n",
       "PHOTCORR= 'COMPLETE'           / populate photometric header keywords           \n",
       "DRIZCORR= 'COMPLETE'           / drizzle processing                             \n",
       "SINKCORR= 'OMIT    '           / flag sink pixels                               \n",
       "                                                                                \n",
       "              / CALIBRATION REFERENCE FILES                                     \n",
       "                                                                                \n",
       "BPIXTAB = 'jref$n9p09145j_bpx.fits' / bad pixel table                           \n",
       "CCDTAB  = 'jref$o151506fj_ccd.fits' / CCD calibration parameters                \n",
       "ATODTAB = 'N/A     '           / analog to digital correction file              \n",
       "OSCNTAB = 'jref$17717071j_osc.fits' / CCD overscan table                        \n",
       "BIASFILE= 'jref$o231414gj_bia.fits' / bias image file name                      \n",
       "FLSHFILE= 'N/A     '           / post flash correction file name                \n",
       "CRREJTAB= 'N/A     '           / cosmic ray rejection parameters                \n",
       "SHADFILE= 'N/A     '           / shutter shading correction file                \n",
       "DARKFILE= 'jref$o231836qj_drk.fits' / dark image file name                      \n",
       "DFLTFILE= 'N/A                    ' / delta flat field file name                \n",
       "LFLTFILE= 'N/A                    ' / low order flat                            \n",
       "PHOTTAB = 'N/A                    ' / Photometric throughput table              \n",
       "GRAPHTAB= 'N/A                    ' / the HST graph table                       \n",
       "COMPTAB = 'N/A                    ' / the HST components table                  \n",
       "IDCTAB  = 'jref$0461802ej_idc.fits' / image distortion correction table         \n",
       "DGEOFILE= 'N/A     '           / Distortion correction image                    \n",
       "MDRIZTAB= 'jref$16r12191j_mdz.fits' / MultiDrizzle parameter table              \n",
       "CFLTFILE= 'N/A     '           / Coronagraphic spot image                       \n",
       "SPOTTAB = 'N/A     '           / Coronagraphic spot offset table                \n",
       "IMPHTTAB= 'jref$08b18470j_imp.fits' / Image Photometry Table                    \n",
       "SNKCFILE= 'N/A     '           / Map of sink pixels                             \n",
       "                                                                                \n",
       "              / COSMIC RAY REJECTION ALGORITHM PARAMETERS                       \n",
       "                                                                                \n",
       "MEANEXP =             0.000000 / reference exposure time for parameters         \n",
       "SCALENSE=             0.000000 / multiplicative scale factor applied to noise   \n",
       "SKYSUB  = '    '               / sky value subtracted (MODE or NONE)            \n",
       "SKYSUM  =                  0.0 / sky level from the sum of all constituent image\n",
       "CRRADIUS=             0.000000 / rejection propagation radius (pixels)          \n",
       "CRTHRESH=             0.000000 / rejection propagation threshold                \n",
       "BADINPDQ=                    0 / data quality flag bits to reject               \n",
       "REJ_RATE=                  0.0 / rate at which pixels are affected by cosmic ray\n",
       "CRMASK  =                    F / flag CR-rejected pixels in input files (T/F)   \n",
       "                                                                                \n",
       "              / OTFR KEYWORDS                                                   \n",
       "                                                                                \n",
       "                                                                                \n",
       "              / PATTERN KEYWORDS                                                \n",
       "                                                                                \n",
       "PATTERN1= 'NONE                    ' / primary pattern type                     \n",
       "P1_SHAPE= '                  ' / primary pattern shape                          \n",
       "P1_PURPS= '          '         / primary pattern purpose                        \n",
       "P1_NPTS =                    0 / number of points in primary pattern            \n",
       "P1_PSPAC=             0.000000 / point spacing for primary pattern (arc-sec)    \n",
       "P1_LSPAC=             0.000000 / line spacing for primary pattern (arc-sec)     \n",
       "P1_ANGLE=             0.000000 / angle between sides of parallelogram patt (deg)\n",
       "P1_FRAME= '         '          / coordinate frame of primary pattern            \n",
       "P1_ORINT=             0.000000 / orientation of pattern to coordinate frame (deg\n",
       "P1_CENTR= '   '                / center pattern relative to pointing (yes/no)   \n",
       "PATTSTEP=                    0 / position number of this point in the pattern   \n",
       "                                                                                \n",
       "              / POST FLASH  PARAMETERS                                          \n",
       "                                                                                \n",
       "FLASHDUR=                  0.0 / Exposure time in seconds: 0.1 to 409.5         \n",
       "FLASHCUR= 'OFF '               / Post flash current: OFF, LOW, MED, HIGH        \n",
       "FLASHSTA= 'NOT PERFORMED   '   / Status: SUCCESSFUL, ABORTED, NOT PERFORMED     \n",
       "SHUTRPOS= 'B    '              / Shutter position: A or B                       \n",
       "                                                                                \n",
       "              / ENGINEERING PARAMETERS                                          \n",
       "                                                                                \n",
       "CCDGAIN =                    1 / commanded gain of CCD                          \n",
       "CCDOFSTA=                    3 / commanded CCD bias offset for amplifier A      \n",
       "CCDOFSTB=                    3 / commanded CCD bias offset for amplifier B      \n",
       "CCDOFSTC=                    3 / commanded CCD bias offset for amplifier C      \n",
       "CCDOFSTD=                    3 / commanded CCD bias offset for amplifier D      \n",
       "                                                                                \n",
       "              / CALIBRATED ENGINEERING PARAMETERS                               \n",
       "                                                                                \n",
       "ATODGNA =        0.0000000E+00 / calibrated gain for amplifier A                \n",
       "ATODGNB =        9.7210002E-01 / calibrated gain for amplifier B                \n",
       "ATODGNC =        0.0000000E+00 / calibrated gain for amplifier C                \n",
       "ATODGND =        0.0000000E+00 / calibrated gain for amplifier D                \n",
       "READNSEA=        0.0000000E+00 / calibrated read noise for amplifier A          \n",
       "READNSEB=        4.8499999E+00 / calibrated read noise for amplifier B          \n",
       "READNSEC=        0.0000000E+00 / calibrated read noise for amplifier C          \n",
       "READNSED=        0.0000000E+00 / calibrated read noise for amplifier D          \n",
       "                                                                                \n",
       "              / ASSOCIATION KEYWORDS                                            \n",
       "                                                                                \n",
       "CRDS_CTX= 'hst_0589.pmap'                                                       \n",
       "CRDS_VER= '7.1.5, 7.1.5, 3548bc1'                                               \n",
       "UPWCSVER= '1.3.2   '           / Version of STWCS used to updated the WCS       \n",
       "PYWCSVER= '1.3.3   '           / Version of PYWCS used to updated the WCS       \n",
       "DISTNAME= 'j8up02uvq_0461802ej-NOMODEL-02c1450oj'                               \n",
       "SIPNAME = 'j8up02uvq_0461802ej'                                                 \n",
       "RULESVER=                  1.1 / Version ID for header kw rules file            \n",
       "BLENDVER= '1.2.0   '           / Version of blendheader software used           \n",
       "RULEFILE= '/hstopsa/local/pkgs/miniconda3/envs/hstdp-2017.3/lib/python3.5/site&'\n",
       "CONTINUE  '-packages/fitsblender/acs_header.rules&'                             \n",
       "CONTINUE  '' / Name of header kw rules file                                     \n",
       "NEXTEND =                    4                                                  \n",
       "FILENAME= 'j8up02uvq_drz.fits'                                                  \n",
       "PROD_VER= 'DrizzlePac 2.1.17'                                                   \n",
       "ROOTNAME= 'j8up02uvq'                                                           \n",
       "ASN_MTYP= 'PROD-DTH'                                                            \n",
       "NDRIZIM =                    1 / Drizzle, No. images drizzled onto output       \n",
       "D001COEF= 'SIP     '           / Drizzle, source of coefficients                \n",
       "D001SCAL=                 0.05 / Drizzle, pixel size (arcsec) of output image   \n",
       "D001ISCL=                 0.05 / Drizzle, default IDCTAB pixel size(arcsec)     \n",
       "D001OUWE= 'j8up02uvq_drz_wht.fits' / Drizzle, output weighting image            \n",
       "D001OUUN= 'cps     '           / Drizzle, units of output image - counts or cps \n",
       "D001FVAL= 'INDEF   '           / Drizzle, fill value for zero weight output pix \n",
       "D001WKEY= '' / Input image WCS Version used                                     \n",
       "D001PIXF=                  1.0 / Drizzle, linear size of drop                   \n",
       "D001KERN= 'square  '           / Drizzle, form of weight distribution kernel    \n",
       "D001GEOM= 'wcs     '           / Drizzle, source of geometric information       \n",
       "D001OUDA= 'j8up02uvq_drz.fits' / Drizzle, output data image                     \n",
       "D001DATA= 'j8up02uvq_flt.fits[sci,1]' / Drizzle, input data image               \n",
       "D001MASK= 'j8up02uvq_sci1_final_mask.fits' / Drizzle, input weighting image     \n",
       "D001OUCO= 'j8up02uvq_drz_ctx.fits' / Drizzle, output context image              \n",
       "D001DEXP=                150.0 / Drizzle, input image exposure time (s)         \n",
       "D001VER = 'Callable C-based DRIZZLE Version 0.8 (20th M' / Drizzle, task version\n",
       "D001WTSC=                    1 / Drizzle, weighting factor for input image      \n",
       "HISTORY CCD parameters table:                                                   \n",
       "HISTORY   reference table jref$o151506fj_ccd.fits                               \n",
       "HISTORY     inflight                                                            \n",
       "HISTORY     June 2002                                                           \n",
       "HISTORY DQICORR complete ...                                                    \n",
       "HISTORY   values checked for saturation                                         \n",
       "HISTORY   DQ array initialized ...                                              \n",
       "HISTORY   reference table jref$n9p09145j_bpx.fits                               \n",
       "HISTORY BIASCORR complete ...                                                   \n",
       "HISTORY   reference image jref$o231414gj_bia.fits                               \n",
       "HISTORY     INFLIGHT 19/01/2004 25/01/2004                                      \n",
       "HISTORY     Created by ACSREF pipeline from proposal(s) 10059                   \n",
       "HISTORY BLEVCORR complete; bias level from overscan was subtracted.             \n",
       "HISTORY BLEVCORR does not include correction for drift along lines.             \n",
       "HISTORY   Overscan region table:                                                \n",
       "HISTORY   reference table jref$17717071j_osc.fits                               \n",
       "HISTORY Uncertainty array initialized.                                          \n",
       "HISTORY CCD parameters table:                                                   \n",
       "HISTORY   reference table jref$o151506fj_ccd.fits                               \n",
       "HISTORY     inflight                                                            \n",
       "HISTORY     June 2002                                                           \n",
       "HISTORY DARKCORR complete ...                                                   \n",
       "HISTORY   reference image jref$o231836qj_drk.fits                               \n",
       "HISTORY     INFLIGHT 21/01/2004 21/01/2004                                      \n",
       "HISTORY     Created by ACSREF pipeline from proposal(s) 10059                   \n",
       "HISTORY FLATCORR complete ...                                                   \n",
       "HISTORY   reference image jref$m3q0838ij_pfl.fits                               \n",
       "HISTORY     GROUND                                                              \n",
       "HISTORY     GROUND CCD P-FLAT from 2001 data                                    \n",
       "HISTORY PHOTCORR complete ...                                                   \n",
       "HISTORY   reference table jref$08b18470j_imp.fits                               \n",
       "HISTORY EXPSCORR complete ...                                                   \n",
       "HISTORY ============================================================            \n",
       "HISTORY Header Generation rules:                                                \n",
       "HISTORY     Rules used to combine headers of input files                        \n",
       "HISTORY     Start of rules...                                                   \n",
       "HISTORY ------------------------------------------------------------            \n",
       "HISTORY !VERSION = 1.1                                                          \n",
       "HISTORY !INSTRUMENT = ACS                                                       \n",
       "HISTORY ROOTNAME                                                                \n",
       "HISTORY EXTNAME                                                                 \n",
       "HISTORY EXTVER                                                                  \n",
       "HISTORY A_0_2                                                                   \n",
       "HISTORY A_0_3                                                                   \n",
       "HISTORY A_0_4                                                                   \n",
       "HISTORY A_1_1                                                                   \n",
       "HISTORY A_1_2                                                                   \n",
       "HISTORY A_1_3                                                                   \n",
       "HISTORY A_2_0                                                                   \n",
       "HISTORY A_2_1                                                                   \n",
       "HISTORY A_2_2                                                                   \n",
       "HISTORY A_3_0                                                                   \n",
       "HISTORY A_3_1                                                                   \n",
       "HISTORY A_4_0                                                                   \n",
       "HISTORY ACQNAME                                                                 \n",
       "HISTORY A_ORDER                                                                 \n",
       "HISTORY APERTURE                                                                \n",
       "HISTORY ASN_ID                                                                  \n",
       "HISTORY ASN_MTYP                                                                \n",
       "HISTORY ASN_TAB                                                                 \n",
       "HISTORY ATODCORR                                                                \n",
       "HISTORY ATODGNA                                                                 \n",
       "HISTORY ATODGNB                                                                 \n",
       "HISTORY ATODGNC                                                                 \n",
       "HISTORY ATODGND                                                                 \n",
       "HISTORY ATODTAB                                                                 \n",
       "HISTORY B_0_2                                                                   \n",
       "HISTORY B_0_3                                                                   \n",
       "HISTORY B_0_4                                                                   \n",
       "HISTORY B_1_1                                                                   \n",
       "HISTORY B_1_2                                                                   \n",
       "HISTORY B_1_3                                                                   \n",
       "HISTORY B_2_0                                                                   \n",
       "HISTORY B_2_1                                                                   \n",
       "HISTORY B_2_2                                                                   \n",
       "HISTORY B_3_0                                                                   \n",
       "HISTORY B_3_1                                                                   \n",
       "HISTORY B_4_0                                                                   \n",
       "HISTORY BADINPDQ                                                                \n",
       "HISTORY BIASCORR                                                                \n",
       "HISTORY BIASFILE                                                                \n",
       "HISTORY BIASLEVA                                                                \n",
       "HISTORY BIASLEVB                                                                \n",
       "HISTORY BIASLEVC                                                                \n",
       "HISTORY BIASLEVD                                                                \n",
       "HISTORY BINAXIS1                                                                \n",
       "HISTORY BINAXIS2                                                                \n",
       "HISTORY BITPIX                                                                  \n",
       "HISTORY BLEVCORR                                                                \n",
       "HISTORY B_ORDER                                                                 \n",
       "HISTORY BPIXTAB                                                                 \n",
       "HISTORY BUNIT                                                                   \n",
       "HISTORY CAL_VER                                                                 \n",
       "HISTORY CBLKSIZ                                                                 \n",
       "HISTORY CCDAMP                                                                  \n",
       "HISTORY CCDCHIP                                                                 \n",
       "HISTORY CCDGAIN                                                                 \n",
       "HISTORY CCDOFSTA                                                                \n",
       "HISTORY CCDOFSTB                                                                \n",
       "HISTORY CCDOFSTC                                                                \n",
       "HISTORY CCDOFSTD                                                                \n",
       "HISTORY CCDTAB                                                                  \n",
       "HISTORY CD1_1                                                                   \n",
       "HISTORY CD1_2                                                                   \n",
       "HISTORY CD2_1                                                                   \n",
       "HISTORY CD2_2                                                                   \n",
       "HISTORY CENTERA1                                                                \n",
       "HISTORY CENTERA2                                                                \n",
       "HISTORY CFLTFILE                                                                \n",
       "HISTORY COMPTAB                                                                 \n",
       "HISTORY COMPTYP                                                                 \n",
       "HISTORY CRCORR                                                                  \n",
       "HISTORY CRMASK                                                                  \n",
       "HISTORY CRPIX1                                                                  \n",
       "HISTORY CRPIX2                                                                  \n",
       "HISTORY CRRADIUS                                                                \n",
       "HISTORY CRREJTAB                                                                \n",
       "HISTORY CRSIGMAS                                                                \n",
       "HISTORY CRSPLIT                                                                 \n",
       "HISTORY CRTHRESH                                                                \n",
       "HISTORY CRVAL1                                                                  \n",
       "HISTORY CRVAL2                                                                  \n",
       "HISTORY CTE_NAME                                                                \n",
       "HISTORY CTE_VER                                                                 \n",
       "HISTORY CTEDIR                                                                  \n",
       "HISTORY CTEIMAGE                                                                \n",
       "HISTORY CTYPE1                                                                  \n",
       "HISTORY CTYPE2                                                                  \n",
       "HISTORY D2IMFILE                                                                \n",
       "HISTORY DARKCORR                                                                \n",
       "HISTORY DARKFILE                                                                \n",
       "HISTORY DATE                                                                    \n",
       "HISTORY DATE-OBS                                                                \n",
       "HISTORY DEC_APER                                                                \n",
       "HISTORY DEC_TARG                                                                \n",
       "HISTORY DETECTOR                                                                \n",
       "HISTORY DFLTFILE                                                                \n",
       "HISTORY DGEOFILE                                                                \n",
       "HISTORY DIRIMAGE                                                                \n",
       "HISTORY DQICORR                                                                 \n",
       "HISTORY DRIZCORR                                                                \n",
       "HISTORY DRKCFILE                                                                \n",
       "HISTORY EQUINOX                                                                 \n",
       "HISTORY ERRCNT                                                                  \n",
       "HISTORY EXPEND                                                                  \n",
       "HISTORY EXPFLAG                                                                 \n",
       "HISTORY EXPNAME                                                                 \n",
       "HISTORY EXPSCORR                                                                \n",
       "HISTORY EXPSTART                                                                \n",
       "HISTORY EXPTIME                                                                 \n",
       "HISTORY EXTEND                                                                  \n",
       "HISTORY FGSLOCK                                                                 \n",
       "HISTORY FILENAME                                                                \n",
       "HISTORY FILETYPE                                                                \n",
       "HISTORY FILLCNT                                                                 \n",
       "HISTORY FILTER1                                                                 \n",
       "HISTORY FILTER2                                                                 \n",
       "HISTORY FLASHCUR                                                                \n",
       "HISTORY FLASHDUR                                                                \n",
       "HISTORY FLASHSTA                                                                \n",
       "HISTORY FLATCORR                                                                \n",
       "HISTORY FLSHCORR                                                                \n",
       "HISTORY FLSHFILE                                                                \n",
       "HISTORY FW1ERROR                                                                \n",
       "HISTORY FW1OFFST                                                                \n",
       "HISTORY FW2ERROR                                                                \n",
       "HISTORY FW2OFFST                                                                \n",
       "HISTORY FWSERROR                                                                \n",
       "HISTORY FWSOFFST                                                                \n",
       "HISTORY GCOUNT                                                                  \n",
       "HISTORY GLINCORR                                                                \n",
       "HISTORY GLOBLIM                                                                 \n",
       "HISTORY GLOBRATE                                                                \n",
       "HISTORY GOODMAX                                                                 \n",
       "HISTORY GOODMEAN                                                                \n",
       "HISTORY GOODMIN                                                                 \n",
       "HISTORY GRAPHTAB                                                                \n",
       "HISTORY GYROMODE                                                                \n",
       "HISTORY IDCSCALE                                                                \n",
       "HISTORY IDCTAB                                                                  \n",
       "HISTORY IDCTHETA                                                                \n",
       "HISTORY IDCV2REF                                                                \n",
       "HISTORY IDCV3REF                                                                \n",
       "HISTORY IMAGETYP                                                                \n",
       "HISTORY IMPHTTAB                                                                \n",
       "HISTORY INHERIT                                                                 \n",
       "HISTORY INITGUES                                                                \n",
       "HISTORY INSTRUME                                                                \n",
       "HISTORY JWROTYPE                                                                \n",
       "HISTORY LFLGCORR                                                                \n",
       "HISTORY LFLTFILE                                                                \n",
       "HISTORY LINENUM                                                                 \n",
       "HISTORY LOSTPIX                                                                 \n",
       "HISTORY LRC_FAIL                                                                \n",
       "HISTORY LRC_XSTS                                                                \n",
       "HISTORY LRFWAVE                                                                 \n",
       "HISTORY LTM1_1                                                                  \n",
       "HISTORY LTM2_2                                                                  \n",
       "HISTORY LTV1                                                                    \n",
       "HISTORY LTV2                                                                    \n",
       "HISTORY MDECODT1                                                                \n",
       "HISTORY MDECODT2                                                                \n",
       "HISTORY MDRIZSKY                                                                \n",
       "HISTORY MDRIZTAB                                                                \n",
       "HISTORY MEANBLEV                                                                \n",
       "HISTORY MEANDARK                                                                \n",
       "HISTORY MEANEXP                                                                 \n",
       "HISTORY MEANFLSH                                                                \n",
       "HISTORY MLINTAB                                                                 \n",
       "HISTORY MOFFSET1                                                                \n",
       "HISTORY MOFFSET2                                                                \n",
       "HISTORY MOONANGL                                                                \n",
       "HISTORY MTFLAG                                                                  \n",
       "HISTORY NAXIS                                                                   \n",
       "HISTORY NAXIS1                                                                  \n",
       "HISTORY NAXIS2                                                                  \n",
       "HISTORY NCOMBINE                                                                \n",
       "HISTORY NEXTEND                                                                 \n",
       "HISTORY NGOODPIX                                                                \n",
       "HISTORY NPOLFILE                                                                \n",
       "HISTORY NRPTEXP                                                                 \n",
       "HISTORY OBSMODE                                                                 \n",
       "HISTORY OBSTYPE                                                                 \n",
       "HISTORY OCD1_1                                                                  \n",
       "HISTORY OCD1_2                                                                  \n",
       "HISTORY OCD2_1                                                                  \n",
       "HISTORY OCD2_2                                                                  \n",
       "HISTORY OCRPIX1                                                                 \n",
       "HISTORY OCRPIX2                                                                 \n",
       "HISTORY OCRVAL1                                                                 \n",
       "HISTORY OCRVAL2                                                                 \n",
       "HISTORY OCTYPE1                                                                 \n",
       "HISTORY OCTYPE2                                                                 \n",
       "HISTORY OCX10                                                                   \n",
       "HISTORY OCX11                                                                   \n",
       "HISTORY OCY10                                                                   \n",
       "HISTORY OCY11                                                                   \n",
       "HISTORY ONAXIS1                                                                 \n",
       "HISTORY ONAXIS2                                                                 \n",
       "HISTORY OORIENTA                                                                \n",
       "HISTORY OPUS_VER                                                                \n",
       "HISTORY ORIENTAT                                                                \n",
       "HISTORY ORIGIN                                                                  \n",
       "HISTORY OSCNTAB                                                                 \n",
       "HISTORY P1_ANGLE                                                                \n",
       "HISTORY P1_CENTR                                                                \n",
       "HISTORY P1_FRAME                                                                \n",
       "HISTORY P1_LSPAC                                                                \n",
       "HISTORY P1_NPTS                                                                 \n",
       "HISTORY P1_ORINT                                                                \n",
       "HISTORY P1_PSPAC                                                                \n",
       "HISTORY P1_PURPS                                                                \n",
       "HISTORY P1_SHAPE                                                                \n",
       "HISTORY PA_APER                                                                 \n",
       "HISTORY PATTERN1                                                                \n",
       "HISTORY PATTSTEP                                                                \n",
       "HISTORY PA_V3                                                                   \n",
       "HISTORY PCOUNT                                                                  \n",
       "HISTORY PCTECORR                                                                \n",
       "HISTORY PCTEFRAC                                                                \n",
       "HISTORY PCTENSMD                                                                \n",
       "HISTORY PCTERNCL                                                                \n",
       "HISTORY PCTESHFT                                                                \n",
       "HISTORY PCTESMIT                                                                \n",
       "HISTORY PCTETAB                                                                 \n",
       "HISTORY PFLTFILE                                                                \n",
       "HISTORY PHOTBW                                                                  \n",
       "HISTORY PHOTCORR                                                                \n",
       "HISTORY PHOTFLAM                                                                \n",
       "HISTORY PHOTMODE                                                                \n",
       "HISTORY PHOTPLAM                                                                \n",
       "HISTORY PHOTTAB                                                                 \n",
       "HISTORY PHOTZPT                                                                 \n",
       "HISTORY PODPSFF                                                                 \n",
       "HISTORY POSTARG1                                                                \n",
       "HISTORY POSTARG2                                                                \n",
       "HISTORY PRIMESI                                                                 \n",
       "HISTORY PR_INV_F                                                                \n",
       "HISTORY PR_INV_L                                                                \n",
       "HISTORY PR_INV_M                                                                \n",
       "HISTORY PROCTIME                                                                \n",
       "HISTORY PROPAPER                                                                \n",
       "HISTORY PROPOSID                                                                \n",
       "HISTORY QUALCOM1                                                                \n",
       "HISTORY QUALCOM2                                                                \n",
       "HISTORY QUALCOM3                                                                \n",
       "HISTORY QUALITY                                                                 \n",
       "HISTORY RA_APER                                                                 \n",
       "HISTORY RA_TARG                                                                 \n",
       "HISTORY READNSEA                                                                \n",
       "HISTORY READNSEB                                                                \n",
       "HISTORY READNSEC                                                                \n",
       "HISTORY READNSED                                                                \n",
       "HISTORY REFFRAME                                                                \n",
       "HISTORY REJ_RATE                                                                \n",
       "HISTORY RPTCORR                                                                 \n",
       "HISTORY SCALENSE                                                                \n",
       "HISTORY SCLAMP                                                                  \n",
       "HISTORY SDQFLAGS                                                                \n",
       "HISTORY SHADCORR                                                                \n",
       "HISTORY SHADFILE                                                                \n",
       "HISTORY SHUTRPOS                                                                \n",
       "HISTORY SIMPLE                                                                  \n",
       "HISTORY SIZAXIS1                                                                \n",
       "HISTORY SIZAXIS2                                                                \n",
       "HISTORY SKYSUB                                                                  \n",
       "HISTORY SKYSUM                                                                  \n",
       "HISTORY SNRMAX                                                                  \n",
       "HISTORY SNRMEAN                                                                 \n",
       "HISTORY SNRMIN                                                                  \n",
       "HISTORY SOFTERRS                                                                \n",
       "HISTORY SPOTTAB                                                                 \n",
       "HISTORY STATFLAG                                                                \n",
       "HISTORY STDCFFF                                                                 \n",
       "HISTORY STDCFFP                                                                 \n",
       "HISTORY SUBARRAY                                                                \n",
       "HISTORY SUN_ALT                                                                 \n",
       "HISTORY SUNANGLE                                                                \n",
       "HISTORY TARGNAME                                                                \n",
       "HISTORY TDDALPHA                                                                \n",
       "HISTORY TDDBETA                                                                 \n",
       "HISTORY TELESCOP                                                                \n",
       "HISTORY TIME-OBS                                                                \n",
       "HISTORY T_SGSTAR                                                                \n",
       "HISTORY VAFACTOR                                                                \n",
       "HISTORY WCSAXES                                                                 \n",
       "HISTORY WCSCDATE                                                                \n",
       "HISTORY WFCMPRSD                                                                \n",
       "HISTORY WRTERR                                                                  \n",
       "HISTORY XTENSION                                                                \n",
       "HISTORY WCSNAMEO                                                                \n",
       "HISTORY WCSAXESO                                                                \n",
       "HISTORY LONPOLEO                                                                \n",
       "HISTORY LATPOLEO                                                                \n",
       "HISTORY RESTFRQO                                                                \n",
       "HISTORY RESTWAVO                                                                \n",
       "HISTORY CD1_1O                                                                  \n",
       "HISTORY CD1_2O                                                                  \n",
       "HISTORY CD2_1O                                                                  \n",
       "HISTORY CD2_2O                                                                  \n",
       "HISTORY CDELT1O                                                                 \n",
       "HISTORY CDELT2O                                                                 \n",
       "HISTORY CRPIX1O                                                                 \n",
       "HISTORY CRPIX2O                                                                 \n",
       "HISTORY CRVAL1O                                                                 \n",
       "HISTORY CRVAL2O                                                                 \n",
       "HISTORY CTYPE1O                                                                 \n",
       "HISTORY CTYPE2O                                                                 \n",
       "HISTORY CUNIT1O                                                                 \n",
       "HISTORY CUNIT2O                                                                 \n",
       "HISTORY APERTURE  APERTURE  multi                                               \n",
       "HISTORY DETECTOR  DETECTOR  first                                               \n",
       "HISTORY EXPEND    EXPEND    max                                                 \n",
       "HISTORY EXPSTART  EXPSTART  min                                                 \n",
       "HISTORY EXPTIME   TEXPTIME  sum                                                 \n",
       "HISTORY EXPTIME   EXPTIME   sum                                                 \n",
       "HISTORY FILTER1   FILTER1   multi                                               \n",
       "HISTORY FILTER2   FILTER2   multi                                               \n",
       "HISTORY GOODMAX   GOODMAX   max                                                 \n",
       "HISTORY GOODMEAN  GOODMEAN  mean                                                \n",
       "HISTORY GOODMIN   GOODMIN   min                                                 \n",
       "HISTORY INHERIT   INHERIT   first # maintain IRAF compatibility                 \n",
       "HISTORY INSTRUME  INSTRUME  first                                               \n",
       "HISTORY LRFWAVE   LRFWAVE   first                                               \n",
       "HISTORY NCOMBINE  NCOMBINE  sum                                                 \n",
       "HISTORY MDRIZSKY  MDRIZSKY  mean                                                \n",
       "HISTORY PHOTBW    PHOTBW    mean                                                \n",
       "HISTORY PHOTFLAM  PHOTFLAM  mean                                                \n",
       "HISTORY PHOTMODE  PHOTMODE  first                                               \n",
       "HISTORY PHOTPLAM  PHOTPLAM  mean                                                \n",
       "HISTORY PHOTZPT   PHOTZPT   mean                                                \n",
       "HISTORY PROPOSID  PROPOSID  first                                               \n",
       "HISTORY SNRMAX    SNRMAX    max                                                 \n",
       "HISTORY SNRMEAN   SNRMEAN   mean                                                \n",
       "HISTORY SNRMIN    SNRMIN    min                                                 \n",
       "HISTORY TARGNAME  TARGNAME  first                                               \n",
       "HISTORY TELESCOP  TELESCOP  first                                               \n",
       "HISTORY ATODCORR  ATODCORR  multi                                               \n",
       "HISTORY ATODGNA   ATODGNA   first                                               \n",
       "HISTORY ATODGNB   ATODGNB   first                                               \n",
       "HISTORY ATODGNC   ATODGNC   first                                               \n",
       "HISTORY ATODGND   ATODGND   first                                               \n",
       "HISTORY ATODTAB   ATODTAB   multi                                               \n",
       "HISTORY BADINPDQ  BADINPDQ  sum                                                 \n",
       "HISTORY BIASCORR  BIASCORR  multi                                               \n",
       "HISTORY BIASFILE  BIASFILE  multi                                               \n",
       "HISTORY BLEVCORR  BLEVCORR  multi                                               \n",
       "HISTORY BPIXTAB   BPIXTAB   multi                                               \n",
       "HISTORY CCDCHIP   CCDCHIP   first                                               \n",
       "HISTORY CCDGAIN   CCDGAIN   first                                               \n",
       "HISTORY CCDOFSTA  CCDOFSTA  first                                               \n",
       "HISTORY CCDOFSTB  CCDOFSTB  first                                               \n",
       "HISTORY CCDOFSTC  CCDOFSTC  first                                               \n",
       "HISTORY CCDOFSTD  CCDOFSTD  first                                               \n",
       "HISTORY CCDTAB      CCDTAB    multi                                             \n",
       "HISTORY CFLTFILE  CFLTFILE  multi                                               \n",
       "HISTORY COMPTAB   COMPTAB   multi                                               \n",
       "HISTORY CRCORR      CRCORR    multi                                             \n",
       "HISTORY CRMASK      CRMASK    first                                             \n",
       "HISTORY CRRADIUS  CRRADIUS  first                                               \n",
       "HISTORY CRREJTAB  CRREJTAB  multi                                               \n",
       "HISTORY CRSPLIT   CRSPLIT   first                                               \n",
       "HISTORY CRTHRESH  CRTHRESH  first                                               \n",
       "HISTORY CTEDIR      CTEDIR    multi                                             \n",
       "HISTORY CTEIMAGE  CTEIMAGE  first                                               \n",
       "HISTORY DARKCORR  DARKCORR  multi                                               \n",
       "HISTORY DARKFILE  DARKFILE  multi                                               \n",
       "HISTORY DATE-OBS  DATE-OBS  first                                               \n",
       "HISTORY DEC_APER  DEC_APER  first                                               \n",
       "HISTORY DFLTFILE  DFLTFILE  multi                                               \n",
       "HISTORY DGEOFILE  DGEOFILE  multi                                               \n",
       "HISTORY DIRIMAGE  DIRIMAGE  multi                                               \n",
       "HISTORY DQICORR   DQICORR   multi                                               \n",
       "HISTORY DRIZCORR  DRIZCORR  multi                                               \n",
       "HISTORY EXPFLAG   EXPFLAG   multi                                               \n",
       "HISTORY EXPSCORR  EXPSCORR  multi                                               \n",
       "HISTORY FGSLOCK   FGSLOCK   multi                                               \n",
       "HISTORY FLASHCUR  FLASHCUR  multi                                               \n",
       "HISTORY FLASHDUR  FLASHDUR  first                                               \n",
       "HISTORY FLASHSTA  FLASHSTA  first                                               \n",
       "HISTORY FLATCORR  FLATCORR  multi                                               \n",
       "HISTORY FLSHCORR  FLSHCORR  multi                                               \n",
       "HISTORY FLSHFILE  FLSHFILE  multi                                               \n",
       "HISTORY FW1ERROR  FW1ERROR  multi                                               \n",
       "HISTORY FW1OFFST  FW1OFFST  first                                               \n",
       "HISTORY FW2ERROR  FW2ERROR  multi                                               \n",
       "HISTORY FW2OFFST  FW2OFFST  first                                               \n",
       "HISTORY FWSERROR  FWSERROR  multi                                               \n",
       "HISTORY FWSOFFST  FWSOFFST  first                                               \n",
       "HISTORY GRAPHTAB  GRAPHTAB  multi                                               \n",
       "HISTORY GYROMODE  GYROMODE  multi                                               \n",
       "HISTORY IDCTAB      IDCTAB    multi                                             \n",
       "HISTORY IMAGETYP  IMAGETYP  first                                               \n",
       "HISTORY IMPHTTAB  IMPHTTAB  multi                                               \n",
       "HISTORY LFLGCORR  LFLGCORR  multi                                               \n",
       "HISTORY LFLTFILE  LFLTFILE  multi                                               \n",
       "HISTORY LTM1_1    LTM1_1    float_one                                           \n",
       "HISTORY LTM2_2    LTM2_2    float_one                                           \n",
       "HISTORY MDRIZTAB  MDRIZTAB  multi                                               \n",
       "HISTORY MEANEXP   MEANEXP   first                                               \n",
       "HISTORY MOONANGL  MOONANGL  first                                               \n",
       "HISTORY NRPTEXP   NRPTEXP   first                                               \n",
       "HISTORY OBSMODE   OBSMODE   multi                                               \n",
       "HISTORY OBSTYPE   OBSTYPE   first                                               \n",
       "HISTORY OSCNTAB   OSCNTAB   multi                                               \n",
       "HISTORY P1_ANGLE  P1_ANGLE  first                                               \n",
       "HISTORY P1_CENTR  P1_CENTR  multi                                               \n",
       "HISTORY P1_FRAME  P1_FRAME  multi                                               \n",
       "HISTORY P1_LSPAC  P1_LSPAC  first                                               \n",
       "HISTORY P1_NPTS   P1_NPTS   first                                               \n",
       "HISTORY P1_ORINT  P1_ORINT  first                                               \n",
       "HISTORY P1_PSPAC  P1_PSPAC  first                                               \n",
       "HISTORY P1_PURPS  P1_PURPS  multi                                               \n",
       "HISTORY P1_SHAPE  P1_SHAPE  multi                                               \n",
       "HISTORY P2_ANGLE  P2_ANGLE  first                                               \n",
       "HISTORY P2_CENTR  P2_CENTR  multi                                               \n",
       "HISTORY P2_FRAME  P2_FRAME  multi                                               \n",
       "HISTORY P2_LSPAC  P2_LSPAC  first                                               \n",
       "HISTORY P2_NPTS   P2_NPTS   first                                               \n",
       "HISTORY P2_ORINT  P2_ORINT  first                                               \n",
       "HISTORY P2_PSPAC  P2_PSPAC  first                                               \n",
       "HISTORY P2_PURPS  P2_PURPS  multi                                               \n",
       "HISTORY P2_SHAPE  P2_SHAPE  multi                                               \n",
       "HISTORY PATTERN1  PATTERN1  multi                                               \n",
       "HISTORY PATTERN2  PATTERN2  multi                                               \n",
       "HISTORY PATTSTEP  PATTSTEP  first                                               \n",
       "HISTORY PHOTCORR  PHOTCORR  multi                                               \n",
       "HISTORY PHOTTAB   PHOTTAB   multi                                               \n",
       "HISTORY POSTARG1  POSTARG1  first                                               \n",
       "HISTORY POSTARG2  POSTARG2  first                                               \n",
       "HISTORY PRIMESI   PRIMESI   multi                                               \n",
       "HISTORY PROPAPER  PROPAPER  multi                                               \n",
       "HISTORY RA_APER   RA_APER   first                                               \n",
       "HISTORY READNSEA  READNSEA  first                                               \n",
       "HISTORY READNSEB  READNSEB  first                                               \n",
       "HISTORY READNSEC  READNSEC  first                                               \n",
       "HISTORY READNSED  READNSED  first                                               \n",
       "HISTORY REJ_RATE  REJ_RATE  first                                               \n",
       "HISTORY SCALENSE  SCALENSE  first                                               \n",
       "HISTORY SCLAMP      SCLAMP    multi                                             \n",
       "HISTORY SHADCORR  SHADCORR  multi                                               \n",
       "HISTORY SHADFILE  SHADFILE  multi                                               \n",
       "HISTORY SHUTRPOS  SHUTRPOS  multi                                               \n",
       "HISTORY SKYSUB      SKYSUB    multi                                             \n",
       "HISTORY SKYSUM      SKYSUM    sum                                               \n",
       "HISTORY SPOTTAB   SPOTTAB   multi                                               \n",
       "HISTORY SUBARRAY  SUBARRAY  first                                               \n",
       "HISTORY SUNANGLE  SUNANGLE  first                                               \n",
       "HISTORY SUN_ALT   SUN_ALT   first                                               \n",
       "HISTORY WRTERR      WRTERR    multi                                             \n",
       "HISTORY ------------------------------------------------------------            \n",
       "HISTORY     End of rules...                                                     \n",
       "HISTORY ============================================================            \n",
       "HISTORY AstroDrizzle processing performed using:                                \n",
       "HISTORY     PyFITS Version 1.3.3                                                \n",
       "HISTORY     Numpy Version 1.12.1                                                \n",
       "HISTORY     AstroDrizzle Version 2.1.17                                         "
      ]
     },
     "execution_count": 2,
     "metadata": {},
     "output_type": "execute_result"
    }
   ],
   "source": [
    "h = fits.open('FITS/j8up02uvq_drz.fits')[0].header\n",
    "h"
   ]
  },
  {
   "cell_type": "markdown",
   "metadata": {},
   "source": [
    "We would like to go one step further, and align several of these pre-drizzled images so that they are all in perfect alignment. Use [this tutorial](http://localhost:8889/notebooks/notebooks/DrizzlePac/Initialization/Initialization.ipynb) to set up AstroDrizzle, then follow [these instructions](https://hst-crds.stsci.edu/docs/cmdline_bestrefs/) to set up the appropriate environment variables for CRDS. If you use a `bash` rather than `csh` shell, use the following commands instead of `setenv`:\n",
    "\n",
    "```\n",
    "export CRDS_PATH=$HOME/crds_cache\n",
    "export CRDS_SERVER_URL=\"https://hst-crds.stsci.edu\"\n",
    "export iref=\"${CRDS_PATH}/references/hst/iref/\"\n",
    "export jref=\"${CRDS_PATH}/references/hst/jref/\"\n",
    "export oref=\"${CRDS_PATH}/references/hst/oref/\"\n",
    "export lref=\"${CRDS_PATH}/references/hst/lref/\"\n",
    "export nref=\"${CRDS_PATH}/references/hst/nref/\"\n",
    "export uref=\"${CRDS_PATH}/references/hst/uref/\"\n",
    "```\n",
    "Be careful to use double (\") rather than single (') quotation marks, `bash` cares about this.\n",
    "\n",
    "DrizzlePac requires us to first download WCS reference files. This has to be done separately for each `obs_id` in `obs_table`."
   ]
  },
  {
   "cell_type": "code",
   "execution_count": 5,
   "metadata": {},
   "outputs": [
    {
     "name": "stdout",
     "output_type": "stream",
     "text": [
      "crds bestrefs --files j8up02usq*flt.fits --sync-references=1 --update-bestrefs\n"
     ]
    },
    {
     "name": "stderr",
     "output_type": "stream",
     "text": [
      "CRDS - INFO -  Fetching  /Users/mila/crds_cache/mappings/hst/hst_wfpc2_wf4tfile_0250.rmap      678 bytes  (1 / 140 files) (0 / 1.7 M bytes)\n",
      "CRDS - INFO -  Fetching  /Users/mila/crds_cache/mappings/hst/hst_wfpc2_shadfile_0250.rmap      977 bytes  (2 / 140 files) (678 / 1.7 M bytes)\n",
      "CRDS - INFO -  Fetching  /Users/mila/crds_cache/mappings/hst/hst_wfpc2_offtab_0250.rmap      642 bytes  (3 / 140 files) (1.7 K / 1.7 M bytes)\n",
      "CRDS - INFO -  Fetching  /Users/mila/crds_cache/mappings/hst/hst_wfpc2_maskfile_0250.rmap      685 bytes  (4 / 140 files) (2.3 K / 1.7 M bytes)\n",
      "CRDS - INFO -  Fetching  /Users/mila/crds_cache/mappings/hst/hst_wfpc2_idctab_0250.rmap      696 bytes  (5 / 140 files) (3.0 K / 1.7 M bytes)\n",
      "CRDS - INFO -  Fetching  /Users/mila/crds_cache/mappings/hst/hst_wfpc2_flatfile_0250.rmap   30.0 K bytes  (6 / 140 files) (3.7 K / 1.7 M bytes)\n",
      "CRDS - INFO -  Fetching  /Users/mila/crds_cache/mappings/hst/hst_wfpc2_dgeofile_0250.rmap      801 bytes  (7 / 140 files) (33.7 K / 1.7 M bytes)\n",
      "CRDS - INFO -  Fetching  /Users/mila/crds_cache/mappings/hst/hst_wfpc2_darkfile_0250.rmap  178.4 K bytes  (8 / 140 files) (34.5 K / 1.7 M bytes)\n",
      "CRDS - INFO -  Fetching  /Users/mila/crds_cache/mappings/hst/hst_wfpc2_biasfile_0250.rmap    3.3 K bytes  (9 / 140 files) (212.8 K / 1.7 M bytes)\n",
      "CRDS - INFO -  Fetching  /Users/mila/crds_cache/mappings/hst/hst_wfpc2_atodfile_0250.rmap      874 bytes  (10 / 140 files) (216.1 K / 1.7 M bytes)\n",
      "CRDS - INFO -  Fetching  /Users/mila/crds_cache/mappings/hst/hst_wfpc2_0250.imap      782 bytes  (11 / 140 files) (217.0 K / 1.7 M bytes)\n",
      "CRDS - INFO -  Fetching  /Users/mila/crds_cache/mappings/hst/hst_wfc3_snkcfile_0003.rmap      681 bytes  (12 / 140 files) (217.8 K / 1.7 M bytes)\n",
      "CRDS - INFO -  Fetching  /Users/mila/crds_cache/mappings/hst/hst_wfc3_pfltfile_0253.rmap   34.2 K bytes  (13 / 140 files) (218.5 K / 1.7 M bytes)\n",
      "CRDS - INFO -  Fetching  /Users/mila/crds_cache/mappings/hst/hst_wfc3_pctetab_0004.rmap      698 bytes  (14 / 140 files) (252.6 K / 1.7 M bytes)\n",
      "CRDS - INFO -  Fetching  /Users/mila/crds_cache/mappings/hst/hst_wfc3_oscntab_0250.rmap      747 bytes  (15 / 140 files) (253.3 K / 1.7 M bytes)\n",
      "CRDS - INFO -  Fetching  /Users/mila/crds_cache/mappings/hst/hst_wfc3_npolfile_0254.rmap    4.0 K bytes  (16 / 140 files) (254.1 K / 1.7 M bytes)\n",
      "CRDS - INFO -  Fetching  /Users/mila/crds_cache/mappings/hst/hst_wfc3_nlinfile_0250.rmap      726 bytes  (17 / 140 files) (258.1 K / 1.7 M bytes)\n",
      "CRDS - INFO -  Fetching  /Users/mila/crds_cache/mappings/hst/hst_wfc3_mdriztab_0254.rmap      845 bytes  (18 / 140 files) (258.9 K / 1.7 M bytes)\n",
      "CRDS - INFO -  Fetching  /Users/mila/crds_cache/mappings/hst/hst_wfc3_imphttab_0256.rmap      683 bytes  (19 / 140 files) (259.7 K / 1.7 M bytes)\n",
      "CRDS - INFO -  Fetching  /Users/mila/crds_cache/mappings/hst/hst_wfc3_idctab_0254.rmap      661 bytes  (20 / 140 files) (260.4 K / 1.7 M bytes)\n",
      "CRDS - INFO -  Fetching  /Users/mila/crds_cache/mappings/hst/hst_wfc3_flshfile_0253.rmap    3.4 K bytes  (21 / 140 files) (261.0 K / 1.7 M bytes)\n",
      "CRDS - INFO -  Fetching  /Users/mila/crds_cache/mappings/hst/hst_wfc3_drkcfile_0164.rmap  204.1 K bytes  (22 / 140 files) (264.4 K / 1.7 M bytes)\n",
      "CRDS - INFO -  Fetching  /Users/mila/crds_cache/mappings/hst/hst_wfc3_dfltfile_0002.rmap   17.1 K bytes  (23 / 140 files) (468.5 K / 1.7 M bytes)\n",
      "CRDS - INFO -  Fetching  /Users/mila/crds_cache/mappings/hst/hst_wfc3_darkfile_0462.rmap  245.3 K bytes  (24 / 140 files) (485.6 K / 1.7 M bytes)\n",
      "CRDS - INFO -  Fetching  /Users/mila/crds_cache/mappings/hst/hst_wfc3_d2imfile_0251.rmap      605 bytes  (25 / 140 files) (730.9 K / 1.7 M bytes)\n",
      "CRDS - INFO -  Fetching  /Users/mila/crds_cache/mappings/hst/hst_wfc3_crrejtab_0250.rmap      803 bytes  (26 / 140 files) (731.5 K / 1.7 M bytes)\n",
      "CRDS - INFO -  Fetching  /Users/mila/crds_cache/mappings/hst/hst_wfc3_ccdtab_0250.rmap      799 bytes  (27 / 140 files) (732.3 K / 1.7 M bytes)\n",
      "CRDS - INFO -  Fetching  /Users/mila/crds_cache/mappings/hst/hst_wfc3_bpixtab_0293.rmap   10.1 K bytes  (28 / 140 files) (733.1 K / 1.7 M bytes)\n",
      "CRDS - INFO -  Fetching  /Users/mila/crds_cache/mappings/hst/hst_wfc3_biasfile_0266.rmap   23.2 K bytes  (29 / 140 files) (743.2 K / 1.7 M bytes)\n",
      "CRDS - INFO -  Fetching  /Users/mila/crds_cache/mappings/hst/hst_wfc3_biacfile_0003.rmap      692 bytes  (30 / 140 files) (766.4 K / 1.7 M bytes)\n",
      "CRDS - INFO -  Fetching  /Users/mila/crds_cache/mappings/hst/hst_wfc3_atodtab_0250.rmap      651 bytes  (31 / 140 files) (767.1 K / 1.7 M bytes)\n",
      "CRDS - INFO -  Fetching  /Users/mila/crds_cache/mappings/hst/hst_wfc3_0543.imap     1.2 K bytes  (32 / 140 files) (767.8 K / 1.7 M bytes)\n",
      "CRDS - INFO -  Fetching  /Users/mila/crds_cache/mappings/hst/hst_synphot_tmttab_0002.rmap      745 bytes  (33 / 140 files) (769.0 K / 1.7 M bytes)\n",
      "CRDS - INFO -  Fetching  /Users/mila/crds_cache/mappings/hst/hst_synphot_tmgtab_0010.rmap      767 bytes  (34 / 140 files) (769.7 K / 1.7 M bytes)\n",
      "CRDS - INFO -  Fetching  /Users/mila/crds_cache/mappings/hst/hst_synphot_tmctab_0037.rmap      743 bytes  (35 / 140 files) (770.5 K / 1.7 M bytes)\n",
      "CRDS - INFO -  Fetching  /Users/mila/crds_cache/mappings/hst/hst_synphot_thruput_0041.rmap  329.6 K bytes  (36 / 140 files) (771.2 K / 1.7 M bytes)\n",
      "CRDS - INFO -  Fetching  /Users/mila/crds_cache/mappings/hst/hst_synphot_thermal_0003.rmap   20.4 K bytes  (37 / 140 files) (1.1 M / 1.7 M bytes)\n",
      "CRDS - INFO -  Fetching  /Users/mila/crds_cache/mappings/hst/hst_synphot_obsmodes_0004.rmap      743 bytes  (38 / 140 files) (1.1 M / 1.7 M bytes)\n",
      "CRDS - INFO -  Fetching  /Users/mila/crds_cache/mappings/hst/hst_synphot_0052.imap      579 bytes  (39 / 140 files) (1.1 M / 1.7 M bytes)\n",
      "CRDS - INFO -  Fetching  /Users/mila/crds_cache/mappings/hst/hst_stis_xtractab_0250.rmap      815 bytes  (40 / 140 files) (1.1 M / 1.7 M bytes)\n",
      "CRDS - INFO -  Fetching  /Users/mila/crds_cache/mappings/hst/hst_stis_wcptab_0251.rmap      578 bytes  (41 / 140 files) (1.1 M / 1.7 M bytes)\n",
      "CRDS - INFO -  Fetching  /Users/mila/crds_cache/mappings/hst/hst_stis_teltab_0250.rmap      745 bytes  (42 / 140 files) (1.1 M / 1.7 M bytes)\n",
      "CRDS - INFO -  Fetching  /Users/mila/crds_cache/mappings/hst/hst_stis_tdstab_0252.rmap      921 bytes  (43 / 140 files) (1.1 M / 1.7 M bytes)\n",
      "CRDS - INFO -  Fetching  /Users/mila/crds_cache/mappings/hst/hst_stis_tdctab_0251.rmap      650 bytes  (44 / 140 files) (1.1 M / 1.7 M bytes)\n",
      "CRDS - INFO -  Fetching  /Users/mila/crds_cache/mappings/hst/hst_stis_srwtab_0250.rmap      745 bytes  (45 / 140 files) (1.1 M / 1.7 M bytes)\n",
      "CRDS - INFO -  Fetching  /Users/mila/crds_cache/mappings/hst/hst_stis_sptrctab_0250.rmap      923 bytes  (46 / 140 files) (1.1 M / 1.7 M bytes)\n",
      "CRDS - INFO -  Fetching  /Users/mila/crds_cache/mappings/hst/hst_stis_sdctab_0251.rmap      889 bytes  (47 / 140 files) (1.1 M / 1.7 M bytes)\n",
      "CRDS - INFO -  Fetching  /Users/mila/crds_cache/mappings/hst/hst_stis_riptab_0252.rmap      877 bytes  (48 / 140 files) (1.1 M / 1.7 M bytes)\n",
      "CRDS - INFO -  Fetching  /Users/mila/crds_cache/mappings/hst/hst_stis_phottab_0255.rmap    1.5 K bytes  (49 / 140 files) (1.1 M / 1.7 M bytes)\n",
      "CRDS - INFO -  Fetching  /Users/mila/crds_cache/mappings/hst/hst_stis_pfltfile_0250.rmap   23.7 K bytes  (50 / 140 files) (1.1 M / 1.7 M bytes)\n",
      "CRDS - INFO -  Fetching  /Users/mila/crds_cache/mappings/hst/hst_stis_pctab_0250.rmap    3.1 K bytes  (51 / 140 files) (1.2 M / 1.7 M bytes)\n",
      "CRDS - INFO -  Fetching  /Users/mila/crds_cache/mappings/hst/hst_stis_mofftab_0250.rmap      747 bytes  (52 / 140 files) (1.2 M / 1.7 M bytes)\n",
      "CRDS - INFO -  Fetching  /Users/mila/crds_cache/mappings/hst/hst_stis_mlintab_0250.rmap      601 bytes  (53 / 140 files) (1.2 M / 1.7 M bytes)\n",
      "CRDS - INFO -  Fetching  /Users/mila/crds_cache/mappings/hst/hst_stis_lfltfile_0250.rmap   11.8 K bytes  (54 / 140 files) (1.2 M / 1.7 M bytes)\n",
      "CRDS - INFO -  Fetching  /Users/mila/crds_cache/mappings/hst/hst_stis_lamptab_0250.rmap      610 bytes  (55 / 140 files) (1.2 M / 1.7 M bytes)\n",
      "CRDS - INFO -  Fetching  /Users/mila/crds_cache/mappings/hst/hst_stis_inangtab_0250.rmap      815 bytes  (56 / 140 files) (1.2 M / 1.7 M bytes)\n",
      "CRDS - INFO -  Fetching  /Users/mila/crds_cache/mappings/hst/hst_stis_imphttab_0251.rmap      616 bytes  (57 / 140 files) (1.2 M / 1.7 M bytes)\n",
      "CRDS - INFO -  Fetching  /Users/mila/crds_cache/mappings/hst/hst_stis_idctab_0251.rmap      775 bytes  (58 / 140 files) (1.2 M / 1.7 M bytes)\n",
      "CRDS - INFO -  Fetching  /Users/mila/crds_cache/mappings/hst/hst_stis_halotab_0250.rmap      747 bytes  (59 / 140 files) (1.2 M / 1.7 M bytes)\n"
     ]
    },
    {
     "name": "stderr",
     "output_type": "stream",
     "text": [
      "CRDS - INFO -  Fetching  /Users/mila/crds_cache/mappings/hst/hst_stis_gactab_0250.rmap      651 bytes  (60 / 140 files) (1.2 M / 1.7 M bytes)\n",
      "CRDS - INFO -  Fetching  /Users/mila/crds_cache/mappings/hst/hst_stis_exstab_0250.rmap      745 bytes  (61 / 140 files) (1.2 M / 1.7 M bytes)\n",
      "CRDS - INFO -  Fetching  /Users/mila/crds_cache/mappings/hst/hst_stis_echsctab_0250.rmap      749 bytes  (62 / 140 files) (1.2 M / 1.7 M bytes)\n",
      "CRDS - INFO -  Fetching  /Users/mila/crds_cache/mappings/hst/hst_stis_disptab_0250.rmap      813 bytes  (63 / 140 files) (1.2 M / 1.7 M bytes)\n",
      "CRDS - INFO -  Fetching  /Users/mila/crds_cache/mappings/hst/hst_stis_darkfile_0330.rmap   53.9 K bytes  (64 / 140 files) (1.2 M / 1.7 M bytes)\n",
      "CRDS - INFO -  Fetching  /Users/mila/crds_cache/mappings/hst/hst_stis_crrejtab_0250.rmap      711 bytes  (65 / 140 files) (1.2 M / 1.7 M bytes)\n",
      "CRDS - INFO -  Fetching  /Users/mila/crds_cache/mappings/hst/hst_stis_cdstab_0250.rmap      745 bytes  (66 / 140 files) (1.2 M / 1.7 M bytes)\n",
      "CRDS - INFO -  Fetching  /Users/mila/crds_cache/mappings/hst/hst_stis_ccdtab_0252.rmap      893 bytes  (67 / 140 files) (1.2 M / 1.7 M bytes)\n",
      "CRDS - INFO -  Fetching  /Users/mila/crds_cache/mappings/hst/hst_stis_bpixtab_0250.rmap      845 bytes  (68 / 140 files) (1.2 M / 1.7 M bytes)\n",
      "CRDS - INFO -  Fetching  /Users/mila/crds_cache/mappings/hst/hst_stis_biasfile_0332.rmap  110.6 K bytes  (69 / 140 files) (1.2 M / 1.7 M bytes)\n",
      "CRDS - INFO -  Fetching  /Users/mila/crds_cache/mappings/hst/hst_stis_apertab_0250.rmap      588 bytes  (70 / 140 files) (1.3 M / 1.7 M bytes)\n",
      "CRDS - INFO -  Fetching  /Users/mila/crds_cache/mappings/hst/hst_stis_apdestab_0252.rmap      636 bytes  (71 / 140 files) (1.3 M / 1.7 M bytes)\n",
      "CRDS - INFO -  Fetching  /Users/mila/crds_cache/mappings/hst/hst_stis_0340.imap     1.7 K bytes  (72 / 140 files) (1.3 M / 1.7 M bytes)\n",
      "CRDS - INFO -  Fetching  /Users/mila/crds_cache/mappings/hst/hst_nicmos_zprattab_0250.rmap      646 bytes  (73 / 140 files) (1.3 M / 1.7 M bytes)\n",
      "CRDS - INFO -  Fetching  /Users/mila/crds_cache/mappings/hst/hst_nicmos_tempfile_0250.rmap    1.1 K bytes  (74 / 140 files) (1.3 M / 1.7 M bytes)\n",
      "CRDS - INFO -  Fetching  /Users/mila/crds_cache/mappings/hst/hst_nicmos_tdffile_0250.rmap    8.9 K bytes  (75 / 140 files) (1.4 M / 1.7 M bytes)\n",
      "CRDS - INFO -  Fetching  /Users/mila/crds_cache/mappings/hst/hst_nicmos_saadfile_0250.rmap      771 bytes  (76 / 140 files) (1.4 M / 1.7 M bytes)\n",
      "CRDS - INFO -  Fetching  /Users/mila/crds_cache/mappings/hst/hst_nicmos_saacntab_0250.rmap      594 bytes  (77 / 140 files) (1.4 M / 1.7 M bytes)\n",
      "CRDS - INFO -  Fetching  /Users/mila/crds_cache/mappings/hst/hst_nicmos_rnlcortb_0250.rmap      771 bytes  (78 / 140 files) (1.4 M / 1.7 M bytes)\n",
      "CRDS - INFO -  Fetching  /Users/mila/crds_cache/mappings/hst/hst_nicmos_pmskfile_0250.rmap      603 bytes  (79 / 140 files) (1.4 M / 1.7 M bytes)\n",
      "CRDS - INFO -  Fetching  /Users/mila/crds_cache/mappings/hst/hst_nicmos_pmodfile_0250.rmap      603 bytes  (80 / 140 files) (1.4 M / 1.7 M bytes)\n",
      "CRDS - INFO -  Fetching  /Users/mila/crds_cache/mappings/hst/hst_nicmos_phottab_0250.rmap      862 bytes  (81 / 140 files) (1.4 M / 1.7 M bytes)\n",
      "CRDS - INFO -  Fetching  /Users/mila/crds_cache/mappings/hst/hst_nicmos_pedsbtab_0250.rmap      594 bytes  (82 / 140 files) (1.4 M / 1.7 M bytes)\n",
      "CRDS - INFO -  Fetching  /Users/mila/crds_cache/mappings/hst/hst_nicmos_noisfile_0250.rmap    2.6 K bytes  (83 / 140 files) (1.4 M / 1.7 M bytes)\n",
      "CRDS - INFO -  Fetching  /Users/mila/crds_cache/mappings/hst/hst_nicmos_nlinfile_0250.rmap    1.7 K bytes  (84 / 140 files) (1.4 M / 1.7 M bytes)\n",
      "CRDS - INFO -  Fetching  /Users/mila/crds_cache/mappings/hst/hst_nicmos_maskfile_0250.rmap    1.2 K bytes  (85 / 140 files) (1.4 M / 1.7 M bytes)\n",
      "CRDS - INFO -  Fetching  /Users/mila/crds_cache/mappings/hst/hst_nicmos_illmfile_0250.rmap    5.8 K bytes  (86 / 140 files) (1.4 M / 1.7 M bytes)\n",
      "CRDS - INFO -  Fetching  /Users/mila/crds_cache/mappings/hst/hst_nicmos_idctab_0250.rmap      767 bytes  (87 / 140 files) (1.4 M / 1.7 M bytes)\n",
      "CRDS - INFO -  Fetching  /Users/mila/crds_cache/mappings/hst/hst_nicmos_flatfile_0250.rmap   11.0 K bytes  (88 / 140 files) (1.4 M / 1.7 M bytes)\n",
      "CRDS - INFO -  Fetching  /Users/mila/crds_cache/mappings/hst/hst_nicmos_darkfile_0250.rmap   14.9 K bytes  (89 / 140 files) (1.4 M / 1.7 M bytes)\n",
      "CRDS - INFO -  Fetching  /Users/mila/crds_cache/mappings/hst/hst_nicmos_0250.imap    1.1 K bytes  (90 / 140 files) (1.4 M / 1.7 M bytes)\n",
      "CRDS - INFO -  Fetching  /Users/mila/crds_cache/mappings/hst/hst_cos_ywlkfile_0002.rmap      922 bytes  (91 / 140 files) (1.4 M / 1.7 M bytes)\n",
      "CRDS - INFO -  Fetching  /Users/mila/crds_cache/mappings/hst/hst_cos_xwlkfile_0002.rmap      922 bytes  (92 / 140 files) (1.4 M / 1.7 M bytes)\n",
      "CRDS - INFO -  Fetching  /Users/mila/crds_cache/mappings/hst/hst_cos_xtractab_0266.rmap    1.6 K bytes  (93 / 140 files) (1.4 M / 1.7 M bytes)\n",
      "CRDS - INFO -  Fetching  /Users/mila/crds_cache/mappings/hst/hst_cos_wcptab_0257.rmap    1.3 K bytes  (94 / 140 files) (1.4 M / 1.7 M bytes)\n",
      "CRDS - INFO -  Fetching  /Users/mila/crds_cache/mappings/hst/hst_cos_twozxtab_0275.rmap      990 bytes  (95 / 140 files) (1.4 M / 1.7 M bytes)\n",
      "CRDS - INFO -  Fetching  /Users/mila/crds_cache/mappings/hst/hst_cos_tracetab_0274.rmap      998 bytes  (96 / 140 files) (1.4 M / 1.7 M bytes)\n",
      "CRDS - INFO -  Fetching  /Users/mila/crds_cache/mappings/hst/hst_cos_tdstab_0266.rmap      803 bytes  (97 / 140 files) (1.4 M / 1.7 M bytes)\n",
      "CRDS - INFO -  Fetching  /Users/mila/crds_cache/mappings/hst/hst_cos_spwcstab_0255.rmap    1.1 K bytes  (98 / 140 files) (1.4 M / 1.7 M bytes)\n",
      "CRDS - INFO -  Fetching  /Users/mila/crds_cache/mappings/hst/hst_cos_spottab_0005.rmap      766 bytes  (99 / 140 files) (1.4 M / 1.7 M bytes)\n",
      "CRDS - INFO -  Fetching  /Users/mila/crds_cache/mappings/hst/hst_cos_proftab_0274.rmap    1.0 K bytes  (100 / 140 files) (1.4 M / 1.7 M bytes)\n",
      "CRDS - INFO -  Fetching  /Users/mila/crds_cache/mappings/hst/hst_cos_phatab_0250.rmap      668 bytes  (101 / 140 files) (1.4 M / 1.7 M bytes)\n",
      "CRDS - INFO -  Fetching  /Users/mila/crds_cache/mappings/hst/hst_cos_lamptab_0263.rmap    1.4 K bytes  (102 / 140 files) (1.4 M / 1.7 M bytes)\n",
      "CRDS - INFO -  Fetching  /Users/mila/crds_cache/mappings/hst/hst_cos_hvtab_0259.rmap      567 bytes  (103 / 140 files) (1.4 M / 1.7 M bytes)\n",
      "CRDS - INFO -  Fetching  /Users/mila/crds_cache/mappings/hst/hst_cos_gsagtab_0258.rmap      712 bytes  (104 / 140 files) (1.4 M / 1.7 M bytes)\n",
      "CRDS - INFO -  Fetching  /Users/mila/crds_cache/mappings/hst/hst_cos_geofile_0250.rmap      670 bytes  (105 / 140 files) (1.4 M / 1.7 M bytes)\n",
      "CRDS - INFO -  Fetching  /Users/mila/crds_cache/mappings/hst/hst_cos_fluxtab_0277.rmap    1.7 K bytes  (106 / 140 files) (1.4 M / 1.7 M bytes)\n",
      "CRDS - INFO -  Fetching  /Users/mila/crds_cache/mappings/hst/hst_cos_flatfile_0262.rmap    1.8 K bytes  (107 / 140 files) (1.4 M / 1.7 M bytes)\n",
      "CRDS - INFO -  Fetching  /Users/mila/crds_cache/mappings/hst/hst_cos_disptab_0275.rmap    1.7 K bytes  (108 / 140 files) (1.4 M / 1.7 M bytes)\n",
      "CRDS - INFO -  Fetching  /Users/mila/crds_cache/mappings/hst/hst_cos_dgeofile_0002.rmap      909 bytes  (109 / 140 files) (1.4 M / 1.7 M bytes)\n",
      "CRDS - INFO -  Fetching  /Users/mila/crds_cache/mappings/hst/hst_cos_deadtab_0250.rmap      711 bytes  (110 / 140 files) (1.4 M / 1.7 M bytes)\n",
      "CRDS - INFO -  Fetching  /Users/mila/crds_cache/mappings/hst/hst_cos_brsttab_0250.rmap      696 bytes  (111 / 140 files) (1.4 M / 1.7 M bytes)\n",
      "CRDS - INFO -  Fetching  /Users/mila/crds_cache/mappings/hst/hst_cos_brftab_0250.rmap      614 bytes  (112 / 140 files) (1.4 M / 1.7 M bytes)\n",
      "CRDS - INFO -  Fetching  /Users/mila/crds_cache/mappings/hst/hst_cos_bpixtab_0258.rmap      773 bytes  (113 / 140 files) (1.4 M / 1.7 M bytes)\n",
      "CRDS - INFO -  Fetching  /Users/mila/crds_cache/mappings/hst/hst_cos_badttab_0250.rmap      695 bytes  (114 / 140 files) (1.4 M / 1.7 M bytes)\n",
      "CRDS - INFO -  Fetching  /Users/mila/crds_cache/mappings/hst/hst_cos_0341.imap      1.4 K bytes  (115 / 140 files) (1.4 M / 1.7 M bytes)\n",
      "CRDS - INFO -  Fetching  /Users/mila/crds_cache/mappings/hst/hst_acs_spottab_0251.rmap      641 bytes  (116 / 140 files) (1.4 M / 1.7 M bytes)\n",
      "CRDS - INFO -  Fetching  /Users/mila/crds_cache/mappings/hst/hst_acs_snkcfile_0069.rmap    5.9 K bytes  (117 / 140 files) (1.4 M / 1.7 M bytes)\n",
      "CRDS - INFO -  Fetching  /Users/mila/crds_cache/mappings/hst/hst_acs_shadfile_0251.rmap      531 bytes  (118 / 140 files) (1.4 M / 1.7 M bytes)\n"
     ]
    },
    {
     "name": "stderr",
     "output_type": "stream",
     "text": [
      "CRDS - INFO -  Fetching  /Users/mila/crds_cache/mappings/hst/hst_acs_satufile_0002.rmap    1.2 K bytes  (119 / 140 files) (1.4 M / 1.7 M bytes)\n",
      "CRDS - INFO -  Fetching  /Users/mila/crds_cache/mappings/hst/hst_acs_pfltfile_0253.rmap   69.2 K bytes  (120 / 140 files) (1.4 M / 1.7 M bytes)\n",
      "CRDS - INFO -  Fetching  /Users/mila/crds_cache/mappings/hst/hst_acs_pctetab_0253.rmap      615 bytes  (121 / 140 files) (1.5 M / 1.7 M bytes)\n",
      "CRDS - INFO -  Fetching  /Users/mila/crds_cache/mappings/hst/hst_acs_oscntab_0251.rmap      781 bytes  (122 / 140 files) (1.5 M / 1.7 M bytes)\n",
      "CRDS - INFO -  Fetching  /Users/mila/crds_cache/mappings/hst/hst_acs_npolfile_0253.rmap    3.2 K bytes  (123 / 140 files) (1.5 M / 1.7 M bytes)\n",
      "CRDS - INFO -  Fetching  /Users/mila/crds_cache/mappings/hst/hst_acs_mlintab_0250.rmap      646 bytes  (124 / 140 files) (1.5 M / 1.7 M bytes)\n",
      "CRDS - INFO -  Fetching  /Users/mila/crds_cache/mappings/hst/hst_acs_mdriztab_0253.rmap      769 bytes  (125 / 140 files) (1.5 M / 1.7 M bytes)\n",
      "CRDS - INFO -  Fetching  /Users/mila/crds_cache/mappings/hst/hst_acs_imphttab_0258.rmap      769 bytes  (126 / 140 files) (1.5 M / 1.7 M bytes)\n",
      "CRDS - INFO -  Fetching  /Users/mila/crds_cache/mappings/hst/hst_acs_idctab_0256.rmap    1.5 K bytes  (127 / 140 files) (1.5 M / 1.7 M bytes)\n",
      "CRDS - INFO -  Fetching  /Users/mila/crds_cache/mappings/hst/hst_acs_flshfile_0266.rmap    3.3 K bytes  (128 / 140 files) (1.5 M / 1.7 M bytes)\n",
      "CRDS - INFO -  Fetching  /Users/mila/crds_cache/mappings/hst/hst_acs_drkcfile_0417.rmap   16.5 K bytes  (129 / 140 files) (1.5 M / 1.7 M bytes)\n",
      "CRDS - INFO -  Fetching  /Users/mila/crds_cache/mappings/hst/hst_acs_dgeofile_0250.rmap    3.2 K bytes  (130 / 140 files) (1.5 M / 1.7 M bytes)\n",
      "CRDS - INFO -  Fetching  /Users/mila/crds_cache/mappings/hst/hst_acs_darkfile_0406.rmap   88.4 K bytes  (131 / 140 files) (1.5 M / 1.7 M bytes)\n",
      "CRDS - INFO -  Fetching  /Users/mila/crds_cache/mappings/hst/hst_acs_d2imfile_0253.rmap      601 bytes  (132 / 140 files) (1.6 M / 1.7 M bytes)\n",
      "CRDS - INFO -  Fetching  /Users/mila/crds_cache/mappings/hst/hst_acs_crrejtab_0251.rmap      945 bytes  (133 / 140 files) (1.6 M / 1.7 M bytes)\n",
      "CRDS - INFO -  Fetching  /Users/mila/crds_cache/mappings/hst/hst_acs_cfltfile_0250.rmap    1.2 K bytes  (134 / 140 files) (1.6 M / 1.7 M bytes)\n",
      "CRDS - INFO -  Fetching  /Users/mila/crds_cache/mappings/hst/hst_acs_ccdtab_0255.rmap    1.4 K bytes  (135 / 140 files) (1.6 M / 1.7 M bytes)\n",
      "CRDS - INFO -  Fetching  /Users/mila/crds_cache/mappings/hst/hst_acs_bpixtab_0252.rmap    1.0 K bytes  (136 / 140 files) (1.6 M / 1.7 M bytes)\n",
      "CRDS - INFO -  Fetching  /Users/mila/crds_cache/mappings/hst/hst_acs_biasfile_0409.rmap   55.5 K bytes  (137 / 140 files) (1.6 M / 1.7 M bytes)\n",
      "CRDS - INFO -  Fetching  /Users/mila/crds_cache/mappings/hst/hst_acs_atodtab_0251.rmap      528 bytes  (138 / 140 files) (1.7 M / 1.7 M bytes)\n",
      "CRDS - INFO -  Fetching  /Users/mila/crds_cache/mappings/hst/hst_acs_0501.imap      1.3 K bytes  (139 / 140 files) (1.7 M / 1.7 M bytes)\n",
      "CRDS - INFO -  Fetching  /Users/mila/crds_cache/mappings/hst/hst_1028.pmap            495 bytes  (140 / 140 files) (1.7 M / 1.7 M bytes)\n",
      "CRDS - INFO -  No comparison context or source comparison requested.\n",
      "CRDS - ERROR -  Failed loading source 'j8up02usq*flt.fits' from 'FileHeaderGenerator' : [Errno 2] No such file or directory: 'j8up02usq*flt.fits'\n",
      "CRDS - INFO -  1 errors\n",
      "CRDS - INFO -  0 warnings\n",
      "CRDS - INFO -  141 infos\n"
     ]
    },
    {
     "name": "stdout",
     "output_type": "stream",
     "text": [
      "No ref files for this ID\n",
      "crds bestrefs --files j8up02utq*flt.fits --sync-references=1 --update-bestrefs\n"
     ]
    },
    {
     "name": "stderr",
     "output_type": "stream",
     "text": [
      "CRDS - INFO -  No comparison context or source comparison requested.\n",
      "CRDS - ERROR -  Failed loading source 'j8up02utq*flt.fits' from 'FileHeaderGenerator' : [Errno 2] No such file or directory: 'j8up02utq*flt.fits'\n",
      "CRDS - INFO -  1 errors\n",
      "CRDS - INFO -  0 warnings\n",
      "CRDS - INFO -  1 infos\n"
     ]
    },
    {
     "name": "stdout",
     "output_type": "stream",
     "text": [
      "No ref files for this ID\n",
      "crds bestrefs --files j8up02uuq*flt.fits --sync-references=1 --update-bestrefs\n"
     ]
    },
    {
     "name": "stderr",
     "output_type": "stream",
     "text": [
      "CRDS - INFO -  No comparison context or source comparison requested.\n",
      "CRDS - ERROR -  Failed loading source 'j8up02uuq*flt.fits' from 'FileHeaderGenerator' : [Errno 2] No such file or directory: 'j8up02uuq*flt.fits'\n",
      "CRDS - INFO -  1 errors\n",
      "CRDS - INFO -  0 warnings\n",
      "CRDS - INFO -  1 infos\n"
     ]
    },
    {
     "name": "stdout",
     "output_type": "stream",
     "text": [
      "No ref files for this ID\n",
      "crds bestrefs --files j8up02uvq*flt.fits --sync-references=1 --update-bestrefs\n"
     ]
    },
    {
     "name": "stderr",
     "output_type": "stream",
     "text": [
      "CRDS - INFO -  No comparison context or source comparison requested.\n",
      "CRDS - ERROR -  Failed loading source 'j8up02uvq*flt.fits' from 'FileHeaderGenerator' : [Errno 2] No such file or directory: 'j8up02uvq*flt.fits'\n",
      "CRDS - INFO -  1 errors\n",
      "CRDS - INFO -  0 warnings\n",
      "CRDS - INFO -  1 infos\n"
     ]
    },
    {
     "name": "stdout",
     "output_type": "stream",
     "text": [
      "No ref files for this ID\n",
      "crds bestrefs --files j8up02uwq*flt.fits --sync-references=1 --update-bestrefs\n"
     ]
    },
    {
     "name": "stderr",
     "output_type": "stream",
     "text": [
      "CRDS - INFO -  No comparison context or source comparison requested.\n",
      "CRDS - ERROR -  Failed loading source 'j8up02uwq*flt.fits' from 'FileHeaderGenerator' : [Errno 2] No such file or directory: 'j8up02uwq*flt.fits'\n",
      "CRDS - INFO -  1 errors\n",
      "CRDS - INFO -  0 warnings\n",
      "CRDS - INFO -  1 infos\n"
     ]
    },
    {
     "name": "stdout",
     "output_type": "stream",
     "text": [
      "No ref files for this ID\n",
      "crds bestrefs --files j8up02uyq*flt.fits --sync-references=1 --update-bestrefs\n"
     ]
    },
    {
     "name": "stderr",
     "output_type": "stream",
     "text": [
      "CRDS - INFO -  No comparison context or source comparison requested.\n",
      "CRDS - ERROR -  Failed loading source 'j8up02uyq*flt.fits' from 'FileHeaderGenerator' : [Errno 2] No such file or directory: 'j8up02uyq*flt.fits'\n",
      "CRDS - INFO -  1 errors\n",
      "CRDS - INFO -  0 warnings\n",
      "CRDS - INFO -  1 infos\n"
     ]
    },
    {
     "name": "stdout",
     "output_type": "stream",
     "text": [
      "No ref files for this ID\n",
      "crds bestrefs --files j8up02v0q*flt.fits --sync-references=1 --update-bestrefs\n"
     ]
    },
    {
     "name": "stderr",
     "output_type": "stream",
     "text": [
      "CRDS - INFO -  No comparison context or source comparison requested.\n",
      "CRDS - ERROR -  Failed loading source 'j8up02v0q*flt.fits' from 'FileHeaderGenerator' : [Errno 2] No such file or directory: 'j8up02v0q*flt.fits'\n",
      "CRDS - INFO -  1 errors\n",
      "CRDS - INFO -  0 warnings\n",
      "CRDS - INFO -  1 infos\n"
     ]
    },
    {
     "name": "stdout",
     "output_type": "stream",
     "text": [
      "No ref files for this ID\n",
      "crds bestrefs --files j8up02v5q*flt.fits --sync-references=1 --update-bestrefs\n"
     ]
    },
    {
     "name": "stderr",
     "output_type": "stream",
     "text": [
      "CRDS - INFO -  No comparison context or source comparison requested.\n",
      "CRDS - ERROR -  Failed loading source 'j8up02v5q*flt.fits' from 'FileHeaderGenerator' : [Errno 2] No such file or directory: 'j8up02v5q*flt.fits'\n",
      "CRDS - INFO -  1 errors\n",
      "CRDS - INFO -  0 warnings\n",
      "CRDS - INFO -  1 infos\n"
     ]
    },
    {
     "name": "stdout",
     "output_type": "stream",
     "text": [
      "No ref files for this ID\n",
      "crds bestrefs --files j8up02v7q*flt.fits --sync-references=1 --update-bestrefs\n"
     ]
    },
    {
     "name": "stderr",
     "output_type": "stream",
     "text": [
      "CRDS - INFO -  No comparison context or source comparison requested.\n",
      "CRDS - ERROR -  Failed loading source 'j8up02v7q*flt.fits' from 'FileHeaderGenerator' : [Errno 2] No such file or directory: 'j8up02v7q*flt.fits'\n",
      "CRDS - INFO -  1 errors\n",
      "CRDS - INFO -  0 warnings\n",
      "CRDS - INFO -  1 infos\n"
     ]
    },
    {
     "name": "stdout",
     "output_type": "stream",
     "text": [
      "No ref files for this ID\n",
      "crds bestrefs --files j8up02v9q*flt.fits --sync-references=1 --update-bestrefs\n"
     ]
    },
    {
     "name": "stderr",
     "output_type": "stream",
     "text": [
      "CRDS - INFO -  No comparison context or source comparison requested.\n",
      "CRDS - ERROR -  Failed loading source 'j8up02v9q*flt.fits' from 'FileHeaderGenerator' : [Errno 2] No such file or directory: 'j8up02v9q*flt.fits'\n",
      "CRDS - INFO -  1 errors\n",
      "CRDS - INFO -  0 warnings\n",
      "CRDS - INFO -  1 infos\n"
     ]
    },
    {
     "name": "stdout",
     "output_type": "stream",
     "text": [
      "No ref files for this ID\n",
      "crds bestrefs --files j8up02vbq*flt.fits --sync-references=1 --update-bestrefs\n"
     ]
    },
    {
     "name": "stderr",
     "output_type": "stream",
     "text": [
      "CRDS - INFO -  No comparison context or source comparison requested.\n",
      "CRDS - ERROR -  Failed loading source 'j8up02vbq*flt.fits' from 'FileHeaderGenerator' : [Errno 2] No such file or directory: 'j8up02vbq*flt.fits'\n",
      "CRDS - INFO -  1 errors\n",
      "CRDS - INFO -  0 warnings\n",
      "CRDS - INFO -  1 infos\n"
     ]
    },
    {
     "name": "stdout",
     "output_type": "stream",
     "text": [
      "No ref files for this ID\n",
      "crds bestrefs --files j8up02vcq*flt.fits --sync-references=1 --update-bestrefs\n"
     ]
    },
    {
     "name": "stderr",
     "output_type": "stream",
     "text": [
      "CRDS - INFO -  No comparison context or source comparison requested.\n",
      "CRDS - ERROR -  Failed loading source 'j8up02vcq*flt.fits' from 'FileHeaderGenerator' : [Errno 2] No such file or directory: 'j8up02vcq*flt.fits'\n",
      "CRDS - INFO -  1 errors\n",
      "CRDS - INFO -  0 warnings\n",
      "CRDS - INFO -  1 infos\n"
     ]
    },
    {
     "name": "stdout",
     "output_type": "stream",
     "text": [
      "No ref files for this ID\n",
      "crds bestrefs --files j8up02vdq*flt.fits --sync-references=1 --update-bestrefs\n"
     ]
    },
    {
     "name": "stderr",
     "output_type": "stream",
     "text": [
      "CRDS - INFO -  No comparison context or source comparison requested.\n",
      "CRDS - ERROR -  Failed loading source 'j8up02vdq*flt.fits' from 'FileHeaderGenerator' : [Errno 2] No such file or directory: 'j8up02vdq*flt.fits'\n",
      "CRDS - INFO -  1 errors\n",
      "CRDS - INFO -  0 warnings\n",
      "CRDS - INFO -  1 infos\n"
     ]
    },
    {
     "name": "stdout",
     "output_type": "stream",
     "text": [
      "No ref files for this ID\n",
      "crds bestrefs --files x22q0101t*flt.fits --sync-references=1 --update-bestrefs\n"
     ]
    },
    {
     "name": "stderr",
     "output_type": "stream",
     "text": [
      "CRDS - INFO -  No comparison context or source comparison requested.\n",
      "CRDS - ERROR -  Failed loading source 'x22q0101t*flt.fits' from 'FileHeaderGenerator' : [Errno 2] No such file or directory: 'x22q0101t*flt.fits'\n",
      "CRDS - INFO -  1 errors\n",
      "CRDS - INFO -  0 warnings\n",
      "CRDS - INFO -  1 infos\n"
     ]
    },
    {
     "name": "stdout",
     "output_type": "stream",
     "text": [
      "No ref files for this ID\n",
      "crds bestrefs --files x22q0201t*flt.fits --sync-references=1 --update-bestrefs\n"
     ]
    },
    {
     "name": "stderr",
     "output_type": "stream",
     "text": [
      "CRDS - INFO -  No comparison context or source comparison requested.\n",
      "CRDS - ERROR -  Failed loading source 'x22q0201t*flt.fits' from 'FileHeaderGenerator' : [Errno 2] No such file or directory: 'x22q0201t*flt.fits'\n",
      "CRDS - INFO -  1 errors\n",
      "CRDS - INFO -  0 warnings\n",
      "CRDS - INFO -  1 infos\n"
     ]
    },
    {
     "name": "stdout",
     "output_type": "stream",
     "text": [
      "No ref files for this ID\n",
      "crds bestrefs --files hlsp_orion_hst_acs_colorimage_b_v1_drz*flt.fits --sync-references=1 --update-bestrefs\n"
     ]
    },
    {
     "name": "stderr",
     "output_type": "stream",
     "text": [
      "CRDS - INFO -  No comparison context or source comparison requested.\n",
      "CRDS - ERROR -  Failed loading source 'hlsp_orion_hst_acs_colorimage_b_v1_drz*flt.fits' from 'FileHeaderGenerator' : [Errno 2] No such file or directory: 'hlsp_orion_hst_acs_colorimage_b_v1_drz*flt.fits'\n",
      "CRDS - INFO -  1 errors\n",
      "CRDS - INFO -  0 warnings\n",
      "CRDS - INFO -  1 infos\n"
     ]
    },
    {
     "name": "stdout",
     "output_type": "stream",
     "text": [
      "No ref files for this ID\n",
      "crds bestrefs --files hlsp_orion_hst_acs_colorimage_g_v1_drz*flt.fits --sync-references=1 --update-bestrefs\n"
     ]
    },
    {
     "name": "stderr",
     "output_type": "stream",
     "text": [
      "CRDS - INFO -  No comparison context or source comparison requested.\n",
      "CRDS - ERROR -  Failed loading source 'hlsp_orion_hst_acs_colorimage_g_v1_drz*flt.fits' from 'FileHeaderGenerator' : [Errno 2] No such file or directory: 'hlsp_orion_hst_acs_colorimage_g_v1_drz*flt.fits'\n",
      "CRDS - INFO -  1 errors\n",
      "CRDS - INFO -  0 warnings\n",
      "CRDS - INFO -  1 infos\n"
     ]
    },
    {
     "name": "stdout",
     "output_type": "stream",
     "text": [
      "No ref files for this ID\n",
      "crds bestrefs --files hlsp_orion_hst_acs_colorimage_r_v1_drz*flt.fits --sync-references=1 --update-bestrefs\n"
     ]
    },
    {
     "name": "stderr",
     "output_type": "stream",
     "text": [
      "CRDS - INFO -  No comparison context or source comparison requested.\n",
      "CRDS - ERROR -  Failed loading source 'hlsp_orion_hst_acs_colorimage_r_v1_drz*flt.fits' from 'FileHeaderGenerator' : [Errno 2] No such file or directory: 'hlsp_orion_hst_acs_colorimage_r_v1_drz*flt.fits'\n",
      "CRDS - INFO -  1 errors\n",
      "CRDS - INFO -  0 warnings\n",
      "CRDS - INFO -  1 infos\n"
     ]
    },
    {
     "name": "stdout",
     "output_type": "stream",
     "text": [
      "No ref files for this ID\n",
      "crds bestrefs --files hst_10057_02_acs_wfc_fr388n_01*flt.fits --sync-references=1 --update-bestrefs\n"
     ]
    },
    {
     "name": "stderr",
     "output_type": "stream",
     "text": [
      "CRDS - INFO -  No comparison context or source comparison requested.\n",
      "CRDS - ERROR -  Failed loading source 'hst_10057_02_acs_wfc_fr388n_01*flt.fits' from 'FileHeaderGenerator' : [Errno 2] No such file or directory: 'hst_10057_02_acs_wfc_fr388n_01*flt.fits'\n",
      "CRDS - INFO -  1 errors\n",
      "CRDS - INFO -  0 warnings\n",
      "CRDS - INFO -  1 infos\n"
     ]
    },
    {
     "name": "stdout",
     "output_type": "stream",
     "text": [
      "No ref files for this ID\n",
      "crds bestrefs --files hst_10057_02_acs_wfc_fr388n_02*flt.fits --sync-references=1 --update-bestrefs\n"
     ]
    },
    {
     "name": "stderr",
     "output_type": "stream",
     "text": [
      "CRDS - INFO -  No comparison context or source comparison requested.\n",
      "CRDS - ERROR -  Failed loading source 'hst_10057_02_acs_wfc_fr388n_02*flt.fits' from 'FileHeaderGenerator' : [Errno 2] No such file or directory: 'hst_10057_02_acs_wfc_fr388n_02*flt.fits'\n",
      "CRDS - INFO -  1 errors\n",
      "CRDS - INFO -  0 warnings\n",
      "CRDS - INFO -  1 infos\n"
     ]
    },
    {
     "name": "stdout",
     "output_type": "stream",
     "text": [
      "No ref files for this ID\n",
      "crds bestrefs --files hst_10057_02_acs_wfc_fr459m_01*flt.fits --sync-references=1 --update-bestrefs\n"
     ]
    },
    {
     "name": "stderr",
     "output_type": "stream",
     "text": [
      "CRDS - INFO -  No comparison context or source comparison requested.\n",
      "CRDS - ERROR -  Failed loading source 'hst_10057_02_acs_wfc_fr459m_01*flt.fits' from 'FileHeaderGenerator' : [Errno 2] No such file or directory: 'hst_10057_02_acs_wfc_fr459m_01*flt.fits'\n",
      "CRDS - INFO -  1 errors\n",
      "CRDS - INFO -  0 warnings\n",
      "CRDS - INFO -  1 infos\n"
     ]
    },
    {
     "name": "stdout",
     "output_type": "stream",
     "text": [
      "No ref files for this ID\n",
      "crds bestrefs --files hst_10057_02_acs_wfc_fr459m_02*flt.fits --sync-references=1 --update-bestrefs\n"
     ]
    },
    {
     "name": "stderr",
     "output_type": "stream",
     "text": [
      "CRDS - INFO -  No comparison context or source comparison requested.\n",
      "CRDS - ERROR -  Failed loading source 'hst_10057_02_acs_wfc_fr459m_02*flt.fits' from 'FileHeaderGenerator' : [Errno 2] No such file or directory: 'hst_10057_02_acs_wfc_fr459m_02*flt.fits'\n",
      "CRDS - INFO -  1 errors\n",
      "CRDS - INFO -  0 warnings\n",
      "CRDS - INFO -  1 infos\n"
     ]
    },
    {
     "name": "stdout",
     "output_type": "stream",
     "text": [
      "No ref files for this ID\n",
      "crds bestrefs --files hst_10057_02_acs_wfc_fr459m_03*flt.fits --sync-references=1 --update-bestrefs\n"
     ]
    },
    {
     "name": "stderr",
     "output_type": "stream",
     "text": [
      "CRDS - INFO -  No comparison context or source comparison requested.\n",
      "CRDS - ERROR -  Failed loading source 'hst_10057_02_acs_wfc_fr459m_03*flt.fits' from 'FileHeaderGenerator' : [Errno 2] No such file or directory: 'hst_10057_02_acs_wfc_fr459m_03*flt.fits'\n",
      "CRDS - INFO -  1 errors\n",
      "CRDS - INFO -  0 warnings\n",
      "CRDS - INFO -  1 infos\n"
     ]
    },
    {
     "name": "stdout",
     "output_type": "stream",
     "text": [
      "No ref files for this ID\n",
      "crds bestrefs --files hst_10057_02_acs_wfc_fr505n_01*flt.fits --sync-references=1 --update-bestrefs\n"
     ]
    },
    {
     "name": "stderr",
     "output_type": "stream",
     "text": [
      "CRDS - INFO -  No comparison context or source comparison requested.\n",
      "CRDS - ERROR -  Failed loading source 'hst_10057_02_acs_wfc_fr505n_01*flt.fits' from 'FileHeaderGenerator' : [Errno 2] No such file or directory: 'hst_10057_02_acs_wfc_fr505n_01*flt.fits'\n",
      "CRDS - INFO -  1 errors\n",
      "CRDS - INFO -  0 warnings\n",
      "CRDS - INFO -  1 infos\n"
     ]
    },
    {
     "name": "stdout",
     "output_type": "stream",
     "text": [
      "No ref files for this ID\n",
      "crds bestrefs --files hst_10057_02_acs_wfc_fr505n_02*flt.fits --sync-references=1 --update-bestrefs\n"
     ]
    },
    {
     "name": "stderr",
     "output_type": "stream",
     "text": [
      "CRDS - INFO -  No comparison context or source comparison requested.\n",
      "CRDS - ERROR -  Failed loading source 'hst_10057_02_acs_wfc_fr505n_02*flt.fits' from 'FileHeaderGenerator' : [Errno 2] No such file or directory: 'hst_10057_02_acs_wfc_fr505n_02*flt.fits'\n",
      "CRDS - INFO -  1 errors\n",
      "CRDS - INFO -  0 warnings\n",
      "CRDS - INFO -  1 infos\n"
     ]
    },
    {
     "name": "stdout",
     "output_type": "stream",
     "text": [
      "No ref files for this ID\n",
      "crds bestrefs --files hst_10057_02_acs_wfc_fr656n_01*flt.fits --sync-references=1 --update-bestrefs\n"
     ]
    },
    {
     "name": "stderr",
     "output_type": "stream",
     "text": [
      "CRDS - INFO -  No comparison context or source comparison requested.\n",
      "CRDS - ERROR -  Failed loading source 'hst_10057_02_acs_wfc_fr656n_01*flt.fits' from 'FileHeaderGenerator' : [Errno 2] No such file or directory: 'hst_10057_02_acs_wfc_fr656n_01*flt.fits'\n",
      "CRDS - INFO -  1 errors\n",
      "CRDS - INFO -  0 warnings\n",
      "CRDS - INFO -  1 infos\n"
     ]
    },
    {
     "name": "stdout",
     "output_type": "stream",
     "text": [
      "No ref files for this ID\n",
      "crds bestrefs --files hst_10057_02_acs_wfc_fr656n_02*flt.fits --sync-references=1 --update-bestrefs\n"
     ]
    },
    {
     "name": "stderr",
     "output_type": "stream",
     "text": [
      "CRDS - INFO -  No comparison context or source comparison requested.\n",
      "CRDS - ERROR -  Failed loading source 'hst_10057_02_acs_wfc_fr656n_02*flt.fits' from 'FileHeaderGenerator' : [Errno 2] No such file or directory: 'hst_10057_02_acs_wfc_fr656n_02*flt.fits'\n",
      "CRDS - INFO -  1 errors\n",
      "CRDS - INFO -  0 warnings\n",
      "CRDS - INFO -  1 infos\n"
     ]
    },
    {
     "name": "stdout",
     "output_type": "stream",
     "text": [
      "No ref files for this ID\n",
      "crds bestrefs --files hst_10057_02_acs_wfc_fr656n_03*flt.fits --sync-references=1 --update-bestrefs\n"
     ]
    },
    {
     "name": "stderr",
     "output_type": "stream",
     "text": [
      "CRDS - INFO -  No comparison context or source comparison requested.\n",
      "CRDS - ERROR -  Failed loading source 'hst_10057_02_acs_wfc_fr656n_03*flt.fits' from 'FileHeaderGenerator' : [Errno 2] No such file or directory: 'hst_10057_02_acs_wfc_fr656n_03*flt.fits'\n",
      "CRDS - INFO -  1 errors\n",
      "CRDS - INFO -  0 warnings\n",
      "CRDS - INFO -  1 infos\n"
     ]
    },
    {
     "name": "stdout",
     "output_type": "stream",
     "text": [
      "No ref files for this ID\n",
      "crds bestrefs --files hst_10057_02_acs_wfc_fr914m_01*flt.fits --sync-references=1 --update-bestrefs\n"
     ]
    },
    {
     "name": "stderr",
     "output_type": "stream",
     "text": [
      "CRDS - INFO -  No comparison context or source comparison requested.\n",
      "CRDS - ERROR -  Failed loading source 'hst_10057_02_acs_wfc_fr914m_01*flt.fits' from 'FileHeaderGenerator' : [Errno 2] No such file or directory: 'hst_10057_02_acs_wfc_fr914m_01*flt.fits'\n",
      "CRDS - INFO -  1 errors\n",
      "CRDS - INFO -  0 warnings\n",
      "CRDS - INFO -  1 infos\n"
     ]
    },
    {
     "name": "stdout",
     "output_type": "stream",
     "text": [
      "No ref files for this ID\n",
      "crds bestrefs --files hst_10057_02_acs_wfc_fr914m_02*flt.fits --sync-references=1 --update-bestrefs\n"
     ]
    },
    {
     "name": "stderr",
     "output_type": "stream",
     "text": [
      "CRDS - INFO -  No comparison context or source comparison requested.\n",
      "CRDS - ERROR -  Failed loading source 'hst_10057_02_acs_wfc_fr914m_02*flt.fits' from 'FileHeaderGenerator' : [Errno 2] No such file or directory: 'hst_10057_02_acs_wfc_fr914m_02*flt.fits'\n",
      "CRDS - INFO -  1 errors\n",
      "CRDS - INFO -  0 warnings\n",
      "CRDS - INFO -  1 infos\n"
     ]
    },
    {
     "name": "stdout",
     "output_type": "stream",
     "text": [
      "No ref files for this ID\n",
      "crds bestrefs --files hst_10057_02_acs_wfc_fr914m_03*flt.fits --sync-references=1 --update-bestrefs\n"
     ]
    },
    {
     "name": "stderr",
     "output_type": "stream",
     "text": [
      "CRDS - INFO -  No comparison context or source comparison requested.\n",
      "CRDS - ERROR -  Failed loading source 'hst_10057_02_acs_wfc_fr914m_03*flt.fits' from 'FileHeaderGenerator' : [Errno 2] No such file or directory: 'hst_10057_02_acs_wfc_fr914m_03*flt.fits'\n",
      "CRDS - INFO -  1 errors\n",
      "CRDS - INFO -  0 warnings\n",
      "CRDS - INFO -  1 infos\n"
     ]
    },
    {
     "name": "stdout",
     "output_type": "stream",
     "text": [
      "No ref files for this ID\n",
      "crds bestrefs --files hst_10057_02_acs_wfc_fr388n_j8up02uw*flt.fits --sync-references=1 --update-bestrefs\n"
     ]
    },
    {
     "name": "stderr",
     "output_type": "stream",
     "text": [
      "CRDS - INFO -  No comparison context or source comparison requested.\n",
      "CRDS - ERROR -  Failed loading source 'hst_10057_02_acs_wfc_fr388n_j8up02uw*flt.fits' from 'FileHeaderGenerator' : [Errno 2] No such file or directory: 'hst_10057_02_acs_wfc_fr388n_j8up02uw*flt.fits'\n",
      "CRDS - INFO -  1 errors\n",
      "CRDS - INFO -  0 warnings\n",
      "CRDS - INFO -  1 infos\n"
     ]
    },
    {
     "name": "stdout",
     "output_type": "stream",
     "text": [
      "No ref files for this ID\n",
      "crds bestrefs --files hst_10057_02_acs_wfc_fr459m_j8up02v7*flt.fits --sync-references=1 --update-bestrefs\n"
     ]
    },
    {
     "name": "stderr",
     "output_type": "stream",
     "text": [
      "CRDS - INFO -  No comparison context or source comparison requested.\n",
      "CRDS - ERROR -  Failed loading source 'hst_10057_02_acs_wfc_fr459m_j8up02v7*flt.fits' from 'FileHeaderGenerator' : [Errno 2] No such file or directory: 'hst_10057_02_acs_wfc_fr459m_j8up02v7*flt.fits'\n",
      "CRDS - INFO -  1 errors\n",
      "CRDS - INFO -  0 warnings\n",
      "CRDS - INFO -  1 infos\n"
     ]
    },
    {
     "name": "stdout",
     "output_type": "stream",
     "text": [
      "No ref files for this ID\n",
      "crds bestrefs --files hst_10057_02_acs_wfc_fr914m_j8up02vb*flt.fits --sync-references=1 --update-bestrefs\n"
     ]
    },
    {
     "name": "stderr",
     "output_type": "stream",
     "text": [
      "CRDS - INFO -  No comparison context or source comparison requested.\n",
      "CRDS - ERROR -  Failed loading source 'hst_10057_02_acs_wfc_fr914m_j8up02vb*flt.fits' from 'FileHeaderGenerator' : [Errno 2] No such file or directory: 'hst_10057_02_acs_wfc_fr914m_j8up02vb*flt.fits'\n",
      "CRDS - INFO -  1 errors\n",
      "CRDS - INFO -  0 warnings\n",
      "CRDS - INFO -  1 infos\n"
     ]
    },
    {
     "name": "stdout",
     "output_type": "stream",
     "text": [
      "No ref files for this ID\n",
      "crds bestrefs --files hst_10057_02_acs_wfc_fr459m_j8up02v5*flt.fits --sync-references=1 --update-bestrefs\n"
     ]
    },
    {
     "name": "stderr",
     "output_type": "stream",
     "text": [
      "CRDS - INFO -  No comparison context or source comparison requested.\n",
      "CRDS - ERROR -  Failed loading source 'hst_10057_02_acs_wfc_fr459m_j8up02v5*flt.fits' from 'FileHeaderGenerator' : [Errno 2] No such file or directory: 'hst_10057_02_acs_wfc_fr459m_j8up02v5*flt.fits'\n",
      "CRDS - INFO -  1 errors\n",
      "CRDS - INFO -  0 warnings\n",
      "CRDS - INFO -  1 infos\n"
     ]
    },
    {
     "name": "stdout",
     "output_type": "stream",
     "text": [
      "No ref files for this ID\n",
      "crds bestrefs --files hst_10057_02_acs_wfc_fr656n_j8up02ut*flt.fits --sync-references=1 --update-bestrefs\n"
     ]
    },
    {
     "name": "stderr",
     "output_type": "stream",
     "text": [
      "CRDS - INFO -  No comparison context or source comparison requested.\n",
      "CRDS - ERROR -  Failed loading source 'hst_10057_02_acs_wfc_fr656n_j8up02ut*flt.fits' from 'FileHeaderGenerator' : [Errno 2] No such file or directory: 'hst_10057_02_acs_wfc_fr656n_j8up02ut*flt.fits'\n",
      "CRDS - INFO -  1 errors\n",
      "CRDS - INFO -  0 warnings\n",
      "CRDS - INFO -  1 infos\n"
     ]
    },
    {
     "name": "stdout",
     "output_type": "stream",
     "text": [
      "No ref files for this ID\n",
      "crds bestrefs --files hst_10057_02_acs_wfc_fr914m_j8up02vd*flt.fits --sync-references=1 --update-bestrefs\n"
     ]
    },
    {
     "name": "stderr",
     "output_type": "stream",
     "text": [
      "CRDS - INFO -  No comparison context or source comparison requested.\n",
      "CRDS - ERROR -  Failed loading source 'hst_10057_02_acs_wfc_fr914m_j8up02vd*flt.fits' from 'FileHeaderGenerator' : [Errno 2] No such file or directory: 'hst_10057_02_acs_wfc_fr914m_j8up02vd*flt.fits'\n",
      "CRDS - INFO -  1 errors\n",
      "CRDS - INFO -  0 warnings\n",
      "CRDS - INFO -  1 infos\n"
     ]
    },
    {
     "name": "stdout",
     "output_type": "stream",
     "text": [
      "No ref files for this ID\n",
      "crds bestrefs --files hst_10057_02_acs_wfc_fr505n_j8up02uy*flt.fits --sync-references=1 --update-bestrefs\n"
     ]
    },
    {
     "name": "stderr",
     "output_type": "stream",
     "text": [
      "CRDS - INFO -  No comparison context or source comparison requested.\n",
      "CRDS - ERROR -  Failed loading source 'hst_10057_02_acs_wfc_fr505n_j8up02uy*flt.fits' from 'FileHeaderGenerator' : [Errno 2] No such file or directory: 'hst_10057_02_acs_wfc_fr505n_j8up02uy*flt.fits'\n",
      "CRDS - INFO -  1 errors\n",
      "CRDS - INFO -  0 warnings\n",
      "CRDS - INFO -  1 infos\n"
     ]
    },
    {
     "name": "stdout",
     "output_type": "stream",
     "text": [
      "No ref files for this ID\n",
      "crds bestrefs --files hst_10057_02_acs_wfc_fr914m_j8up02vc*flt.fits --sync-references=1 --update-bestrefs\n"
     ]
    },
    {
     "name": "stderr",
     "output_type": "stream",
     "text": [
      "CRDS - INFO -  No comparison context or source comparison requested.\n",
      "CRDS - ERROR -  Failed loading source 'hst_10057_02_acs_wfc_fr914m_j8up02vc*flt.fits' from 'FileHeaderGenerator' : [Errno 2] No such file or directory: 'hst_10057_02_acs_wfc_fr914m_j8up02vc*flt.fits'\n",
      "CRDS - INFO -  1 errors\n",
      "CRDS - INFO -  0 warnings\n",
      "CRDS - INFO -  1 infos\n"
     ]
    },
    {
     "name": "stdout",
     "output_type": "stream",
     "text": [
      "No ref files for this ID\n",
      "crds bestrefs --files hst_10057_02_acs_wfc_fr656n_j8up02us*flt.fits --sync-references=1 --update-bestrefs\n"
     ]
    },
    {
     "name": "stderr",
     "output_type": "stream",
     "text": [
      "CRDS - INFO -  No comparison context or source comparison requested.\n",
      "CRDS - ERROR -  Failed loading source 'hst_10057_02_acs_wfc_fr656n_j8up02us*flt.fits' from 'FileHeaderGenerator' : [Errno 2] No such file or directory: 'hst_10057_02_acs_wfc_fr656n_j8up02us*flt.fits'\n",
      "CRDS - INFO -  1 errors\n",
      "CRDS - INFO -  0 warnings\n",
      "CRDS - INFO -  1 infos\n"
     ]
    },
    {
     "name": "stdout",
     "output_type": "stream",
     "text": [
      "No ref files for this ID\n",
      "crds bestrefs --files hst_10057_02_acs_wfc_fr656n_j8up02uu*flt.fits --sync-references=1 --update-bestrefs\n"
     ]
    },
    {
     "name": "stderr",
     "output_type": "stream",
     "text": [
      "CRDS - INFO -  No comparison context or source comparison requested.\n",
      "CRDS - ERROR -  Failed loading source 'hst_10057_02_acs_wfc_fr656n_j8up02uu*flt.fits' from 'FileHeaderGenerator' : [Errno 2] No such file or directory: 'hst_10057_02_acs_wfc_fr656n_j8up02uu*flt.fits'\n",
      "CRDS - INFO -  1 errors\n",
      "CRDS - INFO -  0 warnings\n",
      "CRDS - INFO -  1 infos\n"
     ]
    },
    {
     "name": "stdout",
     "output_type": "stream",
     "text": [
      "No ref files for this ID\n",
      "crds bestrefs --files hst_10057_02_acs_wfc_fr388n_j8up02uv*flt.fits --sync-references=1 --update-bestrefs\n"
     ]
    },
    {
     "name": "stderr",
     "output_type": "stream",
     "text": [
      "CRDS - INFO -  No comparison context or source comparison requested.\n",
      "CRDS - ERROR -  Failed loading source 'hst_10057_02_acs_wfc_fr388n_j8up02uv*flt.fits' from 'FileHeaderGenerator' : [Errno 2] No such file or directory: 'hst_10057_02_acs_wfc_fr388n_j8up02uv*flt.fits'\n",
      "CRDS - INFO -  1 errors\n",
      "CRDS - INFO -  0 warnings\n",
      "CRDS - INFO -  1 infos\n"
     ]
    },
    {
     "name": "stdout",
     "output_type": "stream",
     "text": [
      "No ref files for this ID\n",
      "crds bestrefs --files hst_10057_02_acs_wfc_fr505n_j8up02v0*flt.fits --sync-references=1 --update-bestrefs\n"
     ]
    },
    {
     "name": "stderr",
     "output_type": "stream",
     "text": [
      "CRDS - INFO -  No comparison context or source comparison requested.\n",
      "CRDS - ERROR -  Failed loading source 'hst_10057_02_acs_wfc_fr505n_j8up02v0*flt.fits' from 'FileHeaderGenerator' : [Errno 2] No such file or directory: 'hst_10057_02_acs_wfc_fr505n_j8up02v0*flt.fits'\n",
      "CRDS - INFO -  1 errors\n",
      "CRDS - INFO -  0 warnings\n",
      "CRDS - INFO -  1 infos\n"
     ]
    },
    {
     "name": "stdout",
     "output_type": "stream",
     "text": [
      "No ref files for this ID\n",
      "crds bestrefs --files hst_10057_02_acs_wfc_fr459m_j8up02v9*flt.fits --sync-references=1 --update-bestrefs\n"
     ]
    },
    {
     "name": "stderr",
     "output_type": "stream",
     "text": [
      "CRDS - INFO -  No comparison context or source comparison requested.\n",
      "CRDS - ERROR -  Failed loading source 'hst_10057_02_acs_wfc_fr459m_j8up02v9*flt.fits' from 'FileHeaderGenerator' : [Errno 2] No such file or directory: 'hst_10057_02_acs_wfc_fr459m_j8up02v9*flt.fits'\n",
      "CRDS - INFO -  1 errors\n",
      "CRDS - INFO -  0 warnings\n",
      "CRDS - INFO -  1 infos\n"
     ]
    },
    {
     "name": "stdout",
     "output_type": "stream",
     "text": [
      "No ref files for this ID\n"
     ]
    }
   ],
   "source": [
    "for id in obs_table['obs_id']:\n",
    "    command = 'crds bestrefs --files %s*flt.fits --sync-references=1 --update-bestrefs' % id\n",
    "    print(command)\n",
    "    try:\n",
    "        subprocess.check_output(command, shell=True)\n",
    "    except:\n",
    "        print('No ref files for this ID')"
   ]
  },
  {
   "cell_type": "code",
   "execution_count": 7,
   "metadata": {},
   "outputs": [],
   "source": [
    "os.environ['jref'] = os.path.abspath(os.path.join('/Users/mila/Documents/Research', 'reference_files', 'references', 'hst', 'acs')) + os.path.sep"
   ]
  },
  {
   "cell_type": "code",
   "execution_count": 8,
   "metadata": {},
   "outputs": [
    {
     "name": "stdout",
     "output_type": "stream",
     "text": [
      "AstrometryDB service available...\n"
     ]
    },
    {
     "ename": "OSError",
     "evalue": "IDCTAB file /Users/mila/Documents/Research/reference_files/references/hst/acs/0461802ej_idc.fits not found",
     "output_type": "error",
     "traceback": [
      "\u001b[0;31m---------------------------------------------------------------------------\u001b[0m",
      "\u001b[0;31mOSError\u001b[0m                                   Traceback (most recent call last)",
      "Input \u001b[0;32mIn [8]\u001b[0m, in \u001b[0;36m<cell line: 2>\u001b[0;34m()\u001b[0m\n\u001b[1;32m      1\u001b[0m os\u001b[38;5;241m.\u001b[39mchdir(\u001b[38;5;124m'\u001b[39m\u001b[38;5;124m/Users/mila/Documents/Research/StScI-Notebook-Project/notebooks/MAST/Previewing-JWST-targets/OrionNebulaHST/\u001b[39m\u001b[38;5;124m'\u001b[39m) \n\u001b[0;32m----> 2\u001b[0m \u001b[43mstwcs\u001b[49m\u001b[38;5;241;43m.\u001b[39;49m\u001b[43mupdatewcs\u001b[49m\u001b[38;5;241;43m.\u001b[39;49m\u001b[43mupdatewcs\u001b[49m\u001b[43m(\u001b[49m\u001b[38;5;124;43m'\u001b[39;49m\u001b[38;5;124;43m*flt.fits\u001b[39;49m\u001b[38;5;124;43m'\u001b[39;49m\u001b[43m,\u001b[49m\u001b[43m \u001b[49m\u001b[43muse_db\u001b[49m\u001b[38;5;241;43m=\u001b[39;49m\u001b[38;5;28;43;01mTrue\u001b[39;49;00m\u001b[43m)\u001b[49m\n",
      "File \u001b[0;32m~/miniconda3/lib/python3.9/site-packages/stwcs/updatewcs/__init__.py:144\u001b[0m, in \u001b[0;36mupdatewcs\u001b[0;34m(input, vacorr, tddcorr, npolcorr, d2imcorr, checkfiles, verbose, use_db, all_wcs, remove_duplicates)\u001b[0m\n\u001b[1;32m    141\u001b[0m     astrometry \u001b[38;5;241m=\u001b[39m astrometry_utils\u001b[38;5;241m.\u001b[39mAstrometryDB(write_log\u001b[38;5;241m=\u001b[39mwrite_db_log)\n\u001b[1;32m    143\u001b[0m \u001b[38;5;28;01mfor\u001b[39;00m f \u001b[38;5;129;01min\u001b[39;00m files:\n\u001b[0;32m--> 144\u001b[0m     acorr \u001b[38;5;241m=\u001b[39m \u001b[43mapply_corrections\u001b[49m\u001b[38;5;241;43m.\u001b[39;49m\u001b[43msetCorrections\u001b[49m\u001b[43m(\u001b[49m\u001b[43mf\u001b[49m\u001b[43m,\u001b[49m\u001b[43m \u001b[49m\u001b[43mvacorr\u001b[49m\u001b[38;5;241;43m=\u001b[39;49m\u001b[43mvacorr\u001b[49m\u001b[43m,\u001b[49m\u001b[43m \u001b[49m\u001b[43mtddcorr\u001b[49m\u001b[38;5;241;43m=\u001b[39;49m\u001b[43mtddcorr\u001b[49m\u001b[43m,\u001b[49m\n\u001b[1;32m    145\u001b[0m \u001b[43m                                             \u001b[49m\u001b[43mnpolcorr\u001b[49m\u001b[38;5;241;43m=\u001b[39;49m\u001b[43mnpolcorr\u001b[49m\u001b[43m,\u001b[49m\u001b[43m \u001b[49m\u001b[43md2imcorr\u001b[49m\u001b[38;5;241;43m=\u001b[39;49m\u001b[43md2imcorr\u001b[49m\u001b[43m)\u001b[49m\n\u001b[1;32m    146\u001b[0m     \u001b[38;5;28;01mif\u001b[39;00m \u001b[38;5;124m'\u001b[39m\u001b[38;5;124mMakeWCS\u001b[39m\u001b[38;5;124m'\u001b[39m \u001b[38;5;129;01min\u001b[39;00m acorr \u001b[38;5;129;01mand\u001b[39;00m newIDCTAB(f):\n\u001b[1;32m    147\u001b[0m         logger\u001b[38;5;241m.\u001b[39mwarning(\u001b[38;5;124m\"\u001b[39m\u001b[38;5;130;01m\\n\u001b[39;00m\u001b[38;5;130;01m\\t\u001b[39;00m\u001b[38;5;124mNew IDCTAB file detected. All current WCSs will be deleted\u001b[39m\u001b[38;5;124m\"\u001b[39m)\n",
      "File \u001b[0;32m~/miniconda3/lib/python3.9/site-packages/stwcs/updatewcs/apply_corrections.py:67\u001b[0m, in \u001b[0;36msetCorrections\u001b[0;34m(fname, vacorr, tddcorr, npolcorr, d2imcorr)\u001b[0m\n\u001b[1;32m     63\u001b[0m     _ \u001b[38;5;241m=\u001b[39m wfpc2_dgeo\u001b[38;5;241m.\u001b[39mupdate_wfpc2_d2geofile(fname)\n\u001b[1;32m     64\u001b[0m \u001b[38;5;66;03m# Check if idctab is present on disk\u001b[39;00m\n\u001b[1;32m     65\u001b[0m \u001b[38;5;66;03m# If kw IDCTAB is present in the header but the file is\u001b[39;00m\n\u001b[1;32m     66\u001b[0m \u001b[38;5;66;03m# not found on disk, do not run TDDCorr, MakeCWS and CompSIP\u001b[39;00m\n\u001b[0;32m---> 67\u001b[0m \u001b[38;5;28;01mif\u001b[39;00m \u001b[38;5;129;01mnot\u001b[39;00m \u001b[43mfoundIDCTAB\u001b[49m\u001b[43m(\u001b[49m\u001b[43mfname\u001b[49m\u001b[43m)\u001b[49m:\n\u001b[1;32m     68\u001b[0m     \u001b[38;5;28;01mif\u001b[39;00m \u001b[38;5;124m'\u001b[39m\u001b[38;5;124mTDDCorr\u001b[39m\u001b[38;5;124m'\u001b[39m \u001b[38;5;129;01min\u001b[39;00m acorr: acorr\u001b[38;5;241m.\u001b[39mremove(\u001b[38;5;124m'\u001b[39m\u001b[38;5;124mTDDCorr\u001b[39m\u001b[38;5;124m'\u001b[39m)\n\u001b[1;32m     69\u001b[0m     \u001b[38;5;28;01mif\u001b[39;00m \u001b[38;5;124m'\u001b[39m\u001b[38;5;124mMakeWCS\u001b[39m\u001b[38;5;124m'\u001b[39m \u001b[38;5;129;01min\u001b[39;00m acorr: acorr\u001b[38;5;241m.\u001b[39mremove(\u001b[38;5;124m'\u001b[39m\u001b[38;5;124mMakeWCS\u001b[39m\u001b[38;5;124m'\u001b[39m)\n",
      "File \u001b[0;32m~/miniconda3/lib/python3.9/site-packages/stwcs/updatewcs/apply_corrections.py:123\u001b[0m, in \u001b[0;36mfoundIDCTAB\u001b[0;34m(fname)\u001b[0m\n\u001b[1;32m    121\u001b[0m     \u001b[38;5;28;01mreturn\u001b[39;00m \u001b[38;5;28;01mTrue\u001b[39;00m\n\u001b[1;32m    122\u001b[0m \u001b[38;5;28;01melse\u001b[39;00m:\n\u001b[0;32m--> 123\u001b[0m     \u001b[38;5;28;01mraise\u001b[39;00m \u001b[38;5;167;01mIOError\u001b[39;00m(\u001b[38;5;124m\"\u001b[39m\u001b[38;5;124mIDCTAB file \u001b[39m\u001b[38;5;132;01m{0}\u001b[39;00m\u001b[38;5;124m not found\u001b[39m\u001b[38;5;124m\"\u001b[39m\u001b[38;5;241m.\u001b[39mformat(idctab))\n",
      "\u001b[0;31mOSError\u001b[0m: IDCTAB file /Users/mila/Documents/Research/reference_files/references/hst/acs/0461802ej_idc.fits not found"
     ]
    }
   ],
   "source": [
    "os.chdir('/Users/mila/Documents/Research/StScI-Notebook-Project/notebooks/MAST/Previewing-JWST-targets/OrionNebulaHST/') \n",
    "stwcs.updatewcs.updatewcs('*flt.fits', use_db=True)"
   ]
  },
  {
   "cell_type": "markdown",
   "metadata": {},
   "source": [
    "Next, we use TweakReg to update the WCS metadata for the images using their updated reference files. "
   ]
  },
  {
   "cell_type": "code",
   "execution_count": null,
   "metadata": {},
   "outputs": [],
   "source": [
    "tweakreg.TweakReg('j8up02*.fits', updatehdr=True, reusename=True, interactive=False,\n",
    "                  conv_width=3.0, threshold=300.0, peakmin=100, peakmax=10000)"
   ]
  },
  {
   "cell_type": "markdown",
   "metadata": {},
   "source": [
    "### Edit this, currently copied.\n",
    "This step adjusts image data values so that all images and chips appear (to AstroDrizzle) to have a single inverse sensitivity (PHOTFLAM). This can be achieved using the photeq task in Drizzlepac. This task adjusts image data so that when these data are multiplied by the same single PHOTFLAM value, the correct flux is obtained."
   ]
  },
  {
   "cell_type": "code",
   "execution_count": null,
   "metadata": {},
   "outputs": [],
   "source": [
    "photeq.photeq(files='j8up02*.fits', ref_phot_ext=3, readonly=False)"
   ]
  },
  {
   "cell_type": "markdown",
   "metadata": {},
   "source": [
    "### Edit this, currently copied.\n",
    "In the above command, we instruct photeq to \"equalize\" all chips of all input images using the PHOTFLAM for the WF3 chip (ref_phot_ext=3), using the first image as a reference. This reference PHOTFLAM value is reported in the log file:\n",
    "\n",
    "REFERENCE VALUE FROM FILE: 'ua060502m_c0m.fits['SCI',1]'\n",
    "REFERENCE 'PHOTFLAM' VALUE IS: 2.507987e-18\n",
    "Upon the completion, photeq will not only adjust image data but also update PHOTFLAM values for all chips to this specific reference value."
   ]
  },
  {
   "cell_type": "code",
   "execution_count": null,
   "metadata": {},
   "outputs": [],
   "source": [
    "astrodrizzle.AstroDrizzle('j8up02*.fits',\n",
    "                          preserve=False,\n",
    "                          driz_sep_bits='8,1024',\n",
    "                          driz_sep_wcs=True,\n",
    "                          driz_sep_scale=0.0996,\n",
    "                          combine_type='median',\n",
    "                          driz_cr_snr='5.5 3.5',\n",
    "                          driz_cr_scale='2.0 1.5',\n",
    "                          final_fillval=None,\n",
    "                          final_bits='8,1024',\n",
    "                          final_wcs=True,\n",
    "                          final_scale=0.0996)"
   ]
  },
  {
   "cell_type": "markdown",
   "metadata": {},
   "source": [
    "Finally, we visualize our beautiful combined image!"
   ]
  },
  {
   "cell_type": "code",
   "execution_count": null,
   "metadata": {},
   "outputs": [],
   "source": [
    "drz = fits.getdata('final_drz_sci.fits')\n",
    "plt.figure(figsize=(15, 15))\n",
    "plt.imshow(drz, cmap='cubehelix', vmin=-0.1, vmax=0.5, origin='lower')"
   ]
  },
  {
   "cell_type": "markdown",
   "metadata": {},
   "source": [
    "For more complex cases, see: \n",
    "    notebooks/DrizzlePac/use_ds9_regions_in_tweakreg"
   ]
  },
  {
   "cell_type": "markdown",
   "metadata": {},
   "source": [
    "### Assignment 2\n",
    "Inspect the header file. What else can you learn about the observation and its processing from this? How many files were combined? Were these in the same, or different filters? What inputs were provided to AstroDrizzle?"
   ]
  },
  {
   "cell_type": "markdown",
   "metadata": {},
   "source": [
    "### Stacking images with tweakreg\n"
   ]
  },
  {
   "cell_type": "markdown",
   "metadata": {},
   "source": [
    "***"
   ]
  },
  {
   "cell_type": "markdown",
   "metadata": {},
   "source": [
    "## Exercises\n",
    "Exercises are optional, but encouraged. Exercises can be woven into the main content of your tutorial, or appear in their own section toward the end of the tutorial. Final exercises can be more challenging, similar to homework problems. They can be minimal or take as long as 30 minutes to an hour to complete. If you do have one or more exercises in your tutorial, be sure to leave a blank code cell underneath each to show the reader that they're meant to try out their new skill right there. You may also want to include a \"solutions\" notebook next to your main notebook for the reader to check their work after they have finished their attempt."
   ]
  },
  {
   "cell_type": "markdown",
   "metadata": {},
   "source": [
    "## Additional Resources\n",
    "\n",
    "This section is optional. Try to weave resource links into the main content of your tutorial so that they are falling in line with the context of your writing. For resources that do not fit cleanly into your narrative, you may include an additional resources section at the end of your tutorial. Usually a list of links using Markdown bullet list plus link format is appropriate:\n",
    "\n",
    "- [MAST API](https://mast.stsci.edu/api/v0/index.html)\n",
    "- [Kepler Archive Page (MAST)](https://archive.stsci.edu/kepler/)\n",
    "- [Kepler Archive Manual](https://archive.stsci.edu/kepler/manuals/archive_manual.pdf)\n",
    "- [Exo.MAST website](https://exo.mast.stsci.edu/)"
   ]
  },
  {
   "cell_type": "markdown",
   "metadata": {
    "slideshow": {
     "slide_type": "slide"
    }
   },
   "source": [
    "## About this Notebook\n",
    "\n",
    "**Author:** Urmila Chadayammuri, Postdoctoral Fellow, Smithsonian Astrophysical Observatory\n",
    "\n",
    "**Updated On:** 2022-07-24"
   ]
  },
  {
   "cell_type": "markdown",
   "metadata": {},
   "source": [
    "## Citations\n",
    "Provide your reader with guidelines on how to cite open source software and other resources in their own published work.\n",
    "\n",
    "```\n",
    "If you use `astropy` or `lightkurve` for published research, please cite the\n",
    "authors. Follow these links for more information about citing `astropy` and\n",
    "`lightkurve`:\n",
    "\n",
    "* [Citing `astropy`](https://www.astropy.org/acknowledging.html)\n",
    "* [Citing `lightkurve`](http://docs.lightkurve.org/about/citing.html)\n",
    "\n",
    "```"
   ]
  },
  {
   "cell_type": "markdown",
   "metadata": {},
   "source": [
    "***"
   ]
  },
  {
   "cell_type": "markdown",
   "metadata": {},
   "source": [
    "[Top of Page](#top)\n",
    "<img style=\"float: right;\" src=\"https://raw.githubusercontent.com/spacetelescope/notebooks/master/assets/stsci_pri_combo_mark_horizonal_white_bkgd.png\" alt=\"Space Telescope Logo\" width=\"200px\"/> "
   ]
  }
 ],
 "metadata": {
  "kernelspec": {
   "display_name": "Python 3 (ipykernel)",
   "language": "python",
   "name": "python3"
  },
  "language_info": {
   "codemirror_mode": {
    "name": "ipython",
    "version": 3
   },
   "file_extension": ".py",
   "mimetype": "text/x-python",
   "name": "python",
   "nbconvert_exporter": "python",
   "pygments_lexer": "ipython3",
   "version": "3.9.12"
  }
 },
 "nbformat": 4,
 "nbformat_minor": 2
}
