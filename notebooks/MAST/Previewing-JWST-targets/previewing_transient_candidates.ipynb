{
 "cells": [
  {
   "cell_type": "markdown",
   "metadata": {
    "slideshow": {
     "slide_type": "slide"
    }
   },
   "source": [
    "<a id=\"top\"></a>\n",
    "# Tutorial Title"
   ]
  },
  {
   "cell_type": "markdown",
   "metadata": {
    "slideshow": {
     "slide_type": "skip"
    }
   },
   "source": [
    "***"
   ]
  },
  {
   "cell_type": "markdown",
   "metadata": {},
   "source": [
    "## Learning Goals\n",
    "Write three to five learning goals. A learning goal should describe what a reader should know or be able to do by the end of the tutorial that they didn't know or couldn't do before.\n",
    "\n",
    "```\n",
    "By the end of this tutorial, you will:\n",
    "\n",
    "- Use astroquery to access the HST and Gaia archives\n",
    "- Understand the drizzle technique\n",
    "- Run a source extractor on HST images.\n",
    "- Cross match the HST and Gaia sources.\n",
    "- Create your view own previews of targets for future proposals, including for JWST!\n",
    "\n",
    "```"
   ]
  },
  {
   "cell_type": "markdown",
   "metadata": {
    "slideshow": {
     "slide_type": "slide"
    }
   },
   "source": [
    "## Introduction\n",
    "Write a short introduction explaining the purpose of the tutorial. Define any terms or common acronyms that your audience may not know. If you're using some kind of domain-specific astronomical symbol or unusual mathematical concept, make sure you define it (for example, in its mathematical form) and link to any definitions (from literature, Wikipedia, etc.).\n",
    "\n",
    "If there are background materials or resources that may be useful to the reader to provide additional context, you may link to it here. If your tutorial is a continuation from another tutorial, or there are other tutorials that would be useful for the reader to read before or after your tutorial, mention that here as well."
   ]
  },
  {
   "cell_type": "markdown",
   "metadata": {
    "slideshow": {
     "slide_type": "slide"
    }
   },
   "source": [
    "## Imports\n",
    "Describe the libraries we're using here. If there's something unusual, explain what the library is, and why we need it.\n",
    "- *numpy* to handle array functions\n",
    "- *astropy.io fits* for accessing FITS files\n",
    "- *astropy.table Table* for creating tidy tables of the data\n",
    "- *matplotlib.pyplot* for plotting data"
   ]
  },
  {
   "cell_type": "markdown",
   "metadata": {},
   "source": [
    "If any of the below modules are not currently installed, get them with pip3 in your command line:\n",
    "`pip3 install -u stwcs astropy astroquery`"
   ]
  },
  {
   "cell_type": "code",
   "execution_count": 34,
   "metadata": {
    "slideshow": {
     "slide_type": "fragment"
    }
   },
   "outputs": [],
   "source": [
    "%matplotlib inline\n",
    "import numpy as np\n",
    "from astropy.io import fits\n",
    "from astropy.table import Table\n",
    "import matplotlib.pyplot as plt\n",
    "from astroquery.mast import Mast\n",
    "from astroquery.mast import Observations\n",
    "import os, shutil, stwcs, subprocess, glob "
   ]
  },
  {
   "cell_type": "markdown",
   "metadata": {},
   "source": [
    "Let's start by retrieving images of our object of interest from the HST Archive. For this project, we will consider the Orion Nebula. Astroquery.Observations allows you to query targets by name, and it is helpful to additionally specify a search radius. We download the products and store them locally. \n",
    "\n",
    "More famous objects have been observed by Hubble many times, so the download may be prohibitively large. You may want to select only images in a certain band, or apply filters on any of the [fields listed here.]( https://mast.stsci.edu/api/v0/_c_a_o_mfields.html)"
   ]
  },
  {
   "cell_type": "code",
   "execution_count": 39,
   "metadata": {},
   "outputs": [
    {
     "data": {
      "text/html": [
       "<div><i>Table masked=True length=44</i>\n",
       "<table id=\"table140641673947216\" class=\"table-striped table-bordered table-condensed\">\n",
       "<thead><tr><th>dataproduct_type</th><th>calib_level</th><th>obs_collection</th><th>obs_id</th><th>target_name</th><th>s_ra</th><th>s_dec</th><th>t_min</th><th>t_max</th><th>t_exptime</th><th>wavelength_region</th><th>filters</th><th>em_min</th><th>em_max</th><th>target_classification</th><th>obs_title</th><th>t_obs_release</th><th>instrument_name</th><th>proposal_pi</th><th>proposal_id</th><th>proposal_type</th><th>project</th><th>sequence_number</th><th>provenance_name</th><th>s_region</th><th>jpegURL</th><th>dataURL</th><th>dataRights</th><th>mtFlag</th><th>srcDen</th><th>intentType</th><th>obsid</th><th>objID</th></tr></thead>\n",
       "<thead><tr><th>str5</th><th>int64</th><th>str4</th><th>str38</th><th>str11</th><th>float64</th><th>float64</th><th>float64</th><th>float64</th><th>float64</th><th>str8</th><th>str26</th><th>float64</th><th>float64</th><th>str23</th><th>str27</th><th>float64</th><th>str7</th><th>str20</th><th>str5</th><th>str10</th><th>str10</th><th>int64</th><th>str10</th><th>str133</th><th>str88</th><th>str87</th><th>str6</th><th>bool</th><th>float64</th><th>str7</th><th>str8</th><th>str9</th></tr></thead>\n",
       "<tr><td>image</td><td>3</td><td>HST</td><td>j8up02usq</td><td>ORIONNEBULA</td><td>83.81875</td><td>-5.38975</td><td>53025.179451655094</td><td>53025.1811996875</td><td>150.0</td><td>Optical</td><td>CLEAR1L;FR656N</td><td>200.0</td><td>1100.0</td><td>CALIBRATION</td><td>ACS Ramp Filter Calibration</td><td>53025.78548604</td><td>ACS/WFC</td><td>Jogee, Shardha</td><td>10057</td><td>CAL/ACS</td><td>HST</td><td>--</td><td>CALACS</td><td>POLYGON 83.817931 -5.410508 83.798123 -5.388606 83.819603 -5.36935 83.839412 -5.391251 83.817931 -5.410508</td><td>mast:HST/product/j8up02usq_drz.jpg</td><td>mast:HST/product/j8up02usq_drz.fits</td><td>PUBLIC</td><td>False</td><td>nan</td><td>science</td><td>24016393</td><td>121741157</td></tr>\n",
       "<tr><td>image</td><td>3</td><td>HST</td><td>j8up02utq</td><td>ORIONNEBULA</td><td>83.81875</td><td>-5.38975</td><td>53025.18352569445</td><td>53025.18527376158</td><td>150.0</td><td>Optical</td><td>CLEAR1L;FR656N</td><td>200.0</td><td>1100.0</td><td>CALIBRATION</td><td>ACS Ramp Filter Calibration</td><td>53025.78619211</td><td>ACS/WFC</td><td>Jogee, Shardha</td><td>10057</td><td>CAL/ACS</td><td>HST</td><td>--</td><td>CALACS</td><td>POLYGON 83.817931 -5.410508 83.798123 -5.388606 83.819603 -5.36935 83.839412 -5.391251 83.817931 -5.410508</td><td>mast:HST/product/j8up02utq_drz.jpg</td><td>mast:HST/product/j8up02utq_drz.fits</td><td>PUBLIC</td><td>False</td><td>nan</td><td>science</td><td>24016394</td><td>121741219</td></tr>\n",
       "<tr><td>image</td><td>3</td><td>HST</td><td>j8up02uuq</td><td>ORIONNEBULA</td><td>83.81875</td><td>-5.38975</td><td>53025.18759980324</td><td>53025.18934783565</td><td>150.0</td><td>Optical</td><td>CLEAR1L;FR656N</td><td>200.0</td><td>1100.0</td><td>CALIBRATION</td><td>ACS Ramp Filter Calibration</td><td>53025.78692124</td><td>ACS/WFC</td><td>Jogee, Shardha</td><td>10057</td><td>CAL/ACS</td><td>HST</td><td>--</td><td>CALACS</td><td>POLYGON 83.817931 -5.410508 83.798123 -5.388606 83.819603 -5.36935 83.839412 -5.391251 83.817931 -5.410508</td><td>mast:HST/product/j8up02uuq_drz.jpg</td><td>mast:HST/product/j8up02uuq_drz.fits</td><td>PUBLIC</td><td>False</td><td>nan</td><td>science</td><td>24016395</td><td>121741204</td></tr>\n",
       "<tr><td>image</td><td>3</td><td>HST</td><td>j8up02uvq</td><td>ORIONNEBULA</td><td>83.81875</td><td>-5.38975</td><td>53025.19178943287</td><td>53025.193537465275</td><td>150.0</td><td>Optical</td><td>CLEAR1L;FR388N</td><td>200.0</td><td>1100.0</td><td>CALIBRATION</td><td>ACS Ramp Filter Calibration</td><td>53025.78775462</td><td>ACS/WFC</td><td>Jogee, Shardha</td><td>10057</td><td>CAL/ACS</td><td>HST</td><td>--</td><td>CALACS</td><td>POLYGON 83.817931 -5.410508 83.798123 -5.388606 83.819603 -5.369349 83.839412 -5.391251 83.817931 -5.410508</td><td>mast:HST/product/j8up02uvq_drz.jpg</td><td>mast:HST/product/j8up02uvq_drz.fits</td><td>PUBLIC</td><td>False</td><td>nan</td><td>science</td><td>24016396</td><td>121741214</td></tr>\n",
       "<tr><td>image</td><td>3</td><td>HST</td><td>j8up02uwq</td><td>ORIONNEBULA</td><td>83.81875</td><td>-5.38975</td><td>53025.19584054398</td><td>53025.20048190972</td><td>400.0</td><td>Optical</td><td>CLEAR1L;FR388N</td><td>200.0</td><td>1100.0</td><td>CALIBRATION</td><td>ACS Ramp Filter Calibration</td><td>53025.60020823</td><td>ACS/WFC</td><td>Jogee, Shardha</td><td>10057</td><td>CAL/ACS</td><td>HST</td><td>--</td><td>CALACS</td><td>POLYGON 83.817931 -5.410508 83.798123 -5.388605 83.819603 -5.369349 83.839412 -5.391251 83.817931 -5.410508</td><td>mast:HST/product/j8up02uwq_drz.jpg</td><td>mast:HST/product/j8up02uwq_drz.fits</td><td>PUBLIC</td><td>False</td><td>nan</td><td>science</td><td>24016397</td><td>121741185</td></tr>\n",
       "<tr><td>image</td><td>3</td><td>HST</td><td>j8up02uyq</td><td>ORIONNEBULA</td><td>83.81875</td><td>-5.38975</td><td>53025.202993136576</td><td>53025.20474116898</td><td>150.0</td><td>Optical</td><td>CLEAR1L;FR505N</td><td>200.0</td><td>1100.0</td><td>CALIBRATION</td><td>ACS Ramp Filter Calibration</td><td>53025.60090273</td><td>ACS/WFC</td><td>Jogee, Shardha</td><td>10057</td><td>CAL/ACS</td><td>HST</td><td>--</td><td>CALACS</td><td>POLYGON 83.817931 -5.410507 83.798123 -5.388605 83.819603 -5.369349 83.839412 -5.391251 83.817931 -5.410507</td><td>mast:HST/product/j8up02uyq_drz.jpg</td><td>mast:HST/product/j8up02uyq_drz.fits</td><td>PUBLIC</td><td>False</td><td>nan</td><td>science</td><td>24016398</td><td>121741174</td></tr>\n",
       "<tr><td>image</td><td>3</td><td>HST</td><td>j8up02v0q</td><td>ORIONNEBULA</td><td>83.81875</td><td>-5.38975</td><td>53025.20706721065</td><td>53025.20881524306</td><td>150.0</td><td>Optical</td><td>CLEAR1L;FR505N</td><td>200.0</td><td>1100.0</td><td>CALIBRATION</td><td>ACS Ramp Filter Calibration</td><td>53025.78953694</td><td>ACS/WFC</td><td>Jogee, Shardha</td><td>10057</td><td>CAL/ACS</td><td>HST</td><td>--</td><td>CALACS</td><td>POLYGON 83.817931 -5.410507 83.798123 -5.388605 83.819603 -5.369349 83.839412 -5.391251 83.817931 -5.410507</td><td>mast:HST/product/j8up02v0q_drz.jpg</td><td>mast:HST/product/j8up02v0q_drz.fits</td><td>PUBLIC</td><td>False</td><td>nan</td><td>science</td><td>24016399</td><td>121741211</td></tr>\n",
       "<tr><td>image</td><td>3</td><td>HST</td><td>j8up02v5q</td><td>ORIONNEBULA</td><td>83.81875</td><td>-5.38975</td><td>53025.24283128472</td><td>53025.24457931713</td><td>150.0</td><td>Optical</td><td>CLEAR1L;FR459M</td><td>200.0</td><td>1100.0</td><td>CALIBRATION</td><td>ACS Ramp Filter Calibration</td><td>53025.79164349</td><td>ACS/WFC</td><td>Jogee, Shardha</td><td>10057</td><td>CAL/ACS</td><td>HST</td><td>--</td><td>CALACS</td><td>POLYGON 83.817931 -5.410508 83.798123 -5.388606 83.819603 -5.36935 83.839412 -5.391251 83.817931 -5.410508</td><td>mast:HST/product/j8up02v5q_drz.jpg</td><td>mast:HST/product/j8up02v5q_drz.fits</td><td>PUBLIC</td><td>False</td><td>nan</td><td>science</td><td>24016400</td><td>121741178</td></tr>\n",
       "<tr><td>image</td><td>3</td><td>HST</td><td>j8up02v7q</td><td>ORIONNEBULA</td><td>83.81875</td><td>-5.38975</td><td>53025.24690532407</td><td>53025.2486533912</td><td>150.0</td><td>Optical</td><td>CLEAR1L;FR459M</td><td>200.0</td><td>1100.0</td><td>CALIBRATION</td><td>ACS Ramp Filter Calibration</td><td>53025.79233789</td><td>ACS/WFC</td><td>Jogee, Shardha</td><td>10057</td><td>CAL/ACS</td><td>HST</td><td>--</td><td>CALACS</td><td>POLYGON 83.817931 -5.410508 83.798123 -5.388606 83.819603 -5.36935 83.839412 -5.391251 83.817931 -5.410508</td><td>mast:HST/product/j8up02v7q_drz.jpg</td><td>mast:HST/product/j8up02v7q_drz.fits</td><td>PUBLIC</td><td>False</td><td>nan</td><td>science</td><td>24016401</td><td>121741200</td></tr>\n",
       "<tr><td>image</td><td>3</td><td>HST</td><td>j8up02v9q</td><td>ORIONNEBULA</td><td>83.81875</td><td>-5.38975</td><td>53025.25097943287</td><td>53025.252727465275</td><td>150.0</td><td>Optical</td><td>CLEAR1L;FR459M</td><td>200.0</td><td>1100.0</td><td>CALIBRATION</td><td>ACS Ramp Filter Calibration</td><td>53025.79269664</td><td>ACS/WFC</td><td>Jogee, Shardha</td><td>10057</td><td>CAL/ACS</td><td>HST</td><td>--</td><td>CALACS</td><td>POLYGON 83.817931 -5.410508 83.798123 -5.388606 83.819603 -5.36935 83.839412 -5.391251 83.817931 -5.410508</td><td>mast:HST/product/j8up02v9q_drz.jpg</td><td>mast:HST/product/j8up02v9q_drz.fits</td><td>PUBLIC</td><td>False</td><td>nan</td><td>science</td><td>24016402</td><td>121741150</td></tr>\n",
       "<tr><td>...</td><td>...</td><td>...</td><td>...</td><td>...</td><td>...</td><td>...</td><td>...</td><td>...</td><td>...</td><td>...</td><td>...</td><td>...</td><td>...</td><td>...</td><td>...</td><td>...</td><td>...</td><td>...</td><td>...</td><td>...</td><td>...</td><td>...</td><td>...</td><td>...</td><td>...</td><td>...</td><td>...</td><td>...</td><td>...</td><td>...</td><td>...</td><td>...</td></tr>\n",
       "<tr><td>image</td><td>2</td><td>HST</td><td>hst_10057_02_acs_wfc_fr459m_j8up02v5</td><td>ORIONNEBULA</td><td>83.81875</td><td>-5.38975</td><td>53025.24283127</td><td>53025.24457932</td><td>150.0</td><td>--</td><td>--</td><td>nan</td><td>nan</td><td>--</td><td>--</td><td>53025.79164349</td><td>ACS/WFC</td><td>Jogee, Shardha</td><td>10057</td><td>HAP</td><td>HAP</td><td>--</td><td>HAP</td><td>POLYGON 83.81793 -5.410509 83.799385 -5.388632 83.819602 -5.369344 83.837648 -5.391097 83.81793 -5.410509</td><td>--</td><td>mast:HST/product/hst_10057_02_acs_wfc_fr459m_j8up02v5_flt.fits</td><td>PUBLIC</td><td>False</td><td>nan</td><td>science</td><td>71322181</td><td>137757824</td></tr>\n",
       "<tr><td>image</td><td>2</td><td>HST</td><td>hst_10057_02_acs_wfc_fr656n_j8up02ut</td><td>ORIONNEBULA</td><td>83.81875</td><td>-5.38975</td><td>53025.18352571</td><td>53025.18527377</td><td>150.0</td><td>--</td><td>--</td><td>nan</td><td>nan</td><td>--</td><td>--</td><td>53025.78619211</td><td>ACS/WFC</td><td>Jogee, Shardha</td><td>10057</td><td>HAP</td><td>HAP</td><td>--</td><td>HAP</td><td>POLYGON 83.81793 -5.410509 83.799385 -5.388632 83.819602 -5.369344 83.837648 -5.391097 83.81793 -5.410509</td><td>--</td><td>mast:HST/product/hst_10057_02_acs_wfc_fr656n_j8up02ut_flt.fits</td><td>PUBLIC</td><td>False</td><td>nan</td><td>science</td><td>71322195</td><td>137757844</td></tr>\n",
       "<tr><td>image</td><td>2</td><td>HST</td><td>hst_10057_02_acs_wfc_fr914m_j8up02vd</td><td>ORIONNEBULA</td><td>83.81875</td><td>-5.38975</td><td>53025.2632709</td><td>53025.26501895</td><td>150.0</td><td>--</td><td>--</td><td>nan</td><td>nan</td><td>--</td><td>--</td><td>53025.79479152</td><td>ACS/WFC</td><td>Jogee, Shardha</td><td>10057</td><td>HAP</td><td>HAP</td><td>--</td><td>HAP</td><td>POLYGON 83.81793 -5.410508 83.799386 -5.388632 83.819602 -5.369345 83.837647 -5.391097 83.81793 -5.410508</td><td>--</td><td>mast:HST/product/hst_10057_02_acs_wfc_fr914m_j8up02vd_flt.fits</td><td>PUBLIC</td><td>False</td><td>nan</td><td>science</td><td>71322208</td><td>137757866</td></tr>\n",
       "<tr><td>image</td><td>2</td><td>HST</td><td>hst_10057_02_acs_wfc_fr505n_j8up02uy</td><td>ORIONNEBULA</td><td>83.81875</td><td>-5.38975</td><td>53025.20299312</td><td>53025.20474118</td><td>150.0</td><td>--</td><td>--</td><td>nan</td><td>nan</td><td>--</td><td>--</td><td>53025.60090273</td><td>ACS/WFC</td><td>Jogee, Shardha</td><td>10057</td><td>HAP</td><td>HAP</td><td>--</td><td>HAP</td><td>POLYGON 83.81793 -5.410508 83.799386 -5.388632 83.819602 -5.369345 83.837647 -5.391097 83.81793 -5.410508</td><td>--</td><td>mast:HST/product/hst_10057_02_acs_wfc_fr505n_j8up02uy_flt.fits</td><td>PUBLIC</td><td>False</td><td>nan</td><td>science</td><td>71322221</td><td>137757881</td></tr>\n",
       "<tr><td>image</td><td>2</td><td>HST</td><td>hst_10057_02_acs_wfc_fr914m_j8up02vc</td><td>ORIONNEBULA</td><td>83.81875</td><td>-5.38975</td><td>53025.25919682</td><td>53025.26094488</td><td>150.0</td><td>--</td><td>--</td><td>nan</td><td>nan</td><td>--</td><td>--</td><td>53025.79408554</td><td>ACS/WFC</td><td>Jogee, Shardha</td><td>10057</td><td>HAP</td><td>HAP</td><td>--</td><td>HAP</td><td>POLYGON 83.81793 -5.410508 83.799385 -5.388632 83.819602 -5.369344 83.837648 -5.391097 83.81793 -5.410508</td><td>--</td><td>mast:HST/product/hst_10057_02_acs_wfc_fr914m_j8up02vc_flt.fits</td><td>PUBLIC</td><td>False</td><td>nan</td><td>science</td><td>71322234</td><td>137757901</td></tr>\n",
       "<tr><td>image</td><td>2</td><td>HST</td><td>hst_10057_02_acs_wfc_fr656n_j8up02us</td><td>ORIONNEBULA</td><td>83.81875</td><td>-5.38975</td><td>53025.17945164</td><td>53025.1811997</td><td>150.0</td><td>--</td><td>--</td><td>nan</td><td>nan</td><td>--</td><td>--</td><td>53025.78548604</td><td>ACS/WFC</td><td>Jogee, Shardha</td><td>10057</td><td>HAP</td><td>HAP</td><td>--</td><td>HAP</td><td>POLYGON 83.81793 -5.410509 83.799385 -5.388632 83.819602 -5.369344 83.837648 -5.391097 83.81793 -5.410509</td><td>--</td><td>mast:HST/product/hst_10057_02_acs_wfc_fr656n_j8up02us_flt.fits</td><td>PUBLIC</td><td>False</td><td>nan</td><td>science</td><td>71322252</td><td>137757922</td></tr>\n",
       "<tr><td>image</td><td>2</td><td>HST</td><td>hst_10057_02_acs_wfc_fr656n_j8up02uu</td><td>ORIONNEBULA</td><td>83.81875</td><td>-5.38975</td><td>53025.18759979</td><td>53025.18934784</td><td>150.0</td><td>--</td><td>--</td><td>nan</td><td>nan</td><td>--</td><td>--</td><td>53025.78692124</td><td>ACS/WFC</td><td>Jogee, Shardha</td><td>10057</td><td>HAP</td><td>HAP</td><td>--</td><td>HAP</td><td>POLYGON 83.81793 -5.410508 83.799385 -5.388632 83.819602 -5.369344 83.837648 -5.391097 83.81793 -5.410508</td><td>--</td><td>mast:HST/product/hst_10057_02_acs_wfc_fr656n_j8up02uu_flt.fits</td><td>PUBLIC</td><td>False</td><td>nan</td><td>science</td><td>71322267</td><td>137757943</td></tr>\n",
       "<tr><td>image</td><td>2</td><td>HST</td><td>hst_10057_02_acs_wfc_fr388n_j8up02uv</td><td>ORIONNEBULA</td><td>83.81875</td><td>-5.38975</td><td>53025.19178942</td><td>53025.19353747</td><td>150.0</td><td>--</td><td>--</td><td>nan</td><td>nan</td><td>--</td><td>--</td><td>53025.78775462</td><td>ACS/WFC</td><td>Jogee, Shardha</td><td>10057</td><td>HAP</td><td>HAP</td><td>--</td><td>HAP</td><td>POLYGON 83.81793 -5.410508 83.799385 -5.388632 83.819602 -5.369344 83.837648 -5.391097 83.81793 -5.410508</td><td>--</td><td>mast:HST/product/hst_10057_02_acs_wfc_fr388n_j8up02uv_flt.fits</td><td>PUBLIC</td><td>False</td><td>nan</td><td>science</td><td>71322283</td><td>137757965</td></tr>\n",
       "<tr><td>image</td><td>2</td><td>HST</td><td>hst_10057_02_acs_wfc_fr505n_j8up02v0</td><td>ORIONNEBULA</td><td>83.81875</td><td>-5.38975</td><td>53025.2070672</td><td>53025.20881525</td><td>150.0</td><td>--</td><td>--</td><td>nan</td><td>nan</td><td>--</td><td>--</td><td>53025.78953694</td><td>ACS/WFC</td><td>Jogee, Shardha</td><td>10057</td><td>HAP</td><td>HAP</td><td>--</td><td>HAP</td><td>POLYGON 83.81793 -5.410508 83.799386 -5.388632 83.819602 -5.369345 83.837647 -5.391097 83.81793 -5.410508</td><td>--</td><td>mast:HST/product/hst_10057_02_acs_wfc_fr505n_j8up02v0_flt.fits</td><td>PUBLIC</td><td>False</td><td>nan</td><td>science</td><td>71322299</td><td>137757988</td></tr>\n",
       "<tr><td>image</td><td>2</td><td>HST</td><td>hst_10057_02_acs_wfc_fr459m_j8up02v9</td><td>ORIONNEBULA</td><td>83.81875</td><td>-5.38975</td><td>53025.25097942</td><td>53025.25272747</td><td>150.0</td><td>--</td><td>--</td><td>nan</td><td>nan</td><td>--</td><td>--</td><td>53025.79269664</td><td>ACS/WFC</td><td>Jogee, Shardha</td><td>10057</td><td>HAP</td><td>HAP</td><td>--</td><td>HAP</td><td>POLYGON 83.81793 -5.410509 83.799385 -5.388632 83.819602 -5.369344 83.837648 -5.391097 83.81793 -5.410509</td><td>--</td><td>mast:HST/product/hst_10057_02_acs_wfc_fr459m_j8up02v9_flt.fits</td><td>PUBLIC</td><td>False</td><td>nan</td><td>science</td><td>71322311</td><td>137758006</td></tr>\n",
       "</table></div>"
      ],
      "text/plain": [
       "<Table masked=True length=44>\n",
       "dataproduct_type calib_level obs_collection ... intentType  obsid     objID  \n",
       "      str5          int64         str4      ...    str7      str8      str9  \n",
       "---------------- ----------- -------------- ... ---------- -------- ---------\n",
       "           image           3            HST ...    science 24016393 121741157\n",
       "           image           3            HST ...    science 24016394 121741219\n",
       "           image           3            HST ...    science 24016395 121741204\n",
       "           image           3            HST ...    science 24016396 121741214\n",
       "           image           3            HST ...    science 24016397 121741185\n",
       "           image           3            HST ...    science 24016398 121741174\n",
       "           image           3            HST ...    science 24016399 121741211\n",
       "           image           3            HST ...    science 24016400 121741178\n",
       "           image           3            HST ...    science 24016401 121741200\n",
       "           image           3            HST ...    science 24016402 121741150\n",
       "             ...         ...            ... ...        ...      ...       ...\n",
       "           image           2            HST ...    science 71322181 137757824\n",
       "           image           2            HST ...    science 71322195 137757844\n",
       "           image           2            HST ...    science 71322208 137757866\n",
       "           image           2            HST ...    science 71322221 137757881\n",
       "           image           2            HST ...    science 71322234 137757901\n",
       "           image           2            HST ...    science 71322252 137757922\n",
       "           image           2            HST ...    science 71322267 137757943\n",
       "           image           2            HST ...    science 71322283 137757965\n",
       "           image           2            HST ...    science 71322299 137757988\n",
       "           image           2            HST ...    science 71322311 137758006"
      ]
     },
     "execution_count": 39,
     "metadata": {},
     "output_type": "execute_result"
    }
   ],
   "source": [
    "obs_table = Observations.query_criteria(target_name=[\"Orion\",\"OrionNebula\"],intentType='science',dataproduct_type='image')\n",
    "obs_table"
   ]
  },
  {
   "cell_type": "code",
   "execution_count": 40,
   "metadata": {},
   "outputs": [
    {
     "name": "stdout",
     "output_type": "stream",
     "text": [
      "Downloading URL https://mast.stsci.edu/api/v0.1/Download/file?uri=mast:HST/product/j8up02usq_flt_hlet.fits to ./mastDownload/HST/j8up02usq/j8up02usq_flt_hlet.fits ... [Done]\n",
      "Downloading URL https://mast.stsci.edu/api/v0.1/Download/file?uri=mast:HST/product/j8up02usj_jif.fits to ./mastDownload/HST/j8up02usq/j8up02usj_jif.fits ... [Done]\n",
      "Downloading URL https://mast.stsci.edu/api/v0.1/Download/file?uri=mast:HST/product/j8up02usj_jit.fits to ./mastDownload/HST/j8up02usq/j8up02usj_jit.fits ... [Done]\n",
      "Downloading URL https://mast.stsci.edu/api/v0.1/Download/file?uri=mast:HST/product/j8up02usq_spt.fits to ./mastDownload/HST/j8up02usq/j8up02usq_spt.fits ... [Done]\n",
      "Downloading URL https://mast.stsci.edu/api/v0.1/Download/file?uri=mast:HST/product/j8up02usq_trl.fits to ./mastDownload/HST/j8up02usq/j8up02usq_trl.fits ... [Done]\n",
      "Downloading URL https://mast.stsci.edu/api/v0.1/Download/file?uri=mast:HST/product/j8up02usq_drz.jpg to ./mastDownload/HST/j8up02usq/j8up02usq_drz.jpg ... [Done]\n",
      "Downloading URL https://mast.stsci.edu/api/v0.1/Download/file?uri=mast:HST/product/j8up02usq_raw.jpg to ./mastDownload/HST/j8up02usq/j8up02usq_raw.jpg ... [Done]\n",
      "Downloading URL https://mast.stsci.edu/api/v0.1/Download/file?uri=mast:HST/product/j8up02usq_flt.jpg to ./mastDownload/HST/j8up02usq/j8up02usq_flt.jpg ... [Done]\n",
      "Downloading URL https://mast.stsci.edu/api/v0.1/Download/file?uri=mast:HST/product/j8up02usq_raw.fits to ./mastDownload/HST/j8up02usq/j8up02usq_raw.fits ... [Done]\n",
      "Downloading URL https://mast.stsci.edu/api/v0.1/Download/file?uri=mast:HST/product/j8up02usq_drz.fits to ./mastDownload/HST/j8up02usq/j8up02usq_drz.fits ... [Done]\n",
      "Downloading URL https://mast.stsci.edu/api/v0.1/Download/file?uri=mast:HST/product/j8up02usq_flt.fits to ./mastDownload/HST/j8up02usq/j8up02usq_flt.fits ... [Done]\n",
      "Downloading URL https://mast.stsci.edu/api/v0.1/Download/file?uri=mast:HST/product/j8up02utq_flt_hlet.fits to ./mastDownload/HST/j8up02utq/j8up02utq_flt_hlet.fits ... [Done]\n",
      "Downloading URL https://mast.stsci.edu/api/v0.1/Download/file?uri=mast:HST/product/j8up02utj_jif.fits to ./mastDownload/HST/j8up02utq/j8up02utj_jif.fits ... [Done]\n",
      "Downloading URL https://mast.stsci.edu/api/v0.1/Download/file?uri=mast:HST/product/j8up02utj_jit.fits to ./mastDownload/HST/j8up02utq/j8up02utj_jit.fits ... [Done]\n",
      "Downloading URL https://mast.stsci.edu/api/v0.1/Download/file?uri=mast:HST/product/j8up02utq_spt.fits to ./mastDownload/HST/j8up02utq/j8up02utq_spt.fits ... [Done]\n",
      "Downloading URL https://mast.stsci.edu/api/v0.1/Download/file?uri=mast:HST/product/j8up02utq_trl.fits to ./mastDownload/HST/j8up02utq/j8up02utq_trl.fits ... [Done]\n",
      "Downloading URL https://mast.stsci.edu/api/v0.1/Download/file?uri=mast:HST/product/j8up02utq_drz.jpg to ./mastDownload/HST/j8up02utq/j8up02utq_drz.jpg ... [Done]\n",
      "Downloading URL https://mast.stsci.edu/api/v0.1/Download/file?uri=mast:HST/product/j8up02utq_raw.jpg to ./mastDownload/HST/j8up02utq/j8up02utq_raw.jpg ... [Done]\n",
      "Downloading URL https://mast.stsci.edu/api/v0.1/Download/file?uri=mast:HST/product/j8up02utq_flt.jpg to ./mastDownload/HST/j8up02utq/j8up02utq_flt.jpg ... [Done]\n",
      "Downloading URL https://mast.stsci.edu/api/v0.1/Download/file?uri=mast:HST/product/j8up02utq_raw.fits to ./mastDownload/HST/j8up02utq/j8up02utq_raw.fits ... [Done]\n",
      "Downloading URL https://mast.stsci.edu/api/v0.1/Download/file?uri=mast:HST/product/j8up02utq_drz.fits to ./mastDownload/HST/j8up02utq/j8up02utq_drz.fits ... [Done]\n",
      "Downloading URL https://mast.stsci.edu/api/v0.1/Download/file?uri=mast:HST/product/j8up02utq_flt.fits to ./mastDownload/HST/j8up02utq/j8up02utq_flt.fits ... [Done]\n",
      "Downloading URL https://mast.stsci.edu/api/v0.1/Download/file?uri=mast:HST/product/j8up02uuq_flt_hlet.fits to ./mastDownload/HST/j8up02uuq/j8up02uuq_flt_hlet.fits ... [Done]\n",
      "Downloading URL https://mast.stsci.edu/api/v0.1/Download/file?uri=mast:HST/product/j8up02uuj_jif.fits to ./mastDownload/HST/j8up02uuq/j8up02uuj_jif.fits ... [Done]\n",
      "Downloading URL https://mast.stsci.edu/api/v0.1/Download/file?uri=mast:HST/product/j8up02uuj_jit.fits to ./mastDownload/HST/j8up02uuq/j8up02uuj_jit.fits ... [Done]\n",
      "Downloading URL https://mast.stsci.edu/api/v0.1/Download/file?uri=mast:HST/product/j8up02uuq_spt.fits to ./mastDownload/HST/j8up02uuq/j8up02uuq_spt.fits ... [Done]\n",
      "Downloading URL https://mast.stsci.edu/api/v0.1/Download/file?uri=mast:HST/product/j8up02uuq_trl.fits to ./mastDownload/HST/j8up02uuq/j8up02uuq_trl.fits ... [Done]\n",
      "Downloading URL https://mast.stsci.edu/api/v0.1/Download/file?uri=mast:HST/product/j8up02uuq_drz.jpg to ./mastDownload/HST/j8up02uuq/j8up02uuq_drz.jpg ... [Done]\n",
      "Downloading URL https://mast.stsci.edu/api/v0.1/Download/file?uri=mast:HST/product/j8up02uuq_raw.jpg to ./mastDownload/HST/j8up02uuq/j8up02uuq_raw.jpg ... [Done]\n",
      "Downloading URL https://mast.stsci.edu/api/v0.1/Download/file?uri=mast:HST/product/j8up02uuq_flt.jpg to ./mastDownload/HST/j8up02uuq/j8up02uuq_flt.jpg ... [Done]\n",
      "Downloading URL https://mast.stsci.edu/api/v0.1/Download/file?uri=mast:HST/product/j8up02uuq_raw.fits to ./mastDownload/HST/j8up02uuq/j8up02uuq_raw.fits ... [Done]\n",
      "Downloading URL https://mast.stsci.edu/api/v0.1/Download/file?uri=mast:HST/product/j8up02uuq_drz.fits to ./mastDownload/HST/j8up02uuq/j8up02uuq_drz.fits ... [Done]\n",
      "Downloading URL https://mast.stsci.edu/api/v0.1/Download/file?uri=mast:HST/product/j8up02uuq_flt.fits to ./mastDownload/HST/j8up02uuq/j8up02uuq_flt.fits ... [Done]\n",
      "Downloading URL https://mast.stsci.edu/api/v0.1/Download/file?uri=mast:HST/product/j8up02uvq_flt_hlet.fits to ./mastDownload/HST/j8up02uvq/j8up02uvq_flt_hlet.fits ... [Done]\n",
      "Downloading URL https://mast.stsci.edu/api/v0.1/Download/file?uri=mast:HST/product/j8up02uvj_jif.fits to ./mastDownload/HST/j8up02uvq/j8up02uvj_jif.fits ... [Done]\n",
      "Downloading URL https://mast.stsci.edu/api/v0.1/Download/file?uri=mast:HST/product/j8up02uvj_jit.fits to ./mastDownload/HST/j8up02uvq/j8up02uvj_jit.fits ... [Done]\n",
      "Downloading URL https://mast.stsci.edu/api/v0.1/Download/file?uri=mast:HST/product/j8up02uvq_spt.fits to ./mastDownload/HST/j8up02uvq/j8up02uvq_spt.fits ... [Done]\n",
      "Downloading URL https://mast.stsci.edu/api/v0.1/Download/file?uri=mast:HST/product/j8up02uvq_trl.fits to ./mastDownload/HST/j8up02uvq/j8up02uvq_trl.fits ... [Done]\n",
      "Downloading URL https://mast.stsci.edu/api/v0.1/Download/file?uri=mast:HST/product/j8up02uvq_drz.jpg to ./mastDownload/HST/j8up02uvq/j8up02uvq_drz.jpg ... [Done]\n",
      "Downloading URL https://mast.stsci.edu/api/v0.1/Download/file?uri=mast:HST/product/j8up02uvq_raw.jpg to ./mastDownload/HST/j8up02uvq/j8up02uvq_raw.jpg ... [Done]\n",
      "Downloading URL https://mast.stsci.edu/api/v0.1/Download/file?uri=mast:HST/product/j8up02uvq_flt.jpg to ./mastDownload/HST/j8up02uvq/j8up02uvq_flt.jpg ... [Done]\n",
      "Downloading URL https://mast.stsci.edu/api/v0.1/Download/file?uri=mast:HST/product/j8up02uvq_raw.fits to ./mastDownload/HST/j8up02uvq/j8up02uvq_raw.fits ... [Done]\n",
      "Downloading URL https://mast.stsci.edu/api/v0.1/Download/file?uri=mast:HST/product/j8up02uvq_drz.fits to ./mastDownload/HST/j8up02uvq/j8up02uvq_drz.fits ... [Done]\n",
      "Downloading URL https://mast.stsci.edu/api/v0.1/Download/file?uri=mast:HST/product/j8up02uvq_flt.fits to ./mastDownload/HST/j8up02uvq/j8up02uvq_flt.fits ... [Done]\n",
      "Downloading URL https://mast.stsci.edu/api/v0.1/Download/file?uri=mast:HST/product/j8up02uwq_flt_hlet.fits to ./mastDownload/HST/j8up02uwq/j8up02uwq_flt_hlet.fits ... [Done]\n",
      "Downloading URL https://mast.stsci.edu/api/v0.1/Download/file?uri=mast:HST/product/j8up02uwj_jif.fits to ./mastDownload/HST/j8up02uwq/j8up02uwj_jif.fits ... [Done]\n",
      "Downloading URL https://mast.stsci.edu/api/v0.1/Download/file?uri=mast:HST/product/j8up02uwj_jit.fits to ./mastDownload/HST/j8up02uwq/j8up02uwj_jit.fits ... [Done]\n",
      "Downloading URL https://mast.stsci.edu/api/v0.1/Download/file?uri=mast:HST/product/j8up02uwq_spt.fits to ./mastDownload/HST/j8up02uwq/j8up02uwq_spt.fits ... [Done]\n",
      "Downloading URL https://mast.stsci.edu/api/v0.1/Download/file?uri=mast:HST/product/j8up02uwq_trl.fits to ./mastDownload/HST/j8up02uwq/j8up02uwq_trl.fits ... [Done]\n"
     ]
    },
    {
     "name": "stdout",
     "output_type": "stream",
     "text": [
      "Downloading URL https://mast.stsci.edu/api/v0.1/Download/file?uri=mast:HST/product/j8up02uwq_drz.jpg to ./mastDownload/HST/j8up02uwq/j8up02uwq_drz.jpg ... [Done]\n",
      "Downloading URL https://mast.stsci.edu/api/v0.1/Download/file?uri=mast:HST/product/j8up02uwq_raw.jpg to ./mastDownload/HST/j8up02uwq/j8up02uwq_raw.jpg ... [Done]\n",
      "Downloading URL https://mast.stsci.edu/api/v0.1/Download/file?uri=mast:HST/product/j8up02uwq_flt.jpg to ./mastDownload/HST/j8up02uwq/j8up02uwq_flt.jpg ... [Done]\n",
      "Downloading URL https://mast.stsci.edu/api/v0.1/Download/file?uri=mast:HST/product/j8up02uwq_raw.fits to ./mastDownload/HST/j8up02uwq/j8up02uwq_raw.fits ... [Done]\n",
      "Downloading URL https://mast.stsci.edu/api/v0.1/Download/file?uri=mast:HST/product/j8up02uwq_drz.fits to ./mastDownload/HST/j8up02uwq/j8up02uwq_drz.fits ... [Done]\n",
      "Downloading URL https://mast.stsci.edu/api/v0.1/Download/file?uri=mast:HST/product/j8up02uwq_flt.fits to ./mastDownload/HST/j8up02uwq/j8up02uwq_flt.fits ... [Done]\n",
      "Downloading URL https://mast.stsci.edu/api/v0.1/Download/file?uri=mast:HST/product/j8up02uyq_flt_hlet.fits to ./mastDownload/HST/j8up02uyq/j8up02uyq_flt_hlet.fits ... [Done]\n",
      "Downloading URL https://mast.stsci.edu/api/v0.1/Download/file?uri=mast:HST/product/j8up02uyj_jif.fits to ./mastDownload/HST/j8up02uyq/j8up02uyj_jif.fits ... [Done]\n",
      "Downloading URL https://mast.stsci.edu/api/v0.1/Download/file?uri=mast:HST/product/j8up02uyj_jit.fits to ./mastDownload/HST/j8up02uyq/j8up02uyj_jit.fits ... [Done]\n",
      "Downloading URL https://mast.stsci.edu/api/v0.1/Download/file?uri=mast:HST/product/j8up02uyq_spt.fits to ./mastDownload/HST/j8up02uyq/j8up02uyq_spt.fits ... [Done]\n",
      "Downloading URL https://mast.stsci.edu/api/v0.1/Download/file?uri=mast:HST/product/j8up02uyq_trl.fits to ./mastDownload/HST/j8up02uyq/j8up02uyq_trl.fits ... [Done]\n",
      "Downloading URL https://mast.stsci.edu/api/v0.1/Download/file?uri=mast:HST/product/j8up02uyq_drz.jpg to ./mastDownload/HST/j8up02uyq/j8up02uyq_drz.jpg ... [Done]\n",
      "Downloading URL https://mast.stsci.edu/api/v0.1/Download/file?uri=mast:HST/product/j8up02uyq_raw.jpg to ./mastDownload/HST/j8up02uyq/j8up02uyq_raw.jpg ... [Done]\n",
      "Downloading URL https://mast.stsci.edu/api/v0.1/Download/file?uri=mast:HST/product/j8up02uyq_flt.jpg to ./mastDownload/HST/j8up02uyq/j8up02uyq_flt.jpg ... [Done]\n",
      "Downloading URL https://mast.stsci.edu/api/v0.1/Download/file?uri=mast:HST/product/j8up02uyq_raw.fits to ./mastDownload/HST/j8up02uyq/j8up02uyq_raw.fits ... [Done]\n",
      "Downloading URL https://mast.stsci.edu/api/v0.1/Download/file?uri=mast:HST/product/j8up02uyq_drz.fits to ./mastDownload/HST/j8up02uyq/j8up02uyq_drz.fits ... [Done]\n",
      "Downloading URL https://mast.stsci.edu/api/v0.1/Download/file?uri=mast:HST/product/j8up02uyq_flt.fits to ./mastDownload/HST/j8up02uyq/j8up02uyq_flt.fits ... [Done]\n",
      "Downloading URL https://mast.stsci.edu/api/v0.1/Download/file?uri=mast:HST/product/j8up02v0q_flt_hlet.fits to ./mastDownload/HST/j8up02v0q/j8up02v0q_flt_hlet.fits ... [Done]\n",
      "Downloading URL https://mast.stsci.edu/api/v0.1/Download/file?uri=mast:HST/product/j8up02v0j_jif.fits to ./mastDownload/HST/j8up02v0q/j8up02v0j_jif.fits ... [Done]\n",
      "Downloading URL https://mast.stsci.edu/api/v0.1/Download/file?uri=mast:HST/product/j8up02v0j_jit.fits to ./mastDownload/HST/j8up02v0q/j8up02v0j_jit.fits ... [Done]\n",
      "Downloading URL https://mast.stsci.edu/api/v0.1/Download/file?uri=mast:HST/product/j8up02v0q_spt.fits to ./mastDownload/HST/j8up02v0q/j8up02v0q_spt.fits ... [Done]\n",
      "Downloading URL https://mast.stsci.edu/api/v0.1/Download/file?uri=mast:HST/product/j8up02v0q_trl.fits to ./mastDownload/HST/j8up02v0q/j8up02v0q_trl.fits ... [Done]\n",
      "Downloading URL https://mast.stsci.edu/api/v0.1/Download/file?uri=mast:HST/product/j8up02v0q_drz.jpg to ./mastDownload/HST/j8up02v0q/j8up02v0q_drz.jpg ... [Done]\n",
      "Downloading URL https://mast.stsci.edu/api/v0.1/Download/file?uri=mast:HST/product/j8up02v0q_raw.jpg to ./mastDownload/HST/j8up02v0q/j8up02v0q_raw.jpg ... [Done]\n",
      "Downloading URL https://mast.stsci.edu/api/v0.1/Download/file?uri=mast:HST/product/j8up02v0q_flt.jpg to ./mastDownload/HST/j8up02v0q/j8up02v0q_flt.jpg ... [Done]\n",
      "Downloading URL https://mast.stsci.edu/api/v0.1/Download/file?uri=mast:HST/product/j8up02v0q_raw.fits to ./mastDownload/HST/j8up02v0q/j8up02v0q_raw.fits ... [Done]\n",
      "Downloading URL https://mast.stsci.edu/api/v0.1/Download/file?uri=mast:HST/product/j8up02v0q_drz.fits to ./mastDownload/HST/j8up02v0q/j8up02v0q_drz.fits ... [Done]\n",
      "Downloading URL https://mast.stsci.edu/api/v0.1/Download/file?uri=mast:HST/product/j8up02v0q_flt.fits to ./mastDownload/HST/j8up02v0q/j8up02v0q_flt.fits ... [Done]\n",
      "Downloading URL https://mast.stsci.edu/api/v0.1/Download/file?uri=mast:HST/product/j8up02v5q_flt_hlet.fits to ./mastDownload/HST/j8up02v5q/j8up02v5q_flt_hlet.fits ... [Done]\n",
      "Downloading URL https://mast.stsci.edu/api/v0.1/Download/file?uri=mast:HST/product/j8up02v5j_jif.fits to ./mastDownload/HST/j8up02v5q/j8up02v5j_jif.fits ... [Done]\n",
      "Downloading URL https://mast.stsci.edu/api/v0.1/Download/file?uri=mast:HST/product/j8up02v5j_jit.fits to ./mastDownload/HST/j8up02v5q/j8up02v5j_jit.fits ... [Done]\n",
      "Downloading URL https://mast.stsci.edu/api/v0.1/Download/file?uri=mast:HST/product/j8up02v5q_spt.fits to ./mastDownload/HST/j8up02v5q/j8up02v5q_spt.fits ... [Done]\n",
      "Downloading URL https://mast.stsci.edu/api/v0.1/Download/file?uri=mast:HST/product/j8up02v5q_trl.fits to ./mastDownload/HST/j8up02v5q/j8up02v5q_trl.fits ... [Done]\n",
      "Downloading URL https://mast.stsci.edu/api/v0.1/Download/file?uri=mast:HST/product/j8up02v5q_drz.jpg to ./mastDownload/HST/j8up02v5q/j8up02v5q_drz.jpg ... [Done]\n",
      "Downloading URL https://mast.stsci.edu/api/v0.1/Download/file?uri=mast:HST/product/j8up02v5q_raw.jpg to ./mastDownload/HST/j8up02v5q/j8up02v5q_raw.jpg ... [Done]\n",
      "Downloading URL https://mast.stsci.edu/api/v0.1/Download/file?uri=mast:HST/product/j8up02v5q_flt.jpg to ./mastDownload/HST/j8up02v5q/j8up02v5q_flt.jpg ... [Done]\n",
      "Downloading URL https://mast.stsci.edu/api/v0.1/Download/file?uri=mast:HST/product/j8up02v5q_raw.fits to ./mastDownload/HST/j8up02v5q/j8up02v5q_raw.fits ... [Done]\n",
      "Downloading URL https://mast.stsci.edu/api/v0.1/Download/file?uri=mast:HST/product/j8up02v5q_drz.fits to ./mastDownload/HST/j8up02v5q/j8up02v5q_drz.fits ... [Done]\n",
      "Downloading URL https://mast.stsci.edu/api/v0.1/Download/file?uri=mast:HST/product/j8up02v5q_flt.fits to ./mastDownload/HST/j8up02v5q/j8up02v5q_flt.fits ... [Done]\n",
      "Downloading URL https://mast.stsci.edu/api/v0.1/Download/file?uri=mast:HST/product/j8up02v7q_flt_hlet.fits to ./mastDownload/HST/j8up02v7q/j8up02v7q_flt_hlet.fits ... [Done]\n",
      "Downloading URL https://mast.stsci.edu/api/v0.1/Download/file?uri=mast:HST/product/j8up02v7j_jif.fits to ./mastDownload/HST/j8up02v7q/j8up02v7j_jif.fits ... [Done]\n",
      "Downloading URL https://mast.stsci.edu/api/v0.1/Download/file?uri=mast:HST/product/j8up02v7j_jit.fits to ./mastDownload/HST/j8up02v7q/j8up02v7j_jit.fits ... [Done]\n",
      "Downloading URL https://mast.stsci.edu/api/v0.1/Download/file?uri=mast:HST/product/j8up02v7q_spt.fits to ./mastDownload/HST/j8up02v7q/j8up02v7q_spt.fits ... [Done]\n",
      "Downloading URL https://mast.stsci.edu/api/v0.1/Download/file?uri=mast:HST/product/j8up02v7q_trl.fits to ./mastDownload/HST/j8up02v7q/j8up02v7q_trl.fits ... [Done]\n",
      "Downloading URL https://mast.stsci.edu/api/v0.1/Download/file?uri=mast:HST/product/j8up02v7q_drz.jpg to ./mastDownload/HST/j8up02v7q/j8up02v7q_drz.jpg ... [Done]\n",
      "Downloading URL https://mast.stsci.edu/api/v0.1/Download/file?uri=mast:HST/product/j8up02v7q_raw.jpg to ./mastDownload/HST/j8up02v7q/j8up02v7q_raw.jpg ... [Done]\n",
      "Downloading URL https://mast.stsci.edu/api/v0.1/Download/file?uri=mast:HST/product/j8up02v7q_flt.jpg to ./mastDownload/HST/j8up02v7q/j8up02v7q_flt.jpg ... [Done]\n",
      "Downloading URL https://mast.stsci.edu/api/v0.1/Download/file?uri=mast:HST/product/j8up02v7q_raw.fits to ./mastDownload/HST/j8up02v7q/j8up02v7q_raw.fits ... [Done]\n",
      "Downloading URL https://mast.stsci.edu/api/v0.1/Download/file?uri=mast:HST/product/j8up02v7q_drz.fits to ./mastDownload/HST/j8up02v7q/j8up02v7q_drz.fits ... [Done]\n"
     ]
    },
    {
     "name": "stdout",
     "output_type": "stream",
     "text": [
      "Downloading URL https://mast.stsci.edu/api/v0.1/Download/file?uri=mast:HST/product/j8up02v7q_flt.fits to ./mastDownload/HST/j8up02v7q/j8up02v7q_flt.fits ... [Done]\n",
      "Downloading URL https://mast.stsci.edu/api/v0.1/Download/file?uri=mast:HST/product/j8up02v9q_flt_hlet.fits to ./mastDownload/HST/j8up02v9q/j8up02v9q_flt_hlet.fits ... [Done]\n",
      "Downloading URL https://mast.stsci.edu/api/v0.1/Download/file?uri=mast:HST/product/j8up02v9j_jif.fits to ./mastDownload/HST/j8up02v9q/j8up02v9j_jif.fits ... [Done]\n",
      "Downloading URL https://mast.stsci.edu/api/v0.1/Download/file?uri=mast:HST/product/j8up02v9j_jit.fits to ./mastDownload/HST/j8up02v9q/j8up02v9j_jit.fits ... [Done]\n",
      "Downloading URL https://mast.stsci.edu/api/v0.1/Download/file?uri=mast:HST/product/j8up02v9q_spt.fits to ./mastDownload/HST/j8up02v9q/j8up02v9q_spt.fits ... [Done]\n",
      "Downloading URL https://mast.stsci.edu/api/v0.1/Download/file?uri=mast:HST/product/j8up02v9q_trl.fits to ./mastDownload/HST/j8up02v9q/j8up02v9q_trl.fits ... [Done]\n",
      "Downloading URL https://mast.stsci.edu/api/v0.1/Download/file?uri=mast:HST/product/j8up02v9q_drz.jpg to ./mastDownload/HST/j8up02v9q/j8up02v9q_drz.jpg ... [Done]\n",
      "Downloading URL https://mast.stsci.edu/api/v0.1/Download/file?uri=mast:HST/product/j8up02v9q_raw.jpg to ./mastDownload/HST/j8up02v9q/j8up02v9q_raw.jpg ... [Done]\n",
      "Downloading URL https://mast.stsci.edu/api/v0.1/Download/file?uri=mast:HST/product/j8up02v9q_flt.jpg to ./mastDownload/HST/j8up02v9q/j8up02v9q_flt.jpg ... [Done]\n",
      "Downloading URL https://mast.stsci.edu/api/v0.1/Download/file?uri=mast:HST/product/j8up02v9q_raw.fits to ./mastDownload/HST/j8up02v9q/j8up02v9q_raw.fits ... [Done]\n",
      "Downloading URL https://mast.stsci.edu/api/v0.1/Download/file?uri=mast:HST/product/j8up02v9q_drz.fits to ./mastDownload/HST/j8up02v9q/j8up02v9q_drz.fits ... [Done]\n",
      "Downloading URL https://mast.stsci.edu/api/v0.1/Download/file?uri=mast:HST/product/j8up02v9q_flt.fits to ./mastDownload/HST/j8up02v9q/j8up02v9q_flt.fits ... [Done]\n",
      "Downloading URL https://mast.stsci.edu/api/v0.1/Download/file?uri=mast:HST/product/j8up02vbq_flt_hlet.fits to ./mastDownload/HST/j8up02vbq/j8up02vbq_flt_hlet.fits ... [Done]\n",
      "Downloading URL https://mast.stsci.edu/api/v0.1/Download/file?uri=mast:HST/product/j8up02vbj_jif.fits to ./mastDownload/HST/j8up02vbq/j8up02vbj_jif.fits ... [Done]\n",
      "Downloading URL https://mast.stsci.edu/api/v0.1/Download/file?uri=mast:HST/product/j8up02vbj_jit.fits to ./mastDownload/HST/j8up02vbq/j8up02vbj_jit.fits ... [Done]\n",
      "Downloading URL https://mast.stsci.edu/api/v0.1/Download/file?uri=mast:HST/product/j8up02vbq_spt.fits to ./mastDownload/HST/j8up02vbq/j8up02vbq_spt.fits ... [Done]\n",
      "Downloading URL https://mast.stsci.edu/api/v0.1/Download/file?uri=mast:HST/product/j8up02vbq_trl.fits to ./mastDownload/HST/j8up02vbq/j8up02vbq_trl.fits ... [Done]\n",
      "Downloading URL https://mast.stsci.edu/api/v0.1/Download/file?uri=mast:HST/product/j8up02vbq_drz.jpg to ./mastDownload/HST/j8up02vbq/j8up02vbq_drz.jpg ... [Done]\n",
      "Downloading URL https://mast.stsci.edu/api/v0.1/Download/file?uri=mast:HST/product/j8up02vbq_raw.jpg to ./mastDownload/HST/j8up02vbq/j8up02vbq_raw.jpg ... [Done]\n",
      "Downloading URL https://mast.stsci.edu/api/v0.1/Download/file?uri=mast:HST/product/j8up02vbq_flt.jpg to ./mastDownload/HST/j8up02vbq/j8up02vbq_flt.jpg ... [Done]\n",
      "Downloading URL https://mast.stsci.edu/api/v0.1/Download/file?uri=mast:HST/product/j8up02vbq_raw.fits to ./mastDownload/HST/j8up02vbq/j8up02vbq_raw.fits ... [Done]\n",
      "Downloading URL https://mast.stsci.edu/api/v0.1/Download/file?uri=mast:HST/product/j8up02vbq_drz.fits to ./mastDownload/HST/j8up02vbq/j8up02vbq_drz.fits ... [Done]\n",
      "Downloading URL https://mast.stsci.edu/api/v0.1/Download/file?uri=mast:HST/product/j8up02vbq_flt.fits to ./mastDownload/HST/j8up02vbq/j8up02vbq_flt.fits ... [Done]\n",
      "Downloading URL https://mast.stsci.edu/api/v0.1/Download/file?uri=mast:HST/product/j8up02vcq_flt_hlet.fits to ./mastDownload/HST/j8up02vcq/j8up02vcq_flt_hlet.fits ... [Done]\n",
      "Downloading URL https://mast.stsci.edu/api/v0.1/Download/file?uri=mast:HST/product/j8up02vcj_jif.fits to ./mastDownload/HST/j8up02vcq/j8up02vcj_jif.fits ... [Done]\n",
      "Downloading URL https://mast.stsci.edu/api/v0.1/Download/file?uri=mast:HST/product/j8up02vcj_jit.fits to ./mastDownload/HST/j8up02vcq/j8up02vcj_jit.fits ... [Done]\n",
      "Downloading URL https://mast.stsci.edu/api/v0.1/Download/file?uri=mast:HST/product/j8up02vcq_spt.fits to ./mastDownload/HST/j8up02vcq/j8up02vcq_spt.fits ... [Done]\n",
      "Downloading URL https://mast.stsci.edu/api/v0.1/Download/file?uri=mast:HST/product/j8up02vcq_trl.fits to ./mastDownload/HST/j8up02vcq/j8up02vcq_trl.fits ... [Done]\n",
      "Downloading URL https://mast.stsci.edu/api/v0.1/Download/file?uri=mast:HST/product/j8up02vcq_drz.jpg to ./mastDownload/HST/j8up02vcq/j8up02vcq_drz.jpg ... [Done]\n",
      "Downloading URL https://mast.stsci.edu/api/v0.1/Download/file?uri=mast:HST/product/j8up02vcq_raw.jpg to ./mastDownload/HST/j8up02vcq/j8up02vcq_raw.jpg ... [Done]\n",
      "Downloading URL https://mast.stsci.edu/api/v0.1/Download/file?uri=mast:HST/product/j8up02vcq_flt.jpg to ./mastDownload/HST/j8up02vcq/j8up02vcq_flt.jpg ... [Done]\n",
      "Downloading URL https://mast.stsci.edu/api/v0.1/Download/file?uri=mast:HST/product/j8up02vcq_raw.fits to ./mastDownload/HST/j8up02vcq/j8up02vcq_raw.fits ... [Done]\n",
      "Downloading URL https://mast.stsci.edu/api/v0.1/Download/file?uri=mast:HST/product/j8up02vcq_drz.fits to ./mastDownload/HST/j8up02vcq/j8up02vcq_drz.fits ... [Done]\n",
      "Downloading URL https://mast.stsci.edu/api/v0.1/Download/file?uri=mast:HST/product/j8up02vcq_flt.fits to ./mastDownload/HST/j8up02vcq/j8up02vcq_flt.fits ... [Done]\n",
      "Downloading URL https://mast.stsci.edu/api/v0.1/Download/file?uri=mast:HST/product/j8up02vdq_flt_hlet.fits to ./mastDownload/HST/j8up02vdq/j8up02vdq_flt_hlet.fits ... [Done]\n",
      "Downloading URL https://mast.stsci.edu/api/v0.1/Download/file?uri=mast:HST/product/j8up02vdj_jif.fits to ./mastDownload/HST/j8up02vdq/j8up02vdj_jif.fits ... [Done]\n",
      "Downloading URL https://mast.stsci.edu/api/v0.1/Download/file?uri=mast:HST/product/j8up02vdj_jit.fits to ./mastDownload/HST/j8up02vdq/j8up02vdj_jit.fits ... [Done]\n",
      "Downloading URL https://mast.stsci.edu/api/v0.1/Download/file?uri=mast:HST/product/j8up02vdq_spt.fits to ./mastDownload/HST/j8up02vdq/j8up02vdq_spt.fits ... [Done]\n",
      "Downloading URL https://mast.stsci.edu/api/v0.1/Download/file?uri=mast:HST/product/j8up02vdq_trl.fits to ./mastDownload/HST/j8up02vdq/j8up02vdq_trl.fits ... [Done]\n",
      "Downloading URL https://mast.stsci.edu/api/v0.1/Download/file?uri=mast:HST/product/j8up02vdq_drz.jpg to ./mastDownload/HST/j8up02vdq/j8up02vdq_drz.jpg ... [Done]\n",
      "Downloading URL https://mast.stsci.edu/api/v0.1/Download/file?uri=mast:HST/product/j8up02vdq_raw.jpg to ./mastDownload/HST/j8up02vdq/j8up02vdq_raw.jpg ... [Done]\n",
      "Downloading URL https://mast.stsci.edu/api/v0.1/Download/file?uri=mast:HST/product/j8up02vdq_flt.jpg to ./mastDownload/HST/j8up02vdq/j8up02vdq_flt.jpg ... [Done]\n",
      "Downloading URL https://mast.stsci.edu/api/v0.1/Download/file?uri=mast:HST/product/j8up02vdq_raw.fits to ./mastDownload/HST/j8up02vdq/j8up02vdq_raw.fits ... [Done]\n",
      "Downloading URL https://mast.stsci.edu/api/v0.1/Download/file?uri=mast:HST/product/j8up02vdq_drz.fits to ./mastDownload/HST/j8up02vdq/j8up02vdq_drz.fits ... [Done]\n",
      "Downloading URL https://mast.stsci.edu/api/v0.1/Download/file?uri=mast:HST/product/j8up02vdq_flt.fits to ./mastDownload/HST/j8up02vdq/j8up02vdq_flt.fits ... [Done]\n",
      "Downloading URL https://mast.stsci.edu/api/v0.1/Download/file?uri=mast:HST/product/x22q0101t_dgr.fits to ./mastDownload/HST/x22q0101t/x22q0101t_dgr.fits ... [Done]\n",
      "Downloading URL https://mast.stsci.edu/api/v0.1/Download/file?uri=mast:HST/product/x22q0101t_q0f.fits to ./mastDownload/HST/x22q0101t/x22q0101t_q0f.fits ... [Done]\n",
      "Downloading URL https://mast.stsci.edu/api/v0.1/Download/file?uri=mast:HST/product/x22q0101t_shf.fits to ./mastDownload/HST/x22q0101t/x22q0101t_shf.fits ... [Done]\n",
      "Downloading URL https://mast.stsci.edu/api/v0.1/Download/file?uri=mast:HST/product/x22q0101t_trl.fits to ./mastDownload/HST/x22q0101t/x22q0101t_trl.fits ... [Done]\n"
     ]
    },
    {
     "name": "stdout",
     "output_type": "stream",
     "text": [
      "Downloading URL https://mast.stsci.edu/api/v0.1/Download/file?uri=mast:HST/product/x22q0101t_ulf.fits to ./mastDownload/HST/x22q0101t/x22q0101t_ulf.fits ... [Done]\n",
      "Downloading URL https://mast.stsci.edu/api/v0.1/Download/file?uri=mast:HST/product/x22q0101t_c0f.jpg to ./mastDownload/HST/x22q0101t/x22q0101t_c0f.jpg ... [Done]\n",
      "Downloading URL https://mast.stsci.edu/api/v0.1/Download/file?uri=mast:HST/product/x22q0101t_d0f.jpg to ./mastDownload/HST/x22q0101t/x22q0101t_d0f.jpg ... [Done]\n",
      "Downloading URL https://mast.stsci.edu/api/v0.1/Download/file?uri=mast:HST/product/x22q0101t_d0f.fits to ./mastDownload/HST/x22q0101t/x22q0101t_d0f.fits ... [Done]\n",
      "Downloading URL https://mast.stsci.edu/api/v0.1/Download/file?uri=mast:HST/product/x22q0101t_c0f.fits to ./mastDownload/HST/x22q0101t/x22q0101t_c0f.fits ... [Done]\n",
      "Downloading URL https://mast.stsci.edu/api/v0.1/Download/file?uri=mast:HST/product/x22q0101t_c1f.fits to ./mastDownload/HST/x22q0101t/x22q0101t_c1f.fits ... [Done]\n",
      "Downloading URL https://mast.stsci.edu/api/v0.1/Download/file?uri=mast:HST/product/x22q0201t_dgr.fits to ./mastDownload/HST/x22q0201t/x22q0201t_dgr.fits ... [Done]\n",
      "Downloading URL https://mast.stsci.edu/api/v0.1/Download/file?uri=mast:HST/product/x22q0201t_q0f.fits to ./mastDownload/HST/x22q0201t/x22q0201t_q0f.fits ... [Done]\n",
      "Downloading URL https://mast.stsci.edu/api/v0.1/Download/file?uri=mast:HST/product/x22q0201t_shf.fits to ./mastDownload/HST/x22q0201t/x22q0201t_shf.fits ... [Done]\n",
      "Downloading URL https://mast.stsci.edu/api/v0.1/Download/file?uri=mast:HST/product/x22q0201t_trl.fits to ./mastDownload/HST/x22q0201t/x22q0201t_trl.fits ... [Done]\n",
      "Downloading URL https://mast.stsci.edu/api/v0.1/Download/file?uri=mast:HST/product/x22q0201t_ulf.fits to ./mastDownload/HST/x22q0201t/x22q0201t_ulf.fits ... [Done]\n",
      "Downloading URL https://mast.stsci.edu/api/v0.1/Download/file?uri=mast:HST/product/x22q0201t_c0f.jpg to ./mastDownload/HST/x22q0201t/x22q0201t_c0f.jpg ... [Done]\n",
      "Downloading URL https://mast.stsci.edu/api/v0.1/Download/file?uri=mast:HST/product/x22q0201t_d0f.jpg to ./mastDownload/HST/x22q0201t/x22q0201t_d0f.jpg ... [Done]\n",
      "Downloading URL https://mast.stsci.edu/api/v0.1/Download/file?uri=mast:HST/product/x22q0201t_d0f.fits to ./mastDownload/HST/x22q0201t/x22q0201t_d0f.fits ... [Done]\n",
      "Downloading URL https://mast.stsci.edu/api/v0.1/Download/file?uri=mast:HST/product/x22q0201t_c0f.fits to ./mastDownload/HST/x22q0201t/x22q0201t_c0f.fits ... [Done]\n",
      "Downloading URL https://mast.stsci.edu/api/v0.1/Download/file?uri=mast:HST/product/x22q0201t_c1f.fits to ./mastDownload/HST/x22q0201t/x22q0201t_c1f.fits ... [Done]\n",
      "Downloading URL https://mast.stsci.edu/api/v0.1/Download/file?uri=mast:HLSP/url/cgi-bin/preview.cgi?dataset=hlsp_orion_hst_acs_colorimage_b_v1_drz to ./mastDownload/HLSP/hlsp_orion_hst_acs_colorimage_b_v1_drz/hlsp_orion_hst_acs_colorimage_b_v1_drz.jpg ... [Done]\n",
      "Downloading URL https://mast.stsci.edu/api/v0.1/Download/file?uri=mast:HLSP/url/cgi-bin/getdata.cgi?dataset=hlsp_orion_hst_acs_colorimage_b_v1_drz to ./mastDownload/HLSP/hlsp_orion_hst_acs_colorimage_b_v1_drz/hlsp_orion_hst_acs_colorimage_b_v1_drz.fits ... [Done]\n",
      "Downloading URL https://mast.stsci.edu/api/v0.1/Download/file?uri=mast:HLSP/url/cgi-bin/preview.cgi?dataset=hlsp_orion_hst_acs_colorimage_g_v1_drz to ./mastDownload/HLSP/hlsp_orion_hst_acs_colorimage_g_v1_drz/hlsp_orion_hst_acs_colorimage_g_v1_drz.jpg ... [Done]\n",
      "Downloading URL https://mast.stsci.edu/api/v0.1/Download/file?uri=mast:HLSP/url/cgi-bin/getdata.cgi?dataset=hlsp_orion_hst_acs_colorimage_g_v1_drz to ./mastDownload/HLSP/hlsp_orion_hst_acs_colorimage_g_v1_drz/hlsp_orion_hst_acs_colorimage_g_v1_drz.fits ... [Done]\n",
      "Downloading URL https://mast.stsci.edu/api/v0.1/Download/file?uri=mast:HLSP/url/cgi-bin/preview.cgi?dataset=hlsp_orion_hst_acs_colorimage_r_v1_drz to ./mastDownload/HLSP/hlsp_orion_hst_acs_colorimage_r_v1_drz/hlsp_orion_hst_acs_colorimage_r_v1_drz.jpg ... [Done]\n",
      "Downloading URL https://mast.stsci.edu/api/v0.1/Download/file?uri=mast:HLSP/url/cgi-bin/getdata.cgi?dataset=hlsp_orion_hst_acs_colorimage_r_v1_drz to ./mastDownload/HLSP/hlsp_orion_hst_acs_colorimage_r_v1_drz/hlsp_orion_hst_acs_colorimage_r_v1_drz.fits ... [Done]\n",
      "Downloading URL https://mast.stsci.edu/api/v0.1/Download/file?uri=mast:HLA/url/cgi-bin/preview.cgi?dataset=hst_10057_02_acs_wfc_fr388n_01 to ./mastDownload/HLA/hst_10057_02_acs_wfc_fr388n_01/hst_10057_02_acs_wfc_fr388n_01_drz.jpg ... [Done]\n",
      "Downloading URL https://mast.stsci.edu/api/v0.1/Download/file?uri=mast:HLA/url/cgi-bin/getdata.cgi?dataset=hst_10057_02_acs_wfc_fr388n_01_drz.fits to ./mastDownload/HLA/hst_10057_02_acs_wfc_fr388n_01/hst_10057_02_acs_wfc_fr388n_01_drz.fits ... [Done]\n",
      "Downloading URL https://mast.stsci.edu/api/v0.1/Download/file?uri=mast:HLA/url/cgi-bin/preview.cgi?dataset=hst_10057_02_acs_wfc_fr388n_02 to ./mastDownload/HLA/hst_10057_02_acs_wfc_fr388n_02/hst_10057_02_acs_wfc_fr388n_02_drz.jpg ... [Done]\n",
      "Downloading URL https://mast.stsci.edu/api/v0.1/Download/file?uri=mast:HLA/url/cgi-bin/getdata.cgi?dataset=hst_10057_02_acs_wfc_fr388n_02_drz.fits to ./mastDownload/HLA/hst_10057_02_acs_wfc_fr388n_02/hst_10057_02_acs_wfc_fr388n_02_drz.fits ... [Done]\n",
      "Downloading URL https://mast.stsci.edu/api/v0.1/Download/file?uri=mast:HLA/url/cgi-bin/preview.cgi?dataset=hst_10057_02_acs_wfc_fr459m_01 to ./mastDownload/HLA/hst_10057_02_acs_wfc_fr459m_01/hst_10057_02_acs_wfc_fr459m_01_drz.jpg ... [Done]\n",
      "Downloading URL https://mast.stsci.edu/api/v0.1/Download/file?uri=mast:HLA/url/cgi-bin/getdata.cgi?dataset=hst_10057_02_acs_wfc_fr459m_01_drz.fits to ./mastDownload/HLA/hst_10057_02_acs_wfc_fr459m_01/hst_10057_02_acs_wfc_fr459m_01_drz.fits ... [Done]\n",
      "Downloading URL https://mast.stsci.edu/api/v0.1/Download/file?uri=mast:HLA/url/cgi-bin/preview.cgi?dataset=hst_10057_02_acs_wfc_fr459m_02 to ./mastDownload/HLA/hst_10057_02_acs_wfc_fr459m_02/hst_10057_02_acs_wfc_fr459m_02_drz.jpg ... [Done]\n",
      "Downloading URL https://mast.stsci.edu/api/v0.1/Download/file?uri=mast:HLA/url/cgi-bin/getdata.cgi?dataset=hst_10057_02_acs_wfc_fr459m_02_drz.fits to ./mastDownload/HLA/hst_10057_02_acs_wfc_fr459m_02/hst_10057_02_acs_wfc_fr459m_02_drz.fits ... [Done]\n",
      "Downloading URL https://mast.stsci.edu/api/v0.1/Download/file?uri=mast:HLA/url/cgi-bin/preview.cgi?dataset=hst_10057_02_acs_wfc_fr459m_03 to ./mastDownload/HLA/hst_10057_02_acs_wfc_fr459m_03/hst_10057_02_acs_wfc_fr459m_03_drz.jpg ... [Done]\n",
      "Downloading URL https://mast.stsci.edu/api/v0.1/Download/file?uri=mast:HLA/url/cgi-bin/getdata.cgi?dataset=hst_10057_02_acs_wfc_fr459m_03_drz.fits to ./mastDownload/HLA/hst_10057_02_acs_wfc_fr459m_03/hst_10057_02_acs_wfc_fr459m_03_drz.fits ... [Done]\n",
      "Downloading URL https://mast.stsci.edu/api/v0.1/Download/file?uri=mast:HLA/url/cgi-bin/preview.cgi?dataset=hst_10057_02_acs_wfc_fr505n_01 to ./mastDownload/HLA/hst_10057_02_acs_wfc_fr505n_01/hst_10057_02_acs_wfc_fr505n_01_drz.jpg ... [Done]\n",
      "Downloading URL https://mast.stsci.edu/api/v0.1/Download/file?uri=mast:HLA/url/cgi-bin/getdata.cgi?dataset=hst_10057_02_acs_wfc_fr505n_01_drz.fits to ./mastDownload/HLA/hst_10057_02_acs_wfc_fr505n_01/hst_10057_02_acs_wfc_fr505n_01_drz.fits ... [Done]\n",
      "Downloading URL https://mast.stsci.edu/api/v0.1/Download/file?uri=mast:HLA/url/cgi-bin/preview.cgi?dataset=hst_10057_02_acs_wfc_fr505n_02 to ./mastDownload/HLA/hst_10057_02_acs_wfc_fr505n_02/hst_10057_02_acs_wfc_fr505n_02_drz.jpg ... [Done]\n",
      "Downloading URL https://mast.stsci.edu/api/v0.1/Download/file?uri=mast:HLA/url/cgi-bin/getdata.cgi?dataset=hst_10057_02_acs_wfc_fr505n_02_drz.fits to ./mastDownload/HLA/hst_10057_02_acs_wfc_fr505n_02/hst_10057_02_acs_wfc_fr505n_02_drz.fits ... [Done]\n",
      "Downloading URL https://mast.stsci.edu/api/v0.1/Download/file?uri=mast:HLA/url/cgi-bin/preview.cgi?dataset=hst_10057_02_acs_wfc_fr656n_01 to ./mastDownload/HLA/hst_10057_02_acs_wfc_fr656n_01/hst_10057_02_acs_wfc_fr656n_01_drz.jpg ... [Done]\n",
      "Downloading URL https://mast.stsci.edu/api/v0.1/Download/file?uri=mast:HLA/url/cgi-bin/getdata.cgi?dataset=hst_10057_02_acs_wfc_fr656n_01_drz.fits to ./mastDownload/HLA/hst_10057_02_acs_wfc_fr656n_01/hst_10057_02_acs_wfc_fr656n_01_drz.fits ... [Done]\n"
     ]
    },
    {
     "name": "stdout",
     "output_type": "stream",
     "text": [
      "Downloading URL https://mast.stsci.edu/api/v0.1/Download/file?uri=mast:HLA/url/cgi-bin/preview.cgi?dataset=hst_10057_02_acs_wfc_fr656n_02 to ./mastDownload/HLA/hst_10057_02_acs_wfc_fr656n_02/hst_10057_02_acs_wfc_fr656n_02_drz.jpg ... [Done]\n",
      "Downloading URL https://mast.stsci.edu/api/v0.1/Download/file?uri=mast:HLA/url/cgi-bin/getdata.cgi?dataset=hst_10057_02_acs_wfc_fr656n_02_drz.fits to ./mastDownload/HLA/hst_10057_02_acs_wfc_fr656n_02/hst_10057_02_acs_wfc_fr656n_02_drz.fits ... [Done]\n",
      "Downloading URL https://mast.stsci.edu/api/v0.1/Download/file?uri=mast:HLA/url/cgi-bin/preview.cgi?dataset=hst_10057_02_acs_wfc_fr656n_03 to ./mastDownload/HLA/hst_10057_02_acs_wfc_fr656n_03/hst_10057_02_acs_wfc_fr656n_03_drz.jpg ... [Done]\n",
      "Downloading URL https://mast.stsci.edu/api/v0.1/Download/file?uri=mast:HLA/url/cgi-bin/getdata.cgi?dataset=hst_10057_02_acs_wfc_fr656n_03_drz.fits to ./mastDownload/HLA/hst_10057_02_acs_wfc_fr656n_03/hst_10057_02_acs_wfc_fr656n_03_drz.fits ... [Done]\n",
      "Downloading URL https://mast.stsci.edu/api/v0.1/Download/file?uri=mast:HLA/url/cgi-bin/preview.cgi?dataset=hst_10057_02_acs_wfc_fr914m_01 to ./mastDownload/HLA/hst_10057_02_acs_wfc_fr914m_01/hst_10057_02_acs_wfc_fr914m_01_drz.jpg ... [Done]\n",
      "Downloading URL https://mast.stsci.edu/api/v0.1/Download/file?uri=mast:HLA/url/cgi-bin/getdata.cgi?dataset=hst_10057_02_acs_wfc_fr914m_01_drz.fits to ./mastDownload/HLA/hst_10057_02_acs_wfc_fr914m_01/hst_10057_02_acs_wfc_fr914m_01_drz.fits ... [Done]\n",
      "Downloading URL https://mast.stsci.edu/api/v0.1/Download/file?uri=mast:HLA/url/cgi-bin/preview.cgi?dataset=hst_10057_02_acs_wfc_fr914m_02 to ./mastDownload/HLA/hst_10057_02_acs_wfc_fr914m_02/hst_10057_02_acs_wfc_fr914m_02_drz.jpg ... [Done]\n",
      "Downloading URL https://mast.stsci.edu/api/v0.1/Download/file?uri=mast:HLA/url/cgi-bin/getdata.cgi?dataset=hst_10057_02_acs_wfc_fr914m_02_drz.fits to ./mastDownload/HLA/hst_10057_02_acs_wfc_fr914m_02/hst_10057_02_acs_wfc_fr914m_02_drz.fits ... [Done]\n",
      "Downloading URL https://mast.stsci.edu/api/v0.1/Download/file?uri=mast:HLA/url/cgi-bin/preview.cgi?dataset=hst_10057_02_acs_wfc_fr914m_03 to ./mastDownload/HLA/hst_10057_02_acs_wfc_fr914m_03/hst_10057_02_acs_wfc_fr914m_03_drz.jpg ... [Done]\n",
      "Downloading URL https://mast.stsci.edu/api/v0.1/Download/file?uri=mast:HLA/url/cgi-bin/getdata.cgi?dataset=hst_10057_02_acs_wfc_fr914m_03_drz.fits to ./mastDownload/HLA/hst_10057_02_acs_wfc_fr914m_03/hst_10057_02_acs_wfc_fr914m_03_drz.fits ... [Done]\n",
      "Downloading URL https://mast.stsci.edu/api/v0.1/Download/file?uri=mast:HST/product/hst_10057_02_acs_wfc_fr388n_j8up02uw_trl.txt to ./mastDownload/HST/hst_10057_02_acs_wfc_fr388n_j8up02uw/hst_10057_02_acs_wfc_fr388n_j8up02uw_trl.txt ... [Done]\n",
      "Downloading URL https://mast.stsci.edu/api/v0.1/Download/file?uri=mast:HST/product/hst_10057_02_acs_wfc_fr388n_j8up02uw_flt.fits to ./mastDownload/HST/hst_10057_02_acs_wfc_fr388n_j8up02uw/hst_10057_02_acs_wfc_fr388n_j8up02uw_flt.fits ... [Done]\n",
      "Downloading URL https://mast.stsci.edu/api/v0.1/Download/file?uri=mast:HST/product/hst_10057_02_acs_wfc_fr459m_j8up02v7_trl.txt to ./mastDownload/HST/hst_10057_02_acs_wfc_fr459m_j8up02v7/hst_10057_02_acs_wfc_fr459m_j8up02v7_trl.txt ... [Done]\n",
      "Downloading URL https://mast.stsci.edu/api/v0.1/Download/file?uri=mast:HST/product/hst_10057_02_acs_wfc_fr459m_j8up02v7_flt.fits to ./mastDownload/HST/hst_10057_02_acs_wfc_fr459m_j8up02v7/hst_10057_02_acs_wfc_fr459m_j8up02v7_flt.fits ... [Done]\n",
      "Downloading URL https://mast.stsci.edu/api/v0.1/Download/file?uri=mast:HST/product/hst_10057_02_acs_wfc_fr914m_j8up02vb_trl.txt to ./mastDownload/HST/hst_10057_02_acs_wfc_fr914m_j8up02vb/hst_10057_02_acs_wfc_fr914m_j8up02vb_trl.txt ... [Done]\n",
      "Downloading URL https://mast.stsci.edu/api/v0.1/Download/file?uri=mast:HST/product/hst_10057_02_acs_wfc_fr914m_j8up02vb_flt.fits to ./mastDownload/HST/hst_10057_02_acs_wfc_fr914m_j8up02vb/hst_10057_02_acs_wfc_fr914m_j8up02vb_flt.fits ... [Done]\n",
      "Downloading URL https://mast.stsci.edu/api/v0.1/Download/file?uri=mast:HST/product/hst_10057_02_acs_wfc_fr459m_j8up02v5_trl.txt to ./mastDownload/HST/hst_10057_02_acs_wfc_fr459m_j8up02v5/hst_10057_02_acs_wfc_fr459m_j8up02v5_trl.txt ... [Done]\n",
      "Downloading URL https://mast.stsci.edu/api/v0.1/Download/file?uri=mast:HST/product/hst_10057_02_acs_wfc_fr459m_j8up02v5_flt.fits to ./mastDownload/HST/hst_10057_02_acs_wfc_fr459m_j8up02v5/hst_10057_02_acs_wfc_fr459m_j8up02v5_flt.fits ... [Done]\n",
      "Downloading URL https://mast.stsci.edu/api/v0.1/Download/file?uri=mast:HST/product/hst_10057_02_acs_wfc_fr656n_j8up02ut_trl.txt to ./mastDownload/HST/hst_10057_02_acs_wfc_fr656n_j8up02ut/hst_10057_02_acs_wfc_fr656n_j8up02ut_trl.txt ... [Done]\n",
      "Downloading URL https://mast.stsci.edu/api/v0.1/Download/file?uri=mast:HST/product/hst_10057_02_acs_wfc_fr656n_j8up02ut_flt.fits to ./mastDownload/HST/hst_10057_02_acs_wfc_fr656n_j8up02ut/hst_10057_02_acs_wfc_fr656n_j8up02ut_flt.fits ... [Done]\n",
      "Downloading URL https://mast.stsci.edu/api/v0.1/Download/file?uri=mast:HST/product/hst_10057_02_acs_wfc_fr914m_j8up02vd_trl.txt to ./mastDownload/HST/hst_10057_02_acs_wfc_fr914m_j8up02vd/hst_10057_02_acs_wfc_fr914m_j8up02vd_trl.txt ... [Done]\n",
      "Downloading URL https://mast.stsci.edu/api/v0.1/Download/file?uri=mast:HST/product/hst_10057_02_acs_wfc_fr914m_j8up02vd_flt.fits to ./mastDownload/HST/hst_10057_02_acs_wfc_fr914m_j8up02vd/hst_10057_02_acs_wfc_fr914m_j8up02vd_flt.fits ... [Done]\n",
      "Downloading URL https://mast.stsci.edu/api/v0.1/Download/file?uri=mast:HST/product/hst_10057_02_acs_wfc_fr505n_j8up02uy_trl.txt to ./mastDownload/HST/hst_10057_02_acs_wfc_fr505n_j8up02uy/hst_10057_02_acs_wfc_fr505n_j8up02uy_trl.txt ... [Done]\n",
      "Downloading URL https://mast.stsci.edu/api/v0.1/Download/file?uri=mast:HST/product/hst_10057_02_acs_wfc_fr505n_j8up02uy_flt.fits to ./mastDownload/HST/hst_10057_02_acs_wfc_fr505n_j8up02uy/hst_10057_02_acs_wfc_fr505n_j8up02uy_flt.fits ... [Done]\n",
      "Downloading URL https://mast.stsci.edu/api/v0.1/Download/file?uri=mast:HST/product/hst_10057_02_acs_wfc_fr914m_j8up02vc_trl.txt to ./mastDownload/HST/hst_10057_02_acs_wfc_fr914m_j8up02vc/hst_10057_02_acs_wfc_fr914m_j8up02vc_trl.txt ... [Done]\n",
      "Downloading URL https://mast.stsci.edu/api/v0.1/Download/file?uri=mast:HST/product/hst_10057_02_acs_wfc_fr914m_j8up02vc_flt.fits to ./mastDownload/HST/hst_10057_02_acs_wfc_fr914m_j8up02vc/hst_10057_02_acs_wfc_fr914m_j8up02vc_flt.fits ... [Done]\n",
      "Downloading URL https://mast.stsci.edu/api/v0.1/Download/file?uri=mast:HST/product/hst_10057_02_acs_wfc_fr656n_j8up02us_trl.txt to ./mastDownload/HST/hst_10057_02_acs_wfc_fr656n_j8up02us/hst_10057_02_acs_wfc_fr656n_j8up02us_trl.txt ... [Done]\n",
      "Downloading URL https://mast.stsci.edu/api/v0.1/Download/file?uri=mast:HST/product/hst_10057_02_acs_wfc_fr656n_j8up02us_flt.fits to ./mastDownload/HST/hst_10057_02_acs_wfc_fr656n_j8up02us/hst_10057_02_acs_wfc_fr656n_j8up02us_flt.fits ... [Done]\n",
      "Downloading URL https://mast.stsci.edu/api/v0.1/Download/file?uri=mast:HST/product/hst_10057_02_acs_wfc_fr656n_j8up02uu_trl.txt to ./mastDownload/HST/hst_10057_02_acs_wfc_fr656n_j8up02uu/hst_10057_02_acs_wfc_fr656n_j8up02uu_trl.txt ... [Done]\n",
      "Downloading URL https://mast.stsci.edu/api/v0.1/Download/file?uri=mast:HST/product/hst_10057_02_acs_wfc_fr656n_j8up02uu_flt.fits to ./mastDownload/HST/hst_10057_02_acs_wfc_fr656n_j8up02uu/hst_10057_02_acs_wfc_fr656n_j8up02uu_flt.fits ... [Done]\n",
      "Downloading URL https://mast.stsci.edu/api/v0.1/Download/file?uri=mast:HST/product/hst_10057_02_acs_wfc_fr388n_j8up02uv_trl.txt to ./mastDownload/HST/hst_10057_02_acs_wfc_fr388n_j8up02uv/hst_10057_02_acs_wfc_fr388n_j8up02uv_trl.txt ... [Done]\n",
      "Downloading URL https://mast.stsci.edu/api/v0.1/Download/file?uri=mast:HST/product/hst_10057_02_acs_wfc_fr388n_j8up02uv_flt.fits to ./mastDownload/HST/hst_10057_02_acs_wfc_fr388n_j8up02uv/hst_10057_02_acs_wfc_fr388n_j8up02uv_flt.fits ... [Done]\n",
      "Downloading URL https://mast.stsci.edu/api/v0.1/Download/file?uri=mast:HST/product/hst_10057_02_acs_wfc_fr505n_j8up02v0_trl.txt to ./mastDownload/HST/hst_10057_02_acs_wfc_fr505n_j8up02v0/hst_10057_02_acs_wfc_fr505n_j8up02v0_trl.txt ... [Done]\n"
     ]
    },
    {
     "name": "stdout",
     "output_type": "stream",
     "text": [
      "Downloading URL https://mast.stsci.edu/api/v0.1/Download/file?uri=mast:HST/product/hst_10057_02_acs_wfc_fr505n_j8up02v0_flt.fits to ./mastDownload/HST/hst_10057_02_acs_wfc_fr505n_j8up02v0/hst_10057_02_acs_wfc_fr505n_j8up02v0_flt.fits ... [Done]\n",
      "Downloading URL https://mast.stsci.edu/api/v0.1/Download/file?uri=mast:HST/product/hst_10057_02_acs_wfc_fr459m_j8up02v9_trl.txt to ./mastDownload/HST/hst_10057_02_acs_wfc_fr459m_j8up02v9/hst_10057_02_acs_wfc_fr459m_j8up02v9_trl.txt ... [Done]\n",
      "Downloading URL https://mast.stsci.edu/api/v0.1/Download/file?uri=mast:HST/product/hst_10057_02_acs_wfc_fr459m_j8up02v9_flt.fits to ./mastDownload/HST/hst_10057_02_acs_wfc_fr459m_j8up02v9/hst_10057_02_acs_wfc_fr459m_j8up02v9_flt.fits ... [Done]\n"
     ]
    },
    {
     "data": {
      "text/html": [
       "<div><i>Table length=221</i>\n",
       "<table id=\"table140641677659824\" class=\"table-striped table-bordered table-condensed\">\n",
       "<thead><tr><th>Local Path</th><th>Status</th><th>Message</th><th>URL</th></tr></thead>\n",
       "<thead><tr><th>str102</th><th>str8</th><th>object</th><th>object</th></tr></thead>\n",
       "<tr><td>./mastDownload/HST/j8up02usq/j8up02usq_flt_hlet.fits</td><td>COMPLETE</td><td>None</td><td>None</td></tr>\n",
       "<tr><td>./mastDownload/HST/j8up02usq/j8up02usj_jif.fits</td><td>COMPLETE</td><td>None</td><td>None</td></tr>\n",
       "<tr><td>./mastDownload/HST/j8up02usq/j8up02usj_jit.fits</td><td>COMPLETE</td><td>None</td><td>None</td></tr>\n",
       "<tr><td>./mastDownload/HST/j8up02usq/j8up02usq_spt.fits</td><td>COMPLETE</td><td>None</td><td>None</td></tr>\n",
       "<tr><td>./mastDownload/HST/j8up02usq/j8up02usq_trl.fits</td><td>COMPLETE</td><td>None</td><td>None</td></tr>\n",
       "<tr><td>./mastDownload/HST/j8up02usq/j8up02usq_drz.jpg</td><td>COMPLETE</td><td>None</td><td>None</td></tr>\n",
       "<tr><td>./mastDownload/HST/j8up02usq/j8up02usq_raw.jpg</td><td>COMPLETE</td><td>None</td><td>None</td></tr>\n",
       "<tr><td>./mastDownload/HST/j8up02usq/j8up02usq_flt.jpg</td><td>COMPLETE</td><td>None</td><td>None</td></tr>\n",
       "<tr><td>./mastDownload/HST/j8up02usq/j8up02usq_raw.fits</td><td>COMPLETE</td><td>None</td><td>None</td></tr>\n",
       "<tr><td>./mastDownload/HST/j8up02usq/j8up02usq_drz.fits</td><td>COMPLETE</td><td>None</td><td>None</td></tr>\n",
       "<tr><td>...</td><td>...</td><td>...</td><td>...</td></tr>\n",
       "<tr><td>./mastDownload/HST/hst_10057_02_acs_wfc_fr656n_j8up02us/hst_10057_02_acs_wfc_fr656n_j8up02us_trl.txt</td><td>COMPLETE</td><td>None</td><td>None</td></tr>\n",
       "<tr><td>./mastDownload/HST/hst_10057_02_acs_wfc_fr656n_j8up02us/hst_10057_02_acs_wfc_fr656n_j8up02us_flt.fits</td><td>COMPLETE</td><td>None</td><td>None</td></tr>\n",
       "<tr><td>./mastDownload/HST/hst_10057_02_acs_wfc_fr656n_j8up02uu/hst_10057_02_acs_wfc_fr656n_j8up02uu_trl.txt</td><td>COMPLETE</td><td>None</td><td>None</td></tr>\n",
       "<tr><td>./mastDownload/HST/hst_10057_02_acs_wfc_fr656n_j8up02uu/hst_10057_02_acs_wfc_fr656n_j8up02uu_flt.fits</td><td>COMPLETE</td><td>None</td><td>None</td></tr>\n",
       "<tr><td>./mastDownload/HST/hst_10057_02_acs_wfc_fr388n_j8up02uv/hst_10057_02_acs_wfc_fr388n_j8up02uv_trl.txt</td><td>COMPLETE</td><td>None</td><td>None</td></tr>\n",
       "<tr><td>./mastDownload/HST/hst_10057_02_acs_wfc_fr388n_j8up02uv/hst_10057_02_acs_wfc_fr388n_j8up02uv_flt.fits</td><td>COMPLETE</td><td>None</td><td>None</td></tr>\n",
       "<tr><td>./mastDownload/HST/hst_10057_02_acs_wfc_fr505n_j8up02v0/hst_10057_02_acs_wfc_fr505n_j8up02v0_trl.txt</td><td>COMPLETE</td><td>None</td><td>None</td></tr>\n",
       "<tr><td>./mastDownload/HST/hst_10057_02_acs_wfc_fr505n_j8up02v0/hst_10057_02_acs_wfc_fr505n_j8up02v0_flt.fits</td><td>COMPLETE</td><td>None</td><td>None</td></tr>\n",
       "<tr><td>./mastDownload/HST/hst_10057_02_acs_wfc_fr459m_j8up02v9/hst_10057_02_acs_wfc_fr459m_j8up02v9_trl.txt</td><td>COMPLETE</td><td>None</td><td>None</td></tr>\n",
       "<tr><td>./mastDownload/HST/hst_10057_02_acs_wfc_fr459m_j8up02v9/hst_10057_02_acs_wfc_fr459m_j8up02v9_flt.fits</td><td>COMPLETE</td><td>None</td><td>None</td></tr>\n",
       "</table></div>"
      ],
      "text/plain": [
       "<Table length=221>\n",
       "                                              Local Path                                              ...\n",
       "                                                str102                                                ...\n",
       "----------------------------------------------------------------------------------------------------- ...\n",
       "                                                 ./mastDownload/HST/j8up02usq/j8up02usq_flt_hlet.fits ...\n",
       "                                                      ./mastDownload/HST/j8up02usq/j8up02usj_jif.fits ...\n",
       "                                                      ./mastDownload/HST/j8up02usq/j8up02usj_jit.fits ...\n",
       "                                                      ./mastDownload/HST/j8up02usq/j8up02usq_spt.fits ...\n",
       "                                                      ./mastDownload/HST/j8up02usq/j8up02usq_trl.fits ...\n",
       "                                                       ./mastDownload/HST/j8up02usq/j8up02usq_drz.jpg ...\n",
       "                                                       ./mastDownload/HST/j8up02usq/j8up02usq_raw.jpg ...\n",
       "                                                       ./mastDownload/HST/j8up02usq/j8up02usq_flt.jpg ...\n",
       "                                                      ./mastDownload/HST/j8up02usq/j8up02usq_raw.fits ...\n",
       "                                                      ./mastDownload/HST/j8up02usq/j8up02usq_drz.fits ...\n",
       "                                                                                                  ... ...\n",
       " ./mastDownload/HST/hst_10057_02_acs_wfc_fr656n_j8up02us/hst_10057_02_acs_wfc_fr656n_j8up02us_trl.txt ...\n",
       "./mastDownload/HST/hst_10057_02_acs_wfc_fr656n_j8up02us/hst_10057_02_acs_wfc_fr656n_j8up02us_flt.fits ...\n",
       " ./mastDownload/HST/hst_10057_02_acs_wfc_fr656n_j8up02uu/hst_10057_02_acs_wfc_fr656n_j8up02uu_trl.txt ...\n",
       "./mastDownload/HST/hst_10057_02_acs_wfc_fr656n_j8up02uu/hst_10057_02_acs_wfc_fr656n_j8up02uu_flt.fits ...\n",
       " ./mastDownload/HST/hst_10057_02_acs_wfc_fr388n_j8up02uv/hst_10057_02_acs_wfc_fr388n_j8up02uv_trl.txt ...\n",
       "./mastDownload/HST/hst_10057_02_acs_wfc_fr388n_j8up02uv/hst_10057_02_acs_wfc_fr388n_j8up02uv_flt.fits ...\n",
       " ./mastDownload/HST/hst_10057_02_acs_wfc_fr505n_j8up02v0/hst_10057_02_acs_wfc_fr505n_j8up02v0_trl.txt ...\n",
       "./mastDownload/HST/hst_10057_02_acs_wfc_fr505n_j8up02v0/hst_10057_02_acs_wfc_fr505n_j8up02v0_flt.fits ...\n",
       " ./mastDownload/HST/hst_10057_02_acs_wfc_fr459m_j8up02v9/hst_10057_02_acs_wfc_fr459m_j8up02v9_trl.txt ...\n",
       "./mastDownload/HST/hst_10057_02_acs_wfc_fr459m_j8up02v9/hst_10057_02_acs_wfc_fr459m_j8up02v9_flt.fits ..."
      ]
     },
     "execution_count": 40,
     "metadata": {},
     "output_type": "execute_result"
    }
   ],
   "source": [
    "download_tab = Observations.download_products(obs_table['obsid'])\n",
    "download_tab"
   ]
  },
  {
   "cell_type": "code",
   "execution_count": 47,
   "metadata": {},
   "outputs": [
    {
     "name": "stdout",
     "output_type": "stream",
     "text": [
      "\u001b[34mFITS\u001b[m\u001b[m\r\n",
      "hst_10057_02_acs_wfc_fr388n_j8up02uv_trl.txt\r\n",
      "hst_10057_02_acs_wfc_fr388n_j8up02uw_trl.txt\r\n",
      "hst_10057_02_acs_wfc_fr459m_j8up02v5_trl.txt\r\n",
      "hst_10057_02_acs_wfc_fr459m_j8up02v7_trl.txt\r\n",
      "hst_10057_02_acs_wfc_fr459m_j8up02v9_trl.txt\r\n",
      "hst_10057_02_acs_wfc_fr505n_j8up02uy_trl.txt\r\n",
      "hst_10057_02_acs_wfc_fr505n_j8up02v0_trl.txt\r\n",
      "hst_10057_02_acs_wfc_fr656n_j8up02us_trl.txt\r\n",
      "hst_10057_02_acs_wfc_fr656n_j8up02ut_trl.txt\r\n",
      "hst_10057_02_acs_wfc_fr656n_j8up02uu_trl.txt\r\n",
      "hst_10057_02_acs_wfc_fr914m_j8up02vb_trl.txt\r\n",
      "hst_10057_02_acs_wfc_fr914m_j8up02vc_trl.txt\r\n",
      "hst_10057_02_acs_wfc_fr914m_j8up02vd_trl.txt\r\n",
      "\u001b[34mimages\u001b[m\u001b[m\r\n",
      "previewing_transient_candidates.ipynb\r\n"
     ]
    }
   ],
   "source": [
    "# for file in download_tab['Local Path']:\n",
    "#     os.rename(file, os.path.basename(file))\n",
    "    \n",
    "# shutil.rmtree('mastDownload')\n",
    "# !mkdir FITS images\n",
    "# !mv *fits FITS/\n",
    "# !mv *jpg images/\n",
    "!ls"
   ]
  },
  {
   "cell_type": "markdown",
   "metadata": {},
   "source": [
    "You will notice that the number of downloaded files far exceeds the number of observations collected in `obs_table`. To understand them, let us look into the one of the accompanying `.txt` files."
   ]
  },
  {
   "cell_type": "code",
   "execution_count": 56,
   "metadata": {},
   "outputs": [
    {
     "name": "stdout",
     "output_type": "stream",
     "text": [
      "2021330044237 INFO src=drizzlepac.hapsequencer- Run start time: 2021-11-26 04:42:37.777383\n",
      "2021330044237 INFO src=drizzlepac.hapsequencer- Parse the poller and determine what exposures need to be combined into separate products.\n",
      "\n",
      "2021330044237 INFO src=drizzlepac.haputils.poller_utils- Input image j8up02usq_flt.fits found in current working directory.\n",
      "2021330044237 INFO src=drizzlepac.haputils.poller_utils- Input image j8up02utq_flt.fits found in current working directory.\n",
      "2021330044237 INFO src=drizzlepac.haputils.poller_utils- Input image j8up02uuq_flt.fits found in current working directory.\n",
      "2021330044237 INFO src=drizzlepac.haputils.poller_utils- Input image j8up02uvq_flt.fits found in current working directory.\n",
      "2021330044237 INFO src=drizzlepac.haputils.poller_utils- Input image j8up02uwq_flt.fits found in current working directory.\n",
      "2021330044237 INFO src=drizzlepac.haputils.poller_utils- Input image j8up02uyq_flt.fits found in current working directory.\n",
      "2021330044237 INFO src=drizzlepac.haputils.poller_utils- Input image j8up02v0q_flt.fits found in current working directory.\n"
     ]
    }
   ],
   "source": [
    "with open('hst_10057_02_acs_wfc_fr388n_j8up02uv_trl.txt') as f:\n",
    "    a = f.readlines()\n",
    "    for line in a[:10]:\n",
    "        print(line.split('\\n')[0])"
   ]
  },
  {
   "cell_type": "markdown",
   "metadata": {},
   "source": [
    "This tells us that several files, j...fits, were collected at each observation and combined into one image per filter using `drizzlepac`. In fact, we can use `drizzlepac` to combine all of these images into a single composite image, deeper than any individual one.\n",
    "\n",
    "The Drizzle technique is a way of orienting all the images into exactly the same reference frame. This is crucial since the telescope shifts its pointing direction slightly all the time; in addition, different instruments on the telescope point in different directions. To align the images, we first need to find all the point sources in them, and then feed in the point source lists, along with the WCS coordinate information, to `drizzlepac`."
   ]
  },
  {
   "cell_type": "markdown",
   "metadata": {},
   "source": [
    "## Assignment 1: \n",
    "Pull all available observations for the galaxy cluster Abell 2744, also known as Pandora's Cluster. Try your favourite object. If you query only by target name, do you get too many results? What filters might help you narrow down to the data most useful to your proposal? Besides images, what data types might serve you? "
   ]
  },
  {
   "cell_type": "code",
   "execution_count": null,
   "metadata": {},
   "outputs": [],
   "source": [
    "obs_table = Observations.query_object( )\n"
   ]
  },
  {
   "cell_type": "markdown",
   "metadata": {},
   "source": [
    "At this point, all the FITS files live in the FITS directory, while pre-processed images are in images/. Take a moment to look through the images in your preferred image viewer. Next, we will load the FITS files and manipulate them."
   ]
  },
  {
   "cell_type": "code",
   "execution_count": 35,
   "metadata": {},
   "outputs": [
    {
     "data": {
      "text/plain": [
       "['FITS/hlsp_orion_hst_acs_colorimage_b_v1_drz.fits',\n",
       " 'FITS/hlsp_orion_hst_acs_colorimage_g_v1_drz.fits',\n",
       " 'FITS/hlsp_orion_hst_acs_colorimage_r_v1_drz.fits',\n",
       " 'FITS/x22q0101t_c0f.fits',\n",
       " 'FITS/x22q0101t_c1f.fits',\n",
       " 'FITS/x22q0101t_d0f.fits',\n",
       " 'FITS/x22q0101t_dgr.fits',\n",
       " 'FITS/x22q0101t_q0f.fits',\n",
       " 'FITS/x22q0101t_shf.fits',\n",
       " 'FITS/x22q0101t_trl.fits',\n",
       " 'FITS/x22q0101t_ulf.fits',\n",
       " 'FITS/x22q0201t_c0f.fits',\n",
       " 'FITS/x22q0201t_c1f.fits',\n",
       " 'FITS/x22q0201t_d0f.fits',\n",
       " 'FITS/x22q0201t_dgr.fits',\n",
       " 'FITS/x22q0201t_q0f.fits',\n",
       " 'FITS/x22q0201t_shf.fits',\n",
       " 'FITS/x22q0201t_trl.fits',\n",
       " 'FITS/x22q0201t_ulf.fits']"
      ]
     },
     "execution_count": 35,
     "metadata": {},
     "output_type": "execute_result"
    }
   ],
   "source": [
    "files = glob.glob('FITS/*fits')\n",
    "files.sort() \n",
    "files"
   ]
  },
  {
   "cell_type": "code",
   "execution_count": null,
   "metadata": {},
   "outputs": [],
   "source": [
    "What are all these x..fits files?"
   ]
  },
  {
   "cell_type": "markdown",
   "metadata": {},
   "source": [
    "***"
   ]
  },
  {
   "cell_type": "markdown",
   "metadata": {},
   "source": [
    "## Main Content\n",
    "\n",
    "The main content of your tutorial should be subdivided into numbered sections with useful, descriptive headings that make sense based on the content. Break sections up with standard Markdown syntax headings:\n",
    "\n",
    "```\n",
    "## Section 1\n",
    "\n",
    "Intro to Section 1\n",
    "\n",
    "### Subsection 1a\n",
    "\n",
    "More detailed info about Section 1\n",
    "\n",
    "## Section 2\n",
    "\n",
    "A complete thought that's as important as Section 1 but doesn't need subsections.\n",
    "\n",
    "```"
   ]
  },
  {
   "cell_type": "markdown",
   "metadata": {
    "slideshow": {
     "slide_type": "slide"
    }
   },
   "source": [
    "### Loading Data\n",
    "\n",
    "Loading data and file information should appear within your main content, at the same time the data is going to be used, if possible. These elements of your tutorial can be their own sections within the main content, but avoid generic or vague headings like “Loading Data” and instead use descriptive headings pertinent to the content of the tutorial and the actual data being downloaded or files being used.\n",
    "\n",
    "If the user needs to download data to run the tutorial properly, where possible, use [Astroquery](https://astroquery.readthedocs.io/en/latest/) (or similar) to retrieve files. If this is not possible, see the [data guide](https://github.com/spacetelescope/style-guides/blob/master/guides/where-to-put-your-data.md) for other options."
   ]
  },
  {
   "cell_type": "markdown",
   "metadata": {
    "slideshow": {
     "slide_type": "slide"
    }
   },
   "source": [
    "For example, if we wanted to query for data from MAST for Kepler we might do something like:"
   ]
  },
  {
   "cell_type": "code",
   "execution_count": null,
   "metadata": {
    "slideshow": {
     "slide_type": "fragment"
    }
   },
   "outputs": [],
   "source": [
    "keplerObs = Observations.query_criteria(target_name='kplr008957091', obs_collection='Kepler')\n",
    "keplerProds = Observations.get_product_list(keplerObs[0])\n",
    "yourProd = Observations.filter_products(keplerProds,extension='kplr008957091-2012277125453_lpd-targ.fits.gz',\n",
    "                                        mrp_only=False)\n"
   ]
  },
  {
   "cell_type": "markdown",
   "metadata": {},
   "source": [
    "### File Information\n",
    "\n",
    "Explain pertinent details about the file you've just downloaded. For example, if working with Kepler light curves, explain what's in the different file extensions:\n",
    "\n",
    "```\n",
    "- No. 0 (Primary): This HDU contains metadata related to the entire file.\n",
    "- No. 1 (Light curve): This HDU contains a binary table that holds data like\n",
    "  flux measurements and times. We will extract information from here when we\n",
    "  define the parameters for the light curve plot.\n",
    "- No. 2 (Aperture): This HDU contains the image extension with data collected\n",
    "  from the aperture. We will also use this to display a bitmask plot that\n",
    "  visually represents the optimal aperture used to create the SAP_FLUX column in\n",
    "  HDU1.\n",
    "\n",
    "```"
   ]
  },
  {
   "cell_type": "markdown",
   "metadata": {},
   "source": [
    "Where possible (if the code supports it), use code examples that visually display the data in the tutorial. For example, if you are showing an object such as a Table, display a preview of the table:"
   ]
  },
  {
   "cell_type": "code",
   "execution_count": 15,
   "metadata": {},
   "outputs": [
    {
     "data": {
      "text/html": [
       "<i>Table masked=True length=5</i>\n",
       "<table id=\"table140630505372920\" class=\"table-striped table-bordered table-condensed\">\n",
       "<thead><tr><th>obsID</th><th>obs_collection</th><th>dataproduct_type</th><th>obs_id</th><th>description</th><th>type</th><th>dataURI</th><th>productType</th><th>productGroupDescription</th><th>productSubGroupDescription</th><th>productDocumentationURL</th><th>project</th><th>prvversion</th><th>proposal_id</th><th>productFilename</th><th>size</th><th>parent_obsid</th></tr></thead>\n",
       "<thead><tr><th>str10</th><th>str6</th><th>str10</th><th>str36</th><th>str59</th><th>str1</th><th>str110</th><th>str7</th><th>str28</th><th>str1</th><th>str1</th><th>str6</th><th>str1</th><th>str7</th><th>str44</th><th>int64</th><th>str10</th></tr></thead>\n",
       "<tr><td>9000159893</td><td>Kepler</td><td>timeseries</td><td>kplr008957091_lc_Q000000000011111111</td><td>Preview-Full</td><td>C</td><td>mast:Kepler/url/missions/kepler/previews/0089/008957091/kplr008957091-2013098041711_llc_bw_large.png</td><td>PREVIEW</td><td>--</td><td>--</td><td>--</td><td>Kepler</td><td>--</td><td>GO30032</td><td>kplr008957091-2013098041711_llc_bw_large.png</td><td>29653</td><td>9000159893</td></tr>\n",
       "<tr><td>9000159893</td><td>Kepler</td><td>timeseries</td><td>kplr008957091_lc_Q000000000011111111</td><td>Lightcurve Long Cadence (CLC) - Q10</td><td>C</td><td>mast:Kepler/url/missions/kepler/lightcurves/0089/008957091/kplr008957091-2011271113734_llc.fits</td><td>SCIENCE</td><td>--</td><td>--</td><td>--</td><td>Kepler</td><td>--</td><td>GO30032</td><td>kplr008957091-2011271113734_llc.fits</td><td>486720</td><td>9000159893</td></tr>\n",
       "<tr><td>9000159893</td><td>Kepler</td><td>timeseries</td><td>kplr008957091_lc_Q000000000011111111</td><td>Lightcurve Long Cadence (CLC) - Q11</td><td>C</td><td>mast:Kepler/url/missions/kepler/lightcurves/0089/008957091/kplr008957091-2012004120508_llc.fits</td><td>SCIENCE</td><td>--</td><td>--</td><td>--</td><td>Kepler</td><td>--</td><td>GO30032</td><td>kplr008957091-2012004120508_llc.fits</td><td>506880</td><td>9000159893</td></tr>\n",
       "<tr><td>9000159893</td><td>Kepler</td><td>timeseries</td><td>kplr008957091_lc_Q000000000011111111</td><td>Lightcurve Long Cadence (CLC) - Q12</td><td>C</td><td>mast:Kepler/url/missions/kepler/lightcurves/0089/008957091/kplr008957091-2012088054726_llc.fits</td><td>SCIENCE</td><td>--</td><td>--</td><td>--</td><td>Kepler</td><td>--</td><td>GO30032</td><td>kplr008957091-2012088054726_llc.fits</td><td>434880</td><td>9000159893</td></tr>\n",
       "<tr><td>9000159893</td><td>Kepler</td><td>timeseries</td><td>kplr008957091_lc_Q000000000011111111</td><td>Lightcurve Long Cadence (CLC) - Q13</td><td>C</td><td>mast:Kepler/url/missions/kepler/lightcurves/0089/008957091/kplr008957091-2012179063303_llc.fits</td><td>SCIENCE</td><td>--</td><td>--</td><td>--</td><td>Kepler</td><td>--</td><td>GO30032</td><td>kplr008957091-2012179063303_llc.fits</td><td>472320</td><td>9000159893</td></tr>\n",
       "</table>"
      ],
      "text/plain": [
       "<Table masked=True length=5>\n",
       "  obsID    obs_collection dataproduct_type ...  size  parent_obsid\n",
       "  str10         str6           str10       ... int64     str10    \n",
       "---------- -------------- ---------------- ... ------ ------------\n",
       "9000159893         Kepler       timeseries ...  29653   9000159893\n",
       "9000159893         Kepler       timeseries ... 486720   9000159893\n",
       "9000159893         Kepler       timeseries ... 506880   9000159893\n",
       "9000159893         Kepler       timeseries ... 434880   9000159893\n",
       "9000159893         Kepler       timeseries ... 472320   9000159893"
      ]
     },
     "execution_count": 15,
     "metadata": {},
     "output_type": "execute_result"
    }
   ],
   "source": [
    "yourProd[0:5]"
   ]
  },
  {
   "cell_type": "code",
   "execution_count": null,
   "metadata": {},
   "outputs": [],
   "source": [
    "# Download the products\n",
    "Observations.download_products(yourProd, mrp_only=False, cache=False)"
   ]
  },
  {
   "cell_type": "markdown",
   "metadata": {},
   "source": [
    "## Exercises\n",
    "Exercises are optional, but encouraged. Exercises can be woven into the main content of your tutorial, or appear in their own section toward the end of the tutorial. Final exercises can be more challenging, similar to homework problems. They can be minimal or take as long as 30 minutes to an hour to complete. If you do have one or more exercises in your tutorial, be sure to leave a blank code cell underneath each to show the reader that they're meant to try out their new skill right there. You may also want to include a \"solutions\" notebook next to your main notebook for the reader to check their work after they have finished their attempt."
   ]
  },
  {
   "cell_type": "markdown",
   "metadata": {},
   "source": [
    "## Additional Resources\n",
    "\n",
    "This section is optional. Try to weave resource links into the main content of your tutorial so that they are falling in line with the context of your writing. For resources that do not fit cleanly into your narrative, you may include an additional resources section at the end of your tutorial. Usually a list of links using Markdown bullet list plus link format is appropriate:\n",
    "\n",
    "- [MAST API](https://mast.stsci.edu/api/v0/index.html)\n",
    "- [Kepler Archive Page (MAST)](https://archive.stsci.edu/kepler/)\n",
    "- [Kepler Archive Manual](https://archive.stsci.edu/kepler/manuals/archive_manual.pdf)\n",
    "- [Exo.MAST website](https://exo.mast.stsci.edu/)"
   ]
  },
  {
   "cell_type": "markdown",
   "metadata": {
    "slideshow": {
     "slide_type": "slide"
    }
   },
   "source": [
    "## About this Notebook\n",
    "Let the world know who the author of this great tutorial is! If possible and appropriate, include a contact email address for users who might need support (for example, `archive@stsci.edu`). You can also optionally include keywords, your funding source, or a last update date in this section.\n",
    "\n",
    "**Author:** Jessie Blogs, Archive Scientist.  \n",
    "**Updated On:** YYYY-MM-DD"
   ]
  },
  {
   "cell_type": "markdown",
   "metadata": {},
   "source": [
    "## Citations\n",
    "Provide your reader with guidelines on how to cite open source software and other resources in their own published work.\n",
    "\n",
    "```\n",
    "If you use `astropy` or `lightkurve` for published research, please cite the\n",
    "authors. Follow these links for more information about citing `astropy` and\n",
    "`lightkurve`:\n",
    "\n",
    "* [Citing `astropy`](https://www.astropy.org/acknowledging.html)\n",
    "* [Citing `lightkurve`](http://docs.lightkurve.org/about/citing.html)\n",
    "\n",
    "```"
   ]
  },
  {
   "cell_type": "markdown",
   "metadata": {},
   "source": [
    "***"
   ]
  },
  {
   "cell_type": "markdown",
   "metadata": {},
   "source": [
    "[Top of Page](#top)\n",
    "<img style=\"float: right;\" src=\"https://raw.githubusercontent.com/spacetelescope/notebooks/master/assets/stsci_pri_combo_mark_horizonal_white_bkgd.png\" alt=\"Space Telescope Logo\" width=\"200px\"/> "
   ]
  }
 ],
 "metadata": {
  "kernelspec": {
   "display_name": "Python 3",
   "language": "python",
   "name": "python3"
  },
  "language_info": {
   "codemirror_mode": {
    "name": "ipython",
    "version": 3
   },
   "file_extension": ".py",
   "mimetype": "text/x-python",
   "name": "python",
   "nbconvert_exporter": "python",
   "pygments_lexer": "ipython3",
   "version": "3.9.5"
  }
 },
 "nbformat": 4,
 "nbformat_minor": 2
}
