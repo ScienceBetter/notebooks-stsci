{
 "cells": [
  {
   "cell_type": "markdown",
   "id": "549e4104",
   "metadata": {},
   "source": [
    "# Learning Goals\n",
    "\n",
    "By the end of this tutorial you will: <br>\n",
    "* Understand how to use source-clustering for searching data.\n",
    "* Learn to search a survey for observations of a known target.\n",
    "* Be able to plot an observation.\n",
    "* Make your own comparisons and conclusions based on the target.\n"
   ]
  },
  {
   "cell_type": "markdown",
   "id": "2b9fc1f4",
   "metadata": {},
   "source": [
    "# Introduction\n",
    "\n",
    "Ultra-faint dwarf (UFD) galaxies are a subset of dwarf galaxies that are classified by having one hundred thousand to a few hundred thousand stars, making them the faintest galaxies in the universe. They differ from globular clusters in that they have a significant amount of dark matter which extends beyond the visible stellar matter. Because of their high concentration of dark matter, astronomers believe there could be unique insights into the early universe in UFD's. All UFD's that have been discovered are ancient systems that are believed to have formed only a few million years after the Big Bang.  \n",
    "\n",
    "The target we will focus on in this tutorial is Pegasus V whose discovery was recently published in the paper \"Pegasus V -- a newly discovered ultra-faint dwarf galaxy on the outskirts of Andromeda\" by Collins et al. 2022. \n"
   ]
  },
  {
   "cell_type": "markdown",
   "id": "c21b793a",
   "metadata": {},
   "source": [
    "# Imports\n",
    "\n",
    "The following cell holds the imported packages. These packages are necessary for running the rest of the cells in this notebook. A description of each import is as follows:\n",
    "\n",
    "* numpy to handle array functions\n",
    "* pandas to handle date conversions\n",
    "* fits from astropy.io for accessing FITS files\n",
    "* Table from astropy.table for creating tidy tables of the data\n",
    "* matplotlib.pyplot for plotting data\n",
    "* Mast and Observations from astroquery.mast for querying data and observations from the MAST archive\n"
   ]
  },
  {
   "cell_type": "code",
   "execution_count": 2,
   "id": "3592b4e7",
   "metadata": {},
   "outputs": [],
   "source": [
    "%matplotlib inline\n",
    "import numpy as np\n",
    "import pandas as pd\n",
    "from astropy.io import fits\n",
    "from astropy.table import Table\n",
    "import matplotlib.pyplot as plt\n",
    "from astroquery.mast import Mast\n",
    "from astroquery.mast import Observations\n",
    "from astroquery.mast import Catalogs"
   ]
  },
  {
   "cell_type": "markdown",
   "id": "36b08aad",
   "metadata": {},
   "source": [
    "# Main Content"
   ]
  },
  {
   "cell_type": "markdown",
   "id": "5568929a",
   "metadata": {},
   "source": [
    "# Search PanSTARRS for Pegasus V"
   ]
  },
  {
   "cell_type": "markdown",
   "id": "434db03a",
   "metadata": {},
   "source": [
    "## What is source-clustering?"
   ]
  },
  {
   "cell_type": "markdown",
   "id": "94f5d5e3",
   "metadata": {},
   "source": [
    "# Plot Something (tbd)"
   ]
  },
  {
   "cell_type": "markdown",
   "id": "936719c9",
   "metadata": {},
   "source": [
    "# Exercises"
   ]
  },
  {
   "cell_type": "markdown",
   "id": "a93d68fc",
   "metadata": {},
   "source": [
    "# Additional Resources\n",
    "\n",
    "You can find the discovery paper of this target here: https://arxiv.org/abs/2204.09068 "
   ]
  },
  {
   "cell_type": "markdown",
   "id": "8e1699df",
   "metadata": {},
   "source": [
    "# About this Notebook\n",
    "\n",
    "**Author:** Emma Lieb <br>\n",
    "**Last Updated:** Jul 11th 2022"
   ]
  },
  {
   "cell_type": "markdown",
   "id": "1dc4fb00",
   "metadata": {},
   "source": [
    "# Citations\n",
    "\n",
    "* [Citation for `astropy`](https://www.astropy.org/acknowledging.html)"
   ]
  },
  {
   "cell_type": "code",
   "execution_count": null,
   "id": "aaf25eb0",
   "metadata": {},
   "outputs": [],
   "source": []
  },
  {
   "cell_type": "code",
   "execution_count": null,
   "id": "a8dfa00b",
   "metadata": {},
   "outputs": [],
   "source": []
  }
 ],
 "metadata": {
  "kernelspec": {
   "display_name": "Python 3",
   "language": "python",
   "name": "python3"
  },
  "language_info": {
   "codemirror_mode": {
    "name": "ipython",
    "version": 3
   },
   "file_extension": ".py",
   "mimetype": "text/x-python",
   "name": "python",
   "nbconvert_exporter": "python",
   "pygments_lexer": "ipython3",
   "version": "3.8.8"
  }
 },
 "nbformat": 4,
 "nbformat_minor": 5
}
