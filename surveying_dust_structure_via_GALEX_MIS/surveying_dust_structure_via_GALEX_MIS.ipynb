{
 "cells": [
  {
   "cell_type": "markdown",
   "id": "7c9aa64b",
   "metadata": {},
   "source": [
    "<a id=\"top\"></a>\n",
    "# Surveying dust structure via GALEX MIS\n",
    "***\n",
    "\n",
    "## Learning goals\n",
    "\n",
    "By the end of this tutorial you will be able to:\n",
    "\n",
    "- Understand NUV and FUV images and how they are useful to study dust\n",
    "- Navigate the GALEX MIS catalog\n",
    "- Create a mosaic from several images\n",
    "\n",
    "## Introduction\n",
    "\n",
    "**GALEX background**: The Galaxy Evolution Explorer (GALEX) was a satellite which mission was to produce an All-sky Imaiging Survey (AIS). It observed the sky in two different bands: in the Near UV (NUV) ($1750-27504$ Å) and in the Far UV (FUV) ($1350-1750$ Å). The GALEX database contains over 600 million source measurements in the ultraviolet domain, with some sources having more than one measurement, which could be useful to look for variability. \n",
    "\n",
    "**GALEX Medium Imaging survey (MIS) background**: Single orbit exposures (1,500s) of 1000 square degrees in positions that match the Sloan Digital Sky Survey (SDSS) spectroscopic footprint. The MIS has been extended to cover the Two Degree Field Galaxy Redshift Survey (2dFGRS) and the AA-Omega (WiggleZ) project.\n",
    "\n",
    "**Defining some terms:**\n",
    "\n",
    "- MIVC: Molecular Intermediate Velocity Cloud.\n",
    "- Intensity map: image that displays the photons per pixel per second corrected for the relative response of the instrument used. \n",
    "\n",
    "## Table of Contents\n",
    "* [Imports](#Imports)\n",
    "* [Target: Draco MIVC](#Target:-Draco-MIVC)\n",
    "* [GALEX](#GALEX)\n",
    "    * [MIS - Unique source query](#MIS---Unique-source-query)\n",
    "    * [Naming convention](#Naming-convention)\n",
    "* [Image display](#Image-display)\n",
    "    * [Including coordinates in an image](#Including-coordinates-in-an-image)\n",
    "    * [Displaying the final image](#Displaying-the-final-image)\n",
    "* [Constructing the final mosaic](#Constructing-the-final-mosaic)\n",
    "    * [Additional images](#Additional-images)\n",
    "    * [Expanded image](#Expanded-image)\n",
    "    * [Mask](#Mask)\n",
    "    * [Limits of image - Coordinates](#Limits-of-image---Coordinates)\n",
    "    * [Putting it all together](#Putting-it-all-together)\n",
    "* [Exercises](#Exercises)\n",
    "* [Additional Resources](#Additional-Resources)\n",
    "\n",
    "## Imports\n",
    "\n",
    "- `astropy` to use tools needed for performing astronomy and astrophysics with Python, including handling fits files, defining coordinates or choosing the right limits for image visualization.\n",
    "- `Observations` from _astroquery.mast_ to query the Barbara A. Mikulski Archive for Space Telescopes (MAST).\n",
    "- `os` to  use operating system dependent functionality, such as unzipping files.\n",
    "- `matplotlib` to visualize images.\n",
    "- `numpy` to manipulate arrays."
   ]
  },
  {
   "cell_type": "code",
   "execution_count": 1,
   "id": "5d658657",
   "metadata": {},
   "outputs": [],
   "source": [
    "from astropy.coordinates import SkyCoord\n",
    "from astroquery.mast import Observations\n",
    "import os\n",
    "from astropy.io import fits\n",
    "import matplotlib.pyplot as plt\n",
    "import matplotlib.image as mpimg\n",
    "from astropy.visualization import ZScaleInterval\n",
    "import numpy as np"
   ]
  },
  {
   "cell_type": "markdown",
   "id": "f74fd4af",
   "metadata": {},
   "source": [
    "## Target: Draco MIVC\n",
    "\n",
    "The objective of this tutorial is to create a mosaic of a high-latitude cloud using different images retrieved from GALEX MIS. The GALEX MIS products can be accesed through _astroquery.mast_, and we will perform a search using the galactic coordinates of some objects belonging to the Draco cloud, let's start with the coordinates that SIMBAD provides for <a href=\"http://simbad.cds.unistra.fr/simbad/sim-id?Ident=%40375027&Name=NAME%20Draco%20Nebula&submit=submit\">the Draco Nebula</a> (ICRS coordinates, ep = J2000): \n",
    "\n",
    "- Right ascension: 253.0 deg\n",
    "- Declination: +61.0 deg"
   ]
  },
  {
   "cell_type": "markdown",
   "id": "f70da37a",
   "metadata": {},
   "source": [
    "## GALEX \n",
    "\n",
    "### MIS - Unique source query\n",
    "\n",
    "Let's start with this one source, and see step by step how to retrieve the image from the GALEX database, first let's use the coordinates of the source to find it in the database. We will use <a href=\"https://docs.astropy.org/en/stable/api/astropy.coordinates.SkyCoord.html\">_SkyCoord_</a> to correctly characterize the units and reference frame of our source. The coordinates displayed above are expressed in degrees and are in the galactic reference frame, we can specify this by using the arguments _unit_ and _frame_ as shown below:"
   ]
  },
  {
   "cell_type": "code",
   "execution_count": 3,
   "id": "3f8bb9af",
   "metadata": {
    "scrolled": true
   },
   "outputs": [
    {
     "data": {
      "text/html": [
       "<div><i>Table masked=True length=3</i>\n",
       "<table id=\"table140324006817744\" class=\"table-striped table-bordered table-condensed\">\n",
       "<thead><tr><th>obsID</th><th>obs_collection</th><th>dataproduct_type</th><th>obs_id</th><th>description</th><th>type</th><th>dataURI</th><th>productType</th><th>productGroupDescription</th><th>productSubGroupDescription</th><th>productDocumentationURL</th><th>project</th><th>prvversion</th><th>proposal_id</th><th>productFilename</th><th>size</th><th>parent_obsid</th><th>dataRights</th><th>calib_level</th></tr></thead>\n",
       "<thead><tr><th>str5</th><th>str5</th><th>str5</th><th>str19</th><th>str139</th><th>str1</th><th>str152</th><th>str9</th><th>str28</th><th>str12</th><th>str1</th><th>str3</th><th>str1</th><th>str1</th><th>str61</th><th>int64</th><th>str3</th><th>str6</th><th>int64</th></tr></thead>\n",
       "<tr><td>45112</td><td>GALEX</td><td>image</td><td>2415866739821641728</td><td>Catalog of matches between -flagstar and -[n/f]-cat files</td><td>S</td><td>mast:GALEX/url/data/GR6/pipe/01-vsn/03127-MISDR1_10131_0351/d/00-visits/0001-img/07-try/MISDR1_10131_0351_0001-fd-cat_mch_flagstar.fits.gz</td><td>AUXILIARY</td><td>--</td><td>--</td><td>--</td><td>MIS</td><td>--</td><td>--</td><td>MISDR1_10131_0351_0001-fd-cat_mch_flagstar.fits.gz</td><td>6889</td><td>129</td><td>PUBLIC</td><td>2</td></tr>\n",
       "<tr><td>45112</td><td>GALEX</td><td>image</td><td>2415866739821641728</td><td>Count map (J2000)</td><td>S</td><td>mast:GALEX/url/data/GR6/pipe/01-vsn/03127-MISDR1_10131_0351/d/00-visits/0001-img/07-try/MISDR1_10131_0351_0001-fd-cnt.fits.gz</td><td>AUXILIARY</td><td>--</td><td>--</td><td>--</td><td>MIS</td><td>--</td><td>--</td><td>MISDR1_10131_0351_0001-fd-cnt.fits.gz</td><td>2427899</td><td>129</td><td>PUBLIC</td><td>2</td></tr>\n",
       "<tr><td>45112</td><td>GALEX</td><td>image</td><td>2415866739821641728</td><td>Exposure map (J2000)</td><td>S</td><td>mast:GALEX/url/data/GR6/pipe/01-vsn/03127-MISDR1_10131_0351/d/00-visits/0001-img/07-try/MISDR1_10131_0351_0001-fd-exp.fits.gz</td><td>AUXILIARY</td><td>--</td><td>--</td><td>--</td><td>MIS</td><td>--</td><td>--</td><td>MISDR1_10131_0351_0001-fd-exp.fits.gz</td><td>155194</td><td>129</td><td>PUBLIC</td><td>2</td></tr>\n",
       "</table></div>"
      ],
      "text/plain": [
       "<Table masked=True length=3>\n",
       "obsID obs_collection dataproduct_type ... parent_obsid dataRights calib_level\n",
       " str5      str5            str5       ...     str3        str6       int64   \n",
       "----- -------------- ---------------- ... ------------ ---------- -----------\n",
       "45112          GALEX            image ...          129     PUBLIC           2\n",
       "45112          GALEX            image ...          129     PUBLIC           2\n",
       "45112          GALEX            image ...          129     PUBLIC           2"
      ]
     },
     "execution_count": 3,
     "metadata": {},
     "output_type": "execute_result"
    }
   ],
   "source": [
    "coord = SkyCoord(253.0000, +61.0, unit='deg', frame='icrs')\n",
    "obs = Observations.query_criteria(obs_collection=\"GALEX\",coordinates=coord,project='MIS',radius=\".01 deg\")\n",
    "data_products = Observations.get_product_list(obs)\n",
    "data_products[0:3]"
   ]
  },
  {
   "cell_type": "markdown",
   "id": "53dc48bf",
   "metadata": {},
   "source": [
    "_**Note**: for display purposes, only the first 3 entries are shown, but the reader is encouraged to display the full table if they are interested in seeing how many results this query actually has_."
   ]
  },
  {
   "cell_type": "code",
   "execution_count": 47,
   "id": "2a9499e3",
   "metadata": {
    "scrolled": true
   },
   "outputs": [
    {
     "data": {
      "text/html": [
       "<i>Row index=0 masked=True</i>\n",
       "<table id=\"table140426953501472\">\n",
       "<thead><tr><th>obsID</th><th>obs_collection</th><th>dataproduct_type</th><th>obs_id</th><th>description</th><th>type</th><th>dataURI</th><th>productType</th><th>productGroupDescription</th><th>productSubGroupDescription</th><th>productDocumentationURL</th><th>project</th><th>prvversion</th><th>proposal_id</th><th>productFilename</th><th>size</th><th>parent_obsid</th><th>dataRights</th><th>calib_level</th></tr></thead>\n",
       "<thead><tr><th>str5</th><th>str5</th><th>str5</th><th>str19</th><th>str139</th><th>str1</th><th>str152</th><th>str9</th><th>str28</th><th>str12</th><th>str1</th><th>str3</th><th>str1</th><th>str1</th><th>str61</th><th>int64</th><th>str3</th><th>str6</th><th>int64</th></tr></thead>\n",
       "<tr><td>129</td><td>GALEX</td><td>image</td><td>2415866877260595200</td><td>Intensity map (J2000)</td><td>C</td><td>mast:GALEX/url/data/GR6/pipe/01-vsn/03127-MISDR1_10131_0351/d/01-main/0001-img/07-try/MISDR1_10131_0351-fd-int.fits.gz</td><td>SCIENCE</td><td>Minimum Recommended Products</td><td>Imaging Only</td><td>--</td><td>MIS</td><td>--</td><td>--</td><td>MISDR1_10131_0351-fd-int.fits.gz</td><td>12208657</td><td>129</td><td>PUBLIC</td><td>2</td></tr>\n",
       "</table>"
      ],
      "text/plain": [
       "<Row index=0 masked=True>\n",
       "obsID obs_collection dataproduct_type        obs_id            description      type                                                        dataURI                                                         productType   productGroupDescription    productSubGroupDescription productDocumentationURL project prvversion proposal_id         productFilename            size   parent_obsid dataRights calib_level\n",
       " str5      str5            str5              str19                str139        str1                                                         str152                                                             str9               str28                       str12                      str1            str3     str1        str1                 str61                int64       str3        str6       int64   \n",
       "----- -------------- ---------------- ------------------- --------------------- ---- ---------------------------------------------------------------------------------------------------------------------- ----------- ---------------------------- -------------------------- ----------------------- ------- ---------- ----------- -------------------------------- -------- ------------ ---------- -----------\n",
       "  129          GALEX            image 2415866877260595200 Intensity map (J2000)    C mast:GALEX/url/data/GR6/pipe/01-vsn/03127-MISDR1_10131_0351/d/01-main/0001-img/07-try/MISDR1_10131_0351-fd-int.fits.gz     SCIENCE Minimum Recommended Products               Imaging Only                      --     MIS         --          -- MISDR1_10131_0351-fd-int.fits.gz 12208657          129     PUBLIC           2"
      ]
     },
     "execution_count": 47,
     "metadata": {},
     "output_type": "execute_result"
    }
   ],
   "source": [
    "data_products_mrp = Observations.filter_products(data_products, productType='SCIENCE',productGroupDescription='Minimum Recommended Products')\n",
    "yourProd = data_products_mrp[0]\n",
    "yourProd"
   ]
  },
  {
   "cell_type": "code",
   "execution_count": 48,
   "id": "ff5b13c5",
   "metadata": {
    "scrolled": true
   },
   "outputs": [
    {
     "name": "stdout",
     "output_type": "stream",
     "text": [
      "Downloading URL https://mast.stsci.edu/api/v0.1/Download/file?uri=mast:GALEX/url/data/GR6/pipe/01-vsn/03127-MISDR1_10131_0351/d/01-main/0001-img/07-try/MISDR1_10131_0351-fd-int.fits.gz to ./mastDownload/GALEX/2415866877260595200/MISDR1_10131_0351-fd-int.fits.gz ... [Done]\n"
     ]
    },
    {
     "data": {
      "text/html": [
       "<div><i>Table length=1</i>\n",
       "<table id=\"table140426950622752\" class=\"table-striped table-bordered table-condensed\">\n",
       "<thead><tr><th>Local Path</th><th>Status</th><th>Message</th><th>URL</th></tr></thead>\n",
       "<thead><tr><th>str73</th><th>str8</th><th>object</th><th>object</th></tr></thead>\n",
       "<tr><td>./mastDownload/GALEX/2415866877260595200/MISDR1_10131_0351-fd-int.fits.gz</td><td>COMPLETE</td><td>None</td><td>None</td></tr>\n",
       "</table></div>"
      ],
      "text/plain": [
       "<Table length=1>\n",
       "                                Local Path                                ...\n",
       "                                  str73                                   ...\n",
       "------------------------------------------------------------------------- ...\n",
       "./mastDownload/GALEX/2415866877260595200/MISDR1_10131_0351-fd-int.fits.gz ..."
      ]
     },
     "execution_count": 48,
     "metadata": {},
     "output_type": "execute_result"
    }
   ],
   "source": [
    "table = Observations.download_products(yourProd, mrp_only = False, cache = False) \n",
    "table"
   ]
  },
  {
   "cell_type": "code",
   "execution_count": 7,
   "id": "ddfcbcbc",
   "metadata": {},
   "outputs": [
    {
     "data": {
      "text/plain": [
       "0"
      ]
     },
     "execution_count": 7,
     "metadata": {},
     "output_type": "execute_result"
    }
   ],
   "source": [
    "filename = table['Local Path'][0]\n",
    "os.system(\"gunzip \" + filename)"
   ]
  },
  {
   "cell_type": "code",
   "execution_count": 2,
   "id": "c8c781ab",
   "metadata": {},
   "outputs": [
    {
     "name": "stdout",
     "output_type": "stream",
     "text": [
      "Filename: ./mastDownload/GALEX/2415866877260595200/MISDR1_10131_0351-fd-int.fits\n",
      "No.    Name      Ver    Type      Cards   Dimensions   Format\n",
      "  0  PRIMARY       1 PrimaryHDU     122   (3840, 3840)   float32   \n"
     ]
    }
   ],
   "source": [
    "filename='./mastDownload/GALEX/2415866877260595200/MISDR1_10131_0351-fd-int.fits.gz'\n",
    "fits.info(filename[:-3])"
   ]
  },
  {
   "cell_type": "code",
   "execution_count": 3,
   "id": "3587dba9",
   "metadata": {
    "scrolled": true
   },
   "outputs": [],
   "source": [
    "with fits.open(filename[:-3]) as hdulist: \n",
    "    header = hdulist[0].header\n",
    "    image = hdulist[0].data"
   ]
  },
  {
   "cell_type": "markdown",
   "id": "5e2ff667",
   "metadata": {},
   "source": [
    "### Naming convention\n",
    "\n",
    "Before exploring the actual data retrieved from the data archive, let's focus on the name of the file, to try and understand GALEX naming convention:"
   ]
  },
  {
   "cell_type": "code",
   "execution_count": 64,
   "id": "ad227e83",
   "metadata": {},
   "outputs": [
    {
     "name": "stdout",
     "output_type": "stream",
     "text": [
      "MISDR1_10131_0351-fd-int\n"
     ]
    }
   ],
   "source": [
    "print(filename[41:-8])"
   ]
  },
  {
   "cell_type": "markdown",
   "id": "7a46b96d",
   "metadata": {},
   "source": [
    "Let's break it down in different parts:\n",
    "\n",
    "- MIS: Corresponds to the survey that delivered the data, in this case it referes to the Medium Imaging Survey.\n",
    "- ...\n",
    "- fd: The filename suffix normally beings with a string refering to the band or mode, fd means FUV direct (imaging).\n",
    "- int: Intensity map (J2000)\n",
    "\n",
    "More information about the naming convention can be found in the <a href=\"https://archive.stsci.edu/manuals/archive_handbook/chap4.html\">MAST webpage dedicated to GALEX</a> and in <a href=\"http://galex.stsci.edu/doc/CTM/wiki/Public_documentation/Appendix_A.html#Direct_Imaging_Data_Products\">GALEX webpage</a>."
   ]
  },
  {
   "cell_type": "markdown",
   "id": "17918b84",
   "metadata": {},
   "source": [
    "## Image display\n",
    "\n",
    "### Including coordinates in an image\n",
    "\n",
    "The header provides us with information about the coordinates that are being represented in the image from the FITS file, key parameters for this are as follows:\n",
    "\n",
    "- NAXIS1/2: length of data axis 1/2\n",
    "- CDELT1/2: increment on 1st/2nd axis\n",
    "- CRPIX1/2: reference pixel on 1st/2nd axis\n",
    "- CRVAL1/2: RA/Dec at reference point\n",
    "\n",
    "Let's display them from our header:"
   ]
  },
  {
   "cell_type": "code",
   "execution_count": 10,
   "id": "d024fd75",
   "metadata": {},
   "outputs": [
    {
     "name": "stdout",
     "output_type": "stream",
     "text": [
      "NAXIS1  =                 3840 / length of data axis 1                          \n",
      "NAXIS2  =                 3840 / length of data axis 2                          \n",
      "CDELT1  = -0.000416666666666667                                                 \n",
      "CDELT2  = 0.000416666666666667                                                  \n",
      "EQUINOX =                2000.                                                  \n",
      "EPOCH   =                2000.                                                  \n",
      "CTYPE1  = 'RA---TAN'                                                            \n",
      "CTYPE2  = 'DEC--TAN'                                                            \n",
      "CRPIX1  =               1920.5                                                  \n",
      "CRPIX2  =               1920.5                                                  \n",
      "CRVAL1  =            254.10219                                                  \n",
      "CRVAL2  =             61.22776                                                  \n"
     ]
    }
   ],
   "source": [
    "print(repr(header[3:5]))\n",
    "print(repr(header[13:23]))"
   ]
  },
  {
   "cell_type": "markdown",
   "id": "e116d652",
   "metadata": {},
   "source": [
    "They can also be directly accessed using the keywords that we want to extract from the header:"
   ]
  },
  {
   "cell_type": "code",
   "execution_count": 11,
   "id": "bb5d2bf5",
   "metadata": {},
   "outputs": [
    {
     "name": "stdout",
     "output_type": "stream",
     "text": [
      "3840\n"
     ]
    }
   ],
   "source": [
    "print(header['NAXIS1'])"
   ]
  },
  {
   "cell_type": "markdown",
   "id": "77bbe3cc",
   "metadata": {},
   "source": [
    "Since we know the value of the RA and Dec at the reference pixels, the number of pixels and the increments on the axis, we can generate two vectors corresponding to the actual values of the RA and Dec for each pixel! Let's do that now, since we will use this later when we display our images:"
   ]
  },
  {
   "cell_type": "code",
   "execution_count": 4,
   "id": "ddaac3b5",
   "metadata": {},
   "outputs": [],
   "source": [
    "naxis1 = header['NAXIS1']\n",
    "naxis2 = header['NAXIS2']\n",
    "cdelt1 = header['CDELT1']\n",
    "cdelt2 = header['CDELT2']\n",
    "crpix1 = header['CRPIX1']\n",
    "crpix2 = header['CRPIX2']\n",
    "crval1 = header['CRVAL1']\n",
    "crval2 = header['CRVAL2']\n",
    "\n",
    "# Initial RA - Pixel 1\n",
    "RA1 = crval1 - (crpix1-1)*cdelt1\n",
    "# Final RA - Last Pixel \n",
    "RAf = crval1 + (crpix1-1)*cdelt1\n",
    "\n",
    "# Initial Dec - Pixel 1\n",
    "Dec1 = crval2 - (crpix2-1)*cdelt2\n",
    "# Final Dec - Last Pixel \n",
    "Decf = crval2 + (crpix2-1)*cdelt2"
   ]
  },
  {
   "cell_type": "markdown",
   "id": "64fefcdc",
   "metadata": {},
   "source": [
    "### Displaying the final image\n",
    "\n",
    "Normally when you display an image, it may look as if it was blank, let's try to directly display the image that we retrieve from the archive. The intensity maps contained in GALEX have the following units: counts pixel cm s Å. We will do this using the <a href=\"https://matplotlib.org/stable/api/_as_gen/matplotlib.pyplot.imshow.html\">_imshow_ attribute</a> from _matplotlib.pyplot_:"
   ]
  },
  {
   "cell_type": "code",
   "execution_count": 69,
   "id": "ad57c979",
   "metadata": {},
   "outputs": [
    {
     "data": {
      "image/png": "[encoded data removed]",
      "text/plain": [
       "<Figure size 432x288 with 2 Axes>"
      ]
     },
     "metadata": {
      "needs_background": "light"
     },
     "output_type": "display_data"
    }
   ],
   "source": [
    "plt.imshow(image, extent=[RA1,RAf,Dec1,Decf], cmap='binary')\n",
    "plt.xlabel('RA')\n",
    "plt.ylabel('Dec')\n",
    "plt.colorbar(label='[cnts pixel cm s $\\AA$]')\n",
    "plt.show()"
   ]
  },
  {
   "cell_type": "markdown",
   "id": "90a512eb",
   "metadata": {},
   "source": [
    "At first glance, the image seems to be empty, however, let's change the _vmin_ and _vmax_ arguments from _imshow_ and see if we can see any difference. Since the image is 3840x3840 in size, let's only use a central smaller square to decide what limits to use. A useful resource for choosing this limits is <a href=\"https://docs.astropy.org/en/stable/api/astropy.visualization.ZScaleInterval.html#astropy.visualization.ZScaleInterval\">_ZScaleInterval_</a>, which calculates the image values near the median image, this is particularly useful for astronomical images, which generally have a very peaked histogram which can correspond to sky backgrounds."
   ]
  },
  {
   "cell_type": "code",
   "execution_count": 5,
   "id": "5901f7a5",
   "metadata": {},
   "outputs": [
    {
     "name": "stdout",
     "output_type": "stream",
     "text": [
      "Limits for image: vmin =  0.0 , vmax =  0.0014790618198790054\n"
     ]
    }
   ],
   "source": [
    "cut = image[1850:-1850,1850:-1850]\n",
    "interval = ZScaleInterval(nsamples=cut.size, contrast=0.5, max_reject=0.5)\n",
    "vmin, vmax = interval.get_limits(cut)\n",
    "\n",
    "print('Limits for image: vmin = ',vmin,', vmax = ',vmax)"
   ]
  },
  {
   "cell_type": "markdown",
   "id": "891f5a30",
   "metadata": {},
   "source": [
    "Now let's display the image again:\n",
    "\n",
    "_**Note**: imshow inverts the y-axis, so when we define the extent of the Declination, we should provide the limits in the reverse order as we have defined them._"
   ]
  },
  {
   "cell_type": "code",
   "execution_count": 6,
   "id": "88f1a9da",
   "metadata": {},
   "outputs": [
    {
     "data": {
      "image/png": "[encoded data removed]",
      "text/plain": [
       "<Figure size 432x288 with 2 Axes>"
      ]
     },
     "metadata": {
      "needs_background": "light"
     },
     "output_type": "display_data"
    }
   ],
   "source": [
    "plt.imshow(image, extent=[RA1,RAf,Decf,Dec1], vmin=vmin, vmax=vmax, cmap='binary')\n",
    "ax = plt.gca()\n",
    "ax.invert_yaxis()\n",
    "plt.xlabel('RA')\n",
    "plt.ylabel('Dec')\n",
    "plt.colorbar(label='[cnts pixel cm s $\\AA$]')\n",
    "plt.show()"
   ]
  },
  {
   "cell_type": "markdown",
   "id": "91c9d105",
   "metadata": {},
   "source": [
    "Great! Now we can actually see the contents of our image."
   ]
  },
  {
   "cell_type": "markdown",
   "id": "a5f7b57d",
   "metadata": {},
   "source": [
    "## Constructing the final mosaic"
   ]
  },
  {
   "cell_type": "markdown",
   "id": "fea7a2b2",
   "metadata": {},
   "source": [
    "### Additional images\n",
    "\n",
    "Let's automate the retrieval process by creating a function `getImages` that will do all the steps we did before. In order to obtain the exact products we want automatically, we are also providing the product filename as a filter to the query, this is simply for automatization porpuses, but the steps shown before also work without this filter."
   ]
  },
  {
   "cell_type": "code",
   "execution_count": 70,
   "id": "6edf7375",
   "metadata": {},
   "outputs": [],
   "source": [
    "def getImages(RA,Dec,prod_name):\n",
    "    \n",
    "    \"\"\"\n",
    "    Obtains image from GALEX MIS database, computes limits of coordinates in axes and contrast values for image display\n",
    "\n",
    "    Inputs:\n",
    "    :param RA, Dec: coordinates of target (Right Ascension and Declination)\n",
    "    :type RA, Dec: float\n",
    "    :param prod_name: product filename\n",
    "    :typr prod_name: string\n",
    "    \n",
    "    Outputs: \n",
    "    :return: image \n",
    "    :rtype: ndarray\n",
    "    :return: RA1, RAf, Dec1, Decf - Limits of coordinates in axes\n",
    "    :rtype: float\n",
    "    :return: vmin, vmax - Contrast values for image display\n",
    "    :rtype: float\n",
    "    \"\"\"\n",
    "    \n",
    "    coord = SkyCoord(RA, Dec, unit='deg', frame='icrs')\n",
    "    obs = Observations.query_criteria(obs_collection=\"GALEX\",coordinates=coord,project='MIS',radius=\"1 deg\")\n",
    "    \n",
    "    data_products = Observations.get_product_list(obs)\n",
    "    data_products_mrp = Observations.filter_products(data_products,productFilename = prod_name, productType='SCIENCE',productGroupDescription='Minimum Recommended Products')\n",
    "    yourProd = data_products_mrp[0]\n",
    "    table = Observations.download_products(yourProd, mrp_only = False, cache = False) \n",
    "    \n",
    "    filename = table['Local Path'][0]\n",
    "    os.system(\"gunzip \" + filename)\n",
    "    \n",
    "    with fits.open(filename[:-3]) as hdulist: \n",
    "        header = hdulist[0].header\n",
    "        image = hdulist[0].data\n",
    "        \n",
    "    naxis1 = header['NAXIS1']\n",
    "    naxis2 = header['NAXIS2']\n",
    "    cdelt1 = header['CDELT1']\n",
    "    cdelt2 = header['CDELT2']\n",
    "    crpix1 = header['CRPIX1']\n",
    "    crpix2 = header['CRPIX2']\n",
    "    crval1 = header['CRVAL1']\n",
    "    crval2 = header['CRVAL2']\n",
    "    print(crval1)\n",
    "    print(crval2)\n",
    "    \n",
    "    # Initial RA - Pixel 1\n",
    "    RA1 = crval1 - (crpix1-1)*cdelt1\n",
    "    # Final RA - Last Pixel \n",
    "    RAf = crval1 + (crpix1-1)*cdelt1\n",
    "    \n",
    "    # Initial Dec - Pixel 1\n",
    "    Dec1 = crval2 - (crpix2-1)*cdelt2\n",
    "    # Final Dec - Last Pixel \n",
    "    Decf = crval2 + (crpix2-1)*cdelt2\n",
    "    \n",
    "    cut = image[1850:-1850,1850:-1850]\n",
    "    interval = ZScaleInterval(nsamples=cut.size, contrast=0.5, max_reject=0.5)\n",
    "    vmin, vmax = interval.get_limits(cut)\n",
    "    \n",
    "    return image, RA1, RAf, Dec1, Decf, vmin, vmax"
   ]
  },
  {
   "cell_type": "markdown",
   "id": "e1d96277",
   "metadata": {},
   "source": [
    "Now that we have the function, let's load the parameters we need for our query first:"
   ]
  },
  {
   "cell_type": "code",
   "execution_count": 8,
   "id": "91fef9b1",
   "metadata": {},
   "outputs": [],
   "source": [
    "RA_draco = np.array([255.34705, 253.0000, 255.0000])\n",
    "Dec_draco = np.array([62.03394, 63.0, 60.0])\n",
    "prod_draco = np.array(['MISGCSN2_10096_0002-nd-int.fits.gz','MISDR1_10031_0349-fd-int.fits.gz','MISDR1_10166_0351-fd-int.fits.gz'])"
   ]
  },
  {
   "cell_type": "markdown",
   "id": "9b59e9c7",
   "metadata": {},
   "source": [
    "And finally, let's retrieve the images:"
   ]
  },
  {
   "cell_type": "code",
   "execution_count": 71,
   "id": "96e28e6d",
   "metadata": {},
   "outputs": [
    {
     "name": "stdout",
     "output_type": "stream",
     "text": [
      "Downloading URL https://mast.stsci.edu/api/v0.1/Download/file?uri=mast:GALEX/url/data/GR6/pipe/01-vsn/44813-MISGCSN2_10096_0002/d/01-main/0001-img/07-try/MISGCSN2_10096_0002-nd-int.fits.gz to ./mastDownload/GALEX/3882562612155645952/MISGCSN2_10096_0002-nd-int.fits.gz ... [Done]\n",
      "254.906492\n",
      "62.009663\n",
      "Downloading URL https://mast.stsci.edu/api/v0.1/Download/file?uri=mast:GALEX/url/data/GR6/pipe/01-vsn/03123-MISDR1_10031_0349/d/01-main/0001-img/07-try/MISDR1_10031_0349-fd-int.fits.gz to ./mastDownload/GALEX/2415726139772239872/MISDR1_10031_0349-fd-int.fits.gz ... [Done]\n",
      "253.15369\n",
      "63.8054\n",
      "Downloading URL https://mast.stsci.edu/api/v0.1/Download/file?uri=mast:GALEX/url/data/GR6/pipe/01-vsn/03129-MISDR1_10166_0351/d/01-main/0001-img/07-try/MISDR1_10166_0351-fd-int.fits.gz to ./mastDownload/GALEX/2415937246004772864/MISDR1_10166_0351-fd-int.fits.gz ... [Done]\n",
      "255.06516\n",
      "60.34843\n"
     ]
    }
   ],
   "source": [
    "n = len(RA_draco)\n",
    "\n",
    "images_draco = []\n",
    "RA1_draco = np.zeros(n)\n",
    "RAf_draco = np.zeros(n)\n",
    "Dec1_draco = np.zeros(n)\n",
    "Decf_draco = np.zeros(n)\n",
    "vmin_draco = np.zeros(n)\n",
    "vmax_draco = np.zeros(n)\n",
    "\n",
    "for i in range(n):\n",
    "    image_dr, RA1_draco[i], RAf_draco[i], Dec1_draco[i], Decf_draco[i], vmin_draco[i], vmax_draco[i] = getImages(RA_draco[i],Dec_draco[i],prod_draco[i])\n",
    "    images_draco.append(image_dr)"
   ]
  },
  {
   "cell_type": "markdown",
   "id": "1f5dfc86",
   "metadata": {},
   "source": [
    "### Expanded image"
   ]
  },
  {
   "cell_type": "code",
   "execution_count": 31,
   "id": "bc429295",
   "metadata": {},
   "outputs": [],
   "source": [
    "naxis1 = header['NAXIS1']\n",
    "naxis2 = header['NAXIS2']\n",
    "cdelt1 = header['CDELT1']\n",
    "cdelt2 = header['CDELT2']\n",
    "crpix1 = header['CRPIX1']\n",
    "crpix2 = header['CRPIX2']\n",
    "crval1 = header['CRVAL1']\n",
    "crval2 = header['CRVAL2']\n",
    "\n",
    "# Initial RA - Pixel 1\n",
    "RA1 = crval1 - (crpix1-1)*cdelt1\n",
    "# Final RA - Last Pixel \n",
    "RAf = crval1 + (crpix1-1)*cdelt1\n",
    "\n",
    "# Initial Dec - Pixel 1\n",
    "Dec1 = crval2 - (crpix2-1)*cdelt2\n",
    "# Final Dec - Last Pixel \n",
    "Decf = crval2 + (crpix2-1)*cdelt2"
   ]
  },
  {
   "cell_type": "code",
   "execution_count": 47,
   "id": "f5b2bc90",
   "metadata": {},
   "outputs": [
    {
     "name": "stdout",
     "output_type": "stream",
     "text": [
      "1920.5\n"
     ]
    }
   ],
   "source": [
    "print(crpix1)"
   ]
  },
  {
   "cell_type": "code",
   "execution_count": 32,
   "id": "a9b76664",
   "metadata": {},
   "outputs": [],
   "source": [
    "w = len(image)\n",
    "new_zeros = np.zeros((w,w))\n",
    "new_image = np.append(image, new_zeros, axis = 0)\n",
    "new_image2 = np.insert(new_image,0,new_zeros,axis= 0)\n",
    "new_zeros2 = np.zeros((w,3*w))\n",
    "new_image3 = np.insert(new_image2,0,new_zeros2,axis= 1)\n",
    "new_image4 = np.insert(new_image3,2*w,new_zeros2,axis= 1)"
   ]
  },
  {
   "cell_type": "code",
   "execution_count": 34,
   "id": "391bd146",
   "metadata": {},
   "outputs": [
    {
     "data": {
      "image/png": "[encoded data removed]",
      "text/plain": [
       "<Figure size 648x648 with 1 Axes>"
      ]
     },
     "metadata": {
      "needs_background": "light"
     },
     "output_type": "display_data"
    }
   ],
   "source": [
    "plt.figure(figsize = (9,9))\n",
    "ax = plt.gca()\n",
    "plt.imshow(new_image4, extent=[RA1,RAf,Decf,Dec1], vmin=vmin, vmax=vmax, cmap='binary')\n",
    "ax.axis('off')\n",
    "plt.savefig('expanded.jpg')\n",
    "plt.show()"
   ]
  },
  {
   "cell_type": "markdown",
   "id": "04929199",
   "metadata": {},
   "source": [
    "### Mask"
   ]
  },
  {
   "cell_type": "code",
   "execution_count": 38,
   "id": "9b309906",
   "metadata": {},
   "outputs": [
    {
     "data": {
      "image/png": "[encoded data removed]",
      "text/plain": [
       "<Figure size 432x288 with 1 Axes>"
      ]
     },
     "metadata": {
      "needs_background": "light"
     },
     "output_type": "display_data"
    }
   ],
   "source": [
    "from PIL import Image, ImageDraw, ImageFilter\n",
    "\n",
    "im2 = Image.open('draco4.jpg')\n",
    "mask_im = Image.new(\"L\", im2.size, 0)\n",
    "draw = ImageDraw.Draw(mask_im)\n",
    "draw.ellipse((50, 50, 175, 165), fill=255)\n",
    "mask_im.save('mask_circle.jpg', quality=95)\n",
    "\n",
    "plt.figure()\n",
    "plt.imshow(mask_im,cmap='binary_r')\n",
    "plt.show()"
   ]
  },
  {
   "cell_type": "markdown",
   "id": "5865ede2",
   "metadata": {},
   "source": [
    "### Limits of image - Coordinates"
   ]
  },
  {
   "cell_type": "code",
   "execution_count": 46,
   "id": "2718eabd",
   "metadata": {},
   "outputs": [],
   "source": [
    "naxis1 = header['NAXIS1']\n",
    "naxis2 = header['NAXIS2']\n",
    "cdelt1 = header['CDELT1']\n",
    "cdelt2 = header['CDELT2']\n",
    "crpix1 = header['CRPIX1']\n",
    "crpix2 = header['CRPIX2']\n",
    "crval1 = header['CRVAL1']\n",
    "crval2 = header['CRVAL2']\n",
    "\n",
    "# Initial RA - Pixel 1\n",
    "RA1 = crval1 - (crpix1*3-1)*cdelt1\n",
    "# Final RA - Last Pixel \n",
    "RAf = crval1 + (crpix1*3-1)*cdelt1\n",
    "\n",
    "# Initial Dec - Pixel 1\n",
    "Dec1 = crval2 - (crpix2*3-1)*cdelt2\n",
    "# Final Dec - Last Pixel \n",
    "Decf = crval2 + (crpix2*3-1)*cdelt2"
   ]
  },
  {
   "cell_type": "markdown",
   "id": "c291d67e",
   "metadata": {},
   "source": [
    "### Putting it all together"
   ]
  },
  {
   "cell_type": "code",
   "execution_count": 87,
   "id": "a34c4728",
   "metadata": {
    "scrolled": true
   },
   "outputs": [
    {
     "data": {
      "image/png": "[encoded data removed]",
      "text/plain": [
       "<Figure size 432x288 with 1 Axes>"
      ]
     },
     "metadata": {
      "needs_background": "light"
     },
     "output_type": "display_data"
    }
   ],
   "source": [
    "im1 = Image.open('expanded.jpg')\n",
    "im2 = Image.open('draco2.jpg')\n",
    "im3 = Image.open('draco3.jpg')\n",
    "im4 = Image.open('draco4.jpg')\n",
    "\n",
    "im1.paste(im4,(100,80), mask_im)\n",
    "im1.paste(im3,(360,540), mask_im)\n",
    "im1.paste(im2,(120,320), mask_im)\n",
    "\n",
    "plt.figure()\n",
    "ax = plt.gca()\n",
    "plt.imshow(im1, extent=[RA1,RAf,Decf,Dec1])\n",
    "ax.invert_yaxis()\n",
    "plt.xlabel('RA [deg]')\n",
    "plt.ylabel('Dec [deg]')\n",
    "plt.savefig('trial.jpg',bbox_inches='tight')\n",
    "plt.show()"
   ]
  },
  {
   "cell_type": "markdown",
   "id": "072f26f6",
   "metadata": {},
   "source": [
    "## Exercises\n",
    "\n",
    "TBD"
   ]
  },
  {
   "cell_type": "markdown",
   "id": "8e6c11bf",
   "metadata": {},
   "source": [
    "## Additional Resources\n",
    "\n",
    "For more information about the MAST archive and details about the tutorial: \n",
    "\n",
    "* <a href=\"https://mast.stsci.edu/api/v0/index.html\">MAST API</a> <br>\n",
    "* <a href=\"https://galex.stsci.edu/GR6/\">GALEX via MAST</a> <br>\n",
    "\n",
    "## About this Notebook\n",
    "\n",
    "**Author**: Clara Puerto Sánchez <br>\n",
    "**Keyword(s)**: Tutorial, mosaic, dust <br>\n",
    "**Last Updated**: Aug 2022 <br>\n",
    "**Next review**: Mar 2023\n",
    "\n",
    "For support, please contact the Archive HelpDesk at archive@stsci.edu.\n",
    "***\n",
    "[Top of Page](#top)\n",
    "<img style=\"float: right;\" src=\"https://raw.githubusercontent.com/spacetelescope/notebooks/master/assets/stsci_pri_combo_mark_horizonal_white_bkgd.png\" alt=\"Space Telescope Logo\" width=\"200px\"/>"
   ]
  }
 ],
 "metadata": {
  "kernelspec": {
   "display_name": "Python 3",
   "language": "python",
   "name": "python3"
  },
  "language_info": {
   "codemirror_mode": {
    "name": "ipython",
    "version": 3
   },
   "file_extension": ".py",
   "mimetype": "text/x-python",
   "name": "python",
   "nbconvert_exporter": "python",
   "pygments_lexer": "ipython3",
   "version": "3.8.8"
  }
 },
 "nbformat": 4,
 "nbformat_minor": 5
}
