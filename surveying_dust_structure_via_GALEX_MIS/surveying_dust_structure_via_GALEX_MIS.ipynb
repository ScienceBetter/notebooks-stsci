{
 "cells": [
  {
   "cell_type": "markdown",
   "id": "7c9aa64b",
   "metadata": {},
   "source": [
    "# Surveying dust structure via GALEX MIS\n",
    "\n",
    "## Learning goals\n",
    "\n",
    "By the end of this tutorial you will be able to:\n",
    "\n",
    "- Understand NUV and FUV images and how they are useful to study dust\n",
    "- Navigate the GALEX MIS catalog\n",
    "- Create a mosaic from several images\n",
    "\n",
    "## Introduction\n",
    "\n",
    "**GALEX background**: The Galaxy Evolution Explorer (GALEX) was a satellite which mission was to produce an All-sky Imaiging Survey (AIS). It observed the sky in two different bands: in the Near UV (NUV) ($1750-27504$ Å) and in the Far UV (FUV) ($1350-1750$ Å). The GALEX database contains over 600 million source measurements in the ultraviolet domain, with some sources having more than one measurement, which could be useful to look for variability. \n",
    "\n",
    "## Imports\n",
    "\n",
    "- _Observations_ from _astroquery.mast_ to query the Barbara A. Mikulski Archive for Space Telescopes (MAST)."
   ]
  },
  {
   "cell_type": "code",
   "execution_count": 47,
   "id": "5d658657",
   "metadata": {},
   "outputs": [],
   "source": [
    "from astroquery.mast import Observations\n",
    "import matplotlib.pyplot as plt\n",
    "import matplotlib.image as mpimg\n",
    "import numpy as np\n",
    "from astropy.io import fits\n",
    "from astropy.coordinates import SkyCoord\n",
    "import os"
   ]
  },
  {
   "cell_type": "markdown",
   "id": "f74fd4af",
   "metadata": {},
   "source": [
    "## GALEX MIS\n",
    "\n",
    "The objective of this tutorial is to create a mosaic of a high-latitude cloud using different images retrieved from GALEX MIS. The GALEX MIS products can be accesed through _astroquery.mast_, and we will perform a search using the galactic coordinates of some objects belonging to the Draco cloud ($l [deg], b [deg]$):\n",
    "\n",
    "- 89.8 38.7\n",
    "- 91.4 37.8\n",
    "- 92.2 36.3\n",
    "- 92.3 40.0\n",
    "- 92.7 39.0\n",
    "- 92.8 36.5\n",
    "- 93.3 38.1 \n",
    "- 95.5 38.1"
   ]
  },
  {
   "cell_type": "code",
   "execution_count": 3,
   "id": "33f8694f",
   "metadata": {},
   "outputs": [],
   "source": [
    "l = np.array([89.8, 91.4, 92.2, 92.3, 92.7, 92.8, 93.3, 95.5]) # deg\n",
    "b = np.array([38.7, 37.8, 36.3, 40.0, 39.0, 36.5, 38.1, 38.1]) # deg"
   ]
  },
  {
   "cell_type": "markdown",
   "id": "5d0d692a",
   "metadata": {},
   "source": [
    "### Unique source query\n",
    "\n",
    "Let's start with only one source, and see step by step how to retrieve the image from the database, first let's use the coordinates of the source to find it in the database. We will use <a href=\"https://docs.astropy.org/en/stable/api/astropy.coordinates.SkyCoord.html\">_SkyCoord_</a> to correctly characterize the units and reference frame of our source. The coordinates displayed above are expressed in degrees and are in the galactic reference frame, we can specify this by using the arguments _unit_ and _frame_ as shown below:"
   ]
  },
  {
   "cell_type": "code",
   "execution_count": 41,
   "id": "3f8bb9af",
   "metadata": {
    "scrolled": true
   },
   "outputs": [
    {
     "data": {
      "text/html": [
       "<div><i>Table masked=True length=1729</i>\n",
       "<table id=\"table140578885735088\" class=\"table-striped table-bordered table-condensed\">\n",
       "<thead><tr><th>obsID</th><th>obs_collection</th><th>dataproduct_type</th><th>obs_id</th><th>description</th><th>type</th><th>dataURI</th><th>productType</th><th>productGroupDescription</th><th>productSubGroupDescription</th><th>productDocumentationURL</th><th>project</th><th>prvversion</th><th>proposal_id</th><th>productFilename</th><th>size</th><th>parent_obsid</th><th>dataRights</th><th>calib_level</th></tr></thead>\n",
       "<thead><tr><th>str5</th><th>str5</th><th>str5</th><th>str19</th><th>str139</th><th>str1</th><th>str133</th><th>str9</th><th>str28</th><th>str12</th><th>str1</th><th>str3</th><th>str1</th><th>str1</th><th>str54</th><th>int64</th><th>str4</th><th>str6</th><th>int64</th></tr></thead>\n",
       "<tr><td>71914</td><td>GALEX</td><td>image</td><td>6371021184082903040</td><td>Catalog of matches between -flagstar and -[n/f]-cat files</td><td>S</td><td>mast:GALEX/url/data/GR6/pipe/02-vsn/50003-AIS_3/d/00-visits/0002-img/07-try/AIS_3_0002_sg12-fd-cat_mch_flagstar.fits.gz</td><td>AUXILIARY</td><td>--</td><td>--</td><td>--</td><td>AIS</td><td>--</td><td>--</td><td>AIS_3_0002_sg12-fd-cat_mch_flagstar.fits.gz</td><td>3933</td><td>9288</td><td>PUBLIC</td><td>2</td></tr>\n",
       "<tr><td>71914</td><td>GALEX</td><td>image</td><td>6371021184082903040</td><td>Count map (J2000)</td><td>S</td><td>mast:GALEX/url/data/GR6/pipe/02-vsn/50003-AIS_3/d/00-visits/0002-img/07-try/AIS_3_0002_sg12-fd-cnt.fits.gz</td><td>AUXILIARY</td><td>--</td><td>--</td><td>--</td><td>AIS</td><td>--</td><td>--</td><td>AIS_3_0002_sg12-fd-cnt.fits.gz</td><td>419852</td><td>9288</td><td>PUBLIC</td><td>2</td></tr>\n",
       "<tr><td>71914</td><td>GALEX</td><td>image</td><td>6371021184082903040</td><td>Exposure map (J2000)</td><td>S</td><td>mast:GALEX/url/data/GR6/pipe/02-vsn/50003-AIS_3/d/00-visits/0002-img/07-try/AIS_3_0002_sg12-fd-exp.fits.gz</td><td>AUXILIARY</td><td>--</td><td>--</td><td>--</td><td>AIS</td><td>--</td><td>--</td><td>AIS_3_0002_sg12-fd-exp.fits.gz</td><td>56619</td><td>9288</td><td>PUBLIC</td><td>2</td></tr>\n",
       "<tr><td>71914</td><td>GALEX</td><td>image</td><td>6371021184082903040</td><td>Artifact and source star detailed info.</td><td>S</td><td>mast:GALEX/url/data/GR6/pipe/02-vsn/50003-AIS_3/d/00-visits/0002-img/07-try/AIS_3_0002_sg12-fd-flag_tbl.fits.gz</td><td>AUXILIARY</td><td>--</td><td>--</td><td>--</td><td>AIS</td><td>--</td><td>--</td><td>AIS_3_0002_sg12-fd-flag_tbl.fits.gz</td><td>2032</td><td>9288</td><td>PUBLIC</td><td>2</td></tr>\n",
       "<tr><td>71914</td><td>GALEX</td><td>image</td><td>6371021184082903040</td><td>Artifact Flag image (J2000)</td><td>S</td><td>mast:GALEX/url/data/GR6/pipe/02-vsn/50003-AIS_3/d/00-visits/0002-img/07-try/AIS_3_0002_sg12-fd-flags.fits.gz</td><td>AUXILIARY</td><td>--</td><td>--</td><td>--</td><td>AIS</td><td>--</td><td>--</td><td>AIS_3_0002_sg12-fd-flags.fits.gz</td><td>12234</td><td>9288</td><td>PUBLIC</td><td>2</td></tr>\n",
       "<tr><td>71914</td><td>GALEX</td><td>image</td><td>6371021184082903040</td><td>Star catalog for flagging</td><td>S</td><td>mast:GALEX/url/data/GR6/pipe/02-vsn/50003-AIS_3/d/00-visits/0002-img/07-try/AIS_3_0002_sg12-fd-flagstar.fits.gz</td><td>AUXILIARY</td><td>--</td><td>--</td><td>--</td><td>AIS</td><td>--</td><td>--</td><td>AIS_3_0002_sg12-fd-flagstar.fits.gz</td><td>3651</td><td>9288</td><td>PUBLIC</td><td>2</td></tr>\n",
       "<tr><td>71914</td><td>GALEX</td><td>image</td><td>6371021184082903040</td><td>Background subtracted intensity map (J2000)</td><td>S</td><td>mast:GALEX/url/data/GR6/pipe/02-vsn/50003-AIS_3/d/00-visits/0002-img/07-try/AIS_3_0002_sg12-fd-intbgsub.fits.gz</td><td>AUXILIARY</td><td>--</td><td>--</td><td>--</td><td>AIS</td><td>--</td><td>--</td><td>AIS_3_0002_sg12-fd-intbgsub.fits.gz</td><td>4458358</td><td>9288</td><td>PUBLIC</td><td>2</td></tr>\n",
       "<tr><td>71914</td><td>GALEX</td><td>image</td><td>6371021184082903040</td><td>Time-slice count maps (J2000)</td><td>S</td><td>mast:GALEX/url/data/GR6/pipe/02-vsn/50003-AIS_3/d/00-visits/0002-img/07-try/AIS_3_0002_sg12-fd-movie.fits.gz</td><td>AUXILIARY</td><td>--</td><td>--</td><td>--</td><td>AIS</td><td>--</td><td>--</td><td>AIS_3_0002_sg12-fd-movie.fits.gz</td><td>173044</td><td>9288</td><td>PUBLIC</td><td>2</td></tr>\n",
       "<tr><td>71914</td><td>GALEX</td><td>image</td><td>6371021184082903040</td><td>FUV extractions using NUV positions</td><td>S</td><td>mast:GALEX/url/data/GR6/pipe/02-vsn/50003-AIS_3/d/00-visits/0002-img/07-try/AIS_3_0002_sg12-fd-ncat.fits.gz</td><td>AUXILIARY</td><td>--</td><td>--</td><td>--</td><td>AIS</td><td>--</td><td>--</td><td>AIS_3_0002_sg12-fd-ncat.fits.gz</td><td>1721329</td><td>9288</td><td>PUBLIC</td><td>2</td></tr>\n",
       "<tr><td>71914</td><td>GALEX</td><td>image</td><td>6371021184082903040</td><td>Masked field image (J2000)</td><td>S</td><td>mast:GALEX/url/data/GR6/pipe/02-vsn/50003-AIS_3/d/00-visits/0002-img/07-try/AIS_3_0002_sg12-fd-objmask.fits.gz</td><td>AUXILIARY</td><td>--</td><td>--</td><td>--</td><td>AIS</td><td>--</td><td>--</td><td>AIS_3_0002_sg12-fd-objmask.fits.gz</td><td>65659</td><td>9288</td><td>PUBLIC</td><td>2</td></tr>\n",
       "<tr><td>...</td><td>...</td><td>...</td><td>...</td><td>...</td><td>...</td><td>...</td><td>...</td><td>...</td><td>...</td><td>...</td><td>...</td><td>...</td><td>...</td><td>...</td><td>...</td><td>...</td><td>...</td><td>...</td></tr>\n",
       "<tr><td>9297</td><td>GALEX</td><td>image</td><td>6371021332225720320</td><td>Manual QA data</td><td>C</td><td>mast:GALEX/url/data/GR6/pipe/02-vsn/50003-AIS_3/d/01-main/0001-img/07-try/qa/manual/AIS_3_sg22-qa.txt</td><td>INFO</td><td>--</td><td>--</td><td>--</td><td>AIS</td><td>--</td><td>--</td><td>AIS_3_sg22-qa.txt</td><td>1202</td><td>9297</td><td>PUBLIC</td><td>2</td></tr>\n",
       "<tr><td>9297</td><td>GALEX</td><td>image</td><td>6371021332225720320</td><td>QAtool-style report</td><td>C</td><td>mast:GALEX/url/data/GR6/pipe/02-vsn/50003-AIS_3/d/01-main/0001-img/07-try/qa/manual/AIS_3_sg22-visit_qatool_report.txt</td><td>INFO</td><td>--</td><td>--</td><td>--</td><td>AIS</td><td>--</td><td>--</td><td>AIS_3_sg22-visit_qatool_report.txt</td><td>878</td><td>9297</td><td>PUBLIC</td><td>2</td></tr>\n",
       "<tr><td>9297</td><td>GALEX</td><td>image</td><td>6371021332225720320</td><td>Output messages from coaddition pipeline</td><td>C</td><td>mast:GALEX/url/data/GR6/pipe/02-vsn/50003-AIS_3/d/01-main/0001-img/07-try/Targpipe_sg22.log</td><td>INFO</td><td>--</td><td>--</td><td>--</td><td>AIS</td><td>--</td><td>--</td><td>Targpipe_sg22.log</td><td>62332</td><td>9297</td><td>PUBLIC</td><td>2</td></tr>\n",
       "<tr><td>9297</td><td>GALEX</td><td>image</td><td>6371021332225720320</td><td>Preview-Full</td><td>C</td><td>mast:GALEX/url/data/GR6/pipe/02-vsn/50003-AIS_3/d/01-main/0001-img/07-try/qa/AIS_3_sg22-xd-int_2color.jpg</td><td>PREVIEW</td><td>--</td><td>--</td><td>--</td><td>AIS</td><td>--</td><td>--</td><td>AIS_3_sg22-xd-int_2color.jpg</td><td>3212639</td><td>9297</td><td>PUBLIC</td><td>2</td></tr>\n",
       "<tr><td>9297</td><td>GALEX</td><td>image</td><td>6371021332225720320</td><td>2 color large jpeg</td><td>C</td><td>mast:GALEX/url/data/GR6/pipe/02-vsn/50003-AIS_3/d/01-main/0001-img/07-try/qa/AIS_3_sg22-xd-int_2color_large.jpg</td><td>PREVIEW</td><td>--</td><td>--</td><td>--</td><td>AIS</td><td>--</td><td>--</td><td>AIS_3_sg22-xd-int_2color_large.jpg</td><td>591996</td><td>9297</td><td>PUBLIC</td><td>2</td></tr>\n",
       "<tr><td>9297</td><td>GALEX</td><td>image</td><td>6371021332225720320</td><td>2 color medium jpeg</td><td>C</td><td>mast:GALEX/url/data/GR6/pipe/02-vsn/50003-AIS_3/d/01-main/0001-img/07-try/qa/AIS_3_sg22-xd-int_2color_medium.jpg</td><td>PREVIEW</td><td>--</td><td>--</td><td>--</td><td>AIS</td><td>--</td><td>--</td><td>AIS_3_sg22-xd-int_2color_medium.jpg</td><td>559291</td><td>9297</td><td>PUBLIC</td><td>2</td></tr>\n",
       "<tr><td>9297</td><td>GALEX</td><td>image</td><td>6371021332225720320</td><td>&quot;``2 color&quot;&quot; images of the whole field in various sizes with and without annotations of bright stars.  NUV flux is yellow and FUV is blue.&quot;</td><td>C</td><td>mast:GALEX/url/data/GR6/pipe/02-vsn/50003-AIS_3/d/01-main/0001-img/07-try/qa/AIS_3_sg22-xd-int_2color_medium_annot.jpg</td><td>PREVIEW</td><td>--</td><td>--</td><td>--</td><td>AIS</td><td>--</td><td>--</td><td>AIS_3_sg22-xd-int_2color_medium_annot.jpg</td><td>584795</td><td>9297</td><td>PUBLIC</td><td>2</td></tr>\n",
       "<tr><td>9297</td><td>GALEX</td><td>image</td><td>6371021332225720320</td><td>2 color small jpeg</td><td>C</td><td>mast:GALEX/url/data/GR6/pipe/02-vsn/50003-AIS_3/d/01-main/0001-img/07-try/qa/AIS_3_sg22-xd-int_2color_small.jpg</td><td>PREVIEW</td><td>--</td><td>--</td><td>--</td><td>AIS</td><td>--</td><td>--</td><td>AIS_3_sg22-xd-int_2color_small.jpg</td><td>133532</td><td>9297</td><td>PUBLIC</td><td>2</td></tr>\n",
       "<tr><td>9297</td><td>GALEX</td><td>image</td><td>6371021332225720320</td><td>Intensity map (J2000)</td><td>C</td><td>mast:GALEX/url/data/GR6/pipe/02-vsn/50003-AIS_3/d/01-main/0001-img/07-try/AIS_3_sg22-fd-int.fits.gz</td><td>SCIENCE</td><td>Minimum Recommended Products</td><td>Imaging Only</td><td>--</td><td>AIS</td><td>--</td><td>--</td><td>AIS_3_sg22-fd-int.fits.gz</td><td>2445298</td><td>9297</td><td>PUBLIC</td><td>2</td></tr>\n",
       "<tr><td>9297</td><td>GALEX</td><td>image</td><td>6371021332225720320</td><td>Intensity map (J2000)</td><td>C</td><td>mast:GALEX/url/data/GR6/pipe/02-vsn/50003-AIS_3/d/01-main/0001-img/07-try/AIS_3_sg22-nd-int.fits.gz</td><td>SCIENCE</td><td>Minimum Recommended Products</td><td>Imaging Only</td><td>--</td><td>AIS</td><td>--</td><td>--</td><td>AIS_3_sg22-nd-int.fits.gz</td><td>7615086</td><td>9297</td><td>PUBLIC</td><td>2</td></tr>\n",
       "</table></div>"
      ],
      "text/plain": [
       "<Table masked=True length=1729>\n",
       "obsID obs_collection dataproduct_type ... parent_obsid dataRights calib_level\n",
       " str5      str5            str5       ...     str4        str6       int64   \n",
       "----- -------------- ---------------- ... ------------ ---------- -----------\n",
       "71914          GALEX            image ...         9288     PUBLIC           2\n",
       "71914          GALEX            image ...         9288     PUBLIC           2\n",
       "71914          GALEX            image ...         9288     PUBLIC           2\n",
       "71914          GALEX            image ...         9288     PUBLIC           2\n",
       "71914          GALEX            image ...         9288     PUBLIC           2\n",
       "71914          GALEX            image ...         9288     PUBLIC           2\n",
       "71914          GALEX            image ...         9288     PUBLIC           2\n",
       "71914          GALEX            image ...         9288     PUBLIC           2\n",
       "71914          GALEX            image ...         9288     PUBLIC           2\n",
       "71914          GALEX            image ...         9288     PUBLIC           2\n",
       "  ...            ...              ... ...          ...        ...         ...\n",
       " 9297          GALEX            image ...         9297     PUBLIC           2\n",
       " 9297          GALEX            image ...         9297     PUBLIC           2\n",
       " 9297          GALEX            image ...         9297     PUBLIC           2\n",
       " 9297          GALEX            image ...         9297     PUBLIC           2\n",
       " 9297          GALEX            image ...         9297     PUBLIC           2\n",
       " 9297          GALEX            image ...         9297     PUBLIC           2\n",
       " 9297          GALEX            image ...         9297     PUBLIC           2\n",
       " 9297          GALEX            image ...         9297     PUBLIC           2\n",
       " 9297          GALEX            image ...         9297     PUBLIC           2\n",
       " 9297          GALEX            image ...         9297     PUBLIC           2"
      ]
     },
     "execution_count": 41,
     "metadata": {},
     "output_type": "execute_result"
    }
   ],
   "source": [
    "coord = SkyCoord(l[0], b[0], unit='deg', frame='galactic')\n",
    "obs = Observations.query_criteria(obs_collection=\"GALEX\",coordinates=coord.icrs,radius=\"0.5 deg\")\n",
    "data_products = Observations.get_product_list(obs)\n",
    "data_products"
   ]
  },
  {
   "cell_type": "code",
   "execution_count": 44,
   "id": "2a9499e3",
   "metadata": {
    "scrolled": true
   },
   "outputs": [
    {
     "data": {
      "text/html": [
       "<i>Row index=0 masked=True</i>\n",
       "<table id=\"table140578885723952\">\n",
       "<thead><tr><th>obsID</th><th>obs_collection</th><th>dataproduct_type</th><th>obs_id</th><th>description</th><th>type</th><th>dataURI</th><th>productType</th><th>productGroupDescription</th><th>productSubGroupDescription</th><th>productDocumentationURL</th><th>project</th><th>prvversion</th><th>proposal_id</th><th>productFilename</th><th>size</th><th>parent_obsid</th><th>dataRights</th><th>calib_level</th></tr></thead>\n",
       "<thead><tr><th>str5</th><th>str5</th><th>str5</th><th>str19</th><th>str139</th><th>str1</th><th>str133</th><th>str9</th><th>str28</th><th>str12</th><th>str1</th><th>str3</th><th>str1</th><th>str1</th><th>str54</th><th>int64</th><th>str4</th><th>str6</th><th>int64</th></tr></thead>\n",
       "<tr><td>9288</td><td>GALEX</td><td>image</td><td>6371021321488302080</td><td>Intensity map (J2000)</td><td>C</td><td>mast:GALEX/url/data/GR6/pipe/02-vsn/50003-AIS_3/d/01-main/0001-img/07-try/AIS_3_sg12-fd-int.fits.gz</td><td>SCIENCE</td><td>Minimum Recommended Products</td><td>Imaging Only</td><td>--</td><td>AIS</td><td>--</td><td>--</td><td>AIS_3_sg12-fd-int.fits.gz</td><td>2678412</td><td>9288</td><td>PUBLIC</td><td>2</td></tr>\n",
       "</table>"
      ],
      "text/plain": [
       "<Row index=0 masked=True>\n",
       "obsID obs_collection dataproduct_type        obs_id            description      type                                               dataURI                                               productType   productGroupDescription    productSubGroupDescription productDocumentationURL project prvversion proposal_id      productFilename        size  parent_obsid dataRights calib_level\n",
       " str5      str5            str5              str19                str139        str1                                                str133                                                   str9               str28                       str12                      str1            str3     str1        str1              str54            int64      str4        str6       int64   \n",
       "----- -------------- ---------------- ------------------- --------------------- ---- --------------------------------------------------------------------------------------------------- ----------- ---------------------------- -------------------------- ----------------------- ------- ---------- ----------- ------------------------- ------- ------------ ---------- -----------\n",
       " 9288          GALEX            image 6371021321488302080 Intensity map (J2000)    C mast:GALEX/url/data/GR6/pipe/02-vsn/50003-AIS_3/d/01-main/0001-img/07-try/AIS_3_sg12-fd-int.fits.gz     SCIENCE Minimum Recommended Products               Imaging Only                      --     AIS         --          -- AIS_3_sg12-fd-int.fits.gz 2678412         9288     PUBLIC           2"
      ]
     },
     "execution_count": 44,
     "metadata": {},
     "output_type": "execute_result"
    }
   ],
   "source": [
    "data_products_mrp = Observations.filter_products(data_products, productType='SCIENCE',productGroupDescription='Minimum Recommended Products')\n",
    "yourProd = data_products_mrp[0]\n",
    "yourProd"
   ]
  },
  {
   "cell_type": "code",
   "execution_count": 46,
   "id": "ff5b13c5",
   "metadata": {
    "scrolled": true
   },
   "outputs": [
    {
     "name": "stdout",
     "output_type": "stream",
     "text": [
      "Downloading URL https://mast.stsci.edu/api/v0.1/Download/file?uri=mast:GALEX/url/data/GR6/pipe/02-vsn/50003-AIS_3/d/01-main/0001-img/07-try/AIS_3_sg12-fd-int.fits.gz to ./mastDownload/GALEX/6371021321488302080/AIS_3_sg12-fd-int.fits.gz ... [Done]\n"
     ]
    },
    {
     "data": {
      "text/html": [
       "<div><i>Table length=1</i>\n",
       "<table id=\"table140579661826272\" class=\"table-striped table-bordered table-condensed\">\n",
       "<thead><tr><th>Local Path</th><th>Status</th><th>Message</th><th>URL</th></tr></thead>\n",
       "<thead><tr><th>str66</th><th>str8</th><th>object</th><th>object</th></tr></thead>\n",
       "<tr><td>./mastDownload/GALEX/6371021321488302080/AIS_3_sg12-fd-int.fits.gz</td><td>COMPLETE</td><td>None</td><td>None</td></tr>\n",
       "</table></div>"
      ],
      "text/plain": [
       "<Table length=1>\n",
       "                            Local Path                             ...  URL  \n",
       "                              str66                                ... object\n",
       "------------------------------------------------------------------ ... ------\n",
       "./mastDownload/GALEX/6371021321488302080/AIS_3_sg12-fd-int.fits.gz ...   None"
      ]
     },
     "execution_count": 46,
     "metadata": {},
     "output_type": "execute_result"
    }
   ],
   "source": [
    "table = Observations.download_products(yourProd, mrp_only = False, cache = False) \n",
    "table"
   ]
  },
  {
   "cell_type": "code",
   "execution_count": 54,
   "id": "ddfcbcbc",
   "metadata": {},
   "outputs": [
    {
     "data": {
      "text/plain": [
       "0"
      ]
     },
     "execution_count": 54,
     "metadata": {},
     "output_type": "execute_result"
    }
   ],
   "source": [
    "filename = table['Local Path'][0]\n",
    "os.system(\"gunzip \" + filename)"
   ]
  },
  {
   "cell_type": "code",
   "execution_count": 57,
   "id": "c8c781ab",
   "metadata": {},
   "outputs": [
    {
     "name": "stdout",
     "output_type": "stream",
     "text": [
      "Filename: ./mastDownload/GALEX/6371021321488302080/AIS_3_sg12-fd-int.fits\n",
      "No.    Name      Ver    Type      Cards   Dimensions   Format\n",
      "  0  PRIMARY       1 PrimaryHDU     145   (3840, 3840)   float32   \n"
     ]
    }
   ],
   "source": [
    "fits.info(filename[:-3])"
   ]
  },
  {
   "cell_type": "code",
   "execution_count": 58,
   "id": "3587dba9",
   "metadata": {
    "scrolled": true
   },
   "outputs": [
    {
     "name": "stdout",
     "output_type": "stream",
     "text": [
      "SIMPLE  =                    T / file does conform to FITS standard             \n",
      "BITPIX  =                  -32 / number of bits per data pixel                  \n",
      "NAXIS   =                    2 / number of data axes                            \n",
      "NAXIS1  =                 3840 / length of data axis 1                          \n",
      "NAXIS2  =                 3840 / length of data axis 2                          \n",
      "EXTEND  =                    T / FITS dataset may contain extensions            \n",
      "COMMENT   FITS (Flexible Image Transport System) format is defined in 'Astronomy\n",
      "COMMENT   and Astrophysics', volume 376, page 359; bibcode: 2001A&A...376..359H \n",
      "LONGSTRN= 'OGIP 1.0'           / The HEASARC Long String Convention may be used.\n",
      "COMMENT   This FITS file may contain long string keyword values that are        \n",
      "COMMENT   continued over multiple keywords.  The HEASARC convention uses the &  \n",
      "COMMENT   character at the end of each substring which is then continued        \n",
      "COMMENT   on the next keyword which has the name CONTINUE.                      \n",
      "CDELT1  = -0.000416666666666667                                                 \n",
      "CDELT2  = 0.000416666666666667                                                  \n",
      "EQUINOX =                2000.                                                  \n",
      "EPOCH   =                2000.                                                  \n",
      "CTYPE1  = 'RA---TAN'                                                            \n",
      "CTYPE2  = 'DEC--TAN'                                                            \n",
      "CRPIX1  =               1920.5                                                  \n",
      "CRPIX2  =               1920.5                                                  \n",
      "CRVAL1  =      253.02131652832                                                  \n",
      "CRVAL2  =      60.388988494873                                                  \n",
      "CROTA2  =                   0.                                                  \n",
      "BUNIT   = '        '                                                            \n",
      "BSCALE  =                   1.                                                  \n",
      "BZERO   =                   0.                                                  \n",
      "BAND    =                    2                                                  \n",
      "OW      =                    1                                                  \n",
      "RA_CENT =      253.02131652832                                                  \n",
      "DEC_CENT=      60.388988494873                                                  \n",
      "TWIST   =                -999.                                                  \n",
      "LEG     =                    8                                                  \n",
      "MPSNPOS =                   12                                                  \n",
      "OBJECT  = 'AIS_3_0002_sg12'                                                     \n",
      "EXPSTART=     1088225524.99566                                                  \n",
      "OBS-DATE= '2004-06-26'                                                          \n",
      "TIME-OBS= '04:52:05'                                                            \n",
      "PLANID  =                10608                                                  \n",
      "TILENUM =                50003                                                  \n",
      "TILE    = 'AIS_3   '                                                            \n",
      "TILENAME= 'AIS_3   '                                                            \n",
      "MPSPLAN = 'ais     '                                                            \n",
      "MPSTYPE = 'AIS     '                                                            \n",
      "MPSPHASE= 'G2      '                                                            \n",
      "SKYGRID =                10167                                                  \n",
      "NHVNOM  =                 267.                                                  \n",
      "NHVNOMN =                 267.                                                  \n",
      "NHVNOMF =                 267.                                                  \n",
      "GRELEASE= 'ops-v7_0_3'                                                          \n",
      "PHTFIRST=      772260724.99566                                                  \n",
      "PHTLAST =        860092113.995                                                  \n",
      "EXPTIME =                 253.                                                  \n",
      "NGAPS   =                   3.                                                  \n",
      "TOTREAD =            12139274.                                                  \n",
      "TOTMAP  =              624223.                                                  \n",
      "TOTONMAP=              529163.                                                  \n",
      "RRMED   =     224.100662231445                                                  \n",
      "RRAVE   =     217.275054722378                                                  \n",
      "NASPOK  =                 262.                                                  \n",
      "AVEFDEAD=   0.0161603229340679                                                  \n",
      "ASPF0001= '/home/eisa3/fltops/pipe/02-vsn/50003-AIS_3/d/00-visits/0002-img/07-&'\n",
      "CONTINUE  'try/AIS_3_0002_sg12-asprta.fits'                                     \n",
      "ASPF0002= '/home/eisa3/fltops/pipe/02-vsn/50003-AIS_3/d/00-visits/0003-img/07-&'\n",
      "CONTINUE  'try/AIS_3_0003_sg12-asprta.fits'                                     \n",
      "ASPF0003= '/home/eisa3/fltops/pipe/02-vsn/50003-AIS_3/d/00-visits/0004-img/07-&'\n",
      "CONTINUE  'try/AIS_3_0004_sg12-asprta.fits'                                     \n",
      "AVDE0001=     60.3669426194815                                                  \n",
      "AVDE0002=     60.3796245017405                                                  \n",
      "AVDE0003=     60.3727995810729                                                  \n",
      "AVFD0001=   0.0154165683885001                                                  \n",
      "AVFD0002=    0.019570290896653                                                  \n",
      "AVFD0003=   0.0134941095170507                                                  \n",
      "AVRA0001=     253.132946428297                                                  \n",
      "AVRA0002=     253.051048107221                                                  \n",
      "AVRA0003=     253.048327473069                                                  \n",
      "AVRO0001=    -10.8659529135702                                                  \n",
      "AVRO0002=    -23.0866647828292                                                  \n",
      "AVRO0003=     124.918843374242                                                  \n",
      "CALP0001= 'cal     '                                                            \n",
      "CALP0002= 'cal     '                                                            \n",
      "CALP0003= 'cal     '                                                            \n",
      "ECL0001 =                 6200                                                  \n",
      "ECL0002 =                17325                                                  \n",
      "ECL0003 =                21044                                                  \n",
      "EXPEND  =       1176056913.995                                                  \n",
      "EXPT0001=                  80.                                                  \n",
      "EXPT0002=                  78.                                                  \n",
      "EXPT0003=                  95.                                                  \n",
      "GPA0001 =     72.6031646258424                                                  \n",
      "GPA0002 =     53.7039619646741                                                  \n",
      "GPA0003 =     217.001434751662                                                  \n",
      "GREL0001= 'ops-v7_0_3'                                                          \n",
      "GREL0002= 'ops-v7_0_3'                                                          \n",
      "GREL0003= 'ops-v7_0_3'                                                          \n",
      "HKF0001 = '        '                                                            \n",
      "HKF0002 = '        '                                                            \n",
      "HKF0003 = '        '                                                            \n",
      "INF0001 = '/home/galex/fltops/visits/02-vsn/50003-AIS_3/d/00-visits/0002-img/u&'\n",
      "CONTINUE  'se//AIS_3_0002_sg12-fd-cnt.fits'                                     \n",
      "INF0002 = '/home/galex/fltops/visits/02-vsn/50003-AIS_3/d/00-visits/0003-img/u&'\n",
      "CONTINUE  'se//AIS_3_0003_sg12-fd-cnt.fits'                                     \n",
      "INF0003 = '/home/galex/fltops/visits/02-vsn/50003-AIS_3/d/00-visits/0004-img/u&'\n",
      "CONTINUE  'se//AIS_3_0004_sg12-fd-cnt.fits'                                     \n",
      "NADDED  =                   3.                                                  \n",
      "NASP0001=                   87                                                  \n",
      "NASP0002=                   79                                                  \n",
      "NASP0003=                   96                                                  \n",
      "OBDT0001= '040626T045205Z'                                                      \n",
      "OBDT0002= '060728T022538Z'                                                      \n",
      "OBDT0003= '070408T182659Z'                                                      \n",
      "OBSS0001=       1088225524.995                                                  \n",
      "OBSS0002=       1154053537.995                                                  \n",
      "OBSS0003=       1176056818.995                                                  \n",
      "PHOF0001= '/home/eisa3/fltops/pipe/02-vsn/50003-AIS_3/d/00-visits/0002-img/07-&'\n",
      "CONTINUE  'try/AIS_3_0002_sg12-fd-raw6.fits'                                    \n",
      "PHOF0002= '/home/eisa3/fltops/pipe/02-vsn/50003-AIS_3/d/00-visits/0003-img/07-&'\n",
      "CONTINUE  'try/AIS_3_0003_sg12-fd-raw6.fits'                                    \n",
      "PHOF0003= '/home/eisa3/fltops/pipe/02-vsn/50003-AIS_3/d/00-visits/0004-img/07-&'\n",
      "CONTINUE  'try/AIS_3_0004_sg12-fd-raw6.fits'                                    \n",
      "QAGR0001= 'PASS/YES'                                                            \n",
      "QAGR0002= 'PASS/YES'                                                            \n",
      "QAGR0003= 'PASS/YES'                                                            \n",
      "ROLL0001=     349.092289092008                                                  \n",
      "ROLL0002=     336.906837905614                                                  \n",
      "ROLL0003=     124.907195650644                                                  \n",
      "RRAV0001=     69.7951227223595                                                  \n",
      "RRAV0002=     66.5049031542827                                                  \n",
      "RRAV0003=     80.9750288457357                                                  \n",
      "RRMD0001=     71.9633636474609                                                  \n",
      "RRMD0002=     68.6168060302734                                                  \n",
      "RRMD0003=     83.5204925537109                                                  \n",
      "SMV0001 = '$Id: simplemap.c,v 1.173 2009/11/20 18:43:36 cmillion Exp $'         \n",
      "SMV0002 = '$Id: simplemap.c,v 1.173 2009/11/20 18:43:36 cmillion Exp $'         \n",
      "SMV0003 = '$Id: simplemap.c,v 1.173 2009/11/20 18:43:36 cmillion Exp $'         \n",
      "SUBV0001=                   12                                                  \n",
      "SUBV0002=                   12                                                  \n",
      "SUBV0003=                   12                                                  \n",
      "VIS0001 =                    2                                                  \n",
      "VIS0002 =                    3                                                  \n",
      "VIS0003 =                    4                                                  \n",
      "AVASPRA =     253.075928067606                                                  \n",
      "AVASPDEC=     60.3730573476824                                                  \n",
      "AVASPROL=     36.3527827446905                                                  \n",
      "AVRRMED =     75.2712519951017                                                  \n",
      "AVRRAVE =     72.9787351943387                                                  \n",
      "PMEDRR  =     215.093826293945                                                  \n",
      "PTHRESH =                  2.5                                                  \n",
      "PMEDBG  =  0.00035017728805542                                                  \n",
      "PRMSBG  = 3.64482402801514E-05                                                  \n",
      "PTHRBG  =  0.00098383291737469                                                  \n",
      "PSIGDET =     1.29690649621831                                                  \n",
      "PMEDTHR = 0.000990867614746094                                                  \n",
      "PRMSTHR = 0.000133514404296875                                                  \n"
     ]
    }
   ],
   "source": [
    "with fits.open(filename[:-3]) as hdulist: \n",
    "    header1 = hdulist[0].header\n",
    "    data1 = hdulist[0].data\n",
    "\n",
    "print(repr(header1))"
   ]
  },
  {
   "cell_type": "code",
   "execution_count": 63,
   "id": "88f1a9da",
   "metadata": {},
   "outputs": [
    {
     "data": {
      "image/png": "[encoded data removed]",
      "text/plain": [
       "<Figure size 432x288 with 2 Axes>"
      ]
     },
     "metadata": {
      "needs_background": "light"
     },
     "output_type": "display_data"
    }
   ],
   "source": [
    "plt.imshow(data1,vmax=0.005,cmap='binary')\n",
    "plt.colorbar()\n",
    "plt.show()"
   ]
  },
  {
   "cell_type": "markdown",
   "id": "8e6c11bf",
   "metadata": {},
   "source": [
    "## Additional Resources\n",
    "\n",
    "For more information about the MAST archive and details about the tutorial: \n",
    "\n",
    "<a href=\"https://mast.stsci.edu/api/v0/index.html\">MAST API</a> <br>\n",
    "<a href=\"https://galex.stsci.edu/GR6/\">GALEX via MAST</a> <br>\n",
    "\n",
    "## About this Notebook\n",
    "\n",
    "**Author**: Clara Puerto Sánchez <br>\n",
    "**Updated on**: 03/08/2022\n",
    "\n",
    "<img style=\"float: right;\" src=\"https://raw.githubusercontent.com/spacetelescope/notebooks/master/assets/stsci_pri_combo_mark_horizonal_white_bkgd.png\" alt=\"Space Telescope Logo\" width=\"200px\"/>"
   ]
  }
 ],
 "metadata": {
  "kernelspec": {
   "display_name": "Python 3",
   "language": "python",
   "name": "python3"
  },
  "language_info": {
   "codemirror_mode": {
    "name": "ipython",
    "version": 3
   },
   "file_extension": ".py",
   "mimetype": "text/x-python",
   "name": "python",
   "nbconvert_exporter": "python",
   "pygments_lexer": "ipython3",
   "version": "3.8.8"
  }
 },
 "nbformat": 4,
 "nbformat_minor": 5
}
