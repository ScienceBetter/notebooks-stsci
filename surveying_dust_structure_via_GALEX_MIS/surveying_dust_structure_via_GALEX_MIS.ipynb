{
 "cells": [
  {
   "cell_type": "markdown",
   "id": "0ce18bbd",
   "metadata": {},
   "source": [
    "# Surveying dust structure via GALEX MIS\n",
    "\n",
    "## Learning goals\n",
    "\n",
    "By the end of this tutorial you will be able to:\n",
    "\n",
    "- Understand NUV and FUV images and how they are useful to study dust\n",
    "- Navigate the GALEX MIS catalog\n",
    "- Create a mosaic from several images\n",
    "\n",
    "## Introduction\n",
    "\n",
    "## Imports"
   ]
  },
  {
   "cell_type": "markdown",
   "id": "c786ca43",
   "metadata": {},
   "source": [
    "## Additional Resources\n",
    "\n",
    "For more information about the MAST archive and details about the tutorial: \n",
    "\n",
    "<a href=\"https://mast.stsci.edu/api/v0/index.html\">MAST API</a> <br>\n",
    "<a href=\"https://galex.stsci.edu/GR6/\">GALEX via MAST</a> <br>\n",
    "\n",
    "## About this Notebook\n",
    "\n",
    "**Author**: Clara Puerto Sánchez <br>\n",
    "**Updated on**: 01/08/2022\n",
    "\n",
    "<img style=\"float: right;\" src=\"https://raw.githubusercontent.com/spacetelescope/notebooks/master/assets/stsci_pri_combo_mark_horizonal_white_bkgd.png\" alt=\"Space Telescope Logo\" width=\"200px\"/>"
   ]
  }
 ],
 "metadata": {
  "kernelspec": {
   "display_name": "Python 3",
   "language": "python",
   "name": "python3"
  },
  "language_info": {
   "codemirror_mode": {
    "name": "ipython",
    "version": 3
   },
   "file_extension": ".py",
   "mimetype": "text/x-python",
   "name": "python",
   "nbconvert_exporter": "python",
   "pygments_lexer": "ipython3",
   "version": "3.8.8"
  }
 },
 "nbformat": 4,
 "nbformat_minor": 5
}
